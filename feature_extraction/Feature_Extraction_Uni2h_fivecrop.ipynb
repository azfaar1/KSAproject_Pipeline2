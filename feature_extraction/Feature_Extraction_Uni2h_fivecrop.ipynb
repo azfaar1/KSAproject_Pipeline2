{
 "cells": [
  {
   "cell_type": "code",
   "execution_count": 1,
   "id": "9994a84c-2dab-4300-9a5e-2071a90d9ddd",
   "metadata": {},
   "outputs": [
    {
     "name": "stdout",
     "output_type": "stream",
     "text": [
      "d:\\Aamir Gulzar\\KSA_project2\\Cancer-detection-classifier\\feature_extraction\n"
     ]
    }
   ],
   "source": [
    "import os\n",
    "print(os.getcwd())"
   ]
  },
  {
   "cell_type": "markdown",
   "id": "f74779f6",
   "metadata": {},
   "source": [
    "## Alternative method using donwsampled PNG by PNG for feature extraction"
   ]
  },
  {
   "cell_type": "markdown",
   "id": "a6d691da",
   "metadata": {},
   "source": [
    "## Pipeline for feature extraction using UNI_2h"
   ]
  },
  {
   "cell_type": "markdown",
   "id": "6508cb66",
   "metadata": {},
   "source": [
    "### Uni2-h feature extrator fivecrop"
   ]
  },
  {
   "cell_type": "code",
   "execution_count": 2,
   "id": "a179aa2c",
   "metadata": {},
   "outputs": [],
   "source": [
    "import torch\n",
    "from PIL import Image\n",
    "import timm\n",
    "from timm.data import resolve_data_config\n",
    "from timm.data.transforms_factory import create_transform\n",
    "from torchvision import transforms\n",
    "\n",
    "class UNI2ExtractorFiveCrop():\n",
    "    def __init__(self, device='cuda'):\n",
    "        self.device = torch.device(device if torch.cuda.is_available() else 'cpu')\n",
    "\n",
    "        timm_kwargs = {\n",
    "            'img_size': 224,\n",
    "            'patch_size': 14,\n",
    "            'depth': 24,\n",
    "            'num_heads': 24,\n",
    "            'init_values': 1e-5,\n",
    "            'embed_dim': 1536,\n",
    "            'mlp_ratio': 2.66667 * 2,\n",
    "            'num_classes': 0,\n",
    "            'no_embed_class': True,\n",
    "            'mlp_layer': timm.layers.SwiGLUPacked,\n",
    "            'act_layer': torch.nn.SiLU,\n",
    "            'reg_tokens': 8,\n",
    "            'dynamic_img_size': True\n",
    "        }\n",
    "\n",
    "        self.model = timm.create_model(\"hf-hub:MahmoodLab/UNI2-h\", pretrained=True, **timm_kwargs).to(self.device)\n",
    "        self.model.eval()\n",
    "\n",
    "        # Get base transform for individual crops\n",
    "        config = resolve_data_config(self.model.pretrained_cfg, model=self.model)\n",
    "        self.eval_transform = create_transform(**config)\n",
    "\n",
    "        # FiveCrop transform: crop → transform each crop → stack into 5x3x224x224\n",
    "        self.fivecrop_transform = transforms.Compose([\n",
    "            transforms.FiveCrop(256),  # five 256x256 crops from the 512x512 image\n",
    "            transforms.Lambda(lambda crops: torch.stack([self.eval_transform(c) for c in crops]))\n",
    "        ])\n",
    "\n",
    "    def extract_fivecrop_features(self, image: Image.Image | str) -> torch.Tensor:\n",
    "        \"\"\"\n",
    "        Extract 5xD features from one image using FiveCrop.\n",
    "        Returns: Tensor of shape (5, D)\n",
    "        \"\"\"\n",
    "        if isinstance(image, str):\n",
    "            image = Image.open(image).convert(\"RGB\")\n",
    "        else:\n",
    "            image = image.convert(\"RGB\")\n",
    "\n",
    "        crops_tensor = self.fivecrop_transform(image).to(self.device)  # shape: (5, 3, 224, 224)\n",
    "\n",
    "        with torch.no_grad():\n",
    "            features = self.model(crops_tensor)  # shape: (5, D)\n",
    "\n",
    "        return features.cpu()"
   ]
  },
  {
   "cell_type": "markdown",
   "id": "b1a7697c",
   "metadata": {},
   "source": [
    "### Old Final Pipeline (Incorrect)"
   ]
  },
  {
   "cell_type": "code",
   "execution_count": null,
   "id": "c93ff3f7",
   "metadata": {},
   "outputs": [
    {
     "name": "stderr",
     "output_type": "stream",
     "text": [
      "INFO:__main__:🧪 Benchmark test with 50 images...\n",
      "INFO:__main__:Loading UNI2 model...\n",
      "INFO:timm.models._builder:Loading pretrained weights from Hugging Face hub (MahmoodLab/UNI2-h)\n",
      "INFO:__main__:✅ Benchmark successful!\n",
      "INFO:__main__:   Rate: 4.5 images/second\n",
      "INFO:__main__:   Estimated total time: 24.8 minutes\n"
     ]
    },
    {
     "name": "stdout",
     "output_type": "stream",
     "text": [
      "\n",
      "============================================================\n",
      "🚀 BENCHMARK PASSED - READY FOR ULTRA-FAST PROCESSING! 🚀\n",
      "============================================================\n",
      "📁 Input directory: D:\\Aamir Gulzar\\KSA_project2\\dataset\\patch_data\n",
      "💾 Output directory: D:\\Aamir Gulzar\\KSA_project2\\dataset\\Features\\Uni_2h_fivecrop\n",
      "📊 Slide metadata: ✅ Enabled\n",
      "🎨 Non-white filter: ✅ Enabled\n"
     ]
    },
    {
     "name": "stderr",
     "output_type": "stream",
     "text": [
      "INFO:__main__:Loading non-white patch validation...\n",
      "INFO:__main__:Found 1377933 valid non-white patches\n",
      "INFO:__main__:Loading slide metadata...\n",
      "INFO:__main__:Loaded metadata for 425 slides\n",
      "INFO:__main__:Found 417 slide directories\n",
      "Processing slides:   0%|          | 0/417 [00:00<?, ?it/s]INFO:__main__:\n",
      "📄 Skipping slide TCGA-3L-AA1B_nonMSIH: Output directory already exists and is not empty.\n",
      "Processing slides:   0%|          | 1/417 [00:00<01:47,  3.88it/s]INFO:__main__:\n",
      "📄 Skipping slide TCGA-4N-A93T_nonMSIH: Output directory already exists and is not empty.\n",
      "Processing slides:   0%|          | 2/417 [00:00<02:16,  3.05it/s]INFO:__main__:\n",
      "📄 Skipping slide TCGA-5M-AAT4_nonMSIH: Output directory already exists and is not empty.\n",
      "Processing slides:   1%|          | 3/417 [00:01<02:57,  2.34it/s]INFO:__main__:\n",
      "📄 Skipping slide TCGA-5M-AAT6_MSIH: Output directory already exists and is not empty.\n",
      "Processing slides:   1%|          | 4/417 [00:03<06:47,  1.01it/s]INFO:__main__:\n",
      "📄 Skipping slide TCGA-5M-AATE_nonMSIH: Output directory already exists and is not empty.\n",
      "Processing slides:   1%|          | 5/417 [00:03<05:32,  1.24it/s]INFO:__main__:\n",
      "📄 Skipping slide TCGA-A6-2671_nonMSIH: Output directory already exists and is not empty.\n",
      "Processing slides:   1%|▏         | 6/417 [00:03<04:07,  1.66it/s]INFO:__main__:\n",
      "📄 Skipping slide TCGA-A6-2681_nonMSIH: Output directory already exists and is not empty.\n",
      "Processing slides:   2%|▏         | 7/417 [00:03<03:14,  2.11it/s]INFO:__main__:\n",
      "📄 Skipping slide TCGA-A6-2685_nonMSIH: Output directory already exists and is not empty.\n",
      "Processing slides:   2%|▏         | 8/417 [00:04<02:48,  2.42it/s]INFO:__main__:\n",
      "📄 Skipping slide TCGA-A6-2686_MSIH: Output directory already exists and is not empty.\n",
      "Processing slides:   2%|▏         | 9/417 [00:05<05:34,  1.22it/s]INFO:__main__:\n",
      "📄 Skipping slide TCGA-A6-3807_nonMSIH: Output directory already exists and is not empty.\n",
      "Processing slides:   2%|▏         | 10/417 [00:06<04:23,  1.54it/s]INFO:__main__:\n",
      "📄 Skipping slide TCGA-A6-4105_nonMSIH: Output directory already exists and is not empty.\n",
      "Processing slides:   3%|▎         | 11/417 [00:06<03:43,  1.82it/s]INFO:__main__:\n",
      "📄 Skipping slide TCGA-A6-4107_nonMSIH: Output directory already exists and is not empty.\n",
      "Processing slides:   3%|▎         | 12/417 [00:06<02:56,  2.30it/s]INFO:__main__:\n",
      "📄 Skipping slide TCGA-A6-5657_nonMSIH: Output directory already exists and is not empty.\n",
      "Processing slides:   3%|▎         | 13/417 [00:06<02:26,  2.76it/s]INFO:__main__:\n",
      "📄 Skipping slide TCGA-A6-5660_nonMSIH: Output directory already exists and is not empty.\n",
      "Processing slides:   3%|▎         | 14/417 [00:07<02:03,  3.27it/s]INFO:__main__:\n",
      "📄 Skipping slide TCGA-A6-5661_MSIH: Output directory already exists and is not empty.\n",
      "Processing slides:   4%|▎         | 15/417 [00:07<01:44,  3.86it/s]INFO:__main__:\n",
      "📄 Skipping slide TCGA-A6-5662_nonMSIH: Output directory already exists and is not empty.\n",
      "Processing slides:   4%|▍         | 16/417 [00:07<01:28,  4.55it/s]INFO:__main__:\n",
      "📄 Skipping slide TCGA-A6-5664_nonMSIH: Output directory already exists and is not empty.\n",
      "Processing slides:   4%|▍         | 17/417 [00:07<01:26,  4.61it/s]INFO:__main__:\n",
      "📄 Skipping slide TCGA-A6-5665_MSIH: Output directory already exists and is not empty.\n",
      "Processing slides:   4%|▍         | 18/417 [00:08<02:41,  2.47it/s]INFO:__main__:\n",
      "📄 Skipping slide TCGA-A6-5666_nonMSIH: Output directory already exists and is not empty.\n",
      "Processing slides:   5%|▍         | 19/417 [00:08<02:22,  2.79it/s]INFO:__main__:\n",
      "📄 Skipping slide TCGA-A6-5667_nonMSIH: Output directory already exists and is not empty.\n",
      "Processing slides:   5%|▍         | 20/417 [00:08<01:54,  3.48it/s]INFO:__main__:\n",
      "📄 Skipping slide TCGA-A6-6137_nonMSIH: Output directory already exists and is not empty.\n",
      "Processing slides:   5%|▌         | 21/417 [00:08<01:42,  3.88it/s]INFO:__main__:\n",
      "📄 Skipping slide TCGA-A6-6138_nonMSIH: Output directory already exists and is not empty.\n",
      "Processing slides:   5%|▌         | 22/417 [00:09<01:43,  3.80it/s]INFO:__main__:\n",
      "📄 Skipping slide TCGA-A6-6142_nonMSIH: Output directory already exists and is not empty.\n",
      "Processing slides:   6%|▌         | 23/417 [00:09<01:36,  4.08it/s]INFO:__main__:\n",
      "📄 Skipping slide TCGA-A6-6648_nonMSIH: Output directory already exists and is not empty.\n",
      "Processing slides:   6%|▌         | 24/417 [00:09<01:22,  4.78it/s]INFO:__main__:\n",
      "📄 Skipping slide TCGA-A6-6649_nonMSIH: Output directory already exists and is not empty.\n",
      "Processing slides:   6%|▌         | 25/417 [00:09<01:19,  4.93it/s]INFO:__main__:\n",
      "📄 Skipping slide TCGA-A6-6651_nonMSIH: Output directory already exists and is not empty.\n",
      "Processing slides:   6%|▌         | 26/417 [00:09<01:23,  4.70it/s]INFO:__main__:\n",
      "📄 Skipping slide TCGA-A6-6652_nonMSIH: Output directory already exists and is not empty.\n",
      "Processing slides:   6%|▋         | 27/417 [00:10<01:13,  5.29it/s]INFO:__main__:\n",
      "📄 Skipping slide TCGA-A6-6653_MSIH: Output directory already exists and is not empty.\n",
      "Processing slides:   7%|▋         | 28/417 [00:10<01:14,  5.25it/s]INFO:__main__:\n",
      "📄 Skipping slide TCGA-A6-6654_nonMSIH: Output directory already exists and is not empty.\n",
      "Processing slides:   7%|▋         | 29/417 [00:14<09:21,  1.45s/it]INFO:__main__:\n",
      "📄 Skipping slide TCGA-A6-A565_nonMSIH: Output directory already exists and is not empty.\n",
      "Processing slides:   7%|▋         | 30/417 [00:14<06:51,  1.06s/it]INFO:__main__:\n",
      "📄 Skipping slide TCGA-A6-A566_nonMSIH: Output directory already exists and is not empty.\n",
      "Processing slides:   7%|▋         | 31/417 [00:15<05:16,  1.22it/s]INFO:__main__:\n",
      "📄 Skipping slide TCGA-A6-A567_nonMSIH: Output directory already exists and is not empty.\n",
      "Processing slides:   8%|▊         | 32/417 [00:15<04:15,  1.51it/s]INFO:__main__:\n",
      "📄 Skipping slide TCGA-A6-A56B_nonMSIH: Output directory already exists and is not empty.\n",
      "Processing slides:   8%|▊         | 33/417 [00:16<04:19,  1.48it/s]INFO:__main__:\n",
      "📄 Skipping slide TCGA-AA-3664_nonMSIH: Output directory already exists and is not empty.\n",
      "Processing slides:   8%|▊         | 34/417 [00:19<09:03,  1.42s/it]INFO:__main__:\n",
      "📄 Skipping slide TCGA-AA-3666_nonMSIH: Output directory already exists and is not empty.\n",
      "Processing slides:   8%|▊         | 35/417 [00:19<07:06,  1.12s/it]INFO:__main__:\n",
      "📄 Skipping slide TCGA-AA-3667_nonMSIH: Output directory already exists and is not empty.\n",
      "Processing slides:   9%|▊         | 36/417 [00:20<05:39,  1.12it/s]INFO:__main__:\n",
      "📄 Skipping slide TCGA-AA-3673_nonMSIH: Output directory already exists and is not empty.\n",
      "Processing slides:   9%|▉         | 37/417 [00:20<04:24,  1.44it/s]INFO:__main__:\n",
      "📄 Skipping slide TCGA-AA-3678_nonMSIH: Output directory already exists and is not empty.\n",
      "Processing slides:   9%|▉         | 38/417 [00:20<03:40,  1.72it/s]INFO:__main__:\n",
      "📄 Skipping slide TCGA-AA-3679_nonMSIH: Output directory already exists and is not empty.\n",
      "Processing slides:   9%|▉         | 39/417 [00:20<03:10,  1.98it/s]INFO:__main__:\n",
      "📄 Skipping slide TCGA-AA-3680_nonMSIH: Output directory already exists and is not empty.\n",
      "Processing slides:  10%|▉         | 40/417 [00:23<06:17,  1.00s/it]INFO:__main__:\n",
      "📄 Skipping slide TCGA-AA-3681_nonMSIH: Output directory already exists and is not empty.\n",
      "Processing slides:  10%|▉         | 41/417 [00:23<05:02,  1.24it/s]INFO:__main__:\n",
      "📄 Skipping slide TCGA-AA-3684_nonMSIH: Output directory already exists and is not empty.\n",
      "Processing slides:  10%|█         | 42/417 [00:24<04:51,  1.29it/s]INFO:__main__:\n",
      "📄 Skipping slide TCGA-AA-3688_nonMSIH: Output directory already exists and is not empty.\n",
      "Processing slides:  10%|█         | 43/417 [00:25<05:13,  1.19it/s]INFO:__main__:\n",
      "📄 Skipping slide TCGA-AA-3692_nonMSIH: Output directory already exists and is not empty.\n",
      "Processing slides:  11%|█         | 44/417 [00:25<04:18,  1.44it/s]INFO:__main__:\n",
      "📄 Skipping slide TCGA-AA-3693_nonMSIH: Output directory already exists and is not empty.\n",
      "Processing slides:  11%|█         | 45/417 [00:25<03:57,  1.56it/s]INFO:__main__:\n",
      "📄 Skipping slide TCGA-AA-3696_nonMSIH: Output directory already exists and is not empty.\n",
      "Processing slides:  11%|█         | 46/417 [00:26<03:20,  1.85it/s]INFO:__main__:\n",
      "📄 Skipping slide TCGA-AA-3715_MSIH: Output directory already exists and is not empty.\n",
      "Processing slides:  11%|█▏        | 47/417 [00:26<02:55,  2.11it/s]INFO:__main__:\n",
      "📄 Skipping slide TCGA-AA-3811_MSIH: Output directory already exists and is not empty.\n",
      "Processing slides:  12%|█▏        | 48/417 [00:26<02:36,  2.36it/s]INFO:__main__:\n",
      "📄 Skipping slide TCGA-AA-3812_nonMSIH: Output directory already exists and is not empty.\n",
      "Processing slides:  12%|█▏        | 49/417 [00:27<03:47,  1.62it/s]INFO:__main__:\n",
      "📄 Skipping slide TCGA-AA-3814_nonMSIH: Output directory already exists and is not empty.\n",
      "Processing slides:  12%|█▏        | 50/417 [00:29<05:37,  1.09it/s]INFO:__main__:\n",
      "📄 Skipping slide TCGA-AA-3818_nonMSIH: Output directory already exists and is not empty.\n",
      "Processing slides:  12%|█▏        | 51/417 [00:30<04:39,  1.31it/s]INFO:__main__:\n",
      "📄 Skipping slide TCGA-AA-3819_nonMSIH: Output directory already exists and is not empty.\n",
      "Processing slides:  12%|█▏        | 52/417 [00:31<05:07,  1.19it/s]INFO:__main__:\n",
      "📄 Skipping slide TCGA-AA-3821_MSIH: Output directory already exists and is not empty.\n",
      "Processing slides:  13%|█▎        | 53/417 [00:32<05:24,  1.12it/s]INFO:__main__:\n",
      "📄 Skipping slide TCGA-AA-3831_nonMSIH: Output directory already exists and is not empty.\n",
      "Processing slides:  13%|█▎        | 54/417 [00:32<05:01,  1.20it/s]INFO:__main__:\n",
      "📄 Skipping slide TCGA-AA-3833_MSIH: Output directory already exists and is not empty.\n",
      "Processing slides:  13%|█▎        | 55/417 [00:33<05:22,  1.12it/s]INFO:__main__:\n",
      "📄 Skipping slide TCGA-AA-3837_nonMSIH: Output directory already exists and is not empty.\n",
      "Processing slides:  13%|█▎        | 56/417 [00:34<04:53,  1.23it/s]INFO:__main__:\n",
      "📄 Skipping slide TCGA-AA-3842_nonMSIH: Output directory already exists and is not empty.\n",
      "Processing slides:  14%|█▎        | 57/417 [00:34<04:00,  1.50it/s]INFO:__main__:\n",
      "📄 Skipping slide TCGA-AA-3844_nonMSIH: Output directory already exists and is not empty.\n",
      "Processing slides:  14%|█▍        | 58/417 [00:34<03:11,  1.87it/s]INFO:__main__:\n",
      "📄 Skipping slide TCGA-AA-3845_MSIH: Output directory already exists and is not empty.\n",
      "Processing slides:  14%|█▍        | 59/417 [00:35<02:35,  2.31it/s]INFO:__main__:\n",
      "📄 Skipping slide TCGA-AA-3846_nonMSIH: Output directory already exists and is not empty.\n",
      "Processing slides:  14%|█▍        | 60/417 [00:35<02:05,  2.84it/s]INFO:__main__:\n",
      "📄 Skipping slide TCGA-AA-3848_nonMSIH: Output directory already exists and is not empty.\n",
      "Processing slides:  15%|█▍        | 61/417 [00:35<02:03,  2.88it/s]INFO:__main__:\n",
      "📄 Skipping slide TCGA-AA-3850_nonMSIH: Output directory already exists and is not empty.\n",
      "Processing slides:  15%|█▍        | 62/417 [00:36<03:13,  1.84it/s]INFO:__main__:\n",
      "📄 Skipping slide TCGA-AA-3851_nonMSIH: Output directory already exists and is not empty.\n",
      "Processing slides:  15%|█▌        | 63/417 [00:37<04:14,  1.39it/s]INFO:__main__:\n",
      "📄 Skipping slide TCGA-AA-3852_nonMSIH: Output directory already exists and is not empty.\n",
      "Processing slides:  15%|█▌        | 64/417 [00:38<03:24,  1.73it/s]INFO:__main__:\n",
      "📄 Skipping slide TCGA-AA-3854_nonMSIH: Output directory already exists and is not empty.\n",
      "Processing slides:  16%|█▌        | 65/417 [00:38<02:46,  2.12it/s]INFO:__main__:\n",
      "📄 Skipping slide TCGA-AA-3855_nonMSIH: Output directory already exists and is not empty.\n",
      "Processing slides:  16%|█▌        | 66/417 [00:38<02:47,  2.10it/s]INFO:__main__:\n",
      "📄 Skipping slide TCGA-AA-3856_nonMSIH: Output directory already exists and is not empty.\n",
      "Processing slides:  16%|█▌        | 67/417 [00:40<05:21,  1.09it/s]INFO:__main__:\n",
      "📄 Skipping slide TCGA-AA-3858_nonMSIH: Output directory already exists and is not empty.\n",
      "INFO:__main__:\n",
      "📄 Skipping slide TCGA-AA-3864_MSIH: Output directory already exists and is not empty.\n",
      "Processing slides:  17%|█▋        | 69/417 [00:40<03:15,  1.78it/s]INFO:__main__:\n",
      "📄 Skipping slide TCGA-AA-3866_nonMSIH: Output directory already exists and is not empty.\n",
      "Processing slides:  17%|█▋        | 70/417 [00:41<02:43,  2.12it/s]INFO:__main__:\n",
      "📄 Skipping slide TCGA-AA-3867_nonMSIH: Output directory already exists and is not empty.\n",
      "Processing slides:  17%|█▋        | 71/417 [00:41<02:31,  2.28it/s]INFO:__main__:\n",
      "📄 Skipping slide TCGA-AA-3875_nonMSIH: Output directory already exists and is not empty.\n",
      "Processing slides:  17%|█▋        | 72/417 [00:42<03:13,  1.78it/s]INFO:__main__:\n",
      "📄 Skipping slide TCGA-AA-3877_MSIH: Output directory already exists and is not empty.\n",
      "Processing slides:  18%|█▊        | 73/417 [00:42<02:40,  2.15it/s]INFO:__main__:\n",
      "📄 Skipping slide TCGA-AA-3947_MSIH: Output directory already exists and is not empty.\n",
      "Processing slides:  18%|█▊        | 74/417 [00:43<02:42,  2.11it/s]INFO:__main__:\n",
      "📄 Skipping slide TCGA-AA-3949_MSIH: Output directory already exists and is not empty.\n",
      "Processing slides:  18%|█▊        | 75/417 [00:43<02:24,  2.37it/s]INFO:__main__:\n",
      "📄 Skipping slide TCGA-AA-3950_MSIH: Output directory already exists and is not empty.\n",
      "Processing slides:  18%|█▊        | 76/417 [00:43<02:11,  2.59it/s]INFO:__main__:\n",
      "📄 Skipping slide TCGA-AA-3952_nonMSIH: Output directory already exists and is not empty.\n",
      "Processing slides:  18%|█▊        | 77/417 [00:43<01:57,  2.88it/s]INFO:__main__:\n",
      "📄 Skipping slide TCGA-AA-3956_nonMSIH: Output directory already exists and is not empty.\n",
      "Processing slides:  19%|█▊        | 78/417 [00:46<05:23,  1.05it/s]INFO:__main__:\n",
      "📄 Skipping slide TCGA-AA-3966_MSIH: Output directory already exists and is not empty.\n",
      "Processing slides:  19%|█▉        | 79/417 [00:46<04:39,  1.21it/s]INFO:__main__:\n",
      "📄 Skipping slide TCGA-AA-3968_nonMSIH: Output directory already exists and is not empty.\n",
      "Processing slides:  19%|█▉        | 80/417 [00:47<03:45,  1.49it/s]INFO:__main__:\n",
      "📄 Skipping slide TCGA-AA-3971_nonMSIH: Output directory already exists and is not empty.\n",
      "Processing slides:  19%|█▉        | 81/417 [00:47<03:27,  1.62it/s]INFO:__main__:\n",
      "📄 Skipping slide TCGA-AA-3973_nonMSIH: Output directory already exists and is not empty.\n",
      "Processing slides:  20%|█▉        | 82/417 [00:48<02:59,  1.87it/s]INFO:__main__:\n",
      "📄 Skipping slide TCGA-AA-3975_nonMSIH: Output directory already exists and is not empty.\n",
      "Processing slides:  20%|█▉        | 83/417 [00:48<02:50,  1.96it/s]INFO:__main__:\n",
      "📄 Skipping slide TCGA-AA-3976_nonMSIH: Output directory already exists and is not empty.\n",
      "Processing slides:  20%|██        | 84/417 [00:48<02:16,  2.43it/s]INFO:__main__:\n",
      "📄 Skipping slide TCGA-AA-3979_nonMSIH: Output directory already exists and is not empty.\n",
      "Processing slides:  20%|██        | 85/417 [00:51<05:31,  1.00it/s]INFO:__main__:\n",
      "📄 Skipping slide TCGA-AA-3982_nonMSIH: Output directory already exists and is not empty.\n",
      "Processing slides:  21%|██        | 86/417 [00:51<04:20,  1.27it/s]INFO:__main__:\n",
      "📄 Skipping slide TCGA-AA-3984_nonMSIH: Output directory already exists and is not empty.\n",
      "Processing slides:  21%|██        | 87/417 [00:53<06:27,  1.17s/it]INFO:__main__:\n",
      "📄 Skipping slide TCGA-AA-3986_nonMSIH: Output directory already exists and is not empty.\n",
      "Processing slides:  21%|██        | 88/417 [00:53<05:17,  1.04it/s]INFO:__main__:\n",
      "📄 Skipping slide TCGA-AA-3989_nonMSIH: Output directory already exists and is not empty.\n",
      "Processing slides:  21%|██▏       | 89/417 [00:54<04:04,  1.34it/s]INFO:__main__:\n",
      "📄 Skipping slide TCGA-AA-3994_nonMSIH: Output directory already exists and is not empty.\n",
      "Processing slides:  22%|██▏       | 90/417 [00:54<03:08,  1.74it/s]INFO:__main__:\n",
      "📄 Skipping slide TCGA-AA-A010_nonMSIH: Output directory already exists and is not empty.\n",
      "Processing slides:  22%|██▏       | 91/417 [00:54<03:10,  1.71it/s]INFO:__main__:\n",
      "📄 Skipping slide TCGA-AA-A01P_MSIH: Output directory already exists and is not empty.\n",
      "Processing slides:  22%|██▏       | 92/417 [00:56<05:37,  1.04s/it]INFO:__main__:\n",
      "📄 Skipping slide TCGA-AA-A01R_MSIH: Output directory already exists and is not empty.\n",
      "Processing slides:  22%|██▏       | 93/417 [00:57<05:00,  1.08it/s]INFO:__main__:\n",
      "📄 Skipping slide TCGA-AA-A01S_nonMSIH: Output directory already exists and is not empty.\n",
      "Processing slides:  23%|██▎       | 94/417 [00:58<04:18,  1.25it/s]INFO:__main__:\n",
      "📄 Skipping slide TCGA-AA-A01T_nonMSIH: Output directory already exists and is not empty.\n",
      "Processing slides:  23%|██▎       | 95/417 [00:58<03:33,  1.51it/s]INFO:__main__:\n",
      "📄 Skipping slide TCGA-AA-A01V_nonMSIH: Output directory already exists and is not empty.\n",
      "Processing slides:  23%|██▎       | 96/417 [01:01<07:00,  1.31s/it]INFO:__main__:\n",
      "📄 Skipping slide TCGA-AA-A01X_nonMSIH: Output directory already exists and is not empty.\n",
      "Processing slides:  23%|██▎       | 97/417 [01:01<05:35,  1.05s/it]INFO:__main__:\n",
      "📄 Skipping slide TCGA-AA-A01Z_nonMSIH: Output directory already exists and is not empty.\n",
      "Processing slides:  24%|██▎       | 98/417 [01:02<05:06,  1.04it/s]INFO:__main__:\n",
      "📄 Skipping slide TCGA-AA-A024_nonMSIH: Output directory already exists and is not empty.\n",
      "Processing slides:  24%|██▎       | 99/417 [01:03<04:25,  1.20it/s]INFO:__main__:\n",
      "📄 Skipping slide TCGA-AA-A02E_nonMSIH: Output directory already exists and is not empty.\n",
      "Processing slides:  24%|██▍       | 100/417 [01:04<05:50,  1.11s/it]INFO:__main__:\n",
      "📄 Skipping slide TCGA-AA-A02F_nonMSIH: Output directory already exists and is not empty.\n",
      "Processing slides:  24%|██▍       | 101/417 [01:05<04:57,  1.06it/s]INFO:__main__:\n",
      "📄 Skipping slide TCGA-AA-A02H_nonMSIH: Output directory already exists and is not empty.\n",
      "Processing slides:  24%|██▍       | 102/417 [01:05<04:09,  1.26it/s]INFO:__main__:\n",
      "📄 Skipping slide TCGA-AA-A02O_nonMSIH: Output directory already exists and is not empty.\n",
      "Processing slides:  25%|██▍       | 103/417 [01:06<03:25,  1.53it/s]INFO:__main__:\n",
      "📄 Skipping slide TCGA-AA-A02Y_nonMSIH: Output directory already exists and is not empty.\n",
      "Processing slides:  25%|██▍       | 104/417 [01:07<03:53,  1.34it/s]INFO:__main__:\n",
      "📄 Skipping slide TCGA-AA-A03F_nonMSIH: Output directory already exists and is not empty.\n",
      "Processing slides:  25%|██▌       | 105/417 [01:07<03:07,  1.66it/s]INFO:__main__:\n",
      "📄 Skipping slide TCGA-AA-A03J_nonMSIH: Output directory already exists and is not empty.\n",
      "Processing slides:  25%|██▌       | 106/417 [01:07<03:01,  1.72it/s]INFO:__main__:\n",
      "📄 Skipping slide TCGA-AD-5900_MSIH: Output directory already exists and is not empty.\n",
      "Processing slides:  26%|██▌       | 107/417 [01:08<02:18,  2.24it/s]INFO:__main__:\n",
      "📄 Skipping slide TCGA-AD-6548_nonMSIH: Output directory already exists and is not empty.\n",
      "INFO:__main__:\n",
      "📄 Skipping slide TCGA-AD-6888_nonMSIH: Output directory already exists and is not empty.\n",
      "Processing slides:  26%|██▌       | 109/417 [01:08<01:47,  2.86it/s]INFO:__main__:\n",
      "📄 Skipping slide TCGA-AD-6889_MSIH: Output directory already exists and is not empty.\n",
      "Processing slides:  26%|██▋       | 110/417 [01:08<01:34,  3.25it/s]INFO:__main__:\n",
      "📄 Skipping slide TCGA-AD-6890_nonMSIH: Output directory already exists and is not empty.\n",
      "Processing slides:  27%|██▋       | 111/417 [01:08<01:17,  3.94it/s]INFO:__main__:\n",
      "📄 Skipping slide TCGA-AD-6901_nonMSIH: Output directory already exists and is not empty.\n",
      "Processing slides:  27%|██▋       | 112/417 [01:08<01:07,  4.52it/s]INFO:__main__:\n",
      "📄 Skipping slide TCGA-AD-6963_nonMSIH: Output directory already exists and is not empty.\n",
      "INFO:__main__:\n",
      "📄 Skipping slide TCGA-AD-6964_MSIH: Output directory already exists and is not empty.\n",
      "Processing slides:  27%|██▋       | 114/417 [01:09<00:55,  5.43it/s]INFO:__main__:\n",
      "📄 Skipping slide TCGA-AD-6965_nonMSIH: Output directory already exists and is not empty.\n",
      "Processing slides:  28%|██▊       | 115/417 [01:11<03:58,  1.26it/s]INFO:__main__:\n",
      "📄 Skipping slide TCGA-AD-A5EJ_MSIH: Output directory already exists and is not empty.\n",
      "Processing slides:  28%|██▊       | 116/417 [01:12<03:07,  1.61it/s]INFO:__main__:\n",
      "📄 Skipping slide TCGA-AD-A5EK_nonMSIH: Output directory already exists and is not empty.\n",
      "Processing slides:  28%|██▊       | 117/417 [01:12<02:32,  1.97it/s]INFO:__main__:\n",
      "📄 Skipping slide TCGA-AF-2687_nonMSIH: Output directory already exists and is not empty.\n",
      "Processing slides:  28%|██▊       | 118/417 [01:12<02:12,  2.26it/s]INFO:__main__:\n",
      "📄 Skipping slide TCGA-AF-2690_nonMSIH: Output directory already exists and is not empty.\n",
      "Processing slides:  29%|██▊       | 119/417 [01:15<05:07,  1.03s/it]INFO:__main__:\n",
      "📄 Skipping slide TCGA-AF-2693_nonMSIH: Output directory already exists and is not empty.\n",
      "Processing slides:  29%|██▉       | 120/417 [01:15<03:52,  1.28it/s]INFO:__main__:\n",
      "📄 Skipping slide TCGA-AF-3911_nonMSIH: Output directory already exists and is not empty.\n",
      "Processing slides:  29%|██▉       | 121/417 [01:15<03:03,  1.61it/s]INFO:__main__:\n",
      "📄 Skipping slide TCGA-AF-4110_nonMSIH: Output directory already exists and is not empty.\n",
      "Processing slides:  29%|██▉       | 122/417 [01:15<02:36,  1.89it/s]INFO:__main__:\n",
      "📄 Skipping slide TCGA-AF-6136_nonMSIH: Output directory already exists and is not empty.\n",
      "Processing slides:  29%|██▉       | 123/417 [01:15<02:09,  2.27it/s]INFO:__main__:\n",
      "📄 Skipping slide TCGA-AF-6655_nonMSIH: Output directory already exists and is not empty.\n",
      "Processing slides:  30%|██▉       | 124/417 [01:16<01:45,  2.78it/s]INFO:__main__:\n",
      "📄 Skipping slide TCGA-AF-6672_nonMSIH: Output directory already exists and is not empty.\n",
      "Processing slides:  30%|██▉       | 125/417 [01:16<01:37,  3.00it/s]INFO:__main__:\n",
      "📄 Skipping slide TCGA-AF-A56K_nonMSIH: Output directory already exists and is not empty.\n",
      "Processing slides:  30%|███       | 126/417 [01:16<01:40,  2.90it/s]INFO:__main__:\n",
      "📄 Skipping slide TCGA-AF-A56L_nonMSIH: Output directory already exists and is not empty.\n",
      "Processing slides:  30%|███       | 127/417 [01:19<04:30,  1.07it/s]INFO:__main__:\n",
      "📄 Skipping slide TCGA-AF-A56N_nonMSIH: Output directory already exists and is not empty.\n",
      "Processing slides:  31%|███       | 128/417 [01:19<03:50,  1.25it/s]INFO:__main__:\n",
      "📄 Skipping slide TCGA-AG-3726_nonMSIH: Output directory already exists and is not empty.\n",
      "Processing slides:  31%|███       | 129/417 [01:19<03:16,  1.47it/s]INFO:__main__:\n",
      "📄 Skipping slide TCGA-AG-3727_nonMSIH: Output directory already exists and is not empty.\n",
      "Processing slides:  31%|███       | 130/417 [01:22<05:56,  1.24s/it]INFO:__main__:\n",
      "📄 Skipping slide TCGA-AG-3878_nonMSIH: Output directory already exists and is not empty.\n",
      "Processing slides:  31%|███▏      | 131/417 [01:22<04:26,  1.07it/s]INFO:__main__:\n",
      "📄 Skipping slide TCGA-AG-3882_nonMSIH: Output directory already exists and is not empty.\n",
      "Processing slides:  32%|███▏      | 132/417 [01:23<03:28,  1.37it/s]INFO:__main__:\n",
      "📄 Skipping slide TCGA-AG-3883_nonMSIH: Output directory already exists and is not empty.\n",
      "Processing slides:  32%|███▏      | 133/417 [01:23<02:48,  1.69it/s]INFO:__main__:\n",
      "📄 Skipping slide TCGA-AG-3885_nonMSIH: Output directory already exists and is not empty.\n",
      "Processing slides:  32%|███▏      | 134/417 [01:25<04:47,  1.01s/it]INFO:__main__:\n",
      "📄 Skipping slide TCGA-AG-3887_nonMSIH: Output directory already exists and is not empty.\n",
      "Processing slides:  32%|███▏      | 135/417 [01:25<03:33,  1.32it/s]INFO:__main__:\n",
      "📄 Skipping slide TCGA-AG-3890_nonMSIH: Output directory already exists and is not empty.\n",
      "Processing slides:  33%|███▎      | 136/417 [01:25<02:49,  1.66it/s]INFO:__main__:\n",
      "📄 Skipping slide TCGA-AG-3892_nonMSIH: Output directory already exists and is not empty.\n",
      "Processing slides:  33%|███▎      | 137/417 [01:25<02:22,  1.97it/s]INFO:__main__:\n",
      "📄 Skipping slide TCGA-AG-3893_nonMSIH: Output directory already exists and is not empty.\n",
      "Processing slides:  33%|███▎      | 138/417 [01:26<02:08,  2.18it/s]INFO:__main__:\n",
      "📄 Skipping slide TCGA-AG-3894_nonMSIH: Output directory already exists and is not empty.\n",
      "Processing slides:  33%|███▎      | 139/417 [01:26<01:48,  2.57it/s]INFO:__main__:\n",
      "📄 Skipping slide TCGA-AG-3896_nonMSIH: Output directory already exists and is not empty.\n",
      "Processing slides:  34%|███▎      | 140/417 [01:26<01:43,  2.67it/s]INFO:__main__:\n",
      "📄 Skipping slide TCGA-AG-3898_nonMSIH: Output directory already exists and is not empty.\n",
      "Processing slides:  34%|███▍      | 141/417 [01:27<01:42,  2.70it/s]INFO:__main__:\n",
      "📄 Skipping slide TCGA-AG-3901_nonMSIH: Output directory already exists and is not empty.\n",
      "Processing slides:  34%|███▍      | 142/417 [01:27<01:25,  3.23it/s]INFO:__main__:\n",
      "📄 Skipping slide TCGA-AG-3902_nonMSIH: Output directory already exists and is not empty.\n",
      "Processing slides:  34%|███▍      | 143/417 [01:30<04:37,  1.01s/it]INFO:__main__:\n",
      "📄 Skipping slide TCGA-AG-3909_nonMSIH: Output directory already exists and is not empty.\n",
      "Processing slides:  35%|███▍      | 144/417 [01:30<03:35,  1.27it/s]INFO:__main__:\n",
      "📄 Skipping slide TCGA-AG-4001_nonMSIH: Output directory already exists and is not empty.\n",
      "Processing slides:  35%|███▍      | 145/417 [01:30<02:55,  1.55it/s]INFO:__main__:\n",
      "📄 Skipping slide TCGA-AG-4008_nonMSIH: Output directory already exists and is not empty.\n",
      "Processing slides:  35%|███▌      | 146/417 [01:30<02:31,  1.79it/s]INFO:__main__:\n",
      "📄 Skipping slide TCGA-AG-4015_nonMSIH: Output directory already exists and is not empty.\n",
      "Processing slides:  35%|███▌      | 147/417 [01:31<02:11,  2.05it/s]INFO:__main__:\n",
      "📄 Skipping slide TCGA-AG-4021_nonMSIH: Output directory already exists and is not empty.\n",
      "Processing slides:  35%|███▌      | 148/417 [01:31<01:59,  2.24it/s]INFO:__main__:\n",
      "📄 Skipping slide TCGA-AG-4022_nonMSIH: Output directory already exists and is not empty.\n",
      "Processing slides:  36%|███▌      | 149/417 [01:31<01:46,  2.51it/s]INFO:__main__:\n",
      "📄 Skipping slide TCGA-AG-A002_nonMSIH: Output directory already exists and is not empty.\n",
      "Processing slides:  36%|███▌      | 150/417 [01:34<04:57,  1.12s/it]INFO:__main__:\n",
      "📄 Skipping slide TCGA-AG-A008_nonMSIH: Output directory already exists and is not empty.\n",
      "Processing slides:  36%|███▌      | 151/417 [01:35<04:27,  1.00s/it]INFO:__main__:\n",
      "📄 Skipping slide TCGA-AG-A00C_nonMSIH: Output directory already exists and is not empty.\n",
      "Processing slides:  36%|███▋      | 152/417 [01:35<03:28,  1.27it/s]INFO:__main__:\n",
      "📄 Skipping slide TCGA-AG-A011_nonMSIH: Output directory already exists and is not empty.\n",
      "Processing slides:  37%|███▋      | 153/417 [01:35<02:40,  1.64it/s]INFO:__main__:\n",
      "📄 Skipping slide TCGA-AG-A015_nonMSIH: Output directory already exists and is not empty.\n",
      "Processing slides:  37%|███▋      | 154/417 [01:36<02:19,  1.88it/s]INFO:__main__:\n",
      "📄 Skipping slide TCGA-AG-A016_nonMSIH: Output directory already exists and is not empty.\n",
      "Processing slides:  37%|███▋      | 155/417 [01:36<02:12,  1.98it/s]INFO:__main__:\n",
      "📄 Skipping slide TCGA-AG-A01L_nonMSIH: Output directory already exists and is not empty.\n",
      "Processing slides:  37%|███▋      | 156/417 [01:37<02:46,  1.57it/s]INFO:__main__:\n",
      "📄 Skipping slide TCGA-AG-A01N_nonMSIH: Output directory already exists and is not empty.\n",
      "Processing slides:  38%|███▊      | 157/417 [01:38<02:28,  1.75it/s]INFO:__main__:\n",
      "📄 Skipping slide TCGA-AG-A01W_nonMSIH: Output directory already exists and is not empty.\n",
      "Processing slides:  38%|███▊      | 158/417 [01:38<02:29,  1.73it/s]INFO:__main__:\n",
      "📄 Skipping slide TCGA-AG-A01Y_nonMSIH: Output directory already exists and is not empty.\n",
      "Processing slides:  38%|███▊      | 159/417 [01:39<02:20,  1.84it/s]INFO:__main__:\n",
      "📄 Skipping slide TCGA-AG-A020_nonMSIH: Output directory already exists and is not empty.\n",
      "Processing slides:  38%|███▊      | 160/417 [01:39<02:17,  1.86it/s]INFO:__main__:\n",
      "📄 Skipping slide TCGA-AG-A026_nonMSIH: Output directory already exists and is not empty.\n",
      "Processing slides:  39%|███▊      | 161/417 [01:42<04:55,  1.15s/it]INFO:__main__:\n",
      "📄 Skipping slide TCGA-AG-A02N_MSIH: Output directory already exists and is not empty.\n",
      "Processing slides:  39%|███▉      | 162/417 [01:42<03:49,  1.11it/s]INFO:__main__:\n",
      "📄 Skipping slide TCGA-AG-A02X_nonMSIH: Output directory already exists and is not empty.\n",
      "Processing slides:  39%|███▉      | 163/417 [01:42<02:56,  1.44it/s]INFO:__main__:\n",
      "📄 Skipping slide TCGA-AH-6544_nonMSIH: Output directory already exists and is not empty.\n",
      "Processing slides:  39%|███▉      | 164/417 [01:43<03:12,  1.31it/s]INFO:__main__:\n",
      "📄 Skipping slide TCGA-AH-6547_nonMSIH: Output directory already exists and is not empty.\n",
      "Processing slides:  40%|███▉      | 165/417 [01:43<02:22,  1.77it/s]INFO:__main__:\n",
      "📄 Skipping slide TCGA-AH-6643_nonMSIH: Output directory already exists and is not empty.\n",
      "Processing slides:  40%|███▉      | 166/417 [01:44<01:53,  2.22it/s]INFO:__main__:\n",
      "📄 Skipping slide TCGA-AH-6644_nonMSIH: Output directory already exists and is not empty.\n",
      "Processing slides:  40%|████      | 167/417 [01:44<01:28,  2.82it/s]INFO:__main__:\n",
      "📄 Skipping slide TCGA-AH-6897_nonMSIH: Output directory already exists and is not empty.\n",
      "Processing slides:  40%|████      | 168/417 [01:44<01:12,  3.42it/s]INFO:__main__:\n",
      "📄 Skipping slide TCGA-AH-6903_nonMSIH: Output directory already exists and is not empty.\n",
      "Processing slides:  41%|████      | 169/417 [01:44<01:00,  4.08it/s]INFO:__main__:\n",
      "📄 Skipping slide TCGA-AM-5820_nonMSIH: Output directory already exists and is not empty.\n",
      "Processing slides:  41%|████      | 170/417 [01:44<01:00,  4.05it/s]INFO:__main__:\n",
      "📄 Skipping slide TCGA-AM-5821_MSIH: Output directory already exists and is not empty.\n",
      "Processing slides:  41%|████      | 171/417 [01:44<01:06,  3.68it/s]INFO:__main__:\n",
      "📄 Skipping slide TCGA-AU-3779_nonMSIH: Output directory already exists and is not empty.\n",
      "Processing slides:  41%|████      | 172/417 [01:45<00:55,  4.43it/s]INFO:__main__:\n",
      "📄 Skipping slide TCGA-AU-6004_MSIH: Output directory already exists and is not empty.\n",
      "Processing slides:  41%|████▏     | 173/417 [01:45<00:49,  4.89it/s]INFO:__main__:\n",
      "📄 Skipping slide TCGA-AY-4070_nonMSIH: Output directory already exists and is not empty.\n",
      "INFO:__main__:\n",
      "📄 Skipping slide TCGA-AY-4071_nonMSIH: Output directory already exists and is not empty.\n",
      "Processing slides:  42%|████▏     | 175/417 [01:45<00:38,  6.23it/s]INFO:__main__:\n",
      "📄 Skipping slide TCGA-AY-5543_nonMSIH: Output directory already exists and is not empty.\n",
      "Processing slides:  42%|████▏     | 176/417 [01:45<00:45,  5.33it/s]INFO:__main__:\n",
      "📄 Skipping slide TCGA-AY-6196_nonMSIH: Output directory already exists and is not empty.\n",
      "Processing slides:  42%|████▏     | 177/417 [01:49<04:16,  1.07s/it]INFO:__main__:\n",
      "📄 Skipping slide TCGA-AY-6197_MSIH: Output directory already exists and is not empty.\n",
      "Processing slides:  43%|████▎     | 178/417 [01:49<03:27,  1.15it/s]INFO:__main__:\n",
      "📄 Skipping slide TCGA-AY-6386_nonMSIH: Output directory already exists and is not empty.\n",
      "Processing slides:  43%|████▎     | 179/417 [01:49<02:46,  1.43it/s]INFO:__main__:\n",
      "📄 Skipping slide TCGA-AY-A54L_nonMSIH: Output directory already exists and is not empty.\n",
      "Processing slides:  43%|████▎     | 180/417 [01:50<02:48,  1.41it/s]INFO:__main__:\n",
      "📄 Skipping slide TCGA-AY-A69D_nonMSIH: Output directory already exists and is not empty.\n",
      "Processing slides:  43%|████▎     | 181/417 [01:50<02:15,  1.74it/s]INFO:__main__:\n",
      "📄 Skipping slide TCGA-AY-A71X_nonMSIH: Output directory already exists and is not empty.\n",
      "Processing slides:  44%|████▎     | 182/417 [01:54<05:14,  1.34s/it]INFO:__main__:\n",
      "📄 Skipping slide TCGA-AY-A8YK_nonMSIH: Output directory already exists and is not empty.\n",
      "Processing slides:  44%|████▍     | 183/417 [01:54<03:54,  1.00s/it]INFO:__main__:\n",
      "📄 Skipping slide TCGA-AZ-4308_nonMSIH: Output directory already exists and is not empty.\n",
      "Processing slides:  44%|████▍     | 184/417 [01:54<03:02,  1.28it/s]INFO:__main__:\n",
      "📄 Skipping slide TCGA-AZ-4315_nonMSIH: Output directory already exists and is not empty.\n",
      "Processing slides:  44%|████▍     | 185/417 [01:54<02:36,  1.48it/s]INFO:__main__:\n",
      "📄 Skipping slide TCGA-AZ-4614_nonMSIH: Output directory already exists and is not empty.\n",
      "Processing slides:  45%|████▍     | 186/417 [01:55<02:11,  1.76it/s]INFO:__main__:\n",
      "📄 Skipping slide TCGA-AZ-4615_MSIH: Output directory already exists and is not empty.\n",
      "Processing slides:  45%|████▍     | 187/417 [01:55<01:49,  2.10it/s]INFO:__main__:\n",
      "📄 Skipping slide TCGA-AZ-4616_nonMSIH: Output directory already exists and is not empty.\n",
      "Processing slides:  45%|████▌     | 188/417 [01:55<01:36,  2.38it/s]INFO:__main__:\n",
      "📄 Processing slide: TCGA-AZ-4681_nonMSIH\n",
      "INFO:__main__:  ✅ Objective power: 40x, patch size: 1024\n",
      "INFO:__main__:  📊 Filtered patches: 2861/2866 valid non-white patches\n",
      "INFO:__main__:  🔄 Processing 2861 new patches (skipping 0 existing)\n",
      "INFO:__main__:  ✅ Completed TCGA-AZ-4681_nonMSIH: 2861 patches processed\n",
      "Processing slides:  45%|████▌     | 189/417 [3:32:48<239:55:20, 3788.25s/it]INFO:__main__:\n",
      "📄 Processing slide: TCGA-AZ-4682_nonMSIH\n",
      "INFO:__main__:  ✅ Objective power: 40x, patch size: 1024\n",
      "INFO:__main__:  📊 Filtered patches: 3556/3568 valid non-white patches\n",
      "INFO:__main__:  🔄 Processing 3556 new patches (skipping 0 existing)\n",
      "INFO:__main__:  ✅ Completed TCGA-AZ-4682_nonMSIH: 3556 patches processed\n",
      "Processing slides:  46%|████▌     | 190/417 [3:41:52<177:35:29, 2816.43s/it]INFO:__main__:\n",
      "📄 Processing slide: TCGA-AZ-5403_nonMSIH\n",
      "INFO:__main__:  ✅ Objective power: 40x, patch size: 1024\n",
      "INFO:__main__:  📊 Filtered patches: 4983/9281 valid non-white patches\n",
      "INFO:__main__:  🔄 Processing 4983 new patches (skipping 0 existing)\n",
      "INFO:__main__:  ✅ Completed TCGA-AZ-5403_nonMSIH: 4983 patches processed\n",
      "Processing slides:  46%|████▌     | 191/417 [3:54:31<138:05:57, 2199.81s/it]INFO:__main__:\n",
      "📄 Processing slide: TCGA-AZ-5407_nonMSIH\n",
      "INFO:__main__:  ✅ Objective power: 40x, patch size: 1024\n",
      "INFO:__main__:  📊 Filtered patches: 1984/1987 valid non-white patches\n",
      "INFO:__main__:  🔄 Processing 1984 new patches (skipping 0 existing)\n",
      "INFO:__main__:  ✅ Completed TCGA-AZ-5407_nonMSIH: 1984 patches processed\n",
      "Processing slides:  46%|████▌     | 192/417 [3:59:36<101:59:22, 1631.83s/it]INFO:__main__:\n",
      "📄 Processing slide: TCGA-AZ-6598_MSIH\n",
      "INFO:__main__:  ✅ Objective power: 40x, patch size: 1024\n",
      "INFO:__main__:  📊 Filtered patches: 3328/3334 valid non-white patches\n",
      "INFO:__main__:  🔄 Processing 3328 new patches (skipping 0 existing)\n",
      "INFO:__main__:  ✅ Completed TCGA-AZ-6598_MSIH: 3328 patches processed\n",
      "Processing slides:  46%|████▋     | 193/417 [4:08:22<80:54:26, 1300.30s/it] INFO:__main__:\n",
      "📄 Processing slide: TCGA-AZ-6599_nonMSIH\n",
      "INFO:__main__:  ✅ Objective power: 40x, patch size: 1024\n",
      "INFO:__main__:  📊 Filtered patches: 2950/3072 valid non-white patches\n",
      "INFO:__main__:  🔄 Processing 2950 new patches (skipping 0 existing)\n",
      "INFO:__main__:  ✅ Completed TCGA-AZ-6599_nonMSIH: 2950 patches processed\n",
      "Processing slides:  47%|████▋     | 194/417 [4:16:19<65:14:42, 1053.28s/it]INFO:__main__:\n",
      "📄 Processing slide: TCGA-AZ-6600_nonMSIH\n",
      "INFO:__main__:  ✅ Objective power: 40x, patch size: 1024\n",
      "INFO:__main__:  📊 Filtered patches: 4608/4616 valid non-white patches\n",
      "INFO:__main__:  🔄 Processing 4608 new patches (skipping 0 existing)\n",
      "INFO:__main__:  ✅ Completed TCGA-AZ-6600_nonMSIH: 4608 patches processed\n",
      "Processing slides:  47%|████▋     | 195/417 [4:28:23<58:51:29, 954.46s/it] INFO:__main__:\n",
      "📄 Processing slide: TCGA-AZ-6603_nonMSIH\n",
      "INFO:__main__:  ✅ Objective power: 40x, patch size: 1024\n",
      "INFO:__main__:  📊 Filtered patches: 3851/3856 valid non-white patches\n",
      "INFO:__main__:  🔄 Processing 3851 new patches (skipping 0 existing)\n",
      "INFO:__main__:  ✅ Completed TCGA-AZ-6603_nonMSIH: 3851 patches processed\n",
      "Processing slides:  47%|████▋     | 196/417 [4:38:48<52:31:39, 855.66s/it]INFO:__main__:\n",
      "📄 Processing slide: TCGA-AZ-6605_nonMSIH\n",
      "INFO:__main__:  ✅ Objective power: 40x, patch size: 1024\n",
      "INFO:__main__:  📊 Filtered patches: 4099/4102 valid non-white patches\n",
      "INFO:__main__:  🔄 Processing 4099 new patches (skipping 0 existing)\n",
      "INFO:__main__:  ✅ Completed TCGA-AZ-6605_nonMSIH: 4099 patches processed\n",
      "Processing slides:  47%|████▋     | 197/417 [4:49:26<48:18:32, 790.51s/it]INFO:__main__:\n",
      "📄 Processing slide: TCGA-AZ-6606_nonMSIH\n",
      "INFO:__main__:  ✅ Objective power: 40x, patch size: 1024\n",
      "INFO:__main__:  📊 Filtered patches: 3888/3891 valid non-white patches\n",
      "INFO:__main__:  🔄 Processing 3888 new patches (skipping 0 existing)\n",
      "INFO:__main__:  ✅ Completed TCGA-AZ-6606_nonMSIH: 3888 patches processed\n",
      "Processing slides:  47%|████▋     | 198/417 [4:59:40<44:52:22, 737.64s/it]INFO:__main__:\n",
      "📄 Processing slide: TCGA-CA-5254_nonMSIH\n",
      "INFO:__main__:  ✅ Objective power: 40x, patch size: 1024\n",
      "INFO:__main__:  📊 Filtered patches: 2309/2309 valid non-white patches\n",
      "INFO:__main__:  🔄 Processing 2309 new patches (skipping 0 existing)\n",
      "INFO:__main__:  ✅ Completed TCGA-CA-5254_nonMSIH: 2309 patches processed\n",
      "Processing slides:  48%|████▊     | 199/417 [5:05:38<37:46:14, 623.74s/it]INFO:__main__:\n",
      "📄 Processing slide: TCGA-CA-5255_nonMSIH\n",
      "INFO:__main__:  ✅ Objective power: 40x, patch size: 1024\n",
      "INFO:__main__:  📊 Filtered patches: 2699/2703 valid non-white patches\n",
      "INFO:__main__:  🔄 Processing 2699 new patches (skipping 0 existing)\n",
      "INFO:__main__:  ✅ Completed TCGA-CA-5255_nonMSIH: 2699 patches processed\n",
      "Processing slides:  48%|████▊     | 200/417 [5:12:33<33:48:39, 560.92s/it]INFO:__main__:\n",
      "📄 Processing slide: TCGA-CA-5256_nonMSIH\n",
      "INFO:__main__:  ✅ Objective power: 40x, patch size: 1024\n",
      "INFO:__main__:  📊 Filtered patches: 1428/1428 valid non-white patches\n",
      "INFO:__main__:  🔄 Processing 1428 new patches (skipping 0 existing)\n",
      "INFO:__main__:  ✅ Completed TCGA-CA-5256_nonMSIH: 1428 patches processed\n",
      "Processing slides:  48%|████▊     | 201/417 [5:16:10<27:28:12, 457.83s/it]INFO:__main__:\n",
      "📄 Processing slide: TCGA-CA-5796_nonMSIH\n",
      "INFO:__main__:  ✅ Objective power: 40x, patch size: 1024\n",
      "INFO:__main__:  📊 Filtered patches: 3590/3609 valid non-white patches\n",
      "INFO:__main__:  🔄 Processing 3590 new patches (skipping 0 existing)\n",
      "INFO:__main__:  ✅ Completed TCGA-CA-5796_nonMSIH: 3590 patches processed\n",
      "Processing slides:  48%|████▊     | 202/417 [5:25:13<28:52:16, 483.43s/it]INFO:__main__:\n",
      "📄 Processing slide: TCGA-CA-5797_nonMSIH\n",
      "INFO:__main__:  ✅ Objective power: 40x, patch size: 1024\n",
      "INFO:__main__:  📊 Filtered patches: 1916/1938 valid non-white patches\n",
      "INFO:__main__:  🔄 Processing 1916 new patches (skipping 0 existing)\n",
      "INFO:__main__:  ✅ Completed TCGA-CA-5797_nonMSIH: 1916 patches processed\n",
      "Processing slides:  49%|████▊     | 203/417 [5:30:06<25:20:40, 426.36s/it]INFO:__main__:\n",
      "📄 Processing slide: TCGA-CA-6715_nonMSIH\n",
      "INFO:__main__:  ✅ Objective power: 40x, patch size: 1024\n",
      "INFO:__main__:  📊 Filtered patches: 3891/3916 valid non-white patches\n",
      "INFO:__main__:  🔄 Processing 3891 new patches (skipping 0 existing)\n",
      "INFO:__main__:  ✅ Completed TCGA-CA-6715_nonMSIH: 3891 patches processed\n",
      "Processing slides:  49%|████▉     | 204/417 [5:40:08<28:20:49, 479.10s/it]INFO:__main__:\n",
      "📄 Processing slide: TCGA-CA-6716_nonMSIH\n",
      "INFO:__main__:  ✅ Objective power: 40x, patch size: 1024\n",
      "INFO:__main__:  📊 Filtered patches: 3345/3351 valid non-white patches\n",
      "INFO:__main__:  🔄 Processing 3345 new patches (skipping 0 existing)\n",
      "INFO:__main__:  ✅ Completed TCGA-CA-6716_nonMSIH: 3345 patches processed\n",
      "Processing slides:  49%|████▉     | 205/417 [5:48:43<28:50:38, 489.80s/it]INFO:__main__:\n",
      "📄 Processing slide: TCGA-CA-6717_nonMSIH\n",
      "INFO:__main__:  ✅ Objective power: 40x, patch size: 1024\n",
      "INFO:__main__:  📊 Filtered patches: 2260/2269 valid non-white patches\n",
      "INFO:__main__:  🔄 Processing 2260 new patches (skipping 0 existing)\n",
      "INFO:__main__:  ✅ Completed TCGA-CA-6717_nonMSIH: 2260 patches processed\n",
      "Processing slides:  49%|████▉     | 206/417 [5:59:36<31:34:26, 538.70s/it]INFO:__main__:\n",
      "📄 Processing slide: TCGA-CA-6718_nonMSIH\n",
      "INFO:__main__:  ✅ Objective power: 40x, patch size: 1024\n",
      "INFO:__main__:  📊 Filtered patches: 2936/2937 valid non-white patches\n",
      "INFO:__main__:  🔄 Processing 2936 new patches (skipping 0 existing)\n",
      "INFO:__main__:  ✅ Completed TCGA-CA-6718_nonMSIH: 2936 patches processed\n",
      "Processing slides:  50%|████▉     | 207/417 [6:14:49<37:57:57, 650.85s/it]INFO:__main__:\n",
      "📄 Processing slide: TCGA-CA-6719_nonMSIH\n",
      "INFO:__main__:  ✅ Objective power: 40x, patch size: 1024\n",
      "INFO:__main__:  📊 Filtered patches: 2381/2382 valid non-white patches\n",
      "INFO:__main__:  🔄 Processing 2381 new patches (skipping 0 existing)\n",
      "INFO:__main__:  ✅ Completed TCGA-CA-6719_nonMSIH: 2381 patches processed\n",
      "Processing slides:  50%|████▉     | 208/417 [6:26:29<38:39:24, 665.86s/it]INFO:__main__:\n",
      "📄 Processing slide: TCGA-CI-6622_nonMSIH\n",
      "INFO:__main__:  ✅ Objective power: 40x, patch size: 1024\n",
      "INFO:__main__:  📊 Filtered patches: 498/498 valid non-white patches\n",
      "INFO:__main__:  🔄 Processing 498 new patches (skipping 0 existing)\n",
      "INFO:__main__:  ✅ Completed TCGA-CI-6622_nonMSIH: 498 patches processed\n",
      "Processing slides:  50%|█████     | 209/417 [6:28:54<29:26:32, 509.58s/it]INFO:__main__:\n",
      "📄 Processing slide: TCGA-CI-6624_nonMSIH\n",
      "INFO:__main__:  ✅ Objective power: 40x, patch size: 1024\n",
      "INFO:__main__:  📊 Filtered patches: 990/990 valid non-white patches\n",
      "INFO:__main__:  🔄 Processing 990 new patches (skipping 0 existing)\n",
      "INFO:__main__:  ✅ Completed TCGA-CI-6624_nonMSIH: 990 patches processed\n",
      "Processing slides:  50%|█████     | 210/417 [6:34:43<26:31:52, 461.41s/it]INFO:__main__:\n",
      "📄 Processing slide: TCGA-CK-4947_nonMSIH\n",
      "INFO:__main__:  ✅ Objective power: 40x, patch size: 1024\n",
      "INFO:__main__:  📊 Filtered patches: 5386/5407 valid non-white patches\n",
      "INFO:__main__:  🔄 Processing 5386 new patches (skipping 0 existing)\n",
      "INFO:__main__:  ✅ Completed TCGA-CK-4947_nonMSIH: 5386 patches processed\n",
      "Processing slides:  51%|█████     | 211/417 [7:12:35<57:28:59, 1004.56s/it]INFO:__main__:\n",
      "📄 Processing slide: TCGA-CK-4948_nonMSIH\n",
      "INFO:__main__:  ✅ Objective power: 40x, patch size: 1024\n",
      "INFO:__main__:  📊 Filtered patches: 3351/3365 valid non-white patches\n",
      "INFO:__main__:  🔄 Processing 3351 new patches (skipping 0 existing)\n",
      "INFO:__main__:  ✅ Completed TCGA-CK-4948_nonMSIH: 3351 patches processed\n",
      "Processing slides:  51%|█████     | 212/417 [7:33:55<61:54:43, 1087.24s/it]INFO:__main__:\n",
      "📄 Processing slide: TCGA-CK-4950_nonMSIH\n",
      "INFO:__main__:  ✅ Objective power: 40x, patch size: 1024\n",
      "INFO:__main__:  📊 Filtered patches: 4932/4949 valid non-white patches\n",
      "INFO:__main__:  🔄 Processing 4932 new patches (skipping 0 existing)\n",
      "INFO:__main__:  ✅ Completed TCGA-CK-4950_nonMSIH: 4932 patches processed\n",
      "Processing slides:  51%|█████     | 213/417 [8:06:33<76:24:31, 1348.39s/it]INFO:__main__:\n",
      "📄 Processing slide: TCGA-CK-4951_MSIH\n",
      "INFO:__main__:  ✅ Objective power: 40x, patch size: 1024\n",
      "INFO:__main__:  📊 Filtered patches: 2514/2553 valid non-white patches\n",
      "INFO:__main__:  🔄 Processing 2514 new patches (skipping 0 existing)\n",
      "INFO:__main__:  ✅ Completed TCGA-CK-4951_MSIH: 2514 patches processed\n",
      "Processing slides:  51%|█████▏    | 214/417 [8:19:40<66:31:36, 1179.78s/it]INFO:__main__:\n",
      "📄 Processing slide: TCGA-CK-4952_nonMSIH\n",
      "INFO:__main__:  ✅ Objective power: 40x, patch size: 1024\n",
      "INFO:__main__:  📊 Filtered patches: 2891/2896 valid non-white patches\n",
      "INFO:__main__:  🔄 Processing 2891 new patches (skipping 0 existing)\n",
      "INFO:__main__:  ✅ Completed TCGA-CK-4952_nonMSIH: 2891 patches processed\n",
      "Processing slides:  52%|█████▏    | 215/417 [8:36:54<63:45:09, 1136.19s/it]INFO:__main__:\n",
      "📄 Processing slide: TCGA-CK-5912_nonMSIH\n",
      "INFO:__main__:  ✅ Objective power: 40x, patch size: 1024\n",
      "INFO:__main__:  📊 Filtered patches: 5430/5489 valid non-white patches\n",
      "INFO:__main__:  🔄 Processing 5430 new patches (skipping 0 existing)\n",
      "INFO:__main__:  ✅ Completed TCGA-CK-5912_nonMSIH: 5430 patches processed\n",
      "Processing slides:  52%|█████▏    | 216/417 [9:06:36<74:14:50, 1329.80s/it]INFO:__main__:\n",
      "📄 Processing slide: TCGA-CK-5913_MSIH\n",
      "INFO:__main__:  ✅ Objective power: 40x, patch size: 1024\n",
      "INFO:__main__:  📊 Filtered patches: 5270/5277 valid non-white patches\n",
      "INFO:__main__:  🔄 Processing 5270 new patches (skipping 0 existing)\n",
      "INFO:__main__:  ✅ Completed TCGA-CK-5913_MSIH: 5270 patches processed\n",
      "Processing slides:  52%|█████▏    | 217/417 [9:38:07<83:14:28, 1498.34s/it]INFO:__main__:\n",
      "📄 Processing slide: TCGA-CK-5914_nonMSIH\n",
      "INFO:__main__:  ✅ Objective power: 40x, patch size: 1024\n",
      "INFO:__main__:  📊 Filtered patches: 3783/3790 valid non-white patches\n",
      "INFO:__main__:  🔄 Processing 3783 new patches (skipping 0 existing)\n",
      "INFO:__main__:  ✅ Completed TCGA-CK-5914_nonMSIH: 3783 patches processed\n",
      "Processing slides:  52%|█████▏    | 218/417 [9:59:26<79:10:50, 1432.41s/it]INFO:__main__:\n",
      "📄 Processing slide: TCGA-CK-5915_nonMSIH\n",
      "INFO:__main__:  ✅ Objective power: 40x, patch size: 1024\n",
      "INFO:__main__:  📊 Filtered patches: 6321/6322 valid non-white patches\n",
      "INFO:__main__:  🔄 Processing 6321 new patches (skipping 0 existing)\n",
      "INFO:__main__:  ✅ Completed TCGA-CK-5915_nonMSIH: 6321 patches processed\n",
      "Processing slides:  53%|█████▎    | 219/417 [10:30:03<85:27:37, 1553.83s/it]INFO:__main__:\n",
      "📄 Processing slide: TCGA-CK-5916_MSIH\n",
      "INFO:__main__:  ✅ Objective power: 40x, patch size: 1024\n",
      "INFO:__main__:  📊 Filtered patches: 5885/5914 valid non-white patches\n",
      "INFO:__main__:  🔄 Processing 5885 new patches (skipping 0 existing)\n",
      "INFO:__main__:  ✅ Completed TCGA-CK-5916_MSIH: 5885 patches processed\n",
      "Processing slides:  53%|█████▎    | 220/417 [10:55:11<84:16:13, 1539.97s/it]INFO:__main__:\n",
      "📄 Processing slide: TCGA-CK-6746_MSIH\n",
      "INFO:__main__:  ✅ Objective power: 40x, patch size: 1024\n",
      "INFO:__main__:  📊 Filtered patches: 4006/4033 valid non-white patches\n",
      "INFO:__main__:  🔄 Processing 4006 new patches (skipping 0 existing)\n",
      "INFO:__main__:  ✅ Completed TCGA-CK-6746_MSIH: 4006 patches processed\n",
      "Processing slides:  53%|█████▎    | 221/417 [11:14:29<77:36:32, 1425.47s/it]INFO:__main__:\n",
      "📄 Processing slide: TCGA-CK-6747_MSIH\n",
      "INFO:__main__:  ✅ Objective power: 40x, patch size: 1024\n",
      "INFO:__main__:  📊 Filtered patches: 4789/4798 valid non-white patches\n",
      "INFO:__main__:  🔄 Processing 4789 new patches (skipping 0 existing)\n",
      "INFO:__main__:  ✅ Completed TCGA-CK-6747_MSIH: 4789 patches processed\n",
      "Processing slides:  53%|█████▎    | 222/417 [11:40:56<79:50:14, 1473.92s/it]INFO:__main__:\n",
      "📄 Processing slide: TCGA-CK-6748_nonMSIH\n",
      "INFO:__main__:  ✅ Objective power: 40x, patch size: 1024\n",
      "INFO:__main__:  📊 Filtered patches: 4901/4931 valid non-white patches\n",
      "INFO:__main__:  🔄 Processing 4901 new patches (skipping 0 existing)\n",
      "INFO:__main__:  ✅ Completed TCGA-CK-6748_nonMSIH: 4901 patches processed\n",
      "Processing slides:  53%|█████▎    | 223/417 [12:06:40<80:34:01, 1495.06s/it]INFO:__main__:\n",
      "📄 Processing slide: TCGA-CK-6751_nonMSIH\n",
      "INFO:__main__:  ✅ Objective power: 40x, patch size: 1024\n",
      "INFO:__main__:  📊 Filtered patches: 2629/2634 valid non-white patches\n",
      "INFO:__main__:  🔄 Processing 2629 new patches (skipping 0 existing)\n",
      "INFO:__main__:  ✅ Completed TCGA-CK-6751_nonMSIH: 2629 patches processed\n",
      "Processing slides:  54%|█████▎    | 224/417 [12:20:51<69:47:28, 1301.81s/it]INFO:__main__:\n",
      "📄 Processing slide: TCGA-CL-4957_nonMSIH\n",
      "INFO:__main__:  ✅ Objective power: 40x, patch size: 1024\n",
      "INFO:__main__:  📊 Filtered patches: 3681/3684 valid non-white patches\n",
      "INFO:__main__:  🔄 Processing 3681 new patches (skipping 0 existing)\n",
      "ERROR:__main__:Error saving D:\\Aamir Gulzar\\KSA_project2\\dataset\\patch_data\\TCGA-CL-4957_nonMSIH\\TCGA-CL-4957_nonMSIH_x33360_y14400_patch02000.png: [enforce fail at ..\\caffe2\\serialize\\inline_container.cc:337] . unexpected pos 448 vs 304\n",
      "ERROR:__main__:Error saving D:\\Aamir Gulzar\\KSA_project2\\dataset\\patch_data\\TCGA-CL-4957_nonMSIH\\TCGA-CL-4957_nonMSIH_x33360_y14912_patch02001.png: [enforce fail at ..\\caffe2\\serialize\\inline_container.cc:337] . unexpected pos 448 vs 306\n",
      "ERROR:__main__:Error saving D:\\Aamir Gulzar\\KSA_project2\\dataset\\patch_data\\TCGA-CL-4957_nonMSIH\\TCGA-CL-4957_nonMSIH_x33360_y13376_patch01998.png: [enforce fail at ..\\caffe2\\serialize\\inline_container.cc:337] . unexpected pos 448 vs 304\n",
      "ERROR:__main__:Error saving D:\\Aamir Gulzar\\KSA_project2\\dataset\\patch_data\\TCGA-CL-4957_nonMSIH\\TCGA-CL-4957_nonMSIH_x33360_y15424_patch02002.png: [enforce fail at ..\\caffe2\\serialize\\inline_container.cc:337] . unexpected pos 448 vs 306\n",
      "ERROR:__main__:Error saving D:\\Aamir Gulzar\\KSA_project2\\dataset\\patch_data\\TCGA-CL-4957_nonMSIH\\TCGA-CL-4957_nonMSIH_x33360_y15936_patch02003.png: [enforce fail at ..\\caffe2\\serialize\\inline_container.cc:337] . unexpected pos 448 vs 306\n",
      "ERROR:__main__:Error saving D:\\Aamir Gulzar\\KSA_project2\\dataset\\patch_data\\TCGA-CL-4957_nonMSIH\\TCGA-CL-4957_nonMSIH_x33360_y16448_patch02004.png: [enforce fail at ..\\caffe2\\serialize\\inline_container.cc:337] . unexpected pos 448 vs 306\n",
      "ERROR:__main__:Error saving D:\\Aamir Gulzar\\KSA_project2\\dataset\\patch_data\\TCGA-CL-4957_nonMSIH\\TCGA-CL-4957_nonMSIH_x33360_y16960_patch02005.png: [enforce fail at ..\\caffe2\\serialize\\inline_container.cc:337] . unexpected pos 448 vs 306\n",
      "ERROR:__main__:Error saving D:\\Aamir Gulzar\\KSA_project2\\dataset\\patch_data\\TCGA-CL-4957_nonMSIH\\TCGA-CL-4957_nonMSIH_x33360_y17472_patch02006.png: [enforce fail at ..\\caffe2\\serialize\\inline_container.cc:337] . unexpected pos 448 vs 306\n",
      "ERROR:__main__:Error saving D:\\Aamir Gulzar\\KSA_project2\\dataset\\patch_data\\TCGA-CL-4957_nonMSIH\\TCGA-CL-4957_nonMSIH_x33360_y17984_patch02007.png: [enforce fail at ..\\caffe2\\serialize\\inline_container.cc:337] . unexpected pos 448 vs 306\n",
      "ERROR:__main__:Error saving D:\\Aamir Gulzar\\KSA_project2\\dataset\\patch_data\\TCGA-CL-4957_nonMSIH\\TCGA-CL-4957_nonMSIH_x33360_y18496_patch02008.png: [enforce fail at ..\\caffe2\\serialize\\inline_container.cc:337] . unexpected pos 448 vs 303\n",
      "ERROR:__main__:Error saving D:\\Aamir Gulzar\\KSA_project2\\dataset\\patch_data\\TCGA-CL-4957_nonMSIH\\TCGA-CL-4957_nonMSIH_x33360_y19008_patch02009.png: [enforce fail at ..\\caffe2\\serialize\\inline_container.cc:337] . unexpected pos 448 vs 304\n",
      "ERROR:__main__:Error saving D:\\Aamir Gulzar\\KSA_project2\\dataset\\patch_data\\TCGA-CL-4957_nonMSIH\\TCGA-CL-4957_nonMSIH_x33360_y19520_patch02010.png: [enforce fail at ..\\caffe2\\serialize\\inline_container.cc:337] . unexpected pos 448 vs 304\n",
      "ERROR:__main__:Error saving D:\\Aamir Gulzar\\KSA_project2\\dataset\\patch_data\\TCGA-CL-4957_nonMSIH\\TCGA-CL-4957_nonMSIH_x33360_y20032_patch02011.png: [enforce fail at ..\\caffe2\\serialize\\inline_container.cc:337] . unexpected pos 448 vs 304\n",
      "ERROR:__main__:Error saving D:\\Aamir Gulzar\\KSA_project2\\dataset\\patch_data\\TCGA-CL-4957_nonMSIH\\TCGA-CL-4957_nonMSIH_x33360_y20544_patch02012.png: [enforce fail at ..\\caffe2\\serialize\\inline_container.cc:337] . unexpected pos 448 vs 304\n",
      "ERROR:__main__:Error saving D:\\Aamir Gulzar\\KSA_project2\\dataset\\patch_data\\TCGA-CL-4957_nonMSIH\\TCGA-CL-4957_nonMSIH_x33360_y21056_patch02013.png: [enforce fail at ..\\caffe2\\serialize\\inline_container.cc:337] . unexpected pos 448 vs 304\n",
      "ERROR:__main__:Error saving D:\\Aamir Gulzar\\KSA_project2\\dataset\\patch_data\\TCGA-CL-4957_nonMSIH\\TCGA-CL-4957_nonMSIH_x33360_y21568_patch02014.png: [enforce fail at ..\\caffe2\\serialize\\inline_container.cc:337] . unexpected pos 448 vs 304\n",
      "ERROR:__main__:Error saving D:\\Aamir Gulzar\\KSA_project2\\dataset\\patch_data\\TCGA-CL-4957_nonMSIH\\TCGA-CL-4957_nonMSIH_x33360_y22080_patch02015.png: [enforce fail at ..\\caffe2\\serialize\\inline_container.cc:337] . unexpected pos 448 vs 304\n",
      "ERROR:__main__:Error saving D:\\Aamir Gulzar\\KSA_project2\\dataset\\patch_data\\TCGA-CL-4957_nonMSIH\\TCGA-CL-4957_nonMSIH_x33360_y22592_patch02016.png: [enforce fail at ..\\caffe2\\serialize\\inline_container.cc:337] . unexpected pos 448 vs 304\n",
      "ERROR:__main__:Error saving D:\\Aamir Gulzar\\KSA_project2\\dataset\\patch_data\\TCGA-CL-4957_nonMSIH\\TCGA-CL-4957_nonMSIH_x33360_y23104_patch02017.png: [enforce fail at ..\\caffe2\\serialize\\inline_container.cc:337] . unexpected pos 448 vs 306\n",
      "ERROR:__main__:Error saving D:\\Aamir Gulzar\\KSA_project2\\dataset\\patch_data\\TCGA-CL-4957_nonMSIH\\TCGA-CL-4957_nonMSIH_x33360_y23616_patch02018.png: [enforce fail at ..\\caffe2\\serialize\\inline_container.cc:337] . unexpected pos 448 vs 306\n",
      "ERROR:__main__:Error saving D:\\Aamir Gulzar\\KSA_project2\\dataset\\patch_data\\TCGA-CL-4957_nonMSIH\\TCGA-CL-4957_nonMSIH_x33360_y24640_patch02019.png: [enforce fail at ..\\caffe2\\serialize\\inline_container.cc:337] . unexpected pos 448 vs 306\n",
      "ERROR:__main__:Error saving D:\\Aamir Gulzar\\KSA_project2\\dataset\\patch_data\\TCGA-CL-4957_nonMSIH\\TCGA-CL-4957_nonMSIH_x33360_y6208_patch01984.png: [enforce fail at ..\\caffe2\\serialize\\inline_container.cc:337] . unexpected pos 448 vs 306\n",
      "ERROR:__main__:Error saving D:\\Aamir Gulzar\\KSA_project2\\dataset\\patch_data\\TCGA-CL-4957_nonMSIH\\TCGA-CL-4957_nonMSIH_x33360_y6720_patch01985.png: [enforce fail at ..\\caffe2\\serialize\\inline_container.cc:337] . unexpected pos 448 vs 306\n",
      "ERROR:__main__:Error saving D:\\Aamir Gulzar\\KSA_project2\\dataset\\patch_data\\TCGA-CL-4957_nonMSIH\\TCGA-CL-4957_nonMSIH_x33360_y7232_patch01986.png: [enforce fail at ..\\caffe2\\serialize\\inline_container.cc:337] . unexpected pos 448 vs 306\n",
      "ERROR:__main__:Error saving D:\\Aamir Gulzar\\KSA_project2\\dataset\\patch_data\\TCGA-CL-4957_nonMSIH\\TCGA-CL-4957_nonMSIH_x33360_y7744_patch01987.png: [enforce fail at ..\\caffe2\\serialize\\inline_container.cc:337] . unexpected pos 448 vs 306\n",
      "ERROR:__main__:Error saving D:\\Aamir Gulzar\\KSA_project2\\dataset\\patch_data\\TCGA-CL-4957_nonMSIH\\TCGA-CL-4957_nonMSIH_x33360_y8256_patch01988.png: [enforce fail at ..\\caffe2\\serialize\\inline_container.cc:337] . unexpected pos 448 vs 303\n",
      "ERROR:__main__:Error saving D:\\Aamir Gulzar\\KSA_project2\\dataset\\patch_data\\TCGA-CL-4957_nonMSIH\\TCGA-CL-4957_nonMSIH_x33360_y8768_patch01989.png: [enforce fail at ..\\caffe2\\serialize\\inline_container.cc:337] . unexpected pos 448 vs 304\n",
      "ERROR:__main__:Error saving D:\\Aamir Gulzar\\KSA_project2\\dataset\\patch_data\\TCGA-CL-4957_nonMSIH\\TCGA-CL-4957_nonMSIH_x33872_y10304_patch02028.png: [enforce fail at ..\\caffe2\\serialize\\inline_container.cc:337] . unexpected pos 448 vs 304\n",
      "ERROR:__main__:Error saving D:\\Aamir Gulzar\\KSA_project2\\dataset\\patch_data\\TCGA-CL-4957_nonMSIH\\TCGA-CL-4957_nonMSIH_x33360_y9280_patch01990.png: [enforce fail at ..\\caffe2\\serialize\\inline_container.cc:337] . unexpected pos 448 vs 304\n",
      "ERROR:__main__:Error saving D:\\Aamir Gulzar\\KSA_project2\\dataset\\patch_data\\TCGA-CL-4957_nonMSIH\\TCGA-CL-4957_nonMSIH_x33360_y9792_patch01991.png: [enforce fail at ..\\caffe2\\serialize\\inline_container.cc:337] . unexpected pos 448 vs 304\n",
      "ERROR:__main__:Error saving D:\\Aamir Gulzar\\KSA_project2\\dataset\\patch_data\\TCGA-CL-4957_nonMSIH\\TCGA-CL-4957_nonMSIH_x33872_y10816_patch02029.png: [enforce fail at ..\\caffe2\\serialize\\inline_container.cc:337] . unexpected pos 448 vs 304\n",
      "ERROR:__main__:Error saving D:\\Aamir Gulzar\\KSA_project2\\dataset\\patch_data\\TCGA-CL-4957_nonMSIH\\TCGA-CL-4957_nonMSIH_x33872_y11328_patch02030.png: [enforce fail at ..\\caffe2\\serialize\\inline_container.cc:337] . unexpected pos 448 vs 304\n",
      "ERROR:__main__:Error saving D:\\Aamir Gulzar\\KSA_project2\\dataset\\patch_data\\TCGA-CL-4957_nonMSIH\\TCGA-CL-4957_nonMSIH_x33872_y11840_patch02031.png: [enforce fail at ..\\caffe2\\serialize\\inline_container.cc:337] . unexpected pos 448 vs 304\n",
      "ERROR:__main__:Error saving D:\\Aamir Gulzar\\KSA_project2\\dataset\\patch_data\\TCGA-CL-4957_nonMSIH\\TCGA-CL-4957_nonMSIH_x33872_y12352_patch02032.png: [enforce fail at ..\\caffe2\\serialize\\inline_container.cc:337] . unexpected pos 448 vs 304\n",
      "ERROR:__main__:Error saving D:\\Aamir Gulzar\\KSA_project2\\dataset\\patch_data\\TCGA-CL-4957_nonMSIH\\TCGA-CL-4957_nonMSIH_x33872_y12864_patch02033.png: [enforce fail at ..\\caffe2\\serialize\\inline_container.cc:337] . unexpected pos 448 vs 306\n",
      "ERROR:__main__:Error saving D:\\Aamir Gulzar\\KSA_project2\\dataset\\patch_data\\TCGA-CL-4957_nonMSIH\\TCGA-CL-4957_nonMSIH_x33872_y13376_patch02034.png: [enforce fail at ..\\caffe2\\serialize\\inline_container.cc:337] . unexpected pos 448 vs 306\n",
      "ERROR:__main__:Error saving D:\\Aamir Gulzar\\KSA_project2\\dataset\\patch_data\\TCGA-CL-4957_nonMSIH\\TCGA-CL-4957_nonMSIH_x33872_y13888_patch02035.png: [enforce fail at ..\\caffe2\\serialize\\inline_container.cc:337] . unexpected pos 448 vs 306\n",
      "ERROR:__main__:Error saving D:\\Aamir Gulzar\\KSA_project2\\dataset\\patch_data\\TCGA-CL-4957_nonMSIH\\TCGA-CL-4957_nonMSIH_x33872_y14400_patch02036.png: [enforce fail at ..\\caffe2\\serialize\\inline_container.cc:337] . unexpected pos 448 vs 306\n",
      "ERROR:__main__:Error saving D:\\Aamir Gulzar\\KSA_project2\\dataset\\patch_data\\TCGA-CL-4957_nonMSIH\\TCGA-CL-4957_nonMSIH_x33872_y14912_patch02037.png: [enforce fail at ..\\caffe2\\serialize\\inline_container.cc:337] . unexpected pos 448 vs 306\n",
      "ERROR:__main__:Error saving D:\\Aamir Gulzar\\KSA_project2\\dataset\\patch_data\\TCGA-CL-4957_nonMSIH\\TCGA-CL-4957_nonMSIH_x33872_y15424_patch02038.png: [enforce fail at ..\\caffe2\\serialize\\inline_container.cc:337] . unexpected pos 448 vs 306\n",
      "ERROR:__main__:Error saving D:\\Aamir Gulzar\\KSA_project2\\dataset\\patch_data\\TCGA-CL-4957_nonMSIH\\TCGA-CL-4957_nonMSIH_x33872_y15936_patch02039.png: [enforce fail at ..\\caffe2\\serialize\\inline_container.cc:337] . unexpected pos 448 vs 306\n",
      "ERROR:__main__:Error saving D:\\Aamir Gulzar\\KSA_project2\\dataset\\patch_data\\TCGA-CL-4957_nonMSIH\\TCGA-CL-4957_nonMSIH_x33872_y16448_patch02040.png: [enforce fail at ..\\caffe2\\serialize\\inline_container.cc:337] . unexpected pos 448 vs 303\n",
      "ERROR:__main__:Error saving D:\\Aamir Gulzar\\KSA_project2\\dataset\\patch_data\\TCGA-CL-4957_nonMSIH\\TCGA-CL-4957_nonMSIH_x33872_y16960_patch02041.png: [enforce fail at ..\\caffe2\\serialize\\inline_container.cc:337] . unexpected pos 448 vs 304\n",
      "ERROR:__main__:Error saving D:\\Aamir Gulzar\\KSA_project2\\dataset\\patch_data\\TCGA-CL-4957_nonMSIH\\TCGA-CL-4957_nonMSIH_x33872_y17472_patch02042.png: [enforce fail at ..\\caffe2\\serialize\\inline_container.cc:337] . unexpected pos 448 vs 304\n",
      "ERROR:__main__:Error saving D:\\Aamir Gulzar\\KSA_project2\\dataset\\patch_data\\TCGA-CL-4957_nonMSIH\\TCGA-CL-4957_nonMSIH_x33872_y18496_patch02044.png: [enforce fail at ..\\caffe2\\serialize\\inline_container.cc:337] . unexpected pos 448 vs 304\n",
      "ERROR:__main__:Error saving D:\\Aamir Gulzar\\KSA_project2\\dataset\\patch_data\\TCGA-CL-4957_nonMSIH\\TCGA-CL-4957_nonMSIH_x33872_y19008_patch02045.png: [enforce fail at ..\\caffe2\\serialize\\inline_container.cc:337] . unexpected pos 448 vs 304\n",
      "ERROR:__main__:Error saving D:\\Aamir Gulzar\\KSA_project2\\dataset\\patch_data\\TCGA-CL-4957_nonMSIH\\TCGA-CL-4957_nonMSIH_x33872_y17984_patch02043.png: [enforce fail at ..\\caffe2\\serialize\\inline_container.cc:337] . unexpected pos 448 vs 304\n",
      "ERROR:__main__:Error saving D:\\Aamir Gulzar\\KSA_project2\\dataset\\patch_data\\TCGA-CL-4957_nonMSIH\\TCGA-CL-4957_nonMSIH_x33872_y19520_patch02046.png: [enforce fail at ..\\caffe2\\serialize\\inline_container.cc:337] . unexpected pos 448 vs 304\n",
      "ERROR:__main__:Error saving D:\\Aamir Gulzar\\KSA_project2\\dataset\\patch_data\\TCGA-CL-4957_nonMSIH\\TCGA-CL-4957_nonMSIH_x33872_y20032_patch02047.png: [enforce fail at ..\\caffe2\\serialize\\inline_container.cc:337] . unexpected pos 448 vs 304\n",
      "ERROR:__main__:Error saving D:\\Aamir Gulzar\\KSA_project2\\dataset\\patch_data\\TCGA-CL-4957_nonMSIH\\TCGA-CL-4957_nonMSIH_x33872_y20544_patch02048.png: [enforce fail at ..\\caffe2\\serialize\\inline_container.cc:337] . unexpected pos 448 vs 304\n",
      "ERROR:__main__:Error saving D:\\Aamir Gulzar\\KSA_project2\\dataset\\patch_data\\TCGA-CL-4957_nonMSIH\\TCGA-CL-4957_nonMSIH_x33872_y21056_patch02049.png: [enforce fail at ..\\caffe2\\serialize\\inline_container.cc:337] . unexpected pos 448 vs 306\n",
      "ERROR:__main__:Error saving D:\\Aamir Gulzar\\KSA_project2\\dataset\\patch_data\\TCGA-CL-4957_nonMSIH\\TCGA-CL-4957_nonMSIH_x33872_y21568_patch02050.png: [enforce fail at ..\\caffe2\\serialize\\inline_container.cc:337] . unexpected pos 448 vs 306\n",
      "ERROR:__main__:Error saving D:\\Aamir Gulzar\\KSA_project2\\dataset\\patch_data\\TCGA-CL-4957_nonMSIH\\TCGA-CL-4957_nonMSIH_x33872_y22080_patch02051.png: [enforce fail at ..\\caffe2\\serialize\\inline_container.cc:337] . unexpected pos 448 vs 306\n",
      "ERROR:__main__:Error saving D:\\Aamir Gulzar\\KSA_project2\\dataset\\patch_data\\TCGA-CL-4957_nonMSIH\\TCGA-CL-4957_nonMSIH_x33872_y22592_patch02052.png: [enforce fail at ..\\caffe2\\serialize\\inline_container.cc:337] . unexpected pos 448 vs 306\n",
      "ERROR:__main__:Error saving D:\\Aamir Gulzar\\KSA_project2\\dataset\\patch_data\\TCGA-CL-4957_nonMSIH\\TCGA-CL-4957_nonMSIH_x33872_y23104_patch02053.png: [enforce fail at ..\\caffe2\\serialize\\inline_container.cc:337] . unexpected pos 448 vs 306\n",
      "ERROR:__main__:Error saving D:\\Aamir Gulzar\\KSA_project2\\dataset\\patch_data\\TCGA-CL-4957_nonMSIH\\TCGA-CL-4957_nonMSIH_x33872_y23616_patch02054.png: [enforce fail at ..\\caffe2\\serialize\\inline_container.cc:337] . unexpected pos 448 vs 306\n",
      "ERROR:__main__:Error saving D:\\Aamir Gulzar\\KSA_project2\\dataset\\patch_data\\TCGA-CL-4957_nonMSIH\\TCGA-CL-4957_nonMSIH_x33872_y24128_patch02055.png: [enforce fail at ..\\caffe2\\serialize\\inline_container.cc:337] . unexpected pos 448 vs 306\n",
      "ERROR:__main__:Error saving D:\\Aamir Gulzar\\KSA_project2\\dataset\\patch_data\\TCGA-CL-4957_nonMSIH\\TCGA-CL-4957_nonMSIH_x33872_y24640_patch02056.png: [enforce fail at ..\\caffe2\\serialize\\inline_container.cc:337] . unexpected pos 448 vs 303\n",
      "ERROR:__main__:Error saving D:\\Aamir Gulzar\\KSA_project2\\dataset\\patch_data\\TCGA-CL-4957_nonMSIH\\TCGA-CL-4957_nonMSIH_x33872_y25152_patch02057.png: File D:\\Aamir Gulzar\\KSA_project2\\dataset\\Features\\Uni_2h_fivecrop\\TCGA-CL-4957_nonMSIH\\TCGA-CL-4957_nonMSIH_x33872_y25152_patch02057.pt cannot be opened.\n",
      "ERROR:__main__:Error saving D:\\Aamir Gulzar\\KSA_project2\\dataset\\patch_data\\TCGA-CL-4957_nonMSIH\\TCGA-CL-4957_nonMSIH_x33872_y6720_patch02021.png: File D:\\Aamir Gulzar\\KSA_project2\\dataset\\Features\\Uni_2h_fivecrop\\TCGA-CL-4957_nonMSIH\\TCGA-CL-4957_nonMSIH_x33872_y6720_patch02021.pt cannot be opened.\n",
      "ERROR:__main__:Error saving D:\\Aamir Gulzar\\KSA_project2\\dataset\\patch_data\\TCGA-CL-4957_nonMSIH\\TCGA-CL-4957_nonMSIH_x33872_y6208_patch02020.png: File D:\\Aamir Gulzar\\KSA_project2\\dataset\\Features\\Uni_2h_fivecrop\\TCGA-CL-4957_nonMSIH\\TCGA-CL-4957_nonMSIH_x33872_y6208_patch02020.pt cannot be opened.\n",
      "ERROR:__main__:Error saving D:\\Aamir Gulzar\\KSA_project2\\dataset\\patch_data\\TCGA-CL-4957_nonMSIH\\TCGA-CL-4957_nonMSIH_x33872_y7232_patch02022.png: File D:\\Aamir Gulzar\\KSA_project2\\dataset\\Features\\Uni_2h_fivecrop\\TCGA-CL-4957_nonMSIH\\TCGA-CL-4957_nonMSIH_x33872_y7232_patch02022.pt cannot be opened.\n",
      "ERROR:__main__:Error saving D:\\Aamir Gulzar\\KSA_project2\\dataset\\patch_data\\TCGA-CL-4957_nonMSIH\\TCGA-CL-4957_nonMSIH_x33872_y7744_patch02023.png: File D:\\Aamir Gulzar\\KSA_project2\\dataset\\Features\\Uni_2h_fivecrop\\TCGA-CL-4957_nonMSIH\\TCGA-CL-4957_nonMSIH_x33872_y7744_patch02023.pt cannot be opened.\n",
      "ERROR:__main__:Error saving D:\\Aamir Gulzar\\KSA_project2\\dataset\\patch_data\\TCGA-CL-4957_nonMSIH\\TCGA-CL-4957_nonMSIH_x33872_y8256_patch02024.png: File D:\\Aamir Gulzar\\KSA_project2\\dataset\\Features\\Uni_2h_fivecrop\\TCGA-CL-4957_nonMSIH\\TCGA-CL-4957_nonMSIH_x33872_y8256_patch02024.pt cannot be opened.\n",
      "ERROR:__main__:Error saving D:\\Aamir Gulzar\\KSA_project2\\dataset\\patch_data\\TCGA-CL-4957_nonMSIH\\TCGA-CL-4957_nonMSIH_x33872_y8768_patch02025.png: File D:\\Aamir Gulzar\\KSA_project2\\dataset\\Features\\Uni_2h_fivecrop\\TCGA-CL-4957_nonMSIH\\TCGA-CL-4957_nonMSIH_x33872_y8768_patch02025.pt cannot be opened.\n",
      "ERROR:__main__:Error saving D:\\Aamir Gulzar\\KSA_project2\\dataset\\patch_data\\TCGA-CL-4957_nonMSIH\\TCGA-CL-4957_nonMSIH_x33872_y9280_patch02026.png: File D:\\Aamir Gulzar\\KSA_project2\\dataset\\Features\\Uni_2h_fivecrop\\TCGA-CL-4957_nonMSIH\\TCGA-CL-4957_nonMSIH_x33872_y9280_patch02026.pt cannot be opened.\n",
      "ERROR:__main__:Error saving D:\\Aamir Gulzar\\KSA_project2\\dataset\\patch_data\\TCGA-CL-4957_nonMSIH\\TCGA-CL-4957_nonMSIH_x33872_y9792_patch02027.png: File D:\\Aamir Gulzar\\KSA_project2\\dataset\\Features\\Uni_2h_fivecrop\\TCGA-CL-4957_nonMSIH\\TCGA-CL-4957_nonMSIH_x33872_y9792_patch02027.pt cannot be opened.\n",
      "ERROR:__main__:Error saving D:\\Aamir Gulzar\\KSA_project2\\dataset\\patch_data\\TCGA-CL-4957_nonMSIH\\TCGA-CL-4957_nonMSIH_x34384_y10304_patch02066.png: File D:\\Aamir Gulzar\\KSA_project2\\dataset\\Features\\Uni_2h_fivecrop\\TCGA-CL-4957_nonMSIH\\TCGA-CL-4957_nonMSIH_x34384_y10304_patch02066.pt cannot be opened.\n",
      "ERROR:__main__:Error saving D:\\Aamir Gulzar\\KSA_project2\\dataset\\patch_data\\TCGA-CL-4957_nonMSIH\\TCGA-CL-4957_nonMSIH_x34384_y11328_patch02068.png: File D:\\Aamir Gulzar\\KSA_project2\\dataset\\Features\\Uni_2h_fivecrop\\TCGA-CL-4957_nonMSIH\\TCGA-CL-4957_nonMSIH_x34384_y11328_patch02068.pt cannot be opened.\n",
      "ERROR:__main__:Error saving D:\\Aamir Gulzar\\KSA_project2\\dataset\\patch_data\\TCGA-CL-4957_nonMSIH\\TCGA-CL-4957_nonMSIH_x34384_y10816_patch02067.png: File D:\\Aamir Gulzar\\KSA_project2\\dataset\\Features\\Uni_2h_fivecrop\\TCGA-CL-4957_nonMSIH\\TCGA-CL-4957_nonMSIH_x34384_y10816_patch02067.pt cannot be opened.\n",
      "ERROR:__main__:Error saving D:\\Aamir Gulzar\\KSA_project2\\dataset\\patch_data\\TCGA-CL-4957_nonMSIH\\TCGA-CL-4957_nonMSIH_x34384_y11840_patch02069.png: File D:\\Aamir Gulzar\\KSA_project2\\dataset\\Features\\Uni_2h_fivecrop\\TCGA-CL-4957_nonMSIH\\TCGA-CL-4957_nonMSIH_x34384_y11840_patch02069.pt cannot be opened.\n",
      "ERROR:__main__:Error saving D:\\Aamir Gulzar\\KSA_project2\\dataset\\patch_data\\TCGA-CL-4957_nonMSIH\\TCGA-CL-4957_nonMSIH_x34384_y12352_patch02070.png: File D:\\Aamir Gulzar\\KSA_project2\\dataset\\Features\\Uni_2h_fivecrop\\TCGA-CL-4957_nonMSIH\\TCGA-CL-4957_nonMSIH_x34384_y12352_patch02070.pt cannot be opened.\n",
      "ERROR:__main__:Error saving D:\\Aamir Gulzar\\KSA_project2\\dataset\\patch_data\\TCGA-CL-4957_nonMSIH\\TCGA-CL-4957_nonMSIH_x34384_y12864_patch02071.png: File D:\\Aamir Gulzar\\KSA_project2\\dataset\\Features\\Uni_2h_fivecrop\\TCGA-CL-4957_nonMSIH\\TCGA-CL-4957_nonMSIH_x34384_y12864_patch02071.pt cannot be opened.\n",
      "ERROR:__main__:Error saving D:\\Aamir Gulzar\\KSA_project2\\dataset\\patch_data\\TCGA-CL-4957_nonMSIH\\TCGA-CL-4957_nonMSIH_x34384_y13376_patch02072.png: File D:\\Aamir Gulzar\\KSA_project2\\dataset\\Features\\Uni_2h_fivecrop\\TCGA-CL-4957_nonMSIH\\TCGA-CL-4957_nonMSIH_x34384_y13376_patch02072.pt cannot be opened.\n",
      "ERROR:__main__:Error saving D:\\Aamir Gulzar\\KSA_project2\\dataset\\patch_data\\TCGA-CL-4957_nonMSIH\\TCGA-CL-4957_nonMSIH_x34384_y13888_patch02073.png: File D:\\Aamir Gulzar\\KSA_project2\\dataset\\Features\\Uni_2h_fivecrop\\TCGA-CL-4957_nonMSIH\\TCGA-CL-4957_nonMSIH_x34384_y13888_patch02073.pt cannot be opened.\n",
      "ERROR:__main__:Error saving D:\\Aamir Gulzar\\KSA_project2\\dataset\\patch_data\\TCGA-CL-4957_nonMSIH\\TCGA-CL-4957_nonMSIH_x34384_y14400_patch02074.png: File D:\\Aamir Gulzar\\KSA_project2\\dataset\\Features\\Uni_2h_fivecrop\\TCGA-CL-4957_nonMSIH\\TCGA-CL-4957_nonMSIH_x34384_y14400_patch02074.pt cannot be opened.\n",
      "ERROR:__main__:Error saving D:\\Aamir Gulzar\\KSA_project2\\dataset\\patch_data\\TCGA-CL-4957_nonMSIH\\TCGA-CL-4957_nonMSIH_x34384_y14912_patch02075.png: File D:\\Aamir Gulzar\\KSA_project2\\dataset\\Features\\Uni_2h_fivecrop\\TCGA-CL-4957_nonMSIH\\TCGA-CL-4957_nonMSIH_x34384_y14912_patch02075.pt cannot be opened.\n",
      "ERROR:__main__:Error saving D:\\Aamir Gulzar\\KSA_project2\\dataset\\patch_data\\TCGA-CL-4957_nonMSIH\\TCGA-CL-4957_nonMSIH_x34384_y15424_patch02076.png: File D:\\Aamir Gulzar\\KSA_project2\\dataset\\Features\\Uni_2h_fivecrop\\TCGA-CL-4957_nonMSIH\\TCGA-CL-4957_nonMSIH_x34384_y15424_patch02076.pt cannot be opened.\n",
      "ERROR:__main__:Error saving D:\\Aamir Gulzar\\KSA_project2\\dataset\\patch_data\\TCGA-CL-4957_nonMSIH\\TCGA-CL-4957_nonMSIH_x34384_y15936_patch02077.png: File D:\\Aamir Gulzar\\KSA_project2\\dataset\\Features\\Uni_2h_fivecrop\\TCGA-CL-4957_nonMSIH\\TCGA-CL-4957_nonMSIH_x34384_y15936_patch02077.pt cannot be opened.\n",
      "ERROR:__main__:Error saving D:\\Aamir Gulzar\\KSA_project2\\dataset\\patch_data\\TCGA-CL-4957_nonMSIH\\TCGA-CL-4957_nonMSIH_x34384_y16448_patch02078.png: File D:\\Aamir Gulzar\\KSA_project2\\dataset\\Features\\Uni_2h_fivecrop\\TCGA-CL-4957_nonMSIH\\TCGA-CL-4957_nonMSIH_x34384_y16448_patch02078.pt cannot be opened.\n",
      "ERROR:__main__:Error saving D:\\Aamir Gulzar\\KSA_project2\\dataset\\patch_data\\TCGA-CL-4957_nonMSIH\\TCGA-CL-4957_nonMSIH_x34384_y16960_patch02079.png: File D:\\Aamir Gulzar\\KSA_project2\\dataset\\Features\\Uni_2h_fivecrop\\TCGA-CL-4957_nonMSIH\\TCGA-CL-4957_nonMSIH_x34384_y16960_patch02079.pt cannot be opened.\n",
      "ERROR:__main__:Error saving D:\\Aamir Gulzar\\KSA_project2\\dataset\\patch_data\\TCGA-CL-4957_nonMSIH\\TCGA-CL-4957_nonMSIH_x34384_y17472_patch02080.png: File D:\\Aamir Gulzar\\KSA_project2\\dataset\\Features\\Uni_2h_fivecrop\\TCGA-CL-4957_nonMSIH\\TCGA-CL-4957_nonMSIH_x34384_y17472_patch02080.pt cannot be opened.\n",
      "ERROR:__main__:Error saving D:\\Aamir Gulzar\\KSA_project2\\dataset\\patch_data\\TCGA-CL-4957_nonMSIH\\TCGA-CL-4957_nonMSIH_x34384_y17984_patch02081.png: File D:\\Aamir Gulzar\\KSA_project2\\dataset\\Features\\Uni_2h_fivecrop\\TCGA-CL-4957_nonMSIH\\TCGA-CL-4957_nonMSIH_x34384_y17984_patch02081.pt cannot be opened.\n",
      "ERROR:__main__:Error saving D:\\Aamir Gulzar\\KSA_project2\\dataset\\patch_data\\TCGA-CL-4957_nonMSIH\\TCGA-CL-4957_nonMSIH_x34384_y18496_patch02082.png: File D:\\Aamir Gulzar\\KSA_project2\\dataset\\Features\\Uni_2h_fivecrop\\TCGA-CL-4957_nonMSIH\\TCGA-CL-4957_nonMSIH_x34384_y18496_patch02082.pt cannot be opened.\n",
      "ERROR:__main__:Error saving D:\\Aamir Gulzar\\KSA_project2\\dataset\\patch_data\\TCGA-CL-4957_nonMSIH\\TCGA-CL-4957_nonMSIH_x34384_y19008_patch02083.png: File D:\\Aamir Gulzar\\KSA_project2\\dataset\\Features\\Uni_2h_fivecrop\\TCGA-CL-4957_nonMSIH\\TCGA-CL-4957_nonMSIH_x34384_y19008_patch02083.pt cannot be opened.\n",
      "ERROR:__main__:Error saving D:\\Aamir Gulzar\\KSA_project2\\dataset\\patch_data\\TCGA-CL-4957_nonMSIH\\TCGA-CL-4957_nonMSIH_x34384_y19520_patch02084.png: File D:\\Aamir Gulzar\\KSA_project2\\dataset\\Features\\Uni_2h_fivecrop\\TCGA-CL-4957_nonMSIH\\TCGA-CL-4957_nonMSIH_x34384_y19520_patch02084.pt cannot be opened.\n",
      "ERROR:__main__:Error saving D:\\Aamir Gulzar\\KSA_project2\\dataset\\patch_data\\TCGA-CL-4957_nonMSIH\\TCGA-CL-4957_nonMSIH_x34384_y20032_patch02085.png: File D:\\Aamir Gulzar\\KSA_project2\\dataset\\Features\\Uni_2h_fivecrop\\TCGA-CL-4957_nonMSIH\\TCGA-CL-4957_nonMSIH_x34384_y20032_patch02085.pt cannot be opened.\n",
      "ERROR:__main__:Error saving D:\\Aamir Gulzar\\KSA_project2\\dataset\\patch_data\\TCGA-CL-4957_nonMSIH\\TCGA-CL-4957_nonMSIH_x34384_y20544_patch02086.png: File D:\\Aamir Gulzar\\KSA_project2\\dataset\\Features\\Uni_2h_fivecrop\\TCGA-CL-4957_nonMSIH\\TCGA-CL-4957_nonMSIH_x34384_y20544_patch02086.pt cannot be opened.\n",
      "ERROR:__main__:Error saving D:\\Aamir Gulzar\\KSA_project2\\dataset\\patch_data\\TCGA-CL-4957_nonMSIH\\TCGA-CL-4957_nonMSIH_x34384_y21056_patch02087.png: File D:\\Aamir Gulzar\\KSA_project2\\dataset\\Features\\Uni_2h_fivecrop\\TCGA-CL-4957_nonMSIH\\TCGA-CL-4957_nonMSIH_x34384_y21056_patch02087.pt cannot be opened.\n",
      "ERROR:__main__:Error saving D:\\Aamir Gulzar\\KSA_project2\\dataset\\patch_data\\TCGA-CL-4957_nonMSIH\\TCGA-CL-4957_nonMSIH_x34384_y21568_patch02088.png: File D:\\Aamir Gulzar\\KSA_project2\\dataset\\Features\\Uni_2h_fivecrop\\TCGA-CL-4957_nonMSIH\\TCGA-CL-4957_nonMSIH_x34384_y21568_patch02088.pt cannot be opened.\n",
      "ERROR:__main__:Error saving D:\\Aamir Gulzar\\KSA_project2\\dataset\\patch_data\\TCGA-CL-4957_nonMSIH\\TCGA-CL-4957_nonMSIH_x34384_y22080_patch02089.png: File D:\\Aamir Gulzar\\KSA_project2\\dataset\\Features\\Uni_2h_fivecrop\\TCGA-CL-4957_nonMSIH\\TCGA-CL-4957_nonMSIH_x34384_y22080_patch02089.pt cannot be opened.\n",
      "ERROR:__main__:Error saving D:\\Aamir Gulzar\\KSA_project2\\dataset\\patch_data\\TCGA-CL-4957_nonMSIH\\TCGA-CL-4957_nonMSIH_x34384_y22592_patch02090.png: File D:\\Aamir Gulzar\\KSA_project2\\dataset\\Features\\Uni_2h_fivecrop\\TCGA-CL-4957_nonMSIH\\TCGA-CL-4957_nonMSIH_x34384_y22592_patch02090.pt cannot be opened.\n",
      "ERROR:__main__:Error saving D:\\Aamir Gulzar\\KSA_project2\\dataset\\patch_data\\TCGA-CL-4957_nonMSIH\\TCGA-CL-4957_nonMSIH_x34384_y23104_patch02091.png: File D:\\Aamir Gulzar\\KSA_project2\\dataset\\Features\\Uni_2h_fivecrop\\TCGA-CL-4957_nonMSIH\\TCGA-CL-4957_nonMSIH_x34384_y23104_patch02091.pt cannot be opened.\n",
      "ERROR:__main__:Error saving D:\\Aamir Gulzar\\KSA_project2\\dataset\\patch_data\\TCGA-CL-4957_nonMSIH\\TCGA-CL-4957_nonMSIH_x34384_y23616_patch02092.png: File D:\\Aamir Gulzar\\KSA_project2\\dataset\\Features\\Uni_2h_fivecrop\\TCGA-CL-4957_nonMSIH\\TCGA-CL-4957_nonMSIH_x34384_y23616_patch02092.pt cannot be opened.\n",
      "ERROR:__main__:Error saving D:\\Aamir Gulzar\\KSA_project2\\dataset\\patch_data\\TCGA-CL-4957_nonMSIH\\TCGA-CL-4957_nonMSIH_x34384_y24128_patch02093.png: File D:\\Aamir Gulzar\\KSA_project2\\dataset\\Features\\Uni_2h_fivecrop\\TCGA-CL-4957_nonMSIH\\TCGA-CL-4957_nonMSIH_x34384_y24128_patch02093.pt cannot be opened.\n",
      "ERROR:__main__:Error saving D:\\Aamir Gulzar\\KSA_project2\\dataset\\patch_data\\TCGA-CL-4957_nonMSIH\\TCGA-CL-4957_nonMSIH_x34384_y24640_patch02094.png: File D:\\Aamir Gulzar\\KSA_project2\\dataset\\Features\\Uni_2h_fivecrop\\TCGA-CL-4957_nonMSIH\\TCGA-CL-4957_nonMSIH_x34384_y24640_patch02094.pt cannot be opened.\n",
      "ERROR:__main__:Error saving D:\\Aamir Gulzar\\KSA_project2\\dataset\\patch_data\\TCGA-CL-4957_nonMSIH\\TCGA-CL-4957_nonMSIH_x34384_y25152_patch02095.png: File D:\\Aamir Gulzar\\KSA_project2\\dataset\\Features\\Uni_2h_fivecrop\\TCGA-CL-4957_nonMSIH\\TCGA-CL-4957_nonMSIH_x34384_y25152_patch02095.pt cannot be opened.\n",
      "ERROR:__main__:Error saving D:\\Aamir Gulzar\\KSA_project2\\dataset\\patch_data\\TCGA-CL-4957_nonMSIH\\TCGA-CL-4957_nonMSIH_x34384_y25664_patch02096.png: File D:\\Aamir Gulzar\\KSA_project2\\dataset\\Features\\Uni_2h_fivecrop\\TCGA-CL-4957_nonMSIH\\TCGA-CL-4957_nonMSIH_x34384_y25664_patch02096.pt cannot be opened.\n",
      "ERROR:__main__:Error saving D:\\Aamir Gulzar\\KSA_project2\\dataset\\patch_data\\TCGA-CL-4957_nonMSIH\\TCGA-CL-4957_nonMSIH_x34384_y6208_patch02058.png: File D:\\Aamir Gulzar\\KSA_project2\\dataset\\Features\\Uni_2h_fivecrop\\TCGA-CL-4957_nonMSIH\\TCGA-CL-4957_nonMSIH_x34384_y6208_patch02058.pt cannot be opened.\n",
      "ERROR:__main__:Error saving D:\\Aamir Gulzar\\KSA_project2\\dataset\\patch_data\\TCGA-CL-4957_nonMSIH\\TCGA-CL-4957_nonMSIH_x34384_y6720_patch02059.png: File D:\\Aamir Gulzar\\KSA_project2\\dataset\\Features\\Uni_2h_fivecrop\\TCGA-CL-4957_nonMSIH\\TCGA-CL-4957_nonMSIH_x34384_y6720_patch02059.pt cannot be opened.\n",
      "ERROR:__main__:Error saving D:\\Aamir Gulzar\\KSA_project2\\dataset\\patch_data\\TCGA-CL-4957_nonMSIH\\TCGA-CL-4957_nonMSIH_x34384_y7232_patch02060.png: File D:\\Aamir Gulzar\\KSA_project2\\dataset\\Features\\Uni_2h_fivecrop\\TCGA-CL-4957_nonMSIH\\TCGA-CL-4957_nonMSIH_x34384_y7232_patch02060.pt cannot be opened.\n",
      "ERROR:__main__:Error saving D:\\Aamir Gulzar\\KSA_project2\\dataset\\patch_data\\TCGA-CL-4957_nonMSIH\\TCGA-CL-4957_nonMSIH_x34384_y7744_patch02061.png: File D:\\Aamir Gulzar\\KSA_project2\\dataset\\Features\\Uni_2h_fivecrop\\TCGA-CL-4957_nonMSIH\\TCGA-CL-4957_nonMSIH_x34384_y7744_patch02061.pt cannot be opened.\n",
      "ERROR:__main__:Error saving D:\\Aamir Gulzar\\KSA_project2\\dataset\\patch_data\\TCGA-CL-4957_nonMSIH\\TCGA-CL-4957_nonMSIH_x34384_y8256_patch02062.png: File D:\\Aamir Gulzar\\KSA_project2\\dataset\\Features\\Uni_2h_fivecrop\\TCGA-CL-4957_nonMSIH\\TCGA-CL-4957_nonMSIH_x34384_y8256_patch02062.pt cannot be opened.\n",
      "ERROR:__main__:Error saving D:\\Aamir Gulzar\\KSA_project2\\dataset\\patch_data\\TCGA-CL-4957_nonMSIH\\TCGA-CL-4957_nonMSIH_x34384_y8768_patch02063.png: File D:\\Aamir Gulzar\\KSA_project2\\dataset\\Features\\Uni_2h_fivecrop\\TCGA-CL-4957_nonMSIH\\TCGA-CL-4957_nonMSIH_x34384_y8768_patch02063.pt cannot be opened.\n",
      "ERROR:__main__:Error saving D:\\Aamir Gulzar\\KSA_project2\\dataset\\patch_data\\TCGA-CL-4957_nonMSIH\\TCGA-CL-4957_nonMSIH_x34384_y9280_patch02064.png: File D:\\Aamir Gulzar\\KSA_project2\\dataset\\Features\\Uni_2h_fivecrop\\TCGA-CL-4957_nonMSIH\\TCGA-CL-4957_nonMSIH_x34384_y9280_patch02064.pt cannot be opened.\n",
      "ERROR:__main__:Error saving D:\\Aamir Gulzar\\KSA_project2\\dataset\\patch_data\\TCGA-CL-4957_nonMSIH\\TCGA-CL-4957_nonMSIH_x34384_y9792_patch02065.png: File D:\\Aamir Gulzar\\KSA_project2\\dataset\\Features\\Uni_2h_fivecrop\\TCGA-CL-4957_nonMSIH\\TCGA-CL-4957_nonMSIH_x34384_y9792_patch02065.pt cannot be opened.\n",
      "ERROR:__main__:Error saving D:\\Aamir Gulzar\\KSA_project2\\dataset\\patch_data\\TCGA-CL-4957_nonMSIH\\TCGA-CL-4957_nonMSIH_x34896_y10304_patch02106.png: File D:\\Aamir Gulzar\\KSA_project2\\dataset\\Features\\Uni_2h_fivecrop\\TCGA-CL-4957_nonMSIH\\TCGA-CL-4957_nonMSIH_x34896_y10304_patch02106.pt cannot be opened.\n",
      "ERROR:__main__:Error saving D:\\Aamir Gulzar\\KSA_project2\\dataset\\patch_data\\TCGA-CL-4957_nonMSIH\\TCGA-CL-4957_nonMSIH_x34896_y10816_patch02107.png: File D:\\Aamir Gulzar\\KSA_project2\\dataset\\Features\\Uni_2h_fivecrop\\TCGA-CL-4957_nonMSIH\\TCGA-CL-4957_nonMSIH_x34896_y10816_patch02107.pt cannot be opened.\n",
      "ERROR:__main__:Error saving D:\\Aamir Gulzar\\KSA_project2\\dataset\\patch_data\\TCGA-CL-4957_nonMSIH\\TCGA-CL-4957_nonMSIH_x34896_y11328_patch02108.png: File D:\\Aamir Gulzar\\KSA_project2\\dataset\\Features\\Uni_2h_fivecrop\\TCGA-CL-4957_nonMSIH\\TCGA-CL-4957_nonMSIH_x34896_y11328_patch02108.pt cannot be opened.\n",
      "ERROR:__main__:Error saving D:\\Aamir Gulzar\\KSA_project2\\dataset\\patch_data\\TCGA-CL-4957_nonMSIH\\TCGA-CL-4957_nonMSIH_x34896_y11840_patch02109.png: File D:\\Aamir Gulzar\\KSA_project2\\dataset\\Features\\Uni_2h_fivecrop\\TCGA-CL-4957_nonMSIH\\TCGA-CL-4957_nonMSIH_x34896_y11840_patch02109.pt cannot be opened.\n",
      "ERROR:__main__:Error saving D:\\Aamir Gulzar\\KSA_project2\\dataset\\patch_data\\TCGA-CL-4957_nonMSIH\\TCGA-CL-4957_nonMSIH_x34896_y12352_patch02110.png: File D:\\Aamir Gulzar\\KSA_project2\\dataset\\Features\\Uni_2h_fivecrop\\TCGA-CL-4957_nonMSIH\\TCGA-CL-4957_nonMSIH_x34896_y12352_patch02110.pt cannot be opened.\n",
      "ERROR:__main__:Error saving D:\\Aamir Gulzar\\KSA_project2\\dataset\\patch_data\\TCGA-CL-4957_nonMSIH\\TCGA-CL-4957_nonMSIH_x34896_y12864_patch02111.png: File D:\\Aamir Gulzar\\KSA_project2\\dataset\\Features\\Uni_2h_fivecrop\\TCGA-CL-4957_nonMSIH\\TCGA-CL-4957_nonMSIH_x34896_y12864_patch02111.pt cannot be opened.\n",
      "ERROR:__main__:Error saving D:\\Aamir Gulzar\\KSA_project2\\dataset\\patch_data\\TCGA-CL-4957_nonMSIH\\TCGA-CL-4957_nonMSIH_x34896_y13376_patch02112.png: File D:\\Aamir Gulzar\\KSA_project2\\dataset\\Features\\Uni_2h_fivecrop\\TCGA-CL-4957_nonMSIH\\TCGA-CL-4957_nonMSIH_x34896_y13376_patch02112.pt cannot be opened.\n",
      "ERROR:__main__:Error saving D:\\Aamir Gulzar\\KSA_project2\\dataset\\patch_data\\TCGA-CL-4957_nonMSIH\\TCGA-CL-4957_nonMSIH_x34896_y13888_patch02113.png: File D:\\Aamir Gulzar\\KSA_project2\\dataset\\Features\\Uni_2h_fivecrop\\TCGA-CL-4957_nonMSIH\\TCGA-CL-4957_nonMSIH_x34896_y13888_patch02113.pt cannot be opened.\n",
      "ERROR:__main__:Error saving D:\\Aamir Gulzar\\KSA_project2\\dataset\\patch_data\\TCGA-CL-4957_nonMSIH\\TCGA-CL-4957_nonMSIH_x34896_y14400_patch02114.png: File D:\\Aamir Gulzar\\KSA_project2\\dataset\\Features\\Uni_2h_fivecrop\\TCGA-CL-4957_nonMSIH\\TCGA-CL-4957_nonMSIH_x34896_y14400_patch02114.pt cannot be opened.\n",
      "ERROR:__main__:Error saving D:\\Aamir Gulzar\\KSA_project2\\dataset\\patch_data\\TCGA-CL-4957_nonMSIH\\TCGA-CL-4957_nonMSIH_x34896_y14912_patch02115.png: File D:\\Aamir Gulzar\\KSA_project2\\dataset\\Features\\Uni_2h_fivecrop\\TCGA-CL-4957_nonMSIH\\TCGA-CL-4957_nonMSIH_x34896_y14912_patch02115.pt cannot be opened.\n",
      "ERROR:__main__:Error saving D:\\Aamir Gulzar\\KSA_project2\\dataset\\patch_data\\TCGA-CL-4957_nonMSIH\\TCGA-CL-4957_nonMSIH_x34896_y15424_patch02116.png: File D:\\Aamir Gulzar\\KSA_project2\\dataset\\Features\\Uni_2h_fivecrop\\TCGA-CL-4957_nonMSIH\\TCGA-CL-4957_nonMSIH_x34896_y15424_patch02116.pt cannot be opened.\n",
      "ERROR:__main__:Error saving D:\\Aamir Gulzar\\KSA_project2\\dataset\\patch_data\\TCGA-CL-4957_nonMSIH\\TCGA-CL-4957_nonMSIH_x34896_y15936_patch02117.png: File D:\\Aamir Gulzar\\KSA_project2\\dataset\\Features\\Uni_2h_fivecrop\\TCGA-CL-4957_nonMSIH\\TCGA-CL-4957_nonMSIH_x34896_y15936_patch02117.pt cannot be opened.\n",
      "ERROR:__main__:Error saving D:\\Aamir Gulzar\\KSA_project2\\dataset\\patch_data\\TCGA-CL-4957_nonMSIH\\TCGA-CL-4957_nonMSIH_x34896_y16448_patch02118.png: File D:\\Aamir Gulzar\\KSA_project2\\dataset\\Features\\Uni_2h_fivecrop\\TCGA-CL-4957_nonMSIH\\TCGA-CL-4957_nonMSIH_x34896_y16448_patch02118.pt cannot be opened.\n",
      "ERROR:__main__:Error saving D:\\Aamir Gulzar\\KSA_project2\\dataset\\patch_data\\TCGA-CL-4957_nonMSIH\\TCGA-CL-4957_nonMSIH_x34896_y16960_patch02119.png: File D:\\Aamir Gulzar\\KSA_project2\\dataset\\Features\\Uni_2h_fivecrop\\TCGA-CL-4957_nonMSIH\\TCGA-CL-4957_nonMSIH_x34896_y16960_patch02119.pt cannot be opened.\n",
      "ERROR:__main__:Error saving D:\\Aamir Gulzar\\KSA_project2\\dataset\\patch_data\\TCGA-CL-4957_nonMSIH\\TCGA-CL-4957_nonMSIH_x34896_y17472_patch02120.png: File D:\\Aamir Gulzar\\KSA_project2\\dataset\\Features\\Uni_2h_fivecrop\\TCGA-CL-4957_nonMSIH\\TCGA-CL-4957_nonMSIH_x34896_y17472_patch02120.pt cannot be opened.\n",
      "ERROR:__main__:Error saving D:\\Aamir Gulzar\\KSA_project2\\dataset\\patch_data\\TCGA-CL-4957_nonMSIH\\TCGA-CL-4957_nonMSIH_x34896_y17984_patch02121.png: File D:\\Aamir Gulzar\\KSA_project2\\dataset\\Features\\Uni_2h_fivecrop\\TCGA-CL-4957_nonMSIH\\TCGA-CL-4957_nonMSIH_x34896_y17984_patch02121.pt cannot be opened.\n",
      "ERROR:__main__:Error saving D:\\Aamir Gulzar\\KSA_project2\\dataset\\patch_data\\TCGA-CL-4957_nonMSIH\\TCGA-CL-4957_nonMSIH_x34896_y18496_patch02122.png: File D:\\Aamir Gulzar\\KSA_project2\\dataset\\Features\\Uni_2h_fivecrop\\TCGA-CL-4957_nonMSIH\\TCGA-CL-4957_nonMSIH_x34896_y18496_patch02122.pt cannot be opened.\n",
      "ERROR:__main__:Error saving D:\\Aamir Gulzar\\KSA_project2\\dataset\\patch_data\\TCGA-CL-4957_nonMSIH\\TCGA-CL-4957_nonMSIH_x34896_y19520_patch02124.png: File D:\\Aamir Gulzar\\KSA_project2\\dataset\\Features\\Uni_2h_fivecrop\\TCGA-CL-4957_nonMSIH\\TCGA-CL-4957_nonMSIH_x34896_y19520_patch02124.pt cannot be opened.\n",
      "ERROR:__main__:Error saving D:\\Aamir Gulzar\\KSA_project2\\dataset\\patch_data\\TCGA-CL-4957_nonMSIH\\TCGA-CL-4957_nonMSIH_x34896_y19008_patch02123.png: File D:\\Aamir Gulzar\\KSA_project2\\dataset\\Features\\Uni_2h_fivecrop\\TCGA-CL-4957_nonMSIH\\TCGA-CL-4957_nonMSIH_x34896_y19008_patch02123.pt cannot be opened.\n",
      "ERROR:__main__:Error saving D:\\Aamir Gulzar\\KSA_project2\\dataset\\patch_data\\TCGA-CL-4957_nonMSIH\\TCGA-CL-4957_nonMSIH_x34896_y20032_patch02125.png: File D:\\Aamir Gulzar\\KSA_project2\\dataset\\Features\\Uni_2h_fivecrop\\TCGA-CL-4957_nonMSIH\\TCGA-CL-4957_nonMSIH_x34896_y20032_patch02125.pt cannot be opened.\n",
      "ERROR:__main__:Error saving D:\\Aamir Gulzar\\KSA_project2\\dataset\\patch_data\\TCGA-CL-4957_nonMSIH\\TCGA-CL-4957_nonMSIH_x34896_y20544_patch02126.png: File D:\\Aamir Gulzar\\KSA_project2\\dataset\\Features\\Uni_2h_fivecrop\\TCGA-CL-4957_nonMSIH\\TCGA-CL-4957_nonMSIH_x34896_y20544_patch02126.pt cannot be opened.\n",
      "ERROR:__main__:Error saving D:\\Aamir Gulzar\\KSA_project2\\dataset\\patch_data\\TCGA-CL-4957_nonMSIH\\TCGA-CL-4957_nonMSIH_x34896_y21056_patch02127.png: File D:\\Aamir Gulzar\\KSA_project2\\dataset\\Features\\Uni_2h_fivecrop\\TCGA-CL-4957_nonMSIH\\TCGA-CL-4957_nonMSIH_x34896_y21056_patch02127.pt cannot be opened.\n",
      "ERROR:__main__:Error saving D:\\Aamir Gulzar\\KSA_project2\\dataset\\patch_data\\TCGA-CL-4957_nonMSIH\\TCGA-CL-4957_nonMSIH_x34896_y21568_patch02128.png: File D:\\Aamir Gulzar\\KSA_project2\\dataset\\Features\\Uni_2h_fivecrop\\TCGA-CL-4957_nonMSIH\\TCGA-CL-4957_nonMSIH_x34896_y21568_patch02128.pt cannot be opened.\n",
      "ERROR:__main__:Error saving D:\\Aamir Gulzar\\KSA_project2\\dataset\\patch_data\\TCGA-CL-4957_nonMSIH\\TCGA-CL-4957_nonMSIH_x34896_y22080_patch02129.png: File D:\\Aamir Gulzar\\KSA_project2\\dataset\\Features\\Uni_2h_fivecrop\\TCGA-CL-4957_nonMSIH\\TCGA-CL-4957_nonMSIH_x34896_y22080_patch02129.pt cannot be opened.\n",
      "ERROR:__main__:Error saving D:\\Aamir Gulzar\\KSA_project2\\dataset\\patch_data\\TCGA-CL-4957_nonMSIH\\TCGA-CL-4957_nonMSIH_x34896_y22592_patch02130.png: File D:\\Aamir Gulzar\\KSA_project2\\dataset\\Features\\Uni_2h_fivecrop\\TCGA-CL-4957_nonMSIH\\TCGA-CL-4957_nonMSIH_x34896_y22592_patch02130.pt cannot be opened.\n",
      "ERROR:__main__:Error saving D:\\Aamir Gulzar\\KSA_project2\\dataset\\patch_data\\TCGA-CL-4957_nonMSIH\\TCGA-CL-4957_nonMSIH_x34896_y23104_patch02131.png: File D:\\Aamir Gulzar\\KSA_project2\\dataset\\Features\\Uni_2h_fivecrop\\TCGA-CL-4957_nonMSIH\\TCGA-CL-4957_nonMSIH_x34896_y23104_patch02131.pt cannot be opened.\n",
      "ERROR:__main__:Error saving D:\\Aamir Gulzar\\KSA_project2\\dataset\\patch_data\\TCGA-CL-4957_nonMSIH\\TCGA-CL-4957_nonMSIH_x34896_y23616_patch02132.png: File D:\\Aamir Gulzar\\KSA_project2\\dataset\\Features\\Uni_2h_fivecrop\\TCGA-CL-4957_nonMSIH\\TCGA-CL-4957_nonMSIH_x34896_y23616_patch02132.pt cannot be opened.\n",
      "ERROR:__main__:Error saving D:\\Aamir Gulzar\\KSA_project2\\dataset\\patch_data\\TCGA-CL-4957_nonMSIH\\TCGA-CL-4957_nonMSIH_x34896_y24128_patch02133.png: File D:\\Aamir Gulzar\\KSA_project2\\dataset\\Features\\Uni_2h_fivecrop\\TCGA-CL-4957_nonMSIH\\TCGA-CL-4957_nonMSIH_x34896_y24128_patch02133.pt cannot be opened.\n",
      "ERROR:__main__:Error saving D:\\Aamir Gulzar\\KSA_project2\\dataset\\patch_data\\TCGA-CL-4957_nonMSIH\\TCGA-CL-4957_nonMSIH_x34896_y24640_patch02134.png: File D:\\Aamir Gulzar\\KSA_project2\\dataset\\Features\\Uni_2h_fivecrop\\TCGA-CL-4957_nonMSIH\\TCGA-CL-4957_nonMSIH_x34896_y24640_patch02134.pt cannot be opened.\n",
      "ERROR:__main__:Error saving D:\\Aamir Gulzar\\KSA_project2\\dataset\\patch_data\\TCGA-CL-4957_nonMSIH\\TCGA-CL-4957_nonMSIH_x34896_y25152_patch02135.png: File D:\\Aamir Gulzar\\KSA_project2\\dataset\\Features\\Uni_2h_fivecrop\\TCGA-CL-4957_nonMSIH\\TCGA-CL-4957_nonMSIH_x34896_y25152_patch02135.pt cannot be opened.\n",
      "ERROR:__main__:Error saving D:\\Aamir Gulzar\\KSA_project2\\dataset\\patch_data\\TCGA-CL-4957_nonMSIH\\TCGA-CL-4957_nonMSIH_x34896_y25664_patch02136.png: File D:\\Aamir Gulzar\\KSA_project2\\dataset\\Features\\Uni_2h_fivecrop\\TCGA-CL-4957_nonMSIH\\TCGA-CL-4957_nonMSIH_x34896_y25664_patch02136.pt cannot be opened.\n",
      "ERROR:__main__:Error saving D:\\Aamir Gulzar\\KSA_project2\\dataset\\patch_data\\TCGA-CL-4957_nonMSIH\\TCGA-CL-4957_nonMSIH_x34896_y5696_patch02097.png: File D:\\Aamir Gulzar\\KSA_project2\\dataset\\Features\\Uni_2h_fivecrop\\TCGA-CL-4957_nonMSIH\\TCGA-CL-4957_nonMSIH_x34896_y5696_patch02097.pt cannot be opened.\n",
      "ERROR:__main__:Error saving D:\\Aamir Gulzar\\KSA_project2\\dataset\\patch_data\\TCGA-CL-4957_nonMSIH\\TCGA-CL-4957_nonMSIH_x34896_y6208_patch02098.png: File D:\\Aamir Gulzar\\KSA_project2\\dataset\\Features\\Uni_2h_fivecrop\\TCGA-CL-4957_nonMSIH\\TCGA-CL-4957_nonMSIH_x34896_y6208_patch02098.pt cannot be opened.\n",
      "ERROR:__main__:Error saving D:\\Aamir Gulzar\\KSA_project2\\dataset\\patch_data\\TCGA-CL-4957_nonMSIH\\TCGA-CL-4957_nonMSIH_x34896_y6720_patch02099.png: File D:\\Aamir Gulzar\\KSA_project2\\dataset\\Features\\Uni_2h_fivecrop\\TCGA-CL-4957_nonMSIH\\TCGA-CL-4957_nonMSIH_x34896_y6720_patch02099.pt cannot be opened.\n",
      "ERROR:__main__:Error saving D:\\Aamir Gulzar\\KSA_project2\\dataset\\patch_data\\TCGA-CL-4957_nonMSIH\\TCGA-CL-4957_nonMSIH_x34896_y7744_patch02101.png: File D:\\Aamir Gulzar\\KSA_project2\\dataset\\Features\\Uni_2h_fivecrop\\TCGA-CL-4957_nonMSIH\\TCGA-CL-4957_nonMSIH_x34896_y7744_patch02101.pt cannot be opened.\n",
      "ERROR:__main__:Error saving D:\\Aamir Gulzar\\KSA_project2\\dataset\\patch_data\\TCGA-CL-4957_nonMSIH\\TCGA-CL-4957_nonMSIH_x34896_y7232_patch02100.png: File D:\\Aamir Gulzar\\KSA_project2\\dataset\\Features\\Uni_2h_fivecrop\\TCGA-CL-4957_nonMSIH\\TCGA-CL-4957_nonMSIH_x34896_y7232_patch02100.pt cannot be opened.\n",
      "ERROR:__main__:Error saving D:\\Aamir Gulzar\\KSA_project2\\dataset\\patch_data\\TCGA-CL-4957_nonMSIH\\TCGA-CL-4957_nonMSIH_x34896_y8256_patch02102.png: File D:\\Aamir Gulzar\\KSA_project2\\dataset\\Features\\Uni_2h_fivecrop\\TCGA-CL-4957_nonMSIH\\TCGA-CL-4957_nonMSIH_x34896_y8256_patch02102.pt cannot be opened.\n",
      "ERROR:__main__:Error saving D:\\Aamir Gulzar\\KSA_project2\\dataset\\patch_data\\TCGA-CL-4957_nonMSIH\\TCGA-CL-4957_nonMSIH_x34896_y8768_patch02103.png: File D:\\Aamir Gulzar\\KSA_project2\\dataset\\Features\\Uni_2h_fivecrop\\TCGA-CL-4957_nonMSIH\\TCGA-CL-4957_nonMSIH_x34896_y8768_patch02103.pt cannot be opened.\n",
      "ERROR:__main__:Error saving D:\\Aamir Gulzar\\KSA_project2\\dataset\\patch_data\\TCGA-CL-4957_nonMSIH\\TCGA-CL-4957_nonMSIH_x34896_y9280_patch02104.png: File D:\\Aamir Gulzar\\KSA_project2\\dataset\\Features\\Uni_2h_fivecrop\\TCGA-CL-4957_nonMSIH\\TCGA-CL-4957_nonMSIH_x34896_y9280_patch02104.pt cannot be opened.\n",
      "ERROR:__main__:Error saving D:\\Aamir Gulzar\\KSA_project2\\dataset\\patch_data\\TCGA-CL-4957_nonMSIH\\TCGA-CL-4957_nonMSIH_x34896_y9792_patch02105.png: File D:\\Aamir Gulzar\\KSA_project2\\dataset\\Features\\Uni_2h_fivecrop\\TCGA-CL-4957_nonMSIH\\TCGA-CL-4957_nonMSIH_x34896_y9792_patch02105.pt cannot be opened.\n",
      "ERROR:__main__:Error saving D:\\Aamir Gulzar\\KSA_project2\\dataset\\patch_data\\TCGA-CL-4957_nonMSIH\\TCGA-CL-4957_nonMSIH_x35408_y10304_patch02146.png: File D:\\Aamir Gulzar\\KSA_project2\\dataset\\Features\\Uni_2h_fivecrop\\TCGA-CL-4957_nonMSIH\\TCGA-CL-4957_nonMSIH_x35408_y10304_patch02146.pt cannot be opened.\n",
      "ERROR:__main__:Error saving D:\\Aamir Gulzar\\KSA_project2\\dataset\\patch_data\\TCGA-CL-4957_nonMSIH\\TCGA-CL-4957_nonMSIH_x35408_y10816_patch02147.png: File D:\\Aamir Gulzar\\KSA_project2\\dataset\\Features\\Uni_2h_fivecrop\\TCGA-CL-4957_nonMSIH\\TCGA-CL-4957_nonMSIH_x35408_y10816_patch02147.pt cannot be opened.\n",
      "ERROR:__main__:Error saving D:\\Aamir Gulzar\\KSA_project2\\dataset\\patch_data\\TCGA-CL-4957_nonMSIH\\TCGA-CL-4957_nonMSIH_x35408_y11328_patch02148.png: File D:\\Aamir Gulzar\\KSA_project2\\dataset\\Features\\Uni_2h_fivecrop\\TCGA-CL-4957_nonMSIH\\TCGA-CL-4957_nonMSIH_x35408_y11328_patch02148.pt cannot be opened.\n",
      "ERROR:__main__:Error saving D:\\Aamir Gulzar\\KSA_project2\\dataset\\patch_data\\TCGA-CL-4957_nonMSIH\\TCGA-CL-4957_nonMSIH_x35408_y11840_patch02149.png: File D:\\Aamir Gulzar\\KSA_project2\\dataset\\Features\\Uni_2h_fivecrop\\TCGA-CL-4957_nonMSIH\\TCGA-CL-4957_nonMSIH_x35408_y11840_patch02149.pt cannot be opened.\n",
      "ERROR:__main__:Error saving D:\\Aamir Gulzar\\KSA_project2\\dataset\\patch_data\\TCGA-CL-4957_nonMSIH\\TCGA-CL-4957_nonMSIH_x35408_y12352_patch02150.png: File D:\\Aamir Gulzar\\KSA_project2\\dataset\\Features\\Uni_2h_fivecrop\\TCGA-CL-4957_nonMSIH\\TCGA-CL-4957_nonMSIH_x35408_y12352_patch02150.pt cannot be opened.\n",
      "ERROR:__main__:Error saving D:\\Aamir Gulzar\\KSA_project2\\dataset\\patch_data\\TCGA-CL-4957_nonMSIH\\TCGA-CL-4957_nonMSIH_x35408_y12864_patch02151.png: File D:\\Aamir Gulzar\\KSA_project2\\dataset\\Features\\Uni_2h_fivecrop\\TCGA-CL-4957_nonMSIH\\TCGA-CL-4957_nonMSIH_x35408_y12864_patch02151.pt cannot be opened.\n",
      "ERROR:__main__:Error saving D:\\Aamir Gulzar\\KSA_project2\\dataset\\patch_data\\TCGA-CL-4957_nonMSIH\\TCGA-CL-4957_nonMSIH_x35408_y13376_patch02152.png: File D:\\Aamir Gulzar\\KSA_project2\\dataset\\Features\\Uni_2h_fivecrop\\TCGA-CL-4957_nonMSIH\\TCGA-CL-4957_nonMSIH_x35408_y13376_patch02152.pt cannot be opened.\n",
      "ERROR:__main__:Error saving D:\\Aamir Gulzar\\KSA_project2\\dataset\\patch_data\\TCGA-CL-4957_nonMSIH\\TCGA-CL-4957_nonMSIH_x35408_y13888_patch02153.png: File D:\\Aamir Gulzar\\KSA_project2\\dataset\\Features\\Uni_2h_fivecrop\\TCGA-CL-4957_nonMSIH\\TCGA-CL-4957_nonMSIH_x35408_y13888_patch02153.pt cannot be opened.\n",
      "ERROR:__main__:Error saving D:\\Aamir Gulzar\\KSA_project2\\dataset\\patch_data\\TCGA-CL-4957_nonMSIH\\TCGA-CL-4957_nonMSIH_x35408_y14400_patch02154.png: File D:\\Aamir Gulzar\\KSA_project2\\dataset\\Features\\Uni_2h_fivecrop\\TCGA-CL-4957_nonMSIH\\TCGA-CL-4957_nonMSIH_x35408_y14400_patch02154.pt cannot be opened.\n",
      "ERROR:__main__:Error saving D:\\Aamir Gulzar\\KSA_project2\\dataset\\patch_data\\TCGA-CL-4957_nonMSIH\\TCGA-CL-4957_nonMSIH_x35408_y14912_patch02155.png: File D:\\Aamir Gulzar\\KSA_project2\\dataset\\Features\\Uni_2h_fivecrop\\TCGA-CL-4957_nonMSIH\\TCGA-CL-4957_nonMSIH_x35408_y14912_patch02155.pt cannot be opened.\n",
      "ERROR:__main__:Error saving D:\\Aamir Gulzar\\KSA_project2\\dataset\\patch_data\\TCGA-CL-4957_nonMSIH\\TCGA-CL-4957_nonMSIH_x35408_y15424_patch02156.png: File D:\\Aamir Gulzar\\KSA_project2\\dataset\\Features\\Uni_2h_fivecrop\\TCGA-CL-4957_nonMSIH\\TCGA-CL-4957_nonMSIH_x35408_y15424_patch02156.pt cannot be opened.\n",
      "ERROR:__main__:Error saving D:\\Aamir Gulzar\\KSA_project2\\dataset\\patch_data\\TCGA-CL-4957_nonMSIH\\TCGA-CL-4957_nonMSIH_x35408_y15936_patch02157.png: File D:\\Aamir Gulzar\\KSA_project2\\dataset\\Features\\Uni_2h_fivecrop\\TCGA-CL-4957_nonMSIH\\TCGA-CL-4957_nonMSIH_x35408_y15936_patch02157.pt cannot be opened.\n",
      "ERROR:__main__:Error saving D:\\Aamir Gulzar\\KSA_project2\\dataset\\patch_data\\TCGA-CL-4957_nonMSIH\\TCGA-CL-4957_nonMSIH_x35408_y16448_patch02158.png: File D:\\Aamir Gulzar\\KSA_project2\\dataset\\Features\\Uni_2h_fivecrop\\TCGA-CL-4957_nonMSIH\\TCGA-CL-4957_nonMSIH_x35408_y16448_patch02158.pt cannot be opened.\n",
      "ERROR:__main__:Error saving D:\\Aamir Gulzar\\KSA_project2\\dataset\\patch_data\\TCGA-CL-4957_nonMSIH\\TCGA-CL-4957_nonMSIH_x35408_y16960_patch02159.png: File D:\\Aamir Gulzar\\KSA_project2\\dataset\\Features\\Uni_2h_fivecrop\\TCGA-CL-4957_nonMSIH\\TCGA-CL-4957_nonMSIH_x35408_y16960_patch02159.pt cannot be opened.\n",
      "ERROR:__main__:Error saving D:\\Aamir Gulzar\\KSA_project2\\dataset\\patch_data\\TCGA-CL-4957_nonMSIH\\TCGA-CL-4957_nonMSIH_x35408_y17472_patch02160.png: File D:\\Aamir Gulzar\\KSA_project2\\dataset\\Features\\Uni_2h_fivecrop\\TCGA-CL-4957_nonMSIH\\TCGA-CL-4957_nonMSIH_x35408_y17472_patch02160.pt cannot be opened.\n",
      "ERROR:__main__:Error saving D:\\Aamir Gulzar\\KSA_project2\\dataset\\patch_data\\TCGA-CL-4957_nonMSIH\\TCGA-CL-4957_nonMSIH_x35408_y17984_patch02161.png: File D:\\Aamir Gulzar\\KSA_project2\\dataset\\Features\\Uni_2h_fivecrop\\TCGA-CL-4957_nonMSIH\\TCGA-CL-4957_nonMSIH_x35408_y17984_patch02161.pt cannot be opened.\n",
      "ERROR:__main__:Error saving D:\\Aamir Gulzar\\KSA_project2\\dataset\\patch_data\\TCGA-CL-4957_nonMSIH\\TCGA-CL-4957_nonMSIH_x35408_y18496_patch02162.png: File D:\\Aamir Gulzar\\KSA_project2\\dataset\\Features\\Uni_2h_fivecrop\\TCGA-CL-4957_nonMSIH\\TCGA-CL-4957_nonMSIH_x35408_y18496_patch02162.pt cannot be opened.\n",
      "ERROR:__main__:Error saving D:\\Aamir Gulzar\\KSA_project2\\dataset\\patch_data\\TCGA-CL-4957_nonMSIH\\TCGA-CL-4957_nonMSIH_x35408_y19008_patch02163.png: File D:\\Aamir Gulzar\\KSA_project2\\dataset\\Features\\Uni_2h_fivecrop\\TCGA-CL-4957_nonMSIH\\TCGA-CL-4957_nonMSIH_x35408_y19008_patch02163.pt cannot be opened.\n",
      "ERROR:__main__:Error saving D:\\Aamir Gulzar\\KSA_project2\\dataset\\patch_data\\TCGA-CL-4957_nonMSIH\\TCGA-CL-4957_nonMSIH_x35408_y19520_patch02164.png: File D:\\Aamir Gulzar\\KSA_project2\\dataset\\Features\\Uni_2h_fivecrop\\TCGA-CL-4957_nonMSIH\\TCGA-CL-4957_nonMSIH_x35408_y19520_patch02164.pt cannot be opened.\n",
      "ERROR:__main__:Error saving D:\\Aamir Gulzar\\KSA_project2\\dataset\\patch_data\\TCGA-CL-4957_nonMSIH\\TCGA-CL-4957_nonMSIH_x35408_y20032_patch02165.png: File D:\\Aamir Gulzar\\KSA_project2\\dataset\\Features\\Uni_2h_fivecrop\\TCGA-CL-4957_nonMSIH\\TCGA-CL-4957_nonMSIH_x35408_y20032_patch02165.pt cannot be opened.\n",
      "ERROR:__main__:Error saving D:\\Aamir Gulzar\\KSA_project2\\dataset\\patch_data\\TCGA-CL-4957_nonMSIH\\TCGA-CL-4957_nonMSIH_x35408_y21056_patch02167.png: File D:\\Aamir Gulzar\\KSA_project2\\dataset\\Features\\Uni_2h_fivecrop\\TCGA-CL-4957_nonMSIH\\TCGA-CL-4957_nonMSIH_x35408_y21056_patch02167.pt cannot be opened.\n",
      "ERROR:__main__:Error saving D:\\Aamir Gulzar\\KSA_project2\\dataset\\patch_data\\TCGA-CL-4957_nonMSIH\\TCGA-CL-4957_nonMSIH_x35408_y20544_patch02166.png: File D:\\Aamir Gulzar\\KSA_project2\\dataset\\Features\\Uni_2h_fivecrop\\TCGA-CL-4957_nonMSIH\\TCGA-CL-4957_nonMSIH_x35408_y20544_patch02166.pt cannot be opened.\n",
      "ERROR:__main__:Error saving D:\\Aamir Gulzar\\KSA_project2\\dataset\\patch_data\\TCGA-CL-4957_nonMSIH\\TCGA-CL-4957_nonMSIH_x35408_y21568_patch02168.png: File D:\\Aamir Gulzar\\KSA_project2\\dataset\\Features\\Uni_2h_fivecrop\\TCGA-CL-4957_nonMSIH\\TCGA-CL-4957_nonMSIH_x35408_y21568_patch02168.pt cannot be opened.\n",
      "ERROR:__main__:Error saving D:\\Aamir Gulzar\\KSA_project2\\dataset\\patch_data\\TCGA-CL-4957_nonMSIH\\TCGA-CL-4957_nonMSIH_x35408_y22080_patch02169.png: File D:\\Aamir Gulzar\\KSA_project2\\dataset\\Features\\Uni_2h_fivecrop\\TCGA-CL-4957_nonMSIH\\TCGA-CL-4957_nonMSIH_x35408_y22080_patch02169.pt cannot be opened.\n",
      "ERROR:__main__:Error saving D:\\Aamir Gulzar\\KSA_project2\\dataset\\patch_data\\TCGA-CL-4957_nonMSIH\\TCGA-CL-4957_nonMSIH_x35408_y22592_patch02170.png: File D:\\Aamir Gulzar\\KSA_project2\\dataset\\Features\\Uni_2h_fivecrop\\TCGA-CL-4957_nonMSIH\\TCGA-CL-4957_nonMSIH_x35408_y22592_patch02170.pt cannot be opened.\n",
      "ERROR:__main__:Error saving D:\\Aamir Gulzar\\KSA_project2\\dataset\\patch_data\\TCGA-CL-4957_nonMSIH\\TCGA-CL-4957_nonMSIH_x35408_y23104_patch02171.png: File D:\\Aamir Gulzar\\KSA_project2\\dataset\\Features\\Uni_2h_fivecrop\\TCGA-CL-4957_nonMSIH\\TCGA-CL-4957_nonMSIH_x35408_y23104_patch02171.pt cannot be opened.\n",
      "ERROR:__main__:Error saving D:\\Aamir Gulzar\\KSA_project2\\dataset\\patch_data\\TCGA-CL-4957_nonMSIH\\TCGA-CL-4957_nonMSIH_x35408_y23616_patch02172.png: File D:\\Aamir Gulzar\\KSA_project2\\dataset\\Features\\Uni_2h_fivecrop\\TCGA-CL-4957_nonMSIH\\TCGA-CL-4957_nonMSIH_x35408_y23616_patch02172.pt cannot be opened.\n",
      "ERROR:__main__:Error saving D:\\Aamir Gulzar\\KSA_project2\\dataset\\patch_data\\TCGA-CL-4957_nonMSIH\\TCGA-CL-4957_nonMSIH_x35408_y24640_patch02174.png: File D:\\Aamir Gulzar\\KSA_project2\\dataset\\Features\\Uni_2h_fivecrop\\TCGA-CL-4957_nonMSIH\\TCGA-CL-4957_nonMSIH_x35408_y24640_patch02174.pt cannot be opened.\n",
      "ERROR:__main__:Error saving D:\\Aamir Gulzar\\KSA_project2\\dataset\\patch_data\\TCGA-CL-4957_nonMSIH\\TCGA-CL-4957_nonMSIH_x35408_y24128_patch02173.png: File D:\\Aamir Gulzar\\KSA_project2\\dataset\\Features\\Uni_2h_fivecrop\\TCGA-CL-4957_nonMSIH\\TCGA-CL-4957_nonMSIH_x35408_y24128_patch02173.pt cannot be opened.\n",
      "ERROR:__main__:Error saving D:\\Aamir Gulzar\\KSA_project2\\dataset\\patch_data\\TCGA-CL-4957_nonMSIH\\TCGA-CL-4957_nonMSIH_x35408_y25152_patch02175.png: File D:\\Aamir Gulzar\\KSA_project2\\dataset\\Features\\Uni_2h_fivecrop\\TCGA-CL-4957_nonMSIH\\TCGA-CL-4957_nonMSIH_x35408_y25152_patch02175.pt cannot be opened.\n",
      "ERROR:__main__:Error saving D:\\Aamir Gulzar\\KSA_project2\\dataset\\patch_data\\TCGA-CL-4957_nonMSIH\\TCGA-CL-4957_nonMSIH_x35408_y25664_patch02176.png: File D:\\Aamir Gulzar\\KSA_project2\\dataset\\Features\\Uni_2h_fivecrop\\TCGA-CL-4957_nonMSIH\\TCGA-CL-4957_nonMSIH_x35408_y25664_patch02176.pt cannot be opened.\n",
      "ERROR:__main__:Error saving D:\\Aamir Gulzar\\KSA_project2\\dataset\\patch_data\\TCGA-CL-4957_nonMSIH\\TCGA-CL-4957_nonMSIH_x35408_y5696_patch02137.png: File D:\\Aamir Gulzar\\KSA_project2\\dataset\\Features\\Uni_2h_fivecrop\\TCGA-CL-4957_nonMSIH\\TCGA-CL-4957_nonMSIH_x35408_y5696_patch02137.pt cannot be opened.\n",
      "ERROR:__main__:Error saving D:\\Aamir Gulzar\\KSA_project2\\dataset\\patch_data\\TCGA-CL-4957_nonMSIH\\TCGA-CL-4957_nonMSIH_x35408_y6208_patch02138.png: File D:\\Aamir Gulzar\\KSA_project2\\dataset\\Features\\Uni_2h_fivecrop\\TCGA-CL-4957_nonMSIH\\TCGA-CL-4957_nonMSIH_x35408_y6208_patch02138.pt cannot be opened.\n",
      "ERROR:__main__:Error saving D:\\Aamir Gulzar\\KSA_project2\\dataset\\patch_data\\TCGA-CL-4957_nonMSIH\\TCGA-CL-4957_nonMSIH_x35408_y6720_patch02139.png: File D:\\Aamir Gulzar\\KSA_project2\\dataset\\Features\\Uni_2h_fivecrop\\TCGA-CL-4957_nonMSIH\\TCGA-CL-4957_nonMSIH_x35408_y6720_patch02139.pt cannot be opened.\n",
      "ERROR:__main__:Error saving D:\\Aamir Gulzar\\KSA_project2\\dataset\\patch_data\\TCGA-CL-4957_nonMSIH\\TCGA-CL-4957_nonMSIH_x35408_y7232_patch02140.png: File D:\\Aamir Gulzar\\KSA_project2\\dataset\\Features\\Uni_2h_fivecrop\\TCGA-CL-4957_nonMSIH\\TCGA-CL-4957_nonMSIH_x35408_y7232_patch02140.pt cannot be opened.\n",
      "ERROR:__main__:Error saving D:\\Aamir Gulzar\\KSA_project2\\dataset\\patch_data\\TCGA-CL-4957_nonMSIH\\TCGA-CL-4957_nonMSIH_x35408_y7744_patch02141.png: File D:\\Aamir Gulzar\\KSA_project2\\dataset\\Features\\Uni_2h_fivecrop\\TCGA-CL-4957_nonMSIH\\TCGA-CL-4957_nonMSIH_x35408_y7744_patch02141.pt cannot be opened.\n",
      "ERROR:__main__:Error saving D:\\Aamir Gulzar\\KSA_project2\\dataset\\patch_data\\TCGA-CL-4957_nonMSIH\\TCGA-CL-4957_nonMSIH_x35408_y8256_patch02142.png: File D:\\Aamir Gulzar\\KSA_project2\\dataset\\Features\\Uni_2h_fivecrop\\TCGA-CL-4957_nonMSIH\\TCGA-CL-4957_nonMSIH_x35408_y8256_patch02142.pt cannot be opened.\n",
      "ERROR:__main__:Error saving D:\\Aamir Gulzar\\KSA_project2\\dataset\\patch_data\\TCGA-CL-4957_nonMSIH\\TCGA-CL-4957_nonMSIH_x35408_y8768_patch02143.png: File D:\\Aamir Gulzar\\KSA_project2\\dataset\\Features\\Uni_2h_fivecrop\\TCGA-CL-4957_nonMSIH\\TCGA-CL-4957_nonMSIH_x35408_y8768_patch02143.pt cannot be opened.\n",
      "ERROR:__main__:Error saving D:\\Aamir Gulzar\\KSA_project2\\dataset\\patch_data\\TCGA-CL-4957_nonMSIH\\TCGA-CL-4957_nonMSIH_x35408_y9280_patch02144.png: File D:\\Aamir Gulzar\\KSA_project2\\dataset\\Features\\Uni_2h_fivecrop\\TCGA-CL-4957_nonMSIH\\TCGA-CL-4957_nonMSIH_x35408_y9280_patch02144.pt cannot be opened.\n",
      "ERROR:__main__:Error saving D:\\Aamir Gulzar\\KSA_project2\\dataset\\patch_data\\TCGA-CL-4957_nonMSIH\\TCGA-CL-4957_nonMSIH_x35408_y9792_patch02145.png: File D:\\Aamir Gulzar\\KSA_project2\\dataset\\Features\\Uni_2h_fivecrop\\TCGA-CL-4957_nonMSIH\\TCGA-CL-4957_nonMSIH_x35408_y9792_patch02145.pt cannot be opened.\n",
      "ERROR:__main__:Error saving D:\\Aamir Gulzar\\KSA_project2\\dataset\\patch_data\\TCGA-CL-4957_nonMSIH\\TCGA-CL-4957_nonMSIH_x35920_y10304_patch02186.png: File D:\\Aamir Gulzar\\KSA_project2\\dataset\\Features\\Uni_2h_fivecrop\\TCGA-CL-4957_nonMSIH\\TCGA-CL-4957_nonMSIH_x35920_y10304_patch02186.pt cannot be opened.\n",
      "ERROR:__main__:Error saving D:\\Aamir Gulzar\\KSA_project2\\dataset\\patch_data\\TCGA-CL-4957_nonMSIH\\TCGA-CL-4957_nonMSIH_x35920_y10816_patch02187.png: File D:\\Aamir Gulzar\\KSA_project2\\dataset\\Features\\Uni_2h_fivecrop\\TCGA-CL-4957_nonMSIH\\TCGA-CL-4957_nonMSIH_x35920_y10816_patch02187.pt cannot be opened.\n",
      "ERROR:__main__:Error saving D:\\Aamir Gulzar\\KSA_project2\\dataset\\patch_data\\TCGA-CL-4957_nonMSIH\\TCGA-CL-4957_nonMSIH_x35920_y11328_patch02188.png: File D:\\Aamir Gulzar\\KSA_project2\\dataset\\Features\\Uni_2h_fivecrop\\TCGA-CL-4957_nonMSIH\\TCGA-CL-4957_nonMSIH_x35920_y11328_patch02188.pt cannot be opened.\n",
      "ERROR:__main__:Error saving D:\\Aamir Gulzar\\KSA_project2\\dataset\\patch_data\\TCGA-CL-4957_nonMSIH\\TCGA-CL-4957_nonMSIH_x35920_y11840_patch02189.png: File D:\\Aamir Gulzar\\KSA_project2\\dataset\\Features\\Uni_2h_fivecrop\\TCGA-CL-4957_nonMSIH\\TCGA-CL-4957_nonMSIH_x35920_y11840_patch02189.pt cannot be opened.\n",
      "ERROR:__main__:Error saving D:\\Aamir Gulzar\\KSA_project2\\dataset\\patch_data\\TCGA-CL-4957_nonMSIH\\TCGA-CL-4957_nonMSIH_x35920_y12352_patch02190.png: File D:\\Aamir Gulzar\\KSA_project2\\dataset\\Features\\Uni_2h_fivecrop\\TCGA-CL-4957_nonMSIH\\TCGA-CL-4957_nonMSIH_x35920_y12352_patch02190.pt cannot be opened.\n",
      "ERROR:__main__:Error saving D:\\Aamir Gulzar\\KSA_project2\\dataset\\patch_data\\TCGA-CL-4957_nonMSIH\\TCGA-CL-4957_nonMSIH_x35920_y13376_patch02192.png: File D:\\Aamir Gulzar\\KSA_project2\\dataset\\Features\\Uni_2h_fivecrop\\TCGA-CL-4957_nonMSIH\\TCGA-CL-4957_nonMSIH_x35920_y13376_patch02192.pt cannot be opened.\n",
      "ERROR:__main__:Error saving D:\\Aamir Gulzar\\KSA_project2\\dataset\\patch_data\\TCGA-CL-4957_nonMSIH\\TCGA-CL-4957_nonMSIH_x35920_y12864_patch02191.png: File D:\\Aamir Gulzar\\KSA_project2\\dataset\\Features\\Uni_2h_fivecrop\\TCGA-CL-4957_nonMSIH\\TCGA-CL-4957_nonMSIH_x35920_y12864_patch02191.pt cannot be opened.\n",
      "ERROR:__main__:Error saving D:\\Aamir Gulzar\\KSA_project2\\dataset\\patch_data\\TCGA-CL-4957_nonMSIH\\TCGA-CL-4957_nonMSIH_x35920_y14400_patch02194.png: File D:\\Aamir Gulzar\\KSA_project2\\dataset\\Features\\Uni_2h_fivecrop\\TCGA-CL-4957_nonMSIH\\TCGA-CL-4957_nonMSIH_x35920_y14400_patch02194.pt cannot be opened.\n",
      "ERROR:__main__:Error saving D:\\Aamir Gulzar\\KSA_project2\\dataset\\patch_data\\TCGA-CL-4957_nonMSIH\\TCGA-CL-4957_nonMSIH_x35920_y13888_patch02193.png: File D:\\Aamir Gulzar\\KSA_project2\\dataset\\Features\\Uni_2h_fivecrop\\TCGA-CL-4957_nonMSIH\\TCGA-CL-4957_nonMSIH_x35920_y13888_patch02193.pt cannot be opened.\n",
      "ERROR:__main__:Error saving D:\\Aamir Gulzar\\KSA_project2\\dataset\\patch_data\\TCGA-CL-4957_nonMSIH\\TCGA-CL-4957_nonMSIH_x35920_y14912_patch02195.png: File D:\\Aamir Gulzar\\KSA_project2\\dataset\\Features\\Uni_2h_fivecrop\\TCGA-CL-4957_nonMSIH\\TCGA-CL-4957_nonMSIH_x35920_y14912_patch02195.pt cannot be opened.\n",
      "ERROR:__main__:Error saving D:\\Aamir Gulzar\\KSA_project2\\dataset\\patch_data\\TCGA-CL-4957_nonMSIH\\TCGA-CL-4957_nonMSIH_x35920_y15936_patch02197.png: File D:\\Aamir Gulzar\\KSA_project2\\dataset\\Features\\Uni_2h_fivecrop\\TCGA-CL-4957_nonMSIH\\TCGA-CL-4957_nonMSIH_x35920_y15936_patch02197.pt cannot be opened.\n",
      "ERROR:__main__:Error saving D:\\Aamir Gulzar\\KSA_project2\\dataset\\patch_data\\TCGA-CL-4957_nonMSIH\\TCGA-CL-4957_nonMSIH_x35920_y15424_patch02196.png: File D:\\Aamir Gulzar\\KSA_project2\\dataset\\Features\\Uni_2h_fivecrop\\TCGA-CL-4957_nonMSIH\\TCGA-CL-4957_nonMSIH_x35920_y15424_patch02196.pt cannot be opened.\n",
      "ERROR:__main__:Error saving D:\\Aamir Gulzar\\KSA_project2\\dataset\\patch_data\\TCGA-CL-4957_nonMSIH\\TCGA-CL-4957_nonMSIH_x35920_y16448_patch02198.png: File D:\\Aamir Gulzar\\KSA_project2\\dataset\\Features\\Uni_2h_fivecrop\\TCGA-CL-4957_nonMSIH\\TCGA-CL-4957_nonMSIH_x35920_y16448_patch02198.pt cannot be opened.\n",
      "ERROR:__main__:Error saving D:\\Aamir Gulzar\\KSA_project2\\dataset\\patch_data\\TCGA-CL-4957_nonMSIH\\TCGA-CL-4957_nonMSIH_x35920_y16960_patch02199.png: File D:\\Aamir Gulzar\\KSA_project2\\dataset\\Features\\Uni_2h_fivecrop\\TCGA-CL-4957_nonMSIH\\TCGA-CL-4957_nonMSIH_x35920_y16960_patch02199.pt cannot be opened.\n",
      "ERROR:__main__:Error saving D:\\Aamir Gulzar\\KSA_project2\\dataset\\patch_data\\TCGA-CL-4957_nonMSIH\\TCGA-CL-4957_nonMSIH_x35920_y17472_patch02200.png: File D:\\Aamir Gulzar\\KSA_project2\\dataset\\Features\\Uni_2h_fivecrop\\TCGA-CL-4957_nonMSIH\\TCGA-CL-4957_nonMSIH_x35920_y17472_patch02200.pt cannot be opened.\n",
      "ERROR:__main__:Error saving D:\\Aamir Gulzar\\KSA_project2\\dataset\\patch_data\\TCGA-CL-4957_nonMSIH\\TCGA-CL-4957_nonMSIH_x35920_y17984_patch02201.png: File D:\\Aamir Gulzar\\KSA_project2\\dataset\\Features\\Uni_2h_fivecrop\\TCGA-CL-4957_nonMSIH\\TCGA-CL-4957_nonMSIH_x35920_y17984_patch02201.pt cannot be opened.\n",
      "ERROR:__main__:Error saving D:\\Aamir Gulzar\\KSA_project2\\dataset\\patch_data\\TCGA-CL-4957_nonMSIH\\TCGA-CL-4957_nonMSIH_x35920_y18496_patch02202.png: File D:\\Aamir Gulzar\\KSA_project2\\dataset\\Features\\Uni_2h_fivecrop\\TCGA-CL-4957_nonMSIH\\TCGA-CL-4957_nonMSIH_x35920_y18496_patch02202.pt cannot be opened.\n",
      "ERROR:__main__:Error saving D:\\Aamir Gulzar\\KSA_project2\\dataset\\patch_data\\TCGA-CL-4957_nonMSIH\\TCGA-CL-4957_nonMSIH_x35920_y19008_patch02203.png: File D:\\Aamir Gulzar\\KSA_project2\\dataset\\Features\\Uni_2h_fivecrop\\TCGA-CL-4957_nonMSIH\\TCGA-CL-4957_nonMSIH_x35920_y19008_patch02203.pt cannot be opened.\n",
      "ERROR:__main__:Error saving D:\\Aamir Gulzar\\KSA_project2\\dataset\\patch_data\\TCGA-CL-4957_nonMSIH\\TCGA-CL-4957_nonMSIH_x35920_y19520_patch02204.png: File D:\\Aamir Gulzar\\KSA_project2\\dataset\\Features\\Uni_2h_fivecrop\\TCGA-CL-4957_nonMSIH\\TCGA-CL-4957_nonMSIH_x35920_y19520_patch02204.pt cannot be opened.\n",
      "ERROR:__main__:Error saving D:\\Aamir Gulzar\\KSA_project2\\dataset\\patch_data\\TCGA-CL-4957_nonMSIH\\TCGA-CL-4957_nonMSIH_x35920_y20032_patch02205.png: File D:\\Aamir Gulzar\\KSA_project2\\dataset\\Features\\Uni_2h_fivecrop\\TCGA-CL-4957_nonMSIH\\TCGA-CL-4957_nonMSIH_x35920_y20032_patch02205.pt cannot be opened.\n",
      "ERROR:__main__:Error saving D:\\Aamir Gulzar\\KSA_project2\\dataset\\patch_data\\TCGA-CL-4957_nonMSIH\\TCGA-CL-4957_nonMSIH_x35920_y20544_patch02206.png: File D:\\Aamir Gulzar\\KSA_project2\\dataset\\Features\\Uni_2h_fivecrop\\TCGA-CL-4957_nonMSIH\\TCGA-CL-4957_nonMSIH_x35920_y20544_patch02206.pt cannot be opened.\n",
      "ERROR:__main__:Error saving D:\\Aamir Gulzar\\KSA_project2\\dataset\\patch_data\\TCGA-CL-4957_nonMSIH\\TCGA-CL-4957_nonMSIH_x35920_y21056_patch02207.png: File D:\\Aamir Gulzar\\KSA_project2\\dataset\\Features\\Uni_2h_fivecrop\\TCGA-CL-4957_nonMSIH\\TCGA-CL-4957_nonMSIH_x35920_y21056_patch02207.pt cannot be opened.\n",
      "ERROR:__main__:Error saving D:\\Aamir Gulzar\\KSA_project2\\dataset\\patch_data\\TCGA-CL-4957_nonMSIH\\TCGA-CL-4957_nonMSIH_x35920_y21568_patch02208.png: File D:\\Aamir Gulzar\\KSA_project2\\dataset\\Features\\Uni_2h_fivecrop\\TCGA-CL-4957_nonMSIH\\TCGA-CL-4957_nonMSIH_x35920_y21568_patch02208.pt cannot be opened.\n",
      "ERROR:__main__:Error saving D:\\Aamir Gulzar\\KSA_project2\\dataset\\patch_data\\TCGA-CL-4957_nonMSIH\\TCGA-CL-4957_nonMSIH_x35920_y22080_patch02209.png: File D:\\Aamir Gulzar\\KSA_project2\\dataset\\Features\\Uni_2h_fivecrop\\TCGA-CL-4957_nonMSIH\\TCGA-CL-4957_nonMSIH_x35920_y22080_patch02209.pt cannot be opened.\n",
      "ERROR:__main__:Error saving D:\\Aamir Gulzar\\KSA_project2\\dataset\\patch_data\\TCGA-CL-4957_nonMSIH\\TCGA-CL-4957_nonMSIH_x35920_y22592_patch02210.png: File D:\\Aamir Gulzar\\KSA_project2\\dataset\\Features\\Uni_2h_fivecrop\\TCGA-CL-4957_nonMSIH\\TCGA-CL-4957_nonMSIH_x35920_y22592_patch02210.pt cannot be opened.\n",
      "ERROR:__main__:Error saving D:\\Aamir Gulzar\\KSA_project2\\dataset\\patch_data\\TCGA-CL-4957_nonMSIH\\TCGA-CL-4957_nonMSIH_x35920_y23104_patch02211.png: File D:\\Aamir Gulzar\\KSA_project2\\dataset\\Features\\Uni_2h_fivecrop\\TCGA-CL-4957_nonMSIH\\TCGA-CL-4957_nonMSIH_x35920_y23104_patch02211.pt cannot be opened.\n",
      "ERROR:__main__:Error saving D:\\Aamir Gulzar\\KSA_project2\\dataset\\patch_data\\TCGA-CL-4957_nonMSIH\\TCGA-CL-4957_nonMSIH_x35920_y23616_patch02212.png: File D:\\Aamir Gulzar\\KSA_project2\\dataset\\Features\\Uni_2h_fivecrop\\TCGA-CL-4957_nonMSIH\\TCGA-CL-4957_nonMSIH_x35920_y23616_patch02212.pt cannot be opened.\n",
      "ERROR:__main__:Error saving D:\\Aamir Gulzar\\KSA_project2\\dataset\\patch_data\\TCGA-CL-4957_nonMSIH\\TCGA-CL-4957_nonMSIH_x35920_y24128_patch02213.png: File D:\\Aamir Gulzar\\KSA_project2\\dataset\\Features\\Uni_2h_fivecrop\\TCGA-CL-4957_nonMSIH\\TCGA-CL-4957_nonMSIH_x35920_y24128_patch02213.pt cannot be opened.\n",
      "ERROR:__main__:Error saving D:\\Aamir Gulzar\\KSA_project2\\dataset\\patch_data\\TCGA-CL-4957_nonMSIH\\TCGA-CL-4957_nonMSIH_x35920_y24640_patch02214.png: File D:\\Aamir Gulzar\\KSA_project2\\dataset\\Features\\Uni_2h_fivecrop\\TCGA-CL-4957_nonMSIH\\TCGA-CL-4957_nonMSIH_x35920_y24640_patch02214.pt cannot be opened.\n",
      "ERROR:__main__:Error saving D:\\Aamir Gulzar\\KSA_project2\\dataset\\patch_data\\TCGA-CL-4957_nonMSIH\\TCGA-CL-4957_nonMSIH_x35920_y25152_patch02215.png: File D:\\Aamir Gulzar\\KSA_project2\\dataset\\Features\\Uni_2h_fivecrop\\TCGA-CL-4957_nonMSIH\\TCGA-CL-4957_nonMSIH_x35920_y25152_patch02215.pt cannot be opened.\n",
      "ERROR:__main__:Error saving D:\\Aamir Gulzar\\KSA_project2\\dataset\\patch_data\\TCGA-CL-4957_nonMSIH\\TCGA-CL-4957_nonMSIH_x35920_y25664_patch02216.png: File D:\\Aamir Gulzar\\KSA_project2\\dataset\\Features\\Uni_2h_fivecrop\\TCGA-CL-4957_nonMSIH\\TCGA-CL-4957_nonMSIH_x35920_y25664_patch02216.pt cannot be opened.\n",
      "ERROR:__main__:Error saving D:\\Aamir Gulzar\\KSA_project2\\dataset\\patch_data\\TCGA-CL-4957_nonMSIH\\TCGA-CL-4957_nonMSIH_x35920_y5696_patch02177.png: File D:\\Aamir Gulzar\\KSA_project2\\dataset\\Features\\Uni_2h_fivecrop\\TCGA-CL-4957_nonMSIH\\TCGA-CL-4957_nonMSIH_x35920_y5696_patch02177.pt cannot be opened.\n",
      "ERROR:__main__:Error saving D:\\Aamir Gulzar\\KSA_project2\\dataset\\patch_data\\TCGA-CL-4957_nonMSIH\\TCGA-CL-4957_nonMSIH_x35920_y6208_patch02178.png: File D:\\Aamir Gulzar\\KSA_project2\\dataset\\Features\\Uni_2h_fivecrop\\TCGA-CL-4957_nonMSIH\\TCGA-CL-4957_nonMSIH_x35920_y6208_patch02178.pt cannot be opened.\n",
      "ERROR:__main__:Error saving D:\\Aamir Gulzar\\KSA_project2\\dataset\\patch_data\\TCGA-CL-4957_nonMSIH\\TCGA-CL-4957_nonMSIH_x35920_y6720_patch02179.png: File D:\\Aamir Gulzar\\KSA_project2\\dataset\\Features\\Uni_2h_fivecrop\\TCGA-CL-4957_nonMSIH\\TCGA-CL-4957_nonMSIH_x35920_y6720_patch02179.pt cannot be opened.\n",
      "ERROR:__main__:Error saving D:\\Aamir Gulzar\\KSA_project2\\dataset\\patch_data\\TCGA-CL-4957_nonMSIH\\TCGA-CL-4957_nonMSIH_x35920_y7232_patch02180.png: File D:\\Aamir Gulzar\\KSA_project2\\dataset\\Features\\Uni_2h_fivecrop\\TCGA-CL-4957_nonMSIH\\TCGA-CL-4957_nonMSIH_x35920_y7232_patch02180.pt cannot be opened.\n",
      "ERROR:__main__:Error saving D:\\Aamir Gulzar\\KSA_project2\\dataset\\patch_data\\TCGA-CL-4957_nonMSIH\\TCGA-CL-4957_nonMSIH_x35920_y7744_patch02181.png: File D:\\Aamir Gulzar\\KSA_project2\\dataset\\Features\\Uni_2h_fivecrop\\TCGA-CL-4957_nonMSIH\\TCGA-CL-4957_nonMSIH_x35920_y7744_patch02181.pt cannot be opened.\n",
      "ERROR:__main__:Error saving D:\\Aamir Gulzar\\KSA_project2\\dataset\\patch_data\\TCGA-CL-4957_nonMSIH\\TCGA-CL-4957_nonMSIH_x35920_y8256_patch02182.png: File D:\\Aamir Gulzar\\KSA_project2\\dataset\\Features\\Uni_2h_fivecrop\\TCGA-CL-4957_nonMSIH\\TCGA-CL-4957_nonMSIH_x35920_y8256_patch02182.pt cannot be opened.\n",
      "ERROR:__main__:Error saving D:\\Aamir Gulzar\\KSA_project2\\dataset\\patch_data\\TCGA-CL-4957_nonMSIH\\TCGA-CL-4957_nonMSIH_x35920_y8768_patch02183.png: File D:\\Aamir Gulzar\\KSA_project2\\dataset\\Features\\Uni_2h_fivecrop\\TCGA-CL-4957_nonMSIH\\TCGA-CL-4957_nonMSIH_x35920_y8768_patch02183.pt cannot be opened.\n",
      "ERROR:__main__:Error saving D:\\Aamir Gulzar\\KSA_project2\\dataset\\patch_data\\TCGA-CL-4957_nonMSIH\\TCGA-CL-4957_nonMSIH_x35920_y9280_patch02184.png: File D:\\Aamir Gulzar\\KSA_project2\\dataset\\Features\\Uni_2h_fivecrop\\TCGA-CL-4957_nonMSIH\\TCGA-CL-4957_nonMSIH_x35920_y9280_patch02184.pt cannot be opened.\n",
      "ERROR:__main__:Error saving D:\\Aamir Gulzar\\KSA_project2\\dataset\\patch_data\\TCGA-CL-4957_nonMSIH\\TCGA-CL-4957_nonMSIH_x35920_y9792_patch02185.png: File D:\\Aamir Gulzar\\KSA_project2\\dataset\\Features\\Uni_2h_fivecrop\\TCGA-CL-4957_nonMSIH\\TCGA-CL-4957_nonMSIH_x35920_y9792_patch02185.pt cannot be opened.\n",
      "ERROR:__main__:Error saving D:\\Aamir Gulzar\\KSA_project2\\dataset\\patch_data\\TCGA-CL-4957_nonMSIH\\TCGA-CL-4957_nonMSIH_x36432_y10304_patch02226.png: File D:\\Aamir Gulzar\\KSA_project2\\dataset\\Features\\Uni_2h_fivecrop\\TCGA-CL-4957_nonMSIH\\TCGA-CL-4957_nonMSIH_x36432_y10304_patch02226.pt cannot be opened.\n",
      "ERROR:__main__:Error saving D:\\Aamir Gulzar\\KSA_project2\\dataset\\patch_data\\TCGA-CL-4957_nonMSIH\\TCGA-CL-4957_nonMSIH_x36432_y10816_patch02227.png: File D:\\Aamir Gulzar\\KSA_project2\\dataset\\Features\\Uni_2h_fivecrop\\TCGA-CL-4957_nonMSIH\\TCGA-CL-4957_nonMSIH_x36432_y10816_patch02227.pt cannot be opened.\n",
      "ERROR:__main__:Error saving D:\\Aamir Gulzar\\KSA_project2\\dataset\\patch_data\\TCGA-CL-4957_nonMSIH\\TCGA-CL-4957_nonMSIH_x36432_y11328_patch02228.png: File D:\\Aamir Gulzar\\KSA_project2\\dataset\\Features\\Uni_2h_fivecrop\\TCGA-CL-4957_nonMSIH\\TCGA-CL-4957_nonMSIH_x36432_y11328_patch02228.pt cannot be opened.\n",
      "ERROR:__main__:Error saving D:\\Aamir Gulzar\\KSA_project2\\dataset\\patch_data\\TCGA-CL-4957_nonMSIH\\TCGA-CL-4957_nonMSIH_x36432_y11840_patch02229.png: File D:\\Aamir Gulzar\\KSA_project2\\dataset\\Features\\Uni_2h_fivecrop\\TCGA-CL-4957_nonMSIH\\TCGA-CL-4957_nonMSIH_x36432_y11840_patch02229.pt cannot be opened.\n",
      "ERROR:__main__:Error saving D:\\Aamir Gulzar\\KSA_project2\\dataset\\patch_data\\TCGA-CL-4957_nonMSIH\\TCGA-CL-4957_nonMSIH_x36432_y12352_patch02230.png: File D:\\Aamir Gulzar\\KSA_project2\\dataset\\Features\\Uni_2h_fivecrop\\TCGA-CL-4957_nonMSIH\\TCGA-CL-4957_nonMSIH_x36432_y12352_patch02230.pt cannot be opened.\n",
      "ERROR:__main__:Error saving D:\\Aamir Gulzar\\KSA_project2\\dataset\\patch_data\\TCGA-CL-4957_nonMSIH\\TCGA-CL-4957_nonMSIH_x36432_y12864_patch02231.png: File D:\\Aamir Gulzar\\KSA_project2\\dataset\\Features\\Uni_2h_fivecrop\\TCGA-CL-4957_nonMSIH\\TCGA-CL-4957_nonMSIH_x36432_y12864_patch02231.pt cannot be opened.\n",
      "ERROR:__main__:Error saving D:\\Aamir Gulzar\\KSA_project2\\dataset\\patch_data\\TCGA-CL-4957_nonMSIH\\TCGA-CL-4957_nonMSIH_x36432_y13376_patch02232.png: File D:\\Aamir Gulzar\\KSA_project2\\dataset\\Features\\Uni_2h_fivecrop\\TCGA-CL-4957_nonMSIH\\TCGA-CL-4957_nonMSIH_x36432_y13376_patch02232.pt cannot be opened.\n",
      "ERROR:__main__:Error saving D:\\Aamir Gulzar\\KSA_project2\\dataset\\patch_data\\TCGA-CL-4957_nonMSIH\\TCGA-CL-4957_nonMSIH_x36432_y13888_patch02233.png: File D:\\Aamir Gulzar\\KSA_project2\\dataset\\Features\\Uni_2h_fivecrop\\TCGA-CL-4957_nonMSIH\\TCGA-CL-4957_nonMSIH_x36432_y13888_patch02233.pt cannot be opened.\n",
      "ERROR:__main__:Error saving D:\\Aamir Gulzar\\KSA_project2\\dataset\\patch_data\\TCGA-CL-4957_nonMSIH\\TCGA-CL-4957_nonMSIH_x36432_y14400_patch02234.png: File D:\\Aamir Gulzar\\KSA_project2\\dataset\\Features\\Uni_2h_fivecrop\\TCGA-CL-4957_nonMSIH\\TCGA-CL-4957_nonMSIH_x36432_y14400_patch02234.pt cannot be opened.\n",
      "ERROR:__main__:Error saving D:\\Aamir Gulzar\\KSA_project2\\dataset\\patch_data\\TCGA-CL-4957_nonMSIH\\TCGA-CL-4957_nonMSIH_x36432_y14912_patch02235.png: File D:\\Aamir Gulzar\\KSA_project2\\dataset\\Features\\Uni_2h_fivecrop\\TCGA-CL-4957_nonMSIH\\TCGA-CL-4957_nonMSIH_x36432_y14912_patch02235.pt cannot be opened.\n",
      "ERROR:__main__:Error saving D:\\Aamir Gulzar\\KSA_project2\\dataset\\patch_data\\TCGA-CL-4957_nonMSIH\\TCGA-CL-4957_nonMSIH_x36432_y15936_patch02237.png: File D:\\Aamir Gulzar\\KSA_project2\\dataset\\Features\\Uni_2h_fivecrop\\TCGA-CL-4957_nonMSIH\\TCGA-CL-4957_nonMSIH_x36432_y15936_patch02237.pt cannot be opened.\n",
      "ERROR:__main__:Error saving D:\\Aamir Gulzar\\KSA_project2\\dataset\\patch_data\\TCGA-CL-4957_nonMSIH\\TCGA-CL-4957_nonMSIH_x36432_y15424_patch02236.png: File D:\\Aamir Gulzar\\KSA_project2\\dataset\\Features\\Uni_2h_fivecrop\\TCGA-CL-4957_nonMSIH\\TCGA-CL-4957_nonMSIH_x36432_y15424_patch02236.pt cannot be opened.\n",
      "ERROR:__main__:Error saving D:\\Aamir Gulzar\\KSA_project2\\dataset\\patch_data\\TCGA-CL-4957_nonMSIH\\TCGA-CL-4957_nonMSIH_x36432_y16448_patch02238.png: File D:\\Aamir Gulzar\\KSA_project2\\dataset\\Features\\Uni_2h_fivecrop\\TCGA-CL-4957_nonMSIH\\TCGA-CL-4957_nonMSIH_x36432_y16448_patch02238.pt cannot be opened.\n",
      "ERROR:__main__:Error saving D:\\Aamir Gulzar\\KSA_project2\\dataset\\patch_data\\TCGA-CL-4957_nonMSIH\\TCGA-CL-4957_nonMSIH_x36432_y16960_patch02239.png: File D:\\Aamir Gulzar\\KSA_project2\\dataset\\Features\\Uni_2h_fivecrop\\TCGA-CL-4957_nonMSIH\\TCGA-CL-4957_nonMSIH_x36432_y16960_patch02239.pt cannot be opened.\n",
      "ERROR:__main__:Error saving D:\\Aamir Gulzar\\KSA_project2\\dataset\\patch_data\\TCGA-CL-4957_nonMSIH\\TCGA-CL-4957_nonMSIH_x36432_y17472_patch02240.png: File D:\\Aamir Gulzar\\KSA_project2\\dataset\\Features\\Uni_2h_fivecrop\\TCGA-CL-4957_nonMSIH\\TCGA-CL-4957_nonMSIH_x36432_y17472_patch02240.pt cannot be opened.\n",
      "ERROR:__main__:Error saving D:\\Aamir Gulzar\\KSA_project2\\dataset\\patch_data\\TCGA-CL-4957_nonMSIH\\TCGA-CL-4957_nonMSIH_x36432_y17984_patch02241.png: File D:\\Aamir Gulzar\\KSA_project2\\dataset\\Features\\Uni_2h_fivecrop\\TCGA-CL-4957_nonMSIH\\TCGA-CL-4957_nonMSIH_x36432_y17984_patch02241.pt cannot be opened.\n",
      "ERROR:__main__:Error saving D:\\Aamir Gulzar\\KSA_project2\\dataset\\patch_data\\TCGA-CL-4957_nonMSIH\\TCGA-CL-4957_nonMSIH_x36432_y18496_patch02242.png: File D:\\Aamir Gulzar\\KSA_project2\\dataset\\Features\\Uni_2h_fivecrop\\TCGA-CL-4957_nonMSIH\\TCGA-CL-4957_nonMSIH_x36432_y18496_patch02242.pt cannot be opened.\n",
      "ERROR:__main__:Error saving D:\\Aamir Gulzar\\KSA_project2\\dataset\\patch_data\\TCGA-CL-4957_nonMSIH\\TCGA-CL-4957_nonMSIH_x36432_y19008_patch02243.png: File D:\\Aamir Gulzar\\KSA_project2\\dataset\\Features\\Uni_2h_fivecrop\\TCGA-CL-4957_nonMSIH\\TCGA-CL-4957_nonMSIH_x36432_y19008_patch02243.pt cannot be opened.\n",
      "ERROR:__main__:Error saving D:\\Aamir Gulzar\\KSA_project2\\dataset\\patch_data\\TCGA-CL-4957_nonMSIH\\TCGA-CL-4957_nonMSIH_x36432_y19520_patch02244.png: File D:\\Aamir Gulzar\\KSA_project2\\dataset\\Features\\Uni_2h_fivecrop\\TCGA-CL-4957_nonMSIH\\TCGA-CL-4957_nonMSIH_x36432_y19520_patch02244.pt cannot be opened.\n",
      "ERROR:__main__:Error saving D:\\Aamir Gulzar\\KSA_project2\\dataset\\patch_data\\TCGA-CL-4957_nonMSIH\\TCGA-CL-4957_nonMSIH_x36432_y20032_patch02245.png: File D:\\Aamir Gulzar\\KSA_project2\\dataset\\Features\\Uni_2h_fivecrop\\TCGA-CL-4957_nonMSIH\\TCGA-CL-4957_nonMSIH_x36432_y20032_patch02245.pt cannot be opened.\n",
      "ERROR:__main__:Error saving D:\\Aamir Gulzar\\KSA_project2\\dataset\\patch_data\\TCGA-CL-4957_nonMSIH\\TCGA-CL-4957_nonMSIH_x36432_y20544_patch02246.png: File D:\\Aamir Gulzar\\KSA_project2\\dataset\\Features\\Uni_2h_fivecrop\\TCGA-CL-4957_nonMSIH\\TCGA-CL-4957_nonMSIH_x36432_y20544_patch02246.pt cannot be opened.\n",
      "ERROR:__main__:Error saving D:\\Aamir Gulzar\\KSA_project2\\dataset\\patch_data\\TCGA-CL-4957_nonMSIH\\TCGA-CL-4957_nonMSIH_x36432_y21056_patch02247.png: File D:\\Aamir Gulzar\\KSA_project2\\dataset\\Features\\Uni_2h_fivecrop\\TCGA-CL-4957_nonMSIH\\TCGA-CL-4957_nonMSIH_x36432_y21056_patch02247.pt cannot be opened.\n",
      "ERROR:__main__:Error saving D:\\Aamir Gulzar\\KSA_project2\\dataset\\patch_data\\TCGA-CL-4957_nonMSIH\\TCGA-CL-4957_nonMSIH_x36432_y21568_patch02248.png: File D:\\Aamir Gulzar\\KSA_project2\\dataset\\Features\\Uni_2h_fivecrop\\TCGA-CL-4957_nonMSIH\\TCGA-CL-4957_nonMSIH_x36432_y21568_patch02248.pt cannot be opened.\n",
      "ERROR:__main__:Error saving D:\\Aamir Gulzar\\KSA_project2\\dataset\\patch_data\\TCGA-CL-4957_nonMSIH\\TCGA-CL-4957_nonMSIH_x36432_y22080_patch02249.png: File D:\\Aamir Gulzar\\KSA_project2\\dataset\\Features\\Uni_2h_fivecrop\\TCGA-CL-4957_nonMSIH\\TCGA-CL-4957_nonMSIH_x36432_y22080_patch02249.pt cannot be opened.\n",
      "ERROR:__main__:Error saving D:\\Aamir Gulzar\\KSA_project2\\dataset\\patch_data\\TCGA-CL-4957_nonMSIH\\TCGA-CL-4957_nonMSIH_x36432_y22592_patch02250.png: File D:\\Aamir Gulzar\\KSA_project2\\dataset\\Features\\Uni_2h_fivecrop\\TCGA-CL-4957_nonMSIH\\TCGA-CL-4957_nonMSIH_x36432_y22592_patch02250.pt cannot be opened.\n",
      "ERROR:__main__:Error saving D:\\Aamir Gulzar\\KSA_project2\\dataset\\patch_data\\TCGA-CL-4957_nonMSIH\\TCGA-CL-4957_nonMSIH_x36432_y23616_patch02252.png: File D:\\Aamir Gulzar\\KSA_project2\\dataset\\Features\\Uni_2h_fivecrop\\TCGA-CL-4957_nonMSIH\\TCGA-CL-4957_nonMSIH_x36432_y23616_patch02252.pt cannot be opened.\n",
      "ERROR:__main__:Error saving D:\\Aamir Gulzar\\KSA_project2\\dataset\\patch_data\\TCGA-CL-4957_nonMSIH\\TCGA-CL-4957_nonMSIH_x36432_y23104_patch02251.png: File D:\\Aamir Gulzar\\KSA_project2\\dataset\\Features\\Uni_2h_fivecrop\\TCGA-CL-4957_nonMSIH\\TCGA-CL-4957_nonMSIH_x36432_y23104_patch02251.pt cannot be opened.\n",
      "ERROR:__main__:Error saving D:\\Aamir Gulzar\\KSA_project2\\dataset\\patch_data\\TCGA-CL-4957_nonMSIH\\TCGA-CL-4957_nonMSIH_x36432_y25152_patch02254.png: File D:\\Aamir Gulzar\\KSA_project2\\dataset\\Features\\Uni_2h_fivecrop\\TCGA-CL-4957_nonMSIH\\TCGA-CL-4957_nonMSIH_x36432_y25152_patch02254.pt cannot be opened.\n",
      "ERROR:__main__:Error saving D:\\Aamir Gulzar\\KSA_project2\\dataset\\patch_data\\TCGA-CL-4957_nonMSIH\\TCGA-CL-4957_nonMSIH_x36432_y24128_patch02253.png: File D:\\Aamir Gulzar\\KSA_project2\\dataset\\Features\\Uni_2h_fivecrop\\TCGA-CL-4957_nonMSIH\\TCGA-CL-4957_nonMSIH_x36432_y24128_patch02253.pt cannot be opened.\n",
      "ERROR:__main__:Error saving D:\\Aamir Gulzar\\KSA_project2\\dataset\\patch_data\\TCGA-CL-4957_nonMSIH\\TCGA-CL-4957_nonMSIH_x36432_y25664_patch02255.png: File D:\\Aamir Gulzar\\KSA_project2\\dataset\\Features\\Uni_2h_fivecrop\\TCGA-CL-4957_nonMSIH\\TCGA-CL-4957_nonMSIH_x36432_y25664_patch02255.pt cannot be opened.\n",
      "ERROR:__main__:Error saving D:\\Aamir Gulzar\\KSA_project2\\dataset\\patch_data\\TCGA-CL-4957_nonMSIH\\TCGA-CL-4957_nonMSIH_x36432_y5696_patch02217.png: File D:\\Aamir Gulzar\\KSA_project2\\dataset\\Features\\Uni_2h_fivecrop\\TCGA-CL-4957_nonMSIH\\TCGA-CL-4957_nonMSIH_x36432_y5696_patch02217.pt cannot be opened.\n",
      "ERROR:__main__:Error saving D:\\Aamir Gulzar\\KSA_project2\\dataset\\patch_data\\TCGA-CL-4957_nonMSIH\\TCGA-CL-4957_nonMSIH_x36432_y6208_patch02218.png: File D:\\Aamir Gulzar\\KSA_project2\\dataset\\Features\\Uni_2h_fivecrop\\TCGA-CL-4957_nonMSIH\\TCGA-CL-4957_nonMSIH_x36432_y6208_patch02218.pt cannot be opened.\n",
      "ERROR:__main__:Error saving D:\\Aamir Gulzar\\KSA_project2\\dataset\\patch_data\\TCGA-CL-4957_nonMSIH\\TCGA-CL-4957_nonMSIH_x36432_y6720_patch02219.png: File D:\\Aamir Gulzar\\KSA_project2\\dataset\\Features\\Uni_2h_fivecrop\\TCGA-CL-4957_nonMSIH\\TCGA-CL-4957_nonMSIH_x36432_y6720_patch02219.pt cannot be opened.\n",
      "ERROR:__main__:Error saving D:\\Aamir Gulzar\\KSA_project2\\dataset\\patch_data\\TCGA-CL-4957_nonMSIH\\TCGA-CL-4957_nonMSIH_x36432_y7232_patch02220.png: File D:\\Aamir Gulzar\\KSA_project2\\dataset\\Features\\Uni_2h_fivecrop\\TCGA-CL-4957_nonMSIH\\TCGA-CL-4957_nonMSIH_x36432_y7232_patch02220.pt cannot be opened.\n",
      "ERROR:__main__:Error saving D:\\Aamir Gulzar\\KSA_project2\\dataset\\patch_data\\TCGA-CL-4957_nonMSIH\\TCGA-CL-4957_nonMSIH_x36432_y7744_patch02221.png: File D:\\Aamir Gulzar\\KSA_project2\\dataset\\Features\\Uni_2h_fivecrop\\TCGA-CL-4957_nonMSIH\\TCGA-CL-4957_nonMSIH_x36432_y7744_patch02221.pt cannot be opened.\n",
      "ERROR:__main__:Error saving D:\\Aamir Gulzar\\KSA_project2\\dataset\\patch_data\\TCGA-CL-4957_nonMSIH\\TCGA-CL-4957_nonMSIH_x36432_y8256_patch02222.png: File D:\\Aamir Gulzar\\KSA_project2\\dataset\\Features\\Uni_2h_fivecrop\\TCGA-CL-4957_nonMSIH\\TCGA-CL-4957_nonMSIH_x36432_y8256_patch02222.pt cannot be opened.\n",
      "ERROR:__main__:Error saving D:\\Aamir Gulzar\\KSA_project2\\dataset\\patch_data\\TCGA-CL-4957_nonMSIH\\TCGA-CL-4957_nonMSIH_x36432_y8768_patch02223.png: File D:\\Aamir Gulzar\\KSA_project2\\dataset\\Features\\Uni_2h_fivecrop\\TCGA-CL-4957_nonMSIH\\TCGA-CL-4957_nonMSIH_x36432_y8768_patch02223.pt cannot be opened.\n",
      "ERROR:__main__:Error saving D:\\Aamir Gulzar\\KSA_project2\\dataset\\patch_data\\TCGA-CL-4957_nonMSIH\\TCGA-CL-4957_nonMSIH_x36432_y9280_patch02224.png: File D:\\Aamir Gulzar\\KSA_project2\\dataset\\Features\\Uni_2h_fivecrop\\TCGA-CL-4957_nonMSIH\\TCGA-CL-4957_nonMSIH_x36432_y9280_patch02224.pt cannot be opened.\n",
      "ERROR:__main__:Error saving D:\\Aamir Gulzar\\KSA_project2\\dataset\\patch_data\\TCGA-CL-4957_nonMSIH\\TCGA-CL-4957_nonMSIH_x36432_y9792_patch02225.png: File D:\\Aamir Gulzar\\KSA_project2\\dataset\\Features\\Uni_2h_fivecrop\\TCGA-CL-4957_nonMSIH\\TCGA-CL-4957_nonMSIH_x36432_y9792_patch02225.pt cannot be opened.\n",
      "ERROR:__main__:Error saving D:\\Aamir Gulzar\\KSA_project2\\dataset\\patch_data\\TCGA-CL-4957_nonMSIH\\TCGA-CL-4957_nonMSIH_x3664_y13376_patch00094.png: File D:\\Aamir Gulzar\\KSA_project2\\dataset\\Features\\Uni_2h_fivecrop\\TCGA-CL-4957_nonMSIH\\TCGA-CL-4957_nonMSIH_x3664_y13376_patch00094.pt cannot be opened.\n",
      "ERROR:__main__:Error saving D:\\Aamir Gulzar\\KSA_project2\\dataset\\patch_data\\TCGA-CL-4957_nonMSIH\\TCGA-CL-4957_nonMSIH_x3664_y13888_patch00095.png: File D:\\Aamir Gulzar\\KSA_project2\\dataset\\Features\\Uni_2h_fivecrop\\TCGA-CL-4957_nonMSIH\\TCGA-CL-4957_nonMSIH_x3664_y13888_patch00095.pt cannot be opened.\n",
      "ERROR:__main__:Error saving D:\\Aamir Gulzar\\KSA_project2\\dataset\\patch_data\\TCGA-CL-4957_nonMSIH\\TCGA-CL-4957_nonMSIH_x3664_y14400_patch00096.png: File D:\\Aamir Gulzar\\KSA_project2\\dataset\\Features\\Uni_2h_fivecrop\\TCGA-CL-4957_nonMSIH\\TCGA-CL-4957_nonMSIH_x3664_y14400_patch00096.pt cannot be opened.\n",
      "ERROR:__main__:Error saving D:\\Aamir Gulzar\\KSA_project2\\dataset\\patch_data\\TCGA-CL-4957_nonMSIH\\TCGA-CL-4957_nonMSIH_x3664_y14912_patch00097.png: File D:\\Aamir Gulzar\\KSA_project2\\dataset\\Features\\Uni_2h_fivecrop\\TCGA-CL-4957_nonMSIH\\TCGA-CL-4957_nonMSIH_x3664_y14912_patch00097.pt cannot be opened.\n",
      "ERROR:__main__:Error saving D:\\Aamir Gulzar\\KSA_project2\\dataset\\patch_data\\TCGA-CL-4957_nonMSIH\\TCGA-CL-4957_nonMSIH_x3664_y15424_patch00098.png: File D:\\Aamir Gulzar\\KSA_project2\\dataset\\Features\\Uni_2h_fivecrop\\TCGA-CL-4957_nonMSIH\\TCGA-CL-4957_nonMSIH_x3664_y15424_patch00098.pt cannot be opened.\n",
      "ERROR:__main__:Error saving D:\\Aamir Gulzar\\KSA_project2\\dataset\\patch_data\\TCGA-CL-4957_nonMSIH\\TCGA-CL-4957_nonMSIH_x3664_y15936_patch00099.png: File D:\\Aamir Gulzar\\KSA_project2\\dataset\\Features\\Uni_2h_fivecrop\\TCGA-CL-4957_nonMSIH\\TCGA-CL-4957_nonMSIH_x3664_y15936_patch00099.pt cannot be opened.\n",
      "ERROR:__main__:Error saving D:\\Aamir Gulzar\\KSA_project2\\dataset\\patch_data\\TCGA-CL-4957_nonMSIH\\TCGA-CL-4957_nonMSIH_x3664_y16448_patch00100.png: File D:\\Aamir Gulzar\\KSA_project2\\dataset\\Features\\Uni_2h_fivecrop\\TCGA-CL-4957_nonMSIH\\TCGA-CL-4957_nonMSIH_x3664_y16448_patch00100.pt cannot be opened.\n",
      "ERROR:__main__:Error saving D:\\Aamir Gulzar\\KSA_project2\\dataset\\patch_data\\TCGA-CL-4957_nonMSIH\\TCGA-CL-4957_nonMSIH_x3664_y16960_patch00101.png: File D:\\Aamir Gulzar\\KSA_project2\\dataset\\Features\\Uni_2h_fivecrop\\TCGA-CL-4957_nonMSIH\\TCGA-CL-4957_nonMSIH_x3664_y16960_patch00101.pt cannot be opened.\n",
      "ERROR:__main__:Error saving D:\\Aamir Gulzar\\KSA_project2\\dataset\\patch_data\\TCGA-CL-4957_nonMSIH\\TCGA-CL-4957_nonMSIH_x3664_y17472_patch00102.png: File D:\\Aamir Gulzar\\KSA_project2\\dataset\\Features\\Uni_2h_fivecrop\\TCGA-CL-4957_nonMSIH\\TCGA-CL-4957_nonMSIH_x3664_y17472_patch00102.pt cannot be opened.\n",
      "ERROR:__main__:Error saving D:\\Aamir Gulzar\\KSA_project2\\dataset\\patch_data\\TCGA-CL-4957_nonMSIH\\TCGA-CL-4957_nonMSIH_x3664_y17984_patch00103.png: File D:\\Aamir Gulzar\\KSA_project2\\dataset\\Features\\Uni_2h_fivecrop\\TCGA-CL-4957_nonMSIH\\TCGA-CL-4957_nonMSIH_x3664_y17984_patch00103.pt cannot be opened.\n",
      "ERROR:__main__:Error saving D:\\Aamir Gulzar\\KSA_project2\\dataset\\patch_data\\TCGA-CL-4957_nonMSIH\\TCGA-CL-4957_nonMSIH_x3664_y18496_patch00104.png: File D:\\Aamir Gulzar\\KSA_project2\\dataset\\Features\\Uni_2h_fivecrop\\TCGA-CL-4957_nonMSIH\\TCGA-CL-4957_nonMSIH_x3664_y18496_patch00104.pt cannot be opened.\n",
      "ERROR:__main__:Error saving D:\\Aamir Gulzar\\KSA_project2\\dataset\\patch_data\\TCGA-CL-4957_nonMSIH\\TCGA-CL-4957_nonMSIH_x3664_y19008_patch00105.png: File D:\\Aamir Gulzar\\KSA_project2\\dataset\\Features\\Uni_2h_fivecrop\\TCGA-CL-4957_nonMSIH\\TCGA-CL-4957_nonMSIH_x3664_y19008_patch00105.pt cannot be opened.\n",
      "ERROR:__main__:Error saving D:\\Aamir Gulzar\\KSA_project2\\dataset\\patch_data\\TCGA-CL-4957_nonMSIH\\TCGA-CL-4957_nonMSIH_x3664_y19520_patch00106.png: File D:\\Aamir Gulzar\\KSA_project2\\dataset\\Features\\Uni_2h_fivecrop\\TCGA-CL-4957_nonMSIH\\TCGA-CL-4957_nonMSIH_x3664_y19520_patch00106.pt cannot be opened.\n",
      "ERROR:__main__:Error saving D:\\Aamir Gulzar\\KSA_project2\\dataset\\patch_data\\TCGA-CL-4957_nonMSIH\\TCGA-CL-4957_nonMSIH_x3664_y20032_patch00107.png: File D:\\Aamir Gulzar\\KSA_project2\\dataset\\Features\\Uni_2h_fivecrop\\TCGA-CL-4957_nonMSIH\\TCGA-CL-4957_nonMSIH_x3664_y20032_patch00107.pt cannot be opened.\n",
      "ERROR:__main__:Error saving D:\\Aamir Gulzar\\KSA_project2\\dataset\\patch_data\\TCGA-CL-4957_nonMSIH\\TCGA-CL-4957_nonMSIH_x3664_y20544_patch00108.png: File D:\\Aamir Gulzar\\KSA_project2\\dataset\\Features\\Uni_2h_fivecrop\\TCGA-CL-4957_nonMSIH\\TCGA-CL-4957_nonMSIH_x3664_y20544_patch00108.pt cannot be opened.\n",
      "ERROR:__main__:Error saving D:\\Aamir Gulzar\\KSA_project2\\dataset\\patch_data\\TCGA-CL-4957_nonMSIH\\TCGA-CL-4957_nonMSIH_x3664_y21056_patch00109.png: File D:\\Aamir Gulzar\\KSA_project2\\dataset\\Features\\Uni_2h_fivecrop\\TCGA-CL-4957_nonMSIH\\TCGA-CL-4957_nonMSIH_x3664_y21056_patch00109.pt cannot be opened.\n",
      "ERROR:__main__:Error saving D:\\Aamir Gulzar\\KSA_project2\\dataset\\patch_data\\TCGA-CL-4957_nonMSIH\\TCGA-CL-4957_nonMSIH_x3664_y21568_patch00110.png: File D:\\Aamir Gulzar\\KSA_project2\\dataset\\Features\\Uni_2h_fivecrop\\TCGA-CL-4957_nonMSIH\\TCGA-CL-4957_nonMSIH_x3664_y21568_patch00110.pt cannot be opened.\n",
      "ERROR:__main__:Error saving D:\\Aamir Gulzar\\KSA_project2\\dataset\\patch_data\\TCGA-CL-4957_nonMSIH\\TCGA-CL-4957_nonMSIH_x3664_y22080_patch00111.png: File D:\\Aamir Gulzar\\KSA_project2\\dataset\\Features\\Uni_2h_fivecrop\\TCGA-CL-4957_nonMSIH\\TCGA-CL-4957_nonMSIH_x3664_y22080_patch00111.pt cannot be opened.\n",
      "ERROR:__main__:Error saving D:\\Aamir Gulzar\\KSA_project2\\dataset\\patch_data\\TCGA-CL-4957_nonMSIH\\TCGA-CL-4957_nonMSIH_x3664_y22592_patch00112.png: File D:\\Aamir Gulzar\\KSA_project2\\dataset\\Features\\Uni_2h_fivecrop\\TCGA-CL-4957_nonMSIH\\TCGA-CL-4957_nonMSIH_x3664_y22592_patch00112.pt cannot be opened.\n",
      "ERROR:__main__:Error saving D:\\Aamir Gulzar\\KSA_project2\\dataset\\patch_data\\TCGA-CL-4957_nonMSIH\\TCGA-CL-4957_nonMSIH_x3664_y23104_patch00113.png: File D:\\Aamir Gulzar\\KSA_project2\\dataset\\Features\\Uni_2h_fivecrop\\TCGA-CL-4957_nonMSIH\\TCGA-CL-4957_nonMSIH_x3664_y23104_patch00113.pt cannot be opened.\n",
      "ERROR:__main__:Error saving D:\\Aamir Gulzar\\KSA_project2\\dataset\\patch_data\\TCGA-CL-4957_nonMSIH\\TCGA-CL-4957_nonMSIH_x3664_y23616_patch00114.png: File D:\\Aamir Gulzar\\KSA_project2\\dataset\\Features\\Uni_2h_fivecrop\\TCGA-CL-4957_nonMSIH\\TCGA-CL-4957_nonMSIH_x3664_y23616_patch00114.pt cannot be opened.\n",
      "ERROR:__main__:Error saving D:\\Aamir Gulzar\\KSA_project2\\dataset\\patch_data\\TCGA-CL-4957_nonMSIH\\TCGA-CL-4957_nonMSIH_x3664_y24640_patch00116.png: File D:\\Aamir Gulzar\\KSA_project2\\dataset\\Features\\Uni_2h_fivecrop\\TCGA-CL-4957_nonMSIH\\TCGA-CL-4957_nonMSIH_x3664_y24640_patch00116.pt cannot be opened.\n",
      "ERROR:__main__:Error saving D:\\Aamir Gulzar\\KSA_project2\\dataset\\patch_data\\TCGA-CL-4957_nonMSIH\\TCGA-CL-4957_nonMSIH_x3664_y24128_patch00115.png: File D:\\Aamir Gulzar\\KSA_project2\\dataset\\Features\\Uni_2h_fivecrop\\TCGA-CL-4957_nonMSIH\\TCGA-CL-4957_nonMSIH_x3664_y24128_patch00115.pt cannot be opened.\n",
      "ERROR:__main__:Error saving D:\\Aamir Gulzar\\KSA_project2\\dataset\\patch_data\\TCGA-CL-4957_nonMSIH\\TCGA-CL-4957_nonMSIH_x3664_y25152_patch00117.png: File D:\\Aamir Gulzar\\KSA_project2\\dataset\\Features\\Uni_2h_fivecrop\\TCGA-CL-4957_nonMSIH\\TCGA-CL-4957_nonMSIH_x3664_y25152_patch00117.pt cannot be opened.\n",
      "ERROR:__main__:Error saving D:\\Aamir Gulzar\\KSA_project2\\dataset\\patch_data\\TCGA-CL-4957_nonMSIH\\TCGA-CL-4957_nonMSIH_x36944_y10304_patch02265.png: File D:\\Aamir Gulzar\\KSA_project2\\dataset\\Features\\Uni_2h_fivecrop\\TCGA-CL-4957_nonMSIH\\TCGA-CL-4957_nonMSIH_x36944_y10304_patch02265.pt cannot be opened.\n",
      "ERROR:__main__:Error saving D:\\Aamir Gulzar\\KSA_project2\\dataset\\patch_data\\TCGA-CL-4957_nonMSIH\\TCGA-CL-4957_nonMSIH_x36944_y10816_patch02266.png: File D:\\Aamir Gulzar\\KSA_project2\\dataset\\Features\\Uni_2h_fivecrop\\TCGA-CL-4957_nonMSIH\\TCGA-CL-4957_nonMSIH_x36944_y10816_patch02266.pt cannot be opened.\n",
      "ERROR:__main__:Error saving D:\\Aamir Gulzar\\KSA_project2\\dataset\\patch_data\\TCGA-CL-4957_nonMSIH\\TCGA-CL-4957_nonMSIH_x36944_y11328_patch02267.png: File D:\\Aamir Gulzar\\KSA_project2\\dataset\\Features\\Uni_2h_fivecrop\\TCGA-CL-4957_nonMSIH\\TCGA-CL-4957_nonMSIH_x36944_y11328_patch02267.pt cannot be opened.\n",
      "ERROR:__main__:Error saving D:\\Aamir Gulzar\\KSA_project2\\dataset\\patch_data\\TCGA-CL-4957_nonMSIH\\TCGA-CL-4957_nonMSIH_x36944_y11840_patch02268.png: File D:\\Aamir Gulzar\\KSA_project2\\dataset\\Features\\Uni_2h_fivecrop\\TCGA-CL-4957_nonMSIH\\TCGA-CL-4957_nonMSIH_x36944_y11840_patch02268.pt cannot be opened.\n",
      "ERROR:__main__:Error saving D:\\Aamir Gulzar\\KSA_project2\\dataset\\patch_data\\TCGA-CL-4957_nonMSIH\\TCGA-CL-4957_nonMSIH_x36944_y12352_patch02269.png: File D:\\Aamir Gulzar\\KSA_project2\\dataset\\Features\\Uni_2h_fivecrop\\TCGA-CL-4957_nonMSIH\\TCGA-CL-4957_nonMSIH_x36944_y12352_patch02269.pt cannot be opened.\n",
      "ERROR:__main__:Error saving D:\\Aamir Gulzar\\KSA_project2\\dataset\\patch_data\\TCGA-CL-4957_nonMSIH\\TCGA-CL-4957_nonMSIH_x36944_y12864_patch02270.png: File D:\\Aamir Gulzar\\KSA_project2\\dataset\\Features\\Uni_2h_fivecrop\\TCGA-CL-4957_nonMSIH\\TCGA-CL-4957_nonMSIH_x36944_y12864_patch02270.pt cannot be opened.\n",
      "ERROR:__main__:Error saving D:\\Aamir Gulzar\\KSA_project2\\dataset\\patch_data\\TCGA-CL-4957_nonMSIH\\TCGA-CL-4957_nonMSIH_x36944_y13376_patch02271.png: File D:\\Aamir Gulzar\\KSA_project2\\dataset\\Features\\Uni_2h_fivecrop\\TCGA-CL-4957_nonMSIH\\TCGA-CL-4957_nonMSIH_x36944_y13376_patch02271.pt cannot be opened.\n",
      "ERROR:__main__:Error saving D:\\Aamir Gulzar\\KSA_project2\\dataset\\patch_data\\TCGA-CL-4957_nonMSIH\\TCGA-CL-4957_nonMSIH_x36944_y13888_patch02272.png: File D:\\Aamir Gulzar\\KSA_project2\\dataset\\Features\\Uni_2h_fivecrop\\TCGA-CL-4957_nonMSIH\\TCGA-CL-4957_nonMSIH_x36944_y13888_patch02272.pt cannot be opened.\n",
      "ERROR:__main__:Error saving D:\\Aamir Gulzar\\KSA_project2\\dataset\\patch_data\\TCGA-CL-4957_nonMSIH\\TCGA-CL-4957_nonMSIH_x36944_y14400_patch02273.png: File D:\\Aamir Gulzar\\KSA_project2\\dataset\\Features\\Uni_2h_fivecrop\\TCGA-CL-4957_nonMSIH\\TCGA-CL-4957_nonMSIH_x36944_y14400_patch02273.pt cannot be opened.\n",
      "ERROR:__main__:Error saving D:\\Aamir Gulzar\\KSA_project2\\dataset\\patch_data\\TCGA-CL-4957_nonMSIH\\TCGA-CL-4957_nonMSIH_x36944_y15424_patch02275.png: File D:\\Aamir Gulzar\\KSA_project2\\dataset\\Features\\Uni_2h_fivecrop\\TCGA-CL-4957_nonMSIH\\TCGA-CL-4957_nonMSIH_x36944_y15424_patch02275.pt cannot be opened.\n",
      "ERROR:__main__:Error saving D:\\Aamir Gulzar\\KSA_project2\\dataset\\patch_data\\TCGA-CL-4957_nonMSIH\\TCGA-CL-4957_nonMSIH_x36944_y14912_patch02274.png: File D:\\Aamir Gulzar\\KSA_project2\\dataset\\Features\\Uni_2h_fivecrop\\TCGA-CL-4957_nonMSIH\\TCGA-CL-4957_nonMSIH_x36944_y14912_patch02274.pt cannot be opened.\n",
      "ERROR:__main__:Error saving D:\\Aamir Gulzar\\KSA_project2\\dataset\\patch_data\\TCGA-CL-4957_nonMSIH\\TCGA-CL-4957_nonMSIH_x36944_y15936_patch02276.png: File D:\\Aamir Gulzar\\KSA_project2\\dataset\\Features\\Uni_2h_fivecrop\\TCGA-CL-4957_nonMSIH\\TCGA-CL-4957_nonMSIH_x36944_y15936_patch02276.pt cannot be opened.\n",
      "ERROR:__main__:Error saving D:\\Aamir Gulzar\\KSA_project2\\dataset\\patch_data\\TCGA-CL-4957_nonMSIH\\TCGA-CL-4957_nonMSIH_x36944_y16448_patch02277.png: File D:\\Aamir Gulzar\\KSA_project2\\dataset\\Features\\Uni_2h_fivecrop\\TCGA-CL-4957_nonMSIH\\TCGA-CL-4957_nonMSIH_x36944_y16448_patch02277.pt cannot be opened.\n",
      "ERROR:__main__:Error saving D:\\Aamir Gulzar\\KSA_project2\\dataset\\patch_data\\TCGA-CL-4957_nonMSIH\\TCGA-CL-4957_nonMSIH_x36944_y16960_patch02278.png: File D:\\Aamir Gulzar\\KSA_project2\\dataset\\Features\\Uni_2h_fivecrop\\TCGA-CL-4957_nonMSIH\\TCGA-CL-4957_nonMSIH_x36944_y16960_patch02278.pt cannot be opened.\n",
      "ERROR:__main__:Error saving D:\\Aamir Gulzar\\KSA_project2\\dataset\\patch_data\\TCGA-CL-4957_nonMSIH\\TCGA-CL-4957_nonMSIH_x36944_y17472_patch02279.png: File D:\\Aamir Gulzar\\KSA_project2\\dataset\\Features\\Uni_2h_fivecrop\\TCGA-CL-4957_nonMSIH\\TCGA-CL-4957_nonMSIH_x36944_y17472_patch02279.pt cannot be opened.\n",
      "ERROR:__main__:Error saving D:\\Aamir Gulzar\\KSA_project2\\dataset\\patch_data\\TCGA-CL-4957_nonMSIH\\TCGA-CL-4957_nonMSIH_x36944_y17984_patch02280.png: File D:\\Aamir Gulzar\\KSA_project2\\dataset\\Features\\Uni_2h_fivecrop\\TCGA-CL-4957_nonMSIH\\TCGA-CL-4957_nonMSIH_x36944_y17984_patch02280.pt cannot be opened.\n",
      "ERROR:__main__:Error saving D:\\Aamir Gulzar\\KSA_project2\\dataset\\patch_data\\TCGA-CL-4957_nonMSIH\\TCGA-CL-4957_nonMSIH_x36944_y18496_patch02281.png: File D:\\Aamir Gulzar\\KSA_project2\\dataset\\Features\\Uni_2h_fivecrop\\TCGA-CL-4957_nonMSIH\\TCGA-CL-4957_nonMSIH_x36944_y18496_patch02281.pt cannot be opened.\n",
      "ERROR:__main__:Error saving D:\\Aamir Gulzar\\KSA_project2\\dataset\\patch_data\\TCGA-CL-4957_nonMSIH\\TCGA-CL-4957_nonMSIH_x36944_y19008_patch02282.png: File D:\\Aamir Gulzar\\KSA_project2\\dataset\\Features\\Uni_2h_fivecrop\\TCGA-CL-4957_nonMSIH\\TCGA-CL-4957_nonMSIH_x36944_y19008_patch02282.pt cannot be opened.\n",
      "ERROR:__main__:Error saving D:\\Aamir Gulzar\\KSA_project2\\dataset\\patch_data\\TCGA-CL-4957_nonMSIH\\TCGA-CL-4957_nonMSIH_x36944_y19520_patch02283.png: File D:\\Aamir Gulzar\\KSA_project2\\dataset\\Features\\Uni_2h_fivecrop\\TCGA-CL-4957_nonMSIH\\TCGA-CL-4957_nonMSIH_x36944_y19520_patch02283.pt cannot be opened.\n",
      "ERROR:__main__:Error saving D:\\Aamir Gulzar\\KSA_project2\\dataset\\patch_data\\TCGA-CL-4957_nonMSIH\\TCGA-CL-4957_nonMSIH_x36944_y20032_patch02284.png: File D:\\Aamir Gulzar\\KSA_project2\\dataset\\Features\\Uni_2h_fivecrop\\TCGA-CL-4957_nonMSIH\\TCGA-CL-4957_nonMSIH_x36944_y20032_patch02284.pt cannot be opened.\n",
      "ERROR:__main__:Error saving D:\\Aamir Gulzar\\KSA_project2\\dataset\\patch_data\\TCGA-CL-4957_nonMSIH\\TCGA-CL-4957_nonMSIH_x36944_y20544_patch02285.png: File D:\\Aamir Gulzar\\KSA_project2\\dataset\\Features\\Uni_2h_fivecrop\\TCGA-CL-4957_nonMSIH\\TCGA-CL-4957_nonMSIH_x36944_y20544_patch02285.pt cannot be opened.\n",
      "ERROR:__main__:Error saving D:\\Aamir Gulzar\\KSA_project2\\dataset\\patch_data\\TCGA-CL-4957_nonMSIH\\TCGA-CL-4957_nonMSIH_x36944_y21056_patch02286.png: File D:\\Aamir Gulzar\\KSA_project2\\dataset\\Features\\Uni_2h_fivecrop\\TCGA-CL-4957_nonMSIH\\TCGA-CL-4957_nonMSIH_x36944_y21056_patch02286.pt cannot be opened.\n",
      "ERROR:__main__:Error saving D:\\Aamir Gulzar\\KSA_project2\\dataset\\patch_data\\TCGA-CL-4957_nonMSIH\\TCGA-CL-4957_nonMSIH_x36944_y21568_patch02287.png: File D:\\Aamir Gulzar\\KSA_project2\\dataset\\Features\\Uni_2h_fivecrop\\TCGA-CL-4957_nonMSIH\\TCGA-CL-4957_nonMSIH_x36944_y21568_patch02287.pt cannot be opened.\n",
      "ERROR:__main__:Error saving D:\\Aamir Gulzar\\KSA_project2\\dataset\\patch_data\\TCGA-CL-4957_nonMSIH\\TCGA-CL-4957_nonMSIH_x36944_y22080_patch02288.png: File D:\\Aamir Gulzar\\KSA_project2\\dataset\\Features\\Uni_2h_fivecrop\\TCGA-CL-4957_nonMSIH\\TCGA-CL-4957_nonMSIH_x36944_y22080_patch02288.pt cannot be opened.\n",
      "ERROR:__main__:Error saving D:\\Aamir Gulzar\\KSA_project2\\dataset\\patch_data\\TCGA-CL-4957_nonMSIH\\TCGA-CL-4957_nonMSIH_x36944_y22592_patch02289.png: File D:\\Aamir Gulzar\\KSA_project2\\dataset\\Features\\Uni_2h_fivecrop\\TCGA-CL-4957_nonMSIH\\TCGA-CL-4957_nonMSIH_x36944_y22592_patch02289.pt cannot be opened.\n",
      "ERROR:__main__:Error saving D:\\Aamir Gulzar\\KSA_project2\\dataset\\patch_data\\TCGA-CL-4957_nonMSIH\\TCGA-CL-4957_nonMSIH_x36944_y23104_patch02290.png: File D:\\Aamir Gulzar\\KSA_project2\\dataset\\Features\\Uni_2h_fivecrop\\TCGA-CL-4957_nonMSIH\\TCGA-CL-4957_nonMSIH_x36944_y23104_patch02290.pt cannot be opened.\n",
      "ERROR:__main__:Error saving D:\\Aamir Gulzar\\KSA_project2\\dataset\\patch_data\\TCGA-CL-4957_nonMSIH\\TCGA-CL-4957_nonMSIH_x36944_y23616_patch02291.png: File D:\\Aamir Gulzar\\KSA_project2\\dataset\\Features\\Uni_2h_fivecrop\\TCGA-CL-4957_nonMSIH\\TCGA-CL-4957_nonMSIH_x36944_y23616_patch02291.pt cannot be opened.\n",
      "ERROR:__main__:Error saving D:\\Aamir Gulzar\\KSA_project2\\dataset\\patch_data\\TCGA-CL-4957_nonMSIH\\TCGA-CL-4957_nonMSIH_x36944_y24128_patch02292.png: File D:\\Aamir Gulzar\\KSA_project2\\dataset\\Features\\Uni_2h_fivecrop\\TCGA-CL-4957_nonMSIH\\TCGA-CL-4957_nonMSIH_x36944_y24128_patch02292.pt cannot be opened.\n",
      "ERROR:__main__:Error saving D:\\Aamir Gulzar\\KSA_project2\\dataset\\patch_data\\TCGA-CL-4957_nonMSIH\\TCGA-CL-4957_nonMSIH_x36944_y25152_patch02293.png: File D:\\Aamir Gulzar\\KSA_project2\\dataset\\Features\\Uni_2h_fivecrop\\TCGA-CL-4957_nonMSIH\\TCGA-CL-4957_nonMSIH_x36944_y25152_patch02293.pt cannot be opened.\n",
      "ERROR:__main__:Error saving D:\\Aamir Gulzar\\KSA_project2\\dataset\\patch_data\\TCGA-CL-4957_nonMSIH\\TCGA-CL-4957_nonMSIH_x36944_y5696_patch02256.png: File D:\\Aamir Gulzar\\KSA_project2\\dataset\\Features\\Uni_2h_fivecrop\\TCGA-CL-4957_nonMSIH\\TCGA-CL-4957_nonMSIH_x36944_y5696_patch02256.pt cannot be opened.\n",
      "ERROR:__main__:Error saving D:\\Aamir Gulzar\\KSA_project2\\dataset\\patch_data\\TCGA-CL-4957_nonMSIH\\TCGA-CL-4957_nonMSIH_x36944_y6208_patch02257.png: File D:\\Aamir Gulzar\\KSA_project2\\dataset\\Features\\Uni_2h_fivecrop\\TCGA-CL-4957_nonMSIH\\TCGA-CL-4957_nonMSIH_x36944_y6208_patch02257.pt cannot be opened.\n",
      "ERROR:__main__:Error saving D:\\Aamir Gulzar\\KSA_project2\\dataset\\patch_data\\TCGA-CL-4957_nonMSIH\\TCGA-CL-4957_nonMSIH_x36944_y6720_patch02258.png: File D:\\Aamir Gulzar\\KSA_project2\\dataset\\Features\\Uni_2h_fivecrop\\TCGA-CL-4957_nonMSIH\\TCGA-CL-4957_nonMSIH_x36944_y6720_patch02258.pt cannot be opened.\n",
      "ERROR:__main__:Error saving D:\\Aamir Gulzar\\KSA_project2\\dataset\\patch_data\\TCGA-CL-4957_nonMSIH\\TCGA-CL-4957_nonMSIH_x36944_y7232_patch02259.png: File D:\\Aamir Gulzar\\KSA_project2\\dataset\\Features\\Uni_2h_fivecrop\\TCGA-CL-4957_nonMSIH\\TCGA-CL-4957_nonMSIH_x36944_y7232_patch02259.pt cannot be opened.\n",
      "ERROR:__main__:Error saving D:\\Aamir Gulzar\\KSA_project2\\dataset\\patch_data\\TCGA-CL-4957_nonMSIH\\TCGA-CL-4957_nonMSIH_x36944_y7744_patch02260.png: File D:\\Aamir Gulzar\\KSA_project2\\dataset\\Features\\Uni_2h_fivecrop\\TCGA-CL-4957_nonMSIH\\TCGA-CL-4957_nonMSIH_x36944_y7744_patch02260.pt cannot be opened.\n",
      "ERROR:__main__:Error saving D:\\Aamir Gulzar\\KSA_project2\\dataset\\patch_data\\TCGA-CL-4957_nonMSIH\\TCGA-CL-4957_nonMSIH_x36944_y8256_patch02261.png: File D:\\Aamir Gulzar\\KSA_project2\\dataset\\Features\\Uni_2h_fivecrop\\TCGA-CL-4957_nonMSIH\\TCGA-CL-4957_nonMSIH_x36944_y8256_patch02261.pt cannot be opened.\n",
      "ERROR:__main__:Error saving D:\\Aamir Gulzar\\KSA_project2\\dataset\\patch_data\\TCGA-CL-4957_nonMSIH\\TCGA-CL-4957_nonMSIH_x36944_y8768_patch02262.png: File D:\\Aamir Gulzar\\KSA_project2\\dataset\\Features\\Uni_2h_fivecrop\\TCGA-CL-4957_nonMSIH\\TCGA-CL-4957_nonMSIH_x36944_y8768_patch02262.pt cannot be opened.\n",
      "ERROR:__main__:Error saving D:\\Aamir Gulzar\\KSA_project2\\dataset\\patch_data\\TCGA-CL-4957_nonMSIH\\TCGA-CL-4957_nonMSIH_x36944_y9280_patch02263.png: File D:\\Aamir Gulzar\\KSA_project2\\dataset\\Features\\Uni_2h_fivecrop\\TCGA-CL-4957_nonMSIH\\TCGA-CL-4957_nonMSIH_x36944_y9280_patch02263.pt cannot be opened.\n",
      "ERROR:__main__:Error saving D:\\Aamir Gulzar\\KSA_project2\\dataset\\patch_data\\TCGA-CL-4957_nonMSIH\\TCGA-CL-4957_nonMSIH_x36944_y9792_patch02264.png: File D:\\Aamir Gulzar\\KSA_project2\\dataset\\Features\\Uni_2h_fivecrop\\TCGA-CL-4957_nonMSIH\\TCGA-CL-4957_nonMSIH_x36944_y9792_patch02264.pt cannot be opened.\n",
      "ERROR:__main__:Error saving D:\\Aamir Gulzar\\KSA_project2\\dataset\\patch_data\\TCGA-CL-4957_nonMSIH\\TCGA-CL-4957_nonMSIH_x37456_y10304_patch02303.png: File D:\\Aamir Gulzar\\KSA_project2\\dataset\\Features\\Uni_2h_fivecrop\\TCGA-CL-4957_nonMSIH\\TCGA-CL-4957_nonMSIH_x37456_y10304_patch02303.pt cannot be opened.\n",
      "ERROR:__main__:Error saving D:\\Aamir Gulzar\\KSA_project2\\dataset\\patch_data\\TCGA-CL-4957_nonMSIH\\TCGA-CL-4957_nonMSIH_x37456_y10816_patch02304.png: File D:\\Aamir Gulzar\\KSA_project2\\dataset\\Features\\Uni_2h_fivecrop\\TCGA-CL-4957_nonMSIH\\TCGA-CL-4957_nonMSIH_x37456_y10816_patch02304.pt cannot be opened.\n",
      "ERROR:__main__:Error saving D:\\Aamir Gulzar\\KSA_project2\\dataset\\patch_data\\TCGA-CL-4957_nonMSIH\\TCGA-CL-4957_nonMSIH_x37456_y11328_patch02305.png: File D:\\Aamir Gulzar\\KSA_project2\\dataset\\Features\\Uni_2h_fivecrop\\TCGA-CL-4957_nonMSIH\\TCGA-CL-4957_nonMSIH_x37456_y11328_patch02305.pt cannot be opened.\n",
      "ERROR:__main__:Error saving D:\\Aamir Gulzar\\KSA_project2\\dataset\\patch_data\\TCGA-CL-4957_nonMSIH\\TCGA-CL-4957_nonMSIH_x37456_y11840_patch02306.png: File D:\\Aamir Gulzar\\KSA_project2\\dataset\\Features\\Uni_2h_fivecrop\\TCGA-CL-4957_nonMSIH\\TCGA-CL-4957_nonMSIH_x37456_y11840_patch02306.pt cannot be opened.\n",
      "ERROR:__main__:Error saving D:\\Aamir Gulzar\\KSA_project2\\dataset\\patch_data\\TCGA-CL-4957_nonMSIH\\TCGA-CL-4957_nonMSIH_x37456_y12352_patch02307.png: File D:\\Aamir Gulzar\\KSA_project2\\dataset\\Features\\Uni_2h_fivecrop\\TCGA-CL-4957_nonMSIH\\TCGA-CL-4957_nonMSIH_x37456_y12352_patch02307.pt cannot be opened.\n",
      "ERROR:__main__:Error saving D:\\Aamir Gulzar\\KSA_project2\\dataset\\patch_data\\TCGA-CL-4957_nonMSIH\\TCGA-CL-4957_nonMSIH_x37456_y12864_patch02308.png: File D:\\Aamir Gulzar\\KSA_project2\\dataset\\Features\\Uni_2h_fivecrop\\TCGA-CL-4957_nonMSIH\\TCGA-CL-4957_nonMSIH_x37456_y12864_patch02308.pt cannot be opened.\n",
      "ERROR:__main__:Error saving D:\\Aamir Gulzar\\KSA_project2\\dataset\\patch_data\\TCGA-CL-4957_nonMSIH\\TCGA-CL-4957_nonMSIH_x37456_y13376_patch02309.png: File D:\\Aamir Gulzar\\KSA_project2\\dataset\\Features\\Uni_2h_fivecrop\\TCGA-CL-4957_nonMSIH\\TCGA-CL-4957_nonMSIH_x37456_y13376_patch02309.pt cannot be opened.\n",
      "ERROR:__main__:Error saving D:\\Aamir Gulzar\\KSA_project2\\dataset\\patch_data\\TCGA-CL-4957_nonMSIH\\TCGA-CL-4957_nonMSIH_x37456_y13888_patch02310.png: File D:\\Aamir Gulzar\\KSA_project2\\dataset\\Features\\Uni_2h_fivecrop\\TCGA-CL-4957_nonMSIH\\TCGA-CL-4957_nonMSIH_x37456_y13888_patch02310.pt cannot be opened.\n",
      "ERROR:__main__:Error saving D:\\Aamir Gulzar\\KSA_project2\\dataset\\patch_data\\TCGA-CL-4957_nonMSIH\\TCGA-CL-4957_nonMSIH_x37456_y14400_patch02311.png: File D:\\Aamir Gulzar\\KSA_project2\\dataset\\Features\\Uni_2h_fivecrop\\TCGA-CL-4957_nonMSIH\\TCGA-CL-4957_nonMSIH_x37456_y14400_patch02311.pt cannot be opened.\n",
      "ERROR:__main__:Error saving D:\\Aamir Gulzar\\KSA_project2\\dataset\\patch_data\\TCGA-CL-4957_nonMSIH\\TCGA-CL-4957_nonMSIH_x37456_y14912_patch02312.png: File D:\\Aamir Gulzar\\KSA_project2\\dataset\\Features\\Uni_2h_fivecrop\\TCGA-CL-4957_nonMSIH\\TCGA-CL-4957_nonMSIH_x37456_y14912_patch02312.pt cannot be opened.\n",
      "ERROR:__main__:Error saving D:\\Aamir Gulzar\\KSA_project2\\dataset\\patch_data\\TCGA-CL-4957_nonMSIH\\TCGA-CL-4957_nonMSIH_x37456_y15424_patch02313.png: File D:\\Aamir Gulzar\\KSA_project2\\dataset\\Features\\Uni_2h_fivecrop\\TCGA-CL-4957_nonMSIH\\TCGA-CL-4957_nonMSIH_x37456_y15424_patch02313.pt cannot be opened.\n",
      "ERROR:__main__:Error saving D:\\Aamir Gulzar\\KSA_project2\\dataset\\patch_data\\TCGA-CL-4957_nonMSIH\\TCGA-CL-4957_nonMSIH_x37456_y15936_patch02314.png: File D:\\Aamir Gulzar\\KSA_project2\\dataset\\Features\\Uni_2h_fivecrop\\TCGA-CL-4957_nonMSIH\\TCGA-CL-4957_nonMSIH_x37456_y15936_patch02314.pt cannot be opened.\n",
      "ERROR:__main__:Error saving D:\\Aamir Gulzar\\KSA_project2\\dataset\\patch_data\\TCGA-CL-4957_nonMSIH\\TCGA-CL-4957_nonMSIH_x37456_y16448_patch02315.png: File D:\\Aamir Gulzar\\KSA_project2\\dataset\\Features\\Uni_2h_fivecrop\\TCGA-CL-4957_nonMSIH\\TCGA-CL-4957_nonMSIH_x37456_y16448_patch02315.pt cannot be opened.\n",
      "ERROR:__main__:Error saving D:\\Aamir Gulzar\\KSA_project2\\dataset\\patch_data\\TCGA-CL-4957_nonMSIH\\TCGA-CL-4957_nonMSIH_x37456_y16960_patch02316.png: File D:\\Aamir Gulzar\\KSA_project2\\dataset\\Features\\Uni_2h_fivecrop\\TCGA-CL-4957_nonMSIH\\TCGA-CL-4957_nonMSIH_x37456_y16960_patch02316.pt cannot be opened.\n",
      "ERROR:__main__:Error saving D:\\Aamir Gulzar\\KSA_project2\\dataset\\patch_data\\TCGA-CL-4957_nonMSIH\\TCGA-CL-4957_nonMSIH_x37456_y17472_patch02317.png: File D:\\Aamir Gulzar\\KSA_project2\\dataset\\Features\\Uni_2h_fivecrop\\TCGA-CL-4957_nonMSIH\\TCGA-CL-4957_nonMSIH_x37456_y17472_patch02317.pt cannot be opened.\n",
      "ERROR:__main__:Error saving D:\\Aamir Gulzar\\KSA_project2\\dataset\\patch_data\\TCGA-CL-4957_nonMSIH\\TCGA-CL-4957_nonMSIH_x37456_y17984_patch02318.png: File D:\\Aamir Gulzar\\KSA_project2\\dataset\\Features\\Uni_2h_fivecrop\\TCGA-CL-4957_nonMSIH\\TCGA-CL-4957_nonMSIH_x37456_y17984_patch02318.pt cannot be opened.\n",
      "ERROR:__main__:Error saving D:\\Aamir Gulzar\\KSA_project2\\dataset\\patch_data\\TCGA-CL-4957_nonMSIH\\TCGA-CL-4957_nonMSIH_x37456_y18496_patch02319.png: File D:\\Aamir Gulzar\\KSA_project2\\dataset\\Features\\Uni_2h_fivecrop\\TCGA-CL-4957_nonMSIH\\TCGA-CL-4957_nonMSIH_x37456_y18496_patch02319.pt cannot be opened.\n",
      "ERROR:__main__:Error saving D:\\Aamir Gulzar\\KSA_project2\\dataset\\patch_data\\TCGA-CL-4957_nonMSIH\\TCGA-CL-4957_nonMSIH_x37456_y19008_patch02320.png: File D:\\Aamir Gulzar\\KSA_project2\\dataset\\Features\\Uni_2h_fivecrop\\TCGA-CL-4957_nonMSIH\\TCGA-CL-4957_nonMSIH_x37456_y19008_patch02320.pt cannot be opened.\n",
      "ERROR:__main__:Error saving D:\\Aamir Gulzar\\KSA_project2\\dataset\\patch_data\\TCGA-CL-4957_nonMSIH\\TCGA-CL-4957_nonMSIH_x37456_y19520_patch02321.png: File D:\\Aamir Gulzar\\KSA_project2\\dataset\\Features\\Uni_2h_fivecrop\\TCGA-CL-4957_nonMSIH\\TCGA-CL-4957_nonMSIH_x37456_y19520_patch02321.pt cannot be opened.\n",
      "ERROR:__main__:Error saving D:\\Aamir Gulzar\\KSA_project2\\dataset\\patch_data\\TCGA-CL-4957_nonMSIH\\TCGA-CL-4957_nonMSIH_x37456_y20032_patch02322.png: File D:\\Aamir Gulzar\\KSA_project2\\dataset\\Features\\Uni_2h_fivecrop\\TCGA-CL-4957_nonMSIH\\TCGA-CL-4957_nonMSIH_x37456_y20032_patch02322.pt cannot be opened.\n",
      "ERROR:__main__:Error saving D:\\Aamir Gulzar\\KSA_project2\\dataset\\patch_data\\TCGA-CL-4957_nonMSIH\\TCGA-CL-4957_nonMSIH_x37456_y20544_patch02323.png: File D:\\Aamir Gulzar\\KSA_project2\\dataset\\Features\\Uni_2h_fivecrop\\TCGA-CL-4957_nonMSIH\\TCGA-CL-4957_nonMSIH_x37456_y20544_patch02323.pt cannot be opened.\n",
      "ERROR:__main__:Error saving D:\\Aamir Gulzar\\KSA_project2\\dataset\\patch_data\\TCGA-CL-4957_nonMSIH\\TCGA-CL-4957_nonMSIH_x37456_y21056_patch02324.png: File D:\\Aamir Gulzar\\KSA_project2\\dataset\\Features\\Uni_2h_fivecrop\\TCGA-CL-4957_nonMSIH\\TCGA-CL-4957_nonMSIH_x37456_y21056_patch02324.pt cannot be opened.\n",
      "ERROR:__main__:Error saving D:\\Aamir Gulzar\\KSA_project2\\dataset\\patch_data\\TCGA-CL-4957_nonMSIH\\TCGA-CL-4957_nonMSIH_x37456_y21568_patch02325.png: File D:\\Aamir Gulzar\\KSA_project2\\dataset\\Features\\Uni_2h_fivecrop\\TCGA-CL-4957_nonMSIH\\TCGA-CL-4957_nonMSIH_x37456_y21568_patch02325.pt cannot be opened.\n",
      "ERROR:__main__:Error saving D:\\Aamir Gulzar\\KSA_project2\\dataset\\patch_data\\TCGA-CL-4957_nonMSIH\\TCGA-CL-4957_nonMSIH_x37456_y22080_patch02326.png: File D:\\Aamir Gulzar\\KSA_project2\\dataset\\Features\\Uni_2h_fivecrop\\TCGA-CL-4957_nonMSIH\\TCGA-CL-4957_nonMSIH_x37456_y22080_patch02326.pt cannot be opened.\n",
      "ERROR:__main__:Error saving D:\\Aamir Gulzar\\KSA_project2\\dataset\\patch_data\\TCGA-CL-4957_nonMSIH\\TCGA-CL-4957_nonMSIH_x37456_y22592_patch02327.png: File D:\\Aamir Gulzar\\KSA_project2\\dataset\\Features\\Uni_2h_fivecrop\\TCGA-CL-4957_nonMSIH\\TCGA-CL-4957_nonMSIH_x37456_y22592_patch02327.pt cannot be opened.\n",
      "ERROR:__main__:Error saving D:\\Aamir Gulzar\\KSA_project2\\dataset\\patch_data\\TCGA-CL-4957_nonMSIH\\TCGA-CL-4957_nonMSIH_x37456_y23104_patch02328.png: File D:\\Aamir Gulzar\\KSA_project2\\dataset\\Features\\Uni_2h_fivecrop\\TCGA-CL-4957_nonMSIH\\TCGA-CL-4957_nonMSIH_x37456_y23104_patch02328.pt cannot be opened.\n",
      "ERROR:__main__:Error saving D:\\Aamir Gulzar\\KSA_project2\\dataset\\patch_data\\TCGA-CL-4957_nonMSIH\\TCGA-CL-4957_nonMSIH_x37456_y23616_patch02329.png: File D:\\Aamir Gulzar\\KSA_project2\\dataset\\Features\\Uni_2h_fivecrop\\TCGA-CL-4957_nonMSIH\\TCGA-CL-4957_nonMSIH_x37456_y23616_patch02329.pt cannot be opened.\n",
      "ERROR:__main__:Error saving D:\\Aamir Gulzar\\KSA_project2\\dataset\\patch_data\\TCGA-CL-4957_nonMSIH\\TCGA-CL-4957_nonMSIH_x37456_y5696_patch02294.png: File D:\\Aamir Gulzar\\KSA_project2\\dataset\\Features\\Uni_2h_fivecrop\\TCGA-CL-4957_nonMSIH\\TCGA-CL-4957_nonMSIH_x37456_y5696_patch02294.pt cannot be opened.\n",
      "ERROR:__main__:Error saving D:\\Aamir Gulzar\\KSA_project2\\dataset\\patch_data\\TCGA-CL-4957_nonMSIH\\TCGA-CL-4957_nonMSIH_x37456_y6208_patch02295.png: File D:\\Aamir Gulzar\\KSA_project2\\dataset\\Features\\Uni_2h_fivecrop\\TCGA-CL-4957_nonMSIH\\TCGA-CL-4957_nonMSIH_x37456_y6208_patch02295.pt cannot be opened.\n",
      "ERROR:__main__:Error saving D:\\Aamir Gulzar\\KSA_project2\\dataset\\patch_data\\TCGA-CL-4957_nonMSIH\\TCGA-CL-4957_nonMSIH_x37456_y6720_patch02296.png: File D:\\Aamir Gulzar\\KSA_project2\\dataset\\Features\\Uni_2h_fivecrop\\TCGA-CL-4957_nonMSIH\\TCGA-CL-4957_nonMSIH_x37456_y6720_patch02296.pt cannot be opened.\n",
      "ERROR:__main__:Error saving D:\\Aamir Gulzar\\KSA_project2\\dataset\\patch_data\\TCGA-CL-4957_nonMSIH\\TCGA-CL-4957_nonMSIH_x37456_y7232_patch02297.png: File D:\\Aamir Gulzar\\KSA_project2\\dataset\\Features\\Uni_2h_fivecrop\\TCGA-CL-4957_nonMSIH\\TCGA-CL-4957_nonMSIH_x37456_y7232_patch02297.pt cannot be opened.\n",
      "ERROR:__main__:Error saving D:\\Aamir Gulzar\\KSA_project2\\dataset\\patch_data\\TCGA-CL-4957_nonMSIH\\TCGA-CL-4957_nonMSIH_x37456_y7744_patch02298.png: File D:\\Aamir Gulzar\\KSA_project2\\dataset\\Features\\Uni_2h_fivecrop\\TCGA-CL-4957_nonMSIH\\TCGA-CL-4957_nonMSIH_x37456_y7744_patch02298.pt cannot be opened.\n",
      "ERROR:__main__:Error saving D:\\Aamir Gulzar\\KSA_project2\\dataset\\patch_data\\TCGA-CL-4957_nonMSIH\\TCGA-CL-4957_nonMSIH_x37456_y8256_patch02299.png: File D:\\Aamir Gulzar\\KSA_project2\\dataset\\Features\\Uni_2h_fivecrop\\TCGA-CL-4957_nonMSIH\\TCGA-CL-4957_nonMSIH_x37456_y8256_patch02299.pt cannot be opened.\n",
      "ERROR:__main__:Error saving D:\\Aamir Gulzar\\KSA_project2\\dataset\\patch_data\\TCGA-CL-4957_nonMSIH\\TCGA-CL-4957_nonMSIH_x37456_y8768_patch02300.png: File D:\\Aamir Gulzar\\KSA_project2\\dataset\\Features\\Uni_2h_fivecrop\\TCGA-CL-4957_nonMSIH\\TCGA-CL-4957_nonMSIH_x37456_y8768_patch02300.pt cannot be opened.\n",
      "ERROR:__main__:Error saving D:\\Aamir Gulzar\\KSA_project2\\dataset\\patch_data\\TCGA-CL-4957_nonMSIH\\TCGA-CL-4957_nonMSIH_x37456_y9280_patch02301.png: File D:\\Aamir Gulzar\\KSA_project2\\dataset\\Features\\Uni_2h_fivecrop\\TCGA-CL-4957_nonMSIH\\TCGA-CL-4957_nonMSIH_x37456_y9280_patch02301.pt cannot be opened.\n",
      "ERROR:__main__:Error saving D:\\Aamir Gulzar\\KSA_project2\\dataset\\patch_data\\TCGA-CL-4957_nonMSIH\\TCGA-CL-4957_nonMSIH_x37456_y9792_patch02302.png: File D:\\Aamir Gulzar\\KSA_project2\\dataset\\Features\\Uni_2h_fivecrop\\TCGA-CL-4957_nonMSIH\\TCGA-CL-4957_nonMSIH_x37456_y9792_patch02302.pt cannot be opened.\n",
      "ERROR:__main__:Error saving D:\\Aamir Gulzar\\KSA_project2\\dataset\\patch_data\\TCGA-CL-4957_nonMSIH\\TCGA-CL-4957_nonMSIH_x37968_y10304_patch02339.png: File D:\\Aamir Gulzar\\KSA_project2\\dataset\\Features\\Uni_2h_fivecrop\\TCGA-CL-4957_nonMSIH\\TCGA-CL-4957_nonMSIH_x37968_y10304_patch02339.pt cannot be opened.\n",
      "ERROR:__main__:Error saving D:\\Aamir Gulzar\\KSA_project2\\dataset\\patch_data\\TCGA-CL-4957_nonMSIH\\TCGA-CL-4957_nonMSIH_x37968_y10816_patch02340.png: File D:\\Aamir Gulzar\\KSA_project2\\dataset\\Features\\Uni_2h_fivecrop\\TCGA-CL-4957_nonMSIH\\TCGA-CL-4957_nonMSIH_x37968_y10816_patch02340.pt cannot be opened.\n",
      "ERROR:__main__:Error saving D:\\Aamir Gulzar\\KSA_project2\\dataset\\patch_data\\TCGA-CL-4957_nonMSIH\\TCGA-CL-4957_nonMSIH_x37968_y11328_patch02341.png: File D:\\Aamir Gulzar\\KSA_project2\\dataset\\Features\\Uni_2h_fivecrop\\TCGA-CL-4957_nonMSIH\\TCGA-CL-4957_nonMSIH_x37968_y11328_patch02341.pt cannot be opened.\n",
      "ERROR:__main__:Error saving D:\\Aamir Gulzar\\KSA_project2\\dataset\\patch_data\\TCGA-CL-4957_nonMSIH\\TCGA-CL-4957_nonMSIH_x37968_y11840_patch02342.png: File D:\\Aamir Gulzar\\KSA_project2\\dataset\\Features\\Uni_2h_fivecrop\\TCGA-CL-4957_nonMSIH\\TCGA-CL-4957_nonMSIH_x37968_y11840_patch02342.pt cannot be opened.\n",
      "ERROR:__main__:Error saving D:\\Aamir Gulzar\\KSA_project2\\dataset\\patch_data\\TCGA-CL-4957_nonMSIH\\TCGA-CL-4957_nonMSIH_x37968_y12352_patch02343.png: File D:\\Aamir Gulzar\\KSA_project2\\dataset\\Features\\Uni_2h_fivecrop\\TCGA-CL-4957_nonMSIH\\TCGA-CL-4957_nonMSIH_x37968_y12352_patch02343.pt cannot be opened.\n",
      "ERROR:__main__:Error saving D:\\Aamir Gulzar\\KSA_project2\\dataset\\patch_data\\TCGA-CL-4957_nonMSIH\\TCGA-CL-4957_nonMSIH_x37968_y12864_patch02344.png: File D:\\Aamir Gulzar\\KSA_project2\\dataset\\Features\\Uni_2h_fivecrop\\TCGA-CL-4957_nonMSIH\\TCGA-CL-4957_nonMSIH_x37968_y12864_patch02344.pt cannot be opened.\n",
      "ERROR:__main__:Error saving D:\\Aamir Gulzar\\KSA_project2\\dataset\\patch_data\\TCGA-CL-4957_nonMSIH\\TCGA-CL-4957_nonMSIH_x37968_y13376_patch02345.png: File D:\\Aamir Gulzar\\KSA_project2\\dataset\\Features\\Uni_2h_fivecrop\\TCGA-CL-4957_nonMSIH\\TCGA-CL-4957_nonMSIH_x37968_y13376_patch02345.pt cannot be opened.\n",
      "ERROR:__main__:Error saving D:\\Aamir Gulzar\\KSA_project2\\dataset\\patch_data\\TCGA-CL-4957_nonMSIH\\TCGA-CL-4957_nonMSIH_x37968_y13888_patch02346.png: File D:\\Aamir Gulzar\\KSA_project2\\dataset\\Features\\Uni_2h_fivecrop\\TCGA-CL-4957_nonMSIH\\TCGA-CL-4957_nonMSIH_x37968_y13888_patch02346.pt cannot be opened.\n",
      "ERROR:__main__:Error saving D:\\Aamir Gulzar\\KSA_project2\\dataset\\patch_data\\TCGA-CL-4957_nonMSIH\\TCGA-CL-4957_nonMSIH_x37968_y14400_patch02347.png: File D:\\Aamir Gulzar\\KSA_project2\\dataset\\Features\\Uni_2h_fivecrop\\TCGA-CL-4957_nonMSIH\\TCGA-CL-4957_nonMSIH_x37968_y14400_patch02347.pt cannot be opened.\n",
      "ERROR:__main__:Error saving D:\\Aamir Gulzar\\KSA_project2\\dataset\\patch_data\\TCGA-CL-4957_nonMSIH\\TCGA-CL-4957_nonMSIH_x37968_y14912_patch02348.png: File D:\\Aamir Gulzar\\KSA_project2\\dataset\\Features\\Uni_2h_fivecrop\\TCGA-CL-4957_nonMSIH\\TCGA-CL-4957_nonMSIH_x37968_y14912_patch02348.pt cannot be opened.\n",
      "ERROR:__main__:Error saving D:\\Aamir Gulzar\\KSA_project2\\dataset\\patch_data\\TCGA-CL-4957_nonMSIH\\TCGA-CL-4957_nonMSIH_x37968_y15424_patch02349.png: File D:\\Aamir Gulzar\\KSA_project2\\dataset\\Features\\Uni_2h_fivecrop\\TCGA-CL-4957_nonMSIH\\TCGA-CL-4957_nonMSIH_x37968_y15424_patch02349.pt cannot be opened.\n",
      "ERROR:__main__:Error saving D:\\Aamir Gulzar\\KSA_project2\\dataset\\patch_data\\TCGA-CL-4957_nonMSIH\\TCGA-CL-4957_nonMSIH_x37968_y15936_patch02350.png: File D:\\Aamir Gulzar\\KSA_project2\\dataset\\Features\\Uni_2h_fivecrop\\TCGA-CL-4957_nonMSIH\\TCGA-CL-4957_nonMSIH_x37968_y15936_patch02350.pt cannot be opened.\n",
      "ERROR:__main__:Error saving D:\\Aamir Gulzar\\KSA_project2\\dataset\\patch_data\\TCGA-CL-4957_nonMSIH\\TCGA-CL-4957_nonMSIH_x37968_y16448_patch02351.png: File D:\\Aamir Gulzar\\KSA_project2\\dataset\\Features\\Uni_2h_fivecrop\\TCGA-CL-4957_nonMSIH\\TCGA-CL-4957_nonMSIH_x37968_y16448_patch02351.pt cannot be opened.\n",
      "ERROR:__main__:Error saving D:\\Aamir Gulzar\\KSA_project2\\dataset\\patch_data\\TCGA-CL-4957_nonMSIH\\TCGA-CL-4957_nonMSIH_x37968_y16960_patch02352.png: File D:\\Aamir Gulzar\\KSA_project2\\dataset\\Features\\Uni_2h_fivecrop\\TCGA-CL-4957_nonMSIH\\TCGA-CL-4957_nonMSIH_x37968_y16960_patch02352.pt cannot be opened.\n",
      "ERROR:__main__:Error saving D:\\Aamir Gulzar\\KSA_project2\\dataset\\patch_data\\TCGA-CL-4957_nonMSIH\\TCGA-CL-4957_nonMSIH_x37968_y17472_patch02353.png: File D:\\Aamir Gulzar\\KSA_project2\\dataset\\Features\\Uni_2h_fivecrop\\TCGA-CL-4957_nonMSIH\\TCGA-CL-4957_nonMSIH_x37968_y17472_patch02353.pt cannot be opened.\n",
      "ERROR:__main__:Error saving D:\\Aamir Gulzar\\KSA_project2\\dataset\\patch_data\\TCGA-CL-4957_nonMSIH\\TCGA-CL-4957_nonMSIH_x37968_y17984_patch02354.png: File D:\\Aamir Gulzar\\KSA_project2\\dataset\\Features\\Uni_2h_fivecrop\\TCGA-CL-4957_nonMSIH\\TCGA-CL-4957_nonMSIH_x37968_y17984_patch02354.pt cannot be opened.\n",
      "ERROR:__main__:Error saving D:\\Aamir Gulzar\\KSA_project2\\dataset\\patch_data\\TCGA-CL-4957_nonMSIH\\TCGA-CL-4957_nonMSIH_x37968_y18496_patch02355.png: File D:\\Aamir Gulzar\\KSA_project2\\dataset\\Features\\Uni_2h_fivecrop\\TCGA-CL-4957_nonMSIH\\TCGA-CL-4957_nonMSIH_x37968_y18496_patch02355.pt cannot be opened.\n",
      "ERROR:__main__:Error saving D:\\Aamir Gulzar\\KSA_project2\\dataset\\patch_data\\TCGA-CL-4957_nonMSIH\\TCGA-CL-4957_nonMSIH_x37968_y19008_patch02356.png: File D:\\Aamir Gulzar\\KSA_project2\\dataset\\Features\\Uni_2h_fivecrop\\TCGA-CL-4957_nonMSIH\\TCGA-CL-4957_nonMSIH_x37968_y19008_patch02356.pt cannot be opened.\n",
      "ERROR:__main__:Error saving D:\\Aamir Gulzar\\KSA_project2\\dataset\\patch_data\\TCGA-CL-4957_nonMSIH\\TCGA-CL-4957_nonMSIH_x37968_y19520_patch02357.png: File D:\\Aamir Gulzar\\KSA_project2\\dataset\\Features\\Uni_2h_fivecrop\\TCGA-CL-4957_nonMSIH\\TCGA-CL-4957_nonMSIH_x37968_y19520_patch02357.pt cannot be opened.\n",
      "ERROR:__main__:Error saving D:\\Aamir Gulzar\\KSA_project2\\dataset\\patch_data\\TCGA-CL-4957_nonMSIH\\TCGA-CL-4957_nonMSIH_x37968_y20032_patch02358.png: File D:\\Aamir Gulzar\\KSA_project2\\dataset\\Features\\Uni_2h_fivecrop\\TCGA-CL-4957_nonMSIH\\TCGA-CL-4957_nonMSIH_x37968_y20032_patch02358.pt cannot be opened.\n",
      "ERROR:__main__:Error saving D:\\Aamir Gulzar\\KSA_project2\\dataset\\patch_data\\TCGA-CL-4957_nonMSIH\\TCGA-CL-4957_nonMSIH_x37968_y20544_patch02359.png: File D:\\Aamir Gulzar\\KSA_project2\\dataset\\Features\\Uni_2h_fivecrop\\TCGA-CL-4957_nonMSIH\\TCGA-CL-4957_nonMSIH_x37968_y20544_patch02359.pt cannot be opened.\n",
      "ERROR:__main__:Error saving D:\\Aamir Gulzar\\KSA_project2\\dataset\\patch_data\\TCGA-CL-4957_nonMSIH\\TCGA-CL-4957_nonMSIH_x37968_y21056_patch02360.png: File D:\\Aamir Gulzar\\KSA_project2\\dataset\\Features\\Uni_2h_fivecrop\\TCGA-CL-4957_nonMSIH\\TCGA-CL-4957_nonMSIH_x37968_y21056_patch02360.pt cannot be opened.\n",
      "ERROR:__main__:Error saving D:\\Aamir Gulzar\\KSA_project2\\dataset\\patch_data\\TCGA-CL-4957_nonMSIH\\TCGA-CL-4957_nonMSIH_x37968_y21568_patch02361.png: File D:\\Aamir Gulzar\\KSA_project2\\dataset\\Features\\Uni_2h_fivecrop\\TCGA-CL-4957_nonMSIH\\TCGA-CL-4957_nonMSIH_x37968_y21568_patch02361.pt cannot be opened.\n",
      "ERROR:__main__:Error saving D:\\Aamir Gulzar\\KSA_project2\\dataset\\patch_data\\TCGA-CL-4957_nonMSIH\\TCGA-CL-4957_nonMSIH_x37968_y22080_patch02362.png: File D:\\Aamir Gulzar\\KSA_project2\\dataset\\Features\\Uni_2h_fivecrop\\TCGA-CL-4957_nonMSIH\\TCGA-CL-4957_nonMSIH_x37968_y22080_patch02362.pt cannot be opened.\n",
      "ERROR:__main__:Error saving D:\\Aamir Gulzar\\KSA_project2\\dataset\\patch_data\\TCGA-CL-4957_nonMSIH\\TCGA-CL-4957_nonMSIH_x37968_y22592_patch02363.png: File D:\\Aamir Gulzar\\KSA_project2\\dataset\\Features\\Uni_2h_fivecrop\\TCGA-CL-4957_nonMSIH\\TCGA-CL-4957_nonMSIH_x37968_y22592_patch02363.pt cannot be opened.\n",
      "ERROR:__main__:Error saving D:\\Aamir Gulzar\\KSA_project2\\dataset\\patch_data\\TCGA-CL-4957_nonMSIH\\TCGA-CL-4957_nonMSIH_x37968_y23104_patch02364.png: File D:\\Aamir Gulzar\\KSA_project2\\dataset\\Features\\Uni_2h_fivecrop\\TCGA-CL-4957_nonMSIH\\TCGA-CL-4957_nonMSIH_x37968_y23104_patch02364.pt cannot be opened.\n",
      "ERROR:__main__:Error saving D:\\Aamir Gulzar\\KSA_project2\\dataset\\patch_data\\TCGA-CL-4957_nonMSIH\\TCGA-CL-4957_nonMSIH_x37968_y5696_patch02330.png: File D:\\Aamir Gulzar\\KSA_project2\\dataset\\Features\\Uni_2h_fivecrop\\TCGA-CL-4957_nonMSIH\\TCGA-CL-4957_nonMSIH_x37968_y5696_patch02330.pt cannot be opened.\n",
      "ERROR:__main__:Error saving D:\\Aamir Gulzar\\KSA_project2\\dataset\\patch_data\\TCGA-CL-4957_nonMSIH\\TCGA-CL-4957_nonMSIH_x37968_y6208_patch02331.png: File D:\\Aamir Gulzar\\KSA_project2\\dataset\\Features\\Uni_2h_fivecrop\\TCGA-CL-4957_nonMSIH\\TCGA-CL-4957_nonMSIH_x37968_y6208_patch02331.pt cannot be opened.\n",
      "ERROR:__main__:Error saving D:\\Aamir Gulzar\\KSA_project2\\dataset\\patch_data\\TCGA-CL-4957_nonMSIH\\TCGA-CL-4957_nonMSIH_x37968_y6720_patch02332.png: File D:\\Aamir Gulzar\\KSA_project2\\dataset\\Features\\Uni_2h_fivecrop\\TCGA-CL-4957_nonMSIH\\TCGA-CL-4957_nonMSIH_x37968_y6720_patch02332.pt cannot be opened.\n",
      "ERROR:__main__:Error saving D:\\Aamir Gulzar\\KSA_project2\\dataset\\patch_data\\TCGA-CL-4957_nonMSIH\\TCGA-CL-4957_nonMSIH_x37968_y7232_patch02333.png: File D:\\Aamir Gulzar\\KSA_project2\\dataset\\Features\\Uni_2h_fivecrop\\TCGA-CL-4957_nonMSIH\\TCGA-CL-4957_nonMSIH_x37968_y7232_patch02333.pt cannot be opened.\n",
      "ERROR:__main__:Error saving D:\\Aamir Gulzar\\KSA_project2\\dataset\\patch_data\\TCGA-CL-4957_nonMSIH\\TCGA-CL-4957_nonMSIH_x37968_y7744_patch02334.png: File D:\\Aamir Gulzar\\KSA_project2\\dataset\\Features\\Uni_2h_fivecrop\\TCGA-CL-4957_nonMSIH\\TCGA-CL-4957_nonMSIH_x37968_y7744_patch02334.pt cannot be opened.\n",
      "ERROR:__main__:Error saving D:\\Aamir Gulzar\\KSA_project2\\dataset\\patch_data\\TCGA-CL-4957_nonMSIH\\TCGA-CL-4957_nonMSIH_x37968_y8256_patch02335.png: File D:\\Aamir Gulzar\\KSA_project2\\dataset\\Features\\Uni_2h_fivecrop\\TCGA-CL-4957_nonMSIH\\TCGA-CL-4957_nonMSIH_x37968_y8256_patch02335.pt cannot be opened.\n",
      "ERROR:__main__:Error saving D:\\Aamir Gulzar\\KSA_project2\\dataset\\patch_data\\TCGA-CL-4957_nonMSIH\\TCGA-CL-4957_nonMSIH_x37968_y8768_patch02336.png: File D:\\Aamir Gulzar\\KSA_project2\\dataset\\Features\\Uni_2h_fivecrop\\TCGA-CL-4957_nonMSIH\\TCGA-CL-4957_nonMSIH_x37968_y8768_patch02336.pt cannot be opened.\n",
      "ERROR:__main__:Error saving D:\\Aamir Gulzar\\KSA_project2\\dataset\\patch_data\\TCGA-CL-4957_nonMSIH\\TCGA-CL-4957_nonMSIH_x37968_y9280_patch02337.png: File D:\\Aamir Gulzar\\KSA_project2\\dataset\\Features\\Uni_2h_fivecrop\\TCGA-CL-4957_nonMSIH\\TCGA-CL-4957_nonMSIH_x37968_y9280_patch02337.pt cannot be opened.\n",
      "ERROR:__main__:Error saving D:\\Aamir Gulzar\\KSA_project2\\dataset\\patch_data\\TCGA-CL-4957_nonMSIH\\TCGA-CL-4957_nonMSIH_x37968_y9792_patch02338.png: File D:\\Aamir Gulzar\\KSA_project2\\dataset\\Features\\Uni_2h_fivecrop\\TCGA-CL-4957_nonMSIH\\TCGA-CL-4957_nonMSIH_x37968_y9792_patch02338.pt cannot be opened.\n",
      "ERROR:__main__:Error saving D:\\Aamir Gulzar\\KSA_project2\\dataset\\patch_data\\TCGA-CL-4957_nonMSIH\\TCGA-CL-4957_nonMSIH_x38480_y10304_patch02374.png: File D:\\Aamir Gulzar\\KSA_project2\\dataset\\Features\\Uni_2h_fivecrop\\TCGA-CL-4957_nonMSIH\\TCGA-CL-4957_nonMSIH_x38480_y10304_patch02374.pt cannot be opened.\n",
      "ERROR:__main__:Error saving D:\\Aamir Gulzar\\KSA_project2\\dataset\\patch_data\\TCGA-CL-4957_nonMSIH\\TCGA-CL-4957_nonMSIH_x38480_y10816_patch02375.png: File D:\\Aamir Gulzar\\KSA_project2\\dataset\\Features\\Uni_2h_fivecrop\\TCGA-CL-4957_nonMSIH\\TCGA-CL-4957_nonMSIH_x38480_y10816_patch02375.pt cannot be opened.\n",
      "ERROR:__main__:Error saving D:\\Aamir Gulzar\\KSA_project2\\dataset\\patch_data\\TCGA-CL-4957_nonMSIH\\TCGA-CL-4957_nonMSIH_x38480_y11328_patch02376.png: File D:\\Aamir Gulzar\\KSA_project2\\dataset\\Features\\Uni_2h_fivecrop\\TCGA-CL-4957_nonMSIH\\TCGA-CL-4957_nonMSIH_x38480_y11328_patch02376.pt cannot be opened.\n",
      "ERROR:__main__:Error saving D:\\Aamir Gulzar\\KSA_project2\\dataset\\patch_data\\TCGA-CL-4957_nonMSIH\\TCGA-CL-4957_nonMSIH_x38480_y11840_patch02377.png: File D:\\Aamir Gulzar\\KSA_project2\\dataset\\Features\\Uni_2h_fivecrop\\TCGA-CL-4957_nonMSIH\\TCGA-CL-4957_nonMSIH_x38480_y11840_patch02377.pt cannot be opened.\n",
      "ERROR:__main__:Error saving D:\\Aamir Gulzar\\KSA_project2\\dataset\\patch_data\\TCGA-CL-4957_nonMSIH\\TCGA-CL-4957_nonMSIH_x38480_y12352_patch02378.png: File D:\\Aamir Gulzar\\KSA_project2\\dataset\\Features\\Uni_2h_fivecrop\\TCGA-CL-4957_nonMSIH\\TCGA-CL-4957_nonMSIH_x38480_y12352_patch02378.pt cannot be opened.\n",
      "ERROR:__main__:Error saving D:\\Aamir Gulzar\\KSA_project2\\dataset\\patch_data\\TCGA-CL-4957_nonMSIH\\TCGA-CL-4957_nonMSIH_x38480_y12864_patch02379.png: File D:\\Aamir Gulzar\\KSA_project2\\dataset\\Features\\Uni_2h_fivecrop\\TCGA-CL-4957_nonMSIH\\TCGA-CL-4957_nonMSIH_x38480_y12864_patch02379.pt cannot be opened.\n",
      "ERROR:__main__:Error saving D:\\Aamir Gulzar\\KSA_project2\\dataset\\patch_data\\TCGA-CL-4957_nonMSIH\\TCGA-CL-4957_nonMSIH_x38480_y13376_patch02380.png: File D:\\Aamir Gulzar\\KSA_project2\\dataset\\Features\\Uni_2h_fivecrop\\TCGA-CL-4957_nonMSIH\\TCGA-CL-4957_nonMSIH_x38480_y13376_patch02380.pt cannot be opened.\n",
      "ERROR:__main__:Error saving D:\\Aamir Gulzar\\KSA_project2\\dataset\\patch_data\\TCGA-CL-4957_nonMSIH\\TCGA-CL-4957_nonMSIH_x38480_y13888_patch02381.png: File D:\\Aamir Gulzar\\KSA_project2\\dataset\\Features\\Uni_2h_fivecrop\\TCGA-CL-4957_nonMSIH\\TCGA-CL-4957_nonMSIH_x38480_y13888_patch02381.pt cannot be opened.\n",
      "ERROR:__main__:Error saving D:\\Aamir Gulzar\\KSA_project2\\dataset\\patch_data\\TCGA-CL-4957_nonMSIH\\TCGA-CL-4957_nonMSIH_x38480_y14400_patch02382.png: File D:\\Aamir Gulzar\\KSA_project2\\dataset\\Features\\Uni_2h_fivecrop\\TCGA-CL-4957_nonMSIH\\TCGA-CL-4957_nonMSIH_x38480_y14400_patch02382.pt cannot be opened.\n",
      "ERROR:__main__:Error saving D:\\Aamir Gulzar\\KSA_project2\\dataset\\patch_data\\TCGA-CL-4957_nonMSIH\\TCGA-CL-4957_nonMSIH_x38480_y14912_patch02383.png: File D:\\Aamir Gulzar\\KSA_project2\\dataset\\Features\\Uni_2h_fivecrop\\TCGA-CL-4957_nonMSIH\\TCGA-CL-4957_nonMSIH_x38480_y14912_patch02383.pt cannot be opened.\n",
      "ERROR:__main__:Error saving D:\\Aamir Gulzar\\KSA_project2\\dataset\\patch_data\\TCGA-CL-4957_nonMSIH\\TCGA-CL-4957_nonMSIH_x38480_y15424_patch02384.png: File D:\\Aamir Gulzar\\KSA_project2\\dataset\\Features\\Uni_2h_fivecrop\\TCGA-CL-4957_nonMSIH\\TCGA-CL-4957_nonMSIH_x38480_y15424_patch02384.pt cannot be opened.\n",
      "ERROR:__main__:Error saving D:\\Aamir Gulzar\\KSA_project2\\dataset\\patch_data\\TCGA-CL-4957_nonMSIH\\TCGA-CL-4957_nonMSIH_x38480_y15936_patch02385.png: File D:\\Aamir Gulzar\\KSA_project2\\dataset\\Features\\Uni_2h_fivecrop\\TCGA-CL-4957_nonMSIH\\TCGA-CL-4957_nonMSIH_x38480_y15936_patch02385.pt cannot be opened.\n",
      "ERROR:__main__:Error saving D:\\Aamir Gulzar\\KSA_project2\\dataset\\patch_data\\TCGA-CL-4957_nonMSIH\\TCGA-CL-4957_nonMSIH_x38480_y16448_patch02386.png: File D:\\Aamir Gulzar\\KSA_project2\\dataset\\Features\\Uni_2h_fivecrop\\TCGA-CL-4957_nonMSIH\\TCGA-CL-4957_nonMSIH_x38480_y16448_patch02386.pt cannot be opened.\n",
      "ERROR:__main__:Error saving D:\\Aamir Gulzar\\KSA_project2\\dataset\\patch_data\\TCGA-CL-4957_nonMSIH\\TCGA-CL-4957_nonMSIH_x38480_y17472_patch02388.png: File D:\\Aamir Gulzar\\KSA_project2\\dataset\\Features\\Uni_2h_fivecrop\\TCGA-CL-4957_nonMSIH\\TCGA-CL-4957_nonMSIH_x38480_y17472_patch02388.pt cannot be opened.\n",
      "ERROR:__main__:Error saving D:\\Aamir Gulzar\\KSA_project2\\dataset\\patch_data\\TCGA-CL-4957_nonMSIH\\TCGA-CL-4957_nonMSIH_x38480_y16960_patch02387.png: File D:\\Aamir Gulzar\\KSA_project2\\dataset\\Features\\Uni_2h_fivecrop\\TCGA-CL-4957_nonMSIH\\TCGA-CL-4957_nonMSIH_x38480_y16960_patch02387.pt cannot be opened.\n",
      "ERROR:__main__:Error saving D:\\Aamir Gulzar\\KSA_project2\\dataset\\patch_data\\TCGA-CL-4957_nonMSIH\\TCGA-CL-4957_nonMSIH_x38480_y17984_patch02389.png: File D:\\Aamir Gulzar\\KSA_project2\\dataset\\Features\\Uni_2h_fivecrop\\TCGA-CL-4957_nonMSIH\\TCGA-CL-4957_nonMSIH_x38480_y17984_patch02389.pt cannot be opened.\n",
      "ERROR:__main__:Error saving D:\\Aamir Gulzar\\KSA_project2\\dataset\\patch_data\\TCGA-CL-4957_nonMSIH\\TCGA-CL-4957_nonMSIH_x38480_y18496_patch02390.png: File D:\\Aamir Gulzar\\KSA_project2\\dataset\\Features\\Uni_2h_fivecrop\\TCGA-CL-4957_nonMSIH\\TCGA-CL-4957_nonMSIH_x38480_y18496_patch02390.pt cannot be opened.\n",
      "ERROR:__main__:Error saving D:\\Aamir Gulzar\\KSA_project2\\dataset\\patch_data\\TCGA-CL-4957_nonMSIH\\TCGA-CL-4957_nonMSIH_x38480_y19008_patch02391.png: File D:\\Aamir Gulzar\\KSA_project2\\dataset\\Features\\Uni_2h_fivecrop\\TCGA-CL-4957_nonMSIH\\TCGA-CL-4957_nonMSIH_x38480_y19008_patch02391.pt cannot be opened.\n",
      "ERROR:__main__:Error saving D:\\Aamir Gulzar\\KSA_project2\\dataset\\patch_data\\TCGA-CL-4957_nonMSIH\\TCGA-CL-4957_nonMSIH_x38480_y19520_patch02392.png: File D:\\Aamir Gulzar\\KSA_project2\\dataset\\Features\\Uni_2h_fivecrop\\TCGA-CL-4957_nonMSIH\\TCGA-CL-4957_nonMSIH_x38480_y19520_patch02392.pt cannot be opened.\n",
      "ERROR:__main__:Error saving D:\\Aamir Gulzar\\KSA_project2\\dataset\\patch_data\\TCGA-CL-4957_nonMSIH\\TCGA-CL-4957_nonMSIH_x38480_y20032_patch02393.png: File D:\\Aamir Gulzar\\KSA_project2\\dataset\\Features\\Uni_2h_fivecrop\\TCGA-CL-4957_nonMSIH\\TCGA-CL-4957_nonMSIH_x38480_y20032_patch02393.pt cannot be opened.\n",
      "ERROR:__main__:Error saving D:\\Aamir Gulzar\\KSA_project2\\dataset\\patch_data\\TCGA-CL-4957_nonMSIH\\TCGA-CL-4957_nonMSIH_x38480_y20544_patch02394.png: File D:\\Aamir Gulzar\\KSA_project2\\dataset\\Features\\Uni_2h_fivecrop\\TCGA-CL-4957_nonMSIH\\TCGA-CL-4957_nonMSIH_x38480_y20544_patch02394.pt cannot be opened.\n",
      "ERROR:__main__:Error saving D:\\Aamir Gulzar\\KSA_project2\\dataset\\patch_data\\TCGA-CL-4957_nonMSIH\\TCGA-CL-4957_nonMSIH_x38480_y21056_patch02395.png: File D:\\Aamir Gulzar\\KSA_project2\\dataset\\Features\\Uni_2h_fivecrop\\TCGA-CL-4957_nonMSIH\\TCGA-CL-4957_nonMSIH_x38480_y21056_patch02395.pt cannot be opened.\n",
      "ERROR:__main__:Error saving D:\\Aamir Gulzar\\KSA_project2\\dataset\\patch_data\\TCGA-CL-4957_nonMSIH\\TCGA-CL-4957_nonMSIH_x38480_y21568_patch02396.png: File D:\\Aamir Gulzar\\KSA_project2\\dataset\\Features\\Uni_2h_fivecrop\\TCGA-CL-4957_nonMSIH\\TCGA-CL-4957_nonMSIH_x38480_y21568_patch02396.pt cannot be opened.\n",
      "ERROR:__main__:Error saving D:\\Aamir Gulzar\\KSA_project2\\dataset\\patch_data\\TCGA-CL-4957_nonMSIH\\TCGA-CL-4957_nonMSIH_x38480_y22080_patch02397.png: File D:\\Aamir Gulzar\\KSA_project2\\dataset\\Features\\Uni_2h_fivecrop\\TCGA-CL-4957_nonMSIH\\TCGA-CL-4957_nonMSIH_x38480_y22080_patch02397.pt cannot be opened.\n",
      "ERROR:__main__:Error saving D:\\Aamir Gulzar\\KSA_project2\\dataset\\patch_data\\TCGA-CL-4957_nonMSIH\\TCGA-CL-4957_nonMSIH_x38480_y22592_patch02398.png: File D:\\Aamir Gulzar\\KSA_project2\\dataset\\Features\\Uni_2h_fivecrop\\TCGA-CL-4957_nonMSIH\\TCGA-CL-4957_nonMSIH_x38480_y22592_patch02398.pt cannot be opened.\n",
      "ERROR:__main__:Error saving D:\\Aamir Gulzar\\KSA_project2\\dataset\\patch_data\\TCGA-CL-4957_nonMSIH\\TCGA-CL-4957_nonMSIH_x38480_y23104_patch02399.png: File D:\\Aamir Gulzar\\KSA_project2\\dataset\\Features\\Uni_2h_fivecrop\\TCGA-CL-4957_nonMSIH\\TCGA-CL-4957_nonMSIH_x38480_y23104_patch02399.pt cannot be opened.\n",
      "ERROR:__main__:Error saving D:\\Aamir Gulzar\\KSA_project2\\dataset\\patch_data\\TCGA-CL-4957_nonMSIH\\TCGA-CL-4957_nonMSIH_x38480_y5696_patch02365.png: File D:\\Aamir Gulzar\\KSA_project2\\dataset\\Features\\Uni_2h_fivecrop\\TCGA-CL-4957_nonMSIH\\TCGA-CL-4957_nonMSIH_x38480_y5696_patch02365.pt cannot be opened.\n",
      "ERROR:__main__:Error saving D:\\Aamir Gulzar\\KSA_project2\\dataset\\patch_data\\TCGA-CL-4957_nonMSIH\\TCGA-CL-4957_nonMSIH_x38480_y6208_patch02366.png: File D:\\Aamir Gulzar\\KSA_project2\\dataset\\Features\\Uni_2h_fivecrop\\TCGA-CL-4957_nonMSIH\\TCGA-CL-4957_nonMSIH_x38480_y6208_patch02366.pt cannot be opened.\n",
      "ERROR:__main__:Error saving D:\\Aamir Gulzar\\KSA_project2\\dataset\\patch_data\\TCGA-CL-4957_nonMSIH\\TCGA-CL-4957_nonMSIH_x38480_y6720_patch02367.png: File D:\\Aamir Gulzar\\KSA_project2\\dataset\\Features\\Uni_2h_fivecrop\\TCGA-CL-4957_nonMSIH\\TCGA-CL-4957_nonMSIH_x38480_y6720_patch02367.pt cannot be opened.\n",
      "ERROR:__main__:Error saving D:\\Aamir Gulzar\\KSA_project2\\dataset\\patch_data\\TCGA-CL-4957_nonMSIH\\TCGA-CL-4957_nonMSIH_x38480_y7232_patch02368.png: File D:\\Aamir Gulzar\\KSA_project2\\dataset\\Features\\Uni_2h_fivecrop\\TCGA-CL-4957_nonMSIH\\TCGA-CL-4957_nonMSIH_x38480_y7232_patch02368.pt cannot be opened.\n",
      "ERROR:__main__:Error saving D:\\Aamir Gulzar\\KSA_project2\\dataset\\patch_data\\TCGA-CL-4957_nonMSIH\\TCGA-CL-4957_nonMSIH_x38480_y7744_patch02369.png: File D:\\Aamir Gulzar\\KSA_project2\\dataset\\Features\\Uni_2h_fivecrop\\TCGA-CL-4957_nonMSIH\\TCGA-CL-4957_nonMSIH_x38480_y7744_patch02369.pt cannot be opened.\n",
      "ERROR:__main__:Error saving D:\\Aamir Gulzar\\KSA_project2\\dataset\\patch_data\\TCGA-CL-4957_nonMSIH\\TCGA-CL-4957_nonMSIH_x38480_y8256_patch02370.png: File D:\\Aamir Gulzar\\KSA_project2\\dataset\\Features\\Uni_2h_fivecrop\\TCGA-CL-4957_nonMSIH\\TCGA-CL-4957_nonMSIH_x38480_y8256_patch02370.pt cannot be opened.\n",
      "ERROR:__main__:Error saving D:\\Aamir Gulzar\\KSA_project2\\dataset\\patch_data\\TCGA-CL-4957_nonMSIH\\TCGA-CL-4957_nonMSIH_x38480_y8768_patch02371.png: File D:\\Aamir Gulzar\\KSA_project2\\dataset\\Features\\Uni_2h_fivecrop\\TCGA-CL-4957_nonMSIH\\TCGA-CL-4957_nonMSIH_x38480_y8768_patch02371.pt cannot be opened.\n",
      "ERROR:__main__:Error saving D:\\Aamir Gulzar\\KSA_project2\\dataset\\patch_data\\TCGA-CL-4957_nonMSIH\\TCGA-CL-4957_nonMSIH_x38480_y9280_patch02372.png: File D:\\Aamir Gulzar\\KSA_project2\\dataset\\Features\\Uni_2h_fivecrop\\TCGA-CL-4957_nonMSIH\\TCGA-CL-4957_nonMSIH_x38480_y9280_patch02372.pt cannot be opened.\n",
      "ERROR:__main__:Error saving D:\\Aamir Gulzar\\KSA_project2\\dataset\\patch_data\\TCGA-CL-4957_nonMSIH\\TCGA-CL-4957_nonMSIH_x38480_y9792_patch02373.png: File D:\\Aamir Gulzar\\KSA_project2\\dataset\\Features\\Uni_2h_fivecrop\\TCGA-CL-4957_nonMSIH\\TCGA-CL-4957_nonMSIH_x38480_y9792_patch02373.pt cannot be opened.\n",
      "ERROR:__main__:Error saving D:\\Aamir Gulzar\\KSA_project2\\dataset\\patch_data\\TCGA-CL-4957_nonMSIH\\TCGA-CL-4957_nonMSIH_x38992_y10304_patch02408.png: File D:\\Aamir Gulzar\\KSA_project2\\dataset\\Features\\Uni_2h_fivecrop\\TCGA-CL-4957_nonMSIH\\TCGA-CL-4957_nonMSIH_x38992_y10304_patch02408.pt cannot be opened.\n",
      "ERROR:__main__:Error saving D:\\Aamir Gulzar\\KSA_project2\\dataset\\patch_data\\TCGA-CL-4957_nonMSIH\\TCGA-CL-4957_nonMSIH_x38992_y10816_patch02409.png: File D:\\Aamir Gulzar\\KSA_project2\\dataset\\Features\\Uni_2h_fivecrop\\TCGA-CL-4957_nonMSIH\\TCGA-CL-4957_nonMSIH_x38992_y10816_patch02409.pt cannot be opened.\n",
      "ERROR:__main__:Error saving D:\\Aamir Gulzar\\KSA_project2\\dataset\\patch_data\\TCGA-CL-4957_nonMSIH\\TCGA-CL-4957_nonMSIH_x38992_y11328_patch02410.png: File D:\\Aamir Gulzar\\KSA_project2\\dataset\\Features\\Uni_2h_fivecrop\\TCGA-CL-4957_nonMSIH\\TCGA-CL-4957_nonMSIH_x38992_y11328_patch02410.pt cannot be opened.\n",
      "ERROR:__main__:Error saving D:\\Aamir Gulzar\\KSA_project2\\dataset\\patch_data\\TCGA-CL-4957_nonMSIH\\TCGA-CL-4957_nonMSIH_x38992_y11840_patch02411.png: File D:\\Aamir Gulzar\\KSA_project2\\dataset\\Features\\Uni_2h_fivecrop\\TCGA-CL-4957_nonMSIH\\TCGA-CL-4957_nonMSIH_x38992_y11840_patch02411.pt cannot be opened.\n",
      "ERROR:__main__:Error saving D:\\Aamir Gulzar\\KSA_project2\\dataset\\patch_data\\TCGA-CL-4957_nonMSIH\\TCGA-CL-4957_nonMSIH_x38992_y12352_patch02412.png: File D:\\Aamir Gulzar\\KSA_project2\\dataset\\Features\\Uni_2h_fivecrop\\TCGA-CL-4957_nonMSIH\\TCGA-CL-4957_nonMSIH_x38992_y12352_patch02412.pt cannot be opened.\n",
      "ERROR:__main__:Error saving D:\\Aamir Gulzar\\KSA_project2\\dataset\\patch_data\\TCGA-CL-4957_nonMSIH\\TCGA-CL-4957_nonMSIH_x38992_y12864_patch02413.png: File D:\\Aamir Gulzar\\KSA_project2\\dataset\\Features\\Uni_2h_fivecrop\\TCGA-CL-4957_nonMSIH\\TCGA-CL-4957_nonMSIH_x38992_y12864_patch02413.pt cannot be opened.\n",
      "ERROR:__main__:Error saving D:\\Aamir Gulzar\\KSA_project2\\dataset\\patch_data\\TCGA-CL-4957_nonMSIH\\TCGA-CL-4957_nonMSIH_x38992_y13376_patch02414.png: File D:\\Aamir Gulzar\\KSA_project2\\dataset\\Features\\Uni_2h_fivecrop\\TCGA-CL-4957_nonMSIH\\TCGA-CL-4957_nonMSIH_x38992_y13376_patch02414.pt cannot be opened.\n",
      "ERROR:__main__:Error saving D:\\Aamir Gulzar\\KSA_project2\\dataset\\patch_data\\TCGA-CL-4957_nonMSIH\\TCGA-CL-4957_nonMSIH_x38992_y13888_patch02415.png: File D:\\Aamir Gulzar\\KSA_project2\\dataset\\Features\\Uni_2h_fivecrop\\TCGA-CL-4957_nonMSIH\\TCGA-CL-4957_nonMSIH_x38992_y13888_patch02415.pt cannot be opened.\n",
      "ERROR:__main__:Error saving D:\\Aamir Gulzar\\KSA_project2\\dataset\\patch_data\\TCGA-CL-4957_nonMSIH\\TCGA-CL-4957_nonMSIH_x38992_y14400_patch02416.png: File D:\\Aamir Gulzar\\KSA_project2\\dataset\\Features\\Uni_2h_fivecrop\\TCGA-CL-4957_nonMSIH\\TCGA-CL-4957_nonMSIH_x38992_y14400_patch02416.pt cannot be opened.\n",
      "ERROR:__main__:Error saving D:\\Aamir Gulzar\\KSA_project2\\dataset\\patch_data\\TCGA-CL-4957_nonMSIH\\TCGA-CL-4957_nonMSIH_x38992_y14912_patch02417.png: File D:\\Aamir Gulzar\\KSA_project2\\dataset\\Features\\Uni_2h_fivecrop\\TCGA-CL-4957_nonMSIH\\TCGA-CL-4957_nonMSIH_x38992_y14912_patch02417.pt cannot be opened.\n",
      "ERROR:__main__:Error saving D:\\Aamir Gulzar\\KSA_project2\\dataset\\patch_data\\TCGA-CL-4957_nonMSIH\\TCGA-CL-4957_nonMSIH_x38992_y15424_patch02418.png: File D:\\Aamir Gulzar\\KSA_project2\\dataset\\Features\\Uni_2h_fivecrop\\TCGA-CL-4957_nonMSIH\\TCGA-CL-4957_nonMSIH_x38992_y15424_patch02418.pt cannot be opened.\n",
      "ERROR:__main__:Error saving D:\\Aamir Gulzar\\KSA_project2\\dataset\\patch_data\\TCGA-CL-4957_nonMSIH\\TCGA-CL-4957_nonMSIH_x38992_y15936_patch02419.png: File D:\\Aamir Gulzar\\KSA_project2\\dataset\\Features\\Uni_2h_fivecrop\\TCGA-CL-4957_nonMSIH\\TCGA-CL-4957_nonMSIH_x38992_y15936_patch02419.pt cannot be opened.\n",
      "ERROR:__main__:Error saving D:\\Aamir Gulzar\\KSA_project2\\dataset\\patch_data\\TCGA-CL-4957_nonMSIH\\TCGA-CL-4957_nonMSIH_x38992_y16448_patch02420.png: File D:\\Aamir Gulzar\\KSA_project2\\dataset\\Features\\Uni_2h_fivecrop\\TCGA-CL-4957_nonMSIH\\TCGA-CL-4957_nonMSIH_x38992_y16448_patch02420.pt cannot be opened.\n",
      "ERROR:__main__:Error saving D:\\Aamir Gulzar\\KSA_project2\\dataset\\patch_data\\TCGA-CL-4957_nonMSIH\\TCGA-CL-4957_nonMSIH_x38992_y16960_patch02421.png: File D:\\Aamir Gulzar\\KSA_project2\\dataset\\Features\\Uni_2h_fivecrop\\TCGA-CL-4957_nonMSIH\\TCGA-CL-4957_nonMSIH_x38992_y16960_patch02421.pt cannot be opened.\n",
      "ERROR:__main__:Error saving D:\\Aamir Gulzar\\KSA_project2\\dataset\\patch_data\\TCGA-CL-4957_nonMSIH\\TCGA-CL-4957_nonMSIH_x38992_y17472_patch02422.png: File D:\\Aamir Gulzar\\KSA_project2\\dataset\\Features\\Uni_2h_fivecrop\\TCGA-CL-4957_nonMSIH\\TCGA-CL-4957_nonMSIH_x38992_y17472_patch02422.pt cannot be opened.\n",
      "ERROR:__main__:Error saving D:\\Aamir Gulzar\\KSA_project2\\dataset\\patch_data\\TCGA-CL-4957_nonMSIH\\TCGA-CL-4957_nonMSIH_x38992_y17984_patch02423.png: File D:\\Aamir Gulzar\\KSA_project2\\dataset\\Features\\Uni_2h_fivecrop\\TCGA-CL-4957_nonMSIH\\TCGA-CL-4957_nonMSIH_x38992_y17984_patch02423.pt cannot be opened.\n",
      "ERROR:__main__:Error saving D:\\Aamir Gulzar\\KSA_project2\\dataset\\patch_data\\TCGA-CL-4957_nonMSIH\\TCGA-CL-4957_nonMSIH_x38992_y18496_patch02424.png: File D:\\Aamir Gulzar\\KSA_project2\\dataset\\Features\\Uni_2h_fivecrop\\TCGA-CL-4957_nonMSIH\\TCGA-CL-4957_nonMSIH_x38992_y18496_patch02424.pt cannot be opened.\n",
      "ERROR:__main__:Error saving D:\\Aamir Gulzar\\KSA_project2\\dataset\\patch_data\\TCGA-CL-4957_nonMSIH\\TCGA-CL-4957_nonMSIH_x38992_y19008_patch02425.png: File D:\\Aamir Gulzar\\KSA_project2\\dataset\\Features\\Uni_2h_fivecrop\\TCGA-CL-4957_nonMSIH\\TCGA-CL-4957_nonMSIH_x38992_y19008_patch02425.pt cannot be opened.\n",
      "ERROR:__main__:Error saving D:\\Aamir Gulzar\\KSA_project2\\dataset\\patch_data\\TCGA-CL-4957_nonMSIH\\TCGA-CL-4957_nonMSIH_x38992_y19520_patch02426.png: File D:\\Aamir Gulzar\\KSA_project2\\dataset\\Features\\Uni_2h_fivecrop\\TCGA-CL-4957_nonMSIH\\TCGA-CL-4957_nonMSIH_x38992_y19520_patch02426.pt cannot be opened.\n",
      "ERROR:__main__:Error saving D:\\Aamir Gulzar\\KSA_project2\\dataset\\patch_data\\TCGA-CL-4957_nonMSIH\\TCGA-CL-4957_nonMSIH_x38992_y20032_patch02427.png: File D:\\Aamir Gulzar\\KSA_project2\\dataset\\Features\\Uni_2h_fivecrop\\TCGA-CL-4957_nonMSIH\\TCGA-CL-4957_nonMSIH_x38992_y20032_patch02427.pt cannot be opened.\n",
      "ERROR:__main__:Error saving D:\\Aamir Gulzar\\KSA_project2\\dataset\\patch_data\\TCGA-CL-4957_nonMSIH\\TCGA-CL-4957_nonMSIH_x38992_y20544_patch02428.png: File D:\\Aamir Gulzar\\KSA_project2\\dataset\\Features\\Uni_2h_fivecrop\\TCGA-CL-4957_nonMSIH\\TCGA-CL-4957_nonMSIH_x38992_y20544_patch02428.pt cannot be opened.\n",
      "ERROR:__main__:Error saving D:\\Aamir Gulzar\\KSA_project2\\dataset\\patch_data\\TCGA-CL-4957_nonMSIH\\TCGA-CL-4957_nonMSIH_x38992_y21056_patch02429.png: File D:\\Aamir Gulzar\\KSA_project2\\dataset\\Features\\Uni_2h_fivecrop\\TCGA-CL-4957_nonMSIH\\TCGA-CL-4957_nonMSIH_x38992_y21056_patch02429.pt cannot be opened.\n",
      "ERROR:__main__:Error saving D:\\Aamir Gulzar\\KSA_project2\\dataset\\patch_data\\TCGA-CL-4957_nonMSIH\\TCGA-CL-4957_nonMSIH_x38992_y21568_patch02430.png: File D:\\Aamir Gulzar\\KSA_project2\\dataset\\Features\\Uni_2h_fivecrop\\TCGA-CL-4957_nonMSIH\\TCGA-CL-4957_nonMSIH_x38992_y21568_patch02430.pt cannot be opened.\n",
      "ERROR:__main__:Error saving D:\\Aamir Gulzar\\KSA_project2\\dataset\\patch_data\\TCGA-CL-4957_nonMSIH\\TCGA-CL-4957_nonMSIH_x38992_y22080_patch02431.png: File D:\\Aamir Gulzar\\KSA_project2\\dataset\\Features\\Uni_2h_fivecrop\\TCGA-CL-4957_nonMSIH\\TCGA-CL-4957_nonMSIH_x38992_y22080_patch02431.pt cannot be opened.\n",
      "ERROR:__main__:Error saving D:\\Aamir Gulzar\\KSA_project2\\dataset\\patch_data\\TCGA-CL-4957_nonMSIH\\TCGA-CL-4957_nonMSIH_x38992_y22592_patch02432.png: File D:\\Aamir Gulzar\\KSA_project2\\dataset\\Features\\Uni_2h_fivecrop\\TCGA-CL-4957_nonMSIH\\TCGA-CL-4957_nonMSIH_x38992_y22592_patch02432.pt cannot be opened.\n",
      "ERROR:__main__:Error saving D:\\Aamir Gulzar\\KSA_project2\\dataset\\patch_data\\TCGA-CL-4957_nonMSIH\\TCGA-CL-4957_nonMSIH_x38992_y6208_patch02400.png: File D:\\Aamir Gulzar\\KSA_project2\\dataset\\Features\\Uni_2h_fivecrop\\TCGA-CL-4957_nonMSIH\\TCGA-CL-4957_nonMSIH_x38992_y6208_patch02400.pt cannot be opened.\n",
      "ERROR:__main__:Error saving D:\\Aamir Gulzar\\KSA_project2\\dataset\\patch_data\\TCGA-CL-4957_nonMSIH\\TCGA-CL-4957_nonMSIH_x38992_y6720_patch02401.png: File D:\\Aamir Gulzar\\KSA_project2\\dataset\\Features\\Uni_2h_fivecrop\\TCGA-CL-4957_nonMSIH\\TCGA-CL-4957_nonMSIH_x38992_y6720_patch02401.pt cannot be opened.\n",
      "ERROR:__main__:Error saving D:\\Aamir Gulzar\\KSA_project2\\dataset\\patch_data\\TCGA-CL-4957_nonMSIH\\TCGA-CL-4957_nonMSIH_x38992_y7232_patch02402.png: File D:\\Aamir Gulzar\\KSA_project2\\dataset\\Features\\Uni_2h_fivecrop\\TCGA-CL-4957_nonMSIH\\TCGA-CL-4957_nonMSIH_x38992_y7232_patch02402.pt cannot be opened.\n",
      "ERROR:__main__:Error saving D:\\Aamir Gulzar\\KSA_project2\\dataset\\patch_data\\TCGA-CL-4957_nonMSIH\\TCGA-CL-4957_nonMSIH_x38992_y7744_patch02403.png: File D:\\Aamir Gulzar\\KSA_project2\\dataset\\Features\\Uni_2h_fivecrop\\TCGA-CL-4957_nonMSIH\\TCGA-CL-4957_nonMSIH_x38992_y7744_patch02403.pt cannot be opened.\n",
      "ERROR:__main__:Error saving D:\\Aamir Gulzar\\KSA_project2\\dataset\\patch_data\\TCGA-CL-4957_nonMSIH\\TCGA-CL-4957_nonMSIH_x38992_y8256_patch02404.png: File D:\\Aamir Gulzar\\KSA_project2\\dataset\\Features\\Uni_2h_fivecrop\\TCGA-CL-4957_nonMSIH\\TCGA-CL-4957_nonMSIH_x38992_y8256_patch02404.pt cannot be opened.\n",
      "ERROR:__main__:Error saving D:\\Aamir Gulzar\\KSA_project2\\dataset\\patch_data\\TCGA-CL-4957_nonMSIH\\TCGA-CL-4957_nonMSIH_x38992_y8768_patch02405.png: File D:\\Aamir Gulzar\\KSA_project2\\dataset\\Features\\Uni_2h_fivecrop\\TCGA-CL-4957_nonMSIH\\TCGA-CL-4957_nonMSIH_x38992_y8768_patch02405.pt cannot be opened.\n",
      "ERROR:__main__:Error saving D:\\Aamir Gulzar\\KSA_project2\\dataset\\patch_data\\TCGA-CL-4957_nonMSIH\\TCGA-CL-4957_nonMSIH_x38992_y9280_patch02406.png: File D:\\Aamir Gulzar\\KSA_project2\\dataset\\Features\\Uni_2h_fivecrop\\TCGA-CL-4957_nonMSIH\\TCGA-CL-4957_nonMSIH_x38992_y9280_patch02406.pt cannot be opened.\n",
      "ERROR:__main__:Error saving D:\\Aamir Gulzar\\KSA_project2\\dataset\\patch_data\\TCGA-CL-4957_nonMSIH\\TCGA-CL-4957_nonMSIH_x38992_y9792_patch02407.png: File D:\\Aamir Gulzar\\KSA_project2\\dataset\\Features\\Uni_2h_fivecrop\\TCGA-CL-4957_nonMSIH\\TCGA-CL-4957_nonMSIH_x38992_y9792_patch02407.pt cannot be opened.\n",
      "ERROR:__main__:Error saving D:\\Aamir Gulzar\\KSA_project2\\dataset\\patch_data\\TCGA-CL-4957_nonMSIH\\TCGA-CL-4957_nonMSIH_x39504_y10304_patch02441.png: File D:\\Aamir Gulzar\\KSA_project2\\dataset\\Features\\Uni_2h_fivecrop\\TCGA-CL-4957_nonMSIH\\TCGA-CL-4957_nonMSIH_x39504_y10304_patch02441.pt cannot be opened.\n",
      "ERROR:__main__:Error saving D:\\Aamir Gulzar\\KSA_project2\\dataset\\patch_data\\TCGA-CL-4957_nonMSIH\\TCGA-CL-4957_nonMSIH_x39504_y10816_patch02442.png: File D:\\Aamir Gulzar\\KSA_project2\\dataset\\Features\\Uni_2h_fivecrop\\TCGA-CL-4957_nonMSIH\\TCGA-CL-4957_nonMSIH_x39504_y10816_patch02442.pt cannot be opened.\n",
      "ERROR:__main__:Error saving D:\\Aamir Gulzar\\KSA_project2\\dataset\\patch_data\\TCGA-CL-4957_nonMSIH\\TCGA-CL-4957_nonMSIH_x39504_y11328_patch02443.png: File D:\\Aamir Gulzar\\KSA_project2\\dataset\\Features\\Uni_2h_fivecrop\\TCGA-CL-4957_nonMSIH\\TCGA-CL-4957_nonMSIH_x39504_y11328_patch02443.pt cannot be opened.\n",
      "ERROR:__main__:Error saving D:\\Aamir Gulzar\\KSA_project2\\dataset\\patch_data\\TCGA-CL-4957_nonMSIH\\TCGA-CL-4957_nonMSIH_x39504_y11840_patch02444.png: File D:\\Aamir Gulzar\\KSA_project2\\dataset\\Features\\Uni_2h_fivecrop\\TCGA-CL-4957_nonMSIH\\TCGA-CL-4957_nonMSIH_x39504_y11840_patch02444.pt cannot be opened.\n",
      "ERROR:__main__:Error saving D:\\Aamir Gulzar\\KSA_project2\\dataset\\patch_data\\TCGA-CL-4957_nonMSIH\\TCGA-CL-4957_nonMSIH_x39504_y12352_patch02445.png: File D:\\Aamir Gulzar\\KSA_project2\\dataset\\Features\\Uni_2h_fivecrop\\TCGA-CL-4957_nonMSIH\\TCGA-CL-4957_nonMSIH_x39504_y12352_patch02445.pt cannot be opened.\n",
      "ERROR:__main__:Error saving D:\\Aamir Gulzar\\KSA_project2\\dataset\\patch_data\\TCGA-CL-4957_nonMSIH\\TCGA-CL-4957_nonMSIH_x39504_y12864_patch02446.png: File D:\\Aamir Gulzar\\KSA_project2\\dataset\\Features\\Uni_2h_fivecrop\\TCGA-CL-4957_nonMSIH\\TCGA-CL-4957_nonMSIH_x39504_y12864_patch02446.pt cannot be opened.\n",
      "ERROR:__main__:Error saving D:\\Aamir Gulzar\\KSA_project2\\dataset\\patch_data\\TCGA-CL-4957_nonMSIH\\TCGA-CL-4957_nonMSIH_x39504_y13376_patch02447.png: File D:\\Aamir Gulzar\\KSA_project2\\dataset\\Features\\Uni_2h_fivecrop\\TCGA-CL-4957_nonMSIH\\TCGA-CL-4957_nonMSIH_x39504_y13376_patch02447.pt cannot be opened.\n",
      "ERROR:__main__:Error saving D:\\Aamir Gulzar\\KSA_project2\\dataset\\patch_data\\TCGA-CL-4957_nonMSIH\\TCGA-CL-4957_nonMSIH_x39504_y13888_patch02448.png: File D:\\Aamir Gulzar\\KSA_project2\\dataset\\Features\\Uni_2h_fivecrop\\TCGA-CL-4957_nonMSIH\\TCGA-CL-4957_nonMSIH_x39504_y13888_patch02448.pt cannot be opened.\n",
      "ERROR:__main__:Error saving D:\\Aamir Gulzar\\KSA_project2\\dataset\\patch_data\\TCGA-CL-4957_nonMSIH\\TCGA-CL-4957_nonMSIH_x39504_y14400_patch02449.png: File D:\\Aamir Gulzar\\KSA_project2\\dataset\\Features\\Uni_2h_fivecrop\\TCGA-CL-4957_nonMSIH\\TCGA-CL-4957_nonMSIH_x39504_y14400_patch02449.pt cannot be opened.\n",
      "ERROR:__main__:Error saving D:\\Aamir Gulzar\\KSA_project2\\dataset\\patch_data\\TCGA-CL-4957_nonMSIH\\TCGA-CL-4957_nonMSIH_x39504_y14912_patch02450.png: File D:\\Aamir Gulzar\\KSA_project2\\dataset\\Features\\Uni_2h_fivecrop\\TCGA-CL-4957_nonMSIH\\TCGA-CL-4957_nonMSIH_x39504_y14912_patch02450.pt cannot be opened.\n",
      "ERROR:__main__:Error saving D:\\Aamir Gulzar\\KSA_project2\\dataset\\patch_data\\TCGA-CL-4957_nonMSIH\\TCGA-CL-4957_nonMSIH_x39504_y15936_patch02452.png: File D:\\Aamir Gulzar\\KSA_project2\\dataset\\Features\\Uni_2h_fivecrop\\TCGA-CL-4957_nonMSIH\\TCGA-CL-4957_nonMSIH_x39504_y15936_patch02452.pt cannot be opened.\n",
      "ERROR:__main__:Error saving D:\\Aamir Gulzar\\KSA_project2\\dataset\\patch_data\\TCGA-CL-4957_nonMSIH\\TCGA-CL-4957_nonMSIH_x39504_y15424_patch02451.png: File D:\\Aamir Gulzar\\KSA_project2\\dataset\\Features\\Uni_2h_fivecrop\\TCGA-CL-4957_nonMSIH\\TCGA-CL-4957_nonMSIH_x39504_y15424_patch02451.pt cannot be opened.\n",
      "ERROR:__main__:Error saving D:\\Aamir Gulzar\\KSA_project2\\dataset\\patch_data\\TCGA-CL-4957_nonMSIH\\TCGA-CL-4957_nonMSIH_x39504_y16448_patch02453.png: File D:\\Aamir Gulzar\\KSA_project2\\dataset\\Features\\Uni_2h_fivecrop\\TCGA-CL-4957_nonMSIH\\TCGA-CL-4957_nonMSIH_x39504_y16448_patch02453.pt cannot be opened.\n",
      "ERROR:__main__:Error saving D:\\Aamir Gulzar\\KSA_project2\\dataset\\patch_data\\TCGA-CL-4957_nonMSIH\\TCGA-CL-4957_nonMSIH_x39504_y16960_patch02454.png: File D:\\Aamir Gulzar\\KSA_project2\\dataset\\Features\\Uni_2h_fivecrop\\TCGA-CL-4957_nonMSIH\\TCGA-CL-4957_nonMSIH_x39504_y16960_patch02454.pt cannot be opened.\n",
      "ERROR:__main__:Error saving D:\\Aamir Gulzar\\KSA_project2\\dataset\\patch_data\\TCGA-CL-4957_nonMSIH\\TCGA-CL-4957_nonMSIH_x39504_y17472_patch02455.png: File D:\\Aamir Gulzar\\KSA_project2\\dataset\\Features\\Uni_2h_fivecrop\\TCGA-CL-4957_nonMSIH\\TCGA-CL-4957_nonMSIH_x39504_y17472_patch02455.pt cannot be opened.\n",
      "ERROR:__main__:Error saving D:\\Aamir Gulzar\\KSA_project2\\dataset\\patch_data\\TCGA-CL-4957_nonMSIH\\TCGA-CL-4957_nonMSIH_x39504_y17984_patch02456.png: File D:\\Aamir Gulzar\\KSA_project2\\dataset\\Features\\Uni_2h_fivecrop\\TCGA-CL-4957_nonMSIH\\TCGA-CL-4957_nonMSIH_x39504_y17984_patch02456.pt cannot be opened.\n",
      "ERROR:__main__:Error saving D:\\Aamir Gulzar\\KSA_project2\\dataset\\patch_data\\TCGA-CL-4957_nonMSIH\\TCGA-CL-4957_nonMSIH_x39504_y18496_patch02457.png: File D:\\Aamir Gulzar\\KSA_project2\\dataset\\Features\\Uni_2h_fivecrop\\TCGA-CL-4957_nonMSIH\\TCGA-CL-4957_nonMSIH_x39504_y18496_patch02457.pt cannot be opened.\n",
      "ERROR:__main__:Error saving D:\\Aamir Gulzar\\KSA_project2\\dataset\\patch_data\\TCGA-CL-4957_nonMSIH\\TCGA-CL-4957_nonMSIH_x39504_y19008_patch02458.png: File D:\\Aamir Gulzar\\KSA_project2\\dataset\\Features\\Uni_2h_fivecrop\\TCGA-CL-4957_nonMSIH\\TCGA-CL-4957_nonMSIH_x39504_y19008_patch02458.pt cannot be opened.\n",
      "ERROR:__main__:Error saving D:\\Aamir Gulzar\\KSA_project2\\dataset\\patch_data\\TCGA-CL-4957_nonMSIH\\TCGA-CL-4957_nonMSIH_x39504_y19520_patch02459.png: File D:\\Aamir Gulzar\\KSA_project2\\dataset\\Features\\Uni_2h_fivecrop\\TCGA-CL-4957_nonMSIH\\TCGA-CL-4957_nonMSIH_x39504_y19520_patch02459.pt cannot be opened.\n",
      "ERROR:__main__:Error saving D:\\Aamir Gulzar\\KSA_project2\\dataset\\patch_data\\TCGA-CL-4957_nonMSIH\\TCGA-CL-4957_nonMSIH_x39504_y20544_patch02461.png: File D:\\Aamir Gulzar\\KSA_project2\\dataset\\Features\\Uni_2h_fivecrop\\TCGA-CL-4957_nonMSIH\\TCGA-CL-4957_nonMSIH_x39504_y20544_patch02461.pt cannot be opened.\n",
      "ERROR:__main__:Error saving D:\\Aamir Gulzar\\KSA_project2\\dataset\\patch_data\\TCGA-CL-4957_nonMSIH\\TCGA-CL-4957_nonMSIH_x39504_y20032_patch02460.png: File D:\\Aamir Gulzar\\KSA_project2\\dataset\\Features\\Uni_2h_fivecrop\\TCGA-CL-4957_nonMSIH\\TCGA-CL-4957_nonMSIH_x39504_y20032_patch02460.pt cannot be opened.\n",
      "ERROR:__main__:Error saving D:\\Aamir Gulzar\\KSA_project2\\dataset\\patch_data\\TCGA-CL-4957_nonMSIH\\TCGA-CL-4957_nonMSIH_x39504_y21056_patch02462.png: File D:\\Aamir Gulzar\\KSA_project2\\dataset\\Features\\Uni_2h_fivecrop\\TCGA-CL-4957_nonMSIH\\TCGA-CL-4957_nonMSIH_x39504_y21056_patch02462.pt cannot be opened.\n",
      "ERROR:__main__:Error saving D:\\Aamir Gulzar\\KSA_project2\\dataset\\patch_data\\TCGA-CL-4957_nonMSIH\\TCGA-CL-4957_nonMSIH_x39504_y21568_patch02463.png: File D:\\Aamir Gulzar\\KSA_project2\\dataset\\Features\\Uni_2h_fivecrop\\TCGA-CL-4957_nonMSIH\\TCGA-CL-4957_nonMSIH_x39504_y21568_patch02463.pt cannot be opened.\n",
      "ERROR:__main__:Error saving D:\\Aamir Gulzar\\KSA_project2\\dataset\\patch_data\\TCGA-CL-4957_nonMSIH\\TCGA-CL-4957_nonMSIH_x39504_y22080_patch02464.png: File D:\\Aamir Gulzar\\KSA_project2\\dataset\\Features\\Uni_2h_fivecrop\\TCGA-CL-4957_nonMSIH\\TCGA-CL-4957_nonMSIH_x39504_y22080_patch02464.pt cannot be opened.\n",
      "ERROR:__main__:Error saving D:\\Aamir Gulzar\\KSA_project2\\dataset\\patch_data\\TCGA-CL-4957_nonMSIH\\TCGA-CL-4957_nonMSIH_x39504_y22592_patch02465.png: File D:\\Aamir Gulzar\\KSA_project2\\dataset\\Features\\Uni_2h_fivecrop\\TCGA-CL-4957_nonMSIH\\TCGA-CL-4957_nonMSIH_x39504_y22592_patch02465.pt cannot be opened.\n",
      "ERROR:__main__:Error saving D:\\Aamir Gulzar\\KSA_project2\\dataset\\patch_data\\TCGA-CL-4957_nonMSIH\\TCGA-CL-4957_nonMSIH_x39504_y23104_patch02466.png: File D:\\Aamir Gulzar\\KSA_project2\\dataset\\Features\\Uni_2h_fivecrop\\TCGA-CL-4957_nonMSIH\\TCGA-CL-4957_nonMSIH_x39504_y23104_patch02466.pt cannot be opened.\n",
      "ERROR:__main__:Error saving D:\\Aamir Gulzar\\KSA_project2\\dataset\\patch_data\\TCGA-CL-4957_nonMSIH\\TCGA-CL-4957_nonMSIH_x39504_y6208_patch02433.png: File D:\\Aamir Gulzar\\KSA_project2\\dataset\\Features\\Uni_2h_fivecrop\\TCGA-CL-4957_nonMSIH\\TCGA-CL-4957_nonMSIH_x39504_y6208_patch02433.pt cannot be opened.\n",
      "ERROR:__main__:Error saving D:\\Aamir Gulzar\\KSA_project2\\dataset\\patch_data\\TCGA-CL-4957_nonMSIH\\TCGA-CL-4957_nonMSIH_x39504_y6720_patch02434.png: File D:\\Aamir Gulzar\\KSA_project2\\dataset\\Features\\Uni_2h_fivecrop\\TCGA-CL-4957_nonMSIH\\TCGA-CL-4957_nonMSIH_x39504_y6720_patch02434.pt cannot be opened.\n",
      "ERROR:__main__:Error saving D:\\Aamir Gulzar\\KSA_project2\\dataset\\patch_data\\TCGA-CL-4957_nonMSIH\\TCGA-CL-4957_nonMSIH_x39504_y7232_patch02435.png: File D:\\Aamir Gulzar\\KSA_project2\\dataset\\Features\\Uni_2h_fivecrop\\TCGA-CL-4957_nonMSIH\\TCGA-CL-4957_nonMSIH_x39504_y7232_patch02435.pt cannot be opened.\n",
      "ERROR:__main__:Error saving D:\\Aamir Gulzar\\KSA_project2\\dataset\\patch_data\\TCGA-CL-4957_nonMSIH\\TCGA-CL-4957_nonMSIH_x39504_y7744_patch02436.png: File D:\\Aamir Gulzar\\KSA_project2\\dataset\\Features\\Uni_2h_fivecrop\\TCGA-CL-4957_nonMSIH\\TCGA-CL-4957_nonMSIH_x39504_y7744_patch02436.pt cannot be opened.\n",
      "ERROR:__main__:Error saving D:\\Aamir Gulzar\\KSA_project2\\dataset\\patch_data\\TCGA-CL-4957_nonMSIH\\TCGA-CL-4957_nonMSIH_x39504_y8256_patch02437.png: File D:\\Aamir Gulzar\\KSA_project2\\dataset\\Features\\Uni_2h_fivecrop\\TCGA-CL-4957_nonMSIH\\TCGA-CL-4957_nonMSIH_x39504_y8256_patch02437.pt cannot be opened.\n",
      "ERROR:__main__:Error saving D:\\Aamir Gulzar\\KSA_project2\\dataset\\patch_data\\TCGA-CL-4957_nonMSIH\\TCGA-CL-4957_nonMSIH_x39504_y8768_patch02438.png: File D:\\Aamir Gulzar\\KSA_project2\\dataset\\Features\\Uni_2h_fivecrop\\TCGA-CL-4957_nonMSIH\\TCGA-CL-4957_nonMSIH_x39504_y8768_patch02438.pt cannot be opened.\n",
      "ERROR:__main__:Error saving D:\\Aamir Gulzar\\KSA_project2\\dataset\\patch_data\\TCGA-CL-4957_nonMSIH\\TCGA-CL-4957_nonMSIH_x39504_y9280_patch02439.png: File D:\\Aamir Gulzar\\KSA_project2\\dataset\\Features\\Uni_2h_fivecrop\\TCGA-CL-4957_nonMSIH\\TCGA-CL-4957_nonMSIH_x39504_y9280_patch02439.pt cannot be opened.\n",
      "ERROR:__main__:Error saving D:\\Aamir Gulzar\\KSA_project2\\dataset\\patch_data\\TCGA-CL-4957_nonMSIH\\TCGA-CL-4957_nonMSIH_x39504_y9792_patch02440.png: File D:\\Aamir Gulzar\\KSA_project2\\dataset\\Features\\Uni_2h_fivecrop\\TCGA-CL-4957_nonMSIH\\TCGA-CL-4957_nonMSIH_x39504_y9792_patch02440.pt cannot be opened.\n",
      "ERROR:__main__:Error saving D:\\Aamir Gulzar\\KSA_project2\\dataset\\patch_data\\TCGA-CL-4957_nonMSIH\\TCGA-CL-4957_nonMSIH_x40016_y10304_patch02475.png: File D:\\Aamir Gulzar\\KSA_project2\\dataset\\Features\\Uni_2h_fivecrop\\TCGA-CL-4957_nonMSIH\\TCGA-CL-4957_nonMSIH_x40016_y10304_patch02475.pt cannot be opened.\n",
      "ERROR:__main__:Error saving D:\\Aamir Gulzar\\KSA_project2\\dataset\\patch_data\\TCGA-CL-4957_nonMSIH\\TCGA-CL-4957_nonMSIH_x40016_y10816_patch02476.png: File D:\\Aamir Gulzar\\KSA_project2\\dataset\\Features\\Uni_2h_fivecrop\\TCGA-CL-4957_nonMSIH\\TCGA-CL-4957_nonMSIH_x40016_y10816_patch02476.pt cannot be opened.\n",
      "ERROR:__main__:Error saving D:\\Aamir Gulzar\\KSA_project2\\dataset\\patch_data\\TCGA-CL-4957_nonMSIH\\TCGA-CL-4957_nonMSIH_x40016_y11328_patch02477.png: File D:\\Aamir Gulzar\\KSA_project2\\dataset\\Features\\Uni_2h_fivecrop\\TCGA-CL-4957_nonMSIH\\TCGA-CL-4957_nonMSIH_x40016_y11328_patch02477.pt cannot be opened.\n",
      "ERROR:__main__:Error saving D:\\Aamir Gulzar\\KSA_project2\\dataset\\patch_data\\TCGA-CL-4957_nonMSIH\\TCGA-CL-4957_nonMSIH_x40016_y11840_patch02478.png: File D:\\Aamir Gulzar\\KSA_project2\\dataset\\Features\\Uni_2h_fivecrop\\TCGA-CL-4957_nonMSIH\\TCGA-CL-4957_nonMSIH_x40016_y11840_patch02478.pt cannot be opened.\n",
      "ERROR:__main__:Error saving D:\\Aamir Gulzar\\KSA_project2\\dataset\\patch_data\\TCGA-CL-4957_nonMSIH\\TCGA-CL-4957_nonMSIH_x40016_y12352_patch02479.png: File D:\\Aamir Gulzar\\KSA_project2\\dataset\\Features\\Uni_2h_fivecrop\\TCGA-CL-4957_nonMSIH\\TCGA-CL-4957_nonMSIH_x40016_y12352_patch02479.pt cannot be opened.\n",
      "ERROR:__main__:Error saving D:\\Aamir Gulzar\\KSA_project2\\dataset\\patch_data\\TCGA-CL-4957_nonMSIH\\TCGA-CL-4957_nonMSIH_x40016_y12864_patch02480.png: File D:\\Aamir Gulzar\\KSA_project2\\dataset\\Features\\Uni_2h_fivecrop\\TCGA-CL-4957_nonMSIH\\TCGA-CL-4957_nonMSIH_x40016_y12864_patch02480.pt cannot be opened.\n",
      "ERROR:__main__:Error saving D:\\Aamir Gulzar\\KSA_project2\\dataset\\patch_data\\TCGA-CL-4957_nonMSIH\\TCGA-CL-4957_nonMSIH_x40016_y13376_patch02481.png: File D:\\Aamir Gulzar\\KSA_project2\\dataset\\Features\\Uni_2h_fivecrop\\TCGA-CL-4957_nonMSIH\\TCGA-CL-4957_nonMSIH_x40016_y13376_patch02481.pt cannot be opened.\n",
      "ERROR:__main__:Error saving D:\\Aamir Gulzar\\KSA_project2\\dataset\\patch_data\\TCGA-CL-4957_nonMSIH\\TCGA-CL-4957_nonMSIH_x40016_y13888_patch02482.png: File D:\\Aamir Gulzar\\KSA_project2\\dataset\\Features\\Uni_2h_fivecrop\\TCGA-CL-4957_nonMSIH\\TCGA-CL-4957_nonMSIH_x40016_y13888_patch02482.pt cannot be opened.\n",
      "ERROR:__main__:Error saving D:\\Aamir Gulzar\\KSA_project2\\dataset\\patch_data\\TCGA-CL-4957_nonMSIH\\TCGA-CL-4957_nonMSIH_x40016_y14912_patch02484.png: File D:\\Aamir Gulzar\\KSA_project2\\dataset\\Features\\Uni_2h_fivecrop\\TCGA-CL-4957_nonMSIH\\TCGA-CL-4957_nonMSIH_x40016_y14912_patch02484.pt cannot be opened.\n",
      "ERROR:__main__:Error saving D:\\Aamir Gulzar\\KSA_project2\\dataset\\patch_data\\TCGA-CL-4957_nonMSIH\\TCGA-CL-4957_nonMSIH_x40016_y14400_patch02483.png: File D:\\Aamir Gulzar\\KSA_project2\\dataset\\Features\\Uni_2h_fivecrop\\TCGA-CL-4957_nonMSIH\\TCGA-CL-4957_nonMSIH_x40016_y14400_patch02483.pt cannot be opened.\n",
      "ERROR:__main__:Error saving D:\\Aamir Gulzar\\KSA_project2\\dataset\\patch_data\\TCGA-CL-4957_nonMSIH\\TCGA-CL-4957_nonMSIH_x40016_y15424_patch02485.png: File D:\\Aamir Gulzar\\KSA_project2\\dataset\\Features\\Uni_2h_fivecrop\\TCGA-CL-4957_nonMSIH\\TCGA-CL-4957_nonMSIH_x40016_y15424_patch02485.pt cannot be opened.\n",
      "ERROR:__main__:Error saving D:\\Aamir Gulzar\\KSA_project2\\dataset\\patch_data\\TCGA-CL-4957_nonMSIH\\TCGA-CL-4957_nonMSIH_x40016_y15936_patch02486.png: File D:\\Aamir Gulzar\\KSA_project2\\dataset\\Features\\Uni_2h_fivecrop\\TCGA-CL-4957_nonMSIH\\TCGA-CL-4957_nonMSIH_x40016_y15936_patch02486.pt cannot be opened.\n",
      "ERROR:__main__:Error saving D:\\Aamir Gulzar\\KSA_project2\\dataset\\patch_data\\TCGA-CL-4957_nonMSIH\\TCGA-CL-4957_nonMSIH_x40016_y16448_patch02487.png: File D:\\Aamir Gulzar\\KSA_project2\\dataset\\Features\\Uni_2h_fivecrop\\TCGA-CL-4957_nonMSIH\\TCGA-CL-4957_nonMSIH_x40016_y16448_patch02487.pt cannot be opened.\n",
      "ERROR:__main__:Error saving D:\\Aamir Gulzar\\KSA_project2\\dataset\\patch_data\\TCGA-CL-4957_nonMSIH\\TCGA-CL-4957_nonMSIH_x40016_y16960_patch02488.png: File D:\\Aamir Gulzar\\KSA_project2\\dataset\\Features\\Uni_2h_fivecrop\\TCGA-CL-4957_nonMSIH\\TCGA-CL-4957_nonMSIH_x40016_y16960_patch02488.pt cannot be opened.\n",
      "ERROR:__main__:Error saving D:\\Aamir Gulzar\\KSA_project2\\dataset\\patch_data\\TCGA-CL-4957_nonMSIH\\TCGA-CL-4957_nonMSIH_x40016_y17472_patch02489.png: File D:\\Aamir Gulzar\\KSA_project2\\dataset\\Features\\Uni_2h_fivecrop\\TCGA-CL-4957_nonMSIH\\TCGA-CL-4957_nonMSIH_x40016_y17472_patch02489.pt cannot be opened.\n",
      "ERROR:__main__:Error saving D:\\Aamir Gulzar\\KSA_project2\\dataset\\patch_data\\TCGA-CL-4957_nonMSIH\\TCGA-CL-4957_nonMSIH_x40016_y17984_patch02490.png: File D:\\Aamir Gulzar\\KSA_project2\\dataset\\Features\\Uni_2h_fivecrop\\TCGA-CL-4957_nonMSIH\\TCGA-CL-4957_nonMSIH_x40016_y17984_patch02490.pt cannot be opened.\n",
      "ERROR:__main__:Error saving D:\\Aamir Gulzar\\KSA_project2\\dataset\\patch_data\\TCGA-CL-4957_nonMSIH\\TCGA-CL-4957_nonMSIH_x40016_y18496_patch02491.png: File D:\\Aamir Gulzar\\KSA_project2\\dataset\\Features\\Uni_2h_fivecrop\\TCGA-CL-4957_nonMSIH\\TCGA-CL-4957_nonMSIH_x40016_y18496_patch02491.pt cannot be opened.\n",
      "ERROR:__main__:Error saving D:\\Aamir Gulzar\\KSA_project2\\dataset\\patch_data\\TCGA-CL-4957_nonMSIH\\TCGA-CL-4957_nonMSIH_x40016_y19008_patch02492.png: File D:\\Aamir Gulzar\\KSA_project2\\dataset\\Features\\Uni_2h_fivecrop\\TCGA-CL-4957_nonMSIH\\TCGA-CL-4957_nonMSIH_x40016_y19008_patch02492.pt cannot be opened.\n",
      "ERROR:__main__:Error saving D:\\Aamir Gulzar\\KSA_project2\\dataset\\patch_data\\TCGA-CL-4957_nonMSIH\\TCGA-CL-4957_nonMSIH_x40016_y19520_patch02493.png: File D:\\Aamir Gulzar\\KSA_project2\\dataset\\Features\\Uni_2h_fivecrop\\TCGA-CL-4957_nonMSIH\\TCGA-CL-4957_nonMSIH_x40016_y19520_patch02493.pt cannot be opened.\n",
      "ERROR:__main__:Error saving D:\\Aamir Gulzar\\KSA_project2\\dataset\\patch_data\\TCGA-CL-4957_nonMSIH\\TCGA-CL-4957_nonMSIH_x40016_y20032_patch02494.png: File D:\\Aamir Gulzar\\KSA_project2\\dataset\\Features\\Uni_2h_fivecrop\\TCGA-CL-4957_nonMSIH\\TCGA-CL-4957_nonMSIH_x40016_y20032_patch02494.pt cannot be opened.\n",
      "ERROR:__main__:Error saving D:\\Aamir Gulzar\\KSA_project2\\dataset\\patch_data\\TCGA-CL-4957_nonMSIH\\TCGA-CL-4957_nonMSIH_x40016_y20544_patch02495.png: File D:\\Aamir Gulzar\\KSA_project2\\dataset\\Features\\Uni_2h_fivecrop\\TCGA-CL-4957_nonMSIH\\TCGA-CL-4957_nonMSIH_x40016_y20544_patch02495.pt cannot be opened.\n",
      "ERROR:__main__:Error saving D:\\Aamir Gulzar\\KSA_project2\\dataset\\patch_data\\TCGA-CL-4957_nonMSIH\\TCGA-CL-4957_nonMSIH_x40016_y21056_patch02496.png: File D:\\Aamir Gulzar\\KSA_project2\\dataset\\Features\\Uni_2h_fivecrop\\TCGA-CL-4957_nonMSIH\\TCGA-CL-4957_nonMSIH_x40016_y21056_patch02496.pt cannot be opened.\n",
      "ERROR:__main__:Error saving D:\\Aamir Gulzar\\KSA_project2\\dataset\\patch_data\\TCGA-CL-4957_nonMSIH\\TCGA-CL-4957_nonMSIH_x40016_y21568_patch02497.png: File D:\\Aamir Gulzar\\KSA_project2\\dataset\\Features\\Uni_2h_fivecrop\\TCGA-CL-4957_nonMSIH\\TCGA-CL-4957_nonMSIH_x40016_y21568_patch02497.pt cannot be opened.\n",
      "ERROR:__main__:Error saving D:\\Aamir Gulzar\\KSA_project2\\dataset\\patch_data\\TCGA-CL-4957_nonMSIH\\TCGA-CL-4957_nonMSIH_x40016_y22080_patch02498.png: File D:\\Aamir Gulzar\\KSA_project2\\dataset\\Features\\Uni_2h_fivecrop\\TCGA-CL-4957_nonMSIH\\TCGA-CL-4957_nonMSIH_x40016_y22080_patch02498.pt cannot be opened.\n",
      "ERROR:__main__:Error saving D:\\Aamir Gulzar\\KSA_project2\\dataset\\patch_data\\TCGA-CL-4957_nonMSIH\\TCGA-CL-4957_nonMSIH_x40016_y22592_patch02499.png: File D:\\Aamir Gulzar\\KSA_project2\\dataset\\Features\\Uni_2h_fivecrop\\TCGA-CL-4957_nonMSIH\\TCGA-CL-4957_nonMSIH_x40016_y22592_patch02499.pt cannot be opened.\n",
      "ERROR:__main__:Error saving D:\\Aamir Gulzar\\KSA_project2\\dataset\\patch_data\\TCGA-CL-4957_nonMSIH\\TCGA-CL-4957_nonMSIH_x40016_y23104_patch02500.png: File D:\\Aamir Gulzar\\KSA_project2\\dataset\\Features\\Uni_2h_fivecrop\\TCGA-CL-4957_nonMSIH\\TCGA-CL-4957_nonMSIH_x40016_y23104_patch02500.pt cannot be opened.\n",
      "ERROR:__main__:Error saving D:\\Aamir Gulzar\\KSA_project2\\dataset\\patch_data\\TCGA-CL-4957_nonMSIH\\TCGA-CL-4957_nonMSIH_x40016_y23616_patch02501.png: File D:\\Aamir Gulzar\\KSA_project2\\dataset\\Features\\Uni_2h_fivecrop\\TCGA-CL-4957_nonMSIH\\TCGA-CL-4957_nonMSIH_x40016_y23616_patch02501.pt cannot be opened.\n",
      "ERROR:__main__:Error saving D:\\Aamir Gulzar\\KSA_project2\\dataset\\patch_data\\TCGA-CL-4957_nonMSIH\\TCGA-CL-4957_nonMSIH_x40016_y6208_patch02467.png: File D:\\Aamir Gulzar\\KSA_project2\\dataset\\Features\\Uni_2h_fivecrop\\TCGA-CL-4957_nonMSIH\\TCGA-CL-4957_nonMSIH_x40016_y6208_patch02467.pt cannot be opened.\n",
      "ERROR:__main__:Error saving D:\\Aamir Gulzar\\KSA_project2\\dataset\\patch_data\\TCGA-CL-4957_nonMSIH\\TCGA-CL-4957_nonMSIH_x40016_y6720_patch02468.png: File D:\\Aamir Gulzar\\KSA_project2\\dataset\\Features\\Uni_2h_fivecrop\\TCGA-CL-4957_nonMSIH\\TCGA-CL-4957_nonMSIH_x40016_y6720_patch02468.pt cannot be opened.\n",
      "ERROR:__main__:Error saving D:\\Aamir Gulzar\\KSA_project2\\dataset\\patch_data\\TCGA-CL-4957_nonMSIH\\TCGA-CL-4957_nonMSIH_x40016_y7232_patch02469.png: File D:\\Aamir Gulzar\\KSA_project2\\dataset\\Features\\Uni_2h_fivecrop\\TCGA-CL-4957_nonMSIH\\TCGA-CL-4957_nonMSIH_x40016_y7232_patch02469.pt cannot be opened.\n",
      "ERROR:__main__:Error saving D:\\Aamir Gulzar\\KSA_project2\\dataset\\patch_data\\TCGA-CL-4957_nonMSIH\\TCGA-CL-4957_nonMSIH_x40016_y7744_patch02470.png: File D:\\Aamir Gulzar\\KSA_project2\\dataset\\Features\\Uni_2h_fivecrop\\TCGA-CL-4957_nonMSIH\\TCGA-CL-4957_nonMSIH_x40016_y7744_patch02470.pt cannot be opened.\n",
      "ERROR:__main__:Error saving D:\\Aamir Gulzar\\KSA_project2\\dataset\\patch_data\\TCGA-CL-4957_nonMSIH\\TCGA-CL-4957_nonMSIH_x40016_y8256_patch02471.png: File D:\\Aamir Gulzar\\KSA_project2\\dataset\\Features\\Uni_2h_fivecrop\\TCGA-CL-4957_nonMSIH\\TCGA-CL-4957_nonMSIH_x40016_y8256_patch02471.pt cannot be opened.\n",
      "ERROR:__main__:Error saving D:\\Aamir Gulzar\\KSA_project2\\dataset\\patch_data\\TCGA-CL-4957_nonMSIH\\TCGA-CL-4957_nonMSIH_x40016_y8768_patch02472.png: File D:\\Aamir Gulzar\\KSA_project2\\dataset\\Features\\Uni_2h_fivecrop\\TCGA-CL-4957_nonMSIH\\TCGA-CL-4957_nonMSIH_x40016_y8768_patch02472.pt cannot be opened.\n",
      "ERROR:__main__:Error saving D:\\Aamir Gulzar\\KSA_project2\\dataset\\patch_data\\TCGA-CL-4957_nonMSIH\\TCGA-CL-4957_nonMSIH_x40016_y9280_patch02473.png: File D:\\Aamir Gulzar\\KSA_project2\\dataset\\Features\\Uni_2h_fivecrop\\TCGA-CL-4957_nonMSIH\\TCGA-CL-4957_nonMSIH_x40016_y9280_patch02473.pt cannot be opened.\n",
      "ERROR:__main__:Error saving D:\\Aamir Gulzar\\KSA_project2\\dataset\\patch_data\\TCGA-CL-4957_nonMSIH\\TCGA-CL-4957_nonMSIH_x40016_y9792_patch02474.png: File D:\\Aamir Gulzar\\KSA_project2\\dataset\\Features\\Uni_2h_fivecrop\\TCGA-CL-4957_nonMSIH\\TCGA-CL-4957_nonMSIH_x40016_y9792_patch02474.pt cannot be opened.\n",
      "ERROR:__main__:Error saving D:\\Aamir Gulzar\\KSA_project2\\dataset\\patch_data\\TCGA-CL-4957_nonMSIH\\TCGA-CL-4957_nonMSIH_x40528_y10304_patch02509.png: File D:\\Aamir Gulzar\\KSA_project2\\dataset\\Features\\Uni_2h_fivecrop\\TCGA-CL-4957_nonMSIH\\TCGA-CL-4957_nonMSIH_x40528_y10304_patch02509.pt cannot be opened.\n",
      "ERROR:__main__:Error saving D:\\Aamir Gulzar\\KSA_project2\\dataset\\patch_data\\TCGA-CL-4957_nonMSIH\\TCGA-CL-4957_nonMSIH_x40528_y10816_patch02510.png: File D:\\Aamir Gulzar\\KSA_project2\\dataset\\Features\\Uni_2h_fivecrop\\TCGA-CL-4957_nonMSIH\\TCGA-CL-4957_nonMSIH_x40528_y10816_patch02510.pt cannot be opened.\n",
      "ERROR:__main__:Error saving D:\\Aamir Gulzar\\KSA_project2\\dataset\\patch_data\\TCGA-CL-4957_nonMSIH\\TCGA-CL-4957_nonMSIH_x40528_y11328_patch02511.png: File D:\\Aamir Gulzar\\KSA_project2\\dataset\\Features\\Uni_2h_fivecrop\\TCGA-CL-4957_nonMSIH\\TCGA-CL-4957_nonMSIH_x40528_y11328_patch02511.pt cannot be opened.\n",
      "ERROR:__main__:Error saving D:\\Aamir Gulzar\\KSA_project2\\dataset\\patch_data\\TCGA-CL-4957_nonMSIH\\TCGA-CL-4957_nonMSIH_x40528_y11840_patch02512.png: File D:\\Aamir Gulzar\\KSA_project2\\dataset\\Features\\Uni_2h_fivecrop\\TCGA-CL-4957_nonMSIH\\TCGA-CL-4957_nonMSIH_x40528_y11840_patch02512.pt cannot be opened.\n",
      "ERROR:__main__:Error saving D:\\Aamir Gulzar\\KSA_project2\\dataset\\patch_data\\TCGA-CL-4957_nonMSIH\\TCGA-CL-4957_nonMSIH_x40528_y12864_patch02514.png: File D:\\Aamir Gulzar\\KSA_project2\\dataset\\Features\\Uni_2h_fivecrop\\TCGA-CL-4957_nonMSIH\\TCGA-CL-4957_nonMSIH_x40528_y12864_patch02514.pt cannot be opened.\n",
      "ERROR:__main__:Error saving D:\\Aamir Gulzar\\KSA_project2\\dataset\\patch_data\\TCGA-CL-4957_nonMSIH\\TCGA-CL-4957_nonMSIH_x40528_y12352_patch02513.png: File D:\\Aamir Gulzar\\KSA_project2\\dataset\\Features\\Uni_2h_fivecrop\\TCGA-CL-4957_nonMSIH\\TCGA-CL-4957_nonMSIH_x40528_y12352_patch02513.pt cannot be opened.\n",
      "ERROR:__main__:Error saving D:\\Aamir Gulzar\\KSA_project2\\dataset\\patch_data\\TCGA-CL-4957_nonMSIH\\TCGA-CL-4957_nonMSIH_x40528_y13376_patch02515.png: File D:\\Aamir Gulzar\\KSA_project2\\dataset\\Features\\Uni_2h_fivecrop\\TCGA-CL-4957_nonMSIH\\TCGA-CL-4957_nonMSIH_x40528_y13376_patch02515.pt cannot be opened.\n",
      "ERROR:__main__:Error saving D:\\Aamir Gulzar\\KSA_project2\\dataset\\patch_data\\TCGA-CL-4957_nonMSIH\\TCGA-CL-4957_nonMSIH_x40528_y13888_patch02516.png: File D:\\Aamir Gulzar\\KSA_project2\\dataset\\Features\\Uni_2h_fivecrop\\TCGA-CL-4957_nonMSIH\\TCGA-CL-4957_nonMSIH_x40528_y13888_patch02516.pt cannot be opened.\n",
      "ERROR:__main__:Error saving D:\\Aamir Gulzar\\KSA_project2\\dataset\\patch_data\\TCGA-CL-4957_nonMSIH\\TCGA-CL-4957_nonMSIH_x40528_y14400_patch02517.png: File D:\\Aamir Gulzar\\KSA_project2\\dataset\\Features\\Uni_2h_fivecrop\\TCGA-CL-4957_nonMSIH\\TCGA-CL-4957_nonMSIH_x40528_y14400_patch02517.pt cannot be opened.\n",
      "ERROR:__main__:Error saving D:\\Aamir Gulzar\\KSA_project2\\dataset\\patch_data\\TCGA-CL-4957_nonMSIH\\TCGA-CL-4957_nonMSIH_x40528_y14912_patch02518.png: File D:\\Aamir Gulzar\\KSA_project2\\dataset\\Features\\Uni_2h_fivecrop\\TCGA-CL-4957_nonMSIH\\TCGA-CL-4957_nonMSIH_x40528_y14912_patch02518.pt cannot be opened.\n",
      "ERROR:__main__:Error saving D:\\Aamir Gulzar\\KSA_project2\\dataset\\patch_data\\TCGA-CL-4957_nonMSIH\\TCGA-CL-4957_nonMSIH_x40528_y15424_patch02519.png: File D:\\Aamir Gulzar\\KSA_project2\\dataset\\Features\\Uni_2h_fivecrop\\TCGA-CL-4957_nonMSIH\\TCGA-CL-4957_nonMSIH_x40528_y15424_patch02519.pt cannot be opened.\n",
      "ERROR:__main__:Error saving D:\\Aamir Gulzar\\KSA_project2\\dataset\\patch_data\\TCGA-CL-4957_nonMSIH\\TCGA-CL-4957_nonMSIH_x40528_y15936_patch02520.png: File D:\\Aamir Gulzar\\KSA_project2\\dataset\\Features\\Uni_2h_fivecrop\\TCGA-CL-4957_nonMSIH\\TCGA-CL-4957_nonMSIH_x40528_y15936_patch02520.pt cannot be opened.\n",
      "ERROR:__main__:Error saving D:\\Aamir Gulzar\\KSA_project2\\dataset\\patch_data\\TCGA-CL-4957_nonMSIH\\TCGA-CL-4957_nonMSIH_x40528_y16960_patch02522.png: File D:\\Aamir Gulzar\\KSA_project2\\dataset\\Features\\Uni_2h_fivecrop\\TCGA-CL-4957_nonMSIH\\TCGA-CL-4957_nonMSIH_x40528_y16960_patch02522.pt cannot be opened.\n",
      "ERROR:__main__:Error saving D:\\Aamir Gulzar\\KSA_project2\\dataset\\patch_data\\TCGA-CL-4957_nonMSIH\\TCGA-CL-4957_nonMSIH_x40528_y16448_patch02521.png: File D:\\Aamir Gulzar\\KSA_project2\\dataset\\Features\\Uni_2h_fivecrop\\TCGA-CL-4957_nonMSIH\\TCGA-CL-4957_nonMSIH_x40528_y16448_patch02521.pt cannot be opened.\n",
      "ERROR:__main__:Error saving D:\\Aamir Gulzar\\KSA_project2\\dataset\\patch_data\\TCGA-CL-4957_nonMSIH\\TCGA-CL-4957_nonMSIH_x40528_y17472_patch02523.png: File D:\\Aamir Gulzar\\KSA_project2\\dataset\\Features\\Uni_2h_fivecrop\\TCGA-CL-4957_nonMSIH\\TCGA-CL-4957_nonMSIH_x40528_y17472_patch02523.pt cannot be opened.\n",
      "ERROR:__main__:Error saving D:\\Aamir Gulzar\\KSA_project2\\dataset\\patch_data\\TCGA-CL-4957_nonMSIH\\TCGA-CL-4957_nonMSIH_x40528_y17984_patch02524.png: File D:\\Aamir Gulzar\\KSA_project2\\dataset\\Features\\Uni_2h_fivecrop\\TCGA-CL-4957_nonMSIH\\TCGA-CL-4957_nonMSIH_x40528_y17984_patch02524.pt cannot be opened.\n",
      "ERROR:__main__:Error saving D:\\Aamir Gulzar\\KSA_project2\\dataset\\patch_data\\TCGA-CL-4957_nonMSIH\\TCGA-CL-4957_nonMSIH_x40528_y18496_patch02525.png: File D:\\Aamir Gulzar\\KSA_project2\\dataset\\Features\\Uni_2h_fivecrop\\TCGA-CL-4957_nonMSIH\\TCGA-CL-4957_nonMSIH_x40528_y18496_patch02525.pt cannot be opened.\n",
      "ERROR:__main__:Error saving D:\\Aamir Gulzar\\KSA_project2\\dataset\\patch_data\\TCGA-CL-4957_nonMSIH\\TCGA-CL-4957_nonMSIH_x40528_y19008_patch02526.png: File D:\\Aamir Gulzar\\KSA_project2\\dataset\\Features\\Uni_2h_fivecrop\\TCGA-CL-4957_nonMSIH\\TCGA-CL-4957_nonMSIH_x40528_y19008_patch02526.pt cannot be opened.\n",
      "ERROR:__main__:Error saving D:\\Aamir Gulzar\\KSA_project2\\dataset\\patch_data\\TCGA-CL-4957_nonMSIH\\TCGA-CL-4957_nonMSIH_x40528_y19520_patch02527.png: File D:\\Aamir Gulzar\\KSA_project2\\dataset\\Features\\Uni_2h_fivecrop\\TCGA-CL-4957_nonMSIH\\TCGA-CL-4957_nonMSIH_x40528_y19520_patch02527.pt cannot be opened.\n",
      "ERROR:__main__:Error saving D:\\Aamir Gulzar\\KSA_project2\\dataset\\patch_data\\TCGA-CL-4957_nonMSIH\\TCGA-CL-4957_nonMSIH_x40528_y20544_patch02529.png: File D:\\Aamir Gulzar\\KSA_project2\\dataset\\Features\\Uni_2h_fivecrop\\TCGA-CL-4957_nonMSIH\\TCGA-CL-4957_nonMSIH_x40528_y20544_patch02529.pt cannot be opened.\n",
      "ERROR:__main__:Error saving D:\\Aamir Gulzar\\KSA_project2\\dataset\\patch_data\\TCGA-CL-4957_nonMSIH\\TCGA-CL-4957_nonMSIH_x40528_y20032_patch02528.png: File D:\\Aamir Gulzar\\KSA_project2\\dataset\\Features\\Uni_2h_fivecrop\\TCGA-CL-4957_nonMSIH\\TCGA-CL-4957_nonMSIH_x40528_y20032_patch02528.pt cannot be opened.\n",
      "ERROR:__main__:Error saving D:\\Aamir Gulzar\\KSA_project2\\dataset\\patch_data\\TCGA-CL-4957_nonMSIH\\TCGA-CL-4957_nonMSIH_x40528_y21056_patch02530.png: File D:\\Aamir Gulzar\\KSA_project2\\dataset\\Features\\Uni_2h_fivecrop\\TCGA-CL-4957_nonMSIH\\TCGA-CL-4957_nonMSIH_x40528_y21056_patch02530.pt cannot be opened.\n",
      "ERROR:__main__:Error saving D:\\Aamir Gulzar\\KSA_project2\\dataset\\patch_data\\TCGA-CL-4957_nonMSIH\\TCGA-CL-4957_nonMSIH_x40528_y21568_patch02531.png: File D:\\Aamir Gulzar\\KSA_project2\\dataset\\Features\\Uni_2h_fivecrop\\TCGA-CL-4957_nonMSIH\\TCGA-CL-4957_nonMSIH_x40528_y21568_patch02531.pt cannot be opened.\n",
      "ERROR:__main__:Error saving D:\\Aamir Gulzar\\KSA_project2\\dataset\\patch_data\\TCGA-CL-4957_nonMSIH\\TCGA-CL-4957_nonMSIH_x40528_y22080_patch02532.png: File D:\\Aamir Gulzar\\KSA_project2\\dataset\\Features\\Uni_2h_fivecrop\\TCGA-CL-4957_nonMSIH\\TCGA-CL-4957_nonMSIH_x40528_y22080_patch02532.pt cannot be opened.\n",
      "ERROR:__main__:Error saving D:\\Aamir Gulzar\\KSA_project2\\dataset\\patch_data\\TCGA-CL-4957_nonMSIH\\TCGA-CL-4957_nonMSIH_x40528_y22592_patch02533.png: File D:\\Aamir Gulzar\\KSA_project2\\dataset\\Features\\Uni_2h_fivecrop\\TCGA-CL-4957_nonMSIH\\TCGA-CL-4957_nonMSIH_x40528_y22592_patch02533.pt cannot be opened.\n",
      "ERROR:__main__:Error saving D:\\Aamir Gulzar\\KSA_project2\\dataset\\patch_data\\TCGA-CL-4957_nonMSIH\\TCGA-CL-4957_nonMSIH_x40528_y23104_patch02534.png: File D:\\Aamir Gulzar\\KSA_project2\\dataset\\Features\\Uni_2h_fivecrop\\TCGA-CL-4957_nonMSIH\\TCGA-CL-4957_nonMSIH_x40528_y23104_patch02534.pt cannot be opened.\n",
      "ERROR:__main__:Error saving D:\\Aamir Gulzar\\KSA_project2\\dataset\\patch_data\\TCGA-CL-4957_nonMSIH\\TCGA-CL-4957_nonMSIH_x40528_y23616_patch02535.png: File D:\\Aamir Gulzar\\KSA_project2\\dataset\\Features\\Uni_2h_fivecrop\\TCGA-CL-4957_nonMSIH\\TCGA-CL-4957_nonMSIH_x40528_y23616_patch02535.pt cannot be opened.\n",
      "ERROR:__main__:Error saving D:\\Aamir Gulzar\\KSA_project2\\dataset\\patch_data\\TCGA-CL-4957_nonMSIH\\TCGA-CL-4957_nonMSIH_x40528_y24128_patch02536.png: File D:\\Aamir Gulzar\\KSA_project2\\dataset\\Features\\Uni_2h_fivecrop\\TCGA-CL-4957_nonMSIH\\TCGA-CL-4957_nonMSIH_x40528_y24128_patch02536.pt cannot be opened.\n",
      "ERROR:__main__:Error saving D:\\Aamir Gulzar\\KSA_project2\\dataset\\patch_data\\TCGA-CL-4957_nonMSIH\\TCGA-CL-4957_nonMSIH_x40528_y6720_patch02502.png: File D:\\Aamir Gulzar\\KSA_project2\\dataset\\Features\\Uni_2h_fivecrop\\TCGA-CL-4957_nonMSIH\\TCGA-CL-4957_nonMSIH_x40528_y6720_patch02502.pt cannot be opened.\n",
      "ERROR:__main__:Error saving D:\\Aamir Gulzar\\KSA_project2\\dataset\\patch_data\\TCGA-CL-4957_nonMSIH\\TCGA-CL-4957_nonMSIH_x40528_y7232_patch02503.png: File D:\\Aamir Gulzar\\KSA_project2\\dataset\\Features\\Uni_2h_fivecrop\\TCGA-CL-4957_nonMSIH\\TCGA-CL-4957_nonMSIH_x40528_y7232_patch02503.pt cannot be opened.\n",
      "ERROR:__main__:Error saving D:\\Aamir Gulzar\\KSA_project2\\dataset\\patch_data\\TCGA-CL-4957_nonMSIH\\TCGA-CL-4957_nonMSIH_x40528_y7744_patch02504.png: File D:\\Aamir Gulzar\\KSA_project2\\dataset\\Features\\Uni_2h_fivecrop\\TCGA-CL-4957_nonMSIH\\TCGA-CL-4957_nonMSIH_x40528_y7744_patch02504.pt cannot be opened.\n",
      "ERROR:__main__:Error saving D:\\Aamir Gulzar\\KSA_project2\\dataset\\patch_data\\TCGA-CL-4957_nonMSIH\\TCGA-CL-4957_nonMSIH_x40528_y8256_patch02505.png: File D:\\Aamir Gulzar\\KSA_project2\\dataset\\Features\\Uni_2h_fivecrop\\TCGA-CL-4957_nonMSIH\\TCGA-CL-4957_nonMSIH_x40528_y8256_patch02505.pt cannot be opened.\n",
      "ERROR:__main__:Error saving D:\\Aamir Gulzar\\KSA_project2\\dataset\\patch_data\\TCGA-CL-4957_nonMSIH\\TCGA-CL-4957_nonMSIH_x40528_y8768_patch02506.png: File D:\\Aamir Gulzar\\KSA_project2\\dataset\\Features\\Uni_2h_fivecrop\\TCGA-CL-4957_nonMSIH\\TCGA-CL-4957_nonMSIH_x40528_y8768_patch02506.pt cannot be opened.\n",
      "ERROR:__main__:Error saving D:\\Aamir Gulzar\\KSA_project2\\dataset\\patch_data\\TCGA-CL-4957_nonMSIH\\TCGA-CL-4957_nonMSIH_x40528_y9280_patch02507.png: File D:\\Aamir Gulzar\\KSA_project2\\dataset\\Features\\Uni_2h_fivecrop\\TCGA-CL-4957_nonMSIH\\TCGA-CL-4957_nonMSIH_x40528_y9280_patch02507.pt cannot be opened.\n",
      "ERROR:__main__:Error saving D:\\Aamir Gulzar\\KSA_project2\\dataset\\patch_data\\TCGA-CL-4957_nonMSIH\\TCGA-CL-4957_nonMSIH_x40528_y9792_patch02508.png: File D:\\Aamir Gulzar\\KSA_project2\\dataset\\Features\\Uni_2h_fivecrop\\TCGA-CL-4957_nonMSIH\\TCGA-CL-4957_nonMSIH_x40528_y9792_patch02508.pt cannot be opened.\n",
      "ERROR:__main__:Error saving D:\\Aamir Gulzar\\KSA_project2\\dataset\\patch_data\\TCGA-CL-4957_nonMSIH\\TCGA-CL-4957_nonMSIH_x41040_y10304_patch02544.png: File D:\\Aamir Gulzar\\KSA_project2\\dataset\\Features\\Uni_2h_fivecrop\\TCGA-CL-4957_nonMSIH\\TCGA-CL-4957_nonMSIH_x41040_y10304_patch02544.pt cannot be opened.\n",
      "ERROR:__main__:Error saving D:\\Aamir Gulzar\\KSA_project2\\dataset\\patch_data\\TCGA-CL-4957_nonMSIH\\TCGA-CL-4957_nonMSIH_x41040_y10816_patch02545.png: File D:\\Aamir Gulzar\\KSA_project2\\dataset\\Features\\Uni_2h_fivecrop\\TCGA-CL-4957_nonMSIH\\TCGA-CL-4957_nonMSIH_x41040_y10816_patch02545.pt cannot be opened.\n",
      "ERROR:__main__:Error saving D:\\Aamir Gulzar\\KSA_project2\\dataset\\patch_data\\TCGA-CL-4957_nonMSIH\\TCGA-CL-4957_nonMSIH_x41040_y11328_patch02546.png: File D:\\Aamir Gulzar\\KSA_project2\\dataset\\Features\\Uni_2h_fivecrop\\TCGA-CL-4957_nonMSIH\\TCGA-CL-4957_nonMSIH_x41040_y11328_patch02546.pt cannot be opened.\n",
      "ERROR:__main__:Error saving D:\\Aamir Gulzar\\KSA_project2\\dataset\\patch_data\\TCGA-CL-4957_nonMSIH\\TCGA-CL-4957_nonMSIH_x41040_y11840_patch02547.png: File D:\\Aamir Gulzar\\KSA_project2\\dataset\\Features\\Uni_2h_fivecrop\\TCGA-CL-4957_nonMSIH\\TCGA-CL-4957_nonMSIH_x41040_y11840_patch02547.pt cannot be opened.\n",
      "ERROR:__main__:Error saving D:\\Aamir Gulzar\\KSA_project2\\dataset\\patch_data\\TCGA-CL-4957_nonMSIH\\TCGA-CL-4957_nonMSIH_x41040_y12352_patch02548.png: File D:\\Aamir Gulzar\\KSA_project2\\dataset\\Features\\Uni_2h_fivecrop\\TCGA-CL-4957_nonMSIH\\TCGA-CL-4957_nonMSIH_x41040_y12352_patch02548.pt cannot be opened.\n",
      "ERROR:__main__:Error saving D:\\Aamir Gulzar\\KSA_project2\\dataset\\patch_data\\TCGA-CL-4957_nonMSIH\\TCGA-CL-4957_nonMSIH_x41040_y12864_patch02549.png: File D:\\Aamir Gulzar\\KSA_project2\\dataset\\Features\\Uni_2h_fivecrop\\TCGA-CL-4957_nonMSIH\\TCGA-CL-4957_nonMSIH_x41040_y12864_patch02549.pt cannot be opened.\n",
      "ERROR:__main__:Error saving D:\\Aamir Gulzar\\KSA_project2\\dataset\\patch_data\\TCGA-CL-4957_nonMSIH\\TCGA-CL-4957_nonMSIH_x41040_y13376_patch02550.png: File D:\\Aamir Gulzar\\KSA_project2\\dataset\\Features\\Uni_2h_fivecrop\\TCGA-CL-4957_nonMSIH\\TCGA-CL-4957_nonMSIH_x41040_y13376_patch02550.pt cannot be opened.\n",
      "ERROR:__main__:Error saving D:\\Aamir Gulzar\\KSA_project2\\dataset\\patch_data\\TCGA-CL-4957_nonMSIH\\TCGA-CL-4957_nonMSIH_x41040_y13888_patch02551.png: File D:\\Aamir Gulzar\\KSA_project2\\dataset\\Features\\Uni_2h_fivecrop\\TCGA-CL-4957_nonMSIH\\TCGA-CL-4957_nonMSIH_x41040_y13888_patch02551.pt cannot be opened.\n",
      "ERROR:__main__:Error saving D:\\Aamir Gulzar\\KSA_project2\\dataset\\patch_data\\TCGA-CL-4957_nonMSIH\\TCGA-CL-4957_nonMSIH_x41040_y14400_patch02552.png: File D:\\Aamir Gulzar\\KSA_project2\\dataset\\Features\\Uni_2h_fivecrop\\TCGA-CL-4957_nonMSIH\\TCGA-CL-4957_nonMSIH_x41040_y14400_patch02552.pt cannot be opened.\n",
      "ERROR:__main__:Error saving D:\\Aamir Gulzar\\KSA_project2\\dataset\\patch_data\\TCGA-CL-4957_nonMSIH\\TCGA-CL-4957_nonMSIH_x41040_y14912_patch02553.png: File D:\\Aamir Gulzar\\KSA_project2\\dataset\\Features\\Uni_2h_fivecrop\\TCGA-CL-4957_nonMSIH\\TCGA-CL-4957_nonMSIH_x41040_y14912_patch02553.pt cannot be opened.\n",
      "ERROR:__main__:Error saving D:\\Aamir Gulzar\\KSA_project2\\dataset\\patch_data\\TCGA-CL-4957_nonMSIH\\TCGA-CL-4957_nonMSIH_x41040_y15424_patch02554.png: File D:\\Aamir Gulzar\\KSA_project2\\dataset\\Features\\Uni_2h_fivecrop\\TCGA-CL-4957_nonMSIH\\TCGA-CL-4957_nonMSIH_x41040_y15424_patch02554.pt cannot be opened.\n",
      "ERROR:__main__:Error saving D:\\Aamir Gulzar\\KSA_project2\\dataset\\patch_data\\TCGA-CL-4957_nonMSIH\\TCGA-CL-4957_nonMSIH_x41040_y15936_patch02555.png: File D:\\Aamir Gulzar\\KSA_project2\\dataset\\Features\\Uni_2h_fivecrop\\TCGA-CL-4957_nonMSIH\\TCGA-CL-4957_nonMSIH_x41040_y15936_patch02555.pt cannot be opened.\n",
      "ERROR:__main__:Error saving D:\\Aamir Gulzar\\KSA_project2\\dataset\\patch_data\\TCGA-CL-4957_nonMSIH\\TCGA-CL-4957_nonMSIH_x41040_y16448_patch02556.png: File D:\\Aamir Gulzar\\KSA_project2\\dataset\\Features\\Uni_2h_fivecrop\\TCGA-CL-4957_nonMSIH\\TCGA-CL-4957_nonMSIH_x41040_y16448_patch02556.pt cannot be opened.\n",
      "ERROR:__main__:Error saving D:\\Aamir Gulzar\\KSA_project2\\dataset\\patch_data\\TCGA-CL-4957_nonMSIH\\TCGA-CL-4957_nonMSIH_x41040_y16960_patch02557.png: File D:\\Aamir Gulzar\\KSA_project2\\dataset\\Features\\Uni_2h_fivecrop\\TCGA-CL-4957_nonMSIH\\TCGA-CL-4957_nonMSIH_x41040_y16960_patch02557.pt cannot be opened.\n",
      "ERROR:__main__:Error saving D:\\Aamir Gulzar\\KSA_project2\\dataset\\patch_data\\TCGA-CL-4957_nonMSIH\\TCGA-CL-4957_nonMSIH_x41040_y17472_patch02558.png: File D:\\Aamir Gulzar\\KSA_project2\\dataset\\Features\\Uni_2h_fivecrop\\TCGA-CL-4957_nonMSIH\\TCGA-CL-4957_nonMSIH_x41040_y17472_patch02558.pt cannot be opened.\n",
      "ERROR:__main__:Error saving D:\\Aamir Gulzar\\KSA_project2\\dataset\\patch_data\\TCGA-CL-4957_nonMSIH\\TCGA-CL-4957_nonMSIH_x41040_y17984_patch02559.png: File D:\\Aamir Gulzar\\KSA_project2\\dataset\\Features\\Uni_2h_fivecrop\\TCGA-CL-4957_nonMSIH\\TCGA-CL-4957_nonMSIH_x41040_y17984_patch02559.pt cannot be opened.\n",
      "ERROR:__main__:Error saving D:\\Aamir Gulzar\\KSA_project2\\dataset\\patch_data\\TCGA-CL-4957_nonMSIH\\TCGA-CL-4957_nonMSIH_x41040_y18496_patch02560.png: File D:\\Aamir Gulzar\\KSA_project2\\dataset\\Features\\Uni_2h_fivecrop\\TCGA-CL-4957_nonMSIH\\TCGA-CL-4957_nonMSIH_x41040_y18496_patch02560.pt cannot be opened.\n",
      "ERROR:__main__:Error saving D:\\Aamir Gulzar\\KSA_project2\\dataset\\patch_data\\TCGA-CL-4957_nonMSIH\\TCGA-CL-4957_nonMSIH_x41040_y19008_patch02561.png: File D:\\Aamir Gulzar\\KSA_project2\\dataset\\Features\\Uni_2h_fivecrop\\TCGA-CL-4957_nonMSIH\\TCGA-CL-4957_nonMSIH_x41040_y19008_patch02561.pt cannot be opened.\n",
      "ERROR:__main__:Error saving D:\\Aamir Gulzar\\KSA_project2\\dataset\\patch_data\\TCGA-CL-4957_nonMSIH\\TCGA-CL-4957_nonMSIH_x41040_y19520_patch02562.png: File D:\\Aamir Gulzar\\KSA_project2\\dataset\\Features\\Uni_2h_fivecrop\\TCGA-CL-4957_nonMSIH\\TCGA-CL-4957_nonMSIH_x41040_y19520_patch02562.pt cannot be opened.\n",
      "ERROR:__main__:Error saving D:\\Aamir Gulzar\\KSA_project2\\dataset\\patch_data\\TCGA-CL-4957_nonMSIH\\TCGA-CL-4957_nonMSIH_x41040_y20032_patch02563.png: File D:\\Aamir Gulzar\\KSA_project2\\dataset\\Features\\Uni_2h_fivecrop\\TCGA-CL-4957_nonMSIH\\TCGA-CL-4957_nonMSIH_x41040_y20032_patch02563.pt cannot be opened.\n",
      "ERROR:__main__:Error saving D:\\Aamir Gulzar\\KSA_project2\\dataset\\patch_data\\TCGA-CL-4957_nonMSIH\\TCGA-CL-4957_nonMSIH_x41040_y20544_patch02564.png: File D:\\Aamir Gulzar\\KSA_project2\\dataset\\Features\\Uni_2h_fivecrop\\TCGA-CL-4957_nonMSIH\\TCGA-CL-4957_nonMSIH_x41040_y20544_patch02564.pt cannot be opened.\n",
      "ERROR:__main__:Error saving D:\\Aamir Gulzar\\KSA_project2\\dataset\\patch_data\\TCGA-CL-4957_nonMSIH\\TCGA-CL-4957_nonMSIH_x41040_y21056_patch02565.png: File D:\\Aamir Gulzar\\KSA_project2\\dataset\\Features\\Uni_2h_fivecrop\\TCGA-CL-4957_nonMSIH\\TCGA-CL-4957_nonMSIH_x41040_y21056_patch02565.pt cannot be opened.\n",
      "ERROR:__main__:Error saving D:\\Aamir Gulzar\\KSA_project2\\dataset\\patch_data\\TCGA-CL-4957_nonMSIH\\TCGA-CL-4957_nonMSIH_x41040_y21568_patch02566.png: File D:\\Aamir Gulzar\\KSA_project2\\dataset\\Features\\Uni_2h_fivecrop\\TCGA-CL-4957_nonMSIH\\TCGA-CL-4957_nonMSIH_x41040_y21568_patch02566.pt cannot be opened.\n",
      "ERROR:__main__:Error saving D:\\Aamir Gulzar\\KSA_project2\\dataset\\patch_data\\TCGA-CL-4957_nonMSIH\\TCGA-CL-4957_nonMSIH_x41040_y22080_patch02567.png: File D:\\Aamir Gulzar\\KSA_project2\\dataset\\Features\\Uni_2h_fivecrop\\TCGA-CL-4957_nonMSIH\\TCGA-CL-4957_nonMSIH_x41040_y22080_patch02567.pt cannot be opened.\n",
      "ERROR:__main__:Error saving D:\\Aamir Gulzar\\KSA_project2\\dataset\\patch_data\\TCGA-CL-4957_nonMSIH\\TCGA-CL-4957_nonMSIH_x41040_y22592_patch02568.png: File D:\\Aamir Gulzar\\KSA_project2\\dataset\\Features\\Uni_2h_fivecrop\\TCGA-CL-4957_nonMSIH\\TCGA-CL-4957_nonMSIH_x41040_y22592_patch02568.pt cannot be opened.\n",
      "ERROR:__main__:Error saving D:\\Aamir Gulzar\\KSA_project2\\dataset\\patch_data\\TCGA-CL-4957_nonMSIH\\TCGA-CL-4957_nonMSIH_x41040_y23104_patch02569.png: File D:\\Aamir Gulzar\\KSA_project2\\dataset\\Features\\Uni_2h_fivecrop\\TCGA-CL-4957_nonMSIH\\TCGA-CL-4957_nonMSIH_x41040_y23104_patch02569.pt cannot be opened.\n",
      "ERROR:__main__:Error saving D:\\Aamir Gulzar\\KSA_project2\\dataset\\patch_data\\TCGA-CL-4957_nonMSIH\\TCGA-CL-4957_nonMSIH_x41040_y23616_patch02570.png: File D:\\Aamir Gulzar\\KSA_project2\\dataset\\Features\\Uni_2h_fivecrop\\TCGA-CL-4957_nonMSIH\\TCGA-CL-4957_nonMSIH_x41040_y23616_patch02570.pt cannot be opened.\n",
      "ERROR:__main__:Error saving D:\\Aamir Gulzar\\KSA_project2\\dataset\\patch_data\\TCGA-CL-4957_nonMSIH\\TCGA-CL-4957_nonMSIH_x41040_y24128_patch02571.png: File D:\\Aamir Gulzar\\KSA_project2\\dataset\\Features\\Uni_2h_fivecrop\\TCGA-CL-4957_nonMSIH\\TCGA-CL-4957_nonMSIH_x41040_y24128_patch02571.pt cannot be opened.\n",
      "ERROR:__main__:Error saving D:\\Aamir Gulzar\\KSA_project2\\dataset\\patch_data\\TCGA-CL-4957_nonMSIH\\TCGA-CL-4957_nonMSIH_x41040_y24640_patch02572.png: File D:\\Aamir Gulzar\\KSA_project2\\dataset\\Features\\Uni_2h_fivecrop\\TCGA-CL-4957_nonMSIH\\TCGA-CL-4957_nonMSIH_x41040_y24640_patch02572.pt cannot be opened.\n",
      "ERROR:__main__:Error saving D:\\Aamir Gulzar\\KSA_project2\\dataset\\patch_data\\TCGA-CL-4957_nonMSIH\\TCGA-CL-4957_nonMSIH_x41040_y6720_patch02537.png: File D:\\Aamir Gulzar\\KSA_project2\\dataset\\Features\\Uni_2h_fivecrop\\TCGA-CL-4957_nonMSIH\\TCGA-CL-4957_nonMSIH_x41040_y6720_patch02537.pt cannot be opened.\n",
      "ERROR:__main__:Error saving D:\\Aamir Gulzar\\KSA_project2\\dataset\\patch_data\\TCGA-CL-4957_nonMSIH\\TCGA-CL-4957_nonMSIH_x41040_y7232_patch02538.png: File D:\\Aamir Gulzar\\KSA_project2\\dataset\\Features\\Uni_2h_fivecrop\\TCGA-CL-4957_nonMSIH\\TCGA-CL-4957_nonMSIH_x41040_y7232_patch02538.pt cannot be opened.\n",
      "ERROR:__main__:Error saving D:\\Aamir Gulzar\\KSA_project2\\dataset\\patch_data\\TCGA-CL-4957_nonMSIH\\TCGA-CL-4957_nonMSIH_x41040_y7744_patch02539.png: File D:\\Aamir Gulzar\\KSA_project2\\dataset\\Features\\Uni_2h_fivecrop\\TCGA-CL-4957_nonMSIH\\TCGA-CL-4957_nonMSIH_x41040_y7744_patch02539.pt cannot be opened.\n",
      "ERROR:__main__:Error saving D:\\Aamir Gulzar\\KSA_project2\\dataset\\patch_data\\TCGA-CL-4957_nonMSIH\\TCGA-CL-4957_nonMSIH_x41040_y8256_patch02540.png: File D:\\Aamir Gulzar\\KSA_project2\\dataset\\Features\\Uni_2h_fivecrop\\TCGA-CL-4957_nonMSIH\\TCGA-CL-4957_nonMSIH_x41040_y8256_patch02540.pt cannot be opened.\n",
      "ERROR:__main__:Error saving D:\\Aamir Gulzar\\KSA_project2\\dataset\\patch_data\\TCGA-CL-4957_nonMSIH\\TCGA-CL-4957_nonMSIH_x41040_y8768_patch02541.png: File D:\\Aamir Gulzar\\KSA_project2\\dataset\\Features\\Uni_2h_fivecrop\\TCGA-CL-4957_nonMSIH\\TCGA-CL-4957_nonMSIH_x41040_y8768_patch02541.pt cannot be opened.\n",
      "ERROR:__main__:Error saving D:\\Aamir Gulzar\\KSA_project2\\dataset\\patch_data\\TCGA-CL-4957_nonMSIH\\TCGA-CL-4957_nonMSIH_x41040_y9280_patch02542.png: File D:\\Aamir Gulzar\\KSA_project2\\dataset\\Features\\Uni_2h_fivecrop\\TCGA-CL-4957_nonMSIH\\TCGA-CL-4957_nonMSIH_x41040_y9280_patch02542.pt cannot be opened.\n",
      "ERROR:__main__:Error saving D:\\Aamir Gulzar\\KSA_project2\\dataset\\patch_data\\TCGA-CL-4957_nonMSIH\\TCGA-CL-4957_nonMSIH_x41040_y9792_patch02543.png: File D:\\Aamir Gulzar\\KSA_project2\\dataset\\Features\\Uni_2h_fivecrop\\TCGA-CL-4957_nonMSIH\\TCGA-CL-4957_nonMSIH_x41040_y9792_patch02543.pt cannot be opened.\n",
      "ERROR:__main__:Error saving D:\\Aamir Gulzar\\KSA_project2\\dataset\\patch_data\\TCGA-CL-4957_nonMSIH\\TCGA-CL-4957_nonMSIH_x41552_y10816_patch02580.png: File D:\\Aamir Gulzar\\KSA_project2\\dataset\\Features\\Uni_2h_fivecrop\\TCGA-CL-4957_nonMSIH\\TCGA-CL-4957_nonMSIH_x41552_y10816_patch02580.pt cannot be opened.\n",
      "ERROR:__main__:Error saving D:\\Aamir Gulzar\\KSA_project2\\dataset\\patch_data\\TCGA-CL-4957_nonMSIH\\TCGA-CL-4957_nonMSIH_x41552_y10304_patch02579.png: File D:\\Aamir Gulzar\\KSA_project2\\dataset\\Features\\Uni_2h_fivecrop\\TCGA-CL-4957_nonMSIH\\TCGA-CL-4957_nonMSIH_x41552_y10304_patch02579.pt cannot be opened.\n",
      "ERROR:__main__:Error saving D:\\Aamir Gulzar\\KSA_project2\\dataset\\patch_data\\TCGA-CL-4957_nonMSIH\\TCGA-CL-4957_nonMSIH_x41552_y11328_patch02581.png: File D:\\Aamir Gulzar\\KSA_project2\\dataset\\Features\\Uni_2h_fivecrop\\TCGA-CL-4957_nonMSIH\\TCGA-CL-4957_nonMSIH_x41552_y11328_patch02581.pt cannot be opened.\n",
      "ERROR:__main__:Error saving D:\\Aamir Gulzar\\KSA_project2\\dataset\\patch_data\\TCGA-CL-4957_nonMSIH\\TCGA-CL-4957_nonMSIH_x41552_y11840_patch02582.png: File D:\\Aamir Gulzar\\KSA_project2\\dataset\\Features\\Uni_2h_fivecrop\\TCGA-CL-4957_nonMSIH\\TCGA-CL-4957_nonMSIH_x41552_y11840_patch02582.pt cannot be opened.\n",
      "ERROR:__main__:Error saving D:\\Aamir Gulzar\\KSA_project2\\dataset\\patch_data\\TCGA-CL-4957_nonMSIH\\TCGA-CL-4957_nonMSIH_x41552_y12352_patch02583.png: File D:\\Aamir Gulzar\\KSA_project2\\dataset\\Features\\Uni_2h_fivecrop\\TCGA-CL-4957_nonMSIH\\TCGA-CL-4957_nonMSIH_x41552_y12352_patch02583.pt cannot be opened.\n",
      "ERROR:__main__:Error saving D:\\Aamir Gulzar\\KSA_project2\\dataset\\patch_data\\TCGA-CL-4957_nonMSIH\\TCGA-CL-4957_nonMSIH_x41552_y12864_patch02584.png: File D:\\Aamir Gulzar\\KSA_project2\\dataset\\Features\\Uni_2h_fivecrop\\TCGA-CL-4957_nonMSIH\\TCGA-CL-4957_nonMSIH_x41552_y12864_patch02584.pt cannot be opened.\n",
      "ERROR:__main__:Error saving D:\\Aamir Gulzar\\KSA_project2\\dataset\\patch_data\\TCGA-CL-4957_nonMSIH\\TCGA-CL-4957_nonMSIH_x41552_y13376_patch02585.png: File D:\\Aamir Gulzar\\KSA_project2\\dataset\\Features\\Uni_2h_fivecrop\\TCGA-CL-4957_nonMSIH\\TCGA-CL-4957_nonMSIH_x41552_y13376_patch02585.pt cannot be opened.\n",
      "ERROR:__main__:Error saving D:\\Aamir Gulzar\\KSA_project2\\dataset\\patch_data\\TCGA-CL-4957_nonMSIH\\TCGA-CL-4957_nonMSIH_x41552_y13888_patch02586.png: File D:\\Aamir Gulzar\\KSA_project2\\dataset\\Features\\Uni_2h_fivecrop\\TCGA-CL-4957_nonMSIH\\TCGA-CL-4957_nonMSIH_x41552_y13888_patch02586.pt cannot be opened.\n",
      "ERROR:__main__:Error saving D:\\Aamir Gulzar\\KSA_project2\\dataset\\patch_data\\TCGA-CL-4957_nonMSIH\\TCGA-CL-4957_nonMSIH_x41552_y14400_patch02587.png: File D:\\Aamir Gulzar\\KSA_project2\\dataset\\Features\\Uni_2h_fivecrop\\TCGA-CL-4957_nonMSIH\\TCGA-CL-4957_nonMSIH_x41552_y14400_patch02587.pt cannot be opened.\n",
      "ERROR:__main__:Error saving D:\\Aamir Gulzar\\KSA_project2\\dataset\\patch_data\\TCGA-CL-4957_nonMSIH\\TCGA-CL-4957_nonMSIH_x41552_y14912_patch02588.png: File D:\\Aamir Gulzar\\KSA_project2\\dataset\\Features\\Uni_2h_fivecrop\\TCGA-CL-4957_nonMSIH\\TCGA-CL-4957_nonMSIH_x41552_y14912_patch02588.pt cannot be opened.\n",
      "ERROR:__main__:Error saving D:\\Aamir Gulzar\\KSA_project2\\dataset\\patch_data\\TCGA-CL-4957_nonMSIH\\TCGA-CL-4957_nonMSIH_x41552_y15424_patch02589.png: File D:\\Aamir Gulzar\\KSA_project2\\dataset\\Features\\Uni_2h_fivecrop\\TCGA-CL-4957_nonMSIH\\TCGA-CL-4957_nonMSIH_x41552_y15424_patch02589.pt cannot be opened.\n",
      "ERROR:__main__:Error saving D:\\Aamir Gulzar\\KSA_project2\\dataset\\patch_data\\TCGA-CL-4957_nonMSIH\\TCGA-CL-4957_nonMSIH_x41552_y15936_patch02590.png: File D:\\Aamir Gulzar\\KSA_project2\\dataset\\Features\\Uni_2h_fivecrop\\TCGA-CL-4957_nonMSIH\\TCGA-CL-4957_nonMSIH_x41552_y15936_patch02590.pt cannot be opened.\n",
      "ERROR:__main__:Error saving D:\\Aamir Gulzar\\KSA_project2\\dataset\\patch_data\\TCGA-CL-4957_nonMSIH\\TCGA-CL-4957_nonMSIH_x41552_y17472_patch02593.png: File D:\\Aamir Gulzar\\KSA_project2\\dataset\\Features\\Uni_2h_fivecrop\\TCGA-CL-4957_nonMSIH\\TCGA-CL-4957_nonMSIH_x41552_y17472_patch02593.pt cannot be opened.\n",
      "ERROR:__main__:Error saving D:\\Aamir Gulzar\\KSA_project2\\dataset\\patch_data\\TCGA-CL-4957_nonMSIH\\TCGA-CL-4957_nonMSIH_x41552_y16448_patch02591.png: File D:\\Aamir Gulzar\\KSA_project2\\dataset\\Features\\Uni_2h_fivecrop\\TCGA-CL-4957_nonMSIH\\TCGA-CL-4957_nonMSIH_x41552_y16448_patch02591.pt cannot be opened.\n",
      "ERROR:__main__:Error saving D:\\Aamir Gulzar\\KSA_project2\\dataset\\patch_data\\TCGA-CL-4957_nonMSIH\\TCGA-CL-4957_nonMSIH_x41552_y16960_patch02592.png: File D:\\Aamir Gulzar\\KSA_project2\\dataset\\Features\\Uni_2h_fivecrop\\TCGA-CL-4957_nonMSIH\\TCGA-CL-4957_nonMSIH_x41552_y16960_patch02592.pt cannot be opened.\n",
      "ERROR:__main__:Error saving D:\\Aamir Gulzar\\KSA_project2\\dataset\\patch_data\\TCGA-CL-4957_nonMSIH\\TCGA-CL-4957_nonMSIH_x41552_y17984_patch02594.png: File D:\\Aamir Gulzar\\KSA_project2\\dataset\\Features\\Uni_2h_fivecrop\\TCGA-CL-4957_nonMSIH\\TCGA-CL-4957_nonMSIH_x41552_y17984_patch02594.pt cannot be opened.\n",
      "ERROR:__main__:Error saving D:\\Aamir Gulzar\\KSA_project2\\dataset\\patch_data\\TCGA-CL-4957_nonMSIH\\TCGA-CL-4957_nonMSIH_x41552_y18496_patch02595.png: File D:\\Aamir Gulzar\\KSA_project2\\dataset\\Features\\Uni_2h_fivecrop\\TCGA-CL-4957_nonMSIH\\TCGA-CL-4957_nonMSIH_x41552_y18496_patch02595.pt cannot be opened.\n",
      "ERROR:__main__:Error saving D:\\Aamir Gulzar\\KSA_project2\\dataset\\patch_data\\TCGA-CL-4957_nonMSIH\\TCGA-CL-4957_nonMSIH_x41552_y19008_patch02596.png: File D:\\Aamir Gulzar\\KSA_project2\\dataset\\Features\\Uni_2h_fivecrop\\TCGA-CL-4957_nonMSIH\\TCGA-CL-4957_nonMSIH_x41552_y19008_patch02596.pt cannot be opened.\n",
      "ERROR:__main__:Error saving D:\\Aamir Gulzar\\KSA_project2\\dataset\\patch_data\\TCGA-CL-4957_nonMSIH\\TCGA-CL-4957_nonMSIH_x41552_y19520_patch02597.png: File D:\\Aamir Gulzar\\KSA_project2\\dataset\\Features\\Uni_2h_fivecrop\\TCGA-CL-4957_nonMSIH\\TCGA-CL-4957_nonMSIH_x41552_y19520_patch02597.pt cannot be opened.\n",
      "ERROR:__main__:Error saving D:\\Aamir Gulzar\\KSA_project2\\dataset\\patch_data\\TCGA-CL-4957_nonMSIH\\TCGA-CL-4957_nonMSIH_x41552_y20032_patch02598.png: File D:\\Aamir Gulzar\\KSA_project2\\dataset\\Features\\Uni_2h_fivecrop\\TCGA-CL-4957_nonMSIH\\TCGA-CL-4957_nonMSIH_x41552_y20032_patch02598.pt cannot be opened.\n",
      "ERROR:__main__:Error saving D:\\Aamir Gulzar\\KSA_project2\\dataset\\patch_data\\TCGA-CL-4957_nonMSIH\\TCGA-CL-4957_nonMSIH_x41552_y20544_patch02599.png: File D:\\Aamir Gulzar\\KSA_project2\\dataset\\Features\\Uni_2h_fivecrop\\TCGA-CL-4957_nonMSIH\\TCGA-CL-4957_nonMSIH_x41552_y20544_patch02599.pt cannot be opened.\n",
      "ERROR:__main__:Error saving D:\\Aamir Gulzar\\KSA_project2\\dataset\\patch_data\\TCGA-CL-4957_nonMSIH\\TCGA-CL-4957_nonMSIH_x41552_y21056_patch02600.png: File D:\\Aamir Gulzar\\KSA_project2\\dataset\\Features\\Uni_2h_fivecrop\\TCGA-CL-4957_nonMSIH\\TCGA-CL-4957_nonMSIH_x41552_y21056_patch02600.pt cannot be opened.\n",
      "ERROR:__main__:Error saving D:\\Aamir Gulzar\\KSA_project2\\dataset\\patch_data\\TCGA-CL-4957_nonMSIH\\TCGA-CL-4957_nonMSIH_x41552_y21568_patch02601.png: File D:\\Aamir Gulzar\\KSA_project2\\dataset\\Features\\Uni_2h_fivecrop\\TCGA-CL-4957_nonMSIH\\TCGA-CL-4957_nonMSIH_x41552_y21568_patch02601.pt cannot be opened.\n",
      "ERROR:__main__:Error saving D:\\Aamir Gulzar\\KSA_project2\\dataset\\patch_data\\TCGA-CL-4957_nonMSIH\\TCGA-CL-4957_nonMSIH_x41552_y22080_patch02602.png: File D:\\Aamir Gulzar\\KSA_project2\\dataset\\Features\\Uni_2h_fivecrop\\TCGA-CL-4957_nonMSIH\\TCGA-CL-4957_nonMSIH_x41552_y22080_patch02602.pt cannot be opened.\n",
      "ERROR:__main__:Error saving D:\\Aamir Gulzar\\KSA_project2\\dataset\\patch_data\\TCGA-CL-4957_nonMSIH\\TCGA-CL-4957_nonMSIH_x41552_y23104_patch02604.png: File D:\\Aamir Gulzar\\KSA_project2\\dataset\\Features\\Uni_2h_fivecrop\\TCGA-CL-4957_nonMSIH\\TCGA-CL-4957_nonMSIH_x41552_y23104_patch02604.pt cannot be opened.\n",
      "ERROR:__main__:Error saving D:\\Aamir Gulzar\\KSA_project2\\dataset\\patch_data\\TCGA-CL-4957_nonMSIH\\TCGA-CL-4957_nonMSIH_x41552_y22592_patch02603.png: File D:\\Aamir Gulzar\\KSA_project2\\dataset\\Features\\Uni_2h_fivecrop\\TCGA-CL-4957_nonMSIH\\TCGA-CL-4957_nonMSIH_x41552_y22592_patch02603.pt cannot be opened.\n",
      "ERROR:__main__:Error saving D:\\Aamir Gulzar\\KSA_project2\\dataset\\patch_data\\TCGA-CL-4957_nonMSIH\\TCGA-CL-4957_nonMSIH_x41552_y23616_patch02605.png: File D:\\Aamir Gulzar\\KSA_project2\\dataset\\Features\\Uni_2h_fivecrop\\TCGA-CL-4957_nonMSIH\\TCGA-CL-4957_nonMSIH_x41552_y23616_patch02605.pt cannot be opened.\n",
      "ERROR:__main__:Error saving D:\\Aamir Gulzar\\KSA_project2\\dataset\\patch_data\\TCGA-CL-4957_nonMSIH\\TCGA-CL-4957_nonMSIH_x41552_y24128_patch02606.png: File D:\\Aamir Gulzar\\KSA_project2\\dataset\\Features\\Uni_2h_fivecrop\\TCGA-CL-4957_nonMSIH\\TCGA-CL-4957_nonMSIH_x41552_y24128_patch02606.pt cannot be opened.\n",
      "ERROR:__main__:Error saving D:\\Aamir Gulzar\\KSA_project2\\dataset\\patch_data\\TCGA-CL-4957_nonMSIH\\TCGA-CL-4957_nonMSIH_x41552_y24640_patch02607.png: File D:\\Aamir Gulzar\\KSA_project2\\dataset\\Features\\Uni_2h_fivecrop\\TCGA-CL-4957_nonMSIH\\TCGA-CL-4957_nonMSIH_x41552_y24640_patch02607.pt cannot be opened.\n",
      "ERROR:__main__:Error saving D:\\Aamir Gulzar\\KSA_project2\\dataset\\patch_data\\TCGA-CL-4957_nonMSIH\\TCGA-CL-4957_nonMSIH_x41552_y7232_patch02573.png: File D:\\Aamir Gulzar\\KSA_project2\\dataset\\Features\\Uni_2h_fivecrop\\TCGA-CL-4957_nonMSIH\\TCGA-CL-4957_nonMSIH_x41552_y7232_patch02573.pt cannot be opened.\n",
      "ERROR:__main__:Error saving D:\\Aamir Gulzar\\KSA_project2\\dataset\\patch_data\\TCGA-CL-4957_nonMSIH\\TCGA-CL-4957_nonMSIH_x41552_y7744_patch02574.png: File D:\\Aamir Gulzar\\KSA_project2\\dataset\\Features\\Uni_2h_fivecrop\\TCGA-CL-4957_nonMSIH\\TCGA-CL-4957_nonMSIH_x41552_y7744_patch02574.pt cannot be opened.\n",
      "ERROR:__main__:Error saving D:\\Aamir Gulzar\\KSA_project2\\dataset\\patch_data\\TCGA-CL-4957_nonMSIH\\TCGA-CL-4957_nonMSIH_x41552_y8256_patch02575.png: File D:\\Aamir Gulzar\\KSA_project2\\dataset\\Features\\Uni_2h_fivecrop\\TCGA-CL-4957_nonMSIH\\TCGA-CL-4957_nonMSIH_x41552_y8256_patch02575.pt cannot be opened.\n",
      "ERROR:__main__:Error saving D:\\Aamir Gulzar\\KSA_project2\\dataset\\patch_data\\TCGA-CL-4957_nonMSIH\\TCGA-CL-4957_nonMSIH_x41552_y9280_patch02577.png: File D:\\Aamir Gulzar\\KSA_project2\\dataset\\Features\\Uni_2h_fivecrop\\TCGA-CL-4957_nonMSIH\\TCGA-CL-4957_nonMSIH_x41552_y9280_patch02577.pt cannot be opened.\n",
      "ERROR:__main__:Error saving D:\\Aamir Gulzar\\KSA_project2\\dataset\\patch_data\\TCGA-CL-4957_nonMSIH\\TCGA-CL-4957_nonMSIH_x41552_y8768_patch02576.png: File D:\\Aamir Gulzar\\KSA_project2\\dataset\\Features\\Uni_2h_fivecrop\\TCGA-CL-4957_nonMSIH\\TCGA-CL-4957_nonMSIH_x41552_y8768_patch02576.pt cannot be opened.\n",
      "ERROR:__main__:Error saving D:\\Aamir Gulzar\\KSA_project2\\dataset\\patch_data\\TCGA-CL-4957_nonMSIH\\TCGA-CL-4957_nonMSIH_x41552_y9792_patch02578.png: File D:\\Aamir Gulzar\\KSA_project2\\dataset\\Features\\Uni_2h_fivecrop\\TCGA-CL-4957_nonMSIH\\TCGA-CL-4957_nonMSIH_x41552_y9792_patch02578.pt cannot be opened.\n",
      "ERROR:__main__:Error saving D:\\Aamir Gulzar\\KSA_project2\\dataset\\patch_data\\TCGA-CL-4957_nonMSIH\\TCGA-CL-4957_nonMSIH_x4176_y13376_patch00118.png: File D:\\Aamir Gulzar\\KSA_project2\\dataset\\Features\\Uni_2h_fivecrop\\TCGA-CL-4957_nonMSIH\\TCGA-CL-4957_nonMSIH_x4176_y13376_patch00118.pt cannot be opened.\n",
      "ERROR:__main__:Error saving D:\\Aamir Gulzar\\KSA_project2\\dataset\\patch_data\\TCGA-CL-4957_nonMSIH\\TCGA-CL-4957_nonMSIH_x4176_y13888_patch00119.png: File D:\\Aamir Gulzar\\KSA_project2\\dataset\\Features\\Uni_2h_fivecrop\\TCGA-CL-4957_nonMSIH\\TCGA-CL-4957_nonMSIH_x4176_y13888_patch00119.pt cannot be opened.\n",
      "ERROR:__main__:Error saving D:\\Aamir Gulzar\\KSA_project2\\dataset\\patch_data\\TCGA-CL-4957_nonMSIH\\TCGA-CL-4957_nonMSIH_x4176_y14400_patch00120.png: File D:\\Aamir Gulzar\\KSA_project2\\dataset\\Features\\Uni_2h_fivecrop\\TCGA-CL-4957_nonMSIH\\TCGA-CL-4957_nonMSIH_x4176_y14400_patch00120.pt cannot be opened.\n",
      "ERROR:__main__:Error saving D:\\Aamir Gulzar\\KSA_project2\\dataset\\patch_data\\TCGA-CL-4957_nonMSIH\\TCGA-CL-4957_nonMSIH_x4176_y14912_patch00121.png: File D:\\Aamir Gulzar\\KSA_project2\\dataset\\Features\\Uni_2h_fivecrop\\TCGA-CL-4957_nonMSIH\\TCGA-CL-4957_nonMSIH_x4176_y14912_patch00121.pt cannot be opened.\n",
      "ERROR:__main__:Error saving D:\\Aamir Gulzar\\KSA_project2\\dataset\\patch_data\\TCGA-CL-4957_nonMSIH\\TCGA-CL-4957_nonMSIH_x4176_y15424_patch00122.png: File D:\\Aamir Gulzar\\KSA_project2\\dataset\\Features\\Uni_2h_fivecrop\\TCGA-CL-4957_nonMSIH\\TCGA-CL-4957_nonMSIH_x4176_y15424_patch00122.pt cannot be opened.\n",
      "ERROR:__main__:Error saving D:\\Aamir Gulzar\\KSA_project2\\dataset\\patch_data\\TCGA-CL-4957_nonMSIH\\TCGA-CL-4957_nonMSIH_x4176_y15936_patch00123.png: File D:\\Aamir Gulzar\\KSA_project2\\dataset\\Features\\Uni_2h_fivecrop\\TCGA-CL-4957_nonMSIH\\TCGA-CL-4957_nonMSIH_x4176_y15936_patch00123.pt cannot be opened.\n",
      "ERROR:__main__:Error saving D:\\Aamir Gulzar\\KSA_project2\\dataset\\patch_data\\TCGA-CL-4957_nonMSIH\\TCGA-CL-4957_nonMSIH_x4176_y16448_patch00124.png: File D:\\Aamir Gulzar\\KSA_project2\\dataset\\Features\\Uni_2h_fivecrop\\TCGA-CL-4957_nonMSIH\\TCGA-CL-4957_nonMSIH_x4176_y16448_patch00124.pt cannot be opened.\n",
      "ERROR:__main__:Error saving D:\\Aamir Gulzar\\KSA_project2\\dataset\\patch_data\\TCGA-CL-4957_nonMSIH\\TCGA-CL-4957_nonMSIH_x4176_y16960_patch00125.png: File D:\\Aamir Gulzar\\KSA_project2\\dataset\\Features\\Uni_2h_fivecrop\\TCGA-CL-4957_nonMSIH\\TCGA-CL-4957_nonMSIH_x4176_y16960_patch00125.pt cannot be opened.\n",
      "ERROR:__main__:Error saving D:\\Aamir Gulzar\\KSA_project2\\dataset\\patch_data\\TCGA-CL-4957_nonMSIH\\TCGA-CL-4957_nonMSIH_x4176_y17472_patch00126.png: File D:\\Aamir Gulzar\\KSA_project2\\dataset\\Features\\Uni_2h_fivecrop\\TCGA-CL-4957_nonMSIH\\TCGA-CL-4957_nonMSIH_x4176_y17472_patch00126.pt cannot be opened.\n",
      "ERROR:__main__:Error saving D:\\Aamir Gulzar\\KSA_project2\\dataset\\patch_data\\TCGA-CL-4957_nonMSIH\\TCGA-CL-4957_nonMSIH_x4176_y17984_patch00127.png: File D:\\Aamir Gulzar\\KSA_project2\\dataset\\Features\\Uni_2h_fivecrop\\TCGA-CL-4957_nonMSIH\\TCGA-CL-4957_nonMSIH_x4176_y17984_patch00127.pt cannot be opened.\n",
      "ERROR:__main__:Error saving D:\\Aamir Gulzar\\KSA_project2\\dataset\\patch_data\\TCGA-CL-4957_nonMSIH\\TCGA-CL-4957_nonMSIH_x4176_y18496_patch00128.png: File D:\\Aamir Gulzar\\KSA_project2\\dataset\\Features\\Uni_2h_fivecrop\\TCGA-CL-4957_nonMSIH\\TCGA-CL-4957_nonMSIH_x4176_y18496_patch00128.pt cannot be opened.\n",
      "ERROR:__main__:Error saving D:\\Aamir Gulzar\\KSA_project2\\dataset\\patch_data\\TCGA-CL-4957_nonMSIH\\TCGA-CL-4957_nonMSIH_x4176_y19520_patch00130.png: File D:\\Aamir Gulzar\\KSA_project2\\dataset\\Features\\Uni_2h_fivecrop\\TCGA-CL-4957_nonMSIH\\TCGA-CL-4957_nonMSIH_x4176_y19520_patch00130.pt cannot be opened.\n",
      "ERROR:__main__:Error saving D:\\Aamir Gulzar\\KSA_project2\\dataset\\patch_data\\TCGA-CL-4957_nonMSIH\\TCGA-CL-4957_nonMSIH_x4176_y19008_patch00129.png: File D:\\Aamir Gulzar\\KSA_project2\\dataset\\Features\\Uni_2h_fivecrop\\TCGA-CL-4957_nonMSIH\\TCGA-CL-4957_nonMSIH_x4176_y19008_patch00129.pt cannot be opened.\n",
      "ERROR:__main__:Error saving D:\\Aamir Gulzar\\KSA_project2\\dataset\\patch_data\\TCGA-CL-4957_nonMSIH\\TCGA-CL-4957_nonMSIH_x4176_y20032_patch00131.png: File D:\\Aamir Gulzar\\KSA_project2\\dataset\\Features\\Uni_2h_fivecrop\\TCGA-CL-4957_nonMSIH\\TCGA-CL-4957_nonMSIH_x4176_y20032_patch00131.pt cannot be opened.\n",
      "ERROR:__main__:Error saving D:\\Aamir Gulzar\\KSA_project2\\dataset\\patch_data\\TCGA-CL-4957_nonMSIH\\TCGA-CL-4957_nonMSIH_x4176_y20544_patch00132.png: File D:\\Aamir Gulzar\\KSA_project2\\dataset\\Features\\Uni_2h_fivecrop\\TCGA-CL-4957_nonMSIH\\TCGA-CL-4957_nonMSIH_x4176_y20544_patch00132.pt cannot be opened.\n",
      "ERROR:__main__:Error saving D:\\Aamir Gulzar\\KSA_project2\\dataset\\patch_data\\TCGA-CL-4957_nonMSIH\\TCGA-CL-4957_nonMSIH_x4176_y21056_patch00133.png: File D:\\Aamir Gulzar\\KSA_project2\\dataset\\Features\\Uni_2h_fivecrop\\TCGA-CL-4957_nonMSIH\\TCGA-CL-4957_nonMSIH_x4176_y21056_patch00133.pt cannot be opened.\n",
      "ERROR:__main__:Error saving D:\\Aamir Gulzar\\KSA_project2\\dataset\\patch_data\\TCGA-CL-4957_nonMSIH\\TCGA-CL-4957_nonMSIH_x4176_y21568_patch00134.png: File D:\\Aamir Gulzar\\KSA_project2\\dataset\\Features\\Uni_2h_fivecrop\\TCGA-CL-4957_nonMSIH\\TCGA-CL-4957_nonMSIH_x4176_y21568_patch00134.pt cannot be opened.\n",
      "ERROR:__main__:Error saving D:\\Aamir Gulzar\\KSA_project2\\dataset\\patch_data\\TCGA-CL-4957_nonMSIH\\TCGA-CL-4957_nonMSIH_x4176_y22080_patch00135.png: File D:\\Aamir Gulzar\\KSA_project2\\dataset\\Features\\Uni_2h_fivecrop\\TCGA-CL-4957_nonMSIH\\TCGA-CL-4957_nonMSIH_x4176_y22080_patch00135.pt cannot be opened.\n",
      "ERROR:__main__:Error saving D:\\Aamir Gulzar\\KSA_project2\\dataset\\patch_data\\TCGA-CL-4957_nonMSIH\\TCGA-CL-4957_nonMSIH_x4176_y22592_patch00136.png: File D:\\Aamir Gulzar\\KSA_project2\\dataset\\Features\\Uni_2h_fivecrop\\TCGA-CL-4957_nonMSIH\\TCGA-CL-4957_nonMSIH_x4176_y22592_patch00136.pt cannot be opened.\n",
      "ERROR:__main__:Error saving D:\\Aamir Gulzar\\KSA_project2\\dataset\\patch_data\\TCGA-CL-4957_nonMSIH\\TCGA-CL-4957_nonMSIH_x4176_y23104_patch00137.png: File D:\\Aamir Gulzar\\KSA_project2\\dataset\\Features\\Uni_2h_fivecrop\\TCGA-CL-4957_nonMSIH\\TCGA-CL-4957_nonMSIH_x4176_y23104_patch00137.pt cannot be opened.\n",
      "ERROR:__main__:Error saving D:\\Aamir Gulzar\\KSA_project2\\dataset\\patch_data\\TCGA-CL-4957_nonMSIH\\TCGA-CL-4957_nonMSIH_x4176_y23616_patch00138.png: File D:\\Aamir Gulzar\\KSA_project2\\dataset\\Features\\Uni_2h_fivecrop\\TCGA-CL-4957_nonMSIH\\TCGA-CL-4957_nonMSIH_x4176_y23616_patch00138.pt cannot be opened.\n",
      "ERROR:__main__:Error saving D:\\Aamir Gulzar\\KSA_project2\\dataset\\patch_data\\TCGA-CL-4957_nonMSIH\\TCGA-CL-4957_nonMSIH_x4176_y24128_patch00139.png: File D:\\Aamir Gulzar\\KSA_project2\\dataset\\Features\\Uni_2h_fivecrop\\TCGA-CL-4957_nonMSIH\\TCGA-CL-4957_nonMSIH_x4176_y24128_patch00139.pt cannot be opened.\n",
      "ERROR:__main__:Error saving D:\\Aamir Gulzar\\KSA_project2\\dataset\\patch_data\\TCGA-CL-4957_nonMSIH\\TCGA-CL-4957_nonMSIH_x4176_y24640_patch00140.png: File D:\\Aamir Gulzar\\KSA_project2\\dataset\\Features\\Uni_2h_fivecrop\\TCGA-CL-4957_nonMSIH\\TCGA-CL-4957_nonMSIH_x4176_y24640_patch00140.pt cannot be opened.\n",
      "ERROR:__main__:Error saving D:\\Aamir Gulzar\\KSA_project2\\dataset\\patch_data\\TCGA-CL-4957_nonMSIH\\TCGA-CL-4957_nonMSIH_x4176_y25152_patch00141.png: File D:\\Aamir Gulzar\\KSA_project2\\dataset\\Features\\Uni_2h_fivecrop\\TCGA-CL-4957_nonMSIH\\TCGA-CL-4957_nonMSIH_x4176_y25152_patch00141.pt cannot be opened.\n",
      "ERROR:__main__:Error saving D:\\Aamir Gulzar\\KSA_project2\\dataset\\patch_data\\TCGA-CL-4957_nonMSIH\\TCGA-CL-4957_nonMSIH_x4176_y25664_patch00142.png: File D:\\Aamir Gulzar\\KSA_project2\\dataset\\Features\\Uni_2h_fivecrop\\TCGA-CL-4957_nonMSIH\\TCGA-CL-4957_nonMSIH_x4176_y25664_patch00142.pt cannot be opened.\n",
      "ERROR:__main__:Error saving D:\\Aamir Gulzar\\KSA_project2\\dataset\\patch_data\\TCGA-CL-4957_nonMSIH\\TCGA-CL-4957_nonMSIH_x42064_y10816_patch02614.png: File D:\\Aamir Gulzar\\KSA_project2\\dataset\\Features\\Uni_2h_fivecrop\\TCGA-CL-4957_nonMSIH\\TCGA-CL-4957_nonMSIH_x42064_y10816_patch02614.pt cannot be opened.\n",
      "ERROR:__main__:Error saving D:\\Aamir Gulzar\\KSA_project2\\dataset\\patch_data\\TCGA-CL-4957_nonMSIH\\TCGA-CL-4957_nonMSIH_x42064_y10304_patch02613.png: File D:\\Aamir Gulzar\\KSA_project2\\dataset\\Features\\Uni_2h_fivecrop\\TCGA-CL-4957_nonMSIH\\TCGA-CL-4957_nonMSIH_x42064_y10304_patch02613.pt cannot be opened.\n",
      "ERROR:__main__:Error saving D:\\Aamir Gulzar\\KSA_project2\\dataset\\patch_data\\TCGA-CL-4957_nonMSIH\\TCGA-CL-4957_nonMSIH_x42064_y11328_patch02615.png: File D:\\Aamir Gulzar\\KSA_project2\\dataset\\Features\\Uni_2h_fivecrop\\TCGA-CL-4957_nonMSIH\\TCGA-CL-4957_nonMSIH_x42064_y11328_patch02615.pt cannot be opened.\n",
      "ERROR:__main__:Error saving D:\\Aamir Gulzar\\KSA_project2\\dataset\\patch_data\\TCGA-CL-4957_nonMSIH\\TCGA-CL-4957_nonMSIH_x42064_y11840_patch02616.png: File D:\\Aamir Gulzar\\KSA_project2\\dataset\\Features\\Uni_2h_fivecrop\\TCGA-CL-4957_nonMSIH\\TCGA-CL-4957_nonMSIH_x42064_y11840_patch02616.pt cannot be opened.\n",
      "ERROR:__main__:Error saving D:\\Aamir Gulzar\\KSA_project2\\dataset\\patch_data\\TCGA-CL-4957_nonMSIH\\TCGA-CL-4957_nonMSIH_x42064_y12352_patch02617.png: File D:\\Aamir Gulzar\\KSA_project2\\dataset\\Features\\Uni_2h_fivecrop\\TCGA-CL-4957_nonMSIH\\TCGA-CL-4957_nonMSIH_x42064_y12352_patch02617.pt cannot be opened.\n",
      "ERROR:__main__:Error saving D:\\Aamir Gulzar\\KSA_project2\\dataset\\patch_data\\TCGA-CL-4957_nonMSIH\\TCGA-CL-4957_nonMSIH_x42064_y12864_patch02618.png: File D:\\Aamir Gulzar\\KSA_project2\\dataset\\Features\\Uni_2h_fivecrop\\TCGA-CL-4957_nonMSIH\\TCGA-CL-4957_nonMSIH_x42064_y12864_patch02618.pt cannot be opened.\n",
      "ERROR:__main__:Error saving D:\\Aamir Gulzar\\KSA_project2\\dataset\\patch_data\\TCGA-CL-4957_nonMSIH\\TCGA-CL-4957_nonMSIH_x42064_y13376_patch02619.png: File D:\\Aamir Gulzar\\KSA_project2\\dataset\\Features\\Uni_2h_fivecrop\\TCGA-CL-4957_nonMSIH\\TCGA-CL-4957_nonMSIH_x42064_y13376_patch02619.pt cannot be opened.\n",
      "ERROR:__main__:Error saving D:\\Aamir Gulzar\\KSA_project2\\dataset\\patch_data\\TCGA-CL-4957_nonMSIH\\TCGA-CL-4957_nonMSIH_x42064_y13888_patch02620.png: File D:\\Aamir Gulzar\\KSA_project2\\dataset\\Features\\Uni_2h_fivecrop\\TCGA-CL-4957_nonMSIH\\TCGA-CL-4957_nonMSIH_x42064_y13888_patch02620.pt cannot be opened.\n",
      "ERROR:__main__:Error saving D:\\Aamir Gulzar\\KSA_project2\\dataset\\patch_data\\TCGA-CL-4957_nonMSIH\\TCGA-CL-4957_nonMSIH_x42064_y14400_patch02621.png: File D:\\Aamir Gulzar\\KSA_project2\\dataset\\Features\\Uni_2h_fivecrop\\TCGA-CL-4957_nonMSIH\\TCGA-CL-4957_nonMSIH_x42064_y14400_patch02621.pt cannot be opened.\n",
      "ERROR:__main__:Error saving D:\\Aamir Gulzar\\KSA_project2\\dataset\\patch_data\\TCGA-CL-4957_nonMSIH\\TCGA-CL-4957_nonMSIH_x42064_y14912_patch02622.png: File D:\\Aamir Gulzar\\KSA_project2\\dataset\\Features\\Uni_2h_fivecrop\\TCGA-CL-4957_nonMSIH\\TCGA-CL-4957_nonMSIH_x42064_y14912_patch02622.pt cannot be opened.\n",
      "ERROR:__main__:Error saving D:\\Aamir Gulzar\\KSA_project2\\dataset\\patch_data\\TCGA-CL-4957_nonMSIH\\TCGA-CL-4957_nonMSIH_x42064_y15424_patch02623.png: File D:\\Aamir Gulzar\\KSA_project2\\dataset\\Features\\Uni_2h_fivecrop\\TCGA-CL-4957_nonMSIH\\TCGA-CL-4957_nonMSIH_x42064_y15424_patch02623.pt cannot be opened.\n",
      "ERROR:__main__:Error saving D:\\Aamir Gulzar\\KSA_project2\\dataset\\patch_data\\TCGA-CL-4957_nonMSIH\\TCGA-CL-4957_nonMSIH_x42064_y15936_patch02624.png: File D:\\Aamir Gulzar\\KSA_project2\\dataset\\Features\\Uni_2h_fivecrop\\TCGA-CL-4957_nonMSIH\\TCGA-CL-4957_nonMSIH_x42064_y15936_patch02624.pt cannot be opened.\n",
      "ERROR:__main__:Error saving D:\\Aamir Gulzar\\KSA_project2\\dataset\\patch_data\\TCGA-CL-4957_nonMSIH\\TCGA-CL-4957_nonMSIH_x42064_y16448_patch02625.png: File D:\\Aamir Gulzar\\KSA_project2\\dataset\\Features\\Uni_2h_fivecrop\\TCGA-CL-4957_nonMSIH\\TCGA-CL-4957_nonMSIH_x42064_y16448_patch02625.pt cannot be opened.\n",
      "ERROR:__main__:Error saving D:\\Aamir Gulzar\\KSA_project2\\dataset\\patch_data\\TCGA-CL-4957_nonMSIH\\TCGA-CL-4957_nonMSIH_x42064_y16960_patch02626.png: File D:\\Aamir Gulzar\\KSA_project2\\dataset\\Features\\Uni_2h_fivecrop\\TCGA-CL-4957_nonMSIH\\TCGA-CL-4957_nonMSIH_x42064_y16960_patch02626.pt cannot be opened.\n",
      "ERROR:__main__:Error saving D:\\Aamir Gulzar\\KSA_project2\\dataset\\patch_data\\TCGA-CL-4957_nonMSIH\\TCGA-CL-4957_nonMSIH_x42064_y17472_patch02627.png: File D:\\Aamir Gulzar\\KSA_project2\\dataset\\Features\\Uni_2h_fivecrop\\TCGA-CL-4957_nonMSIH\\TCGA-CL-4957_nonMSIH_x42064_y17472_patch02627.pt cannot be opened.\n",
      "ERROR:__main__:Error saving D:\\Aamir Gulzar\\KSA_project2\\dataset\\patch_data\\TCGA-CL-4957_nonMSIH\\TCGA-CL-4957_nonMSIH_x42064_y17984_patch02628.png: File D:\\Aamir Gulzar\\KSA_project2\\dataset\\Features\\Uni_2h_fivecrop\\TCGA-CL-4957_nonMSIH\\TCGA-CL-4957_nonMSIH_x42064_y17984_patch02628.pt cannot be opened.\n",
      "ERROR:__main__:Error saving D:\\Aamir Gulzar\\KSA_project2\\dataset\\patch_data\\TCGA-CL-4957_nonMSIH\\TCGA-CL-4957_nonMSIH_x42064_y18496_patch02629.png: File D:\\Aamir Gulzar\\KSA_project2\\dataset\\Features\\Uni_2h_fivecrop\\TCGA-CL-4957_nonMSIH\\TCGA-CL-4957_nonMSIH_x42064_y18496_patch02629.pt cannot be opened.\n",
      "ERROR:__main__:Error saving D:\\Aamir Gulzar\\KSA_project2\\dataset\\patch_data\\TCGA-CL-4957_nonMSIH\\TCGA-CL-4957_nonMSIH_x42064_y19008_patch02630.png: File D:\\Aamir Gulzar\\KSA_project2\\dataset\\Features\\Uni_2h_fivecrop\\TCGA-CL-4957_nonMSIH\\TCGA-CL-4957_nonMSIH_x42064_y19008_patch02630.pt cannot be opened.\n",
      "ERROR:__main__:Error saving D:\\Aamir Gulzar\\KSA_project2\\dataset\\patch_data\\TCGA-CL-4957_nonMSIH\\TCGA-CL-4957_nonMSIH_x42064_y20032_patch02632.png: File D:\\Aamir Gulzar\\KSA_project2\\dataset\\Features\\Uni_2h_fivecrop\\TCGA-CL-4957_nonMSIH\\TCGA-CL-4957_nonMSIH_x42064_y20032_patch02632.pt cannot be opened.\n",
      "ERROR:__main__:Error saving D:\\Aamir Gulzar\\KSA_project2\\dataset\\patch_data\\TCGA-CL-4957_nonMSIH\\TCGA-CL-4957_nonMSIH_x42064_y21056_patch02634.png: File D:\\Aamir Gulzar\\KSA_project2\\dataset\\Features\\Uni_2h_fivecrop\\TCGA-CL-4957_nonMSIH\\TCGA-CL-4957_nonMSIH_x42064_y21056_patch02634.pt cannot be opened.\n",
      "ERROR:__main__:Error saving D:\\Aamir Gulzar\\KSA_project2\\dataset\\patch_data\\TCGA-CL-4957_nonMSIH\\TCGA-CL-4957_nonMSIH_x42064_y20544_patch02633.png: File D:\\Aamir Gulzar\\KSA_project2\\dataset\\Features\\Uni_2h_fivecrop\\TCGA-CL-4957_nonMSIH\\TCGA-CL-4957_nonMSIH_x42064_y20544_patch02633.pt cannot be opened.\n",
      "ERROR:__main__:Error saving D:\\Aamir Gulzar\\KSA_project2\\dataset\\patch_data\\TCGA-CL-4957_nonMSIH\\TCGA-CL-4957_nonMSIH_x42064_y19520_patch02631.png: File D:\\Aamir Gulzar\\KSA_project2\\dataset\\Features\\Uni_2h_fivecrop\\TCGA-CL-4957_nonMSIH\\TCGA-CL-4957_nonMSIH_x42064_y19520_patch02631.pt cannot be opened.\n",
      "ERROR:__main__:Error saving D:\\Aamir Gulzar\\KSA_project2\\dataset\\patch_data\\TCGA-CL-4957_nonMSIH\\TCGA-CL-4957_nonMSIH_x42064_y21568_patch02635.png: File D:\\Aamir Gulzar\\KSA_project2\\dataset\\Features\\Uni_2h_fivecrop\\TCGA-CL-4957_nonMSIH\\TCGA-CL-4957_nonMSIH_x42064_y21568_patch02635.pt cannot be opened.\n",
      "ERROR:__main__:Error saving D:\\Aamir Gulzar\\KSA_project2\\dataset\\patch_data\\TCGA-CL-4957_nonMSIH\\TCGA-CL-4957_nonMSIH_x42064_y22080_patch02636.png: File D:\\Aamir Gulzar\\KSA_project2\\dataset\\Features\\Uni_2h_fivecrop\\TCGA-CL-4957_nonMSIH\\TCGA-CL-4957_nonMSIH_x42064_y22080_patch02636.pt cannot be opened.\n",
      "ERROR:__main__:Error saving D:\\Aamir Gulzar\\KSA_project2\\dataset\\patch_data\\TCGA-CL-4957_nonMSIH\\TCGA-CL-4957_nonMSIH_x42064_y22592_patch02637.png: File D:\\Aamir Gulzar\\KSA_project2\\dataset\\Features\\Uni_2h_fivecrop\\TCGA-CL-4957_nonMSIH\\TCGA-CL-4957_nonMSIH_x42064_y22592_patch02637.pt cannot be opened.\n",
      "ERROR:__main__:Error saving D:\\Aamir Gulzar\\KSA_project2\\dataset\\patch_data\\TCGA-CL-4957_nonMSIH\\TCGA-CL-4957_nonMSIH_x42064_y23104_patch02638.png: File D:\\Aamir Gulzar\\KSA_project2\\dataset\\Features\\Uni_2h_fivecrop\\TCGA-CL-4957_nonMSIH\\TCGA-CL-4957_nonMSIH_x42064_y23104_patch02638.pt cannot be opened.\n",
      "ERROR:__main__:Error saving D:\\Aamir Gulzar\\KSA_project2\\dataset\\patch_data\\TCGA-CL-4957_nonMSIH\\TCGA-CL-4957_nonMSIH_x42064_y23616_patch02639.png: File D:\\Aamir Gulzar\\KSA_project2\\dataset\\Features\\Uni_2h_fivecrop\\TCGA-CL-4957_nonMSIH\\TCGA-CL-4957_nonMSIH_x42064_y23616_patch02639.pt cannot be opened.\n",
      "ERROR:__main__:Error saving D:\\Aamir Gulzar\\KSA_project2\\dataset\\patch_data\\TCGA-CL-4957_nonMSIH\\TCGA-CL-4957_nonMSIH_x42064_y24128_patch02640.png: File D:\\Aamir Gulzar\\KSA_project2\\dataset\\Features\\Uni_2h_fivecrop\\TCGA-CL-4957_nonMSIH\\TCGA-CL-4957_nonMSIH_x42064_y24128_patch02640.pt cannot be opened.\n",
      "ERROR:__main__:Error saving D:\\Aamir Gulzar\\KSA_project2\\dataset\\patch_data\\TCGA-CL-4957_nonMSIH\\TCGA-CL-4957_nonMSIH_x42064_y24640_patch02641.png: File D:\\Aamir Gulzar\\KSA_project2\\dataset\\Features\\Uni_2h_fivecrop\\TCGA-CL-4957_nonMSIH\\TCGA-CL-4957_nonMSIH_x42064_y24640_patch02641.pt cannot be opened.\n",
      "ERROR:__main__:Error saving D:\\Aamir Gulzar\\KSA_project2\\dataset\\patch_data\\TCGA-CL-4957_nonMSIH\\TCGA-CL-4957_nonMSIH_x42064_y7744_patch02608.png: File D:\\Aamir Gulzar\\KSA_project2\\dataset\\Features\\Uni_2h_fivecrop\\TCGA-CL-4957_nonMSIH\\TCGA-CL-4957_nonMSIH_x42064_y7744_patch02608.pt cannot be opened.\n",
      "ERROR:__main__:Error saving D:\\Aamir Gulzar\\KSA_project2\\dataset\\patch_data\\TCGA-CL-4957_nonMSIH\\TCGA-CL-4957_nonMSIH_x42064_y8256_patch02609.png: File D:\\Aamir Gulzar\\KSA_project2\\dataset\\Features\\Uni_2h_fivecrop\\TCGA-CL-4957_nonMSIH\\TCGA-CL-4957_nonMSIH_x42064_y8256_patch02609.pt cannot be opened.\n",
      "ERROR:__main__:Error saving D:\\Aamir Gulzar\\KSA_project2\\dataset\\patch_data\\TCGA-CL-4957_nonMSIH\\TCGA-CL-4957_nonMSIH_x42064_y8768_patch02610.png: File D:\\Aamir Gulzar\\KSA_project2\\dataset\\Features\\Uni_2h_fivecrop\\TCGA-CL-4957_nonMSIH\\TCGA-CL-4957_nonMSIH_x42064_y8768_patch02610.pt cannot be opened.\n",
      "ERROR:__main__:Error saving D:\\Aamir Gulzar\\KSA_project2\\dataset\\patch_data\\TCGA-CL-4957_nonMSIH\\TCGA-CL-4957_nonMSIH_x42064_y9280_patch02611.png: File D:\\Aamir Gulzar\\KSA_project2\\dataset\\Features\\Uni_2h_fivecrop\\TCGA-CL-4957_nonMSIH\\TCGA-CL-4957_nonMSIH_x42064_y9280_patch02611.pt cannot be opened.\n",
      "ERROR:__main__:Error saving D:\\Aamir Gulzar\\KSA_project2\\dataset\\patch_data\\TCGA-CL-4957_nonMSIH\\TCGA-CL-4957_nonMSIH_x42064_y9792_patch02612.png: File D:\\Aamir Gulzar\\KSA_project2\\dataset\\Features\\Uni_2h_fivecrop\\TCGA-CL-4957_nonMSIH\\TCGA-CL-4957_nonMSIH_x42064_y9792_patch02612.pt cannot be opened.\n",
      "ERROR:__main__:Error saving D:\\Aamir Gulzar\\KSA_project2\\dataset\\patch_data\\TCGA-CL-4957_nonMSIH\\TCGA-CL-4957_nonMSIH_x42576_y10304_patch02647.png: File D:\\Aamir Gulzar\\KSA_project2\\dataset\\Features\\Uni_2h_fivecrop\\TCGA-CL-4957_nonMSIH\\TCGA-CL-4957_nonMSIH_x42576_y10304_patch02647.pt cannot be opened.\n",
      "ERROR:__main__:Error saving D:\\Aamir Gulzar\\KSA_project2\\dataset\\patch_data\\TCGA-CL-4957_nonMSIH\\TCGA-CL-4957_nonMSIH_x42576_y10816_patch02648.png: File D:\\Aamir Gulzar\\KSA_project2\\dataset\\Features\\Uni_2h_fivecrop\\TCGA-CL-4957_nonMSIH\\TCGA-CL-4957_nonMSIH_x42576_y10816_patch02648.pt cannot be opened.\n",
      "ERROR:__main__:Error saving D:\\Aamir Gulzar\\KSA_project2\\dataset\\patch_data\\TCGA-CL-4957_nonMSIH\\TCGA-CL-4957_nonMSIH_x42576_y11328_patch02649.png: File D:\\Aamir Gulzar\\KSA_project2\\dataset\\Features\\Uni_2h_fivecrop\\TCGA-CL-4957_nonMSIH\\TCGA-CL-4957_nonMSIH_x42576_y11328_patch02649.pt cannot be opened.\n",
      "ERROR:__main__:Error saving D:\\Aamir Gulzar\\KSA_project2\\dataset\\patch_data\\TCGA-CL-4957_nonMSIH\\TCGA-CL-4957_nonMSIH_x42576_y11840_patch02650.png: File D:\\Aamir Gulzar\\KSA_project2\\dataset\\Features\\Uni_2h_fivecrop\\TCGA-CL-4957_nonMSIH\\TCGA-CL-4957_nonMSIH_x42576_y11840_patch02650.pt cannot be opened.\n",
      "ERROR:__main__:Error saving D:\\Aamir Gulzar\\KSA_project2\\dataset\\patch_data\\TCGA-CL-4957_nonMSIH\\TCGA-CL-4957_nonMSIH_x42576_y12352_patch02651.png: File D:\\Aamir Gulzar\\KSA_project2\\dataset\\Features\\Uni_2h_fivecrop\\TCGA-CL-4957_nonMSIH\\TCGA-CL-4957_nonMSIH_x42576_y12352_patch02651.pt cannot be opened.\n",
      "ERROR:__main__:Error saving D:\\Aamir Gulzar\\KSA_project2\\dataset\\patch_data\\TCGA-CL-4957_nonMSIH\\TCGA-CL-4957_nonMSIH_x42576_y12864_patch02652.png: File D:\\Aamir Gulzar\\KSA_project2\\dataset\\Features\\Uni_2h_fivecrop\\TCGA-CL-4957_nonMSIH\\TCGA-CL-4957_nonMSIH_x42576_y12864_patch02652.pt cannot be opened.\n",
      "ERROR:__main__:Error saving D:\\Aamir Gulzar\\KSA_project2\\dataset\\patch_data\\TCGA-CL-4957_nonMSIH\\TCGA-CL-4957_nonMSIH_x42576_y13376_patch02653.png: File D:\\Aamir Gulzar\\KSA_project2\\dataset\\Features\\Uni_2h_fivecrop\\TCGA-CL-4957_nonMSIH\\TCGA-CL-4957_nonMSIH_x42576_y13376_patch02653.pt cannot be opened.\n",
      "ERROR:__main__:Error saving D:\\Aamir Gulzar\\KSA_project2\\dataset\\patch_data\\TCGA-CL-4957_nonMSIH\\TCGA-CL-4957_nonMSIH_x42576_y13888_patch02654.png: File D:\\Aamir Gulzar\\KSA_project2\\dataset\\Features\\Uni_2h_fivecrop\\TCGA-CL-4957_nonMSIH\\TCGA-CL-4957_nonMSIH_x42576_y13888_patch02654.pt cannot be opened.\n",
      "ERROR:__main__:Error saving D:\\Aamir Gulzar\\KSA_project2\\dataset\\patch_data\\TCGA-CL-4957_nonMSIH\\TCGA-CL-4957_nonMSIH_x42576_y14400_patch02655.png: File D:\\Aamir Gulzar\\KSA_project2\\dataset\\Features\\Uni_2h_fivecrop\\TCGA-CL-4957_nonMSIH\\TCGA-CL-4957_nonMSIH_x42576_y14400_patch02655.pt cannot be opened.\n",
      "ERROR:__main__:Error saving D:\\Aamir Gulzar\\KSA_project2\\dataset\\patch_data\\TCGA-CL-4957_nonMSIH\\TCGA-CL-4957_nonMSIH_x42576_y14912_patch02656.png: File D:\\Aamir Gulzar\\KSA_project2\\dataset\\Features\\Uni_2h_fivecrop\\TCGA-CL-4957_nonMSIH\\TCGA-CL-4957_nonMSIH_x42576_y14912_patch02656.pt cannot be opened.\n",
      "ERROR:__main__:Error saving D:\\Aamir Gulzar\\KSA_project2\\dataset\\patch_data\\TCGA-CL-4957_nonMSIH\\TCGA-CL-4957_nonMSIH_x42576_y15424_patch02657.png: File D:\\Aamir Gulzar\\KSA_project2\\dataset\\Features\\Uni_2h_fivecrop\\TCGA-CL-4957_nonMSIH\\TCGA-CL-4957_nonMSIH_x42576_y15424_patch02657.pt cannot be opened.\n",
      "ERROR:__main__:Error saving D:\\Aamir Gulzar\\KSA_project2\\dataset\\patch_data\\TCGA-CL-4957_nonMSIH\\TCGA-CL-4957_nonMSIH_x42576_y15936_patch02658.png: File D:\\Aamir Gulzar\\KSA_project2\\dataset\\Features\\Uni_2h_fivecrop\\TCGA-CL-4957_nonMSIH\\TCGA-CL-4957_nonMSIH_x42576_y15936_patch02658.pt cannot be opened.\n",
      "ERROR:__main__:Error saving D:\\Aamir Gulzar\\KSA_project2\\dataset\\patch_data\\TCGA-CL-4957_nonMSIH\\TCGA-CL-4957_nonMSIH_x42576_y16448_patch02659.png: File D:\\Aamir Gulzar\\KSA_project2\\dataset\\Features\\Uni_2h_fivecrop\\TCGA-CL-4957_nonMSIH\\TCGA-CL-4957_nonMSIH_x42576_y16448_patch02659.pt cannot be opened.\n",
      "ERROR:__main__:Error saving D:\\Aamir Gulzar\\KSA_project2\\dataset\\patch_data\\TCGA-CL-4957_nonMSIH\\TCGA-CL-4957_nonMSIH_x42576_y16960_patch02660.png: File D:\\Aamir Gulzar\\KSA_project2\\dataset\\Features\\Uni_2h_fivecrop\\TCGA-CL-4957_nonMSIH\\TCGA-CL-4957_nonMSIH_x42576_y16960_patch02660.pt cannot be opened.\n",
      "ERROR:__main__:Error saving D:\\Aamir Gulzar\\KSA_project2\\dataset\\patch_data\\TCGA-CL-4957_nonMSIH\\TCGA-CL-4957_nonMSIH_x42576_y17472_patch02661.png: File D:\\Aamir Gulzar\\KSA_project2\\dataset\\Features\\Uni_2h_fivecrop\\TCGA-CL-4957_nonMSIH\\TCGA-CL-4957_nonMSIH_x42576_y17472_patch02661.pt cannot be opened.\n",
      "ERROR:__main__:Error saving D:\\Aamir Gulzar\\KSA_project2\\dataset\\patch_data\\TCGA-CL-4957_nonMSIH\\TCGA-CL-4957_nonMSIH_x42576_y17984_patch02662.png: File D:\\Aamir Gulzar\\KSA_project2\\dataset\\Features\\Uni_2h_fivecrop\\TCGA-CL-4957_nonMSIH\\TCGA-CL-4957_nonMSIH_x42576_y17984_patch02662.pt cannot be opened.\n",
      "ERROR:__main__:Error saving D:\\Aamir Gulzar\\KSA_project2\\dataset\\patch_data\\TCGA-CL-4957_nonMSIH\\TCGA-CL-4957_nonMSIH_x42576_y18496_patch02663.png: File D:\\Aamir Gulzar\\KSA_project2\\dataset\\Features\\Uni_2h_fivecrop\\TCGA-CL-4957_nonMSIH\\TCGA-CL-4957_nonMSIH_x42576_y18496_patch02663.pt cannot be opened.\n",
      "ERROR:__main__:Error saving D:\\Aamir Gulzar\\KSA_project2\\dataset\\patch_data\\TCGA-CL-4957_nonMSIH\\TCGA-CL-4957_nonMSIH_x42576_y19008_patch02664.png: File D:\\Aamir Gulzar\\KSA_project2\\dataset\\Features\\Uni_2h_fivecrop\\TCGA-CL-4957_nonMSIH\\TCGA-CL-4957_nonMSIH_x42576_y19008_patch02664.pt cannot be opened.\n",
      "ERROR:__main__:Error saving D:\\Aamir Gulzar\\KSA_project2\\dataset\\patch_data\\TCGA-CL-4957_nonMSIH\\TCGA-CL-4957_nonMSIH_x42576_y19520_patch02665.png: File D:\\Aamir Gulzar\\KSA_project2\\dataset\\Features\\Uni_2h_fivecrop\\TCGA-CL-4957_nonMSIH\\TCGA-CL-4957_nonMSIH_x42576_y19520_patch02665.pt cannot be opened.\n",
      "ERROR:__main__:Error saving D:\\Aamir Gulzar\\KSA_project2\\dataset\\patch_data\\TCGA-CL-4957_nonMSIH\\TCGA-CL-4957_nonMSIH_x42576_y20032_patch02666.png: File D:\\Aamir Gulzar\\KSA_project2\\dataset\\Features\\Uni_2h_fivecrop\\TCGA-CL-4957_nonMSIH\\TCGA-CL-4957_nonMSIH_x42576_y20032_patch02666.pt cannot be opened.\n",
      "ERROR:__main__:Error saving D:\\Aamir Gulzar\\KSA_project2\\dataset\\patch_data\\TCGA-CL-4957_nonMSIH\\TCGA-CL-4957_nonMSIH_x42576_y20544_patch02667.png: File D:\\Aamir Gulzar\\KSA_project2\\dataset\\Features\\Uni_2h_fivecrop\\TCGA-CL-4957_nonMSIH\\TCGA-CL-4957_nonMSIH_x42576_y20544_patch02667.pt cannot be opened.\n",
      "ERROR:__main__:Error saving D:\\Aamir Gulzar\\KSA_project2\\dataset\\patch_data\\TCGA-CL-4957_nonMSIH\\TCGA-CL-4957_nonMSIH_x42576_y21568_patch02669.png: File D:\\Aamir Gulzar\\KSA_project2\\dataset\\Features\\Uni_2h_fivecrop\\TCGA-CL-4957_nonMSIH\\TCGA-CL-4957_nonMSIH_x42576_y21568_patch02669.pt cannot be opened.\n",
      "ERROR:__main__:Error saving D:\\Aamir Gulzar\\KSA_project2\\dataset\\patch_data\\TCGA-CL-4957_nonMSIH\\TCGA-CL-4957_nonMSIH_x42576_y21056_patch02668.png: File D:\\Aamir Gulzar\\KSA_project2\\dataset\\Features\\Uni_2h_fivecrop\\TCGA-CL-4957_nonMSIH\\TCGA-CL-4957_nonMSIH_x42576_y21056_patch02668.pt cannot be opened.\n",
      "ERROR:__main__:Error saving D:\\Aamir Gulzar\\KSA_project2\\dataset\\patch_data\\TCGA-CL-4957_nonMSIH\\TCGA-CL-4957_nonMSIH_x42576_y22080_patch02670.png: File D:\\Aamir Gulzar\\KSA_project2\\dataset\\Features\\Uni_2h_fivecrop\\TCGA-CL-4957_nonMSIH\\TCGA-CL-4957_nonMSIH_x42576_y22080_patch02670.pt cannot be opened.\n",
      "ERROR:__main__:Error saving D:\\Aamir Gulzar\\KSA_project2\\dataset\\patch_data\\TCGA-CL-4957_nonMSIH\\TCGA-CL-4957_nonMSIH_x42576_y22592_patch02671.png: File D:\\Aamir Gulzar\\KSA_project2\\dataset\\Features\\Uni_2h_fivecrop\\TCGA-CL-4957_nonMSIH\\TCGA-CL-4957_nonMSIH_x42576_y22592_patch02671.pt cannot be opened.\n",
      "ERROR:__main__:Error saving D:\\Aamir Gulzar\\KSA_project2\\dataset\\patch_data\\TCGA-CL-4957_nonMSIH\\TCGA-CL-4957_nonMSIH_x42576_y23104_patch02672.png: File D:\\Aamir Gulzar\\KSA_project2\\dataset\\Features\\Uni_2h_fivecrop\\TCGA-CL-4957_nonMSIH\\TCGA-CL-4957_nonMSIH_x42576_y23104_patch02672.pt cannot be opened.\n",
      "ERROR:__main__:Error saving D:\\Aamir Gulzar\\KSA_project2\\dataset\\patch_data\\TCGA-CL-4957_nonMSIH\\TCGA-CL-4957_nonMSIH_x42576_y23616_patch02673.png: File D:\\Aamir Gulzar\\KSA_project2\\dataset\\Features\\Uni_2h_fivecrop\\TCGA-CL-4957_nonMSIH\\TCGA-CL-4957_nonMSIH_x42576_y23616_patch02673.pt cannot be opened.\n",
      "ERROR:__main__:Error saving D:\\Aamir Gulzar\\KSA_project2\\dataset\\patch_data\\TCGA-CL-4957_nonMSIH\\TCGA-CL-4957_nonMSIH_x42576_y24128_patch02674.png: File D:\\Aamir Gulzar\\KSA_project2\\dataset\\Features\\Uni_2h_fivecrop\\TCGA-CL-4957_nonMSIH\\TCGA-CL-4957_nonMSIH_x42576_y24128_patch02674.pt cannot be opened.\n",
      "ERROR:__main__:Error saving D:\\Aamir Gulzar\\KSA_project2\\dataset\\patch_data\\TCGA-CL-4957_nonMSIH\\TCGA-CL-4957_nonMSIH_x42576_y24640_patch02675.png: File D:\\Aamir Gulzar\\KSA_project2\\dataset\\Features\\Uni_2h_fivecrop\\TCGA-CL-4957_nonMSIH\\TCGA-CL-4957_nonMSIH_x42576_y24640_patch02675.pt cannot be opened.\n",
      "ERROR:__main__:Error saving D:\\Aamir Gulzar\\KSA_project2\\dataset\\patch_data\\TCGA-CL-4957_nonMSIH\\TCGA-CL-4957_nonMSIH_x42576_y7744_patch02642.png: File D:\\Aamir Gulzar\\KSA_project2\\dataset\\Features\\Uni_2h_fivecrop\\TCGA-CL-4957_nonMSIH\\TCGA-CL-4957_nonMSIH_x42576_y7744_patch02642.pt cannot be opened.\n",
      "ERROR:__main__:Error saving D:\\Aamir Gulzar\\KSA_project2\\dataset\\patch_data\\TCGA-CL-4957_nonMSIH\\TCGA-CL-4957_nonMSIH_x42576_y8256_patch02643.png: File D:\\Aamir Gulzar\\KSA_project2\\dataset\\Features\\Uni_2h_fivecrop\\TCGA-CL-4957_nonMSIH\\TCGA-CL-4957_nonMSIH_x42576_y8256_patch02643.pt cannot be opened.\n",
      "ERROR:__main__:Error saving D:\\Aamir Gulzar\\KSA_project2\\dataset\\patch_data\\TCGA-CL-4957_nonMSIH\\TCGA-CL-4957_nonMSIH_x42576_y8768_patch02644.png: File D:\\Aamir Gulzar\\KSA_project2\\dataset\\Features\\Uni_2h_fivecrop\\TCGA-CL-4957_nonMSIH\\TCGA-CL-4957_nonMSIH_x42576_y8768_patch02644.pt cannot be opened.\n",
      "ERROR:__main__:Error saving D:\\Aamir Gulzar\\KSA_project2\\dataset\\patch_data\\TCGA-CL-4957_nonMSIH\\TCGA-CL-4957_nonMSIH_x42576_y9280_patch02645.png: File D:\\Aamir Gulzar\\KSA_project2\\dataset\\Features\\Uni_2h_fivecrop\\TCGA-CL-4957_nonMSIH\\TCGA-CL-4957_nonMSIH_x42576_y9280_patch02645.pt cannot be opened.\n",
      "ERROR:__main__:Error saving D:\\Aamir Gulzar\\KSA_project2\\dataset\\patch_data\\TCGA-CL-4957_nonMSIH\\TCGA-CL-4957_nonMSIH_x42576_y9792_patch02646.png: File D:\\Aamir Gulzar\\KSA_project2\\dataset\\Features\\Uni_2h_fivecrop\\TCGA-CL-4957_nonMSIH\\TCGA-CL-4957_nonMSIH_x42576_y9792_patch02646.pt cannot be opened.\n",
      "ERROR:__main__:Error saving D:\\Aamir Gulzar\\KSA_project2\\dataset\\patch_data\\TCGA-CL-4957_nonMSIH\\TCGA-CL-4957_nonMSIH_x43088_y10304_patch02683.png: File D:\\Aamir Gulzar\\KSA_project2\\dataset\\Features\\Uni_2h_fivecrop\\TCGA-CL-4957_nonMSIH\\TCGA-CL-4957_nonMSIH_x43088_y10304_patch02683.pt cannot be opened.\n",
      "ERROR:__main__:Error saving D:\\Aamir Gulzar\\KSA_project2\\dataset\\patch_data\\TCGA-CL-4957_nonMSIH\\TCGA-CL-4957_nonMSIH_x43088_y10816_patch02684.png: File D:\\Aamir Gulzar\\KSA_project2\\dataset\\Features\\Uni_2h_fivecrop\\TCGA-CL-4957_nonMSIH\\TCGA-CL-4957_nonMSIH_x43088_y10816_patch02684.pt cannot be opened.\n",
      "ERROR:__main__:Error saving D:\\Aamir Gulzar\\KSA_project2\\dataset\\patch_data\\TCGA-CL-4957_nonMSIH\\TCGA-CL-4957_nonMSIH_x43088_y11328_patch02685.png: File D:\\Aamir Gulzar\\KSA_project2\\dataset\\Features\\Uni_2h_fivecrop\\TCGA-CL-4957_nonMSIH\\TCGA-CL-4957_nonMSIH_x43088_y11328_patch02685.pt cannot be opened.\n",
      "ERROR:__main__:Error saving D:\\Aamir Gulzar\\KSA_project2\\dataset\\patch_data\\TCGA-CL-4957_nonMSIH\\TCGA-CL-4957_nonMSIH_x43088_y11840_patch02686.png: File D:\\Aamir Gulzar\\KSA_project2\\dataset\\Features\\Uni_2h_fivecrop\\TCGA-CL-4957_nonMSIH\\TCGA-CL-4957_nonMSIH_x43088_y11840_patch02686.pt cannot be opened.\n",
      "ERROR:__main__:Error saving D:\\Aamir Gulzar\\KSA_project2\\dataset\\patch_data\\TCGA-CL-4957_nonMSIH\\TCGA-CL-4957_nonMSIH_x43088_y12352_patch02687.png: File D:\\Aamir Gulzar\\KSA_project2\\dataset\\Features\\Uni_2h_fivecrop\\TCGA-CL-4957_nonMSIH\\TCGA-CL-4957_nonMSIH_x43088_y12352_patch02687.pt cannot be opened.\n",
      "ERROR:__main__:Error saving D:\\Aamir Gulzar\\KSA_project2\\dataset\\patch_data\\TCGA-CL-4957_nonMSIH\\TCGA-CL-4957_nonMSIH_x43088_y12864_patch02688.png: File D:\\Aamir Gulzar\\KSA_project2\\dataset\\Features\\Uni_2h_fivecrop\\TCGA-CL-4957_nonMSIH\\TCGA-CL-4957_nonMSIH_x43088_y12864_patch02688.pt cannot be opened.\n",
      "ERROR:__main__:Error saving D:\\Aamir Gulzar\\KSA_project2\\dataset\\patch_data\\TCGA-CL-4957_nonMSIH\\TCGA-CL-4957_nonMSIH_x43088_y13376_patch02689.png: File D:\\Aamir Gulzar\\KSA_project2\\dataset\\Features\\Uni_2h_fivecrop\\TCGA-CL-4957_nonMSIH\\TCGA-CL-4957_nonMSIH_x43088_y13376_patch02689.pt cannot be opened.\n",
      "ERROR:__main__:Error saving D:\\Aamir Gulzar\\KSA_project2\\dataset\\patch_data\\TCGA-CL-4957_nonMSIH\\TCGA-CL-4957_nonMSIH_x43088_y13888_patch02690.png: File D:\\Aamir Gulzar\\KSA_project2\\dataset\\Features\\Uni_2h_fivecrop\\TCGA-CL-4957_nonMSIH\\TCGA-CL-4957_nonMSIH_x43088_y13888_patch02690.pt cannot be opened.\n",
      "ERROR:__main__:Error saving D:\\Aamir Gulzar\\KSA_project2\\dataset\\patch_data\\TCGA-CL-4957_nonMSIH\\TCGA-CL-4957_nonMSIH_x43088_y14400_patch02691.png: File D:\\Aamir Gulzar\\KSA_project2\\dataset\\Features\\Uni_2h_fivecrop\\TCGA-CL-4957_nonMSIH\\TCGA-CL-4957_nonMSIH_x43088_y14400_patch02691.pt cannot be opened.\n",
      "ERROR:__main__:Error saving D:\\Aamir Gulzar\\KSA_project2\\dataset\\patch_data\\TCGA-CL-4957_nonMSIH\\TCGA-CL-4957_nonMSIH_x43088_y14912_patch02692.png: File D:\\Aamir Gulzar\\KSA_project2\\dataset\\Features\\Uni_2h_fivecrop\\TCGA-CL-4957_nonMSIH\\TCGA-CL-4957_nonMSIH_x43088_y14912_patch02692.pt cannot be opened.\n",
      "ERROR:__main__:Error saving D:\\Aamir Gulzar\\KSA_project2\\dataset\\patch_data\\TCGA-CL-4957_nonMSIH\\TCGA-CL-4957_nonMSIH_x43088_y15424_patch02693.png: File D:\\Aamir Gulzar\\KSA_project2\\dataset\\Features\\Uni_2h_fivecrop\\TCGA-CL-4957_nonMSIH\\TCGA-CL-4957_nonMSIH_x43088_y15424_patch02693.pt cannot be opened.\n",
      "ERROR:__main__:Error saving D:\\Aamir Gulzar\\KSA_project2\\dataset\\patch_data\\TCGA-CL-4957_nonMSIH\\TCGA-CL-4957_nonMSIH_x43088_y15936_patch02694.png: File D:\\Aamir Gulzar\\KSA_project2\\dataset\\Features\\Uni_2h_fivecrop\\TCGA-CL-4957_nonMSIH\\TCGA-CL-4957_nonMSIH_x43088_y15936_patch02694.pt cannot be opened.\n",
      "ERROR:__main__:Error saving D:\\Aamir Gulzar\\KSA_project2\\dataset\\patch_data\\TCGA-CL-4957_nonMSIH\\TCGA-CL-4957_nonMSIH_x43088_y16448_patch02695.png: File D:\\Aamir Gulzar\\KSA_project2\\dataset\\Features\\Uni_2h_fivecrop\\TCGA-CL-4957_nonMSIH\\TCGA-CL-4957_nonMSIH_x43088_y16448_patch02695.pt cannot be opened.\n",
      "ERROR:__main__:Error saving D:\\Aamir Gulzar\\KSA_project2\\dataset\\patch_data\\TCGA-CL-4957_nonMSIH\\TCGA-CL-4957_nonMSIH_x43088_y16960_patch02696.png: File D:\\Aamir Gulzar\\KSA_project2\\dataset\\Features\\Uni_2h_fivecrop\\TCGA-CL-4957_nonMSIH\\TCGA-CL-4957_nonMSIH_x43088_y16960_patch02696.pt cannot be opened.\n",
      "ERROR:__main__:Error saving D:\\Aamir Gulzar\\KSA_project2\\dataset\\patch_data\\TCGA-CL-4957_nonMSIH\\TCGA-CL-4957_nonMSIH_x43088_y17472_patch02697.png: File D:\\Aamir Gulzar\\KSA_project2\\dataset\\Features\\Uni_2h_fivecrop\\TCGA-CL-4957_nonMSIH\\TCGA-CL-4957_nonMSIH_x43088_y17472_patch02697.pt cannot be opened.\n",
      "ERROR:__main__:Error saving D:\\Aamir Gulzar\\KSA_project2\\dataset\\patch_data\\TCGA-CL-4957_nonMSIH\\TCGA-CL-4957_nonMSIH_x43088_y17984_patch02698.png: File D:\\Aamir Gulzar\\KSA_project2\\dataset\\Features\\Uni_2h_fivecrop\\TCGA-CL-4957_nonMSIH\\TCGA-CL-4957_nonMSIH_x43088_y17984_patch02698.pt cannot be opened.\n",
      "ERROR:__main__:Error saving D:\\Aamir Gulzar\\KSA_project2\\dataset\\patch_data\\TCGA-CL-4957_nonMSIH\\TCGA-CL-4957_nonMSIH_x43088_y18496_patch02699.png: File D:\\Aamir Gulzar\\KSA_project2\\dataset\\Features\\Uni_2h_fivecrop\\TCGA-CL-4957_nonMSIH\\TCGA-CL-4957_nonMSIH_x43088_y18496_patch02699.pt cannot be opened.\n",
      "ERROR:__main__:Error saving D:\\Aamir Gulzar\\KSA_project2\\dataset\\patch_data\\TCGA-CL-4957_nonMSIH\\TCGA-CL-4957_nonMSIH_x43088_y19008_patch02700.png: File D:\\Aamir Gulzar\\KSA_project2\\dataset\\Features\\Uni_2h_fivecrop\\TCGA-CL-4957_nonMSIH\\TCGA-CL-4957_nonMSIH_x43088_y19008_patch02700.pt cannot be opened.\n",
      "ERROR:__main__:Error saving D:\\Aamir Gulzar\\KSA_project2\\dataset\\patch_data\\TCGA-CL-4957_nonMSIH\\TCGA-CL-4957_nonMSIH_x43088_y19520_patch02701.png: File D:\\Aamir Gulzar\\KSA_project2\\dataset\\Features\\Uni_2h_fivecrop\\TCGA-CL-4957_nonMSIH\\TCGA-CL-4957_nonMSIH_x43088_y19520_patch02701.pt cannot be opened.\n",
      "ERROR:__main__:Error saving D:\\Aamir Gulzar\\KSA_project2\\dataset\\patch_data\\TCGA-CL-4957_nonMSIH\\TCGA-CL-4957_nonMSIH_x43088_y20032_patch02702.png: File D:\\Aamir Gulzar\\KSA_project2\\dataset\\Features\\Uni_2h_fivecrop\\TCGA-CL-4957_nonMSIH\\TCGA-CL-4957_nonMSIH_x43088_y20032_patch02702.pt cannot be opened.\n",
      "ERROR:__main__:Error saving D:\\Aamir Gulzar\\KSA_project2\\dataset\\patch_data\\TCGA-CL-4957_nonMSIH\\TCGA-CL-4957_nonMSIH_x43088_y20544_patch02703.png: File D:\\Aamir Gulzar\\KSA_project2\\dataset\\Features\\Uni_2h_fivecrop\\TCGA-CL-4957_nonMSIH\\TCGA-CL-4957_nonMSIH_x43088_y20544_patch02703.pt cannot be opened.\n",
      "ERROR:__main__:Error saving D:\\Aamir Gulzar\\KSA_project2\\dataset\\patch_data\\TCGA-CL-4957_nonMSIH\\TCGA-CL-4957_nonMSIH_x43088_y21056_patch02704.png: File D:\\Aamir Gulzar\\KSA_project2\\dataset\\Features\\Uni_2h_fivecrop\\TCGA-CL-4957_nonMSIH\\TCGA-CL-4957_nonMSIH_x43088_y21056_patch02704.pt cannot be opened.\n",
      "ERROR:__main__:Error saving D:\\Aamir Gulzar\\KSA_project2\\dataset\\patch_data\\TCGA-CL-4957_nonMSIH\\TCGA-CL-4957_nonMSIH_x43088_y21568_patch02705.png: File D:\\Aamir Gulzar\\KSA_project2\\dataset\\Features\\Uni_2h_fivecrop\\TCGA-CL-4957_nonMSIH\\TCGA-CL-4957_nonMSIH_x43088_y21568_patch02705.pt cannot be opened.\n",
      "ERROR:__main__:Error saving D:\\Aamir Gulzar\\KSA_project2\\dataset\\patch_data\\TCGA-CL-4957_nonMSIH\\TCGA-CL-4957_nonMSIH_x43088_y22080_patch02706.png: File D:\\Aamir Gulzar\\KSA_project2\\dataset\\Features\\Uni_2h_fivecrop\\TCGA-CL-4957_nonMSIH\\TCGA-CL-4957_nonMSIH_x43088_y22080_patch02706.pt cannot be opened.\n",
      "ERROR:__main__:Error saving D:\\Aamir Gulzar\\KSA_project2\\dataset\\patch_data\\TCGA-CL-4957_nonMSIH\\TCGA-CL-4957_nonMSIH_x43088_y22592_patch02707.png: File D:\\Aamir Gulzar\\KSA_project2\\dataset\\Features\\Uni_2h_fivecrop\\TCGA-CL-4957_nonMSIH\\TCGA-CL-4957_nonMSIH_x43088_y22592_patch02707.pt cannot be opened.\n",
      "ERROR:__main__:Error saving D:\\Aamir Gulzar\\KSA_project2\\dataset\\patch_data\\TCGA-CL-4957_nonMSIH\\TCGA-CL-4957_nonMSIH_x43088_y23104_patch02708.png: File D:\\Aamir Gulzar\\KSA_project2\\dataset\\Features\\Uni_2h_fivecrop\\TCGA-CL-4957_nonMSIH\\TCGA-CL-4957_nonMSIH_x43088_y23104_patch02708.pt cannot be opened.\n",
      "ERROR:__main__:Error saving D:\\Aamir Gulzar\\KSA_project2\\dataset\\patch_data\\TCGA-CL-4957_nonMSIH\\TCGA-CL-4957_nonMSIH_x43088_y23616_patch02709.png: File D:\\Aamir Gulzar\\KSA_project2\\dataset\\Features\\Uni_2h_fivecrop\\TCGA-CL-4957_nonMSIH\\TCGA-CL-4957_nonMSIH_x43088_y23616_patch02709.pt cannot be opened.\n",
      "ERROR:__main__:Error saving D:\\Aamir Gulzar\\KSA_project2\\dataset\\patch_data\\TCGA-CL-4957_nonMSIH\\TCGA-CL-4957_nonMSIH_x43088_y24128_patch02710.png: File D:\\Aamir Gulzar\\KSA_project2\\dataset\\Features\\Uni_2h_fivecrop\\TCGA-CL-4957_nonMSIH\\TCGA-CL-4957_nonMSIH_x43088_y24128_patch02710.pt cannot be opened.\n",
      "ERROR:__main__:Error saving D:\\Aamir Gulzar\\KSA_project2\\dataset\\patch_data\\TCGA-CL-4957_nonMSIH\\TCGA-CL-4957_nonMSIH_x43088_y3648_patch02676.png: File D:\\Aamir Gulzar\\KSA_project2\\dataset\\Features\\Uni_2h_fivecrop\\TCGA-CL-4957_nonMSIH\\TCGA-CL-4957_nonMSIH_x43088_y3648_patch02676.pt cannot be opened.\n",
      "ERROR:__main__:Error saving D:\\Aamir Gulzar\\KSA_project2\\dataset\\patch_data\\TCGA-CL-4957_nonMSIH\\TCGA-CL-4957_nonMSIH_x43088_y4160_patch02677.png: File D:\\Aamir Gulzar\\KSA_project2\\dataset\\Features\\Uni_2h_fivecrop\\TCGA-CL-4957_nonMSIH\\TCGA-CL-4957_nonMSIH_x43088_y4160_patch02677.pt cannot be opened.\n",
      "ERROR:__main__:Error saving D:\\Aamir Gulzar\\KSA_project2\\dataset\\patch_data\\TCGA-CL-4957_nonMSIH\\TCGA-CL-4957_nonMSIH_x43088_y7744_patch02678.png: File D:\\Aamir Gulzar\\KSA_project2\\dataset\\Features\\Uni_2h_fivecrop\\TCGA-CL-4957_nonMSIH\\TCGA-CL-4957_nonMSIH_x43088_y7744_patch02678.pt cannot be opened.\n",
      "ERROR:__main__:Error saving D:\\Aamir Gulzar\\KSA_project2\\dataset\\patch_data\\TCGA-CL-4957_nonMSIH\\TCGA-CL-4957_nonMSIH_x43088_y8256_patch02679.png: File D:\\Aamir Gulzar\\KSA_project2\\dataset\\Features\\Uni_2h_fivecrop\\TCGA-CL-4957_nonMSIH\\TCGA-CL-4957_nonMSIH_x43088_y8256_patch02679.pt cannot be opened.\n",
      "ERROR:__main__:Error saving D:\\Aamir Gulzar\\KSA_project2\\dataset\\patch_data\\TCGA-CL-4957_nonMSIH\\TCGA-CL-4957_nonMSIH_x43088_y8768_patch02680.png: File D:\\Aamir Gulzar\\KSA_project2\\dataset\\Features\\Uni_2h_fivecrop\\TCGA-CL-4957_nonMSIH\\TCGA-CL-4957_nonMSIH_x43088_y8768_patch02680.pt cannot be opened.\n",
      "ERROR:__main__:Error saving D:\\Aamir Gulzar\\KSA_project2\\dataset\\patch_data\\TCGA-CL-4957_nonMSIH\\TCGA-CL-4957_nonMSIH_x43088_y9280_patch02681.png: File D:\\Aamir Gulzar\\KSA_project2\\dataset\\Features\\Uni_2h_fivecrop\\TCGA-CL-4957_nonMSIH\\TCGA-CL-4957_nonMSIH_x43088_y9280_patch02681.pt cannot be opened.\n",
      "ERROR:__main__:Error saving D:\\Aamir Gulzar\\KSA_project2\\dataset\\patch_data\\TCGA-CL-4957_nonMSIH\\TCGA-CL-4957_nonMSIH_x43088_y9792_patch02682.png: File D:\\Aamir Gulzar\\KSA_project2\\dataset\\Features\\Uni_2h_fivecrop\\TCGA-CL-4957_nonMSIH\\TCGA-CL-4957_nonMSIH_x43088_y9792_patch02682.pt cannot be opened.\n",
      "ERROR:__main__:Error saving D:\\Aamir Gulzar\\KSA_project2\\dataset\\patch_data\\TCGA-CL-4957_nonMSIH\\TCGA-CL-4957_nonMSIH_x43600_y10816_patch02722.png: File D:\\Aamir Gulzar\\KSA_project2\\dataset\\Features\\Uni_2h_fivecrop\\TCGA-CL-4957_nonMSIH\\TCGA-CL-4957_nonMSIH_x43600_y10816_patch02722.pt cannot be opened.\n",
      "ERROR:__main__:Error saving D:\\Aamir Gulzar\\KSA_project2\\dataset\\patch_data\\TCGA-CL-4957_nonMSIH\\TCGA-CL-4957_nonMSIH_x43600_y10304_patch02721.png: File D:\\Aamir Gulzar\\KSA_project2\\dataset\\Features\\Uni_2h_fivecrop\\TCGA-CL-4957_nonMSIH\\TCGA-CL-4957_nonMSIH_x43600_y10304_patch02721.pt cannot be opened.\n",
      "ERROR:__main__:Error saving D:\\Aamir Gulzar\\KSA_project2\\dataset\\patch_data\\TCGA-CL-4957_nonMSIH\\TCGA-CL-4957_nonMSIH_x43600_y11328_patch02723.png: File D:\\Aamir Gulzar\\KSA_project2\\dataset\\Features\\Uni_2h_fivecrop\\TCGA-CL-4957_nonMSIH\\TCGA-CL-4957_nonMSIH_x43600_y11328_patch02723.pt cannot be opened.\n",
      "ERROR:__main__:Error saving D:\\Aamir Gulzar\\KSA_project2\\dataset\\patch_data\\TCGA-CL-4957_nonMSIH\\TCGA-CL-4957_nonMSIH_x43600_y11840_patch02724.png: File D:\\Aamir Gulzar\\KSA_project2\\dataset\\Features\\Uni_2h_fivecrop\\TCGA-CL-4957_nonMSIH\\TCGA-CL-4957_nonMSIH_x43600_y11840_patch02724.pt cannot be opened.\n",
      "ERROR:__main__:Error saving D:\\Aamir Gulzar\\KSA_project2\\dataset\\patch_data\\TCGA-CL-4957_nonMSIH\\TCGA-CL-4957_nonMSIH_x43600_y12352_patch02725.png: File D:\\Aamir Gulzar\\KSA_project2\\dataset\\Features\\Uni_2h_fivecrop\\TCGA-CL-4957_nonMSIH\\TCGA-CL-4957_nonMSIH_x43600_y12352_patch02725.pt cannot be opened.\n",
      "ERROR:__main__:Error saving D:\\Aamir Gulzar\\KSA_project2\\dataset\\patch_data\\TCGA-CL-4957_nonMSIH\\TCGA-CL-4957_nonMSIH_x43600_y12864_patch02726.png: File D:\\Aamir Gulzar\\KSA_project2\\dataset\\Features\\Uni_2h_fivecrop\\TCGA-CL-4957_nonMSIH\\TCGA-CL-4957_nonMSIH_x43600_y12864_patch02726.pt cannot be opened.\n",
      "ERROR:__main__:Error saving D:\\Aamir Gulzar\\KSA_project2\\dataset\\patch_data\\TCGA-CL-4957_nonMSIH\\TCGA-CL-4957_nonMSIH_x43600_y13376_patch02727.png: File D:\\Aamir Gulzar\\KSA_project2\\dataset\\Features\\Uni_2h_fivecrop\\TCGA-CL-4957_nonMSIH\\TCGA-CL-4957_nonMSIH_x43600_y13376_patch02727.pt cannot be opened.\n",
      "ERROR:__main__:Error saving D:\\Aamir Gulzar\\KSA_project2\\dataset\\patch_data\\TCGA-CL-4957_nonMSIH\\TCGA-CL-4957_nonMSIH_x43600_y13888_patch02728.png: File D:\\Aamir Gulzar\\KSA_project2\\dataset\\Features\\Uni_2h_fivecrop\\TCGA-CL-4957_nonMSIH\\TCGA-CL-4957_nonMSIH_x43600_y13888_patch02728.pt cannot be opened.\n",
      "ERROR:__main__:Error saving D:\\Aamir Gulzar\\KSA_project2\\dataset\\patch_data\\TCGA-CL-4957_nonMSIH\\TCGA-CL-4957_nonMSIH_x43600_y14400_patch02729.png: File D:\\Aamir Gulzar\\KSA_project2\\dataset\\Features\\Uni_2h_fivecrop\\TCGA-CL-4957_nonMSIH\\TCGA-CL-4957_nonMSIH_x43600_y14400_patch02729.pt cannot be opened.\n",
      "ERROR:__main__:Error saving D:\\Aamir Gulzar\\KSA_project2\\dataset\\patch_data\\TCGA-CL-4957_nonMSIH\\TCGA-CL-4957_nonMSIH_x43600_y14912_patch02730.png: File D:\\Aamir Gulzar\\KSA_project2\\dataset\\Features\\Uni_2h_fivecrop\\TCGA-CL-4957_nonMSIH\\TCGA-CL-4957_nonMSIH_x43600_y14912_patch02730.pt cannot be opened.\n",
      "ERROR:__main__:Error saving D:\\Aamir Gulzar\\KSA_project2\\dataset\\patch_data\\TCGA-CL-4957_nonMSIH\\TCGA-CL-4957_nonMSIH_x43600_y15424_patch02731.png: File D:\\Aamir Gulzar\\KSA_project2\\dataset\\Features\\Uni_2h_fivecrop\\TCGA-CL-4957_nonMSIH\\TCGA-CL-4957_nonMSIH_x43600_y15424_patch02731.pt cannot be opened.\n",
      "ERROR:__main__:Error saving D:\\Aamir Gulzar\\KSA_project2\\dataset\\patch_data\\TCGA-CL-4957_nonMSIH\\TCGA-CL-4957_nonMSIH_x43600_y15936_patch02732.png: File D:\\Aamir Gulzar\\KSA_project2\\dataset\\Features\\Uni_2h_fivecrop\\TCGA-CL-4957_nonMSIH\\TCGA-CL-4957_nonMSIH_x43600_y15936_patch02732.pt cannot be opened.\n",
      "ERROR:__main__:Error saving D:\\Aamir Gulzar\\KSA_project2\\dataset\\patch_data\\TCGA-CL-4957_nonMSIH\\TCGA-CL-4957_nonMSIH_x43600_y16448_patch02733.png: File D:\\Aamir Gulzar\\KSA_project2\\dataset\\Features\\Uni_2h_fivecrop\\TCGA-CL-4957_nonMSIH\\TCGA-CL-4957_nonMSIH_x43600_y16448_patch02733.pt cannot be opened.\n",
      "ERROR:__main__:Error saving D:\\Aamir Gulzar\\KSA_project2\\dataset\\patch_data\\TCGA-CL-4957_nonMSIH\\TCGA-CL-4957_nonMSIH_x43600_y16960_patch02734.png: File D:\\Aamir Gulzar\\KSA_project2\\dataset\\Features\\Uni_2h_fivecrop\\TCGA-CL-4957_nonMSIH\\TCGA-CL-4957_nonMSIH_x43600_y16960_patch02734.pt cannot be opened.\n",
      "ERROR:__main__:Error saving D:\\Aamir Gulzar\\KSA_project2\\dataset\\patch_data\\TCGA-CL-4957_nonMSIH\\TCGA-CL-4957_nonMSIH_x43600_y17472_patch02735.png: File D:\\Aamir Gulzar\\KSA_project2\\dataset\\Features\\Uni_2h_fivecrop\\TCGA-CL-4957_nonMSIH\\TCGA-CL-4957_nonMSIH_x43600_y17472_patch02735.pt cannot be opened.\n",
      "ERROR:__main__:Error saving D:\\Aamir Gulzar\\KSA_project2\\dataset\\patch_data\\TCGA-CL-4957_nonMSIH\\TCGA-CL-4957_nonMSIH_x43600_y17984_patch02736.png: File D:\\Aamir Gulzar\\KSA_project2\\dataset\\Features\\Uni_2h_fivecrop\\TCGA-CL-4957_nonMSIH\\TCGA-CL-4957_nonMSIH_x43600_y17984_patch02736.pt cannot be opened.\n",
      "ERROR:__main__:Error saving D:\\Aamir Gulzar\\KSA_project2\\dataset\\patch_data\\TCGA-CL-4957_nonMSIH\\TCGA-CL-4957_nonMSIH_x43600_y18496_patch02737.png: File D:\\Aamir Gulzar\\KSA_project2\\dataset\\Features\\Uni_2h_fivecrop\\TCGA-CL-4957_nonMSIH\\TCGA-CL-4957_nonMSIH_x43600_y18496_patch02737.pt cannot be opened.\n",
      "ERROR:__main__:Error saving D:\\Aamir Gulzar\\KSA_project2\\dataset\\patch_data\\TCGA-CL-4957_nonMSIH\\TCGA-CL-4957_nonMSIH_x43600_y19008_patch02738.png: File D:\\Aamir Gulzar\\KSA_project2\\dataset\\Features\\Uni_2h_fivecrop\\TCGA-CL-4957_nonMSIH\\TCGA-CL-4957_nonMSIH_x43600_y19008_patch02738.pt cannot be opened.\n",
      "ERROR:__main__:Error saving D:\\Aamir Gulzar\\KSA_project2\\dataset\\patch_data\\TCGA-CL-4957_nonMSIH\\TCGA-CL-4957_nonMSIH_x43600_y19520_patch02739.png: File D:\\Aamir Gulzar\\KSA_project2\\dataset\\Features\\Uni_2h_fivecrop\\TCGA-CL-4957_nonMSIH\\TCGA-CL-4957_nonMSIH_x43600_y19520_patch02739.pt cannot be opened.\n",
      "ERROR:__main__:Error saving D:\\Aamir Gulzar\\KSA_project2\\dataset\\patch_data\\TCGA-CL-4957_nonMSIH\\TCGA-CL-4957_nonMSIH_x43600_y20032_patch02740.png: File D:\\Aamir Gulzar\\KSA_project2\\dataset\\Features\\Uni_2h_fivecrop\\TCGA-CL-4957_nonMSIH\\TCGA-CL-4957_nonMSIH_x43600_y20032_patch02740.pt cannot be opened.\n",
      "ERROR:__main__:Error saving D:\\Aamir Gulzar\\KSA_project2\\dataset\\patch_data\\TCGA-CL-4957_nonMSIH\\TCGA-CL-4957_nonMSIH_x43600_y20544_patch02741.png: File D:\\Aamir Gulzar\\KSA_project2\\dataset\\Features\\Uni_2h_fivecrop\\TCGA-CL-4957_nonMSIH\\TCGA-CL-4957_nonMSIH_x43600_y20544_patch02741.pt cannot be opened.\n",
      "ERROR:__main__:Error saving D:\\Aamir Gulzar\\KSA_project2\\dataset\\patch_data\\TCGA-CL-4957_nonMSIH\\TCGA-CL-4957_nonMSIH_x43600_y21056_patch02742.png: File D:\\Aamir Gulzar\\KSA_project2\\dataset\\Features\\Uni_2h_fivecrop\\TCGA-CL-4957_nonMSIH\\TCGA-CL-4957_nonMSIH_x43600_y21056_patch02742.pt cannot be opened.\n",
      "ERROR:__main__:Error saving D:\\Aamir Gulzar\\KSA_project2\\dataset\\patch_data\\TCGA-CL-4957_nonMSIH\\TCGA-CL-4957_nonMSIH_x43600_y21568_patch02743.png: File D:\\Aamir Gulzar\\KSA_project2\\dataset\\Features\\Uni_2h_fivecrop\\TCGA-CL-4957_nonMSIH\\TCGA-CL-4957_nonMSIH_x43600_y21568_patch02743.pt cannot be opened.\n",
      "ERROR:__main__:Error saving D:\\Aamir Gulzar\\KSA_project2\\dataset\\patch_data\\TCGA-CL-4957_nonMSIH\\TCGA-CL-4957_nonMSIH_x43600_y22080_patch02744.png: File D:\\Aamir Gulzar\\KSA_project2\\dataset\\Features\\Uni_2h_fivecrop\\TCGA-CL-4957_nonMSIH\\TCGA-CL-4957_nonMSIH_x43600_y22080_patch02744.pt cannot be opened.\n",
      "ERROR:__main__:Error saving D:\\Aamir Gulzar\\KSA_project2\\dataset\\patch_data\\TCGA-CL-4957_nonMSIH\\TCGA-CL-4957_nonMSIH_x43600_y22592_patch02745.png: File D:\\Aamir Gulzar\\KSA_project2\\dataset\\Features\\Uni_2h_fivecrop\\TCGA-CL-4957_nonMSIH\\TCGA-CL-4957_nonMSIH_x43600_y22592_patch02745.pt cannot be opened.\n",
      "ERROR:__main__:Error saving D:\\Aamir Gulzar\\KSA_project2\\dataset\\patch_data\\TCGA-CL-4957_nonMSIH\\TCGA-CL-4957_nonMSIH_x43600_y23104_patch02746.png: File D:\\Aamir Gulzar\\KSA_project2\\dataset\\Features\\Uni_2h_fivecrop\\TCGA-CL-4957_nonMSIH\\TCGA-CL-4957_nonMSIH_x43600_y23104_patch02746.pt cannot be opened.\n",
      "ERROR:__main__:Error saving D:\\Aamir Gulzar\\KSA_project2\\dataset\\patch_data\\TCGA-CL-4957_nonMSIH\\TCGA-CL-4957_nonMSIH_x43600_y23616_patch02747.png: File D:\\Aamir Gulzar\\KSA_project2\\dataset\\Features\\Uni_2h_fivecrop\\TCGA-CL-4957_nonMSIH\\TCGA-CL-4957_nonMSIH_x43600_y23616_patch02747.pt cannot be opened.\n",
      "ERROR:__main__:Error saving D:\\Aamir Gulzar\\KSA_project2\\dataset\\patch_data\\TCGA-CL-4957_nonMSIH\\TCGA-CL-4957_nonMSIH_x43600_y24128_patch02748.png: File D:\\Aamir Gulzar\\KSA_project2\\dataset\\Features\\Uni_2h_fivecrop\\TCGA-CL-4957_nonMSIH\\TCGA-CL-4957_nonMSIH_x43600_y24128_patch02748.pt cannot be opened.\n",
      "ERROR:__main__:Error saving D:\\Aamir Gulzar\\KSA_project2\\dataset\\patch_data\\TCGA-CL-4957_nonMSIH\\TCGA-CL-4957_nonMSIH_x43600_y3648_patch02711.png: File D:\\Aamir Gulzar\\KSA_project2\\dataset\\Features\\Uni_2h_fivecrop\\TCGA-CL-4957_nonMSIH\\TCGA-CL-4957_nonMSIH_x43600_y3648_patch02711.pt cannot be opened.\n",
      "ERROR:__main__:Error saving D:\\Aamir Gulzar\\KSA_project2\\dataset\\patch_data\\TCGA-CL-4957_nonMSIH\\TCGA-CL-4957_nonMSIH_x43600_y4160_patch02712.png: File D:\\Aamir Gulzar\\KSA_project2\\dataset\\Features\\Uni_2h_fivecrop\\TCGA-CL-4957_nonMSIH\\TCGA-CL-4957_nonMSIH_x43600_y4160_patch02712.pt cannot be opened.\n",
      "ERROR:__main__:Error saving D:\\Aamir Gulzar\\KSA_project2\\dataset\\patch_data\\TCGA-CL-4957_nonMSIH\\TCGA-CL-4957_nonMSIH_x43600_y4672_patch02713.png: File D:\\Aamir Gulzar\\KSA_project2\\dataset\\Features\\Uni_2h_fivecrop\\TCGA-CL-4957_nonMSIH\\TCGA-CL-4957_nonMSIH_x43600_y4672_patch02713.pt cannot be opened.\n",
      "ERROR:__main__:Error saving D:\\Aamir Gulzar\\KSA_project2\\dataset\\patch_data\\TCGA-CL-4957_nonMSIH\\TCGA-CL-4957_nonMSIH_x43600_y6720_patch02714.png: File D:\\Aamir Gulzar\\KSA_project2\\dataset\\Features\\Uni_2h_fivecrop\\TCGA-CL-4957_nonMSIH\\TCGA-CL-4957_nonMSIH_x43600_y6720_patch02714.pt cannot be opened.\n",
      "ERROR:__main__:Error saving D:\\Aamir Gulzar\\KSA_project2\\dataset\\patch_data\\TCGA-CL-4957_nonMSIH\\TCGA-CL-4957_nonMSIH_x43600_y7232_patch02715.png: File D:\\Aamir Gulzar\\KSA_project2\\dataset\\Features\\Uni_2h_fivecrop\\TCGA-CL-4957_nonMSIH\\TCGA-CL-4957_nonMSIH_x43600_y7232_patch02715.pt cannot be opened.\n",
      "ERROR:__main__:Error saving D:\\Aamir Gulzar\\KSA_project2\\dataset\\patch_data\\TCGA-CL-4957_nonMSIH\\TCGA-CL-4957_nonMSIH_x43600_y7744_patch02716.png: File D:\\Aamir Gulzar\\KSA_project2\\dataset\\Features\\Uni_2h_fivecrop\\TCGA-CL-4957_nonMSIH\\TCGA-CL-4957_nonMSIH_x43600_y7744_patch02716.pt cannot be opened.\n",
      "ERROR:__main__:Error saving D:\\Aamir Gulzar\\KSA_project2\\dataset\\patch_data\\TCGA-CL-4957_nonMSIH\\TCGA-CL-4957_nonMSIH_x43600_y8256_patch02717.png: File D:\\Aamir Gulzar\\KSA_project2\\dataset\\Features\\Uni_2h_fivecrop\\TCGA-CL-4957_nonMSIH\\TCGA-CL-4957_nonMSIH_x43600_y8256_patch02717.pt cannot be opened.\n",
      "ERROR:__main__:Error saving D:\\Aamir Gulzar\\KSA_project2\\dataset\\patch_data\\TCGA-CL-4957_nonMSIH\\TCGA-CL-4957_nonMSIH_x43600_y8768_patch02718.png: File D:\\Aamir Gulzar\\KSA_project2\\dataset\\Features\\Uni_2h_fivecrop\\TCGA-CL-4957_nonMSIH\\TCGA-CL-4957_nonMSIH_x43600_y8768_patch02718.pt cannot be opened.\n",
      "ERROR:__main__:Error saving D:\\Aamir Gulzar\\KSA_project2\\dataset\\patch_data\\TCGA-CL-4957_nonMSIH\\TCGA-CL-4957_nonMSIH_x43600_y9280_patch02719.png: File D:\\Aamir Gulzar\\KSA_project2\\dataset\\Features\\Uni_2h_fivecrop\\TCGA-CL-4957_nonMSIH\\TCGA-CL-4957_nonMSIH_x43600_y9280_patch02719.pt cannot be opened.\n",
      "ERROR:__main__:Error saving D:\\Aamir Gulzar\\KSA_project2\\dataset\\patch_data\\TCGA-CL-4957_nonMSIH\\TCGA-CL-4957_nonMSIH_x43600_y9792_patch02720.png: File D:\\Aamir Gulzar\\KSA_project2\\dataset\\Features\\Uni_2h_fivecrop\\TCGA-CL-4957_nonMSIH\\TCGA-CL-4957_nonMSIH_x43600_y9792_patch02720.pt cannot be opened.\n",
      "ERROR:__main__:Error saving D:\\Aamir Gulzar\\KSA_project2\\dataset\\patch_data\\TCGA-CL-4957_nonMSIH\\TCGA-CL-4957_nonMSIH_x44112_y10304_patch02763.png: File D:\\Aamir Gulzar\\KSA_project2\\dataset\\Features\\Uni_2h_fivecrop\\TCGA-CL-4957_nonMSIH\\TCGA-CL-4957_nonMSIH_x44112_y10304_patch02763.pt cannot be opened.\n",
      "ERROR:__main__:Error saving D:\\Aamir Gulzar\\KSA_project2\\dataset\\patch_data\\TCGA-CL-4957_nonMSIH\\TCGA-CL-4957_nonMSIH_x44112_y10816_patch02764.png: File D:\\Aamir Gulzar\\KSA_project2\\dataset\\Features\\Uni_2h_fivecrop\\TCGA-CL-4957_nonMSIH\\TCGA-CL-4957_nonMSIH_x44112_y10816_patch02764.pt cannot be opened.\n",
      "ERROR:__main__:Error saving D:\\Aamir Gulzar\\KSA_project2\\dataset\\patch_data\\TCGA-CL-4957_nonMSIH\\TCGA-CL-4957_nonMSIH_x44112_y11328_patch02765.png: File D:\\Aamir Gulzar\\KSA_project2\\dataset\\Features\\Uni_2h_fivecrop\\TCGA-CL-4957_nonMSIH\\TCGA-CL-4957_nonMSIH_x44112_y11328_patch02765.pt cannot be opened.\n",
      "ERROR:__main__:Error saving D:\\Aamir Gulzar\\KSA_project2\\dataset\\patch_data\\TCGA-CL-4957_nonMSIH\\TCGA-CL-4957_nonMSIH_x44112_y11840_patch02766.png: File D:\\Aamir Gulzar\\KSA_project2\\dataset\\Features\\Uni_2h_fivecrop\\TCGA-CL-4957_nonMSIH\\TCGA-CL-4957_nonMSIH_x44112_y11840_patch02766.pt cannot be opened.\n",
      "ERROR:__main__:Error saving D:\\Aamir Gulzar\\KSA_project2\\dataset\\patch_data\\TCGA-CL-4957_nonMSIH\\TCGA-CL-4957_nonMSIH_x44112_y12352_patch02767.png: File D:\\Aamir Gulzar\\KSA_project2\\dataset\\Features\\Uni_2h_fivecrop\\TCGA-CL-4957_nonMSIH\\TCGA-CL-4957_nonMSIH_x44112_y12352_patch02767.pt cannot be opened.\n",
      "ERROR:__main__:Error saving D:\\Aamir Gulzar\\KSA_project2\\dataset\\patch_data\\TCGA-CL-4957_nonMSIH\\TCGA-CL-4957_nonMSIH_x44112_y13888_patch02769.png: File D:\\Aamir Gulzar\\KSA_project2\\dataset\\Features\\Uni_2h_fivecrop\\TCGA-CL-4957_nonMSIH\\TCGA-CL-4957_nonMSIH_x44112_y13888_patch02769.pt cannot be opened.\n",
      "ERROR:__main__:Error saving D:\\Aamir Gulzar\\KSA_project2\\dataset\\patch_data\\TCGA-CL-4957_nonMSIH\\TCGA-CL-4957_nonMSIH_x44112_y12864_patch02768.png: File D:\\Aamir Gulzar\\KSA_project2\\dataset\\Features\\Uni_2h_fivecrop\\TCGA-CL-4957_nonMSIH\\TCGA-CL-4957_nonMSIH_x44112_y12864_patch02768.pt cannot be opened.\n",
      "ERROR:__main__:Error saving D:\\Aamir Gulzar\\KSA_project2\\dataset\\patch_data\\TCGA-CL-4957_nonMSIH\\TCGA-CL-4957_nonMSIH_x44112_y14400_patch02770.png: File D:\\Aamir Gulzar\\KSA_project2\\dataset\\Features\\Uni_2h_fivecrop\\TCGA-CL-4957_nonMSIH\\TCGA-CL-4957_nonMSIH_x44112_y14400_patch02770.pt cannot be opened.\n",
      "ERROR:__main__:Error saving D:\\Aamir Gulzar\\KSA_project2\\dataset\\patch_data\\TCGA-CL-4957_nonMSIH\\TCGA-CL-4957_nonMSIH_x44112_y14912_patch02771.png: File D:\\Aamir Gulzar\\KSA_project2\\dataset\\Features\\Uni_2h_fivecrop\\TCGA-CL-4957_nonMSIH\\TCGA-CL-4957_nonMSIH_x44112_y14912_patch02771.pt cannot be opened.\n",
      "ERROR:__main__:Error saving D:\\Aamir Gulzar\\KSA_project2\\dataset\\patch_data\\TCGA-CL-4957_nonMSIH\\TCGA-CL-4957_nonMSIH_x44112_y15424_patch02772.png: File D:\\Aamir Gulzar\\KSA_project2\\dataset\\Features\\Uni_2h_fivecrop\\TCGA-CL-4957_nonMSIH\\TCGA-CL-4957_nonMSIH_x44112_y15424_patch02772.pt cannot be opened.\n",
      "ERROR:__main__:Error saving D:\\Aamir Gulzar\\KSA_project2\\dataset\\patch_data\\TCGA-CL-4957_nonMSIH\\TCGA-CL-4957_nonMSIH_x44112_y15936_patch02773.png: File D:\\Aamir Gulzar\\KSA_project2\\dataset\\Features\\Uni_2h_fivecrop\\TCGA-CL-4957_nonMSIH\\TCGA-CL-4957_nonMSIH_x44112_y15936_patch02773.pt cannot be opened.\n",
      "ERROR:__main__:Error saving D:\\Aamir Gulzar\\KSA_project2\\dataset\\patch_data\\TCGA-CL-4957_nonMSIH\\TCGA-CL-4957_nonMSIH_x44112_y16448_patch02774.png: File D:\\Aamir Gulzar\\KSA_project2\\dataset\\Features\\Uni_2h_fivecrop\\TCGA-CL-4957_nonMSIH\\TCGA-CL-4957_nonMSIH_x44112_y16448_patch02774.pt cannot be opened.\n",
      "ERROR:__main__:Error saving D:\\Aamir Gulzar\\KSA_project2\\dataset\\patch_data\\TCGA-CL-4957_nonMSIH\\TCGA-CL-4957_nonMSIH_x44112_y16960_patch02775.png: File D:\\Aamir Gulzar\\KSA_project2\\dataset\\Features\\Uni_2h_fivecrop\\TCGA-CL-4957_nonMSIH\\TCGA-CL-4957_nonMSIH_x44112_y16960_patch02775.pt cannot be opened.\n",
      "ERROR:__main__:Error saving D:\\Aamir Gulzar\\KSA_project2\\dataset\\patch_data\\TCGA-CL-4957_nonMSIH\\TCGA-CL-4957_nonMSIH_x44112_y17472_patch02776.png: File D:\\Aamir Gulzar\\KSA_project2\\dataset\\Features\\Uni_2h_fivecrop\\TCGA-CL-4957_nonMSIH\\TCGA-CL-4957_nonMSIH_x44112_y17472_patch02776.pt cannot be opened.\n",
      "ERROR:__main__:Error saving D:\\Aamir Gulzar\\KSA_project2\\dataset\\patch_data\\TCGA-CL-4957_nonMSIH\\TCGA-CL-4957_nonMSIH_x44112_y17984_patch02777.png: File D:\\Aamir Gulzar\\KSA_project2\\dataset\\Features\\Uni_2h_fivecrop\\TCGA-CL-4957_nonMSIH\\TCGA-CL-4957_nonMSIH_x44112_y17984_patch02777.pt cannot be opened.\n",
      "ERROR:__main__:Error saving D:\\Aamir Gulzar\\KSA_project2\\dataset\\patch_data\\TCGA-CL-4957_nonMSIH\\TCGA-CL-4957_nonMSIH_x44112_y18496_patch02778.png: File D:\\Aamir Gulzar\\KSA_project2\\dataset\\Features\\Uni_2h_fivecrop\\TCGA-CL-4957_nonMSIH\\TCGA-CL-4957_nonMSIH_x44112_y18496_patch02778.pt cannot be opened.\n",
      "ERROR:__main__:Error saving D:\\Aamir Gulzar\\KSA_project2\\dataset\\patch_data\\TCGA-CL-4957_nonMSIH\\TCGA-CL-4957_nonMSIH_x44112_y19008_patch02779.png: File D:\\Aamir Gulzar\\KSA_project2\\dataset\\Features\\Uni_2h_fivecrop\\TCGA-CL-4957_nonMSIH\\TCGA-CL-4957_nonMSIH_x44112_y19008_patch02779.pt cannot be opened.\n",
      "ERROR:__main__:Error saving D:\\Aamir Gulzar\\KSA_project2\\dataset\\patch_data\\TCGA-CL-4957_nonMSIH\\TCGA-CL-4957_nonMSIH_x44112_y19520_patch02780.png: File D:\\Aamir Gulzar\\KSA_project2\\dataset\\Features\\Uni_2h_fivecrop\\TCGA-CL-4957_nonMSIH\\TCGA-CL-4957_nonMSIH_x44112_y19520_patch02780.pt cannot be opened.\n",
      "ERROR:__main__:Error saving D:\\Aamir Gulzar\\KSA_project2\\dataset\\patch_data\\TCGA-CL-4957_nonMSIH\\TCGA-CL-4957_nonMSIH_x44112_y20032_patch02781.png: File D:\\Aamir Gulzar\\KSA_project2\\dataset\\Features\\Uni_2h_fivecrop\\TCGA-CL-4957_nonMSIH\\TCGA-CL-4957_nonMSIH_x44112_y20032_patch02781.pt cannot be opened.\n",
      "ERROR:__main__:Error saving D:\\Aamir Gulzar\\KSA_project2\\dataset\\patch_data\\TCGA-CL-4957_nonMSIH\\TCGA-CL-4957_nonMSIH_x44112_y21056_patch02783.png: File D:\\Aamir Gulzar\\KSA_project2\\dataset\\Features\\Uni_2h_fivecrop\\TCGA-CL-4957_nonMSIH\\TCGA-CL-4957_nonMSIH_x44112_y21056_patch02783.pt cannot be opened.\n",
      "ERROR:__main__:Error saving D:\\Aamir Gulzar\\KSA_project2\\dataset\\patch_data\\TCGA-CL-4957_nonMSIH\\TCGA-CL-4957_nonMSIH_x44112_y20544_patch02782.png: File D:\\Aamir Gulzar\\KSA_project2\\dataset\\Features\\Uni_2h_fivecrop\\TCGA-CL-4957_nonMSIH\\TCGA-CL-4957_nonMSIH_x44112_y20544_patch02782.pt cannot be opened.\n",
      "ERROR:__main__:Error saving D:\\Aamir Gulzar\\KSA_project2\\dataset\\patch_data\\TCGA-CL-4957_nonMSIH\\TCGA-CL-4957_nonMSIH_x44112_y22080_patch02785.png: File D:\\Aamir Gulzar\\KSA_project2\\dataset\\Features\\Uni_2h_fivecrop\\TCGA-CL-4957_nonMSIH\\TCGA-CL-4957_nonMSIH_x44112_y22080_patch02785.pt cannot be opened.\n",
      "ERROR:__main__:Error saving D:\\Aamir Gulzar\\KSA_project2\\dataset\\patch_data\\TCGA-CL-4957_nonMSIH\\TCGA-CL-4957_nonMSIH_x44112_y21568_patch02784.png: File D:\\Aamir Gulzar\\KSA_project2\\dataset\\Features\\Uni_2h_fivecrop\\TCGA-CL-4957_nonMSIH\\TCGA-CL-4957_nonMSIH_x44112_y21568_patch02784.pt cannot be opened.\n",
      "ERROR:__main__:Error saving D:\\Aamir Gulzar\\KSA_project2\\dataset\\patch_data\\TCGA-CL-4957_nonMSIH\\TCGA-CL-4957_nonMSIH_x44112_y22592_patch02786.png: File D:\\Aamir Gulzar\\KSA_project2\\dataset\\Features\\Uni_2h_fivecrop\\TCGA-CL-4957_nonMSIH\\TCGA-CL-4957_nonMSIH_x44112_y22592_patch02786.pt cannot be opened.\n",
      "ERROR:__main__:Error saving D:\\Aamir Gulzar\\KSA_project2\\dataset\\patch_data\\TCGA-CL-4957_nonMSIH\\TCGA-CL-4957_nonMSIH_x44112_y23104_patch02787.png: File D:\\Aamir Gulzar\\KSA_project2\\dataset\\Features\\Uni_2h_fivecrop\\TCGA-CL-4957_nonMSIH\\TCGA-CL-4957_nonMSIH_x44112_y23104_patch02787.pt cannot be opened.\n",
      "ERROR:__main__:Error saving D:\\Aamir Gulzar\\KSA_project2\\dataset\\patch_data\\TCGA-CL-4957_nonMSIH\\TCGA-CL-4957_nonMSIH_x44112_y23616_patch02788.png: File D:\\Aamir Gulzar\\KSA_project2\\dataset\\Features\\Uni_2h_fivecrop\\TCGA-CL-4957_nonMSIH\\TCGA-CL-4957_nonMSIH_x44112_y23616_patch02788.pt cannot be opened.\n",
      "ERROR:__main__:Error saving D:\\Aamir Gulzar\\KSA_project2\\dataset\\patch_data\\TCGA-CL-4957_nonMSIH\\TCGA-CL-4957_nonMSIH_x44112_y24128_patch02789.png: File D:\\Aamir Gulzar\\KSA_project2\\dataset\\Features\\Uni_2h_fivecrop\\TCGA-CL-4957_nonMSIH\\TCGA-CL-4957_nonMSIH_x44112_y24128_patch02789.pt cannot be opened.\n",
      "ERROR:__main__:Error saving D:\\Aamir Gulzar\\KSA_project2\\dataset\\patch_data\\TCGA-CL-4957_nonMSIH\\TCGA-CL-4957_nonMSIH_x44112_y2624_patch02749.png: File D:\\Aamir Gulzar\\KSA_project2\\dataset\\Features\\Uni_2h_fivecrop\\TCGA-CL-4957_nonMSIH\\TCGA-CL-4957_nonMSIH_x44112_y2624_patch02749.pt cannot be opened.\n",
      "ERROR:__main__:Error saving D:\\Aamir Gulzar\\KSA_project2\\dataset\\patch_data\\TCGA-CL-4957_nonMSIH\\TCGA-CL-4957_nonMSIH_x44112_y3136_patch02750.png: File D:\\Aamir Gulzar\\KSA_project2\\dataset\\Features\\Uni_2h_fivecrop\\TCGA-CL-4957_nonMSIH\\TCGA-CL-4957_nonMSIH_x44112_y3136_patch02750.pt cannot be opened.\n",
      "ERROR:__main__:Error saving D:\\Aamir Gulzar\\KSA_project2\\dataset\\patch_data\\TCGA-CL-4957_nonMSIH\\TCGA-CL-4957_nonMSIH_x44112_y3648_patch02751.png: File D:\\Aamir Gulzar\\KSA_project2\\dataset\\Features\\Uni_2h_fivecrop\\TCGA-CL-4957_nonMSIH\\TCGA-CL-4957_nonMSIH_x44112_y3648_patch02751.pt cannot be opened.\n",
      "ERROR:__main__:Error saving D:\\Aamir Gulzar\\KSA_project2\\dataset\\patch_data\\TCGA-CL-4957_nonMSIH\\TCGA-CL-4957_nonMSIH_x44112_y4160_patch02752.png: File D:\\Aamir Gulzar\\KSA_project2\\dataset\\Features\\Uni_2h_fivecrop\\TCGA-CL-4957_nonMSIH\\TCGA-CL-4957_nonMSIH_x44112_y4160_patch02752.pt cannot be opened.\n",
      "ERROR:__main__:Error saving D:\\Aamir Gulzar\\KSA_project2\\dataset\\patch_data\\TCGA-CL-4957_nonMSIH\\TCGA-CL-4957_nonMSIH_x44112_y4672_patch02753.png: File D:\\Aamir Gulzar\\KSA_project2\\dataset\\Features\\Uni_2h_fivecrop\\TCGA-CL-4957_nonMSIH\\TCGA-CL-4957_nonMSIH_x44112_y4672_patch02753.pt cannot be opened.\n",
      "ERROR:__main__:Error saving D:\\Aamir Gulzar\\KSA_project2\\dataset\\patch_data\\TCGA-CL-4957_nonMSIH\\TCGA-CL-4957_nonMSIH_x44112_y5184_patch02754.png: File D:\\Aamir Gulzar\\KSA_project2\\dataset\\Features\\Uni_2h_fivecrop\\TCGA-CL-4957_nonMSIH\\TCGA-CL-4957_nonMSIH_x44112_y5184_patch02754.pt cannot be opened.\n",
      "ERROR:__main__:Error saving D:\\Aamir Gulzar\\KSA_project2\\dataset\\patch_data\\TCGA-CL-4957_nonMSIH\\TCGA-CL-4957_nonMSIH_x44112_y6208_patch02755.png: File D:\\Aamir Gulzar\\KSA_project2\\dataset\\Features\\Uni_2h_fivecrop\\TCGA-CL-4957_nonMSIH\\TCGA-CL-4957_nonMSIH_x44112_y6208_patch02755.pt cannot be opened.\n",
      "ERROR:__main__:Error saving D:\\Aamir Gulzar\\KSA_project2\\dataset\\patch_data\\TCGA-CL-4957_nonMSIH\\TCGA-CL-4957_nonMSIH_x44112_y6720_patch02756.png: File D:\\Aamir Gulzar\\KSA_project2\\dataset\\Features\\Uni_2h_fivecrop\\TCGA-CL-4957_nonMSIH\\TCGA-CL-4957_nonMSIH_x44112_y6720_patch02756.pt cannot be opened.\n",
      "ERROR:__main__:Error saving D:\\Aamir Gulzar\\KSA_project2\\dataset\\patch_data\\TCGA-CL-4957_nonMSIH\\TCGA-CL-4957_nonMSIH_x44112_y7232_patch02757.png: File D:\\Aamir Gulzar\\KSA_project2\\dataset\\Features\\Uni_2h_fivecrop\\TCGA-CL-4957_nonMSIH\\TCGA-CL-4957_nonMSIH_x44112_y7232_patch02757.pt cannot be opened.\n",
      "ERROR:__main__:Error saving D:\\Aamir Gulzar\\KSA_project2\\dataset\\patch_data\\TCGA-CL-4957_nonMSIH\\TCGA-CL-4957_nonMSIH_x44112_y8768_patch02760.png: File D:\\Aamir Gulzar\\KSA_project2\\dataset\\Features\\Uni_2h_fivecrop\\TCGA-CL-4957_nonMSIH\\TCGA-CL-4957_nonMSIH_x44112_y8768_patch02760.pt cannot be opened.\n",
      "ERROR:__main__:Error saving D:\\Aamir Gulzar\\KSA_project2\\dataset\\patch_data\\TCGA-CL-4957_nonMSIH\\TCGA-CL-4957_nonMSIH_x44112_y7744_patch02758.png: File D:\\Aamir Gulzar\\KSA_project2\\dataset\\Features\\Uni_2h_fivecrop\\TCGA-CL-4957_nonMSIH\\TCGA-CL-4957_nonMSIH_x44112_y7744_patch02758.pt cannot be opened.\n",
      "ERROR:__main__:Error saving D:\\Aamir Gulzar\\KSA_project2\\dataset\\patch_data\\TCGA-CL-4957_nonMSIH\\TCGA-CL-4957_nonMSIH_x44112_y8256_patch02759.png: File D:\\Aamir Gulzar\\KSA_project2\\dataset\\Features\\Uni_2h_fivecrop\\TCGA-CL-4957_nonMSIH\\TCGA-CL-4957_nonMSIH_x44112_y8256_patch02759.pt cannot be opened.\n",
      "ERROR:__main__:Error saving D:\\Aamir Gulzar\\KSA_project2\\dataset\\patch_data\\TCGA-CL-4957_nonMSIH\\TCGA-CL-4957_nonMSIH_x44112_y9280_patch02761.png: File D:\\Aamir Gulzar\\KSA_project2\\dataset\\Features\\Uni_2h_fivecrop\\TCGA-CL-4957_nonMSIH\\TCGA-CL-4957_nonMSIH_x44112_y9280_patch02761.pt cannot be opened.\n",
      "ERROR:__main__:Error saving D:\\Aamir Gulzar\\KSA_project2\\dataset\\patch_data\\TCGA-CL-4957_nonMSIH\\TCGA-CL-4957_nonMSIH_x44112_y9792_patch02762.png: File D:\\Aamir Gulzar\\KSA_project2\\dataset\\Features\\Uni_2h_fivecrop\\TCGA-CL-4957_nonMSIH\\TCGA-CL-4957_nonMSIH_x44112_y9792_patch02762.pt cannot be opened.\n",
      "ERROR:__main__:Error saving D:\\Aamir Gulzar\\KSA_project2\\dataset\\patch_data\\TCGA-CL-4957_nonMSIH\\TCGA-CL-4957_nonMSIH_x44624_y10304_patch02807.png: File D:\\Aamir Gulzar\\KSA_project2\\dataset\\Features\\Uni_2h_fivecrop\\TCGA-CL-4957_nonMSIH\\TCGA-CL-4957_nonMSIH_x44624_y10304_patch02807.pt cannot be opened.\n",
      "ERROR:__main__:Error saving D:\\Aamir Gulzar\\KSA_project2\\dataset\\patch_data\\TCGA-CL-4957_nonMSIH\\TCGA-CL-4957_nonMSIH_x44624_y10816_patch02808.png: File D:\\Aamir Gulzar\\KSA_project2\\dataset\\Features\\Uni_2h_fivecrop\\TCGA-CL-4957_nonMSIH\\TCGA-CL-4957_nonMSIH_x44624_y10816_patch02808.pt cannot be opened.\n",
      "ERROR:__main__:Error saving D:\\Aamir Gulzar\\KSA_project2\\dataset\\patch_data\\TCGA-CL-4957_nonMSIH\\TCGA-CL-4957_nonMSIH_x44624_y11328_patch02809.png: File D:\\Aamir Gulzar\\KSA_project2\\dataset\\Features\\Uni_2h_fivecrop\\TCGA-CL-4957_nonMSIH\\TCGA-CL-4957_nonMSIH_x44624_y11328_patch02809.pt cannot be opened.\n",
      "ERROR:__main__:Error saving D:\\Aamir Gulzar\\KSA_project2\\dataset\\patch_data\\TCGA-CL-4957_nonMSIH\\TCGA-CL-4957_nonMSIH_x44624_y11840_patch02810.png: File D:\\Aamir Gulzar\\KSA_project2\\dataset\\Features\\Uni_2h_fivecrop\\TCGA-CL-4957_nonMSIH\\TCGA-CL-4957_nonMSIH_x44624_y11840_patch02810.pt cannot be opened.\n",
      "ERROR:__main__:Error saving D:\\Aamir Gulzar\\KSA_project2\\dataset\\patch_data\\TCGA-CL-4957_nonMSIH\\TCGA-CL-4957_nonMSIH_x44624_y12352_patch02811.png: File D:\\Aamir Gulzar\\KSA_project2\\dataset\\Features\\Uni_2h_fivecrop\\TCGA-CL-4957_nonMSIH\\TCGA-CL-4957_nonMSIH_x44624_y12352_patch02811.pt cannot be opened.\n",
      "ERROR:__main__:Error saving D:\\Aamir Gulzar\\KSA_project2\\dataset\\patch_data\\TCGA-CL-4957_nonMSIH\\TCGA-CL-4957_nonMSIH_x44624_y12864_patch02812.png: File D:\\Aamir Gulzar\\KSA_project2\\dataset\\Features\\Uni_2h_fivecrop\\TCGA-CL-4957_nonMSIH\\TCGA-CL-4957_nonMSIH_x44624_y12864_patch02812.pt cannot be opened.\n",
      "ERROR:__main__:Error saving D:\\Aamir Gulzar\\KSA_project2\\dataset\\patch_data\\TCGA-CL-4957_nonMSIH\\TCGA-CL-4957_nonMSIH_x44624_y14912_patch02813.png: File D:\\Aamir Gulzar\\KSA_project2\\dataset\\Features\\Uni_2h_fivecrop\\TCGA-CL-4957_nonMSIH\\TCGA-CL-4957_nonMSIH_x44624_y14912_patch02813.pt cannot be opened.\n",
      "ERROR:__main__:Error saving D:\\Aamir Gulzar\\KSA_project2\\dataset\\patch_data\\TCGA-CL-4957_nonMSIH\\TCGA-CL-4957_nonMSIH_x44624_y15424_patch02814.png: File D:\\Aamir Gulzar\\KSA_project2\\dataset\\Features\\Uni_2h_fivecrop\\TCGA-CL-4957_nonMSIH\\TCGA-CL-4957_nonMSIH_x44624_y15424_patch02814.pt cannot be opened.\n",
      "ERROR:__main__:Error saving D:\\Aamir Gulzar\\KSA_project2\\dataset\\patch_data\\TCGA-CL-4957_nonMSIH\\TCGA-CL-4957_nonMSIH_x44624_y15936_patch02815.png: File D:\\Aamir Gulzar\\KSA_project2\\dataset\\Features\\Uni_2h_fivecrop\\TCGA-CL-4957_nonMSIH\\TCGA-CL-4957_nonMSIH_x44624_y15936_patch02815.pt cannot be opened.\n",
      "ERROR:__main__:Error saving D:\\Aamir Gulzar\\KSA_project2\\dataset\\patch_data\\TCGA-CL-4957_nonMSIH\\TCGA-CL-4957_nonMSIH_x44624_y1600_patch02790.png: File D:\\Aamir Gulzar\\KSA_project2\\dataset\\Features\\Uni_2h_fivecrop\\TCGA-CL-4957_nonMSIH\\TCGA-CL-4957_nonMSIH_x44624_y1600_patch02790.pt cannot be opened.\n",
      "ERROR:__main__:Error saving D:\\Aamir Gulzar\\KSA_project2\\dataset\\patch_data\\TCGA-CL-4957_nonMSIH\\TCGA-CL-4957_nonMSIH_x44624_y16448_patch02816.png: File D:\\Aamir Gulzar\\KSA_project2\\dataset\\Features\\Uni_2h_fivecrop\\TCGA-CL-4957_nonMSIH\\TCGA-CL-4957_nonMSIH_x44624_y16448_patch02816.pt cannot be opened.\n",
      "ERROR:__main__:Error saving D:\\Aamir Gulzar\\KSA_project2\\dataset\\patch_data\\TCGA-CL-4957_nonMSIH\\TCGA-CL-4957_nonMSIH_x44624_y16960_patch02817.png: File D:\\Aamir Gulzar\\KSA_project2\\dataset\\Features\\Uni_2h_fivecrop\\TCGA-CL-4957_nonMSIH\\TCGA-CL-4957_nonMSIH_x44624_y16960_patch02817.pt cannot be opened.\n",
      "ERROR:__main__:Error saving D:\\Aamir Gulzar\\KSA_project2\\dataset\\patch_data\\TCGA-CL-4957_nonMSIH\\TCGA-CL-4957_nonMSIH_x44624_y17472_patch02818.png: File D:\\Aamir Gulzar\\KSA_project2\\dataset\\Features\\Uni_2h_fivecrop\\TCGA-CL-4957_nonMSIH\\TCGA-CL-4957_nonMSIH_x44624_y17472_patch02818.pt cannot be opened.\n",
      "ERROR:__main__:Error saving D:\\Aamir Gulzar\\KSA_project2\\dataset\\patch_data\\TCGA-CL-4957_nonMSIH\\TCGA-CL-4957_nonMSIH_x44624_y17984_patch02819.png: File D:\\Aamir Gulzar\\KSA_project2\\dataset\\Features\\Uni_2h_fivecrop\\TCGA-CL-4957_nonMSIH\\TCGA-CL-4957_nonMSIH_x44624_y17984_patch02819.pt cannot be opened.\n",
      "ERROR:__main__:Error saving D:\\Aamir Gulzar\\KSA_project2\\dataset\\patch_data\\TCGA-CL-4957_nonMSIH\\TCGA-CL-4957_nonMSIH_x44624_y18496_patch02820.png: File D:\\Aamir Gulzar\\KSA_project2\\dataset\\Features\\Uni_2h_fivecrop\\TCGA-CL-4957_nonMSIH\\TCGA-CL-4957_nonMSIH_x44624_y18496_patch02820.pt cannot be opened.\n",
      "ERROR:__main__:Error saving D:\\Aamir Gulzar\\KSA_project2\\dataset\\patch_data\\TCGA-CL-4957_nonMSIH\\TCGA-CL-4957_nonMSIH_x44624_y19008_patch02821.png: File D:\\Aamir Gulzar\\KSA_project2\\dataset\\Features\\Uni_2h_fivecrop\\TCGA-CL-4957_nonMSIH\\TCGA-CL-4957_nonMSIH_x44624_y19008_patch02821.pt cannot be opened.\n",
      "ERROR:__main__:Error saving D:\\Aamir Gulzar\\KSA_project2\\dataset\\patch_data\\TCGA-CL-4957_nonMSIH\\TCGA-CL-4957_nonMSIH_x44624_y19520_patch02822.png: File D:\\Aamir Gulzar\\KSA_project2\\dataset\\Features\\Uni_2h_fivecrop\\TCGA-CL-4957_nonMSIH\\TCGA-CL-4957_nonMSIH_x44624_y19520_patch02822.pt cannot be opened.\n",
      "ERROR:__main__:Error saving D:\\Aamir Gulzar\\KSA_project2\\dataset\\patch_data\\TCGA-CL-4957_nonMSIH\\TCGA-CL-4957_nonMSIH_x44624_y20032_patch02823.png: File D:\\Aamir Gulzar\\KSA_project2\\dataset\\Features\\Uni_2h_fivecrop\\TCGA-CL-4957_nonMSIH\\TCGA-CL-4957_nonMSIH_x44624_y20032_patch02823.pt cannot be opened.\n",
      "ERROR:__main__:Error saving D:\\Aamir Gulzar\\KSA_project2\\dataset\\patch_data\\TCGA-CL-4957_nonMSIH\\TCGA-CL-4957_nonMSIH_x44624_y20544_patch02824.png: File D:\\Aamir Gulzar\\KSA_project2\\dataset\\Features\\Uni_2h_fivecrop\\TCGA-CL-4957_nonMSIH\\TCGA-CL-4957_nonMSIH_x44624_y20544_patch02824.pt cannot be opened.\n",
      "ERROR:__main__:Error saving D:\\Aamir Gulzar\\KSA_project2\\dataset\\patch_data\\TCGA-CL-4957_nonMSIH\\TCGA-CL-4957_nonMSIH_x44624_y21056_patch02825.png: File D:\\Aamir Gulzar\\KSA_project2\\dataset\\Features\\Uni_2h_fivecrop\\TCGA-CL-4957_nonMSIH\\TCGA-CL-4957_nonMSIH_x44624_y21056_patch02825.pt cannot be opened.\n",
      "ERROR:__main__:Error saving D:\\Aamir Gulzar\\KSA_project2\\dataset\\patch_data\\TCGA-CL-4957_nonMSIH\\TCGA-CL-4957_nonMSIH_x44624_y2112_patch02791.png: File D:\\Aamir Gulzar\\KSA_project2\\dataset\\Features\\Uni_2h_fivecrop\\TCGA-CL-4957_nonMSIH\\TCGA-CL-4957_nonMSIH_x44624_y2112_patch02791.pt cannot be opened.\n",
      "ERROR:__main__:Error saving D:\\Aamir Gulzar\\KSA_project2\\dataset\\patch_data\\TCGA-CL-4957_nonMSIH\\TCGA-CL-4957_nonMSIH_x44624_y21568_patch02826.png: File D:\\Aamir Gulzar\\KSA_project2\\dataset\\Features\\Uni_2h_fivecrop\\TCGA-CL-4957_nonMSIH\\TCGA-CL-4957_nonMSIH_x44624_y21568_patch02826.pt cannot be opened.\n",
      "ERROR:__main__:Error saving D:\\Aamir Gulzar\\KSA_project2\\dataset\\patch_data\\TCGA-CL-4957_nonMSIH\\TCGA-CL-4957_nonMSIH_x44624_y22080_patch02827.png: File D:\\Aamir Gulzar\\KSA_project2\\dataset\\Features\\Uni_2h_fivecrop\\TCGA-CL-4957_nonMSIH\\TCGA-CL-4957_nonMSIH_x44624_y22080_patch02827.pt cannot be opened.\n",
      "ERROR:__main__:Error saving D:\\Aamir Gulzar\\KSA_project2\\dataset\\patch_data\\TCGA-CL-4957_nonMSIH\\TCGA-CL-4957_nonMSIH_x44624_y22592_patch02828.png: File D:\\Aamir Gulzar\\KSA_project2\\dataset\\Features\\Uni_2h_fivecrop\\TCGA-CL-4957_nonMSIH\\TCGA-CL-4957_nonMSIH_x44624_y22592_patch02828.pt cannot be opened.\n",
      "ERROR:__main__:Error saving D:\\Aamir Gulzar\\KSA_project2\\dataset\\patch_data\\TCGA-CL-4957_nonMSIH\\TCGA-CL-4957_nonMSIH_x44624_y23104_patch02829.png: File D:\\Aamir Gulzar\\KSA_project2\\dataset\\Features\\Uni_2h_fivecrop\\TCGA-CL-4957_nonMSIH\\TCGA-CL-4957_nonMSIH_x44624_y23104_patch02829.pt cannot be opened.\n",
      "ERROR:__main__:Error saving D:\\Aamir Gulzar\\KSA_project2\\dataset\\patch_data\\TCGA-CL-4957_nonMSIH\\TCGA-CL-4957_nonMSIH_x44624_y23616_patch02830.png: File D:\\Aamir Gulzar\\KSA_project2\\dataset\\Features\\Uni_2h_fivecrop\\TCGA-CL-4957_nonMSIH\\TCGA-CL-4957_nonMSIH_x44624_y23616_patch02830.pt cannot be opened.\n",
      "ERROR:__main__:Error saving D:\\Aamir Gulzar\\KSA_project2\\dataset\\patch_data\\TCGA-CL-4957_nonMSIH\\TCGA-CL-4957_nonMSIH_x44624_y2624_patch02792.png: File D:\\Aamir Gulzar\\KSA_project2\\dataset\\Features\\Uni_2h_fivecrop\\TCGA-CL-4957_nonMSIH\\TCGA-CL-4957_nonMSIH_x44624_y2624_patch02792.pt cannot be opened.\n",
      "ERROR:__main__:Error saving D:\\Aamir Gulzar\\KSA_project2\\dataset\\patch_data\\TCGA-CL-4957_nonMSIH\\TCGA-CL-4957_nonMSIH_x44624_y3136_patch02793.png: File D:\\Aamir Gulzar\\KSA_project2\\dataset\\Features\\Uni_2h_fivecrop\\TCGA-CL-4957_nonMSIH\\TCGA-CL-4957_nonMSIH_x44624_y3136_patch02793.pt cannot be opened.\n",
      "ERROR:__main__:Error saving D:\\Aamir Gulzar\\KSA_project2\\dataset\\patch_data\\TCGA-CL-4957_nonMSIH\\TCGA-CL-4957_nonMSIH_x44624_y3648_patch02794.png: File D:\\Aamir Gulzar\\KSA_project2\\dataset\\Features\\Uni_2h_fivecrop\\TCGA-CL-4957_nonMSIH\\TCGA-CL-4957_nonMSIH_x44624_y3648_patch02794.pt cannot be opened.\n",
      "ERROR:__main__:Error saving D:\\Aamir Gulzar\\KSA_project2\\dataset\\patch_data\\TCGA-CL-4957_nonMSIH\\TCGA-CL-4957_nonMSIH_x44624_y4672_patch02796.png: File D:\\Aamir Gulzar\\KSA_project2\\dataset\\Features\\Uni_2h_fivecrop\\TCGA-CL-4957_nonMSIH\\TCGA-CL-4957_nonMSIH_x44624_y4672_patch02796.pt cannot be opened.\n",
      "ERROR:__main__:Error saving D:\\Aamir Gulzar\\KSA_project2\\dataset\\patch_data\\TCGA-CL-4957_nonMSIH\\TCGA-CL-4957_nonMSIH_x44624_y4160_patch02795.png: File D:\\Aamir Gulzar\\KSA_project2\\dataset\\Features\\Uni_2h_fivecrop\\TCGA-CL-4957_nonMSIH\\TCGA-CL-4957_nonMSIH_x44624_y4160_patch02795.pt cannot be opened.\n",
      "ERROR:__main__:Error saving D:\\Aamir Gulzar\\KSA_project2\\dataset\\patch_data\\TCGA-CL-4957_nonMSIH\\TCGA-CL-4957_nonMSIH_x44624_y5696_patch02798.png: File D:\\Aamir Gulzar\\KSA_project2\\dataset\\Features\\Uni_2h_fivecrop\\TCGA-CL-4957_nonMSIH\\TCGA-CL-4957_nonMSIH_x44624_y5696_patch02798.pt cannot be opened.\n",
      "ERROR:__main__:Error saving D:\\Aamir Gulzar\\KSA_project2\\dataset\\patch_data\\TCGA-CL-4957_nonMSIH\\TCGA-CL-4957_nonMSIH_x44624_y5184_patch02797.png: File D:\\Aamir Gulzar\\KSA_project2\\dataset\\Features\\Uni_2h_fivecrop\\TCGA-CL-4957_nonMSIH\\TCGA-CL-4957_nonMSIH_x44624_y5184_patch02797.pt cannot be opened.\n",
      "ERROR:__main__:Error saving D:\\Aamir Gulzar\\KSA_project2\\dataset\\patch_data\\TCGA-CL-4957_nonMSIH\\TCGA-CL-4957_nonMSIH_x44624_y6208_patch02799.png: File D:\\Aamir Gulzar\\KSA_project2\\dataset\\Features\\Uni_2h_fivecrop\\TCGA-CL-4957_nonMSIH\\TCGA-CL-4957_nonMSIH_x44624_y6208_patch02799.pt cannot be opened.\n",
      "ERROR:__main__:Error saving D:\\Aamir Gulzar\\KSA_project2\\dataset\\patch_data\\TCGA-CL-4957_nonMSIH\\TCGA-CL-4957_nonMSIH_x44624_y6720_patch02800.png: File D:\\Aamir Gulzar\\KSA_project2\\dataset\\Features\\Uni_2h_fivecrop\\TCGA-CL-4957_nonMSIH\\TCGA-CL-4957_nonMSIH_x44624_y6720_patch02800.pt cannot be opened.\n",
      "ERROR:__main__:Error saving D:\\Aamir Gulzar\\KSA_project2\\dataset\\patch_data\\TCGA-CL-4957_nonMSIH\\TCGA-CL-4957_nonMSIH_x44624_y7232_patch02801.png: File D:\\Aamir Gulzar\\KSA_project2\\dataset\\Features\\Uni_2h_fivecrop\\TCGA-CL-4957_nonMSIH\\TCGA-CL-4957_nonMSIH_x44624_y7232_patch02801.pt cannot be opened.\n",
      "ERROR:__main__:Error saving D:\\Aamir Gulzar\\KSA_project2\\dataset\\patch_data\\TCGA-CL-4957_nonMSIH\\TCGA-CL-4957_nonMSIH_x44624_y7744_patch02802.png: File D:\\Aamir Gulzar\\KSA_project2\\dataset\\Features\\Uni_2h_fivecrop\\TCGA-CL-4957_nonMSIH\\TCGA-CL-4957_nonMSIH_x44624_y7744_patch02802.pt cannot be opened.\n",
      "ERROR:__main__:Error saving D:\\Aamir Gulzar\\KSA_project2\\dataset\\patch_data\\TCGA-CL-4957_nonMSIH\\TCGA-CL-4957_nonMSIH_x44624_y8256_patch02803.png: File D:\\Aamir Gulzar\\KSA_project2\\dataset\\Features\\Uni_2h_fivecrop\\TCGA-CL-4957_nonMSIH\\TCGA-CL-4957_nonMSIH_x44624_y8256_patch02803.pt cannot be opened.\n",
      "ERROR:__main__:Error saving D:\\Aamir Gulzar\\KSA_project2\\dataset\\patch_data\\TCGA-CL-4957_nonMSIH\\TCGA-CL-4957_nonMSIH_x44624_y8768_patch02804.png: File D:\\Aamir Gulzar\\KSA_project2\\dataset\\Features\\Uni_2h_fivecrop\\TCGA-CL-4957_nonMSIH\\TCGA-CL-4957_nonMSIH_x44624_y8768_patch02804.pt cannot be opened.\n",
      "ERROR:__main__:Error saving D:\\Aamir Gulzar\\KSA_project2\\dataset\\patch_data\\TCGA-CL-4957_nonMSIH\\TCGA-CL-4957_nonMSIH_x44624_y9280_patch02805.png: File D:\\Aamir Gulzar\\KSA_project2\\dataset\\Features\\Uni_2h_fivecrop\\TCGA-CL-4957_nonMSIH\\TCGA-CL-4957_nonMSIH_x44624_y9280_patch02805.pt cannot be opened.\n",
      "ERROR:__main__:Error saving D:\\Aamir Gulzar\\KSA_project2\\dataset\\patch_data\\TCGA-CL-4957_nonMSIH\\TCGA-CL-4957_nonMSIH_x44624_y9792_patch02806.png: File D:\\Aamir Gulzar\\KSA_project2\\dataset\\Features\\Uni_2h_fivecrop\\TCGA-CL-4957_nonMSIH\\TCGA-CL-4957_nonMSIH_x44624_y9792_patch02806.pt cannot be opened.\n",
      "ERROR:__main__:Error saving D:\\Aamir Gulzar\\KSA_project2\\dataset\\patch_data\\TCGA-CL-4957_nonMSIH\\TCGA-CL-4957_nonMSIH_x45136_y10304_patch02848.png: File D:\\Aamir Gulzar\\KSA_project2\\dataset\\Features\\Uni_2h_fivecrop\\TCGA-CL-4957_nonMSIH\\TCGA-CL-4957_nonMSIH_x45136_y10304_patch02848.pt cannot be opened.\n",
      "ERROR:__main__:Error saving D:\\Aamir Gulzar\\KSA_project2\\dataset\\patch_data\\TCGA-CL-4957_nonMSIH\\TCGA-CL-4957_nonMSIH_x45136_y10816_patch02849.png: File D:\\Aamir Gulzar\\KSA_project2\\dataset\\Features\\Uni_2h_fivecrop\\TCGA-CL-4957_nonMSIH\\TCGA-CL-4957_nonMSIH_x45136_y10816_patch02849.pt cannot be opened.\n",
      "ERROR:__main__:Error saving D:\\Aamir Gulzar\\KSA_project2\\dataset\\patch_data\\TCGA-CL-4957_nonMSIH\\TCGA-CL-4957_nonMSIH_x45136_y11328_patch02850.png: File D:\\Aamir Gulzar\\KSA_project2\\dataset\\Features\\Uni_2h_fivecrop\\TCGA-CL-4957_nonMSIH\\TCGA-CL-4957_nonMSIH_x45136_y11328_patch02850.pt cannot be opened.\n",
      "ERROR:__main__:Error saving D:\\Aamir Gulzar\\KSA_project2\\dataset\\patch_data\\TCGA-CL-4957_nonMSIH\\TCGA-CL-4957_nonMSIH_x45136_y11840_patch02851.png: File D:\\Aamir Gulzar\\KSA_project2\\dataset\\Features\\Uni_2h_fivecrop\\TCGA-CL-4957_nonMSIH\\TCGA-CL-4957_nonMSIH_x45136_y11840_patch02851.pt cannot be opened.\n",
      "ERROR:__main__:Error saving D:\\Aamir Gulzar\\KSA_project2\\dataset\\patch_data\\TCGA-CL-4957_nonMSIH\\TCGA-CL-4957_nonMSIH_x45136_y12352_patch02852.png: File D:\\Aamir Gulzar\\KSA_project2\\dataset\\Features\\Uni_2h_fivecrop\\TCGA-CL-4957_nonMSIH\\TCGA-CL-4957_nonMSIH_x45136_y12352_patch02852.pt cannot be opened.\n",
      "ERROR:__main__:Error saving D:\\Aamir Gulzar\\KSA_project2\\dataset\\patch_data\\TCGA-CL-4957_nonMSIH\\TCGA-CL-4957_nonMSIH_x45136_y12864_patch02853.png: File D:\\Aamir Gulzar\\KSA_project2\\dataset\\Features\\Uni_2h_fivecrop\\TCGA-CL-4957_nonMSIH\\TCGA-CL-4957_nonMSIH_x45136_y12864_patch02853.pt cannot be opened.\n",
      "ERROR:__main__:Error saving D:\\Aamir Gulzar\\KSA_project2\\dataset\\patch_data\\TCGA-CL-4957_nonMSIH\\TCGA-CL-4957_nonMSIH_x45136_y14912_patch02854.png: File D:\\Aamir Gulzar\\KSA_project2\\dataset\\Features\\Uni_2h_fivecrop\\TCGA-CL-4957_nonMSIH\\TCGA-CL-4957_nonMSIH_x45136_y14912_patch02854.pt cannot be opened.\n",
      "ERROR:__main__:Error saving D:\\Aamir Gulzar\\KSA_project2\\dataset\\patch_data\\TCGA-CL-4957_nonMSIH\\TCGA-CL-4957_nonMSIH_x45136_y15424_patch02855.png: File D:\\Aamir Gulzar\\KSA_project2\\dataset\\Features\\Uni_2h_fivecrop\\TCGA-CL-4957_nonMSIH\\TCGA-CL-4957_nonMSIH_x45136_y15424_patch02855.pt cannot be opened.\n",
      "ERROR:__main__:Error saving D:\\Aamir Gulzar\\KSA_project2\\dataset\\patch_data\\TCGA-CL-4957_nonMSIH\\TCGA-CL-4957_nonMSIH_x45136_y15936_patch02856.png: File D:\\Aamir Gulzar\\KSA_project2\\dataset\\Features\\Uni_2h_fivecrop\\TCGA-CL-4957_nonMSIH\\TCGA-CL-4957_nonMSIH_x45136_y15936_patch02856.pt cannot be opened.\n",
      "ERROR:__main__:Error saving D:\\Aamir Gulzar\\KSA_project2\\dataset\\patch_data\\TCGA-CL-4957_nonMSIH\\TCGA-CL-4957_nonMSIH_x45136_y1600_patch02831.png: File D:\\Aamir Gulzar\\KSA_project2\\dataset\\Features\\Uni_2h_fivecrop\\TCGA-CL-4957_nonMSIH\\TCGA-CL-4957_nonMSIH_x45136_y1600_patch02831.pt cannot be opened.\n",
      "ERROR:__main__:Error saving D:\\Aamir Gulzar\\KSA_project2\\dataset\\patch_data\\TCGA-CL-4957_nonMSIH\\TCGA-CL-4957_nonMSIH_x45136_y16448_patch02857.png: File D:\\Aamir Gulzar\\KSA_project2\\dataset\\Features\\Uni_2h_fivecrop\\TCGA-CL-4957_nonMSIH\\TCGA-CL-4957_nonMSIH_x45136_y16448_patch02857.pt cannot be opened.\n",
      "ERROR:__main__:Error saving D:\\Aamir Gulzar\\KSA_project2\\dataset\\patch_data\\TCGA-CL-4957_nonMSIH\\TCGA-CL-4957_nonMSIH_x45136_y16960_patch02858.png: File D:\\Aamir Gulzar\\KSA_project2\\dataset\\Features\\Uni_2h_fivecrop\\TCGA-CL-4957_nonMSIH\\TCGA-CL-4957_nonMSIH_x45136_y16960_patch02858.pt cannot be opened.\n",
      "ERROR:__main__:Error saving D:\\Aamir Gulzar\\KSA_project2\\dataset\\patch_data\\TCGA-CL-4957_nonMSIH\\TCGA-CL-4957_nonMSIH_x45136_y17472_patch02859.png: File D:\\Aamir Gulzar\\KSA_project2\\dataset\\Features\\Uni_2h_fivecrop\\TCGA-CL-4957_nonMSIH\\TCGA-CL-4957_nonMSIH_x45136_y17472_patch02859.pt cannot be opened.\n",
      "ERROR:__main__:Error saving D:\\Aamir Gulzar\\KSA_project2\\dataset\\patch_data\\TCGA-CL-4957_nonMSIH\\TCGA-CL-4957_nonMSIH_x45136_y17984_patch02860.png: File D:\\Aamir Gulzar\\KSA_project2\\dataset\\Features\\Uni_2h_fivecrop\\TCGA-CL-4957_nonMSIH\\TCGA-CL-4957_nonMSIH_x45136_y17984_patch02860.pt cannot be opened.\n",
      "ERROR:__main__:Error saving D:\\Aamir Gulzar\\KSA_project2\\dataset\\patch_data\\TCGA-CL-4957_nonMSIH\\TCGA-CL-4957_nonMSIH_x45136_y18496_patch02861.png: File D:\\Aamir Gulzar\\KSA_project2\\dataset\\Features\\Uni_2h_fivecrop\\TCGA-CL-4957_nonMSIH\\TCGA-CL-4957_nonMSIH_x45136_y18496_patch02861.pt cannot be opened.\n",
      "ERROR:__main__:Error saving D:\\Aamir Gulzar\\KSA_project2\\dataset\\patch_data\\TCGA-CL-4957_nonMSIH\\TCGA-CL-4957_nonMSIH_x45136_y19008_patch02862.png: File D:\\Aamir Gulzar\\KSA_project2\\dataset\\Features\\Uni_2h_fivecrop\\TCGA-CL-4957_nonMSIH\\TCGA-CL-4957_nonMSIH_x45136_y19008_patch02862.pt cannot be opened.\n",
      "ERROR:__main__:Error saving D:\\Aamir Gulzar\\KSA_project2\\dataset\\patch_data\\TCGA-CL-4957_nonMSIH\\TCGA-CL-4957_nonMSIH_x45136_y19520_patch02863.png: File D:\\Aamir Gulzar\\KSA_project2\\dataset\\Features\\Uni_2h_fivecrop\\TCGA-CL-4957_nonMSIH\\TCGA-CL-4957_nonMSIH_x45136_y19520_patch02863.pt cannot be opened.\n",
      "ERROR:__main__:Error saving D:\\Aamir Gulzar\\KSA_project2\\dataset\\patch_data\\TCGA-CL-4957_nonMSIH\\TCGA-CL-4957_nonMSIH_x45136_y20032_patch02864.png: File D:\\Aamir Gulzar\\KSA_project2\\dataset\\Features\\Uni_2h_fivecrop\\TCGA-CL-4957_nonMSIH\\TCGA-CL-4957_nonMSIH_x45136_y20032_patch02864.pt cannot be opened.\n",
      "ERROR:__main__:Error saving D:\\Aamir Gulzar\\KSA_project2\\dataset\\patch_data\\TCGA-CL-4957_nonMSIH\\TCGA-CL-4957_nonMSIH_x45136_y21056_patch02866.png: File D:\\Aamir Gulzar\\KSA_project2\\dataset\\Features\\Uni_2h_fivecrop\\TCGA-CL-4957_nonMSIH\\TCGA-CL-4957_nonMSIH_x45136_y21056_patch02866.pt cannot be opened.\n",
      "ERROR:__main__:Error saving D:\\Aamir Gulzar\\KSA_project2\\dataset\\patch_data\\TCGA-CL-4957_nonMSIH\\TCGA-CL-4957_nonMSIH_x45136_y20544_patch02865.png: File D:\\Aamir Gulzar\\KSA_project2\\dataset\\Features\\Uni_2h_fivecrop\\TCGA-CL-4957_nonMSIH\\TCGA-CL-4957_nonMSIH_x45136_y20544_patch02865.pt cannot be opened.\n",
      "ERROR:__main__:Error saving D:\\Aamir Gulzar\\KSA_project2\\dataset\\patch_data\\TCGA-CL-4957_nonMSIH\\TCGA-CL-4957_nonMSIH_x45136_y2112_patch02832.png: File D:\\Aamir Gulzar\\KSA_project2\\dataset\\Features\\Uni_2h_fivecrop\\TCGA-CL-4957_nonMSIH\\TCGA-CL-4957_nonMSIH_x45136_y2112_patch02832.pt cannot be opened.\n",
      "ERROR:__main__:Error saving D:\\Aamir Gulzar\\KSA_project2\\dataset\\patch_data\\TCGA-CL-4957_nonMSIH\\TCGA-CL-4957_nonMSIH_x45136_y21568_patch02867.png: File D:\\Aamir Gulzar\\KSA_project2\\dataset\\Features\\Uni_2h_fivecrop\\TCGA-CL-4957_nonMSIH\\TCGA-CL-4957_nonMSIH_x45136_y21568_patch02867.pt cannot be opened.\n",
      "ERROR:__main__:Error saving D:\\Aamir Gulzar\\KSA_project2\\dataset\\patch_data\\TCGA-CL-4957_nonMSIH\\TCGA-CL-4957_nonMSIH_x45136_y22080_patch02868.png: File D:\\Aamir Gulzar\\KSA_project2\\dataset\\Features\\Uni_2h_fivecrop\\TCGA-CL-4957_nonMSIH\\TCGA-CL-4957_nonMSIH_x45136_y22080_patch02868.pt cannot be opened.\n",
      "ERROR:__main__:Error saving D:\\Aamir Gulzar\\KSA_project2\\dataset\\patch_data\\TCGA-CL-4957_nonMSIH\\TCGA-CL-4957_nonMSIH_x45136_y22592_patch02869.png: File D:\\Aamir Gulzar\\KSA_project2\\dataset\\Features\\Uni_2h_fivecrop\\TCGA-CL-4957_nonMSIH\\TCGA-CL-4957_nonMSIH_x45136_y22592_patch02869.pt cannot be opened.\n",
      "ERROR:__main__:Error saving D:\\Aamir Gulzar\\KSA_project2\\dataset\\patch_data\\TCGA-CL-4957_nonMSIH\\TCGA-CL-4957_nonMSIH_x45136_y23104_patch02870.png: File D:\\Aamir Gulzar\\KSA_project2\\dataset\\Features\\Uni_2h_fivecrop\\TCGA-CL-4957_nonMSIH\\TCGA-CL-4957_nonMSIH_x45136_y23104_patch02870.pt cannot be opened.\n",
      "ERROR:__main__:Error saving D:\\Aamir Gulzar\\KSA_project2\\dataset\\patch_data\\TCGA-CL-4957_nonMSIH\\TCGA-CL-4957_nonMSIH_x45136_y2624_patch02833.png: File D:\\Aamir Gulzar\\KSA_project2\\dataset\\Features\\Uni_2h_fivecrop\\TCGA-CL-4957_nonMSIH\\TCGA-CL-4957_nonMSIH_x45136_y2624_patch02833.pt cannot be opened.\n",
      "ERROR:__main__:Error saving D:\\Aamir Gulzar\\KSA_project2\\dataset\\patch_data\\TCGA-CL-4957_nonMSIH\\TCGA-CL-4957_nonMSIH_x45136_y3136_patch02834.png: File D:\\Aamir Gulzar\\KSA_project2\\dataset\\Features\\Uni_2h_fivecrop\\TCGA-CL-4957_nonMSIH\\TCGA-CL-4957_nonMSIH_x45136_y3136_patch02834.pt cannot be opened.\n",
      "ERROR:__main__:Error saving D:\\Aamir Gulzar\\KSA_project2\\dataset\\patch_data\\TCGA-CL-4957_nonMSIH\\TCGA-CL-4957_nonMSIH_x45136_y3648_patch02835.png: File D:\\Aamir Gulzar\\KSA_project2\\dataset\\Features\\Uni_2h_fivecrop\\TCGA-CL-4957_nonMSIH\\TCGA-CL-4957_nonMSIH_x45136_y3648_patch02835.pt cannot be opened.\n",
      "ERROR:__main__:Error saving D:\\Aamir Gulzar\\KSA_project2\\dataset\\patch_data\\TCGA-CL-4957_nonMSIH\\TCGA-CL-4957_nonMSIH_x45136_y4160_patch02836.png: File D:\\Aamir Gulzar\\KSA_project2\\dataset\\Features\\Uni_2h_fivecrop\\TCGA-CL-4957_nonMSIH\\TCGA-CL-4957_nonMSIH_x45136_y4160_patch02836.pt cannot be opened.\n",
      "ERROR:__main__:Error saving D:\\Aamir Gulzar\\KSA_project2\\dataset\\patch_data\\TCGA-CL-4957_nonMSIH\\TCGA-CL-4957_nonMSIH_x45136_y4672_patch02837.png: File D:\\Aamir Gulzar\\KSA_project2\\dataset\\Features\\Uni_2h_fivecrop\\TCGA-CL-4957_nonMSIH\\TCGA-CL-4957_nonMSIH_x45136_y4672_patch02837.pt cannot be opened.\n",
      "ERROR:__main__:Error saving D:\\Aamir Gulzar\\KSA_project2\\dataset\\patch_data\\TCGA-CL-4957_nonMSIH\\TCGA-CL-4957_nonMSIH_x45136_y5184_patch02838.png: File D:\\Aamir Gulzar\\KSA_project2\\dataset\\Features\\Uni_2h_fivecrop\\TCGA-CL-4957_nonMSIH\\TCGA-CL-4957_nonMSIH_x45136_y5184_patch02838.pt cannot be opened.\n",
      "ERROR:__main__:Error saving D:\\Aamir Gulzar\\KSA_project2\\dataset\\patch_data\\TCGA-CL-4957_nonMSIH\\TCGA-CL-4957_nonMSIH_x45136_y5696_patch02839.png: File D:\\Aamir Gulzar\\KSA_project2\\dataset\\Features\\Uni_2h_fivecrop\\TCGA-CL-4957_nonMSIH\\TCGA-CL-4957_nonMSIH_x45136_y5696_patch02839.pt cannot be opened.\n",
      "ERROR:__main__:Error saving D:\\Aamir Gulzar\\KSA_project2\\dataset\\patch_data\\TCGA-CL-4957_nonMSIH\\TCGA-CL-4957_nonMSIH_x45136_y6208_patch02840.png: File D:\\Aamir Gulzar\\KSA_project2\\dataset\\Features\\Uni_2h_fivecrop\\TCGA-CL-4957_nonMSIH\\TCGA-CL-4957_nonMSIH_x45136_y6208_patch02840.pt cannot be opened.\n",
      "ERROR:__main__:Error saving D:\\Aamir Gulzar\\KSA_project2\\dataset\\patch_data\\TCGA-CL-4957_nonMSIH\\TCGA-CL-4957_nonMSIH_x45136_y6720_patch02841.png: File D:\\Aamir Gulzar\\KSA_project2\\dataset\\Features\\Uni_2h_fivecrop\\TCGA-CL-4957_nonMSIH\\TCGA-CL-4957_nonMSIH_x45136_y6720_patch02841.pt cannot be opened.\n",
      "ERROR:__main__:Error saving D:\\Aamir Gulzar\\KSA_project2\\dataset\\patch_data\\TCGA-CL-4957_nonMSIH\\TCGA-CL-4957_nonMSIH_x45136_y7232_patch02842.png: File D:\\Aamir Gulzar\\KSA_project2\\dataset\\Features\\Uni_2h_fivecrop\\TCGA-CL-4957_nonMSIH\\TCGA-CL-4957_nonMSIH_x45136_y7232_patch02842.pt cannot be opened.\n",
      "ERROR:__main__:Error saving D:\\Aamir Gulzar\\KSA_project2\\dataset\\patch_data\\TCGA-CL-4957_nonMSIH\\TCGA-CL-4957_nonMSIH_x45136_y7744_patch02843.png: File D:\\Aamir Gulzar\\KSA_project2\\dataset\\Features\\Uni_2h_fivecrop\\TCGA-CL-4957_nonMSIH\\TCGA-CL-4957_nonMSIH_x45136_y7744_patch02843.pt cannot be opened.\n",
      "ERROR:__main__:Error saving D:\\Aamir Gulzar\\KSA_project2\\dataset\\patch_data\\TCGA-CL-4957_nonMSIH\\TCGA-CL-4957_nonMSIH_x45136_y8256_patch02844.png: File D:\\Aamir Gulzar\\KSA_project2\\dataset\\Features\\Uni_2h_fivecrop\\TCGA-CL-4957_nonMSIH\\TCGA-CL-4957_nonMSIH_x45136_y8256_patch02844.pt cannot be opened.\n",
      "ERROR:__main__:Error saving D:\\Aamir Gulzar\\KSA_project2\\dataset\\patch_data\\TCGA-CL-4957_nonMSIH\\TCGA-CL-4957_nonMSIH_x45136_y8768_patch02845.png: File D:\\Aamir Gulzar\\KSA_project2\\dataset\\Features\\Uni_2h_fivecrop\\TCGA-CL-4957_nonMSIH\\TCGA-CL-4957_nonMSIH_x45136_y8768_patch02845.pt cannot be opened.\n",
      "ERROR:__main__:Error saving D:\\Aamir Gulzar\\KSA_project2\\dataset\\patch_data\\TCGA-CL-4957_nonMSIH\\TCGA-CL-4957_nonMSIH_x45136_y9792_patch02847.png: File D:\\Aamir Gulzar\\KSA_project2\\dataset\\Features\\Uni_2h_fivecrop\\TCGA-CL-4957_nonMSIH\\TCGA-CL-4957_nonMSIH_x45136_y9792_patch02847.pt cannot be opened.\n",
      "ERROR:__main__:Error saving D:\\Aamir Gulzar\\KSA_project2\\dataset\\patch_data\\TCGA-CL-4957_nonMSIH\\TCGA-CL-4957_nonMSIH_x45136_y9280_patch02846.png: File D:\\Aamir Gulzar\\KSA_project2\\dataset\\Features\\Uni_2h_fivecrop\\TCGA-CL-4957_nonMSIH\\TCGA-CL-4957_nonMSIH_x45136_y9280_patch02846.pt cannot be opened.\n",
      "ERROR:__main__:Error saving D:\\Aamir Gulzar\\KSA_project2\\dataset\\patch_data\\TCGA-CL-4957_nonMSIH\\TCGA-CL-4957_nonMSIH_x45648_y10304_patch02888.png: File D:\\Aamir Gulzar\\KSA_project2\\dataset\\Features\\Uni_2h_fivecrop\\TCGA-CL-4957_nonMSIH\\TCGA-CL-4957_nonMSIH_x45648_y10304_patch02888.pt cannot be opened.\n",
      "ERROR:__main__:Error saving D:\\Aamir Gulzar\\KSA_project2\\dataset\\patch_data\\TCGA-CL-4957_nonMSIH\\TCGA-CL-4957_nonMSIH_x45648_y10816_patch02889.png: File D:\\Aamir Gulzar\\KSA_project2\\dataset\\Features\\Uni_2h_fivecrop\\TCGA-CL-4957_nonMSIH\\TCGA-CL-4957_nonMSIH_x45648_y10816_patch02889.pt cannot be opened.\n",
      "ERROR:__main__:Error saving D:\\Aamir Gulzar\\KSA_project2\\dataset\\patch_data\\TCGA-CL-4957_nonMSIH\\TCGA-CL-4957_nonMSIH_x45648_y11328_patch02890.png: File D:\\Aamir Gulzar\\KSA_project2\\dataset\\Features\\Uni_2h_fivecrop\\TCGA-CL-4957_nonMSIH\\TCGA-CL-4957_nonMSIH_x45648_y11328_patch02890.pt cannot be opened.\n",
      "ERROR:__main__:Error saving D:\\Aamir Gulzar\\KSA_project2\\dataset\\patch_data\\TCGA-CL-4957_nonMSIH\\TCGA-CL-4957_nonMSIH_x45648_y11840_patch02891.png: File D:\\Aamir Gulzar\\KSA_project2\\dataset\\Features\\Uni_2h_fivecrop\\TCGA-CL-4957_nonMSIH\\TCGA-CL-4957_nonMSIH_x45648_y11840_patch02891.pt cannot be opened.\n",
      "ERROR:__main__:Error saving D:\\Aamir Gulzar\\KSA_project2\\dataset\\patch_data\\TCGA-CL-4957_nonMSIH\\TCGA-CL-4957_nonMSIH_x45648_y12352_patch02892.png: File D:\\Aamir Gulzar\\KSA_project2\\dataset\\Features\\Uni_2h_fivecrop\\TCGA-CL-4957_nonMSIH\\TCGA-CL-4957_nonMSIH_x45648_y12352_patch02892.pt cannot be opened.\n",
      "ERROR:__main__:Error saving D:\\Aamir Gulzar\\KSA_project2\\dataset\\patch_data\\TCGA-CL-4957_nonMSIH\\TCGA-CL-4957_nonMSIH_x45648_y12864_patch02893.png: File D:\\Aamir Gulzar\\KSA_project2\\dataset\\Features\\Uni_2h_fivecrop\\TCGA-CL-4957_nonMSIH\\TCGA-CL-4957_nonMSIH_x45648_y12864_patch02893.pt cannot be opened.\n",
      "ERROR:__main__:Error saving D:\\Aamir Gulzar\\KSA_project2\\dataset\\patch_data\\TCGA-CL-4957_nonMSIH\\TCGA-CL-4957_nonMSIH_x45648_y13376_patch02894.png: File D:\\Aamir Gulzar\\KSA_project2\\dataset\\Features\\Uni_2h_fivecrop\\TCGA-CL-4957_nonMSIH\\TCGA-CL-4957_nonMSIH_x45648_y13376_patch02894.pt cannot be opened.\n",
      "ERROR:__main__:Error saving D:\\Aamir Gulzar\\KSA_project2\\dataset\\patch_data\\TCGA-CL-4957_nonMSIH\\TCGA-CL-4957_nonMSIH_x45648_y14912_patch02895.png: File D:\\Aamir Gulzar\\KSA_project2\\dataset\\Features\\Uni_2h_fivecrop\\TCGA-CL-4957_nonMSIH\\TCGA-CL-4957_nonMSIH_x45648_y14912_patch02895.pt cannot be opened.\n",
      "ERROR:__main__:Error saving D:\\Aamir Gulzar\\KSA_project2\\dataset\\patch_data\\TCGA-CL-4957_nonMSIH\\TCGA-CL-4957_nonMSIH_x45648_y15424_patch02896.png: File D:\\Aamir Gulzar\\KSA_project2\\dataset\\Features\\Uni_2h_fivecrop\\TCGA-CL-4957_nonMSIH\\TCGA-CL-4957_nonMSIH_x45648_y15424_patch02896.pt cannot be opened.\n",
      "ERROR:__main__:Error saving D:\\Aamir Gulzar\\KSA_project2\\dataset\\patch_data\\TCGA-CL-4957_nonMSIH\\TCGA-CL-4957_nonMSIH_x45648_y15936_patch02897.png: File D:\\Aamir Gulzar\\KSA_project2\\dataset\\Features\\Uni_2h_fivecrop\\TCGA-CL-4957_nonMSIH\\TCGA-CL-4957_nonMSIH_x45648_y15936_patch02897.pt cannot be opened.\n",
      "ERROR:__main__:Error saving D:\\Aamir Gulzar\\KSA_project2\\dataset\\patch_data\\TCGA-CL-4957_nonMSIH\\TCGA-CL-4957_nonMSIH_x45648_y1600_patch02871.png: File D:\\Aamir Gulzar\\KSA_project2\\dataset\\Features\\Uni_2h_fivecrop\\TCGA-CL-4957_nonMSIH\\TCGA-CL-4957_nonMSIH_x45648_y1600_patch02871.pt cannot be opened.\n",
      "ERROR:__main__:Error saving D:\\Aamir Gulzar\\KSA_project2\\dataset\\patch_data\\TCGA-CL-4957_nonMSIH\\TCGA-CL-4957_nonMSIH_x45648_y16448_patch02898.png: File D:\\Aamir Gulzar\\KSA_project2\\dataset\\Features\\Uni_2h_fivecrop\\TCGA-CL-4957_nonMSIH\\TCGA-CL-4957_nonMSIH_x45648_y16448_patch02898.pt cannot be opened.\n",
      "ERROR:__main__:Error saving D:\\Aamir Gulzar\\KSA_project2\\dataset\\patch_data\\TCGA-CL-4957_nonMSIH\\TCGA-CL-4957_nonMSIH_x45648_y16960_patch02899.png: File D:\\Aamir Gulzar\\KSA_project2\\dataset\\Features\\Uni_2h_fivecrop\\TCGA-CL-4957_nonMSIH\\TCGA-CL-4957_nonMSIH_x45648_y16960_patch02899.pt cannot be opened.\n",
      "ERROR:__main__:Error saving D:\\Aamir Gulzar\\KSA_project2\\dataset\\patch_data\\TCGA-CL-4957_nonMSIH\\TCGA-CL-4957_nonMSIH_x45648_y17472_patch02900.png: File D:\\Aamir Gulzar\\KSA_project2\\dataset\\Features\\Uni_2h_fivecrop\\TCGA-CL-4957_nonMSIH\\TCGA-CL-4957_nonMSIH_x45648_y17472_patch02900.pt cannot be opened.\n",
      "ERROR:__main__:Error saving D:\\Aamir Gulzar\\KSA_project2\\dataset\\patch_data\\TCGA-CL-4957_nonMSIH\\TCGA-CL-4957_nonMSIH_x45648_y17984_patch02901.png: File D:\\Aamir Gulzar\\KSA_project2\\dataset\\Features\\Uni_2h_fivecrop\\TCGA-CL-4957_nonMSIH\\TCGA-CL-4957_nonMSIH_x45648_y17984_patch02901.pt cannot be opened.\n",
      "ERROR:__main__:Error saving D:\\Aamir Gulzar\\KSA_project2\\dataset\\patch_data\\TCGA-CL-4957_nonMSIH\\TCGA-CL-4957_nonMSIH_x45648_y18496_patch02902.png: File D:\\Aamir Gulzar\\KSA_project2\\dataset\\Features\\Uni_2h_fivecrop\\TCGA-CL-4957_nonMSIH\\TCGA-CL-4957_nonMSIH_x45648_y18496_patch02902.pt cannot be opened.\n",
      "ERROR:__main__:Error saving D:\\Aamir Gulzar\\KSA_project2\\dataset\\patch_data\\TCGA-CL-4957_nonMSIH\\TCGA-CL-4957_nonMSIH_x45648_y19008_patch02903.png: File D:\\Aamir Gulzar\\KSA_project2\\dataset\\Features\\Uni_2h_fivecrop\\TCGA-CL-4957_nonMSIH\\TCGA-CL-4957_nonMSIH_x45648_y19008_patch02903.pt cannot be opened.\n",
      "ERROR:__main__:Error saving D:\\Aamir Gulzar\\KSA_project2\\dataset\\patch_data\\TCGA-CL-4957_nonMSIH\\TCGA-CL-4957_nonMSIH_x45648_y19520_patch02904.png: File D:\\Aamir Gulzar\\KSA_project2\\dataset\\Features\\Uni_2h_fivecrop\\TCGA-CL-4957_nonMSIH\\TCGA-CL-4957_nonMSIH_x45648_y19520_patch02904.pt cannot be opened.\n",
      "ERROR:__main__:Error saving D:\\Aamir Gulzar\\KSA_project2\\dataset\\patch_data\\TCGA-CL-4957_nonMSIH\\TCGA-CL-4957_nonMSIH_x45648_y20032_patch02905.png: File D:\\Aamir Gulzar\\KSA_project2\\dataset\\Features\\Uni_2h_fivecrop\\TCGA-CL-4957_nonMSIH\\TCGA-CL-4957_nonMSIH_x45648_y20032_patch02905.pt cannot be opened.\n",
      "ERROR:__main__:Error saving D:\\Aamir Gulzar\\KSA_project2\\dataset\\patch_data\\TCGA-CL-4957_nonMSIH\\TCGA-CL-4957_nonMSIH_x45648_y20544_patch02906.png: File D:\\Aamir Gulzar\\KSA_project2\\dataset\\Features\\Uni_2h_fivecrop\\TCGA-CL-4957_nonMSIH\\TCGA-CL-4957_nonMSIH_x45648_y20544_patch02906.pt cannot be opened.\n",
      "ERROR:__main__:Error saving D:\\Aamir Gulzar\\KSA_project2\\dataset\\patch_data\\TCGA-CL-4957_nonMSIH\\TCGA-CL-4957_nonMSIH_x45648_y21056_patch02907.png: File D:\\Aamir Gulzar\\KSA_project2\\dataset\\Features\\Uni_2h_fivecrop\\TCGA-CL-4957_nonMSIH\\TCGA-CL-4957_nonMSIH_x45648_y21056_patch02907.pt cannot be opened.\n",
      "ERROR:__main__:Error saving D:\\Aamir Gulzar\\KSA_project2\\dataset\\patch_data\\TCGA-CL-4957_nonMSIH\\TCGA-CL-4957_nonMSIH_x45648_y2112_patch02872.png: File D:\\Aamir Gulzar\\KSA_project2\\dataset\\Features\\Uni_2h_fivecrop\\TCGA-CL-4957_nonMSIH\\TCGA-CL-4957_nonMSIH_x45648_y2112_patch02872.pt cannot be opened.\n",
      "ERROR:__main__:Error saving D:\\Aamir Gulzar\\KSA_project2\\dataset\\patch_data\\TCGA-CL-4957_nonMSIH\\TCGA-CL-4957_nonMSIH_x45648_y21568_patch02908.png: File D:\\Aamir Gulzar\\KSA_project2\\dataset\\Features\\Uni_2h_fivecrop\\TCGA-CL-4957_nonMSIH\\TCGA-CL-4957_nonMSIH_x45648_y21568_patch02908.pt cannot be opened.\n",
      "ERROR:__main__:Error saving D:\\Aamir Gulzar\\KSA_project2\\dataset\\patch_data\\TCGA-CL-4957_nonMSIH\\TCGA-CL-4957_nonMSIH_x45648_y22080_patch02909.png: File D:\\Aamir Gulzar\\KSA_project2\\dataset\\Features\\Uni_2h_fivecrop\\TCGA-CL-4957_nonMSIH\\TCGA-CL-4957_nonMSIH_x45648_y22080_patch02909.pt cannot be opened.\n",
      "ERROR:__main__:Error saving D:\\Aamir Gulzar\\KSA_project2\\dataset\\patch_data\\TCGA-CL-4957_nonMSIH\\TCGA-CL-4957_nonMSIH_x45648_y22592_patch02910.png: File D:\\Aamir Gulzar\\KSA_project2\\dataset\\Features\\Uni_2h_fivecrop\\TCGA-CL-4957_nonMSIH\\TCGA-CL-4957_nonMSIH_x45648_y22592_patch02910.pt cannot be opened.\n",
      "ERROR:__main__:Error saving D:\\Aamir Gulzar\\KSA_project2\\dataset\\patch_data\\TCGA-CL-4957_nonMSIH\\TCGA-CL-4957_nonMSIH_x45648_y2624_patch02873.png: File D:\\Aamir Gulzar\\KSA_project2\\dataset\\Features\\Uni_2h_fivecrop\\TCGA-CL-4957_nonMSIH\\TCGA-CL-4957_nonMSIH_x45648_y2624_patch02873.pt cannot be opened.\n",
      "ERROR:__main__:Error saving D:\\Aamir Gulzar\\KSA_project2\\dataset\\patch_data\\TCGA-CL-4957_nonMSIH\\TCGA-CL-4957_nonMSIH_x45648_y3136_patch02874.png: File D:\\Aamir Gulzar\\KSA_project2\\dataset\\Features\\Uni_2h_fivecrop\\TCGA-CL-4957_nonMSIH\\TCGA-CL-4957_nonMSIH_x45648_y3136_patch02874.pt cannot be opened.\n",
      "ERROR:__main__:Error saving D:\\Aamir Gulzar\\KSA_project2\\dataset\\patch_data\\TCGA-CL-4957_nonMSIH\\TCGA-CL-4957_nonMSIH_x45648_y3648_patch02875.png: File D:\\Aamir Gulzar\\KSA_project2\\dataset\\Features\\Uni_2h_fivecrop\\TCGA-CL-4957_nonMSIH\\TCGA-CL-4957_nonMSIH_x45648_y3648_patch02875.pt cannot be opened.\n",
      "ERROR:__main__:Error saving D:\\Aamir Gulzar\\KSA_project2\\dataset\\patch_data\\TCGA-CL-4957_nonMSIH\\TCGA-CL-4957_nonMSIH_x45648_y4160_patch02876.png: File D:\\Aamir Gulzar\\KSA_project2\\dataset\\Features\\Uni_2h_fivecrop\\TCGA-CL-4957_nonMSIH\\TCGA-CL-4957_nonMSIH_x45648_y4160_patch02876.pt cannot be opened.\n",
      "ERROR:__main__:Error saving D:\\Aamir Gulzar\\KSA_project2\\dataset\\patch_data\\TCGA-CL-4957_nonMSIH\\TCGA-CL-4957_nonMSIH_x45648_y4672_patch02877.png: File D:\\Aamir Gulzar\\KSA_project2\\dataset\\Features\\Uni_2h_fivecrop\\TCGA-CL-4957_nonMSIH\\TCGA-CL-4957_nonMSIH_x45648_y4672_patch02877.pt cannot be opened.\n",
      "ERROR:__main__:Error saving D:\\Aamir Gulzar\\KSA_project2\\dataset\\patch_data\\TCGA-CL-4957_nonMSIH\\TCGA-CL-4957_nonMSIH_x45648_y5184_patch02878.png: File D:\\Aamir Gulzar\\KSA_project2\\dataset\\Features\\Uni_2h_fivecrop\\TCGA-CL-4957_nonMSIH\\TCGA-CL-4957_nonMSIH_x45648_y5184_patch02878.pt cannot be opened.\n",
      "ERROR:__main__:Error saving D:\\Aamir Gulzar\\KSA_project2\\dataset\\patch_data\\TCGA-CL-4957_nonMSIH\\TCGA-CL-4957_nonMSIH_x45648_y5696_patch02879.png: File D:\\Aamir Gulzar\\KSA_project2\\dataset\\Features\\Uni_2h_fivecrop\\TCGA-CL-4957_nonMSIH\\TCGA-CL-4957_nonMSIH_x45648_y5696_patch02879.pt cannot be opened.\n",
      "ERROR:__main__:Error saving D:\\Aamir Gulzar\\KSA_project2\\dataset\\patch_data\\TCGA-CL-4957_nonMSIH\\TCGA-CL-4957_nonMSIH_x45648_y6208_patch02880.png: File D:\\Aamir Gulzar\\KSA_project2\\dataset\\Features\\Uni_2h_fivecrop\\TCGA-CL-4957_nonMSIH\\TCGA-CL-4957_nonMSIH_x45648_y6208_patch02880.pt cannot be opened.\n",
      "ERROR:__main__:Error saving D:\\Aamir Gulzar\\KSA_project2\\dataset\\patch_data\\TCGA-CL-4957_nonMSIH\\TCGA-CL-4957_nonMSIH_x45648_y6720_patch02881.png: File D:\\Aamir Gulzar\\KSA_project2\\dataset\\Features\\Uni_2h_fivecrop\\TCGA-CL-4957_nonMSIH\\TCGA-CL-4957_nonMSIH_x45648_y6720_patch02881.pt cannot be opened.\n",
      "ERROR:__main__:Error saving D:\\Aamir Gulzar\\KSA_project2\\dataset\\patch_data\\TCGA-CL-4957_nonMSIH\\TCGA-CL-4957_nonMSIH_x45648_y7232_patch02882.png: File D:\\Aamir Gulzar\\KSA_project2\\dataset\\Features\\Uni_2h_fivecrop\\TCGA-CL-4957_nonMSIH\\TCGA-CL-4957_nonMSIH_x45648_y7232_patch02882.pt cannot be opened.\n",
      "ERROR:__main__:Error saving D:\\Aamir Gulzar\\KSA_project2\\dataset\\patch_data\\TCGA-CL-4957_nonMSIH\\TCGA-CL-4957_nonMSIH_x45648_y7744_patch02883.png: File D:\\Aamir Gulzar\\KSA_project2\\dataset\\Features\\Uni_2h_fivecrop\\TCGA-CL-4957_nonMSIH\\TCGA-CL-4957_nonMSIH_x45648_y7744_patch02883.pt cannot be opened.\n",
      "ERROR:__main__:Error saving D:\\Aamir Gulzar\\KSA_project2\\dataset\\patch_data\\TCGA-CL-4957_nonMSIH\\TCGA-CL-4957_nonMSIH_x45648_y8768_patch02885.png: File D:\\Aamir Gulzar\\KSA_project2\\dataset\\Features\\Uni_2h_fivecrop\\TCGA-CL-4957_nonMSIH\\TCGA-CL-4957_nonMSIH_x45648_y8768_patch02885.pt cannot be opened.\n",
      "ERROR:__main__:Error saving D:\\Aamir Gulzar\\KSA_project2\\dataset\\patch_data\\TCGA-CL-4957_nonMSIH\\TCGA-CL-4957_nonMSIH_x45648_y8256_patch02884.png: File D:\\Aamir Gulzar\\KSA_project2\\dataset\\Features\\Uni_2h_fivecrop\\TCGA-CL-4957_nonMSIH\\TCGA-CL-4957_nonMSIH_x45648_y8256_patch02884.pt cannot be opened.\n",
      "ERROR:__main__:Error saving D:\\Aamir Gulzar\\KSA_project2\\dataset\\patch_data\\TCGA-CL-4957_nonMSIH\\TCGA-CL-4957_nonMSIH_x45648_y9280_patch02886.png: File D:\\Aamir Gulzar\\KSA_project2\\dataset\\Features\\Uni_2h_fivecrop\\TCGA-CL-4957_nonMSIH\\TCGA-CL-4957_nonMSIH_x45648_y9280_patch02886.pt cannot be opened.\n",
      "ERROR:__main__:Error saving D:\\Aamir Gulzar\\KSA_project2\\dataset\\patch_data\\TCGA-CL-4957_nonMSIH\\TCGA-CL-4957_nonMSIH_x45648_y9792_patch02887.png: File D:\\Aamir Gulzar\\KSA_project2\\dataset\\Features\\Uni_2h_fivecrop\\TCGA-CL-4957_nonMSIH\\TCGA-CL-4957_nonMSIH_x45648_y9792_patch02887.pt cannot be opened.\n",
      "ERROR:__main__:Error saving D:\\Aamir Gulzar\\KSA_project2\\dataset\\patch_data\\TCGA-CL-4957_nonMSIH\\TCGA-CL-4957_nonMSIH_x46160_y10304_patch02925.png: File D:\\Aamir Gulzar\\KSA_project2\\dataset\\Features\\Uni_2h_fivecrop\\TCGA-CL-4957_nonMSIH\\TCGA-CL-4957_nonMSIH_x46160_y10304_patch02925.pt cannot be opened.\n",
      "ERROR:__main__:Error saving D:\\Aamir Gulzar\\KSA_project2\\dataset\\patch_data\\TCGA-CL-4957_nonMSIH\\TCGA-CL-4957_nonMSIH_x46160_y10816_patch02926.png: File D:\\Aamir Gulzar\\KSA_project2\\dataset\\Features\\Uni_2h_fivecrop\\TCGA-CL-4957_nonMSIH\\TCGA-CL-4957_nonMSIH_x46160_y10816_patch02926.pt cannot be opened.\n",
      "ERROR:__main__:Error saving D:\\Aamir Gulzar\\KSA_project2\\dataset\\patch_data\\TCGA-CL-4957_nonMSIH\\TCGA-CL-4957_nonMSIH_x46160_y11328_patch02927.png: File D:\\Aamir Gulzar\\KSA_project2\\dataset\\Features\\Uni_2h_fivecrop\\TCGA-CL-4957_nonMSIH\\TCGA-CL-4957_nonMSIH_x46160_y11328_patch02927.pt cannot be opened.\n",
      "ERROR:__main__:Error saving D:\\Aamir Gulzar\\KSA_project2\\dataset\\patch_data\\TCGA-CL-4957_nonMSIH\\TCGA-CL-4957_nonMSIH_x46160_y11840_patch02928.png: File D:\\Aamir Gulzar\\KSA_project2\\dataset\\Features\\Uni_2h_fivecrop\\TCGA-CL-4957_nonMSIH\\TCGA-CL-4957_nonMSIH_x46160_y11840_patch02928.pt cannot be opened.\n",
      "ERROR:__main__:Error saving D:\\Aamir Gulzar\\KSA_project2\\dataset\\patch_data\\TCGA-CL-4957_nonMSIH\\TCGA-CL-4957_nonMSIH_x46160_y12352_patch02929.png: File D:\\Aamir Gulzar\\KSA_project2\\dataset\\Features\\Uni_2h_fivecrop\\TCGA-CL-4957_nonMSIH\\TCGA-CL-4957_nonMSIH_x46160_y12352_patch02929.pt cannot be opened.\n",
      "ERROR:__main__:Error saving D:\\Aamir Gulzar\\KSA_project2\\dataset\\patch_data\\TCGA-CL-4957_nonMSIH\\TCGA-CL-4957_nonMSIH_x46160_y12864_patch02930.png: File D:\\Aamir Gulzar\\KSA_project2\\dataset\\Features\\Uni_2h_fivecrop\\TCGA-CL-4957_nonMSIH\\TCGA-CL-4957_nonMSIH_x46160_y12864_patch02930.pt cannot be opened.\n",
      "ERROR:__main__:Error saving D:\\Aamir Gulzar\\KSA_project2\\dataset\\patch_data\\TCGA-CL-4957_nonMSIH\\TCGA-CL-4957_nonMSIH_x46160_y13376_patch02931.png: File D:\\Aamir Gulzar\\KSA_project2\\dataset\\Features\\Uni_2h_fivecrop\\TCGA-CL-4957_nonMSIH\\TCGA-CL-4957_nonMSIH_x46160_y13376_patch02931.pt cannot be opened.\n",
      "ERROR:__main__:Error saving D:\\Aamir Gulzar\\KSA_project2\\dataset\\patch_data\\TCGA-CL-4957_nonMSIH\\TCGA-CL-4957_nonMSIH_x46160_y14400_patch02932.png: File D:\\Aamir Gulzar\\KSA_project2\\dataset\\Features\\Uni_2h_fivecrop\\TCGA-CL-4957_nonMSIH\\TCGA-CL-4957_nonMSIH_x46160_y14400_patch02932.pt cannot be opened.\n",
      "ERROR:__main__:Error saving D:\\Aamir Gulzar\\KSA_project2\\dataset\\patch_data\\TCGA-CL-4957_nonMSIH\\TCGA-CL-4957_nonMSIH_x46160_y14912_patch02933.png: File D:\\Aamir Gulzar\\KSA_project2\\dataset\\Features\\Uni_2h_fivecrop\\TCGA-CL-4957_nonMSIH\\TCGA-CL-4957_nonMSIH_x46160_y14912_patch02933.pt cannot be opened.\n",
      "ERROR:__main__:Error saving D:\\Aamir Gulzar\\KSA_project2\\dataset\\patch_data\\TCGA-CL-4957_nonMSIH\\TCGA-CL-4957_nonMSIH_x46160_y15424_patch02934.png: File D:\\Aamir Gulzar\\KSA_project2\\dataset\\Features\\Uni_2h_fivecrop\\TCGA-CL-4957_nonMSIH\\TCGA-CL-4957_nonMSIH_x46160_y15424_patch02934.pt cannot be opened.\n",
      "ERROR:__main__:Error saving D:\\Aamir Gulzar\\KSA_project2\\dataset\\patch_data\\TCGA-CL-4957_nonMSIH\\TCGA-CL-4957_nonMSIH_x46160_y15936_patch02935.png: File D:\\Aamir Gulzar\\KSA_project2\\dataset\\Features\\Uni_2h_fivecrop\\TCGA-CL-4957_nonMSIH\\TCGA-CL-4957_nonMSIH_x46160_y15936_patch02935.pt cannot be opened.\n",
      "ERROR:__main__:Error saving D:\\Aamir Gulzar\\KSA_project2\\dataset\\patch_data\\TCGA-CL-4957_nonMSIH\\TCGA-CL-4957_nonMSIH_x46160_y16448_patch02936.png: File D:\\Aamir Gulzar\\KSA_project2\\dataset\\Features\\Uni_2h_fivecrop\\TCGA-CL-4957_nonMSIH\\TCGA-CL-4957_nonMSIH_x46160_y16448_patch02936.pt cannot be opened.\n",
      "ERROR:__main__:Error saving D:\\Aamir Gulzar\\KSA_project2\\dataset\\patch_data\\TCGA-CL-4957_nonMSIH\\TCGA-CL-4957_nonMSIH_x46160_y16960_patch02937.png: File D:\\Aamir Gulzar\\KSA_project2\\dataset\\Features\\Uni_2h_fivecrop\\TCGA-CL-4957_nonMSIH\\TCGA-CL-4957_nonMSIH_x46160_y16960_patch02937.pt cannot be opened.\n",
      "ERROR:__main__:Error saving D:\\Aamir Gulzar\\KSA_project2\\dataset\\patch_data\\TCGA-CL-4957_nonMSIH\\TCGA-CL-4957_nonMSIH_x46160_y17472_patch02938.png: File D:\\Aamir Gulzar\\KSA_project2\\dataset\\Features\\Uni_2h_fivecrop\\TCGA-CL-4957_nonMSIH\\TCGA-CL-4957_nonMSIH_x46160_y17472_patch02938.pt cannot be opened.\n",
      "ERROR:__main__:Error saving D:\\Aamir Gulzar\\KSA_project2\\dataset\\patch_data\\TCGA-CL-4957_nonMSIH\\TCGA-CL-4957_nonMSIH_x46160_y17984_patch02939.png: File D:\\Aamir Gulzar\\KSA_project2\\dataset\\Features\\Uni_2h_fivecrop\\TCGA-CL-4957_nonMSIH\\TCGA-CL-4957_nonMSIH_x46160_y17984_patch02939.pt cannot be opened.\n",
      "ERROR:__main__:Error saving D:\\Aamir Gulzar\\KSA_project2\\dataset\\patch_data\\TCGA-CL-4957_nonMSIH\\TCGA-CL-4957_nonMSIH_x46160_y18496_patch02940.png: File D:\\Aamir Gulzar\\KSA_project2\\dataset\\Features\\Uni_2h_fivecrop\\TCGA-CL-4957_nonMSIH\\TCGA-CL-4957_nonMSIH_x46160_y18496_patch02940.pt cannot be opened.\n",
      "ERROR:__main__:Error saving D:\\Aamir Gulzar\\KSA_project2\\dataset\\patch_data\\TCGA-CL-4957_nonMSIH\\TCGA-CL-4957_nonMSIH_x46160_y19008_patch02941.png: File D:\\Aamir Gulzar\\KSA_project2\\dataset\\Features\\Uni_2h_fivecrop\\TCGA-CL-4957_nonMSIH\\TCGA-CL-4957_nonMSIH_x46160_y19008_patch02941.pt cannot be opened.\n",
      "ERROR:__main__:Error saving D:\\Aamir Gulzar\\KSA_project2\\dataset\\patch_data\\TCGA-CL-4957_nonMSIH\\TCGA-CL-4957_nonMSIH_x46160_y19520_patch02942.png: File D:\\Aamir Gulzar\\KSA_project2\\dataset\\Features\\Uni_2h_fivecrop\\TCGA-CL-4957_nonMSIH\\TCGA-CL-4957_nonMSIH_x46160_y19520_patch02942.pt cannot be opened.\n",
      "ERROR:__main__:Error saving D:\\Aamir Gulzar\\KSA_project2\\dataset\\patch_data\\TCGA-CL-4957_nonMSIH\\TCGA-CL-4957_nonMSIH_x46160_y20032_patch02943.png: File D:\\Aamir Gulzar\\KSA_project2\\dataset\\Features\\Uni_2h_fivecrop\\TCGA-CL-4957_nonMSIH\\TCGA-CL-4957_nonMSIH_x46160_y20032_patch02943.pt cannot be opened.\n",
      "ERROR:__main__:Error saving D:\\Aamir Gulzar\\KSA_project2\\dataset\\patch_data\\TCGA-CL-4957_nonMSIH\\TCGA-CL-4957_nonMSIH_x46160_y20544_patch02944.png: File D:\\Aamir Gulzar\\KSA_project2\\dataset\\Features\\Uni_2h_fivecrop\\TCGA-CL-4957_nonMSIH\\TCGA-CL-4957_nonMSIH_x46160_y20544_patch02944.pt cannot be opened.\n",
      "ERROR:__main__:Error saving D:\\Aamir Gulzar\\KSA_project2\\dataset\\patch_data\\TCGA-CL-4957_nonMSIH\\TCGA-CL-4957_nonMSIH_x46160_y21056_patch02945.png: File D:\\Aamir Gulzar\\KSA_project2\\dataset\\Features\\Uni_2h_fivecrop\\TCGA-CL-4957_nonMSIH\\TCGA-CL-4957_nonMSIH_x46160_y21056_patch02945.pt cannot be opened.\n",
      "ERROR:__main__:Error saving D:\\Aamir Gulzar\\KSA_project2\\dataset\\patch_data\\TCGA-CL-4957_nonMSIH\\TCGA-CL-4957_nonMSIH_x46160_y2112_patch02911.png: File D:\\Aamir Gulzar\\KSA_project2\\dataset\\Features\\Uni_2h_fivecrop\\TCGA-CL-4957_nonMSIH\\TCGA-CL-4957_nonMSIH_x46160_y2112_patch02911.pt cannot be opened.\n",
      "ERROR:__main__:Error saving D:\\Aamir Gulzar\\KSA_project2\\dataset\\patch_data\\TCGA-CL-4957_nonMSIH\\TCGA-CL-4957_nonMSIH_x46160_y21568_patch02946.png: File D:\\Aamir Gulzar\\KSA_project2\\dataset\\Features\\Uni_2h_fivecrop\\TCGA-CL-4957_nonMSIH\\TCGA-CL-4957_nonMSIH_x46160_y21568_patch02946.pt cannot be opened.\n",
      "ERROR:__main__:Error saving D:\\Aamir Gulzar\\KSA_project2\\dataset\\patch_data\\TCGA-CL-4957_nonMSIH\\TCGA-CL-4957_nonMSIH_x46160_y22080_patch02947.png: File D:\\Aamir Gulzar\\KSA_project2\\dataset\\Features\\Uni_2h_fivecrop\\TCGA-CL-4957_nonMSIH\\TCGA-CL-4957_nonMSIH_x46160_y22080_patch02947.pt cannot be opened.\n",
      "ERROR:__main__:Error saving D:\\Aamir Gulzar\\KSA_project2\\dataset\\patch_data\\TCGA-CL-4957_nonMSIH\\TCGA-CL-4957_nonMSIH_x46160_y22592_patch02948.png: File D:\\Aamir Gulzar\\KSA_project2\\dataset\\Features\\Uni_2h_fivecrop\\TCGA-CL-4957_nonMSIH\\TCGA-CL-4957_nonMSIH_x46160_y22592_patch02948.pt cannot be opened.\n",
      "ERROR:__main__:Error saving D:\\Aamir Gulzar\\KSA_project2\\dataset\\patch_data\\TCGA-CL-4957_nonMSIH\\TCGA-CL-4957_nonMSIH_x46160_y2624_patch02912.png: File D:\\Aamir Gulzar\\KSA_project2\\dataset\\Features\\Uni_2h_fivecrop\\TCGA-CL-4957_nonMSIH\\TCGA-CL-4957_nonMSIH_x46160_y2624_patch02912.pt cannot be opened.\n",
      "ERROR:__main__:Error saving D:\\Aamir Gulzar\\KSA_project2\\dataset\\patch_data\\TCGA-CL-4957_nonMSIH\\TCGA-CL-4957_nonMSIH_x46160_y3136_patch02913.png: File D:\\Aamir Gulzar\\KSA_project2\\dataset\\Features\\Uni_2h_fivecrop\\TCGA-CL-4957_nonMSIH\\TCGA-CL-4957_nonMSIH_x46160_y3136_patch02913.pt cannot be opened.\n",
      "ERROR:__main__:Error saving D:\\Aamir Gulzar\\KSA_project2\\dataset\\patch_data\\TCGA-CL-4957_nonMSIH\\TCGA-CL-4957_nonMSIH_x46160_y3648_patch02914.png: File D:\\Aamir Gulzar\\KSA_project2\\dataset\\Features\\Uni_2h_fivecrop\\TCGA-CL-4957_nonMSIH\\TCGA-CL-4957_nonMSIH_x46160_y3648_patch02914.pt cannot be opened.\n",
      "ERROR:__main__:Error saving D:\\Aamir Gulzar\\KSA_project2\\dataset\\patch_data\\TCGA-CL-4957_nonMSIH\\TCGA-CL-4957_nonMSIH_x46160_y4160_patch02915.png: File D:\\Aamir Gulzar\\KSA_project2\\dataset\\Features\\Uni_2h_fivecrop\\TCGA-CL-4957_nonMSIH\\TCGA-CL-4957_nonMSIH_x46160_y4160_patch02915.pt cannot be opened.\n",
      "ERROR:__main__:Error saving D:\\Aamir Gulzar\\KSA_project2\\dataset\\patch_data\\TCGA-CL-4957_nonMSIH\\TCGA-CL-4957_nonMSIH_x46160_y4672_patch02916.png: File D:\\Aamir Gulzar\\KSA_project2\\dataset\\Features\\Uni_2h_fivecrop\\TCGA-CL-4957_nonMSIH\\TCGA-CL-4957_nonMSIH_x46160_y4672_patch02916.pt cannot be opened.\n",
      "ERROR:__main__:Error saving D:\\Aamir Gulzar\\KSA_project2\\dataset\\patch_data\\TCGA-CL-4957_nonMSIH\\TCGA-CL-4957_nonMSIH_x46160_y6208_patch02917.png: File D:\\Aamir Gulzar\\KSA_project2\\dataset\\Features\\Uni_2h_fivecrop\\TCGA-CL-4957_nonMSIH\\TCGA-CL-4957_nonMSIH_x46160_y6208_patch02917.pt cannot be opened.\n",
      "ERROR:__main__:Error saving D:\\Aamir Gulzar\\KSA_project2\\dataset\\patch_data\\TCGA-CL-4957_nonMSIH\\TCGA-CL-4957_nonMSIH_x46160_y6720_patch02918.png: File D:\\Aamir Gulzar\\KSA_project2\\dataset\\Features\\Uni_2h_fivecrop\\TCGA-CL-4957_nonMSIH\\TCGA-CL-4957_nonMSIH_x46160_y6720_patch02918.pt cannot be opened.\n",
      "ERROR:__main__:Error saving D:\\Aamir Gulzar\\KSA_project2\\dataset\\patch_data\\TCGA-CL-4957_nonMSIH\\TCGA-CL-4957_nonMSIH_x46160_y7232_patch02919.png: File D:\\Aamir Gulzar\\KSA_project2\\dataset\\Features\\Uni_2h_fivecrop\\TCGA-CL-4957_nonMSIH\\TCGA-CL-4957_nonMSIH_x46160_y7232_patch02919.pt cannot be opened.\n",
      "ERROR:__main__:Error saving D:\\Aamir Gulzar\\KSA_project2\\dataset\\patch_data\\TCGA-CL-4957_nonMSIH\\TCGA-CL-4957_nonMSIH_x46160_y7744_patch02920.png: File D:\\Aamir Gulzar\\KSA_project2\\dataset\\Features\\Uni_2h_fivecrop\\TCGA-CL-4957_nonMSIH\\TCGA-CL-4957_nonMSIH_x46160_y7744_patch02920.pt cannot be opened.\n",
      "ERROR:__main__:Error saving D:\\Aamir Gulzar\\KSA_project2\\dataset\\patch_data\\TCGA-CL-4957_nonMSIH\\TCGA-CL-4957_nonMSIH_x46160_y8256_patch02921.png: File D:\\Aamir Gulzar\\KSA_project2\\dataset\\Features\\Uni_2h_fivecrop\\TCGA-CL-4957_nonMSIH\\TCGA-CL-4957_nonMSIH_x46160_y8256_patch02921.pt cannot be opened.\n",
      "ERROR:__main__:Error saving D:\\Aamir Gulzar\\KSA_project2\\dataset\\patch_data\\TCGA-CL-4957_nonMSIH\\TCGA-CL-4957_nonMSIH_x46160_y8768_patch02922.png: File D:\\Aamir Gulzar\\KSA_project2\\dataset\\Features\\Uni_2h_fivecrop\\TCGA-CL-4957_nonMSIH\\TCGA-CL-4957_nonMSIH_x46160_y8768_patch02922.pt cannot be opened.\n",
      "ERROR:__main__:Error saving D:\\Aamir Gulzar\\KSA_project2\\dataset\\patch_data\\TCGA-CL-4957_nonMSIH\\TCGA-CL-4957_nonMSIH_x46160_y9280_patch02923.png: File D:\\Aamir Gulzar\\KSA_project2\\dataset\\Features\\Uni_2h_fivecrop\\TCGA-CL-4957_nonMSIH\\TCGA-CL-4957_nonMSIH_x46160_y9280_patch02923.pt cannot be opened.\n",
      "ERROR:__main__:Error saving D:\\Aamir Gulzar\\KSA_project2\\dataset\\patch_data\\TCGA-CL-4957_nonMSIH\\TCGA-CL-4957_nonMSIH_x46160_y9792_patch02924.png: File D:\\Aamir Gulzar\\KSA_project2\\dataset\\Features\\Uni_2h_fivecrop\\TCGA-CL-4957_nonMSIH\\TCGA-CL-4957_nonMSIH_x46160_y9792_patch02924.pt cannot be opened.\n",
      "ERROR:__main__:Error saving D:\\Aamir Gulzar\\KSA_project2\\dataset\\patch_data\\TCGA-CL-4957_nonMSIH\\TCGA-CL-4957_nonMSIH_x46672_y10304_patch02962.png: File D:\\Aamir Gulzar\\KSA_project2\\dataset\\Features\\Uni_2h_fivecrop\\TCGA-CL-4957_nonMSIH\\TCGA-CL-4957_nonMSIH_x46672_y10304_patch02962.pt cannot be opened.\n",
      "ERROR:__main__:Error saving D:\\Aamir Gulzar\\KSA_project2\\dataset\\patch_data\\TCGA-CL-4957_nonMSIH\\TCGA-CL-4957_nonMSIH_x46672_y10816_patch02963.png: File D:\\Aamir Gulzar\\KSA_project2\\dataset\\Features\\Uni_2h_fivecrop\\TCGA-CL-4957_nonMSIH\\TCGA-CL-4957_nonMSIH_x46672_y10816_patch02963.pt cannot be opened.\n",
      "ERROR:__main__:Error saving D:\\Aamir Gulzar\\KSA_project2\\dataset\\patch_data\\TCGA-CL-4957_nonMSIH\\TCGA-CL-4957_nonMSIH_x46672_y11328_patch02964.png: File D:\\Aamir Gulzar\\KSA_project2\\dataset\\Features\\Uni_2h_fivecrop\\TCGA-CL-4957_nonMSIH\\TCGA-CL-4957_nonMSIH_x46672_y11328_patch02964.pt cannot be opened.\n",
      "ERROR:__main__:Error saving D:\\Aamir Gulzar\\KSA_project2\\dataset\\patch_data\\TCGA-CL-4957_nonMSIH\\TCGA-CL-4957_nonMSIH_x46672_y11840_patch02965.png: File D:\\Aamir Gulzar\\KSA_project2\\dataset\\Features\\Uni_2h_fivecrop\\TCGA-CL-4957_nonMSIH\\TCGA-CL-4957_nonMSIH_x46672_y11840_patch02965.pt cannot be opened.\n",
      "ERROR:__main__:Error saving D:\\Aamir Gulzar\\KSA_project2\\dataset\\patch_data\\TCGA-CL-4957_nonMSIH\\TCGA-CL-4957_nonMSIH_x46672_y12352_patch02966.png: File D:\\Aamir Gulzar\\KSA_project2\\dataset\\Features\\Uni_2h_fivecrop\\TCGA-CL-4957_nonMSIH\\TCGA-CL-4957_nonMSIH_x46672_y12352_patch02966.pt cannot be opened.\n",
      "ERROR:__main__:Error saving D:\\Aamir Gulzar\\KSA_project2\\dataset\\patch_data\\TCGA-CL-4957_nonMSIH\\TCGA-CL-4957_nonMSIH_x46672_y12864_patch02967.png: File D:\\Aamir Gulzar\\KSA_project2\\dataset\\Features\\Uni_2h_fivecrop\\TCGA-CL-4957_nonMSIH\\TCGA-CL-4957_nonMSIH_x46672_y12864_patch02967.pt cannot be opened.\n",
      "ERROR:__main__:Error saving D:\\Aamir Gulzar\\KSA_project2\\dataset\\patch_data\\TCGA-CL-4957_nonMSIH\\TCGA-CL-4957_nonMSIH_x46672_y13376_patch02968.png: File D:\\Aamir Gulzar\\KSA_project2\\dataset\\Features\\Uni_2h_fivecrop\\TCGA-CL-4957_nonMSIH\\TCGA-CL-4957_nonMSIH_x46672_y13376_patch02968.pt cannot be opened.\n",
      "ERROR:__main__:Error saving D:\\Aamir Gulzar\\KSA_project2\\dataset\\patch_data\\TCGA-CL-4957_nonMSIH\\TCGA-CL-4957_nonMSIH_x46672_y13888_patch02969.png: File D:\\Aamir Gulzar\\KSA_project2\\dataset\\Features\\Uni_2h_fivecrop\\TCGA-CL-4957_nonMSIH\\TCGA-CL-4957_nonMSIH_x46672_y13888_patch02969.pt cannot be opened.\n",
      "ERROR:__main__:Error saving D:\\Aamir Gulzar\\KSA_project2\\dataset\\patch_data\\TCGA-CL-4957_nonMSIH\\TCGA-CL-4957_nonMSIH_x46672_y14400_patch02970.png: File D:\\Aamir Gulzar\\KSA_project2\\dataset\\Features\\Uni_2h_fivecrop\\TCGA-CL-4957_nonMSIH\\TCGA-CL-4957_nonMSIH_x46672_y14400_patch02970.pt cannot be opened.\n",
      "ERROR:__main__:Error saving D:\\Aamir Gulzar\\KSA_project2\\dataset\\patch_data\\TCGA-CL-4957_nonMSIH\\TCGA-CL-4957_nonMSIH_x46672_y14912_patch02971.png: File D:\\Aamir Gulzar\\KSA_project2\\dataset\\Features\\Uni_2h_fivecrop\\TCGA-CL-4957_nonMSIH\\TCGA-CL-4957_nonMSIH_x46672_y14912_patch02971.pt cannot be opened.\n",
      "ERROR:__main__:Error saving D:\\Aamir Gulzar\\KSA_project2\\dataset\\patch_data\\TCGA-CL-4957_nonMSIH\\TCGA-CL-4957_nonMSIH_x46672_y15424_patch02972.png: File D:\\Aamir Gulzar\\KSA_project2\\dataset\\Features\\Uni_2h_fivecrop\\TCGA-CL-4957_nonMSIH\\TCGA-CL-4957_nonMSIH_x46672_y15424_patch02972.pt cannot be opened.\n",
      "ERROR:__main__:Error saving D:\\Aamir Gulzar\\KSA_project2\\dataset\\patch_data\\TCGA-CL-4957_nonMSIH\\TCGA-CL-4957_nonMSIH_x46672_y15936_patch02973.png: File D:\\Aamir Gulzar\\KSA_project2\\dataset\\Features\\Uni_2h_fivecrop\\TCGA-CL-4957_nonMSIH\\TCGA-CL-4957_nonMSIH_x46672_y15936_patch02973.pt cannot be opened.\n",
      "ERROR:__main__:Error saving D:\\Aamir Gulzar\\KSA_project2\\dataset\\patch_data\\TCGA-CL-4957_nonMSIH\\TCGA-CL-4957_nonMSIH_x46672_y16448_patch02974.png: File D:\\Aamir Gulzar\\KSA_project2\\dataset\\Features\\Uni_2h_fivecrop\\TCGA-CL-4957_nonMSIH\\TCGA-CL-4957_nonMSIH_x46672_y16448_patch02974.pt cannot be opened.\n",
      "ERROR:__main__:Error saving D:\\Aamir Gulzar\\KSA_project2\\dataset\\patch_data\\TCGA-CL-4957_nonMSIH\\TCGA-CL-4957_nonMSIH_x46672_y16960_patch02975.png: File D:\\Aamir Gulzar\\KSA_project2\\dataset\\Features\\Uni_2h_fivecrop\\TCGA-CL-4957_nonMSIH\\TCGA-CL-4957_nonMSIH_x46672_y16960_patch02975.pt cannot be opened.\n",
      "ERROR:__main__:Error saving D:\\Aamir Gulzar\\KSA_project2\\dataset\\patch_data\\TCGA-CL-4957_nonMSIH\\TCGA-CL-4957_nonMSIH_x46672_y17472_patch02976.png: File D:\\Aamir Gulzar\\KSA_project2\\dataset\\Features\\Uni_2h_fivecrop\\TCGA-CL-4957_nonMSIH\\TCGA-CL-4957_nonMSIH_x46672_y17472_patch02976.pt cannot be opened.\n",
      "ERROR:__main__:Error saving D:\\Aamir Gulzar\\KSA_project2\\dataset\\patch_data\\TCGA-CL-4957_nonMSIH\\TCGA-CL-4957_nonMSIH_x46672_y17984_patch02977.png: File D:\\Aamir Gulzar\\KSA_project2\\dataset\\Features\\Uni_2h_fivecrop\\TCGA-CL-4957_nonMSIH\\TCGA-CL-4957_nonMSIH_x46672_y17984_patch02977.pt cannot be opened.\n",
      "ERROR:__main__:Error saving D:\\Aamir Gulzar\\KSA_project2\\dataset\\patch_data\\TCGA-CL-4957_nonMSIH\\TCGA-CL-4957_nonMSIH_x46672_y18496_patch02978.png: File D:\\Aamir Gulzar\\KSA_project2\\dataset\\Features\\Uni_2h_fivecrop\\TCGA-CL-4957_nonMSIH\\TCGA-CL-4957_nonMSIH_x46672_y18496_patch02978.pt cannot be opened.\n",
      "ERROR:__main__:Error saving D:\\Aamir Gulzar\\KSA_project2\\dataset\\patch_data\\TCGA-CL-4957_nonMSIH\\TCGA-CL-4957_nonMSIH_x46672_y19008_patch02979.png: File D:\\Aamir Gulzar\\KSA_project2\\dataset\\Features\\Uni_2h_fivecrop\\TCGA-CL-4957_nonMSIH\\TCGA-CL-4957_nonMSIH_x46672_y19008_patch02979.pt cannot be opened.\n",
      "ERROR:__main__:Error saving D:\\Aamir Gulzar\\KSA_project2\\dataset\\patch_data\\TCGA-CL-4957_nonMSIH\\TCGA-CL-4957_nonMSIH_x46672_y19520_patch02980.png: File D:\\Aamir Gulzar\\KSA_project2\\dataset\\Features\\Uni_2h_fivecrop\\TCGA-CL-4957_nonMSIH\\TCGA-CL-4957_nonMSIH_x46672_y19520_patch02980.pt cannot be opened.\n",
      "ERROR:__main__:Error saving D:\\Aamir Gulzar\\KSA_project2\\dataset\\patch_data\\TCGA-CL-4957_nonMSIH\\TCGA-CL-4957_nonMSIH_x46672_y20032_patch02981.png: File D:\\Aamir Gulzar\\KSA_project2\\dataset\\Features\\Uni_2h_fivecrop\\TCGA-CL-4957_nonMSIH\\TCGA-CL-4957_nonMSIH_x46672_y20032_patch02981.pt cannot be opened.\n",
      "ERROR:__main__:Error saving D:\\Aamir Gulzar\\KSA_project2\\dataset\\patch_data\\TCGA-CL-4957_nonMSIH\\TCGA-CL-4957_nonMSIH_x46672_y20544_patch02982.png: File D:\\Aamir Gulzar\\KSA_project2\\dataset\\Features\\Uni_2h_fivecrop\\TCGA-CL-4957_nonMSIH\\TCGA-CL-4957_nonMSIH_x46672_y20544_patch02982.pt cannot be opened.\n",
      "ERROR:__main__:Error saving D:\\Aamir Gulzar\\KSA_project2\\dataset\\patch_data\\TCGA-CL-4957_nonMSIH\\TCGA-CL-4957_nonMSIH_x46672_y2112_patch02949.png: File D:\\Aamir Gulzar\\KSA_project2\\dataset\\Features\\Uni_2h_fivecrop\\TCGA-CL-4957_nonMSIH\\TCGA-CL-4957_nonMSIH_x46672_y2112_patch02949.pt cannot be opened.\n",
      "ERROR:__main__:Error saving D:\\Aamir Gulzar\\KSA_project2\\dataset\\patch_data\\TCGA-CL-4957_nonMSIH\\TCGA-CL-4957_nonMSIH_x46672_y21056_patch02983.png: File D:\\Aamir Gulzar\\KSA_project2\\dataset\\Features\\Uni_2h_fivecrop\\TCGA-CL-4957_nonMSIH\\TCGA-CL-4957_nonMSIH_x46672_y21056_patch02983.pt cannot be opened.\n",
      "ERROR:__main__:Error saving D:\\Aamir Gulzar\\KSA_project2\\dataset\\patch_data\\TCGA-CL-4957_nonMSIH\\TCGA-CL-4957_nonMSIH_x46672_y21568_patch02984.png: File D:\\Aamir Gulzar\\KSA_project2\\dataset\\Features\\Uni_2h_fivecrop\\TCGA-CL-4957_nonMSIH\\TCGA-CL-4957_nonMSIH_x46672_y21568_patch02984.pt cannot be opened.\n",
      "ERROR:__main__:Error saving D:\\Aamir Gulzar\\KSA_project2\\dataset\\patch_data\\TCGA-CL-4957_nonMSIH\\TCGA-CL-4957_nonMSIH_x46672_y2624_patch02950.png: File D:\\Aamir Gulzar\\KSA_project2\\dataset\\Features\\Uni_2h_fivecrop\\TCGA-CL-4957_nonMSIH\\TCGA-CL-4957_nonMSIH_x46672_y2624_patch02950.pt cannot be opened.\n",
      "ERROR:__main__:Error saving D:\\Aamir Gulzar\\KSA_project2\\dataset\\patch_data\\TCGA-CL-4957_nonMSIH\\TCGA-CL-4957_nonMSIH_x46672_y22080_patch02985.png: File D:\\Aamir Gulzar\\KSA_project2\\dataset\\Features\\Uni_2h_fivecrop\\TCGA-CL-4957_nonMSIH\\TCGA-CL-4957_nonMSIH_x46672_y22080_patch02985.pt cannot be opened.\n",
      "ERROR:__main__:Error saving D:\\Aamir Gulzar\\KSA_project2\\dataset\\patch_data\\TCGA-CL-4957_nonMSIH\\TCGA-CL-4957_nonMSIH_x46672_y3136_patch02951.png: File D:\\Aamir Gulzar\\KSA_project2\\dataset\\Features\\Uni_2h_fivecrop\\TCGA-CL-4957_nonMSIH\\TCGA-CL-4957_nonMSIH_x46672_y3136_patch02951.pt cannot be opened.\n",
      "ERROR:__main__:Error saving D:\\Aamir Gulzar\\KSA_project2\\dataset\\patch_data\\TCGA-CL-4957_nonMSIH\\TCGA-CL-4957_nonMSIH_x46672_y3648_patch02952.png: File D:\\Aamir Gulzar\\KSA_project2\\dataset\\Features\\Uni_2h_fivecrop\\TCGA-CL-4957_nonMSIH\\TCGA-CL-4957_nonMSIH_x46672_y3648_patch02952.pt cannot be opened.\n",
      "ERROR:__main__:Error saving D:\\Aamir Gulzar\\KSA_project2\\dataset\\patch_data\\TCGA-CL-4957_nonMSIH\\TCGA-CL-4957_nonMSIH_x46672_y5696_patch02953.png: File D:\\Aamir Gulzar\\KSA_project2\\dataset\\Features\\Uni_2h_fivecrop\\TCGA-CL-4957_nonMSIH\\TCGA-CL-4957_nonMSIH_x46672_y5696_patch02953.pt cannot be opened.\n",
      "ERROR:__main__:Error saving D:\\Aamir Gulzar\\KSA_project2\\dataset\\patch_data\\TCGA-CL-4957_nonMSIH\\TCGA-CL-4957_nonMSIH_x46672_y6720_patch02955.png: File D:\\Aamir Gulzar\\KSA_project2\\dataset\\Features\\Uni_2h_fivecrop\\TCGA-CL-4957_nonMSIH\\TCGA-CL-4957_nonMSIH_x46672_y6720_patch02955.pt cannot be opened.\n",
      "ERROR:__main__:Error saving D:\\Aamir Gulzar\\KSA_project2\\dataset\\patch_data\\TCGA-CL-4957_nonMSIH\\TCGA-CL-4957_nonMSIH_x46672_y6208_patch02954.png: File D:\\Aamir Gulzar\\KSA_project2\\dataset\\Features\\Uni_2h_fivecrop\\TCGA-CL-4957_nonMSIH\\TCGA-CL-4957_nonMSIH_x46672_y6208_patch02954.pt cannot be opened.\n",
      "ERROR:__main__:Error saving D:\\Aamir Gulzar\\KSA_project2\\dataset\\patch_data\\TCGA-CL-4957_nonMSIH\\TCGA-CL-4957_nonMSIH_x46672_y7232_patch02956.png: File D:\\Aamir Gulzar\\KSA_project2\\dataset\\Features\\Uni_2h_fivecrop\\TCGA-CL-4957_nonMSIH\\TCGA-CL-4957_nonMSIH_x46672_y7232_patch02956.pt cannot be opened.\n",
      "ERROR:__main__:Error saving D:\\Aamir Gulzar\\KSA_project2\\dataset\\patch_data\\TCGA-CL-4957_nonMSIH\\TCGA-CL-4957_nonMSIH_x46672_y8256_patch02958.png: File D:\\Aamir Gulzar\\KSA_project2\\dataset\\Features\\Uni_2h_fivecrop\\TCGA-CL-4957_nonMSIH\\TCGA-CL-4957_nonMSIH_x46672_y8256_patch02958.pt cannot be opened.\n",
      "ERROR:__main__:Error saving D:\\Aamir Gulzar\\KSA_project2\\dataset\\patch_data\\TCGA-CL-4957_nonMSIH\\TCGA-CL-4957_nonMSIH_x46672_y7744_patch02957.png: File D:\\Aamir Gulzar\\KSA_project2\\dataset\\Features\\Uni_2h_fivecrop\\TCGA-CL-4957_nonMSIH\\TCGA-CL-4957_nonMSIH_x46672_y7744_patch02957.pt cannot be opened.\n",
      "ERROR:__main__:Error saving D:\\Aamir Gulzar\\KSA_project2\\dataset\\patch_data\\TCGA-CL-4957_nonMSIH\\TCGA-CL-4957_nonMSIH_x46672_y8768_patch02959.png: File D:\\Aamir Gulzar\\KSA_project2\\dataset\\Features\\Uni_2h_fivecrop\\TCGA-CL-4957_nonMSIH\\TCGA-CL-4957_nonMSIH_x46672_y8768_patch02959.pt cannot be opened.\n",
      "ERROR:__main__:Error saving D:\\Aamir Gulzar\\KSA_project2\\dataset\\patch_data\\TCGA-CL-4957_nonMSIH\\TCGA-CL-4957_nonMSIH_x46672_y9280_patch02960.png: File D:\\Aamir Gulzar\\KSA_project2\\dataset\\Features\\Uni_2h_fivecrop\\TCGA-CL-4957_nonMSIH\\TCGA-CL-4957_nonMSIH_x46672_y9280_patch02960.pt cannot be opened.\n",
      "ERROR:__main__:Error saving D:\\Aamir Gulzar\\KSA_project2\\dataset\\patch_data\\TCGA-CL-4957_nonMSIH\\TCGA-CL-4957_nonMSIH_x46672_y9792_patch02961.png: File D:\\Aamir Gulzar\\KSA_project2\\dataset\\Features\\Uni_2h_fivecrop\\TCGA-CL-4957_nonMSIH\\TCGA-CL-4957_nonMSIH_x46672_y9792_patch02961.pt cannot be opened.\n",
      "ERROR:__main__:Error saving D:\\Aamir Gulzar\\KSA_project2\\dataset\\patch_data\\TCGA-CL-4957_nonMSIH\\TCGA-CL-4957_nonMSIH_x4688_y13376_patch00143.png: File D:\\Aamir Gulzar\\KSA_project2\\dataset\\Features\\Uni_2h_fivecrop\\TCGA-CL-4957_nonMSIH\\TCGA-CL-4957_nonMSIH_x4688_y13376_patch00143.pt cannot be opened.\n",
      "ERROR:__main__:Error saving D:\\Aamir Gulzar\\KSA_project2\\dataset\\patch_data\\TCGA-CL-4957_nonMSIH\\TCGA-CL-4957_nonMSIH_x4688_y13888_patch00144.png: File D:\\Aamir Gulzar\\KSA_project2\\dataset\\Features\\Uni_2h_fivecrop\\TCGA-CL-4957_nonMSIH\\TCGA-CL-4957_nonMSIH_x4688_y13888_patch00144.pt cannot be opened.\n",
      "ERROR:__main__:Error saving D:\\Aamir Gulzar\\KSA_project2\\dataset\\patch_data\\TCGA-CL-4957_nonMSIH\\TCGA-CL-4957_nonMSIH_x4688_y14400_patch00145.png: File D:\\Aamir Gulzar\\KSA_project2\\dataset\\Features\\Uni_2h_fivecrop\\TCGA-CL-4957_nonMSIH\\TCGA-CL-4957_nonMSIH_x4688_y14400_patch00145.pt cannot be opened.\n",
      "ERROR:__main__:Error saving D:\\Aamir Gulzar\\KSA_project2\\dataset\\patch_data\\TCGA-CL-4957_nonMSIH\\TCGA-CL-4957_nonMSIH_x4688_y14912_patch00146.png: File D:\\Aamir Gulzar\\KSA_project2\\dataset\\Features\\Uni_2h_fivecrop\\TCGA-CL-4957_nonMSIH\\TCGA-CL-4957_nonMSIH_x4688_y14912_patch00146.pt cannot be opened.\n",
      "ERROR:__main__:Error saving D:\\Aamir Gulzar\\KSA_project2\\dataset\\patch_data\\TCGA-CL-4957_nonMSIH\\TCGA-CL-4957_nonMSIH_x4688_y15424_patch00147.png: File D:\\Aamir Gulzar\\KSA_project2\\dataset\\Features\\Uni_2h_fivecrop\\TCGA-CL-4957_nonMSIH\\TCGA-CL-4957_nonMSIH_x4688_y15424_patch00147.pt cannot be opened.\n",
      "ERROR:__main__:Error saving D:\\Aamir Gulzar\\KSA_project2\\dataset\\patch_data\\TCGA-CL-4957_nonMSIH\\TCGA-CL-4957_nonMSIH_x4688_y15936_patch00148.png: File D:\\Aamir Gulzar\\KSA_project2\\dataset\\Features\\Uni_2h_fivecrop\\TCGA-CL-4957_nonMSIH\\TCGA-CL-4957_nonMSIH_x4688_y15936_patch00148.pt cannot be opened.\n",
      "ERROR:__main__:Error saving D:\\Aamir Gulzar\\KSA_project2\\dataset\\patch_data\\TCGA-CL-4957_nonMSIH\\TCGA-CL-4957_nonMSIH_x4688_y16448_patch00149.png: File D:\\Aamir Gulzar\\KSA_project2\\dataset\\Features\\Uni_2h_fivecrop\\TCGA-CL-4957_nonMSIH\\TCGA-CL-4957_nonMSIH_x4688_y16448_patch00149.pt cannot be opened.\n",
      "ERROR:__main__:Error saving D:\\Aamir Gulzar\\KSA_project2\\dataset\\patch_data\\TCGA-CL-4957_nonMSIH\\TCGA-CL-4957_nonMSIH_x4688_y16960_patch00150.png: File D:\\Aamir Gulzar\\KSA_project2\\dataset\\Features\\Uni_2h_fivecrop\\TCGA-CL-4957_nonMSIH\\TCGA-CL-4957_nonMSIH_x4688_y16960_patch00150.pt cannot be opened.\n",
      "ERROR:__main__:Error saving D:\\Aamir Gulzar\\KSA_project2\\dataset\\patch_data\\TCGA-CL-4957_nonMSIH\\TCGA-CL-4957_nonMSIH_x4688_y17984_patch00152.png: File D:\\Aamir Gulzar\\KSA_project2\\dataset\\Features\\Uni_2h_fivecrop\\TCGA-CL-4957_nonMSIH\\TCGA-CL-4957_nonMSIH_x4688_y17984_patch00152.pt cannot be opened.\n",
      "ERROR:__main__:Error saving D:\\Aamir Gulzar\\KSA_project2\\dataset\\patch_data\\TCGA-CL-4957_nonMSIH\\TCGA-CL-4957_nonMSIH_x4688_y17472_patch00151.png: File D:\\Aamir Gulzar\\KSA_project2\\dataset\\Features\\Uni_2h_fivecrop\\TCGA-CL-4957_nonMSIH\\TCGA-CL-4957_nonMSIH_x4688_y17472_patch00151.pt cannot be opened.\n",
      "ERROR:__main__:Error saving D:\\Aamir Gulzar\\KSA_project2\\dataset\\patch_data\\TCGA-CL-4957_nonMSIH\\TCGA-CL-4957_nonMSIH_x4688_y18496_patch00153.png: File D:\\Aamir Gulzar\\KSA_project2\\dataset\\Features\\Uni_2h_fivecrop\\TCGA-CL-4957_nonMSIH\\TCGA-CL-4957_nonMSIH_x4688_y18496_patch00153.pt cannot be opened.\n",
      "ERROR:__main__:Error saving D:\\Aamir Gulzar\\KSA_project2\\dataset\\patch_data\\TCGA-CL-4957_nonMSIH\\TCGA-CL-4957_nonMSIH_x4688_y19008_patch00154.png: File D:\\Aamir Gulzar\\KSA_project2\\dataset\\Features\\Uni_2h_fivecrop\\TCGA-CL-4957_nonMSIH\\TCGA-CL-4957_nonMSIH_x4688_y19008_patch00154.pt cannot be opened.\n",
      "ERROR:__main__:Error saving D:\\Aamir Gulzar\\KSA_project2\\dataset\\patch_data\\TCGA-CL-4957_nonMSIH\\TCGA-CL-4957_nonMSIH_x4688_y19520_patch00155.png: File D:\\Aamir Gulzar\\KSA_project2\\dataset\\Features\\Uni_2h_fivecrop\\TCGA-CL-4957_nonMSIH\\TCGA-CL-4957_nonMSIH_x4688_y19520_patch00155.pt cannot be opened.\n",
      "ERROR:__main__:Error saving D:\\Aamir Gulzar\\KSA_project2\\dataset\\patch_data\\TCGA-CL-4957_nonMSIH\\TCGA-CL-4957_nonMSIH_x4688_y20032_patch00156.png: File D:\\Aamir Gulzar\\KSA_project2\\dataset\\Features\\Uni_2h_fivecrop\\TCGA-CL-4957_nonMSIH\\TCGA-CL-4957_nonMSIH_x4688_y20032_patch00156.pt cannot be opened.\n",
      "ERROR:__main__:Error saving D:\\Aamir Gulzar\\KSA_project2\\dataset\\patch_data\\TCGA-CL-4957_nonMSIH\\TCGA-CL-4957_nonMSIH_x4688_y20544_patch00157.png: File D:\\Aamir Gulzar\\KSA_project2\\dataset\\Features\\Uni_2h_fivecrop\\TCGA-CL-4957_nonMSIH\\TCGA-CL-4957_nonMSIH_x4688_y20544_patch00157.pt cannot be opened.\n",
      "ERROR:__main__:Error saving D:\\Aamir Gulzar\\KSA_project2\\dataset\\patch_data\\TCGA-CL-4957_nonMSIH\\TCGA-CL-4957_nonMSIH_x4688_y21056_patch00158.png: File D:\\Aamir Gulzar\\KSA_project2\\dataset\\Features\\Uni_2h_fivecrop\\TCGA-CL-4957_nonMSIH\\TCGA-CL-4957_nonMSIH_x4688_y21056_patch00158.pt cannot be opened.\n",
      "ERROR:__main__:Error saving D:\\Aamir Gulzar\\KSA_project2\\dataset\\patch_data\\TCGA-CL-4957_nonMSIH\\TCGA-CL-4957_nonMSIH_x4688_y21568_patch00159.png: File D:\\Aamir Gulzar\\KSA_project2\\dataset\\Features\\Uni_2h_fivecrop\\TCGA-CL-4957_nonMSIH\\TCGA-CL-4957_nonMSIH_x4688_y21568_patch00159.pt cannot be opened.\n",
      "ERROR:__main__:Error saving D:\\Aamir Gulzar\\KSA_project2\\dataset\\patch_data\\TCGA-CL-4957_nonMSIH\\TCGA-CL-4957_nonMSIH_x4688_y22080_patch00160.png: File D:\\Aamir Gulzar\\KSA_project2\\dataset\\Features\\Uni_2h_fivecrop\\TCGA-CL-4957_nonMSIH\\TCGA-CL-4957_nonMSIH_x4688_y22080_patch00160.pt cannot be opened.\n",
      "ERROR:__main__:Error saving D:\\Aamir Gulzar\\KSA_project2\\dataset\\patch_data\\TCGA-CL-4957_nonMSIH\\TCGA-CL-4957_nonMSIH_x4688_y22592_patch00161.png: File D:\\Aamir Gulzar\\KSA_project2\\dataset\\Features\\Uni_2h_fivecrop\\TCGA-CL-4957_nonMSIH\\TCGA-CL-4957_nonMSIH_x4688_y22592_patch00161.pt cannot be opened.\n",
      "ERROR:__main__:Error saving D:\\Aamir Gulzar\\KSA_project2\\dataset\\patch_data\\TCGA-CL-4957_nonMSIH\\TCGA-CL-4957_nonMSIH_x4688_y23104_patch00162.png: File D:\\Aamir Gulzar\\KSA_project2\\dataset\\Features\\Uni_2h_fivecrop\\TCGA-CL-4957_nonMSIH\\TCGA-CL-4957_nonMSIH_x4688_y23104_patch00162.pt cannot be opened.\n",
      "ERROR:__main__:Error saving D:\\Aamir Gulzar\\KSA_project2\\dataset\\patch_data\\TCGA-CL-4957_nonMSIH\\TCGA-CL-4957_nonMSIH_x4688_y23616_patch00163.png: File D:\\Aamir Gulzar\\KSA_project2\\dataset\\Features\\Uni_2h_fivecrop\\TCGA-CL-4957_nonMSIH\\TCGA-CL-4957_nonMSIH_x4688_y23616_patch00163.pt cannot be opened.\n",
      "ERROR:__main__:Error saving D:\\Aamir Gulzar\\KSA_project2\\dataset\\patch_data\\TCGA-CL-4957_nonMSIH\\TCGA-CL-4957_nonMSIH_x4688_y24128_patch00164.png: File D:\\Aamir Gulzar\\KSA_project2\\dataset\\Features\\Uni_2h_fivecrop\\TCGA-CL-4957_nonMSIH\\TCGA-CL-4957_nonMSIH_x4688_y24128_patch00164.pt cannot be opened.\n",
      "ERROR:__main__:Error saving D:\\Aamir Gulzar\\KSA_project2\\dataset\\patch_data\\TCGA-CL-4957_nonMSIH\\TCGA-CL-4957_nonMSIH_x4688_y24640_patch00165.png: File D:\\Aamir Gulzar\\KSA_project2\\dataset\\Features\\Uni_2h_fivecrop\\TCGA-CL-4957_nonMSIH\\TCGA-CL-4957_nonMSIH_x4688_y24640_patch00165.pt cannot be opened.\n",
      "ERROR:__main__:Error saving D:\\Aamir Gulzar\\KSA_project2\\dataset\\patch_data\\TCGA-CL-4957_nonMSIH\\TCGA-CL-4957_nonMSIH_x4688_y25152_patch00166.png: File D:\\Aamir Gulzar\\KSA_project2\\dataset\\Features\\Uni_2h_fivecrop\\TCGA-CL-4957_nonMSIH\\TCGA-CL-4957_nonMSIH_x4688_y25152_patch00166.pt cannot be opened.\n",
      "ERROR:__main__:Error saving D:\\Aamir Gulzar\\KSA_project2\\dataset\\patch_data\\TCGA-CL-4957_nonMSIH\\TCGA-CL-4957_nonMSIH_x4688_y26176_patch00168.png: File D:\\Aamir Gulzar\\KSA_project2\\dataset\\Features\\Uni_2h_fivecrop\\TCGA-CL-4957_nonMSIH\\TCGA-CL-4957_nonMSIH_x4688_y26176_patch00168.pt cannot be opened.\n",
      "ERROR:__main__:Error saving D:\\Aamir Gulzar\\KSA_project2\\dataset\\patch_data\\TCGA-CL-4957_nonMSIH\\TCGA-CL-4957_nonMSIH_x4688_y25664_patch00167.png: File D:\\Aamir Gulzar\\KSA_project2\\dataset\\Features\\Uni_2h_fivecrop\\TCGA-CL-4957_nonMSIH\\TCGA-CL-4957_nonMSIH_x4688_y25664_patch00167.pt cannot be opened.\n",
      "ERROR:__main__:Error saving D:\\Aamir Gulzar\\KSA_project2\\dataset\\patch_data\\TCGA-CL-4957_nonMSIH\\TCGA-CL-4957_nonMSIH_x47184_y10304_patch02995.png: File D:\\Aamir Gulzar\\KSA_project2\\dataset\\Features\\Uni_2h_fivecrop\\TCGA-CL-4957_nonMSIH\\TCGA-CL-4957_nonMSIH_x47184_y10304_patch02995.pt cannot be opened.\n",
      "ERROR:__main__:Error saving D:\\Aamir Gulzar\\KSA_project2\\dataset\\patch_data\\TCGA-CL-4957_nonMSIH\\TCGA-CL-4957_nonMSIH_x47184_y10816_patch02996.png: File D:\\Aamir Gulzar\\KSA_project2\\dataset\\Features\\Uni_2h_fivecrop\\TCGA-CL-4957_nonMSIH\\TCGA-CL-4957_nonMSIH_x47184_y10816_patch02996.pt cannot be opened.\n",
      "ERROR:__main__:Error saving D:\\Aamir Gulzar\\KSA_project2\\dataset\\patch_data\\TCGA-CL-4957_nonMSIH\\TCGA-CL-4957_nonMSIH_x47184_y11328_patch02997.png: File D:\\Aamir Gulzar\\KSA_project2\\dataset\\Features\\Uni_2h_fivecrop\\TCGA-CL-4957_nonMSIH\\TCGA-CL-4957_nonMSIH_x47184_y11328_patch02997.pt cannot be opened.\n",
      "ERROR:__main__:Error saving D:\\Aamir Gulzar\\KSA_project2\\dataset\\patch_data\\TCGA-CL-4957_nonMSIH\\TCGA-CL-4957_nonMSIH_x47184_y11840_patch02998.png: File D:\\Aamir Gulzar\\KSA_project2\\dataset\\Features\\Uni_2h_fivecrop\\TCGA-CL-4957_nonMSIH\\TCGA-CL-4957_nonMSIH_x47184_y11840_patch02998.pt cannot be opened.\n",
      "ERROR:__main__:Error saving D:\\Aamir Gulzar\\KSA_project2\\dataset\\patch_data\\TCGA-CL-4957_nonMSIH\\TCGA-CL-4957_nonMSIH_x47184_y12352_patch02999.png: File D:\\Aamir Gulzar\\KSA_project2\\dataset\\Features\\Uni_2h_fivecrop\\TCGA-CL-4957_nonMSIH\\TCGA-CL-4957_nonMSIH_x47184_y12352_patch02999.pt cannot be opened.\n",
      "ERROR:__main__:Error saving D:\\Aamir Gulzar\\KSA_project2\\dataset\\patch_data\\TCGA-CL-4957_nonMSIH\\TCGA-CL-4957_nonMSIH_x47184_y12864_patch03000.png: File D:\\Aamir Gulzar\\KSA_project2\\dataset\\Features\\Uni_2h_fivecrop\\TCGA-CL-4957_nonMSIH\\TCGA-CL-4957_nonMSIH_x47184_y12864_patch03000.pt cannot be opened.\n",
      "ERROR:__main__:Error saving D:\\Aamir Gulzar\\KSA_project2\\dataset\\patch_data\\TCGA-CL-4957_nonMSIH\\TCGA-CL-4957_nonMSIH_x47184_y13376_patch03001.png: File D:\\Aamir Gulzar\\KSA_project2\\dataset\\Features\\Uni_2h_fivecrop\\TCGA-CL-4957_nonMSIH\\TCGA-CL-4957_nonMSIH_x47184_y13376_patch03001.pt cannot be opened.\n",
      "ERROR:__main__:Error saving D:\\Aamir Gulzar\\KSA_project2\\dataset\\patch_data\\TCGA-CL-4957_nonMSIH\\TCGA-CL-4957_nonMSIH_x47184_y13888_patch03002.png: File D:\\Aamir Gulzar\\KSA_project2\\dataset\\Features\\Uni_2h_fivecrop\\TCGA-CL-4957_nonMSIH\\TCGA-CL-4957_nonMSIH_x47184_y13888_patch03002.pt cannot be opened.\n",
      "ERROR:__main__:Error saving D:\\Aamir Gulzar\\KSA_project2\\dataset\\patch_data\\TCGA-CL-4957_nonMSIH\\TCGA-CL-4957_nonMSIH_x47184_y14400_patch03003.png: File D:\\Aamir Gulzar\\KSA_project2\\dataset\\Features\\Uni_2h_fivecrop\\TCGA-CL-4957_nonMSIH\\TCGA-CL-4957_nonMSIH_x47184_y14400_patch03003.pt cannot be opened.\n",
      "ERROR:__main__:Error saving D:\\Aamir Gulzar\\KSA_project2\\dataset\\patch_data\\TCGA-CL-4957_nonMSIH\\TCGA-CL-4957_nonMSIH_x47184_y14912_patch03004.png: File D:\\Aamir Gulzar\\KSA_project2\\dataset\\Features\\Uni_2h_fivecrop\\TCGA-CL-4957_nonMSIH\\TCGA-CL-4957_nonMSIH_x47184_y14912_patch03004.pt cannot be opened.\n",
      "ERROR:__main__:Error saving D:\\Aamir Gulzar\\KSA_project2\\dataset\\patch_data\\TCGA-CL-4957_nonMSIH\\TCGA-CL-4957_nonMSIH_x47184_y15424_patch03005.png: File D:\\Aamir Gulzar\\KSA_project2\\dataset\\Features\\Uni_2h_fivecrop\\TCGA-CL-4957_nonMSIH\\TCGA-CL-4957_nonMSIH_x47184_y15424_patch03005.pt cannot be opened.\n",
      "ERROR:__main__:Error saving D:\\Aamir Gulzar\\KSA_project2\\dataset\\patch_data\\TCGA-CL-4957_nonMSIH\\TCGA-CL-4957_nonMSIH_x47184_y15936_patch03006.png: File D:\\Aamir Gulzar\\KSA_project2\\dataset\\Features\\Uni_2h_fivecrop\\TCGA-CL-4957_nonMSIH\\TCGA-CL-4957_nonMSIH_x47184_y15936_patch03006.pt cannot be opened.\n",
      "ERROR:__main__:Error saving D:\\Aamir Gulzar\\KSA_project2\\dataset\\patch_data\\TCGA-CL-4957_nonMSIH\\TCGA-CL-4957_nonMSIH_x47184_y16448_patch03007.png: File D:\\Aamir Gulzar\\KSA_project2\\dataset\\Features\\Uni_2h_fivecrop\\TCGA-CL-4957_nonMSIH\\TCGA-CL-4957_nonMSIH_x47184_y16448_patch03007.pt cannot be opened.\n",
      "ERROR:__main__:Error saving D:\\Aamir Gulzar\\KSA_project2\\dataset\\patch_data\\TCGA-CL-4957_nonMSIH\\TCGA-CL-4957_nonMSIH_x47184_y16960_patch03008.png: File D:\\Aamir Gulzar\\KSA_project2\\dataset\\Features\\Uni_2h_fivecrop\\TCGA-CL-4957_nonMSIH\\TCGA-CL-4957_nonMSIH_x47184_y16960_patch03008.pt cannot be opened.\n",
      "ERROR:__main__:Error saving D:\\Aamir Gulzar\\KSA_project2\\dataset\\patch_data\\TCGA-CL-4957_nonMSIH\\TCGA-CL-4957_nonMSIH_x47184_y17472_patch03009.png: File D:\\Aamir Gulzar\\KSA_project2\\dataset\\Features\\Uni_2h_fivecrop\\TCGA-CL-4957_nonMSIH\\TCGA-CL-4957_nonMSIH_x47184_y17472_patch03009.pt cannot be opened.\n",
      "ERROR:__main__:Error saving D:\\Aamir Gulzar\\KSA_project2\\dataset\\patch_data\\TCGA-CL-4957_nonMSIH\\TCGA-CL-4957_nonMSIH_x47184_y17984_patch03010.png: File D:\\Aamir Gulzar\\KSA_project2\\dataset\\Features\\Uni_2h_fivecrop\\TCGA-CL-4957_nonMSIH\\TCGA-CL-4957_nonMSIH_x47184_y17984_patch03010.pt cannot be opened.\n",
      "ERROR:__main__:Error saving D:\\Aamir Gulzar\\KSA_project2\\dataset\\patch_data\\TCGA-CL-4957_nonMSIH\\TCGA-CL-4957_nonMSIH_x47184_y18496_patch03011.png: File D:\\Aamir Gulzar\\KSA_project2\\dataset\\Features\\Uni_2h_fivecrop\\TCGA-CL-4957_nonMSIH\\TCGA-CL-4957_nonMSIH_x47184_y18496_patch03011.pt cannot be opened.\n",
      "ERROR:__main__:Error saving D:\\Aamir Gulzar\\KSA_project2\\dataset\\patch_data\\TCGA-CL-4957_nonMSIH\\TCGA-CL-4957_nonMSIH_x47184_y19008_patch03012.png: File D:\\Aamir Gulzar\\KSA_project2\\dataset\\Features\\Uni_2h_fivecrop\\TCGA-CL-4957_nonMSIH\\TCGA-CL-4957_nonMSIH_x47184_y19008_patch03012.pt cannot be opened.\n",
      "ERROR:__main__:Error saving D:\\Aamir Gulzar\\KSA_project2\\dataset\\patch_data\\TCGA-CL-4957_nonMSIH\\TCGA-CL-4957_nonMSIH_x47184_y19520_patch03013.png: File D:\\Aamir Gulzar\\KSA_project2\\dataset\\Features\\Uni_2h_fivecrop\\TCGA-CL-4957_nonMSIH\\TCGA-CL-4957_nonMSIH_x47184_y19520_patch03013.pt cannot be opened.\n",
      "ERROR:__main__:Error saving D:\\Aamir Gulzar\\KSA_project2\\dataset\\patch_data\\TCGA-CL-4957_nonMSIH\\TCGA-CL-4957_nonMSIH_x47184_y20032_patch03014.png: File D:\\Aamir Gulzar\\KSA_project2\\dataset\\Features\\Uni_2h_fivecrop\\TCGA-CL-4957_nonMSIH\\TCGA-CL-4957_nonMSIH_x47184_y20032_patch03014.pt cannot be opened.\n",
      "ERROR:__main__:Error saving D:\\Aamir Gulzar\\KSA_project2\\dataset\\patch_data\\TCGA-CL-4957_nonMSIH\\TCGA-CL-4957_nonMSIH_x47184_y20544_patch03015.png: File D:\\Aamir Gulzar\\KSA_project2\\dataset\\Features\\Uni_2h_fivecrop\\TCGA-CL-4957_nonMSIH\\TCGA-CL-4957_nonMSIH_x47184_y20544_patch03015.pt cannot be opened.\n",
      "ERROR:__main__:Error saving D:\\Aamir Gulzar\\KSA_project2\\dataset\\patch_data\\TCGA-CL-4957_nonMSIH\\TCGA-CL-4957_nonMSIH_x47184_y21056_patch03016.png: File D:\\Aamir Gulzar\\KSA_project2\\dataset\\Features\\Uni_2h_fivecrop\\TCGA-CL-4957_nonMSIH\\TCGA-CL-4957_nonMSIH_x47184_y21056_patch03016.pt cannot be opened.\n",
      "ERROR:__main__:Error saving D:\\Aamir Gulzar\\KSA_project2\\dataset\\patch_data\\TCGA-CL-4957_nonMSIH\\TCGA-CL-4957_nonMSIH_x47184_y21568_patch03017.png: File D:\\Aamir Gulzar\\KSA_project2\\dataset\\Features\\Uni_2h_fivecrop\\TCGA-CL-4957_nonMSIH\\TCGA-CL-4957_nonMSIH_x47184_y21568_patch03017.pt cannot be opened.\n",
      "ERROR:__main__:Error saving D:\\Aamir Gulzar\\KSA_project2\\dataset\\patch_data\\TCGA-CL-4957_nonMSIH\\TCGA-CL-4957_nonMSIH_x47184_y22080_patch03018.png: File D:\\Aamir Gulzar\\KSA_project2\\dataset\\Features\\Uni_2h_fivecrop\\TCGA-CL-4957_nonMSIH\\TCGA-CL-4957_nonMSIH_x47184_y22080_patch03018.pt cannot be opened.\n",
      "ERROR:__main__:Error saving D:\\Aamir Gulzar\\KSA_project2\\dataset\\patch_data\\TCGA-CL-4957_nonMSIH\\TCGA-CL-4957_nonMSIH_x47184_y5696_patch02986.png: File D:\\Aamir Gulzar\\KSA_project2\\dataset\\Features\\Uni_2h_fivecrop\\TCGA-CL-4957_nonMSIH\\TCGA-CL-4957_nonMSIH_x47184_y5696_patch02986.pt cannot be opened.\n",
      "ERROR:__main__:Error saving D:\\Aamir Gulzar\\KSA_project2\\dataset\\patch_data\\TCGA-CL-4957_nonMSIH\\TCGA-CL-4957_nonMSIH_x47184_y6208_patch02987.png: File D:\\Aamir Gulzar\\KSA_project2\\dataset\\Features\\Uni_2h_fivecrop\\TCGA-CL-4957_nonMSIH\\TCGA-CL-4957_nonMSIH_x47184_y6208_patch02987.pt cannot be opened.\n",
      "ERROR:__main__:Error saving D:\\Aamir Gulzar\\KSA_project2\\dataset\\patch_data\\TCGA-CL-4957_nonMSIH\\TCGA-CL-4957_nonMSIH_x47184_y6720_patch02988.png: File D:\\Aamir Gulzar\\KSA_project2\\dataset\\Features\\Uni_2h_fivecrop\\TCGA-CL-4957_nonMSIH\\TCGA-CL-4957_nonMSIH_x47184_y6720_patch02988.pt cannot be opened.\n",
      "ERROR:__main__:Error saving D:\\Aamir Gulzar\\KSA_project2\\dataset\\patch_data\\TCGA-CL-4957_nonMSIH\\TCGA-CL-4957_nonMSIH_x47184_y7232_patch02989.png: File D:\\Aamir Gulzar\\KSA_project2\\dataset\\Features\\Uni_2h_fivecrop\\TCGA-CL-4957_nonMSIH\\TCGA-CL-4957_nonMSIH_x47184_y7232_patch02989.pt cannot be opened.\n",
      "ERROR:__main__:Error saving D:\\Aamir Gulzar\\KSA_project2\\dataset\\patch_data\\TCGA-CL-4957_nonMSIH\\TCGA-CL-4957_nonMSIH_x47184_y7744_patch02990.png: File D:\\Aamir Gulzar\\KSA_project2\\dataset\\Features\\Uni_2h_fivecrop\\TCGA-CL-4957_nonMSIH\\TCGA-CL-4957_nonMSIH_x47184_y7744_patch02990.pt cannot be opened.\n",
      "ERROR:__main__:Error saving D:\\Aamir Gulzar\\KSA_project2\\dataset\\patch_data\\TCGA-CL-4957_nonMSIH\\TCGA-CL-4957_nonMSIH_x47184_y8256_patch02991.png: File D:\\Aamir Gulzar\\KSA_project2\\dataset\\Features\\Uni_2h_fivecrop\\TCGA-CL-4957_nonMSIH\\TCGA-CL-4957_nonMSIH_x47184_y8256_patch02991.pt cannot be opened.\n",
      "ERROR:__main__:Error saving D:\\Aamir Gulzar\\KSA_project2\\dataset\\patch_data\\TCGA-CL-4957_nonMSIH\\TCGA-CL-4957_nonMSIH_x47184_y8768_patch02992.png: File D:\\Aamir Gulzar\\KSA_project2\\dataset\\Features\\Uni_2h_fivecrop\\TCGA-CL-4957_nonMSIH\\TCGA-CL-4957_nonMSIH_x47184_y8768_patch02992.pt cannot be opened.\n",
      "ERROR:__main__:Error saving D:\\Aamir Gulzar\\KSA_project2\\dataset\\patch_data\\TCGA-CL-4957_nonMSIH\\TCGA-CL-4957_nonMSIH_x47184_y9792_patch02994.png: File D:\\Aamir Gulzar\\KSA_project2\\dataset\\Features\\Uni_2h_fivecrop\\TCGA-CL-4957_nonMSIH\\TCGA-CL-4957_nonMSIH_x47184_y9792_patch02994.pt cannot be opened.\n",
      "ERROR:__main__:Error saving D:\\Aamir Gulzar\\KSA_project2\\dataset\\patch_data\\TCGA-CL-4957_nonMSIH\\TCGA-CL-4957_nonMSIH_x47184_y9280_patch02993.png: File D:\\Aamir Gulzar\\KSA_project2\\dataset\\Features\\Uni_2h_fivecrop\\TCGA-CL-4957_nonMSIH\\TCGA-CL-4957_nonMSIH_x47184_y9280_patch02993.pt cannot be opened.\n",
      "ERROR:__main__:Error saving D:\\Aamir Gulzar\\KSA_project2\\dataset\\patch_data\\TCGA-CL-4957_nonMSIH\\TCGA-CL-4957_nonMSIH_x47696_y10304_patch03028.png: File D:\\Aamir Gulzar\\KSA_project2\\dataset\\Features\\Uni_2h_fivecrop\\TCGA-CL-4957_nonMSIH\\TCGA-CL-4957_nonMSIH_x47696_y10304_patch03028.pt cannot be opened.\n",
      "ERROR:__main__:Error saving D:\\Aamir Gulzar\\KSA_project2\\dataset\\patch_data\\TCGA-CL-4957_nonMSIH\\TCGA-CL-4957_nonMSIH_x47696_y10816_patch03029.png: File D:\\Aamir Gulzar\\KSA_project2\\dataset\\Features\\Uni_2h_fivecrop\\TCGA-CL-4957_nonMSIH\\TCGA-CL-4957_nonMSIH_x47696_y10816_patch03029.pt cannot be opened.\n",
      "ERROR:__main__:Error saving D:\\Aamir Gulzar\\KSA_project2\\dataset\\patch_data\\TCGA-CL-4957_nonMSIH\\TCGA-CL-4957_nonMSIH_x47696_y11328_patch03030.png: File D:\\Aamir Gulzar\\KSA_project2\\dataset\\Features\\Uni_2h_fivecrop\\TCGA-CL-4957_nonMSIH\\TCGA-CL-4957_nonMSIH_x47696_y11328_patch03030.pt cannot be opened.\n",
      "ERROR:__main__:Error saving D:\\Aamir Gulzar\\KSA_project2\\dataset\\patch_data\\TCGA-CL-4957_nonMSIH\\TCGA-CL-4957_nonMSIH_x47696_y11840_patch03031.png: File D:\\Aamir Gulzar\\KSA_project2\\dataset\\Features\\Uni_2h_fivecrop\\TCGA-CL-4957_nonMSIH\\TCGA-CL-4957_nonMSIH_x47696_y11840_patch03031.pt cannot be opened.\n",
      "ERROR:__main__:Error saving D:\\Aamir Gulzar\\KSA_project2\\dataset\\patch_data\\TCGA-CL-4957_nonMSIH\\TCGA-CL-4957_nonMSIH_x47696_y12352_patch03032.png: File D:\\Aamir Gulzar\\KSA_project2\\dataset\\Features\\Uni_2h_fivecrop\\TCGA-CL-4957_nonMSIH\\TCGA-CL-4957_nonMSIH_x47696_y12352_patch03032.pt cannot be opened.\n",
      "ERROR:__main__:Error saving D:\\Aamir Gulzar\\KSA_project2\\dataset\\patch_data\\TCGA-CL-4957_nonMSIH\\TCGA-CL-4957_nonMSIH_x47696_y12864_patch03033.png: File D:\\Aamir Gulzar\\KSA_project2\\dataset\\Features\\Uni_2h_fivecrop\\TCGA-CL-4957_nonMSIH\\TCGA-CL-4957_nonMSIH_x47696_y12864_patch03033.pt cannot be opened.\n",
      "ERROR:__main__:Error saving D:\\Aamir Gulzar\\KSA_project2\\dataset\\patch_data\\TCGA-CL-4957_nonMSIH\\TCGA-CL-4957_nonMSIH_x47696_y13376_patch03034.png: File D:\\Aamir Gulzar\\KSA_project2\\dataset\\Features\\Uni_2h_fivecrop\\TCGA-CL-4957_nonMSIH\\TCGA-CL-4957_nonMSIH_x47696_y13376_patch03034.pt cannot be opened.\n",
      "ERROR:__main__:Error saving D:\\Aamir Gulzar\\KSA_project2\\dataset\\patch_data\\TCGA-CL-4957_nonMSIH\\TCGA-CL-4957_nonMSIH_x47696_y13888_patch03035.png: File D:\\Aamir Gulzar\\KSA_project2\\dataset\\Features\\Uni_2h_fivecrop\\TCGA-CL-4957_nonMSIH\\TCGA-CL-4957_nonMSIH_x47696_y13888_patch03035.pt cannot be opened.\n",
      "ERROR:__main__:Error saving D:\\Aamir Gulzar\\KSA_project2\\dataset\\patch_data\\TCGA-CL-4957_nonMSIH\\TCGA-CL-4957_nonMSIH_x47696_y14400_patch03036.png: File D:\\Aamir Gulzar\\KSA_project2\\dataset\\Features\\Uni_2h_fivecrop\\TCGA-CL-4957_nonMSIH\\TCGA-CL-4957_nonMSIH_x47696_y14400_patch03036.pt cannot be opened.\n",
      "ERROR:__main__:Error saving D:\\Aamir Gulzar\\KSA_project2\\dataset\\patch_data\\TCGA-CL-4957_nonMSIH\\TCGA-CL-4957_nonMSIH_x47696_y14912_patch03037.png: File D:\\Aamir Gulzar\\KSA_project2\\dataset\\Features\\Uni_2h_fivecrop\\TCGA-CL-4957_nonMSIH\\TCGA-CL-4957_nonMSIH_x47696_y14912_patch03037.pt cannot be opened.\n",
      "ERROR:__main__:Error saving D:\\Aamir Gulzar\\KSA_project2\\dataset\\patch_data\\TCGA-CL-4957_nonMSIH\\TCGA-CL-4957_nonMSIH_x47696_y15424_patch03038.png: File D:\\Aamir Gulzar\\KSA_project2\\dataset\\Features\\Uni_2h_fivecrop\\TCGA-CL-4957_nonMSIH\\TCGA-CL-4957_nonMSIH_x47696_y15424_patch03038.pt cannot be opened.\n",
      "ERROR:__main__:Error saving D:\\Aamir Gulzar\\KSA_project2\\dataset\\patch_data\\TCGA-CL-4957_nonMSIH\\TCGA-CL-4957_nonMSIH_x47696_y15936_patch03039.png: File D:\\Aamir Gulzar\\KSA_project2\\dataset\\Features\\Uni_2h_fivecrop\\TCGA-CL-4957_nonMSIH\\TCGA-CL-4957_nonMSIH_x47696_y15936_patch03039.pt cannot be opened.\n",
      "ERROR:__main__:Error saving D:\\Aamir Gulzar\\KSA_project2\\dataset\\patch_data\\TCGA-CL-4957_nonMSIH\\TCGA-CL-4957_nonMSIH_x47696_y16960_patch03041.png: File D:\\Aamir Gulzar\\KSA_project2\\dataset\\Features\\Uni_2h_fivecrop\\TCGA-CL-4957_nonMSIH\\TCGA-CL-4957_nonMSIH_x47696_y16960_patch03041.pt cannot be opened.\n",
      "ERROR:__main__:Error saving D:\\Aamir Gulzar\\KSA_project2\\dataset\\patch_data\\TCGA-CL-4957_nonMSIH\\TCGA-CL-4957_nonMSIH_x47696_y16448_patch03040.png: File D:\\Aamir Gulzar\\KSA_project2\\dataset\\Features\\Uni_2h_fivecrop\\TCGA-CL-4957_nonMSIH\\TCGA-CL-4957_nonMSIH_x47696_y16448_patch03040.pt cannot be opened.\n",
      "ERROR:__main__:Error saving D:\\Aamir Gulzar\\KSA_project2\\dataset\\patch_data\\TCGA-CL-4957_nonMSIH\\TCGA-CL-4957_nonMSIH_x47696_y17472_patch03042.png: File D:\\Aamir Gulzar\\KSA_project2\\dataset\\Features\\Uni_2h_fivecrop\\TCGA-CL-4957_nonMSIH\\TCGA-CL-4957_nonMSIH_x47696_y17472_patch03042.pt cannot be opened.\n",
      "ERROR:__main__:Error saving D:\\Aamir Gulzar\\KSA_project2\\dataset\\patch_data\\TCGA-CL-4957_nonMSIH\\TCGA-CL-4957_nonMSIH_x47696_y17984_patch03043.png: File D:\\Aamir Gulzar\\KSA_project2\\dataset\\Features\\Uni_2h_fivecrop\\TCGA-CL-4957_nonMSIH\\TCGA-CL-4957_nonMSIH_x47696_y17984_patch03043.pt cannot be opened.\n",
      "ERROR:__main__:Error saving D:\\Aamir Gulzar\\KSA_project2\\dataset\\patch_data\\TCGA-CL-4957_nonMSIH\\TCGA-CL-4957_nonMSIH_x47696_y18496_patch03044.png: File D:\\Aamir Gulzar\\KSA_project2\\dataset\\Features\\Uni_2h_fivecrop\\TCGA-CL-4957_nonMSIH\\TCGA-CL-4957_nonMSIH_x47696_y18496_patch03044.pt cannot be opened.\n",
      "ERROR:__main__:Error saving D:\\Aamir Gulzar\\KSA_project2\\dataset\\patch_data\\TCGA-CL-4957_nonMSIH\\TCGA-CL-4957_nonMSIH_x47696_y19008_patch03045.png: File D:\\Aamir Gulzar\\KSA_project2\\dataset\\Features\\Uni_2h_fivecrop\\TCGA-CL-4957_nonMSIH\\TCGA-CL-4957_nonMSIH_x47696_y19008_patch03045.pt cannot be opened.\n",
      "ERROR:__main__:Error saving D:\\Aamir Gulzar\\KSA_project2\\dataset\\patch_data\\TCGA-CL-4957_nonMSIH\\TCGA-CL-4957_nonMSIH_x47696_y19520_patch03046.png: File D:\\Aamir Gulzar\\KSA_project2\\dataset\\Features\\Uni_2h_fivecrop\\TCGA-CL-4957_nonMSIH\\TCGA-CL-4957_nonMSIH_x47696_y19520_patch03046.pt cannot be opened.\n",
      "ERROR:__main__:Error saving D:\\Aamir Gulzar\\KSA_project2\\dataset\\patch_data\\TCGA-CL-4957_nonMSIH\\TCGA-CL-4957_nonMSIH_x47696_y20032_patch03047.png: File D:\\Aamir Gulzar\\KSA_project2\\dataset\\Features\\Uni_2h_fivecrop\\TCGA-CL-4957_nonMSIH\\TCGA-CL-4957_nonMSIH_x47696_y20032_patch03047.pt cannot be opened.\n",
      "ERROR:__main__:Error saving D:\\Aamir Gulzar\\KSA_project2\\dataset\\patch_data\\TCGA-CL-4957_nonMSIH\\TCGA-CL-4957_nonMSIH_x47696_y20544_patch03048.png: File D:\\Aamir Gulzar\\KSA_project2\\dataset\\Features\\Uni_2h_fivecrop\\TCGA-CL-4957_nonMSIH\\TCGA-CL-4957_nonMSIH_x47696_y20544_patch03048.pt cannot be opened.\n",
      "ERROR:__main__:Error saving D:\\Aamir Gulzar\\KSA_project2\\dataset\\patch_data\\TCGA-CL-4957_nonMSIH\\TCGA-CL-4957_nonMSIH_x47696_y21056_patch03049.png: File D:\\Aamir Gulzar\\KSA_project2\\dataset\\Features\\Uni_2h_fivecrop\\TCGA-CL-4957_nonMSIH\\TCGA-CL-4957_nonMSIH_x47696_y21056_patch03049.pt cannot be opened.\n",
      "ERROR:__main__:Error saving D:\\Aamir Gulzar\\KSA_project2\\dataset\\patch_data\\TCGA-CL-4957_nonMSIH\\TCGA-CL-4957_nonMSIH_x47696_y21568_patch03050.png: File D:\\Aamir Gulzar\\KSA_project2\\dataset\\Features\\Uni_2h_fivecrop\\TCGA-CL-4957_nonMSIH\\TCGA-CL-4957_nonMSIH_x47696_y21568_patch03050.pt cannot be opened.\n",
      "ERROR:__main__:Error saving D:\\Aamir Gulzar\\KSA_project2\\dataset\\patch_data\\TCGA-CL-4957_nonMSIH\\TCGA-CL-4957_nonMSIH_x47696_y5696_patch03019.png: File D:\\Aamir Gulzar\\KSA_project2\\dataset\\Features\\Uni_2h_fivecrop\\TCGA-CL-4957_nonMSIH\\TCGA-CL-4957_nonMSIH_x47696_y5696_patch03019.pt cannot be opened.\n",
      "ERROR:__main__:Error saving D:\\Aamir Gulzar\\KSA_project2\\dataset\\patch_data\\TCGA-CL-4957_nonMSIH\\TCGA-CL-4957_nonMSIH_x47696_y6208_patch03020.png: File D:\\Aamir Gulzar\\KSA_project2\\dataset\\Features\\Uni_2h_fivecrop\\TCGA-CL-4957_nonMSIH\\TCGA-CL-4957_nonMSIH_x47696_y6208_patch03020.pt cannot be opened.\n",
      "ERROR:__main__:Error saving D:\\Aamir Gulzar\\KSA_project2\\dataset\\patch_data\\TCGA-CL-4957_nonMSIH\\TCGA-CL-4957_nonMSIH_x47696_y6720_patch03021.png: File D:\\Aamir Gulzar\\KSA_project2\\dataset\\Features\\Uni_2h_fivecrop\\TCGA-CL-4957_nonMSIH\\TCGA-CL-4957_nonMSIH_x47696_y6720_patch03021.pt cannot be opened.\n",
      "ERROR:__main__:Error saving D:\\Aamir Gulzar\\KSA_project2\\dataset\\patch_data\\TCGA-CL-4957_nonMSIH\\TCGA-CL-4957_nonMSIH_x47696_y7232_patch03022.png: File D:\\Aamir Gulzar\\KSA_project2\\dataset\\Features\\Uni_2h_fivecrop\\TCGA-CL-4957_nonMSIH\\TCGA-CL-4957_nonMSIH_x47696_y7232_patch03022.pt cannot be opened.\n",
      "ERROR:__main__:Error saving D:\\Aamir Gulzar\\KSA_project2\\dataset\\patch_data\\TCGA-CL-4957_nonMSIH\\TCGA-CL-4957_nonMSIH_x47696_y8256_patch03024.png: File D:\\Aamir Gulzar\\KSA_project2\\dataset\\Features\\Uni_2h_fivecrop\\TCGA-CL-4957_nonMSIH\\TCGA-CL-4957_nonMSIH_x47696_y8256_patch03024.pt cannot be opened.\n",
      "ERROR:__main__:Error saving D:\\Aamir Gulzar\\KSA_project2\\dataset\\patch_data\\TCGA-CL-4957_nonMSIH\\TCGA-CL-4957_nonMSIH_x47696_y7744_patch03023.png: File D:\\Aamir Gulzar\\KSA_project2\\dataset\\Features\\Uni_2h_fivecrop\\TCGA-CL-4957_nonMSIH\\TCGA-CL-4957_nonMSIH_x47696_y7744_patch03023.pt cannot be opened.\n",
      "ERROR:__main__:Error saving D:\\Aamir Gulzar\\KSA_project2\\dataset\\patch_data\\TCGA-CL-4957_nonMSIH\\TCGA-CL-4957_nonMSIH_x47696_y8768_patch03025.png: File D:\\Aamir Gulzar\\KSA_project2\\dataset\\Features\\Uni_2h_fivecrop\\TCGA-CL-4957_nonMSIH\\TCGA-CL-4957_nonMSIH_x47696_y8768_patch03025.pt cannot be opened.\n",
      "ERROR:__main__:Error saving D:\\Aamir Gulzar\\KSA_project2\\dataset\\patch_data\\TCGA-CL-4957_nonMSIH\\TCGA-CL-4957_nonMSIH_x47696_y9280_patch03026.png: File D:\\Aamir Gulzar\\KSA_project2\\dataset\\Features\\Uni_2h_fivecrop\\TCGA-CL-4957_nonMSIH\\TCGA-CL-4957_nonMSIH_x47696_y9280_patch03026.pt cannot be opened.\n",
      "ERROR:__main__:Error saving D:\\Aamir Gulzar\\KSA_project2\\dataset\\patch_data\\TCGA-CL-4957_nonMSIH\\TCGA-CL-4957_nonMSIH_x47696_y9792_patch03027.png: File D:\\Aamir Gulzar\\KSA_project2\\dataset\\Features\\Uni_2h_fivecrop\\TCGA-CL-4957_nonMSIH\\TCGA-CL-4957_nonMSIH_x47696_y9792_patch03027.pt cannot be opened.\n",
      "ERROR:__main__:Error saving D:\\Aamir Gulzar\\KSA_project2\\dataset\\patch_data\\TCGA-CL-4957_nonMSIH\\TCGA-CL-4957_nonMSIH_x48208_y10304_patch03060.png: File D:\\Aamir Gulzar\\KSA_project2\\dataset\\Features\\Uni_2h_fivecrop\\TCGA-CL-4957_nonMSIH\\TCGA-CL-4957_nonMSIH_x48208_y10304_patch03060.pt cannot be opened.\n",
      "ERROR:__main__:Error saving D:\\Aamir Gulzar\\KSA_project2\\dataset\\patch_data\\TCGA-CL-4957_nonMSIH\\TCGA-CL-4957_nonMSIH_x48208_y10816_patch03061.png: File D:\\Aamir Gulzar\\KSA_project2\\dataset\\Features\\Uni_2h_fivecrop\\TCGA-CL-4957_nonMSIH\\TCGA-CL-4957_nonMSIH_x48208_y10816_patch03061.pt cannot be opened.\n",
      "ERROR:__main__:Error saving D:\\Aamir Gulzar\\KSA_project2\\dataset\\patch_data\\TCGA-CL-4957_nonMSIH\\TCGA-CL-4957_nonMSIH_x48208_y11328_patch03062.png: File D:\\Aamir Gulzar\\KSA_project2\\dataset\\Features\\Uni_2h_fivecrop\\TCGA-CL-4957_nonMSIH\\TCGA-CL-4957_nonMSIH_x48208_y11328_patch03062.pt cannot be opened.\n",
      "ERROR:__main__:Error saving D:\\Aamir Gulzar\\KSA_project2\\dataset\\patch_data\\TCGA-CL-4957_nonMSIH\\TCGA-CL-4957_nonMSIH_x48208_y11840_patch03063.png: File D:\\Aamir Gulzar\\KSA_project2\\dataset\\Features\\Uni_2h_fivecrop\\TCGA-CL-4957_nonMSIH\\TCGA-CL-4957_nonMSIH_x48208_y11840_patch03063.pt cannot be opened.\n",
      "ERROR:__main__:Error saving D:\\Aamir Gulzar\\KSA_project2\\dataset\\patch_data\\TCGA-CL-4957_nonMSIH\\TCGA-CL-4957_nonMSIH_x48208_y12352_patch03064.png: File D:\\Aamir Gulzar\\KSA_project2\\dataset\\Features\\Uni_2h_fivecrop\\TCGA-CL-4957_nonMSIH\\TCGA-CL-4957_nonMSIH_x48208_y12352_patch03064.pt cannot be opened.\n",
      "ERROR:__main__:Error saving D:\\Aamir Gulzar\\KSA_project2\\dataset\\patch_data\\TCGA-CL-4957_nonMSIH\\TCGA-CL-4957_nonMSIH_x48208_y12864_patch03065.png: File D:\\Aamir Gulzar\\KSA_project2\\dataset\\Features\\Uni_2h_fivecrop\\TCGA-CL-4957_nonMSIH\\TCGA-CL-4957_nonMSIH_x48208_y12864_patch03065.pt cannot be opened.\n",
      "ERROR:__main__:Error saving D:\\Aamir Gulzar\\KSA_project2\\dataset\\patch_data\\TCGA-CL-4957_nonMSIH\\TCGA-CL-4957_nonMSIH_x48208_y13376_patch03066.png: File D:\\Aamir Gulzar\\KSA_project2\\dataset\\Features\\Uni_2h_fivecrop\\TCGA-CL-4957_nonMSIH\\TCGA-CL-4957_nonMSIH_x48208_y13376_patch03066.pt cannot be opened.\n",
      "ERROR:__main__:Error saving D:\\Aamir Gulzar\\KSA_project2\\dataset\\patch_data\\TCGA-CL-4957_nonMSIH\\TCGA-CL-4957_nonMSIH_x48208_y13888_patch03067.png: File D:\\Aamir Gulzar\\KSA_project2\\dataset\\Features\\Uni_2h_fivecrop\\TCGA-CL-4957_nonMSIH\\TCGA-CL-4957_nonMSIH_x48208_y13888_patch03067.pt cannot be opened.\n",
      "ERROR:__main__:Error saving D:\\Aamir Gulzar\\KSA_project2\\dataset\\patch_data\\TCGA-CL-4957_nonMSIH\\TCGA-CL-4957_nonMSIH_x48208_y14400_patch03068.png: File D:\\Aamir Gulzar\\KSA_project2\\dataset\\Features\\Uni_2h_fivecrop\\TCGA-CL-4957_nonMSIH\\TCGA-CL-4957_nonMSIH_x48208_y14400_patch03068.pt cannot be opened.\n",
      "ERROR:__main__:Error saving D:\\Aamir Gulzar\\KSA_project2\\dataset\\patch_data\\TCGA-CL-4957_nonMSIH\\TCGA-CL-4957_nonMSIH_x48208_y14912_patch03069.png: File D:\\Aamir Gulzar\\KSA_project2\\dataset\\Features\\Uni_2h_fivecrop\\TCGA-CL-4957_nonMSIH\\TCGA-CL-4957_nonMSIH_x48208_y14912_patch03069.pt cannot be opened.\n",
      "ERROR:__main__:Error saving D:\\Aamir Gulzar\\KSA_project2\\dataset\\patch_data\\TCGA-CL-4957_nonMSIH\\TCGA-CL-4957_nonMSIH_x48208_y15424_patch03070.png: File D:\\Aamir Gulzar\\KSA_project2\\dataset\\Features\\Uni_2h_fivecrop\\TCGA-CL-4957_nonMSIH\\TCGA-CL-4957_nonMSIH_x48208_y15424_patch03070.pt cannot be opened.\n",
      "ERROR:__main__:Error saving D:\\Aamir Gulzar\\KSA_project2\\dataset\\patch_data\\TCGA-CL-4957_nonMSIH\\TCGA-CL-4957_nonMSIH_x48208_y15936_patch03071.png: File D:\\Aamir Gulzar\\KSA_project2\\dataset\\Features\\Uni_2h_fivecrop\\TCGA-CL-4957_nonMSIH\\TCGA-CL-4957_nonMSIH_x48208_y15936_patch03071.pt cannot be opened.\n",
      "ERROR:__main__:Error saving D:\\Aamir Gulzar\\KSA_project2\\dataset\\patch_data\\TCGA-CL-4957_nonMSIH\\TCGA-CL-4957_nonMSIH_x48208_y16448_patch03072.png: File D:\\Aamir Gulzar\\KSA_project2\\dataset\\Features\\Uni_2h_fivecrop\\TCGA-CL-4957_nonMSIH\\TCGA-CL-4957_nonMSIH_x48208_y16448_patch03072.pt cannot be opened.\n",
      "ERROR:__main__:Error saving D:\\Aamir Gulzar\\KSA_project2\\dataset\\patch_data\\TCGA-CL-4957_nonMSIH\\TCGA-CL-4957_nonMSIH_x48208_y16960_patch03073.png: File D:\\Aamir Gulzar\\KSA_project2\\dataset\\Features\\Uni_2h_fivecrop\\TCGA-CL-4957_nonMSIH\\TCGA-CL-4957_nonMSIH_x48208_y16960_patch03073.pt cannot be opened.\n",
      "ERROR:__main__:Error saving D:\\Aamir Gulzar\\KSA_project2\\dataset\\patch_data\\TCGA-CL-4957_nonMSIH\\TCGA-CL-4957_nonMSIH_x48208_y17472_patch03074.png: File D:\\Aamir Gulzar\\KSA_project2\\dataset\\Features\\Uni_2h_fivecrop\\TCGA-CL-4957_nonMSIH\\TCGA-CL-4957_nonMSIH_x48208_y17472_patch03074.pt cannot be opened.\n",
      "ERROR:__main__:Error saving D:\\Aamir Gulzar\\KSA_project2\\dataset\\patch_data\\TCGA-CL-4957_nonMSIH\\TCGA-CL-4957_nonMSIH_x48208_y17984_patch03075.png: File D:\\Aamir Gulzar\\KSA_project2\\dataset\\Features\\Uni_2h_fivecrop\\TCGA-CL-4957_nonMSIH\\TCGA-CL-4957_nonMSIH_x48208_y17984_patch03075.pt cannot be opened.\n",
      "ERROR:__main__:Error saving D:\\Aamir Gulzar\\KSA_project2\\dataset\\patch_data\\TCGA-CL-4957_nonMSIH\\TCGA-CL-4957_nonMSIH_x48208_y18496_patch03076.png: File D:\\Aamir Gulzar\\KSA_project2\\dataset\\Features\\Uni_2h_fivecrop\\TCGA-CL-4957_nonMSIH\\TCGA-CL-4957_nonMSIH_x48208_y18496_patch03076.pt cannot be opened.\n",
      "ERROR:__main__:Error saving D:\\Aamir Gulzar\\KSA_project2\\dataset\\patch_data\\TCGA-CL-4957_nonMSIH\\TCGA-CL-4957_nonMSIH_x48208_y19008_patch03077.png: File D:\\Aamir Gulzar\\KSA_project2\\dataset\\Features\\Uni_2h_fivecrop\\TCGA-CL-4957_nonMSIH\\TCGA-CL-4957_nonMSIH_x48208_y19008_patch03077.pt cannot be opened.\n",
      "ERROR:__main__:Error saving D:\\Aamir Gulzar\\KSA_project2\\dataset\\patch_data\\TCGA-CL-4957_nonMSIH\\TCGA-CL-4957_nonMSIH_x48208_y5696_patch03051.png: File D:\\Aamir Gulzar\\KSA_project2\\dataset\\Features\\Uni_2h_fivecrop\\TCGA-CL-4957_nonMSIH\\TCGA-CL-4957_nonMSIH_x48208_y5696_patch03051.pt cannot be opened.\n",
      "ERROR:__main__:Error saving D:\\Aamir Gulzar\\KSA_project2\\dataset\\patch_data\\TCGA-CL-4957_nonMSIH\\TCGA-CL-4957_nonMSIH_x48208_y7232_patch03054.png: File D:\\Aamir Gulzar\\KSA_project2\\dataset\\Features\\Uni_2h_fivecrop\\TCGA-CL-4957_nonMSIH\\TCGA-CL-4957_nonMSIH_x48208_y7232_patch03054.pt cannot be opened.\n",
      "ERROR:__main__:Error saving D:\\Aamir Gulzar\\KSA_project2\\dataset\\patch_data\\TCGA-CL-4957_nonMSIH\\TCGA-CL-4957_nonMSIH_x48208_y6208_patch03052.png: File D:\\Aamir Gulzar\\KSA_project2\\dataset\\Features\\Uni_2h_fivecrop\\TCGA-CL-4957_nonMSIH\\TCGA-CL-4957_nonMSIH_x48208_y6208_patch03052.pt cannot be opened.\n",
      "ERROR:__main__:Error saving D:\\Aamir Gulzar\\KSA_project2\\dataset\\patch_data\\TCGA-CL-4957_nonMSIH\\TCGA-CL-4957_nonMSIH_x48208_y6720_patch03053.png: File D:\\Aamir Gulzar\\KSA_project2\\dataset\\Features\\Uni_2h_fivecrop\\TCGA-CL-4957_nonMSIH\\TCGA-CL-4957_nonMSIH_x48208_y6720_patch03053.pt cannot be opened.\n",
      "ERROR:__main__:Error saving D:\\Aamir Gulzar\\KSA_project2\\dataset\\patch_data\\TCGA-CL-4957_nonMSIH\\TCGA-CL-4957_nonMSIH_x48208_y7744_patch03055.png: File D:\\Aamir Gulzar\\KSA_project2\\dataset\\Features\\Uni_2h_fivecrop\\TCGA-CL-4957_nonMSIH\\TCGA-CL-4957_nonMSIH_x48208_y7744_patch03055.pt cannot be opened.\n",
      "ERROR:__main__:Error saving D:\\Aamir Gulzar\\KSA_project2\\dataset\\patch_data\\TCGA-CL-4957_nonMSIH\\TCGA-CL-4957_nonMSIH_x48208_y8256_patch03056.png: File D:\\Aamir Gulzar\\KSA_project2\\dataset\\Features\\Uni_2h_fivecrop\\TCGA-CL-4957_nonMSIH\\TCGA-CL-4957_nonMSIH_x48208_y8256_patch03056.pt cannot be opened.\n",
      "ERROR:__main__:Error saving D:\\Aamir Gulzar\\KSA_project2\\dataset\\patch_data\\TCGA-CL-4957_nonMSIH\\TCGA-CL-4957_nonMSIH_x48208_y8768_patch03057.png: File D:\\Aamir Gulzar\\KSA_project2\\dataset\\Features\\Uni_2h_fivecrop\\TCGA-CL-4957_nonMSIH\\TCGA-CL-4957_nonMSIH_x48208_y8768_patch03057.pt cannot be opened.\n",
      "ERROR:__main__:Error saving D:\\Aamir Gulzar\\KSA_project2\\dataset\\patch_data\\TCGA-CL-4957_nonMSIH\\TCGA-CL-4957_nonMSIH_x48208_y9280_patch03058.png: File D:\\Aamir Gulzar\\KSA_project2\\dataset\\Features\\Uni_2h_fivecrop\\TCGA-CL-4957_nonMSIH\\TCGA-CL-4957_nonMSIH_x48208_y9280_patch03058.pt cannot be opened.\n",
      "ERROR:__main__:Error saving D:\\Aamir Gulzar\\KSA_project2\\dataset\\patch_data\\TCGA-CL-4957_nonMSIH\\TCGA-CL-4957_nonMSIH_x48208_y9792_patch03059.png: File D:\\Aamir Gulzar\\KSA_project2\\dataset\\Features\\Uni_2h_fivecrop\\TCGA-CL-4957_nonMSIH\\TCGA-CL-4957_nonMSIH_x48208_y9792_patch03059.pt cannot be opened.\n",
      "ERROR:__main__:Error saving D:\\Aamir Gulzar\\KSA_project2\\dataset\\patch_data\\TCGA-CL-4957_nonMSIH\\TCGA-CL-4957_nonMSIH_x48720_y10304_patch03087.png: File D:\\Aamir Gulzar\\KSA_project2\\dataset\\Features\\Uni_2h_fivecrop\\TCGA-CL-4957_nonMSIH\\TCGA-CL-4957_nonMSIH_x48720_y10304_patch03087.pt cannot be opened.\n",
      "ERROR:__main__:Error saving D:\\Aamir Gulzar\\KSA_project2\\dataset\\patch_data\\TCGA-CL-4957_nonMSIH\\TCGA-CL-4957_nonMSIH_x48720_y10816_patch03088.png: File D:\\Aamir Gulzar\\KSA_project2\\dataset\\Features\\Uni_2h_fivecrop\\TCGA-CL-4957_nonMSIH\\TCGA-CL-4957_nonMSIH_x48720_y10816_patch03088.pt cannot be opened.\n",
      "ERROR:__main__:Error saving D:\\Aamir Gulzar\\KSA_project2\\dataset\\patch_data\\TCGA-CL-4957_nonMSIH\\TCGA-CL-4957_nonMSIH_x48720_y11328_patch03089.png: File D:\\Aamir Gulzar\\KSA_project2\\dataset\\Features\\Uni_2h_fivecrop\\TCGA-CL-4957_nonMSIH\\TCGA-CL-4957_nonMSIH_x48720_y11328_patch03089.pt cannot be opened.\n",
      "ERROR:__main__:Error saving D:\\Aamir Gulzar\\KSA_project2\\dataset\\patch_data\\TCGA-CL-4957_nonMSIH\\TCGA-CL-4957_nonMSIH_x48720_y11840_patch03090.png: File D:\\Aamir Gulzar\\KSA_project2\\dataset\\Features\\Uni_2h_fivecrop\\TCGA-CL-4957_nonMSIH\\TCGA-CL-4957_nonMSIH_x48720_y11840_patch03090.pt cannot be opened.\n",
      "ERROR:__main__:Error saving D:\\Aamir Gulzar\\KSA_project2\\dataset\\patch_data\\TCGA-CL-4957_nonMSIH\\TCGA-CL-4957_nonMSIH_x48720_y12864_patch03092.png: File D:\\Aamir Gulzar\\KSA_project2\\dataset\\Features\\Uni_2h_fivecrop\\TCGA-CL-4957_nonMSIH\\TCGA-CL-4957_nonMSIH_x48720_y12864_patch03092.pt cannot be opened.\n",
      "ERROR:__main__:Error saving D:\\Aamir Gulzar\\KSA_project2\\dataset\\patch_data\\TCGA-CL-4957_nonMSIH\\TCGA-CL-4957_nonMSIH_x48720_y12352_patch03091.png: File D:\\Aamir Gulzar\\KSA_project2\\dataset\\Features\\Uni_2h_fivecrop\\TCGA-CL-4957_nonMSIH\\TCGA-CL-4957_nonMSIH_x48720_y12352_patch03091.pt cannot be opened.\n",
      "ERROR:__main__:Error saving D:\\Aamir Gulzar\\KSA_project2\\dataset\\patch_data\\TCGA-CL-4957_nonMSIH\\TCGA-CL-4957_nonMSIH_x48720_y13376_patch03093.png: File D:\\Aamir Gulzar\\KSA_project2\\dataset\\Features\\Uni_2h_fivecrop\\TCGA-CL-4957_nonMSIH\\TCGA-CL-4957_nonMSIH_x48720_y13376_patch03093.pt cannot be opened.\n",
      "ERROR:__main__:Error saving D:\\Aamir Gulzar\\KSA_project2\\dataset\\patch_data\\TCGA-CL-4957_nonMSIH\\TCGA-CL-4957_nonMSIH_x48720_y13888_patch03094.png: File D:\\Aamir Gulzar\\KSA_project2\\dataset\\Features\\Uni_2h_fivecrop\\TCGA-CL-4957_nonMSIH\\TCGA-CL-4957_nonMSIH_x48720_y13888_patch03094.pt cannot be opened.\n",
      "ERROR:__main__:Error saving D:\\Aamir Gulzar\\KSA_project2\\dataset\\patch_data\\TCGA-CL-4957_nonMSIH\\TCGA-CL-4957_nonMSIH_x48720_y14400_patch03095.png: File D:\\Aamir Gulzar\\KSA_project2\\dataset\\Features\\Uni_2h_fivecrop\\TCGA-CL-4957_nonMSIH\\TCGA-CL-4957_nonMSIH_x48720_y14400_patch03095.pt cannot be opened.\n",
      "ERROR:__main__:Error saving D:\\Aamir Gulzar\\KSA_project2\\dataset\\patch_data\\TCGA-CL-4957_nonMSIH\\TCGA-CL-4957_nonMSIH_x48720_y14912_patch03096.png: File D:\\Aamir Gulzar\\KSA_project2\\dataset\\Features\\Uni_2h_fivecrop\\TCGA-CL-4957_nonMSIH\\TCGA-CL-4957_nonMSIH_x48720_y14912_patch03096.pt cannot be opened.\n",
      "ERROR:__main__:Error saving D:\\Aamir Gulzar\\KSA_project2\\dataset\\patch_data\\TCGA-CL-4957_nonMSIH\\TCGA-CL-4957_nonMSIH_x48720_y15424_patch03097.png: File D:\\Aamir Gulzar\\KSA_project2\\dataset\\Features\\Uni_2h_fivecrop\\TCGA-CL-4957_nonMSIH\\TCGA-CL-4957_nonMSIH_x48720_y15424_patch03097.pt cannot be opened.\n",
      "ERROR:__main__:Error saving D:\\Aamir Gulzar\\KSA_project2\\dataset\\patch_data\\TCGA-CL-4957_nonMSIH\\TCGA-CL-4957_nonMSIH_x48720_y15936_patch03098.png: File D:\\Aamir Gulzar\\KSA_project2\\dataset\\Features\\Uni_2h_fivecrop\\TCGA-CL-4957_nonMSIH\\TCGA-CL-4957_nonMSIH_x48720_y15936_patch03098.pt cannot be opened.\n",
      "ERROR:__main__:Error saving D:\\Aamir Gulzar\\KSA_project2\\dataset\\patch_data\\TCGA-CL-4957_nonMSIH\\TCGA-CL-4957_nonMSIH_x48720_y16448_patch03099.png: File D:\\Aamir Gulzar\\KSA_project2\\dataset\\Features\\Uni_2h_fivecrop\\TCGA-CL-4957_nonMSIH\\TCGA-CL-4957_nonMSIH_x48720_y16448_patch03099.pt cannot be opened.\n",
      "ERROR:__main__:Error saving D:\\Aamir Gulzar\\KSA_project2\\dataset\\patch_data\\TCGA-CL-4957_nonMSIH\\TCGA-CL-4957_nonMSIH_x48720_y17472_patch03100.png: File D:\\Aamir Gulzar\\KSA_project2\\dataset\\Features\\Uni_2h_fivecrop\\TCGA-CL-4957_nonMSIH\\TCGA-CL-4957_nonMSIH_x48720_y17472_patch03100.pt cannot be opened.\n",
      "ERROR:__main__:Error saving D:\\Aamir Gulzar\\KSA_project2\\dataset\\patch_data\\TCGA-CL-4957_nonMSIH\\TCGA-CL-4957_nonMSIH_x48720_y17984_patch03101.png: File D:\\Aamir Gulzar\\KSA_project2\\dataset\\Features\\Uni_2h_fivecrop\\TCGA-CL-4957_nonMSIH\\TCGA-CL-4957_nonMSIH_x48720_y17984_patch03101.pt cannot be opened.\n",
      "ERROR:__main__:Error saving D:\\Aamir Gulzar\\KSA_project2\\dataset\\patch_data\\TCGA-CL-4957_nonMSIH\\TCGA-CL-4957_nonMSIH_x48720_y18496_patch03102.png: File D:\\Aamir Gulzar\\KSA_project2\\dataset\\Features\\Uni_2h_fivecrop\\TCGA-CL-4957_nonMSIH\\TCGA-CL-4957_nonMSIH_x48720_y18496_patch03102.pt cannot be opened.\n",
      "ERROR:__main__:Error saving D:\\Aamir Gulzar\\KSA_project2\\dataset\\patch_data\\TCGA-CL-4957_nonMSIH\\TCGA-CL-4957_nonMSIH_x48720_y19008_patch03103.png: File D:\\Aamir Gulzar\\KSA_project2\\dataset\\Features\\Uni_2h_fivecrop\\TCGA-CL-4957_nonMSIH\\TCGA-CL-4957_nonMSIH_x48720_y19008_patch03103.pt cannot be opened.\n",
      "ERROR:__main__:Error saving D:\\Aamir Gulzar\\KSA_project2\\dataset\\patch_data\\TCGA-CL-4957_nonMSIH\\TCGA-CL-4957_nonMSIH_x48720_y19520_patch03104.png: File D:\\Aamir Gulzar\\KSA_project2\\dataset\\Features\\Uni_2h_fivecrop\\TCGA-CL-4957_nonMSIH\\TCGA-CL-4957_nonMSIH_x48720_y19520_patch03104.pt cannot be opened.\n",
      "ERROR:__main__:Error saving D:\\Aamir Gulzar\\KSA_project2\\dataset\\patch_data\\TCGA-CL-4957_nonMSIH\\TCGA-CL-4957_nonMSIH_x48720_y20032_patch03105.png: File D:\\Aamir Gulzar\\KSA_project2\\dataset\\Features\\Uni_2h_fivecrop\\TCGA-CL-4957_nonMSIH\\TCGA-CL-4957_nonMSIH_x48720_y20032_patch03105.pt cannot be opened.\n",
      "ERROR:__main__:Error saving D:\\Aamir Gulzar\\KSA_project2\\dataset\\patch_data\\TCGA-CL-4957_nonMSIH\\TCGA-CL-4957_nonMSIH_x48720_y5696_patch03078.png: File D:\\Aamir Gulzar\\KSA_project2\\dataset\\Features\\Uni_2h_fivecrop\\TCGA-CL-4957_nonMSIH\\TCGA-CL-4957_nonMSIH_x48720_y5696_patch03078.pt cannot be opened.\n",
      "ERROR:__main__:Error saving D:\\Aamir Gulzar\\KSA_project2\\dataset\\patch_data\\TCGA-CL-4957_nonMSIH\\TCGA-CL-4957_nonMSIH_x48720_y6208_patch03079.png: File D:\\Aamir Gulzar\\KSA_project2\\dataset\\Features\\Uni_2h_fivecrop\\TCGA-CL-4957_nonMSIH\\TCGA-CL-4957_nonMSIH_x48720_y6208_patch03079.pt cannot be opened.\n",
      "ERROR:__main__:Error saving D:\\Aamir Gulzar\\KSA_project2\\dataset\\patch_data\\TCGA-CL-4957_nonMSIH\\TCGA-CL-4957_nonMSIH_x48720_y6720_patch03080.png: File D:\\Aamir Gulzar\\KSA_project2\\dataset\\Features\\Uni_2h_fivecrop\\TCGA-CL-4957_nonMSIH\\TCGA-CL-4957_nonMSIH_x48720_y6720_patch03080.pt cannot be opened.\n",
      "ERROR:__main__:Error saving D:\\Aamir Gulzar\\KSA_project2\\dataset\\patch_data\\TCGA-CL-4957_nonMSIH\\TCGA-CL-4957_nonMSIH_x48720_y7232_patch03081.png: File D:\\Aamir Gulzar\\KSA_project2\\dataset\\Features\\Uni_2h_fivecrop\\TCGA-CL-4957_nonMSIH\\TCGA-CL-4957_nonMSIH_x48720_y7232_patch03081.pt cannot be opened.\n",
      "ERROR:__main__:Error saving D:\\Aamir Gulzar\\KSA_project2\\dataset\\patch_data\\TCGA-CL-4957_nonMSIH\\TCGA-CL-4957_nonMSIH_x48720_y7744_patch03082.png: File D:\\Aamir Gulzar\\KSA_project2\\dataset\\Features\\Uni_2h_fivecrop\\TCGA-CL-4957_nonMSIH\\TCGA-CL-4957_nonMSIH_x48720_y7744_patch03082.pt cannot be opened.\n",
      "ERROR:__main__:Error saving D:\\Aamir Gulzar\\KSA_project2\\dataset\\patch_data\\TCGA-CL-4957_nonMSIH\\TCGA-CL-4957_nonMSIH_x48720_y8256_patch03083.png: File D:\\Aamir Gulzar\\KSA_project2\\dataset\\Features\\Uni_2h_fivecrop\\TCGA-CL-4957_nonMSIH\\TCGA-CL-4957_nonMSIH_x48720_y8256_patch03083.pt cannot be opened.\n",
      "ERROR:__main__:Error saving D:\\Aamir Gulzar\\KSA_project2\\dataset\\patch_data\\TCGA-CL-4957_nonMSIH\\TCGA-CL-4957_nonMSIH_x48720_y8768_patch03084.png: File D:\\Aamir Gulzar\\KSA_project2\\dataset\\Features\\Uni_2h_fivecrop\\TCGA-CL-4957_nonMSIH\\TCGA-CL-4957_nonMSIH_x48720_y8768_patch03084.pt cannot be opened.\n",
      "ERROR:__main__:Error saving D:\\Aamir Gulzar\\KSA_project2\\dataset\\patch_data\\TCGA-CL-4957_nonMSIH\\TCGA-CL-4957_nonMSIH_x48720_y9280_patch03085.png: File D:\\Aamir Gulzar\\KSA_project2\\dataset\\Features\\Uni_2h_fivecrop\\TCGA-CL-4957_nonMSIH\\TCGA-CL-4957_nonMSIH_x48720_y9280_patch03085.pt cannot be opened.\n",
      "ERROR:__main__:Error saving D:\\Aamir Gulzar\\KSA_project2\\dataset\\patch_data\\TCGA-CL-4957_nonMSIH\\TCGA-CL-4957_nonMSIH_x48720_y9792_patch03086.png: File D:\\Aamir Gulzar\\KSA_project2\\dataset\\Features\\Uni_2h_fivecrop\\TCGA-CL-4957_nonMSIH\\TCGA-CL-4957_nonMSIH_x48720_y9792_patch03086.pt cannot be opened.\n",
      "ERROR:__main__:Error saving D:\\Aamir Gulzar\\KSA_project2\\dataset\\patch_data\\TCGA-CL-4957_nonMSIH\\TCGA-CL-4957_nonMSIH_x49232_y10304_patch03115.png: File D:\\Aamir Gulzar\\KSA_project2\\dataset\\Features\\Uni_2h_fivecrop\\TCGA-CL-4957_nonMSIH\\TCGA-CL-4957_nonMSIH_x49232_y10304_patch03115.pt cannot be opened.\n",
      "ERROR:__main__:Error saving D:\\Aamir Gulzar\\KSA_project2\\dataset\\patch_data\\TCGA-CL-4957_nonMSIH\\TCGA-CL-4957_nonMSIH_x49232_y10816_patch03116.png: File D:\\Aamir Gulzar\\KSA_project2\\dataset\\Features\\Uni_2h_fivecrop\\TCGA-CL-4957_nonMSIH\\TCGA-CL-4957_nonMSIH_x49232_y10816_patch03116.pt cannot be opened.\n",
      "ERROR:__main__:Error saving D:\\Aamir Gulzar\\KSA_project2\\dataset\\patch_data\\TCGA-CL-4957_nonMSIH\\TCGA-CL-4957_nonMSIH_x49232_y11328_patch03117.png: File D:\\Aamir Gulzar\\KSA_project2\\dataset\\Features\\Uni_2h_fivecrop\\TCGA-CL-4957_nonMSIH\\TCGA-CL-4957_nonMSIH_x49232_y11328_patch03117.pt cannot be opened.\n",
      "ERROR:__main__:Error saving D:\\Aamir Gulzar\\KSA_project2\\dataset\\patch_data\\TCGA-CL-4957_nonMSIH\\TCGA-CL-4957_nonMSIH_x49232_y11840_patch03118.png: File D:\\Aamir Gulzar\\KSA_project2\\dataset\\Features\\Uni_2h_fivecrop\\TCGA-CL-4957_nonMSIH\\TCGA-CL-4957_nonMSIH_x49232_y11840_patch03118.pt cannot be opened.\n",
      "ERROR:__main__:Error saving D:\\Aamir Gulzar\\KSA_project2\\dataset\\patch_data\\TCGA-CL-4957_nonMSIH\\TCGA-CL-4957_nonMSIH_x49232_y12352_patch03119.png: File D:\\Aamir Gulzar\\KSA_project2\\dataset\\Features\\Uni_2h_fivecrop\\TCGA-CL-4957_nonMSIH\\TCGA-CL-4957_nonMSIH_x49232_y12352_patch03119.pt cannot be opened.\n",
      "ERROR:__main__:Error saving D:\\Aamir Gulzar\\KSA_project2\\dataset\\patch_data\\TCGA-CL-4957_nonMSIH\\TCGA-CL-4957_nonMSIH_x49232_y13888_patch03122.png: File D:\\Aamir Gulzar\\KSA_project2\\dataset\\Features\\Uni_2h_fivecrop\\TCGA-CL-4957_nonMSIH\\TCGA-CL-4957_nonMSIH_x49232_y13888_patch03122.pt cannot be opened.\n",
      "ERROR:__main__:Error saving D:\\Aamir Gulzar\\KSA_project2\\dataset\\patch_data\\TCGA-CL-4957_nonMSIH\\TCGA-CL-4957_nonMSIH_x49232_y14400_patch03123.png: File D:\\Aamir Gulzar\\KSA_project2\\dataset\\Features\\Uni_2h_fivecrop\\TCGA-CL-4957_nonMSIH\\TCGA-CL-4957_nonMSIH_x49232_y14400_patch03123.pt cannot be opened.\n",
      "ERROR:__main__:Error saving D:\\Aamir Gulzar\\KSA_project2\\dataset\\patch_data\\TCGA-CL-4957_nonMSIH\\TCGA-CL-4957_nonMSIH_x49232_y12864_patch03120.png: File D:\\Aamir Gulzar\\KSA_project2\\dataset\\Features\\Uni_2h_fivecrop\\TCGA-CL-4957_nonMSIH\\TCGA-CL-4957_nonMSIH_x49232_y12864_patch03120.pt cannot be opened.\n",
      "ERROR:__main__:Error saving D:\\Aamir Gulzar\\KSA_project2\\dataset\\patch_data\\TCGA-CL-4957_nonMSIH\\TCGA-CL-4957_nonMSIH_x49232_y13376_patch03121.png: File D:\\Aamir Gulzar\\KSA_project2\\dataset\\Features\\Uni_2h_fivecrop\\TCGA-CL-4957_nonMSIH\\TCGA-CL-4957_nonMSIH_x49232_y13376_patch03121.pt cannot be opened.\n",
      "ERROR:__main__:Error saving D:\\Aamir Gulzar\\KSA_project2\\dataset\\patch_data\\TCGA-CL-4957_nonMSIH\\TCGA-CL-4957_nonMSIH_x49232_y14912_patch03124.png: File D:\\Aamir Gulzar\\KSA_project2\\dataset\\Features\\Uni_2h_fivecrop\\TCGA-CL-4957_nonMSIH\\TCGA-CL-4957_nonMSIH_x49232_y14912_patch03124.pt cannot be opened.\n",
      "ERROR:__main__:Error saving D:\\Aamir Gulzar\\KSA_project2\\dataset\\patch_data\\TCGA-CL-4957_nonMSIH\\TCGA-CL-4957_nonMSIH_x49232_y15424_patch03125.png: File D:\\Aamir Gulzar\\KSA_project2\\dataset\\Features\\Uni_2h_fivecrop\\TCGA-CL-4957_nonMSIH\\TCGA-CL-4957_nonMSIH_x49232_y15424_patch03125.pt cannot be opened.\n",
      "ERROR:__main__:Error saving D:\\Aamir Gulzar\\KSA_project2\\dataset\\patch_data\\TCGA-CL-4957_nonMSIH\\TCGA-CL-4957_nonMSIH_x49232_y15936_patch03126.png: File D:\\Aamir Gulzar\\KSA_project2\\dataset\\Features\\Uni_2h_fivecrop\\TCGA-CL-4957_nonMSIH\\TCGA-CL-4957_nonMSIH_x49232_y15936_patch03126.pt cannot be opened.\n",
      "ERROR:__main__:Error saving D:\\Aamir Gulzar\\KSA_project2\\dataset\\patch_data\\TCGA-CL-4957_nonMSIH\\TCGA-CL-4957_nonMSIH_x49232_y16448_patch03127.png: File D:\\Aamir Gulzar\\KSA_project2\\dataset\\Features\\Uni_2h_fivecrop\\TCGA-CL-4957_nonMSIH\\TCGA-CL-4957_nonMSIH_x49232_y16448_patch03127.pt cannot be opened.\n",
      "ERROR:__main__:Error saving D:\\Aamir Gulzar\\KSA_project2\\dataset\\patch_data\\TCGA-CL-4957_nonMSIH\\TCGA-CL-4957_nonMSIH_x49232_y16960_patch03128.png: File D:\\Aamir Gulzar\\KSA_project2\\dataset\\Features\\Uni_2h_fivecrop\\TCGA-CL-4957_nonMSIH\\TCGA-CL-4957_nonMSIH_x49232_y16960_patch03128.pt cannot be opened.\n",
      "ERROR:__main__:Error saving D:\\Aamir Gulzar\\KSA_project2\\dataset\\patch_data\\TCGA-CL-4957_nonMSIH\\TCGA-CL-4957_nonMSIH_x49232_y17472_patch03129.png: File D:\\Aamir Gulzar\\KSA_project2\\dataset\\Features\\Uni_2h_fivecrop\\TCGA-CL-4957_nonMSIH\\TCGA-CL-4957_nonMSIH_x49232_y17472_patch03129.pt cannot be opened.\n",
      "ERROR:__main__:Error saving D:\\Aamir Gulzar\\KSA_project2\\dataset\\patch_data\\TCGA-CL-4957_nonMSIH\\TCGA-CL-4957_nonMSIH_x49232_y17984_patch03130.png: File D:\\Aamir Gulzar\\KSA_project2\\dataset\\Features\\Uni_2h_fivecrop\\TCGA-CL-4957_nonMSIH\\TCGA-CL-4957_nonMSIH_x49232_y17984_patch03130.pt cannot be opened.\n",
      "ERROR:__main__:Error saving D:\\Aamir Gulzar\\KSA_project2\\dataset\\patch_data\\TCGA-CL-4957_nonMSIH\\TCGA-CL-4957_nonMSIH_x49232_y18496_patch03131.png: File D:\\Aamir Gulzar\\KSA_project2\\dataset\\Features\\Uni_2h_fivecrop\\TCGA-CL-4957_nonMSIH\\TCGA-CL-4957_nonMSIH_x49232_y18496_patch03131.pt cannot be opened.\n",
      "ERROR:__main__:Error saving D:\\Aamir Gulzar\\KSA_project2\\dataset\\patch_data\\TCGA-CL-4957_nonMSIH\\TCGA-CL-4957_nonMSIH_x49232_y19008_patch03132.png: File D:\\Aamir Gulzar\\KSA_project2\\dataset\\Features\\Uni_2h_fivecrop\\TCGA-CL-4957_nonMSIH\\TCGA-CL-4957_nonMSIH_x49232_y19008_patch03132.pt cannot be opened.\n",
      "ERROR:__main__:Error saving D:\\Aamir Gulzar\\KSA_project2\\dataset\\patch_data\\TCGA-CL-4957_nonMSIH\\TCGA-CL-4957_nonMSIH_x49232_y19520_patch03133.png: File D:\\Aamir Gulzar\\KSA_project2\\dataset\\Features\\Uni_2h_fivecrop\\TCGA-CL-4957_nonMSIH\\TCGA-CL-4957_nonMSIH_x49232_y19520_patch03133.pt cannot be opened.\n",
      "ERROR:__main__:Error saving D:\\Aamir Gulzar\\KSA_project2\\dataset\\patch_data\\TCGA-CL-4957_nonMSIH\\TCGA-CL-4957_nonMSIH_x49232_y20032_patch03134.png: File D:\\Aamir Gulzar\\KSA_project2\\dataset\\Features\\Uni_2h_fivecrop\\TCGA-CL-4957_nonMSIH\\TCGA-CL-4957_nonMSIH_x49232_y20032_patch03134.pt cannot be opened.\n",
      "ERROR:__main__:Error saving D:\\Aamir Gulzar\\KSA_project2\\dataset\\patch_data\\TCGA-CL-4957_nonMSIH\\TCGA-CL-4957_nonMSIH_x49232_y20544_patch03135.png: File D:\\Aamir Gulzar\\KSA_project2\\dataset\\Features\\Uni_2h_fivecrop\\TCGA-CL-4957_nonMSIH\\TCGA-CL-4957_nonMSIH_x49232_y20544_patch03135.pt cannot be opened.\n",
      "ERROR:__main__:Error saving D:\\Aamir Gulzar\\KSA_project2\\dataset\\patch_data\\TCGA-CL-4957_nonMSIH\\TCGA-CL-4957_nonMSIH_x49232_y21056_patch03136.png: File D:\\Aamir Gulzar\\KSA_project2\\dataset\\Features\\Uni_2h_fivecrop\\TCGA-CL-4957_nonMSIH\\TCGA-CL-4957_nonMSIH_x49232_y21056_patch03136.pt cannot be opened.\n",
      "ERROR:__main__:Error saving D:\\Aamir Gulzar\\KSA_project2\\dataset\\patch_data\\TCGA-CL-4957_nonMSIH\\TCGA-CL-4957_nonMSIH_x49232_y21568_patch03137.png: File D:\\Aamir Gulzar\\KSA_project2\\dataset\\Features\\Uni_2h_fivecrop\\TCGA-CL-4957_nonMSIH\\TCGA-CL-4957_nonMSIH_x49232_y21568_patch03137.pt cannot be opened.\n",
      "ERROR:__main__:Error saving D:\\Aamir Gulzar\\KSA_project2\\dataset\\patch_data\\TCGA-CL-4957_nonMSIH\\TCGA-CL-4957_nonMSIH_x49232_y5696_patch03106.png: File D:\\Aamir Gulzar\\KSA_project2\\dataset\\Features\\Uni_2h_fivecrop\\TCGA-CL-4957_nonMSIH\\TCGA-CL-4957_nonMSIH_x49232_y5696_patch03106.pt cannot be opened.\n",
      "ERROR:__main__:Error saving D:\\Aamir Gulzar\\KSA_project2\\dataset\\patch_data\\TCGA-CL-4957_nonMSIH\\TCGA-CL-4957_nonMSIH_x49232_y6208_patch03107.png: File D:\\Aamir Gulzar\\KSA_project2\\dataset\\Features\\Uni_2h_fivecrop\\TCGA-CL-4957_nonMSIH\\TCGA-CL-4957_nonMSIH_x49232_y6208_patch03107.pt cannot be opened.\n",
      "ERROR:__main__:Error saving D:\\Aamir Gulzar\\KSA_project2\\dataset\\patch_data\\TCGA-CL-4957_nonMSIH\\TCGA-CL-4957_nonMSIH_x49232_y6720_patch03108.png: File D:\\Aamir Gulzar\\KSA_project2\\dataset\\Features\\Uni_2h_fivecrop\\TCGA-CL-4957_nonMSIH\\TCGA-CL-4957_nonMSIH_x49232_y6720_patch03108.pt cannot be opened.\n",
      "ERROR:__main__:Error saving D:\\Aamir Gulzar\\KSA_project2\\dataset\\patch_data\\TCGA-CL-4957_nonMSIH\\TCGA-CL-4957_nonMSIH_x49232_y7232_patch03109.png: File D:\\Aamir Gulzar\\KSA_project2\\dataset\\Features\\Uni_2h_fivecrop\\TCGA-CL-4957_nonMSIH\\TCGA-CL-4957_nonMSIH_x49232_y7232_patch03109.pt cannot be opened.\n",
      "ERROR:__main__:Error saving D:\\Aamir Gulzar\\KSA_project2\\dataset\\patch_data\\TCGA-CL-4957_nonMSIH\\TCGA-CL-4957_nonMSIH_x49232_y7744_patch03110.png: File D:\\Aamir Gulzar\\KSA_project2\\dataset\\Features\\Uni_2h_fivecrop\\TCGA-CL-4957_nonMSIH\\TCGA-CL-4957_nonMSIH_x49232_y7744_patch03110.pt cannot be opened.\n",
      "ERROR:__main__:Error saving D:\\Aamir Gulzar\\KSA_project2\\dataset\\patch_data\\TCGA-CL-4957_nonMSIH\\TCGA-CL-4957_nonMSIH_x49232_y8256_patch03111.png: File D:\\Aamir Gulzar\\KSA_project2\\dataset\\Features\\Uni_2h_fivecrop\\TCGA-CL-4957_nonMSIH\\TCGA-CL-4957_nonMSIH_x49232_y8256_patch03111.pt cannot be opened.\n",
      "ERROR:__main__:Error saving D:\\Aamir Gulzar\\KSA_project2\\dataset\\patch_data\\TCGA-CL-4957_nonMSIH\\TCGA-CL-4957_nonMSIH_x49232_y8768_patch03112.png: File D:\\Aamir Gulzar\\KSA_project2\\dataset\\Features\\Uni_2h_fivecrop\\TCGA-CL-4957_nonMSIH\\TCGA-CL-4957_nonMSIH_x49232_y8768_patch03112.pt cannot be opened.\n",
      "ERROR:__main__:Error saving D:\\Aamir Gulzar\\KSA_project2\\dataset\\patch_data\\TCGA-CL-4957_nonMSIH\\TCGA-CL-4957_nonMSIH_x49232_y9280_patch03113.png: File D:\\Aamir Gulzar\\KSA_project2\\dataset\\Features\\Uni_2h_fivecrop\\TCGA-CL-4957_nonMSIH\\TCGA-CL-4957_nonMSIH_x49232_y9280_patch03113.pt cannot be opened.\n",
      "ERROR:__main__:Error saving D:\\Aamir Gulzar\\KSA_project2\\dataset\\patch_data\\TCGA-CL-4957_nonMSIH\\TCGA-CL-4957_nonMSIH_x49232_y9792_patch03114.png: File D:\\Aamir Gulzar\\KSA_project2\\dataset\\Features\\Uni_2h_fivecrop\\TCGA-CL-4957_nonMSIH\\TCGA-CL-4957_nonMSIH_x49232_y9792_patch03114.pt cannot be opened.\n",
      "ERROR:__main__:Error saving D:\\Aamir Gulzar\\KSA_project2\\dataset\\patch_data\\TCGA-CL-4957_nonMSIH\\TCGA-CL-4957_nonMSIH_x49744_y10304_patch03147.png: File D:\\Aamir Gulzar\\KSA_project2\\dataset\\Features\\Uni_2h_fivecrop\\TCGA-CL-4957_nonMSIH\\TCGA-CL-4957_nonMSIH_x49744_y10304_patch03147.pt cannot be opened.\n",
      "ERROR:__main__:Error saving D:\\Aamir Gulzar\\KSA_project2\\dataset\\patch_data\\TCGA-CL-4957_nonMSIH\\TCGA-CL-4957_nonMSIH_x49744_y10816_patch03148.png: File D:\\Aamir Gulzar\\KSA_project2\\dataset\\Features\\Uni_2h_fivecrop\\TCGA-CL-4957_nonMSIH\\TCGA-CL-4957_nonMSIH_x49744_y10816_patch03148.pt cannot be opened.\n",
      "ERROR:__main__:Error saving D:\\Aamir Gulzar\\KSA_project2\\dataset\\patch_data\\TCGA-CL-4957_nonMSIH\\TCGA-CL-4957_nonMSIH_x49744_y11328_patch03149.png: File D:\\Aamir Gulzar\\KSA_project2\\dataset\\Features\\Uni_2h_fivecrop\\TCGA-CL-4957_nonMSIH\\TCGA-CL-4957_nonMSIH_x49744_y11328_patch03149.pt cannot be opened.\n",
      "ERROR:__main__:Error saving D:\\Aamir Gulzar\\KSA_project2\\dataset\\patch_data\\TCGA-CL-4957_nonMSIH\\TCGA-CL-4957_nonMSIH_x49744_y11840_patch03150.png: File D:\\Aamir Gulzar\\KSA_project2\\dataset\\Features\\Uni_2h_fivecrop\\TCGA-CL-4957_nonMSIH\\TCGA-CL-4957_nonMSIH_x49744_y11840_patch03150.pt cannot be opened.\n",
      "ERROR:__main__:Error saving D:\\Aamir Gulzar\\KSA_project2\\dataset\\patch_data\\TCGA-CL-4957_nonMSIH\\TCGA-CL-4957_nonMSIH_x49744_y12352_patch03151.png: File D:\\Aamir Gulzar\\KSA_project2\\dataset\\Features\\Uni_2h_fivecrop\\TCGA-CL-4957_nonMSIH\\TCGA-CL-4957_nonMSIH_x49744_y12352_patch03151.pt cannot be opened.\n",
      "ERROR:__main__:Error saving D:\\Aamir Gulzar\\KSA_project2\\dataset\\patch_data\\TCGA-CL-4957_nonMSIH\\TCGA-CL-4957_nonMSIH_x49744_y12864_patch03152.png: File D:\\Aamir Gulzar\\KSA_project2\\dataset\\Features\\Uni_2h_fivecrop\\TCGA-CL-4957_nonMSIH\\TCGA-CL-4957_nonMSIH_x49744_y12864_patch03152.pt cannot be opened.\n",
      "ERROR:__main__:Error saving D:\\Aamir Gulzar\\KSA_project2\\dataset\\patch_data\\TCGA-CL-4957_nonMSIH\\TCGA-CL-4957_nonMSIH_x49744_y13376_patch03153.png: File D:\\Aamir Gulzar\\KSA_project2\\dataset\\Features\\Uni_2h_fivecrop\\TCGA-CL-4957_nonMSIH\\TCGA-CL-4957_nonMSIH_x49744_y13376_patch03153.pt cannot be opened.\n",
      "ERROR:__main__:Error saving D:\\Aamir Gulzar\\KSA_project2\\dataset\\patch_data\\TCGA-CL-4957_nonMSIH\\TCGA-CL-4957_nonMSIH_x49744_y13888_patch03154.png: File D:\\Aamir Gulzar\\KSA_project2\\dataset\\Features\\Uni_2h_fivecrop\\TCGA-CL-4957_nonMSIH\\TCGA-CL-4957_nonMSIH_x49744_y13888_patch03154.pt cannot be opened.\n",
      "ERROR:__main__:Error saving D:\\Aamir Gulzar\\KSA_project2\\dataset\\patch_data\\TCGA-CL-4957_nonMSIH\\TCGA-CL-4957_nonMSIH_x49744_y14400_patch03155.png: File D:\\Aamir Gulzar\\KSA_project2\\dataset\\Features\\Uni_2h_fivecrop\\TCGA-CL-4957_nonMSIH\\TCGA-CL-4957_nonMSIH_x49744_y14400_patch03155.pt cannot be opened.\n",
      "ERROR:__main__:Error saving D:\\Aamir Gulzar\\KSA_project2\\dataset\\patch_data\\TCGA-CL-4957_nonMSIH\\TCGA-CL-4957_nonMSIH_x49744_y14912_patch03156.png: File D:\\Aamir Gulzar\\KSA_project2\\dataset\\Features\\Uni_2h_fivecrop\\TCGA-CL-4957_nonMSIH\\TCGA-CL-4957_nonMSIH_x49744_y14912_patch03156.pt cannot be opened.\n",
      "ERROR:__main__:Error saving D:\\Aamir Gulzar\\KSA_project2\\dataset\\patch_data\\TCGA-CL-4957_nonMSIH\\TCGA-CL-4957_nonMSIH_x49744_y15424_patch03157.png: File D:\\Aamir Gulzar\\KSA_project2\\dataset\\Features\\Uni_2h_fivecrop\\TCGA-CL-4957_nonMSIH\\TCGA-CL-4957_nonMSIH_x49744_y15424_patch03157.pt cannot be opened.\n",
      "ERROR:__main__:Error saving D:\\Aamir Gulzar\\KSA_project2\\dataset\\patch_data\\TCGA-CL-4957_nonMSIH\\TCGA-CL-4957_nonMSIH_x49744_y15936_patch03158.png: File D:\\Aamir Gulzar\\KSA_project2\\dataset\\Features\\Uni_2h_fivecrop\\TCGA-CL-4957_nonMSIH\\TCGA-CL-4957_nonMSIH_x49744_y15936_patch03158.pt cannot be opened.\n",
      "ERROR:__main__:Error saving D:\\Aamir Gulzar\\KSA_project2\\dataset\\patch_data\\TCGA-CL-4957_nonMSIH\\TCGA-CL-4957_nonMSIH_x49744_y16448_patch03159.png: File D:\\Aamir Gulzar\\KSA_project2\\dataset\\Features\\Uni_2h_fivecrop\\TCGA-CL-4957_nonMSIH\\TCGA-CL-4957_nonMSIH_x49744_y16448_patch03159.pt cannot be opened.\n",
      "ERROR:__main__:Error saving D:\\Aamir Gulzar\\KSA_project2\\dataset\\patch_data\\TCGA-CL-4957_nonMSIH\\TCGA-CL-4957_nonMSIH_x49744_y16960_patch03160.png: File D:\\Aamir Gulzar\\KSA_project2\\dataset\\Features\\Uni_2h_fivecrop\\TCGA-CL-4957_nonMSIH\\TCGA-CL-4957_nonMSIH_x49744_y16960_patch03160.pt cannot be opened.\n",
      "ERROR:__main__:Error saving D:\\Aamir Gulzar\\KSA_project2\\dataset\\patch_data\\TCGA-CL-4957_nonMSIH\\TCGA-CL-4957_nonMSIH_x49744_y17472_patch03161.png: File D:\\Aamir Gulzar\\KSA_project2\\dataset\\Features\\Uni_2h_fivecrop\\TCGA-CL-4957_nonMSIH\\TCGA-CL-4957_nonMSIH_x49744_y17472_patch03161.pt cannot be opened.\n",
      "ERROR:__main__:Error saving D:\\Aamir Gulzar\\KSA_project2\\dataset\\patch_data\\TCGA-CL-4957_nonMSIH\\TCGA-CL-4957_nonMSIH_x49744_y18496_patch03163.png: File D:\\Aamir Gulzar\\KSA_project2\\dataset\\Features\\Uni_2h_fivecrop\\TCGA-CL-4957_nonMSIH\\TCGA-CL-4957_nonMSIH_x49744_y18496_patch03163.pt cannot be opened.\n",
      "ERROR:__main__:Error saving D:\\Aamir Gulzar\\KSA_project2\\dataset\\patch_data\\TCGA-CL-4957_nonMSIH\\TCGA-CL-4957_nonMSIH_x49744_y17984_patch03162.png: File D:\\Aamir Gulzar\\KSA_project2\\dataset\\Features\\Uni_2h_fivecrop\\TCGA-CL-4957_nonMSIH\\TCGA-CL-4957_nonMSIH_x49744_y17984_patch03162.pt cannot be opened.\n",
      "ERROR:__main__:Error saving D:\\Aamir Gulzar\\KSA_project2\\dataset\\patch_data\\TCGA-CL-4957_nonMSIH\\TCGA-CL-4957_nonMSIH_x49744_y19008_patch03164.png: File D:\\Aamir Gulzar\\KSA_project2\\dataset\\Features\\Uni_2h_fivecrop\\TCGA-CL-4957_nonMSIH\\TCGA-CL-4957_nonMSIH_x49744_y19008_patch03164.pt cannot be opened.\n",
      "ERROR:__main__:Error saving D:\\Aamir Gulzar\\KSA_project2\\dataset\\patch_data\\TCGA-CL-4957_nonMSIH\\TCGA-CL-4957_nonMSIH_x49744_y19520_patch03165.png: File D:\\Aamir Gulzar\\KSA_project2\\dataset\\Features\\Uni_2h_fivecrop\\TCGA-CL-4957_nonMSIH\\TCGA-CL-4957_nonMSIH_x49744_y19520_patch03165.pt cannot be opened.\n",
      "ERROR:__main__:Error saving D:\\Aamir Gulzar\\KSA_project2\\dataset\\patch_data\\TCGA-CL-4957_nonMSIH\\TCGA-CL-4957_nonMSIH_x49744_y20032_patch03166.png: File D:\\Aamir Gulzar\\KSA_project2\\dataset\\Features\\Uni_2h_fivecrop\\TCGA-CL-4957_nonMSIH\\TCGA-CL-4957_nonMSIH_x49744_y20032_patch03166.pt cannot be opened.\n",
      "ERROR:__main__:Error saving D:\\Aamir Gulzar\\KSA_project2\\dataset\\patch_data\\TCGA-CL-4957_nonMSIH\\TCGA-CL-4957_nonMSIH_x49744_y20544_patch03167.png: File D:\\Aamir Gulzar\\KSA_project2\\dataset\\Features\\Uni_2h_fivecrop\\TCGA-CL-4957_nonMSIH\\TCGA-CL-4957_nonMSIH_x49744_y20544_patch03167.pt cannot be opened.\n",
      "ERROR:__main__:Error saving D:\\Aamir Gulzar\\KSA_project2\\dataset\\patch_data\\TCGA-CL-4957_nonMSIH\\TCGA-CL-4957_nonMSIH_x49744_y21568_patch03169.png: File D:\\Aamir Gulzar\\KSA_project2\\dataset\\Features\\Uni_2h_fivecrop\\TCGA-CL-4957_nonMSIH\\TCGA-CL-4957_nonMSIH_x49744_y21568_patch03169.pt cannot be opened.\n",
      "ERROR:__main__:Error saving D:\\Aamir Gulzar\\KSA_project2\\dataset\\patch_data\\TCGA-CL-4957_nonMSIH\\TCGA-CL-4957_nonMSIH_x49744_y6208_patch03139.png: File D:\\Aamir Gulzar\\KSA_project2\\dataset\\Features\\Uni_2h_fivecrop\\TCGA-CL-4957_nonMSIH\\TCGA-CL-4957_nonMSIH_x49744_y6208_patch03139.pt cannot be opened.\n",
      "ERROR:__main__:Error saving D:\\Aamir Gulzar\\KSA_project2\\dataset\\patch_data\\TCGA-CL-4957_nonMSIH\\TCGA-CL-4957_nonMSIH_x49744_y21056_patch03168.png: File D:\\Aamir Gulzar\\KSA_project2\\dataset\\Features\\Uni_2h_fivecrop\\TCGA-CL-4957_nonMSIH\\TCGA-CL-4957_nonMSIH_x49744_y21056_patch03168.pt cannot be opened.\n",
      "ERROR:__main__:Error saving D:\\Aamir Gulzar\\KSA_project2\\dataset\\patch_data\\TCGA-CL-4957_nonMSIH\\TCGA-CL-4957_nonMSIH_x49744_y5696_patch03138.png: File D:\\Aamir Gulzar\\KSA_project2\\dataset\\Features\\Uni_2h_fivecrop\\TCGA-CL-4957_nonMSIH\\TCGA-CL-4957_nonMSIH_x49744_y5696_patch03138.pt cannot be opened.\n",
      "ERROR:__main__:Error saving D:\\Aamir Gulzar\\KSA_project2\\dataset\\patch_data\\TCGA-CL-4957_nonMSIH\\TCGA-CL-4957_nonMSIH_x49744_y6720_patch03140.png: File D:\\Aamir Gulzar\\KSA_project2\\dataset\\Features\\Uni_2h_fivecrop\\TCGA-CL-4957_nonMSIH\\TCGA-CL-4957_nonMSIH_x49744_y6720_patch03140.pt cannot be opened.\n",
      "ERROR:__main__:Error saving D:\\Aamir Gulzar\\KSA_project2\\dataset\\patch_data\\TCGA-CL-4957_nonMSIH\\TCGA-CL-4957_nonMSIH_x49744_y7232_patch03141.png: File D:\\Aamir Gulzar\\KSA_project2\\dataset\\Features\\Uni_2h_fivecrop\\TCGA-CL-4957_nonMSIH\\TCGA-CL-4957_nonMSIH_x49744_y7232_patch03141.pt cannot be opened.\n",
      "ERROR:__main__:Error saving D:\\Aamir Gulzar\\KSA_project2\\dataset\\patch_data\\TCGA-CL-4957_nonMSIH\\TCGA-CL-4957_nonMSIH_x49744_y7744_patch03142.png: File D:\\Aamir Gulzar\\KSA_project2\\dataset\\Features\\Uni_2h_fivecrop\\TCGA-CL-4957_nonMSIH\\TCGA-CL-4957_nonMSIH_x49744_y7744_patch03142.pt cannot be opened.\n",
      "ERROR:__main__:Error saving D:\\Aamir Gulzar\\KSA_project2\\dataset\\patch_data\\TCGA-CL-4957_nonMSIH\\TCGA-CL-4957_nonMSIH_x49744_y8256_patch03143.png: File D:\\Aamir Gulzar\\KSA_project2\\dataset\\Features\\Uni_2h_fivecrop\\TCGA-CL-4957_nonMSIH\\TCGA-CL-4957_nonMSIH_x49744_y8256_patch03143.pt cannot be opened.\n",
      "ERROR:__main__:Error saving D:\\Aamir Gulzar\\KSA_project2\\dataset\\patch_data\\TCGA-CL-4957_nonMSIH\\TCGA-CL-4957_nonMSIH_x49744_y8768_patch03144.png: File D:\\Aamir Gulzar\\KSA_project2\\dataset\\Features\\Uni_2h_fivecrop\\TCGA-CL-4957_nonMSIH\\TCGA-CL-4957_nonMSIH_x49744_y8768_patch03144.pt cannot be opened.\n",
      "ERROR:__main__:Error saving D:\\Aamir Gulzar\\KSA_project2\\dataset\\patch_data\\TCGA-CL-4957_nonMSIH\\TCGA-CL-4957_nonMSIH_x49744_y9280_patch03145.png: File D:\\Aamir Gulzar\\KSA_project2\\dataset\\Features\\Uni_2h_fivecrop\\TCGA-CL-4957_nonMSIH\\TCGA-CL-4957_nonMSIH_x49744_y9280_patch03145.pt cannot be opened.\n",
      "ERROR:__main__:Error saving D:\\Aamir Gulzar\\KSA_project2\\dataset\\patch_data\\TCGA-CL-4957_nonMSIH\\TCGA-CL-4957_nonMSIH_x49744_y9792_patch03146.png: File D:\\Aamir Gulzar\\KSA_project2\\dataset\\Features\\Uni_2h_fivecrop\\TCGA-CL-4957_nonMSIH\\TCGA-CL-4957_nonMSIH_x49744_y9792_patch03146.pt cannot be opened.\n",
      "ERROR:__main__:Error saving D:\\Aamir Gulzar\\KSA_project2\\dataset\\patch_data\\TCGA-CL-4957_nonMSIH\\TCGA-CL-4957_nonMSIH_x49856_y3792_patch03635.png: File D:\\Aamir Gulzar\\KSA_project2\\dataset\\Features\\Uni_2h_fivecrop\\TCGA-CL-4957_nonMSIH\\TCGA-CL-4957_nonMSIH_x49856_y3792_patch03635.pt cannot be opened.\n",
      "ERROR:__main__:Error saving D:\\Aamir Gulzar\\KSA_project2\\dataset\\patch_data\\TCGA-CL-4957_nonMSIH\\TCGA-CL-4957_nonMSIH_x49856_y4304_patch03636.png: File D:\\Aamir Gulzar\\KSA_project2\\dataset\\Features\\Uni_2h_fivecrop\\TCGA-CL-4957_nonMSIH\\TCGA-CL-4957_nonMSIH_x49856_y4304_patch03636.pt cannot be opened.\n",
      "ERROR:__main__:Error saving D:\\Aamir Gulzar\\KSA_project2\\dataset\\patch_data\\TCGA-CL-4957_nonMSIH\\TCGA-CL-4957_nonMSIH_x50256_y10304_patch03179.png: File D:\\Aamir Gulzar\\KSA_project2\\dataset\\Features\\Uni_2h_fivecrop\\TCGA-CL-4957_nonMSIH\\TCGA-CL-4957_nonMSIH_x50256_y10304_patch03179.pt cannot be opened.\n",
      "ERROR:__main__:Error saving D:\\Aamir Gulzar\\KSA_project2\\dataset\\patch_data\\TCGA-CL-4957_nonMSIH\\TCGA-CL-4957_nonMSIH_x50256_y10816_patch03180.png: File D:\\Aamir Gulzar\\KSA_project2\\dataset\\Features\\Uni_2h_fivecrop\\TCGA-CL-4957_nonMSIH\\TCGA-CL-4957_nonMSIH_x50256_y10816_patch03180.pt cannot be opened.\n",
      "ERROR:__main__:Error saving D:\\Aamir Gulzar\\KSA_project2\\dataset\\patch_data\\TCGA-CL-4957_nonMSIH\\TCGA-CL-4957_nonMSIH_x50256_y11328_patch03181.png: File D:\\Aamir Gulzar\\KSA_project2\\dataset\\Features\\Uni_2h_fivecrop\\TCGA-CL-4957_nonMSIH\\TCGA-CL-4957_nonMSIH_x50256_y11328_patch03181.pt cannot be opened.\n",
      "ERROR:__main__:Error saving D:\\Aamir Gulzar\\KSA_project2\\dataset\\patch_data\\TCGA-CL-4957_nonMSIH\\TCGA-CL-4957_nonMSIH_x50256_y11840_patch03182.png: File D:\\Aamir Gulzar\\KSA_project2\\dataset\\Features\\Uni_2h_fivecrop\\TCGA-CL-4957_nonMSIH\\TCGA-CL-4957_nonMSIH_x50256_y11840_patch03182.pt cannot be opened.\n",
      "ERROR:__main__:Error saving D:\\Aamir Gulzar\\KSA_project2\\dataset\\patch_data\\TCGA-CL-4957_nonMSIH\\TCGA-CL-4957_nonMSIH_x50256_y12352_patch03183.png: File D:\\Aamir Gulzar\\KSA_project2\\dataset\\Features\\Uni_2h_fivecrop\\TCGA-CL-4957_nonMSIH\\TCGA-CL-4957_nonMSIH_x50256_y12352_patch03183.pt cannot be opened.\n",
      "ERROR:__main__:Error saving D:\\Aamir Gulzar\\KSA_project2\\dataset\\patch_data\\TCGA-CL-4957_nonMSIH\\TCGA-CL-4957_nonMSIH_x50256_y12864_patch03184.png: File D:\\Aamir Gulzar\\KSA_project2\\dataset\\Features\\Uni_2h_fivecrop\\TCGA-CL-4957_nonMSIH\\TCGA-CL-4957_nonMSIH_x50256_y12864_patch03184.pt cannot be opened.\n",
      "ERROR:__main__:Error saving D:\\Aamir Gulzar\\KSA_project2\\dataset\\patch_data\\TCGA-CL-4957_nonMSIH\\TCGA-CL-4957_nonMSIH_x50256_y13376_patch03185.png: File D:\\Aamir Gulzar\\KSA_project2\\dataset\\Features\\Uni_2h_fivecrop\\TCGA-CL-4957_nonMSIH\\TCGA-CL-4957_nonMSIH_x50256_y13376_patch03185.pt cannot be opened.\n",
      "ERROR:__main__:Error saving D:\\Aamir Gulzar\\KSA_project2\\dataset\\patch_data\\TCGA-CL-4957_nonMSIH\\TCGA-CL-4957_nonMSIH_x50256_y13888_patch03186.png: File D:\\Aamir Gulzar\\KSA_project2\\dataset\\Features\\Uni_2h_fivecrop\\TCGA-CL-4957_nonMSIH\\TCGA-CL-4957_nonMSIH_x50256_y13888_patch03186.pt cannot be opened.\n",
      "ERROR:__main__:Error saving D:\\Aamir Gulzar\\KSA_project2\\dataset\\patch_data\\TCGA-CL-4957_nonMSIH\\TCGA-CL-4957_nonMSIH_x50256_y14400_patch03187.png: File D:\\Aamir Gulzar\\KSA_project2\\dataset\\Features\\Uni_2h_fivecrop\\TCGA-CL-4957_nonMSIH\\TCGA-CL-4957_nonMSIH_x50256_y14400_patch03187.pt cannot be opened.\n",
      "ERROR:__main__:Error saving D:\\Aamir Gulzar\\KSA_project2\\dataset\\patch_data\\TCGA-CL-4957_nonMSIH\\TCGA-CL-4957_nonMSIH_x50256_y15424_patch03189.png: File D:\\Aamir Gulzar\\KSA_project2\\dataset\\Features\\Uni_2h_fivecrop\\TCGA-CL-4957_nonMSIH\\TCGA-CL-4957_nonMSIH_x50256_y15424_patch03189.pt cannot be opened.\n",
      "ERROR:__main__:Error saving D:\\Aamir Gulzar\\KSA_project2\\dataset\\patch_data\\TCGA-CL-4957_nonMSIH\\TCGA-CL-4957_nonMSIH_x50256_y14912_patch03188.png: File D:\\Aamir Gulzar\\KSA_project2\\dataset\\Features\\Uni_2h_fivecrop\\TCGA-CL-4957_nonMSIH\\TCGA-CL-4957_nonMSIH_x50256_y14912_patch03188.pt cannot be opened.\n",
      "ERROR:__main__:Error saving D:\\Aamir Gulzar\\KSA_project2\\dataset\\patch_data\\TCGA-CL-4957_nonMSIH\\TCGA-CL-4957_nonMSIH_x50256_y15936_patch03190.png: File D:\\Aamir Gulzar\\KSA_project2\\dataset\\Features\\Uni_2h_fivecrop\\TCGA-CL-4957_nonMSIH\\TCGA-CL-4957_nonMSIH_x50256_y15936_patch03190.pt cannot be opened.\n",
      "ERROR:__main__:Error saving D:\\Aamir Gulzar\\KSA_project2\\dataset\\patch_data\\TCGA-CL-4957_nonMSIH\\TCGA-CL-4957_nonMSIH_x50256_y16448_patch03191.png: File D:\\Aamir Gulzar\\KSA_project2\\dataset\\Features\\Uni_2h_fivecrop\\TCGA-CL-4957_nonMSIH\\TCGA-CL-4957_nonMSIH_x50256_y16448_patch03191.pt cannot be opened.\n",
      "ERROR:__main__:Error saving D:\\Aamir Gulzar\\KSA_project2\\dataset\\patch_data\\TCGA-CL-4957_nonMSIH\\TCGA-CL-4957_nonMSIH_x50256_y16960_patch03192.png: File D:\\Aamir Gulzar\\KSA_project2\\dataset\\Features\\Uni_2h_fivecrop\\TCGA-CL-4957_nonMSIH\\TCGA-CL-4957_nonMSIH_x50256_y16960_patch03192.pt cannot be opened.\n",
      "ERROR:__main__:Error saving D:\\Aamir Gulzar\\KSA_project2\\dataset\\patch_data\\TCGA-CL-4957_nonMSIH\\TCGA-CL-4957_nonMSIH_x50256_y17472_patch03193.png: File D:\\Aamir Gulzar\\KSA_project2\\dataset\\Features\\Uni_2h_fivecrop\\TCGA-CL-4957_nonMSIH\\TCGA-CL-4957_nonMSIH_x50256_y17472_patch03193.pt cannot be opened.\n",
      "ERROR:__main__:Error saving D:\\Aamir Gulzar\\KSA_project2\\dataset\\patch_data\\TCGA-CL-4957_nonMSIH\\TCGA-CL-4957_nonMSIH_x50256_y17984_patch03194.png: File D:\\Aamir Gulzar\\KSA_project2\\dataset\\Features\\Uni_2h_fivecrop\\TCGA-CL-4957_nonMSIH\\TCGA-CL-4957_nonMSIH_x50256_y17984_patch03194.pt cannot be opened.\n",
      "ERROR:__main__:Error saving D:\\Aamir Gulzar\\KSA_project2\\dataset\\patch_data\\TCGA-CL-4957_nonMSIH\\TCGA-CL-4957_nonMSIH_x50256_y18496_patch03195.png: File D:\\Aamir Gulzar\\KSA_project2\\dataset\\Features\\Uni_2h_fivecrop\\TCGA-CL-4957_nonMSIH\\TCGA-CL-4957_nonMSIH_x50256_y18496_patch03195.pt cannot be opened.\n",
      "ERROR:__main__:Error saving D:\\Aamir Gulzar\\KSA_project2\\dataset\\patch_data\\TCGA-CL-4957_nonMSIH\\TCGA-CL-4957_nonMSIH_x50256_y19008_patch03196.png: File D:\\Aamir Gulzar\\KSA_project2\\dataset\\Features\\Uni_2h_fivecrop\\TCGA-CL-4957_nonMSIH\\TCGA-CL-4957_nonMSIH_x50256_y19008_patch03196.pt cannot be opened.\n",
      "ERROR:__main__:Error saving D:\\Aamir Gulzar\\KSA_project2\\dataset\\patch_data\\TCGA-CL-4957_nonMSIH\\TCGA-CL-4957_nonMSIH_x50256_y19520_patch03197.png: File D:\\Aamir Gulzar\\KSA_project2\\dataset\\Features\\Uni_2h_fivecrop\\TCGA-CL-4957_nonMSIH\\TCGA-CL-4957_nonMSIH_x50256_y19520_patch03197.pt cannot be opened.\n",
      "ERROR:__main__:Error saving D:\\Aamir Gulzar\\KSA_project2\\dataset\\patch_data\\TCGA-CL-4957_nonMSIH\\TCGA-CL-4957_nonMSIH_x50256_y20032_patch03198.png: File D:\\Aamir Gulzar\\KSA_project2\\dataset\\Features\\Uni_2h_fivecrop\\TCGA-CL-4957_nonMSIH\\TCGA-CL-4957_nonMSIH_x50256_y20032_patch03198.pt cannot be opened.\n",
      "ERROR:__main__:Error saving D:\\Aamir Gulzar\\KSA_project2\\dataset\\patch_data\\TCGA-CL-4957_nonMSIH\\TCGA-CL-4957_nonMSIH_x50256_y21056_patch03200.png: File D:\\Aamir Gulzar\\KSA_project2\\dataset\\Features\\Uni_2h_fivecrop\\TCGA-CL-4957_nonMSIH\\TCGA-CL-4957_nonMSIH_x50256_y21056_patch03200.pt cannot be opened.\n",
      "ERROR:__main__:Error saving D:\\Aamir Gulzar\\KSA_project2\\dataset\\patch_data\\TCGA-CL-4957_nonMSIH\\TCGA-CL-4957_nonMSIH_x50256_y20544_patch03199.png: File D:\\Aamir Gulzar\\KSA_project2\\dataset\\Features\\Uni_2h_fivecrop\\TCGA-CL-4957_nonMSIH\\TCGA-CL-4957_nonMSIH_x50256_y20544_patch03199.pt cannot be opened.\n",
      "ERROR:__main__:Error saving D:\\Aamir Gulzar\\KSA_project2\\dataset\\patch_data\\TCGA-CL-4957_nonMSIH\\TCGA-CL-4957_nonMSIH_x50256_y21568_patch03201.png: File D:\\Aamir Gulzar\\KSA_project2\\dataset\\Features\\Uni_2h_fivecrop\\TCGA-CL-4957_nonMSIH\\TCGA-CL-4957_nonMSIH_x50256_y21568_patch03201.pt cannot be opened.\n",
      "ERROR:__main__:Error saving D:\\Aamir Gulzar\\KSA_project2\\dataset\\patch_data\\TCGA-CL-4957_nonMSIH\\TCGA-CL-4957_nonMSIH_x50256_y5696_patch03170.png: File D:\\Aamir Gulzar\\KSA_project2\\dataset\\Features\\Uni_2h_fivecrop\\TCGA-CL-4957_nonMSIH\\TCGA-CL-4957_nonMSIH_x50256_y5696_patch03170.pt cannot be opened.\n",
      "ERROR:__main__:Error saving D:\\Aamir Gulzar\\KSA_project2\\dataset\\patch_data\\TCGA-CL-4957_nonMSIH\\TCGA-CL-4957_nonMSIH_x50256_y6208_patch03171.png: File D:\\Aamir Gulzar\\KSA_project2\\dataset\\Features\\Uni_2h_fivecrop\\TCGA-CL-4957_nonMSIH\\TCGA-CL-4957_nonMSIH_x50256_y6208_patch03171.pt cannot be opened.\n",
      "ERROR:__main__:Error saving D:\\Aamir Gulzar\\KSA_project2\\dataset\\patch_data\\TCGA-CL-4957_nonMSIH\\TCGA-CL-4957_nonMSIH_x50256_y6720_patch03172.png: File D:\\Aamir Gulzar\\KSA_project2\\dataset\\Features\\Uni_2h_fivecrop\\TCGA-CL-4957_nonMSIH\\TCGA-CL-4957_nonMSIH_x50256_y6720_patch03172.pt cannot be opened.\n",
      "ERROR:__main__:Error saving D:\\Aamir Gulzar\\KSA_project2\\dataset\\patch_data\\TCGA-CL-4957_nonMSIH\\TCGA-CL-4957_nonMSIH_x50256_y7232_patch03173.png: File D:\\Aamir Gulzar\\KSA_project2\\dataset\\Features\\Uni_2h_fivecrop\\TCGA-CL-4957_nonMSIH\\TCGA-CL-4957_nonMSIH_x50256_y7232_patch03173.pt cannot be opened.\n",
      "ERROR:__main__:Error saving D:\\Aamir Gulzar\\KSA_project2\\dataset\\patch_data\\TCGA-CL-4957_nonMSIH\\TCGA-CL-4957_nonMSIH_x50256_y7744_patch03174.png: File D:\\Aamir Gulzar\\KSA_project2\\dataset\\Features\\Uni_2h_fivecrop\\TCGA-CL-4957_nonMSIH\\TCGA-CL-4957_nonMSIH_x50256_y7744_patch03174.pt cannot be opened.\n",
      "ERROR:__main__:Error saving D:\\Aamir Gulzar\\KSA_project2\\dataset\\patch_data\\TCGA-CL-4957_nonMSIH\\TCGA-CL-4957_nonMSIH_x50256_y8256_patch03175.png: File D:\\Aamir Gulzar\\KSA_project2\\dataset\\Features\\Uni_2h_fivecrop\\TCGA-CL-4957_nonMSIH\\TCGA-CL-4957_nonMSIH_x50256_y8256_patch03175.pt cannot be opened.\n",
      "ERROR:__main__:Error saving D:\\Aamir Gulzar\\KSA_project2\\dataset\\patch_data\\TCGA-CL-4957_nonMSIH\\TCGA-CL-4957_nonMSIH_x50256_y8768_patch03176.png: File D:\\Aamir Gulzar\\KSA_project2\\dataset\\Features\\Uni_2h_fivecrop\\TCGA-CL-4957_nonMSIH\\TCGA-CL-4957_nonMSIH_x50256_y8768_patch03176.pt cannot be opened.\n",
      "ERROR:__main__:Error saving D:\\Aamir Gulzar\\KSA_project2\\dataset\\patch_data\\TCGA-CL-4957_nonMSIH\\TCGA-CL-4957_nonMSIH_x50256_y9280_patch03177.png: File D:\\Aamir Gulzar\\KSA_project2\\dataset\\Features\\Uni_2h_fivecrop\\TCGA-CL-4957_nonMSIH\\TCGA-CL-4957_nonMSIH_x50256_y9280_patch03177.pt cannot be opened.\n",
      "ERROR:__main__:Error saving D:\\Aamir Gulzar\\KSA_project2\\dataset\\patch_data\\TCGA-CL-4957_nonMSIH\\TCGA-CL-4957_nonMSIH_x50256_y9792_patch03178.png: File D:\\Aamir Gulzar\\KSA_project2\\dataset\\Features\\Uni_2h_fivecrop\\TCGA-CL-4957_nonMSIH\\TCGA-CL-4957_nonMSIH_x50256_y9792_patch03178.pt cannot be opened.\n",
      "ERROR:__main__:Error saving D:\\Aamir Gulzar\\KSA_project2\\dataset\\patch_data\\TCGA-CL-4957_nonMSIH\\TCGA-CL-4957_nonMSIH_x50368_y4304_patch03637.png: File D:\\Aamir Gulzar\\KSA_project2\\dataset\\Features\\Uni_2h_fivecrop\\TCGA-CL-4957_nonMSIH\\TCGA-CL-4957_nonMSIH_x50368_y4304_patch03637.pt cannot be opened.\n",
      "ERROR:__main__:Error saving D:\\Aamir Gulzar\\KSA_project2\\dataset\\patch_data\\TCGA-CL-4957_nonMSIH\\TCGA-CL-4957_nonMSIH_x50368_y4816_patch03638.png: File D:\\Aamir Gulzar\\KSA_project2\\dataset\\Features\\Uni_2h_fivecrop\\TCGA-CL-4957_nonMSIH\\TCGA-CL-4957_nonMSIH_x50368_y4816_patch03638.pt cannot be opened.\n",
      "ERROR:__main__:Error saving D:\\Aamir Gulzar\\KSA_project2\\dataset\\patch_data\\TCGA-CL-4957_nonMSIH\\TCGA-CL-4957_nonMSIH_x50768_y10304_patch03211.png: File D:\\Aamir Gulzar\\KSA_project2\\dataset\\Features\\Uni_2h_fivecrop\\TCGA-CL-4957_nonMSIH\\TCGA-CL-4957_nonMSIH_x50768_y10304_patch03211.pt cannot be opened.\n",
      "ERROR:__main__:Error saving D:\\Aamir Gulzar\\KSA_project2\\dataset\\patch_data\\TCGA-CL-4957_nonMSIH\\TCGA-CL-4957_nonMSIH_x50768_y10816_patch03212.png: File D:\\Aamir Gulzar\\KSA_project2\\dataset\\Features\\Uni_2h_fivecrop\\TCGA-CL-4957_nonMSIH\\TCGA-CL-4957_nonMSIH_x50768_y10816_patch03212.pt cannot be opened.\n",
      "ERROR:__main__:Error saving D:\\Aamir Gulzar\\KSA_project2\\dataset\\patch_data\\TCGA-CL-4957_nonMSIH\\TCGA-CL-4957_nonMSIH_x50768_y11328_patch03213.png: File D:\\Aamir Gulzar\\KSA_project2\\dataset\\Features\\Uni_2h_fivecrop\\TCGA-CL-4957_nonMSIH\\TCGA-CL-4957_nonMSIH_x50768_y11328_patch03213.pt cannot be opened.\n",
      "ERROR:__main__:Error saving D:\\Aamir Gulzar\\KSA_project2\\dataset\\patch_data\\TCGA-CL-4957_nonMSIH\\TCGA-CL-4957_nonMSIH_x50768_y11840_patch03214.png: File D:\\Aamir Gulzar\\KSA_project2\\dataset\\Features\\Uni_2h_fivecrop\\TCGA-CL-4957_nonMSIH\\TCGA-CL-4957_nonMSIH_x50768_y11840_patch03214.pt cannot be opened.\n",
      "ERROR:__main__:Error saving D:\\Aamir Gulzar\\KSA_project2\\dataset\\patch_data\\TCGA-CL-4957_nonMSIH\\TCGA-CL-4957_nonMSIH_x50768_y12864_patch03216.png: File D:\\Aamir Gulzar\\KSA_project2\\dataset\\Features\\Uni_2h_fivecrop\\TCGA-CL-4957_nonMSIH\\TCGA-CL-4957_nonMSIH_x50768_y12864_patch03216.pt cannot be opened.\n",
      "ERROR:__main__:Error saving D:\\Aamir Gulzar\\KSA_project2\\dataset\\patch_data\\TCGA-CL-4957_nonMSIH\\TCGA-CL-4957_nonMSIH_x50768_y12352_patch03215.png: File D:\\Aamir Gulzar\\KSA_project2\\dataset\\Features\\Uni_2h_fivecrop\\TCGA-CL-4957_nonMSIH\\TCGA-CL-4957_nonMSIH_x50768_y12352_patch03215.pt cannot be opened.\n",
      "ERROR:__main__:Error saving D:\\Aamir Gulzar\\KSA_project2\\dataset\\patch_data\\TCGA-CL-4957_nonMSIH\\TCGA-CL-4957_nonMSIH_x50768_y13376_patch03217.png: File D:\\Aamir Gulzar\\KSA_project2\\dataset\\Features\\Uni_2h_fivecrop\\TCGA-CL-4957_nonMSIH\\TCGA-CL-4957_nonMSIH_x50768_y13376_patch03217.pt cannot be opened.\n",
      "ERROR:__main__:Error saving D:\\Aamir Gulzar\\KSA_project2\\dataset\\patch_data\\TCGA-CL-4957_nonMSIH\\TCGA-CL-4957_nonMSIH_x50768_y13888_patch03218.png: File D:\\Aamir Gulzar\\KSA_project2\\dataset\\Features\\Uni_2h_fivecrop\\TCGA-CL-4957_nonMSIH\\TCGA-CL-4957_nonMSIH_x50768_y13888_patch03218.pt cannot be opened.\n",
      "ERROR:__main__:Error saving D:\\Aamir Gulzar\\KSA_project2\\dataset\\patch_data\\TCGA-CL-4957_nonMSIH\\TCGA-CL-4957_nonMSIH_x50768_y14400_patch03219.png: File D:\\Aamir Gulzar\\KSA_project2\\dataset\\Features\\Uni_2h_fivecrop\\TCGA-CL-4957_nonMSIH\\TCGA-CL-4957_nonMSIH_x50768_y14400_patch03219.pt cannot be opened.\n",
      "ERROR:__main__:Error saving D:\\Aamir Gulzar\\KSA_project2\\dataset\\patch_data\\TCGA-CL-4957_nonMSIH\\TCGA-CL-4957_nonMSIH_x50768_y14912_patch03220.png: File D:\\Aamir Gulzar\\KSA_project2\\dataset\\Features\\Uni_2h_fivecrop\\TCGA-CL-4957_nonMSIH\\TCGA-CL-4957_nonMSIH_x50768_y14912_patch03220.pt cannot be opened.\n",
      "ERROR:__main__:Error saving D:\\Aamir Gulzar\\KSA_project2\\dataset\\patch_data\\TCGA-CL-4957_nonMSIH\\TCGA-CL-4957_nonMSIH_x50768_y15424_patch03221.png: File D:\\Aamir Gulzar\\KSA_project2\\dataset\\Features\\Uni_2h_fivecrop\\TCGA-CL-4957_nonMSIH\\TCGA-CL-4957_nonMSIH_x50768_y15424_patch03221.pt cannot be opened.\n",
      "ERROR:__main__:Error saving D:\\Aamir Gulzar\\KSA_project2\\dataset\\patch_data\\TCGA-CL-4957_nonMSIH\\TCGA-CL-4957_nonMSIH_x50768_y15936_patch03222.png: File D:\\Aamir Gulzar\\KSA_project2\\dataset\\Features\\Uni_2h_fivecrop\\TCGA-CL-4957_nonMSIH\\TCGA-CL-4957_nonMSIH_x50768_y15936_patch03222.pt cannot be opened.\n",
      "ERROR:__main__:Error saving D:\\Aamir Gulzar\\KSA_project2\\dataset\\patch_data\\TCGA-CL-4957_nonMSIH\\TCGA-CL-4957_nonMSIH_x50768_y16448_patch03223.png: File D:\\Aamir Gulzar\\KSA_project2\\dataset\\Features\\Uni_2h_fivecrop\\TCGA-CL-4957_nonMSIH\\TCGA-CL-4957_nonMSIH_x50768_y16448_patch03223.pt cannot be opened.\n",
      "ERROR:__main__:Error saving D:\\Aamir Gulzar\\KSA_project2\\dataset\\patch_data\\TCGA-CL-4957_nonMSIH\\TCGA-CL-4957_nonMSIH_x50768_y16960_patch03224.png: File D:\\Aamir Gulzar\\KSA_project2\\dataset\\Features\\Uni_2h_fivecrop\\TCGA-CL-4957_nonMSIH\\TCGA-CL-4957_nonMSIH_x50768_y16960_patch03224.pt cannot be opened.\n",
      "ERROR:__main__:Error saving D:\\Aamir Gulzar\\KSA_project2\\dataset\\patch_data\\TCGA-CL-4957_nonMSIH\\TCGA-CL-4957_nonMSIH_x50768_y17472_patch03225.png: File D:\\Aamir Gulzar\\KSA_project2\\dataset\\Features\\Uni_2h_fivecrop\\TCGA-CL-4957_nonMSIH\\TCGA-CL-4957_nonMSIH_x50768_y17472_patch03225.pt cannot be opened.\n",
      "ERROR:__main__:Error saving D:\\Aamir Gulzar\\KSA_project2\\dataset\\patch_data\\TCGA-CL-4957_nonMSIH\\TCGA-CL-4957_nonMSIH_x50768_y17984_patch03226.png: File D:\\Aamir Gulzar\\KSA_project2\\dataset\\Features\\Uni_2h_fivecrop\\TCGA-CL-4957_nonMSIH\\TCGA-CL-4957_nonMSIH_x50768_y17984_patch03226.pt cannot be opened.\n",
      "ERROR:__main__:Error saving D:\\Aamir Gulzar\\KSA_project2\\dataset\\patch_data\\TCGA-CL-4957_nonMSIH\\TCGA-CL-4957_nonMSIH_x50768_y18496_patch03227.png: File D:\\Aamir Gulzar\\KSA_project2\\dataset\\Features\\Uni_2h_fivecrop\\TCGA-CL-4957_nonMSIH\\TCGA-CL-4957_nonMSIH_x50768_y18496_patch03227.pt cannot be opened.\n",
      "ERROR:__main__:Error saving D:\\Aamir Gulzar\\KSA_project2\\dataset\\patch_data\\TCGA-CL-4957_nonMSIH\\TCGA-CL-4957_nonMSIH_x50768_y19008_patch03228.png: File D:\\Aamir Gulzar\\KSA_project2\\dataset\\Features\\Uni_2h_fivecrop\\TCGA-CL-4957_nonMSIH\\TCGA-CL-4957_nonMSIH_x50768_y19008_patch03228.pt cannot be opened.\n",
      "ERROR:__main__:Error saving D:\\Aamir Gulzar\\KSA_project2\\dataset\\patch_data\\TCGA-CL-4957_nonMSIH\\TCGA-CL-4957_nonMSIH_x50768_y20544_patch03231.png: File D:\\Aamir Gulzar\\KSA_project2\\dataset\\Features\\Uni_2h_fivecrop\\TCGA-CL-4957_nonMSIH\\TCGA-CL-4957_nonMSIH_x50768_y20544_patch03231.pt cannot be opened.\n",
      "ERROR:__main__:Error saving D:\\Aamir Gulzar\\KSA_project2\\dataset\\patch_data\\TCGA-CL-4957_nonMSIH\\TCGA-CL-4957_nonMSIH_x50768_y19520_patch03229.png: File D:\\Aamir Gulzar\\KSA_project2\\dataset\\Features\\Uni_2h_fivecrop\\TCGA-CL-4957_nonMSIH\\TCGA-CL-4957_nonMSIH_x50768_y19520_patch03229.pt cannot be opened.\n",
      "ERROR:__main__:Error saving D:\\Aamir Gulzar\\KSA_project2\\dataset\\patch_data\\TCGA-CL-4957_nonMSIH\\TCGA-CL-4957_nonMSIH_x50768_y20032_patch03230.png: File D:\\Aamir Gulzar\\KSA_project2\\dataset\\Features\\Uni_2h_fivecrop\\TCGA-CL-4957_nonMSIH\\TCGA-CL-4957_nonMSIH_x50768_y20032_patch03230.pt cannot be opened.\n",
      "ERROR:__main__:Error saving D:\\Aamir Gulzar\\KSA_project2\\dataset\\patch_data\\TCGA-CL-4957_nonMSIH\\TCGA-CL-4957_nonMSIH_x50768_y21056_patch03232.png: File D:\\Aamir Gulzar\\KSA_project2\\dataset\\Features\\Uni_2h_fivecrop\\TCGA-CL-4957_nonMSIH\\TCGA-CL-4957_nonMSIH_x50768_y21056_patch03232.pt cannot be opened.\n",
      "ERROR:__main__:Error saving D:\\Aamir Gulzar\\KSA_project2\\dataset\\patch_data\\TCGA-CL-4957_nonMSIH\\TCGA-CL-4957_nonMSIH_x50768_y21568_patch03233.png: File D:\\Aamir Gulzar\\KSA_project2\\dataset\\Features\\Uni_2h_fivecrop\\TCGA-CL-4957_nonMSIH\\TCGA-CL-4957_nonMSIH_x50768_y21568_patch03233.pt cannot be opened.\n",
      "ERROR:__main__:Error saving D:\\Aamir Gulzar\\KSA_project2\\dataset\\patch_data\\TCGA-CL-4957_nonMSIH\\TCGA-CL-4957_nonMSIH_x50768_y22080_patch03234.png: File D:\\Aamir Gulzar\\KSA_project2\\dataset\\Features\\Uni_2h_fivecrop\\TCGA-CL-4957_nonMSIH\\TCGA-CL-4957_nonMSIH_x50768_y22080_patch03234.pt cannot be opened.\n",
      "ERROR:__main__:Error saving D:\\Aamir Gulzar\\KSA_project2\\dataset\\patch_data\\TCGA-CL-4957_nonMSIH\\TCGA-CL-4957_nonMSIH_x50768_y5696_patch03202.png: File D:\\Aamir Gulzar\\KSA_project2\\dataset\\Features\\Uni_2h_fivecrop\\TCGA-CL-4957_nonMSIH\\TCGA-CL-4957_nonMSIH_x50768_y5696_patch03202.pt cannot be opened.\n",
      "ERROR:__main__:Error saving D:\\Aamir Gulzar\\KSA_project2\\dataset\\patch_data\\TCGA-CL-4957_nonMSIH\\TCGA-CL-4957_nonMSIH_x50768_y6208_patch03203.png: File D:\\Aamir Gulzar\\KSA_project2\\dataset\\Features\\Uni_2h_fivecrop\\TCGA-CL-4957_nonMSIH\\TCGA-CL-4957_nonMSIH_x50768_y6208_patch03203.pt cannot be opened.\n",
      "ERROR:__main__:Error saving D:\\Aamir Gulzar\\KSA_project2\\dataset\\patch_data\\TCGA-CL-4957_nonMSIH\\TCGA-CL-4957_nonMSIH_x50768_y6720_patch03204.png: File D:\\Aamir Gulzar\\KSA_project2\\dataset\\Features\\Uni_2h_fivecrop\\TCGA-CL-4957_nonMSIH\\TCGA-CL-4957_nonMSIH_x50768_y6720_patch03204.pt cannot be opened.\n",
      "ERROR:__main__:Error saving D:\\Aamir Gulzar\\KSA_project2\\dataset\\patch_data\\TCGA-CL-4957_nonMSIH\\TCGA-CL-4957_nonMSIH_x50768_y7232_patch03205.png: File D:\\Aamir Gulzar\\KSA_project2\\dataset\\Features\\Uni_2h_fivecrop\\TCGA-CL-4957_nonMSIH\\TCGA-CL-4957_nonMSIH_x50768_y7232_patch03205.pt cannot be opened.\n",
      "ERROR:__main__:Error saving D:\\Aamir Gulzar\\KSA_project2\\dataset\\patch_data\\TCGA-CL-4957_nonMSIH\\TCGA-CL-4957_nonMSIH_x50768_y7744_patch03206.png: File D:\\Aamir Gulzar\\KSA_project2\\dataset\\Features\\Uni_2h_fivecrop\\TCGA-CL-4957_nonMSIH\\TCGA-CL-4957_nonMSIH_x50768_y7744_patch03206.pt cannot be opened.\n",
      "ERROR:__main__:Error saving D:\\Aamir Gulzar\\KSA_project2\\dataset\\patch_data\\TCGA-CL-4957_nonMSIH\\TCGA-CL-4957_nonMSIH_x50768_y8256_patch03207.png: File D:\\Aamir Gulzar\\KSA_project2\\dataset\\Features\\Uni_2h_fivecrop\\TCGA-CL-4957_nonMSIH\\TCGA-CL-4957_nonMSIH_x50768_y8256_patch03207.pt cannot be opened.\n",
      "ERROR:__main__:Error saving D:\\Aamir Gulzar\\KSA_project2\\dataset\\patch_data\\TCGA-CL-4957_nonMSIH\\TCGA-CL-4957_nonMSIH_x50768_y8768_patch03208.png: File D:\\Aamir Gulzar\\KSA_project2\\dataset\\Features\\Uni_2h_fivecrop\\TCGA-CL-4957_nonMSIH\\TCGA-CL-4957_nonMSIH_x50768_y8768_patch03208.pt cannot be opened.\n",
      "ERROR:__main__:Error saving D:\\Aamir Gulzar\\KSA_project2\\dataset\\patch_data\\TCGA-CL-4957_nonMSIH\\TCGA-CL-4957_nonMSIH_x50768_y9280_patch03209.png: File D:\\Aamir Gulzar\\KSA_project2\\dataset\\Features\\Uni_2h_fivecrop\\TCGA-CL-4957_nonMSIH\\TCGA-CL-4957_nonMSIH_x50768_y9280_patch03209.pt cannot be opened.\n",
      "ERROR:__main__:Error saving D:\\Aamir Gulzar\\KSA_project2\\dataset\\patch_data\\TCGA-CL-4957_nonMSIH\\TCGA-CL-4957_nonMSIH_x50768_y9792_patch03210.png: File D:\\Aamir Gulzar\\KSA_project2\\dataset\\Features\\Uni_2h_fivecrop\\TCGA-CL-4957_nonMSIH\\TCGA-CL-4957_nonMSIH_x50768_y9792_patch03210.pt cannot be opened.\n",
      "ERROR:__main__:Error saving D:\\Aamir Gulzar\\KSA_project2\\dataset\\patch_data\\TCGA-CL-4957_nonMSIH\\TCGA-CL-4957_nonMSIH_x50880_y3792_patch03639.png: File D:\\Aamir Gulzar\\KSA_project2\\dataset\\Features\\Uni_2h_fivecrop\\TCGA-CL-4957_nonMSIH\\TCGA-CL-4957_nonMSIH_x50880_y3792_patch03639.pt cannot be opened.\n",
      "ERROR:__main__:Error saving D:\\Aamir Gulzar\\KSA_project2\\dataset\\patch_data\\TCGA-CL-4957_nonMSIH\\TCGA-CL-4957_nonMSIH_x50880_y4304_patch03640.png: File D:\\Aamir Gulzar\\KSA_project2\\dataset\\Features\\Uni_2h_fivecrop\\TCGA-CL-4957_nonMSIH\\TCGA-CL-4957_nonMSIH_x50880_y4304_patch03640.pt cannot be opened.\n",
      "ERROR:__main__:Error saving D:\\Aamir Gulzar\\KSA_project2\\dataset\\patch_data\\TCGA-CL-4957_nonMSIH\\TCGA-CL-4957_nonMSIH_x50880_y4816_patch03641.png: File D:\\Aamir Gulzar\\KSA_project2\\dataset\\Features\\Uni_2h_fivecrop\\TCGA-CL-4957_nonMSIH\\TCGA-CL-4957_nonMSIH_x50880_y4816_patch03641.pt cannot be opened.\n",
      "ERROR:__main__:Error saving D:\\Aamir Gulzar\\KSA_project2\\dataset\\patch_data\\TCGA-CL-4957_nonMSIH\\TCGA-CL-4957_nonMSIH_x51280_y10304_patch03243.png: File D:\\Aamir Gulzar\\KSA_project2\\dataset\\Features\\Uni_2h_fivecrop\\TCGA-CL-4957_nonMSIH\\TCGA-CL-4957_nonMSIH_x51280_y10304_patch03243.pt cannot be opened.\n",
      "ERROR:__main__:Error saving D:\\Aamir Gulzar\\KSA_project2\\dataset\\patch_data\\TCGA-CL-4957_nonMSIH\\TCGA-CL-4957_nonMSIH_x51280_y10816_patch03244.png: File D:\\Aamir Gulzar\\KSA_project2\\dataset\\Features\\Uni_2h_fivecrop\\TCGA-CL-4957_nonMSIH\\TCGA-CL-4957_nonMSIH_x51280_y10816_patch03244.pt cannot be opened.\n",
      "ERROR:__main__:Error saving D:\\Aamir Gulzar\\KSA_project2\\dataset\\patch_data\\TCGA-CL-4957_nonMSIH\\TCGA-CL-4957_nonMSIH_x51280_y11328_patch03245.png: File D:\\Aamir Gulzar\\KSA_project2\\dataset\\Features\\Uni_2h_fivecrop\\TCGA-CL-4957_nonMSIH\\TCGA-CL-4957_nonMSIH_x51280_y11328_patch03245.pt cannot be opened.\n",
      "ERROR:__main__:Error saving D:\\Aamir Gulzar\\KSA_project2\\dataset\\patch_data\\TCGA-CL-4957_nonMSIH\\TCGA-CL-4957_nonMSIH_x51280_y11840_patch03246.png: File D:\\Aamir Gulzar\\KSA_project2\\dataset\\Features\\Uni_2h_fivecrop\\TCGA-CL-4957_nonMSIH\\TCGA-CL-4957_nonMSIH_x51280_y11840_patch03246.pt cannot be opened.\n",
      "ERROR:__main__:Error saving D:\\Aamir Gulzar\\KSA_project2\\dataset\\patch_data\\TCGA-CL-4957_nonMSIH\\TCGA-CL-4957_nonMSIH_x51280_y12352_patch03247.png: File D:\\Aamir Gulzar\\KSA_project2\\dataset\\Features\\Uni_2h_fivecrop\\TCGA-CL-4957_nonMSIH\\TCGA-CL-4957_nonMSIH_x51280_y12352_patch03247.pt cannot be opened.\n",
      "ERROR:__main__:Error saving D:\\Aamir Gulzar\\KSA_project2\\dataset\\patch_data\\TCGA-CL-4957_nonMSIH\\TCGA-CL-4957_nonMSIH_x51280_y12864_patch03248.png: File D:\\Aamir Gulzar\\KSA_project2\\dataset\\Features\\Uni_2h_fivecrop\\TCGA-CL-4957_nonMSIH\\TCGA-CL-4957_nonMSIH_x51280_y12864_patch03248.pt cannot be opened.\n",
      "ERROR:__main__:Error saving D:\\Aamir Gulzar\\KSA_project2\\dataset\\patch_data\\TCGA-CL-4957_nonMSIH\\TCGA-CL-4957_nonMSIH_x51280_y13376_patch03249.png: File D:\\Aamir Gulzar\\KSA_project2\\dataset\\Features\\Uni_2h_fivecrop\\TCGA-CL-4957_nonMSIH\\TCGA-CL-4957_nonMSIH_x51280_y13376_patch03249.pt cannot be opened.\n",
      "ERROR:__main__:Error saving D:\\Aamir Gulzar\\KSA_project2\\dataset\\patch_data\\TCGA-CL-4957_nonMSIH\\TCGA-CL-4957_nonMSIH_x51280_y13888_patch03250.png: File D:\\Aamir Gulzar\\KSA_project2\\dataset\\Features\\Uni_2h_fivecrop\\TCGA-CL-4957_nonMSIH\\TCGA-CL-4957_nonMSIH_x51280_y13888_patch03250.pt cannot be opened.\n",
      "ERROR:__main__:Error saving D:\\Aamir Gulzar\\KSA_project2\\dataset\\patch_data\\TCGA-CL-4957_nonMSIH\\TCGA-CL-4957_nonMSIH_x51280_y14400_patch03251.png: File D:\\Aamir Gulzar\\KSA_project2\\dataset\\Features\\Uni_2h_fivecrop\\TCGA-CL-4957_nonMSIH\\TCGA-CL-4957_nonMSIH_x51280_y14400_patch03251.pt cannot be opened.\n",
      "ERROR:__main__:Error saving D:\\Aamir Gulzar\\KSA_project2\\dataset\\patch_data\\TCGA-CL-4957_nonMSIH\\TCGA-CL-4957_nonMSIH_x51280_y14912_patch03252.png: File D:\\Aamir Gulzar\\KSA_project2\\dataset\\Features\\Uni_2h_fivecrop\\TCGA-CL-4957_nonMSIH\\TCGA-CL-4957_nonMSIH_x51280_y14912_patch03252.pt cannot be opened.\n",
      "ERROR:__main__:Error saving D:\\Aamir Gulzar\\KSA_project2\\dataset\\patch_data\\TCGA-CL-4957_nonMSIH\\TCGA-CL-4957_nonMSIH_x51280_y15424_patch03253.png: File D:\\Aamir Gulzar\\KSA_project2\\dataset\\Features\\Uni_2h_fivecrop\\TCGA-CL-4957_nonMSIH\\TCGA-CL-4957_nonMSIH_x51280_y15424_patch03253.pt cannot be opened.\n",
      "ERROR:__main__:Error saving D:\\Aamir Gulzar\\KSA_project2\\dataset\\patch_data\\TCGA-CL-4957_nonMSIH\\TCGA-CL-4957_nonMSIH_x51280_y15936_patch03254.png: File D:\\Aamir Gulzar\\KSA_project2\\dataset\\Features\\Uni_2h_fivecrop\\TCGA-CL-4957_nonMSIH\\TCGA-CL-4957_nonMSIH_x51280_y15936_patch03254.pt cannot be opened.\n",
      "ERROR:__main__:Error saving D:\\Aamir Gulzar\\KSA_project2\\dataset\\patch_data\\TCGA-CL-4957_nonMSIH\\TCGA-CL-4957_nonMSIH_x51280_y16960_patch03256.png: File D:\\Aamir Gulzar\\KSA_project2\\dataset\\Features\\Uni_2h_fivecrop\\TCGA-CL-4957_nonMSIH\\TCGA-CL-4957_nonMSIH_x51280_y16960_patch03256.pt cannot be opened.\n",
      "ERROR:__main__:Error saving D:\\Aamir Gulzar\\KSA_project2\\dataset\\patch_data\\TCGA-CL-4957_nonMSIH\\TCGA-CL-4957_nonMSIH_x51280_y16448_patch03255.png: File D:\\Aamir Gulzar\\KSA_project2\\dataset\\Features\\Uni_2h_fivecrop\\TCGA-CL-4957_nonMSIH\\TCGA-CL-4957_nonMSIH_x51280_y16448_patch03255.pt cannot be opened.\n",
      "ERROR:__main__:Error saving D:\\Aamir Gulzar\\KSA_project2\\dataset\\patch_data\\TCGA-CL-4957_nonMSIH\\TCGA-CL-4957_nonMSIH_x51280_y17984_patch03258.png: File D:\\Aamir Gulzar\\KSA_project2\\dataset\\Features\\Uni_2h_fivecrop\\TCGA-CL-4957_nonMSIH\\TCGA-CL-4957_nonMSIH_x51280_y17984_patch03258.pt cannot be opened.\n",
      "ERROR:__main__:Error saving D:\\Aamir Gulzar\\KSA_project2\\dataset\\patch_data\\TCGA-CL-4957_nonMSIH\\TCGA-CL-4957_nonMSIH_x51280_y17472_patch03257.png: File D:\\Aamir Gulzar\\KSA_project2\\dataset\\Features\\Uni_2h_fivecrop\\TCGA-CL-4957_nonMSIH\\TCGA-CL-4957_nonMSIH_x51280_y17472_patch03257.pt cannot be opened.\n",
      "ERROR:__main__:Error saving D:\\Aamir Gulzar\\KSA_project2\\dataset\\patch_data\\TCGA-CL-4957_nonMSIH\\TCGA-CL-4957_nonMSIH_x51280_y18496_patch03259.png: File D:\\Aamir Gulzar\\KSA_project2\\dataset\\Features\\Uni_2h_fivecrop\\TCGA-CL-4957_nonMSIH\\TCGA-CL-4957_nonMSIH_x51280_y18496_patch03259.pt cannot be opened.\n",
      "ERROR:__main__:Error saving D:\\Aamir Gulzar\\KSA_project2\\dataset\\patch_data\\TCGA-CL-4957_nonMSIH\\TCGA-CL-4957_nonMSIH_x51280_y19008_patch03260.png: File D:\\Aamir Gulzar\\KSA_project2\\dataset\\Features\\Uni_2h_fivecrop\\TCGA-CL-4957_nonMSIH\\TCGA-CL-4957_nonMSIH_x51280_y19008_patch03260.pt cannot be opened.\n",
      "ERROR:__main__:Error saving D:\\Aamir Gulzar\\KSA_project2\\dataset\\patch_data\\TCGA-CL-4957_nonMSIH\\TCGA-CL-4957_nonMSIH_x51280_y19520_patch03261.png: File D:\\Aamir Gulzar\\KSA_project2\\dataset\\Features\\Uni_2h_fivecrop\\TCGA-CL-4957_nonMSIH\\TCGA-CL-4957_nonMSIH_x51280_y19520_patch03261.pt cannot be opened.\n",
      "ERROR:__main__:Error saving D:\\Aamir Gulzar\\KSA_project2\\dataset\\patch_data\\TCGA-CL-4957_nonMSIH\\TCGA-CL-4957_nonMSIH_x51280_y20032_patch03262.png: File D:\\Aamir Gulzar\\KSA_project2\\dataset\\Features\\Uni_2h_fivecrop\\TCGA-CL-4957_nonMSIH\\TCGA-CL-4957_nonMSIH_x51280_y20032_patch03262.pt cannot be opened.\n",
      "ERROR:__main__:Error saving D:\\Aamir Gulzar\\KSA_project2\\dataset\\patch_data\\TCGA-CL-4957_nonMSIH\\TCGA-CL-4957_nonMSIH_x51280_y20544_patch03263.png: File D:\\Aamir Gulzar\\KSA_project2\\dataset\\Features\\Uni_2h_fivecrop\\TCGA-CL-4957_nonMSIH\\TCGA-CL-4957_nonMSIH_x51280_y20544_patch03263.pt cannot be opened.\n",
      "ERROR:__main__:Error saving D:\\Aamir Gulzar\\KSA_project2\\dataset\\patch_data\\TCGA-CL-4957_nonMSIH\\TCGA-CL-4957_nonMSIH_x51280_y21056_patch03264.png: File D:\\Aamir Gulzar\\KSA_project2\\dataset\\Features\\Uni_2h_fivecrop\\TCGA-CL-4957_nonMSIH\\TCGA-CL-4957_nonMSIH_x51280_y21056_patch03264.pt cannot be opened.\n",
      "ERROR:__main__:Error saving D:\\Aamir Gulzar\\KSA_project2\\dataset\\patch_data\\TCGA-CL-4957_nonMSIH\\TCGA-CL-4957_nonMSIH_x51280_y21568_patch03265.png: File D:\\Aamir Gulzar\\KSA_project2\\dataset\\Features\\Uni_2h_fivecrop\\TCGA-CL-4957_nonMSIH\\TCGA-CL-4957_nonMSIH_x51280_y21568_patch03265.pt cannot be opened.\n",
      "ERROR:__main__:Error saving D:\\Aamir Gulzar\\KSA_project2\\dataset\\patch_data\\TCGA-CL-4957_nonMSIH\\TCGA-CL-4957_nonMSIH_x51280_y22592_patch03267.png: File D:\\Aamir Gulzar\\KSA_project2\\dataset\\Features\\Uni_2h_fivecrop\\TCGA-CL-4957_nonMSIH\\TCGA-CL-4957_nonMSIH_x51280_y22592_patch03267.pt cannot be opened.\n",
      "ERROR:__main__:Error saving D:\\Aamir Gulzar\\KSA_project2\\dataset\\patch_data\\TCGA-CL-4957_nonMSIH\\TCGA-CL-4957_nonMSIH_x51280_y22080_patch03266.png: File D:\\Aamir Gulzar\\KSA_project2\\dataset\\Features\\Uni_2h_fivecrop\\TCGA-CL-4957_nonMSIH\\TCGA-CL-4957_nonMSIH_x51280_y22080_patch03266.pt cannot be opened.\n",
      "ERROR:__main__:Error saving D:\\Aamir Gulzar\\KSA_project2\\dataset\\patch_data\\TCGA-CL-4957_nonMSIH\\TCGA-CL-4957_nonMSIH_x51280_y6208_patch03235.png: File D:\\Aamir Gulzar\\KSA_project2\\dataset\\Features\\Uni_2h_fivecrop\\TCGA-CL-4957_nonMSIH\\TCGA-CL-4957_nonMSIH_x51280_y6208_patch03235.pt cannot be opened.\n",
      "ERROR:__main__:Error saving D:\\Aamir Gulzar\\KSA_project2\\dataset\\patch_data\\TCGA-CL-4957_nonMSIH\\TCGA-CL-4957_nonMSIH_x51280_y6720_patch03236.png: File D:\\Aamir Gulzar\\KSA_project2\\dataset\\Features\\Uni_2h_fivecrop\\TCGA-CL-4957_nonMSIH\\TCGA-CL-4957_nonMSIH_x51280_y6720_patch03236.pt cannot be opened.\n",
      "ERROR:__main__:Error saving D:\\Aamir Gulzar\\KSA_project2\\dataset\\patch_data\\TCGA-CL-4957_nonMSIH\\TCGA-CL-4957_nonMSIH_x51280_y7232_patch03237.png: File D:\\Aamir Gulzar\\KSA_project2\\dataset\\Features\\Uni_2h_fivecrop\\TCGA-CL-4957_nonMSIH\\TCGA-CL-4957_nonMSIH_x51280_y7232_patch03237.pt cannot be opened.\n",
      "ERROR:__main__:Error saving D:\\Aamir Gulzar\\KSA_project2\\dataset\\patch_data\\TCGA-CL-4957_nonMSIH\\TCGA-CL-4957_nonMSIH_x51280_y7744_patch03238.png: File D:\\Aamir Gulzar\\KSA_project2\\dataset\\Features\\Uni_2h_fivecrop\\TCGA-CL-4957_nonMSIH\\TCGA-CL-4957_nonMSIH_x51280_y7744_patch03238.pt cannot be opened.\n",
      "ERROR:__main__:Error saving D:\\Aamir Gulzar\\KSA_project2\\dataset\\patch_data\\TCGA-CL-4957_nonMSIH\\TCGA-CL-4957_nonMSIH_x51280_y8256_patch03239.png: File D:\\Aamir Gulzar\\KSA_project2\\dataset\\Features\\Uni_2h_fivecrop\\TCGA-CL-4957_nonMSIH\\TCGA-CL-4957_nonMSIH_x51280_y8256_patch03239.pt cannot be opened.\n",
      "ERROR:__main__:Error saving D:\\Aamir Gulzar\\KSA_project2\\dataset\\patch_data\\TCGA-CL-4957_nonMSIH\\TCGA-CL-4957_nonMSIH_x51280_y8768_patch03240.png: File D:\\Aamir Gulzar\\KSA_project2\\dataset\\Features\\Uni_2h_fivecrop\\TCGA-CL-4957_nonMSIH\\TCGA-CL-4957_nonMSIH_x51280_y8768_patch03240.pt cannot be opened.\n",
      "ERROR:__main__:Error saving D:\\Aamir Gulzar\\KSA_project2\\dataset\\patch_data\\TCGA-CL-4957_nonMSIH\\TCGA-CL-4957_nonMSIH_x51280_y9280_patch03241.png: File D:\\Aamir Gulzar\\KSA_project2\\dataset\\Features\\Uni_2h_fivecrop\\TCGA-CL-4957_nonMSIH\\TCGA-CL-4957_nonMSIH_x51280_y9280_patch03241.pt cannot be opened.\n",
      "ERROR:__main__:Error saving D:\\Aamir Gulzar\\KSA_project2\\dataset\\patch_data\\TCGA-CL-4957_nonMSIH\\TCGA-CL-4957_nonMSIH_x51280_y9792_patch03242.png: File D:\\Aamir Gulzar\\KSA_project2\\dataset\\Features\\Uni_2h_fivecrop\\TCGA-CL-4957_nonMSIH\\TCGA-CL-4957_nonMSIH_x51280_y9792_patch03242.pt cannot be opened.\n",
      "ERROR:__main__:Error saving D:\\Aamir Gulzar\\KSA_project2\\dataset\\patch_data\\TCGA-CL-4957_nonMSIH\\TCGA-CL-4957_nonMSIH_x51392_y1232_patch03642.png: File D:\\Aamir Gulzar\\KSA_project2\\dataset\\Features\\Uni_2h_fivecrop\\TCGA-CL-4957_nonMSIH\\TCGA-CL-4957_nonMSIH_x51392_y1232_patch03642.pt cannot be opened.\n",
      "ERROR:__main__:Error saving D:\\Aamir Gulzar\\KSA_project2\\dataset\\patch_data\\TCGA-CL-4957_nonMSIH\\TCGA-CL-4957_nonMSIH_x51392_y1744_patch03643.png: File D:\\Aamir Gulzar\\KSA_project2\\dataset\\Features\\Uni_2h_fivecrop\\TCGA-CL-4957_nonMSIH\\TCGA-CL-4957_nonMSIH_x51392_y1744_patch03643.pt cannot be opened.\n",
      "ERROR:__main__:Error saving D:\\Aamir Gulzar\\KSA_project2\\dataset\\patch_data\\TCGA-CL-4957_nonMSIH\\TCGA-CL-4957_nonMSIH_x51392_y2256_patch03644.png: File D:\\Aamir Gulzar\\KSA_project2\\dataset\\Features\\Uni_2h_fivecrop\\TCGA-CL-4957_nonMSIH\\TCGA-CL-4957_nonMSIH_x51392_y2256_patch03644.pt cannot be opened.\n",
      "ERROR:__main__:Error saving D:\\Aamir Gulzar\\KSA_project2\\dataset\\patch_data\\TCGA-CL-4957_nonMSIH\\TCGA-CL-4957_nonMSIH_x51392_y2768_patch03645.png: File D:\\Aamir Gulzar\\KSA_project2\\dataset\\Features\\Uni_2h_fivecrop\\TCGA-CL-4957_nonMSIH\\TCGA-CL-4957_nonMSIH_x51392_y2768_patch03645.pt cannot be opened.\n",
      "ERROR:__main__:Error saving D:\\Aamir Gulzar\\KSA_project2\\dataset\\patch_data\\TCGA-CL-4957_nonMSIH\\TCGA-CL-4957_nonMSIH_x51392_y3280_patch03646.png: File D:\\Aamir Gulzar\\KSA_project2\\dataset\\Features\\Uni_2h_fivecrop\\TCGA-CL-4957_nonMSIH\\TCGA-CL-4957_nonMSIH_x51392_y3280_patch03646.pt cannot be opened.\n",
      "ERROR:__main__:Error saving D:\\Aamir Gulzar\\KSA_project2\\dataset\\patch_data\\TCGA-CL-4957_nonMSIH\\TCGA-CL-4957_nonMSIH_x51392_y3792_patch03647.png: File D:\\Aamir Gulzar\\KSA_project2\\dataset\\Features\\Uni_2h_fivecrop\\TCGA-CL-4957_nonMSIH\\TCGA-CL-4957_nonMSIH_x51392_y3792_patch03647.pt cannot be opened.\n",
      "ERROR:__main__:Error saving D:\\Aamir Gulzar\\KSA_project2\\dataset\\patch_data\\TCGA-CL-4957_nonMSIH\\TCGA-CL-4957_nonMSIH_x51392_y4304_patch03648.png: File D:\\Aamir Gulzar\\KSA_project2\\dataset\\Features\\Uni_2h_fivecrop\\TCGA-CL-4957_nonMSIH\\TCGA-CL-4957_nonMSIH_x51392_y4304_patch03648.pt cannot be opened.\n",
      "ERROR:__main__:Error saving D:\\Aamir Gulzar\\KSA_project2\\dataset\\patch_data\\TCGA-CL-4957_nonMSIH\\TCGA-CL-4957_nonMSIH_x51392_y4816_patch03649.png: File D:\\Aamir Gulzar\\KSA_project2\\dataset\\Features\\Uni_2h_fivecrop\\TCGA-CL-4957_nonMSIH\\TCGA-CL-4957_nonMSIH_x51392_y4816_patch03649.pt cannot be opened.\n",
      "ERROR:__main__:Error saving D:\\Aamir Gulzar\\KSA_project2\\dataset\\patch_data\\TCGA-CL-4957_nonMSIH\\TCGA-CL-4957_nonMSIH_x51792_y10304_patch03276.png: File D:\\Aamir Gulzar\\KSA_project2\\dataset\\Features\\Uni_2h_fivecrop\\TCGA-CL-4957_nonMSIH\\TCGA-CL-4957_nonMSIH_x51792_y10304_patch03276.pt cannot be opened.\n",
      "ERROR:__main__:Error saving D:\\Aamir Gulzar\\KSA_project2\\dataset\\patch_data\\TCGA-CL-4957_nonMSIH\\TCGA-CL-4957_nonMSIH_x51792_y10816_patch03277.png: File D:\\Aamir Gulzar\\KSA_project2\\dataset\\Features\\Uni_2h_fivecrop\\TCGA-CL-4957_nonMSIH\\TCGA-CL-4957_nonMSIH_x51792_y10816_patch03277.pt cannot be opened.\n",
      "ERROR:__main__:Error saving D:\\Aamir Gulzar\\KSA_project2\\dataset\\patch_data\\TCGA-CL-4957_nonMSIH\\TCGA-CL-4957_nonMSIH_x51792_y11328_patch03278.png: File D:\\Aamir Gulzar\\KSA_project2\\dataset\\Features\\Uni_2h_fivecrop\\TCGA-CL-4957_nonMSIH\\TCGA-CL-4957_nonMSIH_x51792_y11328_patch03278.pt cannot be opened.\n",
      "ERROR:__main__:Error saving D:\\Aamir Gulzar\\KSA_project2\\dataset\\patch_data\\TCGA-CL-4957_nonMSIH\\TCGA-CL-4957_nonMSIH_x51792_y11840_patch03279.png: File D:\\Aamir Gulzar\\KSA_project2\\dataset\\Features\\Uni_2h_fivecrop\\TCGA-CL-4957_nonMSIH\\TCGA-CL-4957_nonMSIH_x51792_y11840_patch03279.pt cannot be opened.\n",
      "ERROR:__main__:Error saving D:\\Aamir Gulzar\\KSA_project2\\dataset\\patch_data\\TCGA-CL-4957_nonMSIH\\TCGA-CL-4957_nonMSIH_x51792_y12352_patch03280.png: File D:\\Aamir Gulzar\\KSA_project2\\dataset\\Features\\Uni_2h_fivecrop\\TCGA-CL-4957_nonMSIH\\TCGA-CL-4957_nonMSIH_x51792_y12352_patch03280.pt cannot be opened.\n",
      "ERROR:__main__:Error saving D:\\Aamir Gulzar\\KSA_project2\\dataset\\patch_data\\TCGA-CL-4957_nonMSIH\\TCGA-CL-4957_nonMSIH_x51792_y12864_patch03281.png: File D:\\Aamir Gulzar\\KSA_project2\\dataset\\Features\\Uni_2h_fivecrop\\TCGA-CL-4957_nonMSIH\\TCGA-CL-4957_nonMSIH_x51792_y12864_patch03281.pt cannot be opened.\n",
      "ERROR:__main__:Error saving D:\\Aamir Gulzar\\KSA_project2\\dataset\\patch_data\\TCGA-CL-4957_nonMSIH\\TCGA-CL-4957_nonMSIH_x51792_y13376_patch03282.png: File D:\\Aamir Gulzar\\KSA_project2\\dataset\\Features\\Uni_2h_fivecrop\\TCGA-CL-4957_nonMSIH\\TCGA-CL-4957_nonMSIH_x51792_y13376_patch03282.pt cannot be opened.\n",
      "ERROR:__main__:Error saving D:\\Aamir Gulzar\\KSA_project2\\dataset\\patch_data\\TCGA-CL-4957_nonMSIH\\TCGA-CL-4957_nonMSIH_x51792_y13888_patch03283.png: File D:\\Aamir Gulzar\\KSA_project2\\dataset\\Features\\Uni_2h_fivecrop\\TCGA-CL-4957_nonMSIH\\TCGA-CL-4957_nonMSIH_x51792_y13888_patch03283.pt cannot be opened.\n",
      "ERROR:__main__:Error saving D:\\Aamir Gulzar\\KSA_project2\\dataset\\patch_data\\TCGA-CL-4957_nonMSIH\\TCGA-CL-4957_nonMSIH_x51792_y14400_patch03284.png: File D:\\Aamir Gulzar\\KSA_project2\\dataset\\Features\\Uni_2h_fivecrop\\TCGA-CL-4957_nonMSIH\\TCGA-CL-4957_nonMSIH_x51792_y14400_patch03284.pt cannot be opened.\n",
      "ERROR:__main__:Error saving D:\\Aamir Gulzar\\KSA_project2\\dataset\\patch_data\\TCGA-CL-4957_nonMSIH\\TCGA-CL-4957_nonMSIH_x51792_y14912_patch03285.png: File D:\\Aamir Gulzar\\KSA_project2\\dataset\\Features\\Uni_2h_fivecrop\\TCGA-CL-4957_nonMSIH\\TCGA-CL-4957_nonMSIH_x51792_y14912_patch03285.pt cannot be opened.\n",
      "ERROR:__main__:Error saving D:\\Aamir Gulzar\\KSA_project2\\dataset\\patch_data\\TCGA-CL-4957_nonMSIH\\TCGA-CL-4957_nonMSIH_x51792_y15424_patch03286.png: File D:\\Aamir Gulzar\\KSA_project2\\dataset\\Features\\Uni_2h_fivecrop\\TCGA-CL-4957_nonMSIH\\TCGA-CL-4957_nonMSIH_x51792_y15424_patch03286.pt cannot be opened.\n",
      "ERROR:__main__:Error saving D:\\Aamir Gulzar\\KSA_project2\\dataset\\patch_data\\TCGA-CL-4957_nonMSIH\\TCGA-CL-4957_nonMSIH_x51792_y15936_patch03287.png: File D:\\Aamir Gulzar\\KSA_project2\\dataset\\Features\\Uni_2h_fivecrop\\TCGA-CL-4957_nonMSIH\\TCGA-CL-4957_nonMSIH_x51792_y15936_patch03287.pt cannot be opened.\n",
      "ERROR:__main__:Error saving D:\\Aamir Gulzar\\KSA_project2\\dataset\\patch_data\\TCGA-CL-4957_nonMSIH\\TCGA-CL-4957_nonMSIH_x51792_y16448_patch03288.png: File D:\\Aamir Gulzar\\KSA_project2\\dataset\\Features\\Uni_2h_fivecrop\\TCGA-CL-4957_nonMSIH\\TCGA-CL-4957_nonMSIH_x51792_y16448_patch03288.pt cannot be opened.\n",
      "ERROR:__main__:Error saving D:\\Aamir Gulzar\\KSA_project2\\dataset\\patch_data\\TCGA-CL-4957_nonMSIH\\TCGA-CL-4957_nonMSIH_x51792_y16960_patch03289.png: File D:\\Aamir Gulzar\\KSA_project2\\dataset\\Features\\Uni_2h_fivecrop\\TCGA-CL-4957_nonMSIH\\TCGA-CL-4957_nonMSIH_x51792_y16960_patch03289.pt cannot be opened.\n",
      "ERROR:__main__:Error saving D:\\Aamir Gulzar\\KSA_project2\\dataset\\patch_data\\TCGA-CL-4957_nonMSIH\\TCGA-CL-4957_nonMSIH_x51792_y17472_patch03290.png: File D:\\Aamir Gulzar\\KSA_project2\\dataset\\Features\\Uni_2h_fivecrop\\TCGA-CL-4957_nonMSIH\\TCGA-CL-4957_nonMSIH_x51792_y17472_patch03290.pt cannot be opened.\n",
      "ERROR:__main__:Error saving D:\\Aamir Gulzar\\KSA_project2\\dataset\\patch_data\\TCGA-CL-4957_nonMSIH\\TCGA-CL-4957_nonMSIH_x51792_y17984_patch03291.png: File D:\\Aamir Gulzar\\KSA_project2\\dataset\\Features\\Uni_2h_fivecrop\\TCGA-CL-4957_nonMSIH\\TCGA-CL-4957_nonMSIH_x51792_y17984_patch03291.pt cannot be opened.\n",
      "ERROR:__main__:Error saving D:\\Aamir Gulzar\\KSA_project2\\dataset\\patch_data\\TCGA-CL-4957_nonMSIH\\TCGA-CL-4957_nonMSIH_x51792_y18496_patch03292.png: File D:\\Aamir Gulzar\\KSA_project2\\dataset\\Features\\Uni_2h_fivecrop\\TCGA-CL-4957_nonMSIH\\TCGA-CL-4957_nonMSIH_x51792_y18496_patch03292.pt cannot be opened.\n",
      "ERROR:__main__:Error saving D:\\Aamir Gulzar\\KSA_project2\\dataset\\patch_data\\TCGA-CL-4957_nonMSIH\\TCGA-CL-4957_nonMSIH_x51792_y19008_patch03293.png: File D:\\Aamir Gulzar\\KSA_project2\\dataset\\Features\\Uni_2h_fivecrop\\TCGA-CL-4957_nonMSIH\\TCGA-CL-4957_nonMSIH_x51792_y19008_patch03293.pt cannot be opened.\n",
      "ERROR:__main__:Error saving D:\\Aamir Gulzar\\KSA_project2\\dataset\\patch_data\\TCGA-CL-4957_nonMSIH\\TCGA-CL-4957_nonMSIH_x51792_y19520_patch03294.png: File D:\\Aamir Gulzar\\KSA_project2\\dataset\\Features\\Uni_2h_fivecrop\\TCGA-CL-4957_nonMSIH\\TCGA-CL-4957_nonMSIH_x51792_y19520_patch03294.pt cannot be opened.\n",
      "ERROR:__main__:Error saving D:\\Aamir Gulzar\\KSA_project2\\dataset\\patch_data\\TCGA-CL-4957_nonMSIH\\TCGA-CL-4957_nonMSIH_x51792_y20544_patch03296.png: File D:\\Aamir Gulzar\\KSA_project2\\dataset\\Features\\Uni_2h_fivecrop\\TCGA-CL-4957_nonMSIH\\TCGA-CL-4957_nonMSIH_x51792_y20544_patch03296.pt cannot be opened.\n",
      "ERROR:__main__:Error saving D:\\Aamir Gulzar\\KSA_project2\\dataset\\patch_data\\TCGA-CL-4957_nonMSIH\\TCGA-CL-4957_nonMSIH_x51792_y20032_patch03295.png: File D:\\Aamir Gulzar\\KSA_project2\\dataset\\Features\\Uni_2h_fivecrop\\TCGA-CL-4957_nonMSIH\\TCGA-CL-4957_nonMSIH_x51792_y20032_patch03295.pt cannot be opened.\n",
      "ERROR:__main__:Error saving D:\\Aamir Gulzar\\KSA_project2\\dataset\\patch_data\\TCGA-CL-4957_nonMSIH\\TCGA-CL-4957_nonMSIH_x51792_y21056_patch03297.png: File D:\\Aamir Gulzar\\KSA_project2\\dataset\\Features\\Uni_2h_fivecrop\\TCGA-CL-4957_nonMSIH\\TCGA-CL-4957_nonMSIH_x51792_y21056_patch03297.pt cannot be opened.\n",
      "ERROR:__main__:Error saving D:\\Aamir Gulzar\\KSA_project2\\dataset\\patch_data\\TCGA-CL-4957_nonMSIH\\TCGA-CL-4957_nonMSIH_x51792_y21568_patch03298.png: File D:\\Aamir Gulzar\\KSA_project2\\dataset\\Features\\Uni_2h_fivecrop\\TCGA-CL-4957_nonMSIH\\TCGA-CL-4957_nonMSIH_x51792_y21568_patch03298.pt cannot be opened.\n",
      "ERROR:__main__:Error saving D:\\Aamir Gulzar\\KSA_project2\\dataset\\patch_data\\TCGA-CL-4957_nonMSIH\\TCGA-CL-4957_nonMSIH_x51792_y22080_patch03299.png: File D:\\Aamir Gulzar\\KSA_project2\\dataset\\Features\\Uni_2h_fivecrop\\TCGA-CL-4957_nonMSIH\\TCGA-CL-4957_nonMSIH_x51792_y22080_patch03299.pt cannot be opened.\n",
      "ERROR:__main__:Error saving D:\\Aamir Gulzar\\KSA_project2\\dataset\\patch_data\\TCGA-CL-4957_nonMSIH\\TCGA-CL-4957_nonMSIH_x51792_y22592_patch03300.png: File D:\\Aamir Gulzar\\KSA_project2\\dataset\\Features\\Uni_2h_fivecrop\\TCGA-CL-4957_nonMSIH\\TCGA-CL-4957_nonMSIH_x51792_y22592_patch03300.pt cannot be opened.\n",
      "ERROR:__main__:Error saving D:\\Aamir Gulzar\\KSA_project2\\dataset\\patch_data\\TCGA-CL-4957_nonMSIH\\TCGA-CL-4957_nonMSIH_x51792_y6208_patch03268.png: File D:\\Aamir Gulzar\\KSA_project2\\dataset\\Features\\Uni_2h_fivecrop\\TCGA-CL-4957_nonMSIH\\TCGA-CL-4957_nonMSIH_x51792_y6208_patch03268.pt cannot be opened.\n",
      "ERROR:__main__:Error saving D:\\Aamir Gulzar\\KSA_project2\\dataset\\patch_data\\TCGA-CL-4957_nonMSIH\\TCGA-CL-4957_nonMSIH_x51792_y6720_patch03269.png: File D:\\Aamir Gulzar\\KSA_project2\\dataset\\Features\\Uni_2h_fivecrop\\TCGA-CL-4957_nonMSIH\\TCGA-CL-4957_nonMSIH_x51792_y6720_patch03269.pt cannot be opened.\n",
      "ERROR:__main__:Error saving D:\\Aamir Gulzar\\KSA_project2\\dataset\\patch_data\\TCGA-CL-4957_nonMSIH\\TCGA-CL-4957_nonMSIH_x51792_y7232_patch03270.png: File D:\\Aamir Gulzar\\KSA_project2\\dataset\\Features\\Uni_2h_fivecrop\\TCGA-CL-4957_nonMSIH\\TCGA-CL-4957_nonMSIH_x51792_y7232_patch03270.pt cannot be opened.\n",
      "ERROR:__main__:Error saving D:\\Aamir Gulzar\\KSA_project2\\dataset\\patch_data\\TCGA-CL-4957_nonMSIH\\TCGA-CL-4957_nonMSIH_x51792_y7744_patch03271.png: File D:\\Aamir Gulzar\\KSA_project2\\dataset\\Features\\Uni_2h_fivecrop\\TCGA-CL-4957_nonMSIH\\TCGA-CL-4957_nonMSIH_x51792_y7744_patch03271.pt cannot be opened.\n",
      "ERROR:__main__:Error saving D:\\Aamir Gulzar\\KSA_project2\\dataset\\patch_data\\TCGA-CL-4957_nonMSIH\\TCGA-CL-4957_nonMSIH_x51792_y8256_patch03272.png: File D:\\Aamir Gulzar\\KSA_project2\\dataset\\Features\\Uni_2h_fivecrop\\TCGA-CL-4957_nonMSIH\\TCGA-CL-4957_nonMSIH_x51792_y8256_patch03272.pt cannot be opened.\n",
      "ERROR:__main__:Error saving D:\\Aamir Gulzar\\KSA_project2\\dataset\\patch_data\\TCGA-CL-4957_nonMSIH\\TCGA-CL-4957_nonMSIH_x51792_y8768_patch03273.png: File D:\\Aamir Gulzar\\KSA_project2\\dataset\\Features\\Uni_2h_fivecrop\\TCGA-CL-4957_nonMSIH\\TCGA-CL-4957_nonMSIH_x51792_y8768_patch03273.pt cannot be opened.\n",
      "ERROR:__main__:Error saving D:\\Aamir Gulzar\\KSA_project2\\dataset\\patch_data\\TCGA-CL-4957_nonMSIH\\TCGA-CL-4957_nonMSIH_x51792_y9280_patch03274.png: File D:\\Aamir Gulzar\\KSA_project2\\dataset\\Features\\Uni_2h_fivecrop\\TCGA-CL-4957_nonMSIH\\TCGA-CL-4957_nonMSIH_x51792_y9280_patch03274.pt cannot be opened.\n",
      "ERROR:__main__:Error saving D:\\Aamir Gulzar\\KSA_project2\\dataset\\patch_data\\TCGA-CL-4957_nonMSIH\\TCGA-CL-4957_nonMSIH_x51792_y9792_patch03275.png: File D:\\Aamir Gulzar\\KSA_project2\\dataset\\Features\\Uni_2h_fivecrop\\TCGA-CL-4957_nonMSIH\\TCGA-CL-4957_nonMSIH_x51792_y9792_patch03275.pt cannot be opened.\n",
      "ERROR:__main__:Error saving D:\\Aamir Gulzar\\KSA_project2\\dataset\\patch_data\\TCGA-CL-4957_nonMSIH\\TCGA-CL-4957_nonMSIH_x51904_y1232_patch03650.png: File D:\\Aamir Gulzar\\KSA_project2\\dataset\\Features\\Uni_2h_fivecrop\\TCGA-CL-4957_nonMSIH\\TCGA-CL-4957_nonMSIH_x51904_y1232_patch03650.pt cannot be opened.\n",
      "ERROR:__main__:Error saving D:\\Aamir Gulzar\\KSA_project2\\dataset\\patch_data\\TCGA-CL-4957_nonMSIH\\TCGA-CL-4957_nonMSIH_x51904_y1744_patch03651.png: File D:\\Aamir Gulzar\\KSA_project2\\dataset\\Features\\Uni_2h_fivecrop\\TCGA-CL-4957_nonMSIH\\TCGA-CL-4957_nonMSIH_x51904_y1744_patch03651.pt cannot be opened.\n",
      "ERROR:__main__:Error saving D:\\Aamir Gulzar\\KSA_project2\\dataset\\patch_data\\TCGA-CL-4957_nonMSIH\\TCGA-CL-4957_nonMSIH_x51904_y2768_patch03653.png: File D:\\Aamir Gulzar\\KSA_project2\\dataset\\Features\\Uni_2h_fivecrop\\TCGA-CL-4957_nonMSIH\\TCGA-CL-4957_nonMSIH_x51904_y2768_patch03653.pt cannot be opened.\n",
      "ERROR:__main__:Error saving D:\\Aamir Gulzar\\KSA_project2\\dataset\\patch_data\\TCGA-CL-4957_nonMSIH\\TCGA-CL-4957_nonMSIH_x51904_y2256_patch03652.png: File D:\\Aamir Gulzar\\KSA_project2\\dataset\\Features\\Uni_2h_fivecrop\\TCGA-CL-4957_nonMSIH\\TCGA-CL-4957_nonMSIH_x51904_y2256_patch03652.pt cannot be opened.\n",
      "ERROR:__main__:Error saving D:\\Aamir Gulzar\\KSA_project2\\dataset\\patch_data\\TCGA-CL-4957_nonMSIH\\TCGA-CL-4957_nonMSIH_x51904_y4304_patch03655.png: File D:\\Aamir Gulzar\\KSA_project2\\dataset\\Features\\Uni_2h_fivecrop\\TCGA-CL-4957_nonMSIH\\TCGA-CL-4957_nonMSIH_x51904_y4304_patch03655.pt cannot be opened.\n",
      "ERROR:__main__:Error saving D:\\Aamir Gulzar\\KSA_project2\\dataset\\patch_data\\TCGA-CL-4957_nonMSIH\\TCGA-CL-4957_nonMSIH_x51904_y3792_patch03654.png: File D:\\Aamir Gulzar\\KSA_project2\\dataset\\Features\\Uni_2h_fivecrop\\TCGA-CL-4957_nonMSIH\\TCGA-CL-4957_nonMSIH_x51904_y3792_patch03654.pt cannot be opened.\n",
      "ERROR:__main__:Error saving D:\\Aamir Gulzar\\KSA_project2\\dataset\\patch_data\\TCGA-CL-4957_nonMSIH\\TCGA-CL-4957_nonMSIH_x51904_y4816_patch03656.png: File D:\\Aamir Gulzar\\KSA_project2\\dataset\\Features\\Uni_2h_fivecrop\\TCGA-CL-4957_nonMSIH\\TCGA-CL-4957_nonMSIH_x51904_y4816_patch03656.pt cannot be opened.\n",
      "ERROR:__main__:Error saving D:\\Aamir Gulzar\\KSA_project2\\dataset\\patch_data\\TCGA-CL-4957_nonMSIH\\TCGA-CL-4957_nonMSIH_x5200_y13376_patch00169.png: File D:\\Aamir Gulzar\\KSA_project2\\dataset\\Features\\Uni_2h_fivecrop\\TCGA-CL-4957_nonMSIH\\TCGA-CL-4957_nonMSIH_x5200_y13376_patch00169.pt cannot be opened.\n",
      "ERROR:__main__:Error saving D:\\Aamir Gulzar\\KSA_project2\\dataset\\patch_data\\TCGA-CL-4957_nonMSIH\\TCGA-CL-4957_nonMSIH_x5200_y13888_patch00170.png: File D:\\Aamir Gulzar\\KSA_project2\\dataset\\Features\\Uni_2h_fivecrop\\TCGA-CL-4957_nonMSIH\\TCGA-CL-4957_nonMSIH_x5200_y13888_patch00170.pt cannot be opened.\n",
      "ERROR:__main__:Error saving D:\\Aamir Gulzar\\KSA_project2\\dataset\\patch_data\\TCGA-CL-4957_nonMSIH\\TCGA-CL-4957_nonMSIH_x5200_y14400_patch00171.png: File D:\\Aamir Gulzar\\KSA_project2\\dataset\\Features\\Uni_2h_fivecrop\\TCGA-CL-4957_nonMSIH\\TCGA-CL-4957_nonMSIH_x5200_y14400_patch00171.pt cannot be opened.\n",
      "ERROR:__main__:Error saving D:\\Aamir Gulzar\\KSA_project2\\dataset\\patch_data\\TCGA-CL-4957_nonMSIH\\TCGA-CL-4957_nonMSIH_x5200_y14912_patch00172.png: File D:\\Aamir Gulzar\\KSA_project2\\dataset\\Features\\Uni_2h_fivecrop\\TCGA-CL-4957_nonMSIH\\TCGA-CL-4957_nonMSIH_x5200_y14912_patch00172.pt cannot be opened.\n",
      "ERROR:__main__:Error saving D:\\Aamir Gulzar\\KSA_project2\\dataset\\patch_data\\TCGA-CL-4957_nonMSIH\\TCGA-CL-4957_nonMSIH_x5200_y15424_patch00173.png: File D:\\Aamir Gulzar\\KSA_project2\\dataset\\Features\\Uni_2h_fivecrop\\TCGA-CL-4957_nonMSIH\\TCGA-CL-4957_nonMSIH_x5200_y15424_patch00173.pt cannot be opened.\n",
      "ERROR:__main__:Error saving D:\\Aamir Gulzar\\KSA_project2\\dataset\\patch_data\\TCGA-CL-4957_nonMSIH\\TCGA-CL-4957_nonMSIH_x5200_y15936_patch00174.png: File D:\\Aamir Gulzar\\KSA_project2\\dataset\\Features\\Uni_2h_fivecrop\\TCGA-CL-4957_nonMSIH\\TCGA-CL-4957_nonMSIH_x5200_y15936_patch00174.pt cannot be opened.\n",
      "ERROR:__main__:Error saving D:\\Aamir Gulzar\\KSA_project2\\dataset\\patch_data\\TCGA-CL-4957_nonMSIH\\TCGA-CL-4957_nonMSIH_x5200_y16448_patch00175.png: File D:\\Aamir Gulzar\\KSA_project2\\dataset\\Features\\Uni_2h_fivecrop\\TCGA-CL-4957_nonMSIH\\TCGA-CL-4957_nonMSIH_x5200_y16448_patch00175.pt cannot be opened.\n",
      "ERROR:__main__:Error saving D:\\Aamir Gulzar\\KSA_project2\\dataset\\patch_data\\TCGA-CL-4957_nonMSIH\\TCGA-CL-4957_nonMSIH_x5200_y16960_patch00176.png: File D:\\Aamir Gulzar\\KSA_project2\\dataset\\Features\\Uni_2h_fivecrop\\TCGA-CL-4957_nonMSIH\\TCGA-CL-4957_nonMSIH_x5200_y16960_patch00176.pt cannot be opened.\n",
      "ERROR:__main__:Error saving D:\\Aamir Gulzar\\KSA_project2\\dataset\\patch_data\\TCGA-CL-4957_nonMSIH\\TCGA-CL-4957_nonMSIH_x5200_y17472_patch00177.png: File D:\\Aamir Gulzar\\KSA_project2\\dataset\\Features\\Uni_2h_fivecrop\\TCGA-CL-4957_nonMSIH\\TCGA-CL-4957_nonMSIH_x5200_y17472_patch00177.pt cannot be opened.\n",
      "ERROR:__main__:Error saving D:\\Aamir Gulzar\\KSA_project2\\dataset\\patch_data\\TCGA-CL-4957_nonMSIH\\TCGA-CL-4957_nonMSIH_x5200_y17984_patch00178.png: File D:\\Aamir Gulzar\\KSA_project2\\dataset\\Features\\Uni_2h_fivecrop\\TCGA-CL-4957_nonMSIH\\TCGA-CL-4957_nonMSIH_x5200_y17984_patch00178.pt cannot be opened.\n",
      "ERROR:__main__:Error saving D:\\Aamir Gulzar\\KSA_project2\\dataset\\patch_data\\TCGA-CL-4957_nonMSIH\\TCGA-CL-4957_nonMSIH_x5200_y18496_patch00179.png: File D:\\Aamir Gulzar\\KSA_project2\\dataset\\Features\\Uni_2h_fivecrop\\TCGA-CL-4957_nonMSIH\\TCGA-CL-4957_nonMSIH_x5200_y18496_patch00179.pt cannot be opened.\n",
      "ERROR:__main__:Error saving D:\\Aamir Gulzar\\KSA_project2\\dataset\\patch_data\\TCGA-CL-4957_nonMSIH\\TCGA-CL-4957_nonMSIH_x5200_y19008_patch00180.png: File D:\\Aamir Gulzar\\KSA_project2\\dataset\\Features\\Uni_2h_fivecrop\\TCGA-CL-4957_nonMSIH\\TCGA-CL-4957_nonMSIH_x5200_y19008_patch00180.pt cannot be opened.\n",
      "ERROR:__main__:Error saving D:\\Aamir Gulzar\\KSA_project2\\dataset\\patch_data\\TCGA-CL-4957_nonMSIH\\TCGA-CL-4957_nonMSIH_x5200_y19520_patch00181.png: File D:\\Aamir Gulzar\\KSA_project2\\dataset\\Features\\Uni_2h_fivecrop\\TCGA-CL-4957_nonMSIH\\TCGA-CL-4957_nonMSIH_x5200_y19520_patch00181.pt cannot be opened.\n",
      "ERROR:__main__:Error saving D:\\Aamir Gulzar\\KSA_project2\\dataset\\patch_data\\TCGA-CL-4957_nonMSIH\\TCGA-CL-4957_nonMSIH_x5200_y20032_patch00182.png: File D:\\Aamir Gulzar\\KSA_project2\\dataset\\Features\\Uni_2h_fivecrop\\TCGA-CL-4957_nonMSIH\\TCGA-CL-4957_nonMSIH_x5200_y20032_patch00182.pt cannot be opened.\n",
      "ERROR:__main__:Error saving D:\\Aamir Gulzar\\KSA_project2\\dataset\\patch_data\\TCGA-CL-4957_nonMSIH\\TCGA-CL-4957_nonMSIH_x5200_y20544_patch00183.png: File D:\\Aamir Gulzar\\KSA_project2\\dataset\\Features\\Uni_2h_fivecrop\\TCGA-CL-4957_nonMSIH\\TCGA-CL-4957_nonMSIH_x5200_y20544_patch00183.pt cannot be opened.\n",
      "ERROR:__main__:Error saving D:\\Aamir Gulzar\\KSA_project2\\dataset\\patch_data\\TCGA-CL-4957_nonMSIH\\TCGA-CL-4957_nonMSIH_x5200_y21056_patch00184.png: File D:\\Aamir Gulzar\\KSA_project2\\dataset\\Features\\Uni_2h_fivecrop\\TCGA-CL-4957_nonMSIH\\TCGA-CL-4957_nonMSIH_x5200_y21056_patch00184.pt cannot be opened.\n",
      "ERROR:__main__:Error saving D:\\Aamir Gulzar\\KSA_project2\\dataset\\patch_data\\TCGA-CL-4957_nonMSIH\\TCGA-CL-4957_nonMSIH_x5200_y21568_patch00185.png: File D:\\Aamir Gulzar\\KSA_project2\\dataset\\Features\\Uni_2h_fivecrop\\TCGA-CL-4957_nonMSIH\\TCGA-CL-4957_nonMSIH_x5200_y21568_patch00185.pt cannot be opened.\n",
      "ERROR:__main__:Error saving D:\\Aamir Gulzar\\KSA_project2\\dataset\\patch_data\\TCGA-CL-4957_nonMSIH\\TCGA-CL-4957_nonMSIH_x5200_y22080_patch00186.png: File D:\\Aamir Gulzar\\KSA_project2\\dataset\\Features\\Uni_2h_fivecrop\\TCGA-CL-4957_nonMSIH\\TCGA-CL-4957_nonMSIH_x5200_y22080_patch00186.pt cannot be opened.\n",
      "ERROR:__main__:Error saving D:\\Aamir Gulzar\\KSA_project2\\dataset\\patch_data\\TCGA-CL-4957_nonMSIH\\TCGA-CL-4957_nonMSIH_x5200_y23104_patch00188.png: File D:\\Aamir Gulzar\\KSA_project2\\dataset\\Features\\Uni_2h_fivecrop\\TCGA-CL-4957_nonMSIH\\TCGA-CL-4957_nonMSIH_x5200_y23104_patch00188.pt cannot be opened.\n",
      "ERROR:__main__:Error saving D:\\Aamir Gulzar\\KSA_project2\\dataset\\patch_data\\TCGA-CL-4957_nonMSIH\\TCGA-CL-4957_nonMSIH_x5200_y22592_patch00187.png: File D:\\Aamir Gulzar\\KSA_project2\\dataset\\Features\\Uni_2h_fivecrop\\TCGA-CL-4957_nonMSIH\\TCGA-CL-4957_nonMSIH_x5200_y22592_patch00187.pt cannot be opened.\n",
      "ERROR:__main__:Error saving D:\\Aamir Gulzar\\KSA_project2\\dataset\\patch_data\\TCGA-CL-4957_nonMSIH\\TCGA-CL-4957_nonMSIH_x5200_y23616_patch00189.png: File D:\\Aamir Gulzar\\KSA_project2\\dataset\\Features\\Uni_2h_fivecrop\\TCGA-CL-4957_nonMSIH\\TCGA-CL-4957_nonMSIH_x5200_y23616_patch00189.pt cannot be opened.\n",
      "ERROR:__main__:Error saving D:\\Aamir Gulzar\\KSA_project2\\dataset\\patch_data\\TCGA-CL-4957_nonMSIH\\TCGA-CL-4957_nonMSIH_x5200_y24128_patch00190.png: File D:\\Aamir Gulzar\\KSA_project2\\dataset\\Features\\Uni_2h_fivecrop\\TCGA-CL-4957_nonMSIH\\TCGA-CL-4957_nonMSIH_x5200_y24128_patch00190.pt cannot be opened.\n",
      "ERROR:__main__:Error saving D:\\Aamir Gulzar\\KSA_project2\\dataset\\patch_data\\TCGA-CL-4957_nonMSIH\\TCGA-CL-4957_nonMSIH_x5200_y24640_patch00191.png: File D:\\Aamir Gulzar\\KSA_project2\\dataset\\Features\\Uni_2h_fivecrop\\TCGA-CL-4957_nonMSIH\\TCGA-CL-4957_nonMSIH_x5200_y24640_patch00191.pt cannot be opened.\n",
      "ERROR:__main__:Error saving D:\\Aamir Gulzar\\KSA_project2\\dataset\\patch_data\\TCGA-CL-4957_nonMSIH\\TCGA-CL-4957_nonMSIH_x5200_y25152_patch00192.png: File D:\\Aamir Gulzar\\KSA_project2\\dataset\\Features\\Uni_2h_fivecrop\\TCGA-CL-4957_nonMSIH\\TCGA-CL-4957_nonMSIH_x5200_y25152_patch00192.pt cannot be opened.\n",
      "ERROR:__main__:Error saving D:\\Aamir Gulzar\\KSA_project2\\dataset\\patch_data\\TCGA-CL-4957_nonMSIH\\TCGA-CL-4957_nonMSIH_x5200_y25664_patch00193.png: File D:\\Aamir Gulzar\\KSA_project2\\dataset\\Features\\Uni_2h_fivecrop\\TCGA-CL-4957_nonMSIH\\TCGA-CL-4957_nonMSIH_x5200_y25664_patch00193.pt cannot be opened.\n",
      "ERROR:__main__:Error saving D:\\Aamir Gulzar\\KSA_project2\\dataset\\patch_data\\TCGA-CL-4957_nonMSIH\\TCGA-CL-4957_nonMSIH_x5200_y26176_patch00194.png: File D:\\Aamir Gulzar\\KSA_project2\\dataset\\Features\\Uni_2h_fivecrop\\TCGA-CL-4957_nonMSIH\\TCGA-CL-4957_nonMSIH_x5200_y26176_patch00194.pt cannot be opened.\n",
      "ERROR:__main__:Error saving D:\\Aamir Gulzar\\KSA_project2\\dataset\\patch_data\\TCGA-CL-4957_nonMSIH\\TCGA-CL-4957_nonMSIH_x52304_y10304_patch03306.png: File D:\\Aamir Gulzar\\KSA_project2\\dataset\\Features\\Uni_2h_fivecrop\\TCGA-CL-4957_nonMSIH\\TCGA-CL-4957_nonMSIH_x52304_y10304_patch03306.pt cannot be opened.\n",
      "ERROR:__main__:Error saving D:\\Aamir Gulzar\\KSA_project2\\dataset\\patch_data\\TCGA-CL-4957_nonMSIH\\TCGA-CL-4957_nonMSIH_x52304_y10816_patch03307.png: File D:\\Aamir Gulzar\\KSA_project2\\dataset\\Features\\Uni_2h_fivecrop\\TCGA-CL-4957_nonMSIH\\TCGA-CL-4957_nonMSIH_x52304_y10816_patch03307.pt cannot be opened.\n",
      "ERROR:__main__:Error saving D:\\Aamir Gulzar\\KSA_project2\\dataset\\patch_data\\TCGA-CL-4957_nonMSIH\\TCGA-CL-4957_nonMSIH_x52304_y11328_patch03308.png: File D:\\Aamir Gulzar\\KSA_project2\\dataset\\Features\\Uni_2h_fivecrop\\TCGA-CL-4957_nonMSIH\\TCGA-CL-4957_nonMSIH_x52304_y11328_patch03308.pt cannot be opened.\n",
      "ERROR:__main__:Error saving D:\\Aamir Gulzar\\KSA_project2\\dataset\\patch_data\\TCGA-CL-4957_nonMSIH\\TCGA-CL-4957_nonMSIH_x52304_y11840_patch03309.png: File D:\\Aamir Gulzar\\KSA_project2\\dataset\\Features\\Uni_2h_fivecrop\\TCGA-CL-4957_nonMSIH\\TCGA-CL-4957_nonMSIH_x52304_y11840_patch03309.pt cannot be opened.\n",
      "ERROR:__main__:Error saving D:\\Aamir Gulzar\\KSA_project2\\dataset\\patch_data\\TCGA-CL-4957_nonMSIH\\TCGA-CL-4957_nonMSIH_x52304_y12864_patch03311.png: File D:\\Aamir Gulzar\\KSA_project2\\dataset\\Features\\Uni_2h_fivecrop\\TCGA-CL-4957_nonMSIH\\TCGA-CL-4957_nonMSIH_x52304_y12864_patch03311.pt cannot be opened.\n",
      "ERROR:__main__:Error saving D:\\Aamir Gulzar\\KSA_project2\\dataset\\patch_data\\TCGA-CL-4957_nonMSIH\\TCGA-CL-4957_nonMSIH_x52304_y12352_patch03310.png: File D:\\Aamir Gulzar\\KSA_project2\\dataset\\Features\\Uni_2h_fivecrop\\TCGA-CL-4957_nonMSIH\\TCGA-CL-4957_nonMSIH_x52304_y12352_patch03310.pt cannot be opened.\n",
      "ERROR:__main__:Error saving D:\\Aamir Gulzar\\KSA_project2\\dataset\\patch_data\\TCGA-CL-4957_nonMSIH\\TCGA-CL-4957_nonMSIH_x52304_y13376_patch03312.png: File D:\\Aamir Gulzar\\KSA_project2\\dataset\\Features\\Uni_2h_fivecrop\\TCGA-CL-4957_nonMSIH\\TCGA-CL-4957_nonMSIH_x52304_y13376_patch03312.pt cannot be opened.\n",
      "ERROR:__main__:Error saving D:\\Aamir Gulzar\\KSA_project2\\dataset\\patch_data\\TCGA-CL-4957_nonMSIH\\TCGA-CL-4957_nonMSIH_x52304_y13888_patch03313.png: File D:\\Aamir Gulzar\\KSA_project2\\dataset\\Features\\Uni_2h_fivecrop\\TCGA-CL-4957_nonMSIH\\TCGA-CL-4957_nonMSIH_x52304_y13888_patch03313.pt cannot be opened.\n",
      "ERROR:__main__:Error saving D:\\Aamir Gulzar\\KSA_project2\\dataset\\patch_data\\TCGA-CL-4957_nonMSIH\\TCGA-CL-4957_nonMSIH_x52304_y14400_patch03314.png: File D:\\Aamir Gulzar\\KSA_project2\\dataset\\Features\\Uni_2h_fivecrop\\TCGA-CL-4957_nonMSIH\\TCGA-CL-4957_nonMSIH_x52304_y14400_patch03314.pt cannot be opened.\n",
      "ERROR:__main__:Error saving D:\\Aamir Gulzar\\KSA_project2\\dataset\\patch_data\\TCGA-CL-4957_nonMSIH\\TCGA-CL-4957_nonMSIH_x52304_y14912_patch03315.png: File D:\\Aamir Gulzar\\KSA_project2\\dataset\\Features\\Uni_2h_fivecrop\\TCGA-CL-4957_nonMSIH\\TCGA-CL-4957_nonMSIH_x52304_y14912_patch03315.pt cannot be opened.\n",
      "ERROR:__main__:Error saving D:\\Aamir Gulzar\\KSA_project2\\dataset\\patch_data\\TCGA-CL-4957_nonMSIH\\TCGA-CL-4957_nonMSIH_x52304_y15424_patch03316.png: File D:\\Aamir Gulzar\\KSA_project2\\dataset\\Features\\Uni_2h_fivecrop\\TCGA-CL-4957_nonMSIH\\TCGA-CL-4957_nonMSIH_x52304_y15424_patch03316.pt cannot be opened.\n",
      "ERROR:__main__:Error saving D:\\Aamir Gulzar\\KSA_project2\\dataset\\patch_data\\TCGA-CL-4957_nonMSIH\\TCGA-CL-4957_nonMSIH_x52304_y15936_patch03317.png: File D:\\Aamir Gulzar\\KSA_project2\\dataset\\Features\\Uni_2h_fivecrop\\TCGA-CL-4957_nonMSIH\\TCGA-CL-4957_nonMSIH_x52304_y15936_patch03317.pt cannot be opened.\n",
      "ERROR:__main__:Error saving D:\\Aamir Gulzar\\KSA_project2\\dataset\\patch_data\\TCGA-CL-4957_nonMSIH\\TCGA-CL-4957_nonMSIH_x52304_y16448_patch03318.png: File D:\\Aamir Gulzar\\KSA_project2\\dataset\\Features\\Uni_2h_fivecrop\\TCGA-CL-4957_nonMSIH\\TCGA-CL-4957_nonMSIH_x52304_y16448_patch03318.pt cannot be opened.\n",
      "ERROR:__main__:Error saving D:\\Aamir Gulzar\\KSA_project2\\dataset\\patch_data\\TCGA-CL-4957_nonMSIH\\TCGA-CL-4957_nonMSIH_x52304_y16960_patch03319.png: File D:\\Aamir Gulzar\\KSA_project2\\dataset\\Features\\Uni_2h_fivecrop\\TCGA-CL-4957_nonMSIH\\TCGA-CL-4957_nonMSIH_x52304_y16960_patch03319.pt cannot be opened.\n",
      "ERROR:__main__:Error saving D:\\Aamir Gulzar\\KSA_project2\\dataset\\patch_data\\TCGA-CL-4957_nonMSIH\\TCGA-CL-4957_nonMSIH_x52304_y17472_patch03320.png: File D:\\Aamir Gulzar\\KSA_project2\\dataset\\Features\\Uni_2h_fivecrop\\TCGA-CL-4957_nonMSIH\\TCGA-CL-4957_nonMSIH_x52304_y17472_patch03320.pt cannot be opened.\n",
      "ERROR:__main__:Error saving D:\\Aamir Gulzar\\KSA_project2\\dataset\\patch_data\\TCGA-CL-4957_nonMSIH\\TCGA-CL-4957_nonMSIH_x52304_y17984_patch03321.png: File D:\\Aamir Gulzar\\KSA_project2\\dataset\\Features\\Uni_2h_fivecrop\\TCGA-CL-4957_nonMSIH\\TCGA-CL-4957_nonMSIH_x52304_y17984_patch03321.pt cannot be opened.\n",
      "ERROR:__main__:Error saving D:\\Aamir Gulzar\\KSA_project2\\dataset\\patch_data\\TCGA-CL-4957_nonMSIH\\TCGA-CL-4957_nonMSIH_x52304_y18496_patch03322.png: File D:\\Aamir Gulzar\\KSA_project2\\dataset\\Features\\Uni_2h_fivecrop\\TCGA-CL-4957_nonMSIH\\TCGA-CL-4957_nonMSIH_x52304_y18496_patch03322.pt cannot be opened.\n",
      "ERROR:__main__:Error saving D:\\Aamir Gulzar\\KSA_project2\\dataset\\patch_data\\TCGA-CL-4957_nonMSIH\\TCGA-CL-4957_nonMSIH_x52304_y19008_patch03323.png: File D:\\Aamir Gulzar\\KSA_project2\\dataset\\Features\\Uni_2h_fivecrop\\TCGA-CL-4957_nonMSIH\\TCGA-CL-4957_nonMSIH_x52304_y19008_patch03323.pt cannot be opened.\n",
      "ERROR:__main__:Error saving D:\\Aamir Gulzar\\KSA_project2\\dataset\\patch_data\\TCGA-CL-4957_nonMSIH\\TCGA-CL-4957_nonMSIH_x52304_y19520_patch03324.png: File D:\\Aamir Gulzar\\KSA_project2\\dataset\\Features\\Uni_2h_fivecrop\\TCGA-CL-4957_nonMSIH\\TCGA-CL-4957_nonMSIH_x52304_y19520_patch03324.pt cannot be opened.\n",
      "ERROR:__main__:Error saving D:\\Aamir Gulzar\\KSA_project2\\dataset\\patch_data\\TCGA-CL-4957_nonMSIH\\TCGA-CL-4957_nonMSIH_x52304_y20032_patch03325.png: File D:\\Aamir Gulzar\\KSA_project2\\dataset\\Features\\Uni_2h_fivecrop\\TCGA-CL-4957_nonMSIH\\TCGA-CL-4957_nonMSIH_x52304_y20032_patch03325.pt cannot be opened.\n",
      "ERROR:__main__:Error saving D:\\Aamir Gulzar\\KSA_project2\\dataset\\patch_data\\TCGA-CL-4957_nonMSIH\\TCGA-CL-4957_nonMSIH_x52304_y20544_patch03326.png: File D:\\Aamir Gulzar\\KSA_project2\\dataset\\Features\\Uni_2h_fivecrop\\TCGA-CL-4957_nonMSIH\\TCGA-CL-4957_nonMSIH_x52304_y20544_patch03326.pt cannot be opened.\n",
      "ERROR:__main__:Error saving D:\\Aamir Gulzar\\KSA_project2\\dataset\\patch_data\\TCGA-CL-4957_nonMSIH\\TCGA-CL-4957_nonMSIH_x52304_y21056_patch03327.png: File D:\\Aamir Gulzar\\KSA_project2\\dataset\\Features\\Uni_2h_fivecrop\\TCGA-CL-4957_nonMSIH\\TCGA-CL-4957_nonMSIH_x52304_y21056_patch03327.pt cannot be opened.\n",
      "ERROR:__main__:Error saving D:\\Aamir Gulzar\\KSA_project2\\dataset\\patch_data\\TCGA-CL-4957_nonMSIH\\TCGA-CL-4957_nonMSIH_x52304_y21568_patch03328.png: File D:\\Aamir Gulzar\\KSA_project2\\dataset\\Features\\Uni_2h_fivecrop\\TCGA-CL-4957_nonMSIH\\TCGA-CL-4957_nonMSIH_x52304_y21568_patch03328.pt cannot be opened.\n",
      "ERROR:__main__:Error saving D:\\Aamir Gulzar\\KSA_project2\\dataset\\patch_data\\TCGA-CL-4957_nonMSIH\\TCGA-CL-4957_nonMSIH_x52304_y22080_patch03329.png: File D:\\Aamir Gulzar\\KSA_project2\\dataset\\Features\\Uni_2h_fivecrop\\TCGA-CL-4957_nonMSIH\\TCGA-CL-4957_nonMSIH_x52304_y22080_patch03329.pt cannot be opened.\n",
      "ERROR:__main__:Error saving D:\\Aamir Gulzar\\KSA_project2\\dataset\\patch_data\\TCGA-CL-4957_nonMSIH\\TCGA-CL-4957_nonMSIH_x52304_y22592_patch03330.png: File D:\\Aamir Gulzar\\KSA_project2\\dataset\\Features\\Uni_2h_fivecrop\\TCGA-CL-4957_nonMSIH\\TCGA-CL-4957_nonMSIH_x52304_y22592_patch03330.pt cannot be opened.\n",
      "ERROR:__main__:Error saving D:\\Aamir Gulzar\\KSA_project2\\dataset\\patch_data\\TCGA-CL-4957_nonMSIH\\TCGA-CL-4957_nonMSIH_x52304_y7744_patch03301.png: File D:\\Aamir Gulzar\\KSA_project2\\dataset\\Features\\Uni_2h_fivecrop\\TCGA-CL-4957_nonMSIH\\TCGA-CL-4957_nonMSIH_x52304_y7744_patch03301.pt cannot be opened.\n",
      "ERROR:__main__:Error saving D:\\Aamir Gulzar\\KSA_project2\\dataset\\patch_data\\TCGA-CL-4957_nonMSIH\\TCGA-CL-4957_nonMSIH_x52304_y8256_patch03302.png: File D:\\Aamir Gulzar\\KSA_project2\\dataset\\Features\\Uni_2h_fivecrop\\TCGA-CL-4957_nonMSIH\\TCGA-CL-4957_nonMSIH_x52304_y8256_patch03302.pt cannot be opened.\n",
      "ERROR:__main__:Error saving D:\\Aamir Gulzar\\KSA_project2\\dataset\\patch_data\\TCGA-CL-4957_nonMSIH\\TCGA-CL-4957_nonMSIH_x52304_y8768_patch03303.png: File D:\\Aamir Gulzar\\KSA_project2\\dataset\\Features\\Uni_2h_fivecrop\\TCGA-CL-4957_nonMSIH\\TCGA-CL-4957_nonMSIH_x52304_y8768_patch03303.pt cannot be opened.\n",
      "ERROR:__main__:Error saving D:\\Aamir Gulzar\\KSA_project2\\dataset\\patch_data\\TCGA-CL-4957_nonMSIH\\TCGA-CL-4957_nonMSIH_x52304_y9280_patch03304.png: File D:\\Aamir Gulzar\\KSA_project2\\dataset\\Features\\Uni_2h_fivecrop\\TCGA-CL-4957_nonMSIH\\TCGA-CL-4957_nonMSIH_x52304_y9280_patch03304.pt cannot be opened.\n",
      "ERROR:__main__:Error saving D:\\Aamir Gulzar\\KSA_project2\\dataset\\patch_data\\TCGA-CL-4957_nonMSIH\\TCGA-CL-4957_nonMSIH_x52304_y9792_patch03305.png: File D:\\Aamir Gulzar\\KSA_project2\\dataset\\Features\\Uni_2h_fivecrop\\TCGA-CL-4957_nonMSIH\\TCGA-CL-4957_nonMSIH_x52304_y9792_patch03305.pt cannot be opened.\n",
      "ERROR:__main__:Error saving D:\\Aamir Gulzar\\KSA_project2\\dataset\\patch_data\\TCGA-CL-4957_nonMSIH\\TCGA-CL-4957_nonMSIH_x52416_y1232_patch03657.png: File D:\\Aamir Gulzar\\KSA_project2\\dataset\\Features\\Uni_2h_fivecrop\\TCGA-CL-4957_nonMSIH\\TCGA-CL-4957_nonMSIH_x52416_y1232_patch03657.pt cannot be opened.\n",
      "ERROR:__main__:Error saving D:\\Aamir Gulzar\\KSA_project2\\dataset\\patch_data\\TCGA-CL-4957_nonMSIH\\TCGA-CL-4957_nonMSIH_x52416_y1744_patch03658.png: File D:\\Aamir Gulzar\\KSA_project2\\dataset\\Features\\Uni_2h_fivecrop\\TCGA-CL-4957_nonMSIH\\TCGA-CL-4957_nonMSIH_x52416_y1744_patch03658.pt cannot be opened.\n",
      "ERROR:__main__:Error saving D:\\Aamir Gulzar\\KSA_project2\\dataset\\patch_data\\TCGA-CL-4957_nonMSIH\\TCGA-CL-4957_nonMSIH_x52416_y2256_patch03659.png: File D:\\Aamir Gulzar\\KSA_project2\\dataset\\Features\\Uni_2h_fivecrop\\TCGA-CL-4957_nonMSIH\\TCGA-CL-4957_nonMSIH_x52416_y2256_patch03659.pt cannot be opened.\n",
      "ERROR:__main__:Error saving D:\\Aamir Gulzar\\KSA_project2\\dataset\\patch_data\\TCGA-CL-4957_nonMSIH\\TCGA-CL-4957_nonMSIH_x52416_y2768_patch03660.png: File D:\\Aamir Gulzar\\KSA_project2\\dataset\\Features\\Uni_2h_fivecrop\\TCGA-CL-4957_nonMSIH\\TCGA-CL-4957_nonMSIH_x52416_y2768_patch03660.pt cannot be opened.\n",
      "ERROR:__main__:Error saving D:\\Aamir Gulzar\\KSA_project2\\dataset\\patch_data\\TCGA-CL-4957_nonMSIH\\TCGA-CL-4957_nonMSIH_x52416_y3280_patch03661.png: File D:\\Aamir Gulzar\\KSA_project2\\dataset\\Features\\Uni_2h_fivecrop\\TCGA-CL-4957_nonMSIH\\TCGA-CL-4957_nonMSIH_x52416_y3280_patch03661.pt cannot be opened.\n",
      "ERROR:__main__:Error saving D:\\Aamir Gulzar\\KSA_project2\\dataset\\patch_data\\TCGA-CL-4957_nonMSIH\\TCGA-CL-4957_nonMSIH_x52416_y4304_patch03663.png: File D:\\Aamir Gulzar\\KSA_project2\\dataset\\Features\\Uni_2h_fivecrop\\TCGA-CL-4957_nonMSIH\\TCGA-CL-4957_nonMSIH_x52416_y4304_patch03663.pt cannot be opened.\n",
      "ERROR:__main__:Error saving D:\\Aamir Gulzar\\KSA_project2\\dataset\\patch_data\\TCGA-CL-4957_nonMSIH\\TCGA-CL-4957_nonMSIH_x52416_y3792_patch03662.png: File D:\\Aamir Gulzar\\KSA_project2\\dataset\\Features\\Uni_2h_fivecrop\\TCGA-CL-4957_nonMSIH\\TCGA-CL-4957_nonMSIH_x52416_y3792_patch03662.pt cannot be opened.\n",
      "ERROR:__main__:Error saving D:\\Aamir Gulzar\\KSA_project2\\dataset\\patch_data\\TCGA-CL-4957_nonMSIH\\TCGA-CL-4957_nonMSIH_x52816_y10304_patch03336.png: File D:\\Aamir Gulzar\\KSA_project2\\dataset\\Features\\Uni_2h_fivecrop\\TCGA-CL-4957_nonMSIH\\TCGA-CL-4957_nonMSIH_x52816_y10304_patch03336.pt cannot be opened.\n",
      "ERROR:__main__:Error saving D:\\Aamir Gulzar\\KSA_project2\\dataset\\patch_data\\TCGA-CL-4957_nonMSIH\\TCGA-CL-4957_nonMSIH_x52816_y10816_patch03337.png: File D:\\Aamir Gulzar\\KSA_project2\\dataset\\Features\\Uni_2h_fivecrop\\TCGA-CL-4957_nonMSIH\\TCGA-CL-4957_nonMSIH_x52816_y10816_patch03337.pt cannot be opened.\n",
      "ERROR:__main__:Error saving D:\\Aamir Gulzar\\KSA_project2\\dataset\\patch_data\\TCGA-CL-4957_nonMSIH\\TCGA-CL-4957_nonMSIH_x52816_y11328_patch03338.png: File D:\\Aamir Gulzar\\KSA_project2\\dataset\\Features\\Uni_2h_fivecrop\\TCGA-CL-4957_nonMSIH\\TCGA-CL-4957_nonMSIH_x52816_y11328_patch03338.pt cannot be opened.\n",
      "ERROR:__main__:Error saving D:\\Aamir Gulzar\\KSA_project2\\dataset\\patch_data\\TCGA-CL-4957_nonMSIH\\TCGA-CL-4957_nonMSIH_x52816_y11840_patch03339.png: File D:\\Aamir Gulzar\\KSA_project2\\dataset\\Features\\Uni_2h_fivecrop\\TCGA-CL-4957_nonMSIH\\TCGA-CL-4957_nonMSIH_x52816_y11840_patch03339.pt cannot be opened.\n",
      "ERROR:__main__:Error saving D:\\Aamir Gulzar\\KSA_project2\\dataset\\patch_data\\TCGA-CL-4957_nonMSIH\\TCGA-CL-4957_nonMSIH_x52816_y12352_patch03340.png: File D:\\Aamir Gulzar\\KSA_project2\\dataset\\Features\\Uni_2h_fivecrop\\TCGA-CL-4957_nonMSIH\\TCGA-CL-4957_nonMSIH_x52816_y12352_patch03340.pt cannot be opened.\n",
      "ERROR:__main__:Error saving D:\\Aamir Gulzar\\KSA_project2\\dataset\\patch_data\\TCGA-CL-4957_nonMSIH\\TCGA-CL-4957_nonMSIH_x52816_y13376_patch03342.png: File D:\\Aamir Gulzar\\KSA_project2\\dataset\\Features\\Uni_2h_fivecrop\\TCGA-CL-4957_nonMSIH\\TCGA-CL-4957_nonMSIH_x52816_y13376_patch03342.pt cannot be opened.\n",
      "ERROR:__main__:Error saving D:\\Aamir Gulzar\\KSA_project2\\dataset\\patch_data\\TCGA-CL-4957_nonMSIH\\TCGA-CL-4957_nonMSIH_x52816_y12864_patch03341.png: File D:\\Aamir Gulzar\\KSA_project2\\dataset\\Features\\Uni_2h_fivecrop\\TCGA-CL-4957_nonMSIH\\TCGA-CL-4957_nonMSIH_x52816_y12864_patch03341.pt cannot be opened.\n",
      "ERROR:__main__:Error saving D:\\Aamir Gulzar\\KSA_project2\\dataset\\patch_data\\TCGA-CL-4957_nonMSIH\\TCGA-CL-4957_nonMSIH_x52816_y13888_patch03343.png: File D:\\Aamir Gulzar\\KSA_project2\\dataset\\Features\\Uni_2h_fivecrop\\TCGA-CL-4957_nonMSIH\\TCGA-CL-4957_nonMSIH_x52816_y13888_patch03343.pt cannot be opened.\n",
      "ERROR:__main__:Error saving D:\\Aamir Gulzar\\KSA_project2\\dataset\\patch_data\\TCGA-CL-4957_nonMSIH\\TCGA-CL-4957_nonMSIH_x52816_y14400_patch03344.png: File D:\\Aamir Gulzar\\KSA_project2\\dataset\\Features\\Uni_2h_fivecrop\\TCGA-CL-4957_nonMSIH\\TCGA-CL-4957_nonMSIH_x52816_y14400_patch03344.pt cannot be opened.\n",
      "ERROR:__main__:Error saving D:\\Aamir Gulzar\\KSA_project2\\dataset\\patch_data\\TCGA-CL-4957_nonMSIH\\TCGA-CL-4957_nonMSIH_x52816_y14912_patch03345.png: File D:\\Aamir Gulzar\\KSA_project2\\dataset\\Features\\Uni_2h_fivecrop\\TCGA-CL-4957_nonMSIH\\TCGA-CL-4957_nonMSIH_x52816_y14912_patch03345.pt cannot be opened.\n",
      "ERROR:__main__:Error saving D:\\Aamir Gulzar\\KSA_project2\\dataset\\patch_data\\TCGA-CL-4957_nonMSIH\\TCGA-CL-4957_nonMSIH_x52816_y15424_patch03346.png: File D:\\Aamir Gulzar\\KSA_project2\\dataset\\Features\\Uni_2h_fivecrop\\TCGA-CL-4957_nonMSIH\\TCGA-CL-4957_nonMSIH_x52816_y15424_patch03346.pt cannot be opened.\n",
      "ERROR:__main__:Error saving D:\\Aamir Gulzar\\KSA_project2\\dataset\\patch_data\\TCGA-CL-4957_nonMSIH\\TCGA-CL-4957_nonMSIH_x52816_y15936_patch03347.png: File D:\\Aamir Gulzar\\KSA_project2\\dataset\\Features\\Uni_2h_fivecrop\\TCGA-CL-4957_nonMSIH\\TCGA-CL-4957_nonMSIH_x52816_y15936_patch03347.pt cannot be opened.\n",
      "ERROR:__main__:Error saving D:\\Aamir Gulzar\\KSA_project2\\dataset\\patch_data\\TCGA-CL-4957_nonMSIH\\TCGA-CL-4957_nonMSIH_x52816_y16448_patch03348.png: File D:\\Aamir Gulzar\\KSA_project2\\dataset\\Features\\Uni_2h_fivecrop\\TCGA-CL-4957_nonMSIH\\TCGA-CL-4957_nonMSIH_x52816_y16448_patch03348.pt cannot be opened.\n",
      "ERROR:__main__:Error saving D:\\Aamir Gulzar\\KSA_project2\\dataset\\patch_data\\TCGA-CL-4957_nonMSIH\\TCGA-CL-4957_nonMSIH_x52816_y16960_patch03349.png: File D:\\Aamir Gulzar\\KSA_project2\\dataset\\Features\\Uni_2h_fivecrop\\TCGA-CL-4957_nonMSIH\\TCGA-CL-4957_nonMSIH_x52816_y16960_patch03349.pt cannot be opened.\n",
      "ERROR:__main__:Error saving D:\\Aamir Gulzar\\KSA_project2\\dataset\\patch_data\\TCGA-CL-4957_nonMSIH\\TCGA-CL-4957_nonMSIH_x52816_y17472_patch03350.png: File D:\\Aamir Gulzar\\KSA_project2\\dataset\\Features\\Uni_2h_fivecrop\\TCGA-CL-4957_nonMSIH\\TCGA-CL-4957_nonMSIH_x52816_y17472_patch03350.pt cannot be opened.\n",
      "ERROR:__main__:Error saving D:\\Aamir Gulzar\\KSA_project2\\dataset\\patch_data\\TCGA-CL-4957_nonMSIH\\TCGA-CL-4957_nonMSIH_x52816_y17984_patch03351.png: File D:\\Aamir Gulzar\\KSA_project2\\dataset\\Features\\Uni_2h_fivecrop\\TCGA-CL-4957_nonMSIH\\TCGA-CL-4957_nonMSIH_x52816_y17984_patch03351.pt cannot be opened.\n",
      "ERROR:__main__:Error saving D:\\Aamir Gulzar\\KSA_project2\\dataset\\patch_data\\TCGA-CL-4957_nonMSIH\\TCGA-CL-4957_nonMSIH_x52816_y18496_patch03352.png: File D:\\Aamir Gulzar\\KSA_project2\\dataset\\Features\\Uni_2h_fivecrop\\TCGA-CL-4957_nonMSIH\\TCGA-CL-4957_nonMSIH_x52816_y18496_patch03352.pt cannot be opened.\n",
      "ERROR:__main__:Error saving D:\\Aamir Gulzar\\KSA_project2\\dataset\\patch_data\\TCGA-CL-4957_nonMSIH\\TCGA-CL-4957_nonMSIH_x52816_y19008_patch03353.png: File D:\\Aamir Gulzar\\KSA_project2\\dataset\\Features\\Uni_2h_fivecrop\\TCGA-CL-4957_nonMSIH\\TCGA-CL-4957_nonMSIH_x52816_y19008_patch03353.pt cannot be opened.\n",
      "ERROR:__main__:Error saving D:\\Aamir Gulzar\\KSA_project2\\dataset\\patch_data\\TCGA-CL-4957_nonMSIH\\TCGA-CL-4957_nonMSIH_x52816_y19520_patch03354.png: File D:\\Aamir Gulzar\\KSA_project2\\dataset\\Features\\Uni_2h_fivecrop\\TCGA-CL-4957_nonMSIH\\TCGA-CL-4957_nonMSIH_x52816_y19520_patch03354.pt cannot be opened.\n",
      "ERROR:__main__:Error saving D:\\Aamir Gulzar\\KSA_project2\\dataset\\patch_data\\TCGA-CL-4957_nonMSIH\\TCGA-CL-4957_nonMSIH_x52816_y20032_patch03355.png: File D:\\Aamir Gulzar\\KSA_project2\\dataset\\Features\\Uni_2h_fivecrop\\TCGA-CL-4957_nonMSIH\\TCGA-CL-4957_nonMSIH_x52816_y20032_patch03355.pt cannot be opened.\n",
      "ERROR:__main__:Error saving D:\\Aamir Gulzar\\KSA_project2\\dataset\\patch_data\\TCGA-CL-4957_nonMSIH\\TCGA-CL-4957_nonMSIH_x52816_y20544_patch03356.png: File D:\\Aamir Gulzar\\KSA_project2\\dataset\\Features\\Uni_2h_fivecrop\\TCGA-CL-4957_nonMSIH\\TCGA-CL-4957_nonMSIH_x52816_y20544_patch03356.pt cannot be opened.\n",
      "ERROR:__main__:Error saving D:\\Aamir Gulzar\\KSA_project2\\dataset\\patch_data\\TCGA-CL-4957_nonMSIH\\TCGA-CL-4957_nonMSIH_x52816_y21056_patch03357.png: File D:\\Aamir Gulzar\\KSA_project2\\dataset\\Features\\Uni_2h_fivecrop\\TCGA-CL-4957_nonMSIH\\TCGA-CL-4957_nonMSIH_x52816_y21056_patch03357.pt cannot be opened.\n",
      "ERROR:__main__:Error saving D:\\Aamir Gulzar\\KSA_project2\\dataset\\patch_data\\TCGA-CL-4957_nonMSIH\\TCGA-CL-4957_nonMSIH_x52816_y21568_patch03358.png: File D:\\Aamir Gulzar\\KSA_project2\\dataset\\Features\\Uni_2h_fivecrop\\TCGA-CL-4957_nonMSIH\\TCGA-CL-4957_nonMSIH_x52816_y21568_patch03358.pt cannot be opened.\n",
      "ERROR:__main__:Error saving D:\\Aamir Gulzar\\KSA_project2\\dataset\\patch_data\\TCGA-CL-4957_nonMSIH\\TCGA-CL-4957_nonMSIH_x52816_y22080_patch03359.png: File D:\\Aamir Gulzar\\KSA_project2\\dataset\\Features\\Uni_2h_fivecrop\\TCGA-CL-4957_nonMSIH\\TCGA-CL-4957_nonMSIH_x52816_y22080_patch03359.pt cannot be opened.\n",
      "ERROR:__main__:Error saving D:\\Aamir Gulzar\\KSA_project2\\dataset\\patch_data\\TCGA-CL-4957_nonMSIH\\TCGA-CL-4957_nonMSIH_x52816_y22592_patch03360.png: File D:\\Aamir Gulzar\\KSA_project2\\dataset\\Features\\Uni_2h_fivecrop\\TCGA-CL-4957_nonMSIH\\TCGA-CL-4957_nonMSIH_x52816_y22592_patch03360.pt cannot be opened.\n",
      "ERROR:__main__:Error saving D:\\Aamir Gulzar\\KSA_project2\\dataset\\patch_data\\TCGA-CL-4957_nonMSIH\\TCGA-CL-4957_nonMSIH_x52816_y7744_patch03331.png: File D:\\Aamir Gulzar\\KSA_project2\\dataset\\Features\\Uni_2h_fivecrop\\TCGA-CL-4957_nonMSIH\\TCGA-CL-4957_nonMSIH_x52816_y7744_patch03331.pt cannot be opened.\n",
      "ERROR:__main__:Error saving D:\\Aamir Gulzar\\KSA_project2\\dataset\\patch_data\\TCGA-CL-4957_nonMSIH\\TCGA-CL-4957_nonMSIH_x52816_y8256_patch03332.png: File D:\\Aamir Gulzar\\KSA_project2\\dataset\\Features\\Uni_2h_fivecrop\\TCGA-CL-4957_nonMSIH\\TCGA-CL-4957_nonMSIH_x52816_y8256_patch03332.pt cannot be opened.\n",
      "ERROR:__main__:Error saving D:\\Aamir Gulzar\\KSA_project2\\dataset\\patch_data\\TCGA-CL-4957_nonMSIH\\TCGA-CL-4957_nonMSIH_x52816_y8768_patch03333.png: File D:\\Aamir Gulzar\\KSA_project2\\dataset\\Features\\Uni_2h_fivecrop\\TCGA-CL-4957_nonMSIH\\TCGA-CL-4957_nonMSIH_x52816_y8768_patch03333.pt cannot be opened.\n",
      "ERROR:__main__:Error saving D:\\Aamir Gulzar\\KSA_project2\\dataset\\patch_data\\TCGA-CL-4957_nonMSIH\\TCGA-CL-4957_nonMSIH_x52816_y9280_patch03334.png: File D:\\Aamir Gulzar\\KSA_project2\\dataset\\Features\\Uni_2h_fivecrop\\TCGA-CL-4957_nonMSIH\\TCGA-CL-4957_nonMSIH_x52816_y9280_patch03334.pt cannot be opened.\n",
      "ERROR:__main__:Error saving D:\\Aamir Gulzar\\KSA_project2\\dataset\\patch_data\\TCGA-CL-4957_nonMSIH\\TCGA-CL-4957_nonMSIH_x52816_y9792_patch03335.png: File D:\\Aamir Gulzar\\KSA_project2\\dataset\\Features\\Uni_2h_fivecrop\\TCGA-CL-4957_nonMSIH\\TCGA-CL-4957_nonMSIH_x52816_y9792_patch03335.pt cannot be opened.\n",
      "ERROR:__main__:Error saving D:\\Aamir Gulzar\\KSA_project2\\dataset\\patch_data\\TCGA-CL-4957_nonMSIH\\TCGA-CL-4957_nonMSIH_x52928_y1232_patch03664.png: File D:\\Aamir Gulzar\\KSA_project2\\dataset\\Features\\Uni_2h_fivecrop\\TCGA-CL-4957_nonMSIH\\TCGA-CL-4957_nonMSIH_x52928_y1232_patch03664.pt cannot be opened.\n",
      "ERROR:__main__:Error saving D:\\Aamir Gulzar\\KSA_project2\\dataset\\patch_data\\TCGA-CL-4957_nonMSIH\\TCGA-CL-4957_nonMSIH_x52928_y1744_patch03665.png: File D:\\Aamir Gulzar\\KSA_project2\\dataset\\Features\\Uni_2h_fivecrop\\TCGA-CL-4957_nonMSIH\\TCGA-CL-4957_nonMSIH_x52928_y1744_patch03665.pt cannot be opened.\n",
      "ERROR:__main__:Error saving D:\\Aamir Gulzar\\KSA_project2\\dataset\\patch_data\\TCGA-CL-4957_nonMSIH\\TCGA-CL-4957_nonMSIH_x52928_y2256_patch03666.png: File D:\\Aamir Gulzar\\KSA_project2\\dataset\\Features\\Uni_2h_fivecrop\\TCGA-CL-4957_nonMSIH\\TCGA-CL-4957_nonMSIH_x52928_y2256_patch03666.pt cannot be opened.\n",
      "ERROR:__main__:Error saving D:\\Aamir Gulzar\\KSA_project2\\dataset\\patch_data\\TCGA-CL-4957_nonMSIH\\TCGA-CL-4957_nonMSIH_x52928_y2768_patch03667.png: File D:\\Aamir Gulzar\\KSA_project2\\dataset\\Features\\Uni_2h_fivecrop\\TCGA-CL-4957_nonMSIH\\TCGA-CL-4957_nonMSIH_x52928_y2768_patch03667.pt cannot be opened.\n",
      "ERROR:__main__:Error saving D:\\Aamir Gulzar\\KSA_project2\\dataset\\patch_data\\TCGA-CL-4957_nonMSIH\\TCGA-CL-4957_nonMSIH_x52928_y3280_patch03668.png: File D:\\Aamir Gulzar\\KSA_project2\\dataset\\Features\\Uni_2h_fivecrop\\TCGA-CL-4957_nonMSIH\\TCGA-CL-4957_nonMSIH_x52928_y3280_patch03668.pt cannot be opened.\n",
      "ERROR:__main__:Error saving D:\\Aamir Gulzar\\KSA_project2\\dataset\\patch_data\\TCGA-CL-4957_nonMSIH\\TCGA-CL-4957_nonMSIH_x52928_y3792_patch03669.png: File D:\\Aamir Gulzar\\KSA_project2\\dataset\\Features\\Uni_2h_fivecrop\\TCGA-CL-4957_nonMSIH\\TCGA-CL-4957_nonMSIH_x52928_y3792_patch03669.pt cannot be opened.\n",
      "ERROR:__main__:Error saving D:\\Aamir Gulzar\\KSA_project2\\dataset\\patch_data\\TCGA-CL-4957_nonMSIH\\TCGA-CL-4957_nonMSIH_x52928_y4304_patch03670.png: File D:\\Aamir Gulzar\\KSA_project2\\dataset\\Features\\Uni_2h_fivecrop\\TCGA-CL-4957_nonMSIH\\TCGA-CL-4957_nonMSIH_x52928_y4304_patch03670.pt cannot be opened.\n",
      "ERROR:__main__:Error saving D:\\Aamir Gulzar\\KSA_project2\\dataset\\patch_data\\TCGA-CL-4957_nonMSIH\\TCGA-CL-4957_nonMSIH_x53328_y10304_patch03365.png: File D:\\Aamir Gulzar\\KSA_project2\\dataset\\Features\\Uni_2h_fivecrop\\TCGA-CL-4957_nonMSIH\\TCGA-CL-4957_nonMSIH_x53328_y10304_patch03365.pt cannot be opened.\n",
      "ERROR:__main__:Error saving D:\\Aamir Gulzar\\KSA_project2\\dataset\\patch_data\\TCGA-CL-4957_nonMSIH\\TCGA-CL-4957_nonMSIH_x53328_y10816_patch03366.png: File D:\\Aamir Gulzar\\KSA_project2\\dataset\\Features\\Uni_2h_fivecrop\\TCGA-CL-4957_nonMSIH\\TCGA-CL-4957_nonMSIH_x53328_y10816_patch03366.pt cannot be opened.\n",
      "ERROR:__main__:Error saving D:\\Aamir Gulzar\\KSA_project2\\dataset\\patch_data\\TCGA-CL-4957_nonMSIH\\TCGA-CL-4957_nonMSIH_x53328_y11328_patch03367.png: File D:\\Aamir Gulzar\\KSA_project2\\dataset\\Features\\Uni_2h_fivecrop\\TCGA-CL-4957_nonMSIH\\TCGA-CL-4957_nonMSIH_x53328_y11328_patch03367.pt cannot be opened.\n",
      "ERROR:__main__:Error saving D:\\Aamir Gulzar\\KSA_project2\\dataset\\patch_data\\TCGA-CL-4957_nonMSIH\\TCGA-CL-4957_nonMSIH_x53328_y11840_patch03368.png: File D:\\Aamir Gulzar\\KSA_project2\\dataset\\Features\\Uni_2h_fivecrop\\TCGA-CL-4957_nonMSIH\\TCGA-CL-4957_nonMSIH_x53328_y11840_patch03368.pt cannot be opened.\n",
      "ERROR:__main__:Error saving D:\\Aamir Gulzar\\KSA_project2\\dataset\\patch_data\\TCGA-CL-4957_nonMSIH\\TCGA-CL-4957_nonMSIH_x53328_y12352_patch03369.png: File D:\\Aamir Gulzar\\KSA_project2\\dataset\\Features\\Uni_2h_fivecrop\\TCGA-CL-4957_nonMSIH\\TCGA-CL-4957_nonMSIH_x53328_y12352_patch03369.pt cannot be opened.\n",
      "ERROR:__main__:Error saving D:\\Aamir Gulzar\\KSA_project2\\dataset\\patch_data\\TCGA-CL-4957_nonMSIH\\TCGA-CL-4957_nonMSIH_x53328_y12864_patch03370.png: File D:\\Aamir Gulzar\\KSA_project2\\dataset\\Features\\Uni_2h_fivecrop\\TCGA-CL-4957_nonMSIH\\TCGA-CL-4957_nonMSIH_x53328_y12864_patch03370.pt cannot be opened.\n",
      "ERROR:__main__:Error saving D:\\Aamir Gulzar\\KSA_project2\\dataset\\patch_data\\TCGA-CL-4957_nonMSIH\\TCGA-CL-4957_nonMSIH_x53328_y13376_patch03371.png: File D:\\Aamir Gulzar\\KSA_project2\\dataset\\Features\\Uni_2h_fivecrop\\TCGA-CL-4957_nonMSIH\\TCGA-CL-4957_nonMSIH_x53328_y13376_patch03371.pt cannot be opened.\n",
      "ERROR:__main__:Error saving D:\\Aamir Gulzar\\KSA_project2\\dataset\\patch_data\\TCGA-CL-4957_nonMSIH\\TCGA-CL-4957_nonMSIH_x53328_y13888_patch03372.png: File D:\\Aamir Gulzar\\KSA_project2\\dataset\\Features\\Uni_2h_fivecrop\\TCGA-CL-4957_nonMSIH\\TCGA-CL-4957_nonMSIH_x53328_y13888_patch03372.pt cannot be opened.\n",
      "ERROR:__main__:Error saving D:\\Aamir Gulzar\\KSA_project2\\dataset\\patch_data\\TCGA-CL-4957_nonMSIH\\TCGA-CL-4957_nonMSIH_x53328_y14400_patch03373.png: File D:\\Aamir Gulzar\\KSA_project2\\dataset\\Features\\Uni_2h_fivecrop\\TCGA-CL-4957_nonMSIH\\TCGA-CL-4957_nonMSIH_x53328_y14400_patch03373.pt cannot be opened.\n",
      "ERROR:__main__:Error saving D:\\Aamir Gulzar\\KSA_project2\\dataset\\patch_data\\TCGA-CL-4957_nonMSIH\\TCGA-CL-4957_nonMSIH_x53328_y14912_patch03374.png: File D:\\Aamir Gulzar\\KSA_project2\\dataset\\Features\\Uni_2h_fivecrop\\TCGA-CL-4957_nonMSIH\\TCGA-CL-4957_nonMSIH_x53328_y14912_patch03374.pt cannot be opened.\n",
      "ERROR:__main__:Error saving D:\\Aamir Gulzar\\KSA_project2\\dataset\\patch_data\\TCGA-CL-4957_nonMSIH\\TCGA-CL-4957_nonMSIH_x53328_y15936_patch03376.png: File D:\\Aamir Gulzar\\KSA_project2\\dataset\\Features\\Uni_2h_fivecrop\\TCGA-CL-4957_nonMSIH\\TCGA-CL-4957_nonMSIH_x53328_y15936_patch03376.pt cannot be opened.\n",
      "ERROR:__main__:Error saving D:\\Aamir Gulzar\\KSA_project2\\dataset\\patch_data\\TCGA-CL-4957_nonMSIH\\TCGA-CL-4957_nonMSIH_x53328_y15424_patch03375.png: File D:\\Aamir Gulzar\\KSA_project2\\dataset\\Features\\Uni_2h_fivecrop\\TCGA-CL-4957_nonMSIH\\TCGA-CL-4957_nonMSIH_x53328_y15424_patch03375.pt cannot be opened.\n",
      "ERROR:__main__:Error saving D:\\Aamir Gulzar\\KSA_project2\\dataset\\patch_data\\TCGA-CL-4957_nonMSIH\\TCGA-CL-4957_nonMSIH_x53328_y16448_patch03377.png: File D:\\Aamir Gulzar\\KSA_project2\\dataset\\Features\\Uni_2h_fivecrop\\TCGA-CL-4957_nonMSIH\\TCGA-CL-4957_nonMSIH_x53328_y16448_patch03377.pt cannot be opened.\n",
      "ERROR:__main__:Error saving D:\\Aamir Gulzar\\KSA_project2\\dataset\\patch_data\\TCGA-CL-4957_nonMSIH\\TCGA-CL-4957_nonMSIH_x53328_y16960_patch03378.png: File D:\\Aamir Gulzar\\KSA_project2\\dataset\\Features\\Uni_2h_fivecrop\\TCGA-CL-4957_nonMSIH\\TCGA-CL-4957_nonMSIH_x53328_y16960_patch03378.pt cannot be opened.\n",
      "ERROR:__main__:Error saving D:\\Aamir Gulzar\\KSA_project2\\dataset\\patch_data\\TCGA-CL-4957_nonMSIH\\TCGA-CL-4957_nonMSIH_x53328_y17472_patch03379.png: File D:\\Aamir Gulzar\\KSA_project2\\dataset\\Features\\Uni_2h_fivecrop\\TCGA-CL-4957_nonMSIH\\TCGA-CL-4957_nonMSIH_x53328_y17472_patch03379.pt cannot be opened.\n",
      "ERROR:__main__:Error saving D:\\Aamir Gulzar\\KSA_project2\\dataset\\patch_data\\TCGA-CL-4957_nonMSIH\\TCGA-CL-4957_nonMSIH_x53328_y17984_patch03380.png: File D:\\Aamir Gulzar\\KSA_project2\\dataset\\Features\\Uni_2h_fivecrop\\TCGA-CL-4957_nonMSIH\\TCGA-CL-4957_nonMSIH_x53328_y17984_patch03380.pt cannot be opened.\n",
      "ERROR:__main__:Error saving D:\\Aamir Gulzar\\KSA_project2\\dataset\\patch_data\\TCGA-CL-4957_nonMSIH\\TCGA-CL-4957_nonMSIH_x53328_y18496_patch03381.png: File D:\\Aamir Gulzar\\KSA_project2\\dataset\\Features\\Uni_2h_fivecrop\\TCGA-CL-4957_nonMSIH\\TCGA-CL-4957_nonMSIH_x53328_y18496_patch03381.pt cannot be opened.\n",
      "ERROR:__main__:Error saving D:\\Aamir Gulzar\\KSA_project2\\dataset\\patch_data\\TCGA-CL-4957_nonMSIH\\TCGA-CL-4957_nonMSIH_x53328_y19008_patch03382.png: File D:\\Aamir Gulzar\\KSA_project2\\dataset\\Features\\Uni_2h_fivecrop\\TCGA-CL-4957_nonMSIH\\TCGA-CL-4957_nonMSIH_x53328_y19008_patch03382.pt cannot be opened.\n",
      "ERROR:__main__:Error saving D:\\Aamir Gulzar\\KSA_project2\\dataset\\patch_data\\TCGA-CL-4957_nonMSIH\\TCGA-CL-4957_nonMSIH_x53328_y19520_patch03383.png: File D:\\Aamir Gulzar\\KSA_project2\\dataset\\Features\\Uni_2h_fivecrop\\TCGA-CL-4957_nonMSIH\\TCGA-CL-4957_nonMSIH_x53328_y19520_patch03383.pt cannot be opened.\n",
      "ERROR:__main__:Error saving D:\\Aamir Gulzar\\KSA_project2\\dataset\\patch_data\\TCGA-CL-4957_nonMSIH\\TCGA-CL-4957_nonMSIH_x53328_y20032_patch03384.png: File D:\\Aamir Gulzar\\KSA_project2\\dataset\\Features\\Uni_2h_fivecrop\\TCGA-CL-4957_nonMSIH\\TCGA-CL-4957_nonMSIH_x53328_y20032_patch03384.pt cannot be opened.\n",
      "ERROR:__main__:Error saving D:\\Aamir Gulzar\\KSA_project2\\dataset\\patch_data\\TCGA-CL-4957_nonMSIH\\TCGA-CL-4957_nonMSIH_x53328_y20544_patch03385.png: File D:\\Aamir Gulzar\\KSA_project2\\dataset\\Features\\Uni_2h_fivecrop\\TCGA-CL-4957_nonMSIH\\TCGA-CL-4957_nonMSIH_x53328_y20544_patch03385.pt cannot be opened.\n",
      "ERROR:__main__:Error saving D:\\Aamir Gulzar\\KSA_project2\\dataset\\patch_data\\TCGA-CL-4957_nonMSIH\\TCGA-CL-4957_nonMSIH_x53328_y21056_patch03386.png: File D:\\Aamir Gulzar\\KSA_project2\\dataset\\Features\\Uni_2h_fivecrop\\TCGA-CL-4957_nonMSIH\\TCGA-CL-4957_nonMSIH_x53328_y21056_patch03386.pt cannot be opened.\n",
      "ERROR:__main__:Error saving D:\\Aamir Gulzar\\KSA_project2\\dataset\\patch_data\\TCGA-CL-4957_nonMSIH\\TCGA-CL-4957_nonMSIH_x53328_y21568_patch03387.png: File D:\\Aamir Gulzar\\KSA_project2\\dataset\\Features\\Uni_2h_fivecrop\\TCGA-CL-4957_nonMSIH\\TCGA-CL-4957_nonMSIH_x53328_y21568_patch03387.pt cannot be opened.\n",
      "ERROR:__main__:Error saving D:\\Aamir Gulzar\\KSA_project2\\dataset\\patch_data\\TCGA-CL-4957_nonMSIH\\TCGA-CL-4957_nonMSIH_x53328_y22080_patch03388.png: File D:\\Aamir Gulzar\\KSA_project2\\dataset\\Features\\Uni_2h_fivecrop\\TCGA-CL-4957_nonMSIH\\TCGA-CL-4957_nonMSIH_x53328_y22080_patch03388.pt cannot be opened.\n",
      "ERROR:__main__:Error saving D:\\Aamir Gulzar\\KSA_project2\\dataset\\patch_data\\TCGA-CL-4957_nonMSIH\\TCGA-CL-4957_nonMSIH_x53328_y22592_patch03389.png: File D:\\Aamir Gulzar\\KSA_project2\\dataset\\Features\\Uni_2h_fivecrop\\TCGA-CL-4957_nonMSIH\\TCGA-CL-4957_nonMSIH_x53328_y22592_patch03389.pt cannot be opened.\n",
      "ERROR:__main__:Error saving D:\\Aamir Gulzar\\KSA_project2\\dataset\\patch_data\\TCGA-CL-4957_nonMSIH\\TCGA-CL-4957_nonMSIH_x53328_y8256_patch03361.png: File D:\\Aamir Gulzar\\KSA_project2\\dataset\\Features\\Uni_2h_fivecrop\\TCGA-CL-4957_nonMSIH\\TCGA-CL-4957_nonMSIH_x53328_y8256_patch03361.pt cannot be opened.\n",
      "ERROR:__main__:Error saving D:\\Aamir Gulzar\\KSA_project2\\dataset\\patch_data\\TCGA-CL-4957_nonMSIH\\TCGA-CL-4957_nonMSIH_x53328_y8768_patch03362.png: File D:\\Aamir Gulzar\\KSA_project2\\dataset\\Features\\Uni_2h_fivecrop\\TCGA-CL-4957_nonMSIH\\TCGA-CL-4957_nonMSIH_x53328_y8768_patch03362.pt cannot be opened.\n",
      "ERROR:__main__:Error saving D:\\Aamir Gulzar\\KSA_project2\\dataset\\patch_data\\TCGA-CL-4957_nonMSIH\\TCGA-CL-4957_nonMSIH_x53328_y9280_patch03363.png: File D:\\Aamir Gulzar\\KSA_project2\\dataset\\Features\\Uni_2h_fivecrop\\TCGA-CL-4957_nonMSIH\\TCGA-CL-4957_nonMSIH_x53328_y9280_patch03363.pt cannot be opened.\n",
      "ERROR:__main__:Error saving D:\\Aamir Gulzar\\KSA_project2\\dataset\\patch_data\\TCGA-CL-4957_nonMSIH\\TCGA-CL-4957_nonMSIH_x53328_y9792_patch03364.png: File D:\\Aamir Gulzar\\KSA_project2\\dataset\\Features\\Uni_2h_fivecrop\\TCGA-CL-4957_nonMSIH\\TCGA-CL-4957_nonMSIH_x53328_y9792_patch03364.pt cannot be opened.\n",
      "ERROR:__main__:Error saving D:\\Aamir Gulzar\\KSA_project2\\dataset\\patch_data\\TCGA-CL-4957_nonMSIH\\TCGA-CL-4957_nonMSIH_x53440_y1232_patch03671.png: File D:\\Aamir Gulzar\\KSA_project2\\dataset\\Features\\Uni_2h_fivecrop\\TCGA-CL-4957_nonMSIH\\TCGA-CL-4957_nonMSIH_x53440_y1232_patch03671.pt cannot be opened.\n",
      "ERROR:__main__:Error saving D:\\Aamir Gulzar\\KSA_project2\\dataset\\patch_data\\TCGA-CL-4957_nonMSIH\\TCGA-CL-4957_nonMSIH_x53440_y1744_patch03672.png: File D:\\Aamir Gulzar\\KSA_project2\\dataset\\Features\\Uni_2h_fivecrop\\TCGA-CL-4957_nonMSIH\\TCGA-CL-4957_nonMSIH_x53440_y1744_patch03672.pt cannot be opened.\n",
      "ERROR:__main__:Error saving D:\\Aamir Gulzar\\KSA_project2\\dataset\\patch_data\\TCGA-CL-4957_nonMSIH\\TCGA-CL-4957_nonMSIH_x53440_y2256_patch03673.png: File D:\\Aamir Gulzar\\KSA_project2\\dataset\\Features\\Uni_2h_fivecrop\\TCGA-CL-4957_nonMSIH\\TCGA-CL-4957_nonMSIH_x53440_y2256_patch03673.pt cannot be opened.\n",
      "ERROR:__main__:Error saving D:\\Aamir Gulzar\\KSA_project2\\dataset\\patch_data\\TCGA-CL-4957_nonMSIH\\TCGA-CL-4957_nonMSIH_x53440_y2768_patch03674.png: File D:\\Aamir Gulzar\\KSA_project2\\dataset\\Features\\Uni_2h_fivecrop\\TCGA-CL-4957_nonMSIH\\TCGA-CL-4957_nonMSIH_x53440_y2768_patch03674.pt cannot be opened.\n",
      "ERROR:__main__:Error saving D:\\Aamir Gulzar\\KSA_project2\\dataset\\patch_data\\TCGA-CL-4957_nonMSIH\\TCGA-CL-4957_nonMSIH_x53440_y3280_patch03675.png: File D:\\Aamir Gulzar\\KSA_project2\\dataset\\Features\\Uni_2h_fivecrop\\TCGA-CL-4957_nonMSIH\\TCGA-CL-4957_nonMSIH_x53440_y3280_patch03675.pt cannot be opened.\n",
      "ERROR:__main__:Error saving D:\\Aamir Gulzar\\KSA_project2\\dataset\\patch_data\\TCGA-CL-4957_nonMSIH\\TCGA-CL-4957_nonMSIH_x53440_y3792_patch03676.png: File D:\\Aamir Gulzar\\KSA_project2\\dataset\\Features\\Uni_2h_fivecrop\\TCGA-CL-4957_nonMSIH\\TCGA-CL-4957_nonMSIH_x53440_y3792_patch03676.pt cannot be opened.\n",
      "ERROR:__main__:Error saving D:\\Aamir Gulzar\\KSA_project2\\dataset\\patch_data\\TCGA-CL-4957_nonMSIH\\TCGA-CL-4957_nonMSIH_x53440_y4304_patch03677.png: File D:\\Aamir Gulzar\\KSA_project2\\dataset\\Features\\Uni_2h_fivecrop\\TCGA-CL-4957_nonMSIH\\TCGA-CL-4957_nonMSIH_x53440_y4304_patch03677.pt cannot be opened.\n",
      "ERROR:__main__:Error saving D:\\Aamir Gulzar\\KSA_project2\\dataset\\patch_data\\TCGA-CL-4957_nonMSIH\\TCGA-CL-4957_nonMSIH_x53840_y10304_patch03394.png: File D:\\Aamir Gulzar\\KSA_project2\\dataset\\Features\\Uni_2h_fivecrop\\TCGA-CL-4957_nonMSIH\\TCGA-CL-4957_nonMSIH_x53840_y10304_patch03394.pt cannot be opened.\n",
      "ERROR:__main__:Error saving D:\\Aamir Gulzar\\KSA_project2\\dataset\\patch_data\\TCGA-CL-4957_nonMSIH\\TCGA-CL-4957_nonMSIH_x53840_y10816_patch03395.png: File D:\\Aamir Gulzar\\KSA_project2\\dataset\\Features\\Uni_2h_fivecrop\\TCGA-CL-4957_nonMSIH\\TCGA-CL-4957_nonMSIH_x53840_y10816_patch03395.pt cannot be opened.\n",
      "ERROR:__main__:Error saving D:\\Aamir Gulzar\\KSA_project2\\dataset\\patch_data\\TCGA-CL-4957_nonMSIH\\TCGA-CL-4957_nonMSIH_x53840_y11328_patch03396.png: File D:\\Aamir Gulzar\\KSA_project2\\dataset\\Features\\Uni_2h_fivecrop\\TCGA-CL-4957_nonMSIH\\TCGA-CL-4957_nonMSIH_x53840_y11328_patch03396.pt cannot be opened.\n",
      "ERROR:__main__:Error saving D:\\Aamir Gulzar\\KSA_project2\\dataset\\patch_data\\TCGA-CL-4957_nonMSIH\\TCGA-CL-4957_nonMSIH_x53840_y11840_patch03397.png: File D:\\Aamir Gulzar\\KSA_project2\\dataset\\Features\\Uni_2h_fivecrop\\TCGA-CL-4957_nonMSIH\\TCGA-CL-4957_nonMSIH_x53840_y11840_patch03397.pt cannot be opened.\n",
      "ERROR:__main__:Error saving D:\\Aamir Gulzar\\KSA_project2\\dataset\\patch_data\\TCGA-CL-4957_nonMSIH\\TCGA-CL-4957_nonMSIH_x53840_y12352_patch03398.png: File D:\\Aamir Gulzar\\KSA_project2\\dataset\\Features\\Uni_2h_fivecrop\\TCGA-CL-4957_nonMSIH\\TCGA-CL-4957_nonMSIH_x53840_y12352_patch03398.pt cannot be opened.\n",
      "ERROR:__main__:Error saving D:\\Aamir Gulzar\\KSA_project2\\dataset\\patch_data\\TCGA-CL-4957_nonMSIH\\TCGA-CL-4957_nonMSIH_x53840_y12864_patch03399.png: File D:\\Aamir Gulzar\\KSA_project2\\dataset\\Features\\Uni_2h_fivecrop\\TCGA-CL-4957_nonMSIH\\TCGA-CL-4957_nonMSIH_x53840_y12864_patch03399.pt cannot be opened.\n",
      "ERROR:__main__:Error saving D:\\Aamir Gulzar\\KSA_project2\\dataset\\patch_data\\TCGA-CL-4957_nonMSIH\\TCGA-CL-4957_nonMSIH_x53840_y13376_patch03400.png: File D:\\Aamir Gulzar\\KSA_project2\\dataset\\Features\\Uni_2h_fivecrop\\TCGA-CL-4957_nonMSIH\\TCGA-CL-4957_nonMSIH_x53840_y13376_patch03400.pt cannot be opened.\n",
      "ERROR:__main__:Error saving D:\\Aamir Gulzar\\KSA_project2\\dataset\\patch_data\\TCGA-CL-4957_nonMSIH\\TCGA-CL-4957_nonMSIH_x53840_y13888_patch03401.png: File D:\\Aamir Gulzar\\KSA_project2\\dataset\\Features\\Uni_2h_fivecrop\\TCGA-CL-4957_nonMSIH\\TCGA-CL-4957_nonMSIH_x53840_y13888_patch03401.pt cannot be opened.\n",
      "ERROR:__main__:Error saving D:\\Aamir Gulzar\\KSA_project2\\dataset\\patch_data\\TCGA-CL-4957_nonMSIH\\TCGA-CL-4957_nonMSIH_x53840_y14400_patch03402.png: File D:\\Aamir Gulzar\\KSA_project2\\dataset\\Features\\Uni_2h_fivecrop\\TCGA-CL-4957_nonMSIH\\TCGA-CL-4957_nonMSIH_x53840_y14400_patch03402.pt cannot be opened.\n",
      "ERROR:__main__:Error saving D:\\Aamir Gulzar\\KSA_project2\\dataset\\patch_data\\TCGA-CL-4957_nonMSIH\\TCGA-CL-4957_nonMSIH_x53840_y14912_patch03403.png: File D:\\Aamir Gulzar\\KSA_project2\\dataset\\Features\\Uni_2h_fivecrop\\TCGA-CL-4957_nonMSIH\\TCGA-CL-4957_nonMSIH_x53840_y14912_patch03403.pt cannot be opened.\n",
      "ERROR:__main__:Error saving D:\\Aamir Gulzar\\KSA_project2\\dataset\\patch_data\\TCGA-CL-4957_nonMSIH\\TCGA-CL-4957_nonMSIH_x53840_y15424_patch03404.png: File D:\\Aamir Gulzar\\KSA_project2\\dataset\\Features\\Uni_2h_fivecrop\\TCGA-CL-4957_nonMSIH\\TCGA-CL-4957_nonMSIH_x53840_y15424_patch03404.pt cannot be opened.\n",
      "ERROR:__main__:Error saving D:\\Aamir Gulzar\\KSA_project2\\dataset\\patch_data\\TCGA-CL-4957_nonMSIH\\TCGA-CL-4957_nonMSIH_x53840_y15936_patch03405.png: File D:\\Aamir Gulzar\\KSA_project2\\dataset\\Features\\Uni_2h_fivecrop\\TCGA-CL-4957_nonMSIH\\TCGA-CL-4957_nonMSIH_x53840_y15936_patch03405.pt cannot be opened.\n",
      "ERROR:__main__:Error saving D:\\Aamir Gulzar\\KSA_project2\\dataset\\patch_data\\TCGA-CL-4957_nonMSIH\\TCGA-CL-4957_nonMSIH_x53840_y16448_patch03406.png: File D:\\Aamir Gulzar\\KSA_project2\\dataset\\Features\\Uni_2h_fivecrop\\TCGA-CL-4957_nonMSIH\\TCGA-CL-4957_nonMSIH_x53840_y16448_patch03406.pt cannot be opened.\n",
      "ERROR:__main__:Error saving D:\\Aamir Gulzar\\KSA_project2\\dataset\\patch_data\\TCGA-CL-4957_nonMSIH\\TCGA-CL-4957_nonMSIH_x53840_y16960_patch03407.png: File D:\\Aamir Gulzar\\KSA_project2\\dataset\\Features\\Uni_2h_fivecrop\\TCGA-CL-4957_nonMSIH\\TCGA-CL-4957_nonMSIH_x53840_y16960_patch03407.pt cannot be opened.\n",
      "ERROR:__main__:Error saving D:\\Aamir Gulzar\\KSA_project2\\dataset\\patch_data\\TCGA-CL-4957_nonMSIH\\TCGA-CL-4957_nonMSIH_x53840_y17472_patch03408.png: File D:\\Aamir Gulzar\\KSA_project2\\dataset\\Features\\Uni_2h_fivecrop\\TCGA-CL-4957_nonMSIH\\TCGA-CL-4957_nonMSIH_x53840_y17472_patch03408.pt cannot be opened.\n",
      "ERROR:__main__:Error saving D:\\Aamir Gulzar\\KSA_project2\\dataset\\patch_data\\TCGA-CL-4957_nonMSIH\\TCGA-CL-4957_nonMSIH_x53840_y17984_patch03409.png: File D:\\Aamir Gulzar\\KSA_project2\\dataset\\Features\\Uni_2h_fivecrop\\TCGA-CL-4957_nonMSIH\\TCGA-CL-4957_nonMSIH_x53840_y17984_patch03409.pt cannot be opened.\n",
      "ERROR:__main__:Error saving D:\\Aamir Gulzar\\KSA_project2\\dataset\\patch_data\\TCGA-CL-4957_nonMSIH\\TCGA-CL-4957_nonMSIH_x53840_y18496_patch03410.png: File D:\\Aamir Gulzar\\KSA_project2\\dataset\\Features\\Uni_2h_fivecrop\\TCGA-CL-4957_nonMSIH\\TCGA-CL-4957_nonMSIH_x53840_y18496_patch03410.pt cannot be opened.\n",
      "ERROR:__main__:Error saving D:\\Aamir Gulzar\\KSA_project2\\dataset\\patch_data\\TCGA-CL-4957_nonMSIH\\TCGA-CL-4957_nonMSIH_x53840_y19008_patch03411.png: File D:\\Aamir Gulzar\\KSA_project2\\dataset\\Features\\Uni_2h_fivecrop\\TCGA-CL-4957_nonMSIH\\TCGA-CL-4957_nonMSIH_x53840_y19008_patch03411.pt cannot be opened.\n",
      "ERROR:__main__:Error saving D:\\Aamir Gulzar\\KSA_project2\\dataset\\patch_data\\TCGA-CL-4957_nonMSIH\\TCGA-CL-4957_nonMSIH_x53840_y19520_patch03412.png: File D:\\Aamir Gulzar\\KSA_project2\\dataset\\Features\\Uni_2h_fivecrop\\TCGA-CL-4957_nonMSIH\\TCGA-CL-4957_nonMSIH_x53840_y19520_patch03412.pt cannot be opened.\n",
      "ERROR:__main__:Error saving D:\\Aamir Gulzar\\KSA_project2\\dataset\\patch_data\\TCGA-CL-4957_nonMSIH\\TCGA-CL-4957_nonMSIH_x53840_y20032_patch03413.png: File D:\\Aamir Gulzar\\KSA_project2\\dataset\\Features\\Uni_2h_fivecrop\\TCGA-CL-4957_nonMSIH\\TCGA-CL-4957_nonMSIH_x53840_y20032_patch03413.pt cannot be opened.\n",
      "ERROR:__main__:Error saving D:\\Aamir Gulzar\\KSA_project2\\dataset\\patch_data\\TCGA-CL-4957_nonMSIH\\TCGA-CL-4957_nonMSIH_x53840_y20544_patch03414.png: File D:\\Aamir Gulzar\\KSA_project2\\dataset\\Features\\Uni_2h_fivecrop\\TCGA-CL-4957_nonMSIH\\TCGA-CL-4957_nonMSIH_x53840_y20544_patch03414.pt cannot be opened.\n",
      "ERROR:__main__:Error saving D:\\Aamir Gulzar\\KSA_project2\\dataset\\patch_data\\TCGA-CL-4957_nonMSIH\\TCGA-CL-4957_nonMSIH_x53840_y21056_patch03415.png: File D:\\Aamir Gulzar\\KSA_project2\\dataset\\Features\\Uni_2h_fivecrop\\TCGA-CL-4957_nonMSIH\\TCGA-CL-4957_nonMSIH_x53840_y21056_patch03415.pt cannot be opened.\n",
      "ERROR:__main__:Error saving D:\\Aamir Gulzar\\KSA_project2\\dataset\\patch_data\\TCGA-CL-4957_nonMSIH\\TCGA-CL-4957_nonMSIH_x53840_y22080_patch03417.png: File D:\\Aamir Gulzar\\KSA_project2\\dataset\\Features\\Uni_2h_fivecrop\\TCGA-CL-4957_nonMSIH\\TCGA-CL-4957_nonMSIH_x53840_y22080_patch03417.pt cannot be opened.\n",
      "ERROR:__main__:Error saving D:\\Aamir Gulzar\\KSA_project2\\dataset\\patch_data\\TCGA-CL-4957_nonMSIH\\TCGA-CL-4957_nonMSIH_x53840_y21568_patch03416.png: File D:\\Aamir Gulzar\\KSA_project2\\dataset\\Features\\Uni_2h_fivecrop\\TCGA-CL-4957_nonMSIH\\TCGA-CL-4957_nonMSIH_x53840_y21568_patch03416.pt cannot be opened.\n",
      "ERROR:__main__:Error saving D:\\Aamir Gulzar\\KSA_project2\\dataset\\patch_data\\TCGA-CL-4957_nonMSIH\\TCGA-CL-4957_nonMSIH_x53840_y22592_patch03418.png: File D:\\Aamir Gulzar\\KSA_project2\\dataset\\Features\\Uni_2h_fivecrop\\TCGA-CL-4957_nonMSIH\\TCGA-CL-4957_nonMSIH_x53840_y22592_patch03418.pt cannot be opened.\n",
      "ERROR:__main__:Error saving D:\\Aamir Gulzar\\KSA_project2\\dataset\\patch_data\\TCGA-CL-4957_nonMSIH\\TCGA-CL-4957_nonMSIH_x53840_y8256_patch03390.png: File D:\\Aamir Gulzar\\KSA_project2\\dataset\\Features\\Uni_2h_fivecrop\\TCGA-CL-4957_nonMSIH\\TCGA-CL-4957_nonMSIH_x53840_y8256_patch03390.pt cannot be opened.\n",
      "ERROR:__main__:Error saving D:\\Aamir Gulzar\\KSA_project2\\dataset\\patch_data\\TCGA-CL-4957_nonMSIH\\TCGA-CL-4957_nonMSIH_x53840_y8768_patch03391.png: File D:\\Aamir Gulzar\\KSA_project2\\dataset\\Features\\Uni_2h_fivecrop\\TCGA-CL-4957_nonMSIH\\TCGA-CL-4957_nonMSIH_x53840_y8768_patch03391.pt cannot be opened.\n",
      "ERROR:__main__:Error saving D:\\Aamir Gulzar\\KSA_project2\\dataset\\patch_data\\TCGA-CL-4957_nonMSIH\\TCGA-CL-4957_nonMSIH_x53840_y9280_patch03392.png: File D:\\Aamir Gulzar\\KSA_project2\\dataset\\Features\\Uni_2h_fivecrop\\TCGA-CL-4957_nonMSIH\\TCGA-CL-4957_nonMSIH_x53840_y9280_patch03392.pt cannot be opened.\n",
      "ERROR:__main__:Error saving D:\\Aamir Gulzar\\KSA_project2\\dataset\\patch_data\\TCGA-CL-4957_nonMSIH\\TCGA-CL-4957_nonMSIH_x53840_y9792_patch03393.png: File D:\\Aamir Gulzar\\KSA_project2\\dataset\\Features\\Uni_2h_fivecrop\\TCGA-CL-4957_nonMSIH\\TCGA-CL-4957_nonMSIH_x53840_y9792_patch03393.pt cannot be opened.\n",
      "ERROR:__main__:Error saving D:\\Aamir Gulzar\\KSA_project2\\dataset\\patch_data\\TCGA-CL-4957_nonMSIH\\TCGA-CL-4957_nonMSIH_x53952_y1744_patch03678.png: File D:\\Aamir Gulzar\\KSA_project2\\dataset\\Features\\Uni_2h_fivecrop\\TCGA-CL-4957_nonMSIH\\TCGA-CL-4957_nonMSIH_x53952_y1744_patch03678.pt cannot be opened.\n",
      "ERROR:__main__:Error saving D:\\Aamir Gulzar\\KSA_project2\\dataset\\patch_data\\TCGA-CL-4957_nonMSIH\\TCGA-CL-4957_nonMSIH_x53952_y2256_patch03679.png: File D:\\Aamir Gulzar\\KSA_project2\\dataset\\Features\\Uni_2h_fivecrop\\TCGA-CL-4957_nonMSIH\\TCGA-CL-4957_nonMSIH_x53952_y2256_patch03679.pt cannot be opened.\n",
      "ERROR:__main__:Error saving D:\\Aamir Gulzar\\KSA_project2\\dataset\\patch_data\\TCGA-CL-4957_nonMSIH\\TCGA-CL-4957_nonMSIH_x53952_y2768_patch03680.png: File D:\\Aamir Gulzar\\KSA_project2\\dataset\\Features\\Uni_2h_fivecrop\\TCGA-CL-4957_nonMSIH\\TCGA-CL-4957_nonMSIH_x53952_y2768_patch03680.pt cannot be opened.\n",
      "ERROR:__main__:Error saving D:\\Aamir Gulzar\\KSA_project2\\dataset\\patch_data\\TCGA-CL-4957_nonMSIH\\TCGA-CL-4957_nonMSIH_x53952_y3280_patch03681.png: File D:\\Aamir Gulzar\\KSA_project2\\dataset\\Features\\Uni_2h_fivecrop\\TCGA-CL-4957_nonMSIH\\TCGA-CL-4957_nonMSIH_x53952_y3280_patch03681.pt cannot be opened.\n",
      "ERROR:__main__:Error saving D:\\Aamir Gulzar\\KSA_project2\\dataset\\patch_data\\TCGA-CL-4957_nonMSIH\\TCGA-CL-4957_nonMSIH_x54352_y10304_patch03423.png: File D:\\Aamir Gulzar\\KSA_project2\\dataset\\Features\\Uni_2h_fivecrop\\TCGA-CL-4957_nonMSIH\\TCGA-CL-4957_nonMSIH_x54352_y10304_patch03423.pt cannot be opened.\n",
      "ERROR:__main__:Error saving D:\\Aamir Gulzar\\KSA_project2\\dataset\\patch_data\\TCGA-CL-4957_nonMSIH\\TCGA-CL-4957_nonMSIH_x54352_y10816_patch03424.png: File D:\\Aamir Gulzar\\KSA_project2\\dataset\\Features\\Uni_2h_fivecrop\\TCGA-CL-4957_nonMSIH\\TCGA-CL-4957_nonMSIH_x54352_y10816_patch03424.pt cannot be opened.\n",
      "ERROR:__main__:Error saving D:\\Aamir Gulzar\\KSA_project2\\dataset\\patch_data\\TCGA-CL-4957_nonMSIH\\TCGA-CL-4957_nonMSIH_x54352_y11328_patch03425.png: File D:\\Aamir Gulzar\\KSA_project2\\dataset\\Features\\Uni_2h_fivecrop\\TCGA-CL-4957_nonMSIH\\TCGA-CL-4957_nonMSIH_x54352_y11328_patch03425.pt cannot be opened.\n",
      "ERROR:__main__:Error saving D:\\Aamir Gulzar\\KSA_project2\\dataset\\patch_data\\TCGA-CL-4957_nonMSIH\\TCGA-CL-4957_nonMSIH_x54352_y11840_patch03426.png: File D:\\Aamir Gulzar\\KSA_project2\\dataset\\Features\\Uni_2h_fivecrop\\TCGA-CL-4957_nonMSIH\\TCGA-CL-4957_nonMSIH_x54352_y11840_patch03426.pt cannot be opened.\n",
      "ERROR:__main__:Error saving D:\\Aamir Gulzar\\KSA_project2\\dataset\\patch_data\\TCGA-CL-4957_nonMSIH\\TCGA-CL-4957_nonMSIH_x54352_y12352_patch03427.png: File D:\\Aamir Gulzar\\KSA_project2\\dataset\\Features\\Uni_2h_fivecrop\\TCGA-CL-4957_nonMSIH\\TCGA-CL-4957_nonMSIH_x54352_y12352_patch03427.pt cannot be opened.\n",
      "ERROR:__main__:Error saving D:\\Aamir Gulzar\\KSA_project2\\dataset\\patch_data\\TCGA-CL-4957_nonMSIH\\TCGA-CL-4957_nonMSIH_x54352_y12864_patch03428.png: File D:\\Aamir Gulzar\\KSA_project2\\dataset\\Features\\Uni_2h_fivecrop\\TCGA-CL-4957_nonMSIH\\TCGA-CL-4957_nonMSIH_x54352_y12864_patch03428.pt cannot be opened.\n",
      "ERROR:__main__:Error saving D:\\Aamir Gulzar\\KSA_project2\\dataset\\patch_data\\TCGA-CL-4957_nonMSIH\\TCGA-CL-4957_nonMSIH_x54352_y13376_patch03429.png: File D:\\Aamir Gulzar\\KSA_project2\\dataset\\Features\\Uni_2h_fivecrop\\TCGA-CL-4957_nonMSIH\\TCGA-CL-4957_nonMSIH_x54352_y13376_patch03429.pt cannot be opened.\n",
      "ERROR:__main__:Error saving D:\\Aamir Gulzar\\KSA_project2\\dataset\\patch_data\\TCGA-CL-4957_nonMSIH\\TCGA-CL-4957_nonMSIH_x54352_y13888_patch03430.png: File D:\\Aamir Gulzar\\KSA_project2\\dataset\\Features\\Uni_2h_fivecrop\\TCGA-CL-4957_nonMSIH\\TCGA-CL-4957_nonMSIH_x54352_y13888_patch03430.pt cannot be opened.\n",
      "ERROR:__main__:Error saving D:\\Aamir Gulzar\\KSA_project2\\dataset\\patch_data\\TCGA-CL-4957_nonMSIH\\TCGA-CL-4957_nonMSIH_x54352_y14400_patch03431.png: File D:\\Aamir Gulzar\\KSA_project2\\dataset\\Features\\Uni_2h_fivecrop\\TCGA-CL-4957_nonMSIH\\TCGA-CL-4957_nonMSIH_x54352_y14400_patch03431.pt cannot be opened.\n",
      "ERROR:__main__:Error saving D:\\Aamir Gulzar\\KSA_project2\\dataset\\patch_data\\TCGA-CL-4957_nonMSIH\\TCGA-CL-4957_nonMSIH_x54352_y14912_patch03432.png: File D:\\Aamir Gulzar\\KSA_project2\\dataset\\Features\\Uni_2h_fivecrop\\TCGA-CL-4957_nonMSIH\\TCGA-CL-4957_nonMSIH_x54352_y14912_patch03432.pt cannot be opened.\n",
      "ERROR:__main__:Error saving D:\\Aamir Gulzar\\KSA_project2\\dataset\\patch_data\\TCGA-CL-4957_nonMSIH\\TCGA-CL-4957_nonMSIH_x54352_y15424_patch03433.png: File D:\\Aamir Gulzar\\KSA_project2\\dataset\\Features\\Uni_2h_fivecrop\\TCGA-CL-4957_nonMSIH\\TCGA-CL-4957_nonMSIH_x54352_y15424_patch03433.pt cannot be opened.\n",
      "ERROR:__main__:Error saving D:\\Aamir Gulzar\\KSA_project2\\dataset\\patch_data\\TCGA-CL-4957_nonMSIH\\TCGA-CL-4957_nonMSIH_x54352_y15936_patch03434.png: File D:\\Aamir Gulzar\\KSA_project2\\dataset\\Features\\Uni_2h_fivecrop\\TCGA-CL-4957_nonMSIH\\TCGA-CL-4957_nonMSIH_x54352_y15936_patch03434.pt cannot be opened.\n",
      "ERROR:__main__:Error saving D:\\Aamir Gulzar\\KSA_project2\\dataset\\patch_data\\TCGA-CL-4957_nonMSIH\\TCGA-CL-4957_nonMSIH_x54352_y16448_patch03435.png: File D:\\Aamir Gulzar\\KSA_project2\\dataset\\Features\\Uni_2h_fivecrop\\TCGA-CL-4957_nonMSIH\\TCGA-CL-4957_nonMSIH_x54352_y16448_patch03435.pt cannot be opened.\n",
      "ERROR:__main__:Error saving D:\\Aamir Gulzar\\KSA_project2\\dataset\\patch_data\\TCGA-CL-4957_nonMSIH\\TCGA-CL-4957_nonMSIH_x54352_y16960_patch03436.png: File D:\\Aamir Gulzar\\KSA_project2\\dataset\\Features\\Uni_2h_fivecrop\\TCGA-CL-4957_nonMSIH\\TCGA-CL-4957_nonMSIH_x54352_y16960_patch03436.pt cannot be opened.\n",
      "ERROR:__main__:Error saving D:\\Aamir Gulzar\\KSA_project2\\dataset\\patch_data\\TCGA-CL-4957_nonMSIH\\TCGA-CL-4957_nonMSIH_x54352_y17472_patch03437.png: File D:\\Aamir Gulzar\\KSA_project2\\dataset\\Features\\Uni_2h_fivecrop\\TCGA-CL-4957_nonMSIH\\TCGA-CL-4957_nonMSIH_x54352_y17472_patch03437.pt cannot be opened.\n",
      "ERROR:__main__:Error saving D:\\Aamir Gulzar\\KSA_project2\\dataset\\patch_data\\TCGA-CL-4957_nonMSIH\\TCGA-CL-4957_nonMSIH_x54352_y17984_patch03438.png: File D:\\Aamir Gulzar\\KSA_project2\\dataset\\Features\\Uni_2h_fivecrop\\TCGA-CL-4957_nonMSIH\\TCGA-CL-4957_nonMSIH_x54352_y17984_patch03438.pt cannot be opened.\n",
      "ERROR:__main__:Error saving D:\\Aamir Gulzar\\KSA_project2\\dataset\\patch_data\\TCGA-CL-4957_nonMSIH\\TCGA-CL-4957_nonMSIH_x54352_y18496_patch03439.png: File D:\\Aamir Gulzar\\KSA_project2\\dataset\\Features\\Uni_2h_fivecrop\\TCGA-CL-4957_nonMSIH\\TCGA-CL-4957_nonMSIH_x54352_y18496_patch03439.pt cannot be opened.\n",
      "ERROR:__main__:Error saving D:\\Aamir Gulzar\\KSA_project2\\dataset\\patch_data\\TCGA-CL-4957_nonMSIH\\TCGA-CL-4957_nonMSIH_x54352_y19008_patch03440.png: File D:\\Aamir Gulzar\\KSA_project2\\dataset\\Features\\Uni_2h_fivecrop\\TCGA-CL-4957_nonMSIH\\TCGA-CL-4957_nonMSIH_x54352_y19008_patch03440.pt cannot be opened.\n",
      "ERROR:__main__:Error saving D:\\Aamir Gulzar\\KSA_project2\\dataset\\patch_data\\TCGA-CL-4957_nonMSIH\\TCGA-CL-4957_nonMSIH_x54352_y19520_patch03441.png: File D:\\Aamir Gulzar\\KSA_project2\\dataset\\Features\\Uni_2h_fivecrop\\TCGA-CL-4957_nonMSIH\\TCGA-CL-4957_nonMSIH_x54352_y19520_patch03441.pt cannot be opened.\n",
      "ERROR:__main__:Error saving D:\\Aamir Gulzar\\KSA_project2\\dataset\\patch_data\\TCGA-CL-4957_nonMSIH\\TCGA-CL-4957_nonMSIH_x54352_y20032_patch03442.png: File D:\\Aamir Gulzar\\KSA_project2\\dataset\\Features\\Uni_2h_fivecrop\\TCGA-CL-4957_nonMSIH\\TCGA-CL-4957_nonMSIH_x54352_y20032_patch03442.pt cannot be opened.\n",
      "ERROR:__main__:Error saving D:\\Aamir Gulzar\\KSA_project2\\dataset\\patch_data\\TCGA-CL-4957_nonMSIH\\TCGA-CL-4957_nonMSIH_x54352_y20544_patch03443.png: File D:\\Aamir Gulzar\\KSA_project2\\dataset\\Features\\Uni_2h_fivecrop\\TCGA-CL-4957_nonMSIH\\TCGA-CL-4957_nonMSIH_x54352_y20544_patch03443.pt cannot be opened.\n",
      "ERROR:__main__:Error saving D:\\Aamir Gulzar\\KSA_project2\\dataset\\patch_data\\TCGA-CL-4957_nonMSIH\\TCGA-CL-4957_nonMSIH_x54352_y21056_patch03444.png: File D:\\Aamir Gulzar\\KSA_project2\\dataset\\Features\\Uni_2h_fivecrop\\TCGA-CL-4957_nonMSIH\\TCGA-CL-4957_nonMSIH_x54352_y21056_patch03444.pt cannot be opened.\n",
      "ERROR:__main__:Error saving D:\\Aamir Gulzar\\KSA_project2\\dataset\\patch_data\\TCGA-CL-4957_nonMSIH\\TCGA-CL-4957_nonMSIH_x54352_y21568_patch03445.png: File D:\\Aamir Gulzar\\KSA_project2\\dataset\\Features\\Uni_2h_fivecrop\\TCGA-CL-4957_nonMSIH\\TCGA-CL-4957_nonMSIH_x54352_y21568_patch03445.pt cannot be opened.\n",
      "ERROR:__main__:Error saving D:\\Aamir Gulzar\\KSA_project2\\dataset\\patch_data\\TCGA-CL-4957_nonMSIH\\TCGA-CL-4957_nonMSIH_x54352_y22080_patch03446.png: File D:\\Aamir Gulzar\\KSA_project2\\dataset\\Features\\Uni_2h_fivecrop\\TCGA-CL-4957_nonMSIH\\TCGA-CL-4957_nonMSIH_x54352_y22080_patch03446.pt cannot be opened.\n",
      "ERROR:__main__:Error saving D:\\Aamir Gulzar\\KSA_project2\\dataset\\patch_data\\TCGA-CL-4957_nonMSIH\\TCGA-CL-4957_nonMSIH_x54352_y8256_patch03419.png: File D:\\Aamir Gulzar\\KSA_project2\\dataset\\Features\\Uni_2h_fivecrop\\TCGA-CL-4957_nonMSIH\\TCGA-CL-4957_nonMSIH_x54352_y8256_patch03419.pt cannot be opened.\n",
      "ERROR:__main__:Error saving D:\\Aamir Gulzar\\KSA_project2\\dataset\\patch_data\\TCGA-CL-4957_nonMSIH\\TCGA-CL-4957_nonMSIH_x54352_y8768_patch03420.png: File D:\\Aamir Gulzar\\KSA_project2\\dataset\\Features\\Uni_2h_fivecrop\\TCGA-CL-4957_nonMSIH\\TCGA-CL-4957_nonMSIH_x54352_y8768_patch03420.pt cannot be opened.\n",
      "ERROR:__main__:Error saving D:\\Aamir Gulzar\\KSA_project2\\dataset\\patch_data\\TCGA-CL-4957_nonMSIH\\TCGA-CL-4957_nonMSIH_x54352_y9280_patch03421.png: File D:\\Aamir Gulzar\\KSA_project2\\dataset\\Features\\Uni_2h_fivecrop\\TCGA-CL-4957_nonMSIH\\TCGA-CL-4957_nonMSIH_x54352_y9280_patch03421.pt cannot be opened.\n",
      "ERROR:__main__:Error saving D:\\Aamir Gulzar\\KSA_project2\\dataset\\patch_data\\TCGA-CL-4957_nonMSIH\\TCGA-CL-4957_nonMSIH_x54352_y9792_patch03422.png: File D:\\Aamir Gulzar\\KSA_project2\\dataset\\Features\\Uni_2h_fivecrop\\TCGA-CL-4957_nonMSIH\\TCGA-CL-4957_nonMSIH_x54352_y9792_patch03422.pt cannot be opened.\n",
      "ERROR:__main__:Error saving D:\\Aamir Gulzar\\KSA_project2\\dataset\\patch_data\\TCGA-CL-4957_nonMSIH\\TCGA-CL-4957_nonMSIH_x54464_y2768_patch03683.png: File D:\\Aamir Gulzar\\KSA_project2\\dataset\\Features\\Uni_2h_fivecrop\\TCGA-CL-4957_nonMSIH\\TCGA-CL-4957_nonMSIH_x54464_y2768_patch03683.pt cannot be opened.\n",
      "ERROR:__main__:Error saving D:\\Aamir Gulzar\\KSA_project2\\dataset\\patch_data\\TCGA-CL-4957_nonMSIH\\TCGA-CL-4957_nonMSIH_x54864_y10304_patch03451.png: File D:\\Aamir Gulzar\\KSA_project2\\dataset\\Features\\Uni_2h_fivecrop\\TCGA-CL-4957_nonMSIH\\TCGA-CL-4957_nonMSIH_x54864_y10304_patch03451.pt cannot be opened.\n",
      "ERROR:__main__:Error saving D:\\Aamir Gulzar\\KSA_project2\\dataset\\patch_data\\TCGA-CL-4957_nonMSIH\\TCGA-CL-4957_nonMSIH_x54864_y10816_patch03452.png: File D:\\Aamir Gulzar\\KSA_project2\\dataset\\Features\\Uni_2h_fivecrop\\TCGA-CL-4957_nonMSIH\\TCGA-CL-4957_nonMSIH_x54864_y10816_patch03452.pt cannot be opened.\n",
      "ERROR:__main__:Error saving D:\\Aamir Gulzar\\KSA_project2\\dataset\\patch_data\\TCGA-CL-4957_nonMSIH\\TCGA-CL-4957_nonMSIH_x54864_y11328_patch03453.png: File D:\\Aamir Gulzar\\KSA_project2\\dataset\\Features\\Uni_2h_fivecrop\\TCGA-CL-4957_nonMSIH\\TCGA-CL-4957_nonMSIH_x54864_y11328_patch03453.pt cannot be opened.\n",
      "ERROR:__main__:Error saving D:\\Aamir Gulzar\\KSA_project2\\dataset\\patch_data\\TCGA-CL-4957_nonMSIH\\TCGA-CL-4957_nonMSIH_x54864_y11840_patch03454.png: File D:\\Aamir Gulzar\\KSA_project2\\dataset\\Features\\Uni_2h_fivecrop\\TCGA-CL-4957_nonMSIH\\TCGA-CL-4957_nonMSIH_x54864_y11840_patch03454.pt cannot be opened.\n",
      "ERROR:__main__:Error saving D:\\Aamir Gulzar\\KSA_project2\\dataset\\patch_data\\TCGA-CL-4957_nonMSIH\\TCGA-CL-4957_nonMSIH_x54864_y12352_patch03455.png: File D:\\Aamir Gulzar\\KSA_project2\\dataset\\Features\\Uni_2h_fivecrop\\TCGA-CL-4957_nonMSIH\\TCGA-CL-4957_nonMSIH_x54864_y12352_patch03455.pt cannot be opened.\n",
      "ERROR:__main__:Error saving D:\\Aamir Gulzar\\KSA_project2\\dataset\\patch_data\\TCGA-CL-4957_nonMSIH\\TCGA-CL-4957_nonMSIH_x54864_y12864_patch03456.png: File D:\\Aamir Gulzar\\KSA_project2\\dataset\\Features\\Uni_2h_fivecrop\\TCGA-CL-4957_nonMSIH\\TCGA-CL-4957_nonMSIH_x54864_y12864_patch03456.pt cannot be opened.\n",
      "ERROR:__main__:Error saving D:\\Aamir Gulzar\\KSA_project2\\dataset\\patch_data\\TCGA-CL-4957_nonMSIH\\TCGA-CL-4957_nonMSIH_x54864_y13376_patch03457.png: File D:\\Aamir Gulzar\\KSA_project2\\dataset\\Features\\Uni_2h_fivecrop\\TCGA-CL-4957_nonMSIH\\TCGA-CL-4957_nonMSIH_x54864_y13376_patch03457.pt cannot be opened.\n",
      "ERROR:__main__:Error saving D:\\Aamir Gulzar\\KSA_project2\\dataset\\patch_data\\TCGA-CL-4957_nonMSIH\\TCGA-CL-4957_nonMSIH_x54864_y13888_patch03458.png: File D:\\Aamir Gulzar\\KSA_project2\\dataset\\Features\\Uni_2h_fivecrop\\TCGA-CL-4957_nonMSIH\\TCGA-CL-4957_nonMSIH_x54864_y13888_patch03458.pt cannot be opened.\n",
      "ERROR:__main__:Error saving D:\\Aamir Gulzar\\KSA_project2\\dataset\\patch_data\\TCGA-CL-4957_nonMSIH\\TCGA-CL-4957_nonMSIH_x54864_y14400_patch03459.png: File D:\\Aamir Gulzar\\KSA_project2\\dataset\\Features\\Uni_2h_fivecrop\\TCGA-CL-4957_nonMSIH\\TCGA-CL-4957_nonMSIH_x54864_y14400_patch03459.pt cannot be opened.\n",
      "ERROR:__main__:Error saving D:\\Aamir Gulzar\\KSA_project2\\dataset\\patch_data\\TCGA-CL-4957_nonMSIH\\TCGA-CL-4957_nonMSIH_x54864_y14912_patch03460.png: File D:\\Aamir Gulzar\\KSA_project2\\dataset\\Features\\Uni_2h_fivecrop\\TCGA-CL-4957_nonMSIH\\TCGA-CL-4957_nonMSIH_x54864_y14912_patch03460.pt cannot be opened.\n",
      "ERROR:__main__:Error saving D:\\Aamir Gulzar\\KSA_project2\\dataset\\patch_data\\TCGA-CL-4957_nonMSIH\\TCGA-CL-4957_nonMSIH_x54864_y16448_patch03462.png: File D:\\Aamir Gulzar\\KSA_project2\\dataset\\Features\\Uni_2h_fivecrop\\TCGA-CL-4957_nonMSIH\\TCGA-CL-4957_nonMSIH_x54864_y16448_patch03462.pt cannot be opened.\n",
      "ERROR:__main__:Error saving D:\\Aamir Gulzar\\KSA_project2\\dataset\\patch_data\\TCGA-CL-4957_nonMSIH\\TCGA-CL-4957_nonMSIH_x54864_y15936_patch03461.png: File D:\\Aamir Gulzar\\KSA_project2\\dataset\\Features\\Uni_2h_fivecrop\\TCGA-CL-4957_nonMSIH\\TCGA-CL-4957_nonMSIH_x54864_y15936_patch03461.pt cannot be opened.\n",
      "ERROR:__main__:Error saving D:\\Aamir Gulzar\\KSA_project2\\dataset\\patch_data\\TCGA-CL-4957_nonMSIH\\TCGA-CL-4957_nonMSIH_x54864_y16960_patch03463.png: File D:\\Aamir Gulzar\\KSA_project2\\dataset\\Features\\Uni_2h_fivecrop\\TCGA-CL-4957_nonMSIH\\TCGA-CL-4957_nonMSIH_x54864_y16960_patch03463.pt cannot be opened.\n",
      "ERROR:__main__:Error saving D:\\Aamir Gulzar\\KSA_project2\\dataset\\patch_data\\TCGA-CL-4957_nonMSIH\\TCGA-CL-4957_nonMSIH_x54864_y17472_patch03464.png: File D:\\Aamir Gulzar\\KSA_project2\\dataset\\Features\\Uni_2h_fivecrop\\TCGA-CL-4957_nonMSIH\\TCGA-CL-4957_nonMSIH_x54864_y17472_patch03464.pt cannot be opened.\n",
      "ERROR:__main__:Error saving D:\\Aamir Gulzar\\KSA_project2\\dataset\\patch_data\\TCGA-CL-4957_nonMSIH\\TCGA-CL-4957_nonMSIH_x54864_y17984_patch03465.png: File D:\\Aamir Gulzar\\KSA_project2\\dataset\\Features\\Uni_2h_fivecrop\\TCGA-CL-4957_nonMSIH\\TCGA-CL-4957_nonMSIH_x54864_y17984_patch03465.pt cannot be opened.\n",
      "ERROR:__main__:Error saving D:\\Aamir Gulzar\\KSA_project2\\dataset\\patch_data\\TCGA-CL-4957_nonMSIH\\TCGA-CL-4957_nonMSIH_x54864_y18496_patch03466.png: File D:\\Aamir Gulzar\\KSA_project2\\dataset\\Features\\Uni_2h_fivecrop\\TCGA-CL-4957_nonMSIH\\TCGA-CL-4957_nonMSIH_x54864_y18496_patch03466.pt cannot be opened.\n",
      "ERROR:__main__:Error saving D:\\Aamir Gulzar\\KSA_project2\\dataset\\patch_data\\TCGA-CL-4957_nonMSIH\\TCGA-CL-4957_nonMSIH_x54864_y19008_patch03467.png: File D:\\Aamir Gulzar\\KSA_project2\\dataset\\Features\\Uni_2h_fivecrop\\TCGA-CL-4957_nonMSIH\\TCGA-CL-4957_nonMSIH_x54864_y19008_patch03467.pt cannot be opened.\n",
      "ERROR:__main__:Error saving D:\\Aamir Gulzar\\KSA_project2\\dataset\\patch_data\\TCGA-CL-4957_nonMSIH\\TCGA-CL-4957_nonMSIH_x54864_y19520_patch03468.png: File D:\\Aamir Gulzar\\KSA_project2\\dataset\\Features\\Uni_2h_fivecrop\\TCGA-CL-4957_nonMSIH\\TCGA-CL-4957_nonMSIH_x54864_y19520_patch03468.pt cannot be opened.\n",
      "ERROR:__main__:Error saving D:\\Aamir Gulzar\\KSA_project2\\dataset\\patch_data\\TCGA-CL-4957_nonMSIH\\TCGA-CL-4957_nonMSIH_x54864_y20032_patch03469.png: File D:\\Aamir Gulzar\\KSA_project2\\dataset\\Features\\Uni_2h_fivecrop\\TCGA-CL-4957_nonMSIH\\TCGA-CL-4957_nonMSIH_x54864_y20032_patch03469.pt cannot be opened.\n",
      "ERROR:__main__:Error saving D:\\Aamir Gulzar\\KSA_project2\\dataset\\patch_data\\TCGA-CL-4957_nonMSIH\\TCGA-CL-4957_nonMSIH_x54864_y20544_patch03470.png: File D:\\Aamir Gulzar\\KSA_project2\\dataset\\Features\\Uni_2h_fivecrop\\TCGA-CL-4957_nonMSIH\\TCGA-CL-4957_nonMSIH_x54864_y20544_patch03470.pt cannot be opened.\n",
      "ERROR:__main__:Error saving D:\\Aamir Gulzar\\KSA_project2\\dataset\\patch_data\\TCGA-CL-4957_nonMSIH\\TCGA-CL-4957_nonMSIH_x54864_y21056_patch03471.png: File D:\\Aamir Gulzar\\KSA_project2\\dataset\\Features\\Uni_2h_fivecrop\\TCGA-CL-4957_nonMSIH\\TCGA-CL-4957_nonMSIH_x54864_y21056_patch03471.pt cannot be opened.\n",
      "ERROR:__main__:Error saving D:\\Aamir Gulzar\\KSA_project2\\dataset\\patch_data\\TCGA-CL-4957_nonMSIH\\TCGA-CL-4957_nonMSIH_x54864_y21568_patch03472.png: File D:\\Aamir Gulzar\\KSA_project2\\dataset\\Features\\Uni_2h_fivecrop\\TCGA-CL-4957_nonMSIH\\TCGA-CL-4957_nonMSIH_x54864_y21568_patch03472.pt cannot be opened.\n",
      "ERROR:__main__:Error saving D:\\Aamir Gulzar\\KSA_project2\\dataset\\patch_data\\TCGA-CL-4957_nonMSIH\\TCGA-CL-4957_nonMSIH_x54864_y22080_patch03473.png: File D:\\Aamir Gulzar\\KSA_project2\\dataset\\Features\\Uni_2h_fivecrop\\TCGA-CL-4957_nonMSIH\\TCGA-CL-4957_nonMSIH_x54864_y22080_patch03473.pt cannot be opened.\n",
      "ERROR:__main__:Error saving D:\\Aamir Gulzar\\KSA_project2\\dataset\\patch_data\\TCGA-CL-4957_nonMSIH\\TCGA-CL-4957_nonMSIH_x54864_y8768_patch03448.png: File D:\\Aamir Gulzar\\KSA_project2\\dataset\\Features\\Uni_2h_fivecrop\\TCGA-CL-4957_nonMSIH\\TCGA-CL-4957_nonMSIH_x54864_y8768_patch03448.pt cannot be opened.\n",
      "ERROR:__main__:Error saving D:\\Aamir Gulzar\\KSA_project2\\dataset\\patch_data\\TCGA-CL-4957_nonMSIH\\TCGA-CL-4957_nonMSIH_x54864_y8256_patch03447.png: File D:\\Aamir Gulzar\\KSA_project2\\dataset\\Features\\Uni_2h_fivecrop\\TCGA-CL-4957_nonMSIH\\TCGA-CL-4957_nonMSIH_x54864_y8256_patch03447.pt cannot be opened.\n",
      "ERROR:__main__:Error saving D:\\Aamir Gulzar\\KSA_project2\\dataset\\patch_data\\TCGA-CL-4957_nonMSIH\\TCGA-CL-4957_nonMSIH_x54864_y9280_patch03449.png: File D:\\Aamir Gulzar\\KSA_project2\\dataset\\Features\\Uni_2h_fivecrop\\TCGA-CL-4957_nonMSIH\\TCGA-CL-4957_nonMSIH_x54864_y9280_patch03449.pt cannot be opened.\n",
      "ERROR:__main__:Error saving D:\\Aamir Gulzar\\KSA_project2\\dataset\\patch_data\\TCGA-CL-4957_nonMSIH\\TCGA-CL-4957_nonMSIH_x54864_y9792_patch03450.png: File D:\\Aamir Gulzar\\KSA_project2\\dataset\\Features\\Uni_2h_fivecrop\\TCGA-CL-4957_nonMSIH\\TCGA-CL-4957_nonMSIH_x54864_y9792_patch03450.pt cannot be opened.\n",
      "ERROR:__main__:Error saving D:\\Aamir Gulzar\\KSA_project2\\dataset\\patch_data\\TCGA-CL-4957_nonMSIH\\TCGA-CL-4957_nonMSIH_x55376_y10304_patch03476.png: File D:\\Aamir Gulzar\\KSA_project2\\dataset\\Features\\Uni_2h_fivecrop\\TCGA-CL-4957_nonMSIH\\TCGA-CL-4957_nonMSIH_x55376_y10304_patch03476.pt cannot be opened.\n",
      "ERROR:__main__:Error saving D:\\Aamir Gulzar\\KSA_project2\\dataset\\patch_data\\TCGA-CL-4957_nonMSIH\\TCGA-CL-4957_nonMSIH_x55376_y10816_patch03477.png: File D:\\Aamir Gulzar\\KSA_project2\\dataset\\Features\\Uni_2h_fivecrop\\TCGA-CL-4957_nonMSIH\\TCGA-CL-4957_nonMSIH_x55376_y10816_patch03477.pt cannot be opened.\n",
      "ERROR:__main__:Error saving D:\\Aamir Gulzar\\KSA_project2\\dataset\\patch_data\\TCGA-CL-4957_nonMSIH\\TCGA-CL-4957_nonMSIH_x55376_y11328_patch03478.png: File D:\\Aamir Gulzar\\KSA_project2\\dataset\\Features\\Uni_2h_fivecrop\\TCGA-CL-4957_nonMSIH\\TCGA-CL-4957_nonMSIH_x55376_y11328_patch03478.pt cannot be opened.\n",
      "ERROR:__main__:Error saving D:\\Aamir Gulzar\\KSA_project2\\dataset\\patch_data\\TCGA-CL-4957_nonMSIH\\TCGA-CL-4957_nonMSIH_x55376_y11840_patch03479.png: File D:\\Aamir Gulzar\\KSA_project2\\dataset\\Features\\Uni_2h_fivecrop\\TCGA-CL-4957_nonMSIH\\TCGA-CL-4957_nonMSIH_x55376_y11840_patch03479.pt cannot be opened.\n",
      "ERROR:__main__:Error saving D:\\Aamir Gulzar\\KSA_project2\\dataset\\patch_data\\TCGA-CL-4957_nonMSIH\\TCGA-CL-4957_nonMSIH_x55376_y12352_patch03480.png: File D:\\Aamir Gulzar\\KSA_project2\\dataset\\Features\\Uni_2h_fivecrop\\TCGA-CL-4957_nonMSIH\\TCGA-CL-4957_nonMSIH_x55376_y12352_patch03480.pt cannot be opened.\n",
      "ERROR:__main__:Error saving D:\\Aamir Gulzar\\KSA_project2\\dataset\\patch_data\\TCGA-CL-4957_nonMSIH\\TCGA-CL-4957_nonMSIH_x55376_y12864_patch03481.png: File D:\\Aamir Gulzar\\KSA_project2\\dataset\\Features\\Uni_2h_fivecrop\\TCGA-CL-4957_nonMSIH\\TCGA-CL-4957_nonMSIH_x55376_y12864_patch03481.pt cannot be opened.\n",
      "ERROR:__main__:Error saving D:\\Aamir Gulzar\\KSA_project2\\dataset\\patch_data\\TCGA-CL-4957_nonMSIH\\TCGA-CL-4957_nonMSIH_x55376_y13376_patch03482.png: File D:\\Aamir Gulzar\\KSA_project2\\dataset\\Features\\Uni_2h_fivecrop\\TCGA-CL-4957_nonMSIH\\TCGA-CL-4957_nonMSIH_x55376_y13376_patch03482.pt cannot be opened.\n",
      "ERROR:__main__:Error saving D:\\Aamir Gulzar\\KSA_project2\\dataset\\patch_data\\TCGA-CL-4957_nonMSIH\\TCGA-CL-4957_nonMSIH_x55376_y13888_patch03483.png: File D:\\Aamir Gulzar\\KSA_project2\\dataset\\Features\\Uni_2h_fivecrop\\TCGA-CL-4957_nonMSIH\\TCGA-CL-4957_nonMSIH_x55376_y13888_patch03483.pt cannot be opened.\n",
      "ERROR:__main__:Error saving D:\\Aamir Gulzar\\KSA_project2\\dataset\\patch_data\\TCGA-CL-4957_nonMSIH\\TCGA-CL-4957_nonMSIH_x55376_y14400_patch03484.png: File D:\\Aamir Gulzar\\KSA_project2\\dataset\\Features\\Uni_2h_fivecrop\\TCGA-CL-4957_nonMSIH\\TCGA-CL-4957_nonMSIH_x55376_y14400_patch03484.pt cannot be opened.\n",
      "ERROR:__main__:Error saving D:\\Aamir Gulzar\\KSA_project2\\dataset\\patch_data\\TCGA-CL-4957_nonMSIH\\TCGA-CL-4957_nonMSIH_x55376_y14912_patch03485.png: File D:\\Aamir Gulzar\\KSA_project2\\dataset\\Features\\Uni_2h_fivecrop\\TCGA-CL-4957_nonMSIH\\TCGA-CL-4957_nonMSIH_x55376_y14912_patch03485.pt cannot be opened.\n",
      "ERROR:__main__:Error saving D:\\Aamir Gulzar\\KSA_project2\\dataset\\patch_data\\TCGA-CL-4957_nonMSIH\\TCGA-CL-4957_nonMSIH_x55376_y15424_patch03486.png: File D:\\Aamir Gulzar\\KSA_project2\\dataset\\Features\\Uni_2h_fivecrop\\TCGA-CL-4957_nonMSIH\\TCGA-CL-4957_nonMSIH_x55376_y15424_patch03486.pt cannot be opened.\n",
      "ERROR:__main__:Error saving D:\\Aamir Gulzar\\KSA_project2\\dataset\\patch_data\\TCGA-CL-4957_nonMSIH\\TCGA-CL-4957_nonMSIH_x55376_y15936_patch03487.png: File D:\\Aamir Gulzar\\KSA_project2\\dataset\\Features\\Uni_2h_fivecrop\\TCGA-CL-4957_nonMSIH\\TCGA-CL-4957_nonMSIH_x55376_y15936_patch03487.pt cannot be opened.\n",
      "ERROR:__main__:Error saving D:\\Aamir Gulzar\\KSA_project2\\dataset\\patch_data\\TCGA-CL-4957_nonMSIH\\TCGA-CL-4957_nonMSIH_x55376_y16960_patch03489.png: File D:\\Aamir Gulzar\\KSA_project2\\dataset\\Features\\Uni_2h_fivecrop\\TCGA-CL-4957_nonMSIH\\TCGA-CL-4957_nonMSIH_x55376_y16960_patch03489.pt cannot be opened.\n",
      "ERROR:__main__:Error saving D:\\Aamir Gulzar\\KSA_project2\\dataset\\patch_data\\TCGA-CL-4957_nonMSIH\\TCGA-CL-4957_nonMSIH_x55376_y16448_patch03488.png: File D:\\Aamir Gulzar\\KSA_project2\\dataset\\Features\\Uni_2h_fivecrop\\TCGA-CL-4957_nonMSIH\\TCGA-CL-4957_nonMSIH_x55376_y16448_patch03488.pt cannot be opened.\n",
      "ERROR:__main__:Error saving D:\\Aamir Gulzar\\KSA_project2\\dataset\\patch_data\\TCGA-CL-4957_nonMSIH\\TCGA-CL-4957_nonMSIH_x55376_y17472_patch03490.png: File D:\\Aamir Gulzar\\KSA_project2\\dataset\\Features\\Uni_2h_fivecrop\\TCGA-CL-4957_nonMSIH\\TCGA-CL-4957_nonMSIH_x55376_y17472_patch03490.pt cannot be opened.\n",
      "ERROR:__main__:Error saving D:\\Aamir Gulzar\\KSA_project2\\dataset\\patch_data\\TCGA-CL-4957_nonMSIH\\TCGA-CL-4957_nonMSIH_x55376_y17984_patch03491.png: File D:\\Aamir Gulzar\\KSA_project2\\dataset\\Features\\Uni_2h_fivecrop\\TCGA-CL-4957_nonMSIH\\TCGA-CL-4957_nonMSIH_x55376_y17984_patch03491.pt cannot be opened.\n",
      "ERROR:__main__:Error saving D:\\Aamir Gulzar\\KSA_project2\\dataset\\patch_data\\TCGA-CL-4957_nonMSIH\\TCGA-CL-4957_nonMSIH_x55376_y18496_patch03492.png: File D:\\Aamir Gulzar\\KSA_project2\\dataset\\Features\\Uni_2h_fivecrop\\TCGA-CL-4957_nonMSIH\\TCGA-CL-4957_nonMSIH_x55376_y18496_patch03492.pt cannot be opened.\n",
      "ERROR:__main__:Error saving D:\\Aamir Gulzar\\KSA_project2\\dataset\\patch_data\\TCGA-CL-4957_nonMSIH\\TCGA-CL-4957_nonMSIH_x55376_y19008_patch03493.png: File D:\\Aamir Gulzar\\KSA_project2\\dataset\\Features\\Uni_2h_fivecrop\\TCGA-CL-4957_nonMSIH\\TCGA-CL-4957_nonMSIH_x55376_y19008_patch03493.pt cannot be opened.\n",
      "ERROR:__main__:Error saving D:\\Aamir Gulzar\\KSA_project2\\dataset\\patch_data\\TCGA-CL-4957_nonMSIH\\TCGA-CL-4957_nonMSIH_x55376_y19520_patch03494.png: File D:\\Aamir Gulzar\\KSA_project2\\dataset\\Features\\Uni_2h_fivecrop\\TCGA-CL-4957_nonMSIH\\TCGA-CL-4957_nonMSIH_x55376_y19520_patch03494.pt cannot be opened.\n",
      "ERROR:__main__:Error saving D:\\Aamir Gulzar\\KSA_project2\\dataset\\patch_data\\TCGA-CL-4957_nonMSIH\\TCGA-CL-4957_nonMSIH_x55376_y20032_patch03495.png: File D:\\Aamir Gulzar\\KSA_project2\\dataset\\Features\\Uni_2h_fivecrop\\TCGA-CL-4957_nonMSIH\\TCGA-CL-4957_nonMSIH_x55376_y20032_patch03495.pt cannot be opened.\n",
      "ERROR:__main__:Error saving D:\\Aamir Gulzar\\KSA_project2\\dataset\\patch_data\\TCGA-CL-4957_nonMSIH\\TCGA-CL-4957_nonMSIH_x55376_y20544_patch03496.png: File D:\\Aamir Gulzar\\KSA_project2\\dataset\\Features\\Uni_2h_fivecrop\\TCGA-CL-4957_nonMSIH\\TCGA-CL-4957_nonMSIH_x55376_y20544_patch03496.pt cannot be opened.\n",
      "ERROR:__main__:Error saving D:\\Aamir Gulzar\\KSA_project2\\dataset\\patch_data\\TCGA-CL-4957_nonMSIH\\TCGA-CL-4957_nonMSIH_x55376_y21056_patch03497.png: File D:\\Aamir Gulzar\\KSA_project2\\dataset\\Features\\Uni_2h_fivecrop\\TCGA-CL-4957_nonMSIH\\TCGA-CL-4957_nonMSIH_x55376_y21056_patch03497.pt cannot be opened.\n",
      "ERROR:__main__:Error saving D:\\Aamir Gulzar\\KSA_project2\\dataset\\patch_data\\TCGA-CL-4957_nonMSIH\\TCGA-CL-4957_nonMSIH_x55376_y21568_patch03498.png: File D:\\Aamir Gulzar\\KSA_project2\\dataset\\Features\\Uni_2h_fivecrop\\TCGA-CL-4957_nonMSIH\\TCGA-CL-4957_nonMSIH_x55376_y21568_patch03498.pt cannot be opened.\n",
      "ERROR:__main__:Error saving D:\\Aamir Gulzar\\KSA_project2\\dataset\\patch_data\\TCGA-CL-4957_nonMSIH\\TCGA-CL-4957_nonMSIH_x55376_y22080_patch03499.png: File D:\\Aamir Gulzar\\KSA_project2\\dataset\\Features\\Uni_2h_fivecrop\\TCGA-CL-4957_nonMSIH\\TCGA-CL-4957_nonMSIH_x55376_y22080_patch03499.pt cannot be opened.\n",
      "ERROR:__main__:Error saving D:\\Aamir Gulzar\\KSA_project2\\dataset\\patch_data\\TCGA-CL-4957_nonMSIH\\TCGA-CL-4957_nonMSIH_x55376_y9280_patch03474.png: File D:\\Aamir Gulzar\\KSA_project2\\dataset\\Features\\Uni_2h_fivecrop\\TCGA-CL-4957_nonMSIH\\TCGA-CL-4957_nonMSIH_x55376_y9280_patch03474.pt cannot be opened.\n",
      "ERROR:__main__:Error saving D:\\Aamir Gulzar\\KSA_project2\\dataset\\patch_data\\TCGA-CL-4957_nonMSIH\\TCGA-CL-4957_nonMSIH_x55376_y9792_patch03475.png: File D:\\Aamir Gulzar\\KSA_project2\\dataset\\Features\\Uni_2h_fivecrop\\TCGA-CL-4957_nonMSIH\\TCGA-CL-4957_nonMSIH_x55376_y9792_patch03475.pt cannot be opened.\n",
      "ERROR:__main__:Error saving D:\\Aamir Gulzar\\KSA_project2\\dataset\\patch_data\\TCGA-CL-4957_nonMSIH\\TCGA-CL-4957_nonMSIH_x55888_y10304_patch03503.png: File D:\\Aamir Gulzar\\KSA_project2\\dataset\\Features\\Uni_2h_fivecrop\\TCGA-CL-4957_nonMSIH\\TCGA-CL-4957_nonMSIH_x55888_y10304_patch03503.pt cannot be opened.\n",
      "ERROR:__main__:Error saving D:\\Aamir Gulzar\\KSA_project2\\dataset\\patch_data\\TCGA-CL-4957_nonMSIH\\TCGA-CL-4957_nonMSIH_x55888_y10816_patch03504.png: File D:\\Aamir Gulzar\\KSA_project2\\dataset\\Features\\Uni_2h_fivecrop\\TCGA-CL-4957_nonMSIH\\TCGA-CL-4957_nonMSIH_x55888_y10816_patch03504.pt cannot be opened.\n",
      "ERROR:__main__:Error saving D:\\Aamir Gulzar\\KSA_project2\\dataset\\patch_data\\TCGA-CL-4957_nonMSIH\\TCGA-CL-4957_nonMSIH_x55888_y11328_patch03505.png: File D:\\Aamir Gulzar\\KSA_project2\\dataset\\Features\\Uni_2h_fivecrop\\TCGA-CL-4957_nonMSIH\\TCGA-CL-4957_nonMSIH_x55888_y11328_patch03505.pt cannot be opened.\n",
      "ERROR:__main__:Error saving D:\\Aamir Gulzar\\KSA_project2\\dataset\\patch_data\\TCGA-CL-4957_nonMSIH\\TCGA-CL-4957_nonMSIH_x55888_y11840_patch03506.png: File D:\\Aamir Gulzar\\KSA_project2\\dataset\\Features\\Uni_2h_fivecrop\\TCGA-CL-4957_nonMSIH\\TCGA-CL-4957_nonMSIH_x55888_y11840_patch03506.pt cannot be opened.\n",
      "ERROR:__main__:Error saving D:\\Aamir Gulzar\\KSA_project2\\dataset\\patch_data\\TCGA-CL-4957_nonMSIH\\TCGA-CL-4957_nonMSIH_x55888_y12352_patch03507.png: File D:\\Aamir Gulzar\\KSA_project2\\dataset\\Features\\Uni_2h_fivecrop\\TCGA-CL-4957_nonMSIH\\TCGA-CL-4957_nonMSIH_x55888_y12352_patch03507.pt cannot be opened.\n",
      "ERROR:__main__:Error saving D:\\Aamir Gulzar\\KSA_project2\\dataset\\patch_data\\TCGA-CL-4957_nonMSIH\\TCGA-CL-4957_nonMSIH_x55888_y12864_patch03508.png: File D:\\Aamir Gulzar\\KSA_project2\\dataset\\Features\\Uni_2h_fivecrop\\TCGA-CL-4957_nonMSIH\\TCGA-CL-4957_nonMSIH_x55888_y12864_patch03508.pt cannot be opened.\n",
      "ERROR:__main__:Error saving D:\\Aamir Gulzar\\KSA_project2\\dataset\\patch_data\\TCGA-CL-4957_nonMSIH\\TCGA-CL-4957_nonMSIH_x55888_y13376_patch03509.png: File D:\\Aamir Gulzar\\KSA_project2\\dataset\\Features\\Uni_2h_fivecrop\\TCGA-CL-4957_nonMSIH\\TCGA-CL-4957_nonMSIH_x55888_y13376_patch03509.pt cannot be opened.\n",
      "ERROR:__main__:Error saving D:\\Aamir Gulzar\\KSA_project2\\dataset\\patch_data\\TCGA-CL-4957_nonMSIH\\TCGA-CL-4957_nonMSIH_x55888_y13888_patch03510.png: File D:\\Aamir Gulzar\\KSA_project2\\dataset\\Features\\Uni_2h_fivecrop\\TCGA-CL-4957_nonMSIH\\TCGA-CL-4957_nonMSIH_x55888_y13888_patch03510.pt cannot be opened.\n",
      "ERROR:__main__:Error saving D:\\Aamir Gulzar\\KSA_project2\\dataset\\patch_data\\TCGA-CL-4957_nonMSIH\\TCGA-CL-4957_nonMSIH_x55888_y14400_patch03511.png: File D:\\Aamir Gulzar\\KSA_project2\\dataset\\Features\\Uni_2h_fivecrop\\TCGA-CL-4957_nonMSIH\\TCGA-CL-4957_nonMSIH_x55888_y14400_patch03511.pt cannot be opened.\n",
      "ERROR:__main__:Error saving D:\\Aamir Gulzar\\KSA_project2\\dataset\\patch_data\\TCGA-CL-4957_nonMSIH\\TCGA-CL-4957_nonMSIH_x55888_y15936_patch03512.png: File D:\\Aamir Gulzar\\KSA_project2\\dataset\\Features\\Uni_2h_fivecrop\\TCGA-CL-4957_nonMSIH\\TCGA-CL-4957_nonMSIH_x55888_y15936_patch03512.pt cannot be opened.\n",
      "ERROR:__main__:Error saving D:\\Aamir Gulzar\\KSA_project2\\dataset\\patch_data\\TCGA-CL-4957_nonMSIH\\TCGA-CL-4957_nonMSIH_x55888_y16448_patch03513.png: File D:\\Aamir Gulzar\\KSA_project2\\dataset\\Features\\Uni_2h_fivecrop\\TCGA-CL-4957_nonMSIH\\TCGA-CL-4957_nonMSIH_x55888_y16448_patch03513.pt cannot be opened.\n",
      "ERROR:__main__:Error saving D:\\Aamir Gulzar\\KSA_project2\\dataset\\patch_data\\TCGA-CL-4957_nonMSIH\\TCGA-CL-4957_nonMSIH_x55888_y16960_patch03514.png: File D:\\Aamir Gulzar\\KSA_project2\\dataset\\Features\\Uni_2h_fivecrop\\TCGA-CL-4957_nonMSIH\\TCGA-CL-4957_nonMSIH_x55888_y16960_patch03514.pt cannot be opened.\n",
      "ERROR:__main__:Error saving D:\\Aamir Gulzar\\KSA_project2\\dataset\\patch_data\\TCGA-CL-4957_nonMSIH\\TCGA-CL-4957_nonMSIH_x55888_y17472_patch03515.png: File D:\\Aamir Gulzar\\KSA_project2\\dataset\\Features\\Uni_2h_fivecrop\\TCGA-CL-4957_nonMSIH\\TCGA-CL-4957_nonMSIH_x55888_y17472_patch03515.pt cannot be opened.\n",
      "ERROR:__main__:Error saving D:\\Aamir Gulzar\\KSA_project2\\dataset\\patch_data\\TCGA-CL-4957_nonMSIH\\TCGA-CL-4957_nonMSIH_x55888_y17984_patch03516.png: File D:\\Aamir Gulzar\\KSA_project2\\dataset\\Features\\Uni_2h_fivecrop\\TCGA-CL-4957_nonMSIH\\TCGA-CL-4957_nonMSIH_x55888_y17984_patch03516.pt cannot be opened.\n",
      "ERROR:__main__:Error saving D:\\Aamir Gulzar\\KSA_project2\\dataset\\patch_data\\TCGA-CL-4957_nonMSIH\\TCGA-CL-4957_nonMSIH_x55888_y18496_patch03517.png: File D:\\Aamir Gulzar\\KSA_project2\\dataset\\Features\\Uni_2h_fivecrop\\TCGA-CL-4957_nonMSIH\\TCGA-CL-4957_nonMSIH_x55888_y18496_patch03517.pt cannot be opened.\n",
      "ERROR:__main__:Error saving D:\\Aamir Gulzar\\KSA_project2\\dataset\\patch_data\\TCGA-CL-4957_nonMSIH\\TCGA-CL-4957_nonMSIH_x55888_y19008_patch03518.png: File D:\\Aamir Gulzar\\KSA_project2\\dataset\\Features\\Uni_2h_fivecrop\\TCGA-CL-4957_nonMSIH\\TCGA-CL-4957_nonMSIH_x55888_y19008_patch03518.pt cannot be opened.\n",
      "ERROR:__main__:Error saving D:\\Aamir Gulzar\\KSA_project2\\dataset\\patch_data\\TCGA-CL-4957_nonMSIH\\TCGA-CL-4957_nonMSIH_x55888_y19520_patch03519.png: File D:\\Aamir Gulzar\\KSA_project2\\dataset\\Features\\Uni_2h_fivecrop\\TCGA-CL-4957_nonMSIH\\TCGA-CL-4957_nonMSIH_x55888_y19520_patch03519.pt cannot be opened.\n",
      "ERROR:__main__:Error saving D:\\Aamir Gulzar\\KSA_project2\\dataset\\patch_data\\TCGA-CL-4957_nonMSIH\\TCGA-CL-4957_nonMSIH_x55888_y20032_patch03520.png: File D:\\Aamir Gulzar\\KSA_project2\\dataset\\Features\\Uni_2h_fivecrop\\TCGA-CL-4957_nonMSIH\\TCGA-CL-4957_nonMSIH_x55888_y20032_patch03520.pt cannot be opened.\n",
      "ERROR:__main__:Error saving D:\\Aamir Gulzar\\KSA_project2\\dataset\\patch_data\\TCGA-CL-4957_nonMSIH\\TCGA-CL-4957_nonMSIH_x55888_y21056_patch03522.png: File D:\\Aamir Gulzar\\KSA_project2\\dataset\\Features\\Uni_2h_fivecrop\\TCGA-CL-4957_nonMSIH\\TCGA-CL-4957_nonMSIH_x55888_y21056_patch03522.pt cannot be opened.\n",
      "ERROR:__main__:Error saving D:\\Aamir Gulzar\\KSA_project2\\dataset\\patch_data\\TCGA-CL-4957_nonMSIH\\TCGA-CL-4957_nonMSIH_x55888_y20544_patch03521.png: File D:\\Aamir Gulzar\\KSA_project2\\dataset\\Features\\Uni_2h_fivecrop\\TCGA-CL-4957_nonMSIH\\TCGA-CL-4957_nonMSIH_x55888_y20544_patch03521.pt cannot be opened.\n",
      "ERROR:__main__:Error saving D:\\Aamir Gulzar\\KSA_project2\\dataset\\patch_data\\TCGA-CL-4957_nonMSIH\\TCGA-CL-4957_nonMSIH_x55888_y21568_patch03523.png: File D:\\Aamir Gulzar\\KSA_project2\\dataset\\Features\\Uni_2h_fivecrop\\TCGA-CL-4957_nonMSIH\\TCGA-CL-4957_nonMSIH_x55888_y21568_patch03523.pt cannot be opened.\n",
      "ERROR:__main__:Error saving D:\\Aamir Gulzar\\KSA_project2\\dataset\\patch_data\\TCGA-CL-4957_nonMSIH\\TCGA-CL-4957_nonMSIH_x55888_y22080_patch03524.png: File D:\\Aamir Gulzar\\KSA_project2\\dataset\\Features\\Uni_2h_fivecrop\\TCGA-CL-4957_nonMSIH\\TCGA-CL-4957_nonMSIH_x55888_y22080_patch03524.pt cannot be opened.\n",
      "ERROR:__main__:Error saving D:\\Aamir Gulzar\\KSA_project2\\dataset\\patch_data\\TCGA-CL-4957_nonMSIH\\TCGA-CL-4957_nonMSIH_x55888_y8768_patch03500.png: File D:\\Aamir Gulzar\\KSA_project2\\dataset\\Features\\Uni_2h_fivecrop\\TCGA-CL-4957_nonMSIH\\TCGA-CL-4957_nonMSIH_x55888_y8768_patch03500.pt cannot be opened.\n",
      "ERROR:__main__:Error saving D:\\Aamir Gulzar\\KSA_project2\\dataset\\patch_data\\TCGA-CL-4957_nonMSIH\\TCGA-CL-4957_nonMSIH_x55888_y9280_patch03501.png: File D:\\Aamir Gulzar\\KSA_project2\\dataset\\Features\\Uni_2h_fivecrop\\TCGA-CL-4957_nonMSIH\\TCGA-CL-4957_nonMSIH_x55888_y9280_patch03501.pt cannot be opened.\n",
      "ERROR:__main__:Error saving D:\\Aamir Gulzar\\KSA_project2\\dataset\\patch_data\\TCGA-CL-4957_nonMSIH\\TCGA-CL-4957_nonMSIH_x55888_y9792_patch03502.png: File D:\\Aamir Gulzar\\KSA_project2\\dataset\\Features\\Uni_2h_fivecrop\\TCGA-CL-4957_nonMSIH\\TCGA-CL-4957_nonMSIH_x55888_y9792_patch03502.pt cannot be opened.\n",
      "ERROR:__main__:Error saving D:\\Aamir Gulzar\\KSA_project2\\dataset\\patch_data\\TCGA-CL-4957_nonMSIH\\TCGA-CL-4957_nonMSIH_x56400_y10304_patch03528.png: File D:\\Aamir Gulzar\\KSA_project2\\dataset\\Features\\Uni_2h_fivecrop\\TCGA-CL-4957_nonMSIH\\TCGA-CL-4957_nonMSIH_x56400_y10304_patch03528.pt cannot be opened.\n",
      "ERROR:__main__:Error saving D:\\Aamir Gulzar\\KSA_project2\\dataset\\patch_data\\TCGA-CL-4957_nonMSIH\\TCGA-CL-4957_nonMSIH_x56400_y10816_patch03529.png: File D:\\Aamir Gulzar\\KSA_project2\\dataset\\Features\\Uni_2h_fivecrop\\TCGA-CL-4957_nonMSIH\\TCGA-CL-4957_nonMSIH_x56400_y10816_patch03529.pt cannot be opened.\n",
      "ERROR:__main__:Error saving D:\\Aamir Gulzar\\KSA_project2\\dataset\\patch_data\\TCGA-CL-4957_nonMSIH\\TCGA-CL-4957_nonMSIH_x56400_y11328_patch03530.png: File D:\\Aamir Gulzar\\KSA_project2\\dataset\\Features\\Uni_2h_fivecrop\\TCGA-CL-4957_nonMSIH\\TCGA-CL-4957_nonMSIH_x56400_y11328_patch03530.pt cannot be opened.\n",
      "ERROR:__main__:Error saving D:\\Aamir Gulzar\\KSA_project2\\dataset\\patch_data\\TCGA-CL-4957_nonMSIH\\TCGA-CL-4957_nonMSIH_x56400_y11840_patch03531.png: File D:\\Aamir Gulzar\\KSA_project2\\dataset\\Features\\Uni_2h_fivecrop\\TCGA-CL-4957_nonMSIH\\TCGA-CL-4957_nonMSIH_x56400_y11840_patch03531.pt cannot be opened.\n",
      "ERROR:__main__:Error saving D:\\Aamir Gulzar\\KSA_project2\\dataset\\patch_data\\TCGA-CL-4957_nonMSIH\\TCGA-CL-4957_nonMSIH_x56400_y12352_patch03532.png: File D:\\Aamir Gulzar\\KSA_project2\\dataset\\Features\\Uni_2h_fivecrop\\TCGA-CL-4957_nonMSIH\\TCGA-CL-4957_nonMSIH_x56400_y12352_patch03532.pt cannot be opened.\n",
      "ERROR:__main__:Error saving D:\\Aamir Gulzar\\KSA_project2\\dataset\\patch_data\\TCGA-CL-4957_nonMSIH\\TCGA-CL-4957_nonMSIH_x56400_y12864_patch03533.png: File D:\\Aamir Gulzar\\KSA_project2\\dataset\\Features\\Uni_2h_fivecrop\\TCGA-CL-4957_nonMSIH\\TCGA-CL-4957_nonMSIH_x56400_y12864_patch03533.pt cannot be opened.\n",
      "ERROR:__main__:Error saving D:\\Aamir Gulzar\\KSA_project2\\dataset\\patch_data\\TCGA-CL-4957_nonMSIH\\TCGA-CL-4957_nonMSIH_x56400_y13376_patch03534.png: File D:\\Aamir Gulzar\\KSA_project2\\dataset\\Features\\Uni_2h_fivecrop\\TCGA-CL-4957_nonMSIH\\TCGA-CL-4957_nonMSIH_x56400_y13376_patch03534.pt cannot be opened.\n",
      "ERROR:__main__:Error saving D:\\Aamir Gulzar\\KSA_project2\\dataset\\patch_data\\TCGA-CL-4957_nonMSIH\\TCGA-CL-4957_nonMSIH_x56400_y13888_patch03535.png: File D:\\Aamir Gulzar\\KSA_project2\\dataset\\Features\\Uni_2h_fivecrop\\TCGA-CL-4957_nonMSIH\\TCGA-CL-4957_nonMSIH_x56400_y13888_patch03535.pt cannot be opened.\n",
      "ERROR:__main__:Error saving D:\\Aamir Gulzar\\KSA_project2\\dataset\\patch_data\\TCGA-CL-4957_nonMSIH\\TCGA-CL-4957_nonMSIH_x56400_y14400_patch03536.png: File D:\\Aamir Gulzar\\KSA_project2\\dataset\\Features\\Uni_2h_fivecrop\\TCGA-CL-4957_nonMSIH\\TCGA-CL-4957_nonMSIH_x56400_y14400_patch03536.pt cannot be opened.\n",
      "ERROR:__main__:Error saving D:\\Aamir Gulzar\\KSA_project2\\dataset\\patch_data\\TCGA-CL-4957_nonMSIH\\TCGA-CL-4957_nonMSIH_x56400_y15424_patch03537.png: File D:\\Aamir Gulzar\\KSA_project2\\dataset\\Features\\Uni_2h_fivecrop\\TCGA-CL-4957_nonMSIH\\TCGA-CL-4957_nonMSIH_x56400_y15424_patch03537.pt cannot be opened.\n",
      "ERROR:__main__:Error saving D:\\Aamir Gulzar\\KSA_project2\\dataset\\patch_data\\TCGA-CL-4957_nonMSIH\\TCGA-CL-4957_nonMSIH_x56400_y15936_patch03538.png: File D:\\Aamir Gulzar\\KSA_project2\\dataset\\Features\\Uni_2h_fivecrop\\TCGA-CL-4957_nonMSIH\\TCGA-CL-4957_nonMSIH_x56400_y15936_patch03538.pt cannot be opened.\n",
      "ERROR:__main__:Error saving D:\\Aamir Gulzar\\KSA_project2\\dataset\\patch_data\\TCGA-CL-4957_nonMSIH\\TCGA-CL-4957_nonMSIH_x56400_y16448_patch03539.png: File D:\\Aamir Gulzar\\KSA_project2\\dataset\\Features\\Uni_2h_fivecrop\\TCGA-CL-4957_nonMSIH\\TCGA-CL-4957_nonMSIH_x56400_y16448_patch03539.pt cannot be opened.\n",
      "ERROR:__main__:Error saving D:\\Aamir Gulzar\\KSA_project2\\dataset\\patch_data\\TCGA-CL-4957_nonMSIH\\TCGA-CL-4957_nonMSIH_x56400_y16960_patch03540.png: File D:\\Aamir Gulzar\\KSA_project2\\dataset\\Features\\Uni_2h_fivecrop\\TCGA-CL-4957_nonMSIH\\TCGA-CL-4957_nonMSIH_x56400_y16960_patch03540.pt cannot be opened.\n",
      "ERROR:__main__:Error saving D:\\Aamir Gulzar\\KSA_project2\\dataset\\patch_data\\TCGA-CL-4957_nonMSIH\\TCGA-CL-4957_nonMSIH_x56400_y17984_patch03542.png: File D:\\Aamir Gulzar\\KSA_project2\\dataset\\Features\\Uni_2h_fivecrop\\TCGA-CL-4957_nonMSIH\\TCGA-CL-4957_nonMSIH_x56400_y17984_patch03542.pt cannot be opened.\n",
      "ERROR:__main__:Error saving D:\\Aamir Gulzar\\KSA_project2\\dataset\\patch_data\\TCGA-CL-4957_nonMSIH\\TCGA-CL-4957_nonMSIH_x56400_y18496_patch03543.png: File D:\\Aamir Gulzar\\KSA_project2\\dataset\\Features\\Uni_2h_fivecrop\\TCGA-CL-4957_nonMSIH\\TCGA-CL-4957_nonMSIH_x56400_y18496_patch03543.pt cannot be opened.\n",
      "ERROR:__main__:Error saving D:\\Aamir Gulzar\\KSA_project2\\dataset\\patch_data\\TCGA-CL-4957_nonMSIH\\TCGA-CL-4957_nonMSIH_x56400_y17472_patch03541.png: File D:\\Aamir Gulzar\\KSA_project2\\dataset\\Features\\Uni_2h_fivecrop\\TCGA-CL-4957_nonMSIH\\TCGA-CL-4957_nonMSIH_x56400_y17472_patch03541.pt cannot be opened.\n",
      "ERROR:__main__:Error saving D:\\Aamir Gulzar\\KSA_project2\\dataset\\patch_data\\TCGA-CL-4957_nonMSIH\\TCGA-CL-4957_nonMSIH_x56400_y19008_patch03544.png: File D:\\Aamir Gulzar\\KSA_project2\\dataset\\Features\\Uni_2h_fivecrop\\TCGA-CL-4957_nonMSIH\\TCGA-CL-4957_nonMSIH_x56400_y19008_patch03544.pt cannot be opened.\n",
      "ERROR:__main__:Error saving D:\\Aamir Gulzar\\KSA_project2\\dataset\\patch_data\\TCGA-CL-4957_nonMSIH\\TCGA-CL-4957_nonMSIH_x56400_y19520_patch03545.png: File D:\\Aamir Gulzar\\KSA_project2\\dataset\\Features\\Uni_2h_fivecrop\\TCGA-CL-4957_nonMSIH\\TCGA-CL-4957_nonMSIH_x56400_y19520_patch03545.pt cannot be opened.\n",
      "ERROR:__main__:Error saving D:\\Aamir Gulzar\\KSA_project2\\dataset\\patch_data\\TCGA-CL-4957_nonMSIH\\TCGA-CL-4957_nonMSIH_x56400_y20032_patch03546.png: File D:\\Aamir Gulzar\\KSA_project2\\dataset\\Features\\Uni_2h_fivecrop\\TCGA-CL-4957_nonMSIH\\TCGA-CL-4957_nonMSIH_x56400_y20032_patch03546.pt cannot be opened.\n",
      "ERROR:__main__:Error saving D:\\Aamir Gulzar\\KSA_project2\\dataset\\patch_data\\TCGA-CL-4957_nonMSIH\\TCGA-CL-4957_nonMSIH_x56400_y20544_patch03547.png: File D:\\Aamir Gulzar\\KSA_project2\\dataset\\Features\\Uni_2h_fivecrop\\TCGA-CL-4957_nonMSIH\\TCGA-CL-4957_nonMSIH_x56400_y20544_patch03547.pt cannot be opened.\n",
      "ERROR:__main__:Error saving D:\\Aamir Gulzar\\KSA_project2\\dataset\\patch_data\\TCGA-CL-4957_nonMSIH\\TCGA-CL-4957_nonMSIH_x56400_y21056_patch03548.png: File D:\\Aamir Gulzar\\KSA_project2\\dataset\\Features\\Uni_2h_fivecrop\\TCGA-CL-4957_nonMSIH\\TCGA-CL-4957_nonMSIH_x56400_y21056_patch03548.pt cannot be opened.\n",
      "ERROR:__main__:Error saving D:\\Aamir Gulzar\\KSA_project2\\dataset\\patch_data\\TCGA-CL-4957_nonMSIH\\TCGA-CL-4957_nonMSIH_x56400_y21568_patch03549.png: File D:\\Aamir Gulzar\\KSA_project2\\dataset\\Features\\Uni_2h_fivecrop\\TCGA-CL-4957_nonMSIH\\TCGA-CL-4957_nonMSIH_x56400_y21568_patch03549.pt cannot be opened.\n",
      "ERROR:__main__:Error saving D:\\Aamir Gulzar\\KSA_project2\\dataset\\patch_data\\TCGA-CL-4957_nonMSIH\\TCGA-CL-4957_nonMSIH_x56400_y22080_patch03550.png: File D:\\Aamir Gulzar\\KSA_project2\\dataset\\Features\\Uni_2h_fivecrop\\TCGA-CL-4957_nonMSIH\\TCGA-CL-4957_nonMSIH_x56400_y22080_patch03550.pt cannot be opened.\n",
      "ERROR:__main__:Error saving D:\\Aamir Gulzar\\KSA_project2\\dataset\\patch_data\\TCGA-CL-4957_nonMSIH\\TCGA-CL-4957_nonMSIH_x56400_y8768_patch03525.png: File D:\\Aamir Gulzar\\KSA_project2\\dataset\\Features\\Uni_2h_fivecrop\\TCGA-CL-4957_nonMSIH\\TCGA-CL-4957_nonMSIH_x56400_y8768_patch03525.pt cannot be opened.\n",
      "ERROR:__main__:Error saving D:\\Aamir Gulzar\\KSA_project2\\dataset\\patch_data\\TCGA-CL-4957_nonMSIH\\TCGA-CL-4957_nonMSIH_x56400_y9280_patch03526.png: File D:\\Aamir Gulzar\\KSA_project2\\dataset\\Features\\Uni_2h_fivecrop\\TCGA-CL-4957_nonMSIH\\TCGA-CL-4957_nonMSIH_x56400_y9280_patch03526.pt cannot be opened.\n",
      "ERROR:__main__:Error saving D:\\Aamir Gulzar\\KSA_project2\\dataset\\patch_data\\TCGA-CL-4957_nonMSIH\\TCGA-CL-4957_nonMSIH_x56912_y10304_patch03553.png: File D:\\Aamir Gulzar\\KSA_project2\\dataset\\Features\\Uni_2h_fivecrop\\TCGA-CL-4957_nonMSIH\\TCGA-CL-4957_nonMSIH_x56912_y10304_patch03553.pt cannot be opened.\n",
      "ERROR:__main__:Error saving D:\\Aamir Gulzar\\KSA_project2\\dataset\\patch_data\\TCGA-CL-4957_nonMSIH\\TCGA-CL-4957_nonMSIH_x56400_y9792_patch03527.png: File D:\\Aamir Gulzar\\KSA_project2\\dataset\\Features\\Uni_2h_fivecrop\\TCGA-CL-4957_nonMSIH\\TCGA-CL-4957_nonMSIH_x56400_y9792_patch03527.pt cannot be opened.\n",
      "ERROR:__main__:Error saving D:\\Aamir Gulzar\\KSA_project2\\dataset\\patch_data\\TCGA-CL-4957_nonMSIH\\TCGA-CL-4957_nonMSIH_x56912_y11328_patch03555.png: File D:\\Aamir Gulzar\\KSA_project2\\dataset\\Features\\Uni_2h_fivecrop\\TCGA-CL-4957_nonMSIH\\TCGA-CL-4957_nonMSIH_x56912_y11328_patch03555.pt cannot be opened.\n",
      "ERROR:__main__:Error saving D:\\Aamir Gulzar\\KSA_project2\\dataset\\patch_data\\TCGA-CL-4957_nonMSIH\\TCGA-CL-4957_nonMSIH_x56912_y10816_patch03554.png: File D:\\Aamir Gulzar\\KSA_project2\\dataset\\Features\\Uni_2h_fivecrop\\TCGA-CL-4957_nonMSIH\\TCGA-CL-4957_nonMSIH_x56912_y10816_patch03554.pt cannot be opened.\n",
      "ERROR:__main__:Error saving D:\\Aamir Gulzar\\KSA_project2\\dataset\\patch_data\\TCGA-CL-4957_nonMSIH\\TCGA-CL-4957_nonMSIH_x56912_y11840_patch03556.png: File D:\\Aamir Gulzar\\KSA_project2\\dataset\\Features\\Uni_2h_fivecrop\\TCGA-CL-4957_nonMSIH\\TCGA-CL-4957_nonMSIH_x56912_y11840_patch03556.pt cannot be opened.\n",
      "ERROR:__main__:Error saving D:\\Aamir Gulzar\\KSA_project2\\dataset\\patch_data\\TCGA-CL-4957_nonMSIH\\TCGA-CL-4957_nonMSIH_x56912_y12352_patch03557.png: File D:\\Aamir Gulzar\\KSA_project2\\dataset\\Features\\Uni_2h_fivecrop\\TCGA-CL-4957_nonMSIH\\TCGA-CL-4957_nonMSIH_x56912_y12352_patch03557.pt cannot be opened.\n",
      "ERROR:__main__:Error saving D:\\Aamir Gulzar\\KSA_project2\\dataset\\patch_data\\TCGA-CL-4957_nonMSIH\\TCGA-CL-4957_nonMSIH_x56912_y12864_patch03558.png: File D:\\Aamir Gulzar\\KSA_project2\\dataset\\Features\\Uni_2h_fivecrop\\TCGA-CL-4957_nonMSIH\\TCGA-CL-4957_nonMSIH_x56912_y12864_patch03558.pt cannot be opened.\n",
      "ERROR:__main__:Error saving D:\\Aamir Gulzar\\KSA_project2\\dataset\\patch_data\\TCGA-CL-4957_nonMSIH\\TCGA-CL-4957_nonMSIH_x56912_y13376_patch03559.png: File D:\\Aamir Gulzar\\KSA_project2\\dataset\\Features\\Uni_2h_fivecrop\\TCGA-CL-4957_nonMSIH\\TCGA-CL-4957_nonMSIH_x56912_y13376_patch03559.pt cannot be opened.\n",
      "ERROR:__main__:Error saving D:\\Aamir Gulzar\\KSA_project2\\dataset\\patch_data\\TCGA-CL-4957_nonMSIH\\TCGA-CL-4957_nonMSIH_x56912_y13888_patch03560.png: File D:\\Aamir Gulzar\\KSA_project2\\dataset\\Features\\Uni_2h_fivecrop\\TCGA-CL-4957_nonMSIH\\TCGA-CL-4957_nonMSIH_x56912_y13888_patch03560.pt cannot be opened.\n",
      "ERROR:__main__:Error saving D:\\Aamir Gulzar\\KSA_project2\\dataset\\patch_data\\TCGA-CL-4957_nonMSIH\\TCGA-CL-4957_nonMSIH_x56912_y14400_patch03561.png: File D:\\Aamir Gulzar\\KSA_project2\\dataset\\Features\\Uni_2h_fivecrop\\TCGA-CL-4957_nonMSIH\\TCGA-CL-4957_nonMSIH_x56912_y14400_patch03561.pt cannot be opened.\n",
      "ERROR:__main__:Error saving D:\\Aamir Gulzar\\KSA_project2\\dataset\\patch_data\\TCGA-CL-4957_nonMSIH\\TCGA-CL-4957_nonMSIH_x56912_y15424_patch03562.png: File D:\\Aamir Gulzar\\KSA_project2\\dataset\\Features\\Uni_2h_fivecrop\\TCGA-CL-4957_nonMSIH\\TCGA-CL-4957_nonMSIH_x56912_y15424_patch03562.pt cannot be opened.\n",
      "ERROR:__main__:Error saving D:\\Aamir Gulzar\\KSA_project2\\dataset\\patch_data\\TCGA-CL-4957_nonMSIH\\TCGA-CL-4957_nonMSIH_x56912_y15936_patch03563.png: File D:\\Aamir Gulzar\\KSA_project2\\dataset\\Features\\Uni_2h_fivecrop\\TCGA-CL-4957_nonMSIH\\TCGA-CL-4957_nonMSIH_x56912_y15936_patch03563.pt cannot be opened.\n",
      "ERROR:__main__:Error saving D:\\Aamir Gulzar\\KSA_project2\\dataset\\patch_data\\TCGA-CL-4957_nonMSIH\\TCGA-CL-4957_nonMSIH_x56912_y16448_patch03564.png: File D:\\Aamir Gulzar\\KSA_project2\\dataset\\Features\\Uni_2h_fivecrop\\TCGA-CL-4957_nonMSIH\\TCGA-CL-4957_nonMSIH_x56912_y16448_patch03564.pt cannot be opened.\n",
      "ERROR:__main__:Error saving D:\\Aamir Gulzar\\KSA_project2\\dataset\\patch_data\\TCGA-CL-4957_nonMSIH\\TCGA-CL-4957_nonMSIH_x56912_y16960_patch03565.png: File D:\\Aamir Gulzar\\KSA_project2\\dataset\\Features\\Uni_2h_fivecrop\\TCGA-CL-4957_nonMSIH\\TCGA-CL-4957_nonMSIH_x56912_y16960_patch03565.pt cannot be opened.\n",
      "ERROR:__main__:Error saving D:\\Aamir Gulzar\\KSA_project2\\dataset\\patch_data\\TCGA-CL-4957_nonMSIH\\TCGA-CL-4957_nonMSIH_x56912_y17472_patch03566.png: File D:\\Aamir Gulzar\\KSA_project2\\dataset\\Features\\Uni_2h_fivecrop\\TCGA-CL-4957_nonMSIH\\TCGA-CL-4957_nonMSIH_x56912_y17472_patch03566.pt cannot be opened.\n",
      "ERROR:__main__:Error saving D:\\Aamir Gulzar\\KSA_project2\\dataset\\patch_data\\TCGA-CL-4957_nonMSIH\\TCGA-CL-4957_nonMSIH_x56912_y17984_patch03567.png: File D:\\Aamir Gulzar\\KSA_project2\\dataset\\Features\\Uni_2h_fivecrop\\TCGA-CL-4957_nonMSIH\\TCGA-CL-4957_nonMSIH_x56912_y17984_patch03567.pt cannot be opened.\n",
      "ERROR:__main__:Error saving D:\\Aamir Gulzar\\KSA_project2\\dataset\\patch_data\\TCGA-CL-4957_nonMSIH\\TCGA-CL-4957_nonMSIH_x56912_y19008_patch03569.png: File D:\\Aamir Gulzar\\KSA_project2\\dataset\\Features\\Uni_2h_fivecrop\\TCGA-CL-4957_nonMSIH\\TCGA-CL-4957_nonMSIH_x56912_y19008_patch03569.pt cannot be opened.\n",
      "ERROR:__main__:Error saving D:\\Aamir Gulzar\\KSA_project2\\dataset\\patch_data\\TCGA-CL-4957_nonMSIH\\TCGA-CL-4957_nonMSIH_x56912_y19520_patch03570.png: File D:\\Aamir Gulzar\\KSA_project2\\dataset\\Features\\Uni_2h_fivecrop\\TCGA-CL-4957_nonMSIH\\TCGA-CL-4957_nonMSIH_x56912_y19520_patch03570.pt cannot be opened.\n",
      "ERROR:__main__:Error saving D:\\Aamir Gulzar\\KSA_project2\\dataset\\patch_data\\TCGA-CL-4957_nonMSIH\\TCGA-CL-4957_nonMSIH_x56912_y18496_patch03568.png: File D:\\Aamir Gulzar\\KSA_project2\\dataset\\Features\\Uni_2h_fivecrop\\TCGA-CL-4957_nonMSIH\\TCGA-CL-4957_nonMSIH_x56912_y18496_patch03568.pt cannot be opened.\n",
      "ERROR:__main__:Error saving D:\\Aamir Gulzar\\KSA_project2\\dataset\\patch_data\\TCGA-CL-4957_nonMSIH\\TCGA-CL-4957_nonMSIH_x56912_y20032_patch03571.png: File D:\\Aamir Gulzar\\KSA_project2\\dataset\\Features\\Uni_2h_fivecrop\\TCGA-CL-4957_nonMSIH\\TCGA-CL-4957_nonMSIH_x56912_y20032_patch03571.pt cannot be opened.\n",
      "ERROR:__main__:Error saving D:\\Aamir Gulzar\\KSA_project2\\dataset\\patch_data\\TCGA-CL-4957_nonMSIH\\TCGA-CL-4957_nonMSIH_x56912_y20544_patch03572.png: File D:\\Aamir Gulzar\\KSA_project2\\dataset\\Features\\Uni_2h_fivecrop\\TCGA-CL-4957_nonMSIH\\TCGA-CL-4957_nonMSIH_x56912_y20544_patch03572.pt cannot be opened.\n",
      "ERROR:__main__:Error saving D:\\Aamir Gulzar\\KSA_project2\\dataset\\patch_data\\TCGA-CL-4957_nonMSIH\\TCGA-CL-4957_nonMSIH_x56912_y9280_patch03551.png: File D:\\Aamir Gulzar\\KSA_project2\\dataset\\Features\\Uni_2h_fivecrop\\TCGA-CL-4957_nonMSIH\\TCGA-CL-4957_nonMSIH_x56912_y9280_patch03551.pt cannot be opened.\n",
      "ERROR:__main__:Error saving D:\\Aamir Gulzar\\KSA_project2\\dataset\\patch_data\\TCGA-CL-4957_nonMSIH\\TCGA-CL-4957_nonMSIH_x56912_y9792_patch03552.png: File D:\\Aamir Gulzar\\KSA_project2\\dataset\\Features\\Uni_2h_fivecrop\\TCGA-CL-4957_nonMSIH\\TCGA-CL-4957_nonMSIH_x56912_y9792_patch03552.pt cannot be opened.\n",
      "ERROR:__main__:Error saving D:\\Aamir Gulzar\\KSA_project2\\dataset\\patch_data\\TCGA-CL-4957_nonMSIH\\TCGA-CL-4957_nonMSIH_x5712_y13376_patch00195.png: File D:\\Aamir Gulzar\\KSA_project2\\dataset\\Features\\Uni_2h_fivecrop\\TCGA-CL-4957_nonMSIH\\TCGA-CL-4957_nonMSIH_x5712_y13376_patch00195.pt cannot be opened.\n",
      "ERROR:__main__:Error saving D:\\Aamir Gulzar\\KSA_project2\\dataset\\patch_data\\TCGA-CL-4957_nonMSIH\\TCGA-CL-4957_nonMSIH_x5712_y13888_patch00196.png: File D:\\Aamir Gulzar\\KSA_project2\\dataset\\Features\\Uni_2h_fivecrop\\TCGA-CL-4957_nonMSIH\\TCGA-CL-4957_nonMSIH_x5712_y13888_patch00196.pt cannot be opened.\n",
      "ERROR:__main__:Error saving D:\\Aamir Gulzar\\KSA_project2\\dataset\\patch_data\\TCGA-CL-4957_nonMSIH\\TCGA-CL-4957_nonMSIH_x5712_y14400_patch00197.png: File D:\\Aamir Gulzar\\KSA_project2\\dataset\\Features\\Uni_2h_fivecrop\\TCGA-CL-4957_nonMSIH\\TCGA-CL-4957_nonMSIH_x5712_y14400_patch00197.pt cannot be opened.\n",
      "ERROR:__main__:Error saving D:\\Aamir Gulzar\\KSA_project2\\dataset\\patch_data\\TCGA-CL-4957_nonMSIH\\TCGA-CL-4957_nonMSIH_x5712_y14912_patch00198.png: File D:\\Aamir Gulzar\\KSA_project2\\dataset\\Features\\Uni_2h_fivecrop\\TCGA-CL-4957_nonMSIH\\TCGA-CL-4957_nonMSIH_x5712_y14912_patch00198.pt cannot be opened.\n",
      "ERROR:__main__:Error saving D:\\Aamir Gulzar\\KSA_project2\\dataset\\patch_data\\TCGA-CL-4957_nonMSIH\\TCGA-CL-4957_nonMSIH_x5712_y15424_patch00199.png: File D:\\Aamir Gulzar\\KSA_project2\\dataset\\Features\\Uni_2h_fivecrop\\TCGA-CL-4957_nonMSIH\\TCGA-CL-4957_nonMSIH_x5712_y15424_patch00199.pt cannot be opened.\n",
      "ERROR:__main__:Error saving D:\\Aamir Gulzar\\KSA_project2\\dataset\\patch_data\\TCGA-CL-4957_nonMSIH\\TCGA-CL-4957_nonMSIH_x5712_y15936_patch00200.png: File D:\\Aamir Gulzar\\KSA_project2\\dataset\\Features\\Uni_2h_fivecrop\\TCGA-CL-4957_nonMSIH\\TCGA-CL-4957_nonMSIH_x5712_y15936_patch00200.pt cannot be opened.\n",
      "ERROR:__main__:Error saving D:\\Aamir Gulzar\\KSA_project2\\dataset\\patch_data\\TCGA-CL-4957_nonMSIH\\TCGA-CL-4957_nonMSIH_x5712_y16448_patch00201.png: File D:\\Aamir Gulzar\\KSA_project2\\dataset\\Features\\Uni_2h_fivecrop\\TCGA-CL-4957_nonMSIH\\TCGA-CL-4957_nonMSIH_x5712_y16448_patch00201.pt cannot be opened.\n",
      "ERROR:__main__:Error saving D:\\Aamir Gulzar\\KSA_project2\\dataset\\patch_data\\TCGA-CL-4957_nonMSIH\\TCGA-CL-4957_nonMSIH_x5712_y16960_patch00202.png: File D:\\Aamir Gulzar\\KSA_project2\\dataset\\Features\\Uni_2h_fivecrop\\TCGA-CL-4957_nonMSIH\\TCGA-CL-4957_nonMSIH_x5712_y16960_patch00202.pt cannot be opened.\n",
      "ERROR:__main__:Error saving D:\\Aamir Gulzar\\KSA_project2\\dataset\\patch_data\\TCGA-CL-4957_nonMSIH\\TCGA-CL-4957_nonMSIH_x5712_y17472_patch00203.png: File D:\\Aamir Gulzar\\KSA_project2\\dataset\\Features\\Uni_2h_fivecrop\\TCGA-CL-4957_nonMSIH\\TCGA-CL-4957_nonMSIH_x5712_y17472_patch00203.pt cannot be opened.\n",
      "ERROR:__main__:Error saving D:\\Aamir Gulzar\\KSA_project2\\dataset\\patch_data\\TCGA-CL-4957_nonMSIH\\TCGA-CL-4957_nonMSIH_x5712_y18496_patch00205.png: File D:\\Aamir Gulzar\\KSA_project2\\dataset\\Features\\Uni_2h_fivecrop\\TCGA-CL-4957_nonMSIH\\TCGA-CL-4957_nonMSIH_x5712_y18496_patch00205.pt cannot be opened.\n",
      "ERROR:__main__:Error saving D:\\Aamir Gulzar\\KSA_project2\\dataset\\patch_data\\TCGA-CL-4957_nonMSIH\\TCGA-CL-4957_nonMSIH_x5712_y17984_patch00204.png: File D:\\Aamir Gulzar\\KSA_project2\\dataset\\Features\\Uni_2h_fivecrop\\TCGA-CL-4957_nonMSIH\\TCGA-CL-4957_nonMSIH_x5712_y17984_patch00204.pt cannot be opened.\n",
      "ERROR:__main__:Error saving D:\\Aamir Gulzar\\KSA_project2\\dataset\\patch_data\\TCGA-CL-4957_nonMSIH\\TCGA-CL-4957_nonMSIH_x5712_y19008_patch00206.png: File D:\\Aamir Gulzar\\KSA_project2\\dataset\\Features\\Uni_2h_fivecrop\\TCGA-CL-4957_nonMSIH\\TCGA-CL-4957_nonMSIH_x5712_y19008_patch00206.pt cannot be opened.\n",
      "ERROR:__main__:Error saving D:\\Aamir Gulzar\\KSA_project2\\dataset\\patch_data\\TCGA-CL-4957_nonMSIH\\TCGA-CL-4957_nonMSIH_x5712_y19520_patch00207.png: File D:\\Aamir Gulzar\\KSA_project2\\dataset\\Features\\Uni_2h_fivecrop\\TCGA-CL-4957_nonMSIH\\TCGA-CL-4957_nonMSIH_x5712_y19520_patch00207.pt cannot be opened.\n",
      "ERROR:__main__:Error saving D:\\Aamir Gulzar\\KSA_project2\\dataset\\patch_data\\TCGA-CL-4957_nonMSIH\\TCGA-CL-4957_nonMSIH_x5712_y20032_patch00208.png: File D:\\Aamir Gulzar\\KSA_project2\\dataset\\Features\\Uni_2h_fivecrop\\TCGA-CL-4957_nonMSIH\\TCGA-CL-4957_nonMSIH_x5712_y20032_patch00208.pt cannot be opened.\n",
      "ERROR:__main__:Error saving D:\\Aamir Gulzar\\KSA_project2\\dataset\\patch_data\\TCGA-CL-4957_nonMSIH\\TCGA-CL-4957_nonMSIH_x5712_y20544_patch00209.png: File D:\\Aamir Gulzar\\KSA_project2\\dataset\\Features\\Uni_2h_fivecrop\\TCGA-CL-4957_nonMSIH\\TCGA-CL-4957_nonMSIH_x5712_y20544_patch00209.pt cannot be opened.\n",
      "ERROR:__main__:Error saving D:\\Aamir Gulzar\\KSA_project2\\dataset\\patch_data\\TCGA-CL-4957_nonMSIH\\TCGA-CL-4957_nonMSIH_x5712_y21056_patch00210.png: File D:\\Aamir Gulzar\\KSA_project2\\dataset\\Features\\Uni_2h_fivecrop\\TCGA-CL-4957_nonMSIH\\TCGA-CL-4957_nonMSIH_x5712_y21056_patch00210.pt cannot be opened.\n",
      "ERROR:__main__:Error saving D:\\Aamir Gulzar\\KSA_project2\\dataset\\patch_data\\TCGA-CL-4957_nonMSIH\\TCGA-CL-4957_nonMSIH_x5712_y21568_patch00211.png: File D:\\Aamir Gulzar\\KSA_project2\\dataset\\Features\\Uni_2h_fivecrop\\TCGA-CL-4957_nonMSIH\\TCGA-CL-4957_nonMSIH_x5712_y21568_patch00211.pt cannot be opened.\n",
      "ERROR:__main__:Error saving D:\\Aamir Gulzar\\KSA_project2\\dataset\\patch_data\\TCGA-CL-4957_nonMSIH\\TCGA-CL-4957_nonMSIH_x5712_y22080_patch00212.png: File D:\\Aamir Gulzar\\KSA_project2\\dataset\\Features\\Uni_2h_fivecrop\\TCGA-CL-4957_nonMSIH\\TCGA-CL-4957_nonMSIH_x5712_y22080_patch00212.pt cannot be opened.\n",
      "ERROR:__main__:Error saving D:\\Aamir Gulzar\\KSA_project2\\dataset\\patch_data\\TCGA-CL-4957_nonMSIH\\TCGA-CL-4957_nonMSIH_x5712_y22592_patch00213.png: File D:\\Aamir Gulzar\\KSA_project2\\dataset\\Features\\Uni_2h_fivecrop\\TCGA-CL-4957_nonMSIH\\TCGA-CL-4957_nonMSIH_x5712_y22592_patch00213.pt cannot be opened.\n",
      "ERROR:__main__:Error saving D:\\Aamir Gulzar\\KSA_project2\\dataset\\patch_data\\TCGA-CL-4957_nonMSIH\\TCGA-CL-4957_nonMSIH_x5712_y23104_patch00214.png: File D:\\Aamir Gulzar\\KSA_project2\\dataset\\Features\\Uni_2h_fivecrop\\TCGA-CL-4957_nonMSIH\\TCGA-CL-4957_nonMSIH_x5712_y23104_patch00214.pt cannot be opened.\n",
      "ERROR:__main__:Error saving D:\\Aamir Gulzar\\KSA_project2\\dataset\\patch_data\\TCGA-CL-4957_nonMSIH\\TCGA-CL-4957_nonMSIH_x5712_y23616_patch00215.png: File D:\\Aamir Gulzar\\KSA_project2\\dataset\\Features\\Uni_2h_fivecrop\\TCGA-CL-4957_nonMSIH\\TCGA-CL-4957_nonMSIH_x5712_y23616_patch00215.pt cannot be opened.\n",
      "ERROR:__main__:Error saving D:\\Aamir Gulzar\\KSA_project2\\dataset\\patch_data\\TCGA-CL-4957_nonMSIH\\TCGA-CL-4957_nonMSIH_x5712_y24128_patch00216.png: File D:\\Aamir Gulzar\\KSA_project2\\dataset\\Features\\Uni_2h_fivecrop\\TCGA-CL-4957_nonMSIH\\TCGA-CL-4957_nonMSIH_x5712_y24128_patch00216.pt cannot be opened.\n",
      "ERROR:__main__:Error saving D:\\Aamir Gulzar\\KSA_project2\\dataset\\patch_data\\TCGA-CL-4957_nonMSIH\\TCGA-CL-4957_nonMSIH_x5712_y24640_patch00217.png: File D:\\Aamir Gulzar\\KSA_project2\\dataset\\Features\\Uni_2h_fivecrop\\TCGA-CL-4957_nonMSIH\\TCGA-CL-4957_nonMSIH_x5712_y24640_patch00217.pt cannot be opened.\n",
      "ERROR:__main__:Error saving D:\\Aamir Gulzar\\KSA_project2\\dataset\\patch_data\\TCGA-CL-4957_nonMSIH\\TCGA-CL-4957_nonMSIH_x5712_y25152_patch00218.png: File D:\\Aamir Gulzar\\KSA_project2\\dataset\\Features\\Uni_2h_fivecrop\\TCGA-CL-4957_nonMSIH\\TCGA-CL-4957_nonMSIH_x5712_y25152_patch00218.pt cannot be opened.\n",
      "ERROR:__main__:Error saving D:\\Aamir Gulzar\\KSA_project2\\dataset\\patch_data\\TCGA-CL-4957_nonMSIH\\TCGA-CL-4957_nonMSIH_x5712_y25664_patch00219.png: File D:\\Aamir Gulzar\\KSA_project2\\dataset\\Features\\Uni_2h_fivecrop\\TCGA-CL-4957_nonMSIH\\TCGA-CL-4957_nonMSIH_x5712_y25664_patch00219.pt cannot be opened.\n",
      "ERROR:__main__:Error saving D:\\Aamir Gulzar\\KSA_project2\\dataset\\patch_data\\TCGA-CL-4957_nonMSIH\\TCGA-CL-4957_nonMSIH_x5712_y26176_patch00220.png: File D:\\Aamir Gulzar\\KSA_project2\\dataset\\Features\\Uni_2h_fivecrop\\TCGA-CL-4957_nonMSIH\\TCGA-CL-4957_nonMSIH_x5712_y26176_patch00220.pt cannot be opened.\n",
      "ERROR:__main__:Error saving D:\\Aamir Gulzar\\KSA_project2\\dataset\\patch_data\\TCGA-CL-4957_nonMSIH\\TCGA-CL-4957_nonMSIH_x5712_y26688_patch00221.png: File D:\\Aamir Gulzar\\KSA_project2\\dataset\\Features\\Uni_2h_fivecrop\\TCGA-CL-4957_nonMSIH\\TCGA-CL-4957_nonMSIH_x5712_y26688_patch00221.pt cannot be opened.\n",
      "ERROR:__main__:Error saving D:\\Aamir Gulzar\\KSA_project2\\dataset\\patch_data\\TCGA-CL-4957_nonMSIH\\TCGA-CL-4957_nonMSIH_x5712_y27200_patch00222.png: File D:\\Aamir Gulzar\\KSA_project2\\dataset\\Features\\Uni_2h_fivecrop\\TCGA-CL-4957_nonMSIH\\TCGA-CL-4957_nonMSIH_x5712_y27200_patch00222.pt cannot be opened.\n",
      "ERROR:__main__:Error saving D:\\Aamir Gulzar\\KSA_project2\\dataset\\patch_data\\TCGA-CL-4957_nonMSIH\\TCGA-CL-4957_nonMSIH_x57424_y11328_patch03574.png: File D:\\Aamir Gulzar\\KSA_project2\\dataset\\Features\\Uni_2h_fivecrop\\TCGA-CL-4957_nonMSIH\\TCGA-CL-4957_nonMSIH_x57424_y11328_patch03574.pt cannot be opened.\n",
      "ERROR:__main__:Error saving D:\\Aamir Gulzar\\KSA_project2\\dataset\\patch_data\\TCGA-CL-4957_nonMSIH\\TCGA-CL-4957_nonMSIH_x57424_y12352_patch03576.png: File D:\\Aamir Gulzar\\KSA_project2\\dataset\\Features\\Uni_2h_fivecrop\\TCGA-CL-4957_nonMSIH\\TCGA-CL-4957_nonMSIH_x57424_y12352_patch03576.pt cannot be opened.\n",
      "ERROR:__main__:Error saving D:\\Aamir Gulzar\\KSA_project2\\dataset\\patch_data\\TCGA-CL-4957_nonMSIH\\TCGA-CL-4957_nonMSIH_x57424_y11840_patch03575.png: File D:\\Aamir Gulzar\\KSA_project2\\dataset\\Features\\Uni_2h_fivecrop\\TCGA-CL-4957_nonMSIH\\TCGA-CL-4957_nonMSIH_x57424_y11840_patch03575.pt cannot be opened.\n",
      "ERROR:__main__:Error saving D:\\Aamir Gulzar\\KSA_project2\\dataset\\patch_data\\TCGA-CL-4957_nonMSIH\\TCGA-CL-4957_nonMSIH_x57424_y12864_patch03577.png: File D:\\Aamir Gulzar\\KSA_project2\\dataset\\Features\\Uni_2h_fivecrop\\TCGA-CL-4957_nonMSIH\\TCGA-CL-4957_nonMSIH_x57424_y12864_patch03577.pt cannot be opened.\n",
      "ERROR:__main__:Error saving D:\\Aamir Gulzar\\KSA_project2\\dataset\\patch_data\\TCGA-CL-4957_nonMSIH\\TCGA-CL-4957_nonMSIH_x57424_y13376_patch03578.png: File D:\\Aamir Gulzar\\KSA_project2\\dataset\\Features\\Uni_2h_fivecrop\\TCGA-CL-4957_nonMSIH\\TCGA-CL-4957_nonMSIH_x57424_y13376_patch03578.pt cannot be opened.\n",
      "ERROR:__main__:Error saving D:\\Aamir Gulzar\\KSA_project2\\dataset\\patch_data\\TCGA-CL-4957_nonMSIH\\TCGA-CL-4957_nonMSIH_x57424_y13888_patch03579.png: File D:\\Aamir Gulzar\\KSA_project2\\dataset\\Features\\Uni_2h_fivecrop\\TCGA-CL-4957_nonMSIH\\TCGA-CL-4957_nonMSIH_x57424_y13888_patch03579.pt cannot be opened.\n",
      "ERROR:__main__:Error saving D:\\Aamir Gulzar\\KSA_project2\\dataset\\patch_data\\TCGA-CL-4957_nonMSIH\\TCGA-CL-4957_nonMSIH_x57424_y14400_patch03580.png: File D:\\Aamir Gulzar\\KSA_project2\\dataset\\Features\\Uni_2h_fivecrop\\TCGA-CL-4957_nonMSIH\\TCGA-CL-4957_nonMSIH_x57424_y14400_patch03580.pt cannot be opened.\n",
      "ERROR:__main__:Error saving D:\\Aamir Gulzar\\KSA_project2\\dataset\\patch_data\\TCGA-CL-4957_nonMSIH\\TCGA-CL-4957_nonMSIH_x57424_y14912_patch03581.png: File D:\\Aamir Gulzar\\KSA_project2\\dataset\\Features\\Uni_2h_fivecrop\\TCGA-CL-4957_nonMSIH\\TCGA-CL-4957_nonMSIH_x57424_y14912_patch03581.pt cannot be opened.\n",
      "ERROR:__main__:Error saving D:\\Aamir Gulzar\\KSA_project2\\dataset\\patch_data\\TCGA-CL-4957_nonMSIH\\TCGA-CL-4957_nonMSIH_x57424_y15424_patch03582.png: File D:\\Aamir Gulzar\\KSA_project2\\dataset\\Features\\Uni_2h_fivecrop\\TCGA-CL-4957_nonMSIH\\TCGA-CL-4957_nonMSIH_x57424_y15424_patch03582.pt cannot be opened.\n",
      "ERROR:__main__:Error saving D:\\Aamir Gulzar\\KSA_project2\\dataset\\patch_data\\TCGA-CL-4957_nonMSIH\\TCGA-CL-4957_nonMSIH_x57424_y15936_patch03583.png: File D:\\Aamir Gulzar\\KSA_project2\\dataset\\Features\\Uni_2h_fivecrop\\TCGA-CL-4957_nonMSIH\\TCGA-CL-4957_nonMSIH_x57424_y15936_patch03583.pt cannot be opened.\n",
      "ERROR:__main__:Error saving D:\\Aamir Gulzar\\KSA_project2\\dataset\\patch_data\\TCGA-CL-4957_nonMSIH\\TCGA-CL-4957_nonMSIH_x57424_y16448_patch03584.png: File D:\\Aamir Gulzar\\KSA_project2\\dataset\\Features\\Uni_2h_fivecrop\\TCGA-CL-4957_nonMSIH\\TCGA-CL-4957_nonMSIH_x57424_y16448_patch03584.pt cannot be opened.\n",
      "ERROR:__main__:Error saving D:\\Aamir Gulzar\\KSA_project2\\dataset\\patch_data\\TCGA-CL-4957_nonMSIH\\TCGA-CL-4957_nonMSIH_x57424_y16960_patch03585.png: File D:\\Aamir Gulzar\\KSA_project2\\dataset\\Features\\Uni_2h_fivecrop\\TCGA-CL-4957_nonMSIH\\TCGA-CL-4957_nonMSIH_x57424_y16960_patch03585.pt cannot be opened.\n",
      "ERROR:__main__:Error saving D:\\Aamir Gulzar\\KSA_project2\\dataset\\patch_data\\TCGA-CL-4957_nonMSIH\\TCGA-CL-4957_nonMSIH_x57424_y17472_patch03586.png: File D:\\Aamir Gulzar\\KSA_project2\\dataset\\Features\\Uni_2h_fivecrop\\TCGA-CL-4957_nonMSIH\\TCGA-CL-4957_nonMSIH_x57424_y17472_patch03586.pt cannot be opened.\n",
      "ERROR:__main__:Error saving D:\\Aamir Gulzar\\KSA_project2\\dataset\\patch_data\\TCGA-CL-4957_nonMSIH\\TCGA-CL-4957_nonMSIH_x57424_y17984_patch03587.png: File D:\\Aamir Gulzar\\KSA_project2\\dataset\\Features\\Uni_2h_fivecrop\\TCGA-CL-4957_nonMSIH\\TCGA-CL-4957_nonMSIH_x57424_y17984_patch03587.pt cannot be opened.\n",
      "ERROR:__main__:Error saving D:\\Aamir Gulzar\\KSA_project2\\dataset\\patch_data\\TCGA-CL-4957_nonMSIH\\TCGA-CL-4957_nonMSIH_x57424_y18496_patch03588.png: File D:\\Aamir Gulzar\\KSA_project2\\dataset\\Features\\Uni_2h_fivecrop\\TCGA-CL-4957_nonMSIH\\TCGA-CL-4957_nonMSIH_x57424_y18496_patch03588.pt cannot be opened.\n",
      "ERROR:__main__:Error saving D:\\Aamir Gulzar\\KSA_project2\\dataset\\patch_data\\TCGA-CL-4957_nonMSIH\\TCGA-CL-4957_nonMSIH_x57424_y19008_patch03589.png: File D:\\Aamir Gulzar\\KSA_project2\\dataset\\Features\\Uni_2h_fivecrop\\TCGA-CL-4957_nonMSIH\\TCGA-CL-4957_nonMSIH_x57424_y19008_patch03589.pt cannot be opened.\n",
      "ERROR:__main__:Error saving D:\\Aamir Gulzar\\KSA_project2\\dataset\\patch_data\\TCGA-CL-4957_nonMSIH\\TCGA-CL-4957_nonMSIH_x57424_y19520_patch03590.png: File D:\\Aamir Gulzar\\KSA_project2\\dataset\\Features\\Uni_2h_fivecrop\\TCGA-CL-4957_nonMSIH\\TCGA-CL-4957_nonMSIH_x57424_y19520_patch03590.pt cannot be opened.\n",
      "ERROR:__main__:Error saving D:\\Aamir Gulzar\\KSA_project2\\dataset\\patch_data\\TCGA-CL-4957_nonMSIH\\TCGA-CL-4957_nonMSIH_x57424_y20032_patch03591.png: File D:\\Aamir Gulzar\\KSA_project2\\dataset\\Features\\Uni_2h_fivecrop\\TCGA-CL-4957_nonMSIH\\TCGA-CL-4957_nonMSIH_x57424_y20032_patch03591.pt cannot be opened.\n",
      "ERROR:__main__:Error saving D:\\Aamir Gulzar\\KSA_project2\\dataset\\patch_data\\TCGA-CL-4957_nonMSIH\\TCGA-CL-4957_nonMSIH_x57424_y9792_patch03573.png: File D:\\Aamir Gulzar\\KSA_project2\\dataset\\Features\\Uni_2h_fivecrop\\TCGA-CL-4957_nonMSIH\\TCGA-CL-4957_nonMSIH_x57424_y9792_patch03573.pt cannot be opened.\n",
      "ERROR:__main__:Error saving D:\\Aamir Gulzar\\KSA_project2\\dataset\\patch_data\\TCGA-CL-4957_nonMSIH\\TCGA-CL-4957_nonMSIH_x57936_y11328_patch03592.png: File D:\\Aamir Gulzar\\KSA_project2\\dataset\\Features\\Uni_2h_fivecrop\\TCGA-CL-4957_nonMSIH\\TCGA-CL-4957_nonMSIH_x57936_y11328_patch03592.pt cannot be opened.\n",
      "ERROR:__main__:Error saving D:\\Aamir Gulzar\\KSA_project2\\dataset\\patch_data\\TCGA-CL-4957_nonMSIH\\TCGA-CL-4957_nonMSIH_x57936_y11840_patch03593.png: File D:\\Aamir Gulzar\\KSA_project2\\dataset\\Features\\Uni_2h_fivecrop\\TCGA-CL-4957_nonMSIH\\TCGA-CL-4957_nonMSIH_x57936_y11840_patch03593.pt cannot be opened.\n",
      "ERROR:__main__:Error saving D:\\Aamir Gulzar\\KSA_project2\\dataset\\patch_data\\TCGA-CL-4957_nonMSIH\\TCGA-CL-4957_nonMSIH_x57936_y12352_patch03594.png: File D:\\Aamir Gulzar\\KSA_project2\\dataset\\Features\\Uni_2h_fivecrop\\TCGA-CL-4957_nonMSIH\\TCGA-CL-4957_nonMSIH_x57936_y12352_patch03594.pt cannot be opened.\n",
      "ERROR:__main__:Error saving D:\\Aamir Gulzar\\KSA_project2\\dataset\\patch_data\\TCGA-CL-4957_nonMSIH\\TCGA-CL-4957_nonMSIH_x57936_y12864_patch03595.png: File D:\\Aamir Gulzar\\KSA_project2\\dataset\\Features\\Uni_2h_fivecrop\\TCGA-CL-4957_nonMSIH\\TCGA-CL-4957_nonMSIH_x57936_y12864_patch03595.pt cannot be opened.\n",
      "ERROR:__main__:Error saving D:\\Aamir Gulzar\\KSA_project2\\dataset\\patch_data\\TCGA-CL-4957_nonMSIH\\TCGA-CL-4957_nonMSIH_x57936_y13376_patch03596.png: File D:\\Aamir Gulzar\\KSA_project2\\dataset\\Features\\Uni_2h_fivecrop\\TCGA-CL-4957_nonMSIH\\TCGA-CL-4957_nonMSIH_x57936_y13376_patch03596.pt cannot be opened.\n",
      "ERROR:__main__:Error saving D:\\Aamir Gulzar\\KSA_project2\\dataset\\patch_data\\TCGA-CL-4957_nonMSIH\\TCGA-CL-4957_nonMSIH_x57936_y13888_patch03597.png: File D:\\Aamir Gulzar\\KSA_project2\\dataset\\Features\\Uni_2h_fivecrop\\TCGA-CL-4957_nonMSIH\\TCGA-CL-4957_nonMSIH_x57936_y13888_patch03597.pt cannot be opened.\n",
      "ERROR:__main__:Error saving D:\\Aamir Gulzar\\KSA_project2\\dataset\\patch_data\\TCGA-CL-4957_nonMSIH\\TCGA-CL-4957_nonMSIH_x57936_y14400_patch03598.png: File D:\\Aamir Gulzar\\KSA_project2\\dataset\\Features\\Uni_2h_fivecrop\\TCGA-CL-4957_nonMSIH\\TCGA-CL-4957_nonMSIH_x57936_y14400_patch03598.pt cannot be opened.\n",
      "ERROR:__main__:Error saving D:\\Aamir Gulzar\\KSA_project2\\dataset\\patch_data\\TCGA-CL-4957_nonMSIH\\TCGA-CL-4957_nonMSIH_x57936_y14912_patch03599.png: File D:\\Aamir Gulzar\\KSA_project2\\dataset\\Features\\Uni_2h_fivecrop\\TCGA-CL-4957_nonMSIH\\TCGA-CL-4957_nonMSIH_x57936_y14912_patch03599.pt cannot be opened.\n",
      "ERROR:__main__:Error saving D:\\Aamir Gulzar\\KSA_project2\\dataset\\patch_data\\TCGA-CL-4957_nonMSIH\\TCGA-CL-4957_nonMSIH_x57936_y15424_patch03600.png: File D:\\Aamir Gulzar\\KSA_project2\\dataset\\Features\\Uni_2h_fivecrop\\TCGA-CL-4957_nonMSIH\\TCGA-CL-4957_nonMSIH_x57936_y15424_patch03600.pt cannot be opened.\n",
      "ERROR:__main__:Error saving D:\\Aamir Gulzar\\KSA_project2\\dataset\\patch_data\\TCGA-CL-4957_nonMSIH\\TCGA-CL-4957_nonMSIH_x57936_y15936_patch03601.png: File D:\\Aamir Gulzar\\KSA_project2\\dataset\\Features\\Uni_2h_fivecrop\\TCGA-CL-4957_nonMSIH\\TCGA-CL-4957_nonMSIH_x57936_y15936_patch03601.pt cannot be opened.\n",
      "ERROR:__main__:Error saving D:\\Aamir Gulzar\\KSA_project2\\dataset\\patch_data\\TCGA-CL-4957_nonMSIH\\TCGA-CL-4957_nonMSIH_x57936_y16960_patch03603.png: File D:\\Aamir Gulzar\\KSA_project2\\dataset\\Features\\Uni_2h_fivecrop\\TCGA-CL-4957_nonMSIH\\TCGA-CL-4957_nonMSIH_x57936_y16960_patch03603.pt cannot be opened.\n",
      "ERROR:__main__:Error saving D:\\Aamir Gulzar\\KSA_project2\\dataset\\patch_data\\TCGA-CL-4957_nonMSIH\\TCGA-CL-4957_nonMSIH_x57936_y16448_patch03602.png: File D:\\Aamir Gulzar\\KSA_project2\\dataset\\Features\\Uni_2h_fivecrop\\TCGA-CL-4957_nonMSIH\\TCGA-CL-4957_nonMSIH_x57936_y16448_patch03602.pt cannot be opened.\n",
      "ERROR:__main__:Error saving D:\\Aamir Gulzar\\KSA_project2\\dataset\\patch_data\\TCGA-CL-4957_nonMSIH\\TCGA-CL-4957_nonMSIH_x57936_y17472_patch03604.png: File D:\\Aamir Gulzar\\KSA_project2\\dataset\\Features\\Uni_2h_fivecrop\\TCGA-CL-4957_nonMSIH\\TCGA-CL-4957_nonMSIH_x57936_y17472_patch03604.pt cannot be opened.\n",
      "ERROR:__main__:Error saving D:\\Aamir Gulzar\\KSA_project2\\dataset\\patch_data\\TCGA-CL-4957_nonMSIH\\TCGA-CL-4957_nonMSIH_x57936_y17984_patch03605.png: File D:\\Aamir Gulzar\\KSA_project2\\dataset\\Features\\Uni_2h_fivecrop\\TCGA-CL-4957_nonMSIH\\TCGA-CL-4957_nonMSIH_x57936_y17984_patch03605.pt cannot be opened.\n",
      "ERROR:__main__:Error saving D:\\Aamir Gulzar\\KSA_project2\\dataset\\patch_data\\TCGA-CL-4957_nonMSIH\\TCGA-CL-4957_nonMSIH_x57936_y18496_patch03606.png: File D:\\Aamir Gulzar\\KSA_project2\\dataset\\Features\\Uni_2h_fivecrop\\TCGA-CL-4957_nonMSIH\\TCGA-CL-4957_nonMSIH_x57936_y18496_patch03606.pt cannot be opened.\n",
      "ERROR:__main__:Error saving D:\\Aamir Gulzar\\KSA_project2\\dataset\\patch_data\\TCGA-CL-4957_nonMSIH\\TCGA-CL-4957_nonMSIH_x57936_y19008_patch03607.png: File D:\\Aamir Gulzar\\KSA_project2\\dataset\\Features\\Uni_2h_fivecrop\\TCGA-CL-4957_nonMSIH\\TCGA-CL-4957_nonMSIH_x57936_y19008_patch03607.pt cannot be opened.\n",
      "ERROR:__main__:Error saving D:\\Aamir Gulzar\\KSA_project2\\dataset\\patch_data\\TCGA-CL-4957_nonMSIH\\TCGA-CL-4957_nonMSIH_x57936_y19520_patch03608.png: File D:\\Aamir Gulzar\\KSA_project2\\dataset\\Features\\Uni_2h_fivecrop\\TCGA-CL-4957_nonMSIH\\TCGA-CL-4957_nonMSIH_x57936_y19520_patch03608.pt cannot be opened.\n",
      "ERROR:__main__:Error saving D:\\Aamir Gulzar\\KSA_project2\\dataset\\patch_data\\TCGA-CL-4957_nonMSIH\\TCGA-CL-4957_nonMSIH_x57936_y20032_patch03609.png: File D:\\Aamir Gulzar\\KSA_project2\\dataset\\Features\\Uni_2h_fivecrop\\TCGA-CL-4957_nonMSIH\\TCGA-CL-4957_nonMSIH_x57936_y20032_patch03609.pt cannot be opened.\n",
      "ERROR:__main__:Error saving D:\\Aamir Gulzar\\KSA_project2\\dataset\\patch_data\\TCGA-CL-4957_nonMSIH\\TCGA-CL-4957_nonMSIH_x58448_y13376_patch03610.png: File D:\\Aamir Gulzar\\KSA_project2\\dataset\\Features\\Uni_2h_fivecrop\\TCGA-CL-4957_nonMSIH\\TCGA-CL-4957_nonMSIH_x58448_y13376_patch03610.pt cannot be opened.\n",
      "ERROR:__main__:Error saving D:\\Aamir Gulzar\\KSA_project2\\dataset\\patch_data\\TCGA-CL-4957_nonMSIH\\TCGA-CL-4957_nonMSIH_x58448_y13888_patch03611.png: File D:\\Aamir Gulzar\\KSA_project2\\dataset\\Features\\Uni_2h_fivecrop\\TCGA-CL-4957_nonMSIH\\TCGA-CL-4957_nonMSIH_x58448_y13888_patch03611.pt cannot be opened.\n",
      "ERROR:__main__:Error saving D:\\Aamir Gulzar\\KSA_project2\\dataset\\patch_data\\TCGA-CL-4957_nonMSIH\\TCGA-CL-4957_nonMSIH_x58448_y14400_patch03612.png: File D:\\Aamir Gulzar\\KSA_project2\\dataset\\Features\\Uni_2h_fivecrop\\TCGA-CL-4957_nonMSIH\\TCGA-CL-4957_nonMSIH_x58448_y14400_patch03612.pt cannot be opened.\n",
      "ERROR:__main__:Error saving D:\\Aamir Gulzar\\KSA_project2\\dataset\\patch_data\\TCGA-CL-4957_nonMSIH\\TCGA-CL-4957_nonMSIH_x58448_y14912_patch03613.png: File D:\\Aamir Gulzar\\KSA_project2\\dataset\\Features\\Uni_2h_fivecrop\\TCGA-CL-4957_nonMSIH\\TCGA-CL-4957_nonMSIH_x58448_y14912_patch03613.pt cannot be opened.\n",
      "ERROR:__main__:Error saving D:\\Aamir Gulzar\\KSA_project2\\dataset\\patch_data\\TCGA-CL-4957_nonMSIH\\TCGA-CL-4957_nonMSIH_x58448_y15424_patch03614.png: File D:\\Aamir Gulzar\\KSA_project2\\dataset\\Features\\Uni_2h_fivecrop\\TCGA-CL-4957_nonMSIH\\TCGA-CL-4957_nonMSIH_x58448_y15424_patch03614.pt cannot be opened.\n",
      "ERROR:__main__:Error saving D:\\Aamir Gulzar\\KSA_project2\\dataset\\patch_data\\TCGA-CL-4957_nonMSIH\\TCGA-CL-4957_nonMSIH_x58448_y15936_patch03615.png: File D:\\Aamir Gulzar\\KSA_project2\\dataset\\Features\\Uni_2h_fivecrop\\TCGA-CL-4957_nonMSIH\\TCGA-CL-4957_nonMSIH_x58448_y15936_patch03615.pt cannot be opened.\n",
      "ERROR:__main__:Error saving D:\\Aamir Gulzar\\KSA_project2\\dataset\\patch_data\\TCGA-CL-4957_nonMSIH\\TCGA-CL-4957_nonMSIH_x58448_y16448_patch03616.png: File D:\\Aamir Gulzar\\KSA_project2\\dataset\\Features\\Uni_2h_fivecrop\\TCGA-CL-4957_nonMSIH\\TCGA-CL-4957_nonMSIH_x58448_y16448_patch03616.pt cannot be opened.\n",
      "ERROR:__main__:Error saving D:\\Aamir Gulzar\\KSA_project2\\dataset\\patch_data\\TCGA-CL-4957_nonMSIH\\TCGA-CL-4957_nonMSIH_x58448_y16960_patch03617.png: File D:\\Aamir Gulzar\\KSA_project2\\dataset\\Features\\Uni_2h_fivecrop\\TCGA-CL-4957_nonMSIH\\TCGA-CL-4957_nonMSIH_x58448_y16960_patch03617.pt cannot be opened.\n",
      "ERROR:__main__:Error saving D:\\Aamir Gulzar\\KSA_project2\\dataset\\patch_data\\TCGA-CL-4957_nonMSIH\\TCGA-CL-4957_nonMSIH_x58448_y17472_patch03618.png: File D:\\Aamir Gulzar\\KSA_project2\\dataset\\Features\\Uni_2h_fivecrop\\TCGA-CL-4957_nonMSIH\\TCGA-CL-4957_nonMSIH_x58448_y17472_patch03618.pt cannot be opened.\n",
      "ERROR:__main__:Error saving D:\\Aamir Gulzar\\KSA_project2\\dataset\\patch_data\\TCGA-CL-4957_nonMSIH\\TCGA-CL-4957_nonMSIH_x58448_y17984_patch03619.png: File D:\\Aamir Gulzar\\KSA_project2\\dataset\\Features\\Uni_2h_fivecrop\\TCGA-CL-4957_nonMSIH\\TCGA-CL-4957_nonMSIH_x58448_y17984_patch03619.pt cannot be opened.\n",
      "ERROR:__main__:Error saving D:\\Aamir Gulzar\\KSA_project2\\dataset\\patch_data\\TCGA-CL-4957_nonMSIH\\TCGA-CL-4957_nonMSIH_x58448_y18496_patch03620.png: File D:\\Aamir Gulzar\\KSA_project2\\dataset\\Features\\Uni_2h_fivecrop\\TCGA-CL-4957_nonMSIH\\TCGA-CL-4957_nonMSIH_x58448_y18496_patch03620.pt cannot be opened.\n",
      "ERROR:__main__:Error saving D:\\Aamir Gulzar\\KSA_project2\\dataset\\patch_data\\TCGA-CL-4957_nonMSIH\\TCGA-CL-4957_nonMSIH_x58448_y19008_patch03621.png: File D:\\Aamir Gulzar\\KSA_project2\\dataset\\Features\\Uni_2h_fivecrop\\TCGA-CL-4957_nonMSIH\\TCGA-CL-4957_nonMSIH_x58448_y19008_patch03621.pt cannot be opened.\n",
      "ERROR:__main__:Error saving D:\\Aamir Gulzar\\KSA_project2\\dataset\\patch_data\\TCGA-CL-4957_nonMSIH\\TCGA-CL-4957_nonMSIH_x58448_y19520_patch03622.png: File D:\\Aamir Gulzar\\KSA_project2\\dataset\\Features\\Uni_2h_fivecrop\\TCGA-CL-4957_nonMSIH\\TCGA-CL-4957_nonMSIH_x58448_y19520_patch03622.pt cannot be opened.\n",
      "ERROR:__main__:Error saving D:\\Aamir Gulzar\\KSA_project2\\dataset\\patch_data\\TCGA-CL-4957_nonMSIH\\TCGA-CL-4957_nonMSIH_x58960_y14912_patch03623.png: File D:\\Aamir Gulzar\\KSA_project2\\dataset\\Features\\Uni_2h_fivecrop\\TCGA-CL-4957_nonMSIH\\TCGA-CL-4957_nonMSIH_x58960_y14912_patch03623.pt cannot be opened.\n",
      "ERROR:__main__:Error saving D:\\Aamir Gulzar\\KSA_project2\\dataset\\patch_data\\TCGA-CL-4957_nonMSIH\\TCGA-CL-4957_nonMSIH_x58960_y15424_patch03624.png: File D:\\Aamir Gulzar\\KSA_project2\\dataset\\Features\\Uni_2h_fivecrop\\TCGA-CL-4957_nonMSIH\\TCGA-CL-4957_nonMSIH_x58960_y15424_patch03624.pt cannot be opened.\n",
      "ERROR:__main__:Error saving D:\\Aamir Gulzar\\KSA_project2\\dataset\\patch_data\\TCGA-CL-4957_nonMSIH\\TCGA-CL-4957_nonMSIH_x58960_y15936_patch03625.png: File D:\\Aamir Gulzar\\KSA_project2\\dataset\\Features\\Uni_2h_fivecrop\\TCGA-CL-4957_nonMSIH\\TCGA-CL-4957_nonMSIH_x58960_y15936_patch03625.pt cannot be opened.\n",
      "ERROR:__main__:Error saving D:\\Aamir Gulzar\\KSA_project2\\dataset\\patch_data\\TCGA-CL-4957_nonMSIH\\TCGA-CL-4957_nonMSIH_x58960_y16448_patch03626.png: File D:\\Aamir Gulzar\\KSA_project2\\dataset\\Features\\Uni_2h_fivecrop\\TCGA-CL-4957_nonMSIH\\TCGA-CL-4957_nonMSIH_x58960_y16448_patch03626.pt cannot be opened.\n",
      "ERROR:__main__:Error saving D:\\Aamir Gulzar\\KSA_project2\\dataset\\patch_data\\TCGA-CL-4957_nonMSIH\\TCGA-CL-4957_nonMSIH_x58960_y16960_patch03627.png: File D:\\Aamir Gulzar\\KSA_project2\\dataset\\Features\\Uni_2h_fivecrop\\TCGA-CL-4957_nonMSIH\\TCGA-CL-4957_nonMSIH_x58960_y16960_patch03627.pt cannot be opened.\n",
      "ERROR:__main__:Error saving D:\\Aamir Gulzar\\KSA_project2\\dataset\\patch_data\\TCGA-CL-4957_nonMSIH\\TCGA-CL-4957_nonMSIH_x58960_y17472_patch03628.png: File D:\\Aamir Gulzar\\KSA_project2\\dataset\\Features\\Uni_2h_fivecrop\\TCGA-CL-4957_nonMSIH\\TCGA-CL-4957_nonMSIH_x58960_y17472_patch03628.pt cannot be opened.\n",
      "ERROR:__main__:Error saving D:\\Aamir Gulzar\\KSA_project2\\dataset\\patch_data\\TCGA-CL-4957_nonMSIH\\TCGA-CL-4957_nonMSIH_x58960_y17984_patch03629.png: File D:\\Aamir Gulzar\\KSA_project2\\dataset\\Features\\Uni_2h_fivecrop\\TCGA-CL-4957_nonMSIH\\TCGA-CL-4957_nonMSIH_x58960_y17984_patch03629.pt cannot be opened.\n",
      "ERROR:__main__:Error saving D:\\Aamir Gulzar\\KSA_project2\\dataset\\patch_data\\TCGA-CL-4957_nonMSIH\\TCGA-CL-4957_nonMSIH_x58960_y18496_patch03630.png: File D:\\Aamir Gulzar\\KSA_project2\\dataset\\Features\\Uni_2h_fivecrop\\TCGA-CL-4957_nonMSIH\\TCGA-CL-4957_nonMSIH_x58960_y18496_patch03630.pt cannot be opened.\n",
      "ERROR:__main__:Error saving D:\\Aamir Gulzar\\KSA_project2\\dataset\\patch_data\\TCGA-CL-4957_nonMSIH\\TCGA-CL-4957_nonMSIH_x58960_y19008_patch03631.png: File D:\\Aamir Gulzar\\KSA_project2\\dataset\\Features\\Uni_2h_fivecrop\\TCGA-CL-4957_nonMSIH\\TCGA-CL-4957_nonMSIH_x58960_y19008_patch03631.pt cannot be opened.\n",
      "ERROR:__main__:Error saving D:\\Aamir Gulzar\\KSA_project2\\dataset\\patch_data\\TCGA-CL-4957_nonMSIH\\TCGA-CL-4957_nonMSIH_x58960_y19520_patch03632.png: File D:\\Aamir Gulzar\\KSA_project2\\dataset\\Features\\Uni_2h_fivecrop\\TCGA-CL-4957_nonMSIH\\TCGA-CL-4957_nonMSIH_x58960_y19520_patch03632.pt cannot be opened.\n",
      "ERROR:__main__:Error saving D:\\Aamir Gulzar\\KSA_project2\\dataset\\patch_data\\TCGA-CL-4957_nonMSIH\\TCGA-CL-4957_nonMSIH_x592_y21056_patch00001.png: File D:\\Aamir Gulzar\\KSA_project2\\dataset\\Features\\Uni_2h_fivecrop\\TCGA-CL-4957_nonMSIH\\TCGA-CL-4957_nonMSIH_x592_y21056_patch00001.pt cannot be opened.\n",
      "ERROR:__main__:Error saving D:\\Aamir Gulzar\\KSA_project2\\dataset\\patch_data\\TCGA-CL-4957_nonMSIH\\TCGA-CL-4957_nonMSIH_x592_y21568_patch00002.png: File D:\\Aamir Gulzar\\KSA_project2\\dataset\\Features\\Uni_2h_fivecrop\\TCGA-CL-4957_nonMSIH\\TCGA-CL-4957_nonMSIH_x592_y21568_patch00002.pt cannot be opened.\n",
      "ERROR:__main__:Error saving D:\\Aamir Gulzar\\KSA_project2\\dataset\\patch_data\\TCGA-CL-4957_nonMSIH\\TCGA-CL-4957_nonMSIH_x592_y22080_patch00003.png: File D:\\Aamir Gulzar\\KSA_project2\\dataset\\Features\\Uni_2h_fivecrop\\TCGA-CL-4957_nonMSIH\\TCGA-CL-4957_nonMSIH_x592_y22080_patch00003.pt cannot be opened.\n",
      "ERROR:__main__:Error saving D:\\Aamir Gulzar\\KSA_project2\\dataset\\patch_data\\TCGA-CL-4957_nonMSIH\\TCGA-CL-4957_nonMSIH_x592_y22592_patch00004.png: File D:\\Aamir Gulzar\\KSA_project2\\dataset\\Features\\Uni_2h_fivecrop\\TCGA-CL-4957_nonMSIH\\TCGA-CL-4957_nonMSIH_x592_y22592_patch00004.pt cannot be opened.\n",
      "ERROR:__main__:Error saving D:\\Aamir Gulzar\\KSA_project2\\dataset\\patch_data\\TCGA-CL-4957_nonMSIH\\TCGA-CL-4957_nonMSIH_x59472_y17472_patch03633.png: File D:\\Aamir Gulzar\\KSA_project2\\dataset\\Features\\Uni_2h_fivecrop\\TCGA-CL-4957_nonMSIH\\TCGA-CL-4957_nonMSIH_x59472_y17472_patch03633.pt cannot be opened.\n",
      "ERROR:__main__:Error saving D:\\Aamir Gulzar\\KSA_project2\\dataset\\patch_data\\TCGA-CL-4957_nonMSIH\\TCGA-CL-4957_nonMSIH_x59472_y17984_patch03634.png: File D:\\Aamir Gulzar\\KSA_project2\\dataset\\Features\\Uni_2h_fivecrop\\TCGA-CL-4957_nonMSIH\\TCGA-CL-4957_nonMSIH_x59472_y17984_patch03634.pt cannot be opened.\n",
      "ERROR:__main__:Error saving D:\\Aamir Gulzar\\KSA_project2\\dataset\\patch_data\\TCGA-CL-4957_nonMSIH\\TCGA-CL-4957_nonMSIH_x6224_y13376_patch00223.png: File D:\\Aamir Gulzar\\KSA_project2\\dataset\\Features\\Uni_2h_fivecrop\\TCGA-CL-4957_nonMSIH\\TCGA-CL-4957_nonMSIH_x6224_y13376_patch00223.pt cannot be opened.\n",
      "ERROR:__main__:Error saving D:\\Aamir Gulzar\\KSA_project2\\dataset\\patch_data\\TCGA-CL-4957_nonMSIH\\TCGA-CL-4957_nonMSIH_x6224_y13888_patch00224.png: File D:\\Aamir Gulzar\\KSA_project2\\dataset\\Features\\Uni_2h_fivecrop\\TCGA-CL-4957_nonMSIH\\TCGA-CL-4957_nonMSIH_x6224_y13888_patch00224.pt cannot be opened.\n",
      "ERROR:__main__:Error saving D:\\Aamir Gulzar\\KSA_project2\\dataset\\patch_data\\TCGA-CL-4957_nonMSIH\\TCGA-CL-4957_nonMSIH_x6224_y14400_patch00225.png: File D:\\Aamir Gulzar\\KSA_project2\\dataset\\Features\\Uni_2h_fivecrop\\TCGA-CL-4957_nonMSIH\\TCGA-CL-4957_nonMSIH_x6224_y14400_patch00225.pt cannot be opened.\n",
      "ERROR:__main__:Error saving D:\\Aamir Gulzar\\KSA_project2\\dataset\\patch_data\\TCGA-CL-4957_nonMSIH\\TCGA-CL-4957_nonMSIH_x6224_y14912_patch00226.png: File D:\\Aamir Gulzar\\KSA_project2\\dataset\\Features\\Uni_2h_fivecrop\\TCGA-CL-4957_nonMSIH\\TCGA-CL-4957_nonMSIH_x6224_y14912_patch00226.pt cannot be opened.\n",
      "ERROR:__main__:Error saving D:\\Aamir Gulzar\\KSA_project2\\dataset\\patch_data\\TCGA-CL-4957_nonMSIH\\TCGA-CL-4957_nonMSIH_x6224_y15424_patch00227.png: File D:\\Aamir Gulzar\\KSA_project2\\dataset\\Features\\Uni_2h_fivecrop\\TCGA-CL-4957_nonMSIH\\TCGA-CL-4957_nonMSIH_x6224_y15424_patch00227.pt cannot be opened.\n",
      "ERROR:__main__:Error saving D:\\Aamir Gulzar\\KSA_project2\\dataset\\patch_data\\TCGA-CL-4957_nonMSIH\\TCGA-CL-4957_nonMSIH_x6224_y16448_patch00229.png: File D:\\Aamir Gulzar\\KSA_project2\\dataset\\Features\\Uni_2h_fivecrop\\TCGA-CL-4957_nonMSIH\\TCGA-CL-4957_nonMSIH_x6224_y16448_patch00229.pt cannot be opened.\n",
      "ERROR:__main__:Error saving D:\\Aamir Gulzar\\KSA_project2\\dataset\\patch_data\\TCGA-CL-4957_nonMSIH\\TCGA-CL-4957_nonMSIH_x6224_y15936_patch00228.png: File D:\\Aamir Gulzar\\KSA_project2\\dataset\\Features\\Uni_2h_fivecrop\\TCGA-CL-4957_nonMSIH\\TCGA-CL-4957_nonMSIH_x6224_y15936_patch00228.pt cannot be opened.\n",
      "ERROR:__main__:Error saving D:\\Aamir Gulzar\\KSA_project2\\dataset\\patch_data\\TCGA-CL-4957_nonMSIH\\TCGA-CL-4957_nonMSIH_x6224_y16960_patch00230.png: File D:\\Aamir Gulzar\\KSA_project2\\dataset\\Features\\Uni_2h_fivecrop\\TCGA-CL-4957_nonMSIH\\TCGA-CL-4957_nonMSIH_x6224_y16960_patch00230.pt cannot be opened.\n",
      "ERROR:__main__:Error saving D:\\Aamir Gulzar\\KSA_project2\\dataset\\patch_data\\TCGA-CL-4957_nonMSIH\\TCGA-CL-4957_nonMSIH_x6224_y17472_patch00231.png: File D:\\Aamir Gulzar\\KSA_project2\\dataset\\Features\\Uni_2h_fivecrop\\TCGA-CL-4957_nonMSIH\\TCGA-CL-4957_nonMSIH_x6224_y17472_patch00231.pt cannot be opened.\n",
      "ERROR:__main__:Error saving D:\\Aamir Gulzar\\KSA_project2\\dataset\\patch_data\\TCGA-CL-4957_nonMSIH\\TCGA-CL-4957_nonMSIH_x6224_y19008_patch00232.png: File D:\\Aamir Gulzar\\KSA_project2\\dataset\\Features\\Uni_2h_fivecrop\\TCGA-CL-4957_nonMSIH\\TCGA-CL-4957_nonMSIH_x6224_y19008_patch00232.pt cannot be opened.\n",
      "ERROR:__main__:Error saving D:\\Aamir Gulzar\\KSA_project2\\dataset\\patch_data\\TCGA-CL-4957_nonMSIH\\TCGA-CL-4957_nonMSIH_x6224_y19520_patch00233.png: File D:\\Aamir Gulzar\\KSA_project2\\dataset\\Features\\Uni_2h_fivecrop\\TCGA-CL-4957_nonMSIH\\TCGA-CL-4957_nonMSIH_x6224_y19520_patch00233.pt cannot be opened.\n",
      "ERROR:__main__:Error saving D:\\Aamir Gulzar\\KSA_project2\\dataset\\patch_data\\TCGA-CL-4957_nonMSIH\\TCGA-CL-4957_nonMSIH_x6224_y20032_patch00234.png: File D:\\Aamir Gulzar\\KSA_project2\\dataset\\Features\\Uni_2h_fivecrop\\TCGA-CL-4957_nonMSIH\\TCGA-CL-4957_nonMSIH_x6224_y20032_patch00234.pt cannot be opened.\n",
      "ERROR:__main__:Error saving D:\\Aamir Gulzar\\KSA_project2\\dataset\\patch_data\\TCGA-CL-4957_nonMSIH\\TCGA-CL-4957_nonMSIH_x6224_y20544_patch00235.png: File D:\\Aamir Gulzar\\KSA_project2\\dataset\\Features\\Uni_2h_fivecrop\\TCGA-CL-4957_nonMSIH\\TCGA-CL-4957_nonMSIH_x6224_y20544_patch00235.pt cannot be opened.\n",
      "ERROR:__main__:Error saving D:\\Aamir Gulzar\\KSA_project2\\dataset\\patch_data\\TCGA-CL-4957_nonMSIH\\TCGA-CL-4957_nonMSIH_x6224_y21056_patch00236.png: File D:\\Aamir Gulzar\\KSA_project2\\dataset\\Features\\Uni_2h_fivecrop\\TCGA-CL-4957_nonMSIH\\TCGA-CL-4957_nonMSIH_x6224_y21056_patch00236.pt cannot be opened.\n",
      "ERROR:__main__:Error saving D:\\Aamir Gulzar\\KSA_project2\\dataset\\patch_data\\TCGA-CL-4957_nonMSIH\\TCGA-CL-4957_nonMSIH_x6224_y21568_patch00237.png: File D:\\Aamir Gulzar\\KSA_project2\\dataset\\Features\\Uni_2h_fivecrop\\TCGA-CL-4957_nonMSIH\\TCGA-CL-4957_nonMSIH_x6224_y21568_patch00237.pt cannot be opened.\n",
      "ERROR:__main__:Error saving D:\\Aamir Gulzar\\KSA_project2\\dataset\\patch_data\\TCGA-CL-4957_nonMSIH\\TCGA-CL-4957_nonMSIH_x6224_y22080_patch00238.png: File D:\\Aamir Gulzar\\KSA_project2\\dataset\\Features\\Uni_2h_fivecrop\\TCGA-CL-4957_nonMSIH\\TCGA-CL-4957_nonMSIH_x6224_y22080_patch00238.pt cannot be opened.\n",
      "ERROR:__main__:Error saving D:\\Aamir Gulzar\\KSA_project2\\dataset\\patch_data\\TCGA-CL-4957_nonMSIH\\TCGA-CL-4957_nonMSIH_x6224_y22592_patch00239.png: File D:\\Aamir Gulzar\\KSA_project2\\dataset\\Features\\Uni_2h_fivecrop\\TCGA-CL-4957_nonMSIH\\TCGA-CL-4957_nonMSIH_x6224_y22592_patch00239.pt cannot be opened.\n",
      "ERROR:__main__:Error saving D:\\Aamir Gulzar\\KSA_project2\\dataset\\patch_data\\TCGA-CL-4957_nonMSIH\\TCGA-CL-4957_nonMSIH_x6224_y23104_patch00240.png: File D:\\Aamir Gulzar\\KSA_project2\\dataset\\Features\\Uni_2h_fivecrop\\TCGA-CL-4957_nonMSIH\\TCGA-CL-4957_nonMSIH_x6224_y23104_patch00240.pt cannot be opened.\n",
      "ERROR:__main__:Error saving D:\\Aamir Gulzar\\KSA_project2\\dataset\\patch_data\\TCGA-CL-4957_nonMSIH\\TCGA-CL-4957_nonMSIH_x6224_y23616_patch00241.png: File D:\\Aamir Gulzar\\KSA_project2\\dataset\\Features\\Uni_2h_fivecrop\\TCGA-CL-4957_nonMSIH\\TCGA-CL-4957_nonMSIH_x6224_y23616_patch00241.pt cannot be opened.\n",
      "ERROR:__main__:Error saving D:\\Aamir Gulzar\\KSA_project2\\dataset\\patch_data\\TCGA-CL-4957_nonMSIH\\TCGA-CL-4957_nonMSIH_x6224_y24128_patch00242.png: File D:\\Aamir Gulzar\\KSA_project2\\dataset\\Features\\Uni_2h_fivecrop\\TCGA-CL-4957_nonMSIH\\TCGA-CL-4957_nonMSIH_x6224_y24128_patch00242.pt cannot be opened.\n",
      "ERROR:__main__:Error saving D:\\Aamir Gulzar\\KSA_project2\\dataset\\patch_data\\TCGA-CL-4957_nonMSIH\\TCGA-CL-4957_nonMSIH_x6224_y24640_patch00243.png: File D:\\Aamir Gulzar\\KSA_project2\\dataset\\Features\\Uni_2h_fivecrop\\TCGA-CL-4957_nonMSIH\\TCGA-CL-4957_nonMSIH_x6224_y24640_patch00243.pt cannot be opened.\n",
      "ERROR:__main__:Error saving D:\\Aamir Gulzar\\KSA_project2\\dataset\\patch_data\\TCGA-CL-4957_nonMSIH\\TCGA-CL-4957_nonMSIH_x6224_y25152_patch00244.png: File D:\\Aamir Gulzar\\KSA_project2\\dataset\\Features\\Uni_2h_fivecrop\\TCGA-CL-4957_nonMSIH\\TCGA-CL-4957_nonMSIH_x6224_y25152_patch00244.pt cannot be opened.\n",
      "ERROR:__main__:Error saving D:\\Aamir Gulzar\\KSA_project2\\dataset\\patch_data\\TCGA-CL-4957_nonMSIH\\TCGA-CL-4957_nonMSIH_x6224_y25664_patch00245.png: File D:\\Aamir Gulzar\\KSA_project2\\dataset\\Features\\Uni_2h_fivecrop\\TCGA-CL-4957_nonMSIH\\TCGA-CL-4957_nonMSIH_x6224_y25664_patch00245.pt cannot be opened.\n",
      "ERROR:__main__:Error saving D:\\Aamir Gulzar\\KSA_project2\\dataset\\patch_data\\TCGA-CL-4957_nonMSIH\\TCGA-CL-4957_nonMSIH_x6224_y26176_patch00246.png: File D:\\Aamir Gulzar\\KSA_project2\\dataset\\Features\\Uni_2h_fivecrop\\TCGA-CL-4957_nonMSIH\\TCGA-CL-4957_nonMSIH_x6224_y26176_patch00246.pt cannot be opened.\n",
      "ERROR:__main__:Error saving D:\\Aamir Gulzar\\KSA_project2\\dataset\\patch_data\\TCGA-CL-4957_nonMSIH\\TCGA-CL-4957_nonMSIH_x6224_y26688_patch00247.png: File D:\\Aamir Gulzar\\KSA_project2\\dataset\\Features\\Uni_2h_fivecrop\\TCGA-CL-4957_nonMSIH\\TCGA-CL-4957_nonMSIH_x6224_y26688_patch00247.pt cannot be opened.\n",
      "ERROR:__main__:Error saving D:\\Aamir Gulzar\\KSA_project2\\dataset\\patch_data\\TCGA-CL-4957_nonMSIH\\TCGA-CL-4957_nonMSIH_x6224_y27200_patch00248.png: File D:\\Aamir Gulzar\\KSA_project2\\dataset\\Features\\Uni_2h_fivecrop\\TCGA-CL-4957_nonMSIH\\TCGA-CL-4957_nonMSIH_x6224_y27200_patch00248.pt cannot be opened.\n",
      "ERROR:__main__:Error saving D:\\Aamir Gulzar\\KSA_project2\\dataset\\patch_data\\TCGA-CL-4957_nonMSIH\\TCGA-CL-4957_nonMSIH_x6736_y13888_patch00249.png: File D:\\Aamir Gulzar\\KSA_project2\\dataset\\Features\\Uni_2h_fivecrop\\TCGA-CL-4957_nonMSIH\\TCGA-CL-4957_nonMSIH_x6736_y13888_patch00249.pt cannot be opened.\n",
      "ERROR:__main__:Error saving D:\\Aamir Gulzar\\KSA_project2\\dataset\\patch_data\\TCGA-CL-4957_nonMSIH\\TCGA-CL-4957_nonMSIH_x6736_y14400_patch00250.png: File D:\\Aamir Gulzar\\KSA_project2\\dataset\\Features\\Uni_2h_fivecrop\\TCGA-CL-4957_nonMSIH\\TCGA-CL-4957_nonMSIH_x6736_y14400_patch00250.pt cannot be opened.\n",
      "ERROR:__main__:Error saving D:\\Aamir Gulzar\\KSA_project2\\dataset\\patch_data\\TCGA-CL-4957_nonMSIH\\TCGA-CL-4957_nonMSIH_x6736_y14912_patch00251.png: File D:\\Aamir Gulzar\\KSA_project2\\dataset\\Features\\Uni_2h_fivecrop\\TCGA-CL-4957_nonMSIH\\TCGA-CL-4957_nonMSIH_x6736_y14912_patch00251.pt cannot be opened.\n",
      "ERROR:__main__:Error saving D:\\Aamir Gulzar\\KSA_project2\\dataset\\patch_data\\TCGA-CL-4957_nonMSIH\\TCGA-CL-4957_nonMSIH_x6736_y15424_patch00252.png: File D:\\Aamir Gulzar\\KSA_project2\\dataset\\Features\\Uni_2h_fivecrop\\TCGA-CL-4957_nonMSIH\\TCGA-CL-4957_nonMSIH_x6736_y15424_patch00252.pt cannot be opened.\n",
      "ERROR:__main__:Error saving D:\\Aamir Gulzar\\KSA_project2\\dataset\\patch_data\\TCGA-CL-4957_nonMSIH\\TCGA-CL-4957_nonMSIH_x6736_y15936_patch00253.png: File D:\\Aamir Gulzar\\KSA_project2\\dataset\\Features\\Uni_2h_fivecrop\\TCGA-CL-4957_nonMSIH\\TCGA-CL-4957_nonMSIH_x6736_y15936_patch00253.pt cannot be opened.\n",
      "ERROR:__main__:Error saving D:\\Aamir Gulzar\\KSA_project2\\dataset\\patch_data\\TCGA-CL-4957_nonMSIH\\TCGA-CL-4957_nonMSIH_x6736_y16448_patch00254.png: File D:\\Aamir Gulzar\\KSA_project2\\dataset\\Features\\Uni_2h_fivecrop\\TCGA-CL-4957_nonMSIH\\TCGA-CL-4957_nonMSIH_x6736_y16448_patch00254.pt cannot be opened.\n",
      "ERROR:__main__:Error saving D:\\Aamir Gulzar\\KSA_project2\\dataset\\patch_data\\TCGA-CL-4957_nonMSIH\\TCGA-CL-4957_nonMSIH_x6736_y16960_patch00255.png: File D:\\Aamir Gulzar\\KSA_project2\\dataset\\Features\\Uni_2h_fivecrop\\TCGA-CL-4957_nonMSIH\\TCGA-CL-4957_nonMSIH_x6736_y16960_patch00255.pt cannot be opened.\n",
      "ERROR:__main__:Error saving D:\\Aamir Gulzar\\KSA_project2\\dataset\\patch_data\\TCGA-CL-4957_nonMSIH\\TCGA-CL-4957_nonMSIH_x6736_y17472_patch00256.png: File D:\\Aamir Gulzar\\KSA_project2\\dataset\\Features\\Uni_2h_fivecrop\\TCGA-CL-4957_nonMSIH\\TCGA-CL-4957_nonMSIH_x6736_y17472_patch00256.pt cannot be opened.\n",
      "ERROR:__main__:Error saving D:\\Aamir Gulzar\\KSA_project2\\dataset\\patch_data\\TCGA-CL-4957_nonMSIH\\TCGA-CL-4957_nonMSIH_x6736_y19520_patch00257.png: File D:\\Aamir Gulzar\\KSA_project2\\dataset\\Features\\Uni_2h_fivecrop\\TCGA-CL-4957_nonMSIH\\TCGA-CL-4957_nonMSIH_x6736_y19520_patch00257.pt cannot be opened.\n",
      "ERROR:__main__:Error saving D:\\Aamir Gulzar\\KSA_project2\\dataset\\patch_data\\TCGA-CL-4957_nonMSIH\\TCGA-CL-4957_nonMSIH_x6736_y20032_patch00258.png: File D:\\Aamir Gulzar\\KSA_project2\\dataset\\Features\\Uni_2h_fivecrop\\TCGA-CL-4957_nonMSIH\\TCGA-CL-4957_nonMSIH_x6736_y20032_patch00258.pt cannot be opened.\n",
      "ERROR:__main__:Error saving D:\\Aamir Gulzar\\KSA_project2\\dataset\\patch_data\\TCGA-CL-4957_nonMSIH\\TCGA-CL-4957_nonMSIH_x6736_y20544_patch00259.png: File D:\\Aamir Gulzar\\KSA_project2\\dataset\\Features\\Uni_2h_fivecrop\\TCGA-CL-4957_nonMSIH\\TCGA-CL-4957_nonMSIH_x6736_y20544_patch00259.pt cannot be opened.\n",
      "ERROR:__main__:Error saving D:\\Aamir Gulzar\\KSA_project2\\dataset\\patch_data\\TCGA-CL-4957_nonMSIH\\TCGA-CL-4957_nonMSIH_x6736_y21056_patch00260.png: File D:\\Aamir Gulzar\\KSA_project2\\dataset\\Features\\Uni_2h_fivecrop\\TCGA-CL-4957_nonMSIH\\TCGA-CL-4957_nonMSIH_x6736_y21056_patch00260.pt cannot be opened.\n",
      "ERROR:__main__:Error saving D:\\Aamir Gulzar\\KSA_project2\\dataset\\patch_data\\TCGA-CL-4957_nonMSIH\\TCGA-CL-4957_nonMSIH_x6736_y21568_patch00261.png: File D:\\Aamir Gulzar\\KSA_project2\\dataset\\Features\\Uni_2h_fivecrop\\TCGA-CL-4957_nonMSIH\\TCGA-CL-4957_nonMSIH_x6736_y21568_patch00261.pt cannot be opened.\n",
      "ERROR:__main__:Error saving D:\\Aamir Gulzar\\KSA_project2\\dataset\\patch_data\\TCGA-CL-4957_nonMSIH\\TCGA-CL-4957_nonMSIH_x6736_y22080_patch00262.png: File D:\\Aamir Gulzar\\KSA_project2\\dataset\\Features\\Uni_2h_fivecrop\\TCGA-CL-4957_nonMSIH\\TCGA-CL-4957_nonMSIH_x6736_y22080_patch00262.pt cannot be opened.\n",
      "ERROR:__main__:Error saving D:\\Aamir Gulzar\\KSA_project2\\dataset\\patch_data\\TCGA-CL-4957_nonMSIH\\TCGA-CL-4957_nonMSIH_x6736_y22592_patch00263.png: File D:\\Aamir Gulzar\\KSA_project2\\dataset\\Features\\Uni_2h_fivecrop\\TCGA-CL-4957_nonMSIH\\TCGA-CL-4957_nonMSIH_x6736_y22592_patch00263.pt cannot be opened.\n",
      "ERROR:__main__:Error saving D:\\Aamir Gulzar\\KSA_project2\\dataset\\patch_data\\TCGA-CL-4957_nonMSIH\\TCGA-CL-4957_nonMSIH_x6736_y23104_patch00264.png: File D:\\Aamir Gulzar\\KSA_project2\\dataset\\Features\\Uni_2h_fivecrop\\TCGA-CL-4957_nonMSIH\\TCGA-CL-4957_nonMSIH_x6736_y23104_patch00264.pt cannot be opened.\n",
      "ERROR:__main__:Error saving D:\\Aamir Gulzar\\KSA_project2\\dataset\\patch_data\\TCGA-CL-4957_nonMSIH\\TCGA-CL-4957_nonMSIH_x6736_y23616_patch00265.png: File D:\\Aamir Gulzar\\KSA_project2\\dataset\\Features\\Uni_2h_fivecrop\\TCGA-CL-4957_nonMSIH\\TCGA-CL-4957_nonMSIH_x6736_y23616_patch00265.pt cannot be opened.\n",
      "ERROR:__main__:Error saving D:\\Aamir Gulzar\\KSA_project2\\dataset\\patch_data\\TCGA-CL-4957_nonMSIH\\TCGA-CL-4957_nonMSIH_x6736_y24640_patch00267.png: File D:\\Aamir Gulzar\\KSA_project2\\dataset\\Features\\Uni_2h_fivecrop\\TCGA-CL-4957_nonMSIH\\TCGA-CL-4957_nonMSIH_x6736_y24640_patch00267.pt cannot be opened.\n",
      "ERROR:__main__:Error saving D:\\Aamir Gulzar\\KSA_project2\\dataset\\patch_data\\TCGA-CL-4957_nonMSIH\\TCGA-CL-4957_nonMSIH_x6736_y24128_patch00266.png: File D:\\Aamir Gulzar\\KSA_project2\\dataset\\Features\\Uni_2h_fivecrop\\TCGA-CL-4957_nonMSIH\\TCGA-CL-4957_nonMSIH_x6736_y24128_patch00266.pt cannot be opened.\n",
      "ERROR:__main__:Error saving D:\\Aamir Gulzar\\KSA_project2\\dataset\\patch_data\\TCGA-CL-4957_nonMSIH\\TCGA-CL-4957_nonMSIH_x6736_y25152_patch00268.png: File D:\\Aamir Gulzar\\KSA_project2\\dataset\\Features\\Uni_2h_fivecrop\\TCGA-CL-4957_nonMSIH\\TCGA-CL-4957_nonMSIH_x6736_y25152_patch00268.pt cannot be opened.\n",
      "ERROR:__main__:Error saving D:\\Aamir Gulzar\\KSA_project2\\dataset\\patch_data\\TCGA-CL-4957_nonMSIH\\TCGA-CL-4957_nonMSIH_x6736_y25664_patch00269.png: File D:\\Aamir Gulzar\\KSA_project2\\dataset\\Features\\Uni_2h_fivecrop\\TCGA-CL-4957_nonMSIH\\TCGA-CL-4957_nonMSIH_x6736_y25664_patch00269.pt cannot be opened.\n",
      "ERROR:__main__:Error saving D:\\Aamir Gulzar\\KSA_project2\\dataset\\patch_data\\TCGA-CL-4957_nonMSIH\\TCGA-CL-4957_nonMSIH_x6736_y26176_patch00270.png: File D:\\Aamir Gulzar\\KSA_project2\\dataset\\Features\\Uni_2h_fivecrop\\TCGA-CL-4957_nonMSIH\\TCGA-CL-4957_nonMSIH_x6736_y26176_patch00270.pt cannot be opened.\n",
      "ERROR:__main__:Error saving D:\\Aamir Gulzar\\KSA_project2\\dataset\\patch_data\\TCGA-CL-4957_nonMSIH\\TCGA-CL-4957_nonMSIH_x6736_y26688_patch00271.png: File D:\\Aamir Gulzar\\KSA_project2\\dataset\\Features\\Uni_2h_fivecrop\\TCGA-CL-4957_nonMSIH\\TCGA-CL-4957_nonMSIH_x6736_y26688_patch00271.pt cannot be opened.\n",
      "ERROR:__main__:Error saving D:\\Aamir Gulzar\\KSA_project2\\dataset\\patch_data\\TCGA-CL-4957_nonMSIH\\TCGA-CL-4957_nonMSIH_x6736_y27200_patch00272.png: File D:\\Aamir Gulzar\\KSA_project2\\dataset\\Features\\Uni_2h_fivecrop\\TCGA-CL-4957_nonMSIH\\TCGA-CL-4957_nonMSIH_x6736_y27200_patch00272.pt cannot be opened.\n",
      "ERROR:__main__:Error saving D:\\Aamir Gulzar\\KSA_project2\\dataset\\patch_data\\TCGA-CL-4957_nonMSIH\\TCGA-CL-4957_nonMSIH_x7248_y13888_patch00273.png: File D:\\Aamir Gulzar\\KSA_project2\\dataset\\Features\\Uni_2h_fivecrop\\TCGA-CL-4957_nonMSIH\\TCGA-CL-4957_nonMSIH_x7248_y13888_patch00273.pt cannot be opened.\n",
      "ERROR:__main__:Error saving D:\\Aamir Gulzar\\KSA_project2\\dataset\\patch_data\\TCGA-CL-4957_nonMSIH\\TCGA-CL-4957_nonMSIH_x7248_y14400_patch00274.png: File D:\\Aamir Gulzar\\KSA_project2\\dataset\\Features\\Uni_2h_fivecrop\\TCGA-CL-4957_nonMSIH\\TCGA-CL-4957_nonMSIH_x7248_y14400_patch00274.pt cannot be opened.\n",
      "ERROR:__main__:Error saving D:\\Aamir Gulzar\\KSA_project2\\dataset\\patch_data\\TCGA-CL-4957_nonMSIH\\TCGA-CL-4957_nonMSIH_x7248_y14912_patch00275.png: File D:\\Aamir Gulzar\\KSA_project2\\dataset\\Features\\Uni_2h_fivecrop\\TCGA-CL-4957_nonMSIH\\TCGA-CL-4957_nonMSIH_x7248_y14912_patch00275.pt cannot be opened.\n",
      "ERROR:__main__:Error saving D:\\Aamir Gulzar\\KSA_project2\\dataset\\patch_data\\TCGA-CL-4957_nonMSIH\\TCGA-CL-4957_nonMSIH_x7248_y15424_patch00276.png: File D:\\Aamir Gulzar\\KSA_project2\\dataset\\Features\\Uni_2h_fivecrop\\TCGA-CL-4957_nonMSIH\\TCGA-CL-4957_nonMSIH_x7248_y15424_patch00276.pt cannot be opened.\n",
      "ERROR:__main__:Error saving D:\\Aamir Gulzar\\KSA_project2\\dataset\\patch_data\\TCGA-CL-4957_nonMSIH\\TCGA-CL-4957_nonMSIH_x7248_y15936_patch00277.png: File D:\\Aamir Gulzar\\KSA_project2\\dataset\\Features\\Uni_2h_fivecrop\\TCGA-CL-4957_nonMSIH\\TCGA-CL-4957_nonMSIH_x7248_y15936_patch00277.pt cannot be opened.\n",
      "ERROR:__main__:Error saving D:\\Aamir Gulzar\\KSA_project2\\dataset\\patch_data\\TCGA-CL-4957_nonMSIH\\TCGA-CL-4957_nonMSIH_x7248_y16448_patch00278.png: File D:\\Aamir Gulzar\\KSA_project2\\dataset\\Features\\Uni_2h_fivecrop\\TCGA-CL-4957_nonMSIH\\TCGA-CL-4957_nonMSIH_x7248_y16448_patch00278.pt cannot be opened.\n",
      "ERROR:__main__:Error saving D:\\Aamir Gulzar\\KSA_project2\\dataset\\patch_data\\TCGA-CL-4957_nonMSIH\\TCGA-CL-4957_nonMSIH_x7248_y16960_patch00279.png: File D:\\Aamir Gulzar\\KSA_project2\\dataset\\Features\\Uni_2h_fivecrop\\TCGA-CL-4957_nonMSIH\\TCGA-CL-4957_nonMSIH_x7248_y16960_patch00279.pt cannot be opened.\n",
      "ERROR:__main__:Error saving D:\\Aamir Gulzar\\KSA_project2\\dataset\\patch_data\\TCGA-CL-4957_nonMSIH\\TCGA-CL-4957_nonMSIH_x7248_y17472_patch00280.png: File D:\\Aamir Gulzar\\KSA_project2\\dataset\\Features\\Uni_2h_fivecrop\\TCGA-CL-4957_nonMSIH\\TCGA-CL-4957_nonMSIH_x7248_y17472_patch00280.pt cannot be opened.\n",
      "ERROR:__main__:Error saving D:\\Aamir Gulzar\\KSA_project2\\dataset\\patch_data\\TCGA-CL-4957_nonMSIH\\TCGA-CL-4957_nonMSIH_x7248_y19520_patch00281.png: File D:\\Aamir Gulzar\\KSA_project2\\dataset\\Features\\Uni_2h_fivecrop\\TCGA-CL-4957_nonMSIH\\TCGA-CL-4957_nonMSIH_x7248_y19520_patch00281.pt cannot be opened.\n",
      "ERROR:__main__:Error saving D:\\Aamir Gulzar\\KSA_project2\\dataset\\patch_data\\TCGA-CL-4957_nonMSIH\\TCGA-CL-4957_nonMSIH_x7248_y20032_patch00282.png: File D:\\Aamir Gulzar\\KSA_project2\\dataset\\Features\\Uni_2h_fivecrop\\TCGA-CL-4957_nonMSIH\\TCGA-CL-4957_nonMSIH_x7248_y20032_patch00282.pt cannot be opened.\n",
      "ERROR:__main__:Error saving D:\\Aamir Gulzar\\KSA_project2\\dataset\\patch_data\\TCGA-CL-4957_nonMSIH\\TCGA-CL-4957_nonMSIH_x7248_y20544_patch00283.png: File D:\\Aamir Gulzar\\KSA_project2\\dataset\\Features\\Uni_2h_fivecrop\\TCGA-CL-4957_nonMSIH\\TCGA-CL-4957_nonMSIH_x7248_y20544_patch00283.pt cannot be opened.\n",
      "ERROR:__main__:Error saving D:\\Aamir Gulzar\\KSA_project2\\dataset\\patch_data\\TCGA-CL-4957_nonMSIH\\TCGA-CL-4957_nonMSIH_x7248_y21056_patch00284.png: File D:\\Aamir Gulzar\\KSA_project2\\dataset\\Features\\Uni_2h_fivecrop\\TCGA-CL-4957_nonMSIH\\TCGA-CL-4957_nonMSIH_x7248_y21056_patch00284.pt cannot be opened.\n",
      "ERROR:__main__:Error saving D:\\Aamir Gulzar\\KSA_project2\\dataset\\patch_data\\TCGA-CL-4957_nonMSIH\\TCGA-CL-4957_nonMSIH_x7248_y21568_patch00285.png: File D:\\Aamir Gulzar\\KSA_project2\\dataset\\Features\\Uni_2h_fivecrop\\TCGA-CL-4957_nonMSIH\\TCGA-CL-4957_nonMSIH_x7248_y21568_patch00285.pt cannot be opened.\n",
      "ERROR:__main__:Error saving D:\\Aamir Gulzar\\KSA_project2\\dataset\\patch_data\\TCGA-CL-4957_nonMSIH\\TCGA-CL-4957_nonMSIH_x7248_y22080_patch00286.png: File D:\\Aamir Gulzar\\KSA_project2\\dataset\\Features\\Uni_2h_fivecrop\\TCGA-CL-4957_nonMSIH\\TCGA-CL-4957_nonMSIH_x7248_y22080_patch00286.pt cannot be opened.\n",
      "ERROR:__main__:Error saving D:\\Aamir Gulzar\\KSA_project2\\dataset\\patch_data\\TCGA-CL-4957_nonMSIH\\TCGA-CL-4957_nonMSIH_x7248_y22592_patch00287.png: File D:\\Aamir Gulzar\\KSA_project2\\dataset\\Features\\Uni_2h_fivecrop\\TCGA-CL-4957_nonMSIH\\TCGA-CL-4957_nonMSIH_x7248_y22592_patch00287.pt cannot be opened.\n",
      "ERROR:__main__:Error saving D:\\Aamir Gulzar\\KSA_project2\\dataset\\patch_data\\TCGA-CL-4957_nonMSIH\\TCGA-CL-4957_nonMSIH_x7248_y23104_patch00288.png: File D:\\Aamir Gulzar\\KSA_project2\\dataset\\Features\\Uni_2h_fivecrop\\TCGA-CL-4957_nonMSIH\\TCGA-CL-4957_nonMSIH_x7248_y23104_patch00288.pt cannot be opened.\n",
      "ERROR:__main__:Error saving D:\\Aamir Gulzar\\KSA_project2\\dataset\\patch_data\\TCGA-CL-4957_nonMSIH\\TCGA-CL-4957_nonMSIH_x7248_y23616_patch00289.png: File D:\\Aamir Gulzar\\KSA_project2\\dataset\\Features\\Uni_2h_fivecrop\\TCGA-CL-4957_nonMSIH\\TCGA-CL-4957_nonMSIH_x7248_y23616_patch00289.pt cannot be opened.\n",
      "ERROR:__main__:Error saving D:\\Aamir Gulzar\\KSA_project2\\dataset\\patch_data\\TCGA-CL-4957_nonMSIH\\TCGA-CL-4957_nonMSIH_x7248_y24128_patch00290.png: File D:\\Aamir Gulzar\\KSA_project2\\dataset\\Features\\Uni_2h_fivecrop\\TCGA-CL-4957_nonMSIH\\TCGA-CL-4957_nonMSIH_x7248_y24128_patch00290.pt cannot be opened.\n",
      "ERROR:__main__:Error saving D:\\Aamir Gulzar\\KSA_project2\\dataset\\patch_data\\TCGA-CL-4957_nonMSIH\\TCGA-CL-4957_nonMSIH_x7248_y24640_patch00291.png: File D:\\Aamir Gulzar\\KSA_project2\\dataset\\Features\\Uni_2h_fivecrop\\TCGA-CL-4957_nonMSIH\\TCGA-CL-4957_nonMSIH_x7248_y24640_patch00291.pt cannot be opened.\n",
      "ERROR:__main__:Error saving D:\\Aamir Gulzar\\KSA_project2\\dataset\\patch_data\\TCGA-CL-4957_nonMSIH\\TCGA-CL-4957_nonMSIH_x7248_y25152_patch00292.png: File D:\\Aamir Gulzar\\KSA_project2\\dataset\\Features\\Uni_2h_fivecrop\\TCGA-CL-4957_nonMSIH\\TCGA-CL-4957_nonMSIH_x7248_y25152_patch00292.pt cannot be opened.\n",
      "ERROR:__main__:Error saving D:\\Aamir Gulzar\\KSA_project2\\dataset\\patch_data\\TCGA-CL-4957_nonMSIH\\TCGA-CL-4957_nonMSIH_x7248_y25664_patch00293.png: File D:\\Aamir Gulzar\\KSA_project2\\dataset\\Features\\Uni_2h_fivecrop\\TCGA-CL-4957_nonMSIH\\TCGA-CL-4957_nonMSIH_x7248_y25664_patch00293.pt cannot be opened.\n",
      "ERROR:__main__:Error saving D:\\Aamir Gulzar\\KSA_project2\\dataset\\patch_data\\TCGA-CL-4957_nonMSIH\\TCGA-CL-4957_nonMSIH_x7248_y26176_patch00294.png: File D:\\Aamir Gulzar\\KSA_project2\\dataset\\Features\\Uni_2h_fivecrop\\TCGA-CL-4957_nonMSIH\\TCGA-CL-4957_nonMSIH_x7248_y26176_patch00294.pt cannot be opened.\n",
      "ERROR:__main__:Error saving D:\\Aamir Gulzar\\KSA_project2\\dataset\\patch_data\\TCGA-CL-4957_nonMSIH\\TCGA-CL-4957_nonMSIH_x7248_y26688_patch00295.png: File D:\\Aamir Gulzar\\KSA_project2\\dataset\\Features\\Uni_2h_fivecrop\\TCGA-CL-4957_nonMSIH\\TCGA-CL-4957_nonMSIH_x7248_y26688_patch00295.pt cannot be opened.\n",
      "ERROR:__main__:Error saving D:\\Aamir Gulzar\\KSA_project2\\dataset\\patch_data\\TCGA-CL-4957_nonMSIH\\TCGA-CL-4957_nonMSIH_x7248_y27200_patch00296.png: File D:\\Aamir Gulzar\\KSA_project2\\dataset\\Features\\Uni_2h_fivecrop\\TCGA-CL-4957_nonMSIH\\TCGA-CL-4957_nonMSIH_x7248_y27200_patch00296.pt cannot be opened.\n",
      "ERROR:__main__:Error saving D:\\Aamir Gulzar\\KSA_project2\\dataset\\patch_data\\TCGA-CL-4957_nonMSIH\\TCGA-CL-4957_nonMSIH_x7760_y14912_patch00297.png: File D:\\Aamir Gulzar\\KSA_project2\\dataset\\Features\\Uni_2h_fivecrop\\TCGA-CL-4957_nonMSIH\\TCGA-CL-4957_nonMSIH_x7760_y14912_patch00297.pt cannot be opened.\n",
      "ERROR:__main__:Error saving D:\\Aamir Gulzar\\KSA_project2\\dataset\\patch_data\\TCGA-CL-4957_nonMSIH\\TCGA-CL-4957_nonMSIH_x7760_y15424_patch00298.png: File D:\\Aamir Gulzar\\KSA_project2\\dataset\\Features\\Uni_2h_fivecrop\\TCGA-CL-4957_nonMSIH\\TCGA-CL-4957_nonMSIH_x7760_y15424_patch00298.pt cannot be opened.\n",
      "ERROR:__main__:Error saving D:\\Aamir Gulzar\\KSA_project2\\dataset\\patch_data\\TCGA-CL-4957_nonMSIH\\TCGA-CL-4957_nonMSIH_x7760_y15936_patch00299.png: File D:\\Aamir Gulzar\\KSA_project2\\dataset\\Features\\Uni_2h_fivecrop\\TCGA-CL-4957_nonMSIH\\TCGA-CL-4957_nonMSIH_x7760_y15936_patch00299.pt cannot be opened.\n",
      "ERROR:__main__:Error saving D:\\Aamir Gulzar\\KSA_project2\\dataset\\patch_data\\TCGA-CL-4957_nonMSIH\\TCGA-CL-4957_nonMSIH_x7760_y16448_patch00300.png: File D:\\Aamir Gulzar\\KSA_project2\\dataset\\Features\\Uni_2h_fivecrop\\TCGA-CL-4957_nonMSIH\\TCGA-CL-4957_nonMSIH_x7760_y16448_patch00300.pt cannot be opened.\n",
      "ERROR:__main__:Error saving D:\\Aamir Gulzar\\KSA_project2\\dataset\\patch_data\\TCGA-CL-4957_nonMSIH\\TCGA-CL-4957_nonMSIH_x7760_y17472_patch00301.png: File D:\\Aamir Gulzar\\KSA_project2\\dataset\\Features\\Uni_2h_fivecrop\\TCGA-CL-4957_nonMSIH\\TCGA-CL-4957_nonMSIH_x7760_y17472_patch00301.pt cannot be opened.\n",
      "ERROR:__main__:Error saving D:\\Aamir Gulzar\\KSA_project2\\dataset\\patch_data\\TCGA-CL-4957_nonMSIH\\TCGA-CL-4957_nonMSIH_x7760_y17984_patch00302.png: File D:\\Aamir Gulzar\\KSA_project2\\dataset\\Features\\Uni_2h_fivecrop\\TCGA-CL-4957_nonMSIH\\TCGA-CL-4957_nonMSIH_x7760_y17984_patch00302.pt cannot be opened.\n",
      "ERROR:__main__:Error saving D:\\Aamir Gulzar\\KSA_project2\\dataset\\patch_data\\TCGA-CL-4957_nonMSIH\\TCGA-CL-4957_nonMSIH_x7760_y18496_patch00303.png: File D:\\Aamir Gulzar\\KSA_project2\\dataset\\Features\\Uni_2h_fivecrop\\TCGA-CL-4957_nonMSIH\\TCGA-CL-4957_nonMSIH_x7760_y18496_patch00303.pt cannot be opened.\n",
      "ERROR:__main__:Error saving D:\\Aamir Gulzar\\KSA_project2\\dataset\\patch_data\\TCGA-CL-4957_nonMSIH\\TCGA-CL-4957_nonMSIH_x7760_y19008_patch00304.png: File D:\\Aamir Gulzar\\KSA_project2\\dataset\\Features\\Uni_2h_fivecrop\\TCGA-CL-4957_nonMSIH\\TCGA-CL-4957_nonMSIH_x7760_y19008_patch00304.pt cannot be opened.\n",
      "ERROR:__main__:Error saving D:\\Aamir Gulzar\\KSA_project2\\dataset\\patch_data\\TCGA-CL-4957_nonMSIH\\TCGA-CL-4957_nonMSIH_x7760_y19520_patch00305.png: File D:\\Aamir Gulzar\\KSA_project2\\dataset\\Features\\Uni_2h_fivecrop\\TCGA-CL-4957_nonMSIH\\TCGA-CL-4957_nonMSIH_x7760_y19520_patch00305.pt cannot be opened.\n",
      "ERROR:__main__:Error saving D:\\Aamir Gulzar\\KSA_project2\\dataset\\patch_data\\TCGA-CL-4957_nonMSIH\\TCGA-CL-4957_nonMSIH_x7760_y20032_patch00306.png: File D:\\Aamir Gulzar\\KSA_project2\\dataset\\Features\\Uni_2h_fivecrop\\TCGA-CL-4957_nonMSIH\\TCGA-CL-4957_nonMSIH_x7760_y20032_patch00306.pt cannot be opened.\n",
      "ERROR:__main__:Error saving D:\\Aamir Gulzar\\KSA_project2\\dataset\\patch_data\\TCGA-CL-4957_nonMSIH\\TCGA-CL-4957_nonMSIH_x7760_y20544_patch00307.png: File D:\\Aamir Gulzar\\KSA_project2\\dataset\\Features\\Uni_2h_fivecrop\\TCGA-CL-4957_nonMSIH\\TCGA-CL-4957_nonMSIH_x7760_y20544_patch00307.pt cannot be opened.\n",
      "ERROR:__main__:Error saving D:\\Aamir Gulzar\\KSA_project2\\dataset\\patch_data\\TCGA-CL-4957_nonMSIH\\TCGA-CL-4957_nonMSIH_x7760_y21056_patch00308.png: File D:\\Aamir Gulzar\\KSA_project2\\dataset\\Features\\Uni_2h_fivecrop\\TCGA-CL-4957_nonMSIH\\TCGA-CL-4957_nonMSIH_x7760_y21056_patch00308.pt cannot be opened.\n",
      "ERROR:__main__:Error saving D:\\Aamir Gulzar\\KSA_project2\\dataset\\patch_data\\TCGA-CL-4957_nonMSIH\\TCGA-CL-4957_nonMSIH_x7760_y21568_patch00309.png: File D:\\Aamir Gulzar\\KSA_project2\\dataset\\Features\\Uni_2h_fivecrop\\TCGA-CL-4957_nonMSIH\\TCGA-CL-4957_nonMSIH_x7760_y21568_patch00309.pt cannot be opened.\n",
      "ERROR:__main__:Error saving D:\\Aamir Gulzar\\KSA_project2\\dataset\\patch_data\\TCGA-CL-4957_nonMSIH\\TCGA-CL-4957_nonMSIH_x7760_y22080_patch00310.png: File D:\\Aamir Gulzar\\KSA_project2\\dataset\\Features\\Uni_2h_fivecrop\\TCGA-CL-4957_nonMSIH\\TCGA-CL-4957_nonMSIH_x7760_y22080_patch00310.pt cannot be opened.\n",
      "ERROR:__main__:Error saving D:\\Aamir Gulzar\\KSA_project2\\dataset\\patch_data\\TCGA-CL-4957_nonMSIH\\TCGA-CL-4957_nonMSIH_x7760_y22592_patch00311.png: File D:\\Aamir Gulzar\\KSA_project2\\dataset\\Features\\Uni_2h_fivecrop\\TCGA-CL-4957_nonMSIH\\TCGA-CL-4957_nonMSIH_x7760_y22592_patch00311.pt cannot be opened.\n",
      "ERROR:__main__:Error saving D:\\Aamir Gulzar\\KSA_project2\\dataset\\patch_data\\TCGA-CL-4957_nonMSIH\\TCGA-CL-4957_nonMSIH_x7760_y23104_patch00312.png: File D:\\Aamir Gulzar\\KSA_project2\\dataset\\Features\\Uni_2h_fivecrop\\TCGA-CL-4957_nonMSIH\\TCGA-CL-4957_nonMSIH_x7760_y23104_patch00312.pt cannot be opened.\n",
      "ERROR:__main__:Error saving D:\\Aamir Gulzar\\KSA_project2\\dataset\\patch_data\\TCGA-CL-4957_nonMSIH\\TCGA-CL-4957_nonMSIH_x7760_y23616_patch00313.png: File D:\\Aamir Gulzar\\KSA_project2\\dataset\\Features\\Uni_2h_fivecrop\\TCGA-CL-4957_nonMSIH\\TCGA-CL-4957_nonMSIH_x7760_y23616_patch00313.pt cannot be opened.\n",
      "ERROR:__main__:Error saving D:\\Aamir Gulzar\\KSA_project2\\dataset\\patch_data\\TCGA-CL-4957_nonMSIH\\TCGA-CL-4957_nonMSIH_x7760_y24128_patch00314.png: File D:\\Aamir Gulzar\\KSA_project2\\dataset\\Features\\Uni_2h_fivecrop\\TCGA-CL-4957_nonMSIH\\TCGA-CL-4957_nonMSIH_x7760_y24128_patch00314.pt cannot be opened.\n",
      "ERROR:__main__:Error saving D:\\Aamir Gulzar\\KSA_project2\\dataset\\patch_data\\TCGA-CL-4957_nonMSIH\\TCGA-CL-4957_nonMSIH_x7760_y24640_patch00315.png: File D:\\Aamir Gulzar\\KSA_project2\\dataset\\Features\\Uni_2h_fivecrop\\TCGA-CL-4957_nonMSIH\\TCGA-CL-4957_nonMSIH_x7760_y24640_patch00315.pt cannot be opened.\n",
      "ERROR:__main__:Error saving D:\\Aamir Gulzar\\KSA_project2\\dataset\\patch_data\\TCGA-CL-4957_nonMSIH\\TCGA-CL-4957_nonMSIH_x7760_y25152_patch00316.png: File D:\\Aamir Gulzar\\KSA_project2\\dataset\\Features\\Uni_2h_fivecrop\\TCGA-CL-4957_nonMSIH\\TCGA-CL-4957_nonMSIH_x7760_y25152_patch00316.pt cannot be opened.\n",
      "ERROR:__main__:Error saving D:\\Aamir Gulzar\\KSA_project2\\dataset\\patch_data\\TCGA-CL-4957_nonMSIH\\TCGA-CL-4957_nonMSIH_x7760_y25664_patch00317.png: File D:\\Aamir Gulzar\\KSA_project2\\dataset\\Features\\Uni_2h_fivecrop\\TCGA-CL-4957_nonMSIH\\TCGA-CL-4957_nonMSIH_x7760_y25664_patch00317.pt cannot be opened.\n",
      "ERROR:__main__:Error saving D:\\Aamir Gulzar\\KSA_project2\\dataset\\patch_data\\TCGA-CL-4957_nonMSIH\\TCGA-CL-4957_nonMSIH_x7760_y26176_patch00318.png: File D:\\Aamir Gulzar\\KSA_project2\\dataset\\Features\\Uni_2h_fivecrop\\TCGA-CL-4957_nonMSIH\\TCGA-CL-4957_nonMSIH_x7760_y26176_patch00318.pt cannot be opened.\n",
      "ERROR:__main__:Error saving D:\\Aamir Gulzar\\KSA_project2\\dataset\\patch_data\\TCGA-CL-4957_nonMSIH\\TCGA-CL-4957_nonMSIH_x7760_y26688_patch00319.png: File D:\\Aamir Gulzar\\KSA_project2\\dataset\\Features\\Uni_2h_fivecrop\\TCGA-CL-4957_nonMSIH\\TCGA-CL-4957_nonMSIH_x7760_y26688_patch00319.pt cannot be opened.\n",
      "ERROR:__main__:Error saving D:\\Aamir Gulzar\\KSA_project2\\dataset\\patch_data\\TCGA-CL-4957_nonMSIH\\TCGA-CL-4957_nonMSIH_x8272_y15936_patch00320.png: File D:\\Aamir Gulzar\\KSA_project2\\dataset\\Features\\Uni_2h_fivecrop\\TCGA-CL-4957_nonMSIH\\TCGA-CL-4957_nonMSIH_x8272_y15936_patch00320.pt cannot be opened.\n",
      "ERROR:__main__:Error saving D:\\Aamir Gulzar\\KSA_project2\\dataset\\patch_data\\TCGA-CL-4957_nonMSIH\\TCGA-CL-4957_nonMSIH_x8272_y16448_patch00321.png: File D:\\Aamir Gulzar\\KSA_project2\\dataset\\Features\\Uni_2h_fivecrop\\TCGA-CL-4957_nonMSIH\\TCGA-CL-4957_nonMSIH_x8272_y16448_patch00321.pt cannot be opened.\n",
      "ERROR:__main__:Error saving D:\\Aamir Gulzar\\KSA_project2\\dataset\\patch_data\\TCGA-CL-4957_nonMSIH\\TCGA-CL-4957_nonMSIH_x8272_y16960_patch00322.png: File D:\\Aamir Gulzar\\KSA_project2\\dataset\\Features\\Uni_2h_fivecrop\\TCGA-CL-4957_nonMSIH\\TCGA-CL-4957_nonMSIH_x8272_y16960_patch00322.pt cannot be opened.\n",
      "ERROR:__main__:Error saving D:\\Aamir Gulzar\\KSA_project2\\dataset\\patch_data\\TCGA-CL-4957_nonMSIH\\TCGA-CL-4957_nonMSIH_x8272_y17472_patch00323.png: File D:\\Aamir Gulzar\\KSA_project2\\dataset\\Features\\Uni_2h_fivecrop\\TCGA-CL-4957_nonMSIH\\TCGA-CL-4957_nonMSIH_x8272_y17472_patch00323.pt cannot be opened.\n",
      "ERROR:__main__:Error saving D:\\Aamir Gulzar\\KSA_project2\\dataset\\patch_data\\TCGA-CL-4957_nonMSIH\\TCGA-CL-4957_nonMSIH_x8272_y17984_patch00324.png: File D:\\Aamir Gulzar\\KSA_project2\\dataset\\Features\\Uni_2h_fivecrop\\TCGA-CL-4957_nonMSIH\\TCGA-CL-4957_nonMSIH_x8272_y17984_patch00324.pt cannot be opened.\n",
      "ERROR:__main__:Error saving D:\\Aamir Gulzar\\KSA_project2\\dataset\\patch_data\\TCGA-CL-4957_nonMSIH\\TCGA-CL-4957_nonMSIH_x8272_y18496_patch00325.png: File D:\\Aamir Gulzar\\KSA_project2\\dataset\\Features\\Uni_2h_fivecrop\\TCGA-CL-4957_nonMSIH\\TCGA-CL-4957_nonMSIH_x8272_y18496_patch00325.pt cannot be opened.\n",
      "ERROR:__main__:Error saving D:\\Aamir Gulzar\\KSA_project2\\dataset\\patch_data\\TCGA-CL-4957_nonMSIH\\TCGA-CL-4957_nonMSIH_x8272_y19008_patch00326.png: File D:\\Aamir Gulzar\\KSA_project2\\dataset\\Features\\Uni_2h_fivecrop\\TCGA-CL-4957_nonMSIH\\TCGA-CL-4957_nonMSIH_x8272_y19008_patch00326.pt cannot be opened.\n",
      "ERROR:__main__:Error saving D:\\Aamir Gulzar\\KSA_project2\\dataset\\patch_data\\TCGA-CL-4957_nonMSIH\\TCGA-CL-4957_nonMSIH_x8272_y19520_patch00327.png: File D:\\Aamir Gulzar\\KSA_project2\\dataset\\Features\\Uni_2h_fivecrop\\TCGA-CL-4957_nonMSIH\\TCGA-CL-4957_nonMSIH_x8272_y19520_patch00327.pt cannot be opened.\n",
      "ERROR:__main__:Error saving D:\\Aamir Gulzar\\KSA_project2\\dataset\\patch_data\\TCGA-CL-4957_nonMSIH\\TCGA-CL-4957_nonMSIH_x8272_y20032_patch00328.png: File D:\\Aamir Gulzar\\KSA_project2\\dataset\\Features\\Uni_2h_fivecrop\\TCGA-CL-4957_nonMSIH\\TCGA-CL-4957_nonMSIH_x8272_y20032_patch00328.pt cannot be opened.\n",
      "ERROR:__main__:Error saving D:\\Aamir Gulzar\\KSA_project2\\dataset\\patch_data\\TCGA-CL-4957_nonMSIH\\TCGA-CL-4957_nonMSIH_x8272_y20544_patch00329.png: File D:\\Aamir Gulzar\\KSA_project2\\dataset\\Features\\Uni_2h_fivecrop\\TCGA-CL-4957_nonMSIH\\TCGA-CL-4957_nonMSIH_x8272_y20544_patch00329.pt cannot be opened.\n",
      "ERROR:__main__:Error saving D:\\Aamir Gulzar\\KSA_project2\\dataset\\patch_data\\TCGA-CL-4957_nonMSIH\\TCGA-CL-4957_nonMSIH_x8272_y21056_patch00330.png: File D:\\Aamir Gulzar\\KSA_project2\\dataset\\Features\\Uni_2h_fivecrop\\TCGA-CL-4957_nonMSIH\\TCGA-CL-4957_nonMSIH_x8272_y21056_patch00330.pt cannot be opened.\n",
      "ERROR:__main__:Error saving D:\\Aamir Gulzar\\KSA_project2\\dataset\\patch_data\\TCGA-CL-4957_nonMSIH\\TCGA-CL-4957_nonMSIH_x8272_y21568_patch00331.png: File D:\\Aamir Gulzar\\KSA_project2\\dataset\\Features\\Uni_2h_fivecrop\\TCGA-CL-4957_nonMSIH\\TCGA-CL-4957_nonMSIH_x8272_y21568_patch00331.pt cannot be opened.\n",
      "ERROR:__main__:Error saving D:\\Aamir Gulzar\\KSA_project2\\dataset\\patch_data\\TCGA-CL-4957_nonMSIH\\TCGA-CL-4957_nonMSIH_x8272_y22080_patch00332.png: File D:\\Aamir Gulzar\\KSA_project2\\dataset\\Features\\Uni_2h_fivecrop\\TCGA-CL-4957_nonMSIH\\TCGA-CL-4957_nonMSIH_x8272_y22080_patch00332.pt cannot be opened.\n",
      "ERROR:__main__:Error saving D:\\Aamir Gulzar\\KSA_project2\\dataset\\patch_data\\TCGA-CL-4957_nonMSIH\\TCGA-CL-4957_nonMSIH_x8272_y22592_patch00333.png: File D:\\Aamir Gulzar\\KSA_project2\\dataset\\Features\\Uni_2h_fivecrop\\TCGA-CL-4957_nonMSIH\\TCGA-CL-4957_nonMSIH_x8272_y22592_patch00333.pt cannot be opened.\n",
      "ERROR:__main__:Error saving D:\\Aamir Gulzar\\KSA_project2\\dataset\\patch_data\\TCGA-CL-4957_nonMSIH\\TCGA-CL-4957_nonMSIH_x8272_y23104_patch00334.png: File D:\\Aamir Gulzar\\KSA_project2\\dataset\\Features\\Uni_2h_fivecrop\\TCGA-CL-4957_nonMSIH\\TCGA-CL-4957_nonMSIH_x8272_y23104_patch00334.pt cannot be opened.\n",
      "ERROR:__main__:Error saving D:\\Aamir Gulzar\\KSA_project2\\dataset\\patch_data\\TCGA-CL-4957_nonMSIH\\TCGA-CL-4957_nonMSIH_x8272_y23616_patch00335.png: File D:\\Aamir Gulzar\\KSA_project2\\dataset\\Features\\Uni_2h_fivecrop\\TCGA-CL-4957_nonMSIH\\TCGA-CL-4957_nonMSIH_x8272_y23616_patch00335.pt cannot be opened.\n",
      "ERROR:__main__:Error saving D:\\Aamir Gulzar\\KSA_project2\\dataset\\patch_data\\TCGA-CL-4957_nonMSIH\\TCGA-CL-4957_nonMSIH_x8272_y24128_patch00336.png: File D:\\Aamir Gulzar\\KSA_project2\\dataset\\Features\\Uni_2h_fivecrop\\TCGA-CL-4957_nonMSIH\\TCGA-CL-4957_nonMSIH_x8272_y24128_patch00336.pt cannot be opened.\n",
      "ERROR:__main__:Error saving D:\\Aamir Gulzar\\KSA_project2\\dataset\\patch_data\\TCGA-CL-4957_nonMSIH\\TCGA-CL-4957_nonMSIH_x8272_y24640_patch00337.png: File D:\\Aamir Gulzar\\KSA_project2\\dataset\\Features\\Uni_2h_fivecrop\\TCGA-CL-4957_nonMSIH\\TCGA-CL-4957_nonMSIH_x8272_y24640_patch00337.pt cannot be opened.\n",
      "ERROR:__main__:Error saving D:\\Aamir Gulzar\\KSA_project2\\dataset\\patch_data\\TCGA-CL-4957_nonMSIH\\TCGA-CL-4957_nonMSIH_x8272_y25152_patch00338.png: File D:\\Aamir Gulzar\\KSA_project2\\dataset\\Features\\Uni_2h_fivecrop\\TCGA-CL-4957_nonMSIH\\TCGA-CL-4957_nonMSIH_x8272_y25152_patch00338.pt cannot be opened.\n",
      "ERROR:__main__:Error saving D:\\Aamir Gulzar\\KSA_project2\\dataset\\patch_data\\TCGA-CL-4957_nonMSIH\\TCGA-CL-4957_nonMSIH_x8272_y25664_patch00339.png: File D:\\Aamir Gulzar\\KSA_project2\\dataset\\Features\\Uni_2h_fivecrop\\TCGA-CL-4957_nonMSIH\\TCGA-CL-4957_nonMSIH_x8272_y25664_patch00339.pt cannot be opened.\n",
      "ERROR:__main__:Error saving D:\\Aamir Gulzar\\KSA_project2\\dataset\\patch_data\\TCGA-CL-4957_nonMSIH\\TCGA-CL-4957_nonMSIH_x8272_y26176_patch00340.png: File D:\\Aamir Gulzar\\KSA_project2\\dataset\\Features\\Uni_2h_fivecrop\\TCGA-CL-4957_nonMSIH\\TCGA-CL-4957_nonMSIH_x8272_y26176_patch00340.pt cannot be opened.\n",
      "ERROR:__main__:Error saving D:\\Aamir Gulzar\\KSA_project2\\dataset\\patch_data\\TCGA-CL-4957_nonMSIH\\TCGA-CL-4957_nonMSIH_x8272_y26688_patch00341.png: File D:\\Aamir Gulzar\\KSA_project2\\dataset\\Features\\Uni_2h_fivecrop\\TCGA-CL-4957_nonMSIH\\TCGA-CL-4957_nonMSIH_x8272_y26688_patch00341.pt cannot be opened.\n",
      "ERROR:__main__:Error saving D:\\Aamir Gulzar\\KSA_project2\\dataset\\patch_data\\TCGA-CL-4957_nonMSIH\\TCGA-CL-4957_nonMSIH_x8272_y27200_patch00342.png: File D:\\Aamir Gulzar\\KSA_project2\\dataset\\Features\\Uni_2h_fivecrop\\TCGA-CL-4957_nonMSIH\\TCGA-CL-4957_nonMSIH_x8272_y27200_patch00342.pt cannot be opened.\n",
      "ERROR:__main__:Error saving D:\\Aamir Gulzar\\KSA_project2\\dataset\\patch_data\\TCGA-CL-4957_nonMSIH\\TCGA-CL-4957_nonMSIH_x8272_y27712_patch00343.png: File D:\\Aamir Gulzar\\KSA_project2\\dataset\\Features\\Uni_2h_fivecrop\\TCGA-CL-4957_nonMSIH\\TCGA-CL-4957_nonMSIH_x8272_y27712_patch00343.pt cannot be opened.\n",
      "ERROR:__main__:Error saving D:\\Aamir Gulzar\\KSA_project2\\dataset\\patch_data\\TCGA-CL-4957_nonMSIH\\TCGA-CL-4957_nonMSIH_x8784_y14912_patch00344.png: File D:\\Aamir Gulzar\\KSA_project2\\dataset\\Features\\Uni_2h_fivecrop\\TCGA-CL-4957_nonMSIH\\TCGA-CL-4957_nonMSIH_x8784_y14912_patch00344.pt cannot be opened.\n",
      "ERROR:__main__:Error saving D:\\Aamir Gulzar\\KSA_project2\\dataset\\patch_data\\TCGA-CL-4957_nonMSIH\\TCGA-CL-4957_nonMSIH_x8784_y15424_patch00345.png: File D:\\Aamir Gulzar\\KSA_project2\\dataset\\Features\\Uni_2h_fivecrop\\TCGA-CL-4957_nonMSIH\\TCGA-CL-4957_nonMSIH_x8784_y15424_patch00345.pt cannot be opened.\n",
      "ERROR:__main__:Error saving D:\\Aamir Gulzar\\KSA_project2\\dataset\\patch_data\\TCGA-CL-4957_nonMSIH\\TCGA-CL-4957_nonMSIH_x8784_y16448_patch00347.png: File D:\\Aamir Gulzar\\KSA_project2\\dataset\\Features\\Uni_2h_fivecrop\\TCGA-CL-4957_nonMSIH\\TCGA-CL-4957_nonMSIH_x8784_y16448_patch00347.pt cannot be opened.\n",
      "ERROR:__main__:Error saving D:\\Aamir Gulzar\\KSA_project2\\dataset\\patch_data\\TCGA-CL-4957_nonMSIH\\TCGA-CL-4957_nonMSIH_x8784_y15936_patch00346.png: File D:\\Aamir Gulzar\\KSA_project2\\dataset\\Features\\Uni_2h_fivecrop\\TCGA-CL-4957_nonMSIH\\TCGA-CL-4957_nonMSIH_x8784_y15936_patch00346.pt cannot be opened.\n",
      "ERROR:__main__:Error saving D:\\Aamir Gulzar\\KSA_project2\\dataset\\patch_data\\TCGA-CL-4957_nonMSIH\\TCGA-CL-4957_nonMSIH_x8784_y17472_patch00349.png: File D:\\Aamir Gulzar\\KSA_project2\\dataset\\Features\\Uni_2h_fivecrop\\TCGA-CL-4957_nonMSIH\\TCGA-CL-4957_nonMSIH_x8784_y17472_patch00349.pt cannot be opened.\n",
      "ERROR:__main__:Error saving D:\\Aamir Gulzar\\KSA_project2\\dataset\\patch_data\\TCGA-CL-4957_nonMSIH\\TCGA-CL-4957_nonMSIH_x8784_y16960_patch00348.png: File D:\\Aamir Gulzar\\KSA_project2\\dataset\\Features\\Uni_2h_fivecrop\\TCGA-CL-4957_nonMSIH\\TCGA-CL-4957_nonMSIH_x8784_y16960_patch00348.pt cannot be opened.\n",
      "ERROR:__main__:Error saving D:\\Aamir Gulzar\\KSA_project2\\dataset\\patch_data\\TCGA-CL-4957_nonMSIH\\TCGA-CL-4957_nonMSIH_x8784_y17984_patch00350.png: File D:\\Aamir Gulzar\\KSA_project2\\dataset\\Features\\Uni_2h_fivecrop\\TCGA-CL-4957_nonMSIH\\TCGA-CL-4957_nonMSIH_x8784_y17984_patch00350.pt cannot be opened.\n",
      "ERROR:__main__:Error saving D:\\Aamir Gulzar\\KSA_project2\\dataset\\patch_data\\TCGA-CL-4957_nonMSIH\\TCGA-CL-4957_nonMSIH_x8784_y18496_patch00351.png: File D:\\Aamir Gulzar\\KSA_project2\\dataset\\Features\\Uni_2h_fivecrop\\TCGA-CL-4957_nonMSIH\\TCGA-CL-4957_nonMSIH_x8784_y18496_patch00351.pt cannot be opened.\n",
      "ERROR:__main__:Error saving D:\\Aamir Gulzar\\KSA_project2\\dataset\\patch_data\\TCGA-CL-4957_nonMSIH\\TCGA-CL-4957_nonMSIH_x8784_y19008_patch00352.png: File D:\\Aamir Gulzar\\KSA_project2\\dataset\\Features\\Uni_2h_fivecrop\\TCGA-CL-4957_nonMSIH\\TCGA-CL-4957_nonMSIH_x8784_y19008_patch00352.pt cannot be opened.\n",
      "ERROR:__main__:Error saving D:\\Aamir Gulzar\\KSA_project2\\dataset\\patch_data\\TCGA-CL-4957_nonMSIH\\TCGA-CL-4957_nonMSIH_x8784_y19520_patch00353.png: File D:\\Aamir Gulzar\\KSA_project2\\dataset\\Features\\Uni_2h_fivecrop\\TCGA-CL-4957_nonMSIH\\TCGA-CL-4957_nonMSIH_x8784_y19520_patch00353.pt cannot be opened.\n",
      "ERROR:__main__:Error saving D:\\Aamir Gulzar\\KSA_project2\\dataset\\patch_data\\TCGA-CL-4957_nonMSIH\\TCGA-CL-4957_nonMSIH_x8784_y20032_patch00354.png: File D:\\Aamir Gulzar\\KSA_project2\\dataset\\Features\\Uni_2h_fivecrop\\TCGA-CL-4957_nonMSIH\\TCGA-CL-4957_nonMSIH_x8784_y20032_patch00354.pt cannot be opened.\n",
      "ERROR:__main__:Error saving D:\\Aamir Gulzar\\KSA_project2\\dataset\\patch_data\\TCGA-CL-4957_nonMSIH\\TCGA-CL-4957_nonMSIH_x8784_y20544_patch00355.png: File D:\\Aamir Gulzar\\KSA_project2\\dataset\\Features\\Uni_2h_fivecrop\\TCGA-CL-4957_nonMSIH\\TCGA-CL-4957_nonMSIH_x8784_y20544_patch00355.pt cannot be opened.\n",
      "ERROR:__main__:Error saving D:\\Aamir Gulzar\\KSA_project2\\dataset\\patch_data\\TCGA-CL-4957_nonMSIH\\TCGA-CL-4957_nonMSIH_x8784_y21056_patch00356.png: File D:\\Aamir Gulzar\\KSA_project2\\dataset\\Features\\Uni_2h_fivecrop\\TCGA-CL-4957_nonMSIH\\TCGA-CL-4957_nonMSIH_x8784_y21056_patch00356.pt cannot be opened.\n",
      "ERROR:__main__:Error saving D:\\Aamir Gulzar\\KSA_project2\\dataset\\patch_data\\TCGA-CL-4957_nonMSIH\\TCGA-CL-4957_nonMSIH_x8784_y21568_patch00357.png: File D:\\Aamir Gulzar\\KSA_project2\\dataset\\Features\\Uni_2h_fivecrop\\TCGA-CL-4957_nonMSIH\\TCGA-CL-4957_nonMSIH_x8784_y21568_patch00357.pt cannot be opened.\n",
      "ERROR:__main__:Error saving D:\\Aamir Gulzar\\KSA_project2\\dataset\\patch_data\\TCGA-CL-4957_nonMSIH\\TCGA-CL-4957_nonMSIH_x8784_y22080_patch00358.png: File D:\\Aamir Gulzar\\KSA_project2\\dataset\\Features\\Uni_2h_fivecrop\\TCGA-CL-4957_nonMSIH\\TCGA-CL-4957_nonMSIH_x8784_y22080_patch00358.pt cannot be opened.\n",
      "ERROR:__main__:Error saving D:\\Aamir Gulzar\\KSA_project2\\dataset\\patch_data\\TCGA-CL-4957_nonMSIH\\TCGA-CL-4957_nonMSIH_x8784_y22592_patch00359.png: File D:\\Aamir Gulzar\\KSA_project2\\dataset\\Features\\Uni_2h_fivecrop\\TCGA-CL-4957_nonMSIH\\TCGA-CL-4957_nonMSIH_x8784_y22592_patch00359.pt cannot be opened.\n",
      "ERROR:__main__:Error saving D:\\Aamir Gulzar\\KSA_project2\\dataset\\patch_data\\TCGA-CL-4957_nonMSIH\\TCGA-CL-4957_nonMSIH_x8784_y23104_patch00360.png: File D:\\Aamir Gulzar\\KSA_project2\\dataset\\Features\\Uni_2h_fivecrop\\TCGA-CL-4957_nonMSIH\\TCGA-CL-4957_nonMSIH_x8784_y23104_patch00360.pt cannot be opened.\n",
      "ERROR:__main__:Error saving D:\\Aamir Gulzar\\KSA_project2\\dataset\\patch_data\\TCGA-CL-4957_nonMSIH\\TCGA-CL-4957_nonMSIH_x8784_y23616_patch00361.png: File D:\\Aamir Gulzar\\KSA_project2\\dataset\\Features\\Uni_2h_fivecrop\\TCGA-CL-4957_nonMSIH\\TCGA-CL-4957_nonMSIH_x8784_y23616_patch00361.pt cannot be opened.\n",
      "ERROR:__main__:Error saving D:\\Aamir Gulzar\\KSA_project2\\dataset\\patch_data\\TCGA-CL-4957_nonMSIH\\TCGA-CL-4957_nonMSIH_x8784_y24128_patch00362.png: File D:\\Aamir Gulzar\\KSA_project2\\dataset\\Features\\Uni_2h_fivecrop\\TCGA-CL-4957_nonMSIH\\TCGA-CL-4957_nonMSIH_x8784_y24128_patch00362.pt cannot be opened.\n",
      "ERROR:__main__:Error saving D:\\Aamir Gulzar\\KSA_project2\\dataset\\patch_data\\TCGA-CL-4957_nonMSIH\\TCGA-CL-4957_nonMSIH_x8784_y25152_patch00364.png: File D:\\Aamir Gulzar\\KSA_project2\\dataset\\Features\\Uni_2h_fivecrop\\TCGA-CL-4957_nonMSIH\\TCGA-CL-4957_nonMSIH_x8784_y25152_patch00364.pt cannot be opened.\n",
      "ERROR:__main__:Error saving D:\\Aamir Gulzar\\KSA_project2\\dataset\\patch_data\\TCGA-CL-4957_nonMSIH\\TCGA-CL-4957_nonMSIH_x8784_y24640_patch00363.png: File D:\\Aamir Gulzar\\KSA_project2\\dataset\\Features\\Uni_2h_fivecrop\\TCGA-CL-4957_nonMSIH\\TCGA-CL-4957_nonMSIH_x8784_y24640_patch00363.pt cannot be opened.\n",
      "ERROR:__main__:Error saving D:\\Aamir Gulzar\\KSA_project2\\dataset\\patch_data\\TCGA-CL-4957_nonMSIH\\TCGA-CL-4957_nonMSIH_x8784_y25664_patch00365.png: File D:\\Aamir Gulzar\\KSA_project2\\dataset\\Features\\Uni_2h_fivecrop\\TCGA-CL-4957_nonMSIH\\TCGA-CL-4957_nonMSIH_x8784_y25664_patch00365.pt cannot be opened.\n",
      "ERROR:__main__:Error saving D:\\Aamir Gulzar\\KSA_project2\\dataset\\patch_data\\TCGA-CL-4957_nonMSIH\\TCGA-CL-4957_nonMSIH_x8784_y26176_patch00366.png: File D:\\Aamir Gulzar\\KSA_project2\\dataset\\Features\\Uni_2h_fivecrop\\TCGA-CL-4957_nonMSIH\\TCGA-CL-4957_nonMSIH_x8784_y26176_patch00366.pt cannot be opened.\n",
      "ERROR:__main__:Error saving D:\\Aamir Gulzar\\KSA_project2\\dataset\\patch_data\\TCGA-CL-4957_nonMSIH\\TCGA-CL-4957_nonMSIH_x8784_y26688_patch00367.png: File D:\\Aamir Gulzar\\KSA_project2\\dataset\\Features\\Uni_2h_fivecrop\\TCGA-CL-4957_nonMSIH\\TCGA-CL-4957_nonMSIH_x8784_y26688_patch00367.pt cannot be opened.\n",
      "ERROR:__main__:Error saving D:\\Aamir Gulzar\\KSA_project2\\dataset\\patch_data\\TCGA-CL-4957_nonMSIH\\TCGA-CL-4957_nonMSIH_x8784_y27200_patch00368.png: File D:\\Aamir Gulzar\\KSA_project2\\dataset\\Features\\Uni_2h_fivecrop\\TCGA-CL-4957_nonMSIH\\TCGA-CL-4957_nonMSIH_x8784_y27200_patch00368.pt cannot be opened.\n",
      "ERROR:__main__:Error saving D:\\Aamir Gulzar\\KSA_project2\\dataset\\patch_data\\TCGA-CL-4957_nonMSIH\\TCGA-CL-4957_nonMSIH_x8784_y27712_patch00369.png: File D:\\Aamir Gulzar\\KSA_project2\\dataset\\Features\\Uni_2h_fivecrop\\TCGA-CL-4957_nonMSIH\\TCGA-CL-4957_nonMSIH_x8784_y27712_patch00369.pt cannot be opened.\n",
      "ERROR:__main__:Error saving D:\\Aamir Gulzar\\KSA_project2\\dataset\\patch_data\\TCGA-CL-4957_nonMSIH\\TCGA-CL-4957_nonMSIH_x9296_y14400_patch00370.png: File D:\\Aamir Gulzar\\KSA_project2\\dataset\\Features\\Uni_2h_fivecrop\\TCGA-CL-4957_nonMSIH\\TCGA-CL-4957_nonMSIH_x9296_y14400_patch00370.pt cannot be opened.\n",
      "ERROR:__main__:Error saving D:\\Aamir Gulzar\\KSA_project2\\dataset\\patch_data\\TCGA-CL-4957_nonMSIH\\TCGA-CL-4957_nonMSIH_x9296_y14912_patch00371.png: File D:\\Aamir Gulzar\\KSA_project2\\dataset\\Features\\Uni_2h_fivecrop\\TCGA-CL-4957_nonMSIH\\TCGA-CL-4957_nonMSIH_x9296_y14912_patch00371.pt cannot be opened.\n",
      "ERROR:__main__:Error saving D:\\Aamir Gulzar\\KSA_project2\\dataset\\patch_data\\TCGA-CL-4957_nonMSIH\\TCGA-CL-4957_nonMSIH_x9296_y15424_patch00372.png: File D:\\Aamir Gulzar\\KSA_project2\\dataset\\Features\\Uni_2h_fivecrop\\TCGA-CL-4957_nonMSIH\\TCGA-CL-4957_nonMSIH_x9296_y15424_patch00372.pt cannot be opened.\n",
      "ERROR:__main__:Error saving D:\\Aamir Gulzar\\KSA_project2\\dataset\\patch_data\\TCGA-CL-4957_nonMSIH\\TCGA-CL-4957_nonMSIH_x9296_y15936_patch00373.png: File D:\\Aamir Gulzar\\KSA_project2\\dataset\\Features\\Uni_2h_fivecrop\\TCGA-CL-4957_nonMSIH\\TCGA-CL-4957_nonMSIH_x9296_y15936_patch00373.pt cannot be opened.\n",
      "ERROR:__main__:Error saving D:\\Aamir Gulzar\\KSA_project2\\dataset\\patch_data\\TCGA-CL-4957_nonMSIH\\TCGA-CL-4957_nonMSIH_x9296_y16448_patch00374.png: File D:\\Aamir Gulzar\\KSA_project2\\dataset\\Features\\Uni_2h_fivecrop\\TCGA-CL-4957_nonMSIH\\TCGA-CL-4957_nonMSIH_x9296_y16448_patch00374.pt cannot be opened.\n",
      "ERROR:__main__:Error saving D:\\Aamir Gulzar\\KSA_project2\\dataset\\patch_data\\TCGA-CL-4957_nonMSIH\\TCGA-CL-4957_nonMSIH_x9296_y17472_patch00376.png: File D:\\Aamir Gulzar\\KSA_project2\\dataset\\Features\\Uni_2h_fivecrop\\TCGA-CL-4957_nonMSIH\\TCGA-CL-4957_nonMSIH_x9296_y17472_patch00376.pt cannot be opened.\n",
      "ERROR:__main__:Error saving D:\\Aamir Gulzar\\KSA_project2\\dataset\\patch_data\\TCGA-CL-4957_nonMSIH\\TCGA-CL-4957_nonMSIH_x9296_y16960_patch00375.png: File D:\\Aamir Gulzar\\KSA_project2\\dataset\\Features\\Uni_2h_fivecrop\\TCGA-CL-4957_nonMSIH\\TCGA-CL-4957_nonMSIH_x9296_y16960_patch00375.pt cannot be opened.\n",
      "ERROR:__main__:Error saving D:\\Aamir Gulzar\\KSA_project2\\dataset\\patch_data\\TCGA-CL-4957_nonMSIH\\TCGA-CL-4957_nonMSIH_x9296_y17984_patch00377.png: File D:\\Aamir Gulzar\\KSA_project2\\dataset\\Features\\Uni_2h_fivecrop\\TCGA-CL-4957_nonMSIH\\TCGA-CL-4957_nonMSIH_x9296_y17984_patch00377.pt cannot be opened.\n",
      "ERROR:__main__:Error saving D:\\Aamir Gulzar\\KSA_project2\\dataset\\patch_data\\TCGA-CL-4957_nonMSIH\\TCGA-CL-4957_nonMSIH_x9296_y18496_patch00378.png: File D:\\Aamir Gulzar\\KSA_project2\\dataset\\Features\\Uni_2h_fivecrop\\TCGA-CL-4957_nonMSIH\\TCGA-CL-4957_nonMSIH_x9296_y18496_patch00378.pt cannot be opened.\n",
      "ERROR:__main__:Error saving D:\\Aamir Gulzar\\KSA_project2\\dataset\\patch_data\\TCGA-CL-4957_nonMSIH\\TCGA-CL-4957_nonMSIH_x9296_y19008_patch00379.png: File D:\\Aamir Gulzar\\KSA_project2\\dataset\\Features\\Uni_2h_fivecrop\\TCGA-CL-4957_nonMSIH\\TCGA-CL-4957_nonMSIH_x9296_y19008_patch00379.pt cannot be opened.\n",
      "ERROR:__main__:Error saving D:\\Aamir Gulzar\\KSA_project2\\dataset\\patch_data\\TCGA-CL-4957_nonMSIH\\TCGA-CL-4957_nonMSIH_x9296_y19520_patch00380.png: File D:\\Aamir Gulzar\\KSA_project2\\dataset\\Features\\Uni_2h_fivecrop\\TCGA-CL-4957_nonMSIH\\TCGA-CL-4957_nonMSIH_x9296_y19520_patch00380.pt cannot be opened.\n",
      "ERROR:__main__:Error saving D:\\Aamir Gulzar\\KSA_project2\\dataset\\patch_data\\TCGA-CL-4957_nonMSIH\\TCGA-CL-4957_nonMSIH_x9296_y20032_patch00381.png: File D:\\Aamir Gulzar\\KSA_project2\\dataset\\Features\\Uni_2h_fivecrop\\TCGA-CL-4957_nonMSIH\\TCGA-CL-4957_nonMSIH_x9296_y20032_patch00381.pt cannot be opened.\n",
      "ERROR:__main__:Error saving D:\\Aamir Gulzar\\KSA_project2\\dataset\\patch_data\\TCGA-CL-4957_nonMSIH\\TCGA-CL-4957_nonMSIH_x9296_y20544_patch00382.png: File D:\\Aamir Gulzar\\KSA_project2\\dataset\\Features\\Uni_2h_fivecrop\\TCGA-CL-4957_nonMSIH\\TCGA-CL-4957_nonMSIH_x9296_y20544_patch00382.pt cannot be opened.\n",
      "ERROR:__main__:Error saving D:\\Aamir Gulzar\\KSA_project2\\dataset\\patch_data\\TCGA-CL-4957_nonMSIH\\TCGA-CL-4957_nonMSIH_x9296_y21056_patch00383.png: File D:\\Aamir Gulzar\\KSA_project2\\dataset\\Features\\Uni_2h_fivecrop\\TCGA-CL-4957_nonMSIH\\TCGA-CL-4957_nonMSIH_x9296_y21056_patch00383.pt cannot be opened.\n",
      "ERROR:__main__:Error saving D:\\Aamir Gulzar\\KSA_project2\\dataset\\patch_data\\TCGA-CL-4957_nonMSIH\\TCGA-CL-4957_nonMSIH_x9296_y21568_patch00384.png: File D:\\Aamir Gulzar\\KSA_project2\\dataset\\Features\\Uni_2h_fivecrop\\TCGA-CL-4957_nonMSIH\\TCGA-CL-4957_nonMSIH_x9296_y21568_patch00384.pt cannot be opened.\n",
      "ERROR:__main__:Error saving D:\\Aamir Gulzar\\KSA_project2\\dataset\\patch_data\\TCGA-CL-4957_nonMSIH\\TCGA-CL-4957_nonMSIH_x9296_y22080_patch00385.png: File D:\\Aamir Gulzar\\KSA_project2\\dataset\\Features\\Uni_2h_fivecrop\\TCGA-CL-4957_nonMSIH\\TCGA-CL-4957_nonMSIH_x9296_y22080_patch00385.pt cannot be opened.\n",
      "ERROR:__main__:Error saving D:\\Aamir Gulzar\\KSA_project2\\dataset\\patch_data\\TCGA-CL-4957_nonMSIH\\TCGA-CL-4957_nonMSIH_x9296_y22592_patch00386.png: File D:\\Aamir Gulzar\\KSA_project2\\dataset\\Features\\Uni_2h_fivecrop\\TCGA-CL-4957_nonMSIH\\TCGA-CL-4957_nonMSIH_x9296_y22592_patch00386.pt cannot be opened.\n",
      "ERROR:__main__:Error saving D:\\Aamir Gulzar\\KSA_project2\\dataset\\patch_data\\TCGA-CL-4957_nonMSIH\\TCGA-CL-4957_nonMSIH_x9296_y23104_patch00387.png: File D:\\Aamir Gulzar\\KSA_project2\\dataset\\Features\\Uni_2h_fivecrop\\TCGA-CL-4957_nonMSIH\\TCGA-CL-4957_nonMSIH_x9296_y23104_patch00387.pt cannot be opened.\n",
      "ERROR:__main__:Error saving D:\\Aamir Gulzar\\KSA_project2\\dataset\\patch_data\\TCGA-CL-4957_nonMSIH\\TCGA-CL-4957_nonMSIH_x9296_y23616_patch00388.png: File D:\\Aamir Gulzar\\KSA_project2\\dataset\\Features\\Uni_2h_fivecrop\\TCGA-CL-4957_nonMSIH\\TCGA-CL-4957_nonMSIH_x9296_y23616_patch00388.pt cannot be opened.\n",
      "ERROR:__main__:Error saving D:\\Aamir Gulzar\\KSA_project2\\dataset\\patch_data\\TCGA-CL-4957_nonMSIH\\TCGA-CL-4957_nonMSIH_x9296_y24128_patch00389.png: File D:\\Aamir Gulzar\\KSA_project2\\dataset\\Features\\Uni_2h_fivecrop\\TCGA-CL-4957_nonMSIH\\TCGA-CL-4957_nonMSIH_x9296_y24128_patch00389.pt cannot be opened.\n",
      "ERROR:__main__:Error saving D:\\Aamir Gulzar\\KSA_project2\\dataset\\patch_data\\TCGA-CL-4957_nonMSIH\\TCGA-CL-4957_nonMSIH_x9296_y24640_patch00390.png: File D:\\Aamir Gulzar\\KSA_project2\\dataset\\Features\\Uni_2h_fivecrop\\TCGA-CL-4957_nonMSIH\\TCGA-CL-4957_nonMSIH_x9296_y24640_patch00390.pt cannot be opened.\n",
      "ERROR:__main__:Error saving D:\\Aamir Gulzar\\KSA_project2\\dataset\\patch_data\\TCGA-CL-4957_nonMSIH\\TCGA-CL-4957_nonMSIH_x9296_y25152_patch00391.png: File D:\\Aamir Gulzar\\KSA_project2\\dataset\\Features\\Uni_2h_fivecrop\\TCGA-CL-4957_nonMSIH\\TCGA-CL-4957_nonMSIH_x9296_y25152_patch00391.pt cannot be opened.\n",
      "ERROR:__main__:Error saving D:\\Aamir Gulzar\\KSA_project2\\dataset\\patch_data\\TCGA-CL-4957_nonMSIH\\TCGA-CL-4957_nonMSIH_x9296_y25664_patch00392.png: File D:\\Aamir Gulzar\\KSA_project2\\dataset\\Features\\Uni_2h_fivecrop\\TCGA-CL-4957_nonMSIH\\TCGA-CL-4957_nonMSIH_x9296_y25664_patch00392.pt cannot be opened.\n",
      "ERROR:__main__:Error saving D:\\Aamir Gulzar\\KSA_project2\\dataset\\patch_data\\TCGA-CL-4957_nonMSIH\\TCGA-CL-4957_nonMSIH_x9296_y26176_patch00393.png: File D:\\Aamir Gulzar\\KSA_project2\\dataset\\Features\\Uni_2h_fivecrop\\TCGA-CL-4957_nonMSIH\\TCGA-CL-4957_nonMSIH_x9296_y26176_patch00393.pt cannot be opened.\n",
      "ERROR:__main__:Error saving D:\\Aamir Gulzar\\KSA_project2\\dataset\\patch_data\\TCGA-CL-4957_nonMSIH\\TCGA-CL-4957_nonMSIH_x9296_y26688_patch00394.png: File D:\\Aamir Gulzar\\KSA_project2\\dataset\\Features\\Uni_2h_fivecrop\\TCGA-CL-4957_nonMSIH\\TCGA-CL-4957_nonMSIH_x9296_y26688_patch00394.pt cannot be opened.\n",
      "ERROR:__main__:Error saving D:\\Aamir Gulzar\\KSA_project2\\dataset\\patch_data\\TCGA-CL-4957_nonMSIH\\TCGA-CL-4957_nonMSIH_x9296_y27200_patch00395.png: File D:\\Aamir Gulzar\\KSA_project2\\dataset\\Features\\Uni_2h_fivecrop\\TCGA-CL-4957_nonMSIH\\TCGA-CL-4957_nonMSIH_x9296_y27200_patch00395.pt cannot be opened.\n",
      "ERROR:__main__:Error saving D:\\Aamir Gulzar\\KSA_project2\\dataset\\patch_data\\TCGA-CL-4957_nonMSIH\\TCGA-CL-4957_nonMSIH_x9296_y27712_patch00396.png: File D:\\Aamir Gulzar\\KSA_project2\\dataset\\Features\\Uni_2h_fivecrop\\TCGA-CL-4957_nonMSIH\\TCGA-CL-4957_nonMSIH_x9296_y27712_patch00396.pt cannot be opened.\n",
      "ERROR:__main__:Error saving D:\\Aamir Gulzar\\KSA_project2\\dataset\\patch_data\\TCGA-CL-4957_nonMSIH\\TCGA-CL-4957_nonMSIH_x9808_y14400_patch00397.png: File D:\\Aamir Gulzar\\KSA_project2\\dataset\\Features\\Uni_2h_fivecrop\\TCGA-CL-4957_nonMSIH\\TCGA-CL-4957_nonMSIH_x9808_y14400_patch00397.pt cannot be opened.\n",
      "ERROR:__main__:Error saving D:\\Aamir Gulzar\\KSA_project2\\dataset\\patch_data\\TCGA-CL-4957_nonMSIH\\TCGA-CL-4957_nonMSIH_x9808_y14912_patch00398.png: File D:\\Aamir Gulzar\\KSA_project2\\dataset\\Features\\Uni_2h_fivecrop\\TCGA-CL-4957_nonMSIH\\TCGA-CL-4957_nonMSIH_x9808_y14912_patch00398.pt cannot be opened.\n",
      "ERROR:__main__:Error saving D:\\Aamir Gulzar\\KSA_project2\\dataset\\patch_data\\TCGA-CL-4957_nonMSIH\\TCGA-CL-4957_nonMSIH_x9808_y15424_patch00399.png: File D:\\Aamir Gulzar\\KSA_project2\\dataset\\Features\\Uni_2h_fivecrop\\TCGA-CL-4957_nonMSIH\\TCGA-CL-4957_nonMSIH_x9808_y15424_patch00399.pt cannot be opened.\n",
      "ERROR:__main__:Error saving D:\\Aamir Gulzar\\KSA_project2\\dataset\\patch_data\\TCGA-CL-4957_nonMSIH\\TCGA-CL-4957_nonMSIH_x9808_y15936_patch00400.png: File D:\\Aamir Gulzar\\KSA_project2\\dataset\\Features\\Uni_2h_fivecrop\\TCGA-CL-4957_nonMSIH\\TCGA-CL-4957_nonMSIH_x9808_y15936_patch00400.pt cannot be opened.\n",
      "ERROR:__main__:Error saving D:\\Aamir Gulzar\\KSA_project2\\dataset\\patch_data\\TCGA-CL-4957_nonMSIH\\TCGA-CL-4957_nonMSIH_x9808_y16448_patch00401.png: File D:\\Aamir Gulzar\\KSA_project2\\dataset\\Features\\Uni_2h_fivecrop\\TCGA-CL-4957_nonMSIH\\TCGA-CL-4957_nonMSIH_x9808_y16448_patch00401.pt cannot be opened.\n",
      "ERROR:__main__:Error saving D:\\Aamir Gulzar\\KSA_project2\\dataset\\patch_data\\TCGA-CL-4957_nonMSIH\\TCGA-CL-4957_nonMSIH_x9808_y16960_patch00402.png: File D:\\Aamir Gulzar\\KSA_project2\\dataset\\Features\\Uni_2h_fivecrop\\TCGA-CL-4957_nonMSIH\\TCGA-CL-4957_nonMSIH_x9808_y16960_patch00402.pt cannot be opened.\n",
      "ERROR:__main__:Error saving D:\\Aamir Gulzar\\KSA_project2\\dataset\\patch_data\\TCGA-CL-4957_nonMSIH\\TCGA-CL-4957_nonMSIH_x9808_y17472_patch00403.png: File D:\\Aamir Gulzar\\KSA_project2\\dataset\\Features\\Uni_2h_fivecrop\\TCGA-CL-4957_nonMSIH\\TCGA-CL-4957_nonMSIH_x9808_y17472_patch00403.pt cannot be opened.\n",
      "ERROR:__main__:Error saving D:\\Aamir Gulzar\\KSA_project2\\dataset\\patch_data\\TCGA-CL-4957_nonMSIH\\TCGA-CL-4957_nonMSIH_x9808_y17984_patch00404.png: File D:\\Aamir Gulzar\\KSA_project2\\dataset\\Features\\Uni_2h_fivecrop\\TCGA-CL-4957_nonMSIH\\TCGA-CL-4957_nonMSIH_x9808_y17984_patch00404.pt cannot be opened.\n",
      "ERROR:__main__:Error saving D:\\Aamir Gulzar\\KSA_project2\\dataset\\patch_data\\TCGA-CL-4957_nonMSIH\\TCGA-CL-4957_nonMSIH_x9808_y18496_patch00405.png: File D:\\Aamir Gulzar\\KSA_project2\\dataset\\Features\\Uni_2h_fivecrop\\TCGA-CL-4957_nonMSIH\\TCGA-CL-4957_nonMSIH_x9808_y18496_patch00405.pt cannot be opened.\n",
      "ERROR:__main__:Error saving D:\\Aamir Gulzar\\KSA_project2\\dataset\\patch_data\\TCGA-CL-4957_nonMSIH\\TCGA-CL-4957_nonMSIH_x9808_y19008_patch00406.png: File D:\\Aamir Gulzar\\KSA_project2\\dataset\\Features\\Uni_2h_fivecrop\\TCGA-CL-4957_nonMSIH\\TCGA-CL-4957_nonMSIH_x9808_y19008_patch00406.pt cannot be opened.\n",
      "ERROR:__main__:Error saving D:\\Aamir Gulzar\\KSA_project2\\dataset\\patch_data\\TCGA-CL-4957_nonMSIH\\TCGA-CL-4957_nonMSIH_x9808_y19520_patch00407.png: File D:\\Aamir Gulzar\\KSA_project2\\dataset\\Features\\Uni_2h_fivecrop\\TCGA-CL-4957_nonMSIH\\TCGA-CL-4957_nonMSIH_x9808_y19520_patch00407.pt cannot be opened.\n",
      "ERROR:__main__:Error saving D:\\Aamir Gulzar\\KSA_project2\\dataset\\patch_data\\TCGA-CL-4957_nonMSIH\\TCGA-CL-4957_nonMSIH_x9808_y20032_patch00408.png: File D:\\Aamir Gulzar\\KSA_project2\\dataset\\Features\\Uni_2h_fivecrop\\TCGA-CL-4957_nonMSIH\\TCGA-CL-4957_nonMSIH_x9808_y20032_patch00408.pt cannot be opened.\n",
      "ERROR:__main__:Error saving D:\\Aamir Gulzar\\KSA_project2\\dataset\\patch_data\\TCGA-CL-4957_nonMSIH\\TCGA-CL-4957_nonMSIH_x9808_y20544_patch00409.png: File D:\\Aamir Gulzar\\KSA_project2\\dataset\\Features\\Uni_2h_fivecrop\\TCGA-CL-4957_nonMSIH\\TCGA-CL-4957_nonMSIH_x9808_y20544_patch00409.pt cannot be opened.\n",
      "ERROR:__main__:Error saving D:\\Aamir Gulzar\\KSA_project2\\dataset\\patch_data\\TCGA-CL-4957_nonMSIH\\TCGA-CL-4957_nonMSIH_x9808_y21056_patch00410.png: File D:\\Aamir Gulzar\\KSA_project2\\dataset\\Features\\Uni_2h_fivecrop\\TCGA-CL-4957_nonMSIH\\TCGA-CL-4957_nonMSIH_x9808_y21056_patch00410.pt cannot be opened.\n",
      "ERROR:__main__:Error saving D:\\Aamir Gulzar\\KSA_project2\\dataset\\patch_data\\TCGA-CL-4957_nonMSIH\\TCGA-CL-4957_nonMSIH_x9808_y21568_patch00411.png: File D:\\Aamir Gulzar\\KSA_project2\\dataset\\Features\\Uni_2h_fivecrop\\TCGA-CL-4957_nonMSIH\\TCGA-CL-4957_nonMSIH_x9808_y21568_patch00411.pt cannot be opened.\n",
      "ERROR:__main__:Error saving D:\\Aamir Gulzar\\KSA_project2\\dataset\\patch_data\\TCGA-CL-4957_nonMSIH\\TCGA-CL-4957_nonMSIH_x9808_y22080_patch00412.png: File D:\\Aamir Gulzar\\KSA_project2\\dataset\\Features\\Uni_2h_fivecrop\\TCGA-CL-4957_nonMSIH\\TCGA-CL-4957_nonMSIH_x9808_y22080_patch00412.pt cannot be opened.\n",
      "ERROR:__main__:Error saving D:\\Aamir Gulzar\\KSA_project2\\dataset\\patch_data\\TCGA-CL-4957_nonMSIH\\TCGA-CL-4957_nonMSIH_x9808_y22592_patch00413.png: File D:\\Aamir Gulzar\\KSA_project2\\dataset\\Features\\Uni_2h_fivecrop\\TCGA-CL-4957_nonMSIH\\TCGA-CL-4957_nonMSIH_x9808_y22592_patch00413.pt cannot be opened.\n",
      "ERROR:__main__:Error saving D:\\Aamir Gulzar\\KSA_project2\\dataset\\patch_data\\TCGA-CL-4957_nonMSIH\\TCGA-CL-4957_nonMSIH_x9808_y23104_patch00414.png: File D:\\Aamir Gulzar\\KSA_project2\\dataset\\Features\\Uni_2h_fivecrop\\TCGA-CL-4957_nonMSIH\\TCGA-CL-4957_nonMSIH_x9808_y23104_patch00414.pt cannot be opened.\n",
      "ERROR:__main__:Error saving D:\\Aamir Gulzar\\KSA_project2\\dataset\\patch_data\\TCGA-CL-4957_nonMSIH\\TCGA-CL-4957_nonMSIH_x9808_y23616_patch00415.png: File D:\\Aamir Gulzar\\KSA_project2\\dataset\\Features\\Uni_2h_fivecrop\\TCGA-CL-4957_nonMSIH\\TCGA-CL-4957_nonMSIH_x9808_y23616_patch00415.pt cannot be opened.\n",
      "ERROR:__main__:Error saving D:\\Aamir Gulzar\\KSA_project2\\dataset\\patch_data\\TCGA-CL-4957_nonMSIH\\TCGA-CL-4957_nonMSIH_x9808_y24128_patch00416.png: File D:\\Aamir Gulzar\\KSA_project2\\dataset\\Features\\Uni_2h_fivecrop\\TCGA-CL-4957_nonMSIH\\TCGA-CL-4957_nonMSIH_x9808_y24128_patch00416.pt cannot be opened.\n",
      "ERROR:__main__:Error saving D:\\Aamir Gulzar\\KSA_project2\\dataset\\patch_data\\TCGA-CL-4957_nonMSIH\\TCGA-CL-4957_nonMSIH_x9808_y24640_patch00417.png: File D:\\Aamir Gulzar\\KSA_project2\\dataset\\Features\\Uni_2h_fivecrop\\TCGA-CL-4957_nonMSIH\\TCGA-CL-4957_nonMSIH_x9808_y24640_patch00417.pt cannot be opened.\n",
      "ERROR:__main__:Error saving D:\\Aamir Gulzar\\KSA_project2\\dataset\\patch_data\\TCGA-CL-4957_nonMSIH\\TCGA-CL-4957_nonMSIH_x9808_y25152_patch00418.png: File D:\\Aamir Gulzar\\KSA_project2\\dataset\\Features\\Uni_2h_fivecrop\\TCGA-CL-4957_nonMSIH\\TCGA-CL-4957_nonMSIH_x9808_y25152_patch00418.pt cannot be opened.\n",
      "ERROR:__main__:Error saving D:\\Aamir Gulzar\\KSA_project2\\dataset\\patch_data\\TCGA-CL-4957_nonMSIH\\TCGA-CL-4957_nonMSIH_x9808_y25664_patch00419.png: File D:\\Aamir Gulzar\\KSA_project2\\dataset\\Features\\Uni_2h_fivecrop\\TCGA-CL-4957_nonMSIH\\TCGA-CL-4957_nonMSIH_x9808_y25664_patch00419.pt cannot be opened.\n",
      "ERROR:__main__:Error saving D:\\Aamir Gulzar\\KSA_project2\\dataset\\patch_data\\TCGA-CL-4957_nonMSIH\\TCGA-CL-4957_nonMSIH_x9808_y26176_patch00420.png: File D:\\Aamir Gulzar\\KSA_project2\\dataset\\Features\\Uni_2h_fivecrop\\TCGA-CL-4957_nonMSIH\\TCGA-CL-4957_nonMSIH_x9808_y26176_patch00420.pt cannot be opened.\n",
      "ERROR:__main__:Error saving D:\\Aamir Gulzar\\KSA_project2\\dataset\\patch_data\\TCGA-CL-4957_nonMSIH\\TCGA-CL-4957_nonMSIH_x9808_y26688_patch00421.png: File D:\\Aamir Gulzar\\KSA_project2\\dataset\\Features\\Uni_2h_fivecrop\\TCGA-CL-4957_nonMSIH\\TCGA-CL-4957_nonMSIH_x9808_y26688_patch00421.pt cannot be opened.\n",
      "ERROR:__main__:Error saving D:\\Aamir Gulzar\\KSA_project2\\dataset\\patch_data\\TCGA-CL-4957_nonMSIH\\TCGA-CL-4957_nonMSIH_x9808_y27200_patch00422.png: File D:\\Aamir Gulzar\\KSA_project2\\dataset\\Features\\Uni_2h_fivecrop\\TCGA-CL-4957_nonMSIH\\TCGA-CL-4957_nonMSIH_x9808_y27200_patch00422.pt cannot be opened.\n",
      "ERROR:__main__:Error saving D:\\Aamir Gulzar\\KSA_project2\\dataset\\patch_data\\TCGA-CL-4957_nonMSIH\\TCGA-CL-4957_nonMSIH_x9808_y27712_patch00423.png: File D:\\Aamir Gulzar\\KSA_project2\\dataset\\Features\\Uni_2h_fivecrop\\TCGA-CL-4957_nonMSIH\\TCGA-CL-4957_nonMSIH_x9808_y27712_patch00423.pt cannot be opened.\n",
      "INFO:__main__:  ✅ Completed TCGA-CL-4957_nonMSIH: 1655 patches processed\n",
      "Processing slides:  54%|█████▍    | 225/417 [12:40:57<67:54:07, 1273.16s/it]INFO:__main__:\n",
      "📄 Processing slide: TCGA-CL-5917_nonMSIH\n",
      "INFO:__main__:  ✅ Objective power: 40x, patch size: 1024\n",
      "INFO:__main__:  📊 Filtered patches: 3438/3533 valid non-white patches\n",
      "Processing slides:  54%|█████▍    | 225/417 [12:40:58<10:49:21, 202.92s/it] \n",
      "ERROR:__main__:\n",
      "💥 Processing failed: [WinError 112] There is not enough space on the disk: 'D:\\\\Aamir Gulzar\\\\KSA_project2\\\\dataset\\\\Features\\\\Uni_2h_fivecrop\\\\TCGA-CL-5917_nonMSIH'\n"
     ]
    }
   ],
   "source": [
    "from huggingface_hub import login\n",
    "from transformers import AutoModel\n",
    "from PIL import Image\n",
    "import torch\n",
    "import torch.nn.functional as F\n",
    "from torchvision import transforms\n",
    "import os\n",
    "import glob\n",
    "from tqdm import tqdm\n",
    "import logging\n",
    "import gc\n",
    "import time\n",
    "from concurrent.futures import ThreadPoolExecutor\n",
    "import threading\n",
    "from queue import Queue\n",
    "import multiprocessing as mp\n",
    "\n",
    "# Set up logging\n",
    "logging.basicConfig(level=logging.INFO)\n",
    "logger = logging.getLogger(__name__)\n",
    "\n",
    "# Global model instance to avoid reloading\n",
    "_model_instance = None\n",
    "_model_lock = threading.Lock()\n",
    "\n",
    "def get_model_instance():\n",
    "    global _model_instance\n",
    "    if _model_instance is None:\n",
    "        with _model_lock:\n",
    "            if _model_instance is None:\n",
    "                logger.info(\"Loading UNI2 model...\")\n",
    "                _model_instance = UNI2ExtractorFiveCrop()\n",
    "    return _model_instance\n",
    "\n",
    "class OptimizedBatchProcessor:\n",
    "    def __init__(self, batch_size=64, num_workers=4):\n",
    "        self.batch_size = batch_size\n",
    "        self.num_workers = num_workers\n",
    "        \n",
    "        self.extractor = get_model_instance()\n",
    "        self.transform = self.extractor.fivecrop_transform\n",
    "        self.device = self.extractor.device\n",
    "\n",
    "    def load_images_parallel(self, image_paths):\n",
    "        def load_single(path):\n",
    "            try:\n",
    "                if not os.path.exists(path):\n",
    "                    return None, path\n",
    "                with Image.open(path) as img:\n",
    "                    img_rgb = img.convert(\"RGB\")\n",
    "                    crops = self.transform(img_rgb)\n",
    "                    return crops, path\n",
    "            except Exception as e:\n",
    "                logger.warning(f\"Failed to load {path}: {e}\")\n",
    "                return None, path\n",
    "\n",
    "        with ThreadPoolExecutor(max_workers=self.num_workers) as executor:\n",
    "            results = list(executor.map(load_single, image_paths))\n",
    "        \n",
    "        valid_crops = []\n",
    "        valid_paths = []\n",
    "        for crops, path in results:\n",
    "            if crops is not None:\n",
    "                valid_crops.append(crops)\n",
    "                valid_paths.append(path)\n",
    "        \n",
    "        return valid_crops, valid_paths\n",
    "\n",
    "    def process_mega_batch(self, image_paths):\n",
    "        if not image_paths:\n",
    "            return []\n",
    "\n",
    "        valid_crops, valid_paths = self.load_images_parallel(image_paths)\n",
    "        if not valid_crops:\n",
    "            return []\n",
    "\n",
    "        results = []\n",
    "        try:\n",
    "            batch_tensor = torch.stack(valid_crops)  # (N, 5, C, H, W)\n",
    "            N, crops_per_img, C, H, W = batch_tensor.shape\n",
    "            batch_tensor = batch_tensor.view(N * crops_per_img, C, H, W).to(self.device)\n",
    "\n",
    "            with torch.no_grad():\n",
    "                features = self.extractor.model(batch_tensor)\n",
    "\n",
    "            features = features.view(N, crops_per_img, -1).cpu()\n",
    "\n",
    "            for i, path in enumerate(valid_paths):\n",
    "                print(features.shape)\n",
    "                results.append((features[i], path))\n",
    "\n",
    "        except RuntimeError as e:\n",
    "            if \"out of memory\" in str(e):\n",
    "                torch.cuda.empty_cache()\n",
    "                mid = len(image_paths) // 2\n",
    "                results.extend(self.process_mega_batch(image_paths[:mid]))\n",
    "                results.extend(self.process_mega_batch(image_paths[mid:]))\n",
    "            else:\n",
    "                logger.error(f\"Error: {e}\")\n",
    "                torch.cuda.empty_cache()\n",
    "\n",
    "        return results\n",
    "\n",
    "\n",
    "def save_features_parallel(results, patch_root, save_root, num_workers=4):\n",
    "    \"\"\"Save features in parallel.\"\"\"\n",
    "    def save_single(item):\n",
    "        features, patch_path = item\n",
    "        try:\n",
    "            # Create save path\n",
    "            relative_path = os.path.relpath(patch_path, patch_root)\n",
    "            slide_folder, patch_filename = os.path.split(relative_path)\n",
    "            patch_base = os.path.splitext(patch_filename)[0]\n",
    "            \n",
    "            save_dir = os.path.join(save_root, slide_folder)\n",
    "            os.makedirs(save_dir, exist_ok=True)\n",
    "            \n",
    "            save_path = os.path.join(save_dir, patch_base + \".pt\")\n",
    "            torch.save(features, save_path)\n",
    "            return True\n",
    "        except Exception as e:\n",
    "            logger.error(f\"Error saving {patch_path}: {e}\")\n",
    "            return False\n",
    "    \n",
    "    with ThreadPoolExecutor(max_workers=num_workers) as executor:\n",
    "        success_results = list(executor.map(save_single, results))\n",
    "    \n",
    "    return sum(success_results)\n",
    "\n",
    "def process_patches_ultra_fast(\n",
    "    patch_data_dir: str = r\"D:\\Aamir Gulzar\\KSA_project2\\Cancer-detection-classifier\\feature_extraction\\test_data\",\n",
    "    output_root: str = r\"D:\\Aamir Gulzar\\KSA_project2\\dataset\\Features_test\\Conch_v1_5_fivecrop\",\n",
    "    slide_meta_csv: str = None,\n",
    "    non_white_csv: str = None\n",
    "):\n",
    "    \"\"\"Ultra-fast processing with all optimizations and validation checks.\"\"\"\n",
    "    import pandas as pd\n",
    "    \n",
    "    if not os.path.exists(patch_data_dir):\n",
    "        logger.error(f\"Patch root directory not found: {patch_data_dir}\")\n",
    "        return\n",
    "    \n",
    "    # Load validation data if provided\n",
    "    valid_patch_names = None\n",
    "    slide_meta_df = None\n",
    "    \n",
    "    if non_white_csv and os.path.exists(non_white_csv):\n",
    "        logger.info(\"Loading non-white patch validation...\")\n",
    "        non_white_df = pd.read_csv(non_white_csv)\n",
    "        valid_patch_names = set(non_white_df['patch_name'].astype(str))\n",
    "        logger.info(f\"Found {len(valid_patch_names)} valid non-white patches\")\n",
    "    \n",
    "    if slide_meta_csv and os.path.exists(slide_meta_csv):\n",
    "        logger.info(\"Loading slide metadata...\")\n",
    "        slide_meta_df = pd.read_csv(slide_meta_csv)\n",
    "        logger.info(f\"Loaded metadata for {len(slide_meta_df)} slides\")\n",
    "    \n",
    "    # Initialize processor\n",
    "    processor = OptimizedBatchProcessor(batch_size=128, num_workers=8)\n",
    "    os.makedirs(output_root, exist_ok=True)\n",
    "    \n",
    "    # Get all slide directories\n",
    "    slide_dirs = glob.glob(os.path.join(patch_data_dir, \"*\"))\n",
    "    logger.info(f\"Found {len(slide_dirs)} slide directories\")\n",
    "    \n",
    "    total_processed = 0\n",
    "    total_skipped = 0\n",
    "    total_failed = 0\n",
    "    start_time = time.time()\n",
    "    \n",
    "    for slide_dir in tqdm(slide_dirs, desc=\"Processing slides\"):\n",
    "        slide_name = os.path.basename(slide_dir)\n",
    "        slide_output_dir = os.path.join(output_root, slide_name)\n",
    "\n",
    "        if os.path.exists(slide_output_dir) and len(os.listdir(slide_output_dir)) > 0:\n",
    "            logger.info(f\"\\n📄 Skipping slide {slide_name}: Output directory already exists and is not empty.\")\n",
    "            total_skipped += 1\n",
    "            continue\n",
    "\n",
    "        logger.info(f\"\\n📄 Processing slide: {slide_name}\")\n",
    "        \n",
    "        # Validate slide metadata if provided\n",
    "        if slide_meta_df is not None:\n",
    "            meta_row = slide_meta_df[slide_meta_df[\"renamed\"].str.lower() == slide_name.lower()]\n",
    "            if meta_row.empty:\n",
    "                logger.warning(f\"  ❌ Skipped: Slide metadata not found for {slide_name}\")\n",
    "                total_skipped += 1\n",
    "                continue\n",
    "            \n",
    "            try:\n",
    "                obj_power = int(meta_row.iloc[0][\"Objective Power\"])\n",
    "                patch_size_level0 = 1024 if obj_power == 40 else 512 if obj_power == 20 else None\n",
    "                if patch_size_level0 is None:\n",
    "                    logger.warning(f\"  ❌ Unsupported objective power: {obj_power}\")\n",
    "                    total_skipped += 1\n",
    "                    continue\n",
    "                logger.info(f\"  ✅ Objective power: {obj_power}x, patch size: {patch_size_level0}\")\n",
    "            except Exception as e:\n",
    "                logger.error(f\"  ❌ Error extracting objective power: {e}\")\n",
    "                total_failed += 1\n",
    "                continue\n",
    "        \n",
    "        # Get all patches for this slide\n",
    "        all_patches = glob.glob(os.path.join(slide_dir, \"*.png\"))\n",
    "        \n",
    "        # Filter by valid patch names if provided\n",
    "        if valid_patch_names:\n",
    "            valid_patches = [p for p in all_patches if os.path.basename(p) in valid_patch_names]\n",
    "            logger.info(f\"  📊 Filtered patches: {len(valid_patches)}/{len(all_patches)} valid non-white patches\")\n",
    "        else:\n",
    "            valid_patches = all_patches\n",
    "            logger.info(f\"  📊 Found {len(valid_patches)} patches (no filtering applied)\")\n",
    "        \n",
    "        if not valid_patches:\n",
    "            logger.warning(f\"  ❌ No valid patches found for {slide_name}\")\n",
    "            total_skipped += 1\n",
    "            continue\n",
    "        \n",
    "        # Check which patches need processing\n",
    "        os.makedirs(slide_output_dir, exist_ok=True)\n",
    "        \n",
    "        remaining_patches = []\n",
    "        for patch_path in valid_patches:\n",
    "            patch_name = os.path.splitext(os.path.basename(patch_path))[0]\n",
    "            save_path = os.path.join(slide_output_dir, patch_name + \".pt\")\n",
    "            if not os.path.exists(save_path):\n",
    "                remaining_patches.append(patch_path)\n",
    "        \n",
    "        if not remaining_patches:\n",
    "            logger.info(f\"  ✅ All patches already processed for {slide_name}\")\n",
    "            continue\n",
    "        \n",
    "        logger.info(f\"  🔄 Processing {len(remaining_patches)} new patches (skipping {len(valid_patches) - len(remaining_patches)} existing)\")\n",
    "        \n",
    "        # Process patches in mega batches for this slide\n",
    "        slide_processed = 0\n",
    "        mega_batch_size = 1  # Smaller batches per slide for better progress tracking\n",
    "        \n",
    "        for i in range(0, len(remaining_patches), mega_batch_size):\n",
    "            batch_patches = remaining_patches[i:i + mega_batch_size]\n",
    "            \n",
    "            try:\n",
    "                # Process mega batch\n",
    "                results = processor.process_mega_batch(batch_patches)\n",
    "                \n",
    "                # Save results for this batch\n",
    "                if results:\n",
    "                    saved_count = save_features_parallel(results, patch_data_dir, output_root)\n",
    "                    slide_processed += saved_count\n",
    "                    total_processed += saved_count\n",
    "                \n",
    "            except Exception as e:\n",
    "                logger.error(f\"  ❌ Error processing batch for {slide_name}: {e}\")\n",
    "                total_failed += len(batch_patches)\n",
    "                if torch.cuda.is_available():\n",
    "                    torch.cuda.empty_cache()\n",
    "        \n",
    "        logger.info(f\"  ✅ Completed {slide_name}: {slide_processed} patches processed\")\n",
    "        \n",
    "        # Memory cleanup after each slide\n",
    "        gc.collect()\n",
    "        if torch.cuda.is_available():\n",
    "            torch.cuda.empty_cache()\n",
    "    \n",
    "    # Final statistics\n",
    "    total_time = time.time() - start_time\n",
    "    logger.info(f\"\\n🚀 ULTRA-FAST PIPELINE COMPLETE! 🚀\")\n",
    "    logger.info(f\"📊 FINAL STATS:\")\n",
    "    logger.info(f\"   ✅ Processed: {total_processed} patches\")\n",
    "    logger.info(f\"   ⏭️  Skipped: {total_skipped} slides\")\n",
    "    logger.info(f\"   ❌ Failed: {total_failed} patches\")\n",
    "    logger.info(f\"   ⏱️  Total time: {total_time/60:.2f} minutes\")\n",
    "    logger.info(f\"   🚀 Average rate: {total_processed/total_time:.1f} patches/second\")\n",
    "    \n",
    "    return total_processed, total_skipped, total_failed\n",
    "    \n",
    "\n",
    "def benchmark_test():\n",
    "    \"\"\"Quick benchmark test.\"\"\"\n",
    "    patch_root = r\"D:\\Aamir Gulzar\\KSA_project2\\Cancer-detection-classifier\\feature_extraction\\test_data\"\n",
    "    test_paths = glob.glob(os.path.join(patch_root, \"*\", \"*.png\"))[:50]  # Test with 50 images\n",
    "    \n",
    "    if len(test_paths) < 10:\n",
    "        logger.error(\"Need at least 10 test images\")\n",
    "        return False\n",
    "    \n",
    "    logger.info(f\"🧪 Benchmark test with {len(test_paths)} images...\")\n",
    "    \n",
    "    try:\n",
    "        processor = OptimizedBatchProcessor(batch_size=128, num_workers=8)\n",
    "        \n",
    "        start = time.time()\n",
    "        results = processor.process_mega_batch(test_paths)\n",
    "        elapsed = time.time() - start\n",
    "        \n",
    "        rate = len(results) / elapsed\n",
    "        logger.info(f\"✅ Benchmark successful!\")\n",
    "        logger.info(f\"   Rate: {rate:.1f} images/second\")\n",
    "        logger.info(f\"   Estimated total time: {6695/rate/60:.1f} minutes\")\n",
    "        \n",
    "        return rate > 2.0  # Must be at least 2 imgs/sec\n",
    "        \n",
    "    except Exception as e:\n",
    "        logger.error(f\"❌ Benchmark failed: {e}\")\n",
    "        return False\n",
    "\n",
    "if __name__ == \"__main__\":\n",
    "    # Configuration - Update these paths as needed\n",
    "    PATCH_DATA_DIR = r\"D:\\Aamir Gulzar\\KSA_project2\\dataset\\patch_data\"\n",
    "    OUTPUT_ROOT = r\"D:\\Aamir Gulzar\\KSA_project2\\dataset\\Features\\Uni_2h_fivecrop\"\n",
    "    \n",
    "    # Optional validation files - set to None to skip validation\n",
    "    SLIDE_META_CSV = r\"D:\\Aamir Gulzar\\KSA_project2\\Cancer-detection-classifier\\feature_extraction\\slide_metadata_filtered.csv\"  \n",
    "    NON_WHITE_CSV = r\"D:\\Aamir Gulzar\\KSA_project2\\dataset\\final_merged_without_white.csv\" \n",
    "    \n",
    "    # Run benchmark first\n",
    "    if benchmark_test():\n",
    "        print(\"\\n\" + \"=\"*60)\n",
    "        print(\"🚀 BENCHMARK PASSED - READY FOR ULTRA-FAST PROCESSING! 🚀\")\n",
    "        print(\"=\"*60)\n",
    "        \n",
    "        # Show configuration\n",
    "        print(f\"📁 Input directory: {PATCH_DATA_DIR}\")\n",
    "        print(f\"💾 Output directory: {OUTPUT_ROOT}\")\n",
    "        print(f\"📊 Slide metadata: {'✅ Enabled' if SLIDE_META_CSV else '❌ Disabled'}\")\n",
    "        print(f\"🎨 Non-white filter: {'✅ Enabled' if NON_WHITE_CSV else '❌ Disabled'}\")\n",
    "        \n",
    "        response = input(\"\\nProceed with processing? (y/n): \")\n",
    "        if response.lower() == 'y':\n",
    "            try:\n",
    "                processed, skipped, failed = process_patches_ultra_fast(\n",
    "                    patch_data_dir=PATCH_DATA_DIR,\n",
    "                    output_root=OUTPUT_ROOT,\n",
    "                    slide_meta_csv=SLIDE_META_CSV,\n",
    "                    non_white_csv=NON_WHITE_CSV\n",
    "                )\n",
    "                \n",
    "                print(\"\\n\" + \"=\"*60)\n",
    "                print(\"🎉 PROCESSING COMPLETE! 🎉\")\n",
    "                print(f\"✅ Successfully processed: {processed} patches\")\n",
    "                if skipped > 0:\n",
    "                    print(f\"⏭️  Skipped slides: {skipped}\")\n",
    "                if failed > 0:\n",
    "                    print(f\"❌ Failed patches: {failed}\")\n",
    "                print(\"=\"*60)\n",
    "                \n",
    "            except KeyboardInterrupt:\n",
    "                logger.info(\"\\n⏹️  Processing interrupted by user\")\n",
    "            except Exception as e:\n",
    "                logger.error(f\"\\n💥 Processing failed: {e}\")\n",
    "        else:\n",
    "            logger.info(\"Processing cancelled by user.\")\n",
    "    else:\n",
    "        logger.error(\"❌ Benchmark failed. Please check your setup.\")"
   ]
  },
  {
   "cell_type": "markdown",
   "id": "4efe59ec",
   "metadata": {},
   "source": [
    "### Testing"
   ]
  },
  {
   "cell_type": "code",
   "execution_count": 3,
   "id": "e74aa1cb",
   "metadata": {},
   "outputs": [
    {
     "name": "stderr",
     "output_type": "stream",
     "text": [
      "  0%|          | 895/1460238 [02:12<59:55:38,  6.76it/s]\n"
     ]
    },
    {
     "ename": "KeyboardInterrupt",
     "evalue": "",
     "output_type": "error",
     "traceback": [
      "\u001b[31m---------------------------------------------------------------------------\u001b[39m",
      "\u001b[31mKeyboardInterrupt\u001b[39m                         Traceback (most recent call last)",
      "\u001b[36mCell\u001b[39m\u001b[36m \u001b[39m\u001b[32mIn[3]\u001b[39m\u001b[32m, line 19\u001b[39m\n\u001b[32m     17\u001b[39m \u001b[38;5;28;01mfor\u001b[39;00m patch_path \u001b[38;5;129;01min\u001b[39;00m tqdm(all_patch_paths):\n\u001b[32m     18\u001b[39m     \u001b[38;5;28;01mtry\u001b[39;00m:\n\u001b[32m---> \u001b[39m\u001b[32m19\u001b[39m         features = \u001b[43mextractor\u001b[49m\u001b[43m.\u001b[49m\u001b[43mextract_fivecrop_features\u001b[49m\u001b[43m(\u001b[49m\u001b[43mpatch_path\u001b[49m\u001b[43m)\u001b[49m  \u001b[38;5;66;03m# shape: (5, D)\u001b[39;00m\n\u001b[32m     21\u001b[39m         \u001b[38;5;66;03m# Extract subfolder and filename\u001b[39;00m\n\u001b[32m     22\u001b[39m         relative_path = os.path.relpath(patch_path, patch_root)\n",
      "\u001b[36mCell\u001b[39m\u001b[36m \u001b[39m\u001b[32mIn[1]\u001b[39m\u001b[32m, line 56\u001b[39m, in \u001b[36mUNI2ExtractorFiveCrop.extract_fivecrop_features\u001b[39m\u001b[34m(self, image)\u001b[39m\n\u001b[32m     53\u001b[39m \u001b[38;5;28;01mwith\u001b[39;00m torch.no_grad():\n\u001b[32m     54\u001b[39m     features = \u001b[38;5;28mself\u001b[39m.model(crops_tensor)  \u001b[38;5;66;03m# shape: (5, D)\u001b[39;00m\n\u001b[32m---> \u001b[39m\u001b[32m56\u001b[39m \u001b[38;5;28;01mreturn\u001b[39;00m \u001b[43mfeatures\u001b[49m\u001b[43m.\u001b[49m\u001b[43mcpu\u001b[49m\u001b[43m(\u001b[49m\u001b[43m)\u001b[49m\n",
      "\u001b[31mKeyboardInterrupt\u001b[39m: "
     ]
    }
   ],
   "source": [
    "# FiveCrop feature extraction function\n",
    "import glob\n",
    "import os\n",
    "from tqdm import tqdm\n",
    "import torch\n",
    "\n",
    "# Set paths\n",
    "patch_root = r\"D:\\Aamir Gulzar\\KSA_project2\\dataset\\patch_data\"\n",
    "save_root = r\"D:\\Aamir Gulzar\\KSA_project2\\dataset\\Features\\Uni_2h_fivecrop_Updated\"\n",
    "\n",
    "# Initialize extractor\n",
    "extractor = UNI2ExtractorFiveCrop()\n",
    "\n",
    "# Loop through all PNG patches\n",
    "all_patch_paths = glob.glob(os.path.join(patch_root, \"*\", \"*.png\"))\n",
    "\n",
    "for patch_path in tqdm(all_patch_paths):\n",
    "    try:\n",
    "        features = extractor.extract_fivecrop_features(patch_path)  # shape: (5, D)\n",
    "\n",
    "        # Extract subfolder and filename\n",
    "        relative_path = os.path.relpath(patch_path, patch_root)\n",
    "        slide_folder, patch_filename = os.path.split(relative_path)\n",
    "        patch_base = os.path.splitext(patch_filename)[0]  # remove .png\n",
    "\n",
    "        # Create save path\n",
    "        save_dir = os.path.join(save_root, slide_folder)\n",
    "        os.makedirs(save_dir, exist_ok=True)\n",
    "\n",
    "        save_path = os.path.join(save_dir, patch_base + \".pt\")\n",
    "        torch.save(features, save_path)\n",
    "    \n",
    "    except Exception as e:\n",
    "        print(f\"Error processing {patch_path}: {e}\")"
   ]
  },
  {
   "cell_type": "markdown",
   "id": "0b3ec758",
   "metadata": {},
   "source": [
    "## Final Pipeline"
   ]
  },
  {
   "cell_type": "code",
   "execution_count": 3,
   "id": "c7cb7a96",
   "metadata": {},
   "outputs": [],
   "source": [
    "import os\n",
    "import glob\n",
    "import pandas as pd\n",
    "import torch\n",
    "from tqdm import tqdm\n",
    "\n",
    "def run_full_pipeline_uni2_fivecrop(\n",
    "    patch_data_dir: str,\n",
    "    extractor,  # instance of UNI2ExtractorFiveCrop\n",
    "    non_white_csv: str,\n",
    "    output_root: str\n",
    "):\n",
    "    # Load non-white metadata\n",
    "    non_white_df = pd.read_csv(non_white_csv)\n",
    "    valid_patch_names = set(non_white_df['patch_name'].astype(str))\n",
    "\n",
    "    # Loop over slide directories\n",
    "    slide_dirs = glob.glob(os.path.join(patch_data_dir, \"*\"))\n",
    "    for slide_dir in tqdm(slide_dirs, desc=\"🧩 Processing slides\", unit=\"slide\", position=0):\n",
    "        slide_name = os.path.basename(slide_dir)\n",
    "        patch_feat_dir = os.path.join(output_root, slide_name)\n",
    "        os.makedirs(patch_feat_dir, exist_ok=True)\n",
    "\n",
    "        # Filter valid non-white patches\n",
    "        all_patches = glob.glob(os.path.join(slide_dir, \"*.png\"))\n",
    "        valid_patch_paths = [p for p in all_patches if os.path.basename(p) in valid_patch_names]\n",
    "\n",
    "        if not valid_patch_paths:\n",
    "            tqdm.write(f\"  ❌ No valid non-white patches found for {slide_name}\")\n",
    "            continue\n",
    "\n",
    "        # Skip already processed patches\n",
    "        existing_feats = set(os.path.splitext(f.name)[0] for f in os.scandir(patch_feat_dir) if f.name.endswith(\".pt\"))\n",
    "        to_process = [p for p in valid_patch_paths if os.path.splitext(os.path.basename(p))[0] not in existing_feats]\n",
    "\n",
    "        if not to_process:\n",
    "            tqdm.write(f\"  ⏭️ Skipped: All {len(valid_patch_paths)} patches already processed for {slide_name}\")\n",
    "            continue\n",
    "\n",
    "        # Patch-level tqdm bar\n",
    "        for patch_path in tqdm(to_process, desc=f\"🔄 {slide_name}\", unit=\"patch\", position=1, leave=False):\n",
    "            patch_name = os.path.splitext(os.path.basename(patch_path))[0]\n",
    "            save_path = os.path.join(patch_feat_dir, patch_name + \".pt\")\n",
    "\n",
    "            try:\n",
    "                features = extractor.extract_fivecrop_features(patch_path)  # shape (5, D)\n",
    "                torch.save(features, save_path)\n",
    "            except Exception as e:\n",
    "                tqdm.write(f\"  ❌ Failed to process patch {patch_path}: {e}\")\n",
    "                continue\n",
    "\n",
    "        tqdm.write(f\"  ✅ Done: Processed {len(to_process)} new patches (total: {len(valid_patch_paths)}) for {slide_name}\")"
   ]
  },
  {
   "cell_type": "code",
   "execution_count": 5,
   "id": "430c703f",
   "metadata": {},
   "outputs": [
    {
     "name": "stderr",
     "output_type": "stream",
     "text": [
      "🧩 Processing slides:   0%|          | 1/417 [00:00<00:58,  7.07slide/s]"
     ]
    },
    {
     "name": "stdout",
     "output_type": "stream",
     "text": [
      "  ⏭️ Skipped: All 1878 patches already processed for TCGA-3L-AA1B_nonMSIH\n"
     ]
    },
    {
     "name": "stderr",
     "output_type": "stream",
     "text": [
      "🧩 Processing slides:   0%|          | 2/417 [00:00<01:21,  5.11slide/s]"
     ]
    },
    {
     "name": "stdout",
     "output_type": "stream",
     "text": [
      "  ⏭️ Skipped: All 4240 patches already processed for TCGA-4N-A93T_nonMSIH\n"
     ]
    },
    {
     "name": "stderr",
     "output_type": "stream",
     "text": [
      "🧩 Processing slides:   1%|          | 3/417 [00:00<01:39,  4.16slide/s]"
     ]
    },
    {
     "name": "stdout",
     "output_type": "stream",
     "text": [
      "  ⏭️ Skipped: All 6411 patches already processed for TCGA-5M-AAT4_nonMSIH\n"
     ]
    },
    {
     "name": "stderr",
     "output_type": "stream",
     "text": [
      "🧩 Processing slides:   1%|          | 4/417 [00:00<01:46,  3.86slide/s]"
     ]
    },
    {
     "name": "stdout",
     "output_type": "stream",
     "text": [
      "  ⏭️ Skipped: All 4320 patches already processed for TCGA-5M-AAT6_MSIH\n"
     ]
    },
    {
     "name": "stderr",
     "output_type": "stream",
     "text": [
      "🧩 Processing slides:   1%|          | 5/417 [00:01<02:09,  3.17slide/s]"
     ]
    },
    {
     "name": "stdout",
     "output_type": "stream",
     "text": [
      "  ⏭️ Skipped: All 7583 patches already processed for TCGA-5M-AATE_nonMSIH\n",
      "  ⏭️ Skipped: All 710 patches already processed for TCGA-A6-2671_nonMSIH\n"
     ]
    },
    {
     "name": "stderr",
     "output_type": "stream",
     "text": [
      "🧩 Processing slides:   2%|▏         | 7/417 [00:01<01:24,  4.86slide/s]"
     ]
    },
    {
     "name": "stdout",
     "output_type": "stream",
     "text": [
      "  ⏭️ Skipped: All 840 patches already processed for TCGA-A6-2681_nonMSIH\n"
     ]
    },
    {
     "name": "stderr",
     "output_type": "stream",
     "text": [
      "🧩 Processing slides:   2%|▏         | 8/417 [00:01<01:25,  4.79slide/s]"
     ]
    },
    {
     "name": "stdout",
     "output_type": "stream",
     "text": [
      "  ⏭️ Skipped: All 2428 patches already processed for TCGA-A6-2685_nonMSIH\n"
     ]
    },
    {
     "name": "stderr",
     "output_type": "stream",
     "text": [
      "🧩 Processing slides:   2%|▏         | 9/417 [00:02<01:27,  4.66slide/s]"
     ]
    },
    {
     "name": "stdout",
     "output_type": "stream",
     "text": [
      "  ⏭️ Skipped: All 2258 patches already processed for TCGA-A6-2686_MSIH\n"
     ]
    },
    {
     "name": "stderr",
     "output_type": "stream",
     "text": [
      "🧩 Processing slides:   3%|▎         | 11/417 [00:02<01:22,  4.90slide/s]"
     ]
    },
    {
     "name": "stdout",
     "output_type": "stream",
     "text": [
      "  ⏭️ Skipped: All 2337 patches already processed for TCGA-A6-3807_nonMSIH\n",
      "  ⏭️ Skipped: All 2365 patches already processed for TCGA-A6-4105_nonMSIH\n"
     ]
    },
    {
     "name": "stderr",
     "output_type": "stream",
     "text": [
      "🧩 Processing slides:   3%|▎         | 13/417 [00:02<01:02,  6.44slide/s]"
     ]
    },
    {
     "name": "stdout",
     "output_type": "stream",
     "text": [
      "  ⏭️ Skipped: All 836 patches already processed for TCGA-A6-4107_nonMSIH\n",
      "  ⏭️ Skipped: All 1047 patches already processed for TCGA-A6-5657_nonMSIH\n"
     ]
    },
    {
     "name": "stderr",
     "output_type": "stream",
     "text": [
      "🧩 Processing slides:   4%|▎         | 15/417 [00:02<00:52,  7.67slide/s]"
     ]
    },
    {
     "name": "stdout",
     "output_type": "stream",
     "text": [
      "  ⏭️ Skipped: All 1016 patches already processed for TCGA-A6-5660_nonMSIH\n",
      "  ⏭️ Skipped: All 875 patches already processed for TCGA-A6-5661_MSIH\n",
      "  ⏭️ Skipped: All 532 patches already processed for TCGA-A6-5662_nonMSIH\n"
     ]
    },
    {
     "name": "stderr",
     "output_type": "stream",
     "text": [
      "🧩 Processing slides:   4%|▍         | 17/417 [00:03<00:50,  7.94slide/s]"
     ]
    },
    {
     "name": "stdout",
     "output_type": "stream",
     "text": [
      "  ⏭️ Skipped: All 1840 patches already processed for TCGA-A6-5664_nonMSIH\n",
      "  ⏭️ Skipped: All 764 patches already processed for TCGA-A6-5665_MSIH\n"
     ]
    },
    {
     "name": "stderr",
     "output_type": "stream",
     "text": [
      "🧩 Processing slides:   5%|▍         | 19/417 [00:03<00:51,  7.78slide/s]"
     ]
    },
    {
     "name": "stdout",
     "output_type": "stream",
     "text": [
      "  ⏭️ Skipped: All 2097 patches already processed for TCGA-A6-5666_nonMSIH\n",
      "  ⏭️ Skipped: All 415 patches already processed for TCGA-A6-5667_nonMSIH\n"
     ]
    },
    {
     "name": "stderr",
     "output_type": "stream",
     "text": [
      "🧩 Processing slides:   5%|▌         | 22/417 [00:03<00:47,  8.33slide/s]"
     ]
    },
    {
     "name": "stdout",
     "output_type": "stream",
     "text": [
      "  ⏭️ Skipped: All 1593 patches already processed for TCGA-A6-6137_nonMSIH\n",
      "  ⏭️ Skipped: All 1090 patches already processed for TCGA-A6-6138_nonMSIH\n"
     ]
    },
    {
     "name": "stderr",
     "output_type": "stream",
     "text": [
      "🧩 Processing slides:   6%|▌         | 24/417 [00:03<00:45,  8.66slide/s]"
     ]
    },
    {
     "name": "stdout",
     "output_type": "stream",
     "text": [
      "  ⏭️ Skipped: All 1133 patches already processed for TCGA-A6-6142_nonMSIH\n",
      "  ⏭️ Skipped: All 572 patches already processed for TCGA-A6-6648_nonMSIH\n"
     ]
    },
    {
     "name": "stderr",
     "output_type": "stream",
     "text": [
      "🧩 Processing slides:   6%|▌         | 26/417 [00:04<00:43,  8.97slide/s]"
     ]
    },
    {
     "name": "stdout",
     "output_type": "stream",
     "text": [
      "  ⏭️ Skipped: All 789 patches already processed for TCGA-A6-6649_nonMSIH\n",
      "  ⏭️ Skipped: All 1110 patches already processed for TCGA-A6-6651_nonMSIH\n",
      "  ⏭️ Skipped: All 446 patches already processed for TCGA-A6-6652_nonMSIH\n"
     ]
    },
    {
     "name": "stderr",
     "output_type": "stream",
     "text": [
      "🧩 Processing slides:   7%|▋         | 28/417 [00:04<00:40,  9.50slide/s]"
     ]
    },
    {
     "name": "stdout",
     "output_type": "stream",
     "text": [
      "  ⏭️ Skipped: All 1411 patches already processed for TCGA-A6-6653_MSIH\n"
     ]
    },
    {
     "name": "stderr",
     "output_type": "stream",
     "text": [
      "🧩 Processing slides:   7%|▋         | 30/417 [00:04<00:47,  8.13slide/s]"
     ]
    },
    {
     "name": "stdout",
     "output_type": "stream",
     "text": [
      "  ⏭️ Skipped: All 1588 patches already processed for TCGA-A6-6654_nonMSIH\n",
      "  ⏭️ Skipped: All 779 patches already processed for TCGA-A6-A565_nonMSIH\n"
     ]
    },
    {
     "name": "stderr",
     "output_type": "stream",
     "text": [
      "🧩 Processing slides:   7%|▋         | 31/417 [00:04<00:50,  7.70slide/s]"
     ]
    },
    {
     "name": "stdout",
     "output_type": "stream",
     "text": [
      "  ⏭️ Skipped: All 1716 patches already processed for TCGA-A6-A566_nonMSIH\n"
     ]
    },
    {
     "name": "stderr",
     "output_type": "stream",
     "text": [
      "🧩 Processing slides:   8%|▊         | 32/417 [00:04<00:57,  6.70slide/s]"
     ]
    },
    {
     "name": "stdout",
     "output_type": "stream",
     "text": [
      "  ⏭️ Skipped: All 2231 patches already processed for TCGA-A6-A567_nonMSIH\n"
     ]
    },
    {
     "name": "stderr",
     "output_type": "stream",
     "text": [
      "🧩 Processing slides:   8%|▊         | 33/417 [00:05<01:02,  6.13slide/s]"
     ]
    },
    {
     "name": "stdout",
     "output_type": "stream",
     "text": [
      "  ⏭️ Skipped: All 2056 patches already processed for TCGA-A6-A56B_nonMSIH\n"
     ]
    },
    {
     "name": "stderr",
     "output_type": "stream",
     "text": [
      "🧩 Processing slides:   8%|▊         | 34/417 [00:05<01:10,  5.43slide/s]"
     ]
    },
    {
     "name": "stdout",
     "output_type": "stream",
     "text": [
      "  ⏭️ Skipped: All 5067 patches already processed for TCGA-AA-3664_nonMSIH\n"
     ]
    },
    {
     "name": "stderr",
     "output_type": "stream",
     "text": [
      "🧩 Processing slides:   8%|▊         | 35/417 [00:05<01:23,  4.59slide/s]"
     ]
    },
    {
     "name": "stdout",
     "output_type": "stream",
     "text": [
      "  ⏭️ Skipped: All 4605 patches already processed for TCGA-AA-3666_nonMSIH\n"
     ]
    },
    {
     "name": "stderr",
     "output_type": "stream",
     "text": [
      "🧩 Processing slides:   9%|▉         | 37/417 [00:06<01:20,  4.73slide/s]"
     ]
    },
    {
     "name": "stdout",
     "output_type": "stream",
     "text": [
      "  ⏭️ Skipped: All 3312 patches already processed for TCGA-AA-3667_nonMSIH\n",
      "  ⏭️ Skipped: All 1588 patches already processed for TCGA-AA-3673_nonMSIH\n"
     ]
    },
    {
     "name": "stderr",
     "output_type": "stream",
     "text": [
      "🧩 Processing slides:   9%|▉         | 38/417 [00:06<01:10,  5.34slide/s]"
     ]
    },
    {
     "name": "stdout",
     "output_type": "stream",
     "text": [
      "  ⏭️ Skipped: All 1654 patches already processed for TCGA-AA-3678_nonMSIH\n"
     ]
    },
    {
     "name": "stderr",
     "output_type": "stream",
     "text": [
      "🧩 Processing slides:   9%|▉         | 39/417 [00:06<01:18,  4.85slide/s]"
     ]
    },
    {
     "name": "stdout",
     "output_type": "stream",
     "text": [
      "  ⏭️ Skipped: All 3570 patches already processed for TCGA-AA-3679_nonMSIH\n"
     ]
    },
    {
     "name": "stderr",
     "output_type": "stream",
     "text": [
      "🧩 Processing slides:  10%|▉         | 40/417 [00:06<01:41,  3.70slide/s]"
     ]
    },
    {
     "name": "stdout",
     "output_type": "stream",
     "text": [
      "  ⏭️ Skipped: All 4503 patches already processed for TCGA-AA-3680_nonMSIH\n"
     ]
    },
    {
     "name": "stderr",
     "output_type": "stream",
     "text": [
      "🧩 Processing slides:  10%|▉         | 41/417 [00:07<01:34,  3.98slide/s]"
     ]
    },
    {
     "name": "stdout",
     "output_type": "stream",
     "text": [
      "  ⏭️ Skipped: All 2725 patches already processed for TCGA-AA-3681_nonMSIH\n"
     ]
    },
    {
     "name": "stderr",
     "output_type": "stream",
     "text": [
      "🧩 Processing slides:  10%|█         | 42/417 [00:07<02:22,  2.64slide/s]"
     ]
    },
    {
     "name": "stdout",
     "output_type": "stream",
     "text": [
      "  ⏭️ Skipped: All 13657 patches already processed for TCGA-AA-3684_nonMSIH\n"
     ]
    },
    {
     "name": "stderr",
     "output_type": "stream",
     "text": [
      "🧩 Processing slides:  10%|█         | 43/417 [00:08<02:17,  2.72slide/s]"
     ]
    },
    {
     "name": "stdout",
     "output_type": "stream",
     "text": [
      "  ⏭️ Skipped: All 3279 patches already processed for TCGA-AA-3688_nonMSIH\n"
     ]
    },
    {
     "name": "stderr",
     "output_type": "stream",
     "text": [
      "🧩 Processing slides:  11%|█         | 45/417 [00:08<01:52,  3.30slide/s]"
     ]
    },
    {
     "name": "stdout",
     "output_type": "stream",
     "text": [
      "  ⏭️ Skipped: All 2903 patches already processed for TCGA-AA-3692_nonMSIH\n",
      "  ⏭️ Skipped: All 4176 patches already processed for TCGA-AA-3693_nonMSIH\n"
     ]
    },
    {
     "name": "stderr",
     "output_type": "stream",
     "text": [
      "🧩 Processing slides:  11%|█         | 46/417 [00:08<01:35,  3.87slide/s]"
     ]
    },
    {
     "name": "stdout",
     "output_type": "stream",
     "text": [
      "  ⏭️ Skipped: All 2092 patches already processed for TCGA-AA-3696_nonMSIH\n"
     ]
    },
    {
     "name": "stderr",
     "output_type": "stream",
     "text": [
      "🧩 Processing slides:  11%|█▏        | 47/417 [00:09<01:40,  3.67slide/s]"
     ]
    },
    {
     "name": "stdout",
     "output_type": "stream",
     "text": [
      "  ⏭️ Skipped: All 5430 patches already processed for TCGA-AA-3715_MSIH\n"
     ]
    },
    {
     "name": "stderr",
     "output_type": "stream",
     "text": [
      "🧩 Processing slides:  12%|█▏        | 48/417 [00:09<01:44,  3.54slide/s]"
     ]
    },
    {
     "name": "stdout",
     "output_type": "stream",
     "text": [
      "  ⏭️ Skipped: All 3179 patches already processed for TCGA-AA-3811_MSIH\n"
     ]
    },
    {
     "name": "stderr",
     "output_type": "stream",
     "text": [
      "🧩 Processing slides:  12%|█▏        | 50/417 [00:09<01:26,  4.22slide/s]"
     ]
    },
    {
     "name": "stdout",
     "output_type": "stream",
     "text": [
      "  ⏭️ Skipped: All 3469 patches already processed for TCGA-AA-3812_nonMSIH\n",
      "  ⏭️ Skipped: All 1230 patches already processed for TCGA-AA-3814_nonMSIH\n"
     ]
    },
    {
     "name": "stderr",
     "output_type": "stream",
     "text": [
      "🧩 Processing slides:  12%|█▏        | 51/417 [00:10<01:30,  4.04slide/s]"
     ]
    },
    {
     "name": "stdout",
     "output_type": "stream",
     "text": [
      "  ⏭️ Skipped: All 3040 patches already processed for TCGA-AA-3818_nonMSIH\n"
     ]
    },
    {
     "name": "stderr",
     "output_type": "stream",
     "text": [
      "🧩 Processing slides:  12%|█▏        | 52/417 [00:10<01:28,  4.13slide/s]"
     ]
    },
    {
     "name": "stdout",
     "output_type": "stream",
     "text": [
      "  ⏭️ Skipped: All 2527 patches already processed for TCGA-AA-3819_nonMSIH\n"
     ]
    },
    {
     "name": "stderr",
     "output_type": "stream",
     "text": [
      "🧩 Processing slides:  13%|█▎        | 53/417 [00:10<01:22,  4.40slide/s]"
     ]
    },
    {
     "name": "stdout",
     "output_type": "stream",
     "text": [
      "  ⏭️ Skipped: All 2547 patches already processed for TCGA-AA-3821_MSIH\n"
     ]
    },
    {
     "name": "stderr",
     "output_type": "stream",
     "text": [
      "🧩 Processing slides:  13%|█▎        | 54/417 [00:10<01:29,  4.07slide/s]"
     ]
    },
    {
     "name": "stdout",
     "output_type": "stream",
     "text": [
      "  ⏭️ Skipped: All 2931 patches already processed for TCGA-AA-3831_nonMSIH\n"
     ]
    },
    {
     "name": "stderr",
     "output_type": "stream",
     "text": [
      "🧩 Processing slides:  13%|█▎        | 55/417 [00:11<01:36,  3.74slide/s]"
     ]
    },
    {
     "name": "stdout",
     "output_type": "stream",
     "text": [
      "  ⏭️ Skipped: All 5185 patches already processed for TCGA-AA-3833_MSIH\n"
     ]
    },
    {
     "name": "stderr",
     "output_type": "stream",
     "text": [
      "🧩 Processing slides:  14%|█▎        | 57/417 [00:11<01:23,  4.34slide/s]"
     ]
    },
    {
     "name": "stdout",
     "output_type": "stream",
     "text": [
      "  ⏭️ Skipped: All 3214 patches already processed for TCGA-AA-3837_nonMSIH\n",
      "  ⏭️ Skipped: All 2103 patches already processed for TCGA-AA-3842_nonMSIH\n"
     ]
    },
    {
     "name": "stderr",
     "output_type": "stream",
     "text": [
      "🧩 Processing slides:  14%|█▍        | 58/417 [00:11<01:26,  4.16slide/s]"
     ]
    },
    {
     "name": "stdout",
     "output_type": "stream",
     "text": [
      "  ⏭️ Skipped: All 2773 patches already processed for TCGA-AA-3844_nonMSIH\n"
     ]
    },
    {
     "name": "stderr",
     "output_type": "stream",
     "text": [
      "🧩 Processing slides:  14%|█▍        | 60/417 [00:12<01:15,  4.70slide/s]"
     ]
    },
    {
     "name": "stdout",
     "output_type": "stream",
     "text": [
      "  ⏭️ Skipped: All 2679 patches already processed for TCGA-AA-3845_MSIH\n",
      "  ⏭️ Skipped: All 1278 patches already processed for TCGA-AA-3846_nonMSIH\n"
     ]
    },
    {
     "name": "stderr",
     "output_type": "stream",
     "text": [
      "🧩 Processing slides:  15%|█▍        | 61/417 [00:12<01:16,  4.66slide/s]"
     ]
    },
    {
     "name": "stdout",
     "output_type": "stream",
     "text": [
      "  ⏭️ Skipped: All 4736 patches already processed for TCGA-AA-3848_nonMSIH\n"
     ]
    },
    {
     "name": "stderr",
     "output_type": "stream",
     "text": [
      "🧩 Processing slides:  15%|█▍        | 62/417 [00:12<01:14,  4.79slide/s]"
     ]
    },
    {
     "name": "stdout",
     "output_type": "stream",
     "text": [
      "  ⏭️ Skipped: All 2484 patches already processed for TCGA-AA-3850_nonMSIH\n"
     ]
    },
    {
     "name": "stderr",
     "output_type": "stream",
     "text": [
      "🧩 Processing slides:  15%|█▌        | 64/417 [00:13<01:08,  5.14slide/s]"
     ]
    },
    {
     "name": "stdout",
     "output_type": "stream",
     "text": [
      "  ⏭️ Skipped: All 2500 patches already processed for TCGA-AA-3851_nonMSIH\n",
      "  ⏭️ Skipped: All 2054 patches already processed for TCGA-AA-3852_nonMSIH\n"
     ]
    },
    {
     "name": "stderr",
     "output_type": "stream",
     "text": [
      "🧩 Processing slides:  16%|█▌        | 65/417 [00:13<01:00,  5.85slide/s]"
     ]
    },
    {
     "name": "stdout",
     "output_type": "stream",
     "text": [
      "  ⏭️ Skipped: All 1036 patches already processed for TCGA-AA-3854_nonMSIH\n"
     ]
    },
    {
     "name": "stderr",
     "output_type": "stream",
     "text": [
      "🧩 Processing slides:  16%|█▌        | 66/417 [00:13<01:14,  4.70slide/s]"
     ]
    },
    {
     "name": "stdout",
     "output_type": "stream",
     "text": [
      "  ⏭️ Skipped: All 3536 patches already processed for TCGA-AA-3855_nonMSIH\n"
     ]
    },
    {
     "name": "stderr",
     "output_type": "stream",
     "text": [
      "🧩 Processing slides:  16%|█▋        | 68/417 [00:13<01:19,  4.37slide/s]"
     ]
    },
    {
     "name": "stdout",
     "output_type": "stream",
     "text": [
      "  ⏭️ Skipped: All 6984 patches already processed for TCGA-AA-3856_nonMSIH\n",
      "  ⏭️ Skipped: All 755 patches already processed for TCGA-AA-3858_nonMSIH\n"
     ]
    },
    {
     "name": "stderr",
     "output_type": "stream",
     "text": [
      "🧩 Processing slides:  17%|█▋        | 69/417 [00:14<01:14,  4.65slide/s]"
     ]
    },
    {
     "name": "stdout",
     "output_type": "stream",
     "text": [
      "  ⏭️ Skipped: All 2829 patches already processed for TCGA-AA-3864_MSIH\n"
     ]
    },
    {
     "name": "stderr",
     "output_type": "stream",
     "text": [
      "🧩 Processing slides:  17%|█▋        | 70/417 [00:14<01:36,  3.60slide/s]"
     ]
    },
    {
     "name": "stdout",
     "output_type": "stream",
     "text": [
      "  ⏭️ Skipped: All 2526 patches already processed for TCGA-AA-3866_nonMSIH\n"
     ]
    },
    {
     "name": "stderr",
     "output_type": "stream",
     "text": [
      "🧩 Processing slides:  17%|█▋        | 71/417 [00:14<01:25,  4.04slide/s]"
     ]
    },
    {
     "name": "stdout",
     "output_type": "stream",
     "text": [
      "  ⏭️ Skipped: All 2358 patches already processed for TCGA-AA-3867_nonMSIH\n"
     ]
    },
    {
     "name": "stderr",
     "output_type": "stream",
     "text": [
      "🧩 Processing slides:  17%|█▋        | 72/417 [00:15<01:29,  3.87slide/s]"
     ]
    },
    {
     "name": "stdout",
     "output_type": "stream",
     "text": [
      "  ⏭️ Skipped: All 2653 patches already processed for TCGA-AA-3875_nonMSIH\n"
     ]
    },
    {
     "name": "stderr",
     "output_type": "stream",
     "text": [
      "🧩 Processing slides:  18%|█▊        | 73/417 [00:15<01:33,  3.69slide/s]"
     ]
    },
    {
     "name": "stdout",
     "output_type": "stream",
     "text": [
      "  ⏭️ Skipped: All 3045 patches already processed for TCGA-AA-3877_MSIH\n"
     ]
    },
    {
     "name": "stderr",
     "output_type": "stream",
     "text": [
      "🧩 Processing slides:  18%|█▊        | 74/417 [00:15<01:43,  3.30slide/s]"
     ]
    },
    {
     "name": "stdout",
     "output_type": "stream",
     "text": [
      "  ⏭️ Skipped: All 8357 patches already processed for TCGA-AA-3947_MSIH\n"
     ]
    },
    {
     "name": "stderr",
     "output_type": "stream",
     "text": [
      "🧩 Processing slides:  18%|█▊        | 75/417 [00:15<01:34,  3.62slide/s]"
     ]
    },
    {
     "name": "stdout",
     "output_type": "stream",
     "text": [
      "  ⏭️ Skipped: All 2720 patches already processed for TCGA-AA-3949_MSIH\n"
     ]
    },
    {
     "name": "stderr",
     "output_type": "stream",
     "text": [
      "🧩 Processing slides:  18%|█▊        | 77/417 [00:16<01:15,  4.48slide/s]"
     ]
    },
    {
     "name": "stdout",
     "output_type": "stream",
     "text": [
      "  ⏭️ Skipped: All 2745 patches already processed for TCGA-AA-3950_MSIH\n",
      "  ⏭️ Skipped: All 1421 patches already processed for TCGA-AA-3952_nonMSIH\n"
     ]
    },
    {
     "name": "stderr",
     "output_type": "stream",
     "text": [
      "🧩 Processing slides:  19%|█▊        | 78/417 [00:16<01:27,  3.88slide/s]"
     ]
    },
    {
     "name": "stdout",
     "output_type": "stream",
     "text": [
      "  ⏭️ Skipped: All 3439 patches already processed for TCGA-AA-3956_nonMSIH\n"
     ]
    },
    {
     "name": "stderr",
     "output_type": "stream",
     "text": [
      "🧩 Processing slides:  19%|█▉        | 79/417 [00:16<01:30,  3.72slide/s]"
     ]
    },
    {
     "name": "stdout",
     "output_type": "stream",
     "text": [
      "  ⏭️ Skipped: All 4784 patches already processed for TCGA-AA-3966_MSIH\n"
     ]
    },
    {
     "name": "stderr",
     "output_type": "stream",
     "text": [
      "🧩 Processing slides:  19%|█▉        | 80/417 [00:17<01:30,  3.72slide/s]"
     ]
    },
    {
     "name": "stdout",
     "output_type": "stream",
     "text": [
      "  ⏭️ Skipped: All 2597 patches already processed for TCGA-AA-3968_nonMSIH\n"
     ]
    },
    {
     "name": "stderr",
     "output_type": "stream",
     "text": [
      "🧩 Processing slides:  19%|█▉        | 81/417 [00:17<01:45,  3.17slide/s]"
     ]
    },
    {
     "name": "stdout",
     "output_type": "stream",
     "text": [
      "  ⏭️ Skipped: All 5800 patches already processed for TCGA-AA-3971_nonMSIH\n"
     ]
    },
    {
     "name": "stderr",
     "output_type": "stream",
     "text": [
      "🧩 Processing slides:  20%|█▉        | 82/417 [00:17<01:40,  3.33slide/s]"
     ]
    },
    {
     "name": "stdout",
     "output_type": "stream",
     "text": [
      "  ⏭️ Skipped: All 3720 patches already processed for TCGA-AA-3973_nonMSIH\n"
     ]
    },
    {
     "name": "stderr",
     "output_type": "stream",
     "text": [
      "🧩 Processing slides:  20%|█▉        | 83/417 [00:18<01:51,  2.99slide/s]"
     ]
    },
    {
     "name": "stdout",
     "output_type": "stream",
     "text": [
      "  ⏭️ Skipped: All 4686 patches already processed for TCGA-AA-3975_nonMSIH\n"
     ]
    },
    {
     "name": "stderr",
     "output_type": "stream",
     "text": [
      "🧩 Processing slides:  20%|██        | 84/417 [00:18<01:36,  3.45slide/s]"
     ]
    },
    {
     "name": "stdout",
     "output_type": "stream",
     "text": [
      "  ⏭️ Skipped: All 1878 patches already processed for TCGA-AA-3976_nonMSIH\n"
     ]
    },
    {
     "name": "stderr",
     "output_type": "stream",
     "text": [
      "🧩 Processing slides:  20%|██        | 85/417 [00:18<01:43,  3.20slide/s]"
     ]
    },
    {
     "name": "stdout",
     "output_type": "stream",
     "text": [
      "  ⏭️ Skipped: All 3148 patches already processed for TCGA-AA-3979_nonMSIH\n"
     ]
    },
    {
     "name": "stderr",
     "output_type": "stream",
     "text": [
      "🧩 Processing slides:  21%|██        | 86/417 [00:19<01:48,  3.06slide/s]"
     ]
    },
    {
     "name": "stdout",
     "output_type": "stream",
     "text": [
      "  ⏭️ Skipped: All 3833 patches already processed for TCGA-AA-3982_nonMSIH\n"
     ]
    },
    {
     "name": "stderr",
     "output_type": "stream",
     "text": [
      "🧩 Processing slides:  21%|██        | 87/417 [00:19<01:47,  3.07slide/s]"
     ]
    },
    {
     "name": "stdout",
     "output_type": "stream",
     "text": [
      "  ⏭️ Skipped: All 3813 patches already processed for TCGA-AA-3984_nonMSIH\n"
     ]
    },
    {
     "name": "stderr",
     "output_type": "stream",
     "text": [
      "🧩 Processing slides:  21%|██        | 88/417 [00:20<02:18,  2.38slide/s]"
     ]
    },
    {
     "name": "stdout",
     "output_type": "stream",
     "text": [
      "  ⏭️ Skipped: All 7708 patches already processed for TCGA-AA-3986_nonMSIH\n"
     ]
    },
    {
     "name": "stderr",
     "output_type": "stream",
     "text": [
      "🧩 Processing slides:  21%|██▏       | 89/417 [00:20<02:03,  2.66slide/s]"
     ]
    },
    {
     "name": "stdout",
     "output_type": "stream",
     "text": [
      "  ⏭️ Skipped: All 2661 patches already processed for TCGA-AA-3989_nonMSIH\n"
     ]
    },
    {
     "name": "stderr",
     "output_type": "stream",
     "text": [
      "🧩 Processing slides:  22%|██▏       | 90/417 [00:20<01:49,  2.98slide/s]"
     ]
    },
    {
     "name": "stdout",
     "output_type": "stream",
     "text": [
      "  ⏭️ Skipped: All 1773 patches already processed for TCGA-AA-3994_nonMSIH\n"
     ]
    },
    {
     "name": "stderr",
     "output_type": "stream",
     "text": [
      "🧩 Processing slides:  22%|██▏       | 91/417 [00:21<02:07,  2.55slide/s]"
     ]
    },
    {
     "name": "stdout",
     "output_type": "stream",
     "text": [
      "  ⏭️ Skipped: All 7149 patches already processed for TCGA-AA-A010_nonMSIH\n"
     ]
    },
    {
     "name": "stderr",
     "output_type": "stream",
     "text": [
      "🧩 Processing slides:  22%|██▏       | 92/417 [00:21<02:20,  2.31slide/s]"
     ]
    },
    {
     "name": "stdout",
     "output_type": "stream",
     "text": [
      "  ⏭️ Skipped: All 8176 patches already processed for TCGA-AA-A01P_MSIH\n"
     ]
    },
    {
     "name": "stderr",
     "output_type": "stream",
     "text": [
      "🧩 Processing slides:  22%|██▏       | 93/417 [00:22<02:20,  2.30slide/s]"
     ]
    },
    {
     "name": "stdout",
     "output_type": "stream",
     "text": [
      "  ⏭️ Skipped: All 8904 patches already processed for TCGA-AA-A01R_MSIH\n"
     ]
    },
    {
     "name": "stderr",
     "output_type": "stream",
     "text": [
      "🧩 Processing slides:  23%|██▎       | 94/417 [00:22<02:35,  2.08slide/s]"
     ]
    },
    {
     "name": "stdout",
     "output_type": "stream",
     "text": [
      "  ⏭️ Skipped: All 6357 patches already processed for TCGA-AA-A01S_nonMSIH\n"
     ]
    },
    {
     "name": "stderr",
     "output_type": "stream",
     "text": [
      "🧩 Processing slides:  23%|██▎       | 95/417 [00:23<02:19,  2.31slide/s]"
     ]
    },
    {
     "name": "stdout",
     "output_type": "stream",
     "text": [
      "  ⏭️ Skipped: All 3198 patches already processed for TCGA-AA-A01T_nonMSIH\n"
     ]
    },
    {
     "name": "stderr",
     "output_type": "stream",
     "text": [
      "🧩 Processing slides:  23%|██▎       | 96/417 [00:23<03:02,  1.76slide/s]"
     ]
    },
    {
     "name": "stdout",
     "output_type": "stream",
     "text": [
      "  ⏭️ Skipped: All 10531 patches already processed for TCGA-AA-A01V_nonMSIH\n"
     ]
    },
    {
     "name": "stderr",
     "output_type": "stream",
     "text": [
      "🧩 Processing slides:  23%|██▎       | 97/417 [00:24<03:00,  1.77slide/s]"
     ]
    },
    {
     "name": "stdout",
     "output_type": "stream",
     "text": [
      "  ⏭️ Skipped: All 6090 patches already processed for TCGA-AA-A01X_nonMSIH\n"
     ]
    },
    {
     "name": "stderr",
     "output_type": "stream",
     "text": [
      "🧩 Processing slides:  24%|██▎       | 98/417 [00:24<02:39,  2.00slide/s]"
     ]
    },
    {
     "name": "stdout",
     "output_type": "stream",
     "text": [
      "  ⏭️ Skipped: All 5584 patches already processed for TCGA-AA-A01Z_nonMSIH\n"
     ]
    },
    {
     "name": "stderr",
     "output_type": "stream",
     "text": [
      "🧩 Processing slides:  24%|██▎       | 99/417 [00:25<02:25,  2.18slide/s]"
     ]
    },
    {
     "name": "stdout",
     "output_type": "stream",
     "text": [
      "  ⏭️ Skipped: All 5716 patches already processed for TCGA-AA-A024_nonMSIH\n"
     ]
    },
    {
     "name": "stderr",
     "output_type": "stream",
     "text": [
      "🧩 Processing slides:  24%|██▍       | 100/417 [00:25<02:17,  2.30slide/s]"
     ]
    },
    {
     "name": "stdout",
     "output_type": "stream",
     "text": [
      "  ⏭️ Skipped: All 3789 patches already processed for TCGA-AA-A02E_nonMSIH\n"
     ]
    },
    {
     "name": "stderr",
     "output_type": "stream",
     "text": [
      "🧩 Processing slides:  24%|██▍       | 101/417 [00:26<03:08,  1.68slide/s]"
     ]
    },
    {
     "name": "stdout",
     "output_type": "stream",
     "text": [
      "  ⏭️ Skipped: All 8534 patches already processed for TCGA-AA-A02F_nonMSIH\n"
     ]
    },
    {
     "name": "stderr",
     "output_type": "stream",
     "text": [
      "🧩 Processing slides:  24%|██▍       | 102/417 [00:27<03:06,  1.68slide/s]"
     ]
    },
    {
     "name": "stdout",
     "output_type": "stream",
     "text": [
      "  ⏭️ Skipped: All 4208 patches already processed for TCGA-AA-A02H_nonMSIH\n"
     ]
    },
    {
     "name": "stderr",
     "output_type": "stream",
     "text": [
      "🧩 Processing slides:  25%|██▍       | 103/417 [00:27<03:01,  1.73slide/s]"
     ]
    },
    {
     "name": "stdout",
     "output_type": "stream",
     "text": [
      "  ⏭️ Skipped: All 5532 patches already processed for TCGA-AA-A02O_nonMSIH\n"
     ]
    },
    {
     "name": "stderr",
     "output_type": "stream",
     "text": [
      "🧩 Processing slides:  25%|██▍       | 104/417 [00:28<02:51,  1.82slide/s]"
     ]
    },
    {
     "name": "stdout",
     "output_type": "stream",
     "text": [
      "  ⏭️ Skipped: All 3045 patches already processed for TCGA-AA-A02Y_nonMSIH\n"
     ]
    },
    {
     "name": "stderr",
     "output_type": "stream",
     "text": [
      "🧩 Processing slides:  25%|██▌       | 105/417 [00:28<02:51,  1.82slide/s]"
     ]
    },
    {
     "name": "stdout",
     "output_type": "stream",
     "text": [
      "  ⏭️ Skipped: All 3970 patches already processed for TCGA-AA-A03F_nonMSIH\n"
     ]
    },
    {
     "name": "stderr",
     "output_type": "stream",
     "text": [
      "🧩 Processing slides:  25%|██▌       | 106/417 [00:29<03:55,  1.32slide/s]"
     ]
    },
    {
     "name": "stdout",
     "output_type": "stream",
     "text": [
      "  ⏭️ Skipped: All 9459 patches already processed for TCGA-AA-A03J_nonMSIH\n"
     ]
    },
    {
     "name": "stderr",
     "output_type": "stream",
     "text": [
      "🧩 Processing slides:  26%|██▌       | 108/417 [00:30<02:21,  2.19slide/s]"
     ]
    },
    {
     "name": "stdout",
     "output_type": "stream",
     "text": [
      "  ⏭️ Skipped: All 575 patches already processed for TCGA-AD-5900_MSIH\n",
      "  ⏭️ Skipped: All 429 patches already processed for TCGA-AD-6548_nonMSIH\n"
     ]
    },
    {
     "name": "stderr",
     "output_type": "stream",
     "text": [
      "🧩 Processing slides:  26%|██▌       | 109/417 [00:30<01:58,  2.60slide/s]"
     ]
    },
    {
     "name": "stdout",
     "output_type": "stream",
     "text": [
      "  ⏭️ Skipped: All 896 patches already processed for TCGA-AD-6888_nonMSIH\n"
     ]
    },
    {
     "name": "stderr",
     "output_type": "stream",
     "text": [
      "🧩 Processing slides:  27%|██▋       | 111/417 [00:31<01:28,  3.44slide/s]"
     ]
    },
    {
     "name": "stdout",
     "output_type": "stream",
     "text": [
      "  ⏭️ Skipped: All 2116 patches already processed for TCGA-AD-6889_MSIH\n",
      "  ⏭️ Skipped: All 367 patches already processed for TCGA-AD-6890_nonMSIH\n"
     ]
    },
    {
     "name": "stderr",
     "output_type": "stream",
     "text": [
      "🧩 Processing slides:  27%|██▋       | 113/417 [00:31<01:13,  4.14slide/s]"
     ]
    },
    {
     "name": "stdout",
     "output_type": "stream",
     "text": [
      "  ⏭️ Skipped: All 558 patches already processed for TCGA-AD-6901_nonMSIH\n",
      "  ⏭️ Skipped: All 320 patches already processed for TCGA-AD-6963_nonMSIH\n"
     ]
    },
    {
     "name": "stderr",
     "output_type": "stream",
     "text": [
      "🧩 Processing slides:  28%|██▊       | 115/417 [00:31<01:03,  4.74slide/s]"
     ]
    },
    {
     "name": "stdout",
     "output_type": "stream",
     "text": [
      "  ⏭️ Skipped: All 1159 patches already processed for TCGA-AD-6964_MSIH\n",
      "  ⏭️ Skipped: All 444 patches already processed for TCGA-AD-6965_nonMSIH\n"
     ]
    },
    {
     "name": "stderr",
     "output_type": "stream",
     "text": [
      "🧩 Processing slides:  28%|██▊       | 116/417 [00:31<00:59,  5.10slide/s]"
     ]
    },
    {
     "name": "stdout",
     "output_type": "stream",
     "text": [
      "  ⏭️ Skipped: All 579 patches already processed for TCGA-AD-A5EJ_MSIH\n"
     ]
    },
    {
     "name": "stderr",
     "output_type": "stream",
     "text": [
      "🧩 Processing slides:  28%|██▊       | 117/417 [00:32<00:59,  5.01slide/s]"
     ]
    },
    {
     "name": "stdout",
     "output_type": "stream",
     "text": [
      "  ⏭️ Skipped: All 1069 patches already processed for TCGA-AD-A5EK_nonMSIH\n"
     ]
    },
    {
     "name": "stderr",
     "output_type": "stream",
     "text": [
      "🧩 Processing slides:  28%|██▊       | 118/417 [00:32<01:00,  4.92slide/s]"
     ]
    },
    {
     "name": "stdout",
     "output_type": "stream",
     "text": [
      "  ⏭️ Skipped: All 1369 patches already processed for TCGA-AF-2687_nonMSIH\n"
     ]
    },
    {
     "name": "stderr",
     "output_type": "stream",
     "text": [
      "🧩 Processing slides:  29%|██▊       | 119/417 [00:32<01:28,  3.38slide/s]"
     ]
    },
    {
     "name": "stdout",
     "output_type": "stream",
     "text": [
      "  ⏭️ Skipped: All 3786 patches already processed for TCGA-AF-2690_nonMSIH\n"
     ]
    },
    {
     "name": "stderr",
     "output_type": "stream",
     "text": [
      "🧩 Processing slides:  29%|██▉       | 120/417 [00:33<01:18,  3.77slide/s]"
     ]
    },
    {
     "name": "stdout",
     "output_type": "stream",
     "text": [
      "  ⏭️ Skipped: All 754 patches already processed for TCGA-AF-2693_nonMSIH\n"
     ]
    },
    {
     "name": "stderr",
     "output_type": "stream",
     "text": [
      "🧩 Processing slides:  29%|██▉       | 121/417 [00:33<01:12,  4.06slide/s]"
     ]
    },
    {
     "name": "stdout",
     "output_type": "stream",
     "text": [
      "  ⏭️ Skipped: All 1171 patches already processed for TCGA-AF-3911_nonMSIH\n"
     ]
    },
    {
     "name": "stderr",
     "output_type": "stream",
     "text": [
      "🧩 Processing slides:  29%|██▉       | 122/417 [00:33<01:18,  3.77slide/s]"
     ]
    },
    {
     "name": "stdout",
     "output_type": "stream",
     "text": [
      "  ⏭️ Skipped: All 1421 patches already processed for TCGA-AF-4110_nonMSIH\n"
     ]
    },
    {
     "name": "stderr",
     "output_type": "stream",
     "text": [
      "🧩 Processing slides:  29%|██▉       | 123/417 [00:33<01:18,  3.75slide/s]"
     ]
    },
    {
     "name": "stdout",
     "output_type": "stream",
     "text": [
      "  ⏭️ Skipped: All 1363 patches already processed for TCGA-AF-6136_nonMSIH\n"
     ]
    },
    {
     "name": "stderr",
     "output_type": "stream",
     "text": [
      "🧩 Processing slides:  30%|██▉       | 124/417 [00:34<01:10,  4.14slide/s]"
     ]
    },
    {
     "name": "stdout",
     "output_type": "stream",
     "text": [
      "  ⏭️ Skipped: All 761 patches already processed for TCGA-AF-6655_nonMSIH\n"
     ]
    },
    {
     "name": "stderr",
     "output_type": "stream",
     "text": [
      "🧩 Processing slides:  30%|██▉       | 125/417 [00:34<01:33,  3.14slide/s]"
     ]
    },
    {
     "name": "stdout",
     "output_type": "stream",
     "text": [
      "  ⏭️ Skipped: All 2574 patches already processed for TCGA-AF-6672_nonMSIH\n"
     ]
    },
    {
     "name": "stderr",
     "output_type": "stream",
     "text": [
      "🧩 Processing slides:  30%|███       | 126/417 [00:34<01:38,  2.95slide/s]"
     ]
    },
    {
     "name": "stdout",
     "output_type": "stream",
     "text": [
      "  ⏭️ Skipped: All 2962 patches already processed for TCGA-AF-A56K_nonMSIH\n"
     ]
    },
    {
     "name": "stderr",
     "output_type": "stream",
     "text": [
      "🧩 Processing slides:  30%|███       | 127/417 [00:35<01:45,  2.76slide/s]"
     ]
    },
    {
     "name": "stdout",
     "output_type": "stream",
     "text": [
      "  ⏭️ Skipped: All 3089 patches already processed for TCGA-AF-A56L_nonMSIH\n"
     ]
    },
    {
     "name": "stderr",
     "output_type": "stream",
     "text": [
      "🧩 Processing slides:  31%|███       | 128/417 [00:35<01:33,  3.11slide/s]"
     ]
    },
    {
     "name": "stdout",
     "output_type": "stream",
     "text": [
      "  ⏭️ Skipped: All 732 patches already processed for TCGA-AF-A56N_nonMSIH\n"
     ]
    },
    {
     "name": "stderr",
     "output_type": "stream",
     "text": [
      "🧩 Processing slides:  31%|███       | 129/417 [00:35<01:21,  3.54slide/s]"
     ]
    },
    {
     "name": "stdout",
     "output_type": "stream",
     "text": [
      "  ⏭️ Skipped: All 957 patches already processed for TCGA-AG-3726_nonMSIH\n"
     ]
    },
    {
     "name": "stderr",
     "output_type": "stream",
     "text": [
      "🧩 Processing slides:  31%|███       | 130/417 [00:36<01:20,  3.55slide/s]"
     ]
    },
    {
     "name": "stdout",
     "output_type": "stream",
     "text": [
      "  ⏭️ Skipped: All 1051 patches already processed for TCGA-AG-3727_nonMSIH\n"
     ]
    },
    {
     "name": "stderr",
     "output_type": "stream",
     "text": [
      "🧩 Processing slides:  31%|███▏      | 131/417 [00:36<01:14,  3.85slide/s]"
     ]
    },
    {
     "name": "stdout",
     "output_type": "stream",
     "text": [
      "  ⏭️ Skipped: All 1281 patches already processed for TCGA-AG-3878_nonMSIH\n"
     ]
    },
    {
     "name": "stderr",
     "output_type": "stream",
     "text": [
      "🧩 Processing slides:  32%|███▏      | 132/417 [00:36<01:18,  3.63slide/s]"
     ]
    },
    {
     "name": "stdout",
     "output_type": "stream",
     "text": [
      "  ⏭️ Skipped: All 1685 patches already processed for TCGA-AG-3882_nonMSIH\n"
     ]
    },
    {
     "name": "stderr",
     "output_type": "stream",
     "text": [
      "🧩 Processing slides:  32%|███▏      | 133/417 [00:37<01:46,  2.68slide/s]"
     ]
    },
    {
     "name": "stdout",
     "output_type": "stream",
     "text": [
      "  ⏭️ Skipped: All 3637 patches already processed for TCGA-AG-3883_nonMSIH\n"
     ]
    },
    {
     "name": "stderr",
     "output_type": "stream",
     "text": [
      "🧩 Processing slides:  32%|███▏      | 134/417 [00:37<01:41,  2.78slide/s]"
     ]
    },
    {
     "name": "stdout",
     "output_type": "stream",
     "text": [
      "  ⏭️ Skipped: All 1939 patches already processed for TCGA-AG-3885_nonMSIH\n"
     ]
    },
    {
     "name": "stderr",
     "output_type": "stream",
     "text": [
      "🧩 Processing slides:  32%|███▏      | 135/417 [00:37<01:32,  3.05slide/s]"
     ]
    },
    {
     "name": "stdout",
     "output_type": "stream",
     "text": [
      "  ⏭️ Skipped: All 1270 patches already processed for TCGA-AG-3887_nonMSIH\n"
     ]
    },
    {
     "name": "stderr",
     "output_type": "stream",
     "text": [
      "🧩 Processing slides:  33%|███▎      | 136/417 [00:38<01:42,  2.73slide/s]"
     ]
    },
    {
     "name": "stdout",
     "output_type": "stream",
     "text": [
      "  ⏭️ Skipped: All 3201 patches already processed for TCGA-AG-3890_nonMSIH\n"
     ]
    },
    {
     "name": "stderr",
     "output_type": "stream",
     "text": [
      "🧩 Processing slides:  33%|███▎      | 137/417 [00:38<01:55,  2.42slide/s]"
     ]
    },
    {
     "name": "stdout",
     "output_type": "stream",
     "text": [
      "  ⏭️ Skipped: All 2705 patches already processed for TCGA-AG-3892_nonMSIH\n"
     ]
    },
    {
     "name": "stderr",
     "output_type": "stream",
     "text": [
      "🧩 Processing slides:  33%|███▎      | 138/417 [00:38<01:42,  2.73slide/s]"
     ]
    },
    {
     "name": "stdout",
     "output_type": "stream",
     "text": [
      "  ⏭️ Skipped: All 1552 patches already processed for TCGA-AG-3893_nonMSIH\n"
     ]
    },
    {
     "name": "stderr",
     "output_type": "stream",
     "text": [
      "🧩 Processing slides:  33%|███▎      | 139/417 [00:39<01:35,  2.90slide/s]"
     ]
    },
    {
     "name": "stdout",
     "output_type": "stream",
     "text": [
      "  ⏭️ Skipped: All 2294 patches already processed for TCGA-AG-3894_nonMSIH\n"
     ]
    },
    {
     "name": "stderr",
     "output_type": "stream",
     "text": [
      "🧩 Processing slides:  34%|███▎      | 140/417 [00:39<01:32,  2.98slide/s]"
     ]
    },
    {
     "name": "stdout",
     "output_type": "stream",
     "text": [
      "  ⏭️ Skipped: All 3182 patches already processed for TCGA-AG-3896_nonMSIH\n"
     ]
    },
    {
     "name": "stderr",
     "output_type": "stream",
     "text": [
      "🧩 Processing slides:  34%|███▍      | 141/417 [00:40<01:43,  2.67slide/s]"
     ]
    },
    {
     "name": "stdout",
     "output_type": "stream",
     "text": [
      "  ⏭️ Skipped: All 3845 patches already processed for TCGA-AG-3898_nonMSIH\n"
     ]
    },
    {
     "name": "stderr",
     "output_type": "stream",
     "text": [
      "🧩 Processing slides:  34%|███▍      | 142/417 [00:40<01:28,  3.12slide/s]"
     ]
    },
    {
     "name": "stdout",
     "output_type": "stream",
     "text": [
      "  ⏭️ Skipped: All 1396 patches already processed for TCGA-AG-3901_nonMSIH\n"
     ]
    },
    {
     "name": "stderr",
     "output_type": "stream",
     "text": [
      "🧩 Processing slides:  34%|███▍      | 143/417 [00:40<01:39,  2.76slide/s]"
     ]
    },
    {
     "name": "stdout",
     "output_type": "stream",
     "text": [
      "  ⏭️ Skipped: All 4048 patches already processed for TCGA-AG-3902_nonMSIH\n"
     ]
    },
    {
     "name": "stderr",
     "output_type": "stream",
     "text": [
      "🧩 Processing slides:  35%|███▍      | 144/417 [00:41<01:40,  2.72slide/s]"
     ]
    },
    {
     "name": "stdout",
     "output_type": "stream",
     "text": [
      "  ⏭️ Skipped: All 2468 patches already processed for TCGA-AG-3909_nonMSIH\n"
     ]
    },
    {
     "name": "stderr",
     "output_type": "stream",
     "text": [
      "🧩 Processing slides:  35%|███▍      | 145/417 [00:41<01:47,  2.54slide/s]"
     ]
    },
    {
     "name": "stdout",
     "output_type": "stream",
     "text": [
      "  ⏭️ Skipped: All 3369 patches already processed for TCGA-AG-4001_nonMSIH\n"
     ]
    },
    {
     "name": "stderr",
     "output_type": "stream",
     "text": [
      "🧩 Processing slides:  35%|███▌      | 146/417 [00:41<01:38,  2.75slide/s]"
     ]
    },
    {
     "name": "stdout",
     "output_type": "stream",
     "text": [
      "  ⏭️ Skipped: All 3037 patches already processed for TCGA-AG-4008_nonMSIH\n"
     ]
    },
    {
     "name": "stderr",
     "output_type": "stream",
     "text": [
      "🧩 Processing slides:  35%|███▌      | 147/417 [00:42<01:32,  2.91slide/s]"
     ]
    },
    {
     "name": "stdout",
     "output_type": "stream",
     "text": [
      "  ⏭️ Skipped: All 2503 patches already processed for TCGA-AG-4015_nonMSIH\n"
     ]
    },
    {
     "name": "stderr",
     "output_type": "stream",
     "text": [
      "🧩 Processing slides:  35%|███▌      | 148/417 [00:42<01:44,  2.59slide/s]"
     ]
    },
    {
     "name": "stdout",
     "output_type": "stream",
     "text": [
      "  ⏭️ Skipped: All 4554 patches already processed for TCGA-AG-4021_nonMSIH\n"
     ]
    },
    {
     "name": "stderr",
     "output_type": "stream",
     "text": [
      "🧩 Processing slides:  36%|███▌      | 149/417 [00:43<01:50,  2.44slide/s]"
     ]
    },
    {
     "name": "stdout",
     "output_type": "stream",
     "text": [
      "  ⏭️ Skipped: All 3776 patches already processed for TCGA-AG-4022_nonMSIH\n"
     ]
    },
    {
     "name": "stderr",
     "output_type": "stream",
     "text": [
      "🧩 Processing slides:  36%|███▌      | 150/417 [00:43<01:50,  2.41slide/s]"
     ]
    },
    {
     "name": "stdout",
     "output_type": "stream",
     "text": [
      "  ⏭️ Skipped: All 4172 patches already processed for TCGA-AG-A002_nonMSIH\n"
     ]
    },
    {
     "name": "stderr",
     "output_type": "stream",
     "text": [
      "🧩 Processing slides:  36%|███▌      | 151/417 [00:44<01:57,  2.26slide/s]"
     ]
    },
    {
     "name": "stdout",
     "output_type": "stream",
     "text": [
      "  ⏭️ Skipped: All 4871 patches already processed for TCGA-AG-A008_nonMSIH\n"
     ]
    },
    {
     "name": "stderr",
     "output_type": "stream",
     "text": [
      "🧩 Processing slides:  36%|███▋      | 152/417 [00:44<02:04,  2.13slide/s]"
     ]
    },
    {
     "name": "stdout",
     "output_type": "stream",
     "text": [
      "  ⏭️ Skipped: All 3215 patches already processed for TCGA-AG-A00C_nonMSIH\n"
     ]
    },
    {
     "name": "stderr",
     "output_type": "stream",
     "text": [
      "🧩 Processing slides:  37%|███▋      | 153/417 [00:44<01:56,  2.27slide/s]"
     ]
    },
    {
     "name": "stdout",
     "output_type": "stream",
     "text": [
      "  ⏭️ Skipped: All 2627 patches already processed for TCGA-AG-A011_nonMSIH\n"
     ]
    },
    {
     "name": "stderr",
     "output_type": "stream",
     "text": [
      "🧩 Processing slides:  37%|███▋      | 154/417 [00:45<02:21,  1.86slide/s]"
     ]
    },
    {
     "name": "stdout",
     "output_type": "stream",
     "text": [
      "  ⏭️ Skipped: All 5589 patches already processed for TCGA-AG-A015_nonMSIH\n"
     ]
    },
    {
     "name": "stderr",
     "output_type": "stream",
     "text": [
      "🧩 Processing slides:  37%|███▋      | 155/417 [00:46<02:13,  1.97slide/s]"
     ]
    },
    {
     "name": "stdout",
     "output_type": "stream",
     "text": [
      "  ⏭️ Skipped: All 3382 patches already processed for TCGA-AG-A016_nonMSIH\n"
     ]
    },
    {
     "name": "stderr",
     "output_type": "stream",
     "text": [
      "🧩 Processing slides:  37%|███▋      | 156/417 [00:46<01:50,  2.37slide/s]"
     ]
    },
    {
     "name": "stdout",
     "output_type": "stream",
     "text": [
      "  ⏭️ Skipped: All 1317 patches already processed for TCGA-AG-A01L_nonMSIH\n"
     ]
    },
    {
     "name": "stderr",
     "output_type": "stream",
     "text": [
      "🧩 Processing slides:  38%|███▊      | 157/417 [00:46<01:41,  2.55slide/s]"
     ]
    },
    {
     "name": "stdout",
     "output_type": "stream",
     "text": [
      "  ⏭️ Skipped: All 2394 patches already processed for TCGA-AG-A01N_nonMSIH\n"
     ]
    },
    {
     "name": "stderr",
     "output_type": "stream",
     "text": [
      "🧩 Processing slides:  38%|███▊      | 158/417 [00:47<01:58,  2.19slide/s]"
     ]
    },
    {
     "name": "stdout",
     "output_type": "stream",
     "text": [
      "  ⏭️ Skipped: All 8906 patches already processed for TCGA-AG-A01W_nonMSIH\n"
     ]
    },
    {
     "name": "stderr",
     "output_type": "stream",
     "text": [
      "🧩 Processing slides:  38%|███▊      | 159/417 [00:47<02:01,  2.13slide/s]"
     ]
    },
    {
     "name": "stdout",
     "output_type": "stream",
     "text": [
      "  ⏭️ Skipped: All 5119 patches already processed for TCGA-AG-A01Y_nonMSIH\n"
     ]
    },
    {
     "name": "stderr",
     "output_type": "stream",
     "text": [
      "🧩 Processing slides:  38%|███▊      | 160/417 [00:48<02:02,  2.10slide/s]"
     ]
    },
    {
     "name": "stdout",
     "output_type": "stream",
     "text": [
      "  ⏭️ Skipped: All 3363 patches already processed for TCGA-AG-A020_nonMSIH\n"
     ]
    },
    {
     "name": "stderr",
     "output_type": "stream",
     "text": [
      "🧩 Processing slides:  39%|███▊      | 161/417 [00:48<01:54,  2.23slide/s]"
     ]
    },
    {
     "name": "stdout",
     "output_type": "stream",
     "text": [
      "  ⏭️ Skipped: All 3001 patches already processed for TCGA-AG-A026_nonMSIH\n"
     ]
    },
    {
     "name": "stderr",
     "output_type": "stream",
     "text": [
      "🧩 Processing slides:  39%|███▉      | 162/417 [00:49<01:55,  2.20slide/s]"
     ]
    },
    {
     "name": "stdout",
     "output_type": "stream",
     "text": [
      "  ⏭️ Skipped: All 4418 patches already processed for TCGA-AG-A02N_MSIH\n"
     ]
    },
    {
     "name": "stderr",
     "output_type": "stream",
     "text": [
      "🧩 Processing slides:  39%|███▉      | 163/417 [00:49<01:42,  2.47slide/s]"
     ]
    },
    {
     "name": "stdout",
     "output_type": "stream",
     "text": [
      "  ⏭️ Skipped: All 1831 patches already processed for TCGA-AG-A02X_nonMSIH\n"
     ]
    },
    {
     "name": "stderr",
     "output_type": "stream",
     "text": [
      "🧩 Processing slides:  40%|███▉      | 165/417 [00:49<01:10,  3.56slide/s]"
     ]
    },
    {
     "name": "stdout",
     "output_type": "stream",
     "text": [
      "  ⏭️ Skipped: All 1509 patches already processed for TCGA-AH-6544_nonMSIH\n",
      "  ⏭️ Skipped: All 241 patches already processed for TCGA-AH-6547_nonMSIH\n"
     ]
    },
    {
     "name": "stderr",
     "output_type": "stream",
     "text": [
      "🧩 Processing slides:  40%|████      | 167/417 [00:50<00:58,  4.29slide/s]"
     ]
    },
    {
     "name": "stdout",
     "output_type": "stream",
     "text": [
      "  ⏭️ Skipped: All 1122 patches already processed for TCGA-AH-6643_nonMSIH\n",
      "  ⏭️ Skipped: All 557 patches already processed for TCGA-AH-6644_nonMSIH\n"
     ]
    },
    {
     "name": "stderr",
     "output_type": "stream",
     "text": [
      "🧩 Processing slides:  41%|████      | 169/417 [00:50<00:50,  4.96slide/s]"
     ]
    },
    {
     "name": "stdout",
     "output_type": "stream",
     "text": [
      "  ⏭️ Skipped: All 818 patches already processed for TCGA-AH-6897_nonMSIH\n",
      "  ⏭️ Skipped: All 650 patches already processed for TCGA-AH-6903_nonMSIH\n"
     ]
    },
    {
     "name": "stderr",
     "output_type": "stream",
     "text": [
      "🧩 Processing slides:  41%|████      | 170/417 [00:50<00:54,  4.51slide/s]"
     ]
    },
    {
     "name": "stdout",
     "output_type": "stream",
     "text": [
      "  ⏭️ Skipped: All 1562 patches already processed for TCGA-AM-5820_nonMSIH\n"
     ]
    },
    {
     "name": "stderr",
     "output_type": "stream",
     "text": [
      "🧩 Processing slides:  41%|████      | 172/417 [00:51<00:54,  4.53slide/s]"
     ]
    },
    {
     "name": "stdout",
     "output_type": "stream",
     "text": [
      "  ⏭️ Skipped: All 2035 patches already processed for TCGA-AM-5821_MSIH\n",
      "  ⏭️ Skipped: All 543 patches already processed for TCGA-AU-3779_nonMSIH\n"
     ]
    },
    {
     "name": "stderr",
     "output_type": "stream",
     "text": [
      "🧩 Processing slides:  42%|████▏     | 174/417 [00:51<00:45,  5.31slide/s]"
     ]
    },
    {
     "name": "stdout",
     "output_type": "stream",
     "text": [
      "  ⏭️ Skipped: All 1168 patches already processed for TCGA-AU-6004_MSIH\n",
      "  ⏭️ Skipped: All 335 patches already processed for TCGA-AY-4070_nonMSIH\n"
     ]
    },
    {
     "name": "stderr",
     "output_type": "stream",
     "text": [
      "🧩 Processing slides:  42%|████▏     | 175/417 [00:51<00:42,  5.69slide/s]"
     ]
    },
    {
     "name": "stdout",
     "output_type": "stream",
     "text": [
      "  ⏭️ Skipped: All 426 patches already processed for TCGA-AY-4071_nonMSIH\n"
     ]
    },
    {
     "name": "stderr",
     "output_type": "stream",
     "text": [
      "🧩 Processing slides:  42%|████▏     | 176/417 [00:52<00:59,  4.06slide/s]"
     ]
    },
    {
     "name": "stdout",
     "output_type": "stream",
     "text": [
      "  ⏭️ Skipped: All 2816 patches already processed for TCGA-AY-5543_nonMSIH\n"
     ]
    },
    {
     "name": "stderr",
     "output_type": "stream",
     "text": [
      "🧩 Processing slides:  42%|████▏     | 177/417 [00:52<01:14,  3.21slide/s]"
     ]
    },
    {
     "name": "stdout",
     "output_type": "stream",
     "text": [
      "  ⏭️ Skipped: All 3831 patches already processed for TCGA-AY-6196_nonMSIH\n"
     ]
    },
    {
     "name": "stderr",
     "output_type": "stream",
     "text": [
      "🧩 Processing slides:  43%|████▎     | 178/417 [00:52<01:13,  3.27slide/s]"
     ]
    },
    {
     "name": "stdout",
     "output_type": "stream",
     "text": [
      "  ⏭️ Skipped: All 2829 patches already processed for TCGA-AY-6197_MSIH\n"
     ]
    },
    {
     "name": "stderr",
     "output_type": "stream",
     "text": [
      "🧩 Processing slides:  43%|████▎     | 179/417 [00:53<01:13,  3.24slide/s]"
     ]
    },
    {
     "name": "stdout",
     "output_type": "stream",
     "text": [
      "  ⏭️ Skipped: All 1862 patches already processed for TCGA-AY-6386_nonMSIH\n"
     ]
    },
    {
     "name": "stderr",
     "output_type": "stream",
     "text": [
      "🧩 Processing slides:  43%|████▎     | 180/417 [00:53<01:18,  3.00slide/s]"
     ]
    },
    {
     "name": "stdout",
     "output_type": "stream",
     "text": [
      "  ⏭️ Skipped: All 2604 patches already processed for TCGA-AY-A54L_nonMSIH\n"
     ]
    },
    {
     "name": "stderr",
     "output_type": "stream",
     "text": [
      "🧩 Processing slides:  43%|████▎     | 181/417 [00:53<01:16,  3.07slide/s]"
     ]
    },
    {
     "name": "stdout",
     "output_type": "stream",
     "text": [
      "  ⏭️ Skipped: All 1739 patches already processed for TCGA-AY-A69D_nonMSIH\n"
     ]
    },
    {
     "name": "stderr",
     "output_type": "stream",
     "text": [
      "🧩 Processing slides:  44%|████▎     | 182/417 [00:54<01:29,  2.63slide/s]"
     ]
    },
    {
     "name": "stdout",
     "output_type": "stream",
     "text": [
      "  ⏭️ Skipped: All 5452 patches already processed for TCGA-AY-A71X_nonMSIH\n"
     ]
    },
    {
     "name": "stderr",
     "output_type": "stream",
     "text": [
      "🧩 Processing slides:  44%|████▍     | 183/417 [00:54<01:22,  2.85slide/s]"
     ]
    },
    {
     "name": "stdout",
     "output_type": "stream",
     "text": [
      "  ⏭️ Skipped: All 1686 patches already processed for TCGA-AY-A8YK_nonMSIH\n"
     ]
    },
    {
     "name": "stderr",
     "output_type": "stream",
     "text": [
      "🧩 Processing slides:  44%|████▍     | 184/417 [00:54<01:19,  2.94slide/s]"
     ]
    },
    {
     "name": "stdout",
     "output_type": "stream",
     "text": [
      "  ⏭️ Skipped: All 2539 patches already processed for TCGA-AZ-4308_nonMSIH\n"
     ]
    },
    {
     "name": "stderr",
     "output_type": "stream",
     "text": [
      "🧩 Processing slides:  44%|████▍     | 185/417 [00:55<01:37,  2.37slide/s]"
     ]
    },
    {
     "name": "stdout",
     "output_type": "stream",
     "text": [
      "  ⏭️ Skipped: All 4747 patches already processed for TCGA-AZ-4315_nonMSIH\n"
     ]
    },
    {
     "name": "stderr",
     "output_type": "stream",
     "text": [
      "🧩 Processing slides:  45%|████▍     | 186/417 [00:56<01:46,  2.18slide/s]"
     ]
    },
    {
     "name": "stdout",
     "output_type": "stream",
     "text": [
      "  ⏭️ Skipped: All 4415 patches already processed for TCGA-AZ-4614_nonMSIH\n"
     ]
    },
    {
     "name": "stderr",
     "output_type": "stream",
     "text": [
      "🧩 Processing slides:  45%|████▍     | 187/417 [00:56<01:48,  2.13slide/s]"
     ]
    },
    {
     "name": "stdout",
     "output_type": "stream",
     "text": [
      "  ⏭️ Skipped: All 4138 patches already processed for TCGA-AZ-4615_MSIH\n"
     ]
    },
    {
     "name": "stderr",
     "output_type": "stream",
     "text": [
      "🧩 Processing slides:  45%|████▌     | 188/417 [00:57<01:49,  2.10slide/s]"
     ]
    },
    {
     "name": "stdout",
     "output_type": "stream",
     "text": [
      "  ⏭️ Skipped: All 3487 patches already processed for TCGA-AZ-4616_nonMSIH\n"
     ]
    },
    {
     "name": "stderr",
     "output_type": "stream",
     "text": [
      "🧩 Processing slides:  45%|████▌     | 189/417 [00:57<01:42,  2.23slide/s]"
     ]
    },
    {
     "name": "stdout",
     "output_type": "stream",
     "text": [
      "  ⏭️ Skipped: All 2861 patches already processed for TCGA-AZ-4681_nonMSIH\n"
     ]
    },
    {
     "name": "stderr",
     "output_type": "stream",
     "text": [
      "🧩 Processing slides:  46%|████▌     | 190/417 [00:57<01:37,  2.33slide/s]"
     ]
    },
    {
     "name": "stdout",
     "output_type": "stream",
     "text": [
      "  ⏭️ Skipped: All 3556 patches already processed for TCGA-AZ-4682_nonMSIH\n"
     ]
    },
    {
     "name": "stderr",
     "output_type": "stream",
     "text": [
      "🧩 Processing slides:  46%|████▌     | 191/417 [00:58<01:54,  1.97slide/s]"
     ]
    },
    {
     "name": "stdout",
     "output_type": "stream",
     "text": [
      "  ⏭️ Skipped: All 4983 patches already processed for TCGA-AZ-5403_nonMSIH\n"
     ]
    },
    {
     "name": "stderr",
     "output_type": "stream",
     "text": [
      "🧩 Processing slides:  46%|████▌     | 192/417 [00:58<01:46,  2.11slide/s]"
     ]
    },
    {
     "name": "stdout",
     "output_type": "stream",
     "text": [
      "  ⏭️ Skipped: All 1984 patches already processed for TCGA-AZ-5407_nonMSIH\n"
     ]
    },
    {
     "name": "stderr",
     "output_type": "stream",
     "text": [
      "🧩 Processing slides:  46%|████▋     | 193/417 [00:59<01:43,  2.16slide/s]"
     ]
    },
    {
     "name": "stdout",
     "output_type": "stream",
     "text": [
      "  ⏭️ Skipped: All 3328 patches already processed for TCGA-AZ-6598_MSIH\n"
     ]
    },
    {
     "name": "stderr",
     "output_type": "stream",
     "text": [
      "🧩 Processing slides:  47%|████▋     | 194/417 [00:59<01:40,  2.22slide/s]"
     ]
    },
    {
     "name": "stdout",
     "output_type": "stream",
     "text": [
      "  ⏭️ Skipped: All 2950 patches already processed for TCGA-AZ-6599_nonMSIH\n"
     ]
    },
    {
     "name": "stderr",
     "output_type": "stream",
     "text": [
      "🧩 Processing slides:  47%|████▋     | 195/417 [01:00<01:55,  1.93slide/s]"
     ]
    },
    {
     "name": "stdout",
     "output_type": "stream",
     "text": [
      "  ⏭️ Skipped: All 4608 patches already processed for TCGA-AZ-6600_nonMSIH\n"
     ]
    },
    {
     "name": "stderr",
     "output_type": "stream",
     "text": [
      "🧩 Processing slides:  47%|████▋     | 196/417 [01:00<01:51,  1.97slide/s]"
     ]
    },
    {
     "name": "stdout",
     "output_type": "stream",
     "text": [
      "  ⏭️ Skipped: All 3851 patches already processed for TCGA-AZ-6603_nonMSIH\n"
     ]
    },
    {
     "name": "stderr",
     "output_type": "stream",
     "text": [
      "🧩 Processing slides:  47%|████▋     | 197/417 [01:01<01:48,  2.03slide/s]"
     ]
    },
    {
     "name": "stdout",
     "output_type": "stream",
     "text": [
      "  ⏭️ Skipped: All 4099 patches already processed for TCGA-AZ-6605_nonMSIH\n"
     ]
    },
    {
     "name": "stderr",
     "output_type": "stream",
     "text": [
      "🧩 Processing slides:  47%|████▋     | 198/417 [01:01<01:41,  2.16slide/s]"
     ]
    },
    {
     "name": "stdout",
     "output_type": "stream",
     "text": [
      "  ⏭️ Skipped: All 3888 patches already processed for TCGA-AZ-6606_nonMSIH\n"
     ]
    },
    {
     "name": "stderr",
     "output_type": "stream",
     "text": [
      "🧩 Processing slides:  48%|████▊     | 199/417 [01:02<01:31,  2.39slide/s]"
     ]
    },
    {
     "name": "stdout",
     "output_type": "stream",
     "text": [
      "  ⏭️ Skipped: All 2309 patches already processed for TCGA-CA-5254_nonMSIH\n"
     ]
    },
    {
     "name": "stderr",
     "output_type": "stream",
     "text": [
      "🧩 Processing slides:  48%|████▊     | 200/417 [01:02<01:26,  2.51slide/s]"
     ]
    },
    {
     "name": "stdout",
     "output_type": "stream",
     "text": [
      "  ⏭️ Skipped: All 2699 patches already processed for TCGA-CA-5255_nonMSIH\n"
     ]
    },
    {
     "name": "stderr",
     "output_type": "stream",
     "text": [
      "🧩 Processing slides:  48%|████▊     | 201/417 [01:02<01:19,  2.71slide/s]"
     ]
    },
    {
     "name": "stdout",
     "output_type": "stream",
     "text": [
      "  ⏭️ Skipped: All 1428 patches already processed for TCGA-CA-5256_nonMSIH\n"
     ]
    },
    {
     "name": "stderr",
     "output_type": "stream",
     "text": [
      "🧩 Processing slides:  48%|████▊     | 202/417 [01:03<01:26,  2.49slide/s]"
     ]
    },
    {
     "name": "stdout",
     "output_type": "stream",
     "text": [
      "  ⏭️ Skipped: All 3590 patches already processed for TCGA-CA-5796_nonMSIH\n"
     ]
    },
    {
     "name": "stderr",
     "output_type": "stream",
     "text": [
      "🧩 Processing slides:  49%|████▊     | 203/417 [01:03<01:18,  2.73slide/s]"
     ]
    },
    {
     "name": "stdout",
     "output_type": "stream",
     "text": [
      "  ⏭️ Skipped: All 1916 patches already processed for TCGA-CA-5797_nonMSIH\n"
     ]
    },
    {
     "name": "stderr",
     "output_type": "stream",
     "text": [
      "🧩 Processing slides:  49%|████▉     | 204/417 [01:03<01:21,  2.61slide/s]"
     ]
    },
    {
     "name": "stdout",
     "output_type": "stream",
     "text": [
      "  ⏭️ Skipped: All 3891 patches already processed for TCGA-CA-6715_nonMSIH\n"
     ]
    },
    {
     "name": "stderr",
     "output_type": "stream",
     "text": [
      "🧩 Processing slides:  49%|████▉     | 205/417 [01:04<01:30,  2.35slide/s]"
     ]
    },
    {
     "name": "stdout",
     "output_type": "stream",
     "text": [
      "  ⏭️ Skipped: All 3345 patches already processed for TCGA-CA-6716_nonMSIH\n"
     ]
    },
    {
     "name": "stderr",
     "output_type": "stream",
     "text": [
      "🧩 Processing slides:  49%|████▉     | 206/417 [01:04<01:19,  2.65slide/s]"
     ]
    },
    {
     "name": "stdout",
     "output_type": "stream",
     "text": [
      "  ⏭️ Skipped: All 2260 patches already processed for TCGA-CA-6717_nonMSIH\n"
     ]
    },
    {
     "name": "stderr",
     "output_type": "stream",
     "text": [
      "🧩 Processing slides:  50%|████▉     | 207/417 [01:05<01:20,  2.61slide/s]"
     ]
    },
    {
     "name": "stdout",
     "output_type": "stream",
     "text": [
      "  ⏭️ Skipped: All 2936 patches already processed for TCGA-CA-6718_nonMSIH\n"
     ]
    },
    {
     "name": "stderr",
     "output_type": "stream",
     "text": [
      "🧩 Processing slides:  50%|█████     | 209/417 [01:05<01:05,  3.16slide/s]"
     ]
    },
    {
     "name": "stdout",
     "output_type": "stream",
     "text": [
      "  ⏭️ Skipped: All 2381 patches already processed for TCGA-CA-6719_nonMSIH\n",
      "  ⏭️ Skipped: All 498 patches already processed for TCGA-CI-6622_nonMSIH\n"
     ]
    },
    {
     "name": "stderr",
     "output_type": "stream",
     "text": [
      "🧩 Processing slides:  50%|█████     | 210/417 [01:05<00:58,  3.56slide/s]"
     ]
    },
    {
     "name": "stdout",
     "output_type": "stream",
     "text": [
      "  ⏭️ Skipped: All 990 patches already processed for TCGA-CI-6624_nonMSIH\n"
     ]
    },
    {
     "name": "stderr",
     "output_type": "stream",
     "text": [
      "🧩 Processing slides:  51%|█████     | 211/417 [01:06<01:18,  2.61slide/s]"
     ]
    },
    {
     "name": "stdout",
     "output_type": "stream",
     "text": [
      "  ⏭️ Skipped: All 5386 patches already processed for TCGA-CK-4947_nonMSIH\n"
     ]
    },
    {
     "name": "stderr",
     "output_type": "stream",
     "text": [
      "🧩 Processing slides:  51%|█████     | 212/417 [01:06<01:23,  2.44slide/s]"
     ]
    },
    {
     "name": "stdout",
     "output_type": "stream",
     "text": [
      "  ⏭️ Skipped: All 3351 patches already processed for TCGA-CK-4948_nonMSIH\n"
     ]
    },
    {
     "name": "stderr",
     "output_type": "stream",
     "text": [
      "🧩 Processing slides:  51%|█████     | 213/417 [01:07<01:30,  2.25slide/s]"
     ]
    },
    {
     "name": "stdout",
     "output_type": "stream",
     "text": [
      "  ⏭️ Skipped: All 4932 patches already processed for TCGA-CK-4950_nonMSIH\n"
     ]
    },
    {
     "name": "stderr",
     "output_type": "stream",
     "text": [
      "🧩 Processing slides:  51%|█████▏    | 214/417 [01:07<01:21,  2.49slide/s]"
     ]
    },
    {
     "name": "stdout",
     "output_type": "stream",
     "text": [
      "  ⏭️ Skipped: All 2514 patches already processed for TCGA-CK-4951_MSIH\n"
     ]
    },
    {
     "name": "stderr",
     "output_type": "stream",
     "text": [
      "🧩 Processing slides:  52%|█████▏    | 215/417 [01:08<01:26,  2.33slide/s]"
     ]
    },
    {
     "name": "stdout",
     "output_type": "stream",
     "text": [
      "  ⏭️ Skipped: All 2891 patches already processed for TCGA-CK-4952_nonMSIH\n"
     ]
    },
    {
     "name": "stderr",
     "output_type": "stream",
     "text": [
      "🧩 Processing slides:  52%|█████▏    | 216/417 [01:08<01:40,  2.01slide/s]"
     ]
    },
    {
     "name": "stdout",
     "output_type": "stream",
     "text": [
      "  ⏭️ Skipped: All 5430 patches already processed for TCGA-CK-5912_nonMSIH\n"
     ]
    },
    {
     "name": "stderr",
     "output_type": "stream",
     "text": [
      "🧩 Processing slides:  52%|█████▏    | 217/417 [01:09<01:43,  1.94slide/s]"
     ]
    },
    {
     "name": "stdout",
     "output_type": "stream",
     "text": [
      "  ⏭️ Skipped: All 5270 patches already processed for TCGA-CK-5913_MSIH\n"
     ]
    },
    {
     "name": "stderr",
     "output_type": "stream",
     "text": [
      "🧩 Processing slides:  52%|█████▏    | 218/417 [01:09<01:38,  2.02slide/s]"
     ]
    },
    {
     "name": "stdout",
     "output_type": "stream",
     "text": [
      "  ⏭️ Skipped: All 3783 patches already processed for TCGA-CK-5914_nonMSIH\n"
     ]
    },
    {
     "name": "stderr",
     "output_type": "stream",
     "text": [
      "🧩 Processing slides:  53%|█████▎    | 219/417 [01:10<01:50,  1.79slide/s]"
     ]
    },
    {
     "name": "stdout",
     "output_type": "stream",
     "text": [
      "  ⏭️ Skipped: All 6321 patches already processed for TCGA-CK-5915_nonMSIH\n"
     ]
    },
    {
     "name": "stderr",
     "output_type": "stream",
     "text": [
      "🧩 Processing slides:  53%|█████▎    | 220/417 [01:11<01:57,  1.67slide/s]"
     ]
    },
    {
     "name": "stdout",
     "output_type": "stream",
     "text": [
      "  ⏭️ Skipped: All 5885 patches already processed for TCGA-CK-5916_MSIH\n"
     ]
    },
    {
     "name": "stderr",
     "output_type": "stream",
     "text": [
      "🧩 Processing slides:  53%|█████▎    | 221/417 [01:11<01:50,  1.77slide/s]"
     ]
    },
    {
     "name": "stdout",
     "output_type": "stream",
     "text": [
      "  ⏭️ Skipped: All 4006 patches already processed for TCGA-CK-6746_MSIH\n"
     ]
    },
    {
     "name": "stderr",
     "output_type": "stream",
     "text": [
      "🧩 Processing slides:  53%|█████▎    | 222/417 [01:12<01:46,  1.83slide/s]"
     ]
    },
    {
     "name": "stdout",
     "output_type": "stream",
     "text": [
      "  ⏭️ Skipped: All 4789 patches already processed for TCGA-CK-6747_MSIH\n"
     ]
    },
    {
     "name": "stderr",
     "output_type": "stream",
     "text": [
      "🧩 Processing slides:  53%|█████▎    | 223/417 [01:12<01:45,  1.84slide/s]"
     ]
    },
    {
     "name": "stdout",
     "output_type": "stream",
     "text": [
      "  ⏭️ Skipped: All 4901 patches already processed for TCGA-CK-6748_nonMSIH\n"
     ]
    },
    {
     "name": "stderr",
     "output_type": "stream",
     "text": [
      "🧩 Processing slides:  54%|█████▎    | 224/417 [01:13<01:33,  2.05slide/s]"
     ]
    },
    {
     "name": "stdout",
     "output_type": "stream",
     "text": [
      "  ⏭️ Skipped: All 2629 patches already processed for TCGA-CK-6751_nonMSIH\n"
     ]
    },
    {
     "name": "stderr",
     "output_type": "stream",
     "text": [
      "🧩 Processing slides:  54%|█████▍    | 225/417 [01:13<01:30,  2.11slide/s]"
     ]
    },
    {
     "name": "stdout",
     "output_type": "stream",
     "text": [
      "  ⏭️ Skipped: All 3681 patches already processed for TCGA-CL-4957_nonMSIH\n"
     ]
    },
    {
     "name": "stderr",
     "output_type": "stream",
     "text": [
      "🧩 Processing slides:  54%|█████▍    | 226/417 [01:14<01:30,  2.12slide/s]"
     ]
    },
    {
     "name": "stdout",
     "output_type": "stream",
     "text": [
      "  ⏭️ Skipped: All 3438 patches already processed for TCGA-CL-5917_nonMSIH\n"
     ]
    },
    {
     "name": "stderr",
     "output_type": "stream",
     "text": [
      "🧩 Processing slides:  54%|█████▍    | 227/417 [01:14<01:32,  2.06slide/s]"
     ]
    },
    {
     "name": "stdout",
     "output_type": "stream",
     "text": [
      "  ⏭️ Skipped: All 3912 patches already processed for TCGA-CL-5918_nonMSIH\n"
     ]
    },
    {
     "name": "stderr",
     "output_type": "stream",
     "text": [
      "🧩 Processing slides:  55%|█████▍    | 228/417 [01:15<01:40,  1.88slide/s]"
     ]
    },
    {
     "name": "stdout",
     "output_type": "stream",
     "text": [
      "  ⏭️ Skipped: All 6158 patches already processed for TCGA-CM-4743_MSIH\n"
     ]
    },
    {
     "name": "stderr",
     "output_type": "stream",
     "text": [
      "🧩 Processing slides:  55%|█████▍    | 229/417 [01:15<01:46,  1.76slide/s]"
     ]
    },
    {
     "name": "stdout",
     "output_type": "stream",
     "text": [
      "  ⏭️ Skipped: All 6826 patches already processed for TCGA-CM-4744_nonMSIH\n"
     ]
    },
    {
     "name": "stderr",
     "output_type": "stream",
     "text": [
      "🧩 Processing slides:  55%|█████▌    | 230/417 [01:16<01:45,  1.77slide/s]"
     ]
    },
    {
     "name": "stdout",
     "output_type": "stream",
     "text": [
      "  ⏭️ Skipped: All 6726 patches already processed for TCGA-CM-4746_MSIH\n"
     ]
    },
    {
     "name": "stderr",
     "output_type": "stream",
     "text": [
      "🧩 Processing slides:  55%|█████▌    | 231/417 [01:17<01:44,  1.78slide/s]"
     ]
    },
    {
     "name": "stdout",
     "output_type": "stream",
     "text": [
      "  ⏭️ Skipped: All 5154 patches already processed for TCGA-CM-4747_nonMSIH\n"
     ]
    },
    {
     "name": "stderr",
     "output_type": "stream",
     "text": [
      "🧩 Processing slides:  56%|█████▌    | 232/417 [01:17<01:47,  1.72slide/s]"
     ]
    },
    {
     "name": "stdout",
     "output_type": "stream",
     "text": [
      "  ⏭️ Skipped: All 5961 patches already processed for TCGA-CM-4750_nonMSIH\n"
     ]
    },
    {
     "name": "stderr",
     "output_type": "stream",
     "text": [
      "🧩 Processing slides:  56%|█████▌    | 233/417 [01:18<01:41,  1.81slide/s]"
     ]
    },
    {
     "name": "stdout",
     "output_type": "stream",
     "text": [
      "  ⏭️ Skipped: All 3518 patches already processed for TCGA-CM-4751_nonMSIH\n"
     ]
    },
    {
     "name": "stderr",
     "output_type": "stream",
     "text": [
      "🧩 Processing slides:  56%|█████▌    | 234/417 [01:18<01:33,  1.95slide/s]"
     ]
    },
    {
     "name": "stdout",
     "output_type": "stream",
     "text": [
      "  ⏭️ Skipped: All 3129 patches already processed for TCGA-CM-4752_nonMSIH\n"
     ]
    },
    {
     "name": "stderr",
     "output_type": "stream",
     "text": [
      "🧩 Processing slides:  56%|█████▋    | 235/417 [01:19<01:29,  2.04slide/s]"
     ]
    },
    {
     "name": "stdout",
     "output_type": "stream",
     "text": [
      "  ⏭️ Skipped: All 3227 patches already processed for TCGA-CM-5341_nonMSIH\n"
     ]
    },
    {
     "name": "stderr",
     "output_type": "stream",
     "text": [
      "🧩 Processing slides:  57%|█████▋    | 236/417 [01:19<01:34,  1.91slide/s]"
     ]
    },
    {
     "name": "stdout",
     "output_type": "stream",
     "text": [
      "  ⏭️ Skipped: All 5293 patches already processed for TCGA-CM-5344_nonMSIH\n"
     ]
    },
    {
     "name": "stderr",
     "output_type": "stream",
     "text": [
      "🧩 Processing slides:  57%|█████▋    | 237/417 [01:20<01:29,  2.02slide/s]"
     ]
    },
    {
     "name": "stdout",
     "output_type": "stream",
     "text": [
      "  ⏭️ Skipped: All 4744 patches already processed for TCGA-CM-5348_nonMSIH\n"
     ]
    },
    {
     "name": "stderr",
     "output_type": "stream",
     "text": [
      "🧩 Processing slides:  57%|█████▋    | 238/417 [01:20<01:30,  1.97slide/s]"
     ]
    },
    {
     "name": "stdout",
     "output_type": "stream",
     "text": [
      "  ⏭️ Skipped: All 5613 patches already processed for TCGA-CM-5349_nonMSIH\n"
     ]
    },
    {
     "name": "stderr",
     "output_type": "stream",
     "text": [
      "🧩 Processing slides:  57%|█████▋    | 239/417 [01:21<01:32,  1.92slide/s]"
     ]
    },
    {
     "name": "stdout",
     "output_type": "stream",
     "text": [
      "  ⏭️ Skipped: All 3995 patches already processed for TCGA-CM-5860_nonMSIH\n"
     ]
    },
    {
     "name": "stderr",
     "output_type": "stream",
     "text": [
      "🧩 Processing slides:  58%|█████▊    | 240/417 [01:21<01:28,  2.01slide/s]"
     ]
    },
    {
     "name": "stdout",
     "output_type": "stream",
     "text": [
      "  ⏭️ Skipped: All 3240 patches already processed for TCGA-CM-5861_MSIH\n"
     ]
    },
    {
     "name": "stderr",
     "output_type": "stream",
     "text": [
      "🧩 Processing slides:  58%|█████▊    | 241/417 [01:22<01:25,  2.05slide/s]"
     ]
    },
    {
     "name": "stdout",
     "output_type": "stream",
     "text": [
      "  ⏭️ Skipped: All 3927 patches already processed for TCGA-CM-5862_nonMSIH\n"
     ]
    },
    {
     "name": "stderr",
     "output_type": "stream",
     "text": [
      "🧩 Processing slides:  58%|█████▊    | 242/417 [01:22<01:25,  2.05slide/s]"
     ]
    },
    {
     "name": "stdout",
     "output_type": "stream",
     "text": [
      "  ⏭️ Skipped: All 3617 patches already processed for TCGA-CM-5863_nonMSIH\n"
     ]
    },
    {
     "name": "stderr",
     "output_type": "stream",
     "text": [
      "🧩 Processing slides:  58%|█████▊    | 243/417 [01:22<01:20,  2.15slide/s]"
     ]
    },
    {
     "name": "stdout",
     "output_type": "stream",
     "text": [
      "  ⏭️ Skipped: All 3977 patches already processed for TCGA-CM-5864_nonMSIH\n"
     ]
    },
    {
     "name": "stderr",
     "output_type": "stream",
     "text": [
      "🧩 Processing slides:  59%|█████▊    | 244/417 [01:23<01:19,  2.18slide/s]"
     ]
    },
    {
     "name": "stdout",
     "output_type": "stream",
     "text": [
      "  ⏭️ Skipped: All 4887 patches already processed for TCGA-CM-5868_nonMSIH\n"
     ]
    },
    {
     "name": "stderr",
     "output_type": "stream",
     "text": [
      "🧩 Processing slides:  59%|█████▉    | 245/417 [01:23<01:24,  2.04slide/s]"
     ]
    },
    {
     "name": "stdout",
     "output_type": "stream",
     "text": [
      "  ⏭️ Skipped: All 5000 patches already processed for TCGA-CM-6161_nonMSIH\n"
     ]
    },
    {
     "name": "stderr",
     "output_type": "stream",
     "text": [
      "🧩 Processing slides:  59%|█████▉    | 246/417 [01:24<01:15,  2.27slide/s]"
     ]
    },
    {
     "name": "stdout",
     "output_type": "stream",
     "text": [
      "  ⏭️ Skipped: All 3694 patches already processed for TCGA-CM-6162_MSIH\n"
     ]
    },
    {
     "name": "stderr",
     "output_type": "stream",
     "text": [
      "🧩 Processing slides:  59%|█████▉    | 247/417 [01:24<01:16,  2.23slide/s]"
     ]
    },
    {
     "name": "stdout",
     "output_type": "stream",
     "text": [
      "  ⏭️ Skipped: All 4493 patches already processed for TCGA-CM-6163_nonMSIH\n"
     ]
    },
    {
     "name": "stderr",
     "output_type": "stream",
     "text": [
      "🧩 Processing slides:  59%|█████▉    | 248/417 [01:25<01:15,  2.24slide/s]"
     ]
    },
    {
     "name": "stdout",
     "output_type": "stream",
     "text": [
      "  ⏭️ Skipped: All 3477 patches already processed for TCGA-CM-6164_nonMSIH\n"
     ]
    },
    {
     "name": "stderr",
     "output_type": "stream",
     "text": [
      "🧩 Processing slides:  60%|█████▉    | 249/417 [01:25<01:20,  2.08slide/s]"
     ]
    },
    {
     "name": "stdout",
     "output_type": "stream",
     "text": [
      "  ⏭️ Skipped: All 4872 patches already processed for TCGA-CM-6165_nonMSIH\n"
     ]
    },
    {
     "name": "stderr",
     "output_type": "stream",
     "text": [
      "🧩 Processing slides:  60%|█████▉    | 250/417 [01:26<01:14,  2.23slide/s]"
     ]
    },
    {
     "name": "stdout",
     "output_type": "stream",
     "text": [
      "  ⏭️ Skipped: All 3778 patches already processed for TCGA-CM-6166_nonMSIH\n"
     ]
    },
    {
     "name": "stderr",
     "output_type": "stream",
     "text": [
      "🧩 Processing slides:  60%|██████    | 251/417 [01:26<01:17,  2.15slide/s]"
     ]
    },
    {
     "name": "stdout",
     "output_type": "stream",
     "text": [
      "  ⏭️ Skipped: All 4465 patches already processed for TCGA-CM-6167_nonMSIH\n"
     ]
    },
    {
     "name": "stderr",
     "output_type": "stream",
     "text": [
      "🧩 Processing slides:  60%|██████    | 252/417 [01:27<01:30,  1.83slide/s]"
     ]
    },
    {
     "name": "stdout",
     "output_type": "stream",
     "text": [
      "  ⏭️ Skipped: All 5307 patches already processed for TCGA-CM-6168_nonMSIH\n"
     ]
    },
    {
     "name": "stderr",
     "output_type": "stream",
     "text": [
      "🧩 Processing slides:  61%|██████    | 253/417 [01:27<01:25,  1.93slide/s]"
     ]
    },
    {
     "name": "stdout",
     "output_type": "stream",
     "text": [
      "  ⏭️ Skipped: All 4320 patches already processed for TCGA-CM-6169_nonMSIH\n"
     ]
    },
    {
     "name": "stderr",
     "output_type": "stream",
     "text": [
      "🧩 Processing slides:  61%|██████    | 254/417 [01:28<01:14,  2.17slide/s]"
     ]
    },
    {
     "name": "stdout",
     "output_type": "stream",
     "text": [
      "  ⏭️ Skipped: All 1972 patches already processed for TCGA-CM-6170_nonMSIH\n"
     ]
    },
    {
     "name": "stderr",
     "output_type": "stream",
     "text": [
      "🧩 Processing slides:  61%|██████    | 255/417 [01:28<01:19,  2.04slide/s]"
     ]
    },
    {
     "name": "stdout",
     "output_type": "stream",
     "text": [
      "  ⏭️ Skipped: All 4882 patches already processed for TCGA-CM-6171_MSIH\n"
     ]
    },
    {
     "name": "stderr",
     "output_type": "stream",
     "text": [
      "🧩 Processing slides:  61%|██████▏   | 256/417 [01:29<01:14,  2.17slide/s]"
     ]
    },
    {
     "name": "stdout",
     "output_type": "stream",
     "text": [
      "  ⏭️ Skipped: All 3540 patches already processed for TCGA-CM-6172_nonMSIH\n"
     ]
    },
    {
     "name": "stderr",
     "output_type": "stream",
     "text": [
      "🧩 Processing slides:  62%|██████▏   | 257/417 [01:29<01:17,  2.06slide/s]"
     ]
    },
    {
     "name": "stdout",
     "output_type": "stream",
     "text": [
      "  ⏭️ Skipped: All 6370 patches already processed for TCGA-CM-6674_MSIH\n"
     ]
    },
    {
     "name": "stderr",
     "output_type": "stream",
     "text": [
      "🧩 Processing slides:  62%|██████▏   | 258/417 [01:30<01:26,  1.85slide/s]"
     ]
    },
    {
     "name": "stdout",
     "output_type": "stream",
     "text": [
      "  ⏭️ Skipped: All 6130 patches already processed for TCGA-CM-6675_nonMSIH\n"
     ]
    },
    {
     "name": "stderr",
     "output_type": "stream",
     "text": [
      "🧩 Processing slides:  62%|██████▏   | 259/417 [01:30<01:19,  1.99slide/s]"
     ]
    },
    {
     "name": "stdout",
     "output_type": "stream",
     "text": [
      "  ⏭️ Skipped: All 3001 patches already processed for TCGA-CM-6676_nonMSIH\n"
     ]
    },
    {
     "name": "stderr",
     "output_type": "stream",
     "text": [
      "🧩 Processing slides:  62%|██████▏   | 260/417 [01:31<01:18,  2.01slide/s]"
     ]
    },
    {
     "name": "stdout",
     "output_type": "stream",
     "text": [
      "  ⏭️ Skipped: All 5032 patches already processed for TCGA-CM-6677_nonMSIH\n"
     ]
    },
    {
     "name": "stderr",
     "output_type": "stream",
     "text": [
      "🧩 Processing slides:  63%|██████▎   | 261/417 [01:31<01:11,  2.18slide/s]"
     ]
    },
    {
     "name": "stdout",
     "output_type": "stream",
     "text": [
      "  ⏭️ Skipped: All 2203 patches already processed for TCGA-CM-6678_nonMSIH\n"
     ]
    },
    {
     "name": "stderr",
     "output_type": "stream",
     "text": [
      "🧩 Processing slides:  63%|██████▎   | 262/417 [01:32<01:11,  2.16slide/s]"
     ]
    },
    {
     "name": "stdout",
     "output_type": "stream",
     "text": [
      "  ⏭️ Skipped: All 5165 patches already processed for TCGA-CM-6679_nonMSIH\n"
     ]
    },
    {
     "name": "stderr",
     "output_type": "stream",
     "text": [
      "🧩 Processing slides:  63%|██████▎   | 263/417 [01:32<01:10,  2.17slide/s]"
     ]
    },
    {
     "name": "stdout",
     "output_type": "stream",
     "text": [
      "  ⏭️ Skipped: All 3768 patches already processed for TCGA-D5-5537_nonMSIH\n"
     ]
    },
    {
     "name": "stderr",
     "output_type": "stream",
     "text": [
      "🧩 Processing slides:  63%|██████▎   | 264/417 [01:32<01:06,  2.31slide/s]"
     ]
    },
    {
     "name": "stdout",
     "output_type": "stream",
     "text": [
      "  ⏭️ Skipped: All 4156 patches already processed for TCGA-D5-5538_nonMSIH\n"
     ]
    },
    {
     "name": "stderr",
     "output_type": "stream",
     "text": [
      "🧩 Processing slides:  64%|██████▎   | 265/417 [01:33<01:03,  2.41slide/s]"
     ]
    },
    {
     "name": "stdout",
     "output_type": "stream",
     "text": [
      "  ⏭️ Skipped: All 2166 patches already processed for TCGA-D5-5539_nonMSIH\n"
     ]
    },
    {
     "name": "stderr",
     "output_type": "stream",
     "text": [
      "🧩 Processing slides:  64%|██████▍   | 266/417 [01:33<00:54,  2.78slide/s]"
     ]
    },
    {
     "name": "stdout",
     "output_type": "stream",
     "text": [
      "  ⏭️ Skipped: All 2090 patches already processed for TCGA-D5-5540_nonMSIH\n"
     ]
    },
    {
     "name": "stderr",
     "output_type": "stream",
     "text": [
      "🧩 Processing slides:  64%|██████▍   | 267/417 [01:33<00:55,  2.68slide/s]"
     ]
    },
    {
     "name": "stdout",
     "output_type": "stream",
     "text": [
      "  ⏭️ Skipped: All 3224 patches already processed for TCGA-D5-5541_nonMSIH\n"
     ]
    },
    {
     "name": "stderr",
     "output_type": "stream",
     "text": [
      "🧩 Processing slides:  64%|██████▍   | 268/417 [01:34<00:56,  2.66slide/s]"
     ]
    },
    {
     "name": "stdout",
     "output_type": "stream",
     "text": [
      "  ⏭️ Skipped: All 3153 patches already processed for TCGA-D5-6529_nonMSIH\n"
     ]
    },
    {
     "name": "stderr",
     "output_type": "stream",
     "text": [
      "🧩 Processing slides:  65%|██████▍   | 269/417 [01:34<01:06,  2.24slide/s]"
     ]
    },
    {
     "name": "stdout",
     "output_type": "stream",
     "text": [
      "  ⏭️ Skipped: All 5875 patches already processed for TCGA-D5-6530_MSIH\n"
     ]
    },
    {
     "name": "stderr",
     "output_type": "stream",
     "text": [
      "🧩 Processing slides:  65%|██████▍   | 270/417 [01:35<01:05,  2.25slide/s]"
     ]
    },
    {
     "name": "stdout",
     "output_type": "stream",
     "text": [
      "  ⏭️ Skipped: All 3478 patches already processed for TCGA-D5-6531_nonMSIH\n"
     ]
    },
    {
     "name": "stderr",
     "output_type": "stream",
     "text": [
      "🧩 Processing slides:  65%|██████▍   | 271/417 [01:35<01:08,  2.12slide/s]"
     ]
    },
    {
     "name": "stdout",
     "output_type": "stream",
     "text": [
      "  ⏭️ Skipped: All 4388 patches already processed for TCGA-D5-6532_nonMSIH\n"
     ]
    },
    {
     "name": "stderr",
     "output_type": "stream",
     "text": [
      "🧩 Processing slides:  65%|██████▌   | 272/417 [01:36<01:06,  2.19slide/s]"
     ]
    },
    {
     "name": "stdout",
     "output_type": "stream",
     "text": [
      "  ⏭️ Skipped: All 4591 patches already processed for TCGA-D5-6533_nonMSIH\n"
     ]
    },
    {
     "name": "stderr",
     "output_type": "stream",
     "text": [
      "🧩 Processing slides:  65%|██████▌   | 273/417 [01:36<01:07,  2.14slide/s]"
     ]
    },
    {
     "name": "stdout",
     "output_type": "stream",
     "text": [
      "  ⏭️ Skipped: All 3535 patches already processed for TCGA-D5-6534_nonMSIH\n"
     ]
    },
    {
     "name": "stderr",
     "output_type": "stream",
     "text": [
      "🧩 Processing slides:  66%|██████▌   | 274/417 [01:37<01:04,  2.23slide/s]"
     ]
    },
    {
     "name": "stdout",
     "output_type": "stream",
     "text": [
      "  ⏭️ Skipped: All 3486 patches already processed for TCGA-D5-6535_nonMSIH\n"
     ]
    },
    {
     "name": "stderr",
     "output_type": "stream",
     "text": [
      "🧩 Processing slides:  66%|██████▌   | 275/417 [01:37<01:03,  2.24slide/s]"
     ]
    },
    {
     "name": "stdout",
     "output_type": "stream",
     "text": [
      "  ⏭️ Skipped: All 3897 patches already processed for TCGA-D5-6536_nonMSIH\n"
     ]
    },
    {
     "name": "stderr",
     "output_type": "stream",
     "text": [
      "🧩 Processing slides:  66%|██████▌   | 276/417 [01:38<01:00,  2.33slide/s]"
     ]
    },
    {
     "name": "stdout",
     "output_type": "stream",
     "text": [
      "  ⏭️ Skipped: All 3597 patches already processed for TCGA-D5-6537_nonMSIH\n"
     ]
    },
    {
     "name": "stderr",
     "output_type": "stream",
     "text": [
      "🧩 Processing slides:  66%|██████▋   | 277/417 [01:38<01:02,  2.24slide/s]"
     ]
    },
    {
     "name": "stdout",
     "output_type": "stream",
     "text": [
      "  ⏭️ Skipped: All 3316 patches already processed for TCGA-D5-6538_nonMSIH\n"
     ]
    },
    {
     "name": "stderr",
     "output_type": "stream",
     "text": [
      "🧩 Processing slides:  67%|██████▋   | 278/417 [01:38<00:54,  2.57slide/s]"
     ]
    },
    {
     "name": "stdout",
     "output_type": "stream",
     "text": [
      "  ⏭️ Skipped: All 2226 patches already processed for TCGA-D5-6539_nonMSIH\n"
     ]
    },
    {
     "name": "stderr",
     "output_type": "stream",
     "text": [
      "🧩 Processing slides:  67%|██████▋   | 279/417 [01:39<00:52,  2.61slide/s]"
     ]
    },
    {
     "name": "stdout",
     "output_type": "stream",
     "text": [
      "  ⏭️ Skipped: All 2636 patches already processed for TCGA-D5-6540_MSIH\n"
     ]
    },
    {
     "name": "stderr",
     "output_type": "stream",
     "text": [
      "🧩 Processing slides:  67%|██████▋   | 280/417 [01:39<00:52,  2.60slide/s]"
     ]
    },
    {
     "name": "stdout",
     "output_type": "stream",
     "text": [
      "  ⏭️ Skipped: All 3899 patches already processed for TCGA-D5-6541_nonMSIH\n"
     ]
    },
    {
     "name": "stderr",
     "output_type": "stream",
     "text": [
      "🧩 Processing slides:  67%|██████▋   | 281/417 [01:39<00:48,  2.82slide/s]"
     ]
    },
    {
     "name": "stdout",
     "output_type": "stream",
     "text": [
      "  ⏭️ Skipped: All 1101 patches already processed for TCGA-D5-6898_nonMSIH\n"
     ]
    },
    {
     "name": "stderr",
     "output_type": "stream",
     "text": [
      "🧩 Processing slides:  68%|██████▊   | 282/417 [01:40<00:41,  3.28slide/s]"
     ]
    },
    {
     "name": "stdout",
     "output_type": "stream",
     "text": [
      "  ⏭️ Skipped: All 666 patches already processed for TCGA-D5-6920_nonMSIH\n"
     ]
    },
    {
     "name": "stderr",
     "output_type": "stream",
     "text": [
      "🧩 Processing slides:  68%|██████▊   | 283/417 [01:40<00:39,  3.42slide/s]"
     ]
    },
    {
     "name": "stdout",
     "output_type": "stream",
     "text": [
      "  ⏭️ Skipped: All 1085 patches already processed for TCGA-D5-6922_nonMSIH\n"
     ]
    },
    {
     "name": "stderr",
     "output_type": "stream",
     "text": [
      "🧩 Processing slides:  68%|██████▊   | 284/417 [01:40<00:38,  3.43slide/s]"
     ]
    },
    {
     "name": "stdout",
     "output_type": "stream",
     "text": [
      "  ⏭️ Skipped: All 1364 patches already processed for TCGA-D5-6924_nonMSIH\n"
     ]
    },
    {
     "name": "stderr",
     "output_type": "stream",
     "text": [
      "🧩 Processing slides:  68%|██████▊   | 285/417 [01:40<00:36,  3.57slide/s]"
     ]
    },
    {
     "name": "stdout",
     "output_type": "stream",
     "text": [
      "  ⏭️ Skipped: All 1293 patches already processed for TCGA-D5-6926_nonMSIH\n"
     ]
    },
    {
     "name": "stderr",
     "output_type": "stream",
     "text": [
      "🧩 Processing slides:  69%|██████▊   | 286/417 [01:41<00:38,  3.42slide/s]"
     ]
    },
    {
     "name": "stdout",
     "output_type": "stream",
     "text": [
      "  ⏭️ Skipped: All 1283 patches already processed for TCGA-D5-6927_MSIH\n"
     ]
    },
    {
     "name": "stderr",
     "output_type": "stream",
     "text": [
      "🧩 Processing slides:  69%|██████▉   | 287/417 [01:41<00:34,  3.72slide/s]"
     ]
    },
    {
     "name": "stdout",
     "output_type": "stream",
     "text": [
      "  ⏭️ Skipped: All 749 patches already processed for TCGA-D5-6928_MSIH\n"
     ]
    },
    {
     "name": "stderr",
     "output_type": "stream",
     "text": [
      "🧩 Processing slides:  69%|██████▉   | 288/417 [01:41<00:44,  2.87slide/s]"
     ]
    },
    {
     "name": "stdout",
     "output_type": "stream",
     "text": [
      "  ⏭️ Skipped: All 5999 patches already processed for TCGA-D5-6929_nonMSIH\n"
     ]
    },
    {
     "name": "stderr",
     "output_type": "stream",
     "text": [
      "🧩 Processing slides:  69%|██████▉   | 289/417 [01:42<00:39,  3.21slide/s]"
     ]
    },
    {
     "name": "stdout",
     "output_type": "stream",
     "text": [
      "  ⏭️ Skipped: All 838 patches already processed for TCGA-D5-6930_MSIH\n"
     ]
    },
    {
     "name": "stderr",
     "output_type": "stream",
     "text": [
      "🧩 Processing slides:  70%|██████▉   | 290/417 [01:42<00:43,  2.95slide/s]"
     ]
    },
    {
     "name": "stdout",
     "output_type": "stream",
     "text": [
      "  ⏭️ Skipped: All 1548 patches already processed for TCGA-D5-6931_nonMSIH\n"
     ]
    },
    {
     "name": "stderr",
     "output_type": "stream",
     "text": [
      "🧩 Processing slides:  70%|██████▉   | 291/417 [01:42<00:41,  3.03slide/s]"
     ]
    },
    {
     "name": "stdout",
     "output_type": "stream",
     "text": [
      "  ⏭️ Skipped: All 1105 patches already processed for TCGA-D5-6932_nonMSIH\n"
     ]
    },
    {
     "name": "stderr",
     "output_type": "stream",
     "text": [
      "🧩 Processing slides:  70%|███████   | 292/417 [01:43<00:38,  3.27slide/s]"
     ]
    },
    {
     "name": "stdout",
     "output_type": "stream",
     "text": [
      "  ⏭️ Skipped: All 901 patches already processed for TCGA-D5-7000_nonMSIH\n"
     ]
    },
    {
     "name": "stderr",
     "output_type": "stream",
     "text": [
      "🧩 Processing slides:  70%|███████   | 293/417 [01:43<00:40,  3.04slide/s]"
     ]
    },
    {
     "name": "stdout",
     "output_type": "stream",
     "text": [
      "  ⏭️ Skipped: All 2817 patches already processed for TCGA-DC-4745_nonMSIH\n"
     ]
    },
    {
     "name": "stderr",
     "output_type": "stream",
     "text": [
      "🧩 Processing slides:  71%|███████   | 294/417 [01:43<00:47,  2.59slide/s]"
     ]
    },
    {
     "name": "stdout",
     "output_type": "stream",
     "text": [
      "  ⏭️ Skipped: All 3668 patches already processed for TCGA-DC-4749_nonMSIH\n"
     ]
    },
    {
     "name": "stderr",
     "output_type": "stream",
     "text": [
      "🧩 Processing slides:  71%|███████   | 295/417 [01:44<00:45,  2.69slide/s]"
     ]
    },
    {
     "name": "stdout",
     "output_type": "stream",
     "text": [
      "  ⏭️ Skipped: All 1844 patches already processed for TCGA-DC-5337_nonMSIH\n"
     ]
    },
    {
     "name": "stderr",
     "output_type": "stream",
     "text": [
      "🧩 Processing slides:  71%|███████   | 296/417 [01:44<00:54,  2.22slide/s]"
     ]
    },
    {
     "name": "stdout",
     "output_type": "stream",
     "text": [
      "  ⏭️ Skipped: All 5883 patches already processed for TCGA-DC-5869_nonMSIH\n"
     ]
    },
    {
     "name": "stderr",
     "output_type": "stream",
     "text": [
      "🧩 Processing slides:  71%|███████   | 297/417 [01:45<00:54,  2.20slide/s]"
     ]
    },
    {
     "name": "stdout",
     "output_type": "stream",
     "text": [
      "  ⏭️ Skipped: All 2959 patches already processed for TCGA-DC-6154_MSIH\n"
     ]
    },
    {
     "name": "stderr",
     "output_type": "stream",
     "text": [
      "🧩 Processing slides:  71%|███████▏  | 298/417 [01:46<01:06,  1.78slide/s]"
     ]
    },
    {
     "name": "stdout",
     "output_type": "stream",
     "text": [
      "  ⏭️ Skipped: All 7085 patches already processed for TCGA-DC-6155_nonMSIH\n"
     ]
    },
    {
     "name": "stderr",
     "output_type": "stream",
     "text": [
      "🧩 Processing slides:  72%|███████▏  | 299/417 [01:46<01:01,  1.92slide/s]"
     ]
    },
    {
     "name": "stdout",
     "output_type": "stream",
     "text": [
      "  ⏭️ Skipped: All 3769 patches already processed for TCGA-DC-6157_nonMSIH\n"
     ]
    },
    {
     "name": "stderr",
     "output_type": "stream",
     "text": [
      "🧩 Processing slides:  72%|███████▏  | 300/417 [01:46<00:54,  2.14slide/s]"
     ]
    },
    {
     "name": "stdout",
     "output_type": "stream",
     "text": [
      "  ⏭️ Skipped: All 3037 patches already processed for TCGA-DC-6158_nonMSIH\n"
     ]
    },
    {
     "name": "stderr",
     "output_type": "stream",
     "text": [
      "🧩 Processing slides:  72%|███████▏  | 301/417 [01:47<00:59,  1.93slide/s]"
     ]
    },
    {
     "name": "stdout",
     "output_type": "stream",
     "text": [
      "  ⏭️ Skipped: All 4854 patches already processed for TCGA-DC-6160_nonMSIH\n"
     ]
    },
    {
     "name": "stderr",
     "output_type": "stream",
     "text": [
      "🧩 Processing slides:  72%|███████▏  | 302/417 [01:48<00:59,  1.92slide/s]"
     ]
    },
    {
     "name": "stdout",
     "output_type": "stream",
     "text": [
      "  ⏭️ Skipped: All 5512 patches already processed for TCGA-DC-6681_nonMSIH\n"
     ]
    },
    {
     "name": "stderr",
     "output_type": "stream",
     "text": [
      "🧩 Processing slides:  73%|███████▎  | 303/417 [01:48<00:53,  2.15slide/s]"
     ]
    },
    {
     "name": "stdout",
     "output_type": "stream",
     "text": [
      "  ⏭️ Skipped: All 2520 patches already processed for TCGA-DC-6682_nonMSIH\n"
     ]
    },
    {
     "name": "stderr",
     "output_type": "stream",
     "text": [
      "🧩 Processing slides:  73%|███████▎  | 304/417 [01:48<00:52,  2.16slide/s]"
     ]
    },
    {
     "name": "stdout",
     "output_type": "stream",
     "text": [
      "  ⏭️ Skipped: All 3994 patches already processed for TCGA-DC-6683_nonMSIH\n"
     ]
    },
    {
     "name": "stderr",
     "output_type": "stream",
     "text": [
      "🧩 Processing slides:  73%|███████▎  | 305/417 [01:49<00:50,  2.21slide/s]"
     ]
    },
    {
     "name": "stdout",
     "output_type": "stream",
     "text": [
      "  ⏭️ Skipped: All 4268 patches already processed for TCGA-DM-A0X9_nonMSIH\n"
     ]
    },
    {
     "name": "stderr",
     "output_type": "stream",
     "text": [
      "🧩 Processing slides:  73%|███████▎  | 306/417 [01:49<00:41,  2.66slide/s]"
     ]
    },
    {
     "name": "stdout",
     "output_type": "stream",
     "text": [
      "  ⏭️ Skipped: All 871 patches already processed for TCGA-DM-A0XD_nonMSIH\n"
     ]
    },
    {
     "name": "stderr",
     "output_type": "stream",
     "text": [
      "🧩 Processing slides:  74%|███████▎  | 307/417 [01:49<00:41,  2.64slide/s]"
     ]
    },
    {
     "name": "stdout",
     "output_type": "stream",
     "text": [
      "  ⏭️ Skipped: All 3532 patches already processed for TCGA-DM-A0XF_nonMSIH\n"
     ]
    },
    {
     "name": "stderr",
     "output_type": "stream",
     "text": [
      "🧩 Processing slides:  74%|███████▍  | 308/417 [01:50<00:47,  2.28slide/s]"
     ]
    },
    {
     "name": "stdout",
     "output_type": "stream",
     "text": [
      "  ⏭️ Skipped: All 3947 patches already processed for TCGA-DM-A1D0_nonMSIH\n"
     ]
    },
    {
     "name": "stderr",
     "output_type": "stream",
     "text": [
      "🧩 Processing slides:  74%|███████▍  | 309/417 [01:50<00:44,  2.41slide/s]"
     ]
    },
    {
     "name": "stdout",
     "output_type": "stream",
     "text": [
      "  ⏭️ Skipped: All 2889 patches already processed for TCGA-DM-A1D4_nonMSIH\n"
     ]
    },
    {
     "name": "stderr",
     "output_type": "stream",
     "text": [
      "🧩 Processing slides:  74%|███████▍  | 310/417 [01:51<00:44,  2.43slide/s]"
     ]
    },
    {
     "name": "stdout",
     "output_type": "stream",
     "text": [
      "  ⏭️ Skipped: All 3884 patches already processed for TCGA-DM-A1D6_nonMSIH\n"
     ]
    },
    {
     "name": "stderr",
     "output_type": "stream",
     "text": [
      "🧩 Processing slides:  75%|███████▍  | 311/417 [01:51<00:42,  2.47slide/s]"
     ]
    },
    {
     "name": "stdout",
     "output_type": "stream",
     "text": [
      "  ⏭️ Skipped: All 2645 patches already processed for TCGA-DM-A1D7_nonMSIH\n"
     ]
    },
    {
     "name": "stderr",
     "output_type": "stream",
     "text": [
      "🧩 Processing slides:  75%|███████▍  | 312/417 [01:51<00:38,  2.75slide/s]"
     ]
    },
    {
     "name": "stdout",
     "output_type": "stream",
     "text": [
      "  ⏭️ Skipped: All 1621 patches already processed for TCGA-DM-A1D8_nonMSIH\n"
     ]
    },
    {
     "name": "stderr",
     "output_type": "stream",
     "text": [
      "🧩 Processing slides:  75%|███████▌  | 313/417 [01:52<00:40,  2.56slide/s]"
     ]
    },
    {
     "name": "stdout",
     "output_type": "stream",
     "text": [
      "  ⏭️ Skipped: All 4121 patches already processed for TCGA-DM-A1D9_nonMSIH\n"
     ]
    },
    {
     "name": "stderr",
     "output_type": "stream",
     "text": [
      "🧩 Processing slides:  75%|███████▌  | 314/417 [01:52<00:41,  2.48slide/s]"
     ]
    },
    {
     "name": "stdout",
     "output_type": "stream",
     "text": [
      "  ⏭️ Skipped: All 4014 patches already processed for TCGA-DM-A1DA_nonMSIH\n"
     ]
    },
    {
     "name": "stderr",
     "output_type": "stream",
     "text": [
      "🧩 Processing slides:  76%|███████▌  | 315/417 [01:53<00:45,  2.25slide/s]"
     ]
    },
    {
     "name": "stdout",
     "output_type": "stream",
     "text": [
      "  ⏭️ Skipped: All 5990 patches already processed for TCGA-DM-A1DB_nonMSIH\n"
     ]
    },
    {
     "name": "stderr",
     "output_type": "stream",
     "text": [
      "🧩 Processing slides:  76%|███████▌  | 316/417 [01:53<00:46,  2.18slide/s]"
     ]
    },
    {
     "name": "stdout",
     "output_type": "stream",
     "text": [
      "  ⏭️ Skipped: All 4391 patches already processed for TCGA-DM-A1HA_nonMSIH\n"
     ]
    },
    {
     "name": "stderr",
     "output_type": "stream",
     "text": [
      "🧩 Processing slides:  76%|███████▌  | 317/417 [01:54<00:53,  1.88slide/s]"
     ]
    },
    {
     "name": "stdout",
     "output_type": "stream",
     "text": [
      "  ⏭️ Skipped: All 6569 patches already processed for TCGA-DM-A280_nonMSIH\n"
     ]
    },
    {
     "name": "stderr",
     "output_type": "stream",
     "text": [
      "🧩 Processing slides:  76%|███████▋  | 318/417 [01:55<00:58,  1.71slide/s]"
     ]
    },
    {
     "name": "stdout",
     "output_type": "stream",
     "text": [
      "  ⏭️ Skipped: All 5356 patches already processed for TCGA-DM-A282_nonMSIH\n"
     ]
    },
    {
     "name": "stderr",
     "output_type": "stream",
     "text": [
      "🧩 Processing slides:  76%|███████▋  | 319/417 [01:55<00:53,  1.82slide/s]"
     ]
    },
    {
     "name": "stdout",
     "output_type": "stream",
     "text": [
      "  ⏭️ Skipped: All 3624 patches already processed for TCGA-DM-A285_nonMSIH\n"
     ]
    },
    {
     "name": "stderr",
     "output_type": "stream",
     "text": [
      "🧩 Processing slides:  77%|███████▋  | 320/417 [01:56<00:54,  1.78slide/s]"
     ]
    },
    {
     "name": "stdout",
     "output_type": "stream",
     "text": [
      "  ⏭️ Skipped: All 5123 patches already processed for TCGA-DM-A288_nonMSIH\n"
     ]
    },
    {
     "name": "stderr",
     "output_type": "stream",
     "text": [
      "🧩 Processing slides:  77%|███████▋  | 321/417 [01:56<00:49,  1.93slide/s]"
     ]
    },
    {
     "name": "stdout",
     "output_type": "stream",
     "text": [
      "  ⏭️ Skipped: All 4130 patches already processed for TCGA-DM-A28A_nonMSIH\n"
     ]
    },
    {
     "name": "stderr",
     "output_type": "stream",
     "text": [
      "🧩 Processing slides:  77%|███████▋  | 322/417 [01:57<00:48,  1.95slide/s]"
     ]
    },
    {
     "name": "stdout",
     "output_type": "stream",
     "text": [
      "  ⏭️ Skipped: All 3894 patches already processed for TCGA-DM-A28E_nonMSIH\n"
     ]
    },
    {
     "name": "stderr",
     "output_type": "stream",
     "text": [
      "🧩 Processing slides:  77%|███████▋  | 323/417 [01:57<00:43,  2.15slide/s]"
     ]
    },
    {
     "name": "stdout",
     "output_type": "stream",
     "text": [
      "  ⏭️ Skipped: All 2832 patches already processed for TCGA-DM-A28F_nonMSIH\n"
     ]
    },
    {
     "name": "stderr",
     "output_type": "stream",
     "text": [
      "🧩 Processing slides:  78%|███████▊  | 324/417 [01:58<00:45,  2.04slide/s]"
     ]
    },
    {
     "name": "stdout",
     "output_type": "stream",
     "text": [
      "  ⏭️ Skipped: All 4241 patches already processed for TCGA-DM-A28G_nonMSIH\n"
     ]
    },
    {
     "name": "stderr",
     "output_type": "stream",
     "text": [
      "🧩 Processing slides:  78%|███████▊  | 325/417 [01:58<00:46,  2.00slide/s]"
     ]
    },
    {
     "name": "stdout",
     "output_type": "stream",
     "text": [
      "  ⏭️ Skipped: All 3768 patches already processed for TCGA-DM-A28H_nonMSIH\n"
     ]
    },
    {
     "name": "stderr",
     "output_type": "stream",
     "text": [
      "🧩 Processing slides:  78%|███████▊  | 326/417 [01:59<00:49,  1.85slide/s]"
     ]
    },
    {
     "name": "stdout",
     "output_type": "stream",
     "text": [
      "  ⏭️ Skipped: All 5424 patches already processed for TCGA-DM-A28K_nonMSIH\n"
     ]
    },
    {
     "name": "stderr",
     "output_type": "stream",
     "text": [
      "🧩 Processing slides:  78%|███████▊  | 327/417 [01:59<00:50,  1.79slide/s]"
     ]
    },
    {
     "name": "stdout",
     "output_type": "stream",
     "text": [
      "  ⏭️ Skipped: All 4345 patches already processed for TCGA-DM-A28M_nonMSIH\n"
     ]
    },
    {
     "name": "stderr",
     "output_type": "stream",
     "text": [
      "🧩 Processing slides:  79%|███████▊  | 328/417 [02:00<00:43,  2.03slide/s]"
     ]
    },
    {
     "name": "stdout",
     "output_type": "stream",
     "text": [
      "  ⏭️ Skipped: All 1957 patches already processed for TCGA-DT-5265_nonMSIH\n"
     ]
    },
    {
     "name": "stderr",
     "output_type": "stream",
     "text": [
      "🧩 Processing slides:  79%|███████▉  | 329/417 [02:00<00:43,  2.03slide/s]"
     ]
    },
    {
     "name": "stdout",
     "output_type": "stream",
     "text": [
      "  ⏭️ Skipped: All 5433 patches already processed for TCGA-DY-A0XA_nonMSIH\n"
     ]
    },
    {
     "name": "stderr",
     "output_type": "stream",
     "text": [
      "🧩 Processing slides:  79%|███████▉  | 330/417 [02:01<00:39,  2.20slide/s]"
     ]
    },
    {
     "name": "stdout",
     "output_type": "stream",
     "text": [
      "  ⏭️ Skipped: All 3142 patches already processed for TCGA-DY-A1DC_nonMSIH\n"
     ]
    },
    {
     "name": "stderr",
     "output_type": "stream",
     "text": [
      "🧩 Processing slides:  79%|███████▉  | 331/417 [02:01<00:42,  2.03slide/s]"
     ]
    },
    {
     "name": "stdout",
     "output_type": "stream",
     "text": [
      "  ⏭️ Skipped: All 4682 patches already processed for TCGA-DY-A1DD_nonMSIH\n"
     ]
    },
    {
     "name": "stderr",
     "output_type": "stream",
     "text": [
      "🧩 Processing slides:  80%|███████▉  | 332/417 [02:02<00:38,  2.18slide/s]"
     ]
    },
    {
     "name": "stdout",
     "output_type": "stream",
     "text": [
      "  ⏭️ Skipped: All 2464 patches already processed for TCGA-DY-A1DF_nonMSIH\n"
     ]
    },
    {
     "name": "stderr",
     "output_type": "stream",
     "text": [
      "🧩 Processing slides:  80%|███████▉  | 333/417 [02:02<00:43,  1.92slide/s]"
     ]
    },
    {
     "name": "stdout",
     "output_type": "stream",
     "text": [
      "  ⏭️ Skipped: All 4409 patches already processed for TCGA-DY-A1DG_nonMSIH\n"
     ]
    },
    {
     "name": "stderr",
     "output_type": "stream",
     "text": [
      "🧩 Processing slides:  80%|████████  | 334/417 [02:03<00:39,  2.11slide/s]"
     ]
    },
    {
     "name": "stdout",
     "output_type": "stream",
     "text": [
      "  ⏭️ Skipped: All 2809 patches already processed for TCGA-EF-5830_nonMSIH\n"
     ]
    },
    {
     "name": "stderr",
     "output_type": "stream",
     "text": [
      "🧩 Processing slides:  80%|████████  | 335/417 [02:03<00:35,  2.32slide/s]"
     ]
    },
    {
     "name": "stdout",
     "output_type": "stream",
     "text": [
      "  ⏭️ Skipped: All 2451 patches already processed for TCGA-EI-6506_nonMSIH\n"
     ]
    },
    {
     "name": "stderr",
     "output_type": "stream",
     "text": [
      "🧩 Processing slides:  81%|████████  | 336/417 [02:03<00:34,  2.38slide/s]"
     ]
    },
    {
     "name": "stdout",
     "output_type": "stream",
     "text": [
      "  ⏭️ Skipped: All 3267 patches already processed for TCGA-EI-6507_MSIH\n"
     ]
    },
    {
     "name": "stderr",
     "output_type": "stream",
     "text": [
      "🧩 Processing slides:  81%|████████  | 337/417 [02:04<00:34,  2.33slide/s]"
     ]
    },
    {
     "name": "stdout",
     "output_type": "stream",
     "text": [
      "  ⏭️ Skipped: All 3269 patches already processed for TCGA-EI-6508_nonMSIH\n"
     ]
    },
    {
     "name": "stderr",
     "output_type": "stream",
     "text": [
      "🧩 Processing slides:  81%|████████  | 338/417 [02:04<00:30,  2.57slide/s]"
     ]
    },
    {
     "name": "stdout",
     "output_type": "stream",
     "text": [
      "  ⏭️ Skipped: All 1927 patches already processed for TCGA-EI-6509_nonMSIH\n"
     ]
    },
    {
     "name": "stderr",
     "output_type": "stream",
     "text": [
      "🧩 Processing slides:  81%|████████▏ | 339/417 [02:04<00:30,  2.60slide/s]"
     ]
    },
    {
     "name": "stdout",
     "output_type": "stream",
     "text": [
      "  ⏭️ Skipped: All 2982 patches already processed for TCGA-EI-6510_nonMSIH\n"
     ]
    },
    {
     "name": "stderr",
     "output_type": "stream",
     "text": [
      "🧩 Processing slides:  82%|████████▏ | 340/417 [02:05<00:32,  2.40slide/s]"
     ]
    },
    {
     "name": "stdout",
     "output_type": "stream",
     "text": [
      "  ⏭️ Skipped: All 4146 patches already processed for TCGA-EI-6511_nonMSIH\n"
     ]
    },
    {
     "name": "stderr",
     "output_type": "stream",
     "text": [
      "🧩 Processing slides:  82%|████████▏ | 341/417 [02:06<00:36,  2.07slide/s]"
     ]
    },
    {
     "name": "stdout",
     "output_type": "stream",
     "text": [
      "  ⏭️ Skipped: All 4880 patches already processed for TCGA-EI-6512_nonMSIH\n"
     ]
    },
    {
     "name": "stderr",
     "output_type": "stream",
     "text": [
      "🧩 Processing slides:  82%|████████▏ | 342/417 [02:06<00:38,  1.95slide/s]"
     ]
    },
    {
     "name": "stdout",
     "output_type": "stream",
     "text": [
      "  ⏭️ Skipped: All 5185 patches already processed for TCGA-EI-6513_nonMSIH\n"
     ]
    },
    {
     "name": "stderr",
     "output_type": "stream",
     "text": [
      "🧩 Processing slides:  82%|████████▏ | 343/417 [02:07<00:37,  1.97slide/s]"
     ]
    },
    {
     "name": "stdout",
     "output_type": "stream",
     "text": [
      "  ⏭️ Skipped: All 3295 patches already processed for TCGA-EI-6514_nonMSIH\n"
     ]
    },
    {
     "name": "stderr",
     "output_type": "stream",
     "text": [
      "🧩 Processing slides:  82%|████████▏ | 344/417 [02:07<00:30,  2.41slide/s]"
     ]
    },
    {
     "name": "stdout",
     "output_type": "stream",
     "text": [
      "  ⏭️ Skipped: All 558 patches already processed for TCGA-EI-6881_nonMSIH\n"
     ]
    },
    {
     "name": "stderr",
     "output_type": "stream",
     "text": [
      "🧩 Processing slides:  83%|████████▎ | 345/417 [02:07<00:26,  2.71slide/s]"
     ]
    },
    {
     "name": "stdout",
     "output_type": "stream",
     "text": [
      "  ⏭️ Skipped: All 1532 patches already processed for TCGA-EI-6882_MSIH\n"
     ]
    },
    {
     "name": "stderr",
     "output_type": "stream",
     "text": [
      "🧩 Processing slides:  83%|████████▎ | 346/417 [02:08<00:26,  2.65slide/s]"
     ]
    },
    {
     "name": "stdout",
     "output_type": "stream",
     "text": [
      "  ⏭️ Skipped: All 2572 patches already processed for TCGA-EI-6883_nonMSIH\n"
     ]
    },
    {
     "name": "stderr",
     "output_type": "stream",
     "text": [
      "🧩 Processing slides:  83%|████████▎ | 347/417 [02:08<00:23,  2.94slide/s]"
     ]
    },
    {
     "name": "stdout",
     "output_type": "stream",
     "text": [
      "  ⏭️ Skipped: All 1122 patches already processed for TCGA-EI-6884_nonMSIH\n"
     ]
    },
    {
     "name": "stderr",
     "output_type": "stream",
     "text": [
      "🧩 Processing slides:  83%|████████▎ | 348/417 [02:08<00:21,  3.27slide/s]"
     ]
    },
    {
     "name": "stdout",
     "output_type": "stream",
     "text": [
      "  ⏭️ Skipped: All 1210 patches already processed for TCGA-EI-6885_nonMSIH\n"
     ]
    },
    {
     "name": "stderr",
     "output_type": "stream",
     "text": [
      "🧩 Processing slides:  84%|████████▎ | 349/417 [02:08<00:18,  3.66slide/s]"
     ]
    },
    {
     "name": "stdout",
     "output_type": "stream",
     "text": [
      "  ⏭️ Skipped: All 1011 patches already processed for TCGA-EI-6917_nonMSIH\n"
     ]
    },
    {
     "name": "stderr",
     "output_type": "stream",
     "text": [
      "🧩 Processing slides:  84%|████████▍ | 350/417 [02:08<00:17,  3.94slide/s]"
     ]
    },
    {
     "name": "stdout",
     "output_type": "stream",
     "text": [
      "  ⏭️ Skipped: All 1094 patches already processed for TCGA-EI-7002_nonMSIH\n"
     ]
    },
    {
     "name": "stderr",
     "output_type": "stream",
     "text": [
      "🧩 Processing slides:  84%|████████▍ | 351/417 [03:23<24:42, 22.46s/slide]"
     ]
    },
    {
     "name": "stdout",
     "output_type": "stream",
     "text": [
      "  ✅ Done: Processed 805 new patches (total: 805) for TCGA-EI-7004_nonMSIH\n"
     ]
    },
    {
     "name": "stderr",
     "output_type": "stream",
     "text": [
      "🧩 Processing slides:  84%|████████▍ | 352/417 [10:29<2:35:31, 143.56s/slide]"
     ]
    },
    {
     "name": "stdout",
     "output_type": "stream",
     "text": [
      "  ✅ Done: Processed 4979 new patches (total: 4979) for TCGA-F4-6459_nonMSIH\n"
     ]
    },
    {
     "name": "stderr",
     "output_type": "stream",
     "text": [
      "🧩 Processing slides:  85%|████████▍ | 353/417 [15:45<3:28:23, 195.37s/slide]"
     ]
    },
    {
     "name": "stdout",
     "output_type": "stream",
     "text": [
      "  ✅ Done: Processed 3799 new patches (total: 3799) for TCGA-F4-6460_nonMSIH\n"
     ]
    },
    {
     "name": "stderr",
     "output_type": "stream",
     "text": [
      "🧩 Processing slides:  85%|████████▍ | 354/417 [22:56<4:39:23, 266.09s/slide]"
     ]
    },
    {
     "name": "stdout",
     "output_type": "stream",
     "text": [
      "  ✅ Done: Processed 5239 new patches (total: 5239) for TCGA-F4-6461_nonMSIH\n"
     ]
    },
    {
     "name": "stderr",
     "output_type": "stream",
     "text": [
      "🧩 Processing slides:  85%|████████▌ | 355/417 [24:57<3:49:48, 222.39s/slide]"
     ]
    },
    {
     "name": "stdout",
     "output_type": "stream",
     "text": [
      "  ✅ Done: Processed 1457 new patches (total: 1457) for TCGA-F4-6463_nonMSIH\n"
     ]
    },
    {
     "name": "stderr",
     "output_type": "stream",
     "text": [
      "🧩 Processing slides:  85%|████████▌ | 356/417 [28:12<3:37:55, 214.35s/slide]"
     ]
    },
    {
     "name": "stdout",
     "output_type": "stream",
     "text": [
      "  ✅ Done: Processed 2382 new patches (total: 2382) for TCGA-F4-6569_nonMSIH\n"
     ]
    },
    {
     "name": "stderr",
     "output_type": "stream",
     "text": [
      "🧩 Processing slides:  86%|████████▌ | 357/417 [32:18<3:43:41, 223.69s/slide]"
     ]
    },
    {
     "name": "stdout",
     "output_type": "stream",
     "text": [
      "  ✅ Done: Processed 2990 new patches (total: 2990) for TCGA-F4-6570_MSIH\n"
     ]
    },
    {
     "name": "stderr",
     "output_type": "stream",
     "text": [
      "🧩 Processing slides:  86%|████████▌ | 358/417 [36:16<3:44:14, 228.04s/slide]"
     ]
    },
    {
     "name": "stdout",
     "output_type": "stream",
     "text": [
      "  ✅ Done: Processed 2872 new patches (total: 2872) for TCGA-F4-6703_MSIH\n"
     ]
    },
    {
     "name": "stderr",
     "output_type": "stream",
     "text": [
      "🧩 Processing slides:  86%|████████▌ | 359/417 [38:52<3:19:34, 206.46s/slide]"
     ]
    },
    {
     "name": "stdout",
     "output_type": "stream",
     "text": [
      "  ✅ Done: Processed 1861 new patches (total: 1861) for TCGA-F4-6704_nonMSIH\n"
     ]
    },
    {
     "name": "stderr",
     "output_type": "stream",
     "text": [
      "🧩 Processing slides:  86%|████████▋ | 360/417 [42:46<3:23:58, 214.71s/slide]"
     ]
    },
    {
     "name": "stdout",
     "output_type": "stream",
     "text": [
      "  ✅ Done: Processed 2757 new patches (total: 2757) for TCGA-F4-6805_nonMSIH\n"
     ]
    },
    {
     "name": "stderr",
     "output_type": "stream",
     "text": [
      "🧩 Processing slides:  87%|████████▋ | 361/417 [48:30<3:56:29, 253.38s/slide]"
     ]
    },
    {
     "name": "stdout",
     "output_type": "stream",
     "text": [
      "  ✅ Done: Processed 4081 new patches (total: 4081) for TCGA-F4-6806_nonMSIH\n"
     ]
    },
    {
     "name": "stderr",
     "output_type": "stream",
     "text": [
      "🧩 Processing slides:  87%|████████▋ | 362/417 [55:24<4:36:30, 301.65s/slide]"
     ]
    },
    {
     "name": "stdout",
     "output_type": "stream",
     "text": [
      "  ✅ Done: Processed 4940 new patches (total: 4940) for TCGA-F4-6807_nonMSIH\n"
     ]
    },
    {
     "name": "stderr",
     "output_type": "stream",
     "text": [
      "🧩 Processing slides:  87%|████████▋ | 363/417 [1:02:27<5:04:21, 338.17s/slide]"
     ]
    },
    {
     "name": "stdout",
     "output_type": "stream",
     "text": [
      "  ✅ Done: Processed 5017 new patches (total: 5017) for TCGA-F4-6808_nonMSIH\n"
     ]
    },
    {
     "name": "stderr",
     "output_type": "stream",
     "text": [
      "🧩 Processing slides:  87%|████████▋ | 364/417 [1:08:49<5:10:15, 351.24s/slide]"
     ]
    },
    {
     "name": "stdout",
     "output_type": "stream",
     "text": [
      "  ✅ Done: Processed 4583 new patches (total: 4583) for TCGA-F4-6809_nonMSIH\n"
     ]
    },
    {
     "name": "stderr",
     "output_type": "stream",
     "text": [
      "🧩 Processing slides:  88%|████████▊ | 365/417 [1:11:47<4:19:28, 299.39s/slide]"
     ]
    },
    {
     "name": "stdout",
     "output_type": "stream",
     "text": [
      "  ✅ Done: Processed 2125 new patches (total: 2125) for TCGA-F4-6854_nonMSIH\n"
     ]
    },
    {
     "name": "stderr",
     "output_type": "stream",
     "text": [
      "🧩 Processing slides:  88%|████████▊ | 366/417 [1:13:23<3:22:35, 238.35s/slide]"
     ]
    },
    {
     "name": "stdout",
     "output_type": "stream",
     "text": [
      "  ✅ Done: Processed 1096 new patches (total: 1096) for TCGA-F4-6855_nonMSIH\n"
     ]
    },
    {
     "name": "stderr",
     "output_type": "stream",
     "text": [
      "🧩 Processing slides:  88%|████████▊ | 367/417 [1:18:24<3:34:15, 257.11s/slide]"
     ]
    },
    {
     "name": "stdout",
     "output_type": "stream",
     "text": [
      "  ✅ Done: Processed 3617 new patches (total: 3617) for TCGA-F4-6856_MSIH\n"
     ]
    },
    {
     "name": "stderr",
     "output_type": "stream",
     "text": [
      "🧩 Processing slides:  88%|████████▊ | 368/417 [1:23:21<3:39:44, 269.08s/slide]"
     ]
    },
    {
     "name": "stdout",
     "output_type": "stream",
     "text": [
      "  ✅ Done: Processed 3610 new patches (total: 3610) for TCGA-F5-6464_nonMSIH\n"
     ]
    },
    {
     "name": "stderr",
     "output_type": "stream",
     "text": [
      "🧩 Processing slides:  88%|████████▊ | 369/417 [1:27:12<3:26:00, 257.52s/slide]"
     ]
    },
    {
     "name": "stdout",
     "output_type": "stream",
     "text": [
      "  ✅ Done: Processed 2560 new patches (total: 2560) for TCGA-F5-6465_nonMSIH\n"
     ]
    },
    {
     "name": "stderr",
     "output_type": "stream",
     "text": [
      "🧩 Processing slides:  89%|████████▊ | 370/417 [1:32:53<3:41:23, 282.62s/slide]"
     ]
    },
    {
     "name": "stdout",
     "output_type": "stream",
     "text": [
      "  ✅ Done: Processed 4197 new patches (total: 4197) for TCGA-F5-6571_nonMSIH\n"
     ]
    },
    {
     "name": "stderr",
     "output_type": "stream",
     "text": [
      "🧩 Processing slides:  89%|████████▉ | 371/417 [1:36:02<3:15:14, 254.67s/slide]"
     ]
    },
    {
     "name": "stdout",
     "output_type": "stream",
     "text": [
      "  ✅ Done: Processed 2271 new patches (total: 2271) for TCGA-F5-6702_nonMSIH\n"
     ]
    },
    {
     "name": "stderr",
     "output_type": "stream",
     "text": [
      "🧩 Processing slides:  89%|████████▉ | 372/417 [1:37:03<2:27:22, 196.49s/slide]"
     ]
    },
    {
     "name": "stdout",
     "output_type": "stream",
     "text": [
      "  ✅ Done: Processed 691 new patches (total: 691) for TCGA-F5-6811_nonMSIH\n"
     ]
    },
    {
     "name": "stderr",
     "output_type": "stream",
     "text": [
      "🧩 Processing slides:  89%|████████▉ | 373/417 [1:42:18<2:50:11, 232.07s/slide]"
     ]
    },
    {
     "name": "stdout",
     "output_type": "stream",
     "text": [
      "  ✅ Done: Processed 3682 new patches (total: 3682) for TCGA-F5-6814_nonMSIH\n"
     ]
    },
    {
     "name": "stderr",
     "output_type": "stream",
     "text": [
      "🧩 Processing slides:  90%|████████▉ | 374/417 [1:46:28<2:50:10, 237.44s/slide]"
     ]
    },
    {
     "name": "stdout",
     "output_type": "stream",
     "text": [
      "  ✅ Done: Processed 2985 new patches (total: 2985) for TCGA-F5-6863_nonMSIH\n"
     ]
    },
    {
     "name": "stderr",
     "output_type": "stream",
     "text": [
      "🧩 Processing slides:  90%|████████▉ | 375/417 [1:49:20<2:32:20, 217.63s/slide]"
     ]
    },
    {
     "name": "stdout",
     "output_type": "stream",
     "text": [
      "  ✅ Done: Processed 1995 new patches (total: 1995) for TCGA-F5-6864_nonMSIH\n"
     ]
    },
    {
     "name": "stderr",
     "output_type": "stream",
     "text": [
      "🧩 Processing slides:  90%|█████████ | 376/417 [1:53:58<2:41:14, 235.95s/slide]"
     ]
    },
    {
     "name": "stdout",
     "output_type": "stream",
     "text": [
      "  ✅ Done: Processed 3430 new patches (total: 3430) for TCGA-G4-6293_nonMSIH\n"
     ]
    },
    {
     "name": "stderr",
     "output_type": "stream",
     "text": [
      "🧩 Processing slides:  90%|█████████ | 377/417 [2:00:33<3:09:07, 283.69s/slide]"
     ]
    },
    {
     "name": "stdout",
     "output_type": "stream",
     "text": [
      "  ✅ Done: Processed 4722 new patches (total: 4722) for TCGA-G4-6294_nonMSIH\n"
     ]
    },
    {
     "name": "stderr",
     "output_type": "stream",
     "text": [
      "🧩 Processing slides:  91%|█████████ | 378/417 [2:05:36<3:08:06, 289.39s/slide]"
     ]
    },
    {
     "name": "stdout",
     "output_type": "stream",
     "text": [
      "  ✅ Done: Processed 3726 new patches (total: 3726) for TCGA-G4-6295_nonMSIH\n"
     ]
    },
    {
     "name": "stderr",
     "output_type": "stream",
     "text": [
      "🧩 Processing slides:  91%|█████████ | 379/417 [2:12:34<3:27:43, 327.99s/slide]"
     ]
    },
    {
     "name": "stdout",
     "output_type": "stream",
     "text": [
      "  ✅ Done: Processed 5139 new patches (total: 5139) for TCGA-G4-6297_nonMSIH\n"
     ]
    },
    {
     "name": "stderr",
     "output_type": "stream",
     "text": [
      "🧩 Processing slides:  91%|█████████ | 380/417 [2:20:51<3:53:27, 378.57s/slide]"
     ]
    },
    {
     "name": "stdout",
     "output_type": "stream",
     "text": [
      "  ✅ Done: Processed 6051 new patches (total: 6051) for TCGA-G4-6298_nonMSIH\n"
     ]
    },
    {
     "name": "stderr",
     "output_type": "stream",
     "text": [
      "🧩 Processing slides:  91%|█████████▏| 381/417 [2:27:05<3:46:27, 377.42s/slide]"
     ]
    },
    {
     "name": "stdout",
     "output_type": "stream",
     "text": [
      "  ✅ Done: Processed 4570 new patches (total: 4570) for TCGA-G4-6299_nonMSIH\n"
     ]
    },
    {
     "name": "stderr",
     "output_type": "stream",
     "text": [
      "🧩 Processing slides:  92%|█████████▏| 382/417 [2:31:08<3:16:35, 337.02s/slide]"
     ]
    },
    {
     "name": "stdout",
     "output_type": "stream",
     "text": [
      "  ✅ Done: Processed 3046 new patches (total: 3046) for TCGA-G4-6302_MSIH\n"
     ]
    },
    {
     "name": "stderr",
     "output_type": "stream",
     "text": [
      "🧩 Processing slides:  92%|█████████▏| 383/417 [2:34:39<2:49:33, 299.21s/slide]"
     ]
    },
    {
     "name": "stdout",
     "output_type": "stream",
     "text": [
      "  ✅ Done: Processed 2575 new patches (total: 2575) for TCGA-G4-6303_nonMSIH\n"
     ]
    },
    {
     "name": "stderr",
     "output_type": "stream",
     "text": [
      "🧩 Processing slides:  92%|█████████▏| 384/417 [2:43:00<3:17:50, 359.73s/slide]"
     ]
    },
    {
     "name": "stdout",
     "output_type": "stream",
     "text": [
      "  ✅ Done: Processed 6078 new patches (total: 6078) for TCGA-G4-6304_MSIH\n"
     ]
    },
    {
     "name": "stderr",
     "output_type": "stream",
     "text": [
      "🧩 Processing slides:  92%|█████████▏| 385/417 [2:47:53<3:01:08, 339.65s/slide]"
     ]
    },
    {
     "name": "stdout",
     "output_type": "stream",
     "text": [
      "  ✅ Done: Processed 3570 new patches (total: 3570) for TCGA-G4-6306_nonMSIH\n"
     ]
    },
    {
     "name": "stderr",
     "output_type": "stream",
     "text": [
      "🧩 Processing slides:  93%|█████████▎| 386/417 [2:53:04<2:51:04, 331.11s/slide]"
     ]
    },
    {
     "name": "stdout",
     "output_type": "stream",
     "text": [
      "  ✅ Done: Processed 3781 new patches (total: 3781) for TCGA-G4-6307_nonMSIH\n"
     ]
    },
    {
     "name": "stderr",
     "output_type": "stream",
     "text": [
      "🧩 Processing slides:  93%|█████████▎| 387/417 [2:58:07<2:41:20, 322.67s/slide]"
     ]
    },
    {
     "name": "stdout",
     "output_type": "stream",
     "text": [
      "  ✅ Done: Processed 3701 new patches (total: 3701) for TCGA-G4-6309_MSIH\n"
     ]
    },
    {
     "name": "stderr",
     "output_type": "stream",
     "text": [
      "🧩 Processing slides:  93%|█████████▎| 388/417 [3:02:35<2:28:05, 306.40s/slide]"
     ]
    },
    {
     "name": "stdout",
     "output_type": "stream",
     "text": [
      "  ✅ Done: Processed 3294 new patches (total: 3294) for TCGA-G4-6311_nonMSIH\n"
     ]
    },
    {
     "name": "stderr",
     "output_type": "stream",
     "text": [
      "🧩 Processing slides:  93%|█████████▎| 389/417 [3:08:42<2:31:24, 324.44s/slide]"
     ]
    },
    {
     "name": "stdout",
     "output_type": "stream",
     "text": [
      "  ✅ Done: Processed 4405 new patches (total: 4405) for TCGA-G4-6315_nonMSIH\n"
     ]
    },
    {
     "name": "stderr",
     "output_type": "stream",
     "text": [
      "🧩 Processing slides:  94%|█████████▎| 390/417 [3:13:41<2:22:31, 316.71s/slide]"
     ]
    },
    {
     "name": "stdout",
     "output_type": "stream",
     "text": [
      "  ✅ Done: Processed 3555 new patches (total: 3555) for TCGA-G4-6317_nonMSIH\n"
     ]
    },
    {
     "name": "stderr",
     "output_type": "stream",
     "text": [
      "🧩 Processing slides:  94%|█████████▍| 391/417 [3:17:55<2:09:09, 298.06s/slide]"
     ]
    },
    {
     "name": "stdout",
     "output_type": "stream",
     "text": [
      "  ✅ Done: Processed 2886 new patches (total: 2886) for TCGA-G4-6320_MSIH\n"
     ]
    },
    {
     "name": "stderr",
     "output_type": "stream",
     "text": [
      "🧩 Processing slides:  94%|█████████▍| 392/417 [3:22:16<1:59:33, 286.93s/slide]"
     ]
    },
    {
     "name": "stdout",
     "output_type": "stream",
     "text": [
      "  ✅ Done: Processed 2814 new patches (total: 2814) for TCGA-G4-6321_nonMSIH\n"
     ]
    },
    {
     "name": "stderr",
     "output_type": "stream",
     "text": [
      "🧩 Processing slides:  94%|█████████▍| 393/417 [3:34:39<2:49:30, 423.75s/slide]"
     ]
    },
    {
     "name": "stdout",
     "output_type": "stream",
     "text": [
      "  ✅ Done: Processed 4860 new patches (total: 4860) for TCGA-G4-6322_nonMSIH\n"
     ]
    },
    {
     "name": "stderr",
     "output_type": "stream",
     "text": [
      "🧩 Processing slides:  94%|█████████▍| 394/417 [3:42:29<2:47:40, 437.43s/slide]"
     ]
    },
    {
     "name": "stdout",
     "output_type": "stream",
     "text": [
      "  ✅ Done: Processed 2648 new patches (total: 2648) for TCGA-G4-6323_nonMSIH\n"
     ]
    },
    {
     "name": "stderr",
     "output_type": "stream",
     "text": [
      "🧩 Processing slides:  95%|█████████▍| 395/417 [3:54:07<3:09:03, 515.61s/slide]"
     ]
    },
    {
     "name": "stdout",
     "output_type": "stream",
     "text": [
      "  ✅ Done: Processed 3761 new patches (total: 3761) for TCGA-G4-6586_MSIH\n"
     ]
    },
    {
     "name": "stderr",
     "output_type": "stream",
     "text": [
      "🧩 Processing slides:  95%|█████████▍| 396/417 [4:02:28<2:59:01, 511.50s/slide]"
     ]
    },
    {
     "name": "stdout",
     "output_type": "stream",
     "text": [
      "  ✅ Done: Processed 4272 new patches (total: 4272) for TCGA-G4-6588_MSIH\n"
     ]
    },
    {
     "name": "stderr",
     "output_type": "stream",
     "text": [
      "🧩 Processing slides:  95%|█████████▌| 397/417 [4:09:39<2:42:23, 487.17s/slide]"
     ]
    },
    {
     "name": "stdout",
     "output_type": "stream",
     "text": [
      "  ✅ Done: Processed 3020 new patches (total: 3020) for TCGA-G4-6626_nonMSIH\n"
     ]
    },
    {
     "name": "stderr",
     "output_type": "stream",
     "text": [
      "🧩 Processing slides:  95%|█████████▌| 398/417 [4:29:42<3:42:18, 702.03s/slide]"
     ]
    },
    {
     "name": "stdout",
     "output_type": "stream",
     "text": [
      "  ✅ Done: Processed 4823 new patches (total: 4823) for TCGA-G4-6627_nonMSIH\n"
     ]
    },
    {
     "name": "stderr",
     "output_type": "stream",
     "text": [
      "🧩 Processing slides:  96%|█████████▌| 399/417 [4:52:37<4:31:10, 903.89s/slide]"
     ]
    },
    {
     "name": "stdout",
     "output_type": "stream",
     "text": [
      "  ✅ Done: Processed 4592 new patches (total: 4592) for TCGA-G4-6628_MSIH\n"
     ]
    },
    {
     "name": "stderr",
     "output_type": "stream",
     "text": [
      "🧩 Processing slides:  96%|█████████▌| 400/417 [5:04:32<4:00:00, 847.08s/slide]"
     ]
    },
    {
     "name": "stdout",
     "output_type": "stream",
     "text": [
      "  ✅ Done: Processed 2376 new patches (total: 2376) for TCGA-G5-6641_nonMSIH\n"
     ]
    },
    {
     "name": "stderr",
     "output_type": "stream",
     "text": [
      "🧩 Processing slides:  96%|█████████▌| 401/417 [5:17:43<3:41:25, 830.33s/slide]"
     ]
    },
    {
     "name": "stdout",
     "output_type": "stream",
     "text": [
      "  ✅ Done: Processed 4445 new patches (total: 4445) for TCGA-NH-A50T_nonMSIH\n"
     ]
    },
    {
     "name": "stderr",
     "output_type": "stream",
     "text": [
      "🧩 Processing slides:  96%|█████████▋| 402/417 [5:26:29<3:04:46, 739.11s/slide]"
     ]
    },
    {
     "name": "stdout",
     "output_type": "stream",
     "text": [
      "  ✅ Done: Processed 3411 new patches (total: 3411) for TCGA-NH-A50U_nonMSIH\n"
     ]
    },
    {
     "name": "stderr",
     "output_type": "stream",
     "text": [
      "🧩 Processing slides:  97%|█████████▋| 403/417 [5:36:39<2:43:24, 700.30s/slide]"
     ]
    },
    {
     "name": "stdout",
     "output_type": "stream",
     "text": [
      "  ✅ Done: Processed 4077 new patches (total: 4077) for TCGA-NH-A50V_nonMSIH\n"
     ]
    },
    {
     "name": "stderr",
     "output_type": "stream",
     "text": [
      "🧩 Processing slides:  97%|█████████▋| 404/417 [5:48:29<2:32:23, 703.31s/slide]"
     ]
    },
    {
     "name": "stdout",
     "output_type": "stream",
     "text": [
      "  ✅ Done: Processed 4738 new patches (total: 4738) for TCGA-NH-A5IV_MSIH\n"
     ]
    },
    {
     "name": "stderr",
     "output_type": "stream",
     "text": [
      "🧩 Processing slides:  97%|█████████▋| 405/417 [5:55:39<2:04:16, 621.33s/slide]"
     ]
    },
    {
     "name": "stdout",
     "output_type": "stream",
     "text": [
      "  ✅ Done: Processed 2918 new patches (total: 2918) for TCGA-NH-A6GA_nonMSIH\n"
     ]
    },
    {
     "name": "stderr",
     "output_type": "stream",
     "text": [
      "🧩 Processing slides:  97%|█████████▋| 406/417 [6:08:42<2:02:47, 669.77s/slide]"
     ]
    },
    {
     "name": "stdout",
     "output_type": "stream",
     "text": [
      "  ✅ Done: Processed 5249 new patches (total: 5249) for TCGA-NH-A6GB_nonMSIH\n"
     ]
    },
    {
     "name": "stderr",
     "output_type": "stream",
     "text": [
      "🧩 Processing slides:  98%|█████████▊| 407/417 [6:18:46<1:48:19, 650.00s/slide]"
     ]
    },
    {
     "name": "stdout",
     "output_type": "stream",
     "text": [
      "  ✅ Done: Processed 4013 new patches (total: 4013) for TCGA-NH-A6GC_nonMSIH\n"
     ]
    },
    {
     "name": "stderr",
     "output_type": "stream",
     "text": [
      "🧩 Processing slides:  98%|█████████▊| 408/417 [6:29:15<1:36:32, 643.59s/slide]"
     ]
    },
    {
     "name": "stdout",
     "output_type": "stream",
     "text": [
      "  ✅ Done: Processed 4086 new patches (total: 4086) for TCGA-NH-A8F8_nonMSIH\n"
     ]
    },
    {
     "name": "stderr",
     "output_type": "stream",
     "text": [
      "🧩 Processing slides:  98%|█████████▊| 409/417 [6:41:38<1:29:47, 673.45s/slide]"
     ]
    },
    {
     "name": "stdout",
     "output_type": "stream",
     "text": [
      "  ✅ Done: Processed 4699 new patches (total: 4699) for TCGA-QG-A5YV_nonMSIH\n"
     ]
    },
    {
     "name": "stderr",
     "output_type": "stream",
     "text": [
      "🧩 Processing slides:  98%|█████████▊| 410/417 [6:53:05<1:19:03, 677.63s/slide]"
     ]
    },
    {
     "name": "stdout",
     "output_type": "stream",
     "text": [
      "  ✅ Done: Processed 3628 new patches (total: 3628) for TCGA-QG-A5YW_nonMSIH\n"
     ]
    },
    {
     "name": "stderr",
     "output_type": "stream",
     "text": [
      "🧩 Processing slides:  99%|█████████▊| 411/417 [7:09:36<1:17:08, 771.48s/slide]"
     ]
    },
    {
     "name": "stdout",
     "output_type": "stream",
     "text": [
      "  ✅ Done: Processed 3727 new patches (total: 3727) for TCGA-QG-A5YX_nonMSIH\n"
     ]
    },
    {
     "name": "stderr",
     "output_type": "stream",
     "text": [
      "🧩 Processing slides:  99%|█████████▉| 412/417 [7:29:14<1:14:27, 893.51s/slide]"
     ]
    },
    {
     "name": "stdout",
     "output_type": "stream",
     "text": [
      "  ✅ Done: Processed 4144 new patches (total: 4144) for TCGA-QG-A5Z1_nonMSIH\n"
     ]
    },
    {
     "name": "stderr",
     "output_type": "stream",
     "text": [
      "🧩 Processing slides:  99%|█████████▉| 413/417 [7:46:20<1:02:13, 933.29s/slide]"
     ]
    },
    {
     "name": "stdout",
     "output_type": "stream",
     "text": [
      "  ✅ Done: Processed 4849 new patches (total: 4849) for TCGA-QG-A5Z2_MSIH\n"
     ]
    },
    {
     "name": "stderr",
     "output_type": "stream",
     "text": [
      "🧩 Processing slides:  99%|█████████▉| 414/417 [7:56:37<41:54, 838.30s/slide]  "
     ]
    },
    {
     "name": "stdout",
     "output_type": "stream",
     "text": [
      "  ✅ Done: Processed 4126 new patches (total: 4126) for TCGA-QL-A97D_nonMSIH\n"
     ]
    },
    {
     "name": "stderr",
     "output_type": "stream",
     "text": [
      "🧩 Processing slides: 100%|█████████▉| 415/417 [8:10:56<28:09, 844.60s/slide]"
     ]
    },
    {
     "name": "stdout",
     "output_type": "stream",
     "text": [
      "  ✅ Done: Processed 5746 new patches (total: 5746) for TCGA-SS-A7HO_nonMSIH\n"
     ]
    },
    {
     "name": "stderr",
     "output_type": "stream",
     "text": [
      "🧩 Processing slides: 100%|█████████▉| 416/417 [8:24:30<13:55, 835.42s/slide]"
     ]
    },
    {
     "name": "stdout",
     "output_type": "stream",
     "text": [
      "  ✅ Done: Processed 5462 new patches (total: 5462) for TCGA-T9-A92H_nonMSIH\n"
     ]
    },
    {
     "name": "stderr",
     "output_type": "stream",
     "text": [
      "🧩 Processing slides: 100%|██████████| 417/417 [8:36:33<00:00, 74.32s/slide] \n"
     ]
    },
    {
     "name": "stdout",
     "output_type": "stream",
     "text": [
      "  ✅ Done: Processed 4532 new patches (total: 4532) for TCGA-WS-AB45_MSIH\n"
     ]
    }
   ],
   "source": [
    "extractor = UNI2ExtractorFiveCrop()\n",
    "\n",
    "run_full_pipeline_uni2_fivecrop(\n",
    "    patch_data_dir=r\"D:\\Aamir Gulzar\\KSA_project2\\dataset\\patch_data\",\n",
    "    extractor=extractor,\n",
    "    non_white_csv=r\"D:\\Aamir Gulzar\\KSA_project2\\dataset\\final_merged_without_white.csv\",\n",
    "    output_root=r\"D:\\Aamir Gulzar\\KSA_project2\\dataset\\Features\\Uni_2h_fivecrop_Updated\"\n",
    ")"
   ]
  },
  {
   "cell_type": "markdown",
   "id": "2d3d1391",
   "metadata": {},
   "source": [
    "## Check .pt file"
   ]
  },
  {
   "cell_type": "code",
   "execution_count": 5,
   "id": "6d45db45",
   "metadata": {},
   "outputs": [
    {
     "name": "stdout",
     "output_type": "stream",
     "text": [
      "torch.Size([5, 1536])\n",
      "4 7680 30.0 KB\n"
     ]
    }
   ],
   "source": [
    "import torch\n",
    "f = torch.load(r\"D:\\Aamir Gulzar\\KSA_project2\\dataset\\Features\\Uni_2h_fivecrop_Updated\\TCGA-3L-AA1B_nonMSIH\\TCGA-3L-AA1B_nonMSIH_x10288_y12512_patch00159.pt\")\n",
    "print(f.shape)       # Should be torch.Size([5, 1536])\n",
    "print(f.element_size(), f.numel(), f.element_size() * f.numel() / 1024, \"KB\")"
   ]
  },
  {
   "cell_type": "code",
   "execution_count": 7,
   "id": "eaf94410",
   "metadata": {},
   "outputs": [
    {
     "name": "stdout",
     "output_type": "stream",
     "text": [
      "Inspecting PT file: D:\\Aamir Gulzar\\KSA_project2\\dataset\\Features\\Uni_2h_fivecrop_Updated\\TCGA-3L-AA1B_nonMSIH\\TCGA-3L-AA1B_nonMSIH_x10288_y12512_patch00159.pt\n",
      "==================================================\n",
      "Single Tensor:\n",
      "  Shape: (5, 1536)\n",
      "  Dtype: torch.float32\n",
      "  First 10 values in each of the 5 rows:\n",
      "    Row 1: [-0.04799284413456917, -0.25558799505233765, 0.26900842785835266, -0.5940723419189453, -0.6035252213478088, 0.16037911176681519, 0.3446435332298279, 0.3134009838104248, -0.13428805768489838, -0.3708030581474304]\n",
      "    Row 2: [-0.06264611333608627, 0.14632725715637207, 0.13261474668979645, -0.46976330876350403, -0.5787501335144043, 0.6793582439422607, 0.3106735050678253, 0.13066841661930084, -0.413820743560791, -0.31830263137817383]\n",
      "    Row 3: [0.20704224705696106, 0.0770830437541008, -0.3512730598449707, -0.5216561555862427, -0.607268214225769, 0.384053111076355, 0.4551374912261963, 0.3418516516685486, 0.012581361457705498, -0.3256070911884308]\n",
      "    Row 4: [-0.03736783564090729, 0.3507113456726074, 0.06264858692884445, -0.49302345514297485, -0.7713584899902344, 0.39650723338127136, 0.5416532754898071, 0.2910873293876648, -0.2143663913011551, -0.36188775300979614]\n",
      "    Row 5: [-0.012868625111877918, 0.05376710370182991, -0.08060794323682785, -0.48584896326065063, -0.7055076360702515, 0.42174699902534485, 0.24910126626491547, -0.0007556375931017101, -0.21803776919841766, -0.32111504673957825]\n"
     ]
    }
   ],
   "source": [
    "import torch\n",
    "\n",
    "def inspect_pt_file(pt_path):\n",
    "    \"\"\"Inspect the contents of a PyTorch .pt file\"\"\"\n",
    "    print(f\"Inspecting PT file: {pt_path}\")\n",
    "    print(\"=\" * 50)\n",
    "\n",
    "    data = torch.load(pt_path, map_location='cpu')\n",
    "\n",
    "    if isinstance(data, dict):\n",
    "        for key, value in data.items():\n",
    "            print(f\"Key: {key}\")\n",
    "            if isinstance(value, torch.Tensor):\n",
    "                print(f\"  Type: Tensor\")\n",
    "                print(f\"  Shape: {tuple(value.shape)}\")\n",
    "                print(f\"  Dtype: {value.dtype}\")\n",
    "                print(\"  First 10 values in each of the 5 rows:\")\n",
    "                for i in range(min(5, value.shape[0])):  # Only first 5 rows\n",
    "                    row_values = value[i][:10].tolist()\n",
    "                    print(f\"    Row {i+1}: {row_values}\")\n",
    "            else:\n",
    "                print(f\"  Type: {type(value)}\")\n",
    "                print(f\"  Value: {value}\")\n",
    "            print()\n",
    "    elif isinstance(data, torch.Tensor):\n",
    "        print(f\"Single Tensor:\")\n",
    "        print(f\"  Shape: {tuple(data.shape)}\")\n",
    "        print(f\"  Dtype: {data.dtype}\")\n",
    "        print(\"  First 10 values in each of the 5 rows:\")\n",
    "        for i in range(min(5, data.shape[0])):\n",
    "            row_values = data[i][:10].tolist()\n",
    "            print(f\"    Row {i+1}: {row_values}\")\n",
    "    else:\n",
    "        print(\"The .pt file is not a dictionary or tensor. Type:\", type(data))\n",
    "        print(\"Value preview:\", str(data)[:1500])  # Print partial value\n",
    "\n",
    "# Example usage\n",
    "pt_path = r\"D:\\Aamir Gulzar\\KSA_project2\\dataset\\Features\\Uni_2h_fivecrop_Updated\\TCGA-3L-AA1B_nonMSIH\\TCGA-3L-AA1B_nonMSIH_x10288_y12512_patch00159.pt\"\n",
    "inspect_pt_file(pt_path)\n"
   ]
  },
  {
   "cell_type": "code",
   "execution_count": 8,
   "id": "36ba3d49",
   "metadata": {},
   "outputs": [
    {
     "name": "stdout",
     "output_type": "stream",
     "text": [
      "Running sanity checks...\n",
      "\n",
      "[✅] Shape OK: (5, 1536)\n",
      "[✅] Dtype OK: torch.float32\n",
      "[✅] No NaN or Inf values\n",
      "[ℹ️] Value range: min=-1.1811, max=1.1903\n",
      "[ℹ️] L2 Norms (per row): [11.946415901184082, 13.388145446777344, 13.688057899475098, 14.105144500732422, 12.71574592590332]\n",
      "[✅] All rows have non-zero magnitude\n",
      "[ℹ️] Row-wise std dev: [0.3049180805683136, 0.34171488881111145, 0.3493548035621643, 0.3600170314311981, 0.324552446603775]\n",
      "\n",
      "Sanity check completed.\n"
     ]
    }
   ],
   "source": [
    "import torch\n",
    "import os\n",
    "\n",
    "def run_sanity_checks(tensor: torch.Tensor):\n",
    "    print(\"Running sanity checks...\\n\")\n",
    "\n",
    "    # 1. Shape\n",
    "    if tensor.shape != (5, 1536):\n",
    "        print(f\"[❌] Shape mismatch: Expected (5, 1536), got {tuple(tensor.shape)}\")\n",
    "    else:\n",
    "        print(f\"[✅] Shape OK: {tuple(tensor.shape)}\")\n",
    "\n",
    "    # 2. Dtype\n",
    "    if tensor.dtype not in [torch.float32, torch.float16]:\n",
    "        print(f\"[❌] Unexpected dtype: {tensor.dtype}\")\n",
    "    else:\n",
    "        print(f\"[✅] Dtype OK: {tensor.dtype}\")\n",
    "\n",
    "    # 3. NaN or Inf\n",
    "    if not torch.isfinite(tensor).all():\n",
    "        nan_count = torch.isnan(tensor).sum().item()\n",
    "        inf_count = torch.isinf(tensor).sum().item()\n",
    "        print(f\"[❌] Invalid values found — NaNs: {nan_count}, Infs: {inf_count}\")\n",
    "    else:\n",
    "        print(f\"[✅] No NaN or Inf values\")\n",
    "\n",
    "    # 4. Value range\n",
    "    min_val = tensor.min().item()\n",
    "    max_val = tensor.max().item()\n",
    "    print(f\"[ℹ️] Value range: min={min_val:.4f}, max={max_val:.4f}\")\n",
    "    if abs(min_val) > 1e6 or abs(max_val) > 1e6:\n",
    "        print(\"[⚠️] Warning: Value range is unusually large.\")\n",
    "\n",
    "    # 5. L2 norm (per row)\n",
    "    norms = tensor.norm(p=2, dim=1)\n",
    "    print(f\"[ℹ️] L2 Norms (per row): {norms.tolist()}\")\n",
    "    if (norms == 0).any():\n",
    "        print(\"[❌] Zero vector detected (row with all zeros)\")\n",
    "    else:\n",
    "        print(\"[✅] All rows have non-zero magnitude\")\n",
    "\n",
    "    # 6. Row consistency (std across rows)\n",
    "    row_std = torch.std(tensor, dim=1)\n",
    "    print(f\"[ℹ️] Row-wise std dev: {row_std.tolist()}\")\n",
    "    if (row_std == 0).any():\n",
    "        print(\"[⚠️] Warning: At least one row is constant (no variance)\")\n",
    "\n",
    "    print(\"\\nSanity check completed.\")\n",
    "\n",
    "# Example usage\n",
    "pt_path = r\"D:\\Aamir Gulzar\\KSA_project2\\dataset\\Features\\Uni_2h_fivecrop_Updated\\TCGA-3L-AA1B_nonMSIH\\TCGA-3L-AA1B_nonMSIH_x10288_y12512_patch00159.pt\"\n",
    "data = torch.load(pt_path, map_location='cpu')\n",
    "\n",
    "# If it's a dict with a tensor inside\n",
    "if isinstance(data, dict):\n",
    "    for key in data:\n",
    "        if isinstance(data[key], torch.Tensor) and data[key].shape == (5, 1536):\n",
    "            run_sanity_checks(data[key])\n",
    "            break\n",
    "else:\n",
    "    run_sanity_checks(data)\n"
   ]
  },
  {
   "cell_type": "code",
   "execution_count": null,
   "id": "af8522ad",
   "metadata": {},
   "outputs": [],
   "source": []
  }
 ],
 "metadata": {
  "kernelspec": {
   "display_name": "TITAN_ENV",
   "language": "python",
   "name": "python3"
  },
  "language_info": {
   "codemirror_mode": {
    "name": "ipython",
    "version": 3
   },
   "file_extension": ".py",
   "mimetype": "text/x-python",
   "name": "python",
   "nbconvert_exporter": "python",
   "pygments_lexer": "ipython3",
   "version": "3.11.13"
  }
 },
 "nbformat": 4,
 "nbformat_minor": 5
}
