{
 "cells": [
  {
   "cell_type": "code",
   "execution_count": 1,
   "id": "9994a84c-2dab-4300-9a5e-2071a90d9ddd",
   "metadata": {},
   "outputs": [
    {
     "name": "stdout",
     "output_type": "stream",
     "text": [
      "d:\\Aamir Gulzar\\KSA_project2\\Cancer-detection-classifier\\feature_extraction\n"
     ]
    }
   ],
   "source": [
    "import os\n",
    "print(os.getcwd())"
   ]
  },
  {
   "cell_type": "markdown",
   "id": "f74779f6",
   "metadata": {},
   "source": [
    "## Alternative method using donwsampled PNG by PNG for feature extraction"
   ]
  },
  {
   "cell_type": "markdown",
   "id": "dc7d99ed",
   "metadata": {},
   "source": [
    "### Feature extraction with fivecrop function"
   ]
  },
  {
   "cell_type": "code",
   "execution_count": null,
   "id": "7cb4c527",
   "metadata": {},
   "outputs": [],
   "source": [
    "from huggingface_hub import login\n",
    "from transformers import AutoModel\n",
    "from PIL import Image\n",
    "import torch\n",
    "import numpy as np\n",
    "from torchvision import transforms\n",
    "from typing import Union, List\n",
    "import os\n",
    "\n",
    "class ConchFeatureExtractorFiveCrop:\n",
    "    def __init__(self, token: str = \"\"):\n",
    "        login(token=token)\n",
    "        self.model = AutoModel.from_pretrained(\"MahmoodLab/TITAN\", trust_remote_code=True)\n",
    "        self.conch, self.eval_transform = self.model.return_conch()\n",
    "\n",
    "        # Add FiveCrop wrapper\n",
    "        self.fivecrop_transform = transforms.Compose([\n",
    "            transforms.FiveCrop(256),  # yields tuple of 5 images\n",
    "            transforms.Lambda(lambda crops: torch.stack([self.eval_transform(c) for c in crops]))\n",
    "        ])\n",
    "\n",
    "        self.device = torch.device(\"cuda\" if torch.cuda.is_available() else \"cpu\")\n",
    "        self.conch.to(self.device)\n",
    "        self.conch.eval()\n",
    "\n",
    "    def extract_fivecrop_features(self, image: Union[str, Image.Image]) -> torch.Tensor:\n",
    "        \"\"\"\n",
    "        Extract 5xD features from a single image using FiveCrop.\n",
    "        Returns a tensor of shape (5, D).\n",
    "        \"\"\"\n",
    "        if isinstance(image, str):\n",
    "            if not os.path.exists(image):\n",
    "                raise FileNotFoundError(f\"Image not found: {image}\")\n",
    "            image = Image.open(image).convert(\"RGB\")\n",
    "        elif isinstance(image, Image.Image):\n",
    "            image = image.convert(\"RGB\")\n",
    "        else:\n",
    "            raise ValueError(f\"Unsupported image type: {type(image)}\")\n",
    "\n",
    "        crops_tensor = self.fivecrop_transform(image)  # shape: (5, C, H, W)\n",
    "        crops_tensor = crops_tensor.to(self.device)\n",
    "\n",
    "        with torch.no_grad():\n",
    "            features = self.conch(crops_tensor)  # shape: (5, D)\n",
    "\n",
    "        return features.cpu()  # return to CPU for saving\n",
    "\n",
    "    # def extract_fivecrop_features(self, image_paths: List[str], batch_size: int = 32) -> torch.Tensor:\n",
    "    #     \"\"\"\n",
    "    #     Batch inference over multiple images using FiveCrop. Much faster.\n",
    "    #     \"\"\"\n",
    "    #     all_features = []\n",
    "    #     for i in range(0, len(image_paths), batch_size):\n",
    "    #         batch_paths = image_paths[i:i+batch_size]\n",
    "    #         batch_images = []\n",
    "\n",
    "    #         for path in batch_paths:\n",
    "    #             img = Image.open(path).convert(\"RGB\")\n",
    "    #             crops = self.fivecrop_transform(img)  # shape: (5, C, H, W)\n",
    "    #             batch_images.append(crops)\n",
    "\n",
    "    #         # Shape: (B, 5, C, H, W) → (B*5, C, H, W)\n",
    "    #         batch_tensor = torch.stack(batch_images).to(self.device)  # (B, 5, C, H, W)\n",
    "    #         B, N_CROPS, C, H, W = batch_tensor.shape\n",
    "    #         batch_tensor = batch_tensor.view(B * N_CROPS, C, H, W)\n",
    "\n",
    "    #         with torch.no_grad():\n",
    "    #             features = self.conch(batch_tensor)  # shape: (B * 5, D)\n",
    "\n",
    "    #         # Reshape back to (B, 5, D)\n",
    "    #         features = features.view(B, N_CROPS, -1).cpu()\n",
    "    #         all_features.append(features)\n",
    "\n",
    "    #     return torch.cat(all_features, dim=0)  # shape: (N, 5, D)\n",
    "\n",
    "    # def extract_fivecrop_features(self, image_paths: List[str]) -> torch.Tensor:\n",
    "    #     \"\"\"\n",
    "    #     Efficient batch inference with FiveCrop.\n",
    "    #     Returns shape: (B, 5, D)\n",
    "    #     \"\"\"\n",
    "    #     images = []\n",
    "    #     for path in image_paths:\n",
    "    #         img = Image.open(path).convert(\"RGB\")\n",
    "    #         crops = transforms.FiveCrop(224)(img)\n",
    "    #         crops = [self.eval_transform(c) for c in crops]  # (5, C, H, W)\n",
    "    #         images.extend(crops)  # Flatten all crops directly\n",
    "\n",
    "    #     # Now images: (B * 5, C, H, W)\n",
    "    #     batch_tensor = torch.stack(images).to(self.device)  # shape: (B*5, C, H, W)\n",
    "\n",
    "    #     with torch.no_grad():\n",
    "    #         features = self.conch(batch_tensor).view(len(image_paths), 5, -1)  # (B, 5, D)\n",
    "\n",
    "    #     return features.cpu().half()  # Reduce precision for size\n",
    "\n",
    "\n",
    "\n",
    "    # def extract_fivecrop_features(self, image: Union[str, Image.Image]) -> torch.Tensor:\n",
    "    #     \"\"\"\n",
    "    #     Extract 5xD features using efficient batched inference.\n",
    "    #     Returns a tensor of shape (5, D).\n",
    "    #     \"\"\"\n",
    "    #     import time\n",
    "    #     start_total = time.perf_counter()\n",
    "\n",
    "    #     if isinstance(image, str):\n",
    "    #         if not os.path.exists(image):\n",
    "    #             raise FileNotFoundError(f\"Image not found: {image}\")\n",
    "    #         image = Image.open(image).convert(\"RGB\")\n",
    "    #     elif isinstance(image, Image.Image):\n",
    "    #         image = image.convert(\"RGB\")\n",
    "    #     else:\n",
    "    #         raise ValueError(f\"Unsupported image type: {type(image)}\")\n",
    "\n",
    "    #     # FiveCrop\n",
    "    #     t1 = time.perf_counter()\n",
    "    #     crops = transforms.FiveCrop(224)(image)\n",
    "    #     transformed_crops = [self.eval_transform(c) for c in crops]  # list of tensors\n",
    "    #     t2 = time.perf_counter()\n",
    "    #     print(f\"⏱️ FiveCrop + Transform time: {t2 - t1:.4f} sec\")\n",
    "\n",
    "    #     # Efficient batch inference\n",
    "    #     t1 = time.perf_counter()\n",
    "    #     input_tensor = torch.stack(transformed_crops).to(self.device)  # (5, C, H, W)\n",
    "    #     with torch.no_grad():\n",
    "    #         features = self.conch(input_tensor)  # (5, D)\n",
    "    #     t2 = time.perf_counter()\n",
    "    #     print(f\"⏱️ Inference time (batched): {t2 - t1:.4f} sec\")\n",
    "\n",
    "    #     print(f\"✅ Total time: {time.perf_counter() - start_total:.4f} sec\\n\")\n",
    "    #     return features.cpu().half()\n",
    "\n",
    "\n",
    "    # def extract_fivecrop_features(self, image: Union[str, Image.Image]) -> torch.Tensor:\n",
    "    #     \"\"\"\n",
    "    #     Extract 5xD features using FiveCrop in parallel using CUDA streams.\n",
    "    #     Returns a tensor of shape (5, D), and prints time breakdown.\n",
    "    #     \"\"\"\n",
    "    #     start_total = time.perf_counter()\n",
    "\n",
    "    #     # === Load Image ===\n",
    "    #     start = time.perf_counter()\n",
    "    #     if isinstance(image, str):\n",
    "    #         if not os.path.exists(image):\n",
    "    #             raise FileNotFoundError(f\"Image not found: {image}\")\n",
    "    #         image = Image.open(image).convert(\"RGB\")\n",
    "    #     elif isinstance(image, Image.Image):\n",
    "    #         image = image.convert(\"RGB\")\n",
    "    #     else:\n",
    "    #         raise ValueError(f\"Unsupported image type: {type(image)}\")\n",
    "    #     end = time.perf_counter()\n",
    "    #     print(f\"⏱️ Image load time: {end - start:.4f} sec\")\n",
    "\n",
    "    #     # === FiveCrop ===\n",
    "    #     start = time.perf_counter()\n",
    "    #     crops = transforms.FiveCrop(224)(image)\n",
    "    #     end = time.perf_counter()\n",
    "    #     print(f\"⏱️ FiveCrop time: {end - start:.4f} sec\")\n",
    "\n",
    "    #     # === Transform each crop ===\n",
    "    #     start = time.perf_counter()\n",
    "    #     transformed_crops = [self.eval_transform(c) for c in crops]\n",
    "    #     end = time.perf_counter()\n",
    "    #     print(f\"⏱️ Transform time: {end - start:.4f} sec\")\n",
    "\n",
    "    #     # === Parallel CUDA inference ===\n",
    "    #     def run_inference(crop_tensor, stream):\n",
    "    #         with torch.cuda.stream(stream):\n",
    "    #             input_tensor = crop_tensor.unsqueeze(0).to(self.device)\n",
    "    #             with torch.no_grad():\n",
    "    #                 output = self.conch(input_tensor)  # shape: (1, D)\n",
    "    #             return output.squeeze(0).cpu()\n",
    "\n",
    "    #     start = time.perf_counter()\n",
    "    #     streams = [torch.cuda.Stream() for _ in range(5)]\n",
    "    #     with ThreadPoolExecutor(max_workers=5) as executor:\n",
    "    #         futures = [\n",
    "    #             executor.submit(run_inference, transformed_crops[i], streams[i])\n",
    "    #             for i in range(5)\n",
    "    #         ]\n",
    "    #         features = [f.result() for f in futures]\n",
    "    #     torch.cuda.synchronize()\n",
    "    #     end = time.perf_counter()\n",
    "    #     print(f\"⏱️ Inference time (parallel): {end - start:.4f} sec\")\n",
    "\n",
    "    #     # === Final stack ===\n",
    "    #     start = time.perf_counter()\n",
    "    #     final_output = torch.stack(features)\n",
    "    #     end = time.perf_counter()\n",
    "    #     print(f\"⏱️ Tensor stack time: {end - start:.4f} sec\")\n",
    "\n",
    "    #     print(f\"✅ Total time for image: {time.perf_counter() - start_total:.4f} sec\\n\")\n",
    "\n",
    "    #     return final_output\n",
    "\n",
    "    \n",
    "    # def extract_features_batch(self, image_paths: List[str], batch_size: int = 32) -> torch.Tensor:\n",
    "    #     \"\"\"\n",
    "    #     Extract FiveCrop features for a batch of image paths.\n",
    "    #     Returns a tensor of shape (N, 5, D), where N is batch size.\n",
    "    #     \"\"\"\n",
    "    #     images = []\n",
    "    #     for path in image_paths:\n",
    "    #         img = Image.open(path).convert(\"RGB\")\n",
    "    #         crops = self.fivecrop_transform(img)  # (5, C, H, W)\n",
    "    #         images.append(crops)  # append 5-crop tensor\n",
    "\n",
    "    #     # Shape: (N, 5, C, H, W)\n",
    "    #     batch_tensor = torch.stack(images).to(self.device)  # shape: (B, 5, C, H, W)\n",
    "    #     B, N_CROPS, C, H, W = batch_tensor.shape\n",
    "    #     batch_tensor = batch_tensor.view(B * N_CROPS, C, H, W)\n",
    "\n",
    "    #     with torch.no_grad():\n",
    "    #         features = self.conch(batch_tensor)  # (B * 5, D)\n",
    "\n",
    "    #     features = features.view(B, N_CROPS, -1)  # (B, 5, D)\n",
    "    #     return features.cpu()"
   ]
  },
  {
   "cell_type": "markdown",
   "id": "46fea0a2",
   "metadata": {},
   "source": [
    "## Test for one folder"
   ]
  },
  {
   "cell_type": "code",
   "execution_count": 3,
   "id": "736bc423",
   "metadata": {},
   "outputs": [
    {
     "name": "stdout",
     "output_type": "stream",
     "text": [
      "Token will not been saved to git credential helper. Pass `add_to_git_credential=True` if you want to set the git credential as well.\n",
      "Token is valid (permission: fineGrained).\n",
      "Your token has been saved to C:\\Users\\datainsight\\.cache\\huggingface\\token\n",
      "Login successful\n",
      "🔍 Found 3272 PNG files in D:\\Aamir Gulzar\\KSA_project2\\dataset\\patch_data\\TCGA-EI-6507_MSIH\n"
     ]
    },
    {
     "name": "stderr",
     "output_type": "stream",
     "text": [
      "Extracting features:  32%|███▏      | 1056/3272 [02:01<04:15,  8.67it/s]\n"
     ]
    },
    {
     "ename": "KeyboardInterrupt",
     "evalue": "",
     "output_type": "error",
     "traceback": [
      "\u001b[31m---------------------------------------------------------------------------\u001b[39m",
      "\u001b[31mKeyboardInterrupt\u001b[39m                         Traceback (most recent call last)",
      "\u001b[36mCell\u001b[39m\u001b[36m \u001b[39m\u001b[32mIn[3]\u001b[39m\u001b[32m, line 44\u001b[39m\n\u001b[32m     41\u001b[39m output_folder = \u001b[33mr\u001b[39m\u001b[33m\"\u001b[39m\u001b[33mD:\u001b[39m\u001b[33m\\\u001b[39m\u001b[33mAamir Gulzar\u001b[39m\u001b[33m\\\u001b[39m\u001b[33mKSA_project2\u001b[39m\u001b[33m\\\u001b[39m\u001b[33mdataset\u001b[39m\u001b[33m\\\u001b[39m\u001b[33mFeatures\u001b[39m\u001b[33m\\\u001b[39m\u001b[33mTest\u001b[39m\u001b[33m\"\u001b[39m  \u001b[38;5;66;03m# 🔁 CHANGE THIS\u001b[39;00m\n\u001b[32m     43\u001b[39m \u001b[38;5;66;03m# Run extraction\u001b[39;00m\n\u001b[32m---> \u001b[39m\u001b[32m44\u001b[39m \u001b[43mextract_features_from_png_folder\u001b[49m\u001b[43m(\u001b[49m\u001b[43mimage_folder\u001b[49m\u001b[43m,\u001b[49m\u001b[43m \u001b[49m\u001b[43moutput_folder\u001b[49m\u001b[43m,\u001b[49m\u001b[43m \u001b[49m\u001b[43mextractor\u001b[49m\u001b[43m)\u001b[49m\n",
      "\u001b[36mCell\u001b[39m\u001b[36m \u001b[39m\u001b[32mIn[3]\u001b[39m\u001b[32m, line 21\u001b[39m, in \u001b[36mextract_features_from_png_folder\u001b[39m\u001b[34m(image_folder, output_folder, extractor)\u001b[39m\n\u001b[32m     19\u001b[39m image_path = os.path.join(image_folder, filename)\n\u001b[32m     20\u001b[39m \u001b[38;5;28;01mtry\u001b[39;00m:\n\u001b[32m---> \u001b[39m\u001b[32m21\u001b[39m     features = \u001b[43mextractor\u001b[49m\u001b[43m.\u001b[49m\u001b[43mextract_fivecrop_features\u001b[49m\u001b[43m(\u001b[49m\u001b[43mimage_path\u001b[49m\u001b[43m)\u001b[49m  \u001b[38;5;66;03m# (5, D)\u001b[39;00m\n\u001b[32m     22\u001b[39m     \u001b[38;5;28;01mif\u001b[39;00m features.shape[\u001b[32m0\u001b[39m] != \u001b[32m5\u001b[39m:\n\u001b[32m     23\u001b[39m         \u001b[38;5;28mprint\u001b[39m(\u001b[33mf\u001b[39m\u001b[33m\"\u001b[39m\u001b[33m⚠️ Skipped \u001b[39m\u001b[38;5;132;01m{\u001b[39;00mfilename\u001b[38;5;132;01m}\u001b[39;00m\u001b[33m: unexpected shape \u001b[39m\u001b[38;5;132;01m{\u001b[39;00mfeatures.shape\u001b[38;5;132;01m}\u001b[39;00m\u001b[33m\"\u001b[39m)\n",
      "\u001b[36mCell\u001b[39m\u001b[36m \u001b[39m\u001b[32mIn[1]\u001b[39m\u001b[32m, line 47\u001b[39m, in \u001b[36mConchFeatureExtractorFiveCrop.extract_fivecrop_features\u001b[39m\u001b[34m(self, image)\u001b[39m\n\u001b[32m     44\u001b[39m \u001b[38;5;28;01mwith\u001b[39;00m torch.no_grad():\n\u001b[32m     45\u001b[39m     features = \u001b[38;5;28mself\u001b[39m.conch(crops_tensor)  \u001b[38;5;66;03m# shape: (5, D)\u001b[39;00m\n\u001b[32m---> \u001b[39m\u001b[32m47\u001b[39m \u001b[38;5;28;01mreturn\u001b[39;00m \u001b[43mfeatures\u001b[49m\u001b[43m.\u001b[49m\u001b[43mcpu\u001b[49m\u001b[43m(\u001b[49m\u001b[43m)\u001b[49m\n",
      "\u001b[31mKeyboardInterrupt\u001b[39m: "
     ]
    }
   ],
   "source": [
    "import os\n",
    "import torch\n",
    "from PIL import Image\n",
    "from tqdm import tqdm\n",
    "\n",
    "# Assuming your ConchFeatureExtractorFiveCrop class is already defined above\n",
    "\n",
    "def extract_features_from_png_folder(\n",
    "    image_folder: str,\n",
    "    output_folder: str,\n",
    "    extractor: ConchFeatureExtractorFiveCrop\n",
    "):\n",
    "    os.makedirs(output_folder, exist_ok=True)\n",
    "\n",
    "    png_files = [f for f in os.listdir(image_folder) if f.lower().endswith('.png')]\n",
    "    print(f\"🔍 Found {len(png_files)} PNG files in {image_folder}\")\n",
    "\n",
    "    for filename in tqdm(png_files, desc=\"Extracting features\"):\n",
    "        image_path = os.path.join(image_folder, filename)\n",
    "        try:\n",
    "            features = extractor.extract_fivecrop_features(image_path)  # (5, D)\n",
    "            if features.shape[0] != 5:\n",
    "                print(f\"⚠️ Skipped {filename}: unexpected shape {features.shape}\")\n",
    "                continue\n",
    "\n",
    "            save_path = os.path.join(output_folder, filename.replace('.png', '.pt'))\n",
    "            torch.save(features.contiguous(), save_path, _use_new_zipfile_serialization=False)\n",
    "        except Exception as e:\n",
    "            print(f\"❌ Failed on {filename}: {e}\")\n",
    "\n",
    "    print(\"✅ Feature extraction complete.\")\n",
    "\n",
    "\n",
    "# ==== Run This Section ====\n",
    "if __name__ == \"__main__\":\n",
    "    # Instantiate extractor\n",
    "    extractor = ConchFeatureExtractorFiveCrop()\n",
    "\n",
    "    # Define input/output\n",
    "    image_folder = r\"D:\\Aamir Gulzar\\KSA_project2\\dataset\\patch_data\\TCGA-EI-6507_MSIH\"    # 🔁 CHANGE THIS\n",
    "    output_folder = r\"D:\\Aamir Gulzar\\KSA_project2\\dataset\\Features\\Test\"  # 🔁 CHANGE THIS\n",
    "\n",
    "    # Run extraction\n",
    "    extract_features_from_png_folder(image_folder, output_folder, extractor)"
   ]
  },
  {
   "cell_type": "code",
   "execution_count": null,
   "id": "be3ac15a",
   "metadata": {},
   "outputs": [
    {
     "name": "stdout",
     "output_type": "stream",
     "text": [
      "Token will not been saved to git credential helper. Pass `add_to_git_credential=True` if you want to set the git credential as well.\n",
      "Token is valid (permission: fineGrained).\n",
      "Your token has been saved to C:\\Users\\datainsight\\.cache\\huggingface\\token\n",
      "Login successful\n",
      "🔍 Found 3272 PNG files in D:\\Aamir Gulzar\\KSA_project2\\dataset\\patch_data\\TCGA-EI-6507_MSIH\n"
     ]
    },
    {
     "name": "stderr",
     "output_type": "stream",
     "text": [
      "Extracting features: 100%|██████████| 3272/3272 [00:00<00:00, 37544.22it/s]"
     ]
    },
    {
     "name": "stdout",
     "output_type": "stream",
     "text": [
      "❌ Failed on TCGA-EI-6507_MSIH_x0_y19456_patch00000.png: [Errno 2] No such file or directory: 'D'\n",
      "❌ Failed on TCGA-EI-6507_MSIH_x0_y19968_patch00001.png: [Errno 2] No such file or directory: 'D'\n",
      "❌ Failed on TCGA-EI-6507_MSIH_x0_y20480_patch00002.png: [Errno 2] No such file or directory: 'D'\n",
      "❌ Failed on TCGA-EI-6507_MSIH_x0_y20992_patch00003.png: [Errno 2] No such file or directory: 'D'\n",
      "❌ Failed on TCGA-EI-6507_MSIH_x0_y21504_patch00004.png: [Errno 2] No such file or directory: 'D'\n",
      "❌ Failed on TCGA-EI-6507_MSIH_x0_y23552_patch00005.png: [Errno 2] No such file or directory: 'D'\n",
      "❌ Failed on TCGA-EI-6507_MSIH_x0_y24064_patch00006.png: [Errno 2] No such file or directory: 'D'\n",
      "❌ Failed on TCGA-EI-6507_MSIH_x10240_y10240_patch00512.png: [Errno 2] No such file or directory: 'D'\n",
      "❌ Failed on TCGA-EI-6507_MSIH_x10240_y10752_patch00513.png: [Errno 2] No such file or directory: 'D'\n",
      "❌ Failed on TCGA-EI-6507_MSIH_x10240_y11264_patch00514.png: [Errno 2] No such file or directory: 'D'\n",
      "❌ Failed on TCGA-EI-6507_MSIH_x10240_y11776_patch00515.png: [Errno 2] No such file or directory: 'D'\n",
      "❌ Failed on TCGA-EI-6507_MSIH_x10240_y12288_patch00516.png: [Errno 2] No such file or directory: 'D'\n",
      "❌ Failed on TCGA-EI-6507_MSIH_x10240_y12800_patch00517.png: [Errno 2] No such file or directory: 'D'\n",
      "❌ Failed on TCGA-EI-6507_MSIH_x10240_y13312_patch00518.png: [Errno 2] No such file or directory: 'D'\n",
      "❌ Failed on TCGA-EI-6507_MSIH_x10240_y13824_patch00519.png: [Errno 2] No such file or directory: 'D'\n",
      "❌ Failed on TCGA-EI-6507_MSIH_x10240_y14336_patch00520.png: [Errno 2] No such file or directory: 'D'\n",
      "❌ Failed on TCGA-EI-6507_MSIH_x10240_y14848_patch00521.png: [Errno 2] No such file or directory: 'D'\n",
      "❌ Failed on TCGA-EI-6507_MSIH_x10240_y15360_patch00522.png: [Errno 2] No such file or directory: 'D'\n",
      "❌ Failed on TCGA-EI-6507_MSIH_x10240_y15872_patch00523.png: [Errno 2] No such file or directory: 'D'\n",
      "❌ Failed on TCGA-EI-6507_MSIH_x10240_y16384_patch00524.png: [Errno 2] No such file or directory: 'D'\n",
      "❌ Failed on TCGA-EI-6507_MSIH_x10240_y16896_patch00525.png: [Errno 2] No such file or directory: 'D'\n",
      "❌ Failed on TCGA-EI-6507_MSIH_x10240_y17408_patch00526.png: [Errno 2] No such file or directory: 'D'\n",
      "❌ Failed on TCGA-EI-6507_MSIH_x10240_y17920_patch00527.png: [Errno 2] No such file or directory: 'D'\n",
      "❌ Failed on TCGA-EI-6507_MSIH_x10240_y18432_patch00528.png: [Errno 2] No such file or directory: 'D'\n",
      "❌ Failed on TCGA-EI-6507_MSIH_x10240_y18944_patch00529.png: [Errno 2] No such file or directory: 'D'\n",
      "❌ Failed on TCGA-EI-6507_MSIH_x10240_y19456_patch00530.png: [Errno 2] No such file or directory: 'D'\n",
      "❌ Failed on TCGA-EI-6507_MSIH_x10240_y19968_patch00531.png: [Errno 2] No such file or directory: 'D'\n",
      "❌ Failed on TCGA-EI-6507_MSIH_x10240_y20480_patch00532.png: [Errno 2] No such file or directory: 'D'\n",
      "❌ Failed on TCGA-EI-6507_MSIH_x10240_y20992_patch00533.png: [Errno 2] No such file or directory: 'D'\n",
      "❌ Failed on TCGA-EI-6507_MSIH_x10240_y21504_patch00534.png: [Errno 2] No such file or directory: 'D'\n",
      "❌ Failed on TCGA-EI-6507_MSIH_x10240_y22016_patch00535.png: [Errno 2] No such file or directory: 'D'\n",
      "❌ Failed on TCGA-EI-6507_MSIH_x10240_y22528_patch00536.png: [Errno 2] No such file or directory: 'D'\n",
      "❌ Failed on TCGA-EI-6507_MSIH_x10240_y23040_patch00537.png: [Errno 2] No such file or directory: 'D'\n",
      "❌ Failed on TCGA-EI-6507_MSIH_x10240_y23552_patch00538.png: [Errno 2] No such file or directory: 'D'\n",
      "❌ Failed on TCGA-EI-6507_MSIH_x10240_y24064_patch00539.png: [Errno 2] No such file or directory: 'D'\n",
      "❌ Failed on TCGA-EI-6507_MSIH_x10240_y24576_patch00540.png: [Errno 2] No such file or directory: 'D'\n",
      "❌ Failed on TCGA-EI-6507_MSIH_x10240_y25088_patch00541.png: [Errno 2] No such file or directory: 'D'\n",
      "❌ Failed on TCGA-EI-6507_MSIH_x10240_y25600_patch00542.png: [Errno 2] No such file or directory: 'D'\n",
      "❌ Failed on TCGA-EI-6507_MSIH_x10240_y26112_patch00543.png: [Errno 2] No such file or directory: 'D'\n",
      "❌ Failed on TCGA-EI-6507_MSIH_x10240_y26624_patch00544.png: [Errno 2] No such file or directory: 'D'\n",
      "❌ Failed on TCGA-EI-6507_MSIH_x10240_y27136_patch00545.png: [Errno 2] No such file or directory: 'D'\n",
      "❌ Failed on TCGA-EI-6507_MSIH_x10240_y27648_patch00546.png: [Errno 2] No such file or directory: 'D'\n",
      "❌ Failed on TCGA-EI-6507_MSIH_x10240_y28160_patch00547.png: [Errno 2] No such file or directory: 'D'\n",
      "❌ Failed on TCGA-EI-6507_MSIH_x10240_y28672_patch00548.png: [Errno 2] No such file or directory: 'D'\n",
      "❌ Failed on TCGA-EI-6507_MSIH_x10240_y29184_patch00549.png: [Errno 2] No such file or directory: 'D'\n",
      "❌ Failed on TCGA-EI-6507_MSIH_x10240_y29696_patch00550.png: [Errno 2] No such file or directory: 'D'\n",
      "❌ Failed on TCGA-EI-6507_MSIH_x10240_y30208_patch00551.png: [Errno 2] No such file or directory: 'D'\n",
      "❌ Failed on TCGA-EI-6507_MSIH_x10240_y8192_patch00508.png: [Errno 2] No such file or directory: 'D'\n",
      "❌ Failed on TCGA-EI-6507_MSIH_x10240_y8704_patch00509.png: [Errno 2] No such file or directory: 'D'\n",
      "❌ Failed on TCGA-EI-6507_MSIH_x10240_y9216_patch00510.png: [Errno 2] No such file or directory: 'D'\n",
      "❌ Failed on TCGA-EI-6507_MSIH_x10240_y9728_patch00511.png: [Errno 2] No such file or directory: 'D'\n",
      "❌ Failed on TCGA-EI-6507_MSIH_x1024_y18944_patch00018.png: [Errno 2] No such file or directory: 'D'\n",
      "❌ Failed on TCGA-EI-6507_MSIH_x1024_y19456_patch00019.png: [Errno 2] No such file or directory: 'D'\n",
      "❌ Failed on TCGA-EI-6507_MSIH_x1024_y19968_patch00020.png: [Errno 2] No such file or directory: 'D'\n",
      "❌ Failed on TCGA-EI-6507_MSIH_x1024_y20480_patch00021.png: [Errno 2] No such file or directory: 'D'\n",
      "❌ Failed on TCGA-EI-6507_MSIH_x1024_y20992_patch00022.png: [Errno 2] No such file or directory: 'D'\n",
      "❌ Failed on TCGA-EI-6507_MSIH_x1024_y21504_patch00023.png: [Errno 2] No such file or directory: 'D'\n",
      "❌ Failed on TCGA-EI-6507_MSIH_x1024_y22016_patch00024.png: [Errno 2] No such file or directory: 'D'\n",
      "❌ Failed on TCGA-EI-6507_MSIH_x1024_y22528_patch00025.png: [Errno 2] No such file or directory: 'D'\n",
      "❌ Failed on TCGA-EI-6507_MSIH_x1024_y23040_patch00026.png: [Errno 2] No such file or directory: 'D'\n",
      "❌ Failed on TCGA-EI-6507_MSIH_x1024_y23552_patch00027.png: [Errno 2] No such file or directory: 'D'\n",
      "❌ Failed on TCGA-EI-6507_MSIH_x1024_y24064_patch00028.png: [Errno 2] No such file or directory: 'D'\n",
      "❌ Failed on TCGA-EI-6507_MSIH_x1024_y24576_patch00029.png: [Errno 2] No such file or directory: 'D'\n",
      "❌ Failed on TCGA-EI-6507_MSIH_x1024_y25088_patch00030.png: [Errno 2] No such file or directory: 'D'\n",
      "❌ Failed on TCGA-EI-6507_MSIH_x10752_y10240_patch00557.png: [Errno 2] No such file or directory: 'D'\n",
      "❌ Failed on TCGA-EI-6507_MSIH_x10752_y10752_patch00558.png: [Errno 2] No such file or directory: 'D'\n",
      "❌ Failed on TCGA-EI-6507_MSIH_x10752_y11264_patch00559.png: [Errno 2] No such file or directory: 'D'\n",
      "❌ Failed on TCGA-EI-6507_MSIH_x10752_y11776_patch00560.png: [Errno 2] No such file or directory: 'D'\n",
      "❌ Failed on TCGA-EI-6507_MSIH_x10752_y12288_patch00561.png: [Errno 2] No such file or directory: 'D'\n",
      "❌ Failed on TCGA-EI-6507_MSIH_x10752_y12800_patch00562.png: [Errno 2] No such file or directory: 'D'\n",
      "❌ Failed on TCGA-EI-6507_MSIH_x10752_y13312_patch00563.png: [Errno 2] No such file or directory: 'D'\n",
      "❌ Failed on TCGA-EI-6507_MSIH_x10752_y13824_patch00564.png: [Errno 2] No such file or directory: 'D'\n",
      "❌ Failed on TCGA-EI-6507_MSIH_x10752_y14336_patch00565.png: [Errno 2] No such file or directory: 'D'\n",
      "❌ Failed on TCGA-EI-6507_MSIH_x10752_y14848_patch00566.png: [Errno 2] No such file or directory: 'D'\n",
      "❌ Failed on TCGA-EI-6507_MSIH_x10752_y15360_patch00567.png: [Errno 2] No such file or directory: 'D'\n",
      "❌ Failed on TCGA-EI-6507_MSIH_x10752_y15872_patch00568.png: [Errno 2] No such file or directory: 'D'\n",
      "❌ Failed on TCGA-EI-6507_MSIH_x10752_y16384_patch00569.png: [Errno 2] No such file or directory: 'D'\n",
      "❌ Failed on TCGA-EI-6507_MSIH_x10752_y16896_patch00570.png: [Errno 2] No such file or directory: 'D'\n",
      "❌ Failed on TCGA-EI-6507_MSIH_x10752_y17408_patch00571.png: [Errno 2] No such file or directory: 'D'\n",
      "❌ Failed on TCGA-EI-6507_MSIH_x10752_y17920_patch00572.png: [Errno 2] No such file or directory: 'D'\n",
      "❌ Failed on TCGA-EI-6507_MSIH_x10752_y18432_patch00573.png: [Errno 2] No such file or directory: 'D'\n",
      "❌ Failed on TCGA-EI-6507_MSIH_x10752_y18944_patch00574.png: [Errno 2] No such file or directory: 'D'\n",
      "❌ Failed on TCGA-EI-6507_MSIH_x10752_y19456_patch00575.png: [Errno 2] No such file or directory: 'D'\n",
      "❌ Failed on TCGA-EI-6507_MSIH_x10752_y19968_patch00576.png: [Errno 2] No such file or directory: 'D'\n",
      "❌ Failed on TCGA-EI-6507_MSIH_x10752_y20480_patch00577.png: [Errno 2] No such file or directory: 'D'\n",
      "❌ Failed on TCGA-EI-6507_MSIH_x10752_y20992_patch00578.png: [Errno 2] No such file or directory: 'D'\n",
      "❌ Failed on TCGA-EI-6507_MSIH_x10752_y21504_patch00579.png: [Errno 2] No such file or directory: 'D'\n",
      "❌ Failed on TCGA-EI-6507_MSIH_x10752_y22016_patch00580.png: [Errno 2] No such file or directory: 'D'\n",
      "❌ Failed on TCGA-EI-6507_MSIH_x10752_y22528_patch00581.png: [Errno 2] No such file or directory: 'D'\n",
      "❌ Failed on TCGA-EI-6507_MSIH_x10752_y23040_patch00582.png: [Errno 2] No such file or directory: 'D'\n",
      "❌ Failed on TCGA-EI-6507_MSIH_x10752_y23552_patch00583.png: [Errno 2] No such file or directory: 'D'\n",
      "❌ Failed on TCGA-EI-6507_MSIH_x10752_y24064_patch00584.png: [Errno 2] No such file or directory: 'D'\n",
      "❌ Failed on TCGA-EI-6507_MSIH_x10752_y24576_patch00585.png: [Errno 2] No such file or directory: 'D'\n",
      "❌ Failed on TCGA-EI-6507_MSIH_x10752_y25088_patch00586.png: [Errno 2] No such file or directory: 'D'\n",
      "❌ Failed on TCGA-EI-6507_MSIH_x10752_y25600_patch00587.png: [Errno 2] No such file or directory: 'D'\n",
      "❌ Failed on TCGA-EI-6507_MSIH_x10752_y26112_patch00588.png: [Errno 2] No such file or directory: 'D'\n",
      "❌ Failed on TCGA-EI-6507_MSIH_x10752_y26624_patch00589.png: [Errno 2] No such file or directory: 'D'\n",
      "❌ Failed on TCGA-EI-6507_MSIH_x10752_y27136_patch00590.png: [Errno 2] No such file or directory: 'D'\n",
      "❌ Failed on TCGA-EI-6507_MSIH_x10752_y27648_patch00591.png: [Errno 2] No such file or directory: 'D'\n",
      "❌ Failed on TCGA-EI-6507_MSIH_x10752_y28160_patch00592.png: [Errno 2] No such file or directory: 'D'\n",
      "❌ Failed on TCGA-EI-6507_MSIH_x10752_y28672_patch00593.png: [Errno 2] No such file or directory: 'D'\n",
      "❌ Failed on TCGA-EI-6507_MSIH_x10752_y29184_patch00594.png: [Errno 2] No such file or directory: 'D'\n",
      "❌ Failed on TCGA-EI-6507_MSIH_x10752_y29696_patch00595.png: [Errno 2] No such file or directory: 'D'\n",
      "❌ Failed on TCGA-EI-6507_MSIH_x10752_y30208_patch00596.png: [Errno 2] No such file or directory: 'D'\n",
      "❌ Failed on TCGA-EI-6507_MSIH_x10752_y7680_patch00552.png: [Errno 2] No such file or directory: 'D'\n",
      "❌ Failed on TCGA-EI-6507_MSIH_x10752_y8192_patch00553.png: [Errno 2] No such file or directory: 'D'\n",
      "❌ Failed on TCGA-EI-6507_MSIH_x10752_y8704_patch00554.png: [Errno 2] No such file or directory: 'D'\n",
      "❌ Failed on TCGA-EI-6507_MSIH_x10752_y9216_patch00555.png: [Errno 2] No such file or directory: 'D'\n",
      "❌ Failed on TCGA-EI-6507_MSIH_x10752_y9728_patch00556.png: [Errno 2] No such file or directory: 'D'\n",
      "❌ Failed on TCGA-EI-6507_MSIH_x11264_y10240_patch00603.png: [Errno 2] No such file or directory: 'D'\n",
      "❌ Failed on TCGA-EI-6507_MSIH_x11264_y10752_patch00604.png: [Errno 2] No such file or directory: 'D'\n",
      "❌ Failed on TCGA-EI-6507_MSIH_x11264_y11264_patch00605.png: [Errno 2] No such file or directory: 'D'\n",
      "❌ Failed on TCGA-EI-6507_MSIH_x11264_y11776_patch00606.png: [Errno 2] No such file or directory: 'D'\n",
      "❌ Failed on TCGA-EI-6507_MSIH_x11264_y12288_patch00607.png: [Errno 2] No such file or directory: 'D'\n",
      "❌ Failed on TCGA-EI-6507_MSIH_x11264_y12800_patch00608.png: [Errno 2] No such file or directory: 'D'\n",
      "❌ Failed on TCGA-EI-6507_MSIH_x11264_y13312_patch00609.png: [Errno 2] No such file or directory: 'D'\n",
      "❌ Failed on TCGA-EI-6507_MSIH_x11264_y13824_patch00610.png: [Errno 2] No such file or directory: 'D'\n",
      "❌ Failed on TCGA-EI-6507_MSIH_x11264_y14336_patch00611.png: [Errno 2] No such file or directory: 'D'\n",
      "❌ Failed on TCGA-EI-6507_MSIH_x11264_y14848_patch00612.png: [Errno 2] No such file or directory: 'D'\n",
      "❌ Failed on TCGA-EI-6507_MSIH_x11264_y15360_patch00613.png: [Errno 2] No such file or directory: 'D'\n",
      "❌ Failed on TCGA-EI-6507_MSIH_x11264_y15872_patch00614.png: [Errno 2] No such file or directory: 'D'\n",
      "❌ Failed on TCGA-EI-6507_MSIH_x11264_y16384_patch00615.png: [Errno 2] No such file or directory: 'D'\n",
      "❌ Failed on TCGA-EI-6507_MSIH_x11264_y16896_patch00616.png: [Errno 2] No such file or directory: 'D'\n",
      "❌ Failed on TCGA-EI-6507_MSIH_x11264_y17408_patch00617.png: [Errno 2] No such file or directory: 'D'\n",
      "❌ Failed on TCGA-EI-6507_MSIH_x11264_y17920_patch00618.png: [Errno 2] No such file or directory: 'D'\n",
      "❌ Failed on TCGA-EI-6507_MSIH_x11264_y18432_patch00619.png: [Errno 2] No such file or directory: 'D'\n",
      "❌ Failed on TCGA-EI-6507_MSIH_x11264_y18944_patch00620.png: [Errno 2] No such file or directory: 'D'\n",
      "❌ Failed on TCGA-EI-6507_MSIH_x11264_y19456_patch00621.png: [Errno 2] No such file or directory: 'D'\n",
      "❌ Failed on TCGA-EI-6507_MSIH_x11264_y19968_patch00622.png: [Errno 2] No such file or directory: 'D'\n",
      "❌ Failed on TCGA-EI-6507_MSIH_x11264_y20480_patch00623.png: [Errno 2] No such file or directory: 'D'\n",
      "❌ Failed on TCGA-EI-6507_MSIH_x11264_y20992_patch00624.png: [Errno 2] No such file or directory: 'D'\n",
      "❌ Failed on TCGA-EI-6507_MSIH_x11264_y21504_patch00625.png: [Errno 2] No such file or directory: 'D'\n",
      "❌ Failed on TCGA-EI-6507_MSIH_x11264_y22016_patch00626.png: [Errno 2] No such file or directory: 'D'\n",
      "❌ Failed on TCGA-EI-6507_MSIH_x11264_y22528_patch00627.png: [Errno 2] No such file or directory: 'D'\n",
      "❌ Failed on TCGA-EI-6507_MSIH_x11264_y23040_patch00628.png: [Errno 2] No such file or directory: 'D'\n",
      "❌ Failed on TCGA-EI-6507_MSIH_x11264_y23552_patch00629.png: [Errno 2] No such file or directory: 'D'\n",
      "❌ Failed on TCGA-EI-6507_MSIH_x11264_y24064_patch00630.png: [Errno 2] No such file or directory: 'D'\n",
      "❌ Failed on TCGA-EI-6507_MSIH_x11264_y24576_patch00631.png: [Errno 2] No such file or directory: 'D'\n",
      "❌ Failed on TCGA-EI-6507_MSIH_x11264_y25088_patch00632.png: [Errno 2] No such file or directory: 'D'\n",
      "❌ Failed on TCGA-EI-6507_MSIH_x11264_y25600_patch00633.png: [Errno 2] No such file or directory: 'D'\n",
      "❌ Failed on TCGA-EI-6507_MSIH_x11264_y26112_patch00634.png: [Errno 2] No such file or directory: 'D'\n",
      "❌ Failed on TCGA-EI-6507_MSIH_x11264_y26624_patch00635.png: [Errno 2] No such file or directory: 'D'\n",
      "❌ Failed on TCGA-EI-6507_MSIH_x11264_y27136_patch00636.png: [Errno 2] No such file or directory: 'D'\n",
      "❌ Failed on TCGA-EI-6507_MSIH_x11264_y27648_patch00637.png: [Errno 2] No such file or directory: 'D'\n",
      "❌ Failed on TCGA-EI-6507_MSIH_x11264_y28160_patch00638.png: [Errno 2] No such file or directory: 'D'\n",
      "❌ Failed on TCGA-EI-6507_MSIH_x11264_y28672_patch00639.png: [Errno 2] No such file or directory: 'D'\n",
      "❌ Failed on TCGA-EI-6507_MSIH_x11264_y29184_patch00640.png: [Errno 2] No such file or directory: 'D'\n",
      "❌ Failed on TCGA-EI-6507_MSIH_x11264_y29696_patch00641.png: [Errno 2] No such file or directory: 'D'\n",
      "❌ Failed on TCGA-EI-6507_MSIH_x11264_y30208_patch00642.png: [Errno 2] No such file or directory: 'D'\n",
      "❌ Failed on TCGA-EI-6507_MSIH_x11264_y30720_patch00643.png: [Errno 2] No such file or directory: 'D'\n",
      "❌ Failed on TCGA-EI-6507_MSIH_x11264_y7168_patch00597.png: [Errno 2] No such file or directory: 'D'\n",
      "❌ Failed on TCGA-EI-6507_MSIH_x11264_y7680_patch00598.png: [Errno 2] No such file or directory: 'D'\n",
      "❌ Failed on TCGA-EI-6507_MSIH_x11264_y8192_patch00599.png: [Errno 2] No such file or directory: 'D'\n",
      "❌ Failed on TCGA-EI-6507_MSIH_x11264_y8704_patch00600.png: [Errno 2] No such file or directory: 'D'\n",
      "❌ Failed on TCGA-EI-6507_MSIH_x11264_y9216_patch00601.png: [Errno 2] No such file or directory: 'D'\n",
      "❌ Failed on TCGA-EI-6507_MSIH_x11264_y9728_patch00602.png: [Errno 2] No such file or directory: 'D'\n",
      "❌ Failed on TCGA-EI-6507_MSIH_x11776_y10240_patch00652.png: [Errno 2] No such file or directory: 'D'\n",
      "❌ Failed on TCGA-EI-6507_MSIH_x11776_y10752_patch00653.png: [Errno 2] No such file or directory: 'D'\n",
      "❌ Failed on TCGA-EI-6507_MSIH_x11776_y11264_patch00654.png: [Errno 2] No such file or directory: 'D'\n",
      "❌ Failed on TCGA-EI-6507_MSIH_x11776_y11776_patch00655.png: [Errno 2] No such file or directory: 'D'\n",
      "❌ Failed on TCGA-EI-6507_MSIH_x11776_y12288_patch00656.png: [Errno 2] No such file or directory: 'D'\n",
      "❌ Failed on TCGA-EI-6507_MSIH_x11776_y12800_patch00657.png: [Errno 2] No such file or directory: 'D'\n",
      "❌ Failed on TCGA-EI-6507_MSIH_x11776_y13312_patch00658.png: [Errno 2] No such file or directory: 'D'\n",
      "❌ Failed on TCGA-EI-6507_MSIH_x11776_y13824_patch00659.png: [Errno 2] No such file or directory: 'D'\n",
      "❌ Failed on TCGA-EI-6507_MSIH_x11776_y14336_patch00660.png: [Errno 2] No such file or directory: 'D'\n",
      "❌ Failed on TCGA-EI-6507_MSIH_x11776_y14848_patch00661.png: [Errno 2] No such file or directory: 'D'\n",
      "❌ Failed on TCGA-EI-6507_MSIH_x11776_y15360_patch00662.png: [Errno 2] No such file or directory: 'D'\n",
      "❌ Failed on TCGA-EI-6507_MSIH_x11776_y15872_patch00663.png: [Errno 2] No such file or directory: 'D'\n",
      "❌ Failed on TCGA-EI-6507_MSIH_x11776_y16384_patch00664.png: [Errno 2] No such file or directory: 'D'\n",
      "❌ Failed on TCGA-EI-6507_MSIH_x11776_y16896_patch00665.png: [Errno 2] No such file or directory: 'D'\n",
      "❌ Failed on TCGA-EI-6507_MSIH_x11776_y17408_patch00666.png: [Errno 2] No such file or directory: 'D'\n",
      "❌ Failed on TCGA-EI-6507_MSIH_x11776_y17920_patch00667.png: [Errno 2] No such file or directory: 'D'\n",
      "❌ Failed on TCGA-EI-6507_MSIH_x11776_y18432_patch00668.png: [Errno 2] No such file or directory: 'D'\n",
      "❌ Failed on TCGA-EI-6507_MSIH_x11776_y18944_patch00669.png: [Errno 2] No such file or directory: 'D'\n",
      "❌ Failed on TCGA-EI-6507_MSIH_x11776_y19456_patch00670.png: [Errno 2] No such file or directory: 'D'\n",
      "❌ Failed on TCGA-EI-6507_MSIH_x11776_y19968_patch00671.png: [Errno 2] No such file or directory: 'D'\n",
      "❌ Failed on TCGA-EI-6507_MSIH_x11776_y20480_patch00672.png: [Errno 2] No such file or directory: 'D'\n",
      "❌ Failed on TCGA-EI-6507_MSIH_x11776_y20992_patch00673.png: [Errno 2] No such file or directory: 'D'\n",
      "❌ Failed on TCGA-EI-6507_MSIH_x11776_y21504_patch00674.png: [Errno 2] No such file or directory: 'D'\n",
      "❌ Failed on TCGA-EI-6507_MSIH_x11776_y22016_patch00675.png: [Errno 2] No such file or directory: 'D'\n",
      "❌ Failed on TCGA-EI-6507_MSIH_x11776_y22528_patch00676.png: [Errno 2] No such file or directory: 'D'\n",
      "❌ Failed on TCGA-EI-6507_MSIH_x11776_y23040_patch00677.png: [Errno 2] No such file or directory: 'D'\n",
      "❌ Failed on TCGA-EI-6507_MSIH_x11776_y23552_patch00678.png: [Errno 2] No such file or directory: 'D'\n",
      "❌ Failed on TCGA-EI-6507_MSIH_x11776_y24064_patch00679.png: [Errno 2] No such file or directory: 'D'\n",
      "❌ Failed on TCGA-EI-6507_MSIH_x11776_y24576_patch00680.png: [Errno 2] No such file or directory: 'D'\n",
      "❌ Failed on TCGA-EI-6507_MSIH_x11776_y25088_patch00681.png: [Errno 2] No such file or directory: 'D'\n",
      "❌ Failed on TCGA-EI-6507_MSIH_x11776_y25600_patch00682.png: [Errno 2] No such file or directory: 'D'\n",
      "❌ Failed on TCGA-EI-6507_MSIH_x11776_y26112_patch00683.png: [Errno 2] No such file or directory: 'D'\n",
      "❌ Failed on TCGA-EI-6507_MSIH_x11776_y26624_patch00684.png: [Errno 2] No such file or directory: 'D'\n",
      "❌ Failed on TCGA-EI-6507_MSIH_x11776_y27136_patch00685.png: [Errno 2] No such file or directory: 'D'\n",
      "❌ Failed on TCGA-EI-6507_MSIH_x11776_y27648_patch00686.png: [Errno 2] No such file or directory: 'D'\n",
      "❌ Failed on TCGA-EI-6507_MSIH_x11776_y28160_patch00687.png: [Errno 2] No such file or directory: 'D'\n",
      "❌ Failed on TCGA-EI-6507_MSIH_x11776_y28672_patch00688.png: [Errno 2] No such file or directory: 'D'\n",
      "❌ Failed on TCGA-EI-6507_MSIH_x11776_y29184_patch00689.png: [Errno 2] No such file or directory: 'D'\n",
      "❌ Failed on TCGA-EI-6507_MSIH_x11776_y29696_patch00690.png: [Errno 2] No such file or directory: 'D'\n",
      "❌ Failed on TCGA-EI-6507_MSIH_x11776_y30208_patch00691.png: [Errno 2] No such file or directory: 'D'\n",
      "❌ Failed on TCGA-EI-6507_MSIH_x11776_y30720_patch00692.png: [Errno 2] No such file or directory: 'D'\n",
      "❌ Failed on TCGA-EI-6507_MSIH_x11776_y6144_patch00644.png: [Errno 2] No such file or directory: 'D'\n",
      "❌ Failed on TCGA-EI-6507_MSIH_x11776_y6656_patch00645.png: [Errno 2] No such file or directory: 'D'\n",
      "❌ Failed on TCGA-EI-6507_MSIH_x11776_y7168_patch00646.png: [Errno 2] No such file or directory: 'D'\n",
      "❌ Failed on TCGA-EI-6507_MSIH_x11776_y7680_patch00647.png: [Errno 2] No such file or directory: 'D'\n",
      "❌ Failed on TCGA-EI-6507_MSIH_x11776_y8192_patch00648.png: [Errno 2] No such file or directory: 'D'\n",
      "❌ Failed on TCGA-EI-6507_MSIH_x11776_y8704_patch00649.png: [Errno 2] No such file or directory: 'D'\n",
      "❌ Failed on TCGA-EI-6507_MSIH_x11776_y9216_patch00650.png: [Errno 2] No such file or directory: 'D'\n",
      "❌ Failed on TCGA-EI-6507_MSIH_x11776_y9728_patch00651.png: [Errno 2] No such file or directory: 'D'\n",
      "❌ Failed on TCGA-EI-6507_MSIH_x12288_y10240_patch00702.png: [Errno 2] No such file or directory: 'D'\n",
      "❌ Failed on TCGA-EI-6507_MSIH_x12288_y10752_patch00703.png: [Errno 2] No such file or directory: 'D'\n",
      "❌ Failed on TCGA-EI-6507_MSIH_x12288_y11264_patch00704.png: [Errno 2] No such file or directory: 'D'\n",
      "❌ Failed on TCGA-EI-6507_MSIH_x12288_y12288_patch00705.png: [Errno 2] No such file or directory: 'D'\n",
      "❌ Failed on TCGA-EI-6507_MSIH_x12288_y12800_patch00706.png: [Errno 2] No such file or directory: 'D'\n",
      "❌ Failed on TCGA-EI-6507_MSIH_x12288_y13312_patch00707.png: [Errno 2] No such file or directory: 'D'\n",
      "❌ Failed on TCGA-EI-6507_MSIH_x12288_y13824_patch00708.png: [Errno 2] No such file or directory: 'D'\n",
      "❌ Failed on TCGA-EI-6507_MSIH_x12288_y14336_patch00709.png: [Errno 2] No such file or directory: 'D'\n",
      "❌ Failed on TCGA-EI-6507_MSIH_x12288_y14848_patch00710.png: [Errno 2] No such file or directory: 'D'\n",
      "❌ Failed on TCGA-EI-6507_MSIH_x12288_y15360_patch00711.png: [Errno 2] No such file or directory: 'D'\n",
      "❌ Failed on TCGA-EI-6507_MSIH_x12288_y15872_patch00712.png: [Errno 2] No such file or directory: 'D'\n",
      "❌ Failed on TCGA-EI-6507_MSIH_x12288_y16384_patch00713.png: [Errno 2] No such file or directory: 'D'\n",
      "❌ Failed on TCGA-EI-6507_MSIH_x12288_y16896_patch00714.png: [Errno 2] No such file or directory: 'D'\n",
      "❌ Failed on TCGA-EI-6507_MSIH_x12288_y17408_patch00715.png: [Errno 2] No such file or directory: 'D'\n",
      "❌ Failed on TCGA-EI-6507_MSIH_x12288_y17920_patch00716.png: [Errno 2] No such file or directory: 'D'\n",
      "❌ Failed on TCGA-EI-6507_MSIH_x12288_y18432_patch00717.png: [Errno 2] No such file or directory: 'D'\n",
      "❌ Failed on TCGA-EI-6507_MSIH_x12288_y18944_patch00718.png: [Errno 2] No such file or directory: 'D'\n",
      "❌ Failed on TCGA-EI-6507_MSIH_x12288_y19456_patch00719.png: [Errno 2] No such file or directory: 'D'\n",
      "❌ Failed on TCGA-EI-6507_MSIH_x12288_y19968_patch00720.png: [Errno 2] No such file or directory: 'D'\n",
      "❌ Failed on TCGA-EI-6507_MSIH_x12288_y20480_patch00721.png: [Errno 2] No such file or directory: 'D'\n",
      "❌ Failed on TCGA-EI-6507_MSIH_x12288_y20992_patch00722.png: [Errno 2] No such file or directory: 'D'\n",
      "❌ Failed on TCGA-EI-6507_MSIH_x12288_y21504_patch00723.png: [Errno 2] No such file or directory: 'D'\n",
      "❌ Failed on TCGA-EI-6507_MSIH_x12288_y22016_patch00724.png: [Errno 2] No such file or directory: 'D'\n",
      "❌ Failed on TCGA-EI-6507_MSIH_x12288_y22528_patch00725.png: [Errno 2] No such file or directory: 'D'\n",
      "❌ Failed on TCGA-EI-6507_MSIH_x12288_y23040_patch00726.png: [Errno 2] No such file or directory: 'D'\n",
      "❌ Failed on TCGA-EI-6507_MSIH_x12288_y23552_patch00727.png: [Errno 2] No such file or directory: 'D'\n",
      "❌ Failed on TCGA-EI-6507_MSIH_x12288_y24064_patch00728.png: [Errno 2] No such file or directory: 'D'\n",
      "❌ Failed on TCGA-EI-6507_MSIH_x12288_y24576_patch00729.png: [Errno 2] No such file or directory: 'D'\n",
      "❌ Failed on TCGA-EI-6507_MSIH_x12288_y25088_patch00730.png: [Errno 2] No such file or directory: 'D'\n",
      "❌ Failed on TCGA-EI-6507_MSIH_x12288_y25600_patch00731.png: [Errno 2] No such file or directory: 'D'\n",
      "❌ Failed on TCGA-EI-6507_MSIH_x12288_y26112_patch00732.png: [Errno 2] No such file or directory: 'D'\n",
      "❌ Failed on TCGA-EI-6507_MSIH_x12288_y26624_patch00733.png: [Errno 2] No such file or directory: 'D'\n",
      "❌ Failed on TCGA-EI-6507_MSIH_x12288_y27136_patch00734.png: [Errno 2] No such file or directory: 'D'\n",
      "❌ Failed on TCGA-EI-6507_MSIH_x12288_y27648_patch00735.png: [Errno 2] No such file or directory: 'D'\n",
      "❌ Failed on TCGA-EI-6507_MSIH_x12288_y28160_patch00736.png: [Errno 2] No such file or directory: 'D'\n",
      "❌ Failed on TCGA-EI-6507_MSIH_x12288_y28672_patch00737.png: [Errno 2] No such file or directory: 'D'\n",
      "❌ Failed on TCGA-EI-6507_MSIH_x12288_y29184_patch00738.png: [Errno 2] No such file or directory: 'D'\n",
      "❌ Failed on TCGA-EI-6507_MSIH_x12288_y29696_patch00739.png: [Errno 2] No such file or directory: 'D'\n",
      "❌ Failed on TCGA-EI-6507_MSIH_x12288_y30208_patch00740.png: [Errno 2] No such file or directory: 'D'\n",
      "❌ Failed on TCGA-EI-6507_MSIH_x12288_y30720_patch00741.png: [Errno 2] No such file or directory: 'D'\n",
      "❌ Failed on TCGA-EI-6507_MSIH_x12288_y31232_patch00742.png: [Errno 2] No such file or directory: 'D'\n",
      "❌ Failed on TCGA-EI-6507_MSIH_x12288_y5632_patch00693.png: [Errno 2] No such file or directory: 'D'\n",
      "❌ Failed on TCGA-EI-6507_MSIH_x12288_y6144_patch00694.png: [Errno 2] No such file or directory: 'D'\n",
      "❌ Failed on TCGA-EI-6507_MSIH_x12288_y6656_patch00695.png: [Errno 2] No such file or directory: 'D'\n",
      "❌ Failed on TCGA-EI-6507_MSIH_x12288_y7168_patch00696.png: [Errno 2] No such file or directory: 'D'\n",
      "❌ Failed on TCGA-EI-6507_MSIH_x12288_y7680_patch00697.png: [Errno 2] No such file or directory: 'D'\n",
      "❌ Failed on TCGA-EI-6507_MSIH_x12288_y8192_patch00698.png: [Errno 2] No such file or directory: 'D'\n",
      "❌ Failed on TCGA-EI-6507_MSIH_x12288_y8704_patch00699.png: [Errno 2] No such file or directory: 'D'\n",
      "❌ Failed on TCGA-EI-6507_MSIH_x12288_y9216_patch00700.png: [Errno 2] No such file or directory: 'D'\n",
      "❌ Failed on TCGA-EI-6507_MSIH_x12288_y9728_patch00701.png: [Errno 2] No such file or directory: 'D'\n",
      "❌ Failed on TCGA-EI-6507_MSIH_x12800_y10240_patch00753.png: [Errno 2] No such file or directory: 'D'\n",
      "❌ Failed on TCGA-EI-6507_MSIH_x12800_y10752_patch00754.png: [Errno 2] No such file or directory: 'D'\n",
      "❌ Failed on TCGA-EI-6507_MSIH_x12800_y11264_patch00755.png: [Errno 2] No such file or directory: 'D'\n",
      "❌ Failed on TCGA-EI-6507_MSIH_x12800_y11776_patch00756.png: [Errno 2] No such file or directory: 'D'\n",
      "❌ Failed on TCGA-EI-6507_MSIH_x12800_y12288_patch00757.png: [Errno 2] No such file or directory: 'D'\n",
      "❌ Failed on TCGA-EI-6507_MSIH_x12800_y12800_patch00758.png: [Errno 2] No such file or directory: 'D'\n",
      "❌ Failed on TCGA-EI-6507_MSIH_x12800_y13312_patch00759.png: [Errno 2] No such file or directory: 'D'\n",
      "❌ Failed on TCGA-EI-6507_MSIH_x12800_y13824_patch00760.png: [Errno 2] No such file or directory: 'D'\n",
      "❌ Failed on TCGA-EI-6507_MSIH_x12800_y14336_patch00761.png: [Errno 2] No such file or directory: 'D'\n",
      "❌ Failed on TCGA-EI-6507_MSIH_x12800_y14848_patch00762.png: [Errno 2] No such file or directory: 'D'\n",
      "❌ Failed on TCGA-EI-6507_MSIH_x12800_y15360_patch00763.png: [Errno 2] No such file or directory: 'D'\n",
      "❌ Failed on TCGA-EI-6507_MSIH_x12800_y15872_patch00764.png: [Errno 2] No such file or directory: 'D'\n",
      "❌ Failed on TCGA-EI-6507_MSIH_x12800_y16384_patch00765.png: [Errno 2] No such file or directory: 'D'\n",
      "❌ Failed on TCGA-EI-6507_MSIH_x12800_y16896_patch00766.png: [Errno 2] No such file or directory: 'D'\n",
      "❌ Failed on TCGA-EI-6507_MSIH_x12800_y17408_patch00767.png: [Errno 2] No such file or directory: 'D'\n",
      "❌ Failed on TCGA-EI-6507_MSIH_x12800_y17920_patch00768.png: [Errno 2] No such file or directory: 'D'\n",
      "❌ Failed on TCGA-EI-6507_MSIH_x12800_y18432_patch00769.png: [Errno 2] No such file or directory: 'D'\n",
      "❌ Failed on TCGA-EI-6507_MSIH_x12800_y18944_patch00770.png: [Errno 2] No such file or directory: 'D'\n",
      "❌ Failed on TCGA-EI-6507_MSIH_x12800_y19456_patch00771.png: [Errno 2] No such file or directory: 'D'\n",
      "❌ Failed on TCGA-EI-6507_MSIH_x12800_y19968_patch00772.png: [Errno 2] No such file or directory: 'D'\n",
      "❌ Failed on TCGA-EI-6507_MSIH_x12800_y20480_patch00773.png: [Errno 2] No such file or directory: 'D'\n",
      "❌ Failed on TCGA-EI-6507_MSIH_x12800_y20992_patch00774.png: [Errno 2] No such file or directory: 'D'\n",
      "❌ Failed on TCGA-EI-6507_MSIH_x12800_y21504_patch00775.png: [Errno 2] No such file or directory: 'D'\n",
      "❌ Failed on TCGA-EI-6507_MSIH_x12800_y22016_patch00776.png: [Errno 2] No such file or directory: 'D'\n",
      "❌ Failed on TCGA-EI-6507_MSIH_x12800_y22528_patch00777.png: [Errno 2] No such file or directory: 'D'\n",
      "❌ Failed on TCGA-EI-6507_MSIH_x12800_y23040_patch00778.png: [Errno 2] No such file or directory: 'D'\n",
      "❌ Failed on TCGA-EI-6507_MSIH_x12800_y23552_patch00779.png: [Errno 2] No such file or directory: 'D'\n",
      "❌ Failed on TCGA-EI-6507_MSIH_x12800_y24064_patch00780.png: [Errno 2] No such file or directory: 'D'\n",
      "❌ Failed on TCGA-EI-6507_MSIH_x12800_y24576_patch00781.png: [Errno 2] No such file or directory: 'D'\n",
      "❌ Failed on TCGA-EI-6507_MSIH_x12800_y25088_patch00782.png: [Errno 2] No such file or directory: 'D'\n",
      "❌ Failed on TCGA-EI-6507_MSIH_x12800_y25600_patch00783.png: [Errno 2] No such file or directory: 'D'\n",
      "❌ Failed on TCGA-EI-6507_MSIH_x12800_y26112_patch00784.png: [Errno 2] No such file or directory: 'D'\n",
      "❌ Failed on TCGA-EI-6507_MSIH_x12800_y26624_patch00785.png: [Errno 2] No such file or directory: 'D'\n",
      "❌ Failed on TCGA-EI-6507_MSIH_x12800_y27136_patch00786.png: [Errno 2] No such file or directory: 'D'\n",
      "❌ Failed on TCGA-EI-6507_MSIH_x12800_y27648_patch00787.png: [Errno 2] No such file or directory: 'D'\n",
      "❌ Failed on TCGA-EI-6507_MSIH_x12800_y28160_patch00788.png: [Errno 2] No such file or directory: 'D'\n",
      "❌ Failed on TCGA-EI-6507_MSIH_x12800_y28672_patch00789.png: [Errno 2] No such file or directory: 'D'\n",
      "❌ Failed on TCGA-EI-6507_MSIH_x12800_y29184_patch00790.png: [Errno 2] No such file or directory: 'D'\n",
      "❌ Failed on TCGA-EI-6507_MSIH_x12800_y29696_patch00791.png: [Errno 2] No such file or directory: 'D'\n",
      "❌ Failed on TCGA-EI-6507_MSIH_x12800_y30208_patch00792.png: [Errno 2] No such file or directory: 'D'\n",
      "❌ Failed on TCGA-EI-6507_MSIH_x12800_y30720_patch00793.png: [Errno 2] No such file or directory: 'D'\n",
      "❌ Failed on TCGA-EI-6507_MSIH_x12800_y31232_patch00794.png: [Errno 2] No such file or directory: 'D'\n",
      "❌ Failed on TCGA-EI-6507_MSIH_x12800_y31744_patch00795.png: [Errno 2] No such file or directory: 'D'\n",
      "❌ Failed on TCGA-EI-6507_MSIH_x12800_y5120_patch00743.png: [Errno 2] No such file or directory: 'D'\n",
      "❌ Failed on TCGA-EI-6507_MSIH_x12800_y5632_patch00744.png: [Errno 2] No such file or directory: 'D'\n",
      "❌ Failed on TCGA-EI-6507_MSIH_x12800_y6144_patch00745.png: [Errno 2] No such file or directory: 'D'\n",
      "❌ Failed on TCGA-EI-6507_MSIH_x12800_y6656_patch00746.png: [Errno 2] No such file or directory: 'D'\n",
      "❌ Failed on TCGA-EI-6507_MSIH_x12800_y7168_patch00747.png: [Errno 2] No such file or directory: 'D'\n",
      "❌ Failed on TCGA-EI-6507_MSIH_x12800_y7680_patch00748.png: [Errno 2] No such file or directory: 'D'\n",
      "❌ Failed on TCGA-EI-6507_MSIH_x12800_y8192_patch00749.png: [Errno 2] No such file or directory: 'D'\n",
      "❌ Failed on TCGA-EI-6507_MSIH_x12800_y8704_patch00750.png: [Errno 2] No such file or directory: 'D'\n",
      "❌ Failed on TCGA-EI-6507_MSIH_x12800_y9216_patch00751.png: [Errno 2] No such file or directory: 'D'\n",
      "❌ Failed on TCGA-EI-6507_MSIH_x12800_y9728_patch00752.png: [Errno 2] No such file or directory: 'D'\n",
      "❌ Failed on TCGA-EI-6507_MSIH_x13312_y10240_patch00807.png: [Errno 2] No such file or directory: 'D'\n",
      "❌ Failed on TCGA-EI-6507_MSIH_x13312_y10752_patch00808.png: [Errno 2] No such file or directory: 'D'\n",
      "❌ Failed on TCGA-EI-6507_MSIH_x13312_y11264_patch00809.png: [Errno 2] No such file or directory: 'D'\n",
      "❌ Failed on TCGA-EI-6507_MSIH_x13312_y11776_patch00810.png: [Errno 2] No such file or directory: 'D'\n",
      "❌ Failed on TCGA-EI-6507_MSIH_x13312_y12288_patch00811.png: [Errno 2] No such file or directory: 'D'\n",
      "❌ Failed on TCGA-EI-6507_MSIH_x13312_y12800_patch00812.png: [Errno 2] No such file or directory: 'D'\n",
      "❌ Failed on TCGA-EI-6507_MSIH_x13312_y13312_patch00813.png: [Errno 2] No such file or directory: 'D'\n",
      "❌ Failed on TCGA-EI-6507_MSIH_x13312_y13824_patch00814.png: [Errno 2] No such file or directory: 'D'\n",
      "❌ Failed on TCGA-EI-6507_MSIH_x13312_y14336_patch00815.png: [Errno 2] No such file or directory: 'D'\n",
      "❌ Failed on TCGA-EI-6507_MSIH_x13312_y14848_patch00816.png: [Errno 2] No such file or directory: 'D'\n",
      "❌ Failed on TCGA-EI-6507_MSIH_x13312_y15360_patch00817.png: [Errno 2] No such file or directory: 'D'\n",
      "❌ Failed on TCGA-EI-6507_MSIH_x13312_y15872_patch00818.png: [Errno 2] No such file or directory: 'D'\n",
      "❌ Failed on TCGA-EI-6507_MSIH_x13312_y16384_patch00819.png: [Errno 2] No such file or directory: 'D'\n",
      "❌ Failed on TCGA-EI-6507_MSIH_x13312_y16896_patch00820.png: [Errno 2] No such file or directory: 'D'\n",
      "❌ Failed on TCGA-EI-6507_MSIH_x13312_y17408_patch00821.png: [Errno 2] No such file or directory: 'D'\n",
      "❌ Failed on TCGA-EI-6507_MSIH_x13312_y17920_patch00822.png: [Errno 2] No such file or directory: 'D'\n",
      "❌ Failed on TCGA-EI-6507_MSIH_x13312_y18432_patch00823.png: [Errno 2] No such file or directory: 'D'\n",
      "❌ Failed on TCGA-EI-6507_MSIH_x13312_y18944_patch00824.png: [Errno 2] No such file or directory: 'D'\n",
      "❌ Failed on TCGA-EI-6507_MSIH_x13312_y19456_patch00825.png: [Errno 2] No such file or directory: 'D'\n",
      "❌ Failed on TCGA-EI-6507_MSIH_x13312_y19968_patch00826.png: [Errno 2] No such file or directory: 'D'\n",
      "❌ Failed on TCGA-EI-6507_MSIH_x13312_y20480_patch00827.png: [Errno 2] No such file or directory: 'D'\n",
      "❌ Failed on TCGA-EI-6507_MSIH_x13312_y20992_patch00828.png: [Errno 2] No such file or directory: 'D'\n",
      "❌ Failed on TCGA-EI-6507_MSIH_x13312_y21504_patch00829.png: [Errno 2] No such file or directory: 'D'\n",
      "❌ Failed on TCGA-EI-6507_MSIH_x13312_y22016_patch00830.png: [Errno 2] No such file or directory: 'D'\n",
      "❌ Failed on TCGA-EI-6507_MSIH_x13312_y22528_patch00831.png: [Errno 2] No such file or directory: 'D'\n",
      "❌ Failed on TCGA-EI-6507_MSIH_x13312_y23040_patch00832.png: [Errno 2] No such file or directory: 'D'\n",
      "❌ Failed on TCGA-EI-6507_MSIH_x13312_y23552_patch00833.png: [Errno 2] No such file or directory: 'D'\n",
      "❌ Failed on TCGA-EI-6507_MSIH_x13312_y24064_patch00834.png: [Errno 2] No such file or directory: 'D'\n",
      "❌ Failed on TCGA-EI-6507_MSIH_x13312_y24576_patch00835.png: [Errno 2] No such file or directory: 'D'\n",
      "❌ Failed on TCGA-EI-6507_MSIH_x13312_y25088_patch00836.png: [Errno 2] No such file or directory: 'D'\n",
      "❌ Failed on TCGA-EI-6507_MSIH_x13312_y25600_patch00837.png: [Errno 2] No such file or directory: 'D'\n",
      "❌ Failed on TCGA-EI-6507_MSIH_x13312_y26112_patch00838.png: [Errno 2] No such file or directory: 'D'\n",
      "❌ Failed on TCGA-EI-6507_MSIH_x13312_y26624_patch00839.png: [Errno 2] No such file or directory: 'D'\n",
      "❌ Failed on TCGA-EI-6507_MSIH_x13312_y27136_patch00840.png: [Errno 2] No such file or directory: 'D'\n",
      "❌ Failed on TCGA-EI-6507_MSIH_x13312_y27648_patch00841.png: [Errno 2] No such file or directory: 'D'\n",
      "❌ Failed on TCGA-EI-6507_MSIH_x13312_y28160_patch00842.png: [Errno 2] No such file or directory: 'D'\n",
      "❌ Failed on TCGA-EI-6507_MSIH_x13312_y28672_patch00843.png: [Errno 2] No such file or directory: 'D'\n",
      "❌ Failed on TCGA-EI-6507_MSIH_x13312_y29184_patch00844.png: [Errno 2] No such file or directory: 'D'\n",
      "❌ Failed on TCGA-EI-6507_MSIH_x13312_y29696_patch00845.png: [Errno 2] No such file or directory: 'D'\n",
      "❌ Failed on TCGA-EI-6507_MSIH_x13312_y30208_patch00846.png: [Errno 2] No such file or directory: 'D'\n",
      "❌ Failed on TCGA-EI-6507_MSIH_x13312_y30720_patch00847.png: [Errno 2] No such file or directory: 'D'\n",
      "❌ Failed on TCGA-EI-6507_MSIH_x13312_y31232_patch00848.png: [Errno 2] No such file or directory: 'D'\n",
      "❌ Failed on TCGA-EI-6507_MSIH_x13312_y31744_patch00849.png: [Errno 2] No such file or directory: 'D'\n",
      "❌ Failed on TCGA-EI-6507_MSIH_x13312_y32256_patch00850.png: [Errno 2] No such file or directory: 'D'\n",
      "❌ Failed on TCGA-EI-6507_MSIH_x13312_y4608_patch00796.png: [Errno 2] No such file or directory: 'D'\n",
      "❌ Failed on TCGA-EI-6507_MSIH_x13312_y5120_patch00797.png: [Errno 2] No such file or directory: 'D'\n",
      "❌ Failed on TCGA-EI-6507_MSIH_x13312_y5632_patch00798.png: [Errno 2] No such file or directory: 'D'\n",
      "❌ Failed on TCGA-EI-6507_MSIH_x13312_y6144_patch00799.png: [Errno 2] No such file or directory: 'D'\n",
      "❌ Failed on TCGA-EI-6507_MSIH_x13312_y6656_patch00800.png: [Errno 2] No such file or directory: 'D'\n",
      "❌ Failed on TCGA-EI-6507_MSIH_x13312_y7168_patch00801.png: [Errno 2] No such file or directory: 'D'\n",
      "❌ Failed on TCGA-EI-6507_MSIH_x13312_y7680_patch00802.png: [Errno 2] No such file or directory: 'D'\n",
      "❌ Failed on TCGA-EI-6507_MSIH_x13312_y8192_patch00803.png: [Errno 2] No such file or directory: 'D'\n",
      "❌ Failed on TCGA-EI-6507_MSIH_x13312_y8704_patch00804.png: [Errno 2] No such file or directory: 'D'\n",
      "❌ Failed on TCGA-EI-6507_MSIH_x13312_y9216_patch00805.png: [Errno 2] No such file or directory: 'D'\n",
      "❌ Failed on TCGA-EI-6507_MSIH_x13312_y9728_patch00806.png: [Errno 2] No such file or directory: 'D'\n",
      "❌ Failed on TCGA-EI-6507_MSIH_x13824_y10240_patch00862.png: [Errno 2] No such file or directory: 'D'\n",
      "❌ Failed on TCGA-EI-6507_MSIH_x13824_y10752_patch00863.png: [Errno 2] No such file or directory: 'D'\n",
      "❌ Failed on TCGA-EI-6507_MSIH_x13824_y11264_patch00864.png: [Errno 2] No such file or directory: 'D'\n",
      "❌ Failed on TCGA-EI-6507_MSIH_x13824_y11776_patch00865.png: [Errno 2] No such file or directory: 'D'\n",
      "❌ Failed on TCGA-EI-6507_MSIH_x13824_y13312_patch00866.png: [Errno 2] No such file or directory: 'D'\n",
      "❌ Failed on TCGA-EI-6507_MSIH_x13824_y13824_patch00867.png: [Errno 2] No such file or directory: 'D'\n",
      "❌ Failed on TCGA-EI-6507_MSIH_x13824_y14336_patch00868.png: [Errno 2] No such file or directory: 'D'\n",
      "❌ Failed on TCGA-EI-6507_MSIH_x13824_y14848_patch00869.png: [Errno 2] No such file or directory: 'D'\n",
      "❌ Failed on TCGA-EI-6507_MSIH_x13824_y15360_patch00870.png: [Errno 2] No such file or directory: 'D'\n",
      "❌ Failed on TCGA-EI-6507_MSIH_x13824_y15872_patch00871.png: [Errno 2] No such file or directory: 'D'\n",
      "❌ Failed on TCGA-EI-6507_MSIH_x13824_y16384_patch00872.png: [Errno 2] No such file or directory: 'D'\n",
      "❌ Failed on TCGA-EI-6507_MSIH_x13824_y16896_patch00873.png: [Errno 2] No such file or directory: 'D'\n",
      "❌ Failed on TCGA-EI-6507_MSIH_x13824_y17408_patch00874.png: [Errno 2] No such file or directory: 'D'\n",
      "❌ Failed on TCGA-EI-6507_MSIH_x13824_y17920_patch00875.png: [Errno 2] No such file or directory: 'D'\n",
      "❌ Failed on TCGA-EI-6507_MSIH_x13824_y18432_patch00876.png: [Errno 2] No such file or directory: 'D'\n",
      "❌ Failed on TCGA-EI-6507_MSIH_x13824_y18944_patch00877.png: [Errno 2] No such file or directory: 'D'\n",
      "❌ Failed on TCGA-EI-6507_MSIH_x13824_y19456_patch00878.png: [Errno 2] No such file or directory: 'D'\n",
      "❌ Failed on TCGA-EI-6507_MSIH_x13824_y19968_patch00879.png: [Errno 2] No such file or directory: 'D'\n",
      "❌ Failed on TCGA-EI-6507_MSIH_x13824_y20480_patch00880.png: [Errno 2] No such file or directory: 'D'\n",
      "❌ Failed on TCGA-EI-6507_MSIH_x13824_y20992_patch00881.png: [Errno 2] No such file or directory: 'D'\n",
      "❌ Failed on TCGA-EI-6507_MSIH_x13824_y21504_patch00882.png: [Errno 2] No such file or directory: 'D'\n",
      "❌ Failed on TCGA-EI-6507_MSIH_x13824_y22016_patch00883.png: [Errno 2] No such file or directory: 'D'\n",
      "❌ Failed on TCGA-EI-6507_MSIH_x13824_y22528_patch00884.png: [Errno 2] No such file or directory: 'D'\n",
      "❌ Failed on TCGA-EI-6507_MSIH_x13824_y23040_patch00885.png: [Errno 2] No such file or directory: 'D'\n",
      "❌ Failed on TCGA-EI-6507_MSIH_x13824_y23552_patch00886.png: [Errno 2] No such file or directory: 'D'\n",
      "❌ Failed on TCGA-EI-6507_MSIH_x13824_y24064_patch00887.png: [Errno 2] No such file or directory: 'D'\n",
      "❌ Failed on TCGA-EI-6507_MSIH_x13824_y24576_patch00888.png: [Errno 2] No such file or directory: 'D'\n",
      "❌ Failed on TCGA-EI-6507_MSIH_x13824_y25088_patch00889.png: [Errno 2] No such file or directory: 'D'\n",
      "❌ Failed on TCGA-EI-6507_MSIH_x13824_y25600_patch00890.png: [Errno 2] No such file or directory: 'D'\n",
      "❌ Failed on TCGA-EI-6507_MSIH_x13824_y26112_patch00891.png: [Errno 2] No such file or directory: 'D'\n",
      "❌ Failed on TCGA-EI-6507_MSIH_x13824_y26624_patch00892.png: [Errno 2] No such file or directory: 'D'\n",
      "❌ Failed on TCGA-EI-6507_MSIH_x13824_y27136_patch00893.png: [Errno 2] No such file or directory: 'D'\n",
      "❌ Failed on TCGA-EI-6507_MSIH_x13824_y27648_patch00894.png: [Errno 2] No such file or directory: 'D'\n",
      "❌ Failed on TCGA-EI-6507_MSIH_x13824_y28160_patch00895.png: [Errno 2] No such file or directory: 'D'\n",
      "❌ Failed on TCGA-EI-6507_MSIH_x13824_y28672_patch00896.png: [Errno 2] No such file or directory: 'D'\n",
      "❌ Failed on TCGA-EI-6507_MSIH_x13824_y29184_patch00897.png: [Errno 2] No such file or directory: 'D'\n",
      "❌ Failed on TCGA-EI-6507_MSIH_x13824_y29696_patch00898.png: [Errno 2] No such file or directory: 'D'\n",
      "❌ Failed on TCGA-EI-6507_MSIH_x13824_y30208_patch00899.png: [Errno 2] No such file or directory: 'D'\n",
      "❌ Failed on TCGA-EI-6507_MSIH_x13824_y30720_patch00900.png: [Errno 2] No such file or directory: 'D'\n",
      "❌ Failed on TCGA-EI-6507_MSIH_x13824_y31232_patch00901.png: [Errno 2] No such file or directory: 'D'\n",
      "❌ Failed on TCGA-EI-6507_MSIH_x13824_y31744_patch00902.png: [Errno 2] No such file or directory: 'D'\n",
      "❌ Failed on TCGA-EI-6507_MSIH_x13824_y32256_patch00903.png: [Errno 2] No such file or directory: 'D'\n",
      "❌ Failed on TCGA-EI-6507_MSIH_x13824_y4608_patch00851.png: [Errno 2] No such file or directory: 'D'\n",
      "❌ Failed on TCGA-EI-6507_MSIH_x13824_y5120_patch00852.png: [Errno 2] No such file or directory: 'D'\n",
      "❌ Failed on TCGA-EI-6507_MSIH_x13824_y5632_patch00853.png: [Errno 2] No such file or directory: 'D'\n",
      "❌ Failed on TCGA-EI-6507_MSIH_x13824_y6144_patch00854.png: [Errno 2] No such file or directory: 'D'\n",
      "❌ Failed on TCGA-EI-6507_MSIH_x13824_y6656_patch00855.png: [Errno 2] No such file or directory: 'D'\n",
      "❌ Failed on TCGA-EI-6507_MSIH_x13824_y7168_patch00856.png: [Errno 2] No such file or directory: 'D'\n",
      "❌ Failed on TCGA-EI-6507_MSIH_x13824_y7680_patch00857.png: [Errno 2] No such file or directory: 'D'\n",
      "❌ Failed on TCGA-EI-6507_MSIH_x13824_y8192_patch00858.png: [Errno 2] No such file or directory: 'D'\n",
      "❌ Failed on TCGA-EI-6507_MSIH_x13824_y8704_patch00859.png: [Errno 2] No such file or directory: 'D'\n",
      "❌ Failed on TCGA-EI-6507_MSIH_x13824_y9216_patch00860.png: [Errno 2] No such file or directory: 'D'\n",
      "❌ Failed on TCGA-EI-6507_MSIH_x13824_y9728_patch00861.png: [Errno 2] No such file or directory: 'D'\n",
      "❌ Failed on TCGA-EI-6507_MSIH_x14336_y10240_patch00918.png: [Errno 2] No such file or directory: 'D'\n",
      "❌ Failed on TCGA-EI-6507_MSIH_x14336_y10752_patch00919.png: [Errno 2] No such file or directory: 'D'\n",
      "❌ Failed on TCGA-EI-6507_MSIH_x14336_y11264_patch00920.png: [Errno 2] No such file or directory: 'D'\n",
      "❌ Failed on TCGA-EI-6507_MSIH_x14336_y11776_patch00921.png: [Errno 2] No such file or directory: 'D'\n",
      "❌ Failed on TCGA-EI-6507_MSIH_x14336_y12288_patch00922.png: [Errno 2] No such file or directory: 'D'\n",
      "❌ Failed on TCGA-EI-6507_MSIH_x14336_y13312_patch00923.png: [Errno 2] No such file or directory: 'D'\n",
      "❌ Failed on TCGA-EI-6507_MSIH_x14336_y13824_patch00924.png: [Errno 2] No such file or directory: 'D'\n",
      "❌ Failed on TCGA-EI-6507_MSIH_x14336_y14336_patch00925.png: [Errno 2] No such file or directory: 'D'\n",
      "❌ Failed on TCGA-EI-6507_MSIH_x14336_y14848_patch00926.png: [Errno 2] No such file or directory: 'D'\n",
      "❌ Failed on TCGA-EI-6507_MSIH_x14336_y15360_patch00927.png: [Errno 2] No such file or directory: 'D'\n",
      "❌ Failed on TCGA-EI-6507_MSIH_x14336_y15872_patch00928.png: [Errno 2] No such file or directory: 'D'\n",
      "❌ Failed on TCGA-EI-6507_MSIH_x14336_y16384_patch00929.png: [Errno 2] No such file or directory: 'D'\n",
      "❌ Failed on TCGA-EI-6507_MSIH_x14336_y16896_patch00930.png: [Errno 2] No such file or directory: 'D'\n",
      "❌ Failed on TCGA-EI-6507_MSIH_x14336_y17408_patch00931.png: [Errno 2] No such file or directory: 'D'\n",
      "❌ Failed on TCGA-EI-6507_MSIH_x14336_y17920_patch00932.png: [Errno 2] No such file or directory: 'D'\n",
      "❌ Failed on TCGA-EI-6507_MSIH_x14336_y18432_patch00933.png: [Errno 2] No such file or directory: 'D'\n",
      "❌ Failed on TCGA-EI-6507_MSIH_x14336_y18944_patch00934.png: [Errno 2] No such file or directory: 'D'\n",
      "❌ Failed on TCGA-EI-6507_MSIH_x14336_y19456_patch00935.png: [Errno 2] No such file or directory: 'D'\n",
      "❌ Failed on TCGA-EI-6507_MSIH_x14336_y19968_patch00936.png: [Errno 2] No such file or directory: 'D'\n",
      "❌ Failed on TCGA-EI-6507_MSIH_x14336_y20480_patch00937.png: [Errno 2] No such file or directory: 'D'\n",
      "❌ Failed on TCGA-EI-6507_MSIH_x14336_y20992_patch00938.png: [Errno 2] No such file or directory: 'D'\n",
      "❌ Failed on TCGA-EI-6507_MSIH_x14336_y21504_patch00939.png: [Errno 2] No such file or directory: 'D'\n",
      "❌ Failed on TCGA-EI-6507_MSIH_x14336_y22016_patch00940.png: [Errno 2] No such file or directory: 'D'\n",
      "❌ Failed on TCGA-EI-6507_MSIH_x14336_y22528_patch00941.png: [Errno 2] No such file or directory: 'D'\n",
      "❌ Failed on TCGA-EI-6507_MSIH_x14336_y23040_patch00942.png: [Errno 2] No such file or directory: 'D'\n",
      "❌ Failed on TCGA-EI-6507_MSIH_x14336_y23552_patch00943.png: [Errno 2] No such file or directory: 'D'\n",
      "❌ Failed on TCGA-EI-6507_MSIH_x14336_y24064_patch00944.png: [Errno 2] No such file or directory: 'D'\n",
      "❌ Failed on TCGA-EI-6507_MSIH_x14336_y24576_patch00945.png: [Errno 2] No such file or directory: 'D'\n",
      "❌ Failed on TCGA-EI-6507_MSIH_x14336_y25088_patch00946.png: [Errno 2] No such file or directory: 'D'\n",
      "❌ Failed on TCGA-EI-6507_MSIH_x14336_y25600_patch00947.png: [Errno 2] No such file or directory: 'D'\n",
      "❌ Failed on TCGA-EI-6507_MSIH_x14336_y26112_patch00948.png: [Errno 2] No such file or directory: 'D'\n",
      "❌ Failed on TCGA-EI-6507_MSIH_x14336_y26624_patch00949.png: [Errno 2] No such file or directory: 'D'\n",
      "❌ Failed on TCGA-EI-6507_MSIH_x14336_y27136_patch00950.png: [Errno 2] No such file or directory: 'D'\n",
      "❌ Failed on TCGA-EI-6507_MSIH_x14336_y27648_patch00951.png: [Errno 2] No such file or directory: 'D'\n",
      "❌ Failed on TCGA-EI-6507_MSIH_x14336_y28160_patch00952.png: [Errno 2] No such file or directory: 'D'\n",
      "❌ Failed on TCGA-EI-6507_MSIH_x14336_y28672_patch00953.png: [Errno 2] No such file or directory: 'D'\n",
      "❌ Failed on TCGA-EI-6507_MSIH_x14336_y29184_patch00954.png: [Errno 2] No such file or directory: 'D'\n",
      "❌ Failed on TCGA-EI-6507_MSIH_x14336_y29696_patch00955.png: [Errno 2] No such file or directory: 'D'\n",
      "❌ Failed on TCGA-EI-6507_MSIH_x14336_y30208_patch00956.png: [Errno 2] No such file or directory: 'D'\n",
      "❌ Failed on TCGA-EI-6507_MSIH_x14336_y30720_patch00957.png: [Errno 2] No such file or directory: 'D'\n",
      "❌ Failed on TCGA-EI-6507_MSIH_x14336_y3072_patch00904.png: [Errno 2] No such file or directory: 'D'\n",
      "❌ Failed on TCGA-EI-6507_MSIH_x14336_y31232_patch00958.png: [Errno 2] No such file or directory: 'D'\n",
      "❌ Failed on TCGA-EI-6507_MSIH_x14336_y31744_patch00959.png: [Errno 2] No such file or directory: 'D'\n",
      "❌ Failed on TCGA-EI-6507_MSIH_x14336_y32256_patch00960.png: [Errno 2] No such file or directory: 'D'\n",
      "❌ Failed on TCGA-EI-6507_MSIH_x14336_y32768_patch00961.png: [Errno 2] No such file or directory: 'D'\n",
      "❌ Failed on TCGA-EI-6507_MSIH_x14336_y3584_patch00905.png: [Errno 2] No such file or directory: 'D'\n",
      "❌ Failed on TCGA-EI-6507_MSIH_x14336_y4096_patch00906.png: [Errno 2] No such file or directory: 'D'\n",
      "❌ Failed on TCGA-EI-6507_MSIH_x14336_y4608_patch00907.png: [Errno 2] No such file or directory: 'D'\n",
      "❌ Failed on TCGA-EI-6507_MSIH_x14336_y5120_patch00908.png: [Errno 2] No such file or directory: 'D'\n",
      "❌ Failed on TCGA-EI-6507_MSIH_x14336_y5632_patch00909.png: [Errno 2] No such file or directory: 'D'\n",
      "❌ Failed on TCGA-EI-6507_MSIH_x14336_y6144_patch00910.png: [Errno 2] No such file or directory: 'D'\n",
      "❌ Failed on TCGA-EI-6507_MSIH_x14336_y6656_patch00911.png: [Errno 2] No such file or directory: 'D'\n",
      "❌ Failed on TCGA-EI-6507_MSIH_x14336_y7168_patch00912.png: [Errno 2] No such file or directory: 'D'\n",
      "❌ Failed on TCGA-EI-6507_MSIH_x14336_y7680_patch00913.png: [Errno 2] No such file or directory: 'D'\n",
      "❌ Failed on TCGA-EI-6507_MSIH_x14336_y8192_patch00914.png: [Errno 2] No such file or directory: 'D'\n",
      "❌ Failed on TCGA-EI-6507_MSIH_x14336_y8704_patch00915.png: [Errno 2] No such file or directory: 'D'\n",
      "❌ Failed on TCGA-EI-6507_MSIH_x14336_y9216_patch00916.png: [Errno 2] No such file or directory: 'D'\n",
      "❌ Failed on TCGA-EI-6507_MSIH_x14336_y9728_patch00917.png: [Errno 2] No such file or directory: 'D'\n",
      "❌ Failed on TCGA-EI-6507_MSIH_x14848_y10240_patch00978.png: [Errno 2] No such file or directory: 'D'\n",
      "❌ Failed on TCGA-EI-6507_MSIH_x14848_y10752_patch00979.png: [Errno 2] No such file or directory: 'D'\n",
      "❌ Failed on TCGA-EI-6507_MSIH_x14848_y11264_patch00980.png: [Errno 2] No such file or directory: 'D'\n",
      "❌ Failed on TCGA-EI-6507_MSIH_x14848_y11776_patch00981.png: [Errno 2] No such file or directory: 'D'\n",
      "❌ Failed on TCGA-EI-6507_MSIH_x14848_y12288_patch00982.png: [Errno 2] No such file or directory: 'D'\n",
      "❌ Failed on TCGA-EI-6507_MSIH_x14848_y13824_patch00983.png: [Errno 2] No such file or directory: 'D'\n",
      "❌ Failed on TCGA-EI-6507_MSIH_x14848_y14336_patch00984.png: [Errno 2] No such file or directory: 'D'\n",
      "❌ Failed on TCGA-EI-6507_MSIH_x14848_y14848_patch00985.png: [Errno 2] No such file or directory: 'D'\n",
      "❌ Failed on TCGA-EI-6507_MSIH_x14848_y15360_patch00986.png: [Errno 2] No such file or directory: 'D'\n",
      "❌ Failed on TCGA-EI-6507_MSIH_x14848_y15872_patch00987.png: [Errno 2] No such file or directory: 'D'\n",
      "❌ Failed on TCGA-EI-6507_MSIH_x14848_y16384_patch00988.png: [Errno 2] No such file or directory: 'D'\n",
      "❌ Failed on TCGA-EI-6507_MSIH_x14848_y16896_patch00989.png: [Errno 2] No such file or directory: 'D'\n",
      "❌ Failed on TCGA-EI-6507_MSIH_x14848_y17408_patch00990.png: [Errno 2] No such file or directory: 'D'\n",
      "❌ Failed on TCGA-EI-6507_MSIH_x14848_y17920_patch00991.png: [Errno 2] No such file or directory: 'D'\n",
      "❌ Failed on TCGA-EI-6507_MSIH_x14848_y18432_patch00992.png: [Errno 2] No such file or directory: 'D'\n",
      "❌ Failed on TCGA-EI-6507_MSIH_x14848_y18944_patch00993.png: [Errno 2] No such file or directory: 'D'\n",
      "❌ Failed on TCGA-EI-6507_MSIH_x14848_y19456_patch00994.png: [Errno 2] No such file or directory: 'D'\n",
      "❌ Failed on TCGA-EI-6507_MSIH_x14848_y19968_patch00995.png: [Errno 2] No such file or directory: 'D'\n",
      "❌ Failed on TCGA-EI-6507_MSIH_x14848_y20480_patch00996.png: [Errno 2] No such file or directory: 'D'\n",
      "❌ Failed on TCGA-EI-6507_MSIH_x14848_y2048_patch00962.png: [Errno 2] No such file or directory: 'D'\n",
      "❌ Failed on TCGA-EI-6507_MSIH_x14848_y20992_patch00997.png: [Errno 2] No such file or directory: 'D'\n",
      "❌ Failed on TCGA-EI-6507_MSIH_x14848_y21504_patch00998.png: [Errno 2] No such file or directory: 'D'\n",
      "❌ Failed on TCGA-EI-6507_MSIH_x14848_y22016_patch00999.png: [Errno 2] No such file or directory: 'D'\n",
      "❌ Failed on TCGA-EI-6507_MSIH_x14848_y22528_patch01000.png: [Errno 2] No such file or directory: 'D'\n",
      "❌ Failed on TCGA-EI-6507_MSIH_x14848_y23040_patch01001.png: [Errno 2] No such file or directory: 'D'\n",
      "❌ Failed on TCGA-EI-6507_MSIH_x14848_y23552_patch01002.png: [Errno 2] No such file or directory: 'D'\n",
      "❌ Failed on TCGA-EI-6507_MSIH_x14848_y24064_patch01003.png: [Errno 2] No such file or directory: 'D'\n",
      "❌ Failed on TCGA-EI-6507_MSIH_x14848_y24576_patch01004.png: [Errno 2] No such file or directory: 'D'\n",
      "❌ Failed on TCGA-EI-6507_MSIH_x14848_y25088_patch01005.png: [Errno 2] No such file or directory: 'D'\n",
      "❌ Failed on TCGA-EI-6507_MSIH_x14848_y25600_patch01006.png: [Errno 2] No such file or directory: 'D'\n",
      "❌ Failed on TCGA-EI-6507_MSIH_x14848_y2560_patch00963.png: [Errno 2] No such file or directory: 'D'\n",
      "❌ Failed on TCGA-EI-6507_MSIH_x14848_y26112_patch01007.png: [Errno 2] No such file or directory: 'D'\n",
      "❌ Failed on TCGA-EI-6507_MSIH_x14848_y26624_patch01008.png: [Errno 2] No such file or directory: 'D'\n",
      "❌ Failed on TCGA-EI-6507_MSIH_x14848_y27136_patch01009.png: [Errno 2] No such file or directory: 'D'\n",
      "❌ Failed on TCGA-EI-6507_MSIH_x14848_y27648_patch01010.png: [Errno 2] No such file or directory: 'D'\n",
      "❌ Failed on TCGA-EI-6507_MSIH_x14848_y28160_patch01011.png: [Errno 2] No such file or directory: 'D'\n",
      "❌ Failed on TCGA-EI-6507_MSIH_x14848_y28672_patch01012.png: [Errno 2] No such file or directory: 'D'\n",
      "❌ Failed on TCGA-EI-6507_MSIH_x14848_y29184_patch01013.png: [Errno 2] No such file or directory: 'D'\n",
      "❌ Failed on TCGA-EI-6507_MSIH_x14848_y29696_patch01014.png: [Errno 2] No such file or directory: 'D'\n",
      "❌ Failed on TCGA-EI-6507_MSIH_x14848_y30208_patch01015.png: [Errno 2] No such file or directory: 'D'\n",
      "❌ Failed on TCGA-EI-6507_MSIH_x14848_y30720_patch01016.png: [Errno 2] No such file or directory: 'D'\n",
      "❌ Failed on TCGA-EI-6507_MSIH_x14848_y3072_patch00964.png: [Errno 2] No such file or directory: 'D'\n",
      "❌ Failed on TCGA-EI-6507_MSIH_x14848_y31232_patch01017.png: [Errno 2] No such file or directory: 'D'\n",
      "❌ Failed on TCGA-EI-6507_MSIH_x14848_y31744_patch01018.png: [Errno 2] No such file or directory: 'D'\n",
      "❌ Failed on TCGA-EI-6507_MSIH_x14848_y32256_patch01019.png: [Errno 2] No such file or directory: 'D'\n",
      "❌ Failed on TCGA-EI-6507_MSIH_x14848_y32768_patch01020.png: [Errno 2] No such file or directory: 'D'\n",
      "❌ Failed on TCGA-EI-6507_MSIH_x14848_y3584_patch00965.png: [Errno 2] No such file or directory: 'D'\n",
      "❌ Failed on TCGA-EI-6507_MSIH_x14848_y4096_patch00966.png: [Errno 2] No such file or directory: 'D'\n",
      "❌ Failed on TCGA-EI-6507_MSIH_x14848_y4608_patch00967.png: [Errno 2] No such file or directory: 'D'\n",
      "❌ Failed on TCGA-EI-6507_MSIH_x14848_y5120_patch00968.png: [Errno 2] No such file or directory: 'D'\n",
      "❌ Failed on TCGA-EI-6507_MSIH_x14848_y5632_patch00969.png: [Errno 2] No such file or directory: 'D'\n",
      "❌ Failed on TCGA-EI-6507_MSIH_x14848_y6144_patch00970.png: [Errno 2] No such file or directory: 'D'\n",
      "❌ Failed on TCGA-EI-6507_MSIH_x14848_y6656_patch00971.png: [Errno 2] No such file or directory: 'D'\n",
      "❌ Failed on TCGA-EI-6507_MSIH_x14848_y7168_patch00972.png: [Errno 2] No such file or directory: 'D'\n",
      "❌ Failed on TCGA-EI-6507_MSIH_x14848_y7680_patch00973.png: [Errno 2] No such file or directory: 'D'\n",
      "❌ Failed on TCGA-EI-6507_MSIH_x14848_y8192_patch00974.png: [Errno 2] No such file or directory: 'D'\n",
      "❌ Failed on TCGA-EI-6507_MSIH_x14848_y8704_patch00975.png: [Errno 2] No such file or directory: 'D'\n",
      "❌ Failed on TCGA-EI-6507_MSIH_x14848_y9216_patch00976.png: [Errno 2] No such file or directory: 'D'\n",
      "❌ Failed on TCGA-EI-6507_MSIH_x14848_y9728_patch00977.png: [Errno 2] No such file or directory: 'D'\n",
      "❌ Failed on TCGA-EI-6507_MSIH_x15360_y10240_patch01038.png: [Errno 2] No such file or directory: 'D'\n",
      "❌ Failed on TCGA-EI-6507_MSIH_x15360_y10752_patch01039.png: [Errno 2] No such file or directory: 'D'\n",
      "❌ Failed on TCGA-EI-6507_MSIH_x15360_y11264_patch01040.png: [Errno 2] No such file or directory: 'D'\n",
      "❌ Failed on TCGA-EI-6507_MSIH_x15360_y11776_patch01041.png: [Errno 2] No such file or directory: 'D'\n",
      "❌ Failed on TCGA-EI-6507_MSIH_x15360_y12288_patch01042.png: [Errno 2] No such file or directory: 'D'\n",
      "❌ Failed on TCGA-EI-6507_MSIH_x15360_y13312_patch01043.png: [Errno 2] No such file or directory: 'D'\n",
      "❌ Failed on TCGA-EI-6507_MSIH_x15360_y13824_patch01044.png: [Errno 2] No such file or directory: 'D'\n",
      "❌ Failed on TCGA-EI-6507_MSIH_x15360_y14336_patch01045.png: [Errno 2] No such file or directory: 'D'\n",
      "❌ Failed on TCGA-EI-6507_MSIH_x15360_y14848_patch01046.png: [Errno 2] No such file or directory: 'D'\n",
      "❌ Failed on TCGA-EI-6507_MSIH_x15360_y15360_patch01047.png: [Errno 2] No such file or directory: 'D'\n",
      "❌ Failed on TCGA-EI-6507_MSIH_x15360_y1536_patch01021.png: [Errno 2] No such file or directory: 'D'\n",
      "❌ Failed on TCGA-EI-6507_MSIH_x15360_y15872_patch01048.png: [Errno 2] No such file or directory: 'D'\n",
      "❌ Failed on TCGA-EI-6507_MSIH_x15360_y16384_patch01049.png: [Errno 2] No such file or directory: 'D'\n",
      "❌ Failed on TCGA-EI-6507_MSIH_x15360_y16896_patch01050.png: [Errno 2] No such file or directory: 'D'\n",
      "❌ Failed on TCGA-EI-6507_MSIH_x15360_y17408_patch01051.png: [Errno 2] No such file or directory: 'D'\n",
      "❌ Failed on TCGA-EI-6507_MSIH_x15360_y17920_patch01052.png: [Errno 2] No such file or directory: 'D'\n",
      "❌ Failed on TCGA-EI-6507_MSIH_x15360_y18432_patch01053.png: [Errno 2] No such file or directory: 'D'\n",
      "❌ Failed on TCGA-EI-6507_MSIH_x15360_y18944_patch01054.png: [Errno 2] No such file or directory: 'D'\n",
      "❌ Failed on TCGA-EI-6507_MSIH_x15360_y19456_patch01055.png: [Errno 2] No such file or directory: 'D'\n",
      "❌ Failed on TCGA-EI-6507_MSIH_x15360_y19968_patch01056.png: [Errno 2] No such file or directory: 'D'\n",
      "❌ Failed on TCGA-EI-6507_MSIH_x15360_y20480_patch01057.png: [Errno 2] No such file or directory: 'D'\n",
      "❌ Failed on TCGA-EI-6507_MSIH_x15360_y2048_patch01022.png: [Errno 2] No such file or directory: 'D'\n",
      "❌ Failed on TCGA-EI-6507_MSIH_x15360_y20992_patch01058.png: [Errno 2] No such file or directory: 'D'\n",
      "❌ Failed on TCGA-EI-6507_MSIH_x15360_y21504_patch01059.png: [Errno 2] No such file or directory: 'D'\n",
      "❌ Failed on TCGA-EI-6507_MSIH_x15360_y22016_patch01060.png: [Errno 2] No such file or directory: 'D'\n",
      "❌ Failed on TCGA-EI-6507_MSIH_x15360_y22528_patch01061.png: [Errno 2] No such file or directory: 'D'\n",
      "❌ Failed on TCGA-EI-6507_MSIH_x15360_y23040_patch01062.png: [Errno 2] No such file or directory: 'D'\n",
      "❌ Failed on TCGA-EI-6507_MSIH_x15360_y23552_patch01063.png: [Errno 2] No such file or directory: 'D'\n",
      "❌ Failed on TCGA-EI-6507_MSIH_x15360_y24064_patch01064.png: [Errno 2] No such file or directory: 'D'\n",
      "❌ Failed on TCGA-EI-6507_MSIH_x15360_y24576_patch01065.png: [Errno 2] No such file or directory: 'D'\n",
      "❌ Failed on TCGA-EI-6507_MSIH_x15360_y25088_patch01066.png: [Errno 2] No such file or directory: 'D'\n",
      "❌ Failed on TCGA-EI-6507_MSIH_x15360_y25600_patch01067.png: [Errno 2] No such file or directory: 'D'\n",
      "❌ Failed on TCGA-EI-6507_MSIH_x15360_y2560_patch01023.png: [Errno 2] No such file or directory: 'D'\n",
      "❌ Failed on TCGA-EI-6507_MSIH_x15360_y26112_patch01068.png: [Errno 2] No such file or directory: 'D'\n",
      "❌ Failed on TCGA-EI-6507_MSIH_x15360_y26624_patch01069.png: [Errno 2] No such file or directory: 'D'\n",
      "❌ Failed on TCGA-EI-6507_MSIH_x15360_y27136_patch01070.png: [Errno 2] No such file or directory: 'D'\n",
      "❌ Failed on TCGA-EI-6507_MSIH_x15360_y27648_patch01071.png: [Errno 2] No such file or directory: 'D'\n",
      "❌ Failed on TCGA-EI-6507_MSIH_x15360_y28160_patch01072.png: [Errno 2] No such file or directory: 'D'\n",
      "❌ Failed on TCGA-EI-6507_MSIH_x15360_y28672_patch01073.png: [Errno 2] No such file or directory: 'D'\n",
      "❌ Failed on TCGA-EI-6507_MSIH_x15360_y29184_patch01074.png: [Errno 2] No such file or directory: 'D'\n",
      "❌ Failed on TCGA-EI-6507_MSIH_x15360_y29696_patch01075.png: [Errno 2] No such file or directory: 'D'\n",
      "❌ Failed on TCGA-EI-6507_MSIH_x15360_y30208_patch01076.png: [Errno 2] No such file or directory: 'D'\n",
      "❌ Failed on TCGA-EI-6507_MSIH_x15360_y30720_patch01077.png: [Errno 2] No such file or directory: 'D'\n",
      "❌ Failed on TCGA-EI-6507_MSIH_x15360_y3072_patch01024.png: [Errno 2] No such file or directory: 'D'\n",
      "❌ Failed on TCGA-EI-6507_MSIH_x15360_y31232_patch01078.png: [Errno 2] No such file or directory: 'D'\n",
      "❌ Failed on TCGA-EI-6507_MSIH_x15360_y31744_patch01079.png: [Errno 2] No such file or directory: 'D'\n",
      "❌ Failed on TCGA-EI-6507_MSIH_x15360_y32256_patch01080.png: [Errno 2] No such file or directory: 'D'\n",
      "❌ Failed on TCGA-EI-6507_MSIH_x15360_y32768_patch01081.png: [Errno 2] No such file or directory: 'D'\n",
      "❌ Failed on TCGA-EI-6507_MSIH_x15360_y33280_patch01082.png: [Errno 2] No such file or directory: 'D'\n",
      "❌ Failed on TCGA-EI-6507_MSIH_x15360_y3584_patch01025.png: [Errno 2] No such file or directory: 'D'\n",
      "❌ Failed on TCGA-EI-6507_MSIH_x15360_y4096_patch01026.png: [Errno 2] No such file or directory: 'D'\n",
      "❌ Failed on TCGA-EI-6507_MSIH_x15360_y4608_patch01027.png: [Errno 2] No such file or directory: 'D'\n",
      "❌ Failed on TCGA-EI-6507_MSIH_x15360_y5120_patch01028.png: [Errno 2] No such file or directory: 'D'\n",
      "❌ Failed on TCGA-EI-6507_MSIH_x15360_y5632_patch01029.png: [Errno 2] No such file or directory: 'D'\n",
      "❌ Failed on TCGA-EI-6507_MSIH_x15360_y6144_patch01030.png: [Errno 2] No such file or directory: 'D'\n",
      "❌ Failed on TCGA-EI-6507_MSIH_x15360_y6656_patch01031.png: [Errno 2] No such file or directory: 'D'\n",
      "❌ Failed on TCGA-EI-6507_MSIH_x15360_y7168_patch01032.png: [Errno 2] No such file or directory: 'D'\n",
      "❌ Failed on TCGA-EI-6507_MSIH_x15360_y7680_patch01033.png: [Errno 2] No such file or directory: 'D'\n",
      "❌ Failed on TCGA-EI-6507_MSIH_x15360_y8192_patch01034.png: [Errno 2] No such file or directory: 'D'\n",
      "❌ Failed on TCGA-EI-6507_MSIH_x15360_y8704_patch01035.png: [Errno 2] No such file or directory: 'D'\n",
      "❌ Failed on TCGA-EI-6507_MSIH_x15360_y9216_patch01036.png: [Errno 2] No such file or directory: 'D'\n",
      "❌ Failed on TCGA-EI-6507_MSIH_x15360_y9728_patch01037.png: [Errno 2] No such file or directory: 'D'\n",
      "❌ Failed on TCGA-EI-6507_MSIH_x1536_y18432_patch00031.png: [Errno 2] No such file or directory: 'D'\n",
      "❌ Failed on TCGA-EI-6507_MSIH_x1536_y18944_patch00032.png: [Errno 2] No such file or directory: 'D'\n",
      "❌ Failed on TCGA-EI-6507_MSIH_x1536_y19456_patch00033.png: [Errno 2] No such file or directory: 'D'\n",
      "❌ Failed on TCGA-EI-6507_MSIH_x1536_y19968_patch00034.png: [Errno 2] No such file or directory: 'D'\n",
      "❌ Failed on TCGA-EI-6507_MSIH_x1536_y20480_patch00035.png: [Errno 2] No such file or directory: 'D'\n",
      "❌ Failed on TCGA-EI-6507_MSIH_x1536_y20992_patch00036.png: [Errno 2] No such file or directory: 'D'\n",
      "❌ Failed on TCGA-EI-6507_MSIH_x1536_y21504_patch00037.png: [Errno 2] No such file or directory: 'D'\n",
      "❌ Failed on TCGA-EI-6507_MSIH_x1536_y22016_patch00038.png: [Errno 2] No such file or directory: 'D'\n",
      "❌ Failed on TCGA-EI-6507_MSIH_x1536_y22528_patch00039.png: [Errno 2] No such file or directory: 'D'\n",
      "❌ Failed on TCGA-EI-6507_MSIH_x1536_y23040_patch00040.png: [Errno 2] No such file or directory: 'D'\n",
      "❌ Failed on TCGA-EI-6507_MSIH_x1536_y23552_patch00041.png: [Errno 2] No such file or directory: 'D'\n",
      "❌ Failed on TCGA-EI-6507_MSIH_x1536_y24064_patch00042.png: [Errno 2] No such file or directory: 'D'\n",
      "❌ Failed on TCGA-EI-6507_MSIH_x1536_y24576_patch00043.png: [Errno 2] No such file or directory: 'D'\n",
      "❌ Failed on TCGA-EI-6507_MSIH_x1536_y25088_patch00044.png: [Errno 2] No such file or directory: 'D'\n",
      "❌ Failed on TCGA-EI-6507_MSIH_x15872_y10240_patch01101.png: [Errno 2] No such file or directory: 'D'\n",
      "❌ Failed on TCGA-EI-6507_MSIH_x15872_y1024_patch01083.png: [Errno 2] No such file or directory: 'D'\n",
      "❌ Failed on TCGA-EI-6507_MSIH_x15872_y10752_patch01102.png: [Errno 2] No such file or directory: 'D'\n",
      "❌ Failed on TCGA-EI-6507_MSIH_x15872_y11264_patch01103.png: [Errno 2] No such file or directory: 'D'\n",
      "❌ Failed on TCGA-EI-6507_MSIH_x15872_y11776_patch01104.png: [Errno 2] No such file or directory: 'D'\n",
      "❌ Failed on TCGA-EI-6507_MSIH_x15872_y12288_patch01105.png: [Errno 2] No such file or directory: 'D'\n",
      "❌ Failed on TCGA-EI-6507_MSIH_x15872_y12800_patch01106.png: [Errno 2] No such file or directory: 'D'\n",
      "❌ Failed on TCGA-EI-6507_MSIH_x15872_y13312_patch01107.png: [Errno 2] No such file or directory: 'D'\n",
      "❌ Failed on TCGA-EI-6507_MSIH_x15872_y13824_patch01108.png: [Errno 2] No such file or directory: 'D'\n",
      "❌ Failed on TCGA-EI-6507_MSIH_x15872_y14336_patch01109.png: [Errno 2] No such file or directory: 'D'\n",
      "❌ Failed on TCGA-EI-6507_MSIH_x15872_y14848_patch01110.png: [Errno 2] No such file or directory: 'D'\n",
      "❌ Failed on TCGA-EI-6507_MSIH_x15872_y15360_patch01111.png: [Errno 2] No such file or directory: 'D'\n",
      "❌ Failed on TCGA-EI-6507_MSIH_x15872_y1536_patch01084.png: [Errno 2] No such file or directory: 'D'\n",
      "❌ Failed on TCGA-EI-6507_MSIH_x15872_y15872_patch01112.png: [Errno 2] No such file or directory: 'D'\n",
      "❌ Failed on TCGA-EI-6507_MSIH_x15872_y16384_patch01113.png: [Errno 2] No such file or directory: 'D'\n",
      "❌ Failed on TCGA-EI-6507_MSIH_x15872_y16896_patch01114.png: [Errno 2] No such file or directory: 'D'\n",
      "❌ Failed on TCGA-EI-6507_MSIH_x15872_y17408_patch01115.png: [Errno 2] No such file or directory: 'D'\n",
      "❌ Failed on TCGA-EI-6507_MSIH_x15872_y17920_patch01116.png: [Errno 2] No such file or directory: 'D'\n",
      "❌ Failed on TCGA-EI-6507_MSIH_x15872_y18432_patch01117.png: [Errno 2] No such file or directory: 'D'\n",
      "❌ Failed on TCGA-EI-6507_MSIH_x15872_y18944_patch01118.png: [Errno 2] No such file or directory: 'D'\n",
      "❌ Failed on TCGA-EI-6507_MSIH_x15872_y19456_patch01119.png: [Errno 2] No such file or directory: 'D'\n",
      "❌ Failed on TCGA-EI-6507_MSIH_x15872_y19968_patch01120.png: [Errno 2] No such file or directory: 'D'\n",
      "❌ Failed on TCGA-EI-6507_MSIH_x15872_y20480_patch01121.png: [Errno 2] No such file or directory: 'D'\n",
      "❌ Failed on TCGA-EI-6507_MSIH_x15872_y2048_patch01085.png: [Errno 2] No such file or directory: 'D'\n",
      "❌ Failed on TCGA-EI-6507_MSIH_x15872_y20992_patch01122.png: [Errno 2] No such file or directory: 'D'\n",
      "❌ Failed on TCGA-EI-6507_MSIH_x15872_y21504_patch01123.png: [Errno 2] No such file or directory: 'D'\n",
      "❌ Failed on TCGA-EI-6507_MSIH_x15872_y22016_patch01124.png: [Errno 2] No such file or directory: 'D'\n",
      "❌ Failed on TCGA-EI-6507_MSIH_x15872_y22528_patch01125.png: [Errno 2] No such file or directory: 'D'\n",
      "❌ Failed on TCGA-EI-6507_MSIH_x15872_y23040_patch01126.png: [Errno 2] No such file or directory: 'D'\n",
      "❌ Failed on TCGA-EI-6507_MSIH_x15872_y23552_patch01127.png: [Errno 2] No such file or directory: 'D'\n",
      "❌ Failed on TCGA-EI-6507_MSIH_x15872_y24064_patch01128.png: [Errno 2] No such file or directory: 'D'\n",
      "❌ Failed on TCGA-EI-6507_MSIH_x15872_y24576_patch01129.png: [Errno 2] No such file or directory: 'D'\n",
      "❌ Failed on TCGA-EI-6507_MSIH_x15872_y25088_patch01130.png: [Errno 2] No such file or directory: 'D'\n",
      "❌ Failed on TCGA-EI-6507_MSIH_x15872_y25600_patch01131.png: [Errno 2] No such file or directory: 'D'\n",
      "❌ Failed on TCGA-EI-6507_MSIH_x15872_y2560_patch01086.png: [Errno 2] No such file or directory: 'D'\n",
      "❌ Failed on TCGA-EI-6507_MSIH_x15872_y26112_patch01132.png: [Errno 2] No such file or directory: 'D'\n",
      "❌ Failed on TCGA-EI-6507_MSIH_x15872_y26624_patch01133.png: [Errno 2] No such file or directory: 'D'\n",
      "❌ Failed on TCGA-EI-6507_MSIH_x15872_y27136_patch01134.png: [Errno 2] No such file or directory: 'D'\n",
      "❌ Failed on TCGA-EI-6507_MSIH_x15872_y27648_patch01135.png: [Errno 2] No such file or directory: 'D'\n",
      "❌ Failed on TCGA-EI-6507_MSIH_x15872_y28160_patch01136.png: [Errno 2] No such file or directory: 'D'\n",
      "❌ Failed on TCGA-EI-6507_MSIH_x15872_y28672_patch01137.png: [Errno 2] No such file or directory: 'D'\n",
      "❌ Failed on TCGA-EI-6507_MSIH_x15872_y29184_patch01138.png: [Errno 2] No such file or directory: 'D'\n",
      "❌ Failed on TCGA-EI-6507_MSIH_x15872_y29696_patch01139.png: [Errno 2] No such file or directory: 'D'\n",
      "❌ Failed on TCGA-EI-6507_MSIH_x15872_y30208_patch01140.png: [Errno 2] No such file or directory: 'D'\n",
      "❌ Failed on TCGA-EI-6507_MSIH_x15872_y30720_patch01141.png: [Errno 2] No such file or directory: 'D'\n",
      "❌ Failed on TCGA-EI-6507_MSIH_x15872_y3072_patch01087.png: [Errno 2] No such file or directory: 'D'\n",
      "❌ Failed on TCGA-EI-6507_MSIH_x15872_y31232_patch01142.png: [Errno 2] No such file or directory: 'D'\n",
      "❌ Failed on TCGA-EI-6507_MSIH_x15872_y31744_patch01143.png: [Errno 2] No such file or directory: 'D'\n",
      "❌ Failed on TCGA-EI-6507_MSIH_x15872_y32256_patch01144.png: [Errno 2] No such file or directory: 'D'\n",
      "❌ Failed on TCGA-EI-6507_MSIH_x15872_y32768_patch01145.png: [Errno 2] No such file or directory: 'D'\n",
      "❌ Failed on TCGA-EI-6507_MSIH_x15872_y33280_patch01146.png: [Errno 2] No such file or directory: 'D'\n",
      "❌ Failed on TCGA-EI-6507_MSIH_x15872_y3584_patch01088.png: [Errno 2] No such file or directory: 'D'\n",
      "❌ Failed on TCGA-EI-6507_MSIH_x15872_y4096_patch01089.png: [Errno 2] No such file or directory: 'D'\n",
      "❌ Failed on TCGA-EI-6507_MSIH_x15872_y4608_patch01090.png: [Errno 2] No such file or directory: 'D'\n",
      "❌ Failed on TCGA-EI-6507_MSIH_x15872_y5120_patch01091.png: [Errno 2] No such file or directory: 'D'\n",
      "❌ Failed on TCGA-EI-6507_MSIH_x15872_y5632_patch01092.png: [Errno 2] No such file or directory: 'D'\n",
      "❌ Failed on TCGA-EI-6507_MSIH_x15872_y6144_patch01093.png: [Errno 2] No such file or directory: 'D'\n",
      "❌ Failed on TCGA-EI-6507_MSIH_x15872_y6656_patch01094.png: [Errno 2] No such file or directory: 'D'\n",
      "❌ Failed on TCGA-EI-6507_MSIH_x15872_y7168_patch01095.png: [Errno 2] No such file or directory: 'D'\n",
      "❌ Failed on TCGA-EI-6507_MSIH_x15872_y7680_patch01096.png: [Errno 2] No such file or directory: 'D'\n",
      "❌ Failed on TCGA-EI-6507_MSIH_x15872_y8192_patch01097.png: [Errno 2] No such file or directory: 'D'\n",
      "❌ Failed on TCGA-EI-6507_MSIH_x15872_y8704_patch01098.png: [Errno 2] No such file or directory: 'D'\n",
      "❌ Failed on TCGA-EI-6507_MSIH_x15872_y9216_patch01099.png: [Errno 2] No such file or directory: 'D'\n",
      "❌ Failed on TCGA-EI-6507_MSIH_x15872_y9728_patch01100.png: [Errno 2] No such file or directory: 'D'\n",
      "❌ Failed on TCGA-EI-6507_MSIH_x16384_y10240_patch01165.png: [Errno 2] No such file or directory: 'D'\n",
      "❌ Failed on TCGA-EI-6507_MSIH_x16384_y1024_patch01147.png: [Errno 2] No such file or directory: 'D'\n",
      "❌ Failed on TCGA-EI-6507_MSIH_x16384_y10752_patch01166.png: [Errno 2] No such file or directory: 'D'\n",
      "❌ Failed on TCGA-EI-6507_MSIH_x16384_y11264_patch01167.png: [Errno 2] No such file or directory: 'D'\n",
      "❌ Failed on TCGA-EI-6507_MSIH_x16384_y11776_patch01168.png: [Errno 2] No such file or directory: 'D'\n",
      "❌ Failed on TCGA-EI-6507_MSIH_x16384_y12288_patch01169.png: [Errno 2] No such file or directory: 'D'\n",
      "❌ Failed on TCGA-EI-6507_MSIH_x16384_y12800_patch01170.png: [Errno 2] No such file or directory: 'D'\n",
      "❌ Failed on TCGA-EI-6507_MSIH_x16384_y13312_patch01171.png: [Errno 2] No such file or directory: 'D'\n",
      "❌ Failed on TCGA-EI-6507_MSIH_x16384_y14336_patch01172.png: [Errno 2] No such file or directory: 'D'\n",
      "❌ Failed on TCGA-EI-6507_MSIH_x16384_y14848_patch01173.png: [Errno 2] No such file or directory: 'D'\n",
      "❌ Failed on TCGA-EI-6507_MSIH_x16384_y15360_patch01174.png: [Errno 2] No such file or directory: 'D'\n",
      "❌ Failed on TCGA-EI-6507_MSIH_x16384_y1536_patch01148.png: [Errno 2] No such file or directory: 'D'\n",
      "❌ Failed on TCGA-EI-6507_MSIH_x16384_y15872_patch01175.png: [Errno 2] No such file or directory: 'D'\n",
      "❌ Failed on TCGA-EI-6507_MSIH_x16384_y16384_patch01176.png: [Errno 2] No such file or directory: 'D'\n",
      "❌ Failed on TCGA-EI-6507_MSIH_x16384_y16896_patch01177.png: [Errno 2] No such file or directory: 'D'\n",
      "❌ Failed on TCGA-EI-6507_MSIH_x16384_y17408_patch01178.png: [Errno 2] No such file or directory: 'D'\n",
      "❌ Failed on TCGA-EI-6507_MSIH_x16384_y17920_patch01179.png: [Errno 2] No such file or directory: 'D'\n",
      "❌ Failed on TCGA-EI-6507_MSIH_x16384_y18432_patch01180.png: [Errno 2] No such file or directory: 'D'\n",
      "❌ Failed on TCGA-EI-6507_MSIH_x16384_y18944_patch01181.png: [Errno 2] No such file or directory: 'D'\n",
      "❌ Failed on TCGA-EI-6507_MSIH_x16384_y19456_patch01182.png: [Errno 2] No such file or directory: 'D'\n",
      "❌ Failed on TCGA-EI-6507_MSIH_x16384_y19968_patch01183.png: [Errno 2] No such file or directory: 'D'\n",
      "❌ Failed on TCGA-EI-6507_MSIH_x16384_y20480_patch01184.png: [Errno 2] No such file or directory: 'D'\n",
      "❌ Failed on TCGA-EI-6507_MSIH_x16384_y2048_patch01149.png: [Errno 2] No such file or directory: 'D'\n",
      "❌ Failed on TCGA-EI-6507_MSIH_x16384_y20992_patch01185.png: [Errno 2] No such file or directory: 'D'\n",
      "❌ Failed on TCGA-EI-6507_MSIH_x16384_y21504_patch01186.png: [Errno 2] No such file or directory: 'D'\n",
      "❌ Failed on TCGA-EI-6507_MSIH_x16384_y22016_patch01187.png: [Errno 2] No such file or directory: 'D'\n",
      "❌ Failed on TCGA-EI-6507_MSIH_x16384_y22528_patch01188.png: [Errno 2] No such file or directory: 'D'\n",
      "❌ Failed on TCGA-EI-6507_MSIH_x16384_y23040_patch01189.png: [Errno 2] No such file or directory: 'D'\n",
      "❌ Failed on TCGA-EI-6507_MSIH_x16384_y23552_patch01190.png: [Errno 2] No such file or directory: 'D'\n",
      "❌ Failed on TCGA-EI-6507_MSIH_x16384_y24064_patch01191.png: [Errno 2] No such file or directory: 'D'\n",
      "❌ Failed on TCGA-EI-6507_MSIH_x16384_y24576_patch01192.png: [Errno 2] No such file or directory: 'D'\n",
      "❌ Failed on TCGA-EI-6507_MSIH_x16384_y25088_patch01193.png: [Errno 2] No such file or directory: 'D'\n",
      "❌ Failed on TCGA-EI-6507_MSIH_x16384_y25600_patch01194.png: [Errno 2] No such file or directory: 'D'\n",
      "❌ Failed on TCGA-EI-6507_MSIH_x16384_y2560_patch01150.png: [Errno 2] No such file or directory: 'D'\n",
      "❌ Failed on TCGA-EI-6507_MSIH_x16384_y26112_patch01195.png: [Errno 2] No such file or directory: 'D'\n",
      "❌ Failed on TCGA-EI-6507_MSIH_x16384_y26624_patch01196.png: [Errno 2] No such file or directory: 'D'\n",
      "❌ Failed on TCGA-EI-6507_MSIH_x16384_y27136_patch01197.png: [Errno 2] No such file or directory: 'D'\n",
      "❌ Failed on TCGA-EI-6507_MSIH_x16384_y27648_patch01198.png: [Errno 2] No such file or directory: 'D'\n",
      "❌ Failed on TCGA-EI-6507_MSIH_x16384_y28160_patch01199.png: [Errno 2] No such file or directory: 'D'\n",
      "❌ Failed on TCGA-EI-6507_MSIH_x16384_y28672_patch01200.png: [Errno 2] No such file or directory: 'D'\n",
      "❌ Failed on TCGA-EI-6507_MSIH_x16384_y29184_patch01201.png: [Errno 2] No such file or directory: 'D'\n",
      "❌ Failed on TCGA-EI-6507_MSIH_x16384_y29696_patch01202.png: [Errno 2] No such file or directory: 'D'\n",
      "❌ Failed on TCGA-EI-6507_MSIH_x16384_y30208_patch01203.png: [Errno 2] No such file or directory: 'D'\n",
      "❌ Failed on TCGA-EI-6507_MSIH_x16384_y30720_patch01204.png: [Errno 2] No such file or directory: 'D'\n",
      "❌ Failed on TCGA-EI-6507_MSIH_x16384_y3072_patch01151.png: [Errno 2] No such file or directory: 'D'\n",
      "❌ Failed on TCGA-EI-6507_MSIH_x16384_y31232_patch01205.png: [Errno 2] No such file or directory: 'D'\n",
      "❌ Failed on TCGA-EI-6507_MSIH_x16384_y31744_patch01206.png: [Errno 2] No such file or directory: 'D'\n",
      "❌ Failed on TCGA-EI-6507_MSIH_x16384_y32256_patch01207.png: [Errno 2] No such file or directory: 'D'\n",
      "❌ Failed on TCGA-EI-6507_MSIH_x16384_y32768_patch01208.png: [Errno 2] No such file or directory: 'D'\n",
      "❌ Failed on TCGA-EI-6507_MSIH_x16384_y33280_patch01209.png: [Errno 2] No such file or directory: 'D'\n",
      "❌ Failed on TCGA-EI-6507_MSIH_x16384_y3584_patch01152.png: [Errno 2] No such file or directory: 'D'\n",
      "❌ Failed on TCGA-EI-6507_MSIH_x16384_y4096_patch01153.png: [Errno 2] No such file or directory: 'D'\n",
      "❌ Failed on TCGA-EI-6507_MSIH_x16384_y4608_patch01154.png: [Errno 2] No such file or directory: 'D'\n",
      "❌ Failed on TCGA-EI-6507_MSIH_x16384_y5120_patch01155.png: [Errno 2] No such file or directory: 'D'\n",
      "❌ Failed on TCGA-EI-6507_MSIH_x16384_y5632_patch01156.png: [Errno 2] No such file or directory: 'D'\n",
      "❌ Failed on TCGA-EI-6507_MSIH_x16384_y6144_patch01157.png: [Errno 2] No such file or directory: 'D'\n",
      "❌ Failed on TCGA-EI-6507_MSIH_x16384_y6656_patch01158.png: [Errno 2] No such file or directory: 'D'\n",
      "❌ Failed on TCGA-EI-6507_MSIH_x16384_y7168_patch01159.png: [Errno 2] No such file or directory: 'D'\n",
      "❌ Failed on TCGA-EI-6507_MSIH_x16384_y7680_patch01160.png: [Errno 2] No such file or directory: 'D'\n",
      "❌ Failed on TCGA-EI-6507_MSIH_x16384_y8192_patch01161.png: [Errno 2] No such file or directory: 'D'\n",
      "❌ Failed on TCGA-EI-6507_MSIH_x16384_y8704_patch01162.png: [Errno 2] No such file or directory: 'D'\n",
      "❌ Failed on TCGA-EI-6507_MSIH_x16384_y9216_patch01163.png: [Errno 2] No such file or directory: 'D'\n",
      "❌ Failed on TCGA-EI-6507_MSIH_x16384_y9728_patch01164.png: [Errno 2] No such file or directory: 'D'\n",
      "❌ Failed on TCGA-EI-6507_MSIH_x16896_y10240_patch01228.png: [Errno 2] No such file or directory: 'D'\n",
      "❌ Failed on TCGA-EI-6507_MSIH_x16896_y1024_patch01210.png: [Errno 2] No such file or directory: 'D'\n",
      "❌ Failed on TCGA-EI-6507_MSIH_x16896_y10752_patch01229.png: [Errno 2] No such file or directory: 'D'\n",
      "❌ Failed on TCGA-EI-6507_MSIH_x16896_y11264_patch01230.png: [Errno 2] No such file or directory: 'D'\n",
      "❌ Failed on TCGA-EI-6507_MSIH_x16896_y11776_patch01231.png: [Errno 2] No such file or directory: 'D'\n",
      "❌ Failed on TCGA-EI-6507_MSIH_x16896_y12288_patch01232.png: [Errno 2] No such file or directory: 'D'\n",
      "❌ Failed on TCGA-EI-6507_MSIH_x16896_y12800_patch01233.png: [Errno 2] No such file or directory: 'D'\n",
      "❌ Failed on TCGA-EI-6507_MSIH_x16896_y13312_patch01234.png: [Errno 2] No such file or directory: 'D'\n",
      "❌ Failed on TCGA-EI-6507_MSIH_x16896_y14336_patch01235.png: [Errno 2] No such file or directory: 'D'\n",
      "❌ Failed on TCGA-EI-6507_MSIH_x16896_y14848_patch01236.png: [Errno 2] No such file or directory: 'D'\n",
      "❌ Failed on TCGA-EI-6507_MSIH_x16896_y15360_patch01237.png: [Errno 2] No such file or directory: 'D'\n",
      "❌ Failed on TCGA-EI-6507_MSIH_x16896_y1536_patch01211.png: [Errno 2] No such file or directory: 'D'\n",
      "❌ Failed on TCGA-EI-6507_MSIH_x16896_y15872_patch01238.png: [Errno 2] No such file or directory: 'D'\n",
      "❌ Failed on TCGA-EI-6507_MSIH_x16896_y16384_patch01239.png: [Errno 2] No such file or directory: 'D'\n",
      "❌ Failed on TCGA-EI-6507_MSIH_x16896_y16896_patch01240.png: [Errno 2] No such file or directory: 'D'\n",
      "❌ Failed on TCGA-EI-6507_MSIH_x16896_y17408_patch01241.png: [Errno 2] No such file or directory: 'D'\n",
      "❌ Failed on TCGA-EI-6507_MSIH_x16896_y17920_patch01242.png: [Errno 2] No such file or directory: 'D'\n",
      "❌ Failed on TCGA-EI-6507_MSIH_x16896_y18432_patch01243.png: [Errno 2] No such file or directory: 'D'\n",
      "❌ Failed on TCGA-EI-6507_MSIH_x16896_y18944_patch01244.png: [Errno 2] No such file or directory: 'D'\n",
      "❌ Failed on TCGA-EI-6507_MSIH_x16896_y19456_patch01245.png: [Errno 2] No such file or directory: 'D'\n",
      "❌ Failed on TCGA-EI-6507_MSIH_x16896_y19968_patch01246.png: [Errno 2] No such file or directory: 'D'\n",
      "❌ Failed on TCGA-EI-6507_MSIH_x16896_y20480_patch01247.png: [Errno 2] No such file or directory: 'D'\n",
      "❌ Failed on TCGA-EI-6507_MSIH_x16896_y2048_patch01212.png: [Errno 2] No such file or directory: 'D'\n",
      "❌ Failed on TCGA-EI-6507_MSIH_x16896_y20992_patch01248.png: [Errno 2] No such file or directory: 'D'\n",
      "❌ Failed on TCGA-EI-6507_MSIH_x16896_y21504_patch01249.png: [Errno 2] No such file or directory: 'D'\n",
      "❌ Failed on TCGA-EI-6507_MSIH_x16896_y22016_patch01250.png: [Errno 2] No such file or directory: 'D'\n",
      "❌ Failed on TCGA-EI-6507_MSIH_x16896_y22528_patch01251.png: [Errno 2] No such file or directory: 'D'\n",
      "❌ Failed on TCGA-EI-6507_MSIH_x16896_y23040_patch01252.png: [Errno 2] No such file or directory: 'D'\n",
      "❌ Failed on TCGA-EI-6507_MSIH_x16896_y23552_patch01253.png: [Errno 2] No such file or directory: 'D'\n",
      "❌ Failed on TCGA-EI-6507_MSIH_x16896_y24064_patch01254.png: [Errno 2] No such file or directory: 'D'\n",
      "❌ Failed on TCGA-EI-6507_MSIH_x16896_y24576_patch01255.png: [Errno 2] No such file or directory: 'D'\n",
      "❌ Failed on TCGA-EI-6507_MSIH_x16896_y25088_patch01256.png: [Errno 2] No such file or directory: 'D'\n",
      "❌ Failed on TCGA-EI-6507_MSIH_x16896_y25600_patch01257.png: [Errno 2] No such file or directory: 'D'\n",
      "❌ Failed on TCGA-EI-6507_MSIH_x16896_y2560_patch01213.png: [Errno 2] No such file or directory: 'D'\n",
      "❌ Failed on TCGA-EI-6507_MSIH_x16896_y26112_patch01258.png: [Errno 2] No such file or directory: 'D'\n",
      "❌ Failed on TCGA-EI-6507_MSIH_x16896_y26624_patch01259.png: [Errno 2] No such file or directory: 'D'\n",
      "❌ Failed on TCGA-EI-6507_MSIH_x16896_y27136_patch01260.png: [Errno 2] No such file or directory: 'D'\n",
      "❌ Failed on TCGA-EI-6507_MSIH_x16896_y27648_patch01261.png: [Errno 2] No such file or directory: 'D'\n",
      "❌ Failed on TCGA-EI-6507_MSIH_x16896_y28160_patch01262.png: [Errno 2] No such file or directory: 'D'\n",
      "❌ Failed on TCGA-EI-6507_MSIH_x16896_y28672_patch01263.png: [Errno 2] No such file or directory: 'D'\n",
      "❌ Failed on TCGA-EI-6507_MSIH_x16896_y29184_patch01264.png: [Errno 2] No such file or directory: 'D'\n",
      "❌ Failed on TCGA-EI-6507_MSIH_x16896_y29696_patch01265.png: [Errno 2] No such file or directory: 'D'\n",
      "❌ Failed on TCGA-EI-6507_MSIH_x16896_y30208_patch01266.png: [Errno 2] No such file or directory: 'D'\n",
      "❌ Failed on TCGA-EI-6507_MSIH_x16896_y30720_patch01267.png: [Errno 2] No such file or directory: 'D'\n",
      "❌ Failed on TCGA-EI-6507_MSIH_x16896_y3072_patch01214.png: [Errno 2] No such file or directory: 'D'\n",
      "❌ Failed on TCGA-EI-6507_MSIH_x16896_y31232_patch01268.png: [Errno 2] No such file or directory: 'D'\n",
      "❌ Failed on TCGA-EI-6507_MSIH_x16896_y31744_patch01269.png: [Errno 2] No such file or directory: 'D'\n",
      "❌ Failed on TCGA-EI-6507_MSIH_x16896_y32256_patch01270.png: [Errno 2] No such file or directory: 'D'\n",
      "❌ Failed on TCGA-EI-6507_MSIH_x16896_y32768_patch01271.png: [Errno 2] No such file or directory: 'D'\n",
      "❌ Failed on TCGA-EI-6507_MSIH_x16896_y33280_patch01272.png: [Errno 2] No such file or directory: 'D'\n",
      "❌ Failed on TCGA-EI-6507_MSIH_x16896_y33792_patch01273.png: [Errno 2] No such file or directory: 'D'\n",
      "❌ Failed on TCGA-EI-6507_MSIH_x16896_y3584_patch01215.png: [Errno 2] No such file or directory: 'D'\n",
      "❌ Failed on TCGA-EI-6507_MSIH_x16896_y4096_patch01216.png: [Errno 2] No such file or directory: 'D'\n",
      "❌ Failed on TCGA-EI-6507_MSIH_x16896_y4608_patch01217.png: [Errno 2] No such file or directory: 'D'\n",
      "❌ Failed on TCGA-EI-6507_MSIH_x16896_y5120_patch01218.png: [Errno 2] No such file or directory: 'D'\n",
      "❌ Failed on TCGA-EI-6507_MSIH_x16896_y5632_patch01219.png: [Errno 2] No such file or directory: 'D'\n",
      "❌ Failed on TCGA-EI-6507_MSIH_x16896_y6144_patch01220.png: [Errno 2] No such file or directory: 'D'\n",
      "❌ Failed on TCGA-EI-6507_MSIH_x16896_y6656_patch01221.png: [Errno 2] No such file or directory: 'D'\n",
      "❌ Failed on TCGA-EI-6507_MSIH_x16896_y7168_patch01222.png: [Errno 2] No such file or directory: 'D'\n",
      "❌ Failed on TCGA-EI-6507_MSIH_x16896_y7680_patch01223.png: [Errno 2] No such file or directory: 'D'\n",
      "❌ Failed on TCGA-EI-6507_MSIH_x16896_y8192_patch01224.png: [Errno 2] No such file or directory: 'D'\n",
      "❌ Failed on TCGA-EI-6507_MSIH_x16896_y8704_patch01225.png: [Errno 2] No such file or directory: 'D'\n",
      "❌ Failed on TCGA-EI-6507_MSIH_x16896_y9216_patch01226.png: [Errno 2] No such file or directory: 'D'\n",
      "❌ Failed on TCGA-EI-6507_MSIH_x16896_y9728_patch01227.png: [Errno 2] No such file or directory: 'D'\n",
      "❌ Failed on TCGA-EI-6507_MSIH_x17408_y10240_patch01293.png: [Errno 2] No such file or directory: 'D'\n",
      "❌ Failed on TCGA-EI-6507_MSIH_x17408_y1024_patch01275.png: [Errno 2] No such file or directory: 'D'\n",
      "❌ Failed on TCGA-EI-6507_MSIH_x17408_y10752_patch01294.png: [Errno 2] No such file or directory: 'D'\n",
      "❌ Failed on TCGA-EI-6507_MSIH_x17408_y11264_patch01295.png: [Errno 2] No such file or directory: 'D'\n",
      "❌ Failed on TCGA-EI-6507_MSIH_x17408_y11776_patch01296.png: [Errno 2] No such file or directory: 'D'\n",
      "❌ Failed on TCGA-EI-6507_MSIH_x17408_y12288_patch01297.png: [Errno 2] No such file or directory: 'D'\n",
      "❌ Failed on TCGA-EI-6507_MSIH_x17408_y12800_patch01298.png: [Errno 2] No such file or directory: 'D'\n",
      "❌ Failed on TCGA-EI-6507_MSIH_x17408_y13312_patch01299.png: [Errno 2] No such file or directory: 'D'\n",
      "❌ Failed on TCGA-EI-6507_MSIH_x17408_y13824_patch01300.png: [Errno 2] No such file or directory: 'D'\n",
      "❌ Failed on TCGA-EI-6507_MSIH_x17408_y14336_patch01301.png: [Errno 2] No such file or directory: 'D'\n",
      "❌ Failed on TCGA-EI-6507_MSIH_x17408_y14848_patch01302.png: [Errno 2] No such file or directory: 'D'\n",
      "❌ Failed on TCGA-EI-6507_MSIH_x17408_y15360_patch01303.png: [Errno 2] No such file or directory: 'D'\n",
      "❌ Failed on TCGA-EI-6507_MSIH_x17408_y1536_patch01276.png: [Errno 2] No such file or directory: 'D'\n",
      "❌ Failed on TCGA-EI-6507_MSIH_x17408_y15872_patch01304.png: [Errno 2] No such file or directory: 'D'\n",
      "❌ Failed on TCGA-EI-6507_MSIH_x17408_y16384_patch01305.png: [Errno 2] No such file or directory: 'D'\n",
      "❌ Failed on TCGA-EI-6507_MSIH_x17408_y16896_patch01306.png: [Errno 2] No such file or directory: 'D'\n",
      "❌ Failed on TCGA-EI-6507_MSIH_x17408_y17408_patch01307.png: [Errno 2] No such file or directory: 'D'\n",
      "❌ Failed on TCGA-EI-6507_MSIH_x17408_y17920_patch01308.png: [Errno 2] No such file or directory: 'D'\n",
      "❌ Failed on TCGA-EI-6507_MSIH_x17408_y18432_patch01309.png: [Errno 2] No such file or directory: 'D'\n",
      "❌ Failed on TCGA-EI-6507_MSIH_x17408_y18944_patch01310.png: [Errno 2] No such file or directory: 'D'\n",
      "❌ Failed on TCGA-EI-6507_MSIH_x17408_y19456_patch01311.png: [Errno 2] No such file or directory: 'D'\n",
      "❌ Failed on TCGA-EI-6507_MSIH_x17408_y19968_patch01312.png: [Errno 2] No such file or directory: 'D'\n",
      "❌ Failed on TCGA-EI-6507_MSIH_x17408_y20480_patch01313.png: [Errno 2] No such file or directory: 'D'\n",
      "❌ Failed on TCGA-EI-6507_MSIH_x17408_y2048_patch01277.png: [Errno 2] No such file or directory: 'D'\n",
      "❌ Failed on TCGA-EI-6507_MSIH_x17408_y20992_patch01314.png: [Errno 2] No such file or directory: 'D'\n",
      "❌ Failed on TCGA-EI-6507_MSIH_x17408_y21504_patch01315.png: [Errno 2] No such file or directory: 'D'\n",
      "❌ Failed on TCGA-EI-6507_MSIH_x17408_y22016_patch01316.png: [Errno 2] No such file or directory: 'D'\n",
      "❌ Failed on TCGA-EI-6507_MSIH_x17408_y22528_patch01317.png: [Errno 2] No such file or directory: 'D'\n",
      "❌ Failed on TCGA-EI-6507_MSIH_x17408_y23040_patch01318.png: [Errno 2] No such file or directory: 'D'\n",
      "❌ Failed on TCGA-EI-6507_MSIH_x17408_y23552_patch01319.png: [Errno 2] No such file or directory: 'D'\n",
      "❌ Failed on TCGA-EI-6507_MSIH_x17408_y24064_patch01320.png: [Errno 2] No such file or directory: 'D'\n",
      "❌ Failed on TCGA-EI-6507_MSIH_x17408_y24576_patch01321.png: [Errno 2] No such file or directory: 'D'\n",
      "❌ Failed on TCGA-EI-6507_MSIH_x17408_y25088_patch01322.png: [Errno 2] No such file or directory: 'D'\n",
      "❌ Failed on TCGA-EI-6507_MSIH_x17408_y25600_patch01323.png: [Errno 2] No such file or directory: 'D'\n",
      "❌ Failed on TCGA-EI-6507_MSIH_x17408_y2560_patch01278.png: [Errno 2] No such file or directory: 'D'\n",
      "❌ Failed on TCGA-EI-6507_MSIH_x17408_y26112_patch01324.png: [Errno 2] No such file or directory: 'D'\n",
      "❌ Failed on TCGA-EI-6507_MSIH_x17408_y26624_patch01325.png: [Errno 2] No such file or directory: 'D'\n",
      "❌ Failed on TCGA-EI-6507_MSIH_x17408_y27136_patch01326.png: [Errno 2] No such file or directory: 'D'\n",
      "❌ Failed on TCGA-EI-6507_MSIH_x17408_y27648_patch01327.png: [Errno 2] No such file or directory: 'D'\n",
      "❌ Failed on TCGA-EI-6507_MSIH_x17408_y28160_patch01328.png: [Errno 2] No such file or directory: 'D'\n",
      "❌ Failed on TCGA-EI-6507_MSIH_x17408_y28672_patch01329.png: [Errno 2] No such file or directory: 'D'\n",
      "❌ Failed on TCGA-EI-6507_MSIH_x17408_y29184_patch01330.png: [Errno 2] No such file or directory: 'D'\n",
      "❌ Failed on TCGA-EI-6507_MSIH_x17408_y29696_patch01331.png: [Errno 2] No such file or directory: 'D'\n",
      "❌ Failed on TCGA-EI-6507_MSIH_x17408_y30208_patch01332.png: [Errno 2] No such file or directory: 'D'\n",
      "❌ Failed on TCGA-EI-6507_MSIH_x17408_y30720_patch01333.png: [Errno 2] No such file or directory: 'D'\n",
      "❌ Failed on TCGA-EI-6507_MSIH_x17408_y3072_patch01279.png: [Errno 2] No such file or directory: 'D'\n",
      "❌ Failed on TCGA-EI-6507_MSIH_x17408_y31232_patch01334.png: [Errno 2] No such file or directory: 'D'\n",
      "❌ Failed on TCGA-EI-6507_MSIH_x17408_y31744_patch01335.png: [Errno 2] No such file or directory: 'D'\n",
      "❌ Failed on TCGA-EI-6507_MSIH_x17408_y32256_patch01336.png: [Errno 2] No such file or directory: 'D'\n",
      "❌ Failed on TCGA-EI-6507_MSIH_x17408_y32768_patch01337.png: [Errno 2] No such file or directory: 'D'\n",
      "❌ Failed on TCGA-EI-6507_MSIH_x17408_y33280_patch01338.png: [Errno 2] No such file or directory: 'D'\n",
      "❌ Failed on TCGA-EI-6507_MSIH_x17408_y33792_patch01339.png: [Errno 2] No such file or directory: 'D'\n",
      "❌ Failed on TCGA-EI-6507_MSIH_x17408_y3584_patch01280.png: [Errno 2] No such file or directory: 'D'\n",
      "❌ Failed on TCGA-EI-6507_MSIH_x17408_y4096_patch01281.png: [Errno 2] No such file or directory: 'D'\n",
      "❌ Failed on TCGA-EI-6507_MSIH_x17408_y4608_patch01282.png: [Errno 2] No such file or directory: 'D'\n",
      "❌ Failed on TCGA-EI-6507_MSIH_x17408_y5120_patch01283.png: [Errno 2] No such file or directory: 'D'\n",
      "❌ Failed on TCGA-EI-6507_MSIH_x17408_y512_patch01274.png: [Errno 2] No such file or directory: 'D'\n",
      "❌ Failed on TCGA-EI-6507_MSIH_x17408_y5632_patch01284.png: [Errno 2] No such file or directory: 'D'\n",
      "❌ Failed on TCGA-EI-6507_MSIH_x17408_y6144_patch01285.png: [Errno 2] No such file or directory: 'D'\n",
      "❌ Failed on TCGA-EI-6507_MSIH_x17408_y6656_patch01286.png: [Errno 2] No such file or directory: 'D'\n",
      "❌ Failed on TCGA-EI-6507_MSIH_x17408_y7168_patch01287.png: [Errno 2] No such file or directory: 'D'\n",
      "❌ Failed on TCGA-EI-6507_MSIH_x17408_y7680_patch01288.png: [Errno 2] No such file or directory: 'D'\n",
      "❌ Failed on TCGA-EI-6507_MSIH_x17408_y8192_patch01289.png: [Errno 2] No such file or directory: 'D'\n",
      "❌ Failed on TCGA-EI-6507_MSIH_x17408_y8704_patch01290.png: [Errno 2] No such file or directory: 'D'\n",
      "❌ Failed on TCGA-EI-6507_MSIH_x17408_y9216_patch01291.png: [Errno 2] No such file or directory: 'D'\n",
      "❌ Failed on TCGA-EI-6507_MSIH_x17408_y9728_patch01292.png: [Errno 2] No such file or directory: 'D'\n",
      "❌ Failed on TCGA-EI-6507_MSIH_x17920_y10240_patch01359.png: [Errno 2] No such file or directory: 'D'\n",
      "❌ Failed on TCGA-EI-6507_MSIH_x17920_y1024_patch01341.png: [Errno 2] No such file or directory: 'D'\n",
      "❌ Failed on TCGA-EI-6507_MSIH_x17920_y10752_patch01360.png: [Errno 2] No such file or directory: 'D'\n",
      "❌ Failed on TCGA-EI-6507_MSIH_x17920_y11264_patch01361.png: [Errno 2] No such file or directory: 'D'\n",
      "❌ Failed on TCGA-EI-6507_MSIH_x17920_y11776_patch01362.png: [Errno 2] No such file or directory: 'D'\n",
      "❌ Failed on TCGA-EI-6507_MSIH_x17920_y12288_patch01363.png: [Errno 2] No such file or directory: 'D'\n",
      "❌ Failed on TCGA-EI-6507_MSIH_x17920_y12800_patch01364.png: [Errno 2] No such file or directory: 'D'\n",
      "❌ Failed on TCGA-EI-6507_MSIH_x17920_y13312_patch01365.png: [Errno 2] No such file or directory: 'D'\n",
      "❌ Failed on TCGA-EI-6507_MSIH_x17920_y13824_patch01366.png: [Errno 2] No such file or directory: 'D'\n",
      "❌ Failed on TCGA-EI-6507_MSIH_x17920_y14336_patch01367.png: [Errno 2] No such file or directory: 'D'\n",
      "❌ Failed on TCGA-EI-6507_MSIH_x17920_y14848_patch01368.png: [Errno 2] No such file or directory: 'D'\n",
      "❌ Failed on TCGA-EI-6507_MSIH_x17920_y15360_patch01369.png: [Errno 2] No such file or directory: 'D'\n",
      "❌ Failed on TCGA-EI-6507_MSIH_x17920_y1536_patch01342.png: [Errno 2] No such file or directory: 'D'\n",
      "❌ Failed on TCGA-EI-6507_MSIH_x17920_y15872_patch01370.png: [Errno 2] No such file or directory: 'D'\n",
      "❌ Failed on TCGA-EI-6507_MSIH_x17920_y16384_patch01371.png: [Errno 2] No such file or directory: 'D'\n",
      "❌ Failed on TCGA-EI-6507_MSIH_x17920_y16896_patch01372.png: [Errno 2] No such file or directory: 'D'\n",
      "❌ Failed on TCGA-EI-6507_MSIH_x17920_y17408_patch01373.png: [Errno 2] No such file or directory: 'D'\n",
      "❌ Failed on TCGA-EI-6507_MSIH_x17920_y17920_patch01374.png: [Errno 2] No such file or directory: 'D'\n",
      "❌ Failed on TCGA-EI-6507_MSIH_x17920_y18432_patch01375.png: [Errno 2] No such file or directory: 'D'\n",
      "❌ Failed on TCGA-EI-6507_MSIH_x17920_y18944_patch01376.png: [Errno 2] No such file or directory: 'D'\n",
      "❌ Failed on TCGA-EI-6507_MSIH_x17920_y19456_patch01377.png: [Errno 2] No such file or directory: 'D'\n",
      "❌ Failed on TCGA-EI-6507_MSIH_x17920_y19968_patch01378.png: [Errno 2] No such file or directory: 'D'\n",
      "❌ Failed on TCGA-EI-6507_MSIH_x17920_y20480_patch01379.png: [Errno 2] No such file or directory: 'D'\n",
      "❌ Failed on TCGA-EI-6507_MSIH_x17920_y2048_patch01343.png: [Errno 2] No such file or directory: 'D'\n",
      "❌ Failed on TCGA-EI-6507_MSIH_x17920_y20992_patch01380.png: [Errno 2] No such file or directory: 'D'\n",
      "❌ Failed on TCGA-EI-6507_MSIH_x17920_y21504_patch01381.png: [Errno 2] No such file or directory: 'D'\n",
      "❌ Failed on TCGA-EI-6507_MSIH_x17920_y22016_patch01382.png: [Errno 2] No such file or directory: 'D'\n",
      "❌ Failed on TCGA-EI-6507_MSIH_x17920_y22528_patch01383.png: [Errno 2] No such file or directory: 'D'\n",
      "❌ Failed on TCGA-EI-6507_MSIH_x17920_y23040_patch01384.png: [Errno 2] No such file or directory: 'D'\n",
      "❌ Failed on TCGA-EI-6507_MSIH_x17920_y23552_patch01385.png: [Errno 2] No such file or directory: 'D'\n",
      "❌ Failed on TCGA-EI-6507_MSIH_x17920_y24064_patch01386.png: [Errno 2] No such file or directory: 'D'\n",
      "❌ Failed on TCGA-EI-6507_MSIH_x17920_y24576_patch01387.png: [Errno 2] No such file or directory: 'D'\n",
      "❌ Failed on TCGA-EI-6507_MSIH_x17920_y25088_patch01388.png: [Errno 2] No such file or directory: 'D'\n",
      "❌ Failed on TCGA-EI-6507_MSIH_x17920_y25600_patch01389.png: [Errno 2] No such file or directory: 'D'\n",
      "❌ Failed on TCGA-EI-6507_MSIH_x17920_y2560_patch01344.png: [Errno 2] No such file or directory: 'D'\n",
      "❌ Failed on TCGA-EI-6507_MSIH_x17920_y26112_patch01390.png: [Errno 2] No such file or directory: 'D'\n",
      "❌ Failed on TCGA-EI-6507_MSIH_x17920_y26624_patch01391.png: [Errno 2] No such file or directory: 'D'\n",
      "❌ Failed on TCGA-EI-6507_MSIH_x17920_y27136_patch01392.png: [Errno 2] No such file or directory: 'D'\n",
      "❌ Failed on TCGA-EI-6507_MSIH_x17920_y27648_patch01393.png: [Errno 2] No such file or directory: 'D'\n",
      "❌ Failed on TCGA-EI-6507_MSIH_x17920_y28160_patch01394.png: [Errno 2] No such file or directory: 'D'\n",
      "❌ Failed on TCGA-EI-6507_MSIH_x17920_y28672_patch01395.png: [Errno 2] No such file or directory: 'D'\n",
      "❌ Failed on TCGA-EI-6507_MSIH_x17920_y29184_patch01396.png: [Errno 2] No such file or directory: 'D'\n",
      "❌ Failed on TCGA-EI-6507_MSIH_x17920_y29696_patch01397.png: [Errno 2] No such file or directory: 'D'\n",
      "❌ Failed on TCGA-EI-6507_MSIH_x17920_y30208_patch01398.png: [Errno 2] No such file or directory: 'D'\n",
      "❌ Failed on TCGA-EI-6507_MSIH_x17920_y30720_patch01399.png: [Errno 2] No such file or directory: 'D'\n",
      "❌ Failed on TCGA-EI-6507_MSIH_x17920_y3072_patch01345.png: [Errno 2] No such file or directory: 'D'\n",
      "❌ Failed on TCGA-EI-6507_MSIH_x17920_y31232_patch01400.png: [Errno 2] No such file or directory: 'D'\n",
      "❌ Failed on TCGA-EI-6507_MSIH_x17920_y31744_patch01401.png: [Errno 2] No such file or directory: 'D'\n",
      "❌ Failed on TCGA-EI-6507_MSIH_x17920_y32256_patch01402.png: [Errno 2] No such file or directory: 'D'\n",
      "❌ Failed on TCGA-EI-6507_MSIH_x17920_y32768_patch01403.png: [Errno 2] No such file or directory: 'D'\n",
      "❌ Failed on TCGA-EI-6507_MSIH_x17920_y33280_patch01404.png: [Errno 2] No such file or directory: 'D'\n",
      "❌ Failed on TCGA-EI-6507_MSIH_x17920_y33792_patch01405.png: [Errno 2] No such file or directory: 'D'\n",
      "❌ Failed on TCGA-EI-6507_MSIH_x17920_y34304_patch01406.png: [Errno 2] No such file or directory: 'D'\n",
      "❌ Failed on TCGA-EI-6507_MSIH_x17920_y3584_patch01346.png: [Errno 2] No such file or directory: 'D'\n",
      "❌ Failed on TCGA-EI-6507_MSIH_x17920_y4096_patch01347.png: [Errno 2] No such file or directory: 'D'\n",
      "❌ Failed on TCGA-EI-6507_MSIH_x17920_y4608_patch01348.png: [Errno 2] No such file or directory: 'D'\n",
      "❌ Failed on TCGA-EI-6507_MSIH_x17920_y5120_patch01349.png: [Errno 2] No such file or directory: 'D'\n",
      "❌ Failed on TCGA-EI-6507_MSIH_x17920_y512_patch01340.png: [Errno 2] No such file or directory: 'D'\n",
      "❌ Failed on TCGA-EI-6507_MSIH_x17920_y5632_patch01350.png: [Errno 2] No such file or directory: 'D'\n",
      "❌ Failed on TCGA-EI-6507_MSIH_x17920_y6144_patch01351.png: [Errno 2] No such file or directory: 'D'\n",
      "❌ Failed on TCGA-EI-6507_MSIH_x17920_y6656_patch01352.png: [Errno 2] No such file or directory: 'D'\n",
      "❌ Failed on TCGA-EI-6507_MSIH_x17920_y7168_patch01353.png: [Errno 2] No such file or directory: 'D'\n",
      "❌ Failed on TCGA-EI-6507_MSIH_x17920_y7680_patch01354.png: [Errno 2] No such file or directory: 'D'\n",
      "❌ Failed on TCGA-EI-6507_MSIH_x17920_y8192_patch01355.png: [Errno 2] No such file or directory: 'D'\n",
      "❌ Failed on TCGA-EI-6507_MSIH_x17920_y8704_patch01356.png: [Errno 2] No such file or directory: 'D'\n",
      "❌ Failed on TCGA-EI-6507_MSIH_x17920_y9216_patch01357.png: [Errno 2] No such file or directory: 'D'\n",
      "❌ Failed on TCGA-EI-6507_MSIH_x17920_y9728_patch01358.png: [Errno 2] No such file or directory: 'D'\n",
      "❌ Failed on TCGA-EI-6507_MSIH_x18432_y0_patch01407.png: [Errno 2] No such file or directory: 'D'\n",
      "❌ Failed on TCGA-EI-6507_MSIH_x18432_y10240_patch01427.png: [Errno 2] No such file or directory: 'D'\n",
      "❌ Failed on TCGA-EI-6507_MSIH_x18432_y1024_patch01409.png: [Errno 2] No such file or directory: 'D'\n",
      "❌ Failed on TCGA-EI-6507_MSIH_x18432_y10752_patch01428.png: [Errno 2] No such file or directory: 'D'\n",
      "❌ Failed on TCGA-EI-6507_MSIH_x18432_y11264_patch01429.png: [Errno 2] No such file or directory: 'D'\n",
      "❌ Failed on TCGA-EI-6507_MSIH_x18432_y11776_patch01430.png: [Errno 2] No such file or directory: 'D'\n",
      "❌ Failed on TCGA-EI-6507_MSIH_x18432_y12288_patch01431.png: [Errno 2] No such file or directory: 'D'\n",
      "❌ Failed on TCGA-EI-6507_MSIH_x18432_y12800_patch01432.png: [Errno 2] No such file or directory: 'D'\n",
      "❌ Failed on TCGA-EI-6507_MSIH_x18432_y13312_patch01433.png: [Errno 2] No such file or directory: 'D'\n",
      "❌ Failed on TCGA-EI-6507_MSIH_x18432_y1536_patch01410.png: [Errno 2] No such file or directory: 'D'\n",
      "❌ Failed on TCGA-EI-6507_MSIH_x18432_y15872_patch01434.png: [Errno 2] No such file or directory: 'D'\n",
      "❌ Failed on TCGA-EI-6507_MSIH_x18432_y16384_patch01435.png: [Errno 2] No such file or directory: 'D'\n",
      "❌ Failed on TCGA-EI-6507_MSIH_x18432_y16896_patch01436.png: [Errno 2] No such file or directory: 'D'\n",
      "❌ Failed on TCGA-EI-6507_MSIH_x18432_y17408_patch01437.png: [Errno 2] No such file or directory: 'D'\n",
      "❌ Failed on TCGA-EI-6507_MSIH_x18432_y17920_patch01438.png: [Errno 2] No such file or directory: 'D'\n",
      "❌ Failed on TCGA-EI-6507_MSIH_x18432_y18432_patch01439.png: [Errno 2] No such file or directory: 'D'\n",
      "❌ Failed on TCGA-EI-6507_MSIH_x18432_y18944_patch01440.png: [Errno 2] No such file or directory: 'D'\n",
      "❌ Failed on TCGA-EI-6507_MSIH_x18432_y19456_patch01441.png: [Errno 2] No such file or directory: 'D'\n",
      "❌ Failed on TCGA-EI-6507_MSIH_x18432_y19968_patch01442.png: [Errno 2] No such file or directory: 'D'\n",
      "❌ Failed on TCGA-EI-6507_MSIH_x18432_y20480_patch01443.png: [Errno 2] No such file or directory: 'D'\n",
      "❌ Failed on TCGA-EI-6507_MSIH_x18432_y2048_patch01411.png: [Errno 2] No such file or directory: 'D'\n",
      "❌ Failed on TCGA-EI-6507_MSIH_x18432_y20992_patch01444.png: [Errno 2] No such file or directory: 'D'\n",
      "❌ Failed on TCGA-EI-6507_MSIH_x18432_y21504_patch01445.png: [Errno 2] No such file or directory: 'D'\n",
      "❌ Failed on TCGA-EI-6507_MSIH_x18432_y22016_patch01446.png: [Errno 2] No such file or directory: 'D'\n",
      "❌ Failed on TCGA-EI-6507_MSIH_x18432_y22528_patch01447.png: [Errno 2] No such file or directory: 'D'\n",
      "❌ Failed on TCGA-EI-6507_MSIH_x18432_y23040_patch01448.png: [Errno 2] No such file or directory: 'D'\n",
      "❌ Failed on TCGA-EI-6507_MSIH_x18432_y23552_patch01449.png: [Errno 2] No such file or directory: 'D'\n",
      "❌ Failed on TCGA-EI-6507_MSIH_x18432_y24064_patch01450.png: [Errno 2] No such file or directory: 'D'\n",
      "❌ Failed on TCGA-EI-6507_MSIH_x18432_y24576_patch01451.png: [Errno 2] No such file or directory: 'D'\n",
      "❌ Failed on TCGA-EI-6507_MSIH_x18432_y25088_patch01452.png: [Errno 2] No such file or directory: 'D'\n",
      "❌ Failed on TCGA-EI-6507_MSIH_x18432_y25600_patch01453.png: [Errno 2] No such file or directory: 'D'\n",
      "❌ Failed on TCGA-EI-6507_MSIH_x18432_y2560_patch01412.png: [Errno 2] No such file or directory: 'D'\n",
      "❌ Failed on TCGA-EI-6507_MSIH_x18432_y26112_patch01454.png: [Errno 2] No such file or directory: 'D'\n",
      "❌ Failed on TCGA-EI-6507_MSIH_x18432_y26624_patch01455.png: [Errno 2] No such file or directory: 'D'\n",
      "❌ Failed on TCGA-EI-6507_MSIH_x18432_y27136_patch01456.png: [Errno 2] No such file or directory: 'D'\n",
      "❌ Failed on TCGA-EI-6507_MSIH_x18432_y27648_patch01457.png: [Errno 2] No such file or directory: 'D'\n",
      "❌ Failed on TCGA-EI-6507_MSIH_x18432_y28160_patch01458.png: [Errno 2] No such file or directory: 'D'\n",
      "❌ Failed on TCGA-EI-6507_MSIH_x18432_y28672_patch01459.png: [Errno 2] No such file or directory: 'D'\n",
      "❌ Failed on TCGA-EI-6507_MSIH_x18432_y29184_patch01460.png: [Errno 2] No such file or directory: 'D'\n",
      "❌ Failed on TCGA-EI-6507_MSIH_x18432_y29696_patch01461.png: [Errno 2] No such file or directory: 'D'\n",
      "❌ Failed on TCGA-EI-6507_MSIH_x18432_y30208_patch01462.png: [Errno 2] No such file or directory: 'D'\n",
      "❌ Failed on TCGA-EI-6507_MSIH_x18432_y30720_patch01463.png: [Errno 2] No such file or directory: 'D'\n",
      "❌ Failed on TCGA-EI-6507_MSIH_x18432_y3072_patch01413.png: [Errno 2] No such file or directory: 'D'\n",
      "❌ Failed on TCGA-EI-6507_MSIH_x18432_y31232_patch01464.png: [Errno 2] No such file or directory: 'D'\n",
      "❌ Failed on TCGA-EI-6507_MSIH_x18432_y31744_patch01465.png: [Errno 2] No such file or directory: 'D'\n",
      "❌ Failed on TCGA-EI-6507_MSIH_x18432_y32256_patch01466.png: [Errno 2] No such file or directory: 'D'\n",
      "❌ Failed on TCGA-EI-6507_MSIH_x18432_y32768_patch01467.png: [Errno 2] No such file or directory: 'D'\n",
      "❌ Failed on TCGA-EI-6507_MSIH_x18432_y33280_patch01468.png: [Errno 2] No such file or directory: 'D'\n",
      "❌ Failed on TCGA-EI-6507_MSIH_x18432_y33792_patch01469.png: [Errno 2] No such file or directory: 'D'\n",
      "❌ Failed on TCGA-EI-6507_MSIH_x18432_y34304_patch01470.png: [Errno 2] No such file or directory: 'D'\n",
      "❌ Failed on TCGA-EI-6507_MSIH_x18432_y3584_patch01414.png: [Errno 2] No such file or directory: 'D'\n",
      "❌ Failed on TCGA-EI-6507_MSIH_x18432_y4096_patch01415.png: [Errno 2] No such file or directory: 'D'\n",
      "❌ Failed on TCGA-EI-6507_MSIH_x18432_y4608_patch01416.png: [Errno 2] No such file or directory: 'D'\n",
      "❌ Failed on TCGA-EI-6507_MSIH_x18432_y5120_patch01417.png: [Errno 2] No such file or directory: 'D'\n",
      "❌ Failed on TCGA-EI-6507_MSIH_x18432_y512_patch01408.png: [Errno 2] No such file or directory: 'D'\n",
      "❌ Failed on TCGA-EI-6507_MSIH_x18432_y5632_patch01418.png: [Errno 2] No such file or directory: 'D'\n",
      "❌ Failed on TCGA-EI-6507_MSIH_x18432_y6144_patch01419.png: [Errno 2] No such file or directory: 'D'\n",
      "❌ Failed on TCGA-EI-6507_MSIH_x18432_y6656_patch01420.png: [Errno 2] No such file or directory: 'D'\n",
      "❌ Failed on TCGA-EI-6507_MSIH_x18432_y7168_patch01421.png: [Errno 2] No such file or directory: 'D'\n",
      "❌ Failed on TCGA-EI-6507_MSIH_x18432_y7680_patch01422.png: [Errno 2] No such file or directory: 'D'\n",
      "❌ Failed on TCGA-EI-6507_MSIH_x18432_y8192_patch01423.png: [Errno 2] No such file or directory: 'D'\n",
      "❌ Failed on TCGA-EI-6507_MSIH_x18432_y8704_patch01424.png: [Errno 2] No such file or directory: 'D'\n",
      "❌ Failed on TCGA-EI-6507_MSIH_x18432_y9216_patch01425.png: [Errno 2] No such file or directory: 'D'\n",
      "❌ Failed on TCGA-EI-6507_MSIH_x18432_y9728_patch01426.png: [Errno 2] No such file or directory: 'D'\n",
      "❌ Failed on TCGA-EI-6507_MSIH_x18944_y0_patch01471.png: [Errno 2] No such file or directory: 'D'\n",
      "❌ Failed on TCGA-EI-6507_MSIH_x18944_y10240_patch01491.png: [Errno 2] No such file or directory: 'D'\n",
      "❌ Failed on TCGA-EI-6507_MSIH_x18944_y1024_patch01473.png: [Errno 2] No such file or directory: 'D'\n",
      "❌ Failed on TCGA-EI-6507_MSIH_x18944_y10752_patch01492.png: [Errno 2] No such file or directory: 'D'\n",
      "❌ Failed on TCGA-EI-6507_MSIH_x18944_y11264_patch01493.png: [Errno 2] No such file or directory: 'D'\n",
      "❌ Failed on TCGA-EI-6507_MSIH_x18944_y11776_patch01494.png: [Errno 2] No such file or directory: 'D'\n",
      "❌ Failed on TCGA-EI-6507_MSIH_x18944_y12288_patch01495.png: [Errno 2] No such file or directory: 'D'\n",
      "❌ Failed on TCGA-EI-6507_MSIH_x18944_y12800_patch01496.png: [Errno 2] No such file or directory: 'D'\n",
      "❌ Failed on TCGA-EI-6507_MSIH_x18944_y13312_patch01497.png: [Errno 2] No such file or directory: 'D'\n",
      "❌ Failed on TCGA-EI-6507_MSIH_x18944_y13824_patch01498.png: [Errno 2] No such file or directory: 'D'\n",
      "❌ Failed on TCGA-EI-6507_MSIH_x18944_y1536_patch01474.png: [Errno 2] No such file or directory: 'D'\n",
      "❌ Failed on TCGA-EI-6507_MSIH_x18944_y15872_patch01499.png: [Errno 2] No such file or directory: 'D'\n",
      "❌ Failed on TCGA-EI-6507_MSIH_x18944_y16384_patch01500.png: [Errno 2] No such file or directory: 'D'\n",
      "❌ Failed on TCGA-EI-6507_MSIH_x18944_y16896_patch01501.png: [Errno 2] No such file or directory: 'D'\n",
      "❌ Failed on TCGA-EI-6507_MSIH_x18944_y17408_patch01502.png: [Errno 2] No such file or directory: 'D'\n",
      "❌ Failed on TCGA-EI-6507_MSIH_x18944_y17920_patch01503.png: [Errno 2] No such file or directory: 'D'\n",
      "❌ Failed on TCGA-EI-6507_MSIH_x18944_y18432_patch01504.png: [Errno 2] No such file or directory: 'D'\n",
      "❌ Failed on TCGA-EI-6507_MSIH_x18944_y18944_patch01505.png: [Errno 2] No such file or directory: 'D'\n",
      "❌ Failed on TCGA-EI-6507_MSIH_x18944_y19456_patch01506.png: [Errno 2] No such file or directory: 'D'\n",
      "❌ Failed on TCGA-EI-6507_MSIH_x18944_y19968_patch01507.png: [Errno 2] No such file or directory: 'D'\n",
      "❌ Failed on TCGA-EI-6507_MSIH_x18944_y20480_patch01508.png: [Errno 2] No such file or directory: 'D'\n",
      "❌ Failed on TCGA-EI-6507_MSIH_x18944_y2048_patch01475.png: [Errno 2] No such file or directory: 'D'\n",
      "❌ Failed on TCGA-EI-6507_MSIH_x18944_y20992_patch01509.png: [Errno 2] No such file or directory: 'D'\n",
      "❌ Failed on TCGA-EI-6507_MSIH_x18944_y21504_patch01510.png: [Errno 2] No such file or directory: 'D'\n",
      "❌ Failed on TCGA-EI-6507_MSIH_x18944_y22016_patch01511.png: [Errno 2] No such file or directory: 'D'\n",
      "❌ Failed on TCGA-EI-6507_MSIH_x18944_y22528_patch01512.png: [Errno 2] No such file or directory: 'D'\n",
      "❌ Failed on TCGA-EI-6507_MSIH_x18944_y23040_patch01513.png: [Errno 2] No such file or directory: 'D'\n",
      "❌ Failed on TCGA-EI-6507_MSIH_x18944_y23552_patch01514.png: [Errno 2] No such file or directory: 'D'\n",
      "❌ Failed on TCGA-EI-6507_MSIH_x18944_y24064_patch01515.png: [Errno 2] No such file or directory: 'D'\n",
      "❌ Failed on TCGA-EI-6507_MSIH_x18944_y24576_patch01516.png: [Errno 2] No such file or directory: 'D'\n",
      "❌ Failed on TCGA-EI-6507_MSIH_x18944_y25088_patch01517.png: [Errno 2] No such file or directory: 'D'\n",
      "❌ Failed on TCGA-EI-6507_MSIH_x18944_y25600_patch01518.png: [Errno 2] No such file or directory: 'D'\n",
      "❌ Failed on TCGA-EI-6507_MSIH_x18944_y2560_patch01476.png: [Errno 2] No such file or directory: 'D'\n",
      "❌ Failed on TCGA-EI-6507_MSIH_x18944_y26112_patch01519.png: [Errno 2] No such file or directory: 'D'\n",
      "❌ Failed on TCGA-EI-6507_MSIH_x18944_y26624_patch01520.png: [Errno 2] No such file or directory: 'D'\n",
      "❌ Failed on TCGA-EI-6507_MSIH_x18944_y27136_patch01521.png: [Errno 2] No such file or directory: 'D'\n",
      "❌ Failed on TCGA-EI-6507_MSIH_x18944_y27648_patch01522.png: [Errno 2] No such file or directory: 'D'\n",
      "❌ Failed on TCGA-EI-6507_MSIH_x18944_y28160_patch01523.png: [Errno 2] No such file or directory: 'D'\n",
      "❌ Failed on TCGA-EI-6507_MSIH_x18944_y28672_patch01524.png: [Errno 2] No such file or directory: 'D'\n",
      "❌ Failed on TCGA-EI-6507_MSIH_x18944_y29184_patch01525.png: [Errno 2] No such file or directory: 'D'\n",
      "❌ Failed on TCGA-EI-6507_MSIH_x18944_y29696_patch01526.png: [Errno 2] No such file or directory: 'D'\n",
      "❌ Failed on TCGA-EI-6507_MSIH_x18944_y30208_patch01527.png: [Errno 2] No such file or directory: 'D'\n",
      "❌ Failed on TCGA-EI-6507_MSIH_x18944_y30720_patch01528.png: [Errno 2] No such file or directory: 'D'\n",
      "❌ Failed on TCGA-EI-6507_MSIH_x18944_y3072_patch01477.png: [Errno 2] No such file or directory: 'D'\n",
      "❌ Failed on TCGA-EI-6507_MSIH_x18944_y31232_patch01529.png: [Errno 2] No such file or directory: 'D'\n",
      "❌ Failed on TCGA-EI-6507_MSIH_x18944_y31744_patch01530.png: [Errno 2] No such file or directory: 'D'\n",
      "❌ Failed on TCGA-EI-6507_MSIH_x18944_y32256_patch01531.png: [Errno 2] No such file or directory: 'D'\n",
      "❌ Failed on TCGA-EI-6507_MSIH_x18944_y32768_patch01532.png: [Errno 2] No such file or directory: 'D'\n",
      "❌ Failed on TCGA-EI-6507_MSIH_x18944_y33280_patch01533.png: [Errno 2] No such file or directory: 'D'\n",
      "❌ Failed on TCGA-EI-6507_MSIH_x18944_y33792_patch01534.png: [Errno 2] No such file or directory: 'D'\n",
      "❌ Failed on TCGA-EI-6507_MSIH_x18944_y34304_patch01535.png: [Errno 2] No such file or directory: 'D'\n",
      "❌ Failed on TCGA-EI-6507_MSIH_x18944_y3584_patch01478.png: [Errno 2] No such file or directory: 'D'\n",
      "❌ Failed on TCGA-EI-6507_MSIH_x18944_y4096_patch01479.png: [Errno 2] No such file or directory: 'D'\n",
      "❌ Failed on TCGA-EI-6507_MSIH_x18944_y4608_patch01480.png: [Errno 2] No such file or directory: 'D'\n",
      "❌ Failed on TCGA-EI-6507_MSIH_x18944_y5120_patch01481.png: [Errno 2] No such file or directory: 'D'\n",
      "❌ Failed on TCGA-EI-6507_MSIH_x18944_y512_patch01472.png: [Errno 2] No such file or directory: 'D'\n",
      "❌ Failed on TCGA-EI-6507_MSIH_x18944_y5632_patch01482.png: [Errno 2] No such file or directory: 'D'\n",
      "❌ Failed on TCGA-EI-6507_MSIH_x18944_y6144_patch01483.png: [Errno 2] No such file or directory: 'D'\n",
      "❌ Failed on TCGA-EI-6507_MSIH_x18944_y6656_patch01484.png: [Errno 2] No such file or directory: 'D'\n",
      "❌ Failed on TCGA-EI-6507_MSIH_x18944_y7168_patch01485.png: [Errno 2] No such file or directory: 'D'\n",
      "❌ Failed on TCGA-EI-6507_MSIH_x18944_y7680_patch01486.png: [Errno 2] No such file or directory: 'D'\n",
      "❌ Failed on TCGA-EI-6507_MSIH_x18944_y8192_patch01487.png: [Errno 2] No such file or directory: 'D'\n",
      "❌ Failed on TCGA-EI-6507_MSIH_x18944_y8704_patch01488.png: [Errno 2] No such file or directory: 'D'\n",
      "❌ Failed on TCGA-EI-6507_MSIH_x18944_y9216_patch01489.png: [Errno 2] No such file or directory: 'D'\n",
      "❌ Failed on TCGA-EI-6507_MSIH_x18944_y9728_patch01490.png: [Errno 2] No such file or directory: 'D'\n",
      "❌ Failed on TCGA-EI-6507_MSIH_x19456_y0_patch01536.png: [Errno 2] No such file or directory: 'D'\n",
      "❌ Failed on TCGA-EI-6507_MSIH_x19456_y10240_patch01556.png: [Errno 2] No such file or directory: 'D'\n",
      "❌ Failed on TCGA-EI-6507_MSIH_x19456_y1024_patch01538.png: [Errno 2] No such file or directory: 'D'\n",
      "❌ Failed on TCGA-EI-6507_MSIH_x19456_y10752_patch01557.png: [Errno 2] No such file or directory: 'D'\n",
      "❌ Failed on TCGA-EI-6507_MSIH_x19456_y11264_patch01558.png: [Errno 2] No such file or directory: 'D'\n",
      "❌ Failed on TCGA-EI-6507_MSIH_x19456_y11776_patch01559.png: [Errno 2] No such file or directory: 'D'\n",
      "❌ Failed on TCGA-EI-6507_MSIH_x19456_y12288_patch01560.png: [Errno 2] No such file or directory: 'D'\n",
      "❌ Failed on TCGA-EI-6507_MSIH_x19456_y12800_patch01561.png: [Errno 2] No such file or directory: 'D'\n",
      "❌ Failed on TCGA-EI-6507_MSIH_x19456_y13824_patch01562.png: [Errno 2] No such file or directory: 'D'\n",
      "❌ Failed on TCGA-EI-6507_MSIH_x19456_y15360_patch01563.png: [Errno 2] No such file or directory: 'D'\n",
      "❌ Failed on TCGA-EI-6507_MSIH_x19456_y1536_patch01539.png: [Errno 2] No such file or directory: 'D'\n",
      "❌ Failed on TCGA-EI-6507_MSIH_x19456_y15872_patch01564.png: [Errno 2] No such file or directory: 'D'\n",
      "❌ Failed on TCGA-EI-6507_MSIH_x19456_y16384_patch01565.png: [Errno 2] No such file or directory: 'D'\n",
      "❌ Failed on TCGA-EI-6507_MSIH_x19456_y16896_patch01566.png: [Errno 2] No such file or directory: 'D'\n",
      "❌ Failed on TCGA-EI-6507_MSIH_x19456_y17408_patch01567.png: [Errno 2] No such file or directory: 'D'\n",
      "❌ Failed on TCGA-EI-6507_MSIH_x19456_y17920_patch01568.png: [Errno 2] No such file or directory: 'D'\n",
      "❌ Failed on TCGA-EI-6507_MSIH_x19456_y18432_patch01569.png: [Errno 2] No such file or directory: 'D'\n",
      "❌ Failed on TCGA-EI-6507_MSIH_x19456_y18944_patch01570.png: [Errno 2] No such file or directory: 'D'\n",
      "❌ Failed on TCGA-EI-6507_MSIH_x19456_y19456_patch01571.png: [Errno 2] No such file or directory: 'D'\n",
      "❌ Failed on TCGA-EI-6507_MSIH_x19456_y19968_patch01572.png: [Errno 2] No such file or directory: 'D'\n",
      "❌ Failed on TCGA-EI-6507_MSIH_x19456_y20480_patch01573.png: [Errno 2] No such file or directory: 'D'\n",
      "❌ Failed on TCGA-EI-6507_MSIH_x19456_y2048_patch01540.png: [Errno 2] No such file or directory: 'D'\n",
      "❌ Failed on TCGA-EI-6507_MSIH_x19456_y20992_patch01574.png: [Errno 2] No such file or directory: 'D'\n",
      "❌ Failed on TCGA-EI-6507_MSIH_x19456_y21504_patch01575.png: [Errno 2] No such file or directory: 'D'\n",
      "❌ Failed on TCGA-EI-6507_MSIH_x19456_y22016_patch01576.png: [Errno 2] No such file or directory: 'D'\n",
      "❌ Failed on TCGA-EI-6507_MSIH_x19456_y22528_patch01577.png: [Errno 2] No such file or directory: 'D'\n",
      "❌ Failed on TCGA-EI-6507_MSIH_x19456_y23040_patch01578.png: [Errno 2] No such file or directory: 'D'\n",
      "❌ Failed on TCGA-EI-6507_MSIH_x19456_y23552_patch01579.png: [Errno 2] No such file or directory: 'D'\n",
      "❌ Failed on TCGA-EI-6507_MSIH_x19456_y24064_patch01580.png: [Errno 2] No such file or directory: 'D'\n",
      "❌ Failed on TCGA-EI-6507_MSIH_x19456_y24576_patch01581.png: [Errno 2] No such file or directory: 'D'\n",
      "❌ Failed on TCGA-EI-6507_MSIH_x19456_y25088_patch01582.png: [Errno 2] No such file or directory: 'D'\n",
      "❌ Failed on TCGA-EI-6507_MSIH_x19456_y25600_patch01583.png: [Errno 2] No such file or directory: 'D'\n",
      "❌ Failed on TCGA-EI-6507_MSIH_x19456_y2560_patch01541.png: [Errno 2] No such file or directory: 'D'\n",
      "❌ Failed on TCGA-EI-6507_MSIH_x19456_y26112_patch01584.png: [Errno 2] No such file or directory: 'D'\n",
      "❌ Failed on TCGA-EI-6507_MSIH_x19456_y26624_patch01585.png: [Errno 2] No such file or directory: 'D'\n",
      "❌ Failed on TCGA-EI-6507_MSIH_x19456_y27136_patch01586.png: [Errno 2] No such file or directory: 'D'\n",
      "❌ Failed on TCGA-EI-6507_MSIH_x19456_y27648_patch01587.png: [Errno 2] No such file or directory: 'D'\n",
      "❌ Failed on TCGA-EI-6507_MSIH_x19456_y28160_patch01588.png: [Errno 2] No such file or directory: 'D'\n",
      "❌ Failed on TCGA-EI-6507_MSIH_x19456_y28672_patch01589.png: [Errno 2] No such file or directory: 'D'\n",
      "❌ Failed on TCGA-EI-6507_MSIH_x19456_y29184_patch01590.png: [Errno 2] No such file or directory: 'D'\n",
      "❌ Failed on TCGA-EI-6507_MSIH_x19456_y29696_patch01591.png: [Errno 2] No such file or directory: 'D'\n",
      "❌ Failed on TCGA-EI-6507_MSIH_x19456_y30208_patch01592.png: [Errno 2] No such file or directory: 'D'\n",
      "❌ Failed on TCGA-EI-6507_MSIH_x19456_y30720_patch01593.png: [Errno 2] No such file or directory: 'D'\n",
      "❌ Failed on TCGA-EI-6507_MSIH_x19456_y3072_patch01542.png: [Errno 2] No such file or directory: 'D'\n",
      "❌ Failed on TCGA-EI-6507_MSIH_x19456_y31232_patch01594.png: [Errno 2] No such file or directory: 'D'\n",
      "❌ Failed on TCGA-EI-6507_MSIH_x19456_y31744_patch01595.png: [Errno 2] No such file or directory: 'D'\n",
      "❌ Failed on TCGA-EI-6507_MSIH_x19456_y32256_patch01596.png: [Errno 2] No such file or directory: 'D'\n",
      "❌ Failed on TCGA-EI-6507_MSIH_x19456_y32768_patch01597.png: [Errno 2] No such file or directory: 'D'\n",
      "❌ Failed on TCGA-EI-6507_MSIH_x19456_y33280_patch01598.png: [Errno 2] No such file or directory: 'D'\n",
      "❌ Failed on TCGA-EI-6507_MSIH_x19456_y33792_patch01599.png: [Errno 2] No such file or directory: 'D'\n",
      "❌ Failed on TCGA-EI-6507_MSIH_x19456_y34304_patch01600.png: [Errno 2] No such file or directory: 'D'\n",
      "❌ Failed on TCGA-EI-6507_MSIH_x19456_y3584_patch01543.png: [Errno 2] No such file or directory: 'D'\n",
      "❌ Failed on TCGA-EI-6507_MSIH_x19456_y4096_patch01544.png: [Errno 2] No such file or directory: 'D'\n",
      "❌ Failed on TCGA-EI-6507_MSIH_x19456_y4608_patch01545.png: [Errno 2] No such file or directory: 'D'\n",
      "❌ Failed on TCGA-EI-6507_MSIH_x19456_y5120_patch01546.png: [Errno 2] No such file or directory: 'D'\n",
      "❌ Failed on TCGA-EI-6507_MSIH_x19456_y512_patch01537.png: [Errno 2] No such file or directory: 'D'\n",
      "❌ Failed on TCGA-EI-6507_MSIH_x19456_y5632_patch01547.png: [Errno 2] No such file or directory: 'D'\n",
      "❌ Failed on TCGA-EI-6507_MSIH_x19456_y6144_patch01548.png: [Errno 2] No such file or directory: 'D'\n",
      "❌ Failed on TCGA-EI-6507_MSIH_x19456_y6656_patch01549.png: [Errno 2] No such file or directory: 'D'\n",
      "❌ Failed on TCGA-EI-6507_MSIH_x19456_y7168_patch01550.png: [Errno 2] No such file or directory: 'D'\n",
      "❌ Failed on TCGA-EI-6507_MSIH_x19456_y7680_patch01551.png: [Errno 2] No such file or directory: 'D'\n",
      "❌ Failed on TCGA-EI-6507_MSIH_x19456_y8192_patch01552.png: [Errno 2] No such file or directory: 'D'\n",
      "❌ Failed on TCGA-EI-6507_MSIH_x19456_y8704_patch01553.png: [Errno 2] No such file or directory: 'D'\n",
      "❌ Failed on TCGA-EI-6507_MSIH_x19456_y9216_patch01554.png: [Errno 2] No such file or directory: 'D'\n",
      "❌ Failed on TCGA-EI-6507_MSIH_x19456_y9728_patch01555.png: [Errno 2] No such file or directory: 'D'\n",
      "❌ Failed on TCGA-EI-6507_MSIH_x19968_y0_patch01601.png: [Errno 2] No such file or directory: 'D'\n",
      "❌ Failed on TCGA-EI-6507_MSIH_x19968_y10240_patch01621.png: [Errno 2] No such file or directory: 'D'\n",
      "❌ Failed on TCGA-EI-6507_MSIH_x19968_y1024_patch01603.png: [Errno 2] No such file or directory: 'D'\n",
      "❌ Failed on TCGA-EI-6507_MSIH_x19968_y10752_patch01622.png: [Errno 2] No such file or directory: 'D'\n",
      "❌ Failed on TCGA-EI-6507_MSIH_x19968_y11264_patch01623.png: [Errno 2] No such file or directory: 'D'\n",
      "❌ Failed on TCGA-EI-6507_MSIH_x19968_y11776_patch01624.png: [Errno 2] No such file or directory: 'D'\n",
      "❌ Failed on TCGA-EI-6507_MSIH_x19968_y12288_patch01625.png: [Errno 2] No such file or directory: 'D'\n",
      "❌ Failed on TCGA-EI-6507_MSIH_x19968_y12800_patch01626.png: [Errno 2] No such file or directory: 'D'\n",
      "❌ Failed on TCGA-EI-6507_MSIH_x19968_y14336_patch01627.png: [Errno 2] No such file or directory: 'D'\n",
      "❌ Failed on TCGA-EI-6507_MSIH_x19968_y15360_patch01628.png: [Errno 2] No such file or directory: 'D'\n",
      "❌ Failed on TCGA-EI-6507_MSIH_x19968_y1536_patch01604.png: [Errno 2] No such file or directory: 'D'\n",
      "❌ Failed on TCGA-EI-6507_MSIH_x19968_y15872_patch01629.png: [Errno 2] No such file or directory: 'D'\n",
      "❌ Failed on TCGA-EI-6507_MSIH_x19968_y16384_patch01630.png: [Errno 2] No such file or directory: 'D'\n",
      "❌ Failed on TCGA-EI-6507_MSIH_x19968_y16896_patch01631.png: [Errno 2] No such file or directory: 'D'\n",
      "❌ Failed on TCGA-EI-6507_MSIH_x19968_y17408_patch01632.png: [Errno 2] No such file or directory: 'D'\n",
      "❌ Failed on TCGA-EI-6507_MSIH_x19968_y17920_patch01633.png: [Errno 2] No such file or directory: 'D'\n",
      "❌ Failed on TCGA-EI-6507_MSIH_x19968_y18432_patch01634.png: [Errno 2] No such file or directory: 'D'\n",
      "❌ Failed on TCGA-EI-6507_MSIH_x19968_y18944_patch01635.png: [Errno 2] No such file or directory: 'D'\n",
      "❌ Failed on TCGA-EI-6507_MSIH_x19968_y19456_patch01636.png: [Errno 2] No such file or directory: 'D'\n",
      "❌ Failed on TCGA-EI-6507_MSIH_x19968_y19968_patch01637.png: [Errno 2] No such file or directory: 'D'\n",
      "❌ Failed on TCGA-EI-6507_MSIH_x19968_y20480_patch01638.png: [Errno 2] No such file or directory: 'D'\n",
      "❌ Failed on TCGA-EI-6507_MSIH_x19968_y2048_patch01605.png: [Errno 2] No such file or directory: 'D'\n",
      "❌ Failed on TCGA-EI-6507_MSIH_x19968_y20992_patch01639.png: [Errno 2] No such file or directory: 'D'\n",
      "❌ Failed on TCGA-EI-6507_MSIH_x19968_y21504_patch01640.png: [Errno 2] No such file or directory: 'D'\n",
      "❌ Failed on TCGA-EI-6507_MSIH_x19968_y22016_patch01641.png: [Errno 2] No such file or directory: 'D'\n",
      "❌ Failed on TCGA-EI-6507_MSIH_x19968_y22528_patch01642.png: [Errno 2] No such file or directory: 'D'\n",
      "❌ Failed on TCGA-EI-6507_MSIH_x19968_y23040_patch01643.png: [Errno 2] No such file or directory: 'D'\n",
      "❌ Failed on TCGA-EI-6507_MSIH_x19968_y23552_patch01644.png: [Errno 2] No such file or directory: 'D'\n",
      "❌ Failed on TCGA-EI-6507_MSIH_x19968_y24064_patch01645.png: [Errno 2] No such file or directory: 'D'\n",
      "❌ Failed on TCGA-EI-6507_MSIH_x19968_y24576_patch01646.png: [Errno 2] No such file or directory: 'D'\n",
      "❌ Failed on TCGA-EI-6507_MSIH_x19968_y25088_patch01647.png: [Errno 2] No such file or directory: 'D'\n",
      "❌ Failed on TCGA-EI-6507_MSIH_x19968_y25600_patch01648.png: [Errno 2] No such file or directory: 'D'\n",
      "❌ Failed on TCGA-EI-6507_MSIH_x19968_y2560_patch01606.png: [Errno 2] No such file or directory: 'D'\n",
      "❌ Failed on TCGA-EI-6507_MSIH_x19968_y26112_patch01649.png: [Errno 2] No such file or directory: 'D'\n",
      "❌ Failed on TCGA-EI-6507_MSIH_x19968_y26624_patch01650.png: [Errno 2] No such file or directory: 'D'\n",
      "❌ Failed on TCGA-EI-6507_MSIH_x19968_y27136_patch01651.png: [Errno 2] No such file or directory: 'D'\n",
      "❌ Failed on TCGA-EI-6507_MSIH_x19968_y27648_patch01652.png: [Errno 2] No such file or directory: 'D'\n",
      "❌ Failed on TCGA-EI-6507_MSIH_x19968_y28160_patch01653.png: [Errno 2] No such file or directory: 'D'\n",
      "❌ Failed on TCGA-EI-6507_MSIH_x19968_y28672_patch01654.png: [Errno 2] No such file or directory: 'D'\n",
      "❌ Failed on TCGA-EI-6507_MSIH_x19968_y29184_patch01655.png: [Errno 2] No such file or directory: 'D'\n",
      "❌ Failed on TCGA-EI-6507_MSIH_x19968_y29696_patch01656.png: [Errno 2] No such file or directory: 'D'\n",
      "❌ Failed on TCGA-EI-6507_MSIH_x19968_y30208_patch01657.png: [Errno 2] No such file or directory: 'D'\n",
      "❌ Failed on TCGA-EI-6507_MSIH_x19968_y30720_patch01658.png: [Errno 2] No such file or directory: 'D'\n",
      "❌ Failed on TCGA-EI-6507_MSIH_x19968_y3072_patch01607.png: [Errno 2] No such file or directory: 'D'\n",
      "❌ Failed on TCGA-EI-6507_MSIH_x19968_y31232_patch01659.png: [Errno 2] No such file or directory: 'D'\n",
      "❌ Failed on TCGA-EI-6507_MSIH_x19968_y31744_patch01660.png: [Errno 2] No such file or directory: 'D'\n",
      "❌ Failed on TCGA-EI-6507_MSIH_x19968_y32256_patch01661.png: [Errno 2] No such file or directory: 'D'\n",
      "❌ Failed on TCGA-EI-6507_MSIH_x19968_y32768_patch01662.png: [Errno 2] No such file or directory: 'D'\n",
      "❌ Failed on TCGA-EI-6507_MSIH_x19968_y33280_patch01663.png: [Errno 2] No such file or directory: 'D'\n",
      "❌ Failed on TCGA-EI-6507_MSIH_x19968_y33792_patch01664.png: [Errno 2] No such file or directory: 'D'\n",
      "❌ Failed on TCGA-EI-6507_MSIH_x19968_y34304_patch01665.png: [Errno 2] No such file or directory: 'D'\n",
      "❌ Failed on TCGA-EI-6507_MSIH_x19968_y34816_patch01666.png: [Errno 2] No such file or directory: 'D'\n",
      "❌ Failed on TCGA-EI-6507_MSIH_x19968_y3584_patch01608.png: [Errno 2] No such file or directory: 'D'\n",
      "❌ Failed on TCGA-EI-6507_MSIH_x19968_y4096_patch01609.png: [Errno 2] No such file or directory: 'D'\n",
      "❌ Failed on TCGA-EI-6507_MSIH_x19968_y4608_patch01610.png: [Errno 2] No such file or directory: 'D'\n",
      "❌ Failed on TCGA-EI-6507_MSIH_x19968_y5120_patch01611.png: [Errno 2] No such file or directory: 'D'\n",
      "❌ Failed on TCGA-EI-6507_MSIH_x19968_y512_patch01602.png: [Errno 2] No such file or directory: 'D'\n",
      "❌ Failed on TCGA-EI-6507_MSIH_x19968_y5632_patch01612.png: [Errno 2] No such file or directory: 'D'\n",
      "❌ Failed on TCGA-EI-6507_MSIH_x19968_y6144_patch01613.png: [Errno 2] No such file or directory: 'D'\n",
      "❌ Failed on TCGA-EI-6507_MSIH_x19968_y6656_patch01614.png: [Errno 2] No such file or directory: 'D'\n",
      "❌ Failed on TCGA-EI-6507_MSIH_x19968_y7168_patch01615.png: [Errno 2] No such file or directory: 'D'\n",
      "❌ Failed on TCGA-EI-6507_MSIH_x19968_y7680_patch01616.png: [Errno 2] No such file or directory: 'D'\n",
      "❌ Failed on TCGA-EI-6507_MSIH_x19968_y8192_patch01617.png: [Errno 2] No such file or directory: 'D'\n",
      "❌ Failed on TCGA-EI-6507_MSIH_x19968_y8704_patch01618.png: [Errno 2] No such file or directory: 'D'\n",
      "❌ Failed on TCGA-EI-6507_MSIH_x19968_y9216_patch01619.png: [Errno 2] No such file or directory: 'D'\n",
      "❌ Failed on TCGA-EI-6507_MSIH_x19968_y9728_patch01620.png: [Errno 2] No such file or directory: 'D'\n",
      "❌ Failed on TCGA-EI-6507_MSIH_x20480_y0_patch01667.png: [Errno 2] No such file or directory: 'D'\n",
      "❌ Failed on TCGA-EI-6507_MSIH_x20480_y10240_patch01687.png: [Errno 2] No such file or directory: 'D'\n",
      "❌ Failed on TCGA-EI-6507_MSIH_x20480_y1024_patch01669.png: [Errno 2] No such file or directory: 'D'\n",
      "❌ Failed on TCGA-EI-6507_MSIH_x20480_y10752_patch01688.png: [Errno 2] No such file or directory: 'D'\n",
      "❌ Failed on TCGA-EI-6507_MSIH_x20480_y12800_patch01689.png: [Errno 2] No such file or directory: 'D'\n",
      "❌ Failed on TCGA-EI-6507_MSIH_x20480_y13312_patch01690.png: [Errno 2] No such file or directory: 'D'\n",
      "❌ Failed on TCGA-EI-6507_MSIH_x20480_y13824_patch01691.png: [Errno 2] No such file or directory: 'D'\n",
      "❌ Failed on TCGA-EI-6507_MSIH_x20480_y14336_patch01692.png: [Errno 2] No such file or directory: 'D'\n",
      "❌ Failed on TCGA-EI-6507_MSIH_x20480_y14848_patch01693.png: [Errno 2] No such file or directory: 'D'\n",
      "❌ Failed on TCGA-EI-6507_MSIH_x20480_y15360_patch01694.png: [Errno 2] No such file or directory: 'D'\n",
      "❌ Failed on TCGA-EI-6507_MSIH_x20480_y1536_patch01670.png: [Errno 2] No such file or directory: 'D'\n",
      "❌ Failed on TCGA-EI-6507_MSIH_x20480_y15872_patch01695.png: [Errno 2] No such file or directory: 'D'\n",
      "❌ Failed on TCGA-EI-6507_MSIH_x20480_y16384_patch01696.png: [Errno 2] No such file or directory: 'D'\n",
      "❌ Failed on TCGA-EI-6507_MSIH_x20480_y16896_patch01697.png: [Errno 2] No such file or directory: 'D'\n",
      "❌ Failed on TCGA-EI-6507_MSIH_x20480_y17408_patch01698.png: [Errno 2] No such file or directory: 'D'\n",
      "❌ Failed on TCGA-EI-6507_MSIH_x20480_y17920_patch01699.png: [Errno 2] No such file or directory: 'D'\n",
      "❌ Failed on TCGA-EI-6507_MSIH_x20480_y18432_patch01700.png: [Errno 2] No such file or directory: 'D'\n",
      "❌ Failed on TCGA-EI-6507_MSIH_x20480_y18944_patch01701.png: [Errno 2] No such file or directory: 'D'\n",
      "❌ Failed on TCGA-EI-6507_MSIH_x20480_y19456_patch01702.png: [Errno 2] No such file or directory: 'D'\n",
      "❌ Failed on TCGA-EI-6507_MSIH_x20480_y19968_patch01703.png: [Errno 2] No such file or directory: 'D'\n",
      "❌ Failed on TCGA-EI-6507_MSIH_x20480_y20480_patch01704.png: [Errno 2] No such file or directory: 'D'\n",
      "❌ Failed on TCGA-EI-6507_MSIH_x20480_y2048_patch01671.png: [Errno 2] No such file or directory: 'D'\n",
      "❌ Failed on TCGA-EI-6507_MSIH_x20480_y20992_patch01705.png: [Errno 2] No such file or directory: 'D'\n",
      "❌ Failed on TCGA-EI-6507_MSIH_x20480_y21504_patch01706.png: [Errno 2] No such file or directory: 'D'\n",
      "❌ Failed on TCGA-EI-6507_MSIH_x20480_y22016_patch01707.png: [Errno 2] No such file or directory: 'D'\n",
      "❌ Failed on TCGA-EI-6507_MSIH_x20480_y22528_patch01708.png: [Errno 2] No such file or directory: 'D'\n",
      "❌ Failed on TCGA-EI-6507_MSIH_x20480_y23040_patch01709.png: [Errno 2] No such file or directory: 'D'\n",
      "❌ Failed on TCGA-EI-6507_MSIH_x20480_y23552_patch01710.png: [Errno 2] No such file or directory: 'D'\n",
      "❌ Failed on TCGA-EI-6507_MSIH_x20480_y24064_patch01711.png: [Errno 2] No such file or directory: 'D'\n",
      "❌ Failed on TCGA-EI-6507_MSIH_x20480_y24576_patch01712.png: [Errno 2] No such file or directory: 'D'\n",
      "❌ Failed on TCGA-EI-6507_MSIH_x20480_y25088_patch01713.png: [Errno 2] No such file or directory: 'D'\n",
      "❌ Failed on TCGA-EI-6507_MSIH_x20480_y25600_patch01714.png: [Errno 2] No such file or directory: 'D'\n",
      "❌ Failed on TCGA-EI-6507_MSIH_x20480_y2560_patch01672.png: [Errno 2] No such file or directory: 'D'\n",
      "❌ Failed on TCGA-EI-6507_MSIH_x20480_y26112_patch01715.png: [Errno 2] No such file or directory: 'D'\n",
      "❌ Failed on TCGA-EI-6507_MSIH_x20480_y26624_patch01716.png: [Errno 2] No such file or directory: 'D'\n",
      "❌ Failed on TCGA-EI-6507_MSIH_x20480_y27136_patch01717.png: [Errno 2] No such file or directory: 'D'\n",
      "❌ Failed on TCGA-EI-6507_MSIH_x20480_y27648_patch01718.png: [Errno 2] No such file or directory: 'D'\n",
      "❌ Failed on TCGA-EI-6507_MSIH_x20480_y28160_patch01719.png: [Errno 2] No such file or directory: 'D'\n",
      "❌ Failed on TCGA-EI-6507_MSIH_x20480_y28672_patch01720.png: [Errno 2] No such file or directory: 'D'\n",
      "❌ Failed on TCGA-EI-6507_MSIH_x20480_y29184_patch01721.png: [Errno 2] No such file or directory: 'D'\n",
      "❌ Failed on TCGA-EI-6507_MSIH_x20480_y29696_patch01722.png: [Errno 2] No such file or directory: 'D'\n",
      "❌ Failed on TCGA-EI-6507_MSIH_x20480_y30208_patch01723.png: [Errno 2] No such file or directory: 'D'\n",
      "❌ Failed on TCGA-EI-6507_MSIH_x20480_y30720_patch01724.png: [Errno 2] No such file or directory: 'D'\n",
      "❌ Failed on TCGA-EI-6507_MSIH_x20480_y3072_patch01673.png: [Errno 2] No such file or directory: 'D'\n",
      "❌ Failed on TCGA-EI-6507_MSIH_x20480_y31232_patch01725.png: [Errno 2] No such file or directory: 'D'\n",
      "❌ Failed on TCGA-EI-6507_MSIH_x20480_y31744_patch01726.png: [Errno 2] No such file or directory: 'D'\n",
      "❌ Failed on TCGA-EI-6507_MSIH_x20480_y32256_patch01727.png: [Errno 2] No such file or directory: 'D'\n",
      "❌ Failed on TCGA-EI-6507_MSIH_x20480_y32768_patch01728.png: [Errno 2] No such file or directory: 'D'\n",
      "❌ Failed on TCGA-EI-6507_MSIH_x20480_y33280_patch01729.png: [Errno 2] No such file or directory: 'D'\n",
      "❌ Failed on TCGA-EI-6507_MSIH_x20480_y33792_patch01730.png: [Errno 2] No such file or directory: 'D'\n",
      "❌ Failed on TCGA-EI-6507_MSIH_x20480_y34304_patch01731.png: [Errno 2] No such file or directory: 'D'\n",
      "❌ Failed on TCGA-EI-6507_MSIH_x20480_y3584_patch01674.png: [Errno 2] No such file or directory: 'D'\n",
      "❌ Failed on TCGA-EI-6507_MSIH_x20480_y4096_patch01675.png: [Errno 2] No such file or directory: 'D'\n",
      "❌ Failed on TCGA-EI-6507_MSIH_x20480_y4608_patch01676.png: [Errno 2] No such file or directory: 'D'\n",
      "❌ Failed on TCGA-EI-6507_MSIH_x20480_y5120_patch01677.png: [Errno 2] No such file or directory: 'D'\n",
      "❌ Failed on TCGA-EI-6507_MSIH_x20480_y512_patch01668.png: [Errno 2] No such file or directory: 'D'\n",
      "❌ Failed on TCGA-EI-6507_MSIH_x20480_y5632_patch01678.png: [Errno 2] No such file or directory: 'D'\n",
      "❌ Failed on TCGA-EI-6507_MSIH_x20480_y6144_patch01679.png: [Errno 2] No such file or directory: 'D'\n",
      "❌ Failed on TCGA-EI-6507_MSIH_x20480_y6656_patch01680.png: [Errno 2] No such file or directory: 'D'\n",
      "❌ Failed on TCGA-EI-6507_MSIH_x20480_y7168_patch01681.png: [Errno 2] No such file or directory: 'D'\n",
      "❌ Failed on TCGA-EI-6507_MSIH_x20480_y7680_patch01682.png: [Errno 2] No such file or directory: 'D'\n",
      "❌ Failed on TCGA-EI-6507_MSIH_x20480_y8192_patch01683.png: [Errno 2] No such file or directory: 'D'\n",
      "❌ Failed on TCGA-EI-6507_MSIH_x20480_y8704_patch01684.png: [Errno 2] No such file or directory: 'D'\n",
      "❌ Failed on TCGA-EI-6507_MSIH_x20480_y9216_patch01685.png: [Errno 2] No such file or directory: 'D'\n",
      "❌ Failed on TCGA-EI-6507_MSIH_x20480_y9728_patch01686.png: [Errno 2] No such file or directory: 'D'\n",
      "❌ Failed on TCGA-EI-6507_MSIH_x2048_y17920_patch00045.png: [Errno 2] No such file or directory: 'D'\n",
      "❌ Failed on TCGA-EI-6507_MSIH_x2048_y18432_patch00046.png: [Errno 2] No such file or directory: 'D'\n",
      "❌ Failed on TCGA-EI-6507_MSIH_x2048_y18944_patch00047.png: [Errno 2] No such file or directory: 'D'\n",
      "❌ Failed on TCGA-EI-6507_MSIH_x2048_y19456_patch00048.png: [Errno 2] No such file or directory: 'D'\n",
      "❌ Failed on TCGA-EI-6507_MSIH_x2048_y19968_patch00049.png: [Errno 2] No such file or directory: 'D'\n",
      "❌ Failed on TCGA-EI-6507_MSIH_x2048_y20480_patch00050.png: [Errno 2] No such file or directory: 'D'\n",
      "❌ Failed on TCGA-EI-6507_MSIH_x2048_y20992_patch00051.png: [Errno 2] No such file or directory: 'D'\n",
      "❌ Failed on TCGA-EI-6507_MSIH_x2048_y21504_patch00052.png: [Errno 2] No such file or directory: 'D'\n",
      "❌ Failed on TCGA-EI-6507_MSIH_x2048_y22016_patch00053.png: [Errno 2] No such file or directory: 'D'\n",
      "❌ Failed on TCGA-EI-6507_MSIH_x2048_y22528_patch00054.png: [Errno 2] No such file or directory: 'D'\n",
      "❌ Failed on TCGA-EI-6507_MSIH_x2048_y23040_patch00055.png: [Errno 2] No such file or directory: 'D'\n",
      "❌ Failed on TCGA-EI-6507_MSIH_x2048_y23552_patch00056.png: [Errno 2] No such file or directory: 'D'\n",
      "❌ Failed on TCGA-EI-6507_MSIH_x2048_y24064_patch00057.png: [Errno 2] No such file or directory: 'D'\n",
      "❌ Failed on TCGA-EI-6507_MSIH_x2048_y24576_patch00058.png: [Errno 2] No such file or directory: 'D'\n",
      "❌ Failed on TCGA-EI-6507_MSIH_x2048_y25088_patch00059.png: [Errno 2] No such file or directory: 'D'\n",
      "❌ Failed on TCGA-EI-6507_MSIH_x20992_y0_patch01732.png: [Errno 2] No such file or directory: 'D'\n",
      "❌ Failed on TCGA-EI-6507_MSIH_x20992_y10240_patch01752.png: [Errno 2] No such file or directory: 'D'\n",
      "❌ Failed on TCGA-EI-6507_MSIH_x20992_y1024_patch01734.png: [Errno 2] No such file or directory: 'D'\n",
      "❌ Failed on TCGA-EI-6507_MSIH_x20992_y10752_patch01753.png: [Errno 2] No such file or directory: 'D'\n",
      "❌ Failed on TCGA-EI-6507_MSIH_x20992_y11264_patch01754.png: [Errno 2] No such file or directory: 'D'\n",
      "❌ Failed on TCGA-EI-6507_MSIH_x20992_y12800_patch01755.png: [Errno 2] No such file or directory: 'D'\n",
      "❌ Failed on TCGA-EI-6507_MSIH_x20992_y13312_patch01756.png: [Errno 2] No such file or directory: 'D'\n",
      "❌ Failed on TCGA-EI-6507_MSIH_x20992_y13824_patch01757.png: [Errno 2] No such file or directory: 'D'\n",
      "❌ Failed on TCGA-EI-6507_MSIH_x20992_y14336_patch01758.png: [Errno 2] No such file or directory: 'D'\n",
      "❌ Failed on TCGA-EI-6507_MSIH_x20992_y14848_patch01759.png: [Errno 2] No such file or directory: 'D'\n",
      "❌ Failed on TCGA-EI-6507_MSIH_x20992_y15360_patch01760.png: [Errno 2] No such file or directory: 'D'\n",
      "❌ Failed on TCGA-EI-6507_MSIH_x20992_y1536_patch01735.png: [Errno 2] No such file or directory: 'D'\n",
      "❌ Failed on TCGA-EI-6507_MSIH_x20992_y15872_patch01761.png: [Errno 2] No such file or directory: 'D'\n",
      "❌ Failed on TCGA-EI-6507_MSIH_x20992_y16384_patch01762.png: [Errno 2] No such file or directory: 'D'\n",
      "❌ Failed on TCGA-EI-6507_MSIH_x20992_y16896_patch01763.png: [Errno 2] No such file or directory: 'D'\n",
      "❌ Failed on TCGA-EI-6507_MSIH_x20992_y17408_patch01764.png: [Errno 2] No such file or directory: 'D'\n",
      "❌ Failed on TCGA-EI-6507_MSIH_x20992_y17920_patch01765.png: [Errno 2] No such file or directory: 'D'\n",
      "❌ Failed on TCGA-EI-6507_MSIH_x20992_y18432_patch01766.png: [Errno 2] No such file or directory: 'D'\n",
      "❌ Failed on TCGA-EI-6507_MSIH_x20992_y18944_patch01767.png: [Errno 2] No such file or directory: 'D'\n",
      "❌ Failed on TCGA-EI-6507_MSIH_x20992_y19456_patch01768.png: [Errno 2] No such file or directory: 'D'\n",
      "❌ Failed on TCGA-EI-6507_MSIH_x20992_y19968_patch01769.png: [Errno 2] No such file or directory: 'D'\n",
      "❌ Failed on TCGA-EI-6507_MSIH_x20992_y20480_patch01770.png: [Errno 2] No such file or directory: 'D'\n",
      "❌ Failed on TCGA-EI-6507_MSIH_x20992_y2048_patch01736.png: [Errno 2] No such file or directory: 'D'\n",
      "❌ Failed on TCGA-EI-6507_MSIH_x20992_y20992_patch01771.png: [Errno 2] No such file or directory: 'D'\n",
      "❌ Failed on TCGA-EI-6507_MSIH_x20992_y21504_patch01772.png: [Errno 2] No such file or directory: 'D'\n",
      "❌ Failed on TCGA-EI-6507_MSIH_x20992_y22016_patch01773.png: [Errno 2] No such file or directory: 'D'\n",
      "❌ Failed on TCGA-EI-6507_MSIH_x20992_y22528_patch01774.png: [Errno 2] No such file or directory: 'D'\n",
      "❌ Failed on TCGA-EI-6507_MSIH_x20992_y23040_patch01775.png: [Errno 2] No such file or directory: 'D'\n",
      "❌ Failed on TCGA-EI-6507_MSIH_x20992_y23552_patch01776.png: [Errno 2] No such file or directory: 'D'\n",
      "❌ Failed on TCGA-EI-6507_MSIH_x20992_y24064_patch01777.png: [Errno 2] No such file or directory: 'D'\n",
      "❌ Failed on TCGA-EI-6507_MSIH_x20992_y24576_patch01778.png: [Errno 2] No such file or directory: 'D'\n",
      "❌ Failed on TCGA-EI-6507_MSIH_x20992_y25088_patch01779.png: [Errno 2] No such file or directory: 'D'\n",
      "❌ Failed on TCGA-EI-6507_MSIH_x20992_y25600_patch01780.png: [Errno 2] No such file or directory: 'D'\n",
      "❌ Failed on TCGA-EI-6507_MSIH_x20992_y2560_patch01737.png: [Errno 2] No such file or directory: 'D'\n",
      "❌ Failed on TCGA-EI-6507_MSIH_x20992_y26112_patch01781.png: [Errno 2] No such file or directory: 'D'\n",
      "❌ Failed on TCGA-EI-6507_MSIH_x20992_y26624_patch01782.png: [Errno 2] No such file or directory: 'D'\n",
      "❌ Failed on TCGA-EI-6507_MSIH_x20992_y27136_patch01783.png: [Errno 2] No such file or directory: 'D'\n",
      "❌ Failed on TCGA-EI-6507_MSIH_x20992_y27648_patch01784.png: [Errno 2] No such file or directory: 'D'\n",
      "❌ Failed on TCGA-EI-6507_MSIH_x20992_y28160_patch01785.png: [Errno 2] No such file or directory: 'D'\n",
      "❌ Failed on TCGA-EI-6507_MSIH_x20992_y28672_patch01786.png: [Errno 2] No such file or directory: 'D'\n",
      "❌ Failed on TCGA-EI-6507_MSIH_x20992_y29184_patch01787.png: [Errno 2] No such file or directory: 'D'\n",
      "❌ Failed on TCGA-EI-6507_MSIH_x20992_y29696_patch01788.png: [Errno 2] No such file or directory: 'D'\n",
      "❌ Failed on TCGA-EI-6507_MSIH_x20992_y30208_patch01789.png: [Errno 2] No such file or directory: 'D'\n",
      "❌ Failed on TCGA-EI-6507_MSIH_x20992_y30720_patch01790.png: [Errno 2] No such file or directory: 'D'\n",
      "❌ Failed on TCGA-EI-6507_MSIH_x20992_y3072_patch01738.png: [Errno 2] No such file or directory: 'D'\n",
      "❌ Failed on TCGA-EI-6507_MSIH_x20992_y31232_patch01791.png: [Errno 2] No such file or directory: 'D'\n",
      "❌ Failed on TCGA-EI-6507_MSIH_x20992_y31744_patch01792.png: [Errno 2] No such file or directory: 'D'\n",
      "❌ Failed on TCGA-EI-6507_MSIH_x20992_y32256_patch01793.png: [Errno 2] No such file or directory: 'D'\n",
      "❌ Failed on TCGA-EI-6507_MSIH_x20992_y32768_patch01794.png: [Errno 2] No such file or directory: 'D'\n",
      "❌ Failed on TCGA-EI-6507_MSIH_x20992_y33280_patch01795.png: [Errno 2] No such file or directory: 'D'\n",
      "❌ Failed on TCGA-EI-6507_MSIH_x20992_y33792_patch01796.png: [Errno 2] No such file or directory: 'D'\n",
      "❌ Failed on TCGA-EI-6507_MSIH_x20992_y34304_patch01797.png: [Errno 2] No such file or directory: 'D'\n",
      "❌ Failed on TCGA-EI-6507_MSIH_x20992_y3584_patch01739.png: [Errno 2] No such file or directory: 'D'\n",
      "❌ Failed on TCGA-EI-6507_MSIH_x20992_y4096_patch01740.png: [Errno 2] No such file or directory: 'D'\n",
      "❌ Failed on TCGA-EI-6507_MSIH_x20992_y4608_patch01741.png: [Errno 2] No such file or directory: 'D'\n",
      "❌ Failed on TCGA-EI-6507_MSIH_x20992_y5120_patch01742.png: [Errno 2] No such file or directory: 'D'\n",
      "❌ Failed on TCGA-EI-6507_MSIH_x20992_y512_patch01733.png: [Errno 2] No such file or directory: 'D'\n",
      "❌ Failed on TCGA-EI-6507_MSIH_x20992_y5632_patch01743.png: [Errno 2] No such file or directory: 'D'\n",
      "❌ Failed on TCGA-EI-6507_MSIH_x20992_y6144_patch01744.png: [Errno 2] No such file or directory: 'D'\n",
      "❌ Failed on TCGA-EI-6507_MSIH_x20992_y6656_patch01745.png: [Errno 2] No such file or directory: 'D'\n",
      "❌ Failed on TCGA-EI-6507_MSIH_x20992_y7168_patch01746.png: [Errno 2] No such file or directory: 'D'\n",
      "❌ Failed on TCGA-EI-6507_MSIH_x20992_y7680_patch01747.png: [Errno 2] No such file or directory: 'D'\n",
      "❌ Failed on TCGA-EI-6507_MSIH_x20992_y8192_patch01748.png: [Errno 2] No such file or directory: 'D'\n",
      "❌ Failed on TCGA-EI-6507_MSIH_x20992_y8704_patch01749.png: [Errno 2] No such file or directory: 'D'\n",
      "❌ Failed on TCGA-EI-6507_MSIH_x20992_y9216_patch01750.png: [Errno 2] No such file or directory: 'D'\n",
      "❌ Failed on TCGA-EI-6507_MSIH_x20992_y9728_patch01751.png: [Errno 2] No such file or directory: 'D'\n",
      "❌ Failed on TCGA-EI-6507_MSIH_x21504_y0_patch01798.png: [Errno 2] No such file or directory: 'D'\n",
      "❌ Failed on TCGA-EI-6507_MSIH_x21504_y10240_patch01818.png: [Errno 2] No such file or directory: 'D'\n",
      "❌ Failed on TCGA-EI-6507_MSIH_x21504_y1024_patch01800.png: [Errno 2] No such file or directory: 'D'\n",
      "❌ Failed on TCGA-EI-6507_MSIH_x21504_y10752_patch01819.png: [Errno 2] No such file or directory: 'D'\n",
      "❌ Failed on TCGA-EI-6507_MSIH_x21504_y11264_patch01820.png: [Errno 2] No such file or directory: 'D'\n",
      "❌ Failed on TCGA-EI-6507_MSIH_x21504_y11776_patch01821.png: [Errno 2] No such file or directory: 'D'\n",
      "❌ Failed on TCGA-EI-6507_MSIH_x21504_y12800_patch01822.png: [Errno 2] No such file or directory: 'D'\n",
      "❌ Failed on TCGA-EI-6507_MSIH_x21504_y13312_patch01823.png: [Errno 2] No such file or directory: 'D'\n",
      "❌ Failed on TCGA-EI-6507_MSIH_x21504_y13824_patch01824.png: [Errno 2] No such file or directory: 'D'\n",
      "❌ Failed on TCGA-EI-6507_MSIH_x21504_y14336_patch01825.png: [Errno 2] No such file or directory: 'D'\n",
      "❌ Failed on TCGA-EI-6507_MSIH_x21504_y14848_patch01826.png: [Errno 2] No such file or directory: 'D'\n",
      "❌ Failed on TCGA-EI-6507_MSIH_x21504_y15360_patch01827.png: [Errno 2] No such file or directory: 'D'\n",
      "❌ Failed on TCGA-EI-6507_MSIH_x21504_y1536_patch01801.png: [Errno 2] No such file or directory: 'D'\n",
      "❌ Failed on TCGA-EI-6507_MSIH_x21504_y15872_patch01828.png: [Errno 2] No such file or directory: 'D'\n",
      "❌ Failed on TCGA-EI-6507_MSIH_x21504_y16384_patch01829.png: [Errno 2] No such file or directory: 'D'\n",
      "❌ Failed on TCGA-EI-6507_MSIH_x21504_y16896_patch01830.png: [Errno 2] No such file or directory: 'D'\n",
      "❌ Failed on TCGA-EI-6507_MSIH_x21504_y17408_patch01831.png: [Errno 2] No such file or directory: 'D'\n",
      "❌ Failed on TCGA-EI-6507_MSIH_x21504_y17920_patch01832.png: [Errno 2] No such file or directory: 'D'\n",
      "❌ Failed on TCGA-EI-6507_MSIH_x21504_y18432_patch01833.png: [Errno 2] No such file or directory: 'D'\n",
      "❌ Failed on TCGA-EI-6507_MSIH_x21504_y18944_patch01834.png: [Errno 2] No such file or directory: 'D'\n",
      "❌ Failed on TCGA-EI-6507_MSIH_x21504_y19456_patch01835.png: [Errno 2] No such file or directory: 'D'\n",
      "❌ Failed on TCGA-EI-6507_MSIH_x21504_y19968_patch01836.png: [Errno 2] No such file or directory: 'D'\n",
      "❌ Failed on TCGA-EI-6507_MSIH_x21504_y20480_patch01837.png: [Errno 2] No such file or directory: 'D'\n",
      "❌ Failed on TCGA-EI-6507_MSIH_x21504_y2048_patch01802.png: [Errno 2] No such file or directory: 'D'\n",
      "❌ Failed on TCGA-EI-6507_MSIH_x21504_y20992_patch01838.png: [Errno 2] No such file or directory: 'D'\n",
      "❌ Failed on TCGA-EI-6507_MSIH_x21504_y21504_patch01839.png: [Errno 2] No such file or directory: 'D'\n",
      "❌ Failed on TCGA-EI-6507_MSIH_x21504_y22016_patch01840.png: [Errno 2] No such file or directory: 'D'\n",
      "❌ Failed on TCGA-EI-6507_MSIH_x21504_y22528_patch01841.png: [Errno 2] No such file or directory: 'D'\n",
      "❌ Failed on TCGA-EI-6507_MSIH_x21504_y23040_patch01842.png: [Errno 2] No such file or directory: 'D'\n",
      "❌ Failed on TCGA-EI-6507_MSIH_x21504_y23552_patch01843.png: [Errno 2] No such file or directory: 'D'\n",
      "❌ Failed on TCGA-EI-6507_MSIH_x21504_y24064_patch01844.png: [Errno 2] No such file or directory: 'D'\n",
      "❌ Failed on TCGA-EI-6507_MSIH_x21504_y24576_patch01845.png: [Errno 2] No such file or directory: 'D'\n",
      "❌ Failed on TCGA-EI-6507_MSIH_x21504_y25088_patch01846.png: [Errno 2] No such file or directory: 'D'\n",
      "❌ Failed on TCGA-EI-6507_MSIH_x21504_y25600_patch01847.png: [Errno 2] No such file or directory: 'D'\n",
      "❌ Failed on TCGA-EI-6507_MSIH_x21504_y2560_patch01803.png: [Errno 2] No such file or directory: 'D'\n",
      "❌ Failed on TCGA-EI-6507_MSIH_x21504_y26112_patch01848.png: [Errno 2] No such file or directory: 'D'\n",
      "❌ Failed on TCGA-EI-6507_MSIH_x21504_y26624_patch01849.png: [Errno 2] No such file or directory: 'D'\n",
      "❌ Failed on TCGA-EI-6507_MSIH_x21504_y27136_patch01850.png: [Errno 2] No such file or directory: 'D'\n",
      "❌ Failed on TCGA-EI-6507_MSIH_x21504_y27648_patch01851.png: [Errno 2] No such file or directory: 'D'\n",
      "❌ Failed on TCGA-EI-6507_MSIH_x21504_y28160_patch01852.png: [Errno 2] No such file or directory: 'D'\n",
      "❌ Failed on TCGA-EI-6507_MSIH_x21504_y28672_patch01853.png: [Errno 2] No such file or directory: 'D'\n",
      "❌ Failed on TCGA-EI-6507_MSIH_x21504_y29184_patch01854.png: [Errno 2] No such file or directory: 'D'\n",
      "❌ Failed on TCGA-EI-6507_MSIH_x21504_y29696_patch01855.png: [Errno 2] No such file or directory: 'D'\n",
      "❌ Failed on TCGA-EI-6507_MSIH_x21504_y30208_patch01856.png: [Errno 2] No such file or directory: 'D'\n",
      "❌ Failed on TCGA-EI-6507_MSIH_x21504_y30720_patch01857.png: [Errno 2] No such file or directory: 'D'\n",
      "❌ Failed on TCGA-EI-6507_MSIH_x21504_y3072_patch01804.png: [Errno 2] No such file or directory: 'D'\n",
      "❌ Failed on TCGA-EI-6507_MSIH_x21504_y31232_patch01858.png: [Errno 2] No such file or directory: 'D'\n",
      "❌ Failed on TCGA-EI-6507_MSIH_x21504_y31744_patch01859.png: [Errno 2] No such file or directory: 'D'\n",
      "❌ Failed on TCGA-EI-6507_MSIH_x21504_y32256_patch01860.png: [Errno 2] No such file or directory: 'D'\n",
      "❌ Failed on TCGA-EI-6507_MSIH_x21504_y32768_patch01861.png: [Errno 2] No such file or directory: 'D'\n",
      "❌ Failed on TCGA-EI-6507_MSIH_x21504_y33280_patch01862.png: [Errno 2] No such file or directory: 'D'\n",
      "❌ Failed on TCGA-EI-6507_MSIH_x21504_y33792_patch01863.png: [Errno 2] No such file or directory: 'D'\n",
      "❌ Failed on TCGA-EI-6507_MSIH_x21504_y34304_patch01864.png: [Errno 2] No such file or directory: 'D'\n",
      "❌ Failed on TCGA-EI-6507_MSIH_x21504_y3584_patch01805.png: [Errno 2] No such file or directory: 'D'\n",
      "❌ Failed on TCGA-EI-6507_MSIH_x21504_y4096_patch01806.png: [Errno 2] No such file or directory: 'D'\n",
      "❌ Failed on TCGA-EI-6507_MSIH_x21504_y4608_patch01807.png: [Errno 2] No such file or directory: 'D'\n",
      "❌ Failed on TCGA-EI-6507_MSIH_x21504_y5120_patch01808.png: [Errno 2] No such file or directory: 'D'\n",
      "❌ Failed on TCGA-EI-6507_MSIH_x21504_y512_patch01799.png: [Errno 2] No such file or directory: 'D'\n",
      "❌ Failed on TCGA-EI-6507_MSIH_x21504_y5632_patch01809.png: [Errno 2] No such file or directory: 'D'\n",
      "❌ Failed on TCGA-EI-6507_MSIH_x21504_y6144_patch01810.png: [Errno 2] No such file or directory: 'D'\n",
      "❌ Failed on TCGA-EI-6507_MSIH_x21504_y6656_patch01811.png: [Errno 2] No such file or directory: 'D'\n",
      "❌ Failed on TCGA-EI-6507_MSIH_x21504_y7168_patch01812.png: [Errno 2] No such file or directory: 'D'\n",
      "❌ Failed on TCGA-EI-6507_MSIH_x21504_y7680_patch01813.png: [Errno 2] No such file or directory: 'D'\n",
      "❌ Failed on TCGA-EI-6507_MSIH_x21504_y8192_patch01814.png: [Errno 2] No such file or directory: 'D'\n",
      "❌ Failed on TCGA-EI-6507_MSIH_x21504_y8704_patch01815.png: [Errno 2] No such file or directory: 'D'\n",
      "❌ Failed on TCGA-EI-6507_MSIH_x21504_y9216_patch01816.png: [Errno 2] No such file or directory: 'D'\n",
      "❌ Failed on TCGA-EI-6507_MSIH_x21504_y9728_patch01817.png: [Errno 2] No such file or directory: 'D'\n",
      "❌ Failed on TCGA-EI-6507_MSIH_x22016_y0_patch01865.png: [Errno 2] No such file or directory: 'D'\n",
      "❌ Failed on TCGA-EI-6507_MSIH_x22016_y10240_patch01885.png: [Errno 2] No such file or directory: 'D'\n",
      "❌ Failed on TCGA-EI-6507_MSIH_x22016_y1024_patch01867.png: [Errno 2] No such file or directory: 'D'\n",
      "❌ Failed on TCGA-EI-6507_MSIH_x22016_y10752_patch01886.png: [Errno 2] No such file or directory: 'D'\n",
      "❌ Failed on TCGA-EI-6507_MSIH_x22016_y11264_patch01887.png: [Errno 2] No such file or directory: 'D'\n",
      "❌ Failed on TCGA-EI-6507_MSIH_x22016_y11776_patch01888.png: [Errno 2] No such file or directory: 'D'\n",
      "❌ Failed on TCGA-EI-6507_MSIH_x22016_y13312_patch01889.png: [Errno 2] No such file or directory: 'D'\n",
      "❌ Failed on TCGA-EI-6507_MSIH_x22016_y13824_patch01890.png: [Errno 2] No such file or directory: 'D'\n",
      "❌ Failed on TCGA-EI-6507_MSIH_x22016_y14336_patch01891.png: [Errno 2] No such file or directory: 'D'\n",
      "❌ Failed on TCGA-EI-6507_MSIH_x22016_y14848_patch01892.png: [Errno 2] No such file or directory: 'D'\n",
      "❌ Failed on TCGA-EI-6507_MSIH_x22016_y15360_patch01893.png: [Errno 2] No such file or directory: 'D'\n",
      "❌ Failed on TCGA-EI-6507_MSIH_x22016_y1536_patch01868.png: [Errno 2] No such file or directory: 'D'\n",
      "❌ Failed on TCGA-EI-6507_MSIH_x22016_y15872_patch01894.png: [Errno 2] No such file or directory: 'D'\n",
      "❌ Failed on TCGA-EI-6507_MSIH_x22016_y16384_patch01895.png: [Errno 2] No such file or directory: 'D'\n",
      "❌ Failed on TCGA-EI-6507_MSIH_x22016_y16896_patch01896.png: [Errno 2] No such file or directory: 'D'\n",
      "❌ Failed on TCGA-EI-6507_MSIH_x22016_y17408_patch01897.png: [Errno 2] No such file or directory: 'D'\n",
      "❌ Failed on TCGA-EI-6507_MSIH_x22016_y17920_patch01898.png: [Errno 2] No such file or directory: 'D'\n",
      "❌ Failed on TCGA-EI-6507_MSIH_x22016_y18432_patch01899.png: [Errno 2] No such file or directory: 'D'\n",
      "❌ Failed on TCGA-EI-6507_MSIH_x22016_y18944_patch01900.png: [Errno 2] No such file or directory: 'D'\n",
      "❌ Failed on TCGA-EI-6507_MSIH_x22016_y19456_patch01901.png: [Errno 2] No such file or directory: 'D'\n",
      "❌ Failed on TCGA-EI-6507_MSIH_x22016_y19968_patch01902.png: [Errno 2] No such file or directory: 'D'\n",
      "❌ Failed on TCGA-EI-6507_MSIH_x22016_y20480_patch01903.png: [Errno 2] No such file or directory: 'D'\n",
      "❌ Failed on TCGA-EI-6507_MSIH_x22016_y2048_patch01869.png: [Errno 2] No such file or directory: 'D'\n",
      "❌ Failed on TCGA-EI-6507_MSIH_x22016_y20992_patch01904.png: [Errno 2] No such file or directory: 'D'\n",
      "❌ Failed on TCGA-EI-6507_MSIH_x22016_y21504_patch01905.png: [Errno 2] No such file or directory: 'D'\n",
      "❌ Failed on TCGA-EI-6507_MSIH_x22016_y22016_patch01906.png: [Errno 2] No such file or directory: 'D'\n",
      "❌ Failed on TCGA-EI-6507_MSIH_x22016_y22528_patch01907.png: [Errno 2] No such file or directory: 'D'\n",
      "❌ Failed on TCGA-EI-6507_MSIH_x22016_y23040_patch01908.png: [Errno 2] No such file or directory: 'D'\n",
      "❌ Failed on TCGA-EI-6507_MSIH_x22016_y23552_patch01909.png: [Errno 2] No such file or directory: 'D'\n",
      "❌ Failed on TCGA-EI-6507_MSIH_x22016_y24064_patch01910.png: [Errno 2] No such file or directory: 'D'\n",
      "❌ Failed on TCGA-EI-6507_MSIH_x22016_y24576_patch01911.png: [Errno 2] No such file or directory: 'D'\n",
      "❌ Failed on TCGA-EI-6507_MSIH_x22016_y25088_patch01912.png: [Errno 2] No such file or directory: 'D'\n",
      "❌ Failed on TCGA-EI-6507_MSIH_x22016_y25600_patch01913.png: [Errno 2] No such file or directory: 'D'\n",
      "❌ Failed on TCGA-EI-6507_MSIH_x22016_y2560_patch01870.png: [Errno 2] No such file or directory: 'D'\n",
      "❌ Failed on TCGA-EI-6507_MSIH_x22016_y26112_patch01914.png: [Errno 2] No such file or directory: 'D'\n",
      "❌ Failed on TCGA-EI-6507_MSIH_x22016_y26624_patch01915.png: [Errno 2] No such file or directory: 'D'\n",
      "❌ Failed on TCGA-EI-6507_MSIH_x22016_y27136_patch01916.png: [Errno 2] No such file or directory: 'D'\n",
      "❌ Failed on TCGA-EI-6507_MSIH_x22016_y27648_patch01917.png: [Errno 2] No such file or directory: 'D'\n",
      "❌ Failed on TCGA-EI-6507_MSIH_x22016_y28160_patch01918.png: [Errno 2] No such file or directory: 'D'\n",
      "❌ Failed on TCGA-EI-6507_MSIH_x22016_y28672_patch01919.png: [Errno 2] No such file or directory: 'D'\n",
      "❌ Failed on TCGA-EI-6507_MSIH_x22016_y29184_patch01920.png: [Errno 2] No such file or directory: 'D'\n",
      "❌ Failed on TCGA-EI-6507_MSIH_x22016_y29696_patch01921.png: [Errno 2] No such file or directory: 'D'\n",
      "❌ Failed on TCGA-EI-6507_MSIH_x22016_y30208_patch01922.png: [Errno 2] No such file or directory: 'D'\n",
      "❌ Failed on TCGA-EI-6507_MSIH_x22016_y30720_patch01923.png: [Errno 2] No such file or directory: 'D'\n",
      "❌ Failed on TCGA-EI-6507_MSIH_x22016_y3072_patch01871.png: [Errno 2] No such file or directory: 'D'\n",
      "❌ Failed on TCGA-EI-6507_MSIH_x22016_y31232_patch01924.png: [Errno 2] No such file or directory: 'D'\n",
      "❌ Failed on TCGA-EI-6507_MSIH_x22016_y31744_patch01925.png: [Errno 2] No such file or directory: 'D'\n",
      "❌ Failed on TCGA-EI-6507_MSIH_x22016_y32256_patch01926.png: [Errno 2] No such file or directory: 'D'\n",
      "❌ Failed on TCGA-EI-6507_MSIH_x22016_y32768_patch01927.png: [Errno 2] No such file or directory: 'D'\n",
      "❌ Failed on TCGA-EI-6507_MSIH_x22016_y33280_patch01928.png: [Errno 2] No such file or directory: 'D'\n",
      "❌ Failed on TCGA-EI-6507_MSIH_x22016_y33792_patch01929.png: [Errno 2] No such file or directory: 'D'\n",
      "❌ Failed on TCGA-EI-6507_MSIH_x22016_y34304_patch01930.png: [Errno 2] No such file or directory: 'D'\n",
      "❌ Failed on TCGA-EI-6507_MSIH_x22016_y34816_patch01931.png: [Errno 2] No such file or directory: 'D'\n",
      "❌ Failed on TCGA-EI-6507_MSIH_x22016_y3584_patch01872.png: [Errno 2] No such file or directory: 'D'\n",
      "❌ Failed on TCGA-EI-6507_MSIH_x22016_y4096_patch01873.png: [Errno 2] No such file or directory: 'D'\n",
      "❌ Failed on TCGA-EI-6507_MSIH_x22016_y4608_patch01874.png: [Errno 2] No such file or directory: 'D'\n",
      "❌ Failed on TCGA-EI-6507_MSIH_x22016_y5120_patch01875.png: [Errno 2] No such file or directory: 'D'\n",
      "❌ Failed on TCGA-EI-6507_MSIH_x22016_y512_patch01866.png: [Errno 2] No such file or directory: 'D'\n",
      "❌ Failed on TCGA-EI-6507_MSIH_x22016_y5632_patch01876.png: [Errno 2] No such file or directory: 'D'\n",
      "❌ Failed on TCGA-EI-6507_MSIH_x22016_y6144_patch01877.png: [Errno 2] No such file or directory: 'D'\n",
      "❌ Failed on TCGA-EI-6507_MSIH_x22016_y6656_patch01878.png: [Errno 2] No such file or directory: 'D'\n",
      "❌ Failed on TCGA-EI-6507_MSIH_x22016_y7168_patch01879.png: [Errno 2] No such file or directory: 'D'\n",
      "❌ Failed on TCGA-EI-6507_MSIH_x22016_y7680_patch01880.png: [Errno 2] No such file or directory: 'D'\n",
      "❌ Failed on TCGA-EI-6507_MSIH_x22016_y8192_patch01881.png: [Errno 2] No such file or directory: 'D'\n",
      "❌ Failed on TCGA-EI-6507_MSIH_x22016_y8704_patch01882.png: [Errno 2] No such file or directory: 'D'\n",
      "❌ Failed on TCGA-EI-6507_MSIH_x22016_y9216_patch01883.png: [Errno 2] No such file or directory: 'D'\n",
      "❌ Failed on TCGA-EI-6507_MSIH_x22016_y9728_patch01884.png: [Errno 2] No such file or directory: 'D'\n",
      "❌ Failed on TCGA-EI-6507_MSIH_x22528_y0_patch01932.png: [Errno 2] No such file or directory: 'D'\n",
      "❌ Failed on TCGA-EI-6507_MSIH_x22528_y10240_patch01952.png: [Errno 2] No such file or directory: 'D'\n",
      "❌ Failed on TCGA-EI-6507_MSIH_x22528_y1024_patch01934.png: [Errno 2] No such file or directory: 'D'\n",
      "❌ Failed on TCGA-EI-6507_MSIH_x22528_y10752_patch01953.png: [Errno 2] No such file or directory: 'D'\n",
      "❌ Failed on TCGA-EI-6507_MSIH_x22528_y11264_patch01954.png: [Errno 2] No such file or directory: 'D'\n",
      "❌ Failed on TCGA-EI-6507_MSIH_x22528_y11776_patch01955.png: [Errno 2] No such file or directory: 'D'\n",
      "❌ Failed on TCGA-EI-6507_MSIH_x22528_y13824_patch01956.png: [Errno 2] No such file or directory: 'D'\n",
      "❌ Failed on TCGA-EI-6507_MSIH_x22528_y14336_patch01957.png: [Errno 2] No such file or directory: 'D'\n",
      "❌ Failed on TCGA-EI-6507_MSIH_x22528_y14848_patch01958.png: [Errno 2] No such file or directory: 'D'\n",
      "❌ Failed on TCGA-EI-6507_MSIH_x22528_y15360_patch01959.png: [Errno 2] No such file or directory: 'D'\n",
      "❌ Failed on TCGA-EI-6507_MSIH_x22528_y1536_patch01935.png: [Errno 2] No such file or directory: 'D'\n",
      "❌ Failed on TCGA-EI-6507_MSIH_x22528_y15872_patch01960.png: [Errno 2] No such file or directory: 'D'\n",
      "❌ Failed on TCGA-EI-6507_MSIH_x22528_y16384_patch01961.png: [Errno 2] No such file or directory: 'D'\n",
      "❌ Failed on TCGA-EI-6507_MSIH_x22528_y16896_patch01962.png: [Errno 2] No such file or directory: 'D'\n",
      "❌ Failed on TCGA-EI-6507_MSIH_x22528_y17408_patch01963.png: [Errno 2] No such file or directory: 'D'\n",
      "❌ Failed on TCGA-EI-6507_MSIH_x22528_y17920_patch01964.png: [Errno 2] No such file or directory: 'D'\n",
      "❌ Failed on TCGA-EI-6507_MSIH_x22528_y18432_patch01965.png: [Errno 2] No such file or directory: 'D'\n",
      "❌ Failed on TCGA-EI-6507_MSIH_x22528_y18944_patch01966.png: [Errno 2] No such file or directory: 'D'\n",
      "❌ Failed on TCGA-EI-6507_MSIH_x22528_y19456_patch01967.png: [Errno 2] No such file or directory: 'D'\n",
      "❌ Failed on TCGA-EI-6507_MSIH_x22528_y19968_patch01968.png: [Errno 2] No such file or directory: 'D'\n",
      "❌ Failed on TCGA-EI-6507_MSIH_x22528_y20480_patch01969.png: [Errno 2] No such file or directory: 'D'\n",
      "❌ Failed on TCGA-EI-6507_MSIH_x22528_y2048_patch01936.png: [Errno 2] No such file or directory: 'D'\n",
      "❌ Failed on TCGA-EI-6507_MSIH_x22528_y20992_patch01970.png: [Errno 2] No such file or directory: 'D'\n",
      "❌ Failed on TCGA-EI-6507_MSIH_x22528_y21504_patch01971.png: [Errno 2] No such file or directory: 'D'\n",
      "❌ Failed on TCGA-EI-6507_MSIH_x22528_y22016_patch01972.png: [Errno 2] No such file or directory: 'D'\n",
      "❌ Failed on TCGA-EI-6507_MSIH_x22528_y22528_patch01973.png: [Errno 2] No such file or directory: 'D'\n",
      "❌ Failed on TCGA-EI-6507_MSIH_x22528_y23040_patch01974.png: [Errno 2] No such file or directory: 'D'\n",
      "❌ Failed on TCGA-EI-6507_MSIH_x22528_y23552_patch01975.png: [Errno 2] No such file or directory: 'D'\n",
      "❌ Failed on TCGA-EI-6507_MSIH_x22528_y24064_patch01976.png: [Errno 2] No such file or directory: 'D'\n",
      "❌ Failed on TCGA-EI-6507_MSIH_x22528_y24576_patch01977.png: [Errno 2] No such file or directory: 'D'\n",
      "❌ Failed on TCGA-EI-6507_MSIH_x22528_y25088_patch01978.png: [Errno 2] No such file or directory: 'D'\n",
      "❌ Failed on TCGA-EI-6507_MSIH_x22528_y25600_patch01979.png: [Errno 2] No such file or directory: 'D'\n",
      "❌ Failed on TCGA-EI-6507_MSIH_x22528_y2560_patch01937.png: [Errno 2] No such file or directory: 'D'\n",
      "❌ Failed on TCGA-EI-6507_MSIH_x22528_y26112_patch01980.png: [Errno 2] No such file or directory: 'D'\n",
      "❌ Failed on TCGA-EI-6507_MSIH_x22528_y26624_patch01981.png: [Errno 2] No such file or directory: 'D'\n",
      "❌ Failed on TCGA-EI-6507_MSIH_x22528_y27136_patch01982.png: [Errno 2] No such file or directory: 'D'\n",
      "❌ Failed on TCGA-EI-6507_MSIH_x22528_y27648_patch01983.png: [Errno 2] No such file or directory: 'D'\n",
      "❌ Failed on TCGA-EI-6507_MSIH_x22528_y28160_patch01984.png: [Errno 2] No such file or directory: 'D'\n",
      "❌ Failed on TCGA-EI-6507_MSIH_x22528_y28672_patch01985.png: [Errno 2] No such file or directory: 'D'\n",
      "❌ Failed on TCGA-EI-6507_MSIH_x22528_y29184_patch01986.png: [Errno 2] No such file or directory: 'D'\n",
      "❌ Failed on TCGA-EI-6507_MSIH_x22528_y29696_patch01987.png: [Errno 2] No such file or directory: 'D'\n",
      "❌ Failed on TCGA-EI-6507_MSIH_x22528_y30208_patch01988.png: [Errno 2] No such file or directory: 'D'\n",
      "❌ Failed on TCGA-EI-6507_MSIH_x22528_y30720_patch01989.png: [Errno 2] No such file or directory: 'D'\n",
      "❌ Failed on TCGA-EI-6507_MSIH_x22528_y3072_patch01938.png: [Errno 2] No such file or directory: 'D'\n",
      "❌ Failed on TCGA-EI-6507_MSIH_x22528_y31232_patch01990.png: [Errno 2] No such file or directory: 'D'\n",
      "❌ Failed on TCGA-EI-6507_MSIH_x22528_y31744_patch01991.png: [Errno 2] No such file or directory: 'D'\n",
      "❌ Failed on TCGA-EI-6507_MSIH_x22528_y32256_patch01992.png: [Errno 2] No such file or directory: 'D'\n",
      "❌ Failed on TCGA-EI-6507_MSIH_x22528_y32768_patch01993.png: [Errno 2] No such file or directory: 'D'\n",
      "❌ Failed on TCGA-EI-6507_MSIH_x22528_y33280_patch01994.png: [Errno 2] No such file or directory: 'D'\n",
      "❌ Failed on TCGA-EI-6507_MSIH_x22528_y33792_patch01995.png: [Errno 2] No such file or directory: 'D'\n",
      "❌ Failed on TCGA-EI-6507_MSIH_x22528_y34304_patch01996.png: [Errno 2] No such file or directory: 'D'\n",
      "❌ Failed on TCGA-EI-6507_MSIH_x22528_y34816_patch01997.png: [Errno 2] No such file or directory: 'D'\n",
      "❌ Failed on TCGA-EI-6507_MSIH_x22528_y3584_patch01939.png: [Errno 2] No such file or directory: 'D'\n",
      "❌ Failed on TCGA-EI-6507_MSIH_x22528_y4096_patch01940.png: [Errno 2] No such file or directory: 'D'\n",
      "❌ Failed on TCGA-EI-6507_MSIH_x22528_y4608_patch01941.png: [Errno 2] No such file or directory: 'D'\n",
      "❌ Failed on TCGA-EI-6507_MSIH_x22528_y5120_patch01942.png: [Errno 2] No such file or directory: 'D'\n",
      "❌ Failed on TCGA-EI-6507_MSIH_x22528_y512_patch01933.png: [Errno 2] No such file or directory: 'D'\n",
      "❌ Failed on TCGA-EI-6507_MSIH_x22528_y5632_patch01943.png: [Errno 2] No such file or directory: 'D'\n",
      "❌ Failed on TCGA-EI-6507_MSIH_x22528_y6144_patch01944.png: [Errno 2] No such file or directory: 'D'\n",
      "❌ Failed on TCGA-EI-6507_MSIH_x22528_y6656_patch01945.png: [Errno 2] No such file or directory: 'D'\n",
      "❌ Failed on TCGA-EI-6507_MSIH_x22528_y7168_patch01946.png: [Errno 2] No such file or directory: 'D'\n",
      "❌ Failed on TCGA-EI-6507_MSIH_x22528_y7680_patch01947.png: [Errno 2] No such file or directory: 'D'\n",
      "❌ Failed on TCGA-EI-6507_MSIH_x22528_y8192_patch01948.png: [Errno 2] No such file or directory: 'D'\n",
      "❌ Failed on TCGA-EI-6507_MSIH_x22528_y8704_patch01949.png: [Errno 2] No such file or directory: 'D'\n",
      "❌ Failed on TCGA-EI-6507_MSIH_x22528_y9216_patch01950.png: [Errno 2] No such file or directory: 'D'\n",
      "❌ Failed on TCGA-EI-6507_MSIH_x22528_y9728_patch01951.png: [Errno 2] No such file or directory: 'D'\n",
      "❌ Failed on TCGA-EI-6507_MSIH_x23040_y0_patch01998.png: [Errno 2] No such file or directory: 'D'\n",
      "❌ Failed on TCGA-EI-6507_MSIH_x23040_y10240_patch02018.png: [Errno 2] No such file or directory: 'D'\n",
      "❌ Failed on TCGA-EI-6507_MSIH_x23040_y1024_patch02000.png: [Errno 2] No such file or directory: 'D'\n",
      "❌ Failed on TCGA-EI-6507_MSIH_x23040_y10752_patch02019.png: [Errno 2] No such file or directory: 'D'\n",
      "❌ Failed on TCGA-EI-6507_MSIH_x23040_y11264_patch02020.png: [Errno 2] No such file or directory: 'D'\n",
      "❌ Failed on TCGA-EI-6507_MSIH_x23040_y11776_patch02021.png: [Errno 2] No such file or directory: 'D'\n",
      "❌ Failed on TCGA-EI-6507_MSIH_x23040_y13312_patch02022.png: [Errno 2] No such file or directory: 'D'\n",
      "❌ Failed on TCGA-EI-6507_MSIH_x23040_y13824_patch02023.png: [Errno 2] No such file or directory: 'D'\n",
      "❌ Failed on TCGA-EI-6507_MSIH_x23040_y14336_patch02024.png: [Errno 2] No such file or directory: 'D'\n",
      "❌ Failed on TCGA-EI-6507_MSIH_x23040_y14848_patch02025.png: [Errno 2] No such file or directory: 'D'\n",
      "❌ Failed on TCGA-EI-6507_MSIH_x23040_y15360_patch02026.png: [Errno 2] No such file or directory: 'D'\n",
      "❌ Failed on TCGA-EI-6507_MSIH_x23040_y1536_patch02001.png: [Errno 2] No such file or directory: 'D'\n",
      "❌ Failed on TCGA-EI-6507_MSIH_x23040_y15872_patch02027.png: [Errno 2] No such file or directory: 'D'\n",
      "❌ Failed on TCGA-EI-6507_MSIH_x23040_y16384_patch02028.png: [Errno 2] No such file or directory: 'D'\n",
      "❌ Failed on TCGA-EI-6507_MSIH_x23040_y16896_patch02029.png: [Errno 2] No such file or directory: 'D'\n",
      "❌ Failed on TCGA-EI-6507_MSIH_x23040_y17408_patch02030.png: [Errno 2] No such file or directory: 'D'\n",
      "❌ Failed on TCGA-EI-6507_MSIH_x23040_y17920_patch02031.png: [Errno 2] No such file or directory: 'D'\n",
      "❌ Failed on TCGA-EI-6507_MSIH_x23040_y18432_patch02032.png: [Errno 2] No such file or directory: 'D'\n",
      "❌ Failed on TCGA-EI-6507_MSIH_x23040_y18944_patch02033.png: [Errno 2] No such file or directory: 'D'\n",
      "❌ Failed on TCGA-EI-6507_MSIH_x23040_y19456_patch02034.png: [Errno 2] No such file or directory: 'D'\n",
      "❌ Failed on TCGA-EI-6507_MSIH_x23040_y19968_patch02035.png: [Errno 2] No such file or directory: 'D'\n",
      "❌ Failed on TCGA-EI-6507_MSIH_x23040_y20480_patch02036.png: [Errno 2] No such file or directory: 'D'\n",
      "❌ Failed on TCGA-EI-6507_MSIH_x23040_y2048_patch02002.png: [Errno 2] No such file or directory: 'D'\n",
      "❌ Failed on TCGA-EI-6507_MSIH_x23040_y20992_patch02037.png: [Errno 2] No such file or directory: 'D'\n",
      "❌ Failed on TCGA-EI-6507_MSIH_x23040_y21504_patch02038.png: [Errno 2] No such file or directory: 'D'\n",
      "❌ Failed on TCGA-EI-6507_MSIH_x23040_y22016_patch02039.png: [Errno 2] No such file or directory: 'D'\n",
      "❌ Failed on TCGA-EI-6507_MSIH_x23040_y22528_patch02040.png: [Errno 2] No such file or directory: 'D'\n",
      "❌ Failed on TCGA-EI-6507_MSIH_x23040_y23040_patch02041.png: [Errno 2] No such file or directory: 'D'\n",
      "❌ Failed on TCGA-EI-6507_MSIH_x23040_y23552_patch02042.png: [Errno 2] No such file or directory: 'D'\n",
      "❌ Failed on TCGA-EI-6507_MSIH_x23040_y24064_patch02043.png: [Errno 2] No such file or directory: 'D'\n",
      "❌ Failed on TCGA-EI-6507_MSIH_x23040_y24576_patch02044.png: [Errno 2] No such file or directory: 'D'\n",
      "❌ Failed on TCGA-EI-6507_MSIH_x23040_y25088_patch02045.png: [Errno 2] No such file or directory: 'D'\n",
      "❌ Failed on TCGA-EI-6507_MSIH_x23040_y25600_patch02046.png: [Errno 2] No such file or directory: 'D'\n",
      "❌ Failed on TCGA-EI-6507_MSIH_x23040_y2560_patch02003.png: [Errno 2] No such file or directory: 'D'\n",
      "❌ Failed on TCGA-EI-6507_MSIH_x23040_y26112_patch02047.png: [Errno 2] No such file or directory: 'D'\n",
      "❌ Failed on TCGA-EI-6507_MSIH_x23040_y26624_patch02048.png: [Errno 2] No such file or directory: 'D'\n",
      "❌ Failed on TCGA-EI-6507_MSIH_x23040_y27136_patch02049.png: [Errno 2] No such file or directory: 'D'\n",
      "❌ Failed on TCGA-EI-6507_MSIH_x23040_y27648_patch02050.png: [Errno 2] No such file or directory: 'D'\n",
      "❌ Failed on TCGA-EI-6507_MSIH_x23040_y28160_patch02051.png: [Errno 2] No such file or directory: 'D'\n",
      "❌ Failed on TCGA-EI-6507_MSIH_x23040_y28672_patch02052.png: [Errno 2] No such file or directory: 'D'\n",
      "❌ Failed on TCGA-EI-6507_MSIH_x23040_y29184_patch02053.png: [Errno 2] No such file or directory: 'D'\n",
      "❌ Failed on TCGA-EI-6507_MSIH_x23040_y29696_patch02054.png: [Errno 2] No such file or directory: 'D'\n",
      "❌ Failed on TCGA-EI-6507_MSIH_x23040_y30208_patch02055.png: [Errno 2] No such file or directory: 'D'\n",
      "❌ Failed on TCGA-EI-6507_MSIH_x23040_y30720_patch02056.png: [Errno 2] No such file or directory: 'D'\n",
      "❌ Failed on TCGA-EI-6507_MSIH_x23040_y3072_patch02004.png: [Errno 2] No such file or directory: 'D'\n",
      "❌ Failed on TCGA-EI-6507_MSIH_x23040_y31232_patch02057.png: [Errno 2] No such file or directory: 'D'\n",
      "❌ Failed on TCGA-EI-6507_MSIH_x23040_y31744_patch02058.png: [Errno 2] No such file or directory: 'D'\n",
      "❌ Failed on TCGA-EI-6507_MSIH_x23040_y32256_patch02059.png: [Errno 2] No such file or directory: 'D'\n",
      "❌ Failed on TCGA-EI-6507_MSIH_x23040_y32768_patch02060.png: [Errno 2] No such file or directory: 'D'\n",
      "❌ Failed on TCGA-EI-6507_MSIH_x23040_y33280_patch02061.png: [Errno 2] No such file or directory: 'D'\n",
      "❌ Failed on TCGA-EI-6507_MSIH_x23040_y33792_patch02062.png: [Errno 2] No such file or directory: 'D'\n",
      "❌ Failed on TCGA-EI-6507_MSIH_x23040_y34304_patch02063.png: [Errno 2] No such file or directory: 'D'\n",
      "❌ Failed on TCGA-EI-6507_MSIH_x23040_y34816_patch02064.png: [Errno 2] No such file or directory: 'D'\n",
      "❌ Failed on TCGA-EI-6507_MSIH_x23040_y3584_patch02005.png: [Errno 2] No such file or directory: 'D'\n",
      "❌ Failed on TCGA-EI-6507_MSIH_x23040_y4096_patch02006.png: [Errno 2] No such file or directory: 'D'\n",
      "❌ Failed on TCGA-EI-6507_MSIH_x23040_y4608_patch02007.png: [Errno 2] No such file or directory: 'D'\n",
      "❌ Failed on TCGA-EI-6507_MSIH_x23040_y5120_patch02008.png: [Errno 2] No such file or directory: 'D'\n",
      "❌ Failed on TCGA-EI-6507_MSIH_x23040_y512_patch01999.png: [Errno 2] No such file or directory: 'D'\n",
      "❌ Failed on TCGA-EI-6507_MSIH_x23040_y5632_patch02009.png: [Errno 2] No such file or directory: 'D'\n",
      "❌ Failed on TCGA-EI-6507_MSIH_x23040_y6144_patch02010.png: [Errno 2] No such file or directory: 'D'\n",
      "❌ Failed on TCGA-EI-6507_MSIH_x23040_y6656_patch02011.png: [Errno 2] No such file or directory: 'D'\n",
      "❌ Failed on TCGA-EI-6507_MSIH_x23040_y7168_patch02012.png: [Errno 2] No such file or directory: 'D'\n",
      "❌ Failed on TCGA-EI-6507_MSIH_x23040_y7680_patch02013.png: [Errno 2] No such file or directory: 'D'\n",
      "❌ Failed on TCGA-EI-6507_MSIH_x23040_y8192_patch02014.png: [Errno 2] No such file or directory: 'D'\n",
      "❌ Failed on TCGA-EI-6507_MSIH_x23040_y8704_patch02015.png: [Errno 2] No such file or directory: 'D'\n",
      "❌ Failed on TCGA-EI-6507_MSIH_x23040_y9216_patch02016.png: [Errno 2] No such file or directory: 'D'\n",
      "❌ Failed on TCGA-EI-6507_MSIH_x23040_y9728_patch02017.png: [Errno 2] No such file or directory: 'D'\n",
      "❌ Failed on TCGA-EI-6507_MSIH_x23552_y0_patch02065.png: [Errno 2] No such file or directory: 'D'\n",
      "❌ Failed on TCGA-EI-6507_MSIH_x23552_y10240_patch02085.png: [Errno 2] No such file or directory: 'D'\n",
      "❌ Failed on TCGA-EI-6507_MSIH_x23552_y1024_patch02067.png: [Errno 2] No such file or directory: 'D'\n",
      "❌ Failed on TCGA-EI-6507_MSIH_x23552_y10752_patch02086.png: [Errno 2] No such file or directory: 'D'\n",
      "❌ Failed on TCGA-EI-6507_MSIH_x23552_y11264_patch02087.png: [Errno 2] No such file or directory: 'D'\n",
      "❌ Failed on TCGA-EI-6507_MSIH_x23552_y11776_patch02088.png: [Errno 2] No such file or directory: 'D'\n",
      "❌ Failed on TCGA-EI-6507_MSIH_x23552_y13312_patch02089.png: [Errno 2] No such file or directory: 'D'\n",
      "❌ Failed on TCGA-EI-6507_MSIH_x23552_y13824_patch02090.png: [Errno 2] No such file or directory: 'D'\n",
      "❌ Failed on TCGA-EI-6507_MSIH_x23552_y14336_patch02091.png: [Errno 2] No such file or directory: 'D'\n",
      "❌ Failed on TCGA-EI-6507_MSIH_x23552_y14848_patch02092.png: [Errno 2] No such file or directory: 'D'\n",
      "❌ Failed on TCGA-EI-6507_MSIH_x23552_y15360_patch02093.png: [Errno 2] No such file or directory: 'D'\n",
      "❌ Failed on TCGA-EI-6507_MSIH_x23552_y1536_patch02068.png: [Errno 2] No such file or directory: 'D'\n",
      "❌ Failed on TCGA-EI-6507_MSIH_x23552_y15872_patch02094.png: [Errno 2] No such file or directory: 'D'\n",
      "❌ Failed on TCGA-EI-6507_MSIH_x23552_y16384_patch02095.png: [Errno 2] No such file or directory: 'D'\n",
      "❌ Failed on TCGA-EI-6507_MSIH_x23552_y16896_patch02096.png: [Errno 2] No such file or directory: 'D'\n",
      "❌ Failed on TCGA-EI-6507_MSIH_x23552_y17408_patch02097.png: [Errno 2] No such file or directory: 'D'\n",
      "❌ Failed on TCGA-EI-6507_MSIH_x23552_y17920_patch02098.png: [Errno 2] No such file or directory: 'D'\n",
      "❌ Failed on TCGA-EI-6507_MSIH_x23552_y18432_patch02099.png: [Errno 2] No such file or directory: 'D'\n",
      "❌ Failed on TCGA-EI-6507_MSIH_x23552_y18944_patch02100.png: [Errno 2] No such file or directory: 'D'\n",
      "❌ Failed on TCGA-EI-6507_MSIH_x23552_y19456_patch02101.png: [Errno 2] No such file or directory: 'D'\n",
      "❌ Failed on TCGA-EI-6507_MSIH_x23552_y19968_patch02102.png: [Errno 2] No such file or directory: 'D'\n",
      "❌ Failed on TCGA-EI-6507_MSIH_x23552_y20480_patch02103.png: [Errno 2] No such file or directory: 'D'\n",
      "❌ Failed on TCGA-EI-6507_MSIH_x23552_y2048_patch02069.png: [Errno 2] No such file or directory: 'D'\n",
      "❌ Failed on TCGA-EI-6507_MSIH_x23552_y20992_patch02104.png: [Errno 2] No such file or directory: 'D'\n",
      "❌ Failed on TCGA-EI-6507_MSIH_x23552_y21504_patch02105.png: [Errno 2] No such file or directory: 'D'\n",
      "❌ Failed on TCGA-EI-6507_MSIH_x23552_y22016_patch02106.png: [Errno 2] No such file or directory: 'D'\n",
      "❌ Failed on TCGA-EI-6507_MSIH_x23552_y22528_patch02107.png: [Errno 2] No such file or directory: 'D'\n",
      "❌ Failed on TCGA-EI-6507_MSIH_x23552_y23040_patch02108.png: [Errno 2] No such file or directory: 'D'\n",
      "❌ Failed on TCGA-EI-6507_MSIH_x23552_y23552_patch02109.png: [Errno 2] No such file or directory: 'D'\n",
      "❌ Failed on TCGA-EI-6507_MSIH_x23552_y24064_patch02110.png: [Errno 2] No such file or directory: 'D'\n",
      "❌ Failed on TCGA-EI-6507_MSIH_x23552_y24576_patch02111.png: [Errno 2] No such file or directory: 'D'\n",
      "❌ Failed on TCGA-EI-6507_MSIH_x23552_y25088_patch02112.png: [Errno 2] No such file or directory: 'D'\n",
      "❌ Failed on TCGA-EI-6507_MSIH_x23552_y25600_patch02113.png: [Errno 2] No such file or directory: 'D'\n",
      "❌ Failed on TCGA-EI-6507_MSIH_x23552_y2560_patch02070.png: [Errno 2] No such file or directory: 'D'\n",
      "❌ Failed on TCGA-EI-6507_MSIH_x23552_y26112_patch02114.png: [Errno 2] No such file or directory: 'D'\n",
      "❌ Failed on TCGA-EI-6507_MSIH_x23552_y26624_patch02115.png: [Errno 2] No such file or directory: 'D'\n",
      "❌ Failed on TCGA-EI-6507_MSIH_x23552_y27136_patch02116.png: [Errno 2] No such file or directory: 'D'\n",
      "❌ Failed on TCGA-EI-6507_MSIH_x23552_y27648_patch02117.png: [Errno 2] No such file or directory: 'D'\n",
      "❌ Failed on TCGA-EI-6507_MSIH_x23552_y28160_patch02118.png: [Errno 2] No such file or directory: 'D'\n",
      "❌ Failed on TCGA-EI-6507_MSIH_x23552_y28672_patch02119.png: [Errno 2] No such file or directory: 'D'\n",
      "❌ Failed on TCGA-EI-6507_MSIH_x23552_y29184_patch02120.png: [Errno 2] No such file or directory: 'D'\n",
      "❌ Failed on TCGA-EI-6507_MSIH_x23552_y29696_patch02121.png: [Errno 2] No such file or directory: 'D'\n",
      "❌ Failed on TCGA-EI-6507_MSIH_x23552_y30208_patch02122.png: [Errno 2] No such file or directory: 'D'\n",
      "❌ Failed on TCGA-EI-6507_MSIH_x23552_y30720_patch02123.png: [Errno 2] No such file or directory: 'D'\n",
      "❌ Failed on TCGA-EI-6507_MSIH_x23552_y3072_patch02071.png: [Errno 2] No such file or directory: 'D'\n",
      "❌ Failed on TCGA-EI-6507_MSIH_x23552_y31232_patch02124.png: [Errno 2] No such file or directory: 'D'\n",
      "❌ Failed on TCGA-EI-6507_MSIH_x23552_y31744_patch02125.png: [Errno 2] No such file or directory: 'D'\n",
      "❌ Failed on TCGA-EI-6507_MSIH_x23552_y32256_patch02126.png: [Errno 2] No such file or directory: 'D'\n",
      "❌ Failed on TCGA-EI-6507_MSIH_x23552_y32768_patch02127.png: [Errno 2] No such file or directory: 'D'\n",
      "❌ Failed on TCGA-EI-6507_MSIH_x23552_y33280_patch02128.png: [Errno 2] No such file or directory: 'D'\n",
      "❌ Failed on TCGA-EI-6507_MSIH_x23552_y33792_patch02129.png: [Errno 2] No such file or directory: 'D'\n",
      "❌ Failed on TCGA-EI-6507_MSIH_x23552_y34304_patch02130.png: [Errno 2] No such file or directory: 'D'\n",
      "❌ Failed on TCGA-EI-6507_MSIH_x23552_y34816_patch02131.png: [Errno 2] No such file or directory: 'D'\n",
      "❌ Failed on TCGA-EI-6507_MSIH_x23552_y3584_patch02072.png: [Errno 2] No such file or directory: 'D'\n",
      "❌ Failed on TCGA-EI-6507_MSIH_x23552_y4096_patch02073.png: [Errno 2] No such file or directory: 'D'\n",
      "❌ Failed on TCGA-EI-6507_MSIH_x23552_y4608_patch02074.png: [Errno 2] No such file or directory: 'D'\n",
      "❌ Failed on TCGA-EI-6507_MSIH_x23552_y5120_patch02075.png: [Errno 2] No such file or directory: 'D'\n",
      "❌ Failed on TCGA-EI-6507_MSIH_x23552_y512_patch02066.png: [Errno 2] No such file or directory: 'D'\n",
      "❌ Failed on TCGA-EI-6507_MSIH_x23552_y5632_patch02076.png: [Errno 2] No such file or directory: 'D'\n",
      "❌ Failed on TCGA-EI-6507_MSIH_x23552_y6144_patch02077.png: [Errno 2] No such file or directory: 'D'\n",
      "❌ Failed on TCGA-EI-6507_MSIH_x23552_y6656_patch02078.png: [Errno 2] No such file or directory: 'D'\n",
      "❌ Failed on TCGA-EI-6507_MSIH_x23552_y7168_patch02079.png: [Errno 2] No such file or directory: 'D'\n",
      "❌ Failed on TCGA-EI-6507_MSIH_x23552_y7680_patch02080.png: [Errno 2] No such file or directory: 'D'\n",
      "❌ Failed on TCGA-EI-6507_MSIH_x23552_y8192_patch02081.png: [Errno 2] No such file or directory: 'D'\n",
      "❌ Failed on TCGA-EI-6507_MSIH_x23552_y8704_patch02082.png: [Errno 2] No such file or directory: 'D'\n",
      "❌ Failed on TCGA-EI-6507_MSIH_x23552_y9216_patch02083.png: [Errno 2] No such file or directory: 'D'\n",
      "❌ Failed on TCGA-EI-6507_MSIH_x23552_y9728_patch02084.png: [Errno 2] No such file or directory: 'D'\n",
      "❌ Failed on TCGA-EI-6507_MSIH_x24064_y0_patch02132.png: [Errno 2] No such file or directory: 'D'\n",
      "❌ Failed on TCGA-EI-6507_MSIH_x24064_y10240_patch02152.png: [Errno 2] No such file or directory: 'D'\n",
      "❌ Failed on TCGA-EI-6507_MSIH_x24064_y1024_patch02134.png: [Errno 2] No such file or directory: 'D'\n",
      "❌ Failed on TCGA-EI-6507_MSIH_x24064_y10752_patch02153.png: [Errno 2] No such file or directory: 'D'\n",
      "❌ Failed on TCGA-EI-6507_MSIH_x24064_y11264_patch02154.png: [Errno 2] No such file or directory: 'D'\n",
      "❌ Failed on TCGA-EI-6507_MSIH_x24064_y13312_patch02155.png: [Errno 2] No such file or directory: 'D'\n",
      "❌ Failed on TCGA-EI-6507_MSIH_x24064_y13824_patch02156.png: [Errno 2] No such file or directory: 'D'\n",
      "❌ Failed on TCGA-EI-6507_MSIH_x24064_y14336_patch02157.png: [Errno 2] No such file or directory: 'D'\n",
      "❌ Failed on TCGA-EI-6507_MSIH_x24064_y14848_patch02158.png: [Errno 2] No such file or directory: 'D'\n",
      "❌ Failed on TCGA-EI-6507_MSIH_x24064_y15360_patch02159.png: [Errno 2] No such file or directory: 'D'\n",
      "❌ Failed on TCGA-EI-6507_MSIH_x24064_y1536_patch02135.png: [Errno 2] No such file or directory: 'D'\n",
      "❌ Failed on TCGA-EI-6507_MSIH_x24064_y15872_patch02160.png: [Errno 2] No such file or directory: 'D'\n",
      "❌ Failed on TCGA-EI-6507_MSIH_x24064_y16384_patch02161.png: [Errno 2] No such file or directory: 'D'\n",
      "❌ Failed on TCGA-EI-6507_MSIH_x24064_y16896_patch02162.png: [Errno 2] No such file or directory: 'D'\n",
      "❌ Failed on TCGA-EI-6507_MSIH_x24064_y17408_patch02163.png: [Errno 2] No such file or directory: 'D'\n",
      "❌ Failed on TCGA-EI-6507_MSIH_x24064_y17920_patch02164.png: [Errno 2] No such file or directory: 'D'\n",
      "❌ Failed on TCGA-EI-6507_MSIH_x24064_y18432_patch02165.png: [Errno 2] No such file or directory: 'D'\n",
      "❌ Failed on TCGA-EI-6507_MSIH_x24064_y18944_patch02166.png: [Errno 2] No such file or directory: 'D'\n",
      "❌ Failed on TCGA-EI-6507_MSIH_x24064_y19456_patch02167.png: [Errno 2] No such file or directory: 'D'\n",
      "❌ Failed on TCGA-EI-6507_MSIH_x24064_y19968_patch02168.png: [Errno 2] No such file or directory: 'D'\n",
      "❌ Failed on TCGA-EI-6507_MSIH_x24064_y20480_patch02169.png: [Errno 2] No such file or directory: 'D'\n",
      "❌ Failed on TCGA-EI-6507_MSIH_x24064_y2048_patch02136.png: [Errno 2] No such file or directory: 'D'\n",
      "❌ Failed on TCGA-EI-6507_MSIH_x24064_y20992_patch02170.png: [Errno 2] No such file or directory: 'D'\n",
      "❌ Failed on TCGA-EI-6507_MSIH_x24064_y21504_patch02171.png: [Errno 2] No such file or directory: 'D'\n",
      "❌ Failed on TCGA-EI-6507_MSIH_x24064_y22016_patch02172.png: [Errno 2] No such file or directory: 'D'\n",
      "❌ Failed on TCGA-EI-6507_MSIH_x24064_y22528_patch02173.png: [Errno 2] No such file or directory: 'D'\n",
      "❌ Failed on TCGA-EI-6507_MSIH_x24064_y23040_patch02174.png: [Errno 2] No such file or directory: 'D'\n",
      "❌ Failed on TCGA-EI-6507_MSIH_x24064_y23552_patch02175.png: [Errno 2] No such file or directory: 'D'\n",
      "❌ Failed on TCGA-EI-6507_MSIH_x24064_y24064_patch02176.png: [Errno 2] No such file or directory: 'D'\n",
      "❌ Failed on TCGA-EI-6507_MSIH_x24064_y24576_patch02177.png: [Errno 2] No such file or directory: 'D'\n",
      "❌ Failed on TCGA-EI-6507_MSIH_x24064_y25088_patch02178.png: [Errno 2] No such file or directory: 'D'\n",
      "❌ Failed on TCGA-EI-6507_MSIH_x24064_y25600_patch02179.png: [Errno 2] No such file or directory: 'D'\n",
      "❌ Failed on TCGA-EI-6507_MSIH_x24064_y2560_patch02137.png: [Errno 2] No such file or directory: 'D'\n",
      "❌ Failed on TCGA-EI-6507_MSIH_x24064_y26112_patch02180.png: [Errno 2] No such file or directory: 'D'\n",
      "❌ Failed on TCGA-EI-6507_MSIH_x24064_y26624_patch02181.png: [Errno 2] No such file or directory: 'D'\n",
      "❌ Failed on TCGA-EI-6507_MSIH_x24064_y27136_patch02182.png: [Errno 2] No such file or directory: 'D'\n",
      "❌ Failed on TCGA-EI-6507_MSIH_x24064_y27648_patch02183.png: [Errno 2] No such file or directory: 'D'\n",
      "❌ Failed on TCGA-EI-6507_MSIH_x24064_y28160_patch02184.png: [Errno 2] No such file or directory: 'D'\n",
      "❌ Failed on TCGA-EI-6507_MSIH_x24064_y28672_patch02185.png: [Errno 2] No such file or directory: 'D'\n",
      "❌ Failed on TCGA-EI-6507_MSIH_x24064_y29184_patch02186.png: [Errno 2] No such file or directory: 'D'\n",
      "❌ Failed on TCGA-EI-6507_MSIH_x24064_y29696_patch02187.png: [Errno 2] No such file or directory: 'D'\n",
      "❌ Failed on TCGA-EI-6507_MSIH_x24064_y30208_patch02188.png: [Errno 2] No such file or directory: 'D'\n",
      "❌ Failed on TCGA-EI-6507_MSIH_x24064_y30720_patch02189.png: [Errno 2] No such file or directory: 'D'\n",
      "❌ Failed on TCGA-EI-6507_MSIH_x24064_y3072_patch02138.png: [Errno 2] No such file or directory: 'D'\n",
      "❌ Failed on TCGA-EI-6507_MSIH_x24064_y31232_patch02190.png: [Errno 2] No such file or directory: 'D'\n",
      "❌ Failed on TCGA-EI-6507_MSIH_x24064_y31744_patch02191.png: [Errno 2] No such file or directory: 'D'\n",
      "❌ Failed on TCGA-EI-6507_MSIH_x24064_y32256_patch02192.png: [Errno 2] No such file or directory: 'D'\n",
      "❌ Failed on TCGA-EI-6507_MSIH_x24064_y32768_patch02193.png: [Errno 2] No such file or directory: 'D'\n",
      "❌ Failed on TCGA-EI-6507_MSIH_x24064_y33280_patch02194.png: [Errno 2] No such file or directory: 'D'\n",
      "❌ Failed on TCGA-EI-6507_MSIH_x24064_y33792_patch02195.png: [Errno 2] No such file or directory: 'D'\n",
      "❌ Failed on TCGA-EI-6507_MSIH_x24064_y34304_patch02196.png: [Errno 2] No such file or directory: 'D'\n",
      "❌ Failed on TCGA-EI-6507_MSIH_x24064_y34816_patch02197.png: [Errno 2] No such file or directory: 'D'\n",
      "❌ Failed on TCGA-EI-6507_MSIH_x24064_y3584_patch02139.png: [Errno 2] No such file or directory: 'D'\n",
      "❌ Failed on TCGA-EI-6507_MSIH_x24064_y4096_patch02140.png: [Errno 2] No such file or directory: 'D'\n",
      "❌ Failed on TCGA-EI-6507_MSIH_x24064_y4608_patch02141.png: [Errno 2] No such file or directory: 'D'\n",
      "❌ Failed on TCGA-EI-6507_MSIH_x24064_y5120_patch02142.png: [Errno 2] No such file or directory: 'D'\n",
      "❌ Failed on TCGA-EI-6507_MSIH_x24064_y512_patch02133.png: [Errno 2] No such file or directory: 'D'\n",
      "❌ Failed on TCGA-EI-6507_MSIH_x24064_y5632_patch02143.png: [Errno 2] No such file or directory: 'D'\n",
      "❌ Failed on TCGA-EI-6507_MSIH_x24064_y6144_patch02144.png: [Errno 2] No such file or directory: 'D'\n",
      "❌ Failed on TCGA-EI-6507_MSIH_x24064_y6656_patch02145.png: [Errno 2] No such file or directory: 'D'\n",
      "❌ Failed on TCGA-EI-6507_MSIH_x24064_y7168_patch02146.png: [Errno 2] No such file or directory: 'D'\n",
      "❌ Failed on TCGA-EI-6507_MSIH_x24064_y7680_patch02147.png: [Errno 2] No such file or directory: 'D'\n",
      "❌ Failed on TCGA-EI-6507_MSIH_x24064_y8192_patch02148.png: [Errno 2] No such file or directory: 'D'\n",
      "❌ Failed on TCGA-EI-6507_MSIH_x24064_y8704_patch02149.png: [Errno 2] No such file or directory: 'D'\n",
      "❌ Failed on TCGA-EI-6507_MSIH_x24064_y9216_patch02150.png: [Errno 2] No such file or directory: 'D'\n",
      "❌ Failed on TCGA-EI-6507_MSIH_x24064_y9728_patch02151.png: [Errno 2] No such file or directory: 'D'\n",
      "❌ Failed on TCGA-EI-6507_MSIH_x24576_y0_patch02198.png: [Errno 2] No such file or directory: 'D'\n",
      "❌ Failed on TCGA-EI-6507_MSIH_x24576_y10240_patch02218.png: [Errno 2] No such file or directory: 'D'\n",
      "❌ Failed on TCGA-EI-6507_MSIH_x24576_y1024_patch02200.png: [Errno 2] No such file or directory: 'D'\n",
      "❌ Failed on TCGA-EI-6507_MSIH_x24576_y10752_patch02219.png: [Errno 2] No such file or directory: 'D'\n",
      "❌ Failed on TCGA-EI-6507_MSIH_x24576_y11264_patch02220.png: [Errno 2] No such file or directory: 'D'\n",
      "❌ Failed on TCGA-EI-6507_MSIH_x24576_y13312_patch02221.png: [Errno 2] No such file or directory: 'D'\n",
      "❌ Failed on TCGA-EI-6507_MSIH_x24576_y13824_patch02222.png: [Errno 2] No such file or directory: 'D'\n",
      "❌ Failed on TCGA-EI-6507_MSIH_x24576_y14336_patch02223.png: [Errno 2] No such file or directory: 'D'\n",
      "❌ Failed on TCGA-EI-6507_MSIH_x24576_y14848_patch02224.png: [Errno 2] No such file or directory: 'D'\n",
      "❌ Failed on TCGA-EI-6507_MSIH_x24576_y15360_patch02225.png: [Errno 2] No such file or directory: 'D'\n",
      "❌ Failed on TCGA-EI-6507_MSIH_x24576_y1536_patch02201.png: [Errno 2] No such file or directory: 'D'\n",
      "❌ Failed on TCGA-EI-6507_MSIH_x24576_y15872_patch02226.png: [Errno 2] No such file or directory: 'D'\n",
      "❌ Failed on TCGA-EI-6507_MSIH_x24576_y16384_patch02227.png: [Errno 2] No such file or directory: 'D'\n",
      "❌ Failed on TCGA-EI-6507_MSIH_x24576_y16896_patch02228.png: [Errno 2] No such file or directory: 'D'\n",
      "❌ Failed on TCGA-EI-6507_MSIH_x24576_y17408_patch02229.png: [Errno 2] No such file or directory: 'D'\n",
      "❌ Failed on TCGA-EI-6507_MSIH_x24576_y17920_patch02230.png: [Errno 2] No such file or directory: 'D'\n",
      "❌ Failed on TCGA-EI-6507_MSIH_x24576_y18432_patch02231.png: [Errno 2] No such file or directory: 'D'\n",
      "❌ Failed on TCGA-EI-6507_MSIH_x24576_y18944_patch02232.png: [Errno 2] No such file or directory: 'D'\n",
      "❌ Failed on TCGA-EI-6507_MSIH_x24576_y19456_patch02233.png: [Errno 2] No such file or directory: 'D'\n",
      "❌ Failed on TCGA-EI-6507_MSIH_x24576_y19968_patch02234.png: [Errno 2] No such file or directory: 'D'\n",
      "❌ Failed on TCGA-EI-6507_MSIH_x24576_y20480_patch02235.png: [Errno 2] No such file or directory: 'D'\n",
      "❌ Failed on TCGA-EI-6507_MSIH_x24576_y2048_patch02202.png: [Errno 2] No such file or directory: 'D'\n",
      "❌ Failed on TCGA-EI-6507_MSIH_x24576_y20992_patch02236.png: [Errno 2] No such file or directory: 'D'\n",
      "❌ Failed on TCGA-EI-6507_MSIH_x24576_y21504_patch02237.png: [Errno 2] No such file or directory: 'D'\n",
      "❌ Failed on TCGA-EI-6507_MSIH_x24576_y22016_patch02238.png: [Errno 2] No such file or directory: 'D'\n",
      "❌ Failed on TCGA-EI-6507_MSIH_x24576_y22528_patch02239.png: [Errno 2] No such file or directory: 'D'\n",
      "❌ Failed on TCGA-EI-6507_MSIH_x24576_y23040_patch02240.png: [Errno 2] No such file or directory: 'D'\n",
      "❌ Failed on TCGA-EI-6507_MSIH_x24576_y23552_patch02241.png: [Errno 2] No such file or directory: 'D'\n",
      "❌ Failed on TCGA-EI-6507_MSIH_x24576_y24064_patch02242.png: [Errno 2] No such file or directory: 'D'\n",
      "❌ Failed on TCGA-EI-6507_MSIH_x24576_y24576_patch02243.png: [Errno 2] No such file or directory: 'D'\n",
      "❌ Failed on TCGA-EI-6507_MSIH_x24576_y25088_patch02244.png: [Errno 2] No such file or directory: 'D'\n",
      "❌ Failed on TCGA-EI-6507_MSIH_x24576_y25600_patch02245.png: [Errno 2] No such file or directory: 'D'\n",
      "❌ Failed on TCGA-EI-6507_MSIH_x24576_y2560_patch02203.png: [Errno 2] No such file or directory: 'D'\n",
      "❌ Failed on TCGA-EI-6507_MSIH_x24576_y26112_patch02246.png: [Errno 2] No such file or directory: 'D'\n",
      "❌ Failed on TCGA-EI-6507_MSIH_x24576_y26624_patch02247.png: [Errno 2] No such file or directory: 'D'\n",
      "❌ Failed on TCGA-EI-6507_MSIH_x24576_y27136_patch02248.png: [Errno 2] No such file or directory: 'D'\n",
      "❌ Failed on TCGA-EI-6507_MSIH_x24576_y27648_patch02249.png: [Errno 2] No such file or directory: 'D'\n",
      "❌ Failed on TCGA-EI-6507_MSIH_x24576_y28160_patch02250.png: [Errno 2] No such file or directory: 'D'\n",
      "❌ Failed on TCGA-EI-6507_MSIH_x24576_y28672_patch02251.png: [Errno 2] No such file or directory: 'D'\n",
      "❌ Failed on TCGA-EI-6507_MSIH_x24576_y29184_patch02252.png: [Errno 2] No such file or directory: 'D'\n",
      "❌ Failed on TCGA-EI-6507_MSIH_x24576_y29696_patch02253.png: [Errno 2] No such file or directory: 'D'\n",
      "❌ Failed on TCGA-EI-6507_MSIH_x24576_y30208_patch02254.png: [Errno 2] No such file or directory: 'D'\n",
      "❌ Failed on TCGA-EI-6507_MSIH_x24576_y30720_patch02255.png: [Errno 2] No such file or directory: 'D'\n",
      "❌ Failed on TCGA-EI-6507_MSIH_x24576_y3072_patch02204.png: [Errno 2] No such file or directory: 'D'\n",
      "❌ Failed on TCGA-EI-6507_MSIH_x24576_y31232_patch02256.png: [Errno 2] No such file or directory: 'D'\n",
      "❌ Failed on TCGA-EI-6507_MSIH_x24576_y31744_patch02257.png: [Errno 2] No such file or directory: 'D'\n",
      "❌ Failed on TCGA-EI-6507_MSIH_x24576_y32256_patch02258.png: [Errno 2] No such file or directory: 'D'\n",
      "❌ Failed on TCGA-EI-6507_MSIH_x24576_y32768_patch02259.png: [Errno 2] No such file or directory: 'D'\n",
      "❌ Failed on TCGA-EI-6507_MSIH_x24576_y33280_patch02260.png: [Errno 2] No such file or directory: 'D'\n",
      "❌ Failed on TCGA-EI-6507_MSIH_x24576_y33792_patch02261.png: [Errno 2] No such file or directory: 'D'\n",
      "❌ Failed on TCGA-EI-6507_MSIH_x24576_y34304_patch02262.png: [Errno 2] No such file or directory: 'D'\n",
      "❌ Failed on TCGA-EI-6507_MSIH_x24576_y34816_patch02263.png: [Errno 2] No such file or directory: 'D'\n",
      "❌ Failed on TCGA-EI-6507_MSIH_x24576_y3584_patch02205.png: [Errno 2] No such file or directory: 'D'\n",
      "❌ Failed on TCGA-EI-6507_MSIH_x24576_y4096_patch02206.png: [Errno 2] No such file or directory: 'D'\n",
      "❌ Failed on TCGA-EI-6507_MSIH_x24576_y4608_patch02207.png: [Errno 2] No such file or directory: 'D'\n",
      "❌ Failed on TCGA-EI-6507_MSIH_x24576_y5120_patch02208.png: [Errno 2] No such file or directory: 'D'\n",
      "❌ Failed on TCGA-EI-6507_MSIH_x24576_y512_patch02199.png: [Errno 2] No such file or directory: 'D'\n",
      "❌ Failed on TCGA-EI-6507_MSIH_x24576_y5632_patch02209.png: [Errno 2] No such file or directory: 'D'\n",
      "❌ Failed on TCGA-EI-6507_MSIH_x24576_y6144_patch02210.png: [Errno 2] No such file or directory: 'D'\n",
      "❌ Failed on TCGA-EI-6507_MSIH_x24576_y6656_patch02211.png: [Errno 2] No such file or directory: 'D'\n",
      "❌ Failed on TCGA-EI-6507_MSIH_x24576_y7168_patch02212.png: [Errno 2] No such file or directory: 'D'\n",
      "❌ Failed on TCGA-EI-6507_MSIH_x24576_y7680_patch02213.png: [Errno 2] No such file or directory: 'D'\n",
      "❌ Failed on TCGA-EI-6507_MSIH_x24576_y8192_patch02214.png: [Errno 2] No such file or directory: 'D'\n",
      "❌ Failed on TCGA-EI-6507_MSIH_x24576_y8704_patch02215.png: [Errno 2] No such file or directory: 'D'\n",
      "❌ Failed on TCGA-EI-6507_MSIH_x24576_y9216_patch02216.png: [Errno 2] No such file or directory: 'D'\n",
      "❌ Failed on TCGA-EI-6507_MSIH_x24576_y9728_patch02217.png: [Errno 2] No such file or directory: 'D'\n",
      "❌ Failed on TCGA-EI-6507_MSIH_x25088_y0_patch02264.png: [Errno 2] No such file or directory: 'D'\n",
      "❌ Failed on TCGA-EI-6507_MSIH_x25088_y10240_patch02284.png: [Errno 2] No such file or directory: 'D'\n",
      "❌ Failed on TCGA-EI-6507_MSIH_x25088_y1024_patch02266.png: [Errno 2] No such file or directory: 'D'\n",
      "❌ Failed on TCGA-EI-6507_MSIH_x25088_y10752_patch02285.png: [Errno 2] No such file or directory: 'D'\n",
      "❌ Failed on TCGA-EI-6507_MSIH_x25088_y11264_patch02286.png: [Errno 2] No such file or directory: 'D'\n",
      "❌ Failed on TCGA-EI-6507_MSIH_x25088_y13312_patch02287.png: [Errno 2] No such file or directory: 'D'\n",
      "❌ Failed on TCGA-EI-6507_MSIH_x25088_y13824_patch02288.png: [Errno 2] No such file or directory: 'D'\n",
      "❌ Failed on TCGA-EI-6507_MSIH_x25088_y14336_patch02289.png: [Errno 2] No such file or directory: 'D'\n",
      "❌ Failed on TCGA-EI-6507_MSIH_x25088_y14848_patch02290.png: [Errno 2] No such file or directory: 'D'\n",
      "❌ Failed on TCGA-EI-6507_MSIH_x25088_y15360_patch02291.png: [Errno 2] No such file or directory: 'D'\n",
      "❌ Failed on TCGA-EI-6507_MSIH_x25088_y1536_patch02267.png: [Errno 2] No such file or directory: 'D'\n",
      "❌ Failed on TCGA-EI-6507_MSIH_x25088_y15872_patch02292.png: [Errno 2] No such file or directory: 'D'\n",
      "❌ Failed on TCGA-EI-6507_MSIH_x25088_y16384_patch02293.png: [Errno 2] No such file or directory: 'D'\n",
      "❌ Failed on TCGA-EI-6507_MSIH_x25088_y16896_patch02294.png: [Errno 2] No such file or directory: 'D'\n",
      "❌ Failed on TCGA-EI-6507_MSIH_x25088_y17408_patch02295.png: [Errno 2] No such file or directory: 'D'\n",
      "❌ Failed on TCGA-EI-6507_MSIH_x25088_y17920_patch02296.png: [Errno 2] No such file or directory: 'D'\n",
      "❌ Failed on TCGA-EI-6507_MSIH_x25088_y18432_patch02297.png: [Errno 2] No such file or directory: 'D'\n",
      "❌ Failed on TCGA-EI-6507_MSIH_x25088_y18944_patch02298.png: [Errno 2] No such file or directory: 'D'\n",
      "❌ Failed on TCGA-EI-6507_MSIH_x25088_y19456_patch02299.png: [Errno 2] No such file or directory: 'D'\n",
      "❌ Failed on TCGA-EI-6507_MSIH_x25088_y19968_patch02300.png: [Errno 2] No such file or directory: 'D'\n",
      "❌ Failed on TCGA-EI-6507_MSIH_x25088_y20480_patch02301.png: [Errno 2] No such file or directory: 'D'\n",
      "❌ Failed on TCGA-EI-6507_MSIH_x25088_y2048_patch02268.png: [Errno 2] No such file or directory: 'D'\n",
      "❌ Failed on TCGA-EI-6507_MSIH_x25088_y20992_patch02302.png: [Errno 2] No such file or directory: 'D'\n",
      "❌ Failed on TCGA-EI-6507_MSIH_x25088_y21504_patch02303.png: [Errno 2] No such file or directory: 'D'\n",
      "❌ Failed on TCGA-EI-6507_MSIH_x25088_y22016_patch02304.png: [Errno 2] No such file or directory: 'D'\n",
      "❌ Failed on TCGA-EI-6507_MSIH_x25088_y22528_patch02305.png: [Errno 2] No such file or directory: 'D'\n",
      "❌ Failed on TCGA-EI-6507_MSIH_x25088_y23040_patch02306.png: [Errno 2] No such file or directory: 'D'\n",
      "❌ Failed on TCGA-EI-6507_MSIH_x25088_y23552_patch02307.png: [Errno 2] No such file or directory: 'D'\n",
      "❌ Failed on TCGA-EI-6507_MSIH_x25088_y24064_patch02308.png: [Errno 2] No such file or directory: 'D'\n",
      "❌ Failed on TCGA-EI-6507_MSIH_x25088_y24576_patch02309.png: [Errno 2] No such file or directory: 'D'\n",
      "❌ Failed on TCGA-EI-6507_MSIH_x25088_y25088_patch02310.png: [Errno 2] No such file or directory: 'D'\n",
      "❌ Failed on TCGA-EI-6507_MSIH_x25088_y25600_patch02311.png: [Errno 2] No such file or directory: 'D'\n",
      "❌ Failed on TCGA-EI-6507_MSIH_x25088_y2560_patch02269.png: [Errno 2] No such file or directory: 'D'\n",
      "❌ Failed on TCGA-EI-6507_MSIH_x25088_y26112_patch02312.png: [Errno 2] No such file or directory: 'D'\n",
      "❌ Failed on TCGA-EI-6507_MSIH_x25088_y26624_patch02313.png: [Errno 2] No such file or directory: 'D'\n",
      "❌ Failed on TCGA-EI-6507_MSIH_x25088_y27136_patch02314.png: [Errno 2] No such file or directory: 'D'\n",
      "❌ Failed on TCGA-EI-6507_MSIH_x25088_y27648_patch02315.png: [Errno 2] No such file or directory: 'D'\n",
      "❌ Failed on TCGA-EI-6507_MSIH_x25088_y28160_patch02316.png: [Errno 2] No such file or directory: 'D'\n",
      "❌ Failed on TCGA-EI-6507_MSIH_x25088_y28672_patch02317.png: [Errno 2] No such file or directory: 'D'\n",
      "❌ Failed on TCGA-EI-6507_MSIH_x25088_y29184_patch02318.png: [Errno 2] No such file or directory: 'D'\n",
      "❌ Failed on TCGA-EI-6507_MSIH_x25088_y29696_patch02319.png: [Errno 2] No such file or directory: 'D'\n",
      "❌ Failed on TCGA-EI-6507_MSIH_x25088_y30208_patch02320.png: [Errno 2] No such file or directory: 'D'\n",
      "❌ Failed on TCGA-EI-6507_MSIH_x25088_y30720_patch02321.png: [Errno 2] No such file or directory: 'D'\n",
      "❌ Failed on TCGA-EI-6507_MSIH_x25088_y3072_patch02270.png: [Errno 2] No such file or directory: 'D'\n",
      "❌ Failed on TCGA-EI-6507_MSIH_x25088_y31232_patch02322.png: [Errno 2] No such file or directory: 'D'\n",
      "❌ Failed on TCGA-EI-6507_MSIH_x25088_y31744_patch02323.png: [Errno 2] No such file or directory: 'D'\n",
      "❌ Failed on TCGA-EI-6507_MSIH_x25088_y32256_patch02324.png: [Errno 2] No such file or directory: 'D'\n",
      "❌ Failed on TCGA-EI-6507_MSIH_x25088_y32768_patch02325.png: [Errno 2] No such file or directory: 'D'\n",
      "❌ Failed on TCGA-EI-6507_MSIH_x25088_y33280_patch02326.png: [Errno 2] No such file or directory: 'D'\n",
      "❌ Failed on TCGA-EI-6507_MSIH_x25088_y33792_patch02327.png: [Errno 2] No such file or directory: 'D'\n",
      "❌ Failed on TCGA-EI-6507_MSIH_x25088_y34304_patch02328.png: [Errno 2] No such file or directory: 'D'\n",
      "❌ Failed on TCGA-EI-6507_MSIH_x25088_y34816_patch02329.png: [Errno 2] No such file or directory: 'D'\n",
      "❌ Failed on TCGA-EI-6507_MSIH_x25088_y3584_patch02271.png: [Errno 2] No such file or directory: 'D'\n",
      "❌ Failed on TCGA-EI-6507_MSIH_x25088_y4096_patch02272.png: [Errno 2] No such file or directory: 'D'\n",
      "❌ Failed on TCGA-EI-6507_MSIH_x25088_y4608_patch02273.png: [Errno 2] No such file or directory: 'D'\n",
      "❌ Failed on TCGA-EI-6507_MSIH_x25088_y5120_patch02274.png: [Errno 2] No such file or directory: 'D'\n",
      "❌ Failed on TCGA-EI-6507_MSIH_x25088_y512_patch02265.png: [Errno 2] No such file or directory: 'D'\n",
      "❌ Failed on TCGA-EI-6507_MSIH_x25088_y5632_patch02275.png: [Errno 2] No such file or directory: 'D'\n",
      "❌ Failed on TCGA-EI-6507_MSIH_x25088_y6144_patch02276.png: [Errno 2] No such file or directory: 'D'\n",
      "❌ Failed on TCGA-EI-6507_MSIH_x25088_y6656_patch02277.png: [Errno 2] No such file or directory: 'D'\n",
      "❌ Failed on TCGA-EI-6507_MSIH_x25088_y7168_patch02278.png: [Errno 2] No such file or directory: 'D'\n",
      "❌ Failed on TCGA-EI-6507_MSIH_x25088_y7680_patch02279.png: [Errno 2] No such file or directory: 'D'\n",
      "❌ Failed on TCGA-EI-6507_MSIH_x25088_y8192_patch02280.png: [Errno 2] No such file or directory: 'D'\n",
      "❌ Failed on TCGA-EI-6507_MSIH_x25088_y8704_patch02281.png: [Errno 2] No such file or directory: 'D'\n",
      "❌ Failed on TCGA-EI-6507_MSIH_x25088_y9216_patch02282.png: [Errno 2] No such file or directory: 'D'\n",
      "❌ Failed on TCGA-EI-6507_MSIH_x25088_y9728_patch02283.png: [Errno 2] No such file or directory: 'D'\n",
      "❌ Failed on TCGA-EI-6507_MSIH_x25600_y0_patch02330.png: [Errno 2] No such file or directory: 'D'\n",
      "❌ Failed on TCGA-EI-6507_MSIH_x25600_y10240_patch02350.png: [Errno 2] No such file or directory: 'D'\n",
      "❌ Failed on TCGA-EI-6507_MSIH_x25600_y1024_patch02332.png: [Errno 2] No such file or directory: 'D'\n",
      "❌ Failed on TCGA-EI-6507_MSIH_x25600_y10752_patch02351.png: [Errno 2] No such file or directory: 'D'\n",
      "❌ Failed on TCGA-EI-6507_MSIH_x25600_y11264_patch02352.png: [Errno 2] No such file or directory: 'D'\n",
      "❌ Failed on TCGA-EI-6507_MSIH_x25600_y13312_patch02353.png: [Errno 2] No such file or directory: 'D'\n",
      "❌ Failed on TCGA-EI-6507_MSIH_x25600_y13824_patch02354.png: [Errno 2] No such file or directory: 'D'\n",
      "❌ Failed on TCGA-EI-6507_MSIH_x25600_y14336_patch02355.png: [Errno 2] No such file or directory: 'D'\n",
      "❌ Failed on TCGA-EI-6507_MSIH_x25600_y14848_patch02356.png: [Errno 2] No such file or directory: 'D'\n",
      "❌ Failed on TCGA-EI-6507_MSIH_x25600_y15360_patch02357.png: [Errno 2] No such file or directory: 'D'\n",
      "❌ Failed on TCGA-EI-6507_MSIH_x25600_y1536_patch02333.png: [Errno 2] No such file or directory: 'D'\n",
      "❌ Failed on TCGA-EI-6507_MSIH_x25600_y15872_patch02358.png: [Errno 2] No such file or directory: 'D'\n",
      "❌ Failed on TCGA-EI-6507_MSIH_x25600_y16384_patch02359.png: [Errno 2] No such file or directory: 'D'\n",
      "❌ Failed on TCGA-EI-6507_MSIH_x25600_y16896_patch02360.png: [Errno 2] No such file or directory: 'D'\n",
      "❌ Failed on TCGA-EI-6507_MSIH_x25600_y17408_patch02361.png: [Errno 2] No such file or directory: 'D'\n",
      "❌ Failed on TCGA-EI-6507_MSIH_x25600_y17920_patch02362.png: [Errno 2] No such file or directory: 'D'\n",
      "❌ Failed on TCGA-EI-6507_MSIH_x25600_y18432_patch02363.png: [Errno 2] No such file or directory: 'D'\n",
      "❌ Failed on TCGA-EI-6507_MSIH_x25600_y18944_patch02364.png: [Errno 2] No such file or directory: 'D'\n",
      "❌ Failed on TCGA-EI-6507_MSIH_x25600_y19456_patch02365.png: [Errno 2] No such file or directory: 'D'\n",
      "❌ Failed on TCGA-EI-6507_MSIH_x25600_y19968_patch02366.png: [Errno 2] No such file or directory: 'D'\n",
      "❌ Failed on TCGA-EI-6507_MSIH_x25600_y20480_patch02367.png: [Errno 2] No such file or directory: 'D'\n",
      "❌ Failed on TCGA-EI-6507_MSIH_x25600_y2048_patch02334.png: [Errno 2] No such file or directory: 'D'\n",
      "❌ Failed on TCGA-EI-6507_MSIH_x25600_y20992_patch02368.png: [Errno 2] No such file or directory: 'D'\n",
      "❌ Failed on TCGA-EI-6507_MSIH_x25600_y21504_patch02369.png: [Errno 2] No such file or directory: 'D'\n",
      "❌ Failed on TCGA-EI-6507_MSIH_x25600_y22016_patch02370.png: [Errno 2] No such file or directory: 'D'\n",
      "❌ Failed on TCGA-EI-6507_MSIH_x25600_y22528_patch02371.png: [Errno 2] No such file or directory: 'D'\n",
      "❌ Failed on TCGA-EI-6507_MSIH_x25600_y23040_patch02372.png: [Errno 2] No such file or directory: 'D'\n",
      "❌ Failed on TCGA-EI-6507_MSIH_x25600_y23552_patch02373.png: [Errno 2] No such file or directory: 'D'\n",
      "❌ Failed on TCGA-EI-6507_MSIH_x25600_y24064_patch02374.png: [Errno 2] No such file or directory: 'D'\n",
      "❌ Failed on TCGA-EI-6507_MSIH_x25600_y24576_patch02375.png: [Errno 2] No such file or directory: 'D'\n",
      "❌ Failed on TCGA-EI-6507_MSIH_x25600_y25088_patch02376.png: [Errno 2] No such file or directory: 'D'\n",
      "❌ Failed on TCGA-EI-6507_MSIH_x25600_y25600_patch02377.png: [Errno 2] No such file or directory: 'D'\n",
      "❌ Failed on TCGA-EI-6507_MSIH_x25600_y2560_patch02335.png: [Errno 2] No such file or directory: 'D'\n",
      "❌ Failed on TCGA-EI-6507_MSIH_x25600_y26112_patch02378.png: [Errno 2] No such file or directory: 'D'\n",
      "❌ Failed on TCGA-EI-6507_MSIH_x25600_y26624_patch02379.png: [Errno 2] No such file or directory: 'D'\n",
      "❌ Failed on TCGA-EI-6507_MSIH_x25600_y27136_patch02380.png: [Errno 2] No such file or directory: 'D'\n",
      "❌ Failed on TCGA-EI-6507_MSIH_x25600_y27648_patch02381.png: [Errno 2] No such file or directory: 'D'\n",
      "❌ Failed on TCGA-EI-6507_MSIH_x25600_y28160_patch02382.png: [Errno 2] No such file or directory: 'D'\n",
      "❌ Failed on TCGA-EI-6507_MSIH_x25600_y28672_patch02383.png: [Errno 2] No such file or directory: 'D'\n",
      "❌ Failed on TCGA-EI-6507_MSIH_x25600_y29184_patch02384.png: [Errno 2] No such file or directory: 'D'\n",
      "❌ Failed on TCGA-EI-6507_MSIH_x25600_y29696_patch02385.png: [Errno 2] No such file or directory: 'D'\n",
      "❌ Failed on TCGA-EI-6507_MSIH_x25600_y30208_patch02386.png: [Errno 2] No such file or directory: 'D'\n",
      "❌ Failed on TCGA-EI-6507_MSIH_x25600_y30720_patch02387.png: [Errno 2] No such file or directory: 'D'\n",
      "❌ Failed on TCGA-EI-6507_MSIH_x25600_y3072_patch02336.png: [Errno 2] No such file or directory: 'D'\n",
      "❌ Failed on TCGA-EI-6507_MSIH_x25600_y31232_patch02388.png: [Errno 2] No such file or directory: 'D'\n",
      "❌ Failed on TCGA-EI-6507_MSIH_x25600_y31744_patch02389.png: [Errno 2] No such file or directory: 'D'\n",
      "❌ Failed on TCGA-EI-6507_MSIH_x25600_y32256_patch02390.png: [Errno 2] No such file or directory: 'D'\n",
      "❌ Failed on TCGA-EI-6507_MSIH_x25600_y32768_patch02391.png: [Errno 2] No such file or directory: 'D'\n",
      "❌ Failed on TCGA-EI-6507_MSIH_x25600_y33280_patch02392.png: [Errno 2] No such file or directory: 'D'\n",
      "❌ Failed on TCGA-EI-6507_MSIH_x25600_y33792_patch02393.png: [Errno 2] No such file or directory: 'D'\n",
      "❌ Failed on TCGA-EI-6507_MSIH_x25600_y34304_patch02394.png: [Errno 2] No such file or directory: 'D'\n",
      "❌ Failed on TCGA-EI-6507_MSIH_x25600_y34816_patch02395.png: [Errno 2] No such file or directory: 'D'\n",
      "❌ Failed on TCGA-EI-6507_MSIH_x25600_y3584_patch02337.png: [Errno 2] No such file or directory: 'D'\n",
      "❌ Failed on TCGA-EI-6507_MSIH_x25600_y4096_patch02338.png: [Errno 2] No such file or directory: 'D'\n",
      "❌ Failed on TCGA-EI-6507_MSIH_x25600_y4608_patch02339.png: [Errno 2] No such file or directory: 'D'\n",
      "❌ Failed on TCGA-EI-6507_MSIH_x25600_y5120_patch02340.png: [Errno 2] No such file or directory: 'D'\n",
      "❌ Failed on TCGA-EI-6507_MSIH_x25600_y512_patch02331.png: [Errno 2] No such file or directory: 'D'\n",
      "❌ Failed on TCGA-EI-6507_MSIH_x25600_y5632_patch02341.png: [Errno 2] No such file or directory: 'D'\n",
      "❌ Failed on TCGA-EI-6507_MSIH_x25600_y6144_patch02342.png: [Errno 2] No such file or directory: 'D'\n",
      "❌ Failed on TCGA-EI-6507_MSIH_x25600_y6656_patch02343.png: [Errno 2] No such file or directory: 'D'\n",
      "❌ Failed on TCGA-EI-6507_MSIH_x25600_y7168_patch02344.png: [Errno 2] No such file or directory: 'D'\n",
      "❌ Failed on TCGA-EI-6507_MSIH_x25600_y7680_patch02345.png: [Errno 2] No such file or directory: 'D'\n",
      "❌ Failed on TCGA-EI-6507_MSIH_x25600_y8192_patch02346.png: [Errno 2] No such file or directory: 'D'\n",
      "❌ Failed on TCGA-EI-6507_MSIH_x25600_y8704_patch02347.png: [Errno 2] No such file or directory: 'D'\n",
      "❌ Failed on TCGA-EI-6507_MSIH_x25600_y9216_patch02348.png: [Errno 2] No such file or directory: 'D'\n",
      "❌ Failed on TCGA-EI-6507_MSIH_x25600_y9728_patch02349.png: [Errno 2] No such file or directory: 'D'\n",
      "❌ Failed on TCGA-EI-6507_MSIH_x2560_y17920_patch00060.png: [Errno 2] No such file or directory: 'D'\n",
      "❌ Failed on TCGA-EI-6507_MSIH_x2560_y18944_patch00061.png: [Errno 2] No such file or directory: 'D'\n",
      "❌ Failed on TCGA-EI-6507_MSIH_x2560_y19456_patch00062.png: [Errno 2] No such file or directory: 'D'\n",
      "❌ Failed on TCGA-EI-6507_MSIH_x2560_y19968_patch00063.png: [Errno 2] No such file or directory: 'D'\n",
      "❌ Failed on TCGA-EI-6507_MSIH_x2560_y20480_patch00064.png: [Errno 2] No such file or directory: 'D'\n",
      "❌ Failed on TCGA-EI-6507_MSIH_x2560_y20992_patch00065.png: [Errno 2] No such file or directory: 'D'\n",
      "❌ Failed on TCGA-EI-6507_MSIH_x2560_y21504_patch00066.png: [Errno 2] No such file or directory: 'D'\n",
      "❌ Failed on TCGA-EI-6507_MSIH_x2560_y22016_patch00067.png: [Errno 2] No such file or directory: 'D'\n",
      "❌ Failed on TCGA-EI-6507_MSIH_x2560_y22528_patch00068.png: [Errno 2] No such file or directory: 'D'\n",
      "❌ Failed on TCGA-EI-6507_MSIH_x2560_y23040_patch00069.png: [Errno 2] No such file or directory: 'D'\n",
      "❌ Failed on TCGA-EI-6507_MSIH_x2560_y23552_patch00070.png: [Errno 2] No such file or directory: 'D'\n",
      "❌ Failed on TCGA-EI-6507_MSIH_x2560_y24064_patch00071.png: [Errno 2] No such file or directory: 'D'\n",
      "❌ Failed on TCGA-EI-6507_MSIH_x2560_y24576_patch00072.png: [Errno 2] No such file or directory: 'D'\n",
      "❌ Failed on TCGA-EI-6507_MSIH_x2560_y25088_patch00073.png: [Errno 2] No such file or directory: 'D'\n",
      "❌ Failed on TCGA-EI-6507_MSIH_x26112_y10240_patch02413.png: [Errno 2] No such file or directory: 'D'\n",
      "❌ Failed on TCGA-EI-6507_MSIH_x26112_y10752_patch02414.png: [Errno 2] No such file or directory: 'D'\n",
      "❌ Failed on TCGA-EI-6507_MSIH_x26112_y11264_patch02415.png: [Errno 2] No such file or directory: 'D'\n",
      "❌ Failed on TCGA-EI-6507_MSIH_x26112_y13312_patch02416.png: [Errno 2] No such file or directory: 'D'\n",
      "❌ Failed on TCGA-EI-6507_MSIH_x26112_y13824_patch02417.png: [Errno 2] No such file or directory: 'D'\n",
      "❌ Failed on TCGA-EI-6507_MSIH_x26112_y14336_patch02418.png: [Errno 2] No such file or directory: 'D'\n",
      "❌ Failed on TCGA-EI-6507_MSIH_x26112_y14848_patch02419.png: [Errno 2] No such file or directory: 'D'\n",
      "❌ Failed on TCGA-EI-6507_MSIH_x26112_y15360_patch02420.png: [Errno 2] No such file or directory: 'D'\n",
      "❌ Failed on TCGA-EI-6507_MSIH_x26112_y1536_patch02396.png: [Errno 2] No such file or directory: 'D'\n",
      "❌ Failed on TCGA-EI-6507_MSIH_x26112_y15872_patch02421.png: [Errno 2] No such file or directory: 'D'\n",
      "❌ Failed on TCGA-EI-6507_MSIH_x26112_y16384_patch02422.png: [Errno 2] No such file or directory: 'D'\n",
      "❌ Failed on TCGA-EI-6507_MSIH_x26112_y16896_patch02423.png: [Errno 2] No such file or directory: 'D'\n",
      "❌ Failed on TCGA-EI-6507_MSIH_x26112_y17408_patch02424.png: [Errno 2] No such file or directory: 'D'\n",
      "❌ Failed on TCGA-EI-6507_MSIH_x26112_y17920_patch02425.png: [Errno 2] No such file or directory: 'D'\n",
      "❌ Failed on TCGA-EI-6507_MSIH_x26112_y18432_patch02426.png: [Errno 2] No such file or directory: 'D'\n",
      "❌ Failed on TCGA-EI-6507_MSIH_x26112_y18944_patch02427.png: [Errno 2] No such file or directory: 'D'\n",
      "❌ Failed on TCGA-EI-6507_MSIH_x26112_y19456_patch02428.png: [Errno 2] No such file or directory: 'D'\n",
      "❌ Failed on TCGA-EI-6507_MSIH_x26112_y19968_patch02429.png: [Errno 2] No such file or directory: 'D'\n",
      "❌ Failed on TCGA-EI-6507_MSIH_x26112_y20480_patch02430.png: [Errno 2] No such file or directory: 'D'\n",
      "❌ Failed on TCGA-EI-6507_MSIH_x26112_y2048_patch02397.png: [Errno 2] No such file or directory: 'D'\n",
      "❌ Failed on TCGA-EI-6507_MSIH_x26112_y20992_patch02431.png: [Errno 2] No such file or directory: 'D'\n",
      "❌ Failed on TCGA-EI-6507_MSIH_x26112_y21504_patch02432.png: [Errno 2] No such file or directory: 'D'\n",
      "❌ Failed on TCGA-EI-6507_MSIH_x26112_y22016_patch02433.png: [Errno 2] No such file or directory: 'D'\n",
      "❌ Failed on TCGA-EI-6507_MSIH_x26112_y22528_patch02434.png: [Errno 2] No such file or directory: 'D'\n",
      "❌ Failed on TCGA-EI-6507_MSIH_x26112_y23040_patch02435.png: [Errno 2] No such file or directory: 'D'\n",
      "❌ Failed on TCGA-EI-6507_MSIH_x26112_y23552_patch02436.png: [Errno 2] No such file or directory: 'D'\n",
      "❌ Failed on TCGA-EI-6507_MSIH_x26112_y24064_patch02437.png: [Errno 2] No such file or directory: 'D'\n",
      "❌ Failed on TCGA-EI-6507_MSIH_x26112_y24576_patch02438.png: [Errno 2] No such file or directory: 'D'\n",
      "❌ Failed on TCGA-EI-6507_MSIH_x26112_y25088_patch02439.png: [Errno 2] No such file or directory: 'D'\n",
      "❌ Failed on TCGA-EI-6507_MSIH_x26112_y25600_patch02440.png: [Errno 2] No such file or directory: 'D'\n",
      "❌ Failed on TCGA-EI-6507_MSIH_x26112_y2560_patch02398.png: [Errno 2] No such file or directory: 'D'\n",
      "❌ Failed on TCGA-EI-6507_MSIH_x26112_y26112_patch02441.png: [Errno 2] No such file or directory: 'D'\n",
      "❌ Failed on TCGA-EI-6507_MSIH_x26112_y26624_patch02442.png: [Errno 2] No such file or directory: 'D'\n",
      "❌ Failed on TCGA-EI-6507_MSIH_x26112_y27136_patch02443.png: [Errno 2] No such file or directory: 'D'\n",
      "❌ Failed on TCGA-EI-6507_MSIH_x26112_y27648_patch02444.png: [Errno 2] No such file or directory: 'D'\n",
      "❌ Failed on TCGA-EI-6507_MSIH_x26112_y28160_patch02445.png: [Errno 2] No such file or directory: 'D'\n",
      "❌ Failed on TCGA-EI-6507_MSIH_x26112_y28672_patch02446.png: [Errno 2] No such file or directory: 'D'\n",
      "❌ Failed on TCGA-EI-6507_MSIH_x26112_y29184_patch02447.png: [Errno 2] No such file or directory: 'D'\n",
      "❌ Failed on TCGA-EI-6507_MSIH_x26112_y29696_patch02448.png: [Errno 2] No such file or directory: 'D'\n",
      "❌ Failed on TCGA-EI-6507_MSIH_x26112_y30208_patch02449.png: [Errno 2] No such file or directory: 'D'\n",
      "❌ Failed on TCGA-EI-6507_MSIH_x26112_y30720_patch02450.png: [Errno 2] No such file or directory: 'D'\n",
      "❌ Failed on TCGA-EI-6507_MSIH_x26112_y3072_patch02399.png: [Errno 2] No such file or directory: 'D'\n",
      "❌ Failed on TCGA-EI-6507_MSIH_x26112_y31232_patch02451.png: [Errno 2] No such file or directory: 'D'\n",
      "❌ Failed on TCGA-EI-6507_MSIH_x26112_y31744_patch02452.png: [Errno 2] No such file or directory: 'D'\n",
      "❌ Failed on TCGA-EI-6507_MSIH_x26112_y32256_patch02453.png: [Errno 2] No such file or directory: 'D'\n",
      "❌ Failed on TCGA-EI-6507_MSIH_x26112_y32768_patch02454.png: [Errno 2] No such file or directory: 'D'\n",
      "❌ Failed on TCGA-EI-6507_MSIH_x26112_y33280_patch02455.png: [Errno 2] No such file or directory: 'D'\n",
      "❌ Failed on TCGA-EI-6507_MSIH_x26112_y33792_patch02456.png: [Errno 2] No such file or directory: 'D'\n",
      "❌ Failed on TCGA-EI-6507_MSIH_x26112_y34304_patch02457.png: [Errno 2] No such file or directory: 'D'\n",
      "❌ Failed on TCGA-EI-6507_MSIH_x26112_y3584_patch02400.png: [Errno 2] No such file or directory: 'D'\n",
      "❌ Failed on TCGA-EI-6507_MSIH_x26112_y4096_patch02401.png: [Errno 2] No such file or directory: 'D'\n",
      "❌ Failed on TCGA-EI-6507_MSIH_x26112_y4608_patch02402.png: [Errno 2] No such file or directory: 'D'\n",
      "❌ Failed on TCGA-EI-6507_MSIH_x26112_y5120_patch02403.png: [Errno 2] No such file or directory: 'D'\n",
      "❌ Failed on TCGA-EI-6507_MSIH_x26112_y5632_patch02404.png: [Errno 2] No such file or directory: 'D'\n",
      "❌ Failed on TCGA-EI-6507_MSIH_x26112_y6144_patch02405.png: [Errno 2] No such file or directory: 'D'\n",
      "❌ Failed on TCGA-EI-6507_MSIH_x26112_y6656_patch02406.png: [Errno 2] No such file or directory: 'D'\n",
      "❌ Failed on TCGA-EI-6507_MSIH_x26112_y7168_patch02407.png: [Errno 2] No such file or directory: 'D'\n",
      "❌ Failed on TCGA-EI-6507_MSIH_x26112_y7680_patch02408.png: [Errno 2] No such file or directory: 'D'\n",
      "❌ Failed on TCGA-EI-6507_MSIH_x26112_y8192_patch02409.png: [Errno 2] No such file or directory: 'D'\n",
      "❌ Failed on TCGA-EI-6507_MSIH_x26112_y8704_patch02410.png: [Errno 2] No such file or directory: 'D'\n",
      "❌ Failed on TCGA-EI-6507_MSIH_x26112_y9216_patch02411.png: [Errno 2] No such file or directory: 'D'\n",
      "❌ Failed on TCGA-EI-6507_MSIH_x26112_y9728_patch02412.png: [Errno 2] No such file or directory: 'D'\n",
      "❌ Failed on TCGA-EI-6507_MSIH_x26624_y10240_patch02471.png: [Errno 2] No such file or directory: 'D'\n",
      "❌ Failed on TCGA-EI-6507_MSIH_x26624_y10752_patch02472.png: [Errno 2] No such file or directory: 'D'\n",
      "❌ Failed on TCGA-EI-6507_MSIH_x26624_y13312_patch02473.png: [Errno 2] No such file or directory: 'D'\n",
      "❌ Failed on TCGA-EI-6507_MSIH_x26624_y13824_patch02474.png: [Errno 2] No such file or directory: 'D'\n",
      "❌ Failed on TCGA-EI-6507_MSIH_x26624_y14336_patch02475.png: [Errno 2] No such file or directory: 'D'\n",
      "❌ Failed on TCGA-EI-6507_MSIH_x26624_y14848_patch02476.png: [Errno 2] No such file or directory: 'D'\n",
      "❌ Failed on TCGA-EI-6507_MSIH_x26624_y15360_patch02477.png: [Errno 2] No such file or directory: 'D'\n",
      "❌ Failed on TCGA-EI-6507_MSIH_x26624_y15872_patch02478.png: [Errno 2] No such file or directory: 'D'\n",
      "❌ Failed on TCGA-EI-6507_MSIH_x26624_y16384_patch02479.png: [Errno 2] No such file or directory: 'D'\n",
      "❌ Failed on TCGA-EI-6507_MSIH_x26624_y16896_patch02480.png: [Errno 2] No such file or directory: 'D'\n",
      "❌ Failed on TCGA-EI-6507_MSIH_x26624_y17408_patch02481.png: [Errno 2] No such file or directory: 'D'\n",
      "❌ Failed on TCGA-EI-6507_MSIH_x26624_y17920_patch02482.png: [Errno 2] No such file or directory: 'D'\n",
      "❌ Failed on TCGA-EI-6507_MSIH_x26624_y18432_patch02483.png: [Errno 2] No such file or directory: 'D'\n",
      "❌ Failed on TCGA-EI-6507_MSIH_x26624_y18944_patch02484.png: [Errno 2] No such file or directory: 'D'\n",
      "❌ Failed on TCGA-EI-6507_MSIH_x26624_y19456_patch02485.png: [Errno 2] No such file or directory: 'D'\n",
      "❌ Failed on TCGA-EI-6507_MSIH_x26624_y19968_patch02486.png: [Errno 2] No such file or directory: 'D'\n",
      "❌ Failed on TCGA-EI-6507_MSIH_x26624_y20480_patch02487.png: [Errno 2] No such file or directory: 'D'\n",
      "❌ Failed on TCGA-EI-6507_MSIH_x26624_y20992_patch02488.png: [Errno 2] No such file or directory: 'D'\n",
      "❌ Failed on TCGA-EI-6507_MSIH_x26624_y21504_patch02489.png: [Errno 2] No such file or directory: 'D'\n",
      "❌ Failed on TCGA-EI-6507_MSIH_x26624_y22016_patch02490.png: [Errno 2] No such file or directory: 'D'\n",
      "❌ Failed on TCGA-EI-6507_MSIH_x26624_y22528_patch02491.png: [Errno 2] No such file or directory: 'D'\n",
      "❌ Failed on TCGA-EI-6507_MSIH_x26624_y23040_patch02492.png: [Errno 2] No such file or directory: 'D'\n",
      "❌ Failed on TCGA-EI-6507_MSIH_x26624_y23552_patch02493.png: [Errno 2] No such file or directory: 'D'\n",
      "❌ Failed on TCGA-EI-6507_MSIH_x26624_y24064_patch02494.png: [Errno 2] No such file or directory: 'D'\n",
      "❌ Failed on TCGA-EI-6507_MSIH_x26624_y24576_patch02495.png: [Errno 2] No such file or directory: 'D'\n",
      "❌ Failed on TCGA-EI-6507_MSIH_x26624_y25088_patch02496.png: [Errno 2] No such file or directory: 'D'\n",
      "❌ Failed on TCGA-EI-6507_MSIH_x26624_y25600_patch02497.png: [Errno 2] No such file or directory: 'D'\n",
      "❌ Failed on TCGA-EI-6507_MSIH_x26624_y26112_patch02498.png: [Errno 2] No such file or directory: 'D'\n",
      "❌ Failed on TCGA-EI-6507_MSIH_x26624_y26624_patch02499.png: [Errno 2] No such file or directory: 'D'\n",
      "❌ Failed on TCGA-EI-6507_MSIH_x26624_y27136_patch02500.png: [Errno 2] No such file or directory: 'D'\n",
      "❌ Failed on TCGA-EI-6507_MSIH_x26624_y27648_patch02501.png: [Errno 2] No such file or directory: 'D'\n",
      "❌ Failed on TCGA-EI-6507_MSIH_x26624_y28160_patch02502.png: [Errno 2] No such file or directory: 'D'\n",
      "❌ Failed on TCGA-EI-6507_MSIH_x26624_y28672_patch02503.png: [Errno 2] No such file or directory: 'D'\n",
      "❌ Failed on TCGA-EI-6507_MSIH_x26624_y29184_patch02504.png: [Errno 2] No such file or directory: 'D'\n",
      "❌ Failed on TCGA-EI-6507_MSIH_x26624_y29696_patch02505.png: [Errno 2] No such file or directory: 'D'\n",
      "❌ Failed on TCGA-EI-6507_MSIH_x26624_y30208_patch02506.png: [Errno 2] No such file or directory: 'D'\n",
      "❌ Failed on TCGA-EI-6507_MSIH_x26624_y30720_patch02507.png: [Errno 2] No such file or directory: 'D'\n",
      "❌ Failed on TCGA-EI-6507_MSIH_x26624_y31232_patch02508.png: [Errno 2] No such file or directory: 'D'\n",
      "❌ Failed on TCGA-EI-6507_MSIH_x26624_y31744_patch02509.png: [Errno 2] No such file or directory: 'D'\n",
      "❌ Failed on TCGA-EI-6507_MSIH_x26624_y32256_patch02510.png: [Errno 2] No such file or directory: 'D'\n",
      "❌ Failed on TCGA-EI-6507_MSIH_x26624_y32768_patch02511.png: [Errno 2] No such file or directory: 'D'\n",
      "❌ Failed on TCGA-EI-6507_MSIH_x26624_y33280_patch02512.png: [Errno 2] No such file or directory: 'D'\n",
      "❌ Failed on TCGA-EI-6507_MSIH_x26624_y33792_patch02513.png: [Errno 2] No such file or directory: 'D'\n",
      "❌ Failed on TCGA-EI-6507_MSIH_x26624_y34304_patch02514.png: [Errno 2] No such file or directory: 'D'\n",
      "❌ Failed on TCGA-EI-6507_MSIH_x26624_y3584_patch02458.png: [Errno 2] No such file or directory: 'D'\n",
      "❌ Failed on TCGA-EI-6507_MSIH_x26624_y4096_patch02459.png: [Errno 2] No such file or directory: 'D'\n",
      "❌ Failed on TCGA-EI-6507_MSIH_x26624_y4608_patch02460.png: [Errno 2] No such file or directory: 'D'\n",
      "❌ Failed on TCGA-EI-6507_MSIH_x26624_y5120_patch02461.png: [Errno 2] No such file or directory: 'D'\n",
      "❌ Failed on TCGA-EI-6507_MSIH_x26624_y5632_patch02462.png: [Errno 2] No such file or directory: 'D'\n",
      "❌ Failed on TCGA-EI-6507_MSIH_x26624_y6144_patch02463.png: [Errno 2] No such file or directory: 'D'\n",
      "❌ Failed on TCGA-EI-6507_MSIH_x26624_y6656_patch02464.png: [Errno 2] No such file or directory: 'D'\n",
      "❌ Failed on TCGA-EI-6507_MSIH_x26624_y7168_patch02465.png: [Errno 2] No such file or directory: 'D'\n",
      "❌ Failed on TCGA-EI-6507_MSIH_x26624_y7680_patch02466.png: [Errno 2] No such file or directory: 'D'\n",
      "❌ Failed on TCGA-EI-6507_MSIH_x26624_y8192_patch02467.png: [Errno 2] No such file or directory: 'D'\n",
      "❌ Failed on TCGA-EI-6507_MSIH_x26624_y8704_patch02468.png: [Errno 2] No such file or directory: 'D'\n",
      "❌ Failed on TCGA-EI-6507_MSIH_x26624_y9216_patch02469.png: [Errno 2] No such file or directory: 'D'\n",
      "❌ Failed on TCGA-EI-6507_MSIH_x26624_y9728_patch02470.png: [Errno 2] No such file or directory: 'D'\n",
      "❌ Failed on TCGA-EI-6507_MSIH_x27136_y13312_patch02527.png: [Errno 2] No such file or directory: 'D'\n",
      "❌ Failed on TCGA-EI-6507_MSIH_x27136_y13824_patch02528.png: [Errno 2] No such file or directory: 'D'\n",
      "❌ Failed on TCGA-EI-6507_MSIH_x27136_y14336_patch02529.png: [Errno 2] No such file or directory: 'D'\n",
      "❌ Failed on TCGA-EI-6507_MSIH_x27136_y14848_patch02530.png: [Errno 2] No such file or directory: 'D'\n",
      "❌ Failed on TCGA-EI-6507_MSIH_x27136_y15360_patch02531.png: [Errno 2] No such file or directory: 'D'\n",
      "❌ Failed on TCGA-EI-6507_MSIH_x27136_y15872_patch02532.png: [Errno 2] No such file or directory: 'D'\n",
      "❌ Failed on TCGA-EI-6507_MSIH_x27136_y16384_patch02533.png: [Errno 2] No such file or directory: 'D'\n",
      "❌ Failed on TCGA-EI-6507_MSIH_x27136_y16896_patch02534.png: [Errno 2] No such file or directory: 'D'\n",
      "❌ Failed on TCGA-EI-6507_MSIH_x27136_y17408_patch02535.png: [Errno 2] No such file or directory: 'D'\n",
      "❌ Failed on TCGA-EI-6507_MSIH_x27136_y17920_patch02536.png: [Errno 2] No such file or directory: 'D'\n",
      "❌ Failed on TCGA-EI-6507_MSIH_x27136_y18432_patch02537.png: [Errno 2] No such file or directory: 'D'\n",
      "❌ Failed on TCGA-EI-6507_MSIH_x27136_y18944_patch02538.png: [Errno 2] No such file or directory: 'D'\n",
      "❌ Failed on TCGA-EI-6507_MSIH_x27136_y19456_patch02539.png: [Errno 2] No such file or directory: 'D'\n",
      "❌ Failed on TCGA-EI-6507_MSIH_x27136_y19968_patch02540.png: [Errno 2] No such file or directory: 'D'\n",
      "❌ Failed on TCGA-EI-6507_MSIH_x27136_y20480_patch02541.png: [Errno 2] No such file or directory: 'D'\n",
      "❌ Failed on TCGA-EI-6507_MSIH_x27136_y20992_patch02542.png: [Errno 2] No such file or directory: 'D'\n",
      "❌ Failed on TCGA-EI-6507_MSIH_x27136_y21504_patch02543.png: [Errno 2] No such file or directory: 'D'\n",
      "❌ Failed on TCGA-EI-6507_MSIH_x27136_y22016_patch02544.png: [Errno 2] No such file or directory: 'D'\n",
      "❌ Failed on TCGA-EI-6507_MSIH_x27136_y22528_patch02545.png: [Errno 2] No such file or directory: 'D'\n",
      "❌ Failed on TCGA-EI-6507_MSIH_x27136_y23040_patch02546.png: [Errno 2] No such file or directory: 'D'\n",
      "❌ Failed on TCGA-EI-6507_MSIH_x27136_y23552_patch02547.png: [Errno 2] No such file or directory: 'D'\n",
      "❌ Failed on TCGA-EI-6507_MSIH_x27136_y24064_patch02548.png: [Errno 2] No such file or directory: 'D'\n",
      "❌ Failed on TCGA-EI-6507_MSIH_x27136_y24576_patch02549.png: [Errno 2] No such file or directory: 'D'\n",
      "❌ Failed on TCGA-EI-6507_MSIH_x27136_y25088_patch02550.png: [Errno 2] No such file or directory: 'D'\n",
      "❌ Failed on TCGA-EI-6507_MSIH_x27136_y25600_patch02551.png: [Errno 2] No such file or directory: 'D'\n",
      "❌ Failed on TCGA-EI-6507_MSIH_x27136_y26112_patch02552.png: [Errno 2] No such file or directory: 'D'\n",
      "❌ Failed on TCGA-EI-6507_MSIH_x27136_y26624_patch02553.png: [Errno 2] No such file or directory: 'D'\n",
      "❌ Failed on TCGA-EI-6507_MSIH_x27136_y27136_patch02554.png: [Errno 2] No such file or directory: 'D'\n",
      "❌ Failed on TCGA-EI-6507_MSIH_x27136_y27648_patch02555.png: [Errno 2] No such file or directory: 'D'\n",
      "❌ Failed on TCGA-EI-6507_MSIH_x27136_y28160_patch02556.png: [Errno 2] No such file or directory: 'D'\n",
      "❌ Failed on TCGA-EI-6507_MSIH_x27136_y28672_patch02557.png: [Errno 2] No such file or directory: 'D'\n",
      "❌ Failed on TCGA-EI-6507_MSIH_x27136_y29184_patch02558.png: [Errno 2] No such file or directory: 'D'\n",
      "❌ Failed on TCGA-EI-6507_MSIH_x27136_y29696_patch02559.png: [Errno 2] No such file or directory: 'D'\n",
      "❌ Failed on TCGA-EI-6507_MSIH_x27136_y30208_patch02560.png: [Errno 2] No such file or directory: 'D'\n",
      "❌ Failed on TCGA-EI-6507_MSIH_x27136_y30720_patch02561.png: [Errno 2] No such file or directory: 'D'\n",
      "❌ Failed on TCGA-EI-6507_MSIH_x27136_y31232_patch02562.png: [Errno 2] No such file or directory: 'D'\n",
      "❌ Failed on TCGA-EI-6507_MSIH_x27136_y31744_patch02563.png: [Errno 2] No such file or directory: 'D'\n",
      "❌ Failed on TCGA-EI-6507_MSIH_x27136_y32256_patch02564.png: [Errno 2] No such file or directory: 'D'\n",
      "❌ Failed on TCGA-EI-6507_MSIH_x27136_y32768_patch02565.png: [Errno 2] No such file or directory: 'D'\n",
      "❌ Failed on TCGA-EI-6507_MSIH_x27136_y33280_patch02566.png: [Errno 2] No such file or directory: 'D'\n",
      "❌ Failed on TCGA-EI-6507_MSIH_x27136_y33792_patch02567.png: [Errno 2] No such file or directory: 'D'\n",
      "❌ Failed on TCGA-EI-6507_MSIH_x27136_y4096_patch02515.png: [Errno 2] No such file or directory: 'D'\n",
      "❌ Failed on TCGA-EI-6507_MSIH_x27136_y4608_patch02516.png: [Errno 2] No such file or directory: 'D'\n",
      "❌ Failed on TCGA-EI-6507_MSIH_x27136_y5120_patch02517.png: [Errno 2] No such file or directory: 'D'\n",
      "❌ Failed on TCGA-EI-6507_MSIH_x27136_y5632_patch02518.png: [Errno 2] No such file or directory: 'D'\n",
      "❌ Failed on TCGA-EI-6507_MSIH_x27136_y6144_patch02519.png: [Errno 2] No such file or directory: 'D'\n",
      "❌ Failed on TCGA-EI-6507_MSIH_x27136_y6656_patch02520.png: [Errno 2] No such file or directory: 'D'\n",
      "❌ Failed on TCGA-EI-6507_MSIH_x27136_y7168_patch02521.png: [Errno 2] No such file or directory: 'D'\n",
      "❌ Failed on TCGA-EI-6507_MSIH_x27136_y7680_patch02522.png: [Errno 2] No such file or directory: 'D'\n",
      "❌ Failed on TCGA-EI-6507_MSIH_x27136_y8192_patch02523.png: [Errno 2] No such file or directory: 'D'\n",
      "❌ Failed on TCGA-EI-6507_MSIH_x27136_y8704_patch02524.png: [Errno 2] No such file or directory: 'D'\n",
      "❌ Failed on TCGA-EI-6507_MSIH_x27136_y9216_patch02525.png: [Errno 2] No such file or directory: 'D'\n",
      "❌ Failed on TCGA-EI-6507_MSIH_x27136_y9728_patch02526.png: [Errno 2] No such file or directory: 'D'\n",
      "❌ Failed on TCGA-EI-6507_MSIH_x27648_y12800_patch02578.png: [Errno 2] No such file or directory: 'D'\n",
      "❌ Failed on TCGA-EI-6507_MSIH_x27648_y13312_patch02579.png: [Errno 2] No such file or directory: 'D'\n",
      "❌ Failed on TCGA-EI-6507_MSIH_x27648_y13824_patch02580.png: [Errno 2] No such file or directory: 'D'\n",
      "❌ Failed on TCGA-EI-6507_MSIH_x27648_y14336_patch02581.png: [Errno 2] No such file or directory: 'D'\n",
      "❌ Failed on TCGA-EI-6507_MSIH_x27648_y14848_patch02582.png: [Errno 2] No such file or directory: 'D'\n",
      "❌ Failed on TCGA-EI-6507_MSIH_x27648_y15360_patch02583.png: [Errno 2] No such file or directory: 'D'\n",
      "❌ Failed on TCGA-EI-6507_MSIH_x27648_y15872_patch02584.png: [Errno 2] No such file or directory: 'D'\n",
      "❌ Failed on TCGA-EI-6507_MSIH_x27648_y16384_patch02585.png: [Errno 2] No such file or directory: 'D'\n",
      "❌ Failed on TCGA-EI-6507_MSIH_x27648_y16896_patch02586.png: [Errno 2] No such file or directory: 'D'\n",
      "❌ Failed on TCGA-EI-6507_MSIH_x27648_y17408_patch02587.png: [Errno 2] No such file or directory: 'D'\n",
      "❌ Failed on TCGA-EI-6507_MSIH_x27648_y17920_patch02588.png: [Errno 2] No such file or directory: 'D'\n",
      "❌ Failed on TCGA-EI-6507_MSIH_x27648_y18432_patch02589.png: [Errno 2] No such file or directory: 'D'\n",
      "❌ Failed on TCGA-EI-6507_MSIH_x27648_y18944_patch02590.png: [Errno 2] No such file or directory: 'D'\n",
      "❌ Failed on TCGA-EI-6507_MSIH_x27648_y19456_patch02591.png: [Errno 2] No such file or directory: 'D'\n",
      "❌ Failed on TCGA-EI-6507_MSIH_x27648_y19968_patch02592.png: [Errno 2] No such file or directory: 'D'\n",
      "❌ Failed on TCGA-EI-6507_MSIH_x27648_y20480_patch02593.png: [Errno 2] No such file or directory: 'D'\n",
      "❌ Failed on TCGA-EI-6507_MSIH_x27648_y20992_patch02594.png: [Errno 2] No such file or directory: 'D'\n",
      "❌ Failed on TCGA-EI-6507_MSIH_x27648_y21504_patch02595.png: [Errno 2] No such file or directory: 'D'\n",
      "❌ Failed on TCGA-EI-6507_MSIH_x27648_y22016_patch02596.png: [Errno 2] No such file or directory: 'D'\n",
      "❌ Failed on TCGA-EI-6507_MSIH_x27648_y22528_patch02597.png: [Errno 2] No such file or directory: 'D'\n",
      "❌ Failed on TCGA-EI-6507_MSIH_x27648_y23040_patch02598.png: [Errno 2] No such file or directory: 'D'\n",
      "❌ Failed on TCGA-EI-6507_MSIH_x27648_y23552_patch02599.png: [Errno 2] No such file or directory: 'D'\n",
      "❌ Failed on TCGA-EI-6507_MSIH_x27648_y24064_patch02600.png: [Errno 2] No such file or directory: 'D'\n",
      "❌ Failed on TCGA-EI-6507_MSIH_x27648_y24576_patch02601.png: [Errno 2] No such file or directory: 'D'\n",
      "❌ Failed on TCGA-EI-6507_MSIH_x27648_y25088_patch02602.png: [Errno 2] No such file or directory: 'D'\n",
      "❌ Failed on TCGA-EI-6507_MSIH_x27648_y25600_patch02603.png: [Errno 2] No such file or directory: 'D'\n",
      "❌ Failed on TCGA-EI-6507_MSIH_x27648_y26112_patch02604.png: [Errno 2] No such file or directory: 'D'\n",
      "❌ Failed on TCGA-EI-6507_MSIH_x27648_y26624_patch02605.png: [Errno 2] No such file or directory: 'D'\n",
      "❌ Failed on TCGA-EI-6507_MSIH_x27648_y27136_patch02606.png: [Errno 2] No such file or directory: 'D'\n",
      "❌ Failed on TCGA-EI-6507_MSIH_x27648_y27648_patch02607.png: [Errno 2] No such file or directory: 'D'\n",
      "❌ Failed on TCGA-EI-6507_MSIH_x27648_y28160_patch02608.png: [Errno 2] No such file or directory: 'D'\n",
      "❌ Failed on TCGA-EI-6507_MSIH_x27648_y28672_patch02609.png: [Errno 2] No such file or directory: 'D'\n",
      "❌ Failed on TCGA-EI-6507_MSIH_x27648_y29184_patch02610.png: [Errno 2] No such file or directory: 'D'\n",
      "❌ Failed on TCGA-EI-6507_MSIH_x27648_y29696_patch02611.png: [Errno 2] No such file or directory: 'D'\n",
      "❌ Failed on TCGA-EI-6507_MSIH_x27648_y30208_patch02612.png: [Errno 2] No such file or directory: 'D'\n",
      "❌ Failed on TCGA-EI-6507_MSIH_x27648_y30720_patch02613.png: [Errno 2] No such file or directory: 'D'\n",
      "❌ Failed on TCGA-EI-6507_MSIH_x27648_y31232_patch02614.png: [Errno 2] No such file or directory: 'D'\n",
      "❌ Failed on TCGA-EI-6507_MSIH_x27648_y31744_patch02615.png: [Errno 2] No such file or directory: 'D'\n",
      "❌ Failed on TCGA-EI-6507_MSIH_x27648_y32256_patch02616.png: [Errno 2] No such file or directory: 'D'\n",
      "❌ Failed on TCGA-EI-6507_MSIH_x27648_y32768_patch02617.png: [Errno 2] No such file or directory: 'D'\n",
      "❌ Failed on TCGA-EI-6507_MSIH_x27648_y33280_patch02618.png: [Errno 2] No such file or directory: 'D'\n",
      "❌ Failed on TCGA-EI-6507_MSIH_x27648_y33792_patch02619.png: [Errno 2] No such file or directory: 'D'\n",
      "❌ Failed on TCGA-EI-6507_MSIH_x27648_y4096_patch02568.png: [Errno 2] No such file or directory: 'D'\n",
      "❌ Failed on TCGA-EI-6507_MSIH_x27648_y4608_patch02569.png: [Errno 2] No such file or directory: 'D'\n",
      "❌ Failed on TCGA-EI-6507_MSIH_x27648_y5120_patch02570.png: [Errno 2] No such file or directory: 'D'\n",
      "❌ Failed on TCGA-EI-6507_MSIH_x27648_y5632_patch02571.png: [Errno 2] No such file or directory: 'D'\n",
      "❌ Failed on TCGA-EI-6507_MSIH_x27648_y6144_patch02572.png: [Errno 2] No such file or directory: 'D'\n",
      "❌ Failed on TCGA-EI-6507_MSIH_x27648_y6656_patch02573.png: [Errno 2] No such file or directory: 'D'\n",
      "❌ Failed on TCGA-EI-6507_MSIH_x27648_y7168_patch02574.png: [Errno 2] No such file or directory: 'D'\n",
      "❌ Failed on TCGA-EI-6507_MSIH_x27648_y7680_patch02575.png: [Errno 2] No such file or directory: 'D'\n",
      "❌ Failed on TCGA-EI-6507_MSIH_x27648_y8192_patch02576.png: [Errno 2] No such file or directory: 'D'\n",
      "❌ Failed on TCGA-EI-6507_MSIH_x27648_y8704_patch02577.png: [Errno 2] No such file or directory: 'D'\n",
      "❌ Failed on TCGA-EI-6507_MSIH_x28160_y12288_patch02630.png: [Errno 2] No such file or directory: 'D'\n",
      "❌ Failed on TCGA-EI-6507_MSIH_x28160_y12800_patch02631.png: [Errno 2] No such file or directory: 'D'\n",
      "❌ Failed on TCGA-EI-6507_MSIH_x28160_y13312_patch02632.png: [Errno 2] No such file or directory: 'D'\n",
      "❌ Failed on TCGA-EI-6507_MSIH_x28160_y13824_patch02633.png: [Errno 2] No such file or directory: 'D'\n",
      "❌ Failed on TCGA-EI-6507_MSIH_x28160_y14336_patch02634.png: [Errno 2] No such file or directory: 'D'\n",
      "❌ Failed on TCGA-EI-6507_MSIH_x28160_y14848_patch02635.png: [Errno 2] No such file or directory: 'D'\n",
      "❌ Failed on TCGA-EI-6507_MSIH_x28160_y15360_patch02636.png: [Errno 2] No such file or directory: 'D'\n",
      "❌ Failed on TCGA-EI-6507_MSIH_x28160_y15872_patch02637.png: [Errno 2] No such file or directory: 'D'\n",
      "❌ Failed on TCGA-EI-6507_MSIH_x28160_y16384_patch02638.png: [Errno 2] No such file or directory: 'D'\n",
      "❌ Failed on TCGA-EI-6507_MSIH_x28160_y16896_patch02639.png: [Errno 2] No such file or directory: 'D'\n",
      "❌ Failed on TCGA-EI-6507_MSIH_x28160_y17408_patch02640.png: [Errno 2] No such file or directory: 'D'\n",
      "❌ Failed on TCGA-EI-6507_MSIH_x28160_y17920_patch02641.png: [Errno 2] No such file or directory: 'D'\n",
      "❌ Failed on TCGA-EI-6507_MSIH_x28160_y18432_patch02642.png: [Errno 2] No such file or directory: 'D'\n",
      "❌ Failed on TCGA-EI-6507_MSIH_x28160_y18944_patch02643.png: [Errno 2] No such file or directory: 'D'\n",
      "❌ Failed on TCGA-EI-6507_MSIH_x28160_y19456_patch02644.png: [Errno 2] No such file or directory: 'D'\n",
      "❌ Failed on TCGA-EI-6507_MSIH_x28160_y19968_patch02645.png: [Errno 2] No such file or directory: 'D'\n",
      "❌ Failed on TCGA-EI-6507_MSIH_x28160_y20480_patch02646.png: [Errno 2] No such file or directory: 'D'\n",
      "❌ Failed on TCGA-EI-6507_MSIH_x28160_y20992_patch02647.png: [Errno 2] No such file or directory: 'D'\n",
      "❌ Failed on TCGA-EI-6507_MSIH_x28160_y21504_patch02648.png: [Errno 2] No such file or directory: 'D'\n",
      "❌ Failed on TCGA-EI-6507_MSIH_x28160_y22016_patch02649.png: [Errno 2] No such file or directory: 'D'\n",
      "❌ Failed on TCGA-EI-6507_MSIH_x28160_y22528_patch02650.png: [Errno 2] No such file or directory: 'D'\n",
      "❌ Failed on TCGA-EI-6507_MSIH_x28160_y23040_patch02651.png: [Errno 2] No such file or directory: 'D'\n",
      "❌ Failed on TCGA-EI-6507_MSIH_x28160_y23552_patch02652.png: [Errno 2] No such file or directory: 'D'\n",
      "❌ Failed on TCGA-EI-6507_MSIH_x28160_y24064_patch02653.png: [Errno 2] No such file or directory: 'D'\n",
      "❌ Failed on TCGA-EI-6507_MSIH_x28160_y24576_patch02654.png: [Errno 2] No such file or directory: 'D'\n",
      "❌ Failed on TCGA-EI-6507_MSIH_x28160_y25088_patch02655.png: [Errno 2] No such file or directory: 'D'\n",
      "❌ Failed on TCGA-EI-6507_MSIH_x28160_y25600_patch02656.png: [Errno 2] No such file or directory: 'D'\n",
      "❌ Failed on TCGA-EI-6507_MSIH_x28160_y26112_patch02657.png: [Errno 2] No such file or directory: 'D'\n",
      "❌ Failed on TCGA-EI-6507_MSIH_x28160_y26624_patch02658.png: [Errno 2] No such file or directory: 'D'\n",
      "❌ Failed on TCGA-EI-6507_MSIH_x28160_y27136_patch02659.png: [Errno 2] No such file or directory: 'D'\n",
      "❌ Failed on TCGA-EI-6507_MSIH_x28160_y27648_patch02660.png: [Errno 2] No such file or directory: 'D'\n",
      "❌ Failed on TCGA-EI-6507_MSIH_x28160_y28160_patch02661.png: [Errno 2] No such file or directory: 'D'\n",
      "❌ Failed on TCGA-EI-6507_MSIH_x28160_y28672_patch02662.png: [Errno 2] No such file or directory: 'D'\n",
      "❌ Failed on TCGA-EI-6507_MSIH_x28160_y29184_patch02663.png: [Errno 2] No such file or directory: 'D'\n",
      "❌ Failed on TCGA-EI-6507_MSIH_x28160_y29696_patch02664.png: [Errno 2] No such file or directory: 'D'\n",
      "❌ Failed on TCGA-EI-6507_MSIH_x28160_y30208_patch02665.png: [Errno 2] No such file or directory: 'D'\n",
      "❌ Failed on TCGA-EI-6507_MSIH_x28160_y30720_patch02666.png: [Errno 2] No such file or directory: 'D'\n",
      "❌ Failed on TCGA-EI-6507_MSIH_x28160_y31232_patch02667.png: [Errno 2] No such file or directory: 'D'\n",
      "❌ Failed on TCGA-EI-6507_MSIH_x28160_y31744_patch02668.png: [Errno 2] No such file or directory: 'D'\n",
      "❌ Failed on TCGA-EI-6507_MSIH_x28160_y32256_patch02669.png: [Errno 2] No such file or directory: 'D'\n",
      "❌ Failed on TCGA-EI-6507_MSIH_x28160_y32768_patch02670.png: [Errno 2] No such file or directory: 'D'\n",
      "❌ Failed on TCGA-EI-6507_MSIH_x28160_y33280_patch02671.png: [Errno 2] No such file or directory: 'D'\n",
      "❌ Failed on TCGA-EI-6507_MSIH_x28160_y4096_patch02620.png: [Errno 2] No such file or directory: 'D'\n",
      "❌ Failed on TCGA-EI-6507_MSIH_x28160_y4608_patch02621.png: [Errno 2] No such file or directory: 'D'\n",
      "❌ Failed on TCGA-EI-6507_MSIH_x28160_y5120_patch02622.png: [Errno 2] No such file or directory: 'D'\n",
      "❌ Failed on TCGA-EI-6507_MSIH_x28160_y5632_patch02623.png: [Errno 2] No such file or directory: 'D'\n",
      "❌ Failed on TCGA-EI-6507_MSIH_x28160_y6144_patch02624.png: [Errno 2] No such file or directory: 'D'\n",
      "❌ Failed on TCGA-EI-6507_MSIH_x28160_y6656_patch02625.png: [Errno 2] No such file or directory: 'D'\n",
      "❌ Failed on TCGA-EI-6507_MSIH_x28160_y7168_patch02626.png: [Errno 2] No such file or directory: 'D'\n",
      "❌ Failed on TCGA-EI-6507_MSIH_x28160_y7680_patch02627.png: [Errno 2] No such file or directory: 'D'\n",
      "❌ Failed on TCGA-EI-6507_MSIH_x28160_y8192_patch02628.png: [Errno 2] No such file or directory: 'D'\n",
      "❌ Failed on TCGA-EI-6507_MSIH_x28160_y8704_patch02629.png: [Errno 2] No such file or directory: 'D'\n",
      "❌ Failed on TCGA-EI-6507_MSIH_x28672_y11264_patch02681.png: [Errno 2] No such file or directory: 'D'\n",
      "❌ Failed on TCGA-EI-6507_MSIH_x28672_y11776_patch02682.png: [Errno 2] No such file or directory: 'D'\n",
      "❌ Failed on TCGA-EI-6507_MSIH_x28672_y12288_patch02683.png: [Errno 2] No such file or directory: 'D'\n",
      "❌ Failed on TCGA-EI-6507_MSIH_x28672_y12800_patch02684.png: [Errno 2] No such file or directory: 'D'\n",
      "❌ Failed on TCGA-EI-6507_MSIH_x28672_y13312_patch02685.png: [Errno 2] No such file or directory: 'D'\n",
      "❌ Failed on TCGA-EI-6507_MSIH_x28672_y13824_patch02686.png: [Errno 2] No such file or directory: 'D'\n",
      "❌ Failed on TCGA-EI-6507_MSIH_x28672_y14336_patch02687.png: [Errno 2] No such file or directory: 'D'\n",
      "❌ Failed on TCGA-EI-6507_MSIH_x28672_y14848_patch02688.png: [Errno 2] No such file or directory: 'D'\n",
      "❌ Failed on TCGA-EI-6507_MSIH_x28672_y15360_patch02689.png: [Errno 2] No such file or directory: 'D'\n",
      "❌ Failed on TCGA-EI-6507_MSIH_x28672_y15872_patch02690.png: [Errno 2] No such file or directory: 'D'\n",
      "❌ Failed on TCGA-EI-6507_MSIH_x28672_y16384_patch02691.png: [Errno 2] No such file or directory: 'D'\n",
      "❌ Failed on TCGA-EI-6507_MSIH_x28672_y16896_patch02692.png: [Errno 2] No such file or directory: 'D'\n",
      "❌ Failed on TCGA-EI-6507_MSIH_x28672_y17408_patch02693.png: [Errno 2] No such file or directory: 'D'\n",
      "❌ Failed on TCGA-EI-6507_MSIH_x28672_y17920_patch02694.png: [Errno 2] No such file or directory: 'D'\n",
      "❌ Failed on TCGA-EI-6507_MSIH_x28672_y18432_patch02695.png: [Errno 2] No such file or directory: 'D'\n",
      "❌ Failed on TCGA-EI-6507_MSIH_x28672_y18944_patch02696.png: [Errno 2] No such file or directory: 'D'\n",
      "❌ Failed on TCGA-EI-6507_MSIH_x28672_y19456_patch02697.png: [Errno 2] No such file or directory: 'D'\n",
      "❌ Failed on TCGA-EI-6507_MSIH_x28672_y19968_patch02698.png: [Errno 2] No such file or directory: 'D'\n",
      "❌ Failed on TCGA-EI-6507_MSIH_x28672_y20480_patch02699.png: [Errno 2] No such file or directory: 'D'\n",
      "❌ Failed on TCGA-EI-6507_MSIH_x28672_y20992_patch02700.png: [Errno 2] No such file or directory: 'D'\n",
      "❌ Failed on TCGA-EI-6507_MSIH_x28672_y21504_patch02701.png: [Errno 2] No such file or directory: 'D'\n",
      "❌ Failed on TCGA-EI-6507_MSIH_x28672_y22016_patch02702.png: [Errno 2] No such file or directory: 'D'\n",
      "❌ Failed on TCGA-EI-6507_MSIH_x28672_y22528_patch02703.png: [Errno 2] No such file or directory: 'D'\n",
      "❌ Failed on TCGA-EI-6507_MSIH_x28672_y23040_patch02704.png: [Errno 2] No such file or directory: 'D'\n",
      "❌ Failed on TCGA-EI-6507_MSIH_x28672_y23552_patch02705.png: [Errno 2] No such file or directory: 'D'\n",
      "❌ Failed on TCGA-EI-6507_MSIH_x28672_y24064_patch02706.png: [Errno 2] No such file or directory: 'D'\n",
      "❌ Failed on TCGA-EI-6507_MSIH_x28672_y24576_patch02707.png: [Errno 2] No such file or directory: 'D'\n",
      "❌ Failed on TCGA-EI-6507_MSIH_x28672_y25088_patch02708.png: [Errno 2] No such file or directory: 'D'\n",
      "❌ Failed on TCGA-EI-6507_MSIH_x28672_y25600_patch02709.png: [Errno 2] No such file or directory: 'D'\n",
      "❌ Failed on TCGA-EI-6507_MSIH_x28672_y26112_patch02710.png: [Errno 2] No such file or directory: 'D'\n",
      "❌ Failed on TCGA-EI-6507_MSIH_x28672_y26624_patch02711.png: [Errno 2] No such file or directory: 'D'\n",
      "❌ Failed on TCGA-EI-6507_MSIH_x28672_y27136_patch02712.png: [Errno 2] No such file or directory: 'D'\n",
      "❌ Failed on TCGA-EI-6507_MSIH_x28672_y27648_patch02713.png: [Errno 2] No such file or directory: 'D'\n",
      "❌ Failed on TCGA-EI-6507_MSIH_x28672_y28160_patch02714.png: [Errno 2] No such file or directory: 'D'\n",
      "❌ Failed on TCGA-EI-6507_MSIH_x28672_y28672_patch02715.png: [Errno 2] No such file or directory: 'D'\n",
      "❌ Failed on TCGA-EI-6507_MSIH_x28672_y29184_patch02716.png: [Errno 2] No such file or directory: 'D'\n",
      "❌ Failed on TCGA-EI-6507_MSIH_x28672_y29696_patch02717.png: [Errno 2] No such file or directory: 'D'\n",
      "❌ Failed on TCGA-EI-6507_MSIH_x28672_y30208_patch02718.png: [Errno 2] No such file or directory: 'D'\n",
      "❌ Failed on TCGA-EI-6507_MSIH_x28672_y30720_patch02719.png: [Errno 2] No such file or directory: 'D'\n",
      "❌ Failed on TCGA-EI-6507_MSIH_x28672_y31232_patch02720.png: [Errno 2] No such file or directory: 'D'\n",
      "❌ Failed on TCGA-EI-6507_MSIH_x28672_y31744_patch02721.png: [Errno 2] No such file or directory: 'D'\n",
      "❌ Failed on TCGA-EI-6507_MSIH_x28672_y32256_patch02722.png: [Errno 2] No such file or directory: 'D'\n",
      "❌ Failed on TCGA-EI-6507_MSIH_x28672_y32768_patch02723.png: [Errno 2] No such file or directory: 'D'\n",
      "❌ Failed on TCGA-EI-6507_MSIH_x28672_y4608_patch02672.png: [Errno 2] No such file or directory: 'D'\n",
      "❌ Failed on TCGA-EI-6507_MSIH_x28672_y5120_patch02673.png: [Errno 2] No such file or directory: 'D'\n",
      "❌ Failed on TCGA-EI-6507_MSIH_x28672_y5632_patch02674.png: [Errno 2] No such file or directory: 'D'\n",
      "❌ Failed on TCGA-EI-6507_MSIH_x28672_y6144_patch02675.png: [Errno 2] No such file or directory: 'D'\n",
      "❌ Failed on TCGA-EI-6507_MSIH_x28672_y6656_patch02676.png: [Errno 2] No such file or directory: 'D'\n",
      "❌ Failed on TCGA-EI-6507_MSIH_x28672_y7168_patch02677.png: [Errno 2] No such file or directory: 'D'\n",
      "❌ Failed on TCGA-EI-6507_MSIH_x28672_y7680_patch02678.png: [Errno 2] No such file or directory: 'D'\n",
      "❌ Failed on TCGA-EI-6507_MSIH_x28672_y8192_patch02679.png: [Errno 2] No such file or directory: 'D'\n",
      "❌ Failed on TCGA-EI-6507_MSIH_x28672_y8704_patch02680.png: [Errno 2] No such file or directory: 'D'\n",
      "❌ Failed on TCGA-EI-6507_MSIH_x29184_y10240_patch02731.png: [Errno 2] No such file or directory: 'D'\n",
      "❌ Failed on TCGA-EI-6507_MSIH_x29184_y10752_patch02732.png: [Errno 2] No such file or directory: 'D'\n",
      "❌ Failed on TCGA-EI-6507_MSIH_x29184_y11264_patch02733.png: [Errno 2] No such file or directory: 'D'\n",
      "❌ Failed on TCGA-EI-6507_MSIH_x29184_y11776_patch02734.png: [Errno 2] No such file or directory: 'D'\n",
      "❌ Failed on TCGA-EI-6507_MSIH_x29184_y12288_patch02735.png: [Errno 2] No such file or directory: 'D'\n",
      "❌ Failed on TCGA-EI-6507_MSIH_x29184_y12800_patch02736.png: [Errno 2] No such file or directory: 'D'\n",
      "❌ Failed on TCGA-EI-6507_MSIH_x29184_y13312_patch02737.png: [Errno 2] No such file or directory: 'D'\n",
      "❌ Failed on TCGA-EI-6507_MSIH_x29184_y13824_patch02738.png: [Errno 2] No such file or directory: 'D'\n",
      "❌ Failed on TCGA-EI-6507_MSIH_x29184_y14336_patch02739.png: [Errno 2] No such file or directory: 'D'\n",
      "❌ Failed on TCGA-EI-6507_MSIH_x29184_y14848_patch02740.png: [Errno 2] No such file or directory: 'D'\n",
      "❌ Failed on TCGA-EI-6507_MSIH_x29184_y15360_patch02741.png: [Errno 2] No such file or directory: 'D'\n",
      "❌ Failed on TCGA-EI-6507_MSIH_x29184_y15872_patch02742.png: [Errno 2] No such file or directory: 'D'\n",
      "❌ Failed on TCGA-EI-6507_MSIH_x29184_y16384_patch02743.png: [Errno 2] No such file or directory: 'D'\n",
      "❌ Failed on TCGA-EI-6507_MSIH_x29184_y16896_patch02744.png: [Errno 2] No such file or directory: 'D'\n",
      "❌ Failed on TCGA-EI-6507_MSIH_x29184_y17408_patch02745.png: [Errno 2] No such file or directory: 'D'\n",
      "❌ Failed on TCGA-EI-6507_MSIH_x29184_y17920_patch02746.png: [Errno 2] No such file or directory: 'D'\n",
      "❌ Failed on TCGA-EI-6507_MSIH_x29184_y18432_patch02747.png: [Errno 2] No such file or directory: 'D'\n",
      "❌ Failed on TCGA-EI-6507_MSIH_x29184_y18944_patch02748.png: [Errno 2] No such file or directory: 'D'\n",
      "❌ Failed on TCGA-EI-6507_MSIH_x29184_y19456_patch02749.png: [Errno 2] No such file or directory: 'D'\n",
      "❌ Failed on TCGA-EI-6507_MSIH_x29184_y19968_patch02750.png: [Errno 2] No such file or directory: 'D'\n",
      "❌ Failed on TCGA-EI-6507_MSIH_x29184_y20480_patch02751.png: [Errno 2] No such file or directory: 'D'\n",
      "❌ Failed on TCGA-EI-6507_MSIH_x29184_y20992_patch02752.png: [Errno 2] No such file or directory: 'D'\n",
      "❌ Failed on TCGA-EI-6507_MSIH_x29184_y21504_patch02753.png: [Errno 2] No such file or directory: 'D'\n",
      "❌ Failed on TCGA-EI-6507_MSIH_x29184_y22016_patch02754.png: [Errno 2] No such file or directory: 'D'\n",
      "❌ Failed on TCGA-EI-6507_MSIH_x29184_y22528_patch02755.png: [Errno 2] No such file or directory: 'D'\n",
      "❌ Failed on TCGA-EI-6507_MSIH_x29184_y23040_patch02756.png: [Errno 2] No such file or directory: 'D'\n",
      "❌ Failed on TCGA-EI-6507_MSIH_x29184_y23552_patch02757.png: [Errno 2] No such file or directory: 'D'\n",
      "❌ Failed on TCGA-EI-6507_MSIH_x29184_y24064_patch02758.png: [Errno 2] No such file or directory: 'D'\n",
      "❌ Failed on TCGA-EI-6507_MSIH_x29184_y24576_patch02759.png: [Errno 2] No such file or directory: 'D'\n",
      "❌ Failed on TCGA-EI-6507_MSIH_x29184_y25088_patch02760.png: [Errno 2] No such file or directory: 'D'\n",
      "❌ Failed on TCGA-EI-6507_MSIH_x29184_y25600_patch02761.png: [Errno 2] No such file or directory: 'D'\n",
      "❌ Failed on TCGA-EI-6507_MSIH_x29184_y26112_patch02762.png: [Errno 2] No such file or directory: 'D'\n",
      "❌ Failed on TCGA-EI-6507_MSIH_x29184_y26624_patch02763.png: [Errno 2] No such file or directory: 'D'\n",
      "❌ Failed on TCGA-EI-6507_MSIH_x29184_y27136_patch02764.png: [Errno 2] No such file or directory: 'D'\n",
      "❌ Failed on TCGA-EI-6507_MSIH_x29184_y27648_patch02765.png: [Errno 2] No such file or directory: 'D'\n",
      "❌ Failed on TCGA-EI-6507_MSIH_x29184_y28160_patch02766.png: [Errno 2] No such file or directory: 'D'\n",
      "❌ Failed on TCGA-EI-6507_MSIH_x29184_y28672_patch02767.png: [Errno 2] No such file or directory: 'D'\n",
      "❌ Failed on TCGA-EI-6507_MSIH_x29184_y29184_patch02768.png: [Errno 2] No such file or directory: 'D'\n",
      "❌ Failed on TCGA-EI-6507_MSIH_x29184_y29696_patch02769.png: [Errno 2] No such file or directory: 'D'\n",
      "❌ Failed on TCGA-EI-6507_MSIH_x29184_y30208_patch02770.png: [Errno 2] No such file or directory: 'D'\n",
      "❌ Failed on TCGA-EI-6507_MSIH_x29184_y30720_patch02771.png: [Errno 2] No such file or directory: 'D'\n",
      "❌ Failed on TCGA-EI-6507_MSIH_x29184_y31232_patch02772.png: [Errno 2] No such file or directory: 'D'\n",
      "❌ Failed on TCGA-EI-6507_MSIH_x29184_y31744_patch02773.png: [Errno 2] No such file or directory: 'D'\n",
      "❌ Failed on TCGA-EI-6507_MSIH_x29184_y32256_patch02774.png: [Errno 2] No such file or directory: 'D'\n",
      "❌ Failed on TCGA-EI-6507_MSIH_x29184_y5120_patch02724.png: [Errno 2] No such file or directory: 'D'\n",
      "❌ Failed on TCGA-EI-6507_MSIH_x29184_y5632_patch02725.png: [Errno 2] No such file or directory: 'D'\n",
      "❌ Failed on TCGA-EI-6507_MSIH_x29184_y6144_patch02726.png: [Errno 2] No such file or directory: 'D'\n",
      "❌ Failed on TCGA-EI-6507_MSIH_x29184_y6656_patch02727.png: [Errno 2] No such file or directory: 'D'\n",
      "❌ Failed on TCGA-EI-6507_MSIH_x29184_y7168_patch02728.png: [Errno 2] No such file or directory: 'D'\n",
      "❌ Failed on TCGA-EI-6507_MSIH_x29184_y8192_patch02729.png: [Errno 2] No such file or directory: 'D'\n",
      "❌ Failed on TCGA-EI-6507_MSIH_x29184_y9728_patch02730.png: [Errno 2] No such file or directory: 'D'\n",
      "❌ Failed on TCGA-EI-6507_MSIH_x29696_y10240_patch02782.png: [Errno 2] No such file or directory: 'D'\n",
      "❌ Failed on TCGA-EI-6507_MSIH_x29696_y10752_patch02783.png: [Errno 2] No such file or directory: 'D'\n",
      "❌ Failed on TCGA-EI-6507_MSIH_x29696_y11264_patch02784.png: [Errno 2] No such file or directory: 'D'\n",
      "❌ Failed on TCGA-EI-6507_MSIH_x29696_y11776_patch02785.png: [Errno 2] No such file or directory: 'D'\n",
      "❌ Failed on TCGA-EI-6507_MSIH_x29696_y12288_patch02786.png: [Errno 2] No such file or directory: 'D'\n",
      "❌ Failed on TCGA-EI-6507_MSIH_x29696_y12800_patch02787.png: [Errno 2] No such file or directory: 'D'\n",
      "❌ Failed on TCGA-EI-6507_MSIH_x29696_y13312_patch02788.png: [Errno 2] No such file or directory: 'D'\n",
      "❌ Failed on TCGA-EI-6507_MSIH_x29696_y13824_patch02789.png: [Errno 2] No such file or directory: 'D'\n",
      "❌ Failed on TCGA-EI-6507_MSIH_x29696_y14336_patch02790.png: [Errno 2] No such file or directory: 'D'\n",
      "❌ Failed on TCGA-EI-6507_MSIH_x29696_y14848_patch02791.png: [Errno 2] No such file or directory: 'D'\n",
      "❌ Failed on TCGA-EI-6507_MSIH_x29696_y15360_patch02792.png: [Errno 2] No such file or directory: 'D'\n",
      "❌ Failed on TCGA-EI-6507_MSIH_x29696_y15872_patch02793.png: [Errno 2] No such file or directory: 'D'\n",
      "❌ Failed on TCGA-EI-6507_MSIH_x29696_y16384_patch02794.png: [Errno 2] No such file or directory: 'D'\n",
      "❌ Failed on TCGA-EI-6507_MSIH_x29696_y16896_patch02795.png: [Errno 2] No such file or directory: 'D'\n",
      "❌ Failed on TCGA-EI-6507_MSIH_x29696_y17408_patch02796.png: [Errno 2] No such file or directory: 'D'\n",
      "❌ Failed on TCGA-EI-6507_MSIH_x29696_y17920_patch02797.png: [Errno 2] No such file or directory: 'D'\n",
      "❌ Failed on TCGA-EI-6507_MSIH_x29696_y18432_patch02798.png: [Errno 2] No such file or directory: 'D'\n",
      "❌ Failed on TCGA-EI-6507_MSIH_x29696_y18944_patch02799.png: [Errno 2] No such file or directory: 'D'\n",
      "❌ Failed on TCGA-EI-6507_MSIH_x29696_y19456_patch02800.png: [Errno 2] No such file or directory: 'D'\n",
      "❌ Failed on TCGA-EI-6507_MSIH_x29696_y19968_patch02801.png: [Errno 2] No such file or directory: 'D'\n",
      "❌ Failed on TCGA-EI-6507_MSIH_x29696_y20480_patch02802.png: [Errno 2] No such file or directory: 'D'\n",
      "❌ Failed on TCGA-EI-6507_MSIH_x29696_y20992_patch02803.png: [Errno 2] No such file or directory: 'D'\n",
      "❌ Failed on TCGA-EI-6507_MSIH_x29696_y21504_patch02804.png: [Errno 2] No such file or directory: 'D'\n",
      "❌ Failed on TCGA-EI-6507_MSIH_x29696_y22016_patch02805.png: [Errno 2] No such file or directory: 'D'\n",
      "❌ Failed on TCGA-EI-6507_MSIH_x29696_y22528_patch02806.png: [Errno 2] No such file or directory: 'D'\n",
      "❌ Failed on TCGA-EI-6507_MSIH_x29696_y23040_patch02807.png: [Errno 2] No such file or directory: 'D'\n",
      "❌ Failed on TCGA-EI-6507_MSIH_x29696_y23552_patch02808.png: [Errno 2] No such file or directory: 'D'\n",
      "❌ Failed on TCGA-EI-6507_MSIH_x29696_y24064_patch02809.png: [Errno 2] No such file or directory: 'D'\n",
      "❌ Failed on TCGA-EI-6507_MSIH_x29696_y24576_patch02810.png: [Errno 2] No such file or directory: 'D'\n",
      "❌ Failed on TCGA-EI-6507_MSIH_x29696_y25088_patch02811.png: [Errno 2] No such file or directory: 'D'\n",
      "❌ Failed on TCGA-EI-6507_MSIH_x29696_y25600_patch02812.png: [Errno 2] No such file or directory: 'D'\n",
      "❌ Failed on TCGA-EI-6507_MSIH_x29696_y26112_patch02813.png: [Errno 2] No such file or directory: 'D'\n",
      "❌ Failed on TCGA-EI-6507_MSIH_x29696_y26624_patch02814.png: [Errno 2] No such file or directory: 'D'\n",
      "❌ Failed on TCGA-EI-6507_MSIH_x29696_y27136_patch02815.png: [Errno 2] No such file or directory: 'D'\n",
      "❌ Failed on TCGA-EI-6507_MSIH_x29696_y27648_patch02816.png: [Errno 2] No such file or directory: 'D'\n",
      "❌ Failed on TCGA-EI-6507_MSIH_x29696_y28160_patch02817.png: [Errno 2] No such file or directory: 'D'\n",
      "❌ Failed on TCGA-EI-6507_MSIH_x29696_y28672_patch02818.png: [Errno 2] No such file or directory: 'D'\n",
      "❌ Failed on TCGA-EI-6507_MSIH_x29696_y29184_patch02819.png: [Errno 2] No such file or directory: 'D'\n",
      "❌ Failed on TCGA-EI-6507_MSIH_x29696_y29696_patch02820.png: [Errno 2] No such file or directory: 'D'\n",
      "❌ Failed on TCGA-EI-6507_MSIH_x29696_y30208_patch02821.png: [Errno 2] No such file or directory: 'D'\n",
      "❌ Failed on TCGA-EI-6507_MSIH_x29696_y30720_patch02822.png: [Errno 2] No such file or directory: 'D'\n",
      "❌ Failed on TCGA-EI-6507_MSIH_x29696_y31232_patch02823.png: [Errno 2] No such file or directory: 'D'\n",
      "❌ Failed on TCGA-EI-6507_MSIH_x29696_y31744_patch02824.png: [Errno 2] No such file or directory: 'D'\n",
      "❌ Failed on TCGA-EI-6507_MSIH_x29696_y32256_patch02825.png: [Errno 2] No such file or directory: 'D'\n",
      "❌ Failed on TCGA-EI-6507_MSIH_x29696_y5120_patch02775.png: [Errno 2] No such file or directory: 'D'\n",
      "❌ Failed on TCGA-EI-6507_MSIH_x29696_y5632_patch02776.png: [Errno 2] No such file or directory: 'D'\n",
      "❌ Failed on TCGA-EI-6507_MSIH_x29696_y6144_patch02777.png: [Errno 2] No such file or directory: 'D'\n",
      "❌ Failed on TCGA-EI-6507_MSIH_x29696_y6656_patch02778.png: [Errno 2] No such file or directory: 'D'\n",
      "❌ Failed on TCGA-EI-6507_MSIH_x29696_y7168_patch02779.png: [Errno 2] No such file or directory: 'D'\n",
      "❌ Failed on TCGA-EI-6507_MSIH_x29696_y9216_patch02780.png: [Errno 2] No such file or directory: 'D'\n",
      "❌ Failed on TCGA-EI-6507_MSIH_x29696_y9728_patch02781.png: [Errno 2] No such file or directory: 'D'\n",
      "❌ Failed on TCGA-EI-6507_MSIH_x30208_y10240_patch02833.png: [Errno 2] No such file or directory: 'D'\n",
      "❌ Failed on TCGA-EI-6507_MSIH_x30208_y10752_patch02834.png: [Errno 2] No such file or directory: 'D'\n",
      "❌ Failed on TCGA-EI-6507_MSIH_x30208_y11776_patch02835.png: [Errno 2] No such file or directory: 'D'\n",
      "❌ Failed on TCGA-EI-6507_MSIH_x30208_y12288_patch02836.png: [Errno 2] No such file or directory: 'D'\n",
      "❌ Failed on TCGA-EI-6507_MSIH_x30208_y12800_patch02837.png: [Errno 2] No such file or directory: 'D'\n",
      "❌ Failed on TCGA-EI-6507_MSIH_x30208_y13312_patch02838.png: [Errno 2] No such file or directory: 'D'\n",
      "❌ Failed on TCGA-EI-6507_MSIH_x30208_y13824_patch02839.png: [Errno 2] No such file or directory: 'D'\n",
      "❌ Failed on TCGA-EI-6507_MSIH_x30208_y14336_patch02840.png: [Errno 2] No such file or directory: 'D'\n",
      "❌ Failed on TCGA-EI-6507_MSIH_x30208_y14848_patch02841.png: [Errno 2] No such file or directory: 'D'\n",
      "❌ Failed on TCGA-EI-6507_MSIH_x30208_y15360_patch02842.png: [Errno 2] No such file or directory: 'D'\n",
      "❌ Failed on TCGA-EI-6507_MSIH_x30208_y15872_patch02843.png: [Errno 2] No such file or directory: 'D'\n",
      "❌ Failed on TCGA-EI-6507_MSIH_x30208_y16384_patch02844.png: [Errno 2] No such file or directory: 'D'\n",
      "❌ Failed on TCGA-EI-6507_MSIH_x30208_y16896_patch02845.png: [Errno 2] No such file or directory: 'D'\n",
      "❌ Failed on TCGA-EI-6507_MSIH_x30208_y17408_patch02846.png: [Errno 2] No such file or directory: 'D'\n",
      "❌ Failed on TCGA-EI-6507_MSIH_x30208_y17920_patch02847.png: [Errno 2] No such file or directory: 'D'\n",
      "❌ Failed on TCGA-EI-6507_MSIH_x30208_y18432_patch02848.png: [Errno 2] No such file or directory: 'D'\n",
      "❌ Failed on TCGA-EI-6507_MSIH_x30208_y18944_patch02849.png: [Errno 2] No such file or directory: 'D'\n",
      "❌ Failed on TCGA-EI-6507_MSIH_x30208_y19456_patch02850.png: [Errno 2] No such file or directory: 'D'\n",
      "❌ Failed on TCGA-EI-6507_MSIH_x30208_y19968_patch02851.png: [Errno 2] No such file or directory: 'D'\n",
      "❌ Failed on TCGA-EI-6507_MSIH_x30208_y20480_patch02852.png: [Errno 2] No such file or directory: 'D'\n",
      "❌ Failed on TCGA-EI-6507_MSIH_x30208_y20992_patch02853.png: [Errno 2] No such file or directory: 'D'\n",
      "❌ Failed on TCGA-EI-6507_MSIH_x30208_y21504_patch02854.png: [Errno 2] No such file or directory: 'D'\n",
      "❌ Failed on TCGA-EI-6507_MSIH_x30208_y22016_patch02855.png: [Errno 2] No such file or directory: 'D'\n",
      "❌ Failed on TCGA-EI-6507_MSIH_x30208_y22528_patch02856.png: [Errno 2] No such file or directory: 'D'\n",
      "❌ Failed on TCGA-EI-6507_MSIH_x30208_y23040_patch02857.png: [Errno 2] No such file or directory: 'D'\n",
      "❌ Failed on TCGA-EI-6507_MSIH_x30208_y23552_patch02858.png: [Errno 2] No such file or directory: 'D'\n",
      "❌ Failed on TCGA-EI-6507_MSIH_x30208_y24064_patch02859.png: [Errno 2] No such file or directory: 'D'\n",
      "❌ Failed on TCGA-EI-6507_MSIH_x30208_y24576_patch02860.png: [Errno 2] No such file or directory: 'D'\n",
      "❌ Failed on TCGA-EI-6507_MSIH_x30208_y25088_patch02861.png: [Errno 2] No such file or directory: 'D'\n",
      "❌ Failed on TCGA-EI-6507_MSIH_x30208_y25600_patch02862.png: [Errno 2] No such file or directory: 'D'\n",
      "❌ Failed on TCGA-EI-6507_MSIH_x30208_y26112_patch02863.png: [Errno 2] No such file or directory: 'D'\n",
      "❌ Failed on TCGA-EI-6507_MSIH_x30208_y26624_patch02864.png: [Errno 2] No such file or directory: 'D'\n",
      "❌ Failed on TCGA-EI-6507_MSIH_x30208_y27136_patch02865.png: [Errno 2] No such file or directory: 'D'\n",
      "❌ Failed on TCGA-EI-6507_MSIH_x30208_y27648_patch02866.png: [Errno 2] No such file or directory: 'D'\n",
      "❌ Failed on TCGA-EI-6507_MSIH_x30208_y28160_patch02867.png: [Errno 2] No such file or directory: 'D'\n",
      "❌ Failed on TCGA-EI-6507_MSIH_x30208_y28672_patch02868.png: [Errno 2] No such file or directory: 'D'\n",
      "❌ Failed on TCGA-EI-6507_MSIH_x30208_y29184_patch02869.png: [Errno 2] No such file or directory: 'D'\n",
      "❌ Failed on TCGA-EI-6507_MSIH_x30208_y29696_patch02870.png: [Errno 2] No such file or directory: 'D'\n",
      "❌ Failed on TCGA-EI-6507_MSIH_x30208_y30208_patch02871.png: [Errno 2] No such file or directory: 'D'\n",
      "❌ Failed on TCGA-EI-6507_MSIH_x30208_y30720_patch02872.png: [Errno 2] No such file or directory: 'D'\n",
      "❌ Failed on TCGA-EI-6507_MSIH_x30208_y31232_patch02873.png: [Errno 2] No such file or directory: 'D'\n",
      "❌ Failed on TCGA-EI-6507_MSIH_x30208_y31744_patch02874.png: [Errno 2] No such file or directory: 'D'\n",
      "❌ Failed on TCGA-EI-6507_MSIH_x30208_y5632_patch02826.png: [Errno 2] No such file or directory: 'D'\n",
      "❌ Failed on TCGA-EI-6507_MSIH_x30208_y6144_patch02827.png: [Errno 2] No such file or directory: 'D'\n",
      "❌ Failed on TCGA-EI-6507_MSIH_x30208_y6656_patch02828.png: [Errno 2] No such file or directory: 'D'\n",
      "❌ Failed on TCGA-EI-6507_MSIH_x30208_y7168_patch02829.png: [Errno 2] No such file or directory: 'D'\n",
      "❌ Failed on TCGA-EI-6507_MSIH_x30208_y7680_patch02830.png: [Errno 2] No such file or directory: 'D'\n",
      "❌ Failed on TCGA-EI-6507_MSIH_x30208_y9216_patch02831.png: [Errno 2] No such file or directory: 'D'\n",
      "❌ Failed on TCGA-EI-6507_MSIH_x30208_y9728_patch02832.png: [Errno 2] No such file or directory: 'D'\n",
      "❌ Failed on TCGA-EI-6507_MSIH_x30720_y10240_patch02882.png: [Errno 2] No such file or directory: 'D'\n",
      "❌ Failed on TCGA-EI-6507_MSIH_x30720_y10752_patch02883.png: [Errno 2] No such file or directory: 'D'\n",
      "❌ Failed on TCGA-EI-6507_MSIH_x30720_y11776_patch02884.png: [Errno 2] No such file or directory: 'D'\n",
      "❌ Failed on TCGA-EI-6507_MSIH_x30720_y12288_patch02885.png: [Errno 2] No such file or directory: 'D'\n",
      "❌ Failed on TCGA-EI-6507_MSIH_x30720_y12800_patch02886.png: [Errno 2] No such file or directory: 'D'\n",
      "❌ Failed on TCGA-EI-6507_MSIH_x30720_y13312_patch02887.png: [Errno 2] No such file or directory: 'D'\n",
      "❌ Failed on TCGA-EI-6507_MSIH_x30720_y13824_patch02888.png: [Errno 2] No such file or directory: 'D'\n",
      "❌ Failed on TCGA-EI-6507_MSIH_x30720_y14336_patch02889.png: [Errno 2] No such file or directory: 'D'\n",
      "❌ Failed on TCGA-EI-6507_MSIH_x30720_y14848_patch02890.png: [Errno 2] No such file or directory: 'D'\n",
      "❌ Failed on TCGA-EI-6507_MSIH_x30720_y15360_patch02891.png: [Errno 2] No such file or directory: 'D'\n",
      "❌ Failed on TCGA-EI-6507_MSIH_x30720_y15872_patch02892.png: [Errno 2] No such file or directory: 'D'\n",
      "❌ Failed on TCGA-EI-6507_MSIH_x30720_y16384_patch02893.png: [Errno 2] No such file or directory: 'D'\n",
      "❌ Failed on TCGA-EI-6507_MSIH_x30720_y16896_patch02894.png: [Errno 2] No such file or directory: 'D'\n",
      "❌ Failed on TCGA-EI-6507_MSIH_x30720_y17408_patch02895.png: [Errno 2] No such file or directory: 'D'\n",
      "❌ Failed on TCGA-EI-6507_MSIH_x30720_y17920_patch02896.png: [Errno 2] No such file or directory: 'D'\n",
      "❌ Failed on TCGA-EI-6507_MSIH_x30720_y18432_patch02897.png: [Errno 2] No such file or directory: 'D'\n",
      "❌ Failed on TCGA-EI-6507_MSIH_x30720_y18944_patch02898.png: [Errno 2] No such file or directory: 'D'\n",
      "❌ Failed on TCGA-EI-6507_MSIH_x30720_y19456_patch02899.png: [Errno 2] No such file or directory: 'D'\n",
      "❌ Failed on TCGA-EI-6507_MSIH_x30720_y19968_patch02900.png: [Errno 2] No such file or directory: 'D'\n",
      "❌ Failed on TCGA-EI-6507_MSIH_x30720_y20480_patch02901.png: [Errno 2] No such file or directory: 'D'\n",
      "❌ Failed on TCGA-EI-6507_MSIH_x30720_y20992_patch02902.png: [Errno 2] No such file or directory: 'D'\n",
      "❌ Failed on TCGA-EI-6507_MSIH_x30720_y21504_patch02903.png: [Errno 2] No such file or directory: 'D'\n",
      "❌ Failed on TCGA-EI-6507_MSIH_x30720_y22016_patch02904.png: [Errno 2] No such file or directory: 'D'\n",
      "❌ Failed on TCGA-EI-6507_MSIH_x30720_y22528_patch02905.png: [Errno 2] No such file or directory: 'D'\n",
      "❌ Failed on TCGA-EI-6507_MSIH_x30720_y23040_patch02906.png: [Errno 2] No such file or directory: 'D'\n",
      "❌ Failed on TCGA-EI-6507_MSIH_x30720_y23552_patch02907.png: [Errno 2] No such file or directory: 'D'\n",
      "❌ Failed on TCGA-EI-6507_MSIH_x30720_y24064_patch02908.png: [Errno 2] No such file or directory: 'D'\n",
      "❌ Failed on TCGA-EI-6507_MSIH_x30720_y24576_patch02909.png: [Errno 2] No such file or directory: 'D'\n",
      "❌ Failed on TCGA-EI-6507_MSIH_x30720_y25088_patch02910.png: [Errno 2] No such file or directory: 'D'\n",
      "❌ Failed on TCGA-EI-6507_MSIH_x30720_y25600_patch02911.png: [Errno 2] No such file or directory: 'D'\n",
      "❌ Failed on TCGA-EI-6507_MSIH_x30720_y26112_patch02912.png: [Errno 2] No such file or directory: 'D'\n",
      "❌ Failed on TCGA-EI-6507_MSIH_x30720_y26624_patch02913.png: [Errno 2] No such file or directory: 'D'\n",
      "❌ Failed on TCGA-EI-6507_MSIH_x30720_y27136_patch02914.png: [Errno 2] No such file or directory: 'D'\n",
      "❌ Failed on TCGA-EI-6507_MSIH_x30720_y27648_patch02915.png: [Errno 2] No such file or directory: 'D'\n",
      "❌ Failed on TCGA-EI-6507_MSIH_x30720_y28160_patch02916.png: [Errno 2] No such file or directory: 'D'\n",
      "❌ Failed on TCGA-EI-6507_MSIH_x30720_y28672_patch02917.png: [Errno 2] No such file or directory: 'D'\n",
      "❌ Failed on TCGA-EI-6507_MSIH_x30720_y29184_patch02918.png: [Errno 2] No such file or directory: 'D'\n",
      "❌ Failed on TCGA-EI-6507_MSIH_x30720_y29696_patch02919.png: [Errno 2] No such file or directory: 'D'\n",
      "❌ Failed on TCGA-EI-6507_MSIH_x30720_y30208_patch02920.png: [Errno 2] No such file or directory: 'D'\n",
      "❌ Failed on TCGA-EI-6507_MSIH_x30720_y30720_patch02921.png: [Errno 2] No such file or directory: 'D'\n",
      "❌ Failed on TCGA-EI-6507_MSIH_x30720_y31232_patch02922.png: [Errno 2] No such file or directory: 'D'\n",
      "❌ Failed on TCGA-EI-6507_MSIH_x30720_y31744_patch02923.png: [Errno 2] No such file or directory: 'D'\n",
      "❌ Failed on TCGA-EI-6507_MSIH_x30720_y6144_patch02875.png: [Errno 2] No such file or directory: 'D'\n",
      "❌ Failed on TCGA-EI-6507_MSIH_x30720_y6656_patch02876.png: [Errno 2] No such file or directory: 'D'\n",
      "❌ Failed on TCGA-EI-6507_MSIH_x30720_y7168_patch02877.png: [Errno 2] No such file or directory: 'D'\n",
      "❌ Failed on TCGA-EI-6507_MSIH_x30720_y7680_patch02878.png: [Errno 2] No such file or directory: 'D'\n",
      "❌ Failed on TCGA-EI-6507_MSIH_x30720_y8704_patch02879.png: [Errno 2] No such file or directory: 'D'\n",
      "❌ Failed on TCGA-EI-6507_MSIH_x30720_y9216_patch02880.png: [Errno 2] No such file or directory: 'D'\n",
      "❌ Failed on TCGA-EI-6507_MSIH_x30720_y9728_patch02881.png: [Errno 2] No such file or directory: 'D'\n",
      "❌ Failed on TCGA-EI-6507_MSIH_x3072_y15872_patch00074.png: [Errno 2] No such file or directory: 'D'\n",
      "❌ Failed on TCGA-EI-6507_MSIH_x3072_y16384_patch00075.png: [Errno 2] No such file or directory: 'D'\n",
      "❌ Failed on TCGA-EI-6507_MSIH_x3072_y17920_patch00076.png: [Errno 2] No such file or directory: 'D'\n",
      "❌ Failed on TCGA-EI-6507_MSIH_x3072_y18432_patch00077.png: [Errno 2] No such file or directory: 'D'\n",
      "❌ Failed on TCGA-EI-6507_MSIH_x3072_y18944_patch00078.png: [Errno 2] No such file or directory: 'D'\n",
      "❌ Failed on TCGA-EI-6507_MSIH_x3072_y19456_patch00079.png: [Errno 2] No such file or directory: 'D'\n",
      "❌ Failed on TCGA-EI-6507_MSIH_x3072_y19968_patch00080.png: [Errno 2] No such file or directory: 'D'\n",
      "❌ Failed on TCGA-EI-6507_MSIH_x3072_y20480_patch00081.png: [Errno 2] No such file or directory: 'D'\n",
      "❌ Failed on TCGA-EI-6507_MSIH_x3072_y20992_patch00082.png: [Errno 2] No such file or directory: 'D'\n",
      "❌ Failed on TCGA-EI-6507_MSIH_x3072_y21504_patch00083.png: [Errno 2] No such file or directory: 'D'\n",
      "❌ Failed on TCGA-EI-6507_MSIH_x3072_y22016_patch00084.png: [Errno 2] No such file or directory: 'D'\n",
      "❌ Failed on TCGA-EI-6507_MSIH_x3072_y22528_patch00085.png: [Errno 2] No such file or directory: 'D'\n",
      "❌ Failed on TCGA-EI-6507_MSIH_x3072_y23040_patch00086.png: [Errno 2] No such file or directory: 'D'\n",
      "❌ Failed on TCGA-EI-6507_MSIH_x3072_y23552_patch00087.png: [Errno 2] No such file or directory: 'D'\n",
      "❌ Failed on TCGA-EI-6507_MSIH_x3072_y24064_patch00088.png: [Errno 2] No such file or directory: 'D'\n",
      "❌ Failed on TCGA-EI-6507_MSIH_x3072_y24576_patch00089.png: [Errno 2] No such file or directory: 'D'\n",
      "❌ Failed on TCGA-EI-6507_MSIH_x3072_y25088_patch00090.png: [Errno 2] No such file or directory: 'D'\n",
      "❌ Failed on TCGA-EI-6507_MSIH_x31232_y10240_patch02929.png: [Errno 2] No such file or directory: 'D'\n",
      "❌ Failed on TCGA-EI-6507_MSIH_x31232_y10752_patch02930.png: [Errno 2] No such file or directory: 'D'\n",
      "❌ Failed on TCGA-EI-6507_MSIH_x31232_y11264_patch02931.png: [Errno 2] No such file or directory: 'D'\n",
      "❌ Failed on TCGA-EI-6507_MSIH_x31232_y11776_patch02932.png: [Errno 2] No such file or directory: 'D'\n",
      "❌ Failed on TCGA-EI-6507_MSIH_x31232_y12288_patch02933.png: [Errno 2] No such file or directory: 'D'\n",
      "❌ Failed on TCGA-EI-6507_MSIH_x31232_y12800_patch02934.png: [Errno 2] No such file or directory: 'D'\n",
      "❌ Failed on TCGA-EI-6507_MSIH_x31232_y13312_patch02935.png: [Errno 2] No such file or directory: 'D'\n",
      "❌ Failed on TCGA-EI-6507_MSIH_x31232_y13824_patch02936.png: [Errno 2] No such file or directory: 'D'\n",
      "❌ Failed on TCGA-EI-6507_MSIH_x31232_y14336_patch02937.png: [Errno 2] No such file or directory: 'D'\n",
      "❌ Failed on TCGA-EI-6507_MSIH_x31232_y14848_patch02938.png: [Errno 2] No such file or directory: 'D'\n",
      "❌ Failed on TCGA-EI-6507_MSIH_x31232_y15360_patch02939.png: [Errno 2] No such file or directory: 'D'\n",
      "❌ Failed on TCGA-EI-6507_MSIH_x31232_y15872_patch02940.png: [Errno 2] No such file or directory: 'D'\n",
      "❌ Failed on TCGA-EI-6507_MSIH_x31232_y16384_patch02941.png: [Errno 2] No such file or directory: 'D'\n",
      "❌ Failed on TCGA-EI-6507_MSIH_x31232_y16896_patch02942.png: [Errno 2] No such file or directory: 'D'\n",
      "❌ Failed on TCGA-EI-6507_MSIH_x31232_y17408_patch02943.png: [Errno 2] No such file or directory: 'D'\n",
      "❌ Failed on TCGA-EI-6507_MSIH_x31232_y18432_patch02944.png: [Errno 2] No such file or directory: 'D'\n",
      "❌ Failed on TCGA-EI-6507_MSIH_x31232_y18944_patch02945.png: [Errno 2] No such file or directory: 'D'\n",
      "❌ Failed on TCGA-EI-6507_MSIH_x31232_y19456_patch02946.png: [Errno 2] No such file or directory: 'D'\n",
      "❌ Failed on TCGA-EI-6507_MSIH_x31232_y19968_patch02947.png: [Errno 2] No such file or directory: 'D'\n",
      "❌ Failed on TCGA-EI-6507_MSIH_x31232_y20480_patch02948.png: [Errno 2] No such file or directory: 'D'\n",
      "❌ Failed on TCGA-EI-6507_MSIH_x31232_y20992_patch02949.png: [Errno 2] No such file or directory: 'D'\n",
      "❌ Failed on TCGA-EI-6507_MSIH_x31232_y21504_patch02950.png: [Errno 2] No such file or directory: 'D'\n",
      "❌ Failed on TCGA-EI-6507_MSIH_x31232_y22016_patch02951.png: [Errno 2] No such file or directory: 'D'\n",
      "❌ Failed on TCGA-EI-6507_MSIH_x31232_y22528_patch02952.png: [Errno 2] No such file or directory: 'D'\n",
      "❌ Failed on TCGA-EI-6507_MSIH_x31232_y23040_patch02953.png: [Errno 2] No such file or directory: 'D'\n",
      "❌ Failed on TCGA-EI-6507_MSIH_x31232_y23552_patch02954.png: [Errno 2] No such file or directory: 'D'\n",
      "❌ Failed on TCGA-EI-6507_MSIH_x31232_y24064_patch02955.png: [Errno 2] No such file or directory: 'D'\n",
      "❌ Failed on TCGA-EI-6507_MSIH_x31232_y24576_patch02956.png: [Errno 2] No such file or directory: 'D'\n",
      "❌ Failed on TCGA-EI-6507_MSIH_x31232_y25088_patch02957.png: [Errno 2] No such file or directory: 'D'\n",
      "❌ Failed on TCGA-EI-6507_MSIH_x31232_y25600_patch02958.png: [Errno 2] No such file or directory: 'D'\n",
      "❌ Failed on TCGA-EI-6507_MSIH_x31232_y26112_patch02959.png: [Errno 2] No such file or directory: 'D'\n",
      "❌ Failed on TCGA-EI-6507_MSIH_x31232_y26624_patch02960.png: [Errno 2] No such file or directory: 'D'\n",
      "❌ Failed on TCGA-EI-6507_MSIH_x31232_y27136_patch02961.png: [Errno 2] No such file or directory: 'D'\n",
      "❌ Failed on TCGA-EI-6507_MSIH_x31232_y27648_patch02962.png: [Errno 2] No such file or directory: 'D'\n",
      "❌ Failed on TCGA-EI-6507_MSIH_x31232_y28160_patch02963.png: [Errno 2] No such file or directory: 'D'\n",
      "❌ Failed on TCGA-EI-6507_MSIH_x31232_y28672_patch02964.png: [Errno 2] No such file or directory: 'D'\n",
      "❌ Failed on TCGA-EI-6507_MSIH_x31232_y29184_patch02965.png: [Errno 2] No such file or directory: 'D'\n",
      "❌ Failed on TCGA-EI-6507_MSIH_x31232_y29696_patch02966.png: [Errno 2] No such file or directory: 'D'\n",
      "❌ Failed on TCGA-EI-6507_MSIH_x31232_y30208_patch02967.png: [Errno 2] No such file or directory: 'D'\n",
      "❌ Failed on TCGA-EI-6507_MSIH_x31232_y30720_patch02968.png: [Errno 2] No such file or directory: 'D'\n",
      "❌ Failed on TCGA-EI-6507_MSIH_x31232_y31232_patch02969.png: [Errno 2] No such file or directory: 'D'\n",
      "❌ Failed on TCGA-EI-6507_MSIH_x31232_y31744_patch02970.png: [Errno 2] No such file or directory: 'D'\n",
      "❌ Failed on TCGA-EI-6507_MSIH_x31232_y6656_patch02924.png: [Errno 2] No such file or directory: 'D'\n",
      "❌ Failed on TCGA-EI-6507_MSIH_x31232_y7168_patch02925.png: [Errno 2] No such file or directory: 'D'\n",
      "❌ Failed on TCGA-EI-6507_MSIH_x31232_y8704_patch02926.png: [Errno 2] No such file or directory: 'D'\n",
      "❌ Failed on TCGA-EI-6507_MSIH_x31232_y9216_patch02927.png: [Errno 2] No such file or directory: 'D'\n",
      "❌ Failed on TCGA-EI-6507_MSIH_x31232_y9728_patch02928.png: [Errno 2] No such file or directory: 'D'\n",
      "❌ Failed on TCGA-EI-6507_MSIH_x31744_y10240_patch02974.png: [Errno 2] No such file or directory: 'D'\n",
      "❌ Failed on TCGA-EI-6507_MSIH_x31744_y10752_patch02975.png: [Errno 2] No such file or directory: 'D'\n",
      "❌ Failed on TCGA-EI-6507_MSIH_x31744_y11264_patch02976.png: [Errno 2] No such file or directory: 'D'\n",
      "❌ Failed on TCGA-EI-6507_MSIH_x31744_y11776_patch02977.png: [Errno 2] No such file or directory: 'D'\n",
      "❌ Failed on TCGA-EI-6507_MSIH_x31744_y12288_patch02978.png: [Errno 2] No such file or directory: 'D'\n",
      "❌ Failed on TCGA-EI-6507_MSIH_x31744_y12800_patch02979.png: [Errno 2] No such file or directory: 'D'\n",
      "❌ Failed on TCGA-EI-6507_MSIH_x31744_y13312_patch02980.png: [Errno 2] No such file or directory: 'D'\n",
      "❌ Failed on TCGA-EI-6507_MSIH_x31744_y13824_patch02981.png: [Errno 2] No such file or directory: 'D'\n",
      "❌ Failed on TCGA-EI-6507_MSIH_x31744_y14336_patch02982.png: [Errno 2] No such file or directory: 'D'\n",
      "❌ Failed on TCGA-EI-6507_MSIH_x31744_y14848_patch02983.png: [Errno 2] No such file or directory: 'D'\n",
      "❌ Failed on TCGA-EI-6507_MSIH_x31744_y15360_patch02984.png: [Errno 2] No such file or directory: 'D'\n",
      "❌ Failed on TCGA-EI-6507_MSIH_x31744_y15872_patch02985.png: [Errno 2] No such file or directory: 'D'\n",
      "❌ Failed on TCGA-EI-6507_MSIH_x31744_y16384_patch02986.png: [Errno 2] No such file or directory: 'D'\n",
      "❌ Failed on TCGA-EI-6507_MSIH_x31744_y16896_patch02987.png: [Errno 2] No such file or directory: 'D'\n",
      "❌ Failed on TCGA-EI-6507_MSIH_x31744_y18432_patch02988.png: [Errno 2] No such file or directory: 'D'\n",
      "❌ Failed on TCGA-EI-6507_MSIH_x31744_y18944_patch02989.png: [Errno 2] No such file or directory: 'D'\n",
      "❌ Failed on TCGA-EI-6507_MSIH_x31744_y19456_patch02990.png: [Errno 2] No such file or directory: 'D'\n",
      "❌ Failed on TCGA-EI-6507_MSIH_x31744_y19968_patch02991.png: [Errno 2] No such file or directory: 'D'\n",
      "❌ Failed on TCGA-EI-6507_MSIH_x31744_y20480_patch02992.png: [Errno 2] No such file or directory: 'D'\n",
      "❌ Failed on TCGA-EI-6507_MSIH_x31744_y20992_patch02993.png: [Errno 2] No such file or directory: 'D'\n",
      "❌ Failed on TCGA-EI-6507_MSIH_x31744_y21504_patch02994.png: [Errno 2] No such file or directory: 'D'\n",
      "❌ Failed on TCGA-EI-6507_MSIH_x31744_y22016_patch02995.png: [Errno 2] No such file or directory: 'D'\n",
      "❌ Failed on TCGA-EI-6507_MSIH_x31744_y22528_patch02996.png: [Errno 2] No such file or directory: 'D'\n",
      "❌ Failed on TCGA-EI-6507_MSIH_x31744_y23040_patch02997.png: [Errno 2] No such file or directory: 'D'\n",
      "❌ Failed on TCGA-EI-6507_MSIH_x31744_y23552_patch02998.png: [Errno 2] No such file or directory: 'D'\n",
      "❌ Failed on TCGA-EI-6507_MSIH_x31744_y24064_patch02999.png: [Errno 2] No such file or directory: 'D'\n",
      "❌ Failed on TCGA-EI-6507_MSIH_x31744_y24576_patch03000.png: [Errno 2] No such file or directory: 'D'\n",
      "❌ Failed on TCGA-EI-6507_MSIH_x31744_y25088_patch03001.png: [Errno 2] No such file or directory: 'D'\n",
      "❌ Failed on TCGA-EI-6507_MSIH_x31744_y25600_patch03002.png: [Errno 2] No such file or directory: 'D'\n",
      "❌ Failed on TCGA-EI-6507_MSIH_x31744_y26112_patch03003.png: [Errno 2] No such file or directory: 'D'\n",
      "❌ Failed on TCGA-EI-6507_MSIH_x31744_y26624_patch03004.png: [Errno 2] No such file or directory: 'D'\n",
      "❌ Failed on TCGA-EI-6507_MSIH_x31744_y27136_patch03005.png: [Errno 2] No such file or directory: 'D'\n",
      "❌ Failed on TCGA-EI-6507_MSIH_x31744_y27648_patch03006.png: [Errno 2] No such file or directory: 'D'\n",
      "❌ Failed on TCGA-EI-6507_MSIH_x31744_y28160_patch03007.png: [Errno 2] No such file or directory: 'D'\n",
      "❌ Failed on TCGA-EI-6507_MSIH_x31744_y28672_patch03008.png: [Errno 2] No such file or directory: 'D'\n",
      "❌ Failed on TCGA-EI-6507_MSIH_x31744_y29184_patch03009.png: [Errno 2] No such file or directory: 'D'\n",
      "❌ Failed on TCGA-EI-6507_MSIH_x31744_y29696_patch03010.png: [Errno 2] No such file or directory: 'D'\n",
      "❌ Failed on TCGA-EI-6507_MSIH_x31744_y8704_patch02971.png: [Errno 2] No such file or directory: 'D'\n",
      "❌ Failed on TCGA-EI-6507_MSIH_x31744_y9216_patch02972.png: [Errno 2] No such file or directory: 'D'\n",
      "❌ Failed on TCGA-EI-6507_MSIH_x31744_y9728_patch02973.png: [Errno 2] No such file or directory: 'D'\n",
      "❌ Failed on TCGA-EI-6507_MSIH_x32256_y10240_patch03013.png: [Errno 2] No such file or directory: 'D'\n",
      "❌ Failed on TCGA-EI-6507_MSIH_x32256_y10752_patch03014.png: [Errno 2] No such file or directory: 'D'\n",
      "❌ Failed on TCGA-EI-6507_MSIH_x32256_y11264_patch03015.png: [Errno 2] No such file or directory: 'D'\n",
      "❌ Failed on TCGA-EI-6507_MSIH_x32256_y11776_patch03016.png: [Errno 2] No such file or directory: 'D'\n",
      "❌ Failed on TCGA-EI-6507_MSIH_x32256_y12288_patch03017.png: [Errno 2] No such file or directory: 'D'\n",
      "❌ Failed on TCGA-EI-6507_MSIH_x32256_y12800_patch03018.png: [Errno 2] No such file or directory: 'D'\n",
      "❌ Failed on TCGA-EI-6507_MSIH_x32256_y13312_patch03019.png: [Errno 2] No such file or directory: 'D'\n",
      "❌ Failed on TCGA-EI-6507_MSIH_x32256_y13824_patch03020.png: [Errno 2] No such file or directory: 'D'\n",
      "❌ Failed on TCGA-EI-6507_MSIH_x32256_y14336_patch03021.png: [Errno 2] No such file or directory: 'D'\n",
      "❌ Failed on TCGA-EI-6507_MSIH_x32256_y14848_patch03022.png: [Errno 2] No such file or directory: 'D'\n",
      "❌ Failed on TCGA-EI-6507_MSIH_x32256_y15360_patch03023.png: [Errno 2] No such file or directory: 'D'\n",
      "❌ Failed on TCGA-EI-6507_MSIH_x32256_y15872_patch03024.png: [Errno 2] No such file or directory: 'D'\n",
      "❌ Failed on TCGA-EI-6507_MSIH_x32256_y16384_patch03025.png: [Errno 2] No such file or directory: 'D'\n",
      "❌ Failed on TCGA-EI-6507_MSIH_x32256_y16896_patch03026.png: [Errno 2] No such file or directory: 'D'\n",
      "❌ Failed on TCGA-EI-6507_MSIH_x32256_y17408_patch03027.png: [Errno 2] No such file or directory: 'D'\n",
      "❌ Failed on TCGA-EI-6507_MSIH_x32256_y18432_patch03028.png: [Errno 2] No such file or directory: 'D'\n",
      "❌ Failed on TCGA-EI-6507_MSIH_x32256_y18944_patch03029.png: [Errno 2] No such file or directory: 'D'\n",
      "❌ Failed on TCGA-EI-6507_MSIH_x32256_y19456_patch03030.png: [Errno 2] No such file or directory: 'D'\n",
      "❌ Failed on TCGA-EI-6507_MSIH_x32256_y19968_patch03031.png: [Errno 2] No such file or directory: 'D'\n",
      "❌ Failed on TCGA-EI-6507_MSIH_x32256_y20480_patch03032.png: [Errno 2] No such file or directory: 'D'\n",
      "❌ Failed on TCGA-EI-6507_MSIH_x32256_y20992_patch03033.png: [Errno 2] No such file or directory: 'D'\n",
      "❌ Failed on TCGA-EI-6507_MSIH_x32256_y21504_patch03034.png: [Errno 2] No such file or directory: 'D'\n",
      "❌ Failed on TCGA-EI-6507_MSIH_x32256_y22016_patch03035.png: [Errno 2] No such file or directory: 'D'\n",
      "❌ Failed on TCGA-EI-6507_MSIH_x32256_y22528_patch03036.png: [Errno 2] No such file or directory: 'D'\n",
      "❌ Failed on TCGA-EI-6507_MSIH_x32256_y23040_patch03037.png: [Errno 2] No such file or directory: 'D'\n",
      "❌ Failed on TCGA-EI-6507_MSIH_x32256_y23552_patch03038.png: [Errno 2] No such file or directory: 'D'\n",
      "❌ Failed on TCGA-EI-6507_MSIH_x32256_y24064_patch03039.png: [Errno 2] No such file or directory: 'D'\n",
      "❌ Failed on TCGA-EI-6507_MSIH_x32256_y24576_patch03040.png: [Errno 2] No such file or directory: 'D'\n",
      "❌ Failed on TCGA-EI-6507_MSIH_x32256_y25088_patch03041.png: [Errno 2] No such file or directory: 'D'\n",
      "❌ Failed on TCGA-EI-6507_MSIH_x32256_y25600_patch03042.png: [Errno 2] No such file or directory: 'D'\n",
      "❌ Failed on TCGA-EI-6507_MSIH_x32256_y26112_patch03043.png: [Errno 2] No such file or directory: 'D'\n",
      "❌ Failed on TCGA-EI-6507_MSIH_x32256_y26624_patch03044.png: [Errno 2] No such file or directory: 'D'\n",
      "❌ Failed on TCGA-EI-6507_MSIH_x32256_y27136_patch03045.png: [Errno 2] No such file or directory: 'D'\n",
      "❌ Failed on TCGA-EI-6507_MSIH_x32256_y8704_patch03011.png: [Errno 2] No such file or directory: 'D'\n",
      "❌ Failed on TCGA-EI-6507_MSIH_x32256_y9216_patch03012.png: [Errno 2] No such file or directory: 'D'\n",
      "❌ Failed on TCGA-EI-6507_MSIH_x32768_y10240_patch03049.png: [Errno 2] No such file or directory: 'D'\n",
      "❌ Failed on TCGA-EI-6507_MSIH_x32768_y10752_patch03050.png: [Errno 2] No such file or directory: 'D'\n",
      "❌ Failed on TCGA-EI-6507_MSIH_x32768_y11264_patch03051.png: [Errno 2] No such file or directory: 'D'\n",
      "❌ Failed on TCGA-EI-6507_MSIH_x32768_y11776_patch03052.png: [Errno 2] No such file or directory: 'D'\n",
      "❌ Failed on TCGA-EI-6507_MSIH_x32768_y12288_patch03053.png: [Errno 2] No such file or directory: 'D'\n",
      "❌ Failed on TCGA-EI-6507_MSIH_x32768_y12800_patch03054.png: [Errno 2] No such file or directory: 'D'\n",
      "❌ Failed on TCGA-EI-6507_MSIH_x32768_y13312_patch03055.png: [Errno 2] No such file or directory: 'D'\n",
      "❌ Failed on TCGA-EI-6507_MSIH_x32768_y13824_patch03056.png: [Errno 2] No such file or directory: 'D'\n",
      "❌ Failed on TCGA-EI-6507_MSIH_x32768_y14336_patch03057.png: [Errno 2] No such file or directory: 'D'\n",
      "❌ Failed on TCGA-EI-6507_MSIH_x32768_y14848_patch03058.png: [Errno 2] No such file or directory: 'D'\n",
      "❌ Failed on TCGA-EI-6507_MSIH_x32768_y15360_patch03059.png: [Errno 2] No such file or directory: 'D'\n",
      "❌ Failed on TCGA-EI-6507_MSIH_x32768_y15872_patch03060.png: [Errno 2] No such file or directory: 'D'\n",
      "❌ Failed on TCGA-EI-6507_MSIH_x32768_y16384_patch03061.png: [Errno 2] No such file or directory: 'D'\n",
      "❌ Failed on TCGA-EI-6507_MSIH_x32768_y16896_patch03062.png: [Errno 2] No such file or directory: 'D'\n",
      "❌ Failed on TCGA-EI-6507_MSIH_x32768_y17408_patch03063.png: [Errno 2] No such file or directory: 'D'\n",
      "❌ Failed on TCGA-EI-6507_MSIH_x32768_y18432_patch03064.png: [Errno 2] No such file or directory: 'D'\n",
      "❌ Failed on TCGA-EI-6507_MSIH_x32768_y18944_patch03065.png: [Errno 2] No such file or directory: 'D'\n",
      "❌ Failed on TCGA-EI-6507_MSIH_x32768_y19456_patch03066.png: [Errno 2] No such file or directory: 'D'\n",
      "❌ Failed on TCGA-EI-6507_MSIH_x32768_y19968_patch03067.png: [Errno 2] No such file or directory: 'D'\n",
      "❌ Failed on TCGA-EI-6507_MSIH_x32768_y20480_patch03068.png: [Errno 2] No such file or directory: 'D'\n",
      "❌ Failed on TCGA-EI-6507_MSIH_x32768_y20992_patch03069.png: [Errno 2] No such file or directory: 'D'\n",
      "❌ Failed on TCGA-EI-6507_MSIH_x32768_y21504_patch03070.png: [Errno 2] No such file or directory: 'D'\n",
      "❌ Failed on TCGA-EI-6507_MSIH_x32768_y22016_patch03071.png: [Errno 2] No such file or directory: 'D'\n",
      "❌ Failed on TCGA-EI-6507_MSIH_x32768_y22528_patch03072.png: [Errno 2] No such file or directory: 'D'\n",
      "❌ Failed on TCGA-EI-6507_MSIH_x32768_y23040_patch03073.png: [Errno 2] No such file or directory: 'D'\n",
      "❌ Failed on TCGA-EI-6507_MSIH_x32768_y23552_patch03074.png: [Errno 2] No such file or directory: 'D'\n",
      "❌ Failed on TCGA-EI-6507_MSIH_x32768_y24064_patch03075.png: [Errno 2] No such file or directory: 'D'\n",
      "❌ Failed on TCGA-EI-6507_MSIH_x32768_y24576_patch03076.png: [Errno 2] No such file or directory: 'D'\n",
      "❌ Failed on TCGA-EI-6507_MSIH_x32768_y25088_patch03077.png: [Errno 2] No such file or directory: 'D'\n",
      "❌ Failed on TCGA-EI-6507_MSIH_x32768_y25600_patch03078.png: [Errno 2] No such file or directory: 'D'\n",
      "❌ Failed on TCGA-EI-6507_MSIH_x32768_y26112_patch03079.png: [Errno 2] No such file or directory: 'D'\n",
      "❌ Failed on TCGA-EI-6507_MSIH_x32768_y8704_patch03046.png: [Errno 2] No such file or directory: 'D'\n",
      "❌ Failed on TCGA-EI-6507_MSIH_x32768_y9216_patch03047.png: [Errno 2] No such file or directory: 'D'\n",
      "❌ Failed on TCGA-EI-6507_MSIH_x32768_y9728_patch03048.png: [Errno 2] No such file or directory: 'D'\n",
      "❌ Failed on TCGA-EI-6507_MSIH_x33280_y10240_patch03082.png: [Errno 2] No such file or directory: 'D'\n",
      "❌ Failed on TCGA-EI-6507_MSIH_x33280_y10752_patch03083.png: [Errno 2] No such file or directory: 'D'\n",
      "❌ Failed on TCGA-EI-6507_MSIH_x33280_y11264_patch03084.png: [Errno 2] No such file or directory: 'D'\n",
      "❌ Failed on TCGA-EI-6507_MSIH_x33280_y11776_patch03085.png: [Errno 2] No such file or directory: 'D'\n",
      "❌ Failed on TCGA-EI-6507_MSIH_x33280_y12288_patch03086.png: [Errno 2] No such file or directory: 'D'\n",
      "❌ Failed on TCGA-EI-6507_MSIH_x33280_y12800_patch03087.png: [Errno 2] No such file or directory: 'D'\n",
      "❌ Failed on TCGA-EI-6507_MSIH_x33280_y13312_patch03088.png: [Errno 2] No such file or directory: 'D'\n",
      "❌ Failed on TCGA-EI-6507_MSIH_x33280_y13824_patch03089.png: [Errno 2] No such file or directory: 'D'\n",
      "❌ Failed on TCGA-EI-6507_MSIH_x33280_y14336_patch03090.png: [Errno 2] No such file or directory: 'D'\n",
      "❌ Failed on TCGA-EI-6507_MSIH_x33280_y14848_patch03091.png: [Errno 2] No such file or directory: 'D'\n",
      "❌ Failed on TCGA-EI-6507_MSIH_x33280_y15360_patch03092.png: [Errno 2] No such file or directory: 'D'\n",
      "❌ Failed on TCGA-EI-6507_MSIH_x33280_y15872_patch03093.png: [Errno 2] No such file or directory: 'D'\n",
      "❌ Failed on TCGA-EI-6507_MSIH_x33280_y16384_patch03094.png: [Errno 2] No such file or directory: 'D'\n",
      "❌ Failed on TCGA-EI-6507_MSIH_x33280_y16896_patch03095.png: [Errno 2] No such file or directory: 'D'\n",
      "❌ Failed on TCGA-EI-6507_MSIH_x33280_y17408_patch03096.png: [Errno 2] No such file or directory: 'D'\n",
      "❌ Failed on TCGA-EI-6507_MSIH_x33280_y18944_patch03097.png: [Errno 2] No such file or directory: 'D'\n",
      "❌ Failed on TCGA-EI-6507_MSIH_x33280_y20480_patch03098.png: [Errno 2] No such file or directory: 'D'\n",
      "❌ Failed on TCGA-EI-6507_MSIH_x33280_y20992_patch03099.png: [Errno 2] No such file or directory: 'D'\n",
      "❌ Failed on TCGA-EI-6507_MSIH_x33280_y21504_patch03100.png: [Errno 2] No such file or directory: 'D'\n",
      "❌ Failed on TCGA-EI-6507_MSIH_x33280_y22016_patch03101.png: [Errno 2] No such file or directory: 'D'\n",
      "❌ Failed on TCGA-EI-6507_MSIH_x33280_y22528_patch03102.png: [Errno 2] No such file or directory: 'D'\n",
      "❌ Failed on TCGA-EI-6507_MSIH_x33280_y23040_patch03103.png: [Errno 2] No such file or directory: 'D'\n",
      "❌ Failed on TCGA-EI-6507_MSIH_x33280_y23552_patch03104.png: [Errno 2] No such file or directory: 'D'\n",
      "❌ Failed on TCGA-EI-6507_MSIH_x33280_y24064_patch03105.png: [Errno 2] No such file or directory: 'D'\n",
      "❌ Failed on TCGA-EI-6507_MSIH_x33280_y24576_patch03106.png: [Errno 2] No such file or directory: 'D'\n",
      "❌ Failed on TCGA-EI-6507_MSIH_x33280_y25088_patch03107.png: [Errno 2] No such file or directory: 'D'\n",
      "❌ Failed on TCGA-EI-6507_MSIH_x33280_y9216_patch03080.png: [Errno 2] No such file or directory: 'D'\n",
      "❌ Failed on TCGA-EI-6507_MSIH_x33280_y9728_patch03081.png: [Errno 2] No such file or directory: 'D'\n",
      "❌ Failed on TCGA-EI-6507_MSIH_x33792_y10240_patch03110.png: [Errno 2] No such file or directory: 'D'\n",
      "❌ Failed on TCGA-EI-6507_MSIH_x33792_y10752_patch03111.png: [Errno 2] No such file or directory: 'D'\n",
      "❌ Failed on TCGA-EI-6507_MSIH_x33792_y11264_patch03112.png: [Errno 2] No such file or directory: 'D'\n",
      "❌ Failed on TCGA-EI-6507_MSIH_x33792_y11776_patch03113.png: [Errno 2] No such file or directory: 'D'\n",
      "❌ Failed on TCGA-EI-6507_MSIH_x33792_y12288_patch03114.png: [Errno 2] No such file or directory: 'D'\n",
      "❌ Failed on TCGA-EI-6507_MSIH_x33792_y12800_patch03115.png: [Errno 2] No such file or directory: 'D'\n",
      "❌ Failed on TCGA-EI-6507_MSIH_x33792_y13312_patch03116.png: [Errno 2] No such file or directory: 'D'\n",
      "❌ Failed on TCGA-EI-6507_MSIH_x33792_y13824_patch03117.png: [Errno 2] No such file or directory: 'D'\n",
      "❌ Failed on TCGA-EI-6507_MSIH_x33792_y14336_patch03118.png: [Errno 2] No such file or directory: 'D'\n",
      "❌ Failed on TCGA-EI-6507_MSIH_x33792_y14848_patch03119.png: [Errno 2] No such file or directory: 'D'\n",
      "❌ Failed on TCGA-EI-6507_MSIH_x33792_y15360_patch03120.png: [Errno 2] No such file or directory: 'D'\n",
      "❌ Failed on TCGA-EI-6507_MSIH_x33792_y15872_patch03121.png: [Errno 2] No such file or directory: 'D'\n",
      "❌ Failed on TCGA-EI-6507_MSIH_x33792_y16384_patch03122.png: [Errno 2] No such file or directory: 'D'\n",
      "❌ Failed on TCGA-EI-6507_MSIH_x33792_y16896_patch03123.png: [Errno 2] No such file or directory: 'D'\n",
      "❌ Failed on TCGA-EI-6507_MSIH_x33792_y17408_patch03124.png: [Errno 2] No such file or directory: 'D'\n",
      "❌ Failed on TCGA-EI-6507_MSIH_x33792_y18944_patch03125.png: [Errno 2] No such file or directory: 'D'\n",
      "❌ Failed on TCGA-EI-6507_MSIH_x33792_y19456_patch03126.png: [Errno 2] No such file or directory: 'D'\n",
      "❌ Failed on TCGA-EI-6507_MSIH_x33792_y20480_patch03127.png: [Errno 2] No such file or directory: 'D'\n",
      "❌ Failed on TCGA-EI-6507_MSIH_x33792_y20992_patch03128.png: [Errno 2] No such file or directory: 'D'\n",
      "❌ Failed on TCGA-EI-6507_MSIH_x33792_y21504_patch03129.png: [Errno 2] No such file or directory: 'D'\n",
      "❌ Failed on TCGA-EI-6507_MSIH_x33792_y22016_patch03130.png: [Errno 2] No such file or directory: 'D'\n",
      "❌ Failed on TCGA-EI-6507_MSIH_x33792_y22528_patch03131.png: [Errno 2] No such file or directory: 'D'\n",
      "❌ Failed on TCGA-EI-6507_MSIH_x33792_y23040_patch03132.png: [Errno 2] No such file or directory: 'D'\n",
      "❌ Failed on TCGA-EI-6507_MSIH_x33792_y23552_patch03133.png: [Errno 2] No such file or directory: 'D'\n",
      "❌ Failed on TCGA-EI-6507_MSIH_x33792_y24064_patch03134.png: [Errno 2] No such file or directory: 'D'\n",
      "❌ Failed on TCGA-EI-6507_MSIH_x33792_y25088_patch03135.png: [Errno 2] No such file or directory: 'D'\n",
      "❌ Failed on TCGA-EI-6507_MSIH_x33792_y9216_patch03108.png: [Errno 2] No such file or directory: 'D'\n",
      "❌ Failed on TCGA-EI-6507_MSIH_x33792_y9728_patch03109.png: [Errno 2] No such file or directory: 'D'\n",
      "❌ Failed on TCGA-EI-6507_MSIH_x34304_y10240_patch03138.png: [Errno 2] No such file or directory: 'D'\n",
      "❌ Failed on TCGA-EI-6507_MSIH_x34304_y10752_patch03139.png: [Errno 2] No such file or directory: 'D'\n",
      "❌ Failed on TCGA-EI-6507_MSIH_x34304_y11264_patch03140.png: [Errno 2] No such file or directory: 'D'\n",
      "❌ Failed on TCGA-EI-6507_MSIH_x34304_y11776_patch03141.png: [Errno 2] No such file or directory: 'D'\n",
      "❌ Failed on TCGA-EI-6507_MSIH_x34304_y12288_patch03142.png: [Errno 2] No such file or directory: 'D'\n",
      "❌ Failed on TCGA-EI-6507_MSIH_x34304_y12800_patch03143.png: [Errno 2] No such file or directory: 'D'\n",
      "❌ Failed on TCGA-EI-6507_MSIH_x34304_y13312_patch03144.png: [Errno 2] No such file or directory: 'D'\n",
      "❌ Failed on TCGA-EI-6507_MSIH_x34304_y13824_patch03145.png: [Errno 2] No such file or directory: 'D'\n",
      "❌ Failed on TCGA-EI-6507_MSIH_x34304_y14336_patch03146.png: [Errno 2] No such file or directory: 'D'\n",
      "❌ Failed on TCGA-EI-6507_MSIH_x34304_y14848_patch03147.png: [Errno 2] No such file or directory: 'D'\n",
      "❌ Failed on TCGA-EI-6507_MSIH_x34304_y15360_patch03148.png: [Errno 2] No such file or directory: 'D'\n",
      "❌ Failed on TCGA-EI-6507_MSIH_x34304_y15872_patch03149.png: [Errno 2] No such file or directory: 'D'\n",
      "❌ Failed on TCGA-EI-6507_MSIH_x34304_y16384_patch03150.png: [Errno 2] No such file or directory: 'D'\n",
      "❌ Failed on TCGA-EI-6507_MSIH_x34304_y16896_patch03151.png: [Errno 2] No such file or directory: 'D'\n",
      "❌ Failed on TCGA-EI-6507_MSIH_x34304_y17408_patch03152.png: [Errno 2] No such file or directory: 'D'\n",
      "❌ Failed on TCGA-EI-6507_MSIH_x34304_y17920_patch03153.png: [Errno 2] No such file or directory: 'D'\n",
      "❌ Failed on TCGA-EI-6507_MSIH_x34304_y18944_patch03154.png: [Errno 2] No such file or directory: 'D'\n",
      "❌ Failed on TCGA-EI-6507_MSIH_x34304_y19456_patch03155.png: [Errno 2] No such file or directory: 'D'\n",
      "❌ Failed on TCGA-EI-6507_MSIH_x34304_y20992_patch03156.png: [Errno 2] No such file or directory: 'D'\n",
      "❌ Failed on TCGA-EI-6507_MSIH_x34304_y21504_patch03157.png: [Errno 2] No such file or directory: 'D'\n",
      "❌ Failed on TCGA-EI-6507_MSIH_x34304_y22016_patch03158.png: [Errno 2] No such file or directory: 'D'\n",
      "❌ Failed on TCGA-EI-6507_MSIH_x34304_y22528_patch03159.png: [Errno 2] No such file or directory: 'D'\n",
      "❌ Failed on TCGA-EI-6507_MSIH_x34304_y23040_patch03160.png: [Errno 2] No such file or directory: 'D'\n",
      "❌ Failed on TCGA-EI-6507_MSIH_x34304_y9216_patch03136.png: [Errno 2] No such file or directory: 'D'\n",
      "❌ Failed on TCGA-EI-6507_MSIH_x34304_y9728_patch03137.png: [Errno 2] No such file or directory: 'D'\n",
      "❌ Failed on TCGA-EI-6507_MSIH_x34816_y10240_patch03163.png: [Errno 2] No such file or directory: 'D'\n",
      "❌ Failed on TCGA-EI-6507_MSIH_x34816_y10752_patch03164.png: [Errno 2] No such file or directory: 'D'\n",
      "❌ Failed on TCGA-EI-6507_MSIH_x34816_y11264_patch03165.png: [Errno 2] No such file or directory: 'D'\n",
      "❌ Failed on TCGA-EI-6507_MSIH_x34816_y11776_patch03166.png: [Errno 2] No such file or directory: 'D'\n",
      "❌ Failed on TCGA-EI-6507_MSIH_x34816_y12288_patch03167.png: [Errno 2] No such file or directory: 'D'\n",
      "❌ Failed on TCGA-EI-6507_MSIH_x34816_y12800_patch03168.png: [Errno 2] No such file or directory: 'D'\n",
      "❌ Failed on TCGA-EI-6507_MSIH_x34816_y13312_patch03169.png: [Errno 2] No such file or directory: 'D'\n",
      "❌ Failed on TCGA-EI-6507_MSIH_x34816_y13824_patch03170.png: [Errno 2] No such file or directory: 'D'\n",
      "❌ Failed on TCGA-EI-6507_MSIH_x34816_y14336_patch03171.png: [Errno 2] No such file or directory: 'D'\n",
      "❌ Failed on TCGA-EI-6507_MSIH_x34816_y14848_patch03172.png: [Errno 2] No such file or directory: 'D'\n",
      "❌ Failed on TCGA-EI-6507_MSIH_x34816_y15360_patch03173.png: [Errno 2] No such file or directory: 'D'\n",
      "❌ Failed on TCGA-EI-6507_MSIH_x34816_y15872_patch03174.png: [Errno 2] No such file or directory: 'D'\n",
      "❌ Failed on TCGA-EI-6507_MSIH_x34816_y16384_patch03175.png: [Errno 2] No such file or directory: 'D'\n",
      "❌ Failed on TCGA-EI-6507_MSIH_x34816_y16896_patch03176.png: [Errno 2] No such file or directory: 'D'\n",
      "❌ Failed on TCGA-EI-6507_MSIH_x34816_y17408_patch03177.png: [Errno 2] No such file or directory: 'D'\n",
      "❌ Failed on TCGA-EI-6507_MSIH_x34816_y17920_patch03178.png: [Errno 2] No such file or directory: 'D'\n",
      "❌ Failed on TCGA-EI-6507_MSIH_x34816_y20992_patch03179.png: [Errno 2] No such file or directory: 'D'\n",
      "❌ Failed on TCGA-EI-6507_MSIH_x34816_y21504_patch03180.png: [Errno 2] No such file or directory: 'D'\n",
      "❌ Failed on TCGA-EI-6507_MSIH_x34816_y22016_patch03181.png: [Errno 2] No such file or directory: 'D'\n",
      "❌ Failed on TCGA-EI-6507_MSIH_x34816_y22528_patch03182.png: [Errno 2] No such file or directory: 'D'\n",
      "❌ Failed on TCGA-EI-6507_MSIH_x34816_y9216_patch03161.png: [Errno 2] No such file or directory: 'D'\n",
      "❌ Failed on TCGA-EI-6507_MSIH_x34816_y9728_patch03162.png: [Errno 2] No such file or directory: 'D'\n",
      "❌ Failed on TCGA-EI-6507_MSIH_x35328_y10240_patch03185.png: [Errno 2] No such file or directory: 'D'\n",
      "❌ Failed on TCGA-EI-6507_MSIH_x35328_y10752_patch03186.png: [Errno 2] No such file or directory: 'D'\n",
      "❌ Failed on TCGA-EI-6507_MSIH_x35328_y11264_patch03187.png: [Errno 2] No such file or directory: 'D'\n",
      "❌ Failed on TCGA-EI-6507_MSIH_x35328_y11776_patch03188.png: [Errno 2] No such file or directory: 'D'\n",
      "❌ Failed on TCGA-EI-6507_MSIH_x35328_y12288_patch03189.png: [Errno 2] No such file or directory: 'D'\n",
      "❌ Failed on TCGA-EI-6507_MSIH_x35328_y12800_patch03190.png: [Errno 2] No such file or directory: 'D'\n",
      "❌ Failed on TCGA-EI-6507_MSIH_x35328_y13312_patch03191.png: [Errno 2] No such file or directory: 'D'\n",
      "❌ Failed on TCGA-EI-6507_MSIH_x35328_y13824_patch03192.png: [Errno 2] No such file or directory: 'D'\n",
      "❌ Failed on TCGA-EI-6507_MSIH_x35328_y14336_patch03193.png: [Errno 2] No such file or directory: 'D'\n",
      "❌ Failed on TCGA-EI-6507_MSIH_x35328_y14848_patch03194.png: [Errno 2] No such file or directory: 'D'\n",
      "❌ Failed on TCGA-EI-6507_MSIH_x35328_y15360_patch03195.png: [Errno 2] No such file or directory: 'D'\n",
      "❌ Failed on TCGA-EI-6507_MSIH_x35328_y15872_patch03196.png: [Errno 2] No such file or directory: 'D'\n",
      "❌ Failed on TCGA-EI-6507_MSIH_x35328_y16384_patch03197.png: [Errno 2] No such file or directory: 'D'\n",
      "❌ Failed on TCGA-EI-6507_MSIH_x35328_y16896_patch03198.png: [Errno 2] No such file or directory: 'D'\n",
      "❌ Failed on TCGA-EI-6507_MSIH_x35328_y17408_patch03199.png: [Errno 2] No such file or directory: 'D'\n",
      "❌ Failed on TCGA-EI-6507_MSIH_x35328_y17920_patch03200.png: [Errno 2] No such file or directory: 'D'\n",
      "❌ Failed on TCGA-EI-6507_MSIH_x35328_y18432_patch03201.png: [Errno 2] No such file or directory: 'D'\n",
      "❌ Failed on TCGA-EI-6507_MSIH_x35328_y18944_patch03202.png: [Errno 2] No such file or directory: 'D'\n",
      "❌ Failed on TCGA-EI-6507_MSIH_x35328_y9216_patch03183.png: [Errno 2] No such file or directory: 'D'\n",
      "❌ Failed on TCGA-EI-6507_MSIH_x35328_y9728_patch03184.png: [Errno 2] No such file or directory: 'D'\n",
      "❌ Failed on TCGA-EI-6507_MSIH_x35840_y10240_patch03203.png: [Errno 2] No such file or directory: 'D'\n",
      "❌ Failed on TCGA-EI-6507_MSIH_x35840_y10752_patch03204.png: [Errno 2] No such file or directory: 'D'\n",
      "❌ Failed on TCGA-EI-6507_MSIH_x35840_y11264_patch03205.png: [Errno 2] No such file or directory: 'D'\n",
      "❌ Failed on TCGA-EI-6507_MSIH_x35840_y11776_patch03206.png: [Errno 2] No such file or directory: 'D'\n",
      "❌ Failed on TCGA-EI-6507_MSIH_x35840_y12288_patch03207.png: [Errno 2] No such file or directory: 'D'\n",
      "❌ Failed on TCGA-EI-6507_MSIH_x35840_y12800_patch03208.png: [Errno 2] No such file or directory: 'D'\n",
      "❌ Failed on TCGA-EI-6507_MSIH_x35840_y13312_patch03209.png: [Errno 2] No such file or directory: 'D'\n",
      "❌ Failed on TCGA-EI-6507_MSIH_x35840_y13824_patch03210.png: [Errno 2] No such file or directory: 'D'\n",
      "❌ Failed on TCGA-EI-6507_MSIH_x35840_y14336_patch03211.png: [Errno 2] No such file or directory: 'D'\n",
      "❌ Failed on TCGA-EI-6507_MSIH_x35840_y14848_patch03212.png: [Errno 2] No such file or directory: 'D'\n",
      "❌ Failed on TCGA-EI-6507_MSIH_x35840_y15360_patch03213.png: [Errno 2] No such file or directory: 'D'\n",
      "❌ Failed on TCGA-EI-6507_MSIH_x35840_y15872_patch03214.png: [Errno 2] No such file or directory: 'D'\n",
      "❌ Failed on TCGA-EI-6507_MSIH_x35840_y16384_patch03215.png: [Errno 2] No such file or directory: 'D'\n",
      "❌ Failed on TCGA-EI-6507_MSIH_x35840_y16896_patch03216.png: [Errno 2] No such file or directory: 'D'\n",
      "❌ Failed on TCGA-EI-6507_MSIH_x35840_y17408_patch03217.png: [Errno 2] No such file or directory: 'D'\n",
      "❌ Failed on TCGA-EI-6507_MSIH_x35840_y17920_patch03218.png: [Errno 2] No such file or directory: 'D'\n",
      "❌ Failed on TCGA-EI-6507_MSIH_x35840_y18432_patch03219.png: [Errno 2] No such file or directory: 'D'\n",
      "❌ Failed on TCGA-EI-6507_MSIH_x35840_y18944_patch03220.png: [Errno 2] No such file or directory: 'D'\n",
      "❌ Failed on TCGA-EI-6507_MSIH_x3584_y14848_patch00091.png: [Errno 2] No such file or directory: 'D'\n",
      "❌ Failed on TCGA-EI-6507_MSIH_x3584_y15360_patch00092.png: [Errno 2] No such file or directory: 'D'\n",
      "❌ Failed on TCGA-EI-6507_MSIH_x3584_y15872_patch00093.png: [Errno 2] No such file or directory: 'D'\n",
      "❌ Failed on TCGA-EI-6507_MSIH_x3584_y16384_patch00094.png: [Errno 2] No such file or directory: 'D'\n",
      "❌ Failed on TCGA-EI-6507_MSIH_x3584_y16896_patch00095.png: [Errno 2] No such file or directory: 'D'\n",
      "❌ Failed on TCGA-EI-6507_MSIH_x3584_y17408_patch00096.png: [Errno 2] No such file or directory: 'D'\n",
      "❌ Failed on TCGA-EI-6507_MSIH_x3584_y17920_patch00097.png: [Errno 2] No such file or directory: 'D'\n",
      "❌ Failed on TCGA-EI-6507_MSIH_x3584_y18432_patch00098.png: [Errno 2] No such file or directory: 'D'\n",
      "❌ Failed on TCGA-EI-6507_MSIH_x3584_y18944_patch00099.png: [Errno 2] No such file or directory: 'D'\n",
      "❌ Failed on TCGA-EI-6507_MSIH_x3584_y19456_patch00100.png: [Errno 2] No such file or directory: 'D'\n",
      "❌ Failed on TCGA-EI-6507_MSIH_x3584_y19968_patch00101.png: [Errno 2] No such file or directory: 'D'\n",
      "❌ Failed on TCGA-EI-6507_MSIH_x3584_y20480_patch00102.png: [Errno 2] No such file or directory: 'D'\n",
      "❌ Failed on TCGA-EI-6507_MSIH_x3584_y20992_patch00103.png: [Errno 2] No such file or directory: 'D'\n",
      "❌ Failed on TCGA-EI-6507_MSIH_x3584_y21504_patch00104.png: [Errno 2] No such file or directory: 'D'\n",
      "❌ Failed on TCGA-EI-6507_MSIH_x3584_y22016_patch00105.png: [Errno 2] No such file or directory: 'D'\n",
      "❌ Failed on TCGA-EI-6507_MSIH_x3584_y22528_patch00106.png: [Errno 2] No such file or directory: 'D'\n",
      "❌ Failed on TCGA-EI-6507_MSIH_x3584_y23040_patch00107.png: [Errno 2] No such file or directory: 'D'\n",
      "❌ Failed on TCGA-EI-6507_MSIH_x3584_y23552_patch00108.png: [Errno 2] No such file or directory: 'D'\n",
      "❌ Failed on TCGA-EI-6507_MSIH_x3584_y24064_patch00109.png: [Errno 2] No such file or directory: 'D'\n",
      "❌ Failed on TCGA-EI-6507_MSIH_x3584_y24576_patch00110.png: [Errno 2] No such file or directory: 'D'\n",
      "❌ Failed on TCGA-EI-6507_MSIH_x3584_y25088_patch00111.png: [Errno 2] No such file or directory: 'D'\n",
      "❌ Failed on TCGA-EI-6507_MSIH_x36352_y10240_patch03222.png: [Errno 2] No such file or directory: 'D'\n",
      "❌ Failed on TCGA-EI-6507_MSIH_x36352_y10752_patch03223.png: [Errno 2] No such file or directory: 'D'\n",
      "❌ Failed on TCGA-EI-6507_MSIH_x36352_y11264_patch03224.png: [Errno 2] No such file or directory: 'D'\n",
      "❌ Failed on TCGA-EI-6507_MSIH_x36352_y11776_patch03225.png: [Errno 2] No such file or directory: 'D'\n",
      "❌ Failed on TCGA-EI-6507_MSIH_x36352_y12288_patch03226.png: [Errno 2] No such file or directory: 'D'\n",
      "❌ Failed on TCGA-EI-6507_MSIH_x36352_y12800_patch03227.png: [Errno 2] No such file or directory: 'D'\n",
      "❌ Failed on TCGA-EI-6507_MSIH_x36352_y13312_patch03228.png: [Errno 2] No such file or directory: 'D'\n",
      "❌ Failed on TCGA-EI-6507_MSIH_x36352_y13824_patch03229.png: [Errno 2] No such file or directory: 'D'\n",
      "❌ Failed on TCGA-EI-6507_MSIH_x36352_y14336_patch03230.png: [Errno 2] No such file or directory: 'D'\n",
      "❌ Failed on TCGA-EI-6507_MSIH_x36352_y14848_patch03231.png: [Errno 2] No such file or directory: 'D'\n",
      "❌ Failed on TCGA-EI-6507_MSIH_x36352_y15360_patch03232.png: [Errno 2] No such file or directory: 'D'\n",
      "❌ Failed on TCGA-EI-6507_MSIH_x36352_y15872_patch03233.png: [Errno 2] No such file or directory: 'D'\n",
      "❌ Failed on TCGA-EI-6507_MSIH_x36352_y16384_patch03234.png: [Errno 2] No such file or directory: 'D'\n",
      "❌ Failed on TCGA-EI-6507_MSIH_x36352_y16896_patch03235.png: [Errno 2] No such file or directory: 'D'\n",
      "❌ Failed on TCGA-EI-6507_MSIH_x36352_y17408_patch03236.png: [Errno 2] No such file or directory: 'D'\n",
      "❌ Failed on TCGA-EI-6507_MSIH_x36352_y17920_patch03237.png: [Errno 2] No such file or directory: 'D'\n",
      "❌ Failed on TCGA-EI-6507_MSIH_x36352_y18432_patch03238.png: [Errno 2] No such file or directory: 'D'\n",
      "❌ Failed on TCGA-EI-6507_MSIH_x36352_y9728_patch03221.png: [Errno 2] No such file or directory: 'D'\n",
      "❌ Failed on TCGA-EI-6507_MSIH_x36864_y10240_patch03240.png: [Errno 2] No such file or directory: 'D'\n",
      "❌ Failed on TCGA-EI-6507_MSIH_x36864_y10752_patch03241.png: [Errno 2] No such file or directory: 'D'\n",
      "❌ Failed on TCGA-EI-6507_MSIH_x36864_y11264_patch03242.png: [Errno 2] No such file or directory: 'D'\n",
      "❌ Failed on TCGA-EI-6507_MSIH_x36864_y11776_patch03243.png: [Errno 2] No such file or directory: 'D'\n",
      "❌ Failed on TCGA-EI-6507_MSIH_x36864_y12288_patch03244.png: [Errno 2] No such file or directory: 'D'\n",
      "❌ Failed on TCGA-EI-6507_MSIH_x36864_y12800_patch03245.png: [Errno 2] No such file or directory: 'D'\n",
      "❌ Failed on TCGA-EI-6507_MSIH_x36864_y13312_patch03246.png: [Errno 2] No such file or directory: 'D'\n",
      "❌ Failed on TCGA-EI-6507_MSIH_x36864_y13824_patch03247.png: [Errno 2] No such file or directory: 'D'\n",
      "❌ Failed on TCGA-EI-6507_MSIH_x36864_y14336_patch03248.png: [Errno 2] No such file or directory: 'D'\n",
      "❌ Failed on TCGA-EI-6507_MSIH_x36864_y14848_patch03249.png: [Errno 2] No such file or directory: 'D'\n",
      "❌ Failed on TCGA-EI-6507_MSIH_x36864_y15360_patch03250.png: [Errno 2] No such file or directory: 'D'\n",
      "❌ Failed on TCGA-EI-6507_MSIH_x36864_y15872_patch03251.png: [Errno 2] No such file or directory: 'D'\n",
      "❌ Failed on TCGA-EI-6507_MSIH_x36864_y16384_patch03252.png: [Errno 2] No such file or directory: 'D'\n",
      "❌ Failed on TCGA-EI-6507_MSIH_x36864_y16896_patch03253.png: [Errno 2] No such file or directory: 'D'\n",
      "❌ Failed on TCGA-EI-6507_MSIH_x36864_y17408_patch03254.png: [Errno 2] No such file or directory: 'D'\n",
      "❌ Failed on TCGA-EI-6507_MSIH_x36864_y9728_patch03239.png: [Errno 2] No such file or directory: 'D'\n",
      "❌ Failed on TCGA-EI-6507_MSIH_x37376_y10240_patch03255.png: [Errno 2] No such file or directory: 'D'\n",
      "❌ Failed on TCGA-EI-6507_MSIH_x37376_y10752_patch03256.png: [Errno 2] No such file or directory: 'D'\n",
      "❌ Failed on TCGA-EI-6507_MSIH_x37376_y11264_patch03257.png: [Errno 2] No such file or directory: 'D'\n",
      "❌ Failed on TCGA-EI-6507_MSIH_x37376_y11776_patch03258.png: [Errno 2] No such file or directory: 'D'\n",
      "❌ Failed on TCGA-EI-6507_MSIH_x37376_y12288_patch03259.png: [Errno 2] No such file or directory: 'D'\n",
      "❌ Failed on TCGA-EI-6507_MSIH_x37376_y12800_patch03260.png: [Errno 2] No such file or directory: 'D'\n",
      "❌ Failed on TCGA-EI-6507_MSIH_x37376_y13312_patch03261.png: [Errno 2] No such file or directory: 'D'\n",
      "❌ Failed on TCGA-EI-6507_MSIH_x37376_y13824_patch03262.png: [Errno 2] No such file or directory: 'D'\n",
      "❌ Failed on TCGA-EI-6507_MSIH_x37376_y14336_patch03263.png: [Errno 2] No such file or directory: 'D'\n",
      "❌ Failed on TCGA-EI-6507_MSIH_x37376_y14848_patch03264.png: [Errno 2] No such file or directory: 'D'\n",
      "❌ Failed on TCGA-EI-6507_MSIH_x37376_y15360_patch03265.png: [Errno 2] No such file or directory: 'D'\n",
      "❌ Failed on TCGA-EI-6507_MSIH_x37888_y11264_patch03266.png: [Errno 2] No such file or directory: 'D'\n",
      "❌ Failed on TCGA-EI-6507_MSIH_x37888_y11776_patch03267.png: [Errno 2] No such file or directory: 'D'\n",
      "❌ Failed on TCGA-EI-6507_MSIH_x37888_y12288_patch03268.png: [Errno 2] No such file or directory: 'D'\n",
      "❌ Failed on TCGA-EI-6507_MSIH_x37888_y12800_patch03269.png: [Errno 2] No such file or directory: 'D'\n",
      "❌ Failed on TCGA-EI-6507_MSIH_x37888_y13312_patch03270.png: [Errno 2] No such file or directory: 'D'\n",
      "❌ Failed on TCGA-EI-6507_MSIH_x37888_y13824_patch03271.png: [Errno 2] No such file or directory: 'D'\n",
      "❌ Failed on TCGA-EI-6507_MSIH_x4096_y14336_patch00112.png: [Errno 2] No such file or directory: 'D'\n",
      "❌ Failed on TCGA-EI-6507_MSIH_x4096_y14848_patch00113.png: [Errno 2] No such file or directory: 'D'\n",
      "❌ Failed on TCGA-EI-6507_MSIH_x4096_y15360_patch00114.png: [Errno 2] No such file or directory: 'D'\n",
      "❌ Failed on TCGA-EI-6507_MSIH_x4096_y15872_patch00115.png: [Errno 2] No such file or directory: 'D'\n",
      "❌ Failed on TCGA-EI-6507_MSIH_x4096_y16384_patch00116.png: [Errno 2] No such file or directory: 'D'\n",
      "❌ Failed on TCGA-EI-6507_MSIH_x4096_y16896_patch00117.png: [Errno 2] No such file or directory: 'D'\n",
      "❌ Failed on TCGA-EI-6507_MSIH_x4096_y17408_patch00118.png: [Errno 2] No such file or directory: 'D'\n",
      "❌ Failed on TCGA-EI-6507_MSIH_x4096_y17920_patch00119.png: [Errno 2] No such file or directory: 'D'\n",
      "❌ Failed on TCGA-EI-6507_MSIH_x4096_y18432_patch00120.png: [Errno 2] No such file or directory: 'D'\n",
      "❌ Failed on TCGA-EI-6507_MSIH_x4096_y18944_patch00121.png: [Errno 2] No such file or directory: 'D'\n",
      "❌ Failed on TCGA-EI-6507_MSIH_x4096_y19456_patch00122.png: [Errno 2] No such file or directory: 'D'\n",
      "❌ Failed on TCGA-EI-6507_MSIH_x4096_y19968_patch00123.png: [Errno 2] No such file or directory: 'D'\n",
      "❌ Failed on TCGA-EI-6507_MSIH_x4096_y20480_patch00124.png: [Errno 2] No such file or directory: 'D'\n",
      "❌ Failed on TCGA-EI-6507_MSIH_x4096_y20992_patch00125.png: [Errno 2] No such file or directory: 'D'\n",
      "❌ Failed on TCGA-EI-6507_MSIH_x4096_y21504_patch00126.png: [Errno 2] No such file or directory: 'D'\n",
      "❌ Failed on TCGA-EI-6507_MSIH_x4096_y22016_patch00127.png: [Errno 2] No such file or directory: 'D'\n",
      "❌ Failed on TCGA-EI-6507_MSIH_x4096_y22528_patch00128.png: [Errno 2] No such file or directory: 'D'\n",
      "❌ Failed on TCGA-EI-6507_MSIH_x4096_y23040_patch00129.png: [Errno 2] No such file or directory: 'D'\n",
      "❌ Failed on TCGA-EI-6507_MSIH_x4096_y23552_patch00130.png: [Errno 2] No such file or directory: 'D'\n",
      "❌ Failed on TCGA-EI-6507_MSIH_x4096_y24064_patch00131.png: [Errno 2] No such file or directory: 'D'\n",
      "❌ Failed on TCGA-EI-6507_MSIH_x4096_y24576_patch00132.png: [Errno 2] No such file or directory: 'D'\n",
      "❌ Failed on TCGA-EI-6507_MSIH_x4096_y25088_patch00133.png: [Errno 2] No such file or directory: 'D'\n",
      "❌ Failed on TCGA-EI-6507_MSIH_x4096_y25600_patch00134.png: [Errno 2] No such file or directory: 'D'\n",
      "❌ Failed on TCGA-EI-6507_MSIH_x4608_y13312_patch00135.png: [Errno 2] No such file or directory: 'D'\n",
      "❌ Failed on TCGA-EI-6507_MSIH_x4608_y13824_patch00136.png: [Errno 2] No such file or directory: 'D'\n",
      "❌ Failed on TCGA-EI-6507_MSIH_x4608_y14336_patch00137.png: [Errno 2] No such file or directory: 'D'\n",
      "❌ Failed on TCGA-EI-6507_MSIH_x4608_y14848_patch00138.png: [Errno 2] No such file or directory: 'D'\n",
      "❌ Failed on TCGA-EI-6507_MSIH_x4608_y15360_patch00139.png: [Errno 2] No such file or directory: 'D'\n",
      "❌ Failed on TCGA-EI-6507_MSIH_x4608_y15872_patch00140.png: [Errno 2] No such file or directory: 'D'\n",
      "❌ Failed on TCGA-EI-6507_MSIH_x4608_y16384_patch00141.png: [Errno 2] No such file or directory: 'D'\n",
      "❌ Failed on TCGA-EI-6507_MSIH_x4608_y16896_patch00142.png: [Errno 2] No such file or directory: 'D'\n",
      "❌ Failed on TCGA-EI-6507_MSIH_x4608_y17408_patch00143.png: [Errno 2] No such file or directory: 'D'\n",
      "❌ Failed on TCGA-EI-6507_MSIH_x4608_y17920_patch00144.png: [Errno 2] No such file or directory: 'D'\n",
      "❌ Failed on TCGA-EI-6507_MSIH_x4608_y18432_patch00145.png: [Errno 2] No such file or directory: 'D'\n",
      "❌ Failed on TCGA-EI-6507_MSIH_x4608_y18944_patch00146.png: [Errno 2] No such file or directory: 'D'\n",
      "❌ Failed on TCGA-EI-6507_MSIH_x4608_y19456_patch00147.png: [Errno 2] No such file or directory: 'D'\n",
      "❌ Failed on TCGA-EI-6507_MSIH_x4608_y19968_patch00148.png: [Errno 2] No such file or directory: 'D'\n",
      "❌ Failed on TCGA-EI-6507_MSIH_x4608_y20480_patch00149.png: [Errno 2] No such file or directory: 'D'\n",
      "❌ Failed on TCGA-EI-6507_MSIH_x4608_y20992_patch00150.png: [Errno 2] No such file or directory: 'D'\n",
      "❌ Failed on TCGA-EI-6507_MSIH_x4608_y21504_patch00151.png: [Errno 2] No such file or directory: 'D'\n",
      "❌ Failed on TCGA-EI-6507_MSIH_x4608_y22016_patch00152.png: [Errno 2] No such file or directory: 'D'\n",
      "❌ Failed on TCGA-EI-6507_MSIH_x4608_y22528_patch00153.png: [Errno 2] No such file or directory: 'D'\n",
      "❌ Failed on TCGA-EI-6507_MSIH_x4608_y23040_patch00154.png: [Errno 2] No such file or directory: 'D'\n",
      "❌ Failed on TCGA-EI-6507_MSIH_x4608_y23552_patch00155.png: [Errno 2] No such file or directory: 'D'\n",
      "❌ Failed on TCGA-EI-6507_MSIH_x4608_y24064_patch00156.png: [Errno 2] No such file or directory: 'D'\n",
      "❌ Failed on TCGA-EI-6507_MSIH_x4608_y24576_patch00157.png: [Errno 2] No such file or directory: 'D'\n",
      "❌ Failed on TCGA-EI-6507_MSIH_x4608_y25088_patch00158.png: [Errno 2] No such file or directory: 'D'\n",
      "❌ Failed on TCGA-EI-6507_MSIH_x4608_y25600_patch00159.png: [Errno 2] No such file or directory: 'D'\n",
      "❌ Failed on TCGA-EI-6507_MSIH_x4608_y26112_patch00160.png: [Errno 2] No such file or directory: 'D'\n",
      "❌ Failed on TCGA-EI-6507_MSIH_x5120_y12800_patch00161.png: [Errno 2] No such file or directory: 'D'\n",
      "❌ Failed on TCGA-EI-6507_MSIH_x5120_y13312_patch00162.png: [Errno 2] No such file or directory: 'D'\n",
      "❌ Failed on TCGA-EI-6507_MSIH_x5120_y13824_patch00163.png: [Errno 2] No such file or directory: 'D'\n",
      "❌ Failed on TCGA-EI-6507_MSIH_x5120_y14336_patch00164.png: [Errno 2] No such file or directory: 'D'\n",
      "❌ Failed on TCGA-EI-6507_MSIH_x5120_y14848_patch00165.png: [Errno 2] No such file or directory: 'D'\n",
      "❌ Failed on TCGA-EI-6507_MSIH_x5120_y15360_patch00166.png: [Errno 2] No such file or directory: 'D'\n",
      "❌ Failed on TCGA-EI-6507_MSIH_x5120_y15872_patch00167.png: [Errno 2] No such file or directory: 'D'\n",
      "❌ Failed on TCGA-EI-6507_MSIH_x5120_y16384_patch00168.png: [Errno 2] No such file or directory: 'D'\n",
      "❌ Failed on TCGA-EI-6507_MSIH_x5120_y16896_patch00169.png: [Errno 2] No such file or directory: 'D'\n",
      "❌ Failed on TCGA-EI-6507_MSIH_x5120_y17408_patch00170.png: [Errno 2] No such file or directory: 'D'\n",
      "❌ Failed on TCGA-EI-6507_MSIH_x5120_y17920_patch00171.png: [Errno 2] No such file or directory: 'D'\n",
      "❌ Failed on TCGA-EI-6507_MSIH_x5120_y18432_patch00172.png: [Errno 2] No such file or directory: 'D'\n",
      "❌ Failed on TCGA-EI-6507_MSIH_x5120_y18944_patch00173.png: [Errno 2] No such file or directory: 'D'\n",
      "❌ Failed on TCGA-EI-6507_MSIH_x5120_y19456_patch00174.png: [Errno 2] No such file or directory: 'D'\n",
      "❌ Failed on TCGA-EI-6507_MSIH_x5120_y19968_patch00175.png: [Errno 2] No such file or directory: 'D'\n",
      "❌ Failed on TCGA-EI-6507_MSIH_x5120_y20480_patch00176.png: [Errno 2] No such file or directory: 'D'\n",
      "❌ Failed on TCGA-EI-6507_MSIH_x5120_y20992_patch00177.png: [Errno 2] No such file or directory: 'D'\n",
      "❌ Failed on TCGA-EI-6507_MSIH_x5120_y21504_patch00178.png: [Errno 2] No such file or directory: 'D'\n",
      "❌ Failed on TCGA-EI-6507_MSIH_x5120_y22016_patch00179.png: [Errno 2] No such file or directory: 'D'\n",
      "❌ Failed on TCGA-EI-6507_MSIH_x5120_y22528_patch00180.png: [Errno 2] No such file or directory: 'D'\n",
      "❌ Failed on TCGA-EI-6507_MSIH_x5120_y23040_patch00181.png: [Errno 2] No such file or directory: 'D'\n",
      "❌ Failed on TCGA-EI-6507_MSIH_x5120_y23552_patch00182.png: [Errno 2] No such file or directory: 'D'\n",
      "❌ Failed on TCGA-EI-6507_MSIH_x5120_y24064_patch00183.png: [Errno 2] No such file or directory: 'D'\n",
      "❌ Failed on TCGA-EI-6507_MSIH_x5120_y24576_patch00184.png: [Errno 2] No such file or directory: 'D'\n",
      "❌ Failed on TCGA-EI-6507_MSIH_x5120_y25088_patch00185.png: [Errno 2] No such file or directory: 'D'\n",
      "❌ Failed on TCGA-EI-6507_MSIH_x5120_y25600_patch00186.png: [Errno 2] No such file or directory: 'D'\n",
      "❌ Failed on TCGA-EI-6507_MSIH_x5120_y26112_patch00187.png: [Errno 2] No such file or directory: 'D'\n",
      "❌ Failed on TCGA-EI-6507_MSIH_x512_y18944_patch00007.png: [Errno 2] No such file or directory: 'D'\n",
      "❌ Failed on TCGA-EI-6507_MSIH_x512_y19456_patch00008.png: [Errno 2] No such file or directory: 'D'\n",
      "❌ Failed on TCGA-EI-6507_MSIH_x512_y19968_patch00009.png: [Errno 2] No such file or directory: 'D'\n",
      "❌ Failed on TCGA-EI-6507_MSIH_x512_y20480_patch00010.png: [Errno 2] No such file or directory: 'D'\n",
      "❌ Failed on TCGA-EI-6507_MSIH_x512_y20992_patch00011.png: [Errno 2] No such file or directory: 'D'\n",
      "❌ Failed on TCGA-EI-6507_MSIH_x512_y21504_patch00012.png: [Errno 2] No such file or directory: 'D'\n",
      "❌ Failed on TCGA-EI-6507_MSIH_x512_y22528_patch00013.png: [Errno 2] No such file or directory: 'D'\n",
      "❌ Failed on TCGA-EI-6507_MSIH_x512_y23040_patch00014.png: [Errno 2] No such file or directory: 'D'\n",
      "❌ Failed on TCGA-EI-6507_MSIH_x512_y23552_patch00015.png: [Errno 2] No such file or directory: 'D'\n",
      "❌ Failed on TCGA-EI-6507_MSIH_x512_y24064_patch00016.png: [Errno 2] No such file or directory: 'D'\n",
      "❌ Failed on TCGA-EI-6507_MSIH_x512_y24576_patch00017.png: [Errno 2] No such file or directory: 'D'\n",
      "❌ Failed on TCGA-EI-6507_MSIH_x5632_y12288_patch00188.png: [Errno 2] No such file or directory: 'D'\n",
      "❌ Failed on TCGA-EI-6507_MSIH_x5632_y12800_patch00189.png: [Errno 2] No such file or directory: 'D'\n",
      "❌ Failed on TCGA-EI-6507_MSIH_x5632_y13312_patch00190.png: [Errno 2] No such file or directory: 'D'\n",
      "❌ Failed on TCGA-EI-6507_MSIH_x5632_y13824_patch00191.png: [Errno 2] No such file or directory: 'D'\n",
      "❌ Failed on TCGA-EI-6507_MSIH_x5632_y14336_patch00192.png: [Errno 2] No such file or directory: 'D'\n",
      "❌ Failed on TCGA-EI-6507_MSIH_x5632_y14848_patch00193.png: [Errno 2] No such file or directory: 'D'\n",
      "❌ Failed on TCGA-EI-6507_MSIH_x5632_y15360_patch00194.png: [Errno 2] No such file or directory: 'D'\n",
      "❌ Failed on TCGA-EI-6507_MSIH_x5632_y15872_patch00195.png: [Errno 2] No such file or directory: 'D'\n",
      "❌ Failed on TCGA-EI-6507_MSIH_x5632_y16384_patch00196.png: [Errno 2] No such file or directory: 'D'\n",
      "❌ Failed on TCGA-EI-6507_MSIH_x5632_y16896_patch00197.png: [Errno 2] No such file or directory: 'D'\n",
      "❌ Failed on TCGA-EI-6507_MSIH_x5632_y17408_patch00198.png: [Errno 2] No such file or directory: 'D'\n",
      "❌ Failed on TCGA-EI-6507_MSIH_x5632_y17920_patch00199.png: [Errno 2] No such file or directory: 'D'\n",
      "❌ Failed on TCGA-EI-6507_MSIH_x5632_y18432_patch00200.png: [Errno 2] No such file or directory: 'D'\n",
      "❌ Failed on TCGA-EI-6507_MSIH_x5632_y18944_patch00201.png: [Errno 2] No such file or directory: 'D'\n",
      "❌ Failed on TCGA-EI-6507_MSIH_x5632_y19456_patch00202.png: [Errno 2] No such file or directory: 'D'\n",
      "❌ Failed on TCGA-EI-6507_MSIH_x5632_y19968_patch00203.png: [Errno 2] No such file or directory: 'D'\n",
      "❌ Failed on TCGA-EI-6507_MSIH_x5632_y20480_patch00204.png: [Errno 2] No such file or directory: 'D'\n",
      "❌ Failed on TCGA-EI-6507_MSIH_x5632_y20992_patch00205.png: [Errno 2] No such file or directory: 'D'\n",
      "❌ Failed on TCGA-EI-6507_MSIH_x5632_y21504_patch00206.png: [Errno 2] No such file or directory: 'D'\n",
      "❌ Failed on TCGA-EI-6507_MSIH_x5632_y22016_patch00207.png: [Errno 2] No such file or directory: 'D'\n",
      "❌ Failed on TCGA-EI-6507_MSIH_x5632_y22528_patch00208.png: [Errno 2] No such file or directory: 'D'\n",
      "❌ Failed on TCGA-EI-6507_MSIH_x5632_y23040_patch00209.png: [Errno 2] No such file or directory: 'D'\n",
      "❌ Failed on TCGA-EI-6507_MSIH_x5632_y23552_patch00210.png: [Errno 2] No such file or directory: 'D'\n",
      "❌ Failed on TCGA-EI-6507_MSIH_x5632_y24064_patch00211.png: [Errno 2] No such file or directory: 'D'\n",
      "❌ Failed on TCGA-EI-6507_MSIH_x5632_y24576_patch00212.png: [Errno 2] No such file or directory: 'D'\n",
      "❌ Failed on TCGA-EI-6507_MSIH_x5632_y25088_patch00213.png: [Errno 2] No such file or directory: 'D'\n",
      "❌ Failed on TCGA-EI-6507_MSIH_x5632_y25600_patch00214.png: [Errno 2] No such file or directory: 'D'\n",
      "❌ Failed on TCGA-EI-6507_MSIH_x5632_y26112_patch00215.png: [Errno 2] No such file or directory: 'D'\n",
      "❌ Failed on TCGA-EI-6507_MSIH_x5632_y26624_patch00216.png: [Errno 2] No such file or directory: 'D'\n",
      "❌ Failed on TCGA-EI-6507_MSIH_x6144_y11776_patch00217.png: [Errno 2] No such file or directory: 'D'\n",
      "❌ Failed on TCGA-EI-6507_MSIH_x6144_y12288_patch00218.png: [Errno 2] No such file or directory: 'D'\n",
      "❌ Failed on TCGA-EI-6507_MSIH_x6144_y12800_patch00219.png: [Errno 2] No such file or directory: 'D'\n",
      "❌ Failed on TCGA-EI-6507_MSIH_x6144_y13312_patch00220.png: [Errno 2] No such file or directory: 'D'\n",
      "❌ Failed on TCGA-EI-6507_MSIH_x6144_y13824_patch00221.png: [Errno 2] No such file or directory: 'D'\n",
      "❌ Failed on TCGA-EI-6507_MSIH_x6144_y14336_patch00222.png: [Errno 2] No such file or directory: 'D'\n",
      "❌ Failed on TCGA-EI-6507_MSIH_x6144_y14848_patch00223.png: [Errno 2] No such file or directory: 'D'\n",
      "❌ Failed on TCGA-EI-6507_MSIH_x6144_y15360_patch00224.png: [Errno 2] No such file or directory: 'D'\n",
      "❌ Failed on TCGA-EI-6507_MSIH_x6144_y15872_patch00225.png: [Errno 2] No such file or directory: 'D'\n",
      "❌ Failed on TCGA-EI-6507_MSIH_x6144_y16384_patch00226.png: [Errno 2] No such file or directory: 'D'\n",
      "❌ Failed on TCGA-EI-6507_MSIH_x6144_y16896_patch00227.png: [Errno 2] No such file or directory: 'D'\n",
      "❌ Failed on TCGA-EI-6507_MSIH_x6144_y17408_patch00228.png: [Errno 2] No such file or directory: 'D'\n",
      "❌ Failed on TCGA-EI-6507_MSIH_x6144_y17920_patch00229.png: [Errno 2] No such file or directory: 'D'\n",
      "❌ Failed on TCGA-EI-6507_MSIH_x6144_y18432_patch00230.png: [Errno 2] No such file or directory: 'D'\n",
      "❌ Failed on TCGA-EI-6507_MSIH_x6144_y18944_patch00231.png: [Errno 2] No such file or directory: 'D'\n",
      "❌ Failed on TCGA-EI-6507_MSIH_x6144_y19456_patch00232.png: [Errno 2] No such file or directory: 'D'\n",
      "❌ Failed on TCGA-EI-6507_MSIH_x6144_y19968_patch00233.png: [Errno 2] No such file or directory: 'D'\n",
      "❌ Failed on TCGA-EI-6507_MSIH_x6144_y20480_patch00234.png: [Errno 2] No such file or directory: 'D'\n",
      "❌ Failed on TCGA-EI-6507_MSIH_x6144_y20992_patch00235.png: [Errno 2] No such file or directory: 'D'\n",
      "❌ Failed on TCGA-EI-6507_MSIH_x6144_y21504_patch00236.png: [Errno 2] No such file or directory: 'D'\n",
      "❌ Failed on TCGA-EI-6507_MSIH_x6144_y22016_patch00237.png: [Errno 2] No such file or directory: 'D'\n",
      "❌ Failed on TCGA-EI-6507_MSIH_x6144_y22528_patch00238.png: [Errno 2] No such file or directory: 'D'\n",
      "❌ Failed on TCGA-EI-6507_MSIH_x6144_y23040_patch00239.png: [Errno 2] No such file or directory: 'D'\n",
      "❌ Failed on TCGA-EI-6507_MSIH_x6144_y23552_patch00240.png: [Errno 2] No such file or directory: 'D'\n",
      "❌ Failed on TCGA-EI-6507_MSIH_x6144_y24064_patch00241.png: [Errno 2] No such file or directory: 'D'\n",
      "❌ Failed on TCGA-EI-6507_MSIH_x6144_y24576_patch00242.png: [Errno 2] No such file or directory: 'D'\n",
      "❌ Failed on TCGA-EI-6507_MSIH_x6144_y25088_patch00243.png: [Errno 2] No such file or directory: 'D'\n",
      "❌ Failed on TCGA-EI-6507_MSIH_x6144_y25600_patch00244.png: [Errno 2] No such file or directory: 'D'\n",
      "❌ Failed on TCGA-EI-6507_MSIH_x6144_y26112_patch00245.png: [Errno 2] No such file or directory: 'D'\n",
      "❌ Failed on TCGA-EI-6507_MSIH_x6656_y11264_patch00246.png: [Errno 2] No such file or directory: 'D'\n",
      "❌ Failed on TCGA-EI-6507_MSIH_x6656_y11776_patch00247.png: [Errno 2] No such file or directory: 'D'\n",
      "❌ Failed on TCGA-EI-6507_MSIH_x6656_y12288_patch00248.png: [Errno 2] No such file or directory: 'D'\n",
      "❌ Failed on TCGA-EI-6507_MSIH_x6656_y12800_patch00249.png: [Errno 2] No such file or directory: 'D'\n",
      "❌ Failed on TCGA-EI-6507_MSIH_x6656_y13312_patch00250.png: [Errno 2] No such file or directory: 'D'\n",
      "❌ Failed on TCGA-EI-6507_MSIH_x6656_y13824_patch00251.png: [Errno 2] No such file or directory: 'D'\n",
      "❌ Failed on TCGA-EI-6507_MSIH_x6656_y14336_patch00252.png: [Errno 2] No such file or directory: 'D'\n",
      "❌ Failed on TCGA-EI-6507_MSIH_x6656_y14848_patch00253.png: [Errno 2] No such file or directory: 'D'\n",
      "❌ Failed on TCGA-EI-6507_MSIH_x6656_y15360_patch00254.png: [Errno 2] No such file or directory: 'D'\n",
      "❌ Failed on TCGA-EI-6507_MSIH_x6656_y15872_patch00255.png: [Errno 2] No such file or directory: 'D'\n",
      "❌ Failed on TCGA-EI-6507_MSIH_x6656_y16384_patch00256.png: [Errno 2] No such file or directory: 'D'\n",
      "❌ Failed on TCGA-EI-6507_MSIH_x6656_y16896_patch00257.png: [Errno 2] No such file or directory: 'D'\n",
      "❌ Failed on TCGA-EI-6507_MSIH_x6656_y17408_patch00258.png: [Errno 2] No such file or directory: 'D'\n",
      "❌ Failed on TCGA-EI-6507_MSIH_x6656_y17920_patch00259.png: [Errno 2] No such file or directory: 'D'\n",
      "❌ Failed on TCGA-EI-6507_MSIH_x6656_y18432_patch00260.png: [Errno 2] No such file or directory: 'D'\n",
      "❌ Failed on TCGA-EI-6507_MSIH_x6656_y18944_patch00261.png: [Errno 2] No such file or directory: 'D'\n",
      "❌ Failed on TCGA-EI-6507_MSIH_x6656_y19456_patch00262.png: [Errno 2] No such file or directory: 'D'\n",
      "❌ Failed on TCGA-EI-6507_MSIH_x6656_y19968_patch00263.png: [Errno 2] No such file or directory: 'D'\n",
      "❌ Failed on TCGA-EI-6507_MSIH_x6656_y20480_patch00264.png: [Errno 2] No such file or directory: 'D'\n",
      "❌ Failed on TCGA-EI-6507_MSIH_x6656_y20992_patch00265.png: [Errno 2] No such file or directory: 'D'\n",
      "❌ Failed on TCGA-EI-6507_MSIH_x6656_y21504_patch00266.png: [Errno 2] No such file or directory: 'D'\n",
      "❌ Failed on TCGA-EI-6507_MSIH_x6656_y22016_patch00267.png: [Errno 2] No such file or directory: 'D'\n",
      "❌ Failed on TCGA-EI-6507_MSIH_x6656_y22528_patch00268.png: [Errno 2] No such file or directory: 'D'\n",
      "❌ Failed on TCGA-EI-6507_MSIH_x6656_y23040_patch00269.png: [Errno 2] No such file or directory: 'D'\n",
      "❌ Failed on TCGA-EI-6507_MSIH_x6656_y23552_patch00270.png: [Errno 2] No such file or directory: 'D'\n",
      "❌ Failed on TCGA-EI-6507_MSIH_x6656_y24064_patch00271.png: [Errno 2] No such file or directory: 'D'\n",
      "❌ Failed on TCGA-EI-6507_MSIH_x6656_y24576_patch00272.png: [Errno 2] No such file or directory: 'D'\n",
      "❌ Failed on TCGA-EI-6507_MSIH_x6656_y25088_patch00273.png: [Errno 2] No such file or directory: 'D'\n",
      "❌ Failed on TCGA-EI-6507_MSIH_x6656_y25600_patch00274.png: [Errno 2] No such file or directory: 'D'\n",
      "❌ Failed on TCGA-EI-6507_MSIH_x6656_y26112_patch00275.png: [Errno 2] No such file or directory: 'D'\n",
      "❌ Failed on TCGA-EI-6507_MSIH_x6656_y26624_patch00276.png: [Errno 2] No such file or directory: 'D'\n",
      "❌ Failed on TCGA-EI-6507_MSIH_x7168_y10752_patch00277.png: [Errno 2] No such file or directory: 'D'\n",
      "❌ Failed on TCGA-EI-6507_MSIH_x7168_y11264_patch00278.png: [Errno 2] No such file or directory: 'D'\n",
      "❌ Failed on TCGA-EI-6507_MSIH_x7168_y11776_patch00279.png: [Errno 2] No such file or directory: 'D'\n",
      "❌ Failed on TCGA-EI-6507_MSIH_x7168_y12288_patch00280.png: [Errno 2] No such file or directory: 'D'\n",
      "❌ Failed on TCGA-EI-6507_MSIH_x7168_y12800_patch00281.png: [Errno 2] No such file or directory: 'D'\n",
      "❌ Failed on TCGA-EI-6507_MSIH_x7168_y13312_patch00282.png: [Errno 2] No such file or directory: 'D'\n",
      "❌ Failed on TCGA-EI-6507_MSIH_x7168_y13824_patch00283.png: [Errno 2] No such file or directory: 'D'\n",
      "❌ Failed on TCGA-EI-6507_MSIH_x7168_y14336_patch00284.png: [Errno 2] No such file or directory: 'D'\n",
      "❌ Failed on TCGA-EI-6507_MSIH_x7168_y14848_patch00285.png: [Errno 2] No such file or directory: 'D'\n",
      "❌ Failed on TCGA-EI-6507_MSIH_x7168_y15360_patch00286.png: [Errno 2] No such file or directory: 'D'\n",
      "❌ Failed on TCGA-EI-6507_MSIH_x7168_y15872_patch00287.png: [Errno 2] No such file or directory: 'D'\n",
      "❌ Failed on TCGA-EI-6507_MSIH_x7168_y16384_patch00288.png: [Errno 2] No such file or directory: 'D'\n",
      "❌ Failed on TCGA-EI-6507_MSIH_x7168_y16896_patch00289.png: [Errno 2] No such file or directory: 'D'\n",
      "❌ Failed on TCGA-EI-6507_MSIH_x7168_y17408_patch00290.png: [Errno 2] No such file or directory: 'D'\n",
      "❌ Failed on TCGA-EI-6507_MSIH_x7168_y17920_patch00291.png: [Errno 2] No such file or directory: 'D'\n",
      "❌ Failed on TCGA-EI-6507_MSIH_x7168_y18432_patch00292.png: [Errno 2] No such file or directory: 'D'\n",
      "❌ Failed on TCGA-EI-6507_MSIH_x7168_y18944_patch00293.png: [Errno 2] No such file or directory: 'D'\n",
      "❌ Failed on TCGA-EI-6507_MSIH_x7168_y19456_patch00294.png: [Errno 2] No such file or directory: 'D'\n",
      "❌ Failed on TCGA-EI-6507_MSIH_x7168_y19968_patch00295.png: [Errno 2] No such file or directory: 'D'\n",
      "❌ Failed on TCGA-EI-6507_MSIH_x7168_y20480_patch00296.png: [Errno 2] No such file or directory: 'D'\n",
      "❌ Failed on TCGA-EI-6507_MSIH_x7168_y20992_patch00297.png: [Errno 2] No such file or directory: 'D'\n",
      "❌ Failed on TCGA-EI-6507_MSIH_x7168_y21504_patch00298.png: [Errno 2] No such file or directory: 'D'\n",
      "❌ Failed on TCGA-EI-6507_MSIH_x7168_y22016_patch00299.png: [Errno 2] No such file or directory: 'D'\n",
      "❌ Failed on TCGA-EI-6507_MSIH_x7168_y22528_patch00300.png: [Errno 2] No such file or directory: 'D'\n",
      "❌ Failed on TCGA-EI-6507_MSIH_x7168_y23040_patch00301.png: [Errno 2] No such file or directory: 'D'\n",
      "❌ Failed on TCGA-EI-6507_MSIH_x7168_y23552_patch00302.png: [Errno 2] No such file or directory: 'D'\n",
      "❌ Failed on TCGA-EI-6507_MSIH_x7168_y24064_patch00303.png: [Errno 2] No such file or directory: 'D'\n",
      "❌ Failed on TCGA-EI-6507_MSIH_x7168_y24576_patch00304.png: [Errno 2] No such file or directory: 'D'\n",
      "❌ Failed on TCGA-EI-6507_MSIH_x7168_y25088_patch00305.png: [Errno 2] No such file or directory: 'D'\n",
      "❌ Failed on TCGA-EI-6507_MSIH_x7168_y25600_patch00306.png: [Errno 2] No such file or directory: 'D'\n",
      "❌ Failed on TCGA-EI-6507_MSIH_x7168_y26112_patch00307.png: [Errno 2] No such file or directory: 'D'\n",
      "❌ Failed on TCGA-EI-6507_MSIH_x7168_y26624_patch00308.png: [Errno 2] No such file or directory: 'D'\n",
      "❌ Failed on TCGA-EI-6507_MSIH_x7168_y27136_patch00309.png: [Errno 2] No such file or directory: 'D'\n",
      "❌ Failed on TCGA-EI-6507_MSIH_x7680_y10240_patch00310.png: [Errno 2] No such file or directory: 'D'\n",
      "❌ Failed on TCGA-EI-6507_MSIH_x7680_y10752_patch00311.png: [Errno 2] No such file or directory: 'D'\n",
      "❌ Failed on TCGA-EI-6507_MSIH_x7680_y11264_patch00312.png: [Errno 2] No such file or directory: 'D'\n",
      "❌ Failed on TCGA-EI-6507_MSIH_x7680_y11776_patch00313.png: [Errno 2] No such file or directory: 'D'\n",
      "❌ Failed on TCGA-EI-6507_MSIH_x7680_y12288_patch00314.png: [Errno 2] No such file or directory: 'D'\n",
      "❌ Failed on TCGA-EI-6507_MSIH_x7680_y12800_patch00315.png: [Errno 2] No such file or directory: 'D'\n",
      "❌ Failed on TCGA-EI-6507_MSIH_x7680_y13312_patch00316.png: [Errno 2] No such file or directory: 'D'\n",
      "❌ Failed on TCGA-EI-6507_MSIH_x7680_y13824_patch00317.png: [Errno 2] No such file or directory: 'D'\n",
      "❌ Failed on TCGA-EI-6507_MSIH_x7680_y14336_patch00318.png: [Errno 2] No such file or directory: 'D'\n",
      "❌ Failed on TCGA-EI-6507_MSIH_x7680_y14848_patch00319.png: [Errno 2] No such file or directory: 'D'\n",
      "❌ Failed on TCGA-EI-6507_MSIH_x7680_y15360_patch00320.png: [Errno 2] No such file or directory: 'D'\n",
      "❌ Failed on TCGA-EI-6507_MSIH_x7680_y15872_patch00321.png: [Errno 2] No such file or directory: 'D'\n",
      "❌ Failed on TCGA-EI-6507_MSIH_x7680_y16384_patch00322.png: [Errno 2] No such file or directory: 'D'\n",
      "❌ Failed on TCGA-EI-6507_MSIH_x7680_y16896_patch00323.png: [Errno 2] No such file or directory: 'D'\n",
      "❌ Failed on TCGA-EI-6507_MSIH_x7680_y17408_patch00324.png: [Errno 2] No such file or directory: 'D'\n",
      "❌ Failed on TCGA-EI-6507_MSIH_x7680_y17920_patch00325.png: [Errno 2] No such file or directory: 'D'\n",
      "❌ Failed on TCGA-EI-6507_MSIH_x7680_y18432_patch00326.png: [Errno 2] No such file or directory: 'D'\n",
      "❌ Failed on TCGA-EI-6507_MSIH_x7680_y18944_patch00327.png: [Errno 2] No such file or directory: 'D'\n",
      "❌ Failed on TCGA-EI-6507_MSIH_x7680_y19456_patch00328.png: [Errno 2] No such file or directory: 'D'\n",
      "❌ Failed on TCGA-EI-6507_MSIH_x7680_y19968_patch00329.png: [Errno 2] No such file or directory: 'D'\n",
      "❌ Failed on TCGA-EI-6507_MSIH_x7680_y20480_patch00330.png: [Errno 2] No such file or directory: 'D'\n",
      "❌ Failed on TCGA-EI-6507_MSIH_x7680_y20992_patch00331.png: [Errno 2] No such file or directory: 'D'\n",
      "❌ Failed on TCGA-EI-6507_MSIH_x7680_y21504_patch00332.png: [Errno 2] No such file or directory: 'D'\n",
      "❌ Failed on TCGA-EI-6507_MSIH_x7680_y22016_patch00333.png: [Errno 2] No such file or directory: 'D'\n",
      "❌ Failed on TCGA-EI-6507_MSIH_x7680_y22528_patch00334.png: [Errno 2] No such file or directory: 'D'\n",
      "❌ Failed on TCGA-EI-6507_MSIH_x7680_y23040_patch00335.png: [Errno 2] No such file or directory: 'D'\n",
      "❌ Failed on TCGA-EI-6507_MSIH_x7680_y23552_patch00336.png: [Errno 2] No such file or directory: 'D'\n",
      "❌ Failed on TCGA-EI-6507_MSIH_x7680_y24064_patch00337.png: [Errno 2] No such file or directory: 'D'\n",
      "❌ Failed on TCGA-EI-6507_MSIH_x7680_y24576_patch00338.png: [Errno 2] No such file or directory: 'D'\n",
      "❌ Failed on TCGA-EI-6507_MSIH_x7680_y25088_patch00339.png: [Errno 2] No such file or directory: 'D'\n",
      "❌ Failed on TCGA-EI-6507_MSIH_x7680_y25600_patch00340.png: [Errno 2] No such file or directory: 'D'\n",
      "❌ Failed on TCGA-EI-6507_MSIH_x7680_y26112_patch00341.png: [Errno 2] No such file or directory: 'D'\n",
      "❌ Failed on TCGA-EI-6507_MSIH_x7680_y26624_patch00342.png: [Errno 2] No such file or directory: 'D'\n",
      "❌ Failed on TCGA-EI-6507_MSIH_x7680_y27136_patch00343.png: [Errno 2] No such file or directory: 'D'\n",
      "❌ Failed on TCGA-EI-6507_MSIH_x7680_y27648_patch00344.png: [Errno 2] No such file or directory: 'D'\n",
      "❌ Failed on TCGA-EI-6507_MSIH_x7680_y28160_patch00345.png: [Errno 2] No such file or directory: 'D'\n",
      "❌ Failed on TCGA-EI-6507_MSIH_x8192_y10240_patch00347.png: [Errno 2] No such file or directory: 'D'\n",
      "❌ Failed on TCGA-EI-6507_MSIH_x8192_y10752_patch00348.png: [Errno 2] No such file or directory: 'D'\n",
      "❌ Failed on TCGA-EI-6507_MSIH_x8192_y11264_patch00349.png: [Errno 2] No such file or directory: 'D'\n",
      "❌ Failed on TCGA-EI-6507_MSIH_x8192_y11776_patch00350.png: [Errno 2] No such file or directory: 'D'\n",
      "❌ Failed on TCGA-EI-6507_MSIH_x8192_y12288_patch00351.png: [Errno 2] No such file or directory: 'D'\n",
      "❌ Failed on TCGA-EI-6507_MSIH_x8192_y12800_patch00352.png: [Errno 2] No such file or directory: 'D'\n",
      "❌ Failed on TCGA-EI-6507_MSIH_x8192_y13312_patch00353.png: [Errno 2] No such file or directory: 'D'\n",
      "❌ Failed on TCGA-EI-6507_MSIH_x8192_y13824_patch00354.png: [Errno 2] No such file or directory: 'D'\n",
      "❌ Failed on TCGA-EI-6507_MSIH_x8192_y14336_patch00355.png: [Errno 2] No such file or directory: 'D'\n",
      "❌ Failed on TCGA-EI-6507_MSIH_x8192_y14848_patch00356.png: [Errno 2] No such file or directory: 'D'\n",
      "❌ Failed on TCGA-EI-6507_MSIH_x8192_y15360_patch00357.png: [Errno 2] No such file or directory: 'D'\n",
      "❌ Failed on TCGA-EI-6507_MSIH_x8192_y15872_patch00358.png: [Errno 2] No such file or directory: 'D'\n",
      "❌ Failed on TCGA-EI-6507_MSIH_x8192_y16384_patch00359.png: [Errno 2] No such file or directory: 'D'\n",
      "❌ Failed on TCGA-EI-6507_MSIH_x8192_y16896_patch00360.png: [Errno 2] No such file or directory: 'D'\n",
      "❌ Failed on TCGA-EI-6507_MSIH_x8192_y17408_patch00361.png: [Errno 2] No such file or directory: 'D'\n",
      "❌ Failed on TCGA-EI-6507_MSIH_x8192_y17920_patch00362.png: [Errno 2] No such file or directory: 'D'\n",
      "❌ Failed on TCGA-EI-6507_MSIH_x8192_y18432_patch00363.png: [Errno 2] No such file or directory: 'D'\n",
      "❌ Failed on TCGA-EI-6507_MSIH_x8192_y18944_patch00364.png: [Errno 2] No such file or directory: 'D'\n",
      "❌ Failed on TCGA-EI-6507_MSIH_x8192_y19456_patch00365.png: [Errno 2] No such file or directory: 'D'\n",
      "❌ Failed on TCGA-EI-6507_MSIH_x8192_y19968_patch00366.png: [Errno 2] No such file or directory: 'D'\n",
      "❌ Failed on TCGA-EI-6507_MSIH_x8192_y20480_patch00367.png: [Errno 2] No such file or directory: 'D'\n",
      "❌ Failed on TCGA-EI-6507_MSIH_x8192_y20992_patch00368.png: [Errno 2] No such file or directory: 'D'\n",
      "❌ Failed on TCGA-EI-6507_MSIH_x8192_y21504_patch00369.png: [Errno 2] No such file or directory: 'D'\n",
      "❌ Failed on TCGA-EI-6507_MSIH_x8192_y22016_patch00370.png: [Errno 2] No such file or directory: 'D'\n",
      "❌ Failed on TCGA-EI-6507_MSIH_x8192_y22528_patch00371.png: [Errno 2] No such file or directory: 'D'\n",
      "❌ Failed on TCGA-EI-6507_MSIH_x8192_y23040_patch00372.png: [Errno 2] No such file or directory: 'D'\n",
      "❌ Failed on TCGA-EI-6507_MSIH_x8192_y23552_patch00373.png: [Errno 2] No such file or directory: 'D'\n",
      "❌ Failed on TCGA-EI-6507_MSIH_x8192_y24064_patch00374.png: [Errno 2] No such file or directory: 'D'\n",
      "❌ Failed on TCGA-EI-6507_MSIH_x8192_y24576_patch00375.png: [Errno 2] No such file or directory: 'D'\n",
      "❌ Failed on TCGA-EI-6507_MSIH_x8192_y25088_patch00376.png: [Errno 2] No such file or directory: 'D'\n",
      "❌ Failed on TCGA-EI-6507_MSIH_x8192_y25600_patch00377.png: [Errno 2] No such file or directory: 'D'\n",
      "❌ Failed on TCGA-EI-6507_MSIH_x8192_y26112_patch00378.png: [Errno 2] No such file or directory: 'D'\n",
      "❌ Failed on TCGA-EI-6507_MSIH_x8192_y26624_patch00379.png: [Errno 2] No such file or directory: 'D'\n",
      "❌ Failed on TCGA-EI-6507_MSIH_x8192_y27136_patch00380.png: [Errno 2] No such file or directory: 'D'\n",
      "❌ Failed on TCGA-EI-6507_MSIH_x8192_y27648_patch00381.png: [Errno 2] No such file or directory: 'D'\n",
      "❌ Failed on TCGA-EI-6507_MSIH_x8192_y28160_patch00382.png: [Errno 2] No such file or directory: 'D'\n",
      "❌ Failed on TCGA-EI-6507_MSIH_x8192_y28672_patch00383.png: [Errno 2] No such file or directory: 'D'\n",
      "❌ Failed on TCGA-EI-6507_MSIH_x8192_y9728_patch00346.png: [Errno 2] No such file or directory: 'D'\n",
      "❌ Failed on TCGA-EI-6507_MSIH_x8704_y10240_patch00386.png: [Errno 2] No such file or directory: 'D'\n",
      "❌ Failed on TCGA-EI-6507_MSIH_x8704_y10752_patch00387.png: [Errno 2] No such file or directory: 'D'\n",
      "❌ Failed on TCGA-EI-6507_MSIH_x8704_y11264_patch00388.png: [Errno 2] No such file or directory: 'D'\n",
      "❌ Failed on TCGA-EI-6507_MSIH_x8704_y11776_patch00389.png: [Errno 2] No such file or directory: 'D'\n",
      "❌ Failed on TCGA-EI-6507_MSIH_x8704_y12288_patch00390.png: [Errno 2] No such file or directory: 'D'\n",
      "❌ Failed on TCGA-EI-6507_MSIH_x8704_y12800_patch00391.png: [Errno 2] No such file or directory: 'D'\n",
      "❌ Failed on TCGA-EI-6507_MSIH_x8704_y13312_patch00392.png: [Errno 2] No such file or directory: 'D'\n",
      "❌ Failed on TCGA-EI-6507_MSIH_x8704_y13824_patch00393.png: [Errno 2] No such file or directory: 'D'\n",
      "❌ Failed on TCGA-EI-6507_MSIH_x8704_y14336_patch00394.png: [Errno 2] No such file or directory: 'D'\n",
      "❌ Failed on TCGA-EI-6507_MSIH_x8704_y14848_patch00395.png: [Errno 2] No such file or directory: 'D'\n",
      "❌ Failed on TCGA-EI-6507_MSIH_x8704_y15360_patch00396.png: [Errno 2] No such file or directory: 'D'\n",
      "❌ Failed on TCGA-EI-6507_MSIH_x8704_y15872_patch00397.png: [Errno 2] No such file or directory: 'D'\n",
      "❌ Failed on TCGA-EI-6507_MSIH_x8704_y16384_patch00398.png: [Errno 2] No such file or directory: 'D'\n",
      "❌ Failed on TCGA-EI-6507_MSIH_x8704_y16896_patch00399.png: [Errno 2] No such file or directory: 'D'\n",
      "❌ Failed on TCGA-EI-6507_MSIH_x8704_y17408_patch00400.png: [Errno 2] No such file or directory: 'D'\n",
      "❌ Failed on TCGA-EI-6507_MSIH_x8704_y17920_patch00401.png: [Errno 2] No such file or directory: 'D'\n",
      "❌ Failed on TCGA-EI-6507_MSIH_x8704_y18432_patch00402.png: [Errno 2] No such file or directory: 'D'\n",
      "❌ Failed on TCGA-EI-6507_MSIH_x8704_y18944_patch00403.png: [Errno 2] No such file or directory: 'D'\n",
      "❌ Failed on TCGA-EI-6507_MSIH_x8704_y19456_patch00404.png: [Errno 2] No such file or directory: 'D'\n",
      "❌ Failed on TCGA-EI-6507_MSIH_x8704_y19968_patch00405.png: [Errno 2] No such file or directory: 'D'\n",
      "❌ Failed on TCGA-EI-6507_MSIH_x8704_y20480_patch00406.png: [Errno 2] No such file or directory: 'D'\n",
      "❌ Failed on TCGA-EI-6507_MSIH_x8704_y20992_patch00407.png: [Errno 2] No such file or directory: 'D'\n",
      "❌ Failed on TCGA-EI-6507_MSIH_x8704_y21504_patch00408.png: [Errno 2] No such file or directory: 'D'\n",
      "❌ Failed on TCGA-EI-6507_MSIH_x8704_y22016_patch00409.png: [Errno 2] No such file or directory: 'D'\n",
      "❌ Failed on TCGA-EI-6507_MSIH_x8704_y22528_patch00410.png: [Errno 2] No such file or directory: 'D'\n",
      "❌ Failed on TCGA-EI-6507_MSIH_x8704_y23040_patch00411.png: [Errno 2] No such file or directory: 'D'\n",
      "❌ Failed on TCGA-EI-6507_MSIH_x8704_y23552_patch00412.png: [Errno 2] No such file or directory: 'D'\n",
      "❌ Failed on TCGA-EI-6507_MSIH_x8704_y24064_patch00413.png: [Errno 2] No such file or directory: 'D'\n",
      "❌ Failed on TCGA-EI-6507_MSIH_x8704_y24576_patch00414.png: [Errno 2] No such file or directory: 'D'\n",
      "❌ Failed on TCGA-EI-6507_MSIH_x8704_y25088_patch00415.png: [Errno 2] No such file or directory: 'D'\n",
      "❌ Failed on TCGA-EI-6507_MSIH_x8704_y25600_patch00416.png: [Errno 2] No such file or directory: 'D'\n",
      "❌ Failed on TCGA-EI-6507_MSIH_x8704_y26112_patch00417.png: [Errno 2] No such file or directory: 'D'\n",
      "❌ Failed on TCGA-EI-6507_MSIH_x8704_y26624_patch00418.png: [Errno 2] No such file or directory: 'D'\n",
      "❌ Failed on TCGA-EI-6507_MSIH_x8704_y27136_patch00419.png: [Errno 2] No such file or directory: 'D'\n",
      "❌ Failed on TCGA-EI-6507_MSIH_x8704_y27648_patch00420.png: [Errno 2] No such file or directory: 'D'\n",
      "❌ Failed on TCGA-EI-6507_MSIH_x8704_y28160_patch00421.png: [Errno 2] No such file or directory: 'D'\n",
      "❌ Failed on TCGA-EI-6507_MSIH_x8704_y28672_patch00422.png: [Errno 2] No such file or directory: 'D'\n",
      "❌ Failed on TCGA-EI-6507_MSIH_x8704_y29184_patch00423.png: [Errno 2] No such file or directory: 'D'\n",
      "❌ Failed on TCGA-EI-6507_MSIH_x8704_y9216_patch00384.png: [Errno 2] No such file or directory: 'D'\n",
      "❌ Failed on TCGA-EI-6507_MSIH_x8704_y9728_patch00385.png: [Errno 2] No such file or directory: 'D'\n",
      "❌ Failed on TCGA-EI-6507_MSIH_x9216_y10240_patch00427.png: [Errno 2] No such file or directory: 'D'\n",
      "❌ Failed on TCGA-EI-6507_MSIH_x9216_y10752_patch00428.png: [Errno 2] No such file or directory: 'D'\n",
      "❌ Failed on TCGA-EI-6507_MSIH_x9216_y11264_patch00429.png: [Errno 2] No such file or directory: 'D'\n",
      "❌ Failed on TCGA-EI-6507_MSIH_x9216_y11776_patch00430.png: [Errno 2] No such file or directory: 'D'\n",
      "❌ Failed on TCGA-EI-6507_MSIH_x9216_y12288_patch00431.png: [Errno 2] No such file or directory: 'D'\n",
      "❌ Failed on TCGA-EI-6507_MSIH_x9216_y12800_patch00432.png: [Errno 2] No such file or directory: 'D'\n",
      "❌ Failed on TCGA-EI-6507_MSIH_x9216_y13312_patch00433.png: [Errno 2] No such file or directory: 'D'\n",
      "❌ Failed on TCGA-EI-6507_MSIH_x9216_y13824_patch00434.png: [Errno 2] No such file or directory: 'D'\n",
      "❌ Failed on TCGA-EI-6507_MSIH_x9216_y14336_patch00435.png: [Errno 2] No such file or directory: 'D'\n",
      "❌ Failed on TCGA-EI-6507_MSIH_x9216_y14848_patch00436.png: [Errno 2] No such file or directory: 'D'\n",
      "❌ Failed on TCGA-EI-6507_MSIH_x9216_y15360_patch00437.png: [Errno 2] No such file or directory: 'D'\n",
      "❌ Failed on TCGA-EI-6507_MSIH_x9216_y15872_patch00438.png: [Errno 2] No such file or directory: 'D'\n",
      "❌ Failed on TCGA-EI-6507_MSIH_x9216_y16384_patch00439.png: [Errno 2] No such file or directory: 'D'\n",
      "❌ Failed on TCGA-EI-6507_MSIH_x9216_y16896_patch00440.png: [Errno 2] No such file or directory: 'D'\n",
      "❌ Failed on TCGA-EI-6507_MSIH_x9216_y17408_patch00441.png: [Errno 2] No such file or directory: 'D'\n",
      "❌ Failed on TCGA-EI-6507_MSIH_x9216_y17920_patch00442.png: [Errno 2] No such file or directory: 'D'\n",
      "❌ Failed on TCGA-EI-6507_MSIH_x9216_y18432_patch00443.png: [Errno 2] No such file or directory: 'D'\n",
      "❌ Failed on TCGA-EI-6507_MSIH_x9216_y18944_patch00444.png: [Errno 2] No such file or directory: 'D'\n",
      "❌ Failed on TCGA-EI-6507_MSIH_x9216_y19456_patch00445.png: [Errno 2] No such file or directory: 'D'\n",
      "❌ Failed on TCGA-EI-6507_MSIH_x9216_y19968_patch00446.png: [Errno 2] No such file or directory: 'D'\n",
      "❌ Failed on TCGA-EI-6507_MSIH_x9216_y20480_patch00447.png: [Errno 2] No such file or directory: 'D'\n",
      "❌ Failed on TCGA-EI-6507_MSIH_x9216_y20992_patch00448.png: [Errno 2] No such file or directory: 'D'\n",
      "❌ Failed on TCGA-EI-6507_MSIH_x9216_y21504_patch00449.png: [Errno 2] No such file or directory: 'D'\n",
      "❌ Failed on TCGA-EI-6507_MSIH_x9216_y22016_patch00450.png: [Errno 2] No such file or directory: 'D'\n",
      "❌ Failed on TCGA-EI-6507_MSIH_x9216_y22528_patch00451.png: [Errno 2] No such file or directory: 'D'\n",
      "❌ Failed on TCGA-EI-6507_MSIH_x9216_y23040_patch00452.png: [Errno 2] No such file or directory: 'D'\n",
      "❌ Failed on TCGA-EI-6507_MSIH_x9216_y23552_patch00453.png: [Errno 2] No such file or directory: 'D'\n",
      "❌ Failed on TCGA-EI-6507_MSIH_x9216_y24064_patch00454.png: [Errno 2] No such file or directory: 'D'\n",
      "❌ Failed on TCGA-EI-6507_MSIH_x9216_y24576_patch00455.png: [Errno 2] No such file or directory: 'D'\n",
      "❌ Failed on TCGA-EI-6507_MSIH_x9216_y25088_patch00456.png: [Errno 2] No such file or directory: 'D'\n",
      "❌ Failed on TCGA-EI-6507_MSIH_x9216_y25600_patch00457.png: [Errno 2] No such file or directory: 'D'\n",
      "❌ Failed on TCGA-EI-6507_MSIH_x9216_y26112_patch00458.png: [Errno 2] No such file or directory: 'D'\n",
      "❌ Failed on TCGA-EI-6507_MSIH_x9216_y26624_patch00459.png: [Errno 2] No such file or directory: 'D'\n",
      "❌ Failed on TCGA-EI-6507_MSIH_x9216_y27136_patch00460.png: [Errno 2] No such file or directory: 'D'\n",
      "❌ Failed on TCGA-EI-6507_MSIH_x9216_y27648_patch00461.png: [Errno 2] No such file or directory: 'D'\n",
      "❌ Failed on TCGA-EI-6507_MSIH_x9216_y28160_patch00462.png: [Errno 2] No such file or directory: 'D'\n",
      "❌ Failed on TCGA-EI-6507_MSIH_x9216_y28672_patch00463.png: [Errno 2] No such file or directory: 'D'\n",
      "❌ Failed on TCGA-EI-6507_MSIH_x9216_y29184_patch00464.png: [Errno 2] No such file or directory: 'D'\n",
      "❌ Failed on TCGA-EI-6507_MSIH_x9216_y29696_patch00465.png: [Errno 2] No such file or directory: 'D'\n",
      "❌ Failed on TCGA-EI-6507_MSIH_x9216_y8704_patch00424.png: [Errno 2] No such file or directory: 'D'\n",
      "❌ Failed on TCGA-EI-6507_MSIH_x9216_y9216_patch00425.png: [Errno 2] No such file or directory: 'D'\n",
      "❌ Failed on TCGA-EI-6507_MSIH_x9216_y9728_patch00426.png: [Errno 2] No such file or directory: 'D'\n",
      "❌ Failed on TCGA-EI-6507_MSIH_x9728_y10240_patch00469.png: [Errno 2] No such file or directory: 'D'\n",
      "❌ Failed on TCGA-EI-6507_MSIH_x9728_y10752_patch00470.png: [Errno 2] No such file or directory: 'D'\n",
      "❌ Failed on TCGA-EI-6507_MSIH_x9728_y11264_patch00471.png: [Errno 2] No such file or directory: 'D'\n",
      "❌ Failed on TCGA-EI-6507_MSIH_x9728_y11776_patch00472.png: [Errno 2] No such file or directory: 'D'\n",
      "❌ Failed on TCGA-EI-6507_MSIH_x9728_y12288_patch00473.png: [Errno 2] No such file or directory: 'D'\n",
      "❌ Failed on TCGA-EI-6507_MSIH_x9728_y12800_patch00474.png: [Errno 2] No such file or directory: 'D'\n",
      "❌ Failed on TCGA-EI-6507_MSIH_x9728_y13312_patch00475.png: [Errno 2] No such file or directory: 'D'\n",
      "❌ Failed on TCGA-EI-6507_MSIH_x9728_y13824_patch00476.png: [Errno 2] No such file or directory: 'D'\n",
      "❌ Failed on TCGA-EI-6507_MSIH_x9728_y14336_patch00477.png: [Errno 2] No such file or directory: 'D'\n",
      "❌ Failed on TCGA-EI-6507_MSIH_x9728_y14848_patch00478.png: [Errno 2] No such file or directory: 'D'\n",
      "❌ Failed on TCGA-EI-6507_MSIH_x9728_y15360_patch00479.png: [Errno 2] No such file or directory: 'D'\n",
      "❌ Failed on TCGA-EI-6507_MSIH_x9728_y15872_patch00480.png: [Errno 2] No such file or directory: 'D'\n",
      "❌ Failed on TCGA-EI-6507_MSIH_x9728_y16384_patch00481.png: [Errno 2] No such file or directory: 'D'\n",
      "❌ Failed on TCGA-EI-6507_MSIH_x9728_y16896_patch00482.png: [Errno 2] No such file or directory: 'D'\n",
      "❌ Failed on TCGA-EI-6507_MSIH_x9728_y17408_patch00483.png: [Errno 2] No such file or directory: 'D'\n",
      "❌ Failed on TCGA-EI-6507_MSIH_x9728_y17920_patch00484.png: [Errno 2] No such file or directory: 'D'\n",
      "❌ Failed on TCGA-EI-6507_MSIH_x9728_y18432_patch00485.png: [Errno 2] No such file or directory: 'D'\n",
      "❌ Failed on TCGA-EI-6507_MSIH_x9728_y18944_patch00486.png: [Errno 2] No such file or directory: 'D'\n",
      "❌ Failed on TCGA-EI-6507_MSIH_x9728_y19456_patch00487.png: [Errno 2] No such file or directory: 'D'\n",
      "❌ Failed on TCGA-EI-6507_MSIH_x9728_y19968_patch00488.png: [Errno 2] No such file or directory: 'D'\n",
      "❌ Failed on TCGA-EI-6507_MSIH_x9728_y20480_patch00489.png: [Errno 2] No such file or directory: 'D'\n",
      "❌ Failed on TCGA-EI-6507_MSIH_x9728_y20992_patch00490.png: [Errno 2] No such file or directory: 'D'\n",
      "❌ Failed on TCGA-EI-6507_MSIH_x9728_y21504_patch00491.png: [Errno 2] No such file or directory: 'D'\n",
      "❌ Failed on TCGA-EI-6507_MSIH_x9728_y22016_patch00492.png: [Errno 2] No such file or directory: 'D'\n",
      "❌ Failed on TCGA-EI-6507_MSIH_x9728_y22528_patch00493.png: [Errno 2] No such file or directory: 'D'\n",
      "❌ Failed on TCGA-EI-6507_MSIH_x9728_y23040_patch00494.png: [Errno 2] No such file or directory: 'D'\n",
      "❌ Failed on TCGA-EI-6507_MSIH_x9728_y23552_patch00495.png: [Errno 2] No such file or directory: 'D'\n",
      "❌ Failed on TCGA-EI-6507_MSIH_x9728_y24064_patch00496.png: [Errno 2] No such file or directory: 'D'\n",
      "❌ Failed on TCGA-EI-6507_MSIH_x9728_y24576_patch00497.png: [Errno 2] No such file or directory: 'D'\n",
      "❌ Failed on TCGA-EI-6507_MSIH_x9728_y25088_patch00498.png: [Errno 2] No such file or directory: 'D'\n",
      "❌ Failed on TCGA-EI-6507_MSIH_x9728_y25600_patch00499.png: [Errno 2] No such file or directory: 'D'\n",
      "❌ Failed on TCGA-EI-6507_MSIH_x9728_y26112_patch00500.png: [Errno 2] No such file or directory: 'D'\n",
      "❌ Failed on TCGA-EI-6507_MSIH_x9728_y26624_patch00501.png: [Errno 2] No such file or directory: 'D'\n",
      "❌ Failed on TCGA-EI-6507_MSIH_x9728_y27136_patch00502.png: [Errno 2] No such file or directory: 'D'\n",
      "❌ Failed on TCGA-EI-6507_MSIH_x9728_y27648_patch00503.png: [Errno 2] No such file or directory: 'D'\n",
      "❌ Failed on TCGA-EI-6507_MSIH_x9728_y28160_patch00504.png: [Errno 2] No such file or directory: 'D'\n",
      "❌ Failed on TCGA-EI-6507_MSIH_x9728_y28672_patch00505.png: [Errno 2] No such file or directory: 'D'\n",
      "❌ Failed on TCGA-EI-6507_MSIH_x9728_y29184_patch00506.png: [Errno 2] No such file or directory: 'D'\n",
      "❌ Failed on TCGA-EI-6507_MSIH_x9728_y29696_patch00507.png: [Errno 2] No such file or directory: 'D'\n",
      "❌ Failed on TCGA-EI-6507_MSIH_x9728_y8704_patch00466.png: [Errno 2] No such file or directory: 'D'\n",
      "❌ Failed on TCGA-EI-6507_MSIH_x9728_y9216_patch00467.png: [Errno 2] No such file or directory: 'D'\n",
      "❌ Failed on TCGA-EI-6507_MSIH_x9728_y9728_patch00468.png: [Errno 2] No such file or directory: 'D'\n",
      "✅ Feature extraction complete.\n"
     ]
    },
    {
     "name": "stderr",
     "output_type": "stream",
     "text": [
      "\n"
     ]
    }
   ],
   "source": [
    "import os\n",
    "import torch\n",
    "from PIL import Image\n",
    "from tqdm import tqdm\n",
    "\n",
    "# Assuming your ConchFeatureExtractorFiveCrop class is already defined above\n",
    "\n",
    "def extract_features_from_png_folder(\n",
    "    image_folder: str,\n",
    "    output_folder: str,\n",
    "    extractor: ConchFeatureExtractorFiveCrop\n",
    "):\n",
    "    os.makedirs(output_folder, exist_ok=True)\n",
    "\n",
    "    png_files = [f for f in os.listdir(image_folder) if f.lower().endswith('.png')]\n",
    "    print(f\"🔍 Found {len(png_files)} PNG files in {image_folder}\")\n",
    "\n",
    "    for filename in tqdm(png_files, desc=\"Extracting features\"):\n",
    "        image_path = os.path.join(image_folder, filename)\n",
    "        try:\n",
    "            features = extractor.extract_fivecrop_features(image_path)  # (5, D)\n",
    "            if features.shape[0] != 5:\n",
    "                print(f\"⚠️ Skipped {filename}: unexpected shape {features.shape}\")\n",
    "                continue\n",
    "\n",
    "            save_path = os.path.join(output_folder, filename.replace('.png', '.pt'))\n",
    "            torch.save(features.contiguous(), save_path, _use_new_zipfile_serialization=False)\n",
    "        except Exception as e:\n",
    "            print(f\"❌ Failed on {filename}: {e}\")\n",
    "\n",
    "    print(\"✅ Feature extraction complete.\")\n",
    "\n",
    "\n",
    "# ==== Run This Section ====\n",
    "if __name__ == \"__main__\":\n",
    "    # Instantiate extractor\n",
    "    extractor = ConchFeatureExtractorFiveCrop()\n",
    "\n",
    "    # Define input/output\n",
    "    image_folder = \"D:\\Aamir Gulzar\\KSA_project2\\dataset\\patch_data\\TCGA-EI-6507_MSIH\"    # 🔁 CHANGE THIS\n",
    "    output_folder = r\"D:\\Aamir Gulzar\\KSA_project2\\dataset\\Features\\Test\"  # 🔁 CHANGE THIS\n",
    "\n",
    "    # Run extraction\n",
    "    extract_features_from_png_folder(image_folder, output_folder, extractor)\n"
   ]
  },
  {
   "cell_type": "markdown",
   "id": "bf78871e",
   "metadata": {},
   "source": [
    "## Sirs method"
   ]
  },
  {
   "cell_type": "code",
   "execution_count": 14,
   "id": "5cff905b",
   "metadata": {},
   "outputs": [],
   "source": [
    "model = AutoModel.from_pretrained(\"MahmoodLab/TITAN\", trust_remote_code=True)\n",
    "eval_transform = model.return_conch()\n",
    "fivecrop_transform = transforms.Compose([\n",
    "            # transforms.Resize(256),\n",
    "            transforms.FiveCrop(224),  # yields tuple of 5 images\n",
    "            transforms.Lambda(lambda crops: torch.stack([eval_transform(c) for c in crops]))\n",
    "])\n",
    "\n",
    "# make dataloader for WSI patches\n",
    "import os\n",
    "from tqdm import tqdm\n",
    "\n",
    "@torch.no_grad()\n",
    "def extract_embeddings_patch_by_patch(model, dataloader, save_dir):\n",
    "    \"\"\"\n",
    "    Extract and save embeddings for each WSI, patch by patch, without averaging the five crops.\n",
    "    Args:\n",
    "    - model: The model used to extract embeddings.\n",
    "    - dataloader: Dataloader providing WSI patches and labels.\n",
    "    - save_dir: Directory where the extracted embeddings will be saved.\n",
    "    Returns:\n",
    "    - None: The function saves the extracted embeddings to disk.\n",
    "    \"\"\"\n",
    "    device = next(model.parameters()).device\n",
    "    print(f'The size of input dataloader is {len(dataloader)}')\n",
    "\n",
    "    for batch_idx, (images, labels) in tqdm(enumerate(dataloader), total=len(dataloader)):\n",
    "        wsi_name = dataloader.dataset.slides[batch_idx]\n",
    "        print(f\"Processing WSI {batch_idx+1} {wsi_name}\")\n",
    "        # make a new directory for each WSI\n",
    "        save_dir_wsi = os.path.join(save_dir, f'{wsi_name}')\n",
    "        # Check if the WSI directory already exists, skip if processed\n",
    "        if os.path.exists(save_dir_wsi):\n",
    "            print(f\"WSI {batch_idx+1} {wsi_name} already processed. Skipping...\")\n",
    "            continue\n",
    "        os.makedirs(save_dir_wsi, exist_ok=True)\n",
    "        batch_indices = dataloader.batch_sampler.indices[batch_idx]        \n",
    "        for patch_idx, dataset_idx in enumerate(batch_indices):  # Loop through indices of patches for current WSI\n",
    "            patch_name = os.path.splitext(os.path.basename(dataloader.dataset.tiles[dataset_idx]))[0]\n",
    "            image = images[patch_idx]\n",
    "            label = labels[patch_idx]\n",
    "            image = image.permute(0, 2, 3, 1).cpu().numpy()  # Convert to (num_crops, H, W, C)\n",
    "            image = (image * 255).astype(np.uint8)  # Convert back to uint8 format\n",
    "            # Apply Normalization on Each Crop (Matching Virchow2 & Conch)\n",
    "            image = torch.stack([fivecrop_transform(Image.fromarray(im)) for im in image])\n",
    "            # Move image to the same device as the model\n",
    "            image = image.to(device)\n",
    "            # Extract embeddings\n",
    "            with torch.inference_mode():\n",
    "                # Extract embeddings for the chunk\n",
    "                features = model(image)\n",
    "            # Save embeddings to disk\n",
    "            save_path = os.path.join(save_dir_wsi, f'{patch_name}.pt')\n",
    "            # print(f\"Saving features for patch {i + 1} to {save_path}\")\n",
    "            torch.save(features, save_path)\n",
    "            # also save in simple text format in text file\n",
    "            # save_path_txt = os.path.join(save_dir_wsi, f'{wsi_name}_{i}.txt')\n",
    "            # np.savetxt(save_path_txt, features.cpu().numpy() , delimiter=\",\")"
   ]
  },
  {
   "cell_type": "markdown",
   "id": "9ef030c0",
   "metadata": {},
   "source": [
    "## Final Pipeline Updated"
   ]
  },
  {
   "cell_type": "code",
   "execution_count": 2,
   "id": "14b40b34",
   "metadata": {},
   "outputs": [],
   "source": [
    "from tqdm import tqdm\n",
    "import pandas as pd\n",
    "import torch\n",
    "import os\n",
    "import glob\n",
    "\n",
    "def run_full_pipeline_fivecrop(\n",
    "    patch_data_dir: str,\n",
    "    extractor,\n",
    "    non_white_csv: str,\n",
    "    output_root: str\n",
    "):\n",
    "    # Load metadata\n",
    "    non_white_df = pd.read_csv(non_white_csv)\n",
    "    valid_patch_names = set(non_white_df['patch_name'].astype(str))\n",
    "\n",
    "    # Iterate through all slides with tqdm\n",
    "    slide_dirs = glob.glob(os.path.join(patch_data_dir, \"*\"))\n",
    "    for slide_dir in tqdm(slide_dirs, desc=\"🧩 Processing slides\", unit=\"slide\", position=0):\n",
    "        slide_name = os.path.basename(slide_dir)\n",
    "        patch_feat_dir = os.path.join(output_root, slide_name)\n",
    "        os.makedirs(patch_feat_dir, exist_ok=True)\n",
    "\n",
    "        # Filter valid patches\n",
    "        all_patches = glob.glob(os.path.join(slide_dir, \"*.png\"))\n",
    "        valid_patch_paths = [p for p in all_patches if os.path.basename(p) in valid_patch_names]\n",
    "\n",
    "        if not valid_patch_paths:\n",
    "            tqdm.write(f\"  ❌ No valid non-white patches found for {slide_name}\")\n",
    "            continue\n",
    "\n",
    "        # Get already processed patch names\n",
    "        existing_feats = set(os.path.splitext(f.name)[0] for f in os.scandir(patch_feat_dir) if f.name.endswith(\".pt\"))\n",
    "\n",
    "        # Filter out already processed patches\n",
    "        to_process = [p for p in valid_patch_paths if os.path.splitext(os.path.basename(p))[0] not in existing_feats]\n",
    "\n",
    "        if not to_process:\n",
    "            tqdm.write(f\"  ⏭️ Skipped: All {len(valid_patch_paths)} patches already processed for {slide_name}\")\n",
    "            continue\n",
    "\n",
    "        # ▶️ Patch-level progress bar (with position=1)\n",
    "        for patch_path in tqdm(to_process, desc=f\"🔄 {slide_name}\", unit=\"patch\", position=1, leave=False):\n",
    "            patch_name = os.path.splitext(os.path.basename(patch_path))[0]\n",
    "            save_path = os.path.join(patch_feat_dir, patch_name + \".pt\")\n",
    "\n",
    "            try:\n",
    "                features = extractor.extract_fivecrop_features(patch_path)  # (5, D)\n",
    "                torch.save(features, save_path)\n",
    "            except Exception as e:\n",
    "                tqdm.write(f\"  ❌ Failed to process patch {patch_path}: {e}\")\n",
    "                continue\n",
    "\n",
    "        tqdm.write(f\"  ✅ Done: Processed {len(to_process)} new patches (total: {len(valid_patch_paths)}) for {slide_name}\")"
   ]
  },
  {
   "cell_type": "code",
   "execution_count": 5,
   "id": "c5f7624d",
   "metadata": {},
   "outputs": [
    {
     "name": "stdout",
     "output_type": "stream",
     "text": [
      "Token will not been saved to git credential helper. Pass `add_to_git_credential=True` if you want to set the git credential as well.\n",
      "Token is valid (permission: fineGrained).\n",
      "Your token has been saved to C:\\Users\\datainsight\\.cache\\huggingface\\token\n",
      "Login successful\n"
     ]
    },
    {
     "name": "stderr",
     "output_type": "stream",
     "text": [
      "🧩 Processing slides:   0%|          | 1/417 [00:00<00:51,  8.12slide/s]"
     ]
    },
    {
     "name": "stdout",
     "output_type": "stream",
     "text": [
      "  ⏭️ Skipped: All 1878 patches already processed for TCGA-3L-AA1B_nonMSIH\n"
     ]
    },
    {
     "name": "stderr",
     "output_type": "stream",
     "text": [
      "🧩 Processing slides:   0%|          | 2/417 [00:00<01:53,  3.67slide/s]"
     ]
    },
    {
     "name": "stdout",
     "output_type": "stream",
     "text": [
      "  ⏭️ Skipped: All 4240 patches already processed for TCGA-4N-A93T_nonMSIH\n"
     ]
    },
    {
     "name": "stderr",
     "output_type": "stream",
     "text": [
      "🧩 Processing slides:   1%|          | 4/417 [00:00<01:34,  4.39slide/s]"
     ]
    },
    {
     "name": "stdout",
     "output_type": "stream",
     "text": [
      "  ⏭️ Skipped: All 6411 patches already processed for TCGA-5M-AAT4_nonMSIH\n",
      "  ⏭️ Skipped: All 4320 patches already processed for TCGA-5M-AAT6_MSIH\n"
     ]
    },
    {
     "name": "stderr",
     "output_type": "stream",
     "text": [
      "🧩 Processing slides:   1%|▏         | 6/417 [00:01<02:04,  3.31slide/s]"
     ]
    },
    {
     "name": "stdout",
     "output_type": "stream",
     "text": [
      "  ⏭️ Skipped: All 7583 patches already processed for TCGA-5M-AATE_nonMSIH\n",
      "  ⏭️ Skipped: All 710 patches already processed for TCGA-A6-2671_nonMSIH\n"
     ]
    },
    {
     "name": "stderr",
     "output_type": "stream",
     "text": [
      "🧩 Processing slides:   2%|▏         | 8/417 [00:02<01:31,  4.49slide/s]"
     ]
    },
    {
     "name": "stdout",
     "output_type": "stream",
     "text": [
      "  ⏭️ Skipped: All 840 patches already processed for TCGA-A6-2681_nonMSIH\n",
      "  ⏭️ Skipped: All 2428 patches already processed for TCGA-A6-2685_nonMSIH\n"
     ]
    },
    {
     "name": "stderr",
     "output_type": "stream",
     "text": [
      "🧩 Processing slides:   2%|▏         | 10/417 [00:02<01:25,  4.77slide/s]"
     ]
    },
    {
     "name": "stdout",
     "output_type": "stream",
     "text": [
      "  ⏭️ Skipped: All 2258 patches already processed for TCGA-A6-2686_MSIH\n",
      "  ⏭️ Skipped: All 2337 patches already processed for TCGA-A6-3807_nonMSIH\n"
     ]
    },
    {
     "name": "stderr",
     "output_type": "stream",
     "text": [
      "🧩 Processing slides:   3%|▎         | 11/417 [00:02<01:24,  4.83slide/s]"
     ]
    },
    {
     "name": "stdout",
     "output_type": "stream",
     "text": [
      "  ⏭️ Skipped: All 2365 patches already processed for TCGA-A6-4105_nonMSIH\n",
      "  ⏭️ Skipped: All 836 patches already processed for TCGA-A6-4107_nonMSIH\n"
     ]
    },
    {
     "name": "stderr",
     "output_type": "stream",
     "text": [
      "🧩 Processing slides:   3%|▎         | 14/417 [00:03<01:07,  5.97slide/s]"
     ]
    },
    {
     "name": "stdout",
     "output_type": "stream",
     "text": [
      "  ⏭️ Skipped: All 1047 patches already processed for TCGA-A6-5657_nonMSIH\n",
      "  ⏭️ Skipped: All 1016 patches already processed for TCGA-A6-5660_nonMSIH\n"
     ]
    },
    {
     "name": "stderr",
     "output_type": "stream",
     "text": [
      "🧩 Processing slides:   4%|▎         | 15/417 [00:03<01:02,  6.48slide/s]"
     ]
    },
    {
     "name": "stdout",
     "output_type": "stream",
     "text": [
      "  ⏭️ Skipped: All 875 patches already processed for TCGA-A6-5661_MSIH\n",
      "  ⏭️ Skipped: All 532 patches already processed for TCGA-A6-5662_nonMSIH\n"
     ]
    },
    {
     "name": "stderr",
     "output_type": "stream",
     "text": [
      "🧩 Processing slides:   4%|▍         | 17/417 [00:03<00:55,  7.15slide/s]"
     ]
    },
    {
     "name": "stdout",
     "output_type": "stream",
     "text": [
      "  ⏭️ Skipped: All 1840 patches already processed for TCGA-A6-5664_nonMSIH\n",
      "  ⏭️ Skipped: All 764 patches already processed for TCGA-A6-5665_MSIH\n"
     ]
    },
    {
     "name": "stderr",
     "output_type": "stream",
     "text": [
      "🧩 Processing slides:   5%|▍         | 19/417 [00:03<00:51,  7.71slide/s]"
     ]
    },
    {
     "name": "stdout",
     "output_type": "stream",
     "text": [
      "  ⏭️ Skipped: All 2097 patches already processed for TCGA-A6-5666_nonMSIH\n",
      "  ⏭️ Skipped: All 415 patches already processed for TCGA-A6-5667_nonMSIH\n"
     ]
    },
    {
     "name": "stderr",
     "output_type": "stream",
     "text": [
      "🧩 Processing slides:   5%|▌         | 22/417 [00:03<00:46,  8.45slide/s]"
     ]
    },
    {
     "name": "stdout",
     "output_type": "stream",
     "text": [
      "  ⏭️ Skipped: All 1593 patches already processed for TCGA-A6-6137_nonMSIH\n",
      "  ⏭️ Skipped: All 1090 patches already processed for TCGA-A6-6138_nonMSIH\n"
     ]
    },
    {
     "name": "stderr",
     "output_type": "stream",
     "text": [
      "🧩 Processing slides:   5%|▌         | 22/417 [00:04<00:46,  8.45slide/s]"
     ]
    },
    {
     "name": "stdout",
     "output_type": "stream",
     "text": [
      "  ⏭️ Skipped: All 1133 patches already processed for TCGA-A6-6142_nonMSIH\n"
     ]
    },
    {
     "name": "stderr",
     "output_type": "stream",
     "text": [
      "🧩 Processing slides:   6%|▌         | 25/417 [00:04<00:47,  8.24slide/s]"
     ]
    },
    {
     "name": "stdout",
     "output_type": "stream",
     "text": [
      "  ⏭️ Skipped: All 572 patches already processed for TCGA-A6-6648_nonMSIH\n",
      "  ⏭️ Skipped: All 789 patches already processed for TCGA-A6-6649_nonMSIH\n"
     ]
    },
    {
     "name": "stderr",
     "output_type": "stream",
     "text": [
      "🧩 Processing slides:   6%|▌         | 26/417 [00:04<00:46,  8.41slide/s]"
     ]
    },
    {
     "name": "stdout",
     "output_type": "stream",
     "text": [
      "  ⏭️ Skipped: All 1110 patches already processed for TCGA-A6-6651_nonMSIH\n",
      "  ⏭️ Skipped: All 446 patches already processed for TCGA-A6-6652_nonMSIH\n"
     ]
    },
    {
     "name": "stderr",
     "output_type": "stream",
     "text": [
      "🧩 Processing slides:   7%|▋         | 29/417 [00:04<00:42,  9.04slide/s]"
     ]
    },
    {
     "name": "stdout",
     "output_type": "stream",
     "text": [
      "  ⏭️ Skipped: All 1411 patches already processed for TCGA-A6-6653_MSIH\n",
      "  ⏭️ Skipped: All 1588 patches already processed for TCGA-A6-6654_nonMSIH\n"
     ]
    },
    {
     "name": "stderr",
     "output_type": "stream",
     "text": [
      "🧩 Processing slides:   7%|▋         | 31/417 [00:05<00:48,  7.95slide/s]"
     ]
    },
    {
     "name": "stdout",
     "output_type": "stream",
     "text": [
      "  ⏭️ Skipped: All 779 patches already processed for TCGA-A6-A565_nonMSIH\n",
      "  ⏭️ Skipped: All 1716 patches already processed for TCGA-A6-A566_nonMSIH\n"
     ]
    },
    {
     "name": "stderr",
     "output_type": "stream",
     "text": [
      "🧩 Processing slides:   8%|▊         | 33/417 [00:05<00:54,  7.08slide/s]"
     ]
    },
    {
     "name": "stdout",
     "output_type": "stream",
     "text": [
      "  ⏭️ Skipped: All 2231 patches already processed for TCGA-A6-A567_nonMSIH\n",
      "  ⏭️ Skipped: All 2056 patches already processed for TCGA-A6-A56B_nonMSIH\n"
     ]
    },
    {
     "name": "stderr",
     "output_type": "stream",
     "text": [
      "🧩 Processing slides:   8%|▊         | 34/417 [00:05<01:37,  3.91slide/s]"
     ]
    },
    {
     "name": "stdout",
     "output_type": "stream",
     "text": [
      "  ⏭️ Skipped: All 5067 patches already processed for TCGA-AA-3664_nonMSIH\n"
     ]
    },
    {
     "name": "stderr",
     "output_type": "stream",
     "text": [
      "🧩 Processing slides:   8%|▊         | 35/417 [00:06<01:48,  3.52slide/s]"
     ]
    },
    {
     "name": "stdout",
     "output_type": "stream",
     "text": [
      "  ⏭️ Skipped: All 4605 patches already processed for TCGA-AA-3666_nonMSIH\n"
     ]
    },
    {
     "name": "stderr",
     "output_type": "stream",
     "text": [
      "🧩 Processing slides:   9%|▉         | 37/417 [00:06<01:22,  4.61slide/s]"
     ]
    },
    {
     "name": "stdout",
     "output_type": "stream",
     "text": [
      "  ⏭️ Skipped: All 3312 patches already processed for TCGA-AA-3667_nonMSIH\n",
      "  ⏭️ Skipped: All 1588 patches already processed for TCGA-AA-3673_nonMSIH\n"
     ]
    },
    {
     "name": "stderr",
     "output_type": "stream",
     "text": [
      "🧩 Processing slides:   9%|▉         | 38/417 [00:06<01:14,  5.09slide/s]"
     ]
    },
    {
     "name": "stdout",
     "output_type": "stream",
     "text": [
      "  ⏭️ Skipped: All 1654 patches already processed for TCGA-AA-3678_nonMSIH\n"
     ]
    },
    {
     "name": "stderr",
     "output_type": "stream",
     "text": [
      "🧩 Processing slides:   9%|▉         | 39/417 [00:07<01:29,  4.21slide/s]"
     ]
    },
    {
     "name": "stdout",
     "output_type": "stream",
     "text": [
      "  ⏭️ Skipped: All 3570 patches already processed for TCGA-AA-3679_nonMSIH\n"
     ]
    },
    {
     "name": "stderr",
     "output_type": "stream",
     "text": [
      "🧩 Processing slides:  10%|▉         | 40/417 [00:07<01:50,  3.43slide/s]"
     ]
    },
    {
     "name": "stdout",
     "output_type": "stream",
     "text": [
      "  ⏭️ Skipped: All 4503 patches already processed for TCGA-AA-3680_nonMSIH\n"
     ]
    },
    {
     "name": "stderr",
     "output_type": "stream",
     "text": [
      "🧩 Processing slides:  10%|▉         | 41/417 [00:07<01:40,  3.74slide/s]"
     ]
    },
    {
     "name": "stdout",
     "output_type": "stream",
     "text": [
      "  ⏭️ Skipped: All 2725 patches already processed for TCGA-AA-3681_nonMSIH\n"
     ]
    },
    {
     "name": "stderr",
     "output_type": "stream",
     "text": [
      "🧩 Processing slides:  10%|█         | 42/417 [00:08<03:19,  1.88slide/s]"
     ]
    },
    {
     "name": "stdout",
     "output_type": "stream",
     "text": [
      "  ⏭️ Skipped: All 13657 patches already processed for TCGA-AA-3684_nonMSIH\n"
     ]
    },
    {
     "name": "stderr",
     "output_type": "stream",
     "text": [
      "🧩 Processing slides:  10%|█         | 43/417 [00:09<02:40,  2.34slide/s]"
     ]
    },
    {
     "name": "stdout",
     "output_type": "stream",
     "text": [
      "  ⏭️ Skipped: All 3279 patches already processed for TCGA-AA-3688_nonMSIH\n"
     ]
    },
    {
     "name": "stderr",
     "output_type": "stream",
     "text": [
      "🧩 Processing slides:  11%|█         | 44/417 [00:09<02:25,  2.57slide/s]"
     ]
    },
    {
     "name": "stdout",
     "output_type": "stream",
     "text": [
      "  ⏭️ Skipped: All 2903 patches already processed for TCGA-AA-3692_nonMSIH\n"
     ]
    },
    {
     "name": "stderr",
     "output_type": "stream",
     "text": [
      "🧩 Processing slides:  11%|█         | 45/417 [00:09<02:28,  2.50slide/s]"
     ]
    },
    {
     "name": "stdout",
     "output_type": "stream",
     "text": [
      "  ⏭️ Skipped: All 4176 patches already processed for TCGA-AA-3693_nonMSIH\n"
     ]
    },
    {
     "name": "stderr",
     "output_type": "stream",
     "text": [
      "🧩 Processing slides:  11%|█         | 46/417 [00:10<02:09,  2.86slide/s]"
     ]
    },
    {
     "name": "stdout",
     "output_type": "stream",
     "text": [
      "  ⏭️ Skipped: All 2092 patches already processed for TCGA-AA-3696_nonMSIH\n"
     ]
    },
    {
     "name": "stderr",
     "output_type": "stream",
     "text": [
      "🧩 Processing slides:  11%|█▏        | 47/417 [00:10<01:55,  3.20slide/s]"
     ]
    },
    {
     "name": "stdout",
     "output_type": "stream",
     "text": [
      "  ⏭️ Skipped: All 5430 patches already processed for TCGA-AA-3715_MSIH\n"
     ]
    },
    {
     "name": "stderr",
     "output_type": "stream",
     "text": [
      "🧩 Processing slides:  12%|█▏        | 48/417 [00:10<01:53,  3.24slide/s]"
     ]
    },
    {
     "name": "stdout",
     "output_type": "stream",
     "text": [
      "  ⏭️ Skipped: All 3179 patches already processed for TCGA-AA-3811_MSIH\n"
     ]
    },
    {
     "name": "stderr",
     "output_type": "stream",
     "text": [
      "🧩 Processing slides:  12%|█▏        | 49/417 [00:10<01:55,  3.18slide/s]"
     ]
    },
    {
     "name": "stdout",
     "output_type": "stream",
     "text": [
      "  ⏭️ Skipped: All 3469 patches already processed for TCGA-AA-3812_nonMSIH\n"
     ]
    },
    {
     "name": "stderr",
     "output_type": "stream",
     "text": [
      "🧩 Processing slides:  12%|█▏        | 50/417 [00:11<01:42,  3.58slide/s]"
     ]
    },
    {
     "name": "stdout",
     "output_type": "stream",
     "text": [
      "  ⏭️ Skipped: All 1230 patches already processed for TCGA-AA-3814_nonMSIH\n"
     ]
    },
    {
     "name": "stderr",
     "output_type": "stream",
     "text": [
      "🧩 Processing slides:  12%|█▏        | 51/417 [00:11<01:31,  3.99slide/s]"
     ]
    },
    {
     "name": "stdout",
     "output_type": "stream",
     "text": [
      "  ⏭️ Skipped: All 3040 patches already processed for TCGA-AA-3818_nonMSIH\n"
     ]
    },
    {
     "name": "stderr",
     "output_type": "stream",
     "text": [
      "🧩 Processing slides:  13%|█▎        | 53/417 [00:11<01:21,  4.48slide/s]"
     ]
    },
    {
     "name": "stdout",
     "output_type": "stream",
     "text": [
      "  ⏭️ Skipped: All 2527 patches already processed for TCGA-AA-3819_nonMSIH\n",
      "  ⏭️ Skipped: All 2547 patches already processed for TCGA-AA-3821_MSIH\n"
     ]
    },
    {
     "name": "stderr",
     "output_type": "stream",
     "text": [
      "🧩 Processing slides:  13%|█▎        | 54/417 [00:11<01:27,  4.16slide/s]"
     ]
    },
    {
     "name": "stdout",
     "output_type": "stream",
     "text": [
      "  ⏭️ Skipped: All 2931 patches already processed for TCGA-AA-3831_nonMSIH\n"
     ]
    },
    {
     "name": "stderr",
     "output_type": "stream",
     "text": [
      "🧩 Processing slides:  13%|█▎        | 55/417 [00:12<01:31,  3.97slide/s]"
     ]
    },
    {
     "name": "stdout",
     "output_type": "stream",
     "text": [
      "  ⏭️ Skipped: All 5185 patches already processed for TCGA-AA-3833_MSIH\n"
     ]
    },
    {
     "name": "stderr",
     "output_type": "stream",
     "text": [
      "🧩 Processing slides:  13%|█▎        | 56/417 [00:12<01:38,  3.66slide/s]"
     ]
    },
    {
     "name": "stdout",
     "output_type": "stream",
     "text": [
      "  ⏭️ Skipped: All 3214 patches already processed for TCGA-AA-3837_nonMSIH\n"
     ]
    },
    {
     "name": "stderr",
     "output_type": "stream",
     "text": [
      "🧩 Processing slides:  14%|█▎        | 57/417 [00:12<01:28,  4.07slide/s]"
     ]
    },
    {
     "name": "stdout",
     "output_type": "stream",
     "text": [
      "  ⏭️ Skipped: All 2103 patches already processed for TCGA-AA-3842_nonMSIH\n"
     ]
    },
    {
     "name": "stderr",
     "output_type": "stream",
     "text": [
      "🧩 Processing slides:  14%|█▍        | 58/417 [00:12<01:25,  4.19slide/s]"
     ]
    },
    {
     "name": "stdout",
     "output_type": "stream",
     "text": [
      "  ⏭️ Skipped: All 2773 patches already processed for TCGA-AA-3844_nonMSIH\n"
     ]
    },
    {
     "name": "stderr",
     "output_type": "stream",
     "text": [
      "🧩 Processing slides:  14%|█▍        | 60/417 [00:13<01:16,  4.67slide/s]"
     ]
    },
    {
     "name": "stdout",
     "output_type": "stream",
     "text": [
      "  ⏭️ Skipped: All 2679 patches already processed for TCGA-AA-3845_MSIH\n",
      "  ⏭️ Skipped: All 1278 patches already processed for TCGA-AA-3846_nonMSIH\n"
     ]
    },
    {
     "name": "stderr",
     "output_type": "stream",
     "text": [
      "🧩 Processing slides:  15%|█▍        | 61/417 [00:13<01:16,  4.68slide/s]"
     ]
    },
    {
     "name": "stdout",
     "output_type": "stream",
     "text": [
      "  ⏭️ Skipped: All 4736 patches already processed for TCGA-AA-3848_nonMSIH\n"
     ]
    },
    {
     "name": "stderr",
     "output_type": "stream",
     "text": [
      "🧩 Processing slides:  15%|█▍        | 62/417 [00:13<01:15,  4.67slide/s]"
     ]
    },
    {
     "name": "stdout",
     "output_type": "stream",
     "text": [
      "  ⏭️ Skipped: All 2484 patches already processed for TCGA-AA-3850_nonMSIH\n"
     ]
    },
    {
     "name": "stderr",
     "output_type": "stream",
     "text": [
      "🧩 Processing slides:  15%|█▌        | 64/417 [00:14<01:10,  5.04slide/s]"
     ]
    },
    {
     "name": "stdout",
     "output_type": "stream",
     "text": [
      "  ⏭️ Skipped: All 2500 patches already processed for TCGA-AA-3851_nonMSIH\n",
      "  ⏭️ Skipped: All 2054 patches already processed for TCGA-AA-3852_nonMSIH\n"
     ]
    },
    {
     "name": "stderr",
     "output_type": "stream",
     "text": [
      "🧩 Processing slides:  16%|█▌        | 65/417 [00:14<01:04,  5.46slide/s]"
     ]
    },
    {
     "name": "stdout",
     "output_type": "stream",
     "text": [
      "  ⏭️ Skipped: All 1036 patches already processed for TCGA-AA-3854_nonMSIH\n"
     ]
    },
    {
     "name": "stderr",
     "output_type": "stream",
     "text": [
      "🧩 Processing slides:  16%|█▌        | 66/417 [00:14<01:18,  4.47slide/s]"
     ]
    },
    {
     "name": "stdout",
     "output_type": "stream",
     "text": [
      "  ⏭️ Skipped: All 3536 patches already processed for TCGA-AA-3855_nonMSIH\n"
     ]
    },
    {
     "name": "stderr",
     "output_type": "stream",
     "text": [
      "🧩 Processing slides:  16%|█▋        | 68/417 [00:15<01:48,  3.23slide/s]"
     ]
    },
    {
     "name": "stdout",
     "output_type": "stream",
     "text": [
      "  ⏭️ Skipped: All 6984 patches already processed for TCGA-AA-3856_nonMSIH\n",
      "  ⏭️ Skipped: All 755 patches already processed for TCGA-AA-3858_nonMSIH\n"
     ]
    },
    {
     "name": "stderr",
     "output_type": "stream",
     "text": [
      "🧩 Processing slides:  17%|█▋        | 69/417 [00:15<01:30,  3.85slide/s]"
     ]
    },
    {
     "name": "stdout",
     "output_type": "stream",
     "text": [
      "  ⏭️ Skipped: All 2829 patches already processed for TCGA-AA-3864_MSIH\n"
     ]
    },
    {
     "name": "stderr",
     "output_type": "stream",
     "text": [
      "🧩 Processing slides:  17%|█▋        | 71/417 [00:16<01:34,  3.67slide/s]"
     ]
    },
    {
     "name": "stdout",
     "output_type": "stream",
     "text": [
      "  ⏭️ Skipped: All 2526 patches already processed for TCGA-AA-3866_nonMSIH\n",
      "  ⏭️ Skipped: All 2358 patches already processed for TCGA-AA-3867_nonMSIH\n"
     ]
    },
    {
     "name": "stderr",
     "output_type": "stream",
     "text": [
      "🧩 Processing slides:  17%|█▋        | 72/417 [00:16<01:28,  3.91slide/s]"
     ]
    },
    {
     "name": "stdout",
     "output_type": "stream",
     "text": [
      "  ⏭️ Skipped: All 2653 patches already processed for TCGA-AA-3875_nonMSIH\n"
     ]
    },
    {
     "name": "stderr",
     "output_type": "stream",
     "text": [
      "🧩 Processing slides:  18%|█▊        | 73/417 [00:16<01:27,  3.95slide/s]"
     ]
    },
    {
     "name": "stdout",
     "output_type": "stream",
     "text": [
      "  ⏭️ Skipped: All 3045 patches already processed for TCGA-AA-3877_MSIH\n"
     ]
    },
    {
     "name": "stderr",
     "output_type": "stream",
     "text": [
      "🧩 Processing slides:  18%|█▊        | 74/417 [00:17<01:48,  3.17slide/s]"
     ]
    },
    {
     "name": "stdout",
     "output_type": "stream",
     "text": [
      "  ⏭️ Skipped: All 8357 patches already processed for TCGA-AA-3947_MSIH\n"
     ]
    },
    {
     "name": "stderr",
     "output_type": "stream",
     "text": [
      "🧩 Processing slides:  18%|█▊        | 75/417 [00:17<01:35,  3.57slide/s]"
     ]
    },
    {
     "name": "stdout",
     "output_type": "stream",
     "text": [
      "  ⏭️ Skipped: All 2720 patches already processed for TCGA-AA-3949_MSIH\n"
     ]
    },
    {
     "name": "stderr",
     "output_type": "stream",
     "text": [
      "🧩 Processing slides:  18%|█▊        | 76/417 [00:17<01:34,  3.61slide/s]"
     ]
    },
    {
     "name": "stdout",
     "output_type": "stream",
     "text": [
      "  ⏭️ Skipped: All 2745 patches already processed for TCGA-AA-3950_MSIH\n"
     ]
    },
    {
     "name": "stderr",
     "output_type": "stream",
     "text": [
      "🧩 Processing slides:  18%|█▊        | 77/417 [00:17<01:32,  3.69slide/s]"
     ]
    },
    {
     "name": "stdout",
     "output_type": "stream",
     "text": [
      "  ⏭️ Skipped: All 1421 patches already processed for TCGA-AA-3952_nonMSIH\n"
     ]
    },
    {
     "name": "stderr",
     "output_type": "stream",
     "text": [
      "🧩 Processing slides:  19%|█▊        | 78/417 [00:18<01:32,  3.66slide/s]"
     ]
    },
    {
     "name": "stdout",
     "output_type": "stream",
     "text": [
      "  ⏭️ Skipped: All 3439 patches already processed for TCGA-AA-3956_nonMSIH\n"
     ]
    },
    {
     "name": "stderr",
     "output_type": "stream",
     "text": [
      "🧩 Processing slides:  19%|█▉        | 79/417 [00:18<01:46,  3.18slide/s]"
     ]
    },
    {
     "name": "stdout",
     "output_type": "stream",
     "text": [
      "  ⏭️ Skipped: All 4784 patches already processed for TCGA-AA-3966_MSIH\n"
     ]
    },
    {
     "name": "stderr",
     "output_type": "stream",
     "text": [
      "🧩 Processing slides:  19%|█▉        | 80/417 [00:19<02:45,  2.03slide/s]"
     ]
    },
    {
     "name": "stdout",
     "output_type": "stream",
     "text": [
      "  ⏭️ Skipped: All 2597 patches already processed for TCGA-AA-3968_nonMSIH\n"
     ]
    },
    {
     "name": "stderr",
     "output_type": "stream",
     "text": [
      "🧩 Processing slides:  19%|█▉        | 81/417 [00:20<02:49,  1.98slide/s]"
     ]
    },
    {
     "name": "stdout",
     "output_type": "stream",
     "text": [
      "  ⏭️ Skipped: All 5800 patches already processed for TCGA-AA-3971_nonMSIH\n"
     ]
    },
    {
     "name": "stderr",
     "output_type": "stream",
     "text": [
      "🧩 Processing slides:  20%|█▉        | 82/417 [00:20<02:35,  2.15slide/s]"
     ]
    },
    {
     "name": "stdout",
     "output_type": "stream",
     "text": [
      "  ⏭️ Skipped: All 3720 patches already processed for TCGA-AA-3973_nonMSIH\n"
     ]
    },
    {
     "name": "stderr",
     "output_type": "stream",
     "text": [
      "🧩 Processing slides:  20%|██        | 84/417 [00:21<02:12,  2.52slide/s]"
     ]
    },
    {
     "name": "stdout",
     "output_type": "stream",
     "text": [
      "  ⏭️ Skipped: All 4686 patches already processed for TCGA-AA-3975_nonMSIH\n",
      "  ⏭️ Skipped: All 1878 patches already processed for TCGA-AA-3976_nonMSIH\n"
     ]
    },
    {
     "name": "stderr",
     "output_type": "stream",
     "text": [
      "🧩 Processing slides:  20%|██        | 85/417 [00:21<02:00,  2.76slide/s]"
     ]
    },
    {
     "name": "stdout",
     "output_type": "stream",
     "text": [
      "  ⏭️ Skipped: All 3148 patches already processed for TCGA-AA-3979_nonMSIH\n"
     ]
    },
    {
     "name": "stderr",
     "output_type": "stream",
     "text": [
      "🧩 Processing slides:  21%|██        | 86/417 [00:21<01:57,  2.81slide/s]"
     ]
    },
    {
     "name": "stdout",
     "output_type": "stream",
     "text": [
      "  ⏭️ Skipped: All 3833 patches already processed for TCGA-AA-3982_nonMSIH\n"
     ]
    },
    {
     "name": "stderr",
     "output_type": "stream",
     "text": [
      "🧩 Processing slides:  21%|██        | 87/417 [00:22<02:06,  2.62slide/s]"
     ]
    },
    {
     "name": "stdout",
     "output_type": "stream",
     "text": [
      "  ⏭️ Skipped: All 3813 patches already processed for TCGA-AA-3984_nonMSIH\n"
     ]
    },
    {
     "name": "stderr",
     "output_type": "stream",
     "text": [
      "🧩 Processing slides:  21%|██        | 88/417 [00:22<02:34,  2.13slide/s]"
     ]
    },
    {
     "name": "stdout",
     "output_type": "stream",
     "text": [
      "  ⏭️ Skipped: All 7708 patches already processed for TCGA-AA-3986_nonMSIH\n"
     ]
    },
    {
     "name": "stderr",
     "output_type": "stream",
     "text": [
      "🧩 Processing slides:  21%|██▏       | 89/417 [00:23<02:22,  2.30slide/s]"
     ]
    },
    {
     "name": "stdout",
     "output_type": "stream",
     "text": [
      "  ⏭️ Skipped: All 2661 patches already processed for TCGA-AA-3989_nonMSIH\n"
     ]
    },
    {
     "name": "stderr",
     "output_type": "stream",
     "text": [
      "🧩 Processing slides:  22%|██▏       | 90/417 [00:23<02:10,  2.51slide/s]"
     ]
    },
    {
     "name": "stdout",
     "output_type": "stream",
     "text": [
      "  ⏭️ Skipped: All 1773 patches already processed for TCGA-AA-3994_nonMSIH\n"
     ]
    },
    {
     "name": "stderr",
     "output_type": "stream",
     "text": [
      "🧩 Processing slides:  22%|██▏       | 91/417 [00:24<02:20,  2.31slide/s]"
     ]
    },
    {
     "name": "stdout",
     "output_type": "stream",
     "text": [
      "  ⏭️ Skipped: All 7149 patches already processed for TCGA-AA-A010_nonMSIH\n"
     ]
    },
    {
     "name": "stderr",
     "output_type": "stream",
     "text": [
      "🧩 Processing slides:  22%|██▏       | 92/417 [00:24<02:57,  1.83slide/s]"
     ]
    },
    {
     "name": "stdout",
     "output_type": "stream",
     "text": [
      "  ⏭️ Skipped: All 8176 patches already processed for TCGA-AA-A01P_MSIH\n"
     ]
    },
    {
     "name": "stderr",
     "output_type": "stream",
     "text": [
      "🧩 Processing slides:  22%|██▏       | 93/417 [00:25<03:19,  1.62slide/s]"
     ]
    },
    {
     "name": "stdout",
     "output_type": "stream",
     "text": [
      "  ⏭️ Skipped: All 8904 patches already processed for TCGA-AA-A01R_MSIH\n"
     ]
    },
    {
     "name": "stderr",
     "output_type": "stream",
     "text": [
      "🧩 Processing slides:  23%|██▎       | 94/417 [00:26<03:12,  1.67slide/s]"
     ]
    },
    {
     "name": "stdout",
     "output_type": "stream",
     "text": [
      "  ⏭️ Skipped: All 6357 patches already processed for TCGA-AA-A01S_nonMSIH\n"
     ]
    },
    {
     "name": "stderr",
     "output_type": "stream",
     "text": [
      "🧩 Processing slides:  23%|██▎       | 95/417 [00:26<03:00,  1.79slide/s]"
     ]
    },
    {
     "name": "stdout",
     "output_type": "stream",
     "text": [
      "  ⏭️ Skipped: All 3198 patches already processed for TCGA-AA-A01T_nonMSIH\n"
     ]
    },
    {
     "name": "stderr",
     "output_type": "stream",
     "text": [
      "🧩 Processing slides:  23%|██▎       | 96/417 [00:27<03:39,  1.46slide/s]"
     ]
    },
    {
     "name": "stdout",
     "output_type": "stream",
     "text": [
      "  ⏭️ Skipped: All 10531 patches already processed for TCGA-AA-A01V_nonMSIH\n"
     ]
    },
    {
     "name": "stderr",
     "output_type": "stream",
     "text": [
      "🧩 Processing slides:  23%|██▎       | 97/417 [00:28<03:21,  1.59slide/s]"
     ]
    },
    {
     "name": "stdout",
     "output_type": "stream",
     "text": [
      "  ⏭️ Skipped: All 6090 patches already processed for TCGA-AA-A01X_nonMSIH\n"
     ]
    },
    {
     "name": "stderr",
     "output_type": "stream",
     "text": [
      "🧩 Processing slides:  24%|██▎       | 98/417 [00:28<03:06,  1.71slide/s]"
     ]
    },
    {
     "name": "stdout",
     "output_type": "stream",
     "text": [
      "  ⏭️ Skipped: All 5584 patches already processed for TCGA-AA-A01Z_nonMSIH\n"
     ]
    },
    {
     "name": "stderr",
     "output_type": "stream",
     "text": [
      "🧩 Processing slides:  24%|██▎       | 99/417 [00:29<03:09,  1.68slide/s]"
     ]
    },
    {
     "name": "stdout",
     "output_type": "stream",
     "text": [
      "  ⏭️ Skipped: All 5716 patches already processed for TCGA-AA-A024_nonMSIH\n"
     ]
    },
    {
     "name": "stderr",
     "output_type": "stream",
     "text": [
      "🧩 Processing slides:  24%|██▍       | 100/417 [00:29<02:45,  1.92slide/s]"
     ]
    },
    {
     "name": "stdout",
     "output_type": "stream",
     "text": [
      "  ⏭️ Skipped: All 3789 patches already processed for TCGA-AA-A02E_nonMSIH\n"
     ]
    },
    {
     "name": "stderr",
     "output_type": "stream",
     "text": [
      "🧩 Processing slides:  24%|██▍       | 101/417 [00:30<03:10,  1.66slide/s]"
     ]
    },
    {
     "name": "stdout",
     "output_type": "stream",
     "text": [
      "  ⏭️ Skipped: All 8534 patches already processed for TCGA-AA-A02F_nonMSIH\n"
     ]
    },
    {
     "name": "stderr",
     "output_type": "stream",
     "text": [
      "🧩 Processing slides:  24%|██▍       | 102/417 [00:30<02:58,  1.77slide/s]"
     ]
    },
    {
     "name": "stdout",
     "output_type": "stream",
     "text": [
      "  ⏭️ Skipped: All 4208 patches already processed for TCGA-AA-A02H_nonMSIH\n"
     ]
    },
    {
     "name": "stderr",
     "output_type": "stream",
     "text": [
      "🧩 Processing slides:  25%|██▍       | 103/417 [00:31<02:48,  1.86slide/s]"
     ]
    },
    {
     "name": "stdout",
     "output_type": "stream",
     "text": [
      "  ⏭️ Skipped: All 5532 patches already processed for TCGA-AA-A02O_nonMSIH\n"
     ]
    },
    {
     "name": "stderr",
     "output_type": "stream",
     "text": [
      "🧩 Processing slides:  25%|██▍       | 104/417 [00:31<02:33,  2.04slide/s]"
     ]
    },
    {
     "name": "stdout",
     "output_type": "stream",
     "text": [
      "  ⏭️ Skipped: All 3045 patches already processed for TCGA-AA-A02Y_nonMSIH\n"
     ]
    },
    {
     "name": "stderr",
     "output_type": "stream",
     "text": [
      "🧩 Processing slides:  25%|██▌       | 105/417 [00:32<02:24,  2.16slide/s]"
     ]
    },
    {
     "name": "stdout",
     "output_type": "stream",
     "text": [
      "  ⏭️ Skipped: All 3970 patches already processed for TCGA-AA-A03F_nonMSIH\n"
     ]
    },
    {
     "name": "stderr",
     "output_type": "stream",
     "text": [
      "🧩 Processing slides:  26%|██▌       | 107/417 [00:33<02:24,  2.14slide/s]"
     ]
    },
    {
     "name": "stdout",
     "output_type": "stream",
     "text": [
      "  ⏭️ Skipped: All 9459 patches already processed for TCGA-AA-A03J_nonMSIH\n",
      "  ⏭️ Skipped: All 575 patches already processed for TCGA-AD-5900_MSIH\n"
     ]
    },
    {
     "name": "stderr",
     "output_type": "stream",
     "text": [
      "🧩 Processing slides:  26%|██▌       | 109/417 [00:33<01:31,  3.35slide/s]"
     ]
    },
    {
     "name": "stdout",
     "output_type": "stream",
     "text": [
      "  ⏭️ Skipped: All 429 patches already processed for TCGA-AD-6548_nonMSIH\n",
      "  ⏭️ Skipped: All 896 patches already processed for TCGA-AD-6888_nonMSIH\n"
     ]
    },
    {
     "name": "stderr",
     "output_type": "stream",
     "text": [
      "🧩 Processing slides:  27%|██▋       | 112/417 [00:33<01:00,  5.02slide/s]"
     ]
    },
    {
     "name": "stdout",
     "output_type": "stream",
     "text": [
      "  ⏭️ Skipped: All 2116 patches already processed for TCGA-AD-6889_MSIH\n",
      "  ⏭️ Skipped: All 367 patches already processed for TCGA-AD-6890_nonMSIH\n",
      "  ⏭️ Skipped: All 558 patches already processed for TCGA-AD-6901_nonMSIH\n"
     ]
    },
    {
     "name": "stderr",
     "output_type": "stream",
     "text": [
      "🧩 Processing slides:  27%|██▋       | 113/417 [00:33<00:57,  5.30slide/s]"
     ]
    },
    {
     "name": "stdout",
     "output_type": "stream",
     "text": [
      "  ⏭️ Skipped: All 320 patches already processed for TCGA-AD-6963_nonMSIH\n"
     ]
    },
    {
     "name": "stderr",
     "output_type": "stream",
     "text": [
      "🧩 Processing slides:  27%|██▋       | 114/417 [00:34<00:59,  5.09slide/s]"
     ]
    },
    {
     "name": "stdout",
     "output_type": "stream",
     "text": [
      "  ⏭️ Skipped: All 1159 patches already processed for TCGA-AD-6964_MSIH\n",
      "  ⏭️ Skipped: All 444 patches already processed for TCGA-AD-6965_nonMSIH\n"
     ]
    },
    {
     "name": "stderr",
     "output_type": "stream",
     "text": [
      "🧩 Processing slides:  28%|██▊       | 117/417 [00:34<00:42,  7.08slide/s]"
     ]
    },
    {
     "name": "stdout",
     "output_type": "stream",
     "text": [
      "  ⏭️ Skipped: All 579 patches already processed for TCGA-AD-A5EJ_MSIH\n",
      "  ⏭️ Skipped: All 1069 patches already processed for TCGA-AD-A5EK_nonMSIH\n"
     ]
    },
    {
     "name": "stderr",
     "output_type": "stream",
     "text": [
      "🧩 Processing slides:  28%|██▊       | 118/417 [00:34<00:43,  6.94slide/s]"
     ]
    },
    {
     "name": "stdout",
     "output_type": "stream",
     "text": [
      "  ⏭️ Skipped: All 1369 patches already processed for TCGA-AF-2687_nonMSIH\n"
     ]
    },
    {
     "name": "stderr",
     "output_type": "stream",
     "text": [
      "🧩 Processing slides:  29%|██▉       | 120/417 [00:35<00:51,  5.75slide/s]"
     ]
    },
    {
     "name": "stdout",
     "output_type": "stream",
     "text": [
      "  ⏭️ Skipped: All 3786 patches already processed for TCGA-AF-2690_nonMSIH\n",
      "  ⏭️ Skipped: All 754 patches already processed for TCGA-AF-2693_nonMSIH\n"
     ]
    },
    {
     "name": "stderr",
     "output_type": "stream",
     "text": [
      "🧩 Processing slides:  29%|██▉       | 122/417 [00:35<00:46,  6.38slide/s]"
     ]
    },
    {
     "name": "stdout",
     "output_type": "stream",
     "text": [
      "  ⏭️ Skipped: All 1171 patches already processed for TCGA-AF-3911_nonMSIH\n",
      "  ⏭️ Skipped: All 1421 patches already processed for TCGA-AF-4110_nonMSIH\n"
     ]
    },
    {
     "name": "stderr",
     "output_type": "stream",
     "text": [
      "🧩 Processing slides:  29%|██▉       | 123/417 [00:35<00:49,  5.91slide/s]"
     ]
    },
    {
     "name": "stdout",
     "output_type": "stream",
     "text": [
      "  ⏭️ Skipped: All 1363 patches already processed for TCGA-AF-6136_nonMSIH\n",
      "  ⏭️ Skipped: All 761 patches already processed for TCGA-AF-6655_nonMSIH\n"
     ]
    },
    {
     "name": "stderr",
     "output_type": "stream",
     "text": [
      "🧩 Processing slides:  30%|██▉       | 125/417 [00:35<00:45,  6.47slide/s]"
     ]
    },
    {
     "name": "stdout",
     "output_type": "stream",
     "text": [
      "  ⏭️ Skipped: All 2574 patches already processed for TCGA-AF-6672_nonMSIH\n"
     ]
    },
    {
     "name": "stderr",
     "output_type": "stream",
     "text": [
      "🧩 Processing slides:  30%|███       | 126/417 [00:36<00:54,  5.31slide/s]"
     ]
    },
    {
     "name": "stdout",
     "output_type": "stream",
     "text": [
      "  ⏭️ Skipped: All 2962 patches already processed for TCGA-AF-A56K_nonMSIH\n"
     ]
    },
    {
     "name": "stderr",
     "output_type": "stream",
     "text": [
      "🧩 Processing slides:  30%|███       | 127/417 [00:36<01:02,  4.66slide/s]"
     ]
    },
    {
     "name": "stdout",
     "output_type": "stream",
     "text": [
      "  ⏭️ Skipped: All 3089 patches already processed for TCGA-AF-A56L_nonMSIH\n",
      "  ⏭️ Skipped: All 732 patches already processed for TCGA-AF-A56N_nonMSIH\n"
     ]
    },
    {
     "name": "stderr",
     "output_type": "stream",
     "text": [
      "🧩 Processing slides:  31%|███       | 129/417 [00:36<00:49,  5.85slide/s]"
     ]
    },
    {
     "name": "stdout",
     "output_type": "stream",
     "text": [
      "  ⏭️ Skipped: All 957 patches already processed for TCGA-AG-3726_nonMSIH\n"
     ]
    },
    {
     "name": "stderr",
     "output_type": "stream",
     "text": [
      "🧩 Processing slides:  31%|███▏      | 131/417 [00:37<00:49,  5.78slide/s]"
     ]
    },
    {
     "name": "stdout",
     "output_type": "stream",
     "text": [
      "  ⏭️ Skipped: All 1051 patches already processed for TCGA-AG-3727_nonMSIH\n",
      "  ⏭️ Skipped: All 1281 patches already processed for TCGA-AG-3878_nonMSIH\n"
     ]
    },
    {
     "name": "stderr",
     "output_type": "stream",
     "text": [
      "🧩 Processing slides:  32%|███▏      | 132/417 [00:37<00:52,  5.43slide/s]"
     ]
    },
    {
     "name": "stdout",
     "output_type": "stream",
     "text": [
      "  ⏭️ Skipped: All 1685 patches already processed for TCGA-AG-3882_nonMSIH\n"
     ]
    },
    {
     "name": "stderr",
     "output_type": "stream",
     "text": [
      "🧩 Processing slides:  32%|███▏      | 134/417 [00:37<01:03,  4.44slide/s]"
     ]
    },
    {
     "name": "stdout",
     "output_type": "stream",
     "text": [
      "  ⏭️ Skipped: All 3637 patches already processed for TCGA-AG-3883_nonMSIH\n",
      "  ⏭️ Skipped: All 1939 patches already processed for TCGA-AG-3885_nonMSIH\n"
     ]
    },
    {
     "name": "stderr",
     "output_type": "stream",
     "text": [
      "🧩 Processing slides:  32%|███▏      | 135/417 [00:37<00:55,  5.10slide/s]"
     ]
    },
    {
     "name": "stdout",
     "output_type": "stream",
     "text": [
      "  ⏭️ Skipped: All 1270 patches already processed for TCGA-AG-3887_nonMSIH\n"
     ]
    },
    {
     "name": "stderr",
     "output_type": "stream",
     "text": [
      "🧩 Processing slides:  33%|███▎      | 136/417 [00:38<01:06,  4.20slide/s]"
     ]
    },
    {
     "name": "stdout",
     "output_type": "stream",
     "text": [
      "  ⏭️ Skipped: All 3201 patches already processed for TCGA-AG-3890_nonMSIH\n"
     ]
    },
    {
     "name": "stderr",
     "output_type": "stream",
     "text": [
      "🧩 Processing slides:  33%|███▎      | 138/417 [00:38<01:09,  4.00slide/s]"
     ]
    },
    {
     "name": "stdout",
     "output_type": "stream",
     "text": [
      "  ⏭️ Skipped: All 2705 patches already processed for TCGA-AG-3892_nonMSIH\n",
      "  ⏭️ Skipped: All 1552 patches already processed for TCGA-AG-3893_nonMSIH\n"
     ]
    },
    {
     "name": "stderr",
     "output_type": "stream",
     "text": [
      "🧩 Processing slides:  33%|███▎      | 139/417 [00:39<01:07,  4.13slide/s]"
     ]
    },
    {
     "name": "stdout",
     "output_type": "stream",
     "text": [
      "  ⏭️ Skipped: All 2294 patches already processed for TCGA-AG-3894_nonMSIH\n"
     ]
    },
    {
     "name": "stderr",
     "output_type": "stream",
     "text": [
      "🧩 Processing slides:  34%|███▎      | 140/417 [00:39<01:13,  3.75slide/s]"
     ]
    },
    {
     "name": "stdout",
     "output_type": "stream",
     "text": [
      "  ⏭️ Skipped: All 3182 patches already processed for TCGA-AG-3896_nonMSIH\n"
     ]
    },
    {
     "name": "stderr",
     "output_type": "stream",
     "text": [
      "🧩 Processing slides:  34%|███▍      | 142/417 [00:39<01:08,  4.01slide/s]"
     ]
    },
    {
     "name": "stdout",
     "output_type": "stream",
     "text": [
      "  ⏭️ Skipped: All 3845 patches already processed for TCGA-AG-3898_nonMSIH\n",
      "  ⏭️ Skipped: All 1396 patches already processed for TCGA-AG-3901_nonMSIH\n"
     ]
    },
    {
     "name": "stderr",
     "output_type": "stream",
     "text": [
      "🧩 Processing slides:  34%|███▍      | 143/417 [00:40<01:10,  3.88slide/s]"
     ]
    },
    {
     "name": "stdout",
     "output_type": "stream",
     "text": [
      "  ⏭️ Skipped: All 4048 patches already processed for TCGA-AG-3902_nonMSIH\n"
     ]
    },
    {
     "name": "stderr",
     "output_type": "stream",
     "text": [
      "🧩 Processing slides:  35%|███▍      | 144/417 [00:40<01:09,  3.91slide/s]"
     ]
    },
    {
     "name": "stdout",
     "output_type": "stream",
     "text": [
      "  ⏭️ Skipped: All 2468 patches already processed for TCGA-AG-3909_nonMSIH\n"
     ]
    },
    {
     "name": "stderr",
     "output_type": "stream",
     "text": [
      "🧩 Processing slides:  35%|███▍      | 145/417 [00:40<01:19,  3.43slide/s]"
     ]
    },
    {
     "name": "stdout",
     "output_type": "stream",
     "text": [
      "  ⏭️ Skipped: All 3369 patches already processed for TCGA-AG-4001_nonMSIH\n"
     ]
    },
    {
     "name": "stderr",
     "output_type": "stream",
     "text": [
      "🧩 Processing slides:  35%|███▌      | 146/417 [00:41<01:23,  3.24slide/s]"
     ]
    },
    {
     "name": "stdout",
     "output_type": "stream",
     "text": [
      "  ⏭️ Skipped: All 3037 patches already processed for TCGA-AG-4008_nonMSIH\n"
     ]
    },
    {
     "name": "stderr",
     "output_type": "stream",
     "text": [
      "🧩 Processing slides:  35%|███▌      | 147/417 [00:41<01:14,  3.63slide/s]"
     ]
    },
    {
     "name": "stdout",
     "output_type": "stream",
     "text": [
      "  ⏭️ Skipped: All 2503 patches already processed for TCGA-AG-4015_nonMSIH\n"
     ]
    },
    {
     "name": "stderr",
     "output_type": "stream",
     "text": [
      "🧩 Processing slides:  35%|███▌      | 148/417 [00:41<01:23,  3.23slide/s]"
     ]
    },
    {
     "name": "stdout",
     "output_type": "stream",
     "text": [
      "  ⏭️ Skipped: All 4554 patches already processed for TCGA-AG-4021_nonMSIH\n"
     ]
    },
    {
     "name": "stderr",
     "output_type": "stream",
     "text": [
      "🧩 Processing slides:  36%|███▌      | 149/417 [00:42<01:22,  3.27slide/s]"
     ]
    },
    {
     "name": "stdout",
     "output_type": "stream",
     "text": [
      "  ⏭️ Skipped: All 3776 patches already processed for TCGA-AG-4022_nonMSIH\n"
     ]
    },
    {
     "name": "stderr",
     "output_type": "stream",
     "text": [
      "🧩 Processing slides:  36%|███▌      | 150/417 [00:42<01:25,  3.12slide/s]"
     ]
    },
    {
     "name": "stdout",
     "output_type": "stream",
     "text": [
      "  ⏭️ Skipped: All 4172 patches already processed for TCGA-AG-A002_nonMSIH\n"
     ]
    },
    {
     "name": "stderr",
     "output_type": "stream",
     "text": [
      "🧩 Processing slides:  36%|███▌      | 151/417 [00:42<01:36,  2.77slide/s]"
     ]
    },
    {
     "name": "stdout",
     "output_type": "stream",
     "text": [
      "  ⏭️ Skipped: All 4871 patches already processed for TCGA-AG-A008_nonMSIH\n"
     ]
    },
    {
     "name": "stderr",
     "output_type": "stream",
     "text": [
      "🧩 Processing slides:  36%|███▋      | 152/417 [00:43<01:31,  2.91slide/s]"
     ]
    },
    {
     "name": "stdout",
     "output_type": "stream",
     "text": [
      "  ⏭️ Skipped: All 3215 patches already processed for TCGA-AG-A00C_nonMSIH\n"
     ]
    },
    {
     "name": "stderr",
     "output_type": "stream",
     "text": [
      "🧩 Processing slides:  37%|███▋      | 153/417 [00:43<01:18,  3.35slide/s]"
     ]
    },
    {
     "name": "stdout",
     "output_type": "stream",
     "text": [
      "  ⏭️ Skipped: All 2627 patches already processed for TCGA-AG-A011_nonMSIH\n"
     ]
    },
    {
     "name": "stderr",
     "output_type": "stream",
     "text": [
      "🧩 Processing slides:  37%|███▋      | 154/417 [00:44<01:48,  2.43slide/s]"
     ]
    },
    {
     "name": "stdout",
     "output_type": "stream",
     "text": [
      "  ⏭️ Skipped: All 5589 patches already processed for TCGA-AG-A015_nonMSIH\n"
     ]
    },
    {
     "name": "stderr",
     "output_type": "stream",
     "text": [
      "🧩 Processing slides:  37%|███▋      | 156/417 [00:44<01:13,  3.54slide/s]"
     ]
    },
    {
     "name": "stdout",
     "output_type": "stream",
     "text": [
      "  ⏭️ Skipped: All 3382 patches already processed for TCGA-AG-A016_nonMSIH\n",
      "  ⏭️ Skipped: All 1317 patches already processed for TCGA-AG-A01L_nonMSIH\n"
     ]
    },
    {
     "name": "stderr",
     "output_type": "stream",
     "text": [
      "🧩 Processing slides:  38%|███▊      | 157/417 [00:44<01:08,  3.79slide/s]"
     ]
    },
    {
     "name": "stdout",
     "output_type": "stream",
     "text": [
      "  ⏭️ Skipped: All 2394 patches already processed for TCGA-AG-A01N_nonMSIH\n"
     ]
    },
    {
     "name": "stderr",
     "output_type": "stream",
     "text": [
      "🧩 Processing slides:  38%|███▊      | 158/417 [00:45<01:36,  2.68slide/s]"
     ]
    },
    {
     "name": "stdout",
     "output_type": "stream",
     "text": [
      "  ⏭️ Skipped: All 8906 patches already processed for TCGA-AG-A01W_nonMSIH\n"
     ]
    },
    {
     "name": "stderr",
     "output_type": "stream",
     "text": [
      "🧩 Processing slides:  38%|███▊      | 159/417 [00:45<01:37,  2.65slide/s]"
     ]
    },
    {
     "name": "stdout",
     "output_type": "stream",
     "text": [
      "  ⏭️ Skipped: All 5119 patches already processed for TCGA-AG-A01Y_nonMSIH\n"
     ]
    },
    {
     "name": "stderr",
     "output_type": "stream",
     "text": [
      "🧩 Processing slides:  38%|███▊      | 160/417 [00:45<01:30,  2.82slide/s]"
     ]
    },
    {
     "name": "stdout",
     "output_type": "stream",
     "text": [
      "  ⏭️ Skipped: All 3363 patches already processed for TCGA-AG-A020_nonMSIH\n"
     ]
    },
    {
     "name": "stderr",
     "output_type": "stream",
     "text": [
      "🧩 Processing slides:  39%|███▊      | 161/417 [00:46<01:24,  3.04slide/s]"
     ]
    },
    {
     "name": "stdout",
     "output_type": "stream",
     "text": [
      "  ⏭️ Skipped: All 3001 patches already processed for TCGA-AG-A026_nonMSIH\n"
     ]
    },
    {
     "name": "stderr",
     "output_type": "stream",
     "text": [
      "🧩 Processing slides:  39%|███▉      | 162/417 [00:46<01:22,  3.08slide/s]"
     ]
    },
    {
     "name": "stdout",
     "output_type": "stream",
     "text": [
      "  ⏭️ Skipped: All 4418 patches already processed for TCGA-AG-A02N_MSIH\n"
     ]
    },
    {
     "name": "stderr",
     "output_type": "stream",
     "text": [
      "🧩 Processing slides:  39%|███▉      | 164/417 [00:46<01:02,  4.07slide/s]"
     ]
    },
    {
     "name": "stdout",
     "output_type": "stream",
     "text": [
      "  ⏭️ Skipped: All 1831 patches already processed for TCGA-AG-A02X_nonMSIH\n",
      "  ⏭️ Skipped: All 1509 patches already processed for TCGA-AH-6544_nonMSIH\n"
     ]
    },
    {
     "name": "stderr",
     "output_type": "stream",
     "text": [
      "🧩 Processing slides:  40%|███▉      | 166/417 [00:47<00:45,  5.53slide/s]"
     ]
    },
    {
     "name": "stdout",
     "output_type": "stream",
     "text": [
      "  ⏭️ Skipped: All 241 patches already processed for TCGA-AH-6547_nonMSIH\n",
      "  ⏭️ Skipped: All 1122 patches already processed for TCGA-AH-6643_nonMSIH\n"
     ]
    },
    {
     "name": "stderr",
     "output_type": "stream",
     "text": [
      "🧩 Processing slides:  40%|████      | 168/417 [00:47<00:37,  6.61slide/s]"
     ]
    },
    {
     "name": "stdout",
     "output_type": "stream",
     "text": [
      "  ⏭️ Skipped: All 557 patches already processed for TCGA-AH-6644_nonMSIH\n",
      "  ⏭️ Skipped: All 818 patches already processed for TCGA-AH-6897_nonMSIH\n"
     ]
    },
    {
     "name": "stderr",
     "output_type": "stream",
     "text": [
      "🧩 Processing slides:  41%|████      | 170/417 [00:47<00:34,  7.11slide/s]"
     ]
    },
    {
     "name": "stdout",
     "output_type": "stream",
     "text": [
      "  ⏭️ Skipped: All 650 patches already processed for TCGA-AH-6903_nonMSIH\n",
      "  ⏭️ Skipped: All 1562 patches already processed for TCGA-AM-5820_nonMSIH\n"
     ]
    },
    {
     "name": "stderr",
     "output_type": "stream",
     "text": [
      "🧩 Processing slides:  41%|████      | 171/417 [00:47<00:35,  6.96slide/s]"
     ]
    },
    {
     "name": "stdout",
     "output_type": "stream",
     "text": [
      "  ⏭️ Skipped: All 2035 patches already processed for TCGA-AM-5821_MSIH\n"
     ]
    },
    {
     "name": "stderr",
     "output_type": "stream",
     "text": [
      "🧩 Processing slides:  41%|████▏     | 173/417 [00:48<00:37,  6.45slide/s]"
     ]
    },
    {
     "name": "stdout",
     "output_type": "stream",
     "text": [
      "  ⏭️ Skipped: All 543 patches already processed for TCGA-AU-3779_nonMSIH\n",
      "  ⏭️ Skipped: All 1168 patches already processed for TCGA-AU-6004_MSIH\n"
     ]
    },
    {
     "name": "stderr",
     "output_type": "stream",
     "text": [
      "🧩 Processing slides:  42%|████▏     | 175/417 [00:48<00:27,  8.90slide/s]"
     ]
    },
    {
     "name": "stdout",
     "output_type": "stream",
     "text": [
      "  ⏭️ Skipped: All 335 patches already processed for TCGA-AY-4070_nonMSIH\n",
      "  ⏭️ Skipped: All 426 patches already processed for TCGA-AY-4071_nonMSIH\n"
     ]
    },
    {
     "name": "stderr",
     "output_type": "stream",
     "text": [
      "🧩 Processing slides:  42%|████▏     | 176/417 [00:48<00:32,  7.30slide/s]"
     ]
    },
    {
     "name": "stdout",
     "output_type": "stream",
     "text": [
      "  ⏭️ Skipped: All 2816 patches already processed for TCGA-AY-5543_nonMSIH\n"
     ]
    },
    {
     "name": "stderr",
     "output_type": "stream",
     "text": [
      "🧩 Processing slides:  42%|████▏     | 177/417 [00:48<00:45,  5.28slide/s]"
     ]
    },
    {
     "name": "stdout",
     "output_type": "stream",
     "text": [
      "  ⏭️ Skipped: All 3831 patches already processed for TCGA-AY-6196_nonMSIH\n"
     ]
    },
    {
     "name": "stderr",
     "output_type": "stream",
     "text": [
      "🧩 Processing slides:  43%|████▎     | 178/417 [00:48<00:49,  4.87slide/s]"
     ]
    },
    {
     "name": "stdout",
     "output_type": "stream",
     "text": [
      "  ⏭️ Skipped: All 2829 patches already processed for TCGA-AY-6197_MSIH\n"
     ]
    },
    {
     "name": "stderr",
     "output_type": "stream",
     "text": [
      "🧩 Processing slides:  43%|████▎     | 179/417 [00:49<00:49,  4.85slide/s]"
     ]
    },
    {
     "name": "stdout",
     "output_type": "stream",
     "text": [
      "  ⏭️ Skipped: All 1862 patches already processed for TCGA-AY-6386_nonMSIH\n"
     ]
    },
    {
     "name": "stderr",
     "output_type": "stream",
     "text": [
      "🧩 Processing slides:  43%|████▎     | 180/417 [00:49<00:50,  4.73slide/s]"
     ]
    },
    {
     "name": "stdout",
     "output_type": "stream",
     "text": [
      "  ⏭️ Skipped: All 2604 patches already processed for TCGA-AY-A54L_nonMSIH\n"
     ]
    },
    {
     "name": "stderr",
     "output_type": "stream",
     "text": [
      "🧩 Processing slides:  43%|████▎     | 181/417 [00:49<00:49,  4.75slide/s]"
     ]
    },
    {
     "name": "stdout",
     "output_type": "stream",
     "text": [
      "  ⏭️ Skipped: All 1739 patches already processed for TCGA-AY-A69D_nonMSIH\n"
     ]
    },
    {
     "name": "stderr",
     "output_type": "stream",
     "text": [
      "🧩 Processing slides:  44%|████▎     | 182/417 [00:49<01:02,  3.76slide/s]"
     ]
    },
    {
     "name": "stdout",
     "output_type": "stream",
     "text": [
      "  ⏭️ Skipped: All 5452 patches already processed for TCGA-AY-A71X_nonMSIH\n"
     ]
    },
    {
     "name": "stderr",
     "output_type": "stream",
     "text": [
      "🧩 Processing slides:  44%|████▍     | 184/417 [00:50<00:48,  4.81slide/s]"
     ]
    },
    {
     "name": "stdout",
     "output_type": "stream",
     "text": [
      "  ⏭️ Skipped: All 1686 patches already processed for TCGA-AY-A8YK_nonMSIH\n",
      "  ⏭️ Skipped: All 2539 patches already processed for TCGA-AZ-4308_nonMSIH\n"
     ]
    },
    {
     "name": "stderr",
     "output_type": "stream",
     "text": [
      "🧩 Processing slides:  44%|████▍     | 185/417 [00:50<01:11,  3.25slide/s]"
     ]
    },
    {
     "name": "stdout",
     "output_type": "stream",
     "text": [
      "  ⏭️ Skipped: All 4747 patches already processed for TCGA-AZ-4315_nonMSIH\n"
     ]
    },
    {
     "name": "stderr",
     "output_type": "stream",
     "text": [
      "🧩 Processing slides:  45%|████▍     | 186/417 [00:51<01:13,  3.16slide/s]"
     ]
    },
    {
     "name": "stdout",
     "output_type": "stream",
     "text": [
      "  ⏭️ Skipped: All 4415 patches already processed for TCGA-AZ-4614_nonMSIH\n"
     ]
    },
    {
     "name": "stderr",
     "output_type": "stream",
     "text": [
      "🧩 Processing slides:  45%|████▍     | 187/417 [00:51<01:08,  3.35slide/s]"
     ]
    },
    {
     "name": "stdout",
     "output_type": "stream",
     "text": [
      "  ⏭️ Skipped: All 4138 patches already processed for TCGA-AZ-4615_MSIH\n"
     ]
    },
    {
     "name": "stderr",
     "output_type": "stream",
     "text": [
      "🧩 Processing slides:  45%|████▌     | 188/417 [00:51<01:07,  3.37slide/s]"
     ]
    },
    {
     "name": "stdout",
     "output_type": "stream",
     "text": [
      "  ⏭️ Skipped: All 3487 patches already processed for TCGA-AZ-4616_nonMSIH\n"
     ]
    },
    {
     "name": "stderr",
     "output_type": "stream",
     "text": [
      "🧩 Processing slides:  45%|████▌     | 189/417 [00:51<01:02,  3.65slide/s]"
     ]
    },
    {
     "name": "stdout",
     "output_type": "stream",
     "text": [
      "  ⏭️ Skipped: All 2861 patches already processed for TCGA-AZ-4681_nonMSIH\n"
     ]
    },
    {
     "name": "stderr",
     "output_type": "stream",
     "text": [
      "🧩 Processing slides:  46%|████▌     | 190/417 [00:52<01:02,  3.66slide/s]"
     ]
    },
    {
     "name": "stdout",
     "output_type": "stream",
     "text": [
      "  ⏭️ Skipped: All 3556 patches already processed for TCGA-AZ-4682_nonMSIH\n"
     ]
    },
    {
     "name": "stderr",
     "output_type": "stream",
     "text": [
      "🧩 Processing slides:  46%|████▌     | 192/417 [00:52<01:00,  3.73slide/s]"
     ]
    },
    {
     "name": "stdout",
     "output_type": "stream",
     "text": [
      "  ⏭️ Skipped: All 4983 patches already processed for TCGA-AZ-5403_nonMSIH\n",
      "  ⏭️ Skipped: All 1984 patches already processed for TCGA-AZ-5407_nonMSIH\n"
     ]
    },
    {
     "name": "stderr",
     "output_type": "stream",
     "text": [
      "🧩 Processing slides:  46%|████▋     | 193/417 [00:53<00:57,  3.87slide/s]"
     ]
    },
    {
     "name": "stdout",
     "output_type": "stream",
     "text": [
      "  ⏭️ Skipped: All 3328 patches already processed for TCGA-AZ-6598_MSIH\n"
     ]
    },
    {
     "name": "stderr",
     "output_type": "stream",
     "text": [
      "🧩 Processing slides:  47%|████▋     | 194/417 [00:53<01:03,  3.49slide/s]"
     ]
    },
    {
     "name": "stdout",
     "output_type": "stream",
     "text": [
      "  ⏭️ Skipped: All 2950 patches already processed for TCGA-AZ-6599_nonMSIH\n"
     ]
    },
    {
     "name": "stderr",
     "output_type": "stream",
     "text": [
      "🧩 Processing slides:  47%|████▋     | 195/417 [00:53<01:10,  3.13slide/s]"
     ]
    },
    {
     "name": "stdout",
     "output_type": "stream",
     "text": [
      "  ⏭️ Skipped: All 4608 patches already processed for TCGA-AZ-6600_nonMSIH\n"
     ]
    },
    {
     "name": "stderr",
     "output_type": "stream",
     "text": [
      "🧩 Processing slides:  47%|████▋     | 196/417 [00:53<01:03,  3.47slide/s]"
     ]
    },
    {
     "name": "stdout",
     "output_type": "stream",
     "text": [
      "  ⏭️ Skipped: All 3851 patches already processed for TCGA-AZ-6603_nonMSIH\n"
     ]
    },
    {
     "name": "stderr",
     "output_type": "stream",
     "text": [
      "🧩 Processing slides:  47%|████▋     | 197/417 [00:54<01:02,  3.53slide/s]"
     ]
    },
    {
     "name": "stdout",
     "output_type": "stream",
     "text": [
      "  ⏭️ Skipped: All 4099 patches already processed for TCGA-AZ-6605_nonMSIH\n"
     ]
    },
    {
     "name": "stderr",
     "output_type": "stream",
     "text": [
      "🧩 Processing slides:  47%|████▋     | 198/417 [00:54<00:55,  3.92slide/s]"
     ]
    },
    {
     "name": "stdout",
     "output_type": "stream",
     "text": [
      "  ⏭️ Skipped: All 3888 patches already processed for TCGA-AZ-6606_nonMSIH\n"
     ]
    },
    {
     "name": "stderr",
     "output_type": "stream",
     "text": [
      "🧩 Processing slides:  48%|████▊     | 199/417 [00:54<01:01,  3.53slide/s]"
     ]
    },
    {
     "name": "stdout",
     "output_type": "stream",
     "text": [
      "  ⏭️ Skipped: All 2309 patches already processed for TCGA-CA-5254_nonMSIH\n"
     ]
    },
    {
     "name": "stderr",
     "output_type": "stream",
     "text": [
      "🧩 Processing slides:  48%|████▊     | 201/417 [00:55<00:47,  4.54slide/s]"
     ]
    },
    {
     "name": "stdout",
     "output_type": "stream",
     "text": [
      "  ⏭️ Skipped: All 2699 patches already processed for TCGA-CA-5255_nonMSIH\n",
      "  ⏭️ Skipped: All 1428 patches already processed for TCGA-CA-5256_nonMSIH\n"
     ]
    },
    {
     "name": "stderr",
     "output_type": "stream",
     "text": [
      "🧩 Processing slides:  49%|████▊     | 203/417 [00:55<00:44,  4.78slide/s]"
     ]
    },
    {
     "name": "stdout",
     "output_type": "stream",
     "text": [
      "  ⏭️ Skipped: All 3590 patches already processed for TCGA-CA-5796_nonMSIH\n",
      "  ⏭️ Skipped: All 1916 patches already processed for TCGA-CA-5797_nonMSIH\n"
     ]
    },
    {
     "name": "stderr",
     "output_type": "stream",
     "text": [
      "🧩 Processing slides:  49%|████▉     | 204/417 [00:56<01:02,  3.39slide/s]"
     ]
    },
    {
     "name": "stdout",
     "output_type": "stream",
     "text": [
      "  ⏭️ Skipped: All 3891 patches already processed for TCGA-CA-6715_nonMSIH\n"
     ]
    },
    {
     "name": "stderr",
     "output_type": "stream",
     "text": [
      "🧩 Processing slides:  49%|████▉     | 205/417 [00:56<01:00,  3.49slide/s]"
     ]
    },
    {
     "name": "stdout",
     "output_type": "stream",
     "text": [
      "  ⏭️ Skipped: All 3345 patches already processed for TCGA-CA-6716_nonMSIH\n"
     ]
    },
    {
     "name": "stderr",
     "output_type": "stream",
     "text": [
      "🧩 Processing slides:  49%|████▉     | 206/417 [00:56<00:53,  3.91slide/s]"
     ]
    },
    {
     "name": "stdout",
     "output_type": "stream",
     "text": [
      "  ⏭️ Skipped: All 2260 patches already processed for TCGA-CA-6717_nonMSIH\n"
     ]
    },
    {
     "name": "stderr",
     "output_type": "stream",
     "text": [
      "🧩 Processing slides:  50%|████▉     | 207/417 [00:56<00:52,  3.99slide/s]"
     ]
    },
    {
     "name": "stdout",
     "output_type": "stream",
     "text": [
      "  ⏭️ Skipped: All 2936 patches already processed for TCGA-CA-6718_nonMSIH\n"
     ]
    },
    {
     "name": "stderr",
     "output_type": "stream",
     "text": [
      "🧩 Processing slides:  50%|█████     | 210/417 [00:57<00:34,  6.07slide/s]"
     ]
    },
    {
     "name": "stdout",
     "output_type": "stream",
     "text": [
      "  ⏭️ Skipped: All 2381 patches already processed for TCGA-CA-6719_nonMSIH\n",
      "  ⏭️ Skipped: All 498 patches already processed for TCGA-CI-6622_nonMSIH\n",
      "  ⏭️ Skipped: All 990 patches already processed for TCGA-CI-6624_nonMSIH\n"
     ]
    },
    {
     "name": "stderr",
     "output_type": "stream",
     "text": [
      "🧩 Processing slides:  51%|█████     | 211/417 [00:57<00:34,  6.01slide/s]"
     ]
    },
    {
     "name": "stdout",
     "output_type": "stream",
     "text": [
      "  ⏭️ Skipped: All 5386 patches already processed for TCGA-CK-4947_nonMSIH\n"
     ]
    },
    {
     "name": "stderr",
     "output_type": "stream",
     "text": [
      "🧩 Processing slides:  51%|█████     | 212/417 [00:57<00:47,  4.28slide/s]"
     ]
    },
    {
     "name": "stdout",
     "output_type": "stream",
     "text": [
      "  ⏭️ Skipped: All 3351 patches already processed for TCGA-CK-4948_nonMSIH\n"
     ]
    },
    {
     "name": "stderr",
     "output_type": "stream",
     "text": [
      "🧩 Processing slides:  51%|█████▏    | 214/417 [00:58<00:45,  4.46slide/s]"
     ]
    },
    {
     "name": "stdout",
     "output_type": "stream",
     "text": [
      "  ⏭️ Skipped: All 4932 patches already processed for TCGA-CK-4950_nonMSIH\n",
      "  ⏭️ Skipped: All 2514 patches already processed for TCGA-CK-4951_MSIH\n"
     ]
    },
    {
     "name": "stderr",
     "output_type": "stream",
     "text": [
      "🧩 Processing slides:  52%|█████▏    | 215/417 [00:58<00:47,  4.22slide/s]"
     ]
    },
    {
     "name": "stdout",
     "output_type": "stream",
     "text": [
      "  ⏭️ Skipped: All 2891 patches already processed for TCGA-CK-4952_nonMSIH\n"
     ]
    },
    {
     "name": "stderr",
     "output_type": "stream",
     "text": [
      "🧩 Processing slides:  52%|█████▏    | 216/417 [00:58<00:56,  3.54slide/s]"
     ]
    },
    {
     "name": "stdout",
     "output_type": "stream",
     "text": [
      "  ⏭️ Skipped: All 5430 patches already processed for TCGA-CK-5912_nonMSIH\n"
     ]
    },
    {
     "name": "stderr",
     "output_type": "stream",
     "text": [
      "🧩 Processing slides:  52%|█████▏    | 217/417 [00:59<01:01,  3.27slide/s]"
     ]
    },
    {
     "name": "stdout",
     "output_type": "stream",
     "text": [
      "  ⏭️ Skipped: All 5270 patches already processed for TCGA-CK-5913_MSIH\n"
     ]
    },
    {
     "name": "stderr",
     "output_type": "stream",
     "text": [
      "🧩 Processing slides:  52%|█████▏    | 218/417 [00:59<01:01,  3.25slide/s]"
     ]
    },
    {
     "name": "stdout",
     "output_type": "stream",
     "text": [
      "  ⏭️ Skipped: All 3783 patches already processed for TCGA-CK-5914_nonMSIH\n"
     ]
    },
    {
     "name": "stderr",
     "output_type": "stream",
     "text": [
      "🧩 Processing slides:  53%|█████▎    | 219/417 [00:59<01:05,  3.02slide/s]"
     ]
    },
    {
     "name": "stdout",
     "output_type": "stream",
     "text": [
      "  ⏭️ Skipped: All 6321 patches already processed for TCGA-CK-5915_nonMSIH\n"
     ]
    },
    {
     "name": "stderr",
     "output_type": "stream",
     "text": [
      "🧩 Processing slides:  53%|█████▎    | 220/417 [01:00<01:15,  2.61slide/s]"
     ]
    },
    {
     "name": "stdout",
     "output_type": "stream",
     "text": [
      "  ⏭️ Skipped: All 5885 patches already processed for TCGA-CK-5916_MSIH\n"
     ]
    },
    {
     "name": "stderr",
     "output_type": "stream",
     "text": [
      "🧩 Processing slides:  53%|█████▎    | 221/417 [01:00<01:24,  2.32slide/s]"
     ]
    },
    {
     "name": "stdout",
     "output_type": "stream",
     "text": [
      "  ⏭️ Skipped: All 4006 patches already processed for TCGA-CK-6746_MSIH\n"
     ]
    },
    {
     "name": "stderr",
     "output_type": "stream",
     "text": [
      "🧩 Processing slides:  53%|█████▎    | 222/417 [01:01<01:40,  1.94slide/s]"
     ]
    },
    {
     "name": "stdout",
     "output_type": "stream",
     "text": [
      "  ⏭️ Skipped: All 4789 patches already processed for TCGA-CK-6747_MSIH\n"
     ]
    },
    {
     "name": "stderr",
     "output_type": "stream",
     "text": [
      "🧩 Processing slides:  53%|█████▎    | 223/417 [01:02<01:50,  1.76slide/s]"
     ]
    },
    {
     "name": "stdout",
     "output_type": "stream",
     "text": [
      "  ⏭️ Skipped: All 4901 patches already processed for TCGA-CK-6748_nonMSIH\n"
     ]
    },
    {
     "name": "stderr",
     "output_type": "stream",
     "text": [
      "🧩 Processing slides:  54%|█████▎    | 224/417 [01:02<01:52,  1.72slide/s]"
     ]
    },
    {
     "name": "stdout",
     "output_type": "stream",
     "text": [
      "  ⏭️ Skipped: All 2629 patches already processed for TCGA-CK-6751_nonMSIH\n"
     ]
    },
    {
     "name": "stderr",
     "output_type": "stream",
     "text": [
      "🧩 Processing slides:  54%|█████▍    | 225/417 [01:03<01:53,  1.69slide/s]"
     ]
    },
    {
     "name": "stdout",
     "output_type": "stream",
     "text": [
      "  ⏭️ Skipped: All 3681 patches already processed for TCGA-CL-4957_nonMSIH\n"
     ]
    },
    {
     "name": "stderr",
     "output_type": "stream",
     "text": [
      "🧩 Processing slides:  54%|█████▍    | 226/417 [01:04<01:48,  1.77slide/s]"
     ]
    },
    {
     "name": "stdout",
     "output_type": "stream",
     "text": [
      "  ⏭️ Skipped: All 3438 patches already processed for TCGA-CL-5917_nonMSIH\n"
     ]
    },
    {
     "name": "stderr",
     "output_type": "stream",
     "text": [
      "🧩 Processing slides:  54%|█████▍    | 227/417 [01:04<01:53,  1.67slide/s]"
     ]
    },
    {
     "name": "stdout",
     "output_type": "stream",
     "text": [
      "  ⏭️ Skipped: All 3912 patches already processed for TCGA-CL-5918_nonMSIH\n"
     ]
    },
    {
     "name": "stderr",
     "output_type": "stream",
     "text": [
      "🧩 Processing slides:  55%|█████▍    | 228/417 [01:05<02:06,  1.50slide/s]"
     ]
    },
    {
     "name": "stdout",
     "output_type": "stream",
     "text": [
      "  ⏭️ Skipped: All 6158 patches already processed for TCGA-CM-4743_MSIH\n"
     ]
    },
    {
     "name": "stderr",
     "output_type": "stream",
     "text": [
      "🧩 Processing slides:  55%|█████▍    | 229/417 [01:06<02:13,  1.41slide/s]"
     ]
    },
    {
     "name": "stdout",
     "output_type": "stream",
     "text": [
      "  ⏭️ Skipped: All 6826 patches already processed for TCGA-CM-4744_nonMSIH\n"
     ]
    },
    {
     "name": "stderr",
     "output_type": "stream",
     "text": [
      "🧩 Processing slides:  55%|█████▌    | 230/417 [01:07<02:24,  1.30slide/s]"
     ]
    },
    {
     "name": "stdout",
     "output_type": "stream",
     "text": [
      "  ⏭️ Skipped: All 6726 patches already processed for TCGA-CM-4746_MSIH\n"
     ]
    },
    {
     "name": "stderr",
     "output_type": "stream",
     "text": [
      "🧩 Processing slides:  55%|█████▌    | 231/417 [01:07<02:18,  1.35slide/s]"
     ]
    },
    {
     "name": "stdout",
     "output_type": "stream",
     "text": [
      "  ⏭️ Skipped: All 5154 patches already processed for TCGA-CM-4747_nonMSIH\n"
     ]
    },
    {
     "name": "stderr",
     "output_type": "stream",
     "text": [
      "🧩 Processing slides:  56%|█████▌    | 232/417 [01:08<02:24,  1.28slide/s]"
     ]
    },
    {
     "name": "stdout",
     "output_type": "stream",
     "text": [
      "  ⏭️ Skipped: All 5961 patches already processed for TCGA-CM-4750_nonMSIH\n"
     ]
    },
    {
     "name": "stderr",
     "output_type": "stream",
     "text": [
      "🧩 Processing slides:  56%|█████▌    | 233/417 [01:09<02:06,  1.45slide/s]"
     ]
    },
    {
     "name": "stdout",
     "output_type": "stream",
     "text": [
      "  ⏭️ Skipped: All 3518 patches already processed for TCGA-CM-4751_nonMSIH\n"
     ]
    },
    {
     "name": "stderr",
     "output_type": "stream",
     "text": [
      "🧩 Processing slides:  56%|█████▌    | 234/417 [01:09<02:00,  1.52slide/s]"
     ]
    },
    {
     "name": "stdout",
     "output_type": "stream",
     "text": [
      "  ⏭️ Skipped: All 3129 patches already processed for TCGA-CM-4752_nonMSIH\n"
     ]
    },
    {
     "name": "stderr",
     "output_type": "stream",
     "text": [
      "🧩 Processing slides:  56%|█████▋    | 235/417 [01:10<01:53,  1.61slide/s]"
     ]
    },
    {
     "name": "stdout",
     "output_type": "stream",
     "text": [
      "  ⏭️ Skipped: All 3227 patches already processed for TCGA-CM-5341_nonMSIH\n"
     ]
    },
    {
     "name": "stderr",
     "output_type": "stream",
     "text": [
      "🧩 Processing slides:  57%|█████▋    | 236/417 [01:11<01:56,  1.55slide/s]"
     ]
    },
    {
     "name": "stdout",
     "output_type": "stream",
     "text": [
      "  ⏭️ Skipped: All 5293 patches already processed for TCGA-CM-5344_nonMSIH\n"
     ]
    },
    {
     "name": "stderr",
     "output_type": "stream",
     "text": [
      "🧩 Processing slides:  57%|█████▋    | 237/417 [01:11<01:59,  1.51slide/s]"
     ]
    },
    {
     "name": "stdout",
     "output_type": "stream",
     "text": [
      "  ⏭️ Skipped: All 4744 patches already processed for TCGA-CM-5348_nonMSIH\n"
     ]
    },
    {
     "name": "stderr",
     "output_type": "stream",
     "text": [
      "🧩 Processing slides:  57%|█████▋    | 238/417 [01:12<02:05,  1.42slide/s]"
     ]
    },
    {
     "name": "stdout",
     "output_type": "stream",
     "text": [
      "  ⏭️ Skipped: All 5613 patches already processed for TCGA-CM-5349_nonMSIH\n"
     ]
    },
    {
     "name": "stderr",
     "output_type": "stream",
     "text": [
      "🧩 Processing slides:  57%|█████▋    | 239/417 [01:13<02:02,  1.46slide/s]"
     ]
    },
    {
     "name": "stdout",
     "output_type": "stream",
     "text": [
      "  ⏭️ Skipped: All 3995 patches already processed for TCGA-CM-5860_nonMSIH\n"
     ]
    },
    {
     "name": "stderr",
     "output_type": "stream",
     "text": [
      "🧩 Processing slides:  58%|█████▊    | 240/417 [01:13<01:48,  1.63slide/s]"
     ]
    },
    {
     "name": "stdout",
     "output_type": "stream",
     "text": [
      "  ⏭️ Skipped: All 3240 patches already processed for TCGA-CM-5861_MSIH\n"
     ]
    },
    {
     "name": "stderr",
     "output_type": "stream",
     "text": [
      "🧩 Processing slides:  58%|█████▊    | 241/417 [01:14<01:44,  1.68slide/s]"
     ]
    },
    {
     "name": "stdout",
     "output_type": "stream",
     "text": [
      "  ⏭️ Skipped: All 3927 patches already processed for TCGA-CM-5862_nonMSIH\n"
     ]
    },
    {
     "name": "stderr",
     "output_type": "stream",
     "text": [
      "🧩 Processing slides:  58%|█████▊    | 242/417 [01:14<01:48,  1.61slide/s]"
     ]
    },
    {
     "name": "stdout",
     "output_type": "stream",
     "text": [
      "  ⏭️ Skipped: All 3617 patches already processed for TCGA-CM-5863_nonMSIH\n"
     ]
    },
    {
     "name": "stderr",
     "output_type": "stream",
     "text": [
      "🧩 Processing slides:  58%|█████▊    | 243/417 [01:15<01:55,  1.51slide/s]"
     ]
    },
    {
     "name": "stdout",
     "output_type": "stream",
     "text": [
      "  ⏭️ Skipped: All 3977 patches already processed for TCGA-CM-5864_nonMSIH\n"
     ]
    },
    {
     "name": "stderr",
     "output_type": "stream",
     "text": [
      "🧩 Processing slides:  59%|█████▊    | 244/417 [01:16<01:47,  1.61slide/s]"
     ]
    },
    {
     "name": "stdout",
     "output_type": "stream",
     "text": [
      "  ⏭️ Skipped: All 4887 patches already processed for TCGA-CM-5868_nonMSIH\n"
     ]
    },
    {
     "name": "stderr",
     "output_type": "stream",
     "text": [
      "🧩 Processing slides:  59%|█████▉    | 245/417 [01:17<01:59,  1.44slide/s]"
     ]
    },
    {
     "name": "stdout",
     "output_type": "stream",
     "text": [
      "  ⏭️ Skipped: All 5000 patches already processed for TCGA-CM-6161_nonMSIH\n"
     ]
    },
    {
     "name": "stderr",
     "output_type": "stream",
     "text": [
      "🧩 Processing slides:  59%|█████▉    | 246/417 [01:17<01:51,  1.53slide/s]"
     ]
    },
    {
     "name": "stdout",
     "output_type": "stream",
     "text": [
      "  ⏭️ Skipped: All 3694 patches already processed for TCGA-CM-6162_MSIH\n"
     ]
    },
    {
     "name": "stderr",
     "output_type": "stream",
     "text": [
      "🧩 Processing slides:  59%|█████▉    | 247/417 [01:18<01:50,  1.54slide/s]"
     ]
    },
    {
     "name": "stdout",
     "output_type": "stream",
     "text": [
      "  ⏭️ Skipped: All 4493 patches already processed for TCGA-CM-6163_nonMSIH\n"
     ]
    },
    {
     "name": "stderr",
     "output_type": "stream",
     "text": [
      "🧩 Processing slides:  59%|█████▉    | 248/417 [01:18<01:44,  1.61slide/s]"
     ]
    },
    {
     "name": "stdout",
     "output_type": "stream",
     "text": [
      "  ⏭️ Skipped: All 3477 patches already processed for TCGA-CM-6164_nonMSIH\n"
     ]
    },
    {
     "name": "stderr",
     "output_type": "stream",
     "text": [
      "🧩 Processing slides:  60%|█████▉    | 249/417 [01:19<01:39,  1.69slide/s]"
     ]
    },
    {
     "name": "stdout",
     "output_type": "stream",
     "text": [
      "  ⏭️ Skipped: All 4872 patches already processed for TCGA-CM-6165_nonMSIH\n"
     ]
    },
    {
     "name": "stderr",
     "output_type": "stream",
     "text": [
      "🧩 Processing slides:  60%|█████▉    | 250/417 [01:19<01:34,  1.76slide/s]"
     ]
    },
    {
     "name": "stdout",
     "output_type": "stream",
     "text": [
      "  ⏭️ Skipped: All 3778 patches already processed for TCGA-CM-6166_nonMSIH\n"
     ]
    },
    {
     "name": "stderr",
     "output_type": "stream",
     "text": [
      "🧩 Processing slides:  60%|██████    | 251/417 [01:20<01:39,  1.66slide/s]"
     ]
    },
    {
     "name": "stdout",
     "output_type": "stream",
     "text": [
      "  ⏭️ Skipped: All 4465 patches already processed for TCGA-CM-6167_nonMSIH\n"
     ]
    },
    {
     "name": "stderr",
     "output_type": "stream",
     "text": [
      "🧩 Processing slides:  60%|██████    | 252/417 [01:21<01:42,  1.61slide/s]"
     ]
    },
    {
     "name": "stdout",
     "output_type": "stream",
     "text": [
      "  ⏭️ Skipped: All 5307 patches already processed for TCGA-CM-6168_nonMSIH\n"
     ]
    },
    {
     "name": "stderr",
     "output_type": "stream",
     "text": [
      "🧩 Processing slides:  61%|██████    | 253/417 [01:21<01:39,  1.65slide/s]"
     ]
    },
    {
     "name": "stdout",
     "output_type": "stream",
     "text": [
      "  ⏭️ Skipped: All 4320 patches already processed for TCGA-CM-6169_nonMSIH\n"
     ]
    },
    {
     "name": "stderr",
     "output_type": "stream",
     "text": [
      "🧩 Processing slides:  61%|██████    | 254/417 [01:22<01:37,  1.67slide/s]"
     ]
    },
    {
     "name": "stdout",
     "output_type": "stream",
     "text": [
      "  ⏭️ Skipped: All 1972 patches already processed for TCGA-CM-6170_nonMSIH\n"
     ]
    },
    {
     "name": "stderr",
     "output_type": "stream",
     "text": [
      "🧩 Processing slides:  61%|██████    | 255/417 [01:23<01:44,  1.56slide/s]"
     ]
    },
    {
     "name": "stdout",
     "output_type": "stream",
     "text": [
      "  ⏭️ Skipped: All 4882 patches already processed for TCGA-CM-6171_MSIH\n"
     ]
    },
    {
     "name": "stderr",
     "output_type": "stream",
     "text": [
      "🧩 Processing slides:  61%|██████▏   | 256/417 [01:23<01:40,  1.60slide/s]"
     ]
    },
    {
     "name": "stdout",
     "output_type": "stream",
     "text": [
      "  ⏭️ Skipped: All 3540 patches already processed for TCGA-CM-6172_nonMSIH\n"
     ]
    },
    {
     "name": "stderr",
     "output_type": "stream",
     "text": [
      "🧩 Processing slides:  62%|██████▏   | 257/417 [01:24<01:43,  1.55slide/s]"
     ]
    },
    {
     "name": "stdout",
     "output_type": "stream",
     "text": [
      "  ⏭️ Skipped: All 6370 patches already processed for TCGA-CM-6674_MSIH\n"
     ]
    },
    {
     "name": "stderr",
     "output_type": "stream",
     "text": [
      "🧩 Processing slides:  62%|██████▏   | 258/417 [01:25<01:49,  1.46slide/s]"
     ]
    },
    {
     "name": "stdout",
     "output_type": "stream",
     "text": [
      "  ⏭️ Skipped: All 6130 patches already processed for TCGA-CM-6675_nonMSIH\n"
     ]
    },
    {
     "name": "stderr",
     "output_type": "stream",
     "text": [
      "🧩 Processing slides:  62%|██████▏   | 259/417 [01:25<01:38,  1.61slide/s]"
     ]
    },
    {
     "name": "stdout",
     "output_type": "stream",
     "text": [
      "  ⏭️ Skipped: All 3001 patches already processed for TCGA-CM-6676_nonMSIH\n"
     ]
    },
    {
     "name": "stderr",
     "output_type": "stream",
     "text": [
      "🧩 Processing slides:  62%|██████▏   | 260/417 [01:26<01:46,  1.48slide/s]"
     ]
    },
    {
     "name": "stdout",
     "output_type": "stream",
     "text": [
      "  ⏭️ Skipped: All 5032 patches already processed for TCGA-CM-6677_nonMSIH\n"
     ]
    },
    {
     "name": "stderr",
     "output_type": "stream",
     "text": [
      "🧩 Processing slides:  63%|██████▎   | 261/417 [01:26<01:37,  1.59slide/s]"
     ]
    },
    {
     "name": "stdout",
     "output_type": "stream",
     "text": [
      "  ⏭️ Skipped: All 2203 patches already processed for TCGA-CM-6678_nonMSIH\n"
     ]
    },
    {
     "name": "stderr",
     "output_type": "stream",
     "text": [
      "🧩 Processing slides:  63%|██████▎   | 262/417 [01:27<01:39,  1.55slide/s]"
     ]
    },
    {
     "name": "stdout",
     "output_type": "stream",
     "text": [
      "  ⏭️ Skipped: All 5165 patches already processed for TCGA-CM-6679_nonMSIH\n"
     ]
    },
    {
     "name": "stderr",
     "output_type": "stream",
     "text": [
      "🧩 Processing slides:  63%|██████▎   | 263/417 [01:28<01:38,  1.56slide/s]"
     ]
    },
    {
     "name": "stdout",
     "output_type": "stream",
     "text": [
      "  ⏭️ Skipped: All 3768 patches already processed for TCGA-D5-5537_nonMSIH\n"
     ]
    },
    {
     "name": "stderr",
     "output_type": "stream",
     "text": [
      "🧩 Processing slides:  63%|██████▎   | 264/417 [01:28<01:37,  1.57slide/s]"
     ]
    },
    {
     "name": "stdout",
     "output_type": "stream",
     "text": [
      "  ⏭️ Skipped: All 4156 patches already processed for TCGA-D5-5538_nonMSIH\n"
     ]
    },
    {
     "name": "stderr",
     "output_type": "stream",
     "text": [
      "🧩 Processing slides:  64%|██████▎   | 265/417 [01:29<01:25,  1.77slide/s]"
     ]
    },
    {
     "name": "stdout",
     "output_type": "stream",
     "text": [
      "  ⏭️ Skipped: All 2166 patches already processed for TCGA-D5-5539_nonMSIH\n"
     ]
    },
    {
     "name": "stderr",
     "output_type": "stream",
     "text": [
      "🧩 Processing slides:  64%|██████▍   | 266/417 [01:29<01:13,  2.07slide/s]"
     ]
    },
    {
     "name": "stdout",
     "output_type": "stream",
     "text": [
      "  ⏭️ Skipped: All 2090 patches already processed for TCGA-D5-5540_nonMSIH\n"
     ]
    },
    {
     "name": "stderr",
     "output_type": "stream",
     "text": [
      "🧩 Processing slides:  64%|██████▍   | 267/417 [01:30<01:15,  1.99slide/s]"
     ]
    },
    {
     "name": "stdout",
     "output_type": "stream",
     "text": [
      "  ⏭️ Skipped: All 3224 patches already processed for TCGA-D5-5541_nonMSIH\n"
     ]
    },
    {
     "name": "stderr",
     "output_type": "stream",
     "text": [
      "🧩 Processing slides:  64%|██████▍   | 268/417 [01:30<01:12,  2.06slide/s]"
     ]
    },
    {
     "name": "stdout",
     "output_type": "stream",
     "text": [
      "  ⏭️ Skipped: All 3153 patches already processed for TCGA-D5-6529_nonMSIH\n"
     ]
    },
    {
     "name": "stderr",
     "output_type": "stream",
     "text": [
      "🧩 Processing slides:  65%|██████▍   | 269/417 [01:31<01:19,  1.85slide/s]"
     ]
    },
    {
     "name": "stdout",
     "output_type": "stream",
     "text": [
      "  ⏭️ Skipped: All 5875 patches already processed for TCGA-D5-6530_MSIH\n"
     ]
    },
    {
     "name": "stderr",
     "output_type": "stream",
     "text": [
      "🧩 Processing slides:  65%|██████▍   | 270/417 [01:31<01:21,  1.80slide/s]"
     ]
    },
    {
     "name": "stdout",
     "output_type": "stream",
     "text": [
      "  ⏭️ Skipped: All 3478 patches already processed for TCGA-D5-6531_nonMSIH\n"
     ]
    },
    {
     "name": "stderr",
     "output_type": "stream",
     "text": [
      "🧩 Processing slides:  65%|██████▍   | 271/417 [01:32<01:23,  1.75slide/s]"
     ]
    },
    {
     "name": "stdout",
     "output_type": "stream",
     "text": [
      "  ⏭️ Skipped: All 4388 patches already processed for TCGA-D5-6532_nonMSIH\n"
     ]
    },
    {
     "name": "stderr",
     "output_type": "stream",
     "text": [
      "🧩 Processing slides:  65%|██████▌   | 272/417 [01:33<01:28,  1.64slide/s]"
     ]
    },
    {
     "name": "stdout",
     "output_type": "stream",
     "text": [
      "  ⏭️ Skipped: All 4591 patches already processed for TCGA-D5-6533_nonMSIH\n"
     ]
    },
    {
     "name": "stderr",
     "output_type": "stream",
     "text": [
      "🧩 Processing slides:  65%|██████▌   | 273/417 [01:33<01:23,  1.73slide/s]"
     ]
    },
    {
     "name": "stdout",
     "output_type": "stream",
     "text": [
      "  ⏭️ Skipped: All 3535 patches already processed for TCGA-D5-6534_nonMSIH\n"
     ]
    },
    {
     "name": "stderr",
     "output_type": "stream",
     "text": [
      "🧩 Processing slides:  66%|██████▌   | 274/417 [01:34<01:20,  1.77slide/s]"
     ]
    },
    {
     "name": "stdout",
     "output_type": "stream",
     "text": [
      "  ⏭️ Skipped: All 3486 patches already processed for TCGA-D5-6535_nonMSIH\n"
     ]
    },
    {
     "name": "stderr",
     "output_type": "stream",
     "text": [
      "🧩 Processing slides:  66%|██████▌   | 275/417 [01:34<01:15,  1.88slide/s]"
     ]
    },
    {
     "name": "stdout",
     "output_type": "stream",
     "text": [
      "  ⏭️ Skipped: All 3897 patches already processed for TCGA-D5-6536_nonMSIH\n"
     ]
    },
    {
     "name": "stderr",
     "output_type": "stream",
     "text": [
      "🧩 Processing slides:  66%|██████▌   | 276/417 [01:35<01:10,  2.01slide/s]"
     ]
    },
    {
     "name": "stdout",
     "output_type": "stream",
     "text": [
      "  ⏭️ Skipped: All 3597 patches already processed for TCGA-D5-6537_nonMSIH\n"
     ]
    },
    {
     "name": "stderr",
     "output_type": "stream",
     "text": [
      "🧩 Processing slides:  66%|██████▋   | 277/417 [01:35<01:12,  1.93slide/s]"
     ]
    },
    {
     "name": "stdout",
     "output_type": "stream",
     "text": [
      "  ⏭️ Skipped: All 3316 patches already processed for TCGA-D5-6538_nonMSIH\n"
     ]
    },
    {
     "name": "stderr",
     "output_type": "stream",
     "text": [
      "🧩 Processing slides:  67%|██████▋   | 278/417 [01:35<01:03,  2.19slide/s]"
     ]
    },
    {
     "name": "stdout",
     "output_type": "stream",
     "text": [
      "  ⏭️ Skipped: All 2226 patches already processed for TCGA-D5-6539_nonMSIH\n"
     ]
    },
    {
     "name": "stderr",
     "output_type": "stream",
     "text": [
      "🧩 Processing slides:  67%|██████▋   | 279/417 [01:36<00:58,  2.35slide/s]"
     ]
    },
    {
     "name": "stdout",
     "output_type": "stream",
     "text": [
      "  ⏭️ Skipped: All 2636 patches already processed for TCGA-D5-6540_MSIH\n"
     ]
    },
    {
     "name": "stderr",
     "output_type": "stream",
     "text": [
      "🧩 Processing slides:  67%|██████▋   | 280/417 [01:36<01:06,  2.06slide/s]"
     ]
    },
    {
     "name": "stdout",
     "output_type": "stream",
     "text": [
      "  ⏭️ Skipped: All 3899 patches already processed for TCGA-D5-6541_nonMSIH\n"
     ]
    },
    {
     "name": "stderr",
     "output_type": "stream",
     "text": [
      "🧩 Processing slides:  67%|██████▋   | 281/417 [01:37<00:56,  2.39slide/s]"
     ]
    },
    {
     "name": "stdout",
     "output_type": "stream",
     "text": [
      "  ⏭️ Skipped: All 1101 patches already processed for TCGA-D5-6898_nonMSIH\n"
     ]
    },
    {
     "name": "stderr",
     "output_type": "stream",
     "text": [
      "🧩 Processing slides:  68%|██████▊   | 282/417 [01:37<00:47,  2.84slide/s]"
     ]
    },
    {
     "name": "stdout",
     "output_type": "stream",
     "text": [
      "  ⏭️ Skipped: All 666 patches already processed for TCGA-D5-6920_nonMSIH\n"
     ]
    },
    {
     "name": "stderr",
     "output_type": "stream",
     "text": [
      "🧩 Processing slides:  68%|██████▊   | 283/417 [01:37<00:41,  3.23slide/s]"
     ]
    },
    {
     "name": "stdout",
     "output_type": "stream",
     "text": [
      "  ⏭️ Skipped: All 1085 patches already processed for TCGA-D5-6922_nonMSIH\n"
     ]
    },
    {
     "name": "stderr",
     "output_type": "stream",
     "text": [
      "🧩 Processing slides:  68%|██████▊   | 284/417 [01:37<00:41,  3.20slide/s]"
     ]
    },
    {
     "name": "stdout",
     "output_type": "stream",
     "text": [
      "  ⏭️ Skipped: All 1364 patches already processed for TCGA-D5-6924_nonMSIH\n"
     ]
    },
    {
     "name": "stderr",
     "output_type": "stream",
     "text": [
      "🧩 Processing slides:  68%|██████▊   | 285/417 [01:38<00:39,  3.31slide/s]"
     ]
    },
    {
     "name": "stdout",
     "output_type": "stream",
     "text": [
      "  ⏭️ Skipped: All 1293 patches already processed for TCGA-D5-6926_nonMSIH\n"
     ]
    },
    {
     "name": "stderr",
     "output_type": "stream",
     "text": [
      "🧩 Processing slides:  69%|██████▊   | 286/417 [01:38<00:36,  3.58slide/s]"
     ]
    },
    {
     "name": "stdout",
     "output_type": "stream",
     "text": [
      "  ⏭️ Skipped: All 1283 patches already processed for TCGA-D5-6927_MSIH\n"
     ]
    },
    {
     "name": "stderr",
     "output_type": "stream",
     "text": [
      "🧩 Processing slides:  69%|██████▉   | 287/417 [01:38<00:32,  3.98slide/s]"
     ]
    },
    {
     "name": "stdout",
     "output_type": "stream",
     "text": [
      "  ⏭️ Skipped: All 749 patches already processed for TCGA-D5-6928_MSIH\n"
     ]
    },
    {
     "name": "stderr",
     "output_type": "stream",
     "text": [
      "🧩 Processing slides:  69%|██████▉   | 288/417 [01:39<00:49,  2.61slide/s]"
     ]
    },
    {
     "name": "stdout",
     "output_type": "stream",
     "text": [
      "  ⏭️ Skipped: All 5999 patches already processed for TCGA-D5-6929_nonMSIH\n"
     ]
    },
    {
     "name": "stderr",
     "output_type": "stream",
     "text": [
      "🧩 Processing slides:  69%|██████▉   | 289/417 [01:39<00:47,  2.69slide/s]"
     ]
    },
    {
     "name": "stdout",
     "output_type": "stream",
     "text": [
      "  ⏭️ Skipped: All 838 patches already processed for TCGA-D5-6930_MSIH\n"
     ]
    },
    {
     "name": "stderr",
     "output_type": "stream",
     "text": [
      "🧩 Processing slides:  70%|██████▉   | 290/417 [01:40<00:46,  2.74slide/s]"
     ]
    },
    {
     "name": "stdout",
     "output_type": "stream",
     "text": [
      "  ⏭️ Skipped: All 1548 patches already processed for TCGA-D5-6931_nonMSIH\n"
     ]
    },
    {
     "name": "stderr",
     "output_type": "stream",
     "text": [
      "🧩 Processing slides:  70%|██████▉   | 291/417 [01:40<00:42,  2.98slide/s]"
     ]
    },
    {
     "name": "stdout",
     "output_type": "stream",
     "text": [
      "  ⏭️ Skipped: All 1105 patches already processed for TCGA-D5-6932_nonMSIH\n"
     ]
    },
    {
     "name": "stderr",
     "output_type": "stream",
     "text": [
      "🧩 Processing slides:  70%|███████   | 292/417 [01:40<00:40,  3.11slide/s]"
     ]
    },
    {
     "name": "stdout",
     "output_type": "stream",
     "text": [
      "  ⏭️ Skipped: All 901 patches already processed for TCGA-D5-7000_nonMSIH\n"
     ]
    },
    {
     "name": "stderr",
     "output_type": "stream",
     "text": [
      "🧩 Processing slides:  70%|███████   | 293/417 [01:41<00:46,  2.65slide/s]"
     ]
    },
    {
     "name": "stdout",
     "output_type": "stream",
     "text": [
      "  ⏭️ Skipped: All 2817 patches already processed for TCGA-DC-4745_nonMSIH\n"
     ]
    },
    {
     "name": "stderr",
     "output_type": "stream",
     "text": [
      "🧩 Processing slides:  71%|███████   | 294/417 [01:41<00:50,  2.42slide/s]"
     ]
    },
    {
     "name": "stdout",
     "output_type": "stream",
     "text": [
      "  ⏭️ Skipped: All 3668 patches already processed for TCGA-DC-4749_nonMSIH\n"
     ]
    },
    {
     "name": "stderr",
     "output_type": "stream",
     "text": [
      "🧩 Processing slides:  71%|███████   | 295/417 [01:41<00:48,  2.52slide/s]"
     ]
    },
    {
     "name": "stdout",
     "output_type": "stream",
     "text": [
      "  ⏭️ Skipped: All 1844 patches already processed for TCGA-DC-5337_nonMSIH\n"
     ]
    },
    {
     "name": "stderr",
     "output_type": "stream",
     "text": [
      "🧩 Processing slides:  71%|███████   | 296/417 [01:42<01:00,  1.99slide/s]"
     ]
    },
    {
     "name": "stdout",
     "output_type": "stream",
     "text": [
      "  ⏭️ Skipped: All 5883 patches already processed for TCGA-DC-5869_nonMSIH\n"
     ]
    },
    {
     "name": "stderr",
     "output_type": "stream",
     "text": [
      "🧩 Processing slides:  71%|███████   | 297/417 [01:43<00:58,  2.04slide/s]"
     ]
    },
    {
     "name": "stdout",
     "output_type": "stream",
     "text": [
      "  ⏭️ Skipped: All 2959 patches already processed for TCGA-DC-6154_MSIH\n"
     ]
    },
    {
     "name": "stderr",
     "output_type": "stream",
     "text": [
      "🧩 Processing slides:  71%|███████▏  | 298/417 [01:44<01:19,  1.50slide/s]"
     ]
    },
    {
     "name": "stdout",
     "output_type": "stream",
     "text": [
      "  ⏭️ Skipped: All 7085 patches already processed for TCGA-DC-6155_nonMSIH\n"
     ]
    },
    {
     "name": "stderr",
     "output_type": "stream",
     "text": [
      "🧩 Processing slides:  72%|███████▏  | 299/417 [01:44<01:16,  1.54slide/s]"
     ]
    },
    {
     "name": "stdout",
     "output_type": "stream",
     "text": [
      "  ⏭️ Skipped: All 3769 patches already processed for TCGA-DC-6157_nonMSIH\n"
     ]
    },
    {
     "name": "stderr",
     "output_type": "stream",
     "text": [
      "🧩 Processing slides:  72%|███████▏  | 300/417 [01:45<01:11,  1.63slide/s]"
     ]
    },
    {
     "name": "stdout",
     "output_type": "stream",
     "text": [
      "  ⏭️ Skipped: All 3037 patches already processed for TCGA-DC-6158_nonMSIH\n"
     ]
    },
    {
     "name": "stderr",
     "output_type": "stream",
     "text": [
      "🧩 Processing slides:  72%|███████▏  | 301/417 [01:45<01:10,  1.64slide/s]"
     ]
    },
    {
     "name": "stdout",
     "output_type": "stream",
     "text": [
      "  ⏭️ Skipped: All 4854 patches already processed for TCGA-DC-6160_nonMSIH\n"
     ]
    },
    {
     "name": "stderr",
     "output_type": "stream",
     "text": [
      "🧩 Processing slides:  72%|███████▏  | 302/417 [01:46<01:16,  1.50slide/s]"
     ]
    },
    {
     "name": "stdout",
     "output_type": "stream",
     "text": [
      "  ⏭️ Skipped: All 5512 patches already processed for TCGA-DC-6681_nonMSIH\n"
     ]
    },
    {
     "name": "stderr",
     "output_type": "stream",
     "text": [
      "🧩 Processing slides:  73%|███████▎  | 303/417 [01:47<01:04,  1.77slide/s]"
     ]
    },
    {
     "name": "stdout",
     "output_type": "stream",
     "text": [
      "  ⏭️ Skipped: All 2520 patches already processed for TCGA-DC-6682_nonMSIH\n"
     ]
    },
    {
     "name": "stderr",
     "output_type": "stream",
     "text": [
      "🧩 Processing slides:  73%|███████▎  | 304/417 [01:47<01:03,  1.79slide/s]"
     ]
    },
    {
     "name": "stdout",
     "output_type": "stream",
     "text": [
      "  ⏭️ Skipped: All 3994 patches already processed for TCGA-DC-6683_nonMSIH\n"
     ]
    },
    {
     "name": "stderr",
     "output_type": "stream",
     "text": [
      "🧩 Processing slides:  73%|███████▎  | 305/417 [01:48<01:05,  1.72slide/s]"
     ]
    },
    {
     "name": "stdout",
     "output_type": "stream",
     "text": [
      "  ⏭️ Skipped: All 4268 patches already processed for TCGA-DM-A0X9_nonMSIH\n"
     ]
    },
    {
     "name": "stderr",
     "output_type": "stream",
     "text": [
      "🧩 Processing slides:  73%|███████▎  | 306/417 [01:48<00:52,  2.13slide/s]"
     ]
    },
    {
     "name": "stdout",
     "output_type": "stream",
     "text": [
      "  ⏭️ Skipped: All 871 patches already processed for TCGA-DM-A0XD_nonMSIH\n"
     ]
    },
    {
     "name": "stderr",
     "output_type": "stream",
     "text": [
      "🧩 Processing slides:  74%|███████▎  | 307/417 [01:48<00:51,  2.15slide/s]"
     ]
    },
    {
     "name": "stdout",
     "output_type": "stream",
     "text": [
      "  ⏭️ Skipped: All 3532 patches already processed for TCGA-DM-A0XF_nonMSIH\n"
     ]
    },
    {
     "name": "stderr",
     "output_type": "stream",
     "text": [
      "🧩 Processing slides:  74%|███████▍  | 308/417 [01:49<01:00,  1.80slide/s]"
     ]
    },
    {
     "name": "stdout",
     "output_type": "stream",
     "text": [
      "  ⏭️ Skipped: All 3947 patches already processed for TCGA-DM-A1D0_nonMSIH\n"
     ]
    },
    {
     "name": "stderr",
     "output_type": "stream",
     "text": [
      "🧩 Processing slides:  74%|███████▍  | 309/417 [01:50<00:59,  1.83slide/s]"
     ]
    },
    {
     "name": "stdout",
     "output_type": "stream",
     "text": [
      "  ⏭️ Skipped: All 2889 patches already processed for TCGA-DM-A1D4_nonMSIH\n"
     ]
    },
    {
     "name": "stderr",
     "output_type": "stream",
     "text": [
      "🧩 Processing slides:  74%|███████▍  | 310/417 [01:50<00:59,  1.80slide/s]"
     ]
    },
    {
     "name": "stdout",
     "output_type": "stream",
     "text": [
      "  ⏭️ Skipped: All 3884 patches already processed for TCGA-DM-A1D6_nonMSIH\n"
     ]
    },
    {
     "name": "stderr",
     "output_type": "stream",
     "text": [
      "🧩 Processing slides:  75%|███████▍  | 311/417 [01:51<00:56,  1.88slide/s]"
     ]
    },
    {
     "name": "stdout",
     "output_type": "stream",
     "text": [
      "  ⏭️ Skipped: All 2645 patches already processed for TCGA-DM-A1D7_nonMSIH\n"
     ]
    },
    {
     "name": "stderr",
     "output_type": "stream",
     "text": [
      "🧩 Processing slides:  75%|███████▍  | 312/417 [01:51<00:50,  2.08slide/s]"
     ]
    },
    {
     "name": "stdout",
     "output_type": "stream",
     "text": [
      "  ⏭️ Skipped: All 1621 patches already processed for TCGA-DM-A1D8_nonMSIH\n"
     ]
    },
    {
     "name": "stderr",
     "output_type": "stream",
     "text": [
      "🧩 Processing slides:  75%|███████▌  | 313/417 [01:52<00:56,  1.85slide/s]"
     ]
    },
    {
     "name": "stdout",
     "output_type": "stream",
     "text": [
      "  ⏭️ Skipped: All 4121 patches already processed for TCGA-DM-A1D9_nonMSIH\n"
     ]
    },
    {
     "name": "stderr",
     "output_type": "stream",
     "text": [
      "🧩 Processing slides:  75%|███████▌  | 314/417 [01:52<00:54,  1.89slide/s]"
     ]
    },
    {
     "name": "stdout",
     "output_type": "stream",
     "text": [
      "  ⏭️ Skipped: All 4014 patches already processed for TCGA-DM-A1DA_nonMSIH\n"
     ]
    },
    {
     "name": "stderr",
     "output_type": "stream",
     "text": [
      "🧩 Processing slides:  76%|███████▌  | 315/417 [01:53<01:03,  1.60slide/s]"
     ]
    },
    {
     "name": "stdout",
     "output_type": "stream",
     "text": [
      "  ⏭️ Skipped: All 5990 patches already processed for TCGA-DM-A1DB_nonMSIH\n"
     ]
    },
    {
     "name": "stderr",
     "output_type": "stream",
     "text": [
      "🧩 Processing slides:  76%|███████▌  | 316/417 [01:54<01:04,  1.58slide/s]"
     ]
    },
    {
     "name": "stdout",
     "output_type": "stream",
     "text": [
      "  ⏭️ Skipped: All 4391 patches already processed for TCGA-DM-A1HA_nonMSIH\n",
      "  ⏭️ Skipped: All 6569 patches already processed for TCGA-DM-A280_nonMSIH\n"
     ]
    },
    {
     "name": "stderr",
     "output_type": "stream",
     "text": [
      "🧩 Processing slides:  76%|███████▋  | 318/417 [01:54<00:48,  2.05slide/s]"
     ]
    },
    {
     "name": "stdout",
     "output_type": "stream",
     "text": [
      "  ⏭️ Skipped: All 5356 patches already processed for TCGA-DM-A282_nonMSIH\n"
     ]
    },
    {
     "name": "stderr",
     "output_type": "stream",
     "text": [
      "🧩 Processing slides:  76%|███████▋  | 319/417 [01:55<00:46,  2.11slide/s]"
     ]
    },
    {
     "name": "stdout",
     "output_type": "stream",
     "text": [
      "  ⏭️ Skipped: All 3624 patches already processed for TCGA-DM-A285_nonMSIH\n"
     ]
    },
    {
     "name": "stderr",
     "output_type": "stream",
     "text": [
      "🧩 Processing slides:  77%|███████▋  | 320/417 [01:55<00:44,  2.16slide/s]"
     ]
    },
    {
     "name": "stdout",
     "output_type": "stream",
     "text": [
      "  ⏭️ Skipped: All 5123 patches already processed for TCGA-DM-A288_nonMSIH\n"
     ]
    },
    {
     "name": "stderr",
     "output_type": "stream",
     "text": [
      "🧩 Processing slides:  77%|███████▋  | 321/417 [01:56<00:45,  2.11slide/s]"
     ]
    },
    {
     "name": "stdout",
     "output_type": "stream",
     "text": [
      "  ⏭️ Skipped: All 4130 patches already processed for TCGA-DM-A28A_nonMSIH\n"
     ]
    },
    {
     "name": "stderr",
     "output_type": "stream",
     "text": [
      "🧩 Processing slides:  77%|███████▋  | 322/417 [01:56<00:43,  2.20slide/s]"
     ]
    },
    {
     "name": "stdout",
     "output_type": "stream",
     "text": [
      "  ⏭️ Skipped: All 3894 patches already processed for TCGA-DM-A28E_nonMSIH\n"
     ]
    },
    {
     "name": "stderr",
     "output_type": "stream",
     "text": [
      "🧩 Processing slides:  77%|███████▋  | 323/417 [01:57<00:40,  2.33slide/s]"
     ]
    },
    {
     "name": "stdout",
     "output_type": "stream",
     "text": [
      "  ⏭️ Skipped: All 2832 patches already processed for TCGA-DM-A28F_nonMSIH\n"
     ]
    },
    {
     "name": "stderr",
     "output_type": "stream",
     "text": [
      "🧩 Processing slides:  78%|███████▊  | 324/417 [01:57<00:43,  2.16slide/s]"
     ]
    },
    {
     "name": "stdout",
     "output_type": "stream",
     "text": [
      "  ⏭️ Skipped: All 4241 patches already processed for TCGA-DM-A28G_nonMSIH\n"
     ]
    },
    {
     "name": "stderr",
     "output_type": "stream",
     "text": [
      "🧩 Processing slides:  78%|███████▊  | 325/417 [01:58<00:41,  2.24slide/s]"
     ]
    },
    {
     "name": "stdout",
     "output_type": "stream",
     "text": [
      "  ⏭️ Skipped: All 3768 patches already processed for TCGA-DM-A28H_nonMSIH\n"
     ]
    },
    {
     "name": "stderr",
     "output_type": "stream",
     "text": [
      "🧩 Processing slides:  78%|███████▊  | 326/417 [01:58<00:42,  2.12slide/s]"
     ]
    },
    {
     "name": "stdout",
     "output_type": "stream",
     "text": [
      "  ⏭️ Skipped: All 5424 patches already processed for TCGA-DM-A28K_nonMSIH\n"
     ]
    },
    {
     "name": "stderr",
     "output_type": "stream",
     "text": [
      "🧩 Processing slides:  78%|███████▊  | 327/417 [01:59<00:42,  2.14slide/s]"
     ]
    },
    {
     "name": "stdout",
     "output_type": "stream",
     "text": [
      "  ⏭️ Skipped: All 4345 patches already processed for TCGA-DM-A28M_nonMSIH\n"
     ]
    },
    {
     "name": "stderr",
     "output_type": "stream",
     "text": [
      "🧩 Processing slides:  79%|███████▊  | 328/417 [01:59<00:37,  2.39slide/s]"
     ]
    },
    {
     "name": "stdout",
     "output_type": "stream",
     "text": [
      "  ⏭️ Skipped: All 1957 patches already processed for TCGA-DT-5265_nonMSIH\n"
     ]
    },
    {
     "name": "stderr",
     "output_type": "stream",
     "text": [
      "🧩 Processing slides:  79%|███████▉  | 329/417 [01:59<00:37,  2.32slide/s]"
     ]
    },
    {
     "name": "stdout",
     "output_type": "stream",
     "text": [
      "  ⏭️ Skipped: All 5433 patches already processed for TCGA-DY-A0XA_nonMSIH\n"
     ]
    },
    {
     "name": "stderr",
     "output_type": "stream",
     "text": [
      "🧩 Processing slides:  79%|███████▉  | 330/417 [02:00<00:37,  2.33slide/s]"
     ]
    },
    {
     "name": "stdout",
     "output_type": "stream",
     "text": [
      "  ⏭️ Skipped: All 3142 patches already processed for TCGA-DY-A1DC_nonMSIH\n"
     ]
    },
    {
     "name": "stderr",
     "output_type": "stream",
     "text": [
      "🧩 Processing slides:  79%|███████▉  | 331/417 [02:00<00:36,  2.34slide/s]"
     ]
    },
    {
     "name": "stdout",
     "output_type": "stream",
     "text": [
      "  ⏭️ Skipped: All 4682 patches already processed for TCGA-DY-A1DD_nonMSIH\n"
     ]
    },
    {
     "name": "stderr",
     "output_type": "stream",
     "text": [
      "🧩 Processing slides:  80%|███████▉  | 332/417 [02:00<00:34,  2.49slide/s]"
     ]
    },
    {
     "name": "stdout",
     "output_type": "stream",
     "text": [
      "  ⏭️ Skipped: All 2464 patches already processed for TCGA-DY-A1DF_nonMSIH\n"
     ]
    },
    {
     "name": "stderr",
     "output_type": "stream",
     "text": [
      "🧩 Processing slides:  80%|███████▉  | 333/417 [02:01<00:35,  2.37slide/s]"
     ]
    },
    {
     "name": "stdout",
     "output_type": "stream",
     "text": [
      "  ⏭️ Skipped: All 4409 patches already processed for TCGA-DY-A1DG_nonMSIH\n"
     ]
    },
    {
     "name": "stderr",
     "output_type": "stream",
     "text": [
      "🧩 Processing slides:  80%|████████  | 334/417 [02:01<00:33,  2.47slide/s]"
     ]
    },
    {
     "name": "stdout",
     "output_type": "stream",
     "text": [
      "  ⏭️ Skipped: All 2809 patches already processed for TCGA-EF-5830_nonMSIH\n"
     ]
    },
    {
     "name": "stderr",
     "output_type": "stream",
     "text": [
      "🧩 Processing slides:  80%|████████  | 335/417 [02:02<00:32,  2.53slide/s]"
     ]
    },
    {
     "name": "stdout",
     "output_type": "stream",
     "text": [
      "  ⏭️ Skipped: All 2451 patches already processed for TCGA-EI-6506_nonMSIH\n"
     ]
    },
    {
     "name": "stderr",
     "output_type": "stream",
     "text": [
      "🧩 Processing slides:  81%|████████  | 336/417 [02:02<00:31,  2.59slide/s]"
     ]
    },
    {
     "name": "stdout",
     "output_type": "stream",
     "text": [
      "  ⏭️ Skipped: All 3267 patches already processed for TCGA-EI-6507_MSIH\n"
     ]
    },
    {
     "name": "stderr",
     "output_type": "stream",
     "text": [
      "🧩 Processing slides:  81%|████████  | 337/417 [02:02<00:31,  2.55slide/s]"
     ]
    },
    {
     "name": "stdout",
     "output_type": "stream",
     "text": [
      "  ⏭️ Skipped: All 3269 patches already processed for TCGA-EI-6508_nonMSIH\n"
     ]
    },
    {
     "name": "stderr",
     "output_type": "stream",
     "text": [
      "🧩 Processing slides:  81%|████████  | 338/417 [02:03<00:29,  2.72slide/s]"
     ]
    },
    {
     "name": "stdout",
     "output_type": "stream",
     "text": [
      "  ⏭️ Skipped: All 1927 patches already processed for TCGA-EI-6509_nonMSIH\n"
     ]
    },
    {
     "name": "stderr",
     "output_type": "stream",
     "text": [
      "🧩 Processing slides:  81%|████████▏ | 339/417 [02:03<00:28,  2.76slide/s]"
     ]
    },
    {
     "name": "stdout",
     "output_type": "stream",
     "text": [
      "  ⏭️ Skipped: All 2982 patches already processed for TCGA-EI-6510_nonMSIH\n"
     ]
    },
    {
     "name": "stderr",
     "output_type": "stream",
     "text": [
      "🧩 Processing slides:  82%|████████▏ | 340/417 [02:04<00:33,  2.27slide/s]"
     ]
    },
    {
     "name": "stdout",
     "output_type": "stream",
     "text": [
      "  ⏭️ Skipped: All 4146 patches already processed for TCGA-EI-6511_nonMSIH\n"
     ]
    },
    {
     "name": "stderr",
     "output_type": "stream",
     "text": [
      "🧩 Processing slides:  82%|████████▏ | 341/417 [02:04<00:37,  2.05slide/s]"
     ]
    },
    {
     "name": "stdout",
     "output_type": "stream",
     "text": [
      "  ⏭️ Skipped: All 4880 patches already processed for TCGA-EI-6512_nonMSIH\n"
     ]
    },
    {
     "name": "stderr",
     "output_type": "stream",
     "text": [
      "🧩 Processing slides:  82%|████████▏ | 342/417 [02:05<00:36,  2.08slide/s]"
     ]
    },
    {
     "name": "stdout",
     "output_type": "stream",
     "text": [
      "  ⏭️ Skipped: All 5185 patches already processed for TCGA-EI-6513_nonMSIH\n"
     ]
    },
    {
     "name": "stderr",
     "output_type": "stream",
     "text": [
      "🧩 Processing slides:  82%|████████▏ | 343/417 [02:05<00:34,  2.15slide/s]"
     ]
    },
    {
     "name": "stdout",
     "output_type": "stream",
     "text": [
      "  ⏭️ Skipped: All 3295 patches already processed for TCGA-EI-6514_nonMSIH\n"
     ]
    },
    {
     "name": "stderr",
     "output_type": "stream",
     "text": [
      "🧩 Processing slides:  82%|████████▏ | 344/417 [02:05<00:28,  2.60slide/s]"
     ]
    },
    {
     "name": "stdout",
     "output_type": "stream",
     "text": [
      "  ⏭️ Skipped: All 558 patches already processed for TCGA-EI-6881_nonMSIH\n"
     ]
    },
    {
     "name": "stderr",
     "output_type": "stream",
     "text": [
      "🧩 Processing slides:  83%|████████▎ | 345/417 [02:06<00:24,  2.88slide/s]"
     ]
    },
    {
     "name": "stdout",
     "output_type": "stream",
     "text": [
      "  ⏭️ Skipped: All 1532 patches already processed for TCGA-EI-6882_MSIH\n"
     ]
    },
    {
     "name": "stderr",
     "output_type": "stream",
     "text": [
      "🧩 Processing slides:  83%|████████▎ | 346/417 [02:06<00:23,  3.05slide/s]"
     ]
    },
    {
     "name": "stdout",
     "output_type": "stream",
     "text": [
      "  ⏭️ Skipped: All 2572 patches already processed for TCGA-EI-6883_nonMSIH\n"
     ]
    },
    {
     "name": "stderr",
     "output_type": "stream",
     "text": [
      "🧩 Processing slides:  83%|████████▎ | 347/417 [02:06<00:21,  3.24slide/s]"
     ]
    },
    {
     "name": "stdout",
     "output_type": "stream",
     "text": [
      "  ⏭️ Skipped: All 1122 patches already processed for TCGA-EI-6884_nonMSIH\n"
     ]
    },
    {
     "name": "stderr",
     "output_type": "stream",
     "text": [
      "🧩 Processing slides:  83%|████████▎ | 348/417 [02:07<00:23,  2.98slide/s]"
     ]
    },
    {
     "name": "stdout",
     "output_type": "stream",
     "text": [
      "  ⏭️ Skipped: All 1210 patches already processed for TCGA-EI-6885_nonMSIH\n"
     ]
    },
    {
     "name": "stderr",
     "output_type": "stream",
     "text": [
      "🧩 Processing slides:  84%|████████▎ | 349/417 [02:07<00:21,  3.21slide/s]"
     ]
    },
    {
     "name": "stdout",
     "output_type": "stream",
     "text": [
      "  ⏭️ Skipped: All 1011 patches already processed for TCGA-EI-6917_nonMSIH\n"
     ]
    },
    {
     "name": "stderr",
     "output_type": "stream",
     "text": [
      "🧩 Processing slides:  84%|████████▍ | 350/417 [02:07<00:19,  3.52slide/s]"
     ]
    },
    {
     "name": "stdout",
     "output_type": "stream",
     "text": [
      "  ⏭️ Skipped: All 1094 patches already processed for TCGA-EI-7002_nonMSIH\n"
     ]
    },
    {
     "name": "stderr",
     "output_type": "stream",
     "text": [
      "🧩 Processing slides:  84%|████████▍ | 351/417 [02:07<00:17,  3.82slide/s]"
     ]
    },
    {
     "name": "stdout",
     "output_type": "stream",
     "text": [
      "  ⏭️ Skipped: All 805 patches already processed for TCGA-EI-7004_nonMSIH\n"
     ]
    },
    {
     "name": "stderr",
     "output_type": "stream",
     "text": [
      "🧩 Processing slides:  84%|████████▍ | 352/417 [02:08<00:25,  2.52slide/s]"
     ]
    },
    {
     "name": "stdout",
     "output_type": "stream",
     "text": [
      "  ⏭️ Skipped: All 4979 patches already processed for TCGA-F4-6459_nonMSIH\n"
     ]
    },
    {
     "name": "stderr",
     "output_type": "stream",
     "text": [
      "🧩 Processing slides:  85%|████████▍ | 353/417 [02:09<00:28,  2.25slide/s]"
     ]
    },
    {
     "name": "stdout",
     "output_type": "stream",
     "text": [
      "  ⏭️ Skipped: All 3799 patches already processed for TCGA-F4-6460_nonMSIH\n"
     ]
    },
    {
     "name": "stderr",
     "output_type": "stream",
     "text": [
      "🧩 Processing slides:  85%|████████▍ | 354/417 [02:09<00:30,  2.10slide/s]"
     ]
    },
    {
     "name": "stdout",
     "output_type": "stream",
     "text": [
      "  ⏭️ Skipped: All 5239 patches already processed for TCGA-F4-6461_nonMSIH\n"
     ]
    },
    {
     "name": "stderr",
     "output_type": "stream",
     "text": [
      "🧩 Processing slides:  85%|████████▌ | 355/417 [02:09<00:24,  2.49slide/s]"
     ]
    },
    {
     "name": "stdout",
     "output_type": "stream",
     "text": [
      "  ⏭️ Skipped: All 1457 patches already processed for TCGA-F4-6463_nonMSIH\n"
     ]
    },
    {
     "name": "stderr",
     "output_type": "stream",
     "text": [
      "🧩 Processing slides:  85%|████████▌ | 356/417 [02:10<00:23,  2.58slide/s]"
     ]
    },
    {
     "name": "stdout",
     "output_type": "stream",
     "text": [
      "  ⏭️ Skipped: All 2382 patches already processed for TCGA-F4-6569_nonMSIH\n"
     ]
    },
    {
     "name": "stderr",
     "output_type": "stream",
     "text": [
      "🧩 Processing slides:  86%|████████▌ | 357/417 [02:10<00:23,  2.55slide/s]"
     ]
    },
    {
     "name": "stdout",
     "output_type": "stream",
     "text": [
      "  ⏭️ Skipped: All 2990 patches already processed for TCGA-F4-6570_MSIH\n"
     ]
    },
    {
     "name": "stderr",
     "output_type": "stream",
     "text": [
      "🧩 Processing slides:  86%|████████▌ | 358/417 [02:11<00:25,  2.33slide/s]"
     ]
    },
    {
     "name": "stdout",
     "output_type": "stream",
     "text": [
      "  ⏭️ Skipped: All 2872 patches already processed for TCGA-F4-6703_MSIH\n"
     ]
    },
    {
     "name": "stderr",
     "output_type": "stream",
     "text": [
      "🧩 Processing slides:  86%|████████▌ | 359/417 [02:11<00:24,  2.41slide/s]"
     ]
    },
    {
     "name": "stdout",
     "output_type": "stream",
     "text": [
      "  ⏭️ Skipped: All 1861 patches already processed for TCGA-F4-6704_nonMSIH\n"
     ]
    },
    {
     "name": "stderr",
     "output_type": "stream",
     "text": [
      "🧩 Processing slides:  86%|████████▋ | 360/417 [02:11<00:23,  2.43slide/s]"
     ]
    },
    {
     "name": "stdout",
     "output_type": "stream",
     "text": [
      "  ⏭️ Skipped: All 2757 patches already processed for TCGA-F4-6805_nonMSIH\n"
     ]
    },
    {
     "name": "stderr",
     "output_type": "stream",
     "text": [
      "🧩 Processing slides:  87%|████████▋ | 361/417 [02:12<00:25,  2.22slide/s]"
     ]
    },
    {
     "name": "stdout",
     "output_type": "stream",
     "text": [
      "  ⏭️ Skipped: All 4081 patches already processed for TCGA-F4-6806_nonMSIH\n"
     ]
    },
    {
     "name": "stderr",
     "output_type": "stream",
     "text": [
      "🧩 Processing slides:  87%|████████▋ | 362/417 [02:13<00:26,  2.08slide/s]"
     ]
    },
    {
     "name": "stdout",
     "output_type": "stream",
     "text": [
      "  ⏭️ Skipped: All 4940 patches already processed for TCGA-F4-6807_nonMSIH\n"
     ]
    },
    {
     "name": "stderr",
     "output_type": "stream",
     "text": [
      "🧩 Processing slides:  87%|████████▋ | 363/417 [02:13<00:30,  1.80slide/s]"
     ]
    },
    {
     "name": "stdout",
     "output_type": "stream",
     "text": [
      "  ⏭️ Skipped: All 5017 patches already processed for TCGA-F4-6808_nonMSIH\n"
     ]
    },
    {
     "name": "stderr",
     "output_type": "stream",
     "text": [
      "🧩 Processing slides:  87%|████████▋ | 364/417 [02:14<00:29,  1.78slide/s]"
     ]
    },
    {
     "name": "stdout",
     "output_type": "stream",
     "text": [
      "  ⏭️ Skipped: All 4583 patches already processed for TCGA-F4-6809_nonMSIH\n"
     ]
    },
    {
     "name": "stderr",
     "output_type": "stream",
     "text": [
      "🧩 Processing slides:  88%|████████▊ | 365/417 [02:14<00:25,  2.02slide/s]"
     ]
    },
    {
     "name": "stdout",
     "output_type": "stream",
     "text": [
      "  ⏭️ Skipped: All 2125 patches already processed for TCGA-F4-6854_nonMSIH\n"
     ]
    },
    {
     "name": "stderr",
     "output_type": "stream",
     "text": [
      "🧩 Processing slides:  88%|████████▊ | 366/417 [02:14<00:21,  2.37slide/s]"
     ]
    },
    {
     "name": "stdout",
     "output_type": "stream",
     "text": [
      "  ⏭️ Skipped: All 1096 patches already processed for TCGA-F4-6855_nonMSIH\n"
     ]
    },
    {
     "name": "stderr",
     "output_type": "stream",
     "text": [
      "🧩 Processing slides:  88%|████████▊ | 367/417 [02:15<00:24,  2.07slide/s]"
     ]
    },
    {
     "name": "stdout",
     "output_type": "stream",
     "text": [
      "  ⏭️ Skipped: All 3617 patches already processed for TCGA-F4-6856_MSIH\n"
     ]
    },
    {
     "name": "stderr",
     "output_type": "stream",
     "text": [
      "🧩 Processing slides:  88%|████████▊ | 369/417 [02:16<00:17,  2.77slide/s]"
     ]
    },
    {
     "name": "stdout",
     "output_type": "stream",
     "text": [
      "  ⏭️ Skipped: All 3610 patches already processed for TCGA-F5-6464_nonMSIH\n",
      "  ⏭️ Skipped: All 2560 patches already processed for TCGA-F5-6465_nonMSIH\n"
     ]
    },
    {
     "name": "stderr",
     "output_type": "stream",
     "text": [
      "🧩 Processing slides:  89%|████████▊ | 370/417 [02:16<00:20,  2.25slide/s]"
     ]
    },
    {
     "name": "stdout",
     "output_type": "stream",
     "text": [
      "  ⏭️ Skipped: All 4197 patches already processed for TCGA-F5-6571_nonMSIH\n"
     ]
    },
    {
     "name": "stderr",
     "output_type": "stream",
     "text": [
      "🧩 Processing slides:  89%|████████▉ | 371/417 [02:17<00:21,  2.16slide/s]"
     ]
    },
    {
     "name": "stdout",
     "output_type": "stream",
     "text": [
      "  ⏭️ Skipped: All 2271 patches already processed for TCGA-F5-6702_nonMSIH\n"
     ]
    },
    {
     "name": "stderr",
     "output_type": "stream",
     "text": [
      "🧩 Processing slides:  89%|████████▉ | 372/417 [02:17<00:18,  2.44slide/s]"
     ]
    },
    {
     "name": "stdout",
     "output_type": "stream",
     "text": [
      "  ⏭️ Skipped: All 691 patches already processed for TCGA-F5-6811_nonMSIH\n"
     ]
    },
    {
     "name": "stderr",
     "output_type": "stream",
     "text": [
      "🧩 Processing slides:  89%|████████▉ | 373/417 [02:18<00:20,  2.13slide/s]"
     ]
    },
    {
     "name": "stdout",
     "output_type": "stream",
     "text": [
      "  ⏭️ Skipped: All 3682 patches already processed for TCGA-F5-6814_nonMSIH\n"
     ]
    },
    {
     "name": "stderr",
     "output_type": "stream",
     "text": [
      "🧩 Processing slides:  90%|████████▉ | 374/417 [02:18<00:20,  2.12slide/s]"
     ]
    },
    {
     "name": "stdout",
     "output_type": "stream",
     "text": [
      "  ⏭️ Skipped: All 2985 patches already processed for TCGA-F5-6863_nonMSIH\n"
     ]
    },
    {
     "name": "stderr",
     "output_type": "stream",
     "text": [
      "🧩 Processing slides:  90%|████████▉ | 375/417 [02:19<00:19,  2.16slide/s]"
     ]
    },
    {
     "name": "stdout",
     "output_type": "stream",
     "text": [
      "  ⏭️ Skipped: All 1995 patches already processed for TCGA-F5-6864_nonMSIH\n"
     ]
    },
    {
     "name": "stderr",
     "output_type": "stream",
     "text": [
      "🧩 Processing slides:  90%|█████████ | 376/417 [02:19<00:21,  1.95slide/s]"
     ]
    },
    {
     "name": "stdout",
     "output_type": "stream",
     "text": [
      "  ⏭️ Skipped: All 3430 patches already processed for TCGA-G4-6293_nonMSIH\n"
     ]
    },
    {
     "name": "stderr",
     "output_type": "stream",
     "text": [
      "🧩 Processing slides:  90%|█████████ | 377/417 [02:20<00:21,  1.83slide/s]"
     ]
    },
    {
     "name": "stdout",
     "output_type": "stream",
     "text": [
      "  ⏭️ Skipped: All 4722 patches already processed for TCGA-G4-6294_nonMSIH\n"
     ]
    },
    {
     "name": "stderr",
     "output_type": "stream",
     "text": [
      "🧩 Processing slides:  91%|█████████ | 378/417 [02:20<00:22,  1.75slide/s]"
     ]
    },
    {
     "name": "stdout",
     "output_type": "stream",
     "text": [
      "  ⏭️ Skipped: All 3726 patches already processed for TCGA-G4-6295_nonMSIH\n"
     ]
    },
    {
     "name": "stderr",
     "output_type": "stream",
     "text": [
      "🧩 Processing slides:  91%|█████████ | 379/417 [02:21<00:22,  1.66slide/s]"
     ]
    },
    {
     "name": "stdout",
     "output_type": "stream",
     "text": [
      "  ⏭️ Skipped: All 5139 patches already processed for TCGA-G4-6297_nonMSIH\n"
     ]
    },
    {
     "name": "stderr",
     "output_type": "stream",
     "text": [
      "🧩 Processing slides:  91%|█████████ | 380/417 [02:22<00:23,  1.58slide/s]"
     ]
    },
    {
     "name": "stdout",
     "output_type": "stream",
     "text": [
      "  ⏭️ Skipped: All 6051 patches already processed for TCGA-G4-6298_nonMSIH\n"
     ]
    },
    {
     "name": "stderr",
     "output_type": "stream",
     "text": [
      "🧩 Processing slides:  91%|█████████▏| 381/417 [02:22<00:21,  1.67slide/s]"
     ]
    },
    {
     "name": "stdout",
     "output_type": "stream",
     "text": [
      "  ⏭️ Skipped: All 4570 patches already processed for TCGA-G4-6299_nonMSIH\n"
     ]
    },
    {
     "name": "stderr",
     "output_type": "stream",
     "text": [
      "🧩 Processing slides:  92%|█████████▏| 382/417 [02:23<00:20,  1.74slide/s]"
     ]
    },
    {
     "name": "stdout",
     "output_type": "stream",
     "text": [
      "  ⏭️ Skipped: All 3046 patches already processed for TCGA-G4-6302_MSIH\n"
     ]
    },
    {
     "name": "stderr",
     "output_type": "stream",
     "text": [
      "🧩 Processing slides:  92%|█████████▏| 383/417 [02:23<00:17,  1.93slide/s]"
     ]
    },
    {
     "name": "stdout",
     "output_type": "stream",
     "text": [
      "  ⏭️ Skipped: All 2575 patches already processed for TCGA-G4-6303_nonMSIH\n"
     ]
    },
    {
     "name": "stderr",
     "output_type": "stream",
     "text": [
      "🧩 Processing slides:  92%|█████████▏| 384/417 [02:24<00:17,  1.85slide/s]"
     ]
    },
    {
     "name": "stdout",
     "output_type": "stream",
     "text": [
      "  ⏭️ Skipped: All 6078 patches already processed for TCGA-G4-6304_MSIH\n"
     ]
    },
    {
     "name": "stderr",
     "output_type": "stream",
     "text": [
      "🧩 Processing slides:  92%|█████████▏| 385/417 [02:24<00:16,  1.95slide/s]"
     ]
    },
    {
     "name": "stdout",
     "output_type": "stream",
     "text": [
      "  ⏭️ Skipped: All 3570 patches already processed for TCGA-G4-6306_nonMSIH\n"
     ]
    },
    {
     "name": "stderr",
     "output_type": "stream",
     "text": [
      "🧩 Processing slides:  93%|█████████▎| 386/417 [02:25<00:15,  1.98slide/s]"
     ]
    },
    {
     "name": "stdout",
     "output_type": "stream",
     "text": [
      "  ⏭️ Skipped: All 3781 patches already processed for TCGA-G4-6307_nonMSIH\n"
     ]
    },
    {
     "name": "stderr",
     "output_type": "stream",
     "text": [
      "🧩 Processing slides:  93%|█████████▎| 387/417 [02:25<00:15,  1.97slide/s]"
     ]
    },
    {
     "name": "stdout",
     "output_type": "stream",
     "text": [
      "  ⏭️ Skipped: All 3701 patches already processed for TCGA-G4-6309_MSIH\n"
     ]
    },
    {
     "name": "stderr",
     "output_type": "stream",
     "text": [
      "🧩 Processing slides:  93%|█████████▎| 388/417 [02:26<00:14,  2.02slide/s]"
     ]
    },
    {
     "name": "stdout",
     "output_type": "stream",
     "text": [
      "  ⏭️ Skipped: All 3294 patches already processed for TCGA-G4-6311_nonMSIH\n"
     ]
    },
    {
     "name": "stderr",
     "output_type": "stream",
     "text": [
      "🧩 Processing slides:  93%|█████████▎| 389/417 [02:26<00:14,  1.93slide/s]"
     ]
    },
    {
     "name": "stdout",
     "output_type": "stream",
     "text": [
      "  ⏭️ Skipped: All 4405 patches already processed for TCGA-G4-6315_nonMSIH\n"
     ]
    },
    {
     "name": "stderr",
     "output_type": "stream",
     "text": [
      "🧩 Processing slides:  94%|█████████▎| 390/417 [02:27<00:13,  2.06slide/s]"
     ]
    },
    {
     "name": "stdout",
     "output_type": "stream",
     "text": [
      "  ⏭️ Skipped: All 3555 patches already processed for TCGA-G4-6317_nonMSIH\n"
     ]
    },
    {
     "name": "stderr",
     "output_type": "stream",
     "text": [
      "🧩 Processing slides:  94%|█████████▍| 391/417 [02:27<00:12,  2.10slide/s]"
     ]
    },
    {
     "name": "stdout",
     "output_type": "stream",
     "text": [
      "  ⏭️ Skipped: All 2886 patches already processed for TCGA-G4-6320_MSIH\n"
     ]
    },
    {
     "name": "stderr",
     "output_type": "stream",
     "text": [
      "🧩 Processing slides:  94%|█████████▍| 392/417 [02:28<00:10,  2.29slide/s]"
     ]
    },
    {
     "name": "stdout",
     "output_type": "stream",
     "text": [
      "  ⏭️ Skipped: All 2814 patches already processed for TCGA-G4-6321_nonMSIH\n"
     ]
    },
    {
     "name": "stderr",
     "output_type": "stream",
     "text": [
      "🧩 Processing slides:  94%|█████████▍| 393/417 [02:28<00:11,  2.14slide/s]"
     ]
    },
    {
     "name": "stdout",
     "output_type": "stream",
     "text": [
      "  ⏭️ Skipped: All 4860 patches already processed for TCGA-G4-6322_nonMSIH\n"
     ]
    },
    {
     "name": "stderr",
     "output_type": "stream",
     "text": [
      "🧩 Processing slides:  94%|█████████▍| 394/417 [02:28<00:09,  2.54slide/s]"
     ]
    },
    {
     "name": "stdout",
     "output_type": "stream",
     "text": [
      "  ⏭️ Skipped: All 2648 patches already processed for TCGA-G4-6323_nonMSIH\n"
     ]
    },
    {
     "name": "stderr",
     "output_type": "stream",
     "text": [
      "🧩 Processing slides:  95%|█████████▍| 396/417 [02:29<00:05,  3.54slide/s]"
     ]
    },
    {
     "name": "stdout",
     "output_type": "stream",
     "text": [
      "  ⏭️ Skipped: All 3761 patches already processed for TCGA-G4-6586_MSIH\n",
      "  ⏭️ Skipped: All 4272 patches already processed for TCGA-G4-6588_MSIH\n"
     ]
    },
    {
     "name": "stderr",
     "output_type": "stream",
     "text": [
      "🧩 Processing slides:  95%|█████████▌| 397/417 [02:29<00:04,  4.39slide/s]"
     ]
    },
    {
     "name": "stdout",
     "output_type": "stream",
     "text": [
      "  ⏭️ Skipped: All 3020 patches already processed for TCGA-G4-6626_nonMSIH\n"
     ]
    },
    {
     "name": "stderr",
     "output_type": "stream",
     "text": [
      "                                                                          "
     ]
    },
    {
     "name": "stdout",
     "output_type": "stream",
     "text": [
      "  ⏭️ Skipped: All 4823 patches already processed for TCGA-G4-6627_nonMSIH\n"
     ]
    },
    {
     "name": "stderr",
     "output_type": "stream",
     "text": [
      "🧩 Processing slides:  96%|█████████▌| 400/417 [02:29<00:03,  5.29slide/s]"
     ]
    },
    {
     "name": "stdout",
     "output_type": "stream",
     "text": [
      "  ⏭️ Skipped: All 4592 patches already processed for TCGA-G4-6628_MSIH\n",
      "  ⏭️ Skipped: All 2376 patches already processed for TCGA-G5-6641_nonMSIH\n"
     ]
    },
    {
     "name": "stderr",
     "output_type": "stream",
     "text": [
      "🧩 Processing slides:  96%|█████████▋| 402/417 [02:30<00:02,  5.48slide/s]"
     ]
    },
    {
     "name": "stdout",
     "output_type": "stream",
     "text": [
      "  ⏭️ Skipped: All 4445 patches already processed for TCGA-NH-A50T_nonMSIH\n",
      "  ⏭️ Skipped: All 3411 patches already processed for TCGA-NH-A50U_nonMSIH\n"
     ]
    },
    {
     "name": "stderr",
     "output_type": "stream",
     "text": [
      "🧩 Processing slides:  97%|█████████▋| 403/417 [02:30<00:02,  5.01slide/s]"
     ]
    },
    {
     "name": "stdout",
     "output_type": "stream",
     "text": [
      "  ⏭️ Skipped: All 4077 patches already processed for TCGA-NH-A50V_nonMSIH\n"
     ]
    },
    {
     "name": "stderr",
     "output_type": "stream",
     "text": [
      "🧩 Processing slides:  97%|█████████▋| 404/417 [02:30<00:02,  5.04slide/s]"
     ]
    },
    {
     "name": "stdout",
     "output_type": "stream",
     "text": [
      "  ⏭️ Skipped: All 4738 patches already processed for TCGA-NH-A5IV_MSIH\n",
      "  ⏭️ Skipped: All 2918 patches already processed for TCGA-NH-A6GA_nonMSIH\n"
     ]
    },
    {
     "name": "stderr",
     "output_type": "stream",
     "text": [
      "🧩 Processing slides:  97%|█████████▋| 406/417 [02:30<00:01,  5.83slide/s]"
     ]
    },
    {
     "name": "stdout",
     "output_type": "stream",
     "text": [
      "  ⏭️ Skipped: All 5249 patches already processed for TCGA-NH-A6GB_nonMSIH\n"
     ]
    },
    {
     "name": "stderr",
     "output_type": "stream",
     "text": [
      "🧩 Processing slides:  98%|█████████▊| 407/417 [02:31<00:01,  5.60slide/s]"
     ]
    },
    {
     "name": "stdout",
     "output_type": "stream",
     "text": [
      "  ⏭️ Skipped: All 4013 patches already processed for TCGA-NH-A6GC_nonMSIH\n"
     ]
    },
    {
     "name": "stderr",
     "output_type": "stream",
     "text": [
      "🧩 Processing slides:  98%|█████████▊| 408/417 [02:31<00:01,  5.33slide/s]"
     ]
    },
    {
     "name": "stdout",
     "output_type": "stream",
     "text": [
      "  ⏭️ Skipped: All 4086 patches already processed for TCGA-NH-A8F8_nonMSIH\n"
     ]
    },
    {
     "name": "stderr",
     "output_type": "stream",
     "text": [
      "🧩 Processing slides:  98%|█████████▊| 410/417 [02:31<00:01,  5.23slide/s]"
     ]
    },
    {
     "name": "stdout",
     "output_type": "stream",
     "text": [
      "  ⏭️ Skipped: All 4699 patches already processed for TCGA-QG-A5YV_nonMSIH\n",
      "  ⏭️ Skipped: All 3628 patches already processed for TCGA-QG-A5YW_nonMSIH\n"
     ]
    },
    {
     "name": "stderr",
     "output_type": "stream",
     "text": [
      "🧩 Processing slides:  99%|█████████▉| 412/417 [02:31<00:00,  6.56slide/s]"
     ]
    },
    {
     "name": "stdout",
     "output_type": "stream",
     "text": [
      "  ⏭️ Skipped: All 3727 patches already processed for TCGA-QG-A5YX_nonMSIH\n",
      "  ⏭️ Skipped: All 4144 patches already processed for TCGA-QG-A5Z1_nonMSIH\n"
     ]
    },
    {
     "name": "stderr",
     "output_type": "stream",
     "text": [
      "🧩 Processing slides:  99%|█████████▉| 414/417 [02:32<00:00,  6.71slide/s]"
     ]
    },
    {
     "name": "stdout",
     "output_type": "stream",
     "text": [
      "  ⏭️ Skipped: All 4849 patches already processed for TCGA-QG-A5Z2_MSIH\n",
      "  ⏭️ Skipped: All 4126 patches already processed for TCGA-QL-A97D_nonMSIH\n"
     ]
    },
    {
     "name": "stderr",
     "output_type": "stream",
     "text": [
      "🧩 Processing slides: 100%|█████████▉| 415/417 [02:32<00:00,  6.10slide/s]"
     ]
    },
    {
     "name": "stdout",
     "output_type": "stream",
     "text": [
      "  ⏭️ Skipped: All 5746 patches already processed for TCGA-SS-A7HO_nonMSIH\n"
     ]
    },
    {
     "name": "stderr",
     "output_type": "stream",
     "text": [
      "🧩 Processing slides: 100%|██████████| 417/417 [02:32<00:00,  2.73slide/s]\n"
     ]
    },
    {
     "name": "stdout",
     "output_type": "stream",
     "text": [
      "  ⏭️ Skipped: All 5462 patches already processed for TCGA-T9-A92H_nonMSIH\n",
      "  ⏭️ Skipped: All 4532 patches already processed for TCGA-WS-AB45_MSIH\n"
     ]
    }
   ],
   "source": [
    "extractor = ConchFeatureExtractorFiveCrop()\n",
    "import glob\n",
    "\n",
    "run_full_pipeline_fivecrop(\n",
    "    patch_data_dir=r\"D:\\Aamir Gulzar\\KSA_project2\\dataset\\patch_data\",\n",
    "    extractor=extractor,\n",
    "    non_white_csv=r\"D:\\Aamir Gulzar\\KSA_project2\\Cancer-detection-classifier\\feature_extraction\\final_merged_without_white.csv\",\n",
    "    output_root=r\"D:\\Aamir Gulzar\\KSA_project2\\dataset\\Features\\Conch_v1_5_fivecrop_Updated\"\n",
    ")"
   ]
  },
  {
   "cell_type": "code",
   "execution_count": null,
   "id": "e322c106",
   "metadata": {},
   "outputs": [],
   "source": []
  }
 ],
 "metadata": {
  "kernelspec": {
   "display_name": "TITAN_ENV",
   "language": "python",
   "name": "python3"
  },
  "language_info": {
   "codemirror_mode": {
    "name": "ipython",
    "version": 3
   },
   "file_extension": ".py",
   "mimetype": "text/x-python",
   "name": "python",
   "nbconvert_exporter": "python",
   "pygments_lexer": "ipython3",
   "version": "3.11.13"
  }
 },
 "nbformat": 4,
 "nbformat_minor": 5
}
