{
 "cells": [
  {
   "cell_type": "code",
   "execution_count": 1,
   "id": "9994a84c-2dab-4300-9a5e-2071a90d9ddd",
   "metadata": {},
   "outputs": [
    {
     "name": "stdout",
     "output_type": "stream",
     "text": [
      "d:\\Aamir Gulzar\\KSA_project2\\Cancer-detection-classifier\\feature_extraction\n"
     ]
    }
   ],
   "source": [
    "import os\n",
    "print(os.getcwd())"
   ]
  },
  {
   "cell_type": "markdown",
   "id": "f74779f6",
   "metadata": {},
   "source": [
    "## Alternative method using donwsampled PNG by PNG for feature extraction"
   ]
  },
  {
   "cell_type": "markdown",
   "id": "f7a2d40b",
   "metadata": {},
   "source": [
    "### Feature extraction function"
   ]
  },
  {
   "cell_type": "code",
   "execution_count": null,
   "id": "79841e3d",
   "metadata": {},
   "outputs": [],
   "source": [
    "import torch\n",
    "import timm\n",
    "from PIL import Image\n",
    "from torchvision import transforms\n",
    "from huggingface_hub import login\n",
    "\n",
    "class HOptimusExtractorFiveCrop:\n",
    "    def __init__(self, device='cuda'):\n",
    "        # Login to Hugging Face (if needed)\n",
    "        login(token=\"\")\n",
    "\n",
    "        self.device = torch.device(device if torch.cuda.is_available() else 'cpu')\n",
    "\n",
    "        self.model = timm.create_model(\n",
    "            \"hf-hub:bioptimus/H-optimus-1\",\n",
    "            pretrained=True,\n",
    "            init_values=1e-5,\n",
    "            dynamic_img_size=False\n",
    "        ).to(self.device)\n",
    "        self.model.eval()\n",
    "\n",
    "\n",
    "        self.eval_transform = transforms.Compose([\n",
    "            transforms.Resize((224, 224)),  # Resize each crop to 224x224\n",
    "            transforms.ToTensor(),\n",
    "            transforms.Normalize(\n",
    "                mean=(0.707223, 0.578729, 0.703617),\n",
    "                std=(0.211883, 0.230117, 0.177517)\n",
    "            )\n",
    "        ])\n",
    "\n",
    "        self.fivecrop_transform = transforms.Compose([\n",
    "            transforms.FiveCrop(256),\n",
    "            transforms.Lambda(lambda crops: torch.stack([self.eval_transform(c) for c in crops]))\n",
    "        ])\n",
    "\n",
    "    def extract_fivecrop_features(self, image: Image.Image | str) -> torch.Tensor:\n",
    "        \"\"\"\n",
    "        Extract features from 5 crops of an image.\n",
    "        Returns a tensor of shape (5, 1536)\n",
    "        \"\"\"\n",
    "        if isinstance(image, str):\n",
    "            image = Image.open(image).convert(\"RGB\")\n",
    "        else:\n",
    "            image = image.convert(\"RGB\")\n",
    "\n",
    "        crops_tensor = self.fivecrop_transform(image).to(self.device)  # (5, 3, 224, 224)\n",
    "\n",
    "        with torch.autocast(device_type=self.device.type, dtype=torch.float16):\n",
    "            with torch.inference_mode():\n",
    "                features = self.model(crops_tensor)  # (5, 1536)\n",
    "\n",
    "        return features.cpu()"
   ]
  },
  {
   "cell_type": "markdown",
   "id": "7c6057af",
   "metadata": {},
   "source": [
    "## Testing"
   ]
  },
  {
   "cell_type": "code",
   "execution_count": 2,
   "id": "c7cda952",
   "metadata": {},
   "outputs": [
    {
     "name": "stdout",
     "output_type": "stream",
     "text": [
      "Token will not been saved to git credential helper. Pass `add_to_git_credential=True` if you want to set the git credential as well.\n",
      "Token is valid (permission: fineGrained).\n",
      "Your token has been saved to C:\\Users\\datainsight\\.cache\\huggingface\\token\n",
      "Login successful\n"
     ]
    },
    {
     "name": "stderr",
     "output_type": "stream",
     "text": [
      "  0%|          | 10/1460238 [00:41<1688:18:16,  4.16s/it]\n"
     ]
    },
    {
     "ename": "KeyboardInterrupt",
     "evalue": "",
     "output_type": "error",
     "traceback": [
      "\u001b[31m---------------------------------------------------------------------------\u001b[39m",
      "\u001b[31mKeyboardInterrupt\u001b[39m                         Traceback (most recent call last)",
      "\u001b[36mCell\u001b[39m\u001b[36m \u001b[39m\u001b[32mIn[2]\u001b[39m\u001b[32m, line 19\u001b[39m\n\u001b[32m     17\u001b[39m \u001b[38;5;28;01mfor\u001b[39;00m patch_path \u001b[38;5;129;01min\u001b[39;00m tqdm(all_patch_paths):\n\u001b[32m     18\u001b[39m     \u001b[38;5;28;01mtry\u001b[39;00m:\n\u001b[32m---> \u001b[39m\u001b[32m19\u001b[39m         features = \u001b[43mextractor\u001b[49m\u001b[43m.\u001b[49m\u001b[43mextract_fivecrop_features\u001b[49m\u001b[43m(\u001b[49m\u001b[43mpatch_path\u001b[49m\u001b[43m)\u001b[49m  \u001b[38;5;66;03m# shape: (5, D)\u001b[39;00m\n\u001b[32m     21\u001b[39m         \u001b[38;5;66;03m# Extract subfolder and filename\u001b[39;00m\n\u001b[32m     22\u001b[39m         relative_path = os.path.relpath(patch_path, patch_root)\n",
      "\u001b[36mCell\u001b[39m\u001b[36m \u001b[39m\u001b[32mIn[1]\u001b[39m\u001b[32m, line 53\u001b[39m, in \u001b[36mHOptimusExtractorFiveCrop.extract_fivecrop_features\u001b[39m\u001b[34m(self, image)\u001b[39m\n\u001b[32m     50\u001b[39m     \u001b[38;5;28;01mwith\u001b[39;00m torch.inference_mode():\n\u001b[32m     51\u001b[39m         features = \u001b[38;5;28mself\u001b[39m.model(crops_tensor)  \u001b[38;5;66;03m# (5, 1536)\u001b[39;00m\n\u001b[32m---> \u001b[39m\u001b[32m53\u001b[39m \u001b[38;5;28;01mreturn\u001b[39;00m \u001b[43mfeatures\u001b[49m\u001b[43m.\u001b[49m\u001b[43mcpu\u001b[49m\u001b[43m(\u001b[49m\u001b[43m)\u001b[49m\n",
      "\u001b[31mKeyboardInterrupt\u001b[39m: "
     ]
    }
   ],
   "source": [
    "# FiveCrop feature extraction function\n",
    "import glob\n",
    "import os\n",
    "from tqdm import tqdm\n",
    "import torch\n",
    "\n",
    "# Set paths\n",
    "patch_root = r\"D:\\Aamir Gulzar\\KSA_project2\\dataset\\patch_data\"\n",
    "save_root = r\"D:\\Aamir Gulzar\\KSA_project2\\dataset\\Features\\H_Optimus_1_fivecrop_Updated\"\n",
    "\n",
    "# Initialize extractor\n",
    "extractor = HOptimusExtractorFiveCrop()\n",
    "\n",
    "# Loop through all PNG patches\n",
    "all_patch_paths = glob.glob(os.path.join(patch_root, \"*\", \"*.png\"))\n",
    "\n",
    "for patch_path in tqdm(all_patch_paths):\n",
    "    try:\n",
    "        features = extractor.extract_fivecrop_features(patch_path)  # shape: (5, D)\n",
    "\n",
    "        # Extract subfolder and filename\n",
    "        relative_path = os.path.relpath(patch_path, patch_root)\n",
    "        slide_folder, patch_filename = os.path.split(relative_path)\n",
    "        patch_base = os.path.splitext(patch_filename)[0]  # remove .png\n",
    "\n",
    "        # Create save path\n",
    "        save_dir = os.path.join(save_root, slide_folder)\n",
    "        os.makedirs(save_dir, exist_ok=True)\n",
    "\n",
    "        save_path = os.path.join(save_dir, patch_base + \".pt\")\n",
    "        torch.save(features, save_path)\n",
    "    \n",
    "    except Exception as e:\n",
    "        print(f\"Error processing {patch_path}: {e}\")"
   ]
  },
  {
   "cell_type": "markdown",
   "id": "fd904539",
   "metadata": {},
   "source": [
    "## Final Pipeline"
   ]
  },
  {
   "cell_type": "code",
   "execution_count": 2,
   "id": "4f089a90",
   "metadata": {},
   "outputs": [],
   "source": [
    "import os\n",
    "import glob\n",
    "import pandas as pd\n",
    "import torch\n",
    "from tqdm import tqdm\n",
    "\n",
    "def run_full_pipeline_HOptimus_fivecrop(\n",
    "    patch_data_dir: str,\n",
    "    extractor,  # Instance of HOptimusExtractorFiveCrop\n",
    "    non_white_csv: str,\n",
    "    output_root: str\n",
    "):\n",
    "    # Load non-white metadata\n",
    "    non_white_df = pd.read_csv(non_white_csv)\n",
    "    valid_patch_names = set(non_white_df['patch_name'].astype(str))\n",
    "\n",
    "    # Loop over slide directories\n",
    "    slide_dirs = glob.glob(os.path.join(patch_data_dir, \"*\"))\n",
    "    for slide_dir in tqdm(slide_dirs, desc=\"🧩 Processing slides\", unit=\"slide\", position=0):\n",
    "        slide_name = os.path.basename(slide_dir)\n",
    "        patch_feat_dir = os.path.join(output_root, slide_name)\n",
    "        os.makedirs(patch_feat_dir, exist_ok=True)\n",
    "\n",
    "        # Filter valid non-white patches\n",
    "        all_patches = glob.glob(os.path.join(slide_dir, \"*.png\"))\n",
    "        valid_patch_paths = [p for p in all_patches if os.path.basename(p) in valid_patch_names]\n",
    "\n",
    "        if not valid_patch_paths:\n",
    "            tqdm.write(f\"  ❌ No valid non-white patches found for {slide_name}\")\n",
    "            continue\n",
    "\n",
    "        # Skip already processed patches\n",
    "        existing_feats = set(os.path.splitext(f.name)[0] for f in os.scandir(patch_feat_dir) if f.name.endswith(\".pt\"))\n",
    "        to_process = [p for p in valid_patch_paths if os.path.splitext(os.path.basename(p))[0] not in existing_feats]\n",
    "\n",
    "        if not to_process:\n",
    "            tqdm.write(f\"  ⏭️ Skipped: All {len(valid_patch_paths)} patches already processed for {slide_name}\")\n",
    "            continue\n",
    "\n",
    "        # Patch-level tqdm bar\n",
    "        for patch_path in tqdm(to_process, desc=f\"🔄 {slide_name}\", unit=\"patch\", position=1, leave=False):\n",
    "            patch_name = os.path.splitext(os.path.basename(patch_path))[0]\n",
    "            save_path = os.path.join(patch_feat_dir, patch_name + \".pt\")\n",
    "\n",
    "            try:\n",
    "                features = extractor.extract_fivecrop_features(patch_path)  # shape (5, D)\n",
    "                torch.save(features, save_path)\n",
    "            except Exception as e:\n",
    "                tqdm.write(f\"  ❌ Failed to process patch {patch_path}: {e}\")\n",
    "                continue\n",
    "\n",
    "        tqdm.write(f\"  ✅ Done: Processed {len(to_process)} new patches (total: {len(valid_patch_paths)}) for {slide_name}\")"
   ]
  },
  {
   "cell_type": "code",
   "execution_count": 4,
   "id": "6d940eeb",
   "metadata": {},
   "outputs": [
    {
     "name": "stdout",
     "output_type": "stream",
     "text": [
      "Token will not been saved to git credential helper. Pass `add_to_git_credential=True` if you want to set the git credential as well.\n",
      "Token is valid (permission: fineGrained).\n",
      "Your token has been saved to C:\\Users\\datainsight\\.cache\\huggingface\\token\n",
      "Login successful\n"
     ]
    },
    {
     "name": "stderr",
     "output_type": "stream",
     "text": [
      "🧩 Processing slides:   0%|          | 1/417 [00:00<02:20,  2.95slide/s]"
     ]
    },
    {
     "name": "stdout",
     "output_type": "stream",
     "text": [
      "  ⏭️ Skipped: All 1878 patches already processed for TCGA-3L-AA1B_nonMSIH\n"
     ]
    },
    {
     "name": "stderr",
     "output_type": "stream",
     "text": [
      "🧩 Processing slides:   0%|          | 2/417 [00:02<08:53,  1.29s/slide]"
     ]
    },
    {
     "name": "stdout",
     "output_type": "stream",
     "text": [
      "  ⏭️ Skipped: All 4240 patches already processed for TCGA-4N-A93T_nonMSIH\n"
     ]
    },
    {
     "name": "stderr",
     "output_type": "stream",
     "text": [
      "🧩 Processing slides:   1%|          | 3/417 [00:03<09:46,  1.42s/slide]"
     ]
    },
    {
     "name": "stdout",
     "output_type": "stream",
     "text": [
      "  ⏭️ Skipped: All 6411 patches already processed for TCGA-5M-AAT4_nonMSIH\n"
     ]
    },
    {
     "name": "stderr",
     "output_type": "stream",
     "text": [
      "🧩 Processing slides:   1%|          | 4/417 [00:04<08:22,  1.22s/slide]"
     ]
    },
    {
     "name": "stdout",
     "output_type": "stream",
     "text": [
      "  ⏭️ Skipped: All 4320 patches already processed for TCGA-5M-AAT6_MSIH\n"
     ]
    },
    {
     "name": "stderr",
     "output_type": "stream",
     "text": [
      "🧩 Processing slides:   1%|          | 5/417 [00:06<08:38,  1.26s/slide]"
     ]
    },
    {
     "name": "stdout",
     "output_type": "stream",
     "text": [
      "  ⏭️ Skipped: All 7583 patches already processed for TCGA-5M-AATE_nonMSIH\n"
     ]
    },
    {
     "name": "stderr",
     "output_type": "stream",
     "text": [
      "🧩 Processing slides:   1%|▏         | 6/417 [00:06<06:14,  1.10slide/s]"
     ]
    },
    {
     "name": "stdout",
     "output_type": "stream",
     "text": [
      "  ⏭️ Skipped: All 710 patches already processed for TCGA-A6-2671_nonMSIH\n"
     ]
    },
    {
     "name": "stderr",
     "output_type": "stream",
     "text": [
      "🧩 Processing slides:   2%|▏         | 7/417 [00:06<04:46,  1.43slide/s]"
     ]
    },
    {
     "name": "stdout",
     "output_type": "stream",
     "text": [
      "  ⏭️ Skipped: All 840 patches already processed for TCGA-A6-2681_nonMSIH\n"
     ]
    },
    {
     "name": "stderr",
     "output_type": "stream",
     "text": [
      "🧩 Processing slides:   2%|▏         | 8/417 [00:07<04:43,  1.44slide/s]"
     ]
    },
    {
     "name": "stdout",
     "output_type": "stream",
     "text": [
      "  ⏭️ Skipped: All 2428 patches already processed for TCGA-A6-2685_nonMSIH\n"
     ]
    },
    {
     "name": "stderr",
     "output_type": "stream",
     "text": [
      "🧩 Processing slides:   2%|▏         | 9/417 [00:07<04:08,  1.64slide/s]"
     ]
    },
    {
     "name": "stdout",
     "output_type": "stream",
     "text": [
      "  ⏭️ Skipped: All 2258 patches already processed for TCGA-A6-2686_MSIH\n"
     ]
    },
    {
     "name": "stderr",
     "output_type": "stream",
     "text": [
      "🧩 Processing slides:   2%|▏         | 10/417 [00:08<04:21,  1.56slide/s]"
     ]
    },
    {
     "name": "stdout",
     "output_type": "stream",
     "text": [
      "  ⏭️ Skipped: All 2337 patches already processed for TCGA-A6-3807_nonMSIH\n"
     ]
    },
    {
     "name": "stderr",
     "output_type": "stream",
     "text": [
      "🧩 Processing slides:   3%|▎         | 11/417 [00:09<04:51,  1.39slide/s]"
     ]
    },
    {
     "name": "stdout",
     "output_type": "stream",
     "text": [
      "  ⏭️ Skipped: All 2365 patches already processed for TCGA-A6-4105_nonMSIH\n"
     ]
    },
    {
     "name": "stderr",
     "output_type": "stream",
     "text": [
      "🧩 Processing slides:   3%|▎         | 12/417 [00:09<04:38,  1.46slide/s]"
     ]
    },
    {
     "name": "stdout",
     "output_type": "stream",
     "text": [
      "  ⏭️ Skipped: All 836 patches already processed for TCGA-A6-4107_nonMSIH\n"
     ]
    },
    {
     "name": "stderr",
     "output_type": "stream",
     "text": [
      "🧩 Processing slides:   3%|▎         | 13/417 [00:10<04:05,  1.65slide/s]"
     ]
    },
    {
     "name": "stdout",
     "output_type": "stream",
     "text": [
      "  ⏭️ Skipped: All 1047 patches already processed for TCGA-A6-5657_nonMSIH\n"
     ]
    },
    {
     "name": "stderr",
     "output_type": "stream",
     "text": [
      "🧩 Processing slides:   3%|▎         | 14/417 [00:10<03:30,  1.91slide/s]"
     ]
    },
    {
     "name": "stdout",
     "output_type": "stream",
     "text": [
      "  ⏭️ Skipped: All 1016 patches already processed for TCGA-A6-5660_nonMSIH\n"
     ]
    },
    {
     "name": "stderr",
     "output_type": "stream",
     "text": [
      "🧩 Processing slides:   4%|▎         | 15/417 [00:11<03:29,  1.92slide/s]"
     ]
    },
    {
     "name": "stdout",
     "output_type": "stream",
     "text": [
      "  ⏭️ Skipped: All 875 patches already processed for TCGA-A6-5661_MSIH\n"
     ]
    },
    {
     "name": "stderr",
     "output_type": "stream",
     "text": [
      "🧩 Processing slides:   4%|▍         | 16/417 [00:11<02:50,  2.35slide/s]"
     ]
    },
    {
     "name": "stdout",
     "output_type": "stream",
     "text": [
      "  ⏭️ Skipped: All 532 patches already processed for TCGA-A6-5662_nonMSIH\n"
     ]
    },
    {
     "name": "stderr",
     "output_type": "stream",
     "text": [
      "🧩 Processing slides:   4%|▍         | 17/417 [00:12<03:25,  1.94slide/s]"
     ]
    },
    {
     "name": "stdout",
     "output_type": "stream",
     "text": [
      "  ⏭️ Skipped: All 1840 patches already processed for TCGA-A6-5664_nonMSIH\n"
     ]
    },
    {
     "name": "stderr",
     "output_type": "stream",
     "text": [
      "🧩 Processing slides:   4%|▍         | 18/417 [00:12<03:28,  1.91slide/s]"
     ]
    },
    {
     "name": "stdout",
     "output_type": "stream",
     "text": [
      "  ⏭️ Skipped: All 764 patches already processed for TCGA-A6-5665_MSIH\n"
     ]
    },
    {
     "name": "stderr",
     "output_type": "stream",
     "text": [
      "🧩 Processing slides:   5%|▍         | 19/417 [00:13<04:16,  1.55slide/s]"
     ]
    },
    {
     "name": "stdout",
     "output_type": "stream",
     "text": [
      "  ⏭️ Skipped: All 2097 patches already processed for TCGA-A6-5666_nonMSIH\n"
     ]
    },
    {
     "name": "stderr",
     "output_type": "stream",
     "text": [
      "🧩 Processing slides:   5%|▍         | 20/417 [00:13<03:40,  1.80slide/s]"
     ]
    },
    {
     "name": "stdout",
     "output_type": "stream",
     "text": [
      "  ⏭️ Skipped: All 415 patches already processed for TCGA-A6-5667_nonMSIH\n"
     ]
    },
    {
     "name": "stderr",
     "output_type": "stream",
     "text": [
      "🧩 Processing slides:   5%|▌         | 21/417 [00:14<03:44,  1.77slide/s]"
     ]
    },
    {
     "name": "stdout",
     "output_type": "stream",
     "text": [
      "  ⏭️ Skipped: All 1593 patches already processed for TCGA-A6-6137_nonMSIH\n"
     ]
    },
    {
     "name": "stderr",
     "output_type": "stream",
     "text": [
      "🧩 Processing slides:   5%|▌         | 22/417 [00:15<03:42,  1.78slide/s]"
     ]
    },
    {
     "name": "stdout",
     "output_type": "stream",
     "text": [
      "  ⏭️ Skipped: All 1090 patches already processed for TCGA-A6-6138_nonMSIH\n"
     ]
    },
    {
     "name": "stderr",
     "output_type": "stream",
     "text": [
      "🧩 Processing slides:   6%|▌         | 23/417 [00:15<03:46,  1.74slide/s]"
     ]
    },
    {
     "name": "stdout",
     "output_type": "stream",
     "text": [
      "  ⏭️ Skipped: All 1133 patches already processed for TCGA-A6-6142_nonMSIH\n"
     ]
    },
    {
     "name": "stderr",
     "output_type": "stream",
     "text": [
      "🧩 Processing slides:   6%|▌         | 24/417 [00:16<03:25,  1.91slide/s]"
     ]
    },
    {
     "name": "stdout",
     "output_type": "stream",
     "text": [
      "  ⏭️ Skipped: All 572 patches already processed for TCGA-A6-6648_nonMSIH\n"
     ]
    },
    {
     "name": "stderr",
     "output_type": "stream",
     "text": [
      "🧩 Processing slides:   6%|▌         | 25/417 [00:16<03:06,  2.10slide/s]"
     ]
    },
    {
     "name": "stdout",
     "output_type": "stream",
     "text": [
      "  ⏭️ Skipped: All 789 patches already processed for TCGA-A6-6649_nonMSIH\n"
     ]
    },
    {
     "name": "stderr",
     "output_type": "stream",
     "text": [
      "🧩 Processing slides:   6%|▌         | 26/417 [00:16<02:44,  2.38slide/s]"
     ]
    },
    {
     "name": "stdout",
     "output_type": "stream",
     "text": [
      "  ⏭️ Skipped: All 1110 patches already processed for TCGA-A6-6651_nonMSIH\n"
     ]
    },
    {
     "name": "stderr",
     "output_type": "stream",
     "text": [
      "🧩 Processing slides:   6%|▋         | 27/417 [00:17<03:04,  2.12slide/s]"
     ]
    },
    {
     "name": "stdout",
     "output_type": "stream",
     "text": [
      "  ⏭️ Skipped: All 446 patches already processed for TCGA-A6-6652_nonMSIH\n"
     ]
    },
    {
     "name": "stderr",
     "output_type": "stream",
     "text": [
      "🧩 Processing slides:   7%|▋         | 28/417 [00:17<03:08,  2.06slide/s]"
     ]
    },
    {
     "name": "stdout",
     "output_type": "stream",
     "text": [
      "  ⏭️ Skipped: All 1411 patches already processed for TCGA-A6-6653_MSIH\n"
     ]
    },
    {
     "name": "stderr",
     "output_type": "stream",
     "text": [
      "🧩 Processing slides:   7%|▋         | 29/417 [00:18<03:34,  1.81slide/s]"
     ]
    },
    {
     "name": "stdout",
     "output_type": "stream",
     "text": [
      "  ⏭️ Skipped: All 1588 patches already processed for TCGA-A6-6654_nonMSIH\n"
     ]
    },
    {
     "name": "stderr",
     "output_type": "stream",
     "text": [
      "🧩 Processing slides:   7%|▋         | 30/417 [00:19<03:37,  1.78slide/s]"
     ]
    },
    {
     "name": "stdout",
     "output_type": "stream",
     "text": [
      "  ⏭️ Skipped: All 779 patches already processed for TCGA-A6-A565_nonMSIH\n"
     ]
    },
    {
     "name": "stderr",
     "output_type": "stream",
     "text": [
      "🧩 Processing slides:   7%|▋         | 31/417 [00:19<03:24,  1.89slide/s]"
     ]
    },
    {
     "name": "stdout",
     "output_type": "stream",
     "text": [
      "  ⏭️ Skipped: All 1716 patches already processed for TCGA-A6-A566_nonMSIH\n"
     ]
    },
    {
     "name": "stderr",
     "output_type": "stream",
     "text": [
      "🧩 Processing slides:   8%|▊         | 32/417 [00:20<03:59,  1.61slide/s]"
     ]
    },
    {
     "name": "stdout",
     "output_type": "stream",
     "text": [
      "  ⏭️ Skipped: All 2231 patches already processed for TCGA-A6-A567_nonMSIH\n"
     ]
    },
    {
     "name": "stderr",
     "output_type": "stream",
     "text": [
      "🧩 Processing slides:   8%|▊         | 33/417 [00:20<03:51,  1.66slide/s]"
     ]
    },
    {
     "name": "stdout",
     "output_type": "stream",
     "text": [
      "  ⏭️ Skipped: All 2056 patches already processed for TCGA-A6-A56B_nonMSIH\n"
     ]
    },
    {
     "name": "stderr",
     "output_type": "stream",
     "text": [
      "🧩 Processing slides:   8%|▊         | 34/417 [00:24<09:12,  1.44s/slide]"
     ]
    },
    {
     "name": "stdout",
     "output_type": "stream",
     "text": [
      "  ⏭️ Skipped: All 5067 patches already processed for TCGA-AA-3664_nonMSIH\n"
     ]
    },
    {
     "name": "stderr",
     "output_type": "stream",
     "text": [
      "🧩 Processing slides:   8%|▊         | 35/417 [00:26<10:21,  1.63s/slide]"
     ]
    },
    {
     "name": "stdout",
     "output_type": "stream",
     "text": [
      "  ⏭️ Skipped: All 4605 patches already processed for TCGA-AA-3666_nonMSIH\n"
     ]
    },
    {
     "name": "stderr",
     "output_type": "stream",
     "text": [
      "🧩 Processing slides:   9%|▊         | 36/417 [00:27<10:03,  1.58s/slide]"
     ]
    },
    {
     "name": "stdout",
     "output_type": "stream",
     "text": [
      "  ⏭️ Skipped: All 3312 patches already processed for TCGA-AA-3667_nonMSIH\n"
     ]
    },
    {
     "name": "stderr",
     "output_type": "stream",
     "text": [
      "🧩 Processing slides:   9%|▉         | 37/417 [00:28<08:45,  1.38s/slide]"
     ]
    },
    {
     "name": "stdout",
     "output_type": "stream",
     "text": [
      "  ⏭️ Skipped: All 1588 patches already processed for TCGA-AA-3673_nonMSIH\n"
     ]
    },
    {
     "name": "stderr",
     "output_type": "stream",
     "text": [
      "🧩 Processing slides:   9%|▉         | 38/417 [00:29<06:58,  1.10s/slide]"
     ]
    },
    {
     "name": "stdout",
     "output_type": "stream",
     "text": [
      "  ⏭️ Skipped: All 1654 patches already processed for TCGA-AA-3678_nonMSIH\n"
     ]
    },
    {
     "name": "stderr",
     "output_type": "stream",
     "text": [
      "🧩 Processing slides:   9%|▉         | 39/417 [00:30<07:53,  1.25s/slide]"
     ]
    },
    {
     "name": "stdout",
     "output_type": "stream",
     "text": [
      "  ⏭️ Skipped: All 3570 patches already processed for TCGA-AA-3679_nonMSIH\n"
     ]
    },
    {
     "name": "stderr",
     "output_type": "stream",
     "text": [
      "🧩 Processing slides:  10%|▉         | 40/417 [00:32<09:23,  1.50s/slide]"
     ]
    },
    {
     "name": "stdout",
     "output_type": "stream",
     "text": [
      "  ⏭️ Skipped: All 4503 patches already processed for TCGA-AA-3680_nonMSIH\n"
     ]
    },
    {
     "name": "stderr",
     "output_type": "stream",
     "text": [
      "🧩 Processing slides:  10%|▉         | 41/417 [00:34<09:28,  1.51s/slide]"
     ]
    },
    {
     "name": "stdout",
     "output_type": "stream",
     "text": [
      "  ⏭️ Skipped: All 2725 patches already processed for TCGA-AA-3681_nonMSIH\n"
     ]
    },
    {
     "name": "stderr",
     "output_type": "stream",
     "text": [
      "🧩 Processing slides:  10%|█         | 42/417 [00:41<18:56,  3.03s/slide]"
     ]
    },
    {
     "name": "stdout",
     "output_type": "stream",
     "text": [
      "  ⏭️ Skipped: All 13657 patches already processed for TCGA-AA-3684_nonMSIH\n"
     ]
    },
    {
     "name": "stderr",
     "output_type": "stream",
     "text": [
      "🧩 Processing slides:  10%|█         | 43/417 [00:42<15:17,  2.45s/slide]"
     ]
    },
    {
     "name": "stdout",
     "output_type": "stream",
     "text": [
      "  ⏭️ Skipped: All 3279 patches already processed for TCGA-AA-3688_nonMSIH\n"
     ]
    },
    {
     "name": "stderr",
     "output_type": "stream",
     "text": [
      "🧩 Processing slides:  11%|█         | 44/417 [00:44<14:04,  2.26s/slide]"
     ]
    },
    {
     "name": "stdout",
     "output_type": "stream",
     "text": [
      "  ⏭️ Skipped: All 2903 patches already processed for TCGA-AA-3692_nonMSIH\n"
     ]
    },
    {
     "name": "stderr",
     "output_type": "stream",
     "text": [
      "🧩 Processing slides:  11%|█         | 45/417 [00:45<12:26,  2.01s/slide]"
     ]
    },
    {
     "name": "stdout",
     "output_type": "stream",
     "text": [
      "  ⏭️ Skipped: All 4176 patches already processed for TCGA-AA-3693_nonMSIH\n"
     ]
    },
    {
     "name": "stderr",
     "output_type": "stream",
     "text": [
      "🧩 Processing slides:  11%|█         | 46/417 [00:46<10:05,  1.63s/slide]"
     ]
    },
    {
     "name": "stdout",
     "output_type": "stream",
     "text": [
      "  ⏭️ Skipped: All 2092 patches already processed for TCGA-AA-3696_nonMSIH\n"
     ]
    },
    {
     "name": "stderr",
     "output_type": "stream",
     "text": [
      "🧩 Processing slides:  11%|█▏        | 47/417 [00:48<11:19,  1.84s/slide]"
     ]
    },
    {
     "name": "stdout",
     "output_type": "stream",
     "text": [
      "  ⏭️ Skipped: All 5430 patches already processed for TCGA-AA-3715_MSIH\n"
     ]
    },
    {
     "name": "stderr",
     "output_type": "stream",
     "text": [
      "🧩 Processing slides:  12%|█▏        | 48/417 [00:49<10:07,  1.65s/slide]"
     ]
    },
    {
     "name": "stdout",
     "output_type": "stream",
     "text": [
      "  ⏭️ Skipped: All 3179 patches already processed for TCGA-AA-3811_MSIH\n"
     ]
    },
    {
     "name": "stderr",
     "output_type": "stream",
     "text": [
      "🧩 Processing slides:  12%|█▏        | 49/417 [00:51<10:46,  1.76s/slide]"
     ]
    },
    {
     "name": "stdout",
     "output_type": "stream",
     "text": [
      "  ⏭️ Skipped: All 3469 patches already processed for TCGA-AA-3812_nonMSIH\n"
     ]
    },
    {
     "name": "stderr",
     "output_type": "stream",
     "text": [
      "🧩 Processing slides:  12%|█▏        | 50/417 [00:52<08:21,  1.37s/slide]"
     ]
    },
    {
     "name": "stdout",
     "output_type": "stream",
     "text": [
      "  ⏭️ Skipped: All 1230 patches already processed for TCGA-AA-3814_nonMSIH\n"
     ]
    },
    {
     "name": "stderr",
     "output_type": "stream",
     "text": [
      "🧩 Processing slides:  12%|█▏        | 51/417 [00:53<08:03,  1.32s/slide]"
     ]
    },
    {
     "name": "stdout",
     "output_type": "stream",
     "text": [
      "  ⏭️ Skipped: All 3040 patches already processed for TCGA-AA-3818_nonMSIH\n"
     ]
    },
    {
     "name": "stderr",
     "output_type": "stream",
     "text": [
      "🧩 Processing slides:  12%|█▏        | 52/417 [00:54<07:22,  1.21s/slide]"
     ]
    },
    {
     "name": "stdout",
     "output_type": "stream",
     "text": [
      "  ⏭️ Skipped: All 2527 patches already processed for TCGA-AA-3819_nonMSIH\n"
     ]
    },
    {
     "name": "stderr",
     "output_type": "stream",
     "text": [
      "🧩 Processing slides:  13%|█▎        | 53/417 [00:55<06:27,  1.07s/slide]"
     ]
    },
    {
     "name": "stdout",
     "output_type": "stream",
     "text": [
      "  ⏭️ Skipped: All 2547 patches already processed for TCGA-AA-3821_MSIH\n"
     ]
    },
    {
     "name": "stderr",
     "output_type": "stream",
     "text": [
      "🧩 Processing slides:  13%|█▎        | 54/417 [00:56<06:28,  1.07s/slide]"
     ]
    },
    {
     "name": "stdout",
     "output_type": "stream",
     "text": [
      "  ⏭️ Skipped: All 2931 patches already processed for TCGA-AA-3831_nonMSIH\n"
     ]
    },
    {
     "name": "stderr",
     "output_type": "stream",
     "text": [
      "🧩 Processing slides:  13%|█▎        | 55/417 [00:57<06:32,  1.08s/slide]"
     ]
    },
    {
     "name": "stdout",
     "output_type": "stream",
     "text": [
      "  ⏭️ Skipped: All 5185 patches already processed for TCGA-AA-3833_MSIH\n"
     ]
    },
    {
     "name": "stderr",
     "output_type": "stream",
     "text": [
      "🧩 Processing slides:  13%|█▎        | 56/417 [00:57<05:23,  1.12slide/s]"
     ]
    },
    {
     "name": "stdout",
     "output_type": "stream",
     "text": [
      "  ⏭️ Skipped: All 3214 patches already processed for TCGA-AA-3837_nonMSIH\n"
     ]
    },
    {
     "name": "stderr",
     "output_type": "stream",
     "text": [
      "🧩 Processing slides:  14%|█▎        | 57/417 [00:58<05:26,  1.10slide/s]"
     ]
    },
    {
     "name": "stdout",
     "output_type": "stream",
     "text": [
      "  ⏭️ Skipped: All 2103 patches already processed for TCGA-AA-3842_nonMSIH\n"
     ]
    },
    {
     "name": "stderr",
     "output_type": "stream",
     "text": [
      "🧩 Processing slides:  14%|█▍        | 58/417 [01:00<06:14,  1.04s/slide]"
     ]
    },
    {
     "name": "stdout",
     "output_type": "stream",
     "text": [
      "  ⏭️ Skipped: All 2773 patches already processed for TCGA-AA-3844_nonMSIH\n"
     ]
    },
    {
     "name": "stderr",
     "output_type": "stream",
     "text": [
      "🧩 Processing slides:  14%|█▍        | 59/417 [01:01<06:17,  1.06s/slide]"
     ]
    },
    {
     "name": "stdout",
     "output_type": "stream",
     "text": [
      "  ⏭️ Skipped: All 2679 patches already processed for TCGA-AA-3845_MSIH\n"
     ]
    },
    {
     "name": "stderr",
     "output_type": "stream",
     "text": [
      "🧩 Processing slides:  14%|█▍        | 60/417 [01:01<05:41,  1.05slide/s]"
     ]
    },
    {
     "name": "stdout",
     "output_type": "stream",
     "text": [
      "  ⏭️ Skipped: All 1278 patches already processed for TCGA-AA-3846_nonMSIH\n"
     ]
    },
    {
     "name": "stderr",
     "output_type": "stream",
     "text": [
      "🧩 Processing slides:  15%|█▍        | 61/417 [01:04<09:14,  1.56s/slide]"
     ]
    },
    {
     "name": "stdout",
     "output_type": "stream",
     "text": [
      "  ⏭️ Skipped: All 4736 patches already processed for TCGA-AA-3848_nonMSIH\n"
     ]
    },
    {
     "name": "stderr",
     "output_type": "stream",
     "text": [
      "🧩 Processing slides:  15%|█▍        | 62/417 [01:06<09:00,  1.52s/slide]"
     ]
    },
    {
     "name": "stdout",
     "output_type": "stream",
     "text": [
      "  ⏭️ Skipped: All 2484 patches already processed for TCGA-AA-3850_nonMSIH\n"
     ]
    },
    {
     "name": "stderr",
     "output_type": "stream",
     "text": [
      "🧩 Processing slides:  15%|█▌        | 63/417 [01:07<08:54,  1.51s/slide]"
     ]
    },
    {
     "name": "stdout",
     "output_type": "stream",
     "text": [
      "  ⏭️ Skipped: All 2500 patches already processed for TCGA-AA-3851_nonMSIH\n"
     ]
    },
    {
     "name": "stderr",
     "output_type": "stream",
     "text": [
      "🧩 Processing slides:  15%|█▌        | 64/417 [01:09<08:48,  1.50s/slide]"
     ]
    },
    {
     "name": "stdout",
     "output_type": "stream",
     "text": [
      "  ⏭️ Skipped: All 2054 patches already processed for TCGA-AA-3852_nonMSIH\n"
     ]
    },
    {
     "name": "stderr",
     "output_type": "stream",
     "text": [
      "🧩 Processing slides:  16%|█▌        | 65/417 [01:09<06:44,  1.15s/slide]"
     ]
    },
    {
     "name": "stdout",
     "output_type": "stream",
     "text": [
      "  ⏭️ Skipped: All 1036 patches already processed for TCGA-AA-3854_nonMSIH\n"
     ]
    },
    {
     "name": "stderr",
     "output_type": "stream",
     "text": [
      "🧩 Processing slides:  16%|█▌        | 66/417 [01:11<08:22,  1.43s/slide]"
     ]
    },
    {
     "name": "stdout",
     "output_type": "stream",
     "text": [
      "  ⏭️ Skipped: All 3536 patches already processed for TCGA-AA-3855_nonMSIH\n"
     ]
    },
    {
     "name": "stderr",
     "output_type": "stream",
     "text": [
      "🧩 Processing slides:  16%|█▌        | 67/417 [01:15<12:31,  2.15s/slide]"
     ]
    },
    {
     "name": "stdout",
     "output_type": "stream",
     "text": [
      "  ⏭️ Skipped: All 6984 patches already processed for TCGA-AA-3856_nonMSIH\n"
     ]
    },
    {
     "name": "stderr",
     "output_type": "stream",
     "text": [
      "🧩 Processing slides:  16%|█▋        | 68/417 [01:15<09:10,  1.58s/slide]"
     ]
    },
    {
     "name": "stdout",
     "output_type": "stream",
     "text": [
      "  ⏭️ Skipped: All 755 patches already processed for TCGA-AA-3858_nonMSIH\n"
     ]
    },
    {
     "name": "stderr",
     "output_type": "stream",
     "text": [
      "🧩 Processing slides:  17%|█▋        | 69/417 [01:17<08:54,  1.54s/slide]"
     ]
    },
    {
     "name": "stdout",
     "output_type": "stream",
     "text": [
      "  ⏭️ Skipped: All 2829 patches already processed for TCGA-AA-3864_MSIH\n"
     ]
    },
    {
     "name": "stderr",
     "output_type": "stream",
     "text": [
      "🧩 Processing slides:  17%|█▋        | 70/417 [01:21<13:15,  2.29s/slide]"
     ]
    },
    {
     "name": "stdout",
     "output_type": "stream",
     "text": [
      "  ⏭️ Skipped: All 2526 patches already processed for TCGA-AA-3866_nonMSIH\n"
     ]
    },
    {
     "name": "stderr",
     "output_type": "stream",
     "text": [
      "🧩 Processing slides:  17%|█▋        | 71/417 [01:22<10:51,  1.88s/slide]"
     ]
    },
    {
     "name": "stdout",
     "output_type": "stream",
     "text": [
      "  ⏭️ Skipped: All 2358 patches already processed for TCGA-AA-3867_nonMSIH\n"
     ]
    },
    {
     "name": "stderr",
     "output_type": "stream",
     "text": [
      "🧩 Processing slides:  17%|█▋        | 72/417 [01:23<09:57,  1.73s/slide]"
     ]
    },
    {
     "name": "stdout",
     "output_type": "stream",
     "text": [
      "  ⏭️ Skipped: All 2653 patches already processed for TCGA-AA-3875_nonMSIH\n"
     ]
    },
    {
     "name": "stderr",
     "output_type": "stream",
     "text": [
      "🧩 Processing slides:  18%|█▊        | 73/417 [01:24<09:19,  1.63s/slide]"
     ]
    },
    {
     "name": "stdout",
     "output_type": "stream",
     "text": [
      "  ⏭️ Skipped: All 3045 patches already processed for TCGA-AA-3877_MSIH\n"
     ]
    },
    {
     "name": "stderr",
     "output_type": "stream",
     "text": [
      "🧩 Processing slides:  18%|█▊        | 74/417 [01:28<12:47,  2.24s/slide]"
     ]
    },
    {
     "name": "stdout",
     "output_type": "stream",
     "text": [
      "  ⏭️ Skipped: All 8357 patches already processed for TCGA-AA-3947_MSIH\n"
     ]
    },
    {
     "name": "stderr",
     "output_type": "stream",
     "text": [
      "🧩 Processing slides:  18%|█▊        | 75/417 [01:29<10:39,  1.87s/slide]"
     ]
    },
    {
     "name": "stdout",
     "output_type": "stream",
     "text": [
      "  ⏭️ Skipped: All 2720 patches already processed for TCGA-AA-3949_MSIH\n"
     ]
    },
    {
     "name": "stderr",
     "output_type": "stream",
     "text": [
      "🧩 Processing slides:  18%|█▊        | 76/417 [01:30<09:42,  1.71s/slide]"
     ]
    },
    {
     "name": "stdout",
     "output_type": "stream",
     "text": [
      "  ⏭️ Skipped: All 2745 patches already processed for TCGA-AA-3950_MSIH\n"
     ]
    },
    {
     "name": "stderr",
     "output_type": "stream",
     "text": [
      "🧩 Processing slides:  18%|█▊        | 77/417 [01:31<07:51,  1.39s/slide]"
     ]
    },
    {
     "name": "stdout",
     "output_type": "stream",
     "text": [
      "  ⏭️ Skipped: All 1421 patches already processed for TCGA-AA-3952_nonMSIH\n"
     ]
    },
    {
     "name": "stderr",
     "output_type": "stream",
     "text": [
      "🧩 Processing slides:  19%|█▊        | 78/417 [01:32<07:53,  1.40s/slide]"
     ]
    },
    {
     "name": "stdout",
     "output_type": "stream",
     "text": [
      "  ⏭️ Skipped: All 3439 patches already processed for TCGA-AA-3956_nonMSIH\n"
     ]
    },
    {
     "name": "stderr",
     "output_type": "stream",
     "text": [
      "🧩 Processing slides:  19%|█▉        | 79/417 [01:35<10:32,  1.87s/slide]"
     ]
    },
    {
     "name": "stdout",
     "output_type": "stream",
     "text": [
      "  ⏭️ Skipped: All 4784 patches already processed for TCGA-AA-3966_MSIH\n"
     ]
    },
    {
     "name": "stderr",
     "output_type": "stream",
     "text": [
      "🧩 Processing slides:  19%|█▉        | 80/417 [01:37<10:22,  1.85s/slide]"
     ]
    },
    {
     "name": "stdout",
     "output_type": "stream",
     "text": [
      "  ⏭️ Skipped: All 2597 patches already processed for TCGA-AA-3968_nonMSIH\n"
     ]
    },
    {
     "name": "stderr",
     "output_type": "stream",
     "text": [
      "🧩 Processing slides:  19%|█▉        | 81/417 [01:41<12:56,  2.31s/slide]"
     ]
    },
    {
     "name": "stdout",
     "output_type": "stream",
     "text": [
      "  ⏭️ Skipped: All 5800 patches already processed for TCGA-AA-3971_nonMSIH\n"
     ]
    },
    {
     "name": "stderr",
     "output_type": "stream",
     "text": [
      "🧩 Processing slides:  20%|█▉        | 82/417 [01:43<12:27,  2.23s/slide]"
     ]
    },
    {
     "name": "stdout",
     "output_type": "stream",
     "text": [
      "  ⏭️ Skipped: All 3720 patches already processed for TCGA-AA-3973_nonMSIH\n"
     ]
    },
    {
     "name": "stderr",
     "output_type": "stream",
     "text": [
      "🧩 Processing slides:  20%|█▉        | 83/417 [01:43<10:00,  1.80s/slide]"
     ]
    },
    {
     "name": "stdout",
     "output_type": "stream",
     "text": [
      "  ⏭️ Skipped: All 4686 patches already processed for TCGA-AA-3975_nonMSIH\n"
     ]
    },
    {
     "name": "stderr",
     "output_type": "stream",
     "text": [
      "🧩 Processing slides:  20%|██        | 84/417 [01:44<08:23,  1.51s/slide]"
     ]
    },
    {
     "name": "stdout",
     "output_type": "stream",
     "text": [
      "  ⏭️ Skipped: All 1878 patches already processed for TCGA-AA-3976_nonMSIH\n"
     ]
    },
    {
     "name": "stderr",
     "output_type": "stream",
     "text": [
      "🧩 Processing slides:  20%|██        | 85/417 [01:45<07:40,  1.39s/slide]"
     ]
    },
    {
     "name": "stdout",
     "output_type": "stream",
     "text": [
      "  ⏭️ Skipped: All 3148 patches already processed for TCGA-AA-3979_nonMSIH\n"
     ]
    },
    {
     "name": "stderr",
     "output_type": "stream",
     "text": [
      "🧩 Processing slides:  21%|██        | 86/417 [01:47<08:40,  1.57s/slide]"
     ]
    },
    {
     "name": "stdout",
     "output_type": "stream",
     "text": [
      "  ⏭️ Skipped: All 3833 patches already processed for TCGA-AA-3982_nonMSIH\n"
     ]
    },
    {
     "name": "stderr",
     "output_type": "stream",
     "text": [
      "🧩 Processing slides:  21%|██        | 87/417 [01:49<09:24,  1.71s/slide]"
     ]
    },
    {
     "name": "stdout",
     "output_type": "stream",
     "text": [
      "  ⏭️ Skipped: All 3813 patches already processed for TCGA-AA-3984_nonMSIH\n"
     ]
    },
    {
     "name": "stderr",
     "output_type": "stream",
     "text": [
      "🧩 Processing slides:  21%|██        | 88/417 [01:54<13:47,  2.52s/slide]"
     ]
    },
    {
     "name": "stdout",
     "output_type": "stream",
     "text": [
      "  ⏭️ Skipped: All 7708 patches already processed for TCGA-AA-3986_nonMSIH\n"
     ]
    },
    {
     "name": "stderr",
     "output_type": "stream",
     "text": [
      "🧩 Processing slides:  21%|██▏       | 89/417 [01:55<11:17,  2.06s/slide]"
     ]
    },
    {
     "name": "stdout",
     "output_type": "stream",
     "text": [
      "  ⏭️ Skipped: All 2661 patches already processed for TCGA-AA-3989_nonMSIH\n"
     ]
    },
    {
     "name": "stderr",
     "output_type": "stream",
     "text": [
      "🧩 Processing slides:  22%|██▏       | 90/417 [01:56<09:32,  1.75s/slide]"
     ]
    },
    {
     "name": "stdout",
     "output_type": "stream",
     "text": [
      "  ⏭️ Skipped: All 1773 patches already processed for TCGA-AA-3994_nonMSIH\n"
     ]
    },
    {
     "name": "stderr",
     "output_type": "stream",
     "text": [
      "🧩 Processing slides:  22%|██▏       | 91/417 [02:00<13:11,  2.43s/slide]"
     ]
    },
    {
     "name": "stdout",
     "output_type": "stream",
     "text": [
      "  ⏭️ Skipped: All 7149 patches already processed for TCGA-AA-A010_nonMSIH\n"
     ]
    },
    {
     "name": "stderr",
     "output_type": "stream",
     "text": [
      "🧩 Processing slides:  22%|██▏       | 92/417 [02:03<14:25,  2.66s/slide]"
     ]
    },
    {
     "name": "stdout",
     "output_type": "stream",
     "text": [
      "  ⏭️ Skipped: All 8176 patches already processed for TCGA-AA-A01P_MSIH\n"
     ]
    },
    {
     "name": "stderr",
     "output_type": "stream",
     "text": [
      "🧩 Processing slides:  22%|██▏       | 93/417 [02:06<14:06,  2.61s/slide]"
     ]
    },
    {
     "name": "stdout",
     "output_type": "stream",
     "text": [
      "  ⏭️ Skipped: All 8904 patches already processed for TCGA-AA-A01R_MSIH\n"
     ]
    },
    {
     "name": "stderr",
     "output_type": "stream",
     "text": [
      "🧩 Processing slides:  23%|██▎       | 94/417 [02:07<12:36,  2.34s/slide]"
     ]
    },
    {
     "name": "stdout",
     "output_type": "stream",
     "text": [
      "  ⏭️ Skipped: All 6357 patches already processed for TCGA-AA-A01S_nonMSIH\n"
     ]
    },
    {
     "name": "stderr",
     "output_type": "stream",
     "text": [
      "🧩 Processing slides:  23%|██▎       | 95/417 [02:08<10:32,  1.96s/slide]"
     ]
    },
    {
     "name": "stdout",
     "output_type": "stream",
     "text": [
      "  ⏭️ Skipped: All 3198 patches already processed for TCGA-AA-A01T_nonMSIH\n"
     ]
    },
    {
     "name": "stderr",
     "output_type": "stream",
     "text": [
      "🧩 Processing slides:  23%|██▎       | 96/417 [02:12<12:33,  2.35s/slide]"
     ]
    },
    {
     "name": "stdout",
     "output_type": "stream",
     "text": [
      "  ⏭️ Skipped: All 10531 patches already processed for TCGA-AA-A01V_nonMSIH\n"
     ]
    },
    {
     "name": "stderr",
     "output_type": "stream",
     "text": [
      "🧩 Processing slides:  23%|██▎       | 97/417 [02:13<10:37,  1.99s/slide]"
     ]
    },
    {
     "name": "stdout",
     "output_type": "stream",
     "text": [
      "  ⏭️ Skipped: All 6090 patches already processed for TCGA-AA-A01X_nonMSIH\n"
     ]
    },
    {
     "name": "stderr",
     "output_type": "stream",
     "text": [
      "🧩 Processing slides:  24%|██▎       | 98/417 [02:14<10:04,  1.89s/slide]"
     ]
    },
    {
     "name": "stdout",
     "output_type": "stream",
     "text": [
      "  ⏭️ Skipped: All 5584 patches already processed for TCGA-AA-A01Z_nonMSIH\n"
     ]
    },
    {
     "name": "stderr",
     "output_type": "stream",
     "text": [
      "🧩 Processing slides:  24%|██▎       | 99/417 [02:16<10:10,  1.92s/slide]"
     ]
    },
    {
     "name": "stdout",
     "output_type": "stream",
     "text": [
      "  ⏭️ Skipped: All 5716 patches already processed for TCGA-AA-A024_nonMSIH\n"
     ]
    },
    {
     "name": "stderr",
     "output_type": "stream",
     "text": [
      "🧩 Processing slides:  24%|██▍       | 100/417 [02:18<09:25,  1.78s/slide]"
     ]
    },
    {
     "name": "stdout",
     "output_type": "stream",
     "text": [
      "  ⏭️ Skipped: All 3789 patches already processed for TCGA-AA-A02E_nonMSIH\n"
     ]
    },
    {
     "name": "stderr",
     "output_type": "stream",
     "text": [
      "🧩 Processing slides:  24%|██▍       | 101/417 [02:21<11:14,  2.14s/slide]"
     ]
    },
    {
     "name": "stdout",
     "output_type": "stream",
     "text": [
      "  ⏭️ Skipped: All 8534 patches already processed for TCGA-AA-A02F_nonMSIH\n"
     ]
    },
    {
     "name": "stderr",
     "output_type": "stream",
     "text": [
      "🧩 Processing slides:  24%|██▍       | 102/417 [02:24<13:07,  2.50s/slide]"
     ]
    },
    {
     "name": "stdout",
     "output_type": "stream",
     "text": [
      "  ⏭️ Skipped: All 4208 patches already processed for TCGA-AA-A02H_nonMSIH\n"
     ]
    },
    {
     "name": "stderr",
     "output_type": "stream",
     "text": [
      "🧩 Processing slides:  25%|██▍       | 103/417 [02:27<13:47,  2.64s/slide]"
     ]
    },
    {
     "name": "stdout",
     "output_type": "stream",
     "text": [
      "  ⏭️ Skipped: All 5532 patches already processed for TCGA-AA-A02O_nonMSIH\n"
     ]
    },
    {
     "name": "stderr",
     "output_type": "stream",
     "text": [
      "🧩 Processing slides:  25%|██▍       | 104/417 [02:29<12:23,  2.38s/slide]"
     ]
    },
    {
     "name": "stdout",
     "output_type": "stream",
     "text": [
      "  ⏭️ Skipped: All 3045 patches already processed for TCGA-AA-A02Y_nonMSIH\n"
     ]
    },
    {
     "name": "stderr",
     "output_type": "stream",
     "text": [
      "🧩 Processing slides:  25%|██▌       | 105/417 [02:31<11:29,  2.21s/slide]"
     ]
    },
    {
     "name": "stdout",
     "output_type": "stream",
     "text": [
      "  ⏭️ Skipped: All 3970 patches already processed for TCGA-AA-A03F_nonMSIH\n"
     ]
    },
    {
     "name": "stderr",
     "output_type": "stream",
     "text": [
      "🧩 Processing slides:  25%|██▌       | 106/417 [02:36<16:18,  3.15s/slide]"
     ]
    },
    {
     "name": "stdout",
     "output_type": "stream",
     "text": [
      "  ⏭️ Skipped: All 9459 patches already processed for TCGA-AA-A03J_nonMSIH\n"
     ]
    },
    {
     "name": "stderr",
     "output_type": "stream",
     "text": [
      "🧩 Processing slides:  26%|██▌       | 107/417 [02:36<11:55,  2.31s/slide]"
     ]
    },
    {
     "name": "stdout",
     "output_type": "stream",
     "text": [
      "  ⏭️ Skipped: All 575 patches already processed for TCGA-AD-5900_MSIH\n"
     ]
    },
    {
     "name": "stderr",
     "output_type": "stream",
     "text": [
      "🧩 Processing slides:  26%|██▌       | 108/417 [02:37<08:40,  1.68s/slide]"
     ]
    },
    {
     "name": "stdout",
     "output_type": "stream",
     "text": [
      "  ⏭️ Skipped: All 429 patches already processed for TCGA-AD-6548_nonMSIH\n"
     ]
    },
    {
     "name": "stderr",
     "output_type": "stream",
     "text": [
      "🧩 Processing slides:  26%|██▌       | 109/417 [02:37<06:57,  1.35s/slide]"
     ]
    },
    {
     "name": "stdout",
     "output_type": "stream",
     "text": [
      "  ⏭️ Skipped: All 896 patches already processed for TCGA-AD-6888_nonMSIH\n"
     ]
    },
    {
     "name": "stderr",
     "output_type": "stream",
     "text": [
      "🧩 Processing slides:  26%|██▋       | 110/417 [02:38<06:11,  1.21s/slide]"
     ]
    },
    {
     "name": "stdout",
     "output_type": "stream",
     "text": [
      "  ⏭️ Skipped: All 2116 patches already processed for TCGA-AD-6889_MSIH\n"
     ]
    },
    {
     "name": "stderr",
     "output_type": "stream",
     "text": [
      "🧩 Processing slides:  27%|██▋       | 111/417 [02:38<04:48,  1.06slide/s]"
     ]
    },
    {
     "name": "stdout",
     "output_type": "stream",
     "text": [
      "  ⏭️ Skipped: All 367 patches already processed for TCGA-AD-6890_nonMSIH\n"
     ]
    },
    {
     "name": "stderr",
     "output_type": "stream",
     "text": [
      "🧩 Processing slides:  27%|██▋       | 113/417 [02:39<02:52,  1.76slide/s]"
     ]
    },
    {
     "name": "stdout",
     "output_type": "stream",
     "text": [
      "  ⏭️ Skipped: All 558 patches already processed for TCGA-AD-6901_nonMSIH\n",
      "  ⏭️ Skipped: All 320 patches already processed for TCGA-AD-6963_nonMSIH\n"
     ]
    },
    {
     "name": "stderr",
     "output_type": "stream",
     "text": [
      "🧩 Processing slides:  28%|██▊       | 115/417 [02:39<01:48,  2.78slide/s]"
     ]
    },
    {
     "name": "stdout",
     "output_type": "stream",
     "text": [
      "  ⏭️ Skipped: All 1159 patches already processed for TCGA-AD-6964_MSIH\n",
      "  ⏭️ Skipped: All 444 patches already processed for TCGA-AD-6965_nonMSIH\n"
     ]
    },
    {
     "name": "stderr",
     "output_type": "stream",
     "text": [
      "🧩 Processing slides:  28%|██▊       | 116/417 [02:40<01:50,  2.72slide/s]"
     ]
    },
    {
     "name": "stdout",
     "output_type": "stream",
     "text": [
      "  ⏭️ Skipped: All 579 patches already processed for TCGA-AD-A5EJ_MSIH\n"
     ]
    },
    {
     "name": "stderr",
     "output_type": "stream",
     "text": [
      "🧩 Processing slides:  28%|██▊       | 117/417 [02:40<01:53,  2.65slide/s]"
     ]
    },
    {
     "name": "stdout",
     "output_type": "stream",
     "text": [
      "  ⏭️ Skipped: All 1069 patches already processed for TCGA-AD-A5EK_nonMSIH\n"
     ]
    },
    {
     "name": "stderr",
     "output_type": "stream",
     "text": [
      "🧩 Processing slides:  28%|██▊       | 118/417 [02:40<02:04,  2.41slide/s]"
     ]
    },
    {
     "name": "stdout",
     "output_type": "stream",
     "text": [
      "  ⏭️ Skipped: All 1369 patches already processed for TCGA-AF-2687_nonMSIH\n"
     ]
    },
    {
     "name": "stderr",
     "output_type": "stream",
     "text": [
      "🧩 Processing slides:  29%|██▊       | 119/417 [02:42<03:40,  1.35slide/s]"
     ]
    },
    {
     "name": "stdout",
     "output_type": "stream",
     "text": [
      "  ⏭️ Skipped: All 3786 patches already processed for TCGA-AF-2690_nonMSIH\n"
     ]
    },
    {
     "name": "stderr",
     "output_type": "stream",
     "text": [
      "🧩 Processing slides:  29%|██▉       | 120/417 [02:42<03:21,  1.48slide/s]"
     ]
    },
    {
     "name": "stdout",
     "output_type": "stream",
     "text": [
      "  ⏭️ Skipped: All 754 patches already processed for TCGA-AF-2693_nonMSIH\n"
     ]
    },
    {
     "name": "stderr",
     "output_type": "stream",
     "text": [
      "🧩 Processing slides:  29%|██▉       | 121/417 [02:43<03:05,  1.60slide/s]"
     ]
    },
    {
     "name": "stdout",
     "output_type": "stream",
     "text": [
      "  ⏭️ Skipped: All 1171 patches already processed for TCGA-AF-3911_nonMSIH\n"
     ]
    },
    {
     "name": "stderr",
     "output_type": "stream",
     "text": [
      "🧩 Processing slides:  29%|██▉       | 122/417 [02:44<02:58,  1.66slide/s]"
     ]
    },
    {
     "name": "stdout",
     "output_type": "stream",
     "text": [
      "  ⏭️ Skipped: All 1421 patches already processed for TCGA-AF-4110_nonMSIH\n"
     ]
    },
    {
     "name": "stderr",
     "output_type": "stream",
     "text": [
      "🧩 Processing slides:  29%|██▉       | 123/417 [02:44<02:30,  1.95slide/s]"
     ]
    },
    {
     "name": "stdout",
     "output_type": "stream",
     "text": [
      "  ⏭️ Skipped: All 1363 patches already processed for TCGA-AF-6136_nonMSIH\n"
     ]
    },
    {
     "name": "stderr",
     "output_type": "stream",
     "text": [
      "🧩 Processing slides:  30%|██▉       | 124/417 [02:44<02:20,  2.08slide/s]"
     ]
    },
    {
     "name": "stdout",
     "output_type": "stream",
     "text": [
      "  ⏭️ Skipped: All 761 patches already processed for TCGA-AF-6655_nonMSIH\n"
     ]
    },
    {
     "name": "stderr",
     "output_type": "stream",
     "text": [
      "🧩 Processing slides:  30%|██▉       | 125/417 [02:45<02:34,  1.90slide/s]"
     ]
    },
    {
     "name": "stdout",
     "output_type": "stream",
     "text": [
      "  ⏭️ Skipped: All 2574 patches already processed for TCGA-AF-6672_nonMSIH\n"
     ]
    },
    {
     "name": "stderr",
     "output_type": "stream",
     "text": [
      "🧩 Processing slides:  30%|███       | 126/417 [02:46<02:54,  1.67slide/s]"
     ]
    },
    {
     "name": "stdout",
     "output_type": "stream",
     "text": [
      "  ⏭️ Skipped: All 2962 patches already processed for TCGA-AF-A56K_nonMSIH\n"
     ]
    },
    {
     "name": "stderr",
     "output_type": "stream",
     "text": [
      "🧩 Processing slides:  30%|███       | 127/417 [02:47<03:32,  1.36slide/s]"
     ]
    },
    {
     "name": "stdout",
     "output_type": "stream",
     "text": [
      "  ⏭️ Skipped: All 3089 patches already processed for TCGA-AF-A56L_nonMSIH\n",
      "  ⏭️ Skipped: All 732 patches already processed for TCGA-AF-A56N_nonMSIH\n"
     ]
    },
    {
     "name": "stderr",
     "output_type": "stream",
     "text": [
      "🧩 Processing slides:  31%|███       | 129/417 [02:47<02:47,  1.72slide/s]"
     ]
    },
    {
     "name": "stdout",
     "output_type": "stream",
     "text": [
      "  ⏭️ Skipped: All 957 patches already processed for TCGA-AG-3726_nonMSIH\n"
     ]
    },
    {
     "name": "stderr",
     "output_type": "stream",
     "text": [
      "🧩 Processing slides:  31%|███       | 130/417 [02:48<02:21,  2.03slide/s]"
     ]
    },
    {
     "name": "stdout",
     "output_type": "stream",
     "text": [
      "  ⏭️ Skipped: All 1051 patches already processed for TCGA-AG-3727_nonMSIH\n"
     ]
    },
    {
     "name": "stderr",
     "output_type": "stream",
     "text": [
      "🧩 Processing slides:  31%|███▏      | 131/417 [02:48<02:17,  2.08slide/s]"
     ]
    },
    {
     "name": "stdout",
     "output_type": "stream",
     "text": [
      "  ⏭️ Skipped: All 1281 patches already processed for TCGA-AG-3878_nonMSIH\n"
     ]
    },
    {
     "name": "stderr",
     "output_type": "stream",
     "text": [
      "🧩 Processing slides:  32%|███▏      | 132/417 [02:49<02:05,  2.27slide/s]"
     ]
    },
    {
     "name": "stdout",
     "output_type": "stream",
     "text": [
      "  ⏭️ Skipped: All 1685 patches already processed for TCGA-AG-3882_nonMSIH\n"
     ]
    },
    {
     "name": "stderr",
     "output_type": "stream",
     "text": [
      "🧩 Processing slides:  32%|███▏      | 133/417 [02:49<02:38,  1.80slide/s]"
     ]
    },
    {
     "name": "stdout",
     "output_type": "stream",
     "text": [
      "  ⏭️ Skipped: All 3637 patches already processed for TCGA-AG-3883_nonMSIH\n"
     ]
    },
    {
     "name": "stderr",
     "output_type": "stream",
     "text": [
      "🧩 Processing slides:  32%|███▏      | 134/417 [02:50<02:25,  1.94slide/s]"
     ]
    },
    {
     "name": "stdout",
     "output_type": "stream",
     "text": [
      "  ⏭️ Skipped: All 1939 patches already processed for TCGA-AG-3885_nonMSIH\n"
     ]
    },
    {
     "name": "stderr",
     "output_type": "stream",
     "text": [
      "🧩 Processing slides:  32%|███▏      | 135/417 [02:50<02:19,  2.02slide/s]"
     ]
    },
    {
     "name": "stdout",
     "output_type": "stream",
     "text": [
      "  ⏭️ Skipped: All 1270 patches already processed for TCGA-AG-3887_nonMSIH\n"
     ]
    },
    {
     "name": "stderr",
     "output_type": "stream",
     "text": [
      "🧩 Processing slides:  33%|███▎      | 136/417 [02:52<04:03,  1.15slide/s]"
     ]
    },
    {
     "name": "stdout",
     "output_type": "stream",
     "text": [
      "  ⏭️ Skipped: All 3201 patches already processed for TCGA-AG-3890_nonMSIH\n"
     ]
    },
    {
     "name": "stderr",
     "output_type": "stream",
     "text": [
      "🧩 Processing slides:  33%|███▎      | 137/417 [02:54<05:32,  1.19s/slide]"
     ]
    },
    {
     "name": "stdout",
     "output_type": "stream",
     "text": [
      "  ⏭️ Skipped: All 2705 patches already processed for TCGA-AG-3892_nonMSIH\n"
     ]
    },
    {
     "name": "stderr",
     "output_type": "stream",
     "text": [
      "🧩 Processing slides:  33%|███▎      | 138/417 [02:55<04:57,  1.07s/slide]"
     ]
    },
    {
     "name": "stdout",
     "output_type": "stream",
     "text": [
      "  ⏭️ Skipped: All 1552 patches already processed for TCGA-AG-3893_nonMSIH\n"
     ]
    },
    {
     "name": "stderr",
     "output_type": "stream",
     "text": [
      "🧩 Processing slides:  33%|███▎      | 139/417 [02:56<04:44,  1.02s/slide]"
     ]
    },
    {
     "name": "stdout",
     "output_type": "stream",
     "text": [
      "  ⏭️ Skipped: All 2294 patches already processed for TCGA-AG-3894_nonMSIH\n"
     ]
    },
    {
     "name": "stderr",
     "output_type": "stream",
     "text": [
      "🧩 Processing slides:  34%|███▎      | 140/417 [02:57<05:26,  1.18s/slide]"
     ]
    },
    {
     "name": "stdout",
     "output_type": "stream",
     "text": [
      "  ⏭️ Skipped: All 3182 patches already processed for TCGA-AG-3896_nonMSIH\n"
     ]
    },
    {
     "name": "stderr",
     "output_type": "stream",
     "text": [
      "🧩 Processing slides:  34%|███▍      | 141/417 [02:59<06:05,  1.32s/slide]"
     ]
    },
    {
     "name": "stdout",
     "output_type": "stream",
     "text": [
      "  ⏭️ Skipped: All 3845 patches already processed for TCGA-AG-3898_nonMSIH\n"
     ]
    },
    {
     "name": "stderr",
     "output_type": "stream",
     "text": [
      "🧩 Processing slides:  34%|███▍      | 142/417 [03:00<05:42,  1.25s/slide]"
     ]
    },
    {
     "name": "stdout",
     "output_type": "stream",
     "text": [
      "  ⏭️ Skipped: All 1396 patches already processed for TCGA-AG-3901_nonMSIH\n"
     ]
    },
    {
     "name": "stderr",
     "output_type": "stream",
     "text": [
      "🧩 Processing slides:  34%|███▍      | 143/417 [03:03<07:33,  1.66s/slide]"
     ]
    },
    {
     "name": "stdout",
     "output_type": "stream",
     "text": [
      "  ⏭️ Skipped: All 4048 patches already processed for TCGA-AG-3902_nonMSIH\n"
     ]
    },
    {
     "name": "stderr",
     "output_type": "stream",
     "text": [
      "🧩 Processing slides:  35%|███▍      | 144/417 [03:04<06:56,  1.52s/slide]"
     ]
    },
    {
     "name": "stdout",
     "output_type": "stream",
     "text": [
      "  ⏭️ Skipped: All 2468 patches already processed for TCGA-AG-3909_nonMSIH\n"
     ]
    },
    {
     "name": "stderr",
     "output_type": "stream",
     "text": [
      "🧩 Processing slides:  35%|███▍      | 145/417 [03:06<08:26,  1.86s/slide]"
     ]
    },
    {
     "name": "stdout",
     "output_type": "stream",
     "text": [
      "  ⏭️ Skipped: All 3369 patches already processed for TCGA-AG-4001_nonMSIH\n"
     ]
    },
    {
     "name": "stderr",
     "output_type": "stream",
     "text": [
      "🧩 Processing slides:  35%|███▌      | 146/417 [03:09<09:58,  2.21s/slide]"
     ]
    },
    {
     "name": "stdout",
     "output_type": "stream",
     "text": [
      "  ⏭️ Skipped: All 3037 patches already processed for TCGA-AG-4008_nonMSIH\n"
     ]
    },
    {
     "name": "stderr",
     "output_type": "stream",
     "text": [
      "🧩 Processing slides:  35%|███▌      | 147/417 [03:12<10:26,  2.32s/slide]"
     ]
    },
    {
     "name": "stdout",
     "output_type": "stream",
     "text": [
      "  ⏭️ Skipped: All 2503 patches already processed for TCGA-AG-4015_nonMSIH\n"
     ]
    },
    {
     "name": "stderr",
     "output_type": "stream",
     "text": [
      "🧩 Processing slides:  35%|███▌      | 148/417 [03:15<10:43,  2.39s/slide]"
     ]
    },
    {
     "name": "stdout",
     "output_type": "stream",
     "text": [
      "  ⏭️ Skipped: All 4554 patches already processed for TCGA-AG-4021_nonMSIH\n"
     ]
    },
    {
     "name": "stderr",
     "output_type": "stream",
     "text": [
      "🧩 Processing slides:  36%|███▌      | 149/417 [03:17<10:44,  2.40s/slide]"
     ]
    },
    {
     "name": "stdout",
     "output_type": "stream",
     "text": [
      "  ⏭️ Skipped: All 3776 patches already processed for TCGA-AG-4022_nonMSIH\n"
     ]
    },
    {
     "name": "stderr",
     "output_type": "stream",
     "text": [
      "🧩 Processing slides:  36%|███▌      | 150/417 [03:20<10:59,  2.47s/slide]"
     ]
    },
    {
     "name": "stdout",
     "output_type": "stream",
     "text": [
      "  ⏭️ Skipped: All 4172 patches already processed for TCGA-AG-A002_nonMSIH\n"
     ]
    },
    {
     "name": "stderr",
     "output_type": "stream",
     "text": [
      "🧩 Processing slides:  36%|███▌      | 151/417 [03:24<12:52,  2.90s/slide]"
     ]
    },
    {
     "name": "stdout",
     "output_type": "stream",
     "text": [
      "  ⏭️ Skipped: All 4871 patches already processed for TCGA-AG-A008_nonMSIH\n"
     ]
    },
    {
     "name": "stderr",
     "output_type": "stream",
     "text": [
      "🧩 Processing slides:  36%|███▋      | 152/417 [03:26<12:17,  2.78s/slide]"
     ]
    },
    {
     "name": "stdout",
     "output_type": "stream",
     "text": [
      "  ⏭️ Skipped: All 3215 patches already processed for TCGA-AG-A00C_nonMSIH\n"
     ]
    },
    {
     "name": "stderr",
     "output_type": "stream",
     "text": [
      "🧩 Processing slides:  37%|███▋      | 153/417 [03:28<10:41,  2.43s/slide]"
     ]
    },
    {
     "name": "stdout",
     "output_type": "stream",
     "text": [
      "  ⏭️ Skipped: All 2627 patches already processed for TCGA-AG-A011_nonMSIH\n"
     ]
    },
    {
     "name": "stderr",
     "output_type": "stream",
     "text": [
      "🧩 Processing slides:  37%|███▋      | 154/417 [03:31<12:04,  2.75s/slide]"
     ]
    },
    {
     "name": "stdout",
     "output_type": "stream",
     "text": [
      "  ⏭️ Skipped: All 5589 patches already processed for TCGA-AG-A015_nonMSIH\n"
     ]
    },
    {
     "name": "stderr",
     "output_type": "stream",
     "text": [
      "🧩 Processing slides:  37%|███▋      | 155/417 [03:34<12:18,  2.82s/slide]"
     ]
    },
    {
     "name": "stdout",
     "output_type": "stream",
     "text": [
      "  ⏭️ Skipped: All 3382 patches already processed for TCGA-AG-A016_nonMSIH\n"
     ]
    },
    {
     "name": "stderr",
     "output_type": "stream",
     "text": [
      "🧩 Processing slides:  37%|███▋      | 156/417 [03:35<09:45,  2.24s/slide]"
     ]
    },
    {
     "name": "stdout",
     "output_type": "stream",
     "text": [
      "  ⏭️ Skipped: All 1317 patches already processed for TCGA-AG-A01L_nonMSIH\n"
     ]
    },
    {
     "name": "stderr",
     "output_type": "stream",
     "text": [
      "🧩 Processing slides:  38%|███▊      | 157/417 [03:37<09:22,  2.16s/slide]"
     ]
    },
    {
     "name": "stdout",
     "output_type": "stream",
     "text": [
      "  ⏭️ Skipped: All 2394 patches already processed for TCGA-AG-A01N_nonMSIH\n"
     ]
    },
    {
     "name": "stderr",
     "output_type": "stream",
     "text": [
      "🧩 Processing slides:  38%|███▊      | 158/417 [03:43<14:48,  3.43s/slide]"
     ]
    },
    {
     "name": "stdout",
     "output_type": "stream",
     "text": [
      "  ⏭️ Skipped: All 8906 patches already processed for TCGA-AG-A01W_nonMSIH\n"
     ]
    },
    {
     "name": "stderr",
     "output_type": "stream",
     "text": [
      "🧩 Processing slides:  38%|███▊      | 159/417 [03:47<15:27,  3.59s/slide]"
     ]
    },
    {
     "name": "stdout",
     "output_type": "stream",
     "text": [
      "  ⏭️ Skipped: All 5119 patches already processed for TCGA-AG-A01Y_nonMSIH\n"
     ]
    },
    {
     "name": "stderr",
     "output_type": "stream",
     "text": [
      "🧩 Processing slides:  38%|███▊      | 160/417 [03:50<13:37,  3.18s/slide]"
     ]
    },
    {
     "name": "stdout",
     "output_type": "stream",
     "text": [
      "  ⏭️ Skipped: All 3363 patches already processed for TCGA-AG-A020_nonMSIH\n"
     ]
    },
    {
     "name": "stderr",
     "output_type": "stream",
     "text": [
      "🧩 Processing slides:  39%|███▊      | 161/417 [03:52<12:12,  2.86s/slide]"
     ]
    },
    {
     "name": "stdout",
     "output_type": "stream",
     "text": [
      "  ⏭️ Skipped: All 3001 patches already processed for TCGA-AG-A026_nonMSIH\n"
     ]
    },
    {
     "name": "stderr",
     "output_type": "stream",
     "text": [
      "🧩 Processing slides:  39%|███▉      | 162/417 [03:54<11:55,  2.81s/slide]"
     ]
    },
    {
     "name": "stdout",
     "output_type": "stream",
     "text": [
      "  ⏭️ Skipped: All 4418 patches already processed for TCGA-AG-A02N_MSIH\n"
     ]
    },
    {
     "name": "stderr",
     "output_type": "stream",
     "text": [
      "🧩 Processing slides:  39%|███▉      | 163/417 [03:55<09:34,  2.26s/slide]"
     ]
    },
    {
     "name": "stdout",
     "output_type": "stream",
     "text": [
      "  ⏭️ Skipped: All 1831 patches already processed for TCGA-AG-A02X_nonMSIH\n"
     ]
    },
    {
     "name": "stderr",
     "output_type": "stream",
     "text": [
      "🧩 Processing slides:  39%|███▉      | 164/417 [03:57<08:18,  1.97s/slide]"
     ]
    },
    {
     "name": "stdout",
     "output_type": "stream",
     "text": [
      "  ⏭️ Skipped: All 1509 patches already processed for TCGA-AH-6544_nonMSIH\n"
     ]
    },
    {
     "name": "stderr",
     "output_type": "stream",
     "text": [
      "🧩 Processing slides:  40%|███▉      | 165/417 [03:57<06:07,  1.46s/slide]"
     ]
    },
    {
     "name": "stdout",
     "output_type": "stream",
     "text": [
      "  ⏭️ Skipped: All 241 patches already processed for TCGA-AH-6547_nonMSIH\n"
     ]
    },
    {
     "name": "stderr",
     "output_type": "stream",
     "text": [
      "🧩 Processing slides:  40%|███▉      | 166/417 [03:58<05:17,  1.27s/slide]"
     ]
    },
    {
     "name": "stdout",
     "output_type": "stream",
     "text": [
      "  ⏭️ Skipped: All 1122 patches already processed for TCGA-AH-6643_nonMSIH\n"
     ]
    },
    {
     "name": "stderr",
     "output_type": "stream",
     "text": [
      "🧩 Processing slides:  40%|████      | 167/417 [03:58<04:37,  1.11s/slide]"
     ]
    },
    {
     "name": "stdout",
     "output_type": "stream",
     "text": [
      "  ⏭️ Skipped: All 557 patches already processed for TCGA-AH-6644_nonMSIH\n"
     ]
    },
    {
     "name": "stderr",
     "output_type": "stream",
     "text": [
      "🧩 Processing slides:  40%|████      | 168/417 [03:59<04:16,  1.03s/slide]"
     ]
    },
    {
     "name": "stdout",
     "output_type": "stream",
     "text": [
      "  ⏭️ Skipped: All 818 patches already processed for TCGA-AH-6897_nonMSIH\n"
     ]
    },
    {
     "name": "stderr",
     "output_type": "stream",
     "text": [
      "🧩 Processing slides:  41%|████      | 169/417 [04:00<03:56,  1.05slide/s]"
     ]
    },
    {
     "name": "stdout",
     "output_type": "stream",
     "text": [
      "  ⏭️ Skipped: All 650 patches already processed for TCGA-AH-6903_nonMSIH\n"
     ]
    },
    {
     "name": "stderr",
     "output_type": "stream",
     "text": [
      "🧩 Processing slides:  41%|████      | 170/417 [04:01<03:59,  1.03slide/s]"
     ]
    },
    {
     "name": "stdout",
     "output_type": "stream",
     "text": [
      "  ⏭️ Skipped: All 1562 patches already processed for TCGA-AM-5820_nonMSIH\n"
     ]
    },
    {
     "name": "stderr",
     "output_type": "stream",
     "text": [
      "🧩 Processing slides:  41%|████      | 171/417 [04:03<04:39,  1.14s/slide]"
     ]
    },
    {
     "name": "stdout",
     "output_type": "stream",
     "text": [
      "  ⏭️ Skipped: All 2035 patches already processed for TCGA-AM-5821_MSIH\n"
     ]
    },
    {
     "name": "stderr",
     "output_type": "stream",
     "text": [
      "🧩 Processing slides:  41%|████      | 172/417 [04:03<03:57,  1.03slide/s]"
     ]
    },
    {
     "name": "stdout",
     "output_type": "stream",
     "text": [
      "  ⏭️ Skipped: All 543 patches already processed for TCGA-AU-3779_nonMSIH\n"
     ]
    },
    {
     "name": "stderr",
     "output_type": "stream",
     "text": [
      "🧩 Processing slides:  41%|████▏     | 173/417 [04:04<03:55,  1.04slide/s]"
     ]
    },
    {
     "name": "stdout",
     "output_type": "stream",
     "text": [
      "  ⏭️ Skipped: All 1168 patches already processed for TCGA-AU-6004_MSIH\n"
     ]
    },
    {
     "name": "stderr",
     "output_type": "stream",
     "text": [
      "🧩 Processing slides:  42%|████▏     | 174/417 [04:04<03:09,  1.28slide/s]"
     ]
    },
    {
     "name": "stdout",
     "output_type": "stream",
     "text": [
      "  ⏭️ Skipped: All 335 patches already processed for TCGA-AY-4070_nonMSIH\n"
     ]
    },
    {
     "name": "stderr",
     "output_type": "stream",
     "text": [
      "🧩 Processing slides:  42%|████▏     | 175/417 [04:05<02:45,  1.46slide/s]"
     ]
    },
    {
     "name": "stdout",
     "output_type": "stream",
     "text": [
      "  ⏭️ Skipped: All 426 patches already processed for TCGA-AY-4071_nonMSIH\n"
     ]
    },
    {
     "name": "stderr",
     "output_type": "stream",
     "text": [
      "🧩 Processing slides:  42%|████▏     | 176/417 [04:08<05:12,  1.30s/slide]"
     ]
    },
    {
     "name": "stdout",
     "output_type": "stream",
     "text": [
      "  ⏭️ Skipped: All 2816 patches already processed for TCGA-AY-5543_nonMSIH\n"
     ]
    },
    {
     "name": "stderr",
     "output_type": "stream",
     "text": [
      "🧩 Processing slides:  42%|████▏     | 177/417 [04:10<06:34,  1.64s/slide]"
     ]
    },
    {
     "name": "stdout",
     "output_type": "stream",
     "text": [
      "  ⏭️ Skipped: All 3831 patches already processed for TCGA-AY-6196_nonMSIH\n"
     ]
    },
    {
     "name": "stderr",
     "output_type": "stream",
     "text": [
      "🧩 Processing slides:  43%|████▎     | 178/417 [04:13<07:33,  1.90s/slide]"
     ]
    },
    {
     "name": "stdout",
     "output_type": "stream",
     "text": [
      "  ⏭️ Skipped: All 2829 patches already processed for TCGA-AY-6197_MSIH\n"
     ]
    },
    {
     "name": "stderr",
     "output_type": "stream",
     "text": [
      "🧩 Processing slides:  43%|████▎     | 179/417 [04:14<06:59,  1.76s/slide]"
     ]
    },
    {
     "name": "stdout",
     "output_type": "stream",
     "text": [
      "  ⏭️ Skipped: All 1862 patches already processed for TCGA-AY-6386_nonMSIH\n"
     ]
    },
    {
     "name": "stderr",
     "output_type": "stream",
     "text": [
      "🧩 Processing slides:  43%|████▎     | 180/417 [04:17<08:04,  2.04s/slide]"
     ]
    },
    {
     "name": "stdout",
     "output_type": "stream",
     "text": [
      "  ⏭️ Skipped: All 2604 patches already processed for TCGA-AY-A54L_nonMSIH\n"
     ]
    },
    {
     "name": "stderr",
     "output_type": "stream",
     "text": [
      "🧩 Processing slides:  43%|████▎     | 181/417 [04:18<07:25,  1.89s/slide]"
     ]
    },
    {
     "name": "stdout",
     "output_type": "stream",
     "text": [
      "  ⏭️ Skipped: All 1739 patches already processed for TCGA-AY-A69D_nonMSIH\n"
     ]
    },
    {
     "name": "stderr",
     "output_type": "stream",
     "text": [
      "🧩 Processing slides:  44%|████▎     | 182/417 [04:23<10:48,  2.76s/slide]"
     ]
    },
    {
     "name": "stdout",
     "output_type": "stream",
     "text": [
      "  ⏭️ Skipped: All 5452 patches already processed for TCGA-AY-A71X_nonMSIH\n"
     ]
    },
    {
     "name": "stderr",
     "output_type": "stream",
     "text": [
      "🧩 Processing slides:  44%|████▍     | 183/417 [04:25<09:23,  2.41s/slide]"
     ]
    },
    {
     "name": "stdout",
     "output_type": "stream",
     "text": [
      "  ⏭️ Skipped: All 1686 patches already processed for TCGA-AY-A8YK_nonMSIH\n"
     ]
    },
    {
     "name": "stderr",
     "output_type": "stream",
     "text": [
      "🧩 Processing slides:  44%|████▍     | 184/417 [04:27<09:17,  2.39s/slide]"
     ]
    },
    {
     "name": "stdout",
     "output_type": "stream",
     "text": [
      "  ⏭️ Skipped: All 2539 patches already processed for TCGA-AZ-4308_nonMSIH\n"
     ]
    },
    {
     "name": "stderr",
     "output_type": "stream",
     "text": [
      "🧩 Processing slides:  44%|████▍     | 185/417 [04:31<11:15,  2.91s/slide]"
     ]
    },
    {
     "name": "stdout",
     "output_type": "stream",
     "text": [
      "  ⏭️ Skipped: All 4747 patches already processed for TCGA-AZ-4315_nonMSIH\n"
     ]
    },
    {
     "name": "stderr",
     "output_type": "stream",
     "text": [
      "🧩 Processing slides:  45%|████▍     | 186/417 [04:34<11:05,  2.88s/slide]"
     ]
    },
    {
     "name": "stdout",
     "output_type": "stream",
     "text": [
      "  ⏭️ Skipped: All 4415 patches already processed for TCGA-AZ-4614_nonMSIH\n"
     ]
    },
    {
     "name": "stderr",
     "output_type": "stream",
     "text": [
      "🧩 Processing slides:  45%|████▍     | 187/417 [04:37<11:28,  2.99s/slide]"
     ]
    },
    {
     "name": "stdout",
     "output_type": "stream",
     "text": [
      "  ⏭️ Skipped: All 4138 patches already processed for TCGA-AZ-4615_MSIH\n"
     ]
    },
    {
     "name": "stderr",
     "output_type": "stream",
     "text": [
      "🧩 Processing slides:  45%|████▌     | 188/417 [04:40<11:00,  2.88s/slide]"
     ]
    },
    {
     "name": "stdout",
     "output_type": "stream",
     "text": [
      "  ⏭️ Skipped: All 3487 patches already processed for TCGA-AZ-4616_nonMSIH\n"
     ]
    },
    {
     "name": "stderr",
     "output_type": "stream",
     "text": [
      "🧩 Processing slides:  45%|████▌     | 189/417 [04:42<10:21,  2.73s/slide]"
     ]
    },
    {
     "name": "stdout",
     "output_type": "stream",
     "text": [
      "  ⏭️ Skipped: All 2861 patches already processed for TCGA-AZ-4681_nonMSIH\n"
     ]
    },
    {
     "name": "stderr",
     "output_type": "stream",
     "text": [
      "🧩 Processing slides:  46%|████▌     | 190/417 [04:45<10:25,  2.76s/slide]"
     ]
    },
    {
     "name": "stdout",
     "output_type": "stream",
     "text": [
      "  ⏭️ Skipped: All 3556 patches already processed for TCGA-AZ-4682_nonMSIH\n"
     ]
    },
    {
     "name": "stderr",
     "output_type": "stream",
     "text": [
      "🧩 Processing slides:  46%|████▌     | 191/417 [04:50<13:06,  3.48s/slide]"
     ]
    },
    {
     "name": "stdout",
     "output_type": "stream",
     "text": [
      "  ⏭️ Skipped: All 4983 patches already processed for TCGA-AZ-5403_nonMSIH\n"
     ]
    },
    {
     "name": "stderr",
     "output_type": "stream",
     "text": [
      "🧩 Processing slides:  46%|████▌     | 192/417 [04:52<11:20,  3.02s/slide]"
     ]
    },
    {
     "name": "stdout",
     "output_type": "stream",
     "text": [
      "  ⏭️ Skipped: All 1984 patches already processed for TCGA-AZ-5407_nonMSIH\n"
     ]
    },
    {
     "name": "stderr",
     "output_type": "stream",
     "text": [
      "🧩 Processing slides:  46%|████▋     | 193/417 [04:55<10:55,  2.93s/slide]"
     ]
    },
    {
     "name": "stdout",
     "output_type": "stream",
     "text": [
      "  ⏭️ Skipped: All 3328 patches already processed for TCGA-AZ-6598_MSIH\n"
     ]
    },
    {
     "name": "stderr",
     "output_type": "stream",
     "text": [
      "🧩 Processing slides:  47%|████▋     | 194/417 [04:57<10:10,  2.74s/slide]"
     ]
    },
    {
     "name": "stdout",
     "output_type": "stream",
     "text": [
      "  ⏭️ Skipped: All 2950 patches already processed for TCGA-AZ-6599_nonMSIH\n"
     ]
    },
    {
     "name": "stderr",
     "output_type": "stream",
     "text": [
      "🧩 Processing slides:  47%|████▋     | 195/417 [05:00<10:03,  2.72s/slide]"
     ]
    },
    {
     "name": "stdout",
     "output_type": "stream",
     "text": [
      "  ⏭️ Skipped: All 4608 patches already processed for TCGA-AZ-6600_nonMSIH\n"
     ]
    },
    {
     "name": "stderr",
     "output_type": "stream",
     "text": [
      "🧩 Processing slides:  47%|████▋     | 196/417 [05:02<09:21,  2.54s/slide]"
     ]
    },
    {
     "name": "stdout",
     "output_type": "stream",
     "text": [
      "  ⏭️ Skipped: All 3851 patches already processed for TCGA-AZ-6603_nonMSIH\n"
     ]
    },
    {
     "name": "stderr",
     "output_type": "stream",
     "text": [
      "🧩 Processing slides:  47%|████▋     | 197/417 [05:05<09:41,  2.64s/slide]"
     ]
    },
    {
     "name": "stdout",
     "output_type": "stream",
     "text": [
      "  ⏭️ Skipped: All 4099 patches already processed for TCGA-AZ-6605_nonMSIH\n"
     ]
    },
    {
     "name": "stderr",
     "output_type": "stream",
     "text": [
      "🧩 Processing slides:  47%|████▋     | 198/417 [05:07<09:30,  2.61s/slide]"
     ]
    },
    {
     "name": "stdout",
     "output_type": "stream",
     "text": [
      "  ⏭️ Skipped: All 3888 patches already processed for TCGA-AZ-6606_nonMSIH\n"
     ]
    },
    {
     "name": "stderr",
     "output_type": "stream",
     "text": [
      "🧩 Processing slides:  48%|████▊     | 199/417 [05:09<08:12,  2.26s/slide]"
     ]
    },
    {
     "name": "stdout",
     "output_type": "stream",
     "text": [
      "  ⏭️ Skipped: All 2309 patches already processed for TCGA-CA-5254_nonMSIH\n"
     ]
    },
    {
     "name": "stderr",
     "output_type": "stream",
     "text": [
      "🧩 Processing slides:  48%|████▊     | 200/417 [05:11<07:34,  2.09s/slide]"
     ]
    },
    {
     "name": "stdout",
     "output_type": "stream",
     "text": [
      "  ⏭️ Skipped: All 2699 patches already processed for TCGA-CA-5255_nonMSIH\n"
     ]
    },
    {
     "name": "stderr",
     "output_type": "stream",
     "text": [
      "🧩 Processing slides:  48%|████▊     | 201/417 [05:12<06:28,  1.80s/slide]"
     ]
    },
    {
     "name": "stdout",
     "output_type": "stream",
     "text": [
      "  ⏭️ Skipped: All 1428 patches already processed for TCGA-CA-5256_nonMSIH\n"
     ]
    },
    {
     "name": "stderr",
     "output_type": "stream",
     "text": [
      "🧩 Processing slides:  48%|████▊     | 202/417 [05:14<07:19,  2.04s/slide]"
     ]
    },
    {
     "name": "stdout",
     "output_type": "stream",
     "text": [
      "  ⏭️ Skipped: All 3590 patches already processed for TCGA-CA-5796_nonMSIH\n"
     ]
    },
    {
     "name": "stderr",
     "output_type": "stream",
     "text": [
      "🧩 Processing slides:  49%|████▊     | 203/417 [05:16<06:39,  1.87s/slide]"
     ]
    },
    {
     "name": "stdout",
     "output_type": "stream",
     "text": [
      "  ⏭️ Skipped: All 1916 patches already processed for TCGA-CA-5797_nonMSIH\n"
     ]
    },
    {
     "name": "stderr",
     "output_type": "stream",
     "text": [
      "🧩 Processing slides:  49%|████▉     | 204/417 [05:19<07:45,  2.19s/slide]"
     ]
    },
    {
     "name": "stdout",
     "output_type": "stream",
     "text": [
      "  ⏭️ Skipped: All 3891 patches already processed for TCGA-CA-6715_nonMSIH\n"
     ]
    },
    {
     "name": "stderr",
     "output_type": "stream",
     "text": [
      "🧩 Processing slides:  49%|████▉     | 205/417 [05:22<08:32,  2.42s/slide]"
     ]
    },
    {
     "name": "stdout",
     "output_type": "stream",
     "text": [
      "  ⏭️ Skipped: All 3345 patches already processed for TCGA-CA-6716_nonMSIH\n"
     ]
    },
    {
     "name": "stderr",
     "output_type": "stream",
     "text": [
      "🧩 Processing slides:  49%|████▉     | 206/417 [05:23<07:34,  2.15s/slide]"
     ]
    },
    {
     "name": "stdout",
     "output_type": "stream",
     "text": [
      "  ⏭️ Skipped: All 2260 patches already processed for TCGA-CA-6717_nonMSIH\n"
     ]
    },
    {
     "name": "stderr",
     "output_type": "stream",
     "text": [
      "🧩 Processing slides:  50%|████▉     | 207/417 [05:26<07:47,  2.23s/slide]"
     ]
    },
    {
     "name": "stdout",
     "output_type": "stream",
     "text": [
      "  ⏭️ Skipped: All 2936 patches already processed for TCGA-CA-6718_nonMSIH\n"
     ]
    },
    {
     "name": "stderr",
     "output_type": "stream",
     "text": [
      "🧩 Processing slides:  50%|████▉     | 208/417 [05:27<07:10,  2.06s/slide]"
     ]
    },
    {
     "name": "stdout",
     "output_type": "stream",
     "text": [
      "  ⏭️ Skipped: All 2381 patches already processed for TCGA-CA-6719_nonMSIH\n"
     ]
    },
    {
     "name": "stderr",
     "output_type": "stream",
     "text": [
      "🧩 Processing slides:  50%|█████     | 209/417 [05:28<05:38,  1.63s/slide]"
     ]
    },
    {
     "name": "stdout",
     "output_type": "stream",
     "text": [
      "  ⏭️ Skipped: All 498 patches already processed for TCGA-CI-6622_nonMSIH\n"
     ]
    },
    {
     "name": "stderr",
     "output_type": "stream",
     "text": [
      "🧩 Processing slides:  50%|█████     | 210/417 [05:29<04:56,  1.43s/slide]"
     ]
    },
    {
     "name": "stdout",
     "output_type": "stream",
     "text": [
      "  ⏭️ Skipped: All 990 patches already processed for TCGA-CI-6624_nonMSIH\n"
     ]
    },
    {
     "name": "stderr",
     "output_type": "stream",
     "text": [
      "🧩 Processing slides:  51%|█████     | 211/417 [05:32<06:55,  2.02s/slide]"
     ]
    },
    {
     "name": "stdout",
     "output_type": "stream",
     "text": [
      "  ⏭️ Skipped: All 5386 patches already processed for TCGA-CK-4947_nonMSIH\n"
     ]
    },
    {
     "name": "stderr",
     "output_type": "stream",
     "text": [
      "🧩 Processing slides:  51%|█████     | 212/417 [05:35<07:42,  2.25s/slide]"
     ]
    },
    {
     "name": "stdout",
     "output_type": "stream",
     "text": [
      "  ⏭️ Skipped: All 3351 patches already processed for TCGA-CK-4948_nonMSIH\n"
     ]
    },
    {
     "name": "stderr",
     "output_type": "stream",
     "text": [
      "🧩 Processing slides:  51%|█████     | 213/417 [05:39<09:13,  2.71s/slide]"
     ]
    },
    {
     "name": "stdout",
     "output_type": "stream",
     "text": [
      "  ⏭️ Skipped: All 4932 patches already processed for TCGA-CK-4950_nonMSIH\n"
     ]
    },
    {
     "name": "stderr",
     "output_type": "stream",
     "text": [
      "🧩 Processing slides:  51%|█████▏    | 214/417 [05:40<08:10,  2.42s/slide]"
     ]
    },
    {
     "name": "stdout",
     "output_type": "stream",
     "text": [
      "  ⏭️ Skipped: All 2514 patches already processed for TCGA-CK-4951_MSIH\n"
     ]
    },
    {
     "name": "stderr",
     "output_type": "stream",
     "text": [
      "🧩 Processing slides:  52%|█████▏    | 215/417 [05:43<07:58,  2.37s/slide]"
     ]
    },
    {
     "name": "stdout",
     "output_type": "stream",
     "text": [
      "  ⏭️ Skipped: All 2891 patches already processed for TCGA-CK-4952_nonMSIH\n"
     ]
    },
    {
     "name": "stderr",
     "output_type": "stream",
     "text": [
      "🧩 Processing slides:  52%|█████▏    | 216/417 [05:46<09:04,  2.71s/slide]"
     ]
    },
    {
     "name": "stdout",
     "output_type": "stream",
     "text": [
      "  ⏭️ Skipped: All 5430 patches already processed for TCGA-CK-5912_nonMSIH\n"
     ]
    },
    {
     "name": "stderr",
     "output_type": "stream",
     "text": [
      "🧩 Processing slides:  52%|█████▏    | 217/417 [05:49<09:10,  2.75s/slide]"
     ]
    },
    {
     "name": "stdout",
     "output_type": "stream",
     "text": [
      "  ⏭️ Skipped: All 5270 patches already processed for TCGA-CK-5913_MSIH\n"
     ]
    },
    {
     "name": "stderr",
     "output_type": "stream",
     "text": [
      "🧩 Processing slides:  52%|█████▏    | 218/417 [05:51<08:41,  2.62s/slide]"
     ]
    },
    {
     "name": "stdout",
     "output_type": "stream",
     "text": [
      "  ⏭️ Skipped: All 3783 patches already processed for TCGA-CK-5914_nonMSIH\n"
     ]
    },
    {
     "name": "stderr",
     "output_type": "stream",
     "text": [
      "🧩 Processing slides:  53%|█████▎    | 219/417 [05:55<09:34,  2.90s/slide]"
     ]
    },
    {
     "name": "stdout",
     "output_type": "stream",
     "text": [
      "  ⏭️ Skipped: All 6321 patches already processed for TCGA-CK-5915_nonMSIH\n"
     ]
    },
    {
     "name": "stderr",
     "output_type": "stream",
     "text": [
      "🧩 Processing slides:  53%|█████▎    | 220/417 [05:58<09:35,  2.92s/slide]"
     ]
    },
    {
     "name": "stdout",
     "output_type": "stream",
     "text": [
      "  ⏭️ Skipped: All 5885 patches already processed for TCGA-CK-5916_MSIH\n"
     ]
    },
    {
     "name": "stderr",
     "output_type": "stream",
     "text": [
      "🧩 Processing slides:  53%|█████▎    | 221/417 [06:00<08:55,  2.73s/slide]"
     ]
    },
    {
     "name": "stdout",
     "output_type": "stream",
     "text": [
      "  ⏭️ Skipped: All 4006 patches already processed for TCGA-CK-6746_MSIH\n"
     ]
    },
    {
     "name": "stderr",
     "output_type": "stream",
     "text": [
      "🧩 Processing slides:  53%|█████▎    | 222/417 [06:03<08:55,  2.75s/slide]"
     ]
    },
    {
     "name": "stdout",
     "output_type": "stream",
     "text": [
      "  ⏭️ Skipped: All 4789 patches already processed for TCGA-CK-6747_MSIH\n"
     ]
    },
    {
     "name": "stderr",
     "output_type": "stream",
     "text": [
      "🧩 Processing slides:  53%|█████▎    | 223/417 [06:06<09:05,  2.81s/slide]"
     ]
    },
    {
     "name": "stdout",
     "output_type": "stream",
     "text": [
      "  ⏭️ Skipped: All 4901 patches already processed for TCGA-CK-6748_nonMSIH\n"
     ]
    },
    {
     "name": "stderr",
     "output_type": "stream",
     "text": [
      "🧩 Processing slides:  54%|█████▎    | 224/417 [06:08<07:50,  2.44s/slide]"
     ]
    },
    {
     "name": "stdout",
     "output_type": "stream",
     "text": [
      "  ⏭️ Skipped: All 2629 patches already processed for TCGA-CK-6751_nonMSIH\n"
     ]
    },
    {
     "name": "stderr",
     "output_type": "stream",
     "text": [
      "🧩 Processing slides:  54%|█████▍    | 225/417 [06:10<07:49,  2.45s/slide]"
     ]
    },
    {
     "name": "stdout",
     "output_type": "stream",
     "text": [
      "  ⏭️ Skipped: All 3681 patches already processed for TCGA-CL-4957_nonMSIH\n"
     ]
    },
    {
     "name": "stderr",
     "output_type": "stream",
     "text": [
      "🧩 Processing slides:  54%|█████▍    | 226/417 [06:12<07:20,  2.31s/slide]"
     ]
    },
    {
     "name": "stdout",
     "output_type": "stream",
     "text": [
      "  ⏭️ Skipped: All 3438 patches already processed for TCGA-CL-5917_nonMSIH\n"
     ]
    },
    {
     "name": "stderr",
     "output_type": "stream",
     "text": [
      "🧩 Processing slides:  54%|█████▍    | 227/417 [06:14<07:18,  2.31s/slide]"
     ]
    },
    {
     "name": "stdout",
     "output_type": "stream",
     "text": [
      "  ⏭️ Skipped: All 3912 patches already processed for TCGA-CL-5918_nonMSIH\n"
     ]
    },
    {
     "name": "stderr",
     "output_type": "stream",
     "text": [
      "🧩 Processing slides:  55%|█████▍    | 228/417 [06:18<08:30,  2.70s/slide]"
     ]
    },
    {
     "name": "stdout",
     "output_type": "stream",
     "text": [
      "  ⏭️ Skipped: All 6158 patches already processed for TCGA-CM-4743_MSIH\n"
     ]
    },
    {
     "name": "stderr",
     "output_type": "stream",
     "text": [
      "🧩 Processing slides:  55%|█████▍    | 229/417 [06:22<09:31,  3.04s/slide]"
     ]
    },
    {
     "name": "stdout",
     "output_type": "stream",
     "text": [
      "  ⏭️ Skipped: All 6826 patches already processed for TCGA-CM-4744_nonMSIH\n"
     ]
    },
    {
     "name": "stderr",
     "output_type": "stream",
     "text": [
      "🧩 Processing slides:  55%|█████▌    | 230/417 [06:26<10:15,  3.29s/slide]"
     ]
    },
    {
     "name": "stdout",
     "output_type": "stream",
     "text": [
      "  ⏭️ Skipped: All 6726 patches already processed for TCGA-CM-4746_MSIH\n"
     ]
    },
    {
     "name": "stderr",
     "output_type": "stream",
     "text": [
      "🧩 Processing slides:  55%|█████▌    | 231/417 [06:29<10:05,  3.25s/slide]"
     ]
    },
    {
     "name": "stdout",
     "output_type": "stream",
     "text": [
      "  ⏭️ Skipped: All 5154 patches already processed for TCGA-CM-4747_nonMSIH\n"
     ]
    },
    {
     "name": "stderr",
     "output_type": "stream",
     "text": [
      "🧩 Processing slides:  56%|█████▌    | 232/417 [06:32<10:14,  3.32s/slide]"
     ]
    },
    {
     "name": "stdout",
     "output_type": "stream",
     "text": [
      "  ⏭️ Skipped: All 5961 patches already processed for TCGA-CM-4750_nonMSIH\n"
     ]
    },
    {
     "name": "stderr",
     "output_type": "stream",
     "text": [
      "🧩 Processing slides:  56%|█████▌    | 233/417 [06:35<09:20,  3.05s/slide]"
     ]
    },
    {
     "name": "stdout",
     "output_type": "stream",
     "text": [
      "  ⏭️ Skipped: All 3518 patches already processed for TCGA-CM-4751_nonMSIH\n"
     ]
    },
    {
     "name": "stderr",
     "output_type": "stream",
     "text": [
      "🧩 Processing slides:  56%|█████▌    | 234/417 [06:37<08:22,  2.74s/slide]"
     ]
    },
    {
     "name": "stdout",
     "output_type": "stream",
     "text": [
      "  ⏭️ Skipped: All 3129 patches already processed for TCGA-CM-4752_nonMSIH\n"
     ]
    },
    {
     "name": "stderr",
     "output_type": "stream",
     "text": [
      "🧩 Processing slides:  56%|█████▋    | 235/417 [06:39<07:45,  2.56s/slide]"
     ]
    },
    {
     "name": "stdout",
     "output_type": "stream",
     "text": [
      "  ⏭️ Skipped: All 3227 patches already processed for TCGA-CM-5341_nonMSIH\n"
     ]
    },
    {
     "name": "stderr",
     "output_type": "stream",
     "text": [
      "🧩 Processing slides:  57%|█████▋    | 236/417 [06:42<08:33,  2.84s/slide]"
     ]
    },
    {
     "name": "stdout",
     "output_type": "stream",
     "text": [
      "  ⏭️ Skipped: All 5293 patches already processed for TCGA-CM-5344_nonMSIH\n"
     ]
    },
    {
     "name": "stderr",
     "output_type": "stream",
     "text": [
      "🧩 Processing slides:  57%|█████▋    | 237/417 [06:45<08:32,  2.85s/slide]"
     ]
    },
    {
     "name": "stdout",
     "output_type": "stream",
     "text": [
      "  ⏭️ Skipped: All 4744 patches already processed for TCGA-CM-5348_nonMSIH\n"
     ]
    },
    {
     "name": "stderr",
     "output_type": "stream",
     "text": [
      "🧩 Processing slides:  57%|█████▋    | 238/417 [06:49<09:16,  3.11s/slide]"
     ]
    },
    {
     "name": "stdout",
     "output_type": "stream",
     "text": [
      "  ⏭️ Skipped: All 5613 patches already processed for TCGA-CM-5349_nonMSIH\n"
     ]
    },
    {
     "name": "stderr",
     "output_type": "stream",
     "text": [
      "🧩 Processing slides:  57%|█████▋    | 239/417 [06:51<08:40,  2.92s/slide]"
     ]
    },
    {
     "name": "stdout",
     "output_type": "stream",
     "text": [
      "  ⏭️ Skipped: All 3995 patches already processed for TCGA-CM-5860_nonMSIH\n"
     ]
    },
    {
     "name": "stderr",
     "output_type": "stream",
     "text": [
      "🧩 Processing slides:  58%|█████▊    | 240/417 [06:54<08:11,  2.77s/slide]"
     ]
    },
    {
     "name": "stdout",
     "output_type": "stream",
     "text": [
      "  ⏭️ Skipped: All 3240 patches already processed for TCGA-CM-5861_MSIH\n"
     ]
    },
    {
     "name": "stderr",
     "output_type": "stream",
     "text": [
      "🧩 Processing slides:  58%|█████▊    | 241/417 [06:56<07:40,  2.61s/slide]"
     ]
    },
    {
     "name": "stdout",
     "output_type": "stream",
     "text": [
      "  ⏭️ Skipped: All 3927 patches already processed for TCGA-CM-5862_nonMSIH\n"
     ]
    },
    {
     "name": "stderr",
     "output_type": "stream",
     "text": [
      "🧩 Processing slides:  58%|█████▊    | 242/417 [06:58<07:19,  2.51s/slide]"
     ]
    },
    {
     "name": "stdout",
     "output_type": "stream",
     "text": [
      "  ⏭️ Skipped: All 3617 patches already processed for TCGA-CM-5863_nonMSIH\n"
     ]
    },
    {
     "name": "stderr",
     "output_type": "stream",
     "text": [
      "🧩 Processing slides:  58%|█████▊    | 243/417 [07:01<07:05,  2.45s/slide]"
     ]
    },
    {
     "name": "stdout",
     "output_type": "stream",
     "text": [
      "  ⏭️ Skipped: All 3977 patches already processed for TCGA-CM-5864_nonMSIH\n"
     ]
    },
    {
     "name": "stderr",
     "output_type": "stream",
     "text": [
      "🧩 Processing slides:  59%|█████▊    | 244/417 [07:04<07:38,  2.65s/slide]"
     ]
    },
    {
     "name": "stdout",
     "output_type": "stream",
     "text": [
      "  ⏭️ Skipped: All 4887 patches already processed for TCGA-CM-5868_nonMSIH\n"
     ]
    },
    {
     "name": "stderr",
     "output_type": "stream",
     "text": [
      "🧩 Processing slides:  59%|█████▉    | 245/417 [07:07<07:53,  2.75s/slide]"
     ]
    },
    {
     "name": "stdout",
     "output_type": "stream",
     "text": [
      "  ⏭️ Skipped: All 5000 patches already processed for TCGA-CM-6161_nonMSIH\n"
     ]
    },
    {
     "name": "stderr",
     "output_type": "stream",
     "text": [
      "🧩 Processing slides:  59%|█████▉    | 246/417 [07:09<07:43,  2.71s/slide]"
     ]
    },
    {
     "name": "stdout",
     "output_type": "stream",
     "text": [
      "  ⏭️ Skipped: All 3694 patches already processed for TCGA-CM-6162_MSIH\n"
     ]
    },
    {
     "name": "stderr",
     "output_type": "stream",
     "text": [
      "🧩 Processing slides:  59%|█████▉    | 247/417 [07:12<07:54,  2.79s/slide]"
     ]
    },
    {
     "name": "stdout",
     "output_type": "stream",
     "text": [
      "  ⏭️ Skipped: All 4493 patches already processed for TCGA-CM-6163_nonMSIH\n"
     ]
    },
    {
     "name": "stderr",
     "output_type": "stream",
     "text": [
      "🧩 Processing slides:  59%|█████▉    | 248/417 [07:15<07:22,  2.62s/slide]"
     ]
    },
    {
     "name": "stdout",
     "output_type": "stream",
     "text": [
      "  ⏭️ Skipped: All 3477 patches already processed for TCGA-CM-6164_nonMSIH\n"
     ]
    },
    {
     "name": "stderr",
     "output_type": "stream",
     "text": [
      "🧩 Processing slides:  60%|█████▉    | 249/417 [07:19<08:26,  3.01s/slide]"
     ]
    },
    {
     "name": "stdout",
     "output_type": "stream",
     "text": [
      "  ⏭️ Skipped: All 4872 patches already processed for TCGA-CM-6165_nonMSIH\n"
     ]
    },
    {
     "name": "stderr",
     "output_type": "stream",
     "text": [
      "🧩 Processing slides:  60%|█████▉    | 250/417 [07:21<08:00,  2.88s/slide]"
     ]
    },
    {
     "name": "stdout",
     "output_type": "stream",
     "text": [
      "  ⏭️ Skipped: All 3778 patches already processed for TCGA-CM-6166_nonMSIH\n"
     ]
    },
    {
     "name": "stderr",
     "output_type": "stream",
     "text": [
      "🧩 Processing slides:  60%|██████    | 251/417 [07:24<08:09,  2.95s/slide]"
     ]
    },
    {
     "name": "stdout",
     "output_type": "stream",
     "text": [
      "  ⏭️ Skipped: All 4465 patches already processed for TCGA-CM-6167_nonMSIH\n"
     ]
    },
    {
     "name": "stderr",
     "output_type": "stream",
     "text": [
      "🧩 Processing slides:  60%|██████    | 252/417 [07:27<08:24,  3.06s/slide]"
     ]
    },
    {
     "name": "stdout",
     "output_type": "stream",
     "text": [
      "  ⏭️ Skipped: All 5307 patches already processed for TCGA-CM-6168_nonMSIH\n"
     ]
    },
    {
     "name": "stderr",
     "output_type": "stream",
     "text": [
      "🧩 Processing slides:  61%|██████    | 253/417 [07:29<07:06,  2.60s/slide]"
     ]
    },
    {
     "name": "stdout",
     "output_type": "stream",
     "text": [
      "  ⏭️ Skipped: All 4320 patches already processed for TCGA-CM-6169_nonMSIH\n"
     ]
    },
    {
     "name": "stderr",
     "output_type": "stream",
     "text": [
      "🧩 Processing slides:  61%|██████    | 254/417 [07:30<05:38,  2.08s/slide]"
     ]
    },
    {
     "name": "stdout",
     "output_type": "stream",
     "text": [
      "  ⏭️ Skipped: All 1972 patches already processed for TCGA-CM-6170_nonMSIH\n"
     ]
    },
    {
     "name": "stderr",
     "output_type": "stream",
     "text": [
      "🧩 Processing slides:  61%|██████    | 255/417 [07:32<05:16,  1.95s/slide]"
     ]
    },
    {
     "name": "stdout",
     "output_type": "stream",
     "text": [
      "  ⏭️ Skipped: All 4882 patches already processed for TCGA-CM-6171_MSIH\n"
     ]
    },
    {
     "name": "stderr",
     "output_type": "stream",
     "text": [
      "🧩 Processing slides:  61%|██████▏   | 256/417 [07:33<04:32,  1.69s/slide]"
     ]
    },
    {
     "name": "stdout",
     "output_type": "stream",
     "text": [
      "  ⏭️ Skipped: All 3540 patches already processed for TCGA-CM-6172_nonMSIH\n"
     ]
    },
    {
     "name": "stderr",
     "output_type": "stream",
     "text": [
      "🧩 Processing slides:  62%|██████▏   | 257/417 [07:35<04:59,  1.87s/slide]"
     ]
    },
    {
     "name": "stdout",
     "output_type": "stream",
     "text": [
      "  ⏭️ Skipped: All 6370 patches already processed for TCGA-CM-6674_MSIH\n"
     ]
    },
    {
     "name": "stderr",
     "output_type": "stream",
     "text": [
      "🧩 Processing slides:  62%|██████▏   | 258/417 [07:37<05:10,  1.95s/slide]"
     ]
    },
    {
     "name": "stdout",
     "output_type": "stream",
     "text": [
      "  ⏭️ Skipped: All 6130 patches already processed for TCGA-CM-6675_nonMSIH\n"
     ]
    },
    {
     "name": "stderr",
     "output_type": "stream",
     "text": [
      "🧩 Processing slides:  62%|██████▏   | 259/417 [07:39<04:48,  1.83s/slide]"
     ]
    },
    {
     "name": "stdout",
     "output_type": "stream",
     "text": [
      "  ⏭️ Skipped: All 3001 patches already processed for TCGA-CM-6676_nonMSIH\n"
     ]
    },
    {
     "name": "stderr",
     "output_type": "stream",
     "text": [
      "🧩 Processing slides:  62%|██████▏   | 260/417 [07:40<04:31,  1.73s/slide]"
     ]
    },
    {
     "name": "stdout",
     "output_type": "stream",
     "text": [
      "  ⏭️ Skipped: All 5032 patches already processed for TCGA-CM-6677_nonMSIH\n"
     ]
    },
    {
     "name": "stderr",
     "output_type": "stream",
     "text": [
      "🧩 Processing slides:  63%|██████▎   | 261/417 [07:42<04:35,  1.77s/slide]"
     ]
    },
    {
     "name": "stdout",
     "output_type": "stream",
     "text": [
      "  ⏭️ Skipped: All 2203 patches already processed for TCGA-CM-6678_nonMSIH\n"
     ]
    },
    {
     "name": "stderr",
     "output_type": "stream",
     "text": [
      "🧩 Processing slides:  63%|██████▎   | 262/417 [07:45<05:20,  2.07s/slide]"
     ]
    },
    {
     "name": "stdout",
     "output_type": "stream",
     "text": [
      "  ⏭️ Skipped: All 5165 patches already processed for TCGA-CM-6679_nonMSIH\n"
     ]
    },
    {
     "name": "stderr",
     "output_type": "stream",
     "text": [
      "🧩 Processing slides:  63%|██████▎   | 263/417 [07:47<05:38,  2.20s/slide]"
     ]
    },
    {
     "name": "stdout",
     "output_type": "stream",
     "text": [
      "  ⏭️ Skipped: All 3768 patches already processed for TCGA-D5-5537_nonMSIH\n"
     ]
    },
    {
     "name": "stderr",
     "output_type": "stream",
     "text": [
      "🧩 Processing slides:  63%|██████▎   | 264/417 [07:50<06:00,  2.35s/slide]"
     ]
    },
    {
     "name": "stdout",
     "output_type": "stream",
     "text": [
      "  ⏭️ Skipped: All 4156 patches already processed for TCGA-D5-5538_nonMSIH\n"
     ]
    },
    {
     "name": "stderr",
     "output_type": "stream",
     "text": [
      "🧩 Processing slides:  64%|██████▎   | 265/417 [07:52<05:26,  2.15s/slide]"
     ]
    },
    {
     "name": "stdout",
     "output_type": "stream",
     "text": [
      "  ⏭️ Skipped: All 2166 patches already processed for TCGA-D5-5539_nonMSIH\n",
      "  ⏭️ Skipped: All 2090 patches already processed for TCGA-D5-5540_nonMSIH\n"
     ]
    },
    {
     "name": "stderr",
     "output_type": "stream",
     "text": [
      "🧩 Processing slides:  64%|██████▍   | 267/417 [07:53<03:32,  1.42s/slide]"
     ]
    },
    {
     "name": "stdout",
     "output_type": "stream",
     "text": [
      "  ⏭️ Skipped: All 3224 patches already processed for TCGA-D5-5541_nonMSIH\n"
     ]
    },
    {
     "name": "stderr",
     "output_type": "stream",
     "text": [
      "🧩 Processing slides:  64%|██████▍   | 268/417 [07:54<03:09,  1.27s/slide]"
     ]
    },
    {
     "name": "stdout",
     "output_type": "stream",
     "text": [
      "  ⏭️ Skipped: All 3153 patches already processed for TCGA-D5-6529_nonMSIH\n"
     ]
    },
    {
     "name": "stderr",
     "output_type": "stream",
     "text": [
      "🧩 Processing slides:  65%|██████▍   | 269/417 [07:55<03:05,  1.25s/slide]"
     ]
    },
    {
     "name": "stdout",
     "output_type": "stream",
     "text": [
      "  ⏭️ Skipped: All 5875 patches already processed for TCGA-D5-6530_MSIH\n"
     ]
    },
    {
     "name": "stderr",
     "output_type": "stream",
     "text": [
      "🧩 Processing slides:  65%|██████▍   | 270/417 [07:55<02:40,  1.09s/slide]"
     ]
    },
    {
     "name": "stdout",
     "output_type": "stream",
     "text": [
      "  ⏭️ Skipped: All 3478 patches already processed for TCGA-D5-6531_nonMSIH\n"
     ]
    },
    {
     "name": "stderr",
     "output_type": "stream",
     "text": [
      "🧩 Processing slides:  65%|██████▍   | 271/417 [07:57<02:58,  1.22s/slide]"
     ]
    },
    {
     "name": "stdout",
     "output_type": "stream",
     "text": [
      "  ⏭️ Skipped: All 4388 patches already processed for TCGA-D5-6532_nonMSIH\n"
     ]
    },
    {
     "name": "stderr",
     "output_type": "stream",
     "text": [
      "🧩 Processing slides:  66%|██████▌   | 274/417 [07:58<01:32,  1.54slide/s]"
     ]
    },
    {
     "name": "stdout",
     "output_type": "stream",
     "text": [
      "  ⏭️ Skipped: All 4591 patches already processed for TCGA-D5-6533_nonMSIH\n",
      "  ⏭️ Skipped: All 3535 patches already processed for TCGA-D5-6534_nonMSIH\n",
      "  ⏭️ Skipped: All 3486 patches already processed for TCGA-D5-6535_nonMSIH\n"
     ]
    },
    {
     "name": "stderr",
     "output_type": "stream",
     "text": [
      "🧩 Processing slides:  66%|██████▌   | 275/417 [12:56<2:52:23, 72.84s/slide]"
     ]
    },
    {
     "name": "stdout",
     "output_type": "stream",
     "text": [
      "  ✅ Done: Processed 3897 new patches (total: 3897) for TCGA-D5-6536_nonMSIH\n"
     ]
    },
    {
     "name": "stderr",
     "output_type": "stream",
     "text": [
      "🧩 Processing slides:  66%|██████▌   | 276/417 [17:34<4:55:19, 125.67s/slide]"
     ]
    },
    {
     "name": "stdout",
     "output_type": "stream",
     "text": [
      "  ✅ Done: Processed 3597 new patches (total: 3597) for TCGA-D5-6537_nonMSIH\n"
     ]
    },
    {
     "name": "stderr",
     "output_type": "stream",
     "text": [
      "🧩 Processing slides:  66%|██████▋   | 277/417 [21:52<6:16:42, 161.45s/slide]"
     ]
    },
    {
     "name": "stdout",
     "output_type": "stream",
     "text": [
      "  ✅ Done: Processed 3316 new patches (total: 3316) for TCGA-D5-6538_nonMSIH\n"
     ]
    },
    {
     "name": "stderr",
     "output_type": "stream",
     "text": [
      "🧩 Processing slides:  67%|██████▋   | 278/417 [24:33<6:13:49, 161.36s/slide]"
     ]
    },
    {
     "name": "stdout",
     "output_type": "stream",
     "text": [
      "  ✅ Done: Processed 2226 new patches (total: 2226) for TCGA-D5-6539_nonMSIH\n"
     ]
    },
    {
     "name": "stderr",
     "output_type": "stream",
     "text": [
      "🧩 Processing slides:  67%|██████▋   | 279/417 [27:56<6:37:43, 172.93s/slide]"
     ]
    },
    {
     "name": "stdout",
     "output_type": "stream",
     "text": [
      "  ✅ Done: Processed 2636 new patches (total: 2636) for TCGA-D5-6540_MSIH\n"
     ]
    },
    {
     "name": "stderr",
     "output_type": "stream",
     "text": [
      "🧩 Processing slides:  67%|██████▋   | 280/417 [32:51<7:55:52, 208.41s/slide]"
     ]
    },
    {
     "name": "stdout",
     "output_type": "stream",
     "text": [
      "  ✅ Done: Processed 3899 new patches (total: 3899) for TCGA-D5-6541_nonMSIH\n"
     ]
    },
    {
     "name": "stderr",
     "output_type": "stream",
     "text": [
      "🧩 Processing slides:  67%|██████▋   | 281/417 [34:18<6:31:34, 172.76s/slide]"
     ]
    },
    {
     "name": "stdout",
     "output_type": "stream",
     "text": [
      "  ✅ Done: Processed 1101 new patches (total: 1101) for TCGA-D5-6898_nonMSIH\n"
     ]
    },
    {
     "name": "stderr",
     "output_type": "stream",
     "text": [
      "🧩 Processing slides:  68%|██████▊   | 282/417 [35:08<5:07:41, 136.75s/slide]"
     ]
    },
    {
     "name": "stdout",
     "output_type": "stream",
     "text": [
      "  ✅ Done: Processed 666 new patches (total: 666) for TCGA-D5-6920_nonMSIH\n"
     ]
    },
    {
     "name": "stderr",
     "output_type": "stream",
     "text": [
      "🧩 Processing slides:  68%|██████▊   | 283/417 [36:30<4:29:18, 120.58s/slide]"
     ]
    },
    {
     "name": "stdout",
     "output_type": "stream",
     "text": [
      "  ✅ Done: Processed 1085 new patches (total: 1085) for TCGA-D5-6922_nonMSIH\n"
     ]
    },
    {
     "name": "stderr",
     "output_type": "stream",
     "text": [
      "🧩 Processing slides:  68%|██████▊   | 284/417 [38:12<4:14:54, 114.99s/slide]"
     ]
    },
    {
     "name": "stdout",
     "output_type": "stream",
     "text": [
      "  ✅ Done: Processed 1364 new patches (total: 1364) for TCGA-D5-6924_nonMSIH\n"
     ]
    },
    {
     "name": "stderr",
     "output_type": "stream",
     "text": [
      "🧩 Processing slides:  68%|██████▊   | 285/417 [39:50<4:01:59, 110.00s/slide]"
     ]
    },
    {
     "name": "stdout",
     "output_type": "stream",
     "text": [
      "  ✅ Done: Processed 1293 new patches (total: 1293) for TCGA-D5-6926_nonMSIH\n"
     ]
    },
    {
     "name": "stderr",
     "output_type": "stream",
     "text": [
      "🧩 Processing slides:  69%|██████▊   | 286/417 [41:29<3:52:34, 106.52s/slide]"
     ]
    },
    {
     "name": "stdout",
     "output_type": "stream",
     "text": [
      "  ✅ Done: Processed 1283 new patches (total: 1283) for TCGA-D5-6927_MSIH\n"
     ]
    },
    {
     "name": "stderr",
     "output_type": "stream",
     "text": [
      "🧩 Processing slides:  69%|██████▉   | 287/417 [42:28<3:20:18, 92.45s/slide] "
     ]
    },
    {
     "name": "stdout",
     "output_type": "stream",
     "text": [
      "  ✅ Done: Processed 749 new patches (total: 749) for TCGA-D5-6928_MSIH\n"
     ]
    },
    {
     "name": "stderr",
     "output_type": "stream",
     "text": [
      "🧩 Processing slides:  69%|██████▉   | 288/417 [50:45<7:39:12, 213.59s/slide]"
     ]
    },
    {
     "name": "stdout",
     "output_type": "stream",
     "text": [
      "  ✅ Done: Processed 5999 new patches (total: 5999) for TCGA-D5-6929_nonMSIH\n"
     ]
    },
    {
     "name": "stderr",
     "output_type": "stream",
     "text": [
      "🧩 Processing slides:  69%|██████▉   | 289/417 [51:53<6:02:19, 169.84s/slide]"
     ]
    },
    {
     "name": "stdout",
     "output_type": "stream",
     "text": [
      "  ✅ Done: Processed 838 new patches (total: 838) for TCGA-D5-6930_MSIH\n"
     ]
    },
    {
     "name": "stderr",
     "output_type": "stream",
     "text": [
      "🧩 Processing slides:  70%|██████▉   | 290/417 [53:58<5:31:12, 156.48s/slide]"
     ]
    },
    {
     "name": "stdout",
     "output_type": "stream",
     "text": [
      "  ✅ Done: Processed 1548 new patches (total: 1548) for TCGA-D5-6931_nonMSIH\n"
     ]
    },
    {
     "name": "stderr",
     "output_type": "stream",
     "text": [
      "🧩 Processing slides:  70%|██████▉   | 291/417 [55:29<4:47:19, 136.82s/slide]"
     ]
    },
    {
     "name": "stdout",
     "output_type": "stream",
     "text": [
      "  ✅ Done: Processed 1105 new patches (total: 1105) for TCGA-D5-6932_nonMSIH\n"
     ]
    },
    {
     "name": "stderr",
     "output_type": "stream",
     "text": [
      "🧩 Processing slides:  70%|███████   | 292/417 [56:44<4:06:45, 118.44s/slide]"
     ]
    },
    {
     "name": "stdout",
     "output_type": "stream",
     "text": [
      "  ✅ Done: Processed 901 new patches (total: 901) for TCGA-D5-7000_nonMSIH\n"
     ]
    },
    {
     "name": "stderr",
     "output_type": "stream",
     "text": [
      "🧩 Processing slides:  70%|███████   | 293/417 [1:00:43<5:19:26, 154.56s/slide]"
     ]
    },
    {
     "name": "stdout",
     "output_type": "stream",
     "text": [
      "  ✅ Done: Processed 2817 new patches (total: 2817) for TCGA-DC-4745_nonMSIH\n"
     ]
    },
    {
     "name": "stderr",
     "output_type": "stream",
     "text": [
      "🧩 Processing slides:  71%|███████   | 294/417 [1:05:42<6:45:22, 197.74s/slide]"
     ]
    },
    {
     "name": "stdout",
     "output_type": "stream",
     "text": [
      "  ✅ Done: Processed 3668 new patches (total: 3668) for TCGA-DC-4749_nonMSIH\n"
     ]
    },
    {
     "name": "stderr",
     "output_type": "stream",
     "text": [
      "🧩 Processing slides:  71%|███████   | 295/417 [1:08:11<6:12:27, 183.18s/slide]"
     ]
    },
    {
     "name": "stdout",
     "output_type": "stream",
     "text": [
      "  ✅ Done: Processed 1844 new patches (total: 1844) for TCGA-DC-5337_nonMSIH\n"
     ]
    },
    {
     "name": "stderr",
     "output_type": "stream",
     "text": [
      "🧩 Processing slides:  71%|███████   | 296/417 [1:16:24<9:17:04, 276.24s/slide]"
     ]
    },
    {
     "name": "stdout",
     "output_type": "stream",
     "text": [
      "  ✅ Done: Processed 5883 new patches (total: 5883) for TCGA-DC-5869_nonMSIH\n"
     ]
    },
    {
     "name": "stderr",
     "output_type": "stream",
     "text": [
      "🧩 Processing slides:  71%|███████   | 297/417 [1:20:11<8:42:45, 261.38s/slide]"
     ]
    },
    {
     "name": "stdout",
     "output_type": "stream",
     "text": [
      "  ✅ Done: Processed 2959 new patches (total: 2959) for TCGA-DC-6154_MSIH\n"
     ]
    },
    {
     "name": "stderr",
     "output_type": "stream",
     "text": [
      "🧩 Processing slides:  71%|███████▏  | 298/417 [1:29:06<11:21:18, 343.52s/slide]"
     ]
    },
    {
     "name": "stdout",
     "output_type": "stream",
     "text": [
      "  ✅ Done: Processed 7085 new patches (total: 7085) for TCGA-DC-6155_nonMSIH\n"
     ]
    },
    {
     "name": "stderr",
     "output_type": "stream",
     "text": [
      "🧩 Processing slides:  72%|███████▏  | 299/417 [1:33:48<10:39:15, 325.05s/slide]"
     ]
    },
    {
     "name": "stdout",
     "output_type": "stream",
     "text": [
      "  ✅ Done: Processed 3769 new patches (total: 3769) for TCGA-DC-6157_nonMSIH\n"
     ]
    },
    {
     "name": "stderr",
     "output_type": "stream",
     "text": [
      "🧩 Processing slides:  72%|███████▏  | 300/417 [1:37:39<9:38:35, 296.71s/slide] "
     ]
    },
    {
     "name": "stdout",
     "output_type": "stream",
     "text": [
      "  ✅ Done: Processed 3037 new patches (total: 3037) for TCGA-DC-6158_nonMSIH\n"
     ]
    },
    {
     "name": "stderr",
     "output_type": "stream",
     "text": [
      "🧩 Processing slides:  72%|███████▏  | 301/417 [1:43:42<10:12:02, 316.57s/slide]"
     ]
    },
    {
     "name": "stdout",
     "output_type": "stream",
     "text": [
      "  ✅ Done: Processed 4854 new patches (total: 4854) for TCGA-DC-6160_nonMSIH\n"
     ]
    },
    {
     "name": "stderr",
     "output_type": "stream",
     "text": [
      "🧩 Processing slides:  72%|███████▏  | 302/417 [1:50:40<11:05:27, 347.19s/slide]"
     ]
    },
    {
     "name": "stdout",
     "output_type": "stream",
     "text": [
      "  ✅ Done: Processed 5512 new patches (total: 5512) for TCGA-DC-6681_nonMSIH\n"
     ]
    },
    {
     "name": "stderr",
     "output_type": "stream",
     "text": [
      "🧩 Processing slides:  73%|███████▎  | 303/417 [1:53:48<9:28:36, 299.27s/slide] "
     ]
    },
    {
     "name": "stdout",
     "output_type": "stream",
     "text": [
      "  ✅ Done: Processed 2520 new patches (total: 2520) for TCGA-DC-6682_nonMSIH\n"
     ]
    },
    {
     "name": "stderr",
     "output_type": "stream",
     "text": [
      "🧩 Processing slides:  73%|███████▎  | 304/417 [1:58:55<9:28:00, 301.59s/slide]"
     ]
    },
    {
     "name": "stdout",
     "output_type": "stream",
     "text": [
      "  ✅ Done: Processed 3994 new patches (total: 3994) for TCGA-DC-6683_nonMSIH\n"
     ]
    },
    {
     "name": "stderr",
     "output_type": "stream",
     "text": [
      "🧩 Processing slides:  73%|███████▎  | 305/417 [2:04:21<9:36:33, 308.87s/slide]"
     ]
    },
    {
     "name": "stdout",
     "output_type": "stream",
     "text": [
      "  ✅ Done: Processed 4268 new patches (total: 4268) for TCGA-DM-A0X9_nonMSIH\n"
     ]
    },
    {
     "name": "stderr",
     "output_type": "stream",
     "text": [
      "🧩 Processing slides:  73%|███████▎  | 306/417 [2:05:29<7:18:08, 236.83s/slide]"
     ]
    },
    {
     "name": "stdout",
     "output_type": "stream",
     "text": [
      "  ✅ Done: Processed 871 new patches (total: 871) for TCGA-DM-A0XD_nonMSIH\n"
     ]
    },
    {
     "name": "stderr",
     "output_type": "stream",
     "text": [
      "🧩 Processing slides:  74%|███████▎  | 307/417 [2:09:57<7:31:01, 246.01s/slide]"
     ]
    },
    {
     "name": "stdout",
     "output_type": "stream",
     "text": [
      "  ✅ Done: Processed 3532 new patches (total: 3532) for TCGA-DM-A0XF_nonMSIH\n"
     ]
    },
    {
     "name": "stderr",
     "output_type": "stream",
     "text": [
      "🧩 Processing slides:  74%|███████▍  | 308/417 [2:14:53<7:54:25, 261.15s/slide]"
     ]
    },
    {
     "name": "stdout",
     "output_type": "stream",
     "text": [
      "  ✅ Done: Processed 3947 new patches (total: 3947) for TCGA-DM-A1D0_nonMSIH\n"
     ]
    },
    {
     "name": "stderr",
     "output_type": "stream",
     "text": [
      "🧩 Processing slides:  74%|███████▍  | 309/417 [2:18:31<7:26:36, 248.12s/slide]"
     ]
    },
    {
     "name": "stdout",
     "output_type": "stream",
     "text": [
      "  ✅ Done: Processed 2889 new patches (total: 2889) for TCGA-DM-A1D4_nonMSIH\n"
     ]
    },
    {
     "name": "stderr",
     "output_type": "stream",
     "text": [
      "🧩 Processing slides:  74%|███████▍  | 310/417 [2:23:21<7:44:56, 260.72s/slide]"
     ]
    },
    {
     "name": "stdout",
     "output_type": "stream",
     "text": [
      "  ✅ Done: Processed 3884 new patches (total: 3884) for TCGA-DM-A1D6_nonMSIH\n"
     ]
    },
    {
     "name": "stderr",
     "output_type": "stream",
     "text": [
      "🧩 Processing slides:  75%|███████▍  | 311/417 [2:26:46<7:11:12, 244.08s/slide]"
     ]
    },
    {
     "name": "stdout",
     "output_type": "stream",
     "text": [
      "  ✅ Done: Processed 2645 new patches (total: 2645) for TCGA-DM-A1D7_nonMSIH\n"
     ]
    },
    {
     "name": "stderr",
     "output_type": "stream",
     "text": [
      "🧩 Processing slides:  75%|███████▍  | 312/417 [2:28:47<6:02:28, 207.13s/slide]"
     ]
    },
    {
     "name": "stdout",
     "output_type": "stream",
     "text": [
      "  ✅ Done: Processed 1621 new patches (total: 1621) for TCGA-DM-A1D8_nonMSIH\n"
     ]
    },
    {
     "name": "stderr",
     "output_type": "stream",
     "text": [
      "🧩 Processing slides:  75%|███████▌  | 313/417 [2:33:55<6:51:04, 237.16s/slide]"
     ]
    },
    {
     "name": "stdout",
     "output_type": "stream",
     "text": [
      "  ✅ Done: Processed 4121 new patches (total: 4121) for TCGA-DM-A1D9_nonMSIH\n"
     ]
    },
    {
     "name": "stderr",
     "output_type": "stream",
     "text": [
      "🧩 Processing slides:  75%|███████▌  | 314/417 [2:38:51<7:17:32, 254.88s/slide]"
     ]
    },
    {
     "name": "stdout",
     "output_type": "stream",
     "text": [
      "  ✅ Done: Processed 4014 new patches (total: 4014) for TCGA-DM-A1DA_nonMSIH\n"
     ]
    },
    {
     "name": "stderr",
     "output_type": "stream",
     "text": [
      "🧩 Processing slides:  76%|███████▌  | 315/417 [2:46:20<8:52:29, 313.23s/slide]"
     ]
    },
    {
     "name": "stdout",
     "output_type": "stream",
     "text": [
      "  ✅ Done: Processed 5990 new patches (total: 5990) for TCGA-DM-A1DB_nonMSIH\n"
     ]
    },
    {
     "name": "stderr",
     "output_type": "stream",
     "text": [
      "🧩 Processing slides:  76%|███████▌  | 316/417 [2:51:24<8:42:35, 310.45s/slide]"
     ]
    },
    {
     "name": "stdout",
     "output_type": "stream",
     "text": [
      "  ✅ Done: Processed 4391 new patches (total: 4391) for TCGA-DM-A1HA_nonMSIH\n"
     ]
    },
    {
     "name": "stderr",
     "output_type": "stream",
     "text": [
      "🧩 Processing slides:  76%|███████▌  | 317/417 [2:59:37<10:08:36, 365.17s/slide]"
     ]
    },
    {
     "name": "stdout",
     "output_type": "stream",
     "text": [
      "  ✅ Done: Processed 6569 new patches (total: 6569) for TCGA-DM-A280_nonMSIH\n"
     ]
    },
    {
     "name": "stderr",
     "output_type": "stream",
     "text": [
      "🧩 Processing slides:  76%|███████▋  | 318/417 [3:06:16<10:19:26, 375.42s/slide]"
     ]
    },
    {
     "name": "stdout",
     "output_type": "stream",
     "text": [
      "  ✅ Done: Processed 5356 new patches (total: 5356) for TCGA-DM-A282_nonMSIH\n"
     ]
    },
    {
     "name": "stderr",
     "output_type": "stream",
     "text": [
      "🧩 Processing slides:  76%|███████▋  | 319/417 [3:10:51<9:23:42, 345.13s/slide] "
     ]
    },
    {
     "name": "stdout",
     "output_type": "stream",
     "text": [
      "  ✅ Done: Processed 3624 new patches (total: 3624) for TCGA-DM-A285_nonMSIH\n"
     ]
    },
    {
     "name": "stderr",
     "output_type": "stream",
     "text": [
      "🧩 Processing slides:  77%|███████▋  | 320/417 [3:18:57<10:26:21, 387.43s/slide]"
     ]
    },
    {
     "name": "stdout",
     "output_type": "stream",
     "text": [
      "  ✅ Done: Processed 5123 new patches (total: 5123) for TCGA-DM-A288_nonMSIH\n"
     ]
    },
    {
     "name": "stderr",
     "output_type": "stream",
     "text": [
      "🧩 Processing slides:  77%|███████▋  | 321/417 [3:28:27<11:47:33, 442.23s/slide]"
     ]
    },
    {
     "name": "stdout",
     "output_type": "stream",
     "text": [
      "  ✅ Done: Processed 4130 new patches (total: 4130) for TCGA-DM-A28A_nonMSIH\n"
     ]
    },
    {
     "name": "stderr",
     "output_type": "stream",
     "text": [
      "🧩 Processing slides:  77%|███████▋  | 322/417 [3:37:32<12:28:58, 473.04s/slide]"
     ]
    },
    {
     "name": "stdout",
     "output_type": "stream",
     "text": [
      "  ✅ Done: Processed 3894 new patches (total: 3894) for TCGA-DM-A28E_nonMSIH\n"
     ]
    },
    {
     "name": "stderr",
     "output_type": "stream",
     "text": [
      "🧩 Processing slides:  77%|███████▋  | 323/417 [3:44:19<11:49:59, 453.18s/slide]"
     ]
    },
    {
     "name": "stdout",
     "output_type": "stream",
     "text": [
      "  ✅ Done: Processed 2832 new patches (total: 2832) for TCGA-DM-A28F_nonMSIH\n"
     ]
    },
    {
     "name": "stderr",
     "output_type": "stream",
     "text": [
      "🧩 Processing slides:  78%|███████▊  | 324/417 [3:50:56<11:16:20, 436.35s/slide]"
     ]
    },
    {
     "name": "stdout",
     "output_type": "stream",
     "text": [
      "  ✅ Done: Processed 4241 new patches (total: 4241) for TCGA-DM-A28G_nonMSIH\n"
     ]
    },
    {
     "name": "stderr",
     "output_type": "stream",
     "text": [
      "🧩 Processing slides:  78%|███████▊  | 325/417 [3:55:44<10:00:41, 391.76s/slide]"
     ]
    },
    {
     "name": "stdout",
     "output_type": "stream",
     "text": [
      "  ✅ Done: Processed 3768 new patches (total: 3768) for TCGA-DM-A28H_nonMSIH\n"
     ]
    },
    {
     "name": "stderr",
     "output_type": "stream",
     "text": [
      "🧩 Processing slides:  78%|███████▊  | 326/417 [4:02:25<9:58:28, 394.60s/slide] "
     ]
    },
    {
     "name": "stdout",
     "output_type": "stream",
     "text": [
      "  ✅ Done: Processed 5424 new patches (total: 5424) for TCGA-DM-A28K_nonMSIH\n"
     ]
    },
    {
     "name": "stderr",
     "output_type": "stream",
     "text": [
      "🧩 Processing slides:  78%|███████▊  | 327/417 [4:07:29<9:11:19, 367.55s/slide]"
     ]
    },
    {
     "name": "stdout",
     "output_type": "stream",
     "text": [
      "  ✅ Done: Processed 4345 new patches (total: 4345) for TCGA-DM-A28M_nonMSIH\n"
     ]
    },
    {
     "name": "stderr",
     "output_type": "stream",
     "text": [
      "🧩 Processing slides:  79%|███████▊  | 328/417 [4:09:53<7:25:38, 300.43s/slide]"
     ]
    },
    {
     "name": "stdout",
     "output_type": "stream",
     "text": [
      "  ✅ Done: Processed 1957 new patches (total: 1957) for TCGA-DT-5265_nonMSIH\n"
     ]
    },
    {
     "name": "stderr",
     "output_type": "stream",
     "text": [
      "🧩 Processing slides:  79%|███████▉  | 329/417 [4:16:40<8:07:25, 332.33s/slide]"
     ]
    },
    {
     "name": "stdout",
     "output_type": "stream",
     "text": [
      "  ✅ Done: Processed 5433 new patches (total: 5433) for TCGA-DY-A0XA_nonMSIH\n"
     ]
    },
    {
     "name": "stderr",
     "output_type": "stream",
     "text": [
      "🧩 Processing slides:  79%|███████▉  | 330/417 [4:20:30<7:17:18, 301.60s/slide]"
     ]
    },
    {
     "name": "stdout",
     "output_type": "stream",
     "text": [
      "  ✅ Done: Processed 3142 new patches (total: 3142) for TCGA-DY-A1DC_nonMSIH\n"
     ]
    },
    {
     "name": "stderr",
     "output_type": "stream",
     "text": [
      "🧩 Processing slides:  79%|███████▉  | 331/417 [4:26:07<7:27:24, 312.15s/slide]"
     ]
    },
    {
     "name": "stdout",
     "output_type": "stream",
     "text": [
      "  ✅ Done: Processed 4682 new patches (total: 4682) for TCGA-DY-A1DD_nonMSIH\n"
     ]
    },
    {
     "name": "stderr",
     "output_type": "stream",
     "text": [
      "🧩 Processing slides:  80%|███████▉  | 332/417 [4:29:00<6:23:16, 270.54s/slide]"
     ]
    },
    {
     "name": "stdout",
     "output_type": "stream",
     "text": [
      "  ✅ Done: Processed 2464 new patches (total: 2464) for TCGA-DY-A1DF_nonMSIH\n"
     ]
    },
    {
     "name": "stderr",
     "output_type": "stream",
     "text": [
      "🧩 Processing slides:  80%|███████▉  | 333/417 [4:34:11<6:35:41, 282.64s/slide]"
     ]
    },
    {
     "name": "stdout",
     "output_type": "stream",
     "text": [
      "  ✅ Done: Processed 4409 new patches (total: 4409) for TCGA-DY-A1DG_nonMSIH\n"
     ]
    },
    {
     "name": "stderr",
     "output_type": "stream",
     "text": [
      "🧩 Processing slides:  80%|████████  | 334/417 [4:37:40<6:00:29, 260.60s/slide]"
     ]
    },
    {
     "name": "stdout",
     "output_type": "stream",
     "text": [
      "  ✅ Done: Processed 2809 new patches (total: 2809) for TCGA-EF-5830_nonMSIH\n"
     ]
    },
    {
     "name": "stderr",
     "output_type": "stream",
     "text": [
      "🧩 Processing slides:  80%|████████  | 335/417 [4:40:43<5:24:22, 237.35s/slide]"
     ]
    },
    {
     "name": "stdout",
     "output_type": "stream",
     "text": [
      "  ✅ Done: Processed 2451 new patches (total: 2451) for TCGA-EI-6506_nonMSIH\n"
     ]
    },
    {
     "name": "stderr",
     "output_type": "stream",
     "text": [
      "🧩 Processing slides:  81%|████████  | 336/417 [4:44:34<5:17:49, 235.43s/slide]"
     ]
    },
    {
     "name": "stdout",
     "output_type": "stream",
     "text": [
      "  ✅ Done: Processed 3267 new patches (total: 3267) for TCGA-EI-6507_MSIH\n"
     ]
    },
    {
     "name": "stderr",
     "output_type": "stream",
     "text": [
      "🧩 Processing slides:  81%|████████  | 337/417 [4:48:28<5:13:12, 234.91s/slide]"
     ]
    },
    {
     "name": "stdout",
     "output_type": "stream",
     "text": [
      "  ✅ Done: Processed 3269 new patches (total: 3269) for TCGA-EI-6508_nonMSIH\n"
     ]
    },
    {
     "name": "stderr",
     "output_type": "stream",
     "text": [
      "🧩 Processing slides:  81%|████████  | 338/417 [4:50:49<4:32:12, 206.74s/slide]"
     ]
    },
    {
     "name": "stdout",
     "output_type": "stream",
     "text": [
      "  ✅ Done: Processed 1927 new patches (total: 1927) for TCGA-EI-6509_nonMSIH\n"
     ]
    },
    {
     "name": "stderr",
     "output_type": "stream",
     "text": [
      "🧩 Processing slides:  81%|████████▏ | 339/417 [4:54:29<4:34:07, 210.86s/slide]"
     ]
    },
    {
     "name": "stdout",
     "output_type": "stream",
     "text": [
      "  ✅ Done: Processed 2982 new patches (total: 2982) for TCGA-EI-6510_nonMSIH\n"
     ]
    },
    {
     "name": "stderr",
     "output_type": "stream",
     "text": [
      "🧩 Processing slides:  82%|████████▏ | 340/417 [4:59:34<5:06:53, 239.13s/slide]"
     ]
    },
    {
     "name": "stdout",
     "output_type": "stream",
     "text": [
      "  ✅ Done: Processed 4146 new patches (total: 4146) for TCGA-EI-6511_nonMSIH\n"
     ]
    },
    {
     "name": "stderr",
     "output_type": "stream",
     "text": [
      "🧩 Processing slides:  82%|████████▏ | 341/417 [5:05:25<5:45:10, 272.51s/slide]"
     ]
    },
    {
     "name": "stdout",
     "output_type": "stream",
     "text": [
      "  ✅ Done: Processed 4880 new patches (total: 4880) for TCGA-EI-6512_nonMSIH\n"
     ]
    },
    {
     "name": "stderr",
     "output_type": "stream",
     "text": [
      "🧩 Processing slides:  82%|████████▏ | 342/417 [5:11:40<6:19:19, 303.45s/slide]"
     ]
    },
    {
     "name": "stdout",
     "output_type": "stream",
     "text": [
      "  ✅ Done: Processed 5185 new patches (total: 5185) for TCGA-EI-6513_nonMSIH\n"
     ]
    },
    {
     "name": "stderr",
     "output_type": "stream",
     "text": [
      "🧩 Processing slides:  82%|████████▏ | 343/417 [5:15:37<5:49:38, 283.50s/slide]"
     ]
    },
    {
     "name": "stdout",
     "output_type": "stream",
     "text": [
      "  ✅ Done: Processed 3295 new patches (total: 3295) for TCGA-EI-6514_nonMSIH\n"
     ]
    },
    {
     "name": "stderr",
     "output_type": "stream",
     "text": [
      "🧩 Processing slides:  82%|████████▏ | 344/417 [5:16:17<4:15:55, 210.35s/slide]"
     ]
    },
    {
     "name": "stdout",
     "output_type": "stream",
     "text": [
      "  ✅ Done: Processed 558 new patches (total: 558) for TCGA-EI-6881_nonMSIH\n"
     ]
    },
    {
     "name": "stderr",
     "output_type": "stream",
     "text": [
      "🧩 Processing slides:  83%|████████▎ | 345/417 [5:18:02<3:34:26, 178.70s/slide]"
     ]
    },
    {
     "name": "stdout",
     "output_type": "stream",
     "text": [
      "  ✅ Done: Processed 1532 new patches (total: 1532) for TCGA-EI-6882_MSIH\n"
     ]
    },
    {
     "name": "stderr",
     "output_type": "stream",
     "text": [
      "🧩 Processing slides:  83%|████████▎ | 346/417 [5:20:58<3:30:43, 178.08s/slide]"
     ]
    },
    {
     "name": "stdout",
     "output_type": "stream",
     "text": [
      "  ✅ Done: Processed 2572 new patches (total: 2572) for TCGA-EI-6883_nonMSIH\n"
     ]
    },
    {
     "name": "stderr",
     "output_type": "stream",
     "text": [
      "🧩 Processing slides:  83%|████████▎ | 347/417 [5:22:17<2:52:59, 148.28s/slide]"
     ]
    },
    {
     "name": "stdout",
     "output_type": "stream",
     "text": [
      "  ✅ Done: Processed 1122 new patches (total: 1122) for TCGA-EI-6884_nonMSIH\n"
     ]
    },
    {
     "name": "stderr",
     "output_type": "stream",
     "text": [
      "🧩 Processing slides:  83%|████████▎ | 348/417 [5:23:41<2:28:06, 128.79s/slide]"
     ]
    },
    {
     "name": "stdout",
     "output_type": "stream",
     "text": [
      "  ✅ Done: Processed 1210 new patches (total: 1210) for TCGA-EI-6885_nonMSIH\n"
     ]
    },
    {
     "name": "stderr",
     "output_type": "stream",
     "text": [
      "🧩 Processing slides:  84%|████████▎ | 349/417 [5:24:51<2:06:10, 111.33s/slide]"
     ]
    },
    {
     "name": "stdout",
     "output_type": "stream",
     "text": [
      "  ✅ Done: Processed 1011 new patches (total: 1011) for TCGA-EI-6917_nonMSIH\n"
     ]
    },
    {
     "name": "stderr",
     "output_type": "stream",
     "text": [
      "🧩 Processing slides:  84%|████████▍ | 350/417 [5:26:11<1:53:53, 101.99s/slide]"
     ]
    },
    {
     "name": "stdout",
     "output_type": "stream",
     "text": [
      "  ✅ Done: Processed 1094 new patches (total: 1094) for TCGA-EI-7002_nonMSIH\n"
     ]
    },
    {
     "name": "stderr",
     "output_type": "stream",
     "text": [
      "🧩 Processing slides:  84%|████████▍ | 351/417 [5:27:11<1:38:20, 89.40s/slide] "
     ]
    },
    {
     "name": "stdout",
     "output_type": "stream",
     "text": [
      "  ✅ Done: Processed 805 new patches (total: 805) for TCGA-EI-7004_nonMSIH\n"
     ]
    },
    {
     "name": "stderr",
     "output_type": "stream",
     "text": [
      "🧩 Processing slides:  84%|████████▍ | 352/417 [5:33:49<3:16:53, 181.74s/slide]"
     ]
    },
    {
     "name": "stdout",
     "output_type": "stream",
     "text": [
      "  ✅ Done: Processed 4979 new patches (total: 4979) for TCGA-F4-6459_nonMSIH\n"
     ]
    },
    {
     "name": "stderr",
     "output_type": "stream",
     "text": [
      "🧩 Processing slides:  85%|████████▍ | 353/417 [5:38:35<3:47:26, 213.23s/slide]"
     ]
    },
    {
     "name": "stdout",
     "output_type": "stream",
     "text": [
      "  ✅ Done: Processed 3799 new patches (total: 3799) for TCGA-F4-6460_nonMSIH\n"
     ]
    },
    {
     "name": "stderr",
     "output_type": "stream",
     "text": [
      "🧩 Processing slides:  85%|████████▍ | 354/417 [5:45:16<4:42:49, 269.36s/slide]"
     ]
    },
    {
     "name": "stdout",
     "output_type": "stream",
     "text": [
      "  ✅ Done: Processed 5239 new patches (total: 5239) for TCGA-F4-6461_nonMSIH\n"
     ]
    },
    {
     "name": "stderr",
     "output_type": "stream",
     "text": [
      "🧩 Processing slides:  85%|████████▌ | 355/417 [5:47:06<3:49:06, 221.71s/slide]"
     ]
    },
    {
     "name": "stdout",
     "output_type": "stream",
     "text": [
      "  ✅ Done: Processed 1457 new patches (total: 1457) for TCGA-F4-6463_nonMSIH\n"
     ]
    },
    {
     "name": "stderr",
     "output_type": "stream",
     "text": [
      "🧩 Processing slides:  85%|████████▌ | 356/417 [5:50:08<3:33:11, 209.69s/slide]"
     ]
    },
    {
     "name": "stdout",
     "output_type": "stream",
     "text": [
      "  ✅ Done: Processed 2382 new patches (total: 2382) for TCGA-F4-6569_nonMSIH\n"
     ]
    },
    {
     "name": "stderr",
     "output_type": "stream",
     "text": [
      "🧩 Processing slides:  86%|████████▌ | 357/417 [5:53:55<3:34:50, 214.84s/slide]"
     ]
    },
    {
     "name": "stdout",
     "output_type": "stream",
     "text": [
      "  ✅ Done: Processed 2990 new patches (total: 2990) for TCGA-F4-6570_MSIH\n"
     ]
    },
    {
     "name": "stderr",
     "output_type": "stream",
     "text": [
      "🧩 Processing slides:  86%|████████▌ | 358/417 [5:57:28<3:30:44, 214.31s/slide]"
     ]
    },
    {
     "name": "stdout",
     "output_type": "stream",
     "text": [
      "  ✅ Done: Processed 2872 new patches (total: 2872) for TCGA-F4-6703_MSIH\n"
     ]
    },
    {
     "name": "stderr",
     "output_type": "stream",
     "text": [
      "🧩 Processing slides:  86%|████████▌ | 359/417 [5:59:54<3:07:26, 193.91s/slide]"
     ]
    },
    {
     "name": "stdout",
     "output_type": "stream",
     "text": [
      "  ✅ Done: Processed 1861 new patches (total: 1861) for TCGA-F4-6704_nonMSIH\n"
     ]
    },
    {
     "name": "stderr",
     "output_type": "stream",
     "text": [
      "🧩 Processing slides:  86%|████████▋ | 360/417 [6:03:08<3:04:12, 193.90s/slide]"
     ]
    },
    {
     "name": "stdout",
     "output_type": "stream",
     "text": [
      "  ✅ Done: Processed 2757 new patches (total: 2757) for TCGA-F4-6805_nonMSIH\n"
     ]
    },
    {
     "name": "stderr",
     "output_type": "stream",
     "text": [
      "🧩 Processing slides:  87%|████████▋ | 361/417 [6:07:47<3:24:46, 219.40s/slide]"
     ]
    },
    {
     "name": "stdout",
     "output_type": "stream",
     "text": [
      "  ✅ Done: Processed 4081 new patches (total: 4081) for TCGA-F4-6806_nonMSIH\n"
     ]
    },
    {
     "name": "stderr",
     "output_type": "stream",
     "text": [
      "🧩 Processing slides:  87%|████████▋ | 362/417 [6:13:24<3:53:23, 254.61s/slide]"
     ]
    },
    {
     "name": "stdout",
     "output_type": "stream",
     "text": [
      "  ✅ Done: Processed 4940 new patches (total: 4940) for TCGA-F4-6807_nonMSIH\n"
     ]
    },
    {
     "name": "stderr",
     "output_type": "stream",
     "text": [
      "🧩 Processing slides:  87%|████████▋ | 363/417 [6:19:09<4:13:47, 281.98s/slide]"
     ]
    },
    {
     "name": "stdout",
     "output_type": "stream",
     "text": [
      "  ✅ Done: Processed 5017 new patches (total: 5017) for TCGA-F4-6808_nonMSIH\n"
     ]
    },
    {
     "name": "stderr",
     "output_type": "stream",
     "text": [
      "🧩 Processing slides:  87%|████████▋ | 364/417 [6:24:17<4:15:50, 289.63s/slide]"
     ]
    },
    {
     "name": "stdout",
     "output_type": "stream",
     "text": [
      "  ✅ Done: Processed 4583 new patches (total: 4583) for TCGA-F4-6809_nonMSIH\n"
     ]
    },
    {
     "name": "stderr",
     "output_type": "stream",
     "text": [
      "🧩 Processing slides:  88%|████████▊ | 365/417 [6:26:40<3:32:50, 245.58s/slide]"
     ]
    },
    {
     "name": "stdout",
     "output_type": "stream",
     "text": [
      "  ✅ Done: Processed 2125 new patches (total: 2125) for TCGA-F4-6854_nonMSIH\n"
     ]
    },
    {
     "name": "stderr",
     "output_type": "stream",
     "text": [
      "🧩 Processing slides:  88%|████████▊ | 366/417 [6:27:58<2:46:12, 195.54s/slide]"
     ]
    },
    {
     "name": "stdout",
     "output_type": "stream",
     "text": [
      "  ✅ Done: Processed 1096 new patches (total: 1096) for TCGA-F4-6855_nonMSIH\n"
     ]
    },
    {
     "name": "stderr",
     "output_type": "stream",
     "text": [
      "🧩 Processing slides:  88%|████████▊ | 367/417 [6:31:58<2:53:59, 208.78s/slide]"
     ]
    },
    {
     "name": "stdout",
     "output_type": "stream",
     "text": [
      "  ✅ Done: Processed 3617 new patches (total: 3617) for TCGA-F4-6856_MSIH\n"
     ]
    },
    {
     "name": "stderr",
     "output_type": "stream",
     "text": [
      "🧩 Processing slides:  88%|████████▊ | 368/417 [6:35:55<2:57:21, 217.16s/slide]"
     ]
    },
    {
     "name": "stdout",
     "output_type": "stream",
     "text": [
      "  ✅ Done: Processed 3610 new patches (total: 3610) for TCGA-F5-6464_nonMSIH\n"
     ]
    },
    {
     "name": "stderr",
     "output_type": "stream",
     "text": [
      "🧩 Processing slides:  88%|████████▊ | 369/417 [6:39:00<2:46:07, 207.65s/slide]"
     ]
    },
    {
     "name": "stdout",
     "output_type": "stream",
     "text": [
      "  ✅ Done: Processed 2560 new patches (total: 2560) for TCGA-F5-6465_nonMSIH\n"
     ]
    },
    {
     "name": "stderr",
     "output_type": "stream",
     "text": [
      "🧩 Processing slides:  89%|████████▊ | 370/417 [6:43:29<2:57:04, 226.06s/slide]"
     ]
    },
    {
     "name": "stdout",
     "output_type": "stream",
     "text": [
      "  ✅ Done: Processed 4197 new patches (total: 4197) for TCGA-F5-6571_nonMSIH\n"
     ]
    },
    {
     "name": "stderr",
     "output_type": "stream",
     "text": [
      "🧩 Processing slides:  89%|████████▉ | 371/417 [6:46:04<2:36:47, 204.50s/slide]"
     ]
    },
    {
     "name": "stdout",
     "output_type": "stream",
     "text": [
      "  ✅ Done: Processed 2271 new patches (total: 2271) for TCGA-F5-6702_nonMSIH\n"
     ]
    },
    {
     "name": "stderr",
     "output_type": "stream",
     "text": [
      "🧩 Processing slides:  89%|████████▉ | 372/417 [6:46:54<1:58:36, 158.15s/slide]"
     ]
    },
    {
     "name": "stdout",
     "output_type": "stream",
     "text": [
      "  ✅ Done: Processed 691 new patches (total: 691) for TCGA-F5-6811_nonMSIH\n"
     ]
    },
    {
     "name": "stderr",
     "output_type": "stream",
     "text": [
      "🧩 Processing slides:  89%|████████▉ | 373/417 [6:51:17<2:19:09, 189.75s/slide]"
     ]
    },
    {
     "name": "stdout",
     "output_type": "stream",
     "text": [
      "  ✅ Done: Processed 3682 new patches (total: 3682) for TCGA-F5-6814_nonMSIH\n"
     ]
    },
    {
     "name": "stderr",
     "output_type": "stream",
     "text": [
      "🧩 Processing slides:  90%|████████▉ | 374/417 [6:54:39<2:18:30, 193.27s/slide]"
     ]
    },
    {
     "name": "stdout",
     "output_type": "stream",
     "text": [
      "  ✅ Done: Processed 2985 new patches (total: 2985) for TCGA-F5-6863_nonMSIH\n"
     ]
    },
    {
     "name": "stderr",
     "output_type": "stream",
     "text": [
      "🧩 Processing slides:  90%|████████▉ | 375/417 [6:56:58<2:03:57, 177.08s/slide]"
     ]
    },
    {
     "name": "stdout",
     "output_type": "stream",
     "text": [
      "  ✅ Done: Processed 1995 new patches (total: 1995) for TCGA-F5-6864_nonMSIH\n"
     ]
    },
    {
     "name": "stderr",
     "output_type": "stream",
     "text": [
      "🧩 Processing slides:  90%|█████████ | 376/417 [7:00:39<2:10:08, 190.45s/slide]"
     ]
    },
    {
     "name": "stdout",
     "output_type": "stream",
     "text": [
      "  ✅ Done: Processed 3430 new patches (total: 3430) for TCGA-G4-6293_nonMSIH\n"
     ]
    },
    {
     "name": "stderr",
     "output_type": "stream",
     "text": [
      "🧩 Processing slides:  90%|█████████ | 377/417 [7:05:53<2:31:32, 227.30s/slide]"
     ]
    },
    {
     "name": "stdout",
     "output_type": "stream",
     "text": [
      "  ✅ Done: Processed 4722 new patches (total: 4722) for TCGA-G4-6294_nonMSIH\n"
     ]
    },
    {
     "name": "stderr",
     "output_type": "stream",
     "text": [
      "🧩 Processing slides:  91%|█████████ | 378/417 [7:09:55<2:30:43, 231.88s/slide]"
     ]
    },
    {
     "name": "stdout",
     "output_type": "stream",
     "text": [
      "  ✅ Done: Processed 3726 new patches (total: 3726) for TCGA-G4-6295_nonMSIH\n"
     ]
    },
    {
     "name": "stderr",
     "output_type": "stream",
     "text": [
      "🧩 Processing slides:  91%|█████████ | 379/417 [7:15:31<2:46:36, 263.06s/slide]"
     ]
    },
    {
     "name": "stdout",
     "output_type": "stream",
     "text": [
      "  ✅ Done: Processed 5139 new patches (total: 5139) for TCGA-G4-6297_nonMSIH\n"
     ]
    },
    {
     "name": "stderr",
     "output_type": "stream",
     "text": [
      "🧩 Processing slides:  91%|█████████ | 380/417 [7:22:08<3:06:56, 303.15s/slide]"
     ]
    },
    {
     "name": "stdout",
     "output_type": "stream",
     "text": [
      "  ✅ Done: Processed 6051 new patches (total: 6051) for TCGA-G4-6298_nonMSIH\n"
     ]
    },
    {
     "name": "stderr",
     "output_type": "stream",
     "text": [
      "🧩 Processing slides:  91%|█████████▏| 381/417 [7:27:08<3:01:22, 302.30s/slide]"
     ]
    },
    {
     "name": "stdout",
     "output_type": "stream",
     "text": [
      "  ✅ Done: Processed 4570 new patches (total: 4570) for TCGA-G4-6299_nonMSIH\n"
     ]
    },
    {
     "name": "stderr",
     "output_type": "stream",
     "text": [
      "🧩 Processing slides:  92%|█████████▏| 382/417 [7:30:36<2:39:47, 273.94s/slide]"
     ]
    },
    {
     "name": "stdout",
     "output_type": "stream",
     "text": [
      "  ✅ Done: Processed 3046 new patches (total: 3046) for TCGA-G4-6302_MSIH\n"
     ]
    },
    {
     "name": "stderr",
     "output_type": "stream",
     "text": [
      "🧩 Processing slides:  92%|█████████▏| 383/417 [7:33:28<2:17:53, 243.35s/slide]"
     ]
    },
    {
     "name": "stdout",
     "output_type": "stream",
     "text": [
      "  ✅ Done: Processed 2575 new patches (total: 2575) for TCGA-G4-6303_nonMSIH\n"
     ]
    },
    {
     "name": "stderr",
     "output_type": "stream",
     "text": [
      "🧩 Processing slides:  92%|█████████▏| 384/417 [7:40:15<2:40:52, 292.51s/slide]"
     ]
    },
    {
     "name": "stdout",
     "output_type": "stream",
     "text": [
      "  ✅ Done: Processed 6078 new patches (total: 6078) for TCGA-G4-6304_MSIH\n"
     ]
    },
    {
     "name": "stderr",
     "output_type": "stream",
     "text": [
      "🧩 Processing slides:  92%|█████████▏| 385/417 [7:44:11<2:26:59, 275.61s/slide]"
     ]
    },
    {
     "name": "stdout",
     "output_type": "stream",
     "text": [
      "  ✅ Done: Processed 3570 new patches (total: 3570) for TCGA-G4-6306_nonMSIH\n"
     ]
    },
    {
     "name": "stderr",
     "output_type": "stream",
     "text": [
      "🧩 Processing slides:  93%|█████████▎| 386/417 [7:48:23<2:18:37, 268.31s/slide]"
     ]
    },
    {
     "name": "stdout",
     "output_type": "stream",
     "text": [
      "  ✅ Done: Processed 3781 new patches (total: 3781) for TCGA-G4-6307_nonMSIH\n"
     ]
    },
    {
     "name": "stderr",
     "output_type": "stream",
     "text": [
      "🧩 Processing slides:  93%|█████████▎| 387/417 [7:52:30<2:11:05, 262.18s/slide]"
     ]
    },
    {
     "name": "stdout",
     "output_type": "stream",
     "text": [
      "  ✅ Done: Processed 3701 new patches (total: 3701) for TCGA-G4-6309_MSIH\n"
     ]
    },
    {
     "name": "stderr",
     "output_type": "stream",
     "text": [
      "🧩 Processing slides:  93%|█████████▎| 388/417 [7:56:10<2:00:35, 249.51s/slide]"
     ]
    },
    {
     "name": "stdout",
     "output_type": "stream",
     "text": [
      "  ✅ Done: Processed 3294 new patches (total: 3294) for TCGA-G4-6311_nonMSIH\n"
     ]
    },
    {
     "name": "stderr",
     "output_type": "stream",
     "text": [
      "🧩 Processing slides:  93%|█████████▎| 389/417 [8:01:13<2:03:50, 265.37s/slide]"
     ]
    },
    {
     "name": "stdout",
     "output_type": "stream",
     "text": [
      "  ✅ Done: Processed 4405 new patches (total: 4405) for TCGA-G4-6315_nonMSIH\n"
     ]
    },
    {
     "name": "stderr",
     "output_type": "stream",
     "text": [
      "🧩 Processing slides:  94%|█████████▎| 390/417 [8:05:22<1:57:13, 260.50s/slide]"
     ]
    },
    {
     "name": "stdout",
     "output_type": "stream",
     "text": [
      "  ✅ Done: Processed 3555 new patches (total: 3555) for TCGA-G4-6317_nonMSIH\n"
     ]
    },
    {
     "name": "stderr",
     "output_type": "stream",
     "text": [
      "🧩 Processing slides:  94%|█████████▍| 391/417 [8:08:45<1:45:28, 243.41s/slide]"
     ]
    },
    {
     "name": "stdout",
     "output_type": "stream",
     "text": [
      "  ✅ Done: Processed 2886 new patches (total: 2886) for TCGA-G4-6320_MSIH\n"
     ]
    },
    {
     "name": "stderr",
     "output_type": "stream",
     "text": [
      "🧩 Processing slides:  94%|█████████▍| 392/417 [8:12:08<1:36:21, 231.27s/slide]"
     ]
    },
    {
     "name": "stdout",
     "output_type": "stream",
     "text": [
      "  ✅ Done: Processed 2814 new patches (total: 2814) for TCGA-G4-6321_nonMSIH\n"
     ]
    },
    {
     "name": "stderr",
     "output_type": "stream",
     "text": [
      "🧩 Processing slides:  94%|█████████▍| 393/417 [8:17:27<1:43:02, 257.61s/slide]"
     ]
    },
    {
     "name": "stdout",
     "output_type": "stream",
     "text": [
      "  ✅ Done: Processed 4860 new patches (total: 4860) for TCGA-G4-6322_nonMSIH\n"
     ]
    },
    {
     "name": "stderr",
     "output_type": "stream",
     "text": [
      "🧩 Processing slides:  94%|█████████▍| 394/417 [8:20:22<1:29:09, 232.57s/slide]"
     ]
    },
    {
     "name": "stdout",
     "output_type": "stream",
     "text": [
      "  ✅ Done: Processed 2648 new patches (total: 2648) for TCGA-G4-6323_nonMSIH\n"
     ]
    },
    {
     "name": "stderr",
     "output_type": "stream",
     "text": [
      "🧩 Processing slides:  95%|█████████▍| 395/417 [8:24:30<1:27:00, 237.31s/slide]"
     ]
    },
    {
     "name": "stdout",
     "output_type": "stream",
     "text": [
      "  ✅ Done: Processed 3761 new patches (total: 3761) for TCGA-G4-6586_MSIH\n"
     ]
    },
    {
     "name": "stderr",
     "output_type": "stream",
     "text": [
      "🧩 Processing slides:  95%|█████████▍| 396/417 [8:29:11<1:27:36, 250.30s/slide]"
     ]
    },
    {
     "name": "stdout",
     "output_type": "stream",
     "text": [
      "  ✅ Done: Processed 4272 new patches (total: 4272) for TCGA-G4-6588_MSIH\n"
     ]
    },
    {
     "name": "stderr",
     "output_type": "stream",
     "text": [
      "🧩 Processing slides:  95%|█████████▌| 397/417 [8:32:23<1:17:37, 232.90s/slide]"
     ]
    },
    {
     "name": "stdout",
     "output_type": "stream",
     "text": [
      "  ✅ Done: Processed 3020 new patches (total: 3020) for TCGA-G4-6626_nonMSIH\n"
     ]
    },
    {
     "name": "stderr",
     "output_type": "stream",
     "text": [
      "🧩 Processing slides:  95%|█████████▌| 398/417 [8:38:09<1:24:29, 266.81s/slide]"
     ]
    },
    {
     "name": "stdout",
     "output_type": "stream",
     "text": [
      "  ✅ Done: Processed 4823 new patches (total: 4823) for TCGA-G4-6627_nonMSIH\n"
     ]
    },
    {
     "name": "stderr",
     "output_type": "stream",
     "text": [
      "🧩 Processing slides:  96%|█████████▌| 399/417 [8:43:10<1:23:09, 277.21s/slide]"
     ]
    },
    {
     "name": "stdout",
     "output_type": "stream",
     "text": [
      "  ✅ Done: Processed 4592 new patches (total: 4592) for TCGA-G4-6628_MSIH\n"
     ]
    },
    {
     "name": "stderr",
     "output_type": "stream",
     "text": [
      "🧩 Processing slides:  96%|█████████▌| 400/417 [8:45:48<1:08:24, 241.43s/slide]"
     ]
    },
    {
     "name": "stdout",
     "output_type": "stream",
     "text": [
      "  ✅ Done: Processed 2376 new patches (total: 2376) for TCGA-G5-6641_nonMSIH\n"
     ]
    },
    {
     "name": "stderr",
     "output_type": "stream",
     "text": [
      "🧩 Processing slides:  96%|█████████▌| 401/417 [8:50:59<1:09:54, 262.14s/slide]"
     ]
    },
    {
     "name": "stdout",
     "output_type": "stream",
     "text": [
      "  ✅ Done: Processed 4445 new patches (total: 4445) for TCGA-NH-A50T_nonMSIH\n"
     ]
    },
    {
     "name": "stderr",
     "output_type": "stream",
     "text": [
      "🧩 Processing slides:  96%|█████████▋| 402/417 [8:55:00<1:03:57, 255.83s/slide]"
     ]
    },
    {
     "name": "stdout",
     "output_type": "stream",
     "text": [
      "  ✅ Done: Processed 3411 new patches (total: 3411) for TCGA-NH-A50U_nonMSIH\n"
     ]
    },
    {
     "name": "stderr",
     "output_type": "stream",
     "text": [
      "🧩 Processing slides:  97%|█████████▋| 403/417 [8:59:25<1:00:22, 258.72s/slide]"
     ]
    },
    {
     "name": "stdout",
     "output_type": "stream",
     "text": [
      "  ✅ Done: Processed 4077 new patches (total: 4077) for TCGA-NH-A50V_nonMSIH\n"
     ]
    },
    {
     "name": "stderr",
     "output_type": "stream",
     "text": [
      "🧩 Processing slides:  97%|█████████▋| 404/417 [9:05:20<1:02:16, 287.41s/slide]"
     ]
    },
    {
     "name": "stdout",
     "output_type": "stream",
     "text": [
      "  ✅ Done: Processed 4738 new patches (total: 4738) for TCGA-NH-A5IV_MSIH\n"
     ]
    },
    {
     "name": "stderr",
     "output_type": "stream",
     "text": [
      "🧩 Processing slides:  97%|█████████▋| 405/417 [9:10:50<1:00:05, 300.43s/slide]"
     ]
    },
    {
     "name": "stdout",
     "output_type": "stream",
     "text": [
      "  ✅ Done: Processed 2918 new patches (total: 2918) for TCGA-NH-A6GA_nonMSIH\n"
     ]
    },
    {
     "name": "stderr",
     "output_type": "stream",
     "text": [
      "🧩 Processing slides:  97%|█████████▋| 406/417 [9:22:59<1:18:38, 428.96s/slide]"
     ]
    },
    {
     "name": "stdout",
     "output_type": "stream",
     "text": [
      "  ✅ Done: Processed 5249 new patches (total: 5249) for TCGA-NH-A6GB_nonMSIH\n"
     ]
    },
    {
     "name": "stderr",
     "output_type": "stream",
     "text": [
      "🧩 Processing slides:  98%|█████████▊| 407/417 [9:29:01<1:08:07, 408.77s/slide]"
     ]
    },
    {
     "name": "stdout",
     "output_type": "stream",
     "text": [
      "  ✅ Done: Processed 4013 new patches (total: 4013) for TCGA-NH-A6GC_nonMSIH\n"
     ]
    },
    {
     "name": "stderr",
     "output_type": "stream",
     "text": [
      "🧩 Processing slides:  98%|█████████▊| 408/417 [9:40:08<1:12:56, 486.23s/slide]"
     ]
    },
    {
     "name": "stdout",
     "output_type": "stream",
     "text": [
      "  ✅ Done: Processed 4086 new patches (total: 4086) for TCGA-NH-A8F8_nonMSIH\n"
     ]
    },
    {
     "name": "stderr",
     "output_type": "stream",
     "text": [
      "🧩 Processing slides:  98%|█████████▊| 409/417 [9:55:21<1:21:53, 614.15s/slide]"
     ]
    },
    {
     "name": "stdout",
     "output_type": "stream",
     "text": [
      "  ✅ Done: Processed 4699 new patches (total: 4699) for TCGA-QG-A5YV_nonMSIH\n"
     ]
    },
    {
     "name": "stderr",
     "output_type": "stream",
     "text": [
      "🧩 Processing slides:  98%|█████████▊| 410/417 [10:02:23<1:04:56, 556.67s/slide]"
     ]
    },
    {
     "name": "stdout",
     "output_type": "stream",
     "text": [
      "  ✅ Done: Processed 3628 new patches (total: 3628) for TCGA-QG-A5YW_nonMSIH\n"
     ]
    },
    {
     "name": "stderr",
     "output_type": "stream",
     "text": [
      "🧩 Processing slides:  99%|█████████▊| 411/417 [10:06:30<46:22, 463.78s/slide]  "
     ]
    },
    {
     "name": "stdout",
     "output_type": "stream",
     "text": [
      "  ✅ Done: Processed 3727 new patches (total: 3727) for TCGA-QG-A5YX_nonMSIH\n"
     ]
    },
    {
     "name": "stderr",
     "output_type": "stream",
     "text": [
      "🧩 Processing slides:  99%|█████████▉| 412/417 [10:13:14<37:08, 445.74s/slide]"
     ]
    },
    {
     "name": "stdout",
     "output_type": "stream",
     "text": [
      "  ✅ Done: Processed 4144 new patches (total: 4144) for TCGA-QG-A5Z1_nonMSIH\n"
     ]
    },
    {
     "name": "stderr",
     "output_type": "stream",
     "text": [
      "🧩 Processing slides:  99%|█████████▉| 413/417 [10:26:12<36:21, 545.48s/slide]"
     ]
    },
    {
     "name": "stdout",
     "output_type": "stream",
     "text": [
      "  ✅ Done: Processed 4849 new patches (total: 4849) for TCGA-QG-A5Z2_MSIH\n"
     ]
    },
    {
     "name": "stderr",
     "output_type": "stream",
     "text": [
      "🧩 Processing slides:  99%|█████████▉| 414/417 [10:37:45<29:29, 589.72s/slide]"
     ]
    },
    {
     "name": "stdout",
     "output_type": "stream",
     "text": [
      "  ✅ Done: Processed 4126 new patches (total: 4126) for TCGA-QL-A97D_nonMSIH\n"
     ]
    },
    {
     "name": "stderr",
     "output_type": "stream",
     "text": [
      "🧩 Processing slides: 100%|█████████▉| 415/417 [10:52:21<22:31, 675.76s/slide]"
     ]
    },
    {
     "name": "stdout",
     "output_type": "stream",
     "text": [
      "  ✅ Done: Processed 5746 new patches (total: 5746) for TCGA-SS-A7HO_nonMSIH\n"
     ]
    },
    {
     "name": "stderr",
     "output_type": "stream",
     "text": [
      "🧩 Processing slides: 100%|█████████▉| 416/417 [11:05:19<11:46, 706.44s/slide]"
     ]
    },
    {
     "name": "stdout",
     "output_type": "stream",
     "text": [
      "  ✅ Done: Processed 5462 new patches (total: 5462) for TCGA-T9-A92H_nonMSIH\n"
     ]
    },
    {
     "name": "stderr",
     "output_type": "stream",
     "text": [
      "🧩 Processing slides: 100%|██████████| 417/417 [11:10:54<00:00, 96.53s/slide] \n"
     ]
    },
    {
     "name": "stdout",
     "output_type": "stream",
     "text": [
      "  ✅ Done: Processed 4532 new patches (total: 4532) for TCGA-WS-AB45_MSIH\n"
     ]
    }
   ],
   "source": [
    "extractor = HOptimusExtractorFiveCrop()\n",
    "\n",
    "run_full_pipeline_HOptimus_fivecrop(\n",
    "    patch_data_dir=r\"D:\\Aamir Gulzar\\KSA_project2\\dataset\\patch_data\",\n",
    "    extractor=extractor,\n",
    "    non_white_csv=r\"D:\\Aamir Gulzar\\KSA_project2\\dataset\\final_merged_without_white.csv\",\n",
    "    output_root=r\"D:\\Aamir Gulzar\\KSA_project2\\dataset\\Features\\H_Optimus_1_fivecrop_Updated\"\n",
    ")"
   ]
  },
  {
   "cell_type": "markdown",
   "id": "1ad85c37",
   "metadata": {},
   "source": [
    "## Check .pt file"
   ]
  },
  {
   "cell_type": "code",
   "execution_count": 3,
   "id": "c32fe255",
   "metadata": {},
   "outputs": [
    {
     "name": "stdout",
     "output_type": "stream",
     "text": [
      "torch.Size([5, 1536])\n",
      "4 7680 30.0 KB\n"
     ]
    }
   ],
   "source": [
    "import torch\n",
    "f = torch.load(r\"D:\\Aamir Gulzar\\KSA_project2\\dataset\\Features\\H_Optimus_1_fivecrop_Updated\\TCGA-3L-AA1B_nonMSIH\\TCGA-3L-AA1B_nonMSIH_x10288_y12512_patch00159.pt\")\n",
    "print(f.shape)       # Should be torch.Size([5, 1536])\n",
    "print(f.element_size(), f.numel(), f.element_size() * f.numel() / 1024, \"KB\")"
   ]
  },
  {
   "cell_type": "code",
   "execution_count": 4,
   "id": "1cd92835",
   "metadata": {},
   "outputs": [
    {
     "name": "stdout",
     "output_type": "stream",
     "text": [
      "Inspecting PT file: D:\\Aamir Gulzar\\KSA_project2\\dataset\\Features\\H_Optimus_1_fivecrop_Updated\\TCGA-3L-AA1B_nonMSIH\\TCGA-3L-AA1B_nonMSIH_x10288_y12512_patch00159.pt\n",
      "==================================================\n",
      "Single Tensor:\n",
      "  Shape: (5, 1536)\n",
      "  Dtype: torch.float32\n",
      "  First 10 values in each of the 5 rows:\n",
      "    Row 1: [-0.13186094164848328, 0.2290773093700409, -0.6069474220275879, -0.2261803150177002, -0.5075722932815552, 0.631453275680542, -0.595493733882904, 0.1406000703573227, -0.10133633762598038, 0.05652245134115219]\n",
      "    Row 2: [-0.9243358373641968, 0.0937545970082283, -0.959202229976654, -0.7664600610733032, -0.04866240173578262, 0.4886153042316437, -1.2725995779037476, 0.1663188338279724, -0.7203095555305481, 0.5352378487586975]\n",
      "    Row 3: [-0.47139784693717957, 0.1314208060503006, -0.6246311068534851, 0.09655484557151794, -0.1491871029138565, -0.6301625370979309, -0.5399565100669861, 0.13864348828792572, 0.0882948786020279, 0.48060446977615356]\n",
      "    Row 4: [-0.43088388442993164, 0.19961830973625183, -1.2445062398910522, -1.0598503351211548, 0.882394552230835, 0.11426552385091782, -1.0571571588516235, 0.38776957988739014, -0.809433102607727, 0.01825093850493431]\n",
      "    Row 5: [-0.5051796436309814, 0.11273398250341415, 0.6237123012542725, -0.41344815492630005, -0.5440661311149597, 0.6755824089050293, -0.7448021769523621, 0.054966337978839874, -0.23907457292079926, 0.06455539166927338]\n"
     ]
    }
   ],
   "source": [
    "import torch\n",
    "\n",
    "def inspect_pt_file(pt_path):\n",
    "    \"\"\"Inspect the contents of a PyTorch .pt file\"\"\"\n",
    "    print(f\"Inspecting PT file: {pt_path}\")\n",
    "    print(\"=\" * 50)\n",
    "\n",
    "    data = torch.load(pt_path, map_location='cpu')\n",
    "\n",
    "    if isinstance(data, dict):\n",
    "        for key, value in data.items():\n",
    "            print(f\"Key: {key}\")\n",
    "            if isinstance(value, torch.Tensor):\n",
    "                print(f\"  Type: Tensor\")\n",
    "                print(f\"  Shape: {tuple(value.shape)}\")\n",
    "                print(f\"  Dtype: {value.dtype}\")\n",
    "                print(\"  First 10 values in each of the 5 rows:\")\n",
    "                for i in range(min(5, value.shape[0])):  # Only first 5 rows\n",
    "                    row_values = value[i][:10].tolist()\n",
    "                    print(f\"    Row {i+1}: {row_values}\")\n",
    "            else:\n",
    "                print(f\"  Type: {type(value)}\")\n",
    "                print(f\"  Value: {value}\")\n",
    "            print()\n",
    "    elif isinstance(data, torch.Tensor):\n",
    "        print(f\"Single Tensor:\")\n",
    "        print(f\"  Shape: {tuple(data.shape)}\")\n",
    "        print(f\"  Dtype: {data.dtype}\")\n",
    "        print(\"  First 10 values in each of the 5 rows:\")\n",
    "        for i in range(min(5, data.shape[0])):\n",
    "            row_values = data[i][:10].tolist()\n",
    "            print(f\"    Row {i+1}: {row_values}\")\n",
    "    else:\n",
    "        print(\"The .pt file is not a dictionary or tensor. Type:\", type(data))\n",
    "        print(\"Value preview:\", str(data)[:1500])  # Print partial value\n",
    "\n",
    "\n",
    "pt_path = r\"D:\\Aamir Gulzar\\KSA_project2\\dataset\\Features\\H_Optimus_1_fivecrop_Updated\\TCGA-3L-AA1B_nonMSIH\\TCGA-3L-AA1B_nonMSIH_x10288_y12512_patch00159.pt\"\n",
    "inspect_pt_file(pt_path)\n"
   ]
  },
  {
   "cell_type": "code",
   "execution_count": 5,
   "id": "cf2508da",
   "metadata": {},
   "outputs": [
    {
     "name": "stdout",
     "output_type": "stream",
     "text": [
      "Running sanity checks...\n",
      "\n",
      "[✅] Shape OK: (5, 1536)\n",
      "[✅] Dtype OK: torch.float32\n",
      "[✅] No NaN or Inf values\n",
      "[ℹ️] Value range: min=-3.2731, max=3.1491\n",
      "[ℹ️] L2 Norms (per row): [31.616098403930664, 32.858863830566406, 32.53364562988281, 33.56842041015625, 32.72332763671875]\n",
      "[✅] All rows have non-zero magnitude\n",
      "[ℹ️] Row-wise std dev: [0.8069582581520081, 0.8386797308921814, 0.8303708434104919, 0.8567925095558167, 0.8351950645446777]\n",
      "\n",
      "Sanity check completed.\n"
     ]
    }
   ],
   "source": [
    "import torch\n",
    "import os\n",
    "\n",
    "def run_sanity_checks(tensor: torch.Tensor):\n",
    "    print(\"Running sanity checks...\\n\")\n",
    "\n",
    "    # 1. Shape\n",
    "    if tensor.shape != (5, 1536):\n",
    "        print(f\"[❌] Shape mismatch: Expected (5, 1536), got {tuple(tensor.shape)}\")\n",
    "    else:\n",
    "        print(f\"[✅] Shape OK: {tuple(tensor.shape)}\")\n",
    "\n",
    "    # 2. Dtype\n",
    "    if tensor.dtype not in [torch.float32, torch.float16]:\n",
    "        print(f\"[❌] Unexpected dtype: {tensor.dtype}\")\n",
    "    else:\n",
    "        print(f\"[✅] Dtype OK: {tensor.dtype}\")\n",
    "\n",
    "    # 3. NaN or Inf\n",
    "    if not torch.isfinite(tensor).all():\n",
    "        nan_count = torch.isnan(tensor).sum().item()\n",
    "        inf_count = torch.isinf(tensor).sum().item()\n",
    "        print(f\"[❌] Invalid values found — NaNs: {nan_count}, Infs: {inf_count}\")\n",
    "    else:\n",
    "        print(f\"[✅] No NaN or Inf values\")\n",
    "\n",
    "    # 4. Value range\n",
    "    min_val = tensor.min().item()\n",
    "    max_val = tensor.max().item()\n",
    "    print(f\"[ℹ️] Value range: min={min_val:.4f}, max={max_val:.4f}\")\n",
    "    if abs(min_val) > 1e6 or abs(max_val) > 1e6:\n",
    "        print(\"[⚠️] Warning: Value range is unusually large.\")\n",
    "\n",
    "    # 5. L2 norm (per row)\n",
    "    norms = tensor.norm(p=2, dim=1)\n",
    "    print(f\"[ℹ️] L2 Norms (per row): {norms.tolist()}\")\n",
    "    if (norms == 0).any():\n",
    "        print(\"[❌] Zero vector detected (row with all zeros)\")\n",
    "    else:\n",
    "        print(\"[✅] All rows have non-zero magnitude\")\n",
    "\n",
    "    # 6. Row consistency (std across rows)\n",
    "    row_std = torch.std(tensor, dim=1)\n",
    "    print(f\"[ℹ️] Row-wise std dev: {row_std.tolist()}\")\n",
    "    if (row_std == 0).any():\n",
    "        print(\"[⚠️] Warning: At least one row is constant (no variance)\")\n",
    "\n",
    "    print(\"\\nSanity check completed.\")\n",
    "\n",
    "# Example usage\n",
    "pt_path = r\"D:\\Aamir Gulzar\\KSA_project2\\dataset\\Features\\H_Optimus_1_fivecrop_Updated\\TCGA-3L-AA1B_nonMSIH\\TCGA-3L-AA1B_nonMSIH_x10288_y12512_patch00159.pt\"\n",
    "data = torch.load(pt_path, map_location='cpu')\n",
    "\n",
    "# If it's a dict with a tensor inside\n",
    "if isinstance(data, dict):\n",
    "    for key in data:\n",
    "        if isinstance(data[key], torch.Tensor) and data[key].shape == (5, 1536):\n",
    "            run_sanity_checks(data[key])\n",
    "            break\n",
    "else:\n",
    "    run_sanity_checks(data)\n"
   ]
  },
  {
   "cell_type": "code",
   "execution_count": null,
   "id": "5d72f439",
   "metadata": {},
   "outputs": [],
   "source": []
  }
 ],
 "metadata": {
  "kernelspec": {
   "display_name": "TCG",
   "language": "python",
   "name": "python3"
  },
  "language_info": {
   "codemirror_mode": {
    "name": "ipython",
    "version": 3
   },
   "file_extension": ".py",
   "mimetype": "text/x-python",
   "name": "python",
   "nbconvert_exporter": "python",
   "pygments_lexer": "ipython3",
   "version": "3.10.18"
  }
 },
 "nbformat": 4,
 "nbformat_minor": 5
}
