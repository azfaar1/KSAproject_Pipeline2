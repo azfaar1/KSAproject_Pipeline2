{
 "cells": [
  {
   "cell_type": "code",
   "execution_count": 4,
   "id": "72be37fe-cde9-4459-821b-9d8a242270ab",
   "metadata": {},
   "outputs": [
    {
     "name": "stdout",
     "output_type": "stream",
     "text": [
      "✅ Done: All images copied into a single folder.\n"
     ]
    }
   ],
   "source": [
    "import os\n",
    "import random\n",
    "import shutil\n",
    "\n",
    "# Set source and destination paths\n",
    "SOURCE_DIR = r'D:\\Aamir Gulzar\\KSA_project2\\dataset\\patch_data'\n",
    "DEST_DIR = r'D:\\Aamir Gulzar\\KSA_project2\\Cancer-detection-classifier\\Data_cleaning\\Data'\n",
    "MSIH_TAG = '_MSIH'\n",
    "NON_MSIH_TAG = '_nonMSIH'\n",
    "\n",
    "# Ensure destination directory exists\n",
    "os.makedirs(DEST_DIR, exist_ok=True)\n",
    "\n",
    "# Get list of subdirectories in source\n",
    "all_subdirs = [d for d in os.listdir(SOURCE_DIR) if os.path.isdir(os.path.join(SOURCE_DIR, d))]\n",
    "\n",
    "# Separate into MSIH and nonMSIH groups\n",
    "msih_folders = [d for d in all_subdirs if d.endswith(MSIH_TAG)]\n",
    "nonmsih_folders = [d for d in all_subdirs if d.endswith(NON_MSIH_TAG)]\n",
    "\n",
    "# Randomly select 5 folders from each group\n",
    "selected_msih = random.sample(msih_folders, 60)\n",
    "selected_nonmsih = random.sample(nonmsih_folders, 120)\n",
    "\n",
    "# Function to copy 50 images from each folder directly into DEST_DIR\n",
    "def copy_images_flat(folders, label):\n",
    "    for folder in folders:\n",
    "        src_path = os.path.join(SOURCE_DIR, folder)\n",
    "        images = [f for f in os.listdir(src_path) if os.path.isfile(os.path.join(src_path, f))]\n",
    "\n",
    "        if len(images) < 50:\n",
    "            print(f\"⚠️ Warning: Folder {folder} contains fewer than 50 images.\")\n",
    "            sampled_images = images\n",
    "        else:\n",
    "            sampled_images = random.sample(images, 30)\n",
    "\n",
    "        for img in sampled_images:\n",
    "            src_file = os.path.join(src_path, img)\n",
    "            \n",
    "            # Rename to avoid collisions: e.g., TCGA-A6-2686_MSIH_x0_y512_patch00000.png → TCGA-A6-2686_MSIH__patch00000.png\n",
    "            new_name = img\n",
    "            dst_file = os.path.join(DEST_DIR, new_name)\n",
    "            \n",
    "            shutil.copy2(src_file, dst_file)\n",
    "\n",
    "# Copy images into flat destination folder\n",
    "copy_images_flat(selected_msih, 'MSIH')\n",
    "copy_images_flat(selected_nonmsih, 'nonMSIH')\n",
    "\n",
    "print(\"✅ Done: All images copied into a single folder.\")"
   ]
  },
  {
   "cell_type": "markdown",
   "id": "155211fa-5190-4431-a12a-8c4ded0fafc3",
   "metadata": {},
   "source": [
    "## Generating metadata"
   ]
  },
  {
   "cell_type": "code",
   "execution_count": 5,
   "id": "56856da7-ed3b-4b54-8d0e-ad966c5c6882",
   "metadata": {},
   "outputs": [
    {
     "name": "stdout",
     "output_type": "stream",
     "text": [
      "✅ Metadata CSV saved at: patch_metadata.csv\n"
     ]
    }
   ],
   "source": [
    "# import os\n",
    "# import numpy as np\n",
    "# import pandas as pd\n",
    "# from PIL import Image\n",
    "\n",
    "# # Set the directory containing the images\n",
    "# IMAGE_DIR = r'D:\\Aamir Gulzar\\KSA_project2\\Cancer-detection-classifier\\Data_cleaning\\Data'\n",
    "# OUTPUT_CSV = \"patch_metadata.csv\"\n",
    "\n",
    "# # Initialize list to hold metadata\n",
    "# metadata = []\n",
    "\n",
    "# # Loop through all PNG files in the directory\n",
    "# for filename in os.listdir(IMAGE_DIR):\n",
    "#     if filename.lower().endswith(\".png\"):\n",
    "#         file_path = os.path.join(IMAGE_DIR, filename)\n",
    "\n",
    "#         try:\n",
    "#             img = Image.open(file_path).convert(\"RGB\")\n",
    "#             arr = np.array(img)\n",
    "\n",
    "#             # Compute channel-wise means and standard deviations\n",
    "#             mean_r, mean_g, mean_b = arr.mean(axis=(0, 1))\n",
    "#             std_r, std_g, std_b = arr.std(axis=(0, 1))\n",
    "\n",
    "#             metadata.append({\n",
    "#                 'PatchName': filename,\n",
    "#                 'mean_r': round(mean_r, 2),\n",
    "#                 'mean_g': round(mean_g, 2),\n",
    "#                 'mean_b': round(mean_b, 2),\n",
    "#                 'std_r': round(std_r, 2),\n",
    "#                 'std_g': round(std_g, 2),\n",
    "#                 'std_b': round(std_b, 2)\n",
    "#             })\n",
    "#         except Exception as e:\n",
    "#             print(f\"❌ Failed to process {filename}: {e}\")\n",
    "\n",
    "# # Save metadata to CSV\n",
    "# df = pd.DataFrame(metadata)\n",
    "# df.to_csv(OUTPUT_CSV, index=False)\n",
    "\n",
    "# print(f\"✅ Metadata CSV saved at: {OUTPUT_CSV}\")"
   ]
  },
  {
   "cell_type": "code",
   "execution_count": null,
   "id": "46bf2fdf-a1a7-4af3-adad-d6633906861a",
   "metadata": {},
   "outputs": [],
   "source": []
  },
  {
   "cell_type": "code",
   "execution_count": null,
   "id": "9a4bbd3f-0134-4644-81c4-ecee1dc762ee",
   "metadata": {},
   "outputs": [],
   "source": []
  }
 ],
 "metadata": {
  "kernelspec": {
   "display_name": "Python 3 (ipykernel)",
   "language": "python",
   "name": "python3"
  },
  "language_info": {
   "codemirror_mode": {
    "name": "ipython",
    "version": 3
   },
   "file_extension": ".py",
   "mimetype": "text/x-python",
   "name": "python",
   "nbconvert_exporter": "python",
   "pygments_lexer": "ipython3",
   "version": "3.10.18"
  }
 },
 "nbformat": 4,
 "nbformat_minor": 5
}
