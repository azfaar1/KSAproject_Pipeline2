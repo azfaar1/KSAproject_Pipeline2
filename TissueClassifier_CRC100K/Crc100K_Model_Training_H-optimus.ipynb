{
 "cells": [
  {
   "cell_type": "markdown",
   "metadata": {},
   "source": [
    "### Hugging face login"
   ]
  },
  {
   "cell_type": "code",
   "execution_count": null,
   "metadata": {
    "scrolled": true
   },
   "outputs": [
    {
     "name": "stdout",
     "output_type": "stream",
     "text": [
      "The token has not been saved to the git credentials helper. Pass `add_to_git_credential=True` in this function directly or `--add-to-git-credential` if using via `huggingface-cli` if you want to set the git credential as well.\n",
      "Token is valid (permission: fineGrained).\n",
      "Your token has been saved to C:\\Users\\datainsight\\.cache\\huggingface\\token\n",
      "Login successful\n"
     ]
    }
   ],
   "source": [
    "from huggingface_hub import login\n",
    "\n",
    "login()"
   ]
  },
  {
   "cell_type": "code",
   "execution_count": 2,
   "metadata": {},
   "outputs": [],
   "source": [
    "import torch\n",
    "import torchvision\n",
    "import os\n",
    "from os.path import join as j_\n",
    "from PIL import Image\n",
    "import pandas as pd\n",
    "import numpy as np\n",
    "from tqdm import tqdm\n",
    "device = torch.device(\"cuda\" if torch.cuda.is_available() else \"cpu\")"
   ]
  },
  {
   "cell_type": "markdown",
   "metadata": {},
   "source": [
    "### Download CRC-100K (No Norm)\n",
    "\n",
    "You can download the CRC-100K ROI dataset at the following link: https://zenodo.org/records/1214456, which is a 9-class colorectal tissue classification task.\n",
    "- Train (100K images, 11.7 GB): https://zenodo.org/records/1214456/files/NCT-CRC-HE-100K-NONORM.zip?download=1\n",
    "- Test (7.180K images, 800.3 MB): https://zenodo.org/records/1214456/files/CRC-VAL-HE-7K.zip?download=1\n",
    "\n",
    "Once you download these *.zip files, you can unzup them in your local directory (this example puts it in the `UNI/assets/data/CRC100K` relative path of the GitHub repository). The organization of these folders follows the the `torchvision.datasets.ImageFolder` structure, where the subfolders are labeled by the object class, and the images in each folder are of the same class.\n"
   ]
  },
  {
   "cell_type": "code",
   "execution_count": 3,
   "metadata": {},
   "outputs": [],
   "source": [
    "dataroot = \"D:\\Aamir Gulzar\\dataset\\CRC100K\"\n",
    "assert os.path.isdir(r\"D:\\Aamir Gulzar\\dataset\\CRC100K\\NCT-CRC-HE-100K-NONORM\")\n",
    "assert os.path.isdir(r\"D:\\Aamir Gulzar\\dataset\\CRC100K\\CRC-VAL-HE-7K\")"
   ]
  },
  {
   "cell_type": "markdown",
   "metadata": {},
   "source": [
    "### Data Loaders"
   ]
  },
  {
   "cell_type": "markdown",
   "metadata": {},
   "source": [
    "### 224X224 crc100k "
   ]
  },
  {
   "cell_type": "code",
   "execution_count": 4,
   "metadata": {},
   "outputs": [],
   "source": [
    "import time\n",
    "import torchvision.transforms as transforms\n",
    "# get path to example data\n",
    "start = time.time()\n",
    "dataroot = \"D:\\Aamir Gulzar\\dataset\\CRC100K\"\n",
    "transform = transforms.Compose([\n",
    "    transforms.Resize(224),  # Resize the image to 224x224\n",
    "    transforms.ToTensor()\n",
    "])\n",
    "\n",
    "\n",
    "# create some image folder datasets for train/test and their data laoders\n",
    "train_dataset = torchvision.datasets.ImageFolder(j_(dataroot, 'NCT-CRC-HE-100K-NONORM'), transform=transform)\n",
    "test_dataset = torchvision.datasets.ImageFolder(j_(dataroot, 'CRC-VAL-HE-7K'), transform=transform)\n",
    "train_dataloader = torch.utils.data.DataLoader(train_dataset, batch_size=256, shuffle=False, num_workers=1)\n",
    "test_dataloader = torch.utils.data.DataLoader(test_dataset, batch_size=256, shuffle=False, num_workers=1)\n",
    "\n",
    "# create some image folder datasets for train/test and their data laoders\n",
    "import torchvision\n",
    "import os\n",
    "\n",
    "train_dataloader = torch.utils.data.DataLoader(\n",
    "    train_dataset, batch_size=1024, shuffle=False, num_workers=8, pin_memory=True\n",
    ")\n",
    "test_dataloader = torch.utils.data.DataLoader(\n",
    "    test_dataset, batch_size=1024, shuffle=False, num_workers=8, pin_memory=True\n",
    ")\n",
    "\n",
    "train_dataloader = torch.utils.data.DataLoader(train_dataset, batch_size=256, shuffle=False, num_workers=1)\n",
    "test_dataloader = torch.utils.data.DataLoader(test_dataset, batch_size=256, shuffle=False, num_workers=1)"
   ]
  },
  {
   "cell_type": "code",
   "execution_count": 5,
   "metadata": {},
   "outputs": [
    {
     "name": "stdout",
     "output_type": "stream",
     "text": [
      "{'ADI': 0, 'BACK': 1, 'DEB': 2, 'LYM': 3, 'MUC': 4, 'MUS': 5, 'NORM': 6, 'STR': 7, 'TUM': 8}\n"
     ]
    }
   ],
   "source": [
    "labels_dict = train_dataset.class_to_idx\n",
    "print(labels_dict)"
   ]
  },
  {
   "cell_type": "markdown",
   "metadata": {},
   "source": [
    "### Unique Class Print"
   ]
  },
  {
   "cell_type": "code",
   "execution_count": 6,
   "metadata": {
    "scrolled": true
   },
   "outputs": [
    {
     "name": "stdout",
     "output_type": "stream",
     "text": [
      "Batch 0: 256 images\n",
      "Images shape: torch.Size([256, 3, 224, 224])\n",
      "Unique labels: tensor([0])\n",
      "Counts: tensor([256])\n",
      "Batch 1: 256 images\n",
      "Images shape: torch.Size([256, 3, 224, 224])\n",
      "Unique labels: tensor([0])\n",
      "Counts: tensor([256])\n",
      "Batch 2: 256 images\n",
      "Images shape: torch.Size([256, 3, 224, 224])\n",
      "Unique labels: tensor([0])\n",
      "Counts: tensor([256])\n"
     ]
    }
   ],
   "source": [
    "def print_unique_class_representation(train_loader, test_loader):\n",
    "    def get_unique_classes(loader):\n",
    "        all_labels = []\n",
    "        for _, labels in loader:\n",
    "            all_labels.extend(labels.tolist())\n",
    "        unique_labels, counts = torch.unique(torch.tensor(all_labels), return_counts=True)\n",
    "        return unique_labels, counts\n",
    "\n",
    "    train_unique_labels, train_counts = get_unique_classes(train_loader)\n",
    "    # val_unique_labels, val_counts = get_unique_classes(val_loader)\n",
    "    test_unique_labels, test_counts = get_unique_classes(test_loader)\n",
    "\n",
    "    print(\"Train Loader Unique Labels and Counts:\")\n",
    "    print(f\"Unique labels: {train_unique_labels}\")\n",
    "    print(f\"Counts: {train_counts}\")\n",
    "\n",
    "    # print(\"\\nValidation Loader Unique Labels and Counts:\")\n",
    "    # print(f\"Unique labels: {val_unique_labels}\")\n",
    "    # print(f\"Counts: {val_counts}\")\n",
    "\n",
    "    print(\"\\nTest Loader Unique Labels and Counts:\")\n",
    "    print(f\"Unique labels: {test_unique_labels}\")\n",
    "    print(f\"Counts: {test_counts}\")\n",
    "\n",
    "# Example usage:\n",
    "# print_unique_class_representation(train_dataloader, test_dataloader)\n",
    "for batch_idx, (images, labels) in enumerate(test_dataloader):\n",
    "    print(f\"Batch {batch_idx}: {len(images)} images\")\n",
    "    print(f\"Images shape: {images.shape}\")\n",
    "    unique_labels, counts = torch.unique(labels, return_counts=True)\n",
    "    print(f\"Unique labels: {unique_labels}\")\n",
    "    print(f\"Counts: {counts}\")\n",
    "    if batch_idx == 2:  # Only print a few batches to check if it's working\n",
    "        break"
   ]
  },
  {
   "cell_type": "markdown",
   "metadata": {},
   "source": [
    "## Loading H-optimus"
   ]
  },
  {
   "cell_type": "markdown",
   "metadata": {},
   "source": [
    "## 1. CRC data Feature Extraction using H-optimus\n",
    "1. Downloading H-optimus weights + Creating Model\n",
    "2. The function `get_encoder` performs the commands above, downloading in the checkpoint in the `./assets/ckpts/` relative path of this GitHub repository.\n"
   ]
  },
  {
   "cell_type": "code",
   "execution_count": null,
   "metadata": {},
   "outputs": [],
   "source": [
    "import torch\n",
    "import timm\n",
    "from PIL import Image\n",
    "from torchvision import transforms\n",
    "from huggingface_hub import login\n",
    "from typing import List, Union\n",
    "\n",
    "\n",
    "import torch\n",
    "import timm\n",
    "from torchvision import transforms\n",
    "from typing import List\n",
    "from PIL import Image\n",
    "from tqdm import tqdm\n",
    "from huggingface_hub import login\n",
    "\n",
    "\n",
    "class HOptimusExtractor:\n",
    "    def __init__(self, device: str = 'cuda'):\n",
    "        # Hugging Face login\n",
    "        login()\n",
    "\n",
    "        self.device = torch.device(device if torch.cuda.is_available() else 'cpu')\n",
    "\n",
    "        # Load model once\n",
    "        self.model = timm.create_model(\n",
    "            \"hf-hub:bioptimus/H-optimus-1\",\n",
    "            pretrained=True,\n",
    "            init_values=1e-5,\n",
    "            dynamic_img_size=False\n",
    "        ).to(self.device).eval()\n",
    "\n",
    "        # Fixed transform\n",
    "        self.transform = transforms.Compose([\n",
    "            transforms.Resize((224, 224)),\n",
    "            transforms.ToTensor(),\n",
    "            transforms.Normalize(\n",
    "                mean=(0.707223, 0.578729, 0.703617),\n",
    "                std=(0.211883, 0.230117, 0.177517)\n",
    "            )\n",
    "        ])\n",
    "\n",
    "\n",
    "\n",
    "    def extract_features_from_paths(\n",
    "            self,\n",
    "            paths: List[str],\n",
    "            batch_size: int = 256\n",
    "        ) -> torch.Tensor:\n",
    "        \"\"\"\n",
    "        Extract features for many image paths efficiently.\n",
    "        Supports .tif/.tiff via PIL.\n",
    "        Returns stacked tensor (N, feature_dim) on CPU.\n",
    "        \"\"\"\n",
    "        all_feats = []\n",
    "        device = self.device\n",
    "        use_autocast = (device.type == \"cuda\")\n",
    "    \n",
    "        with torch.inference_mode():\n",
    "            for start in tqdm(range(0, len(paths), batch_size), desc=\"🔍 Extracting\", unit=\"batch\"):\n",
    "                batch_start_time = time.time()\n",
    "    \n",
    "                batch_paths = paths[start:start + batch_size]\n",
    "    \n",
    "                # Image loading & transformation\n",
    "                imgs = [self.transform(Image.open(p).convert(\"RGB\")) for p in batch_paths]\n",
    "    \n",
    "                # Tensor stacking & transfer\n",
    "                batch_tensor = torch.stack(imgs, dim=0).to(device, non_blocking=True)\n",
    "    \n",
    "                # Model forward pass\n",
    "                if use_autocast:\n",
    "                    with torch.autocast(device_type=\"cuda\", dtype=torch.float16):\n",
    "                        feats = self.model(batch_tensor)\n",
    "                else:\n",
    "                    feats = self.model(batch_tensor)\n",
    "    \n",
    "                all_feats.append(feats.cpu())\n",
    "    \n",
    "                # Batch total time\n",
    "                batch_total_time = time.time() - batch_start_time\n",
    "    \n",
    "                print(\n",
    "                    f\"Total {batch_total_time:.2f}s\"\n",
    "                )\n",
    "    \n",
    "        return torch.cat(all_feats, dim=0)\n",
    "    \n"
   ]
  },
  {
   "cell_type": "code",
   "execution_count": 8,
   "metadata": {},
   "outputs": [],
   "source": [
    "def extract_patch_features_hoptimus(extractor, dataloader):\n",
    "    all_embeddings, all_labels = [], []\n",
    "\n",
    "    all_paths = [path for path, _ in dataloader.dataset.samples]\n",
    "    all_targets = [label for _, label in dataloader.dataset.samples]\n",
    "    # return all_paths\n",
    "\n",
    "    features = extractor.extract_features_from_paths(all_paths, batch_size=dataloader.batch_size)\n",
    "    all_embeddings = features\n",
    "    all_labels = np.array(all_targets)\n",
    "\n",
    "    return {\n",
    "        \"embeddings\": all_embeddings.cpu().numpy().astype(np.float32),\n",
    "        \"labels\": all_labels\n",
    "    }"
   ]
  },
  {
   "cell_type": "code",
   "execution_count": 9,
   "metadata": {
    "scrolled": true
   },
   "outputs": [
    {
     "name": "stdout",
     "output_type": "stream",
     "text": [
      "The token has not been saved to the git credentials helper. Pass `add_to_git_credential=True` in this function directly or `--add-to-git-credential` if using via `huggingface-cli` if you want to set the git credential as well.\n",
      "Token is valid (permission: fineGrained).\n",
      "Your token has been saved to C:\\Users\\datainsight\\.cache\\huggingface\\token\n",
      "Login successful\n"
     ]
    },
    {
     "name": "stderr",
     "output_type": "stream",
     "text": [
      "🔍 Extracting:   0%|                                                                        | 0/391 [00:00<?, ?batch/s]C:\\Users\\datainsight\\anaconda3\\envs\\exaonepath\\lib\\site-packages\\timm\\layers\\attention.py:80: UserWarning: 1Torch was not compiled with flash attention. (Triggered internally at C:\\cb\\pytorch_1000000000000\\work\\aten\\src\\ATen\\native\\transformers\\cuda\\sdp_utils.cpp:263.)\n",
      "  x = F.scaled_dot_product_attention(\n",
      "🔍 Extracting:   0%|▏                                                               | 1/391 [00:03<25:05,  3.86s/batch]"
     ]
    },
    {
     "name": "stdout",
     "output_type": "stream",
     "text": [
      "Total 3.86s\n"
     ]
    },
    {
     "name": "stderr",
     "output_type": "stream",
     "text": [
      "🔍 Extracting:   1%|▎                                                               | 2/391 [00:07<23:43,  3.66s/batch]"
     ]
    },
    {
     "name": "stdout",
     "output_type": "stream",
     "text": [
      "Total 3.52s\n"
     ]
    },
    {
     "name": "stderr",
     "output_type": "stream",
     "text": [
      "🔍 Extracting:   1%|▍                                                               | 3/391 [00:10<23:09,  3.58s/batch]"
     ]
    },
    {
     "name": "stdout",
     "output_type": "stream",
     "text": [
      "Total 3.49s\n"
     ]
    },
    {
     "name": "stderr",
     "output_type": "stream",
     "text": [
      "🔍 Extracting:   1%|▋                                                               | 4/391 [00:14<22:52,  3.55s/batch]"
     ]
    },
    {
     "name": "stdout",
     "output_type": "stream",
     "text": [
      "Total 3.49s\n"
     ]
    },
    {
     "name": "stderr",
     "output_type": "stream",
     "text": [
      "🔍 Extracting:   1%|▊                                                               | 5/391 [00:17<22:20,  3.47s/batch]"
     ]
    },
    {
     "name": "stdout",
     "output_type": "stream",
     "text": [
      "Total 3.34s\n"
     ]
    },
    {
     "name": "stderr",
     "output_type": "stream",
     "text": [
      "🔍 Extracting:   2%|▉                                                               | 6/391 [00:21<22:18,  3.48s/batch]"
     ]
    },
    {
     "name": "stdout",
     "output_type": "stream",
     "text": [
      "Total 3.48s\n"
     ]
    },
    {
     "name": "stderr",
     "output_type": "stream",
     "text": [
      "🔍 Extracting:   2%|█▏                                                              | 7/391 [00:24<22:02,  3.44s/batch]"
     ]
    },
    {
     "name": "stdout",
     "output_type": "stream",
     "text": [
      "Total 3.37s\n"
     ]
    },
    {
     "name": "stderr",
     "output_type": "stream",
     "text": [
      "🔍 Extracting:   2%|█▎                                                              | 8/391 [00:33<33:48,  5.30s/batch]"
     ]
    },
    {
     "name": "stdout",
     "output_type": "stream",
     "text": [
      "Total 9.27s\n"
     ]
    },
    {
     "name": "stderr",
     "output_type": "stream",
     "text": [
      "🔍 Extracting:   2%|█▍                                                              | 9/391 [00:40<36:11,  5.69s/batch]"
     ]
    },
    {
     "name": "stdout",
     "output_type": "stream",
     "text": [
      "Total 6.54s\n"
     ]
    },
    {
     "name": "stderr",
     "output_type": "stream",
     "text": [
      "🔍 Extracting:   3%|█▌                                                             | 10/391 [00:43<31:24,  4.95s/batch]"
     ]
    },
    {
     "name": "stdout",
     "output_type": "stream",
     "text": [
      "Total 3.29s\n"
     ]
    },
    {
     "name": "stderr",
     "output_type": "stream",
     "text": [
      "🔍 Extracting:   3%|█▊                                                             | 11/391 [00:47<28:36,  4.52s/batch]"
     ]
    },
    {
     "name": "stdout",
     "output_type": "stream",
     "text": [
      "Total 3.55s\n"
     ]
    },
    {
     "name": "stderr",
     "output_type": "stream",
     "text": [
      "🔍 Extracting:   3%|█▉                                                             | 12/391 [00:50<26:24,  4.18s/batch]"
     ]
    },
    {
     "name": "stdout",
     "output_type": "stream",
     "text": [
      "Total 3.41s\n"
     ]
    },
    {
     "name": "stderr",
     "output_type": "stream",
     "text": [
      "🔍 Extracting:   3%|██                                                             | 13/391 [00:54<24:58,  3.96s/batch]"
     ]
    },
    {
     "name": "stdout",
     "output_type": "stream",
     "text": [
      "Total 3.46s\n"
     ]
    },
    {
     "name": "stderr",
     "output_type": "stream",
     "text": [
      "🔍 Extracting:   4%|██▎                                                            | 14/391 [00:57<23:52,  3.80s/batch]"
     ]
    },
    {
     "name": "stdout",
     "output_type": "stream",
     "text": [
      "Total 3.42s\n"
     ]
    },
    {
     "name": "stderr",
     "output_type": "stream",
     "text": [
      "🔍 Extracting:   4%|██▍                                                            | 15/391 [01:00<23:13,  3.71s/batch]"
     ]
    },
    {
     "name": "stdout",
     "output_type": "stream",
     "text": [
      "Total 3.48s\n"
     ]
    },
    {
     "name": "stderr",
     "output_type": "stream",
     "text": [
      "🔍 Extracting:   4%|██▌                                                            | 16/391 [01:04<22:35,  3.61s/batch]"
     ]
    },
    {
     "name": "stdout",
     "output_type": "stream",
     "text": [
      "Total 3.40s\n"
     ]
    },
    {
     "name": "stderr",
     "output_type": "stream",
     "text": [
      "🔍 Extracting:   4%|██▋                                                            | 17/391 [01:07<22:17,  3.58s/batch]"
     ]
    },
    {
     "name": "stdout",
     "output_type": "stream",
     "text": [
      "Total 3.49s\n"
     ]
    },
    {
     "name": "stderr",
     "output_type": "stream",
     "text": [
      "🔍 Extracting:   5%|██▉                                                            | 18/391 [01:11<21:52,  3.52s/batch]"
     ]
    },
    {
     "name": "stdout",
     "output_type": "stream",
     "text": [
      "Total 3.39s\n"
     ]
    },
    {
     "name": "stderr",
     "output_type": "stream",
     "text": [
      "🔍 Extracting:   5%|███                                                            | 19/391 [01:14<21:45,  3.51s/batch]"
     ]
    },
    {
     "name": "stdout",
     "output_type": "stream",
     "text": [
      "Total 3.48s\n"
     ]
    },
    {
     "name": "stderr",
     "output_type": "stream",
     "text": [
      "🔍 Extracting:   5%|███▏                                                           | 20/391 [01:18<21:46,  3.52s/batch]"
     ]
    },
    {
     "name": "stdout",
     "output_type": "stream",
     "text": [
      "Total 3.55s\n"
     ]
    },
    {
     "name": "stderr",
     "output_type": "stream",
     "text": [
      "🔍 Extracting:   5%|███▍                                                           | 21/391 [01:21<21:42,  3.52s/batch]"
     ]
    },
    {
     "name": "stdout",
     "output_type": "stream",
     "text": [
      "Total 3.52s\n"
     ]
    },
    {
     "name": "stderr",
     "output_type": "stream",
     "text": [
      "🔍 Extracting:   6%|███▌                                                           | 22/391 [01:25<21:52,  3.56s/batch]"
     ]
    },
    {
     "name": "stdout",
     "output_type": "stream",
     "text": [
      "Total 3.65s\n"
     ]
    },
    {
     "name": "stderr",
     "output_type": "stream",
     "text": [
      "🔍 Extracting:   6%|███▋                                                           | 23/391 [01:28<21:40,  3.53s/batch]"
     ]
    },
    {
     "name": "stdout",
     "output_type": "stream",
     "text": [
      "Total 3.48s\n"
     ]
    },
    {
     "name": "stderr",
     "output_type": "stream",
     "text": [
      "🔍 Extracting:   6%|███▊                                                           | 24/391 [01:32<21:46,  3.56s/batch]"
     ]
    },
    {
     "name": "stdout",
     "output_type": "stream",
     "text": [
      "Total 3.61s\n"
     ]
    },
    {
     "name": "stderr",
     "output_type": "stream",
     "text": [
      "🔍 Extracting:   6%|████                                                           | 25/391 [01:36<21:32,  3.53s/batch]"
     ]
    },
    {
     "name": "stdout",
     "output_type": "stream",
     "text": [
      "Total 3.46s\n"
     ]
    },
    {
     "name": "stderr",
     "output_type": "stream",
     "text": [
      "🔍 Extracting:   7%|████▏                                                          | 26/391 [01:39<21:26,  3.53s/batch]"
     ]
    },
    {
     "name": "stdout",
     "output_type": "stream",
     "text": [
      "Total 3.51s\n"
     ]
    },
    {
     "name": "stderr",
     "output_type": "stream",
     "text": [
      "🔍 Extracting:   7%|████▎                                                          | 27/391 [01:42<21:09,  3.49s/batch]"
     ]
    },
    {
     "name": "stdout",
     "output_type": "stream",
     "text": [
      "Total 3.40s\n"
     ]
    },
    {
     "name": "stderr",
     "output_type": "stream",
     "text": [
      "🔍 Extracting:   7%|████▌                                                          | 28/391 [01:46<21:06,  3.49s/batch]"
     ]
    },
    {
     "name": "stdout",
     "output_type": "stream",
     "text": [
      "Total 3.49s\n"
     ]
    },
    {
     "name": "stderr",
     "output_type": "stream",
     "text": [
      "🔍 Extracting:   7%|████▋                                                          | 29/391 [01:49<21:02,  3.49s/batch]"
     ]
    },
    {
     "name": "stdout",
     "output_type": "stream",
     "text": [
      "Total 3.49s\n"
     ]
    },
    {
     "name": "stderr",
     "output_type": "stream",
     "text": [
      "🔍 Extracting:   8%|████▊                                                          | 30/391 [01:53<21:05,  3.51s/batch]"
     ]
    },
    {
     "name": "stdout",
     "output_type": "stream",
     "text": [
      "Total 3.55s\n"
     ]
    },
    {
     "name": "stderr",
     "output_type": "stream",
     "text": [
      "🔍 Extracting:   8%|████▉                                                          | 31/391 [01:56<20:58,  3.49s/batch]"
     ]
    },
    {
     "name": "stdout",
     "output_type": "stream",
     "text": [
      "Total 3.47s\n"
     ]
    },
    {
     "name": "stderr",
     "output_type": "stream",
     "text": [
      "🔍 Extracting:   8%|█████▏                                                         | 32/391 [02:00<20:55,  3.50s/batch]"
     ]
    },
    {
     "name": "stdout",
     "output_type": "stream",
     "text": [
      "Total 3.50s\n"
     ]
    },
    {
     "name": "stderr",
     "output_type": "stream",
     "text": [
      "🔍 Extracting:   8%|█████▎                                                         | 33/391 [02:03<20:51,  3.50s/batch]"
     ]
    },
    {
     "name": "stdout",
     "output_type": "stream",
     "text": [
      "Total 3.49s\n"
     ]
    },
    {
     "name": "stderr",
     "output_type": "stream",
     "text": [
      "🔍 Extracting:   9%|█████▍                                                         | 34/391 [02:07<20:43,  3.48s/batch]"
     ]
    },
    {
     "name": "stdout",
     "output_type": "stream",
     "text": [
      "Total 3.45s\n"
     ]
    },
    {
     "name": "stderr",
     "output_type": "stream",
     "text": [
      "🔍 Extracting:   9%|█████▋                                                         | 35/391 [02:10<20:38,  3.48s/batch]"
     ]
    },
    {
     "name": "stdout",
     "output_type": "stream",
     "text": [
      "Total 3.47s\n"
     ]
    },
    {
     "name": "stderr",
     "output_type": "stream",
     "text": [
      "🔍 Extracting:   9%|█████▊                                                         | 36/391 [02:14<20:37,  3.48s/batch]"
     ]
    },
    {
     "name": "stdout",
     "output_type": "stream",
     "text": [
      "Total 3.50s\n"
     ]
    },
    {
     "name": "stderr",
     "output_type": "stream",
     "text": [
      "🔍 Extracting:   9%|█████▉                                                         | 37/391 [02:17<20:36,  3.49s/batch]"
     ]
    },
    {
     "name": "stdout",
     "output_type": "stream",
     "text": [
      "Total 3.51s\n"
     ]
    },
    {
     "name": "stderr",
     "output_type": "stream",
     "text": [
      "🔍 Extracting:  10%|██████                                                         | 38/391 [02:21<20:24,  3.47s/batch]"
     ]
    },
    {
     "name": "stdout",
     "output_type": "stream",
     "text": [
      "Total 3.41s\n"
     ]
    },
    {
     "name": "stderr",
     "output_type": "stream",
     "text": [
      "🔍 Extracting:  10%|██████▎                                                        | 39/391 [02:24<20:14,  3.45s/batch]"
     ]
    },
    {
     "name": "stdout",
     "output_type": "stream",
     "text": [
      "Total 3.41s\n"
     ]
    },
    {
     "name": "stderr",
     "output_type": "stream",
     "text": [
      "🔍 Extracting:  10%|██████▍                                                        | 40/391 [02:28<20:07,  3.44s/batch]"
     ]
    },
    {
     "name": "stdout",
     "output_type": "stream",
     "text": [
      "Total 3.42s\n"
     ]
    },
    {
     "name": "stderr",
     "output_type": "stream",
     "text": [
      "🔍 Extracting:  10%|██████▌                                                        | 41/391 [02:31<20:11,  3.46s/batch]"
     ]
    },
    {
     "name": "stdout",
     "output_type": "stream",
     "text": [
      "Total 3.51s\n"
     ]
    },
    {
     "name": "stderr",
     "output_type": "stream",
     "text": [
      "🔍 Extracting:  11%|██████▊                                                        | 42/391 [02:35<20:08,  3.46s/batch]"
     ]
    },
    {
     "name": "stdout",
     "output_type": "stream",
     "text": [
      "Total 3.46s\n"
     ]
    },
    {
     "name": "stderr",
     "output_type": "stream",
     "text": [
      "🔍 Extracting:  11%|██████▉                                                        | 43/391 [02:38<20:11,  3.48s/batch]"
     ]
    },
    {
     "name": "stdout",
     "output_type": "stream",
     "text": [
      "Total 3.52s\n"
     ]
    },
    {
     "name": "stderr",
     "output_type": "stream",
     "text": [
      "🔍 Extracting:  11%|███████                                                        | 44/391 [02:41<19:58,  3.45s/batch]"
     ]
    },
    {
     "name": "stdout",
     "output_type": "stream",
     "text": [
      "Total 3.39s\n"
     ]
    },
    {
     "name": "stderr",
     "output_type": "stream",
     "text": [
      "🔍 Extracting:  12%|███████▎                                                       | 45/391 [02:45<20:12,  3.50s/batch]"
     ]
    },
    {
     "name": "stdout",
     "output_type": "stream",
     "text": [
      "Total 3.62s\n"
     ]
    },
    {
     "name": "stderr",
     "output_type": "stream",
     "text": [
      "🔍 Extracting:  12%|███████▍                                                       | 46/391 [02:49<19:57,  3.47s/batch]"
     ]
    },
    {
     "name": "stdout",
     "output_type": "stream",
     "text": [
      "Total 3.39s\n"
     ]
    },
    {
     "name": "stderr",
     "output_type": "stream",
     "text": [
      "🔍 Extracting:  12%|███████▌                                                       | 47/391 [02:52<20:01,  3.49s/batch]"
     ]
    },
    {
     "name": "stdout",
     "output_type": "stream",
     "text": [
      "Total 3.54s\n"
     ]
    },
    {
     "name": "stderr",
     "output_type": "stream",
     "text": [
      "🔍 Extracting:  12%|███████▋                                                       | 48/391 [02:56<19:55,  3.48s/batch]"
     ]
    },
    {
     "name": "stdout",
     "output_type": "stream",
     "text": [
      "Total 3.47s\n"
     ]
    },
    {
     "name": "stderr",
     "output_type": "stream",
     "text": [
      "🔍 Extracting:  13%|███████▉                                                       | 49/391 [02:59<19:44,  3.46s/batch]"
     ]
    },
    {
     "name": "stdout",
     "output_type": "stream",
     "text": [
      "Total 3.42s\n"
     ]
    },
    {
     "name": "stderr",
     "output_type": "stream",
     "text": [
      "🔍 Extracting:  13%|████████                                                       | 50/391 [03:02<19:51,  3.49s/batch]"
     ]
    },
    {
     "name": "stdout",
     "output_type": "stream",
     "text": [
      "Total 3.56s\n"
     ]
    },
    {
     "name": "stderr",
     "output_type": "stream",
     "text": [
      "🔍 Extracting:  13%|████████▏                                                      | 51/391 [03:06<19:40,  3.47s/batch]"
     ]
    },
    {
     "name": "stdout",
     "output_type": "stream",
     "text": [
      "Total 3.42s\n"
     ]
    },
    {
     "name": "stderr",
     "output_type": "stream",
     "text": [
      "🔍 Extracting:  13%|████████▍                                                      | 52/391 [03:09<19:40,  3.48s/batch]"
     ]
    },
    {
     "name": "stdout",
     "output_type": "stream",
     "text": [
      "Total 3.51s\n"
     ]
    },
    {
     "name": "stderr",
     "output_type": "stream",
     "text": [
      "🔍 Extracting:  14%|████████▌                                                      | 53/391 [03:13<19:36,  3.48s/batch]"
     ]
    },
    {
     "name": "stdout",
     "output_type": "stream",
     "text": [
      "Total 3.48s\n"
     ]
    },
    {
     "name": "stderr",
     "output_type": "stream",
     "text": [
      "🔍 Extracting:  14%|████████▋                                                      | 54/391 [03:16<19:32,  3.48s/batch]"
     ]
    },
    {
     "name": "stdout",
     "output_type": "stream",
     "text": [
      "Total 3.47s\n"
     ]
    },
    {
     "name": "stderr",
     "output_type": "stream",
     "text": [
      "🔍 Extracting:  14%|████████▊                                                      | 55/391 [03:20<19:25,  3.47s/batch]"
     ]
    },
    {
     "name": "stdout",
     "output_type": "stream",
     "text": [
      "Total 3.44s\n"
     ]
    },
    {
     "name": "stderr",
     "output_type": "stream",
     "text": [
      "🔍 Extracting:  14%|█████████                                                      | 56/391 [03:23<19:29,  3.49s/batch]"
     ]
    },
    {
     "name": "stdout",
     "output_type": "stream",
     "text": [
      "Total 3.54s\n"
     ]
    },
    {
     "name": "stderr",
     "output_type": "stream",
     "text": [
      "🔍 Extracting:  15%|█████████▏                                                     | 57/391 [03:27<19:20,  3.48s/batch]"
     ]
    },
    {
     "name": "stdout",
     "output_type": "stream",
     "text": [
      "Total 3.44s\n"
     ]
    },
    {
     "name": "stderr",
     "output_type": "stream",
     "text": [
      "🔍 Extracting:  15%|█████████▎                                                     | 58/391 [03:30<19:18,  3.48s/batch]"
     ]
    },
    {
     "name": "stdout",
     "output_type": "stream",
     "text": [
      "Total 3.49s\n"
     ]
    },
    {
     "name": "stderr",
     "output_type": "stream",
     "text": [
      "🔍 Extracting:  15%|█████████▌                                                     | 59/391 [03:34<19:11,  3.47s/batch]"
     ]
    },
    {
     "name": "stdout",
     "output_type": "stream",
     "text": [
      "Total 3.44s\n"
     ]
    },
    {
     "name": "stderr",
     "output_type": "stream",
     "text": [
      "🔍 Extracting:  15%|█████████▋                                                     | 60/391 [03:37<19:09,  3.47s/batch]"
     ]
    },
    {
     "name": "stdout",
     "output_type": "stream",
     "text": [
      "Total 3.48s\n"
     ]
    },
    {
     "name": "stderr",
     "output_type": "stream",
     "text": [
      "🔍 Extracting:  16%|█████████▊                                                     | 61/391 [03:41<19:08,  3.48s/batch]"
     ]
    },
    {
     "name": "stdout",
     "output_type": "stream",
     "text": [
      "Total 3.49s\n"
     ]
    },
    {
     "name": "stderr",
     "output_type": "stream",
     "text": [
      "🔍 Extracting:  16%|█████████▉                                                     | 62/391 [03:44<19:02,  3.47s/batch]"
     ]
    },
    {
     "name": "stdout",
     "output_type": "stream",
     "text": [
      "Total 3.46s\n"
     ]
    },
    {
     "name": "stderr",
     "output_type": "stream",
     "text": [
      "🔍 Extracting:  16%|██████████▏                                                    | 63/391 [03:48<18:47,  3.44s/batch]"
     ]
    },
    {
     "name": "stdout",
     "output_type": "stream",
     "text": [
      "Total 3.35s\n"
     ]
    },
    {
     "name": "stderr",
     "output_type": "stream",
     "text": [
      "🔍 Extracting:  16%|██████████▎                                                    | 64/391 [03:51<18:37,  3.42s/batch]"
     ]
    },
    {
     "name": "stdout",
     "output_type": "stream",
     "text": [
      "Total 3.38s\n"
     ]
    },
    {
     "name": "stderr",
     "output_type": "stream",
     "text": [
      "🔍 Extracting:  17%|██████████▍                                                    | 65/391 [03:54<18:36,  3.43s/batch]"
     ]
    },
    {
     "name": "stdout",
     "output_type": "stream",
     "text": [
      "Total 3.44s\n"
     ]
    },
    {
     "name": "stderr",
     "output_type": "stream",
     "text": [
      "🔍 Extracting:  17%|██████████▋                                                    | 66/391 [03:58<18:42,  3.45s/batch]"
     ]
    },
    {
     "name": "stdout",
     "output_type": "stream",
     "text": [
      "Total 3.52s\n"
     ]
    },
    {
     "name": "stderr",
     "output_type": "stream",
     "text": [
      "🔍 Extracting:  17%|██████████▊                                                    | 67/391 [04:01<18:39,  3.45s/batch]"
     ]
    },
    {
     "name": "stdout",
     "output_type": "stream",
     "text": [
      "Total 3.46s\n"
     ]
    },
    {
     "name": "stderr",
     "output_type": "stream",
     "text": [
      "🔍 Extracting:  17%|██████████▉                                                    | 68/391 [04:05<18:34,  3.45s/batch]"
     ]
    },
    {
     "name": "stdout",
     "output_type": "stream",
     "text": [
      "Total 3.44s\n"
     ]
    },
    {
     "name": "stderr",
     "output_type": "stream",
     "text": [
      "🔍 Extracting:  18%|███████████                                                    | 69/391 [04:08<18:32,  3.45s/batch]"
     ]
    },
    {
     "name": "stdout",
     "output_type": "stream",
     "text": [
      "Total 3.46s\n"
     ]
    },
    {
     "name": "stderr",
     "output_type": "stream",
     "text": [
      "🔍 Extracting:  18%|███████████▎                                                   | 70/391 [04:12<18:34,  3.47s/batch]"
     ]
    },
    {
     "name": "stdout",
     "output_type": "stream",
     "text": [
      "Total 3.51s\n"
     ]
    },
    {
     "name": "stderr",
     "output_type": "stream",
     "text": [
      "🔍 Extracting:  18%|███████████▍                                                   | 71/391 [04:15<18:27,  3.46s/batch]"
     ]
    },
    {
     "name": "stdout",
     "output_type": "stream",
     "text": [
      "Total 3.44s\n"
     ]
    },
    {
     "name": "stderr",
     "output_type": "stream",
     "text": [
      "🔍 Extracting:  18%|███████████▌                                                   | 72/391 [04:19<18:30,  3.48s/batch]"
     ]
    },
    {
     "name": "stdout",
     "output_type": "stream",
     "text": [
      "Total 3.53s\n"
     ]
    },
    {
     "name": "stderr",
     "output_type": "stream",
     "text": [
      "🔍 Extracting:  19%|███████████▊                                                   | 73/391 [04:22<18:14,  3.44s/batch]"
     ]
    },
    {
     "name": "stdout",
     "output_type": "stream",
     "text": [
      "Total 3.35s\n"
     ]
    },
    {
     "name": "stderr",
     "output_type": "stream",
     "text": [
      "🔍 Extracting:  19%|███████████▉                                                   | 74/391 [04:26<18:19,  3.47s/batch]"
     ]
    },
    {
     "name": "stdout",
     "output_type": "stream",
     "text": [
      "Total 3.53s\n"
     ]
    },
    {
     "name": "stderr",
     "output_type": "stream",
     "text": [
      "🔍 Extracting:  19%|████████████                                                   | 75/391 [04:29<18:10,  3.45s/batch]"
     ]
    },
    {
     "name": "stdout",
     "output_type": "stream",
     "text": [
      "Total 3.41s\n"
     ]
    },
    {
     "name": "stderr",
     "output_type": "stream",
     "text": [
      "🔍 Extracting:  19%|████████████▏                                                  | 76/391 [04:33<18:17,  3.48s/batch]"
     ]
    },
    {
     "name": "stdout",
     "output_type": "stream",
     "text": [
      "Total 3.56s\n"
     ]
    },
    {
     "name": "stderr",
     "output_type": "stream",
     "text": [
      "🔍 Extracting:  20%|████████████▍                                                  | 77/391 [04:36<18:10,  3.47s/batch]"
     ]
    },
    {
     "name": "stdout",
     "output_type": "stream",
     "text": [
      "Total 3.45s\n"
     ]
    },
    {
     "name": "stderr",
     "output_type": "stream",
     "text": [
      "🔍 Extracting:  20%|████████████▌                                                  | 78/391 [04:39<18:08,  3.48s/batch]"
     ]
    },
    {
     "name": "stdout",
     "output_type": "stream",
     "text": [
      "Total 3.48s\n"
     ]
    },
    {
     "name": "stderr",
     "output_type": "stream",
     "text": [
      "🔍 Extracting:  20%|████████████▋                                                  | 79/391 [04:43<17:53,  3.44s/batch]"
     ]
    },
    {
     "name": "stdout",
     "output_type": "stream",
     "text": [
      "Total 3.36s\n"
     ]
    },
    {
     "name": "stderr",
     "output_type": "stream",
     "text": [
      "🔍 Extracting:  20%|████████████▉                                                  | 80/391 [04:46<17:55,  3.46s/batch]"
     ]
    },
    {
     "name": "stdout",
     "output_type": "stream",
     "text": [
      "Total 3.50s\n"
     ]
    },
    {
     "name": "stderr",
     "output_type": "stream",
     "text": [
      "🔍 Extracting:  21%|█████████████                                                  | 81/391 [04:50<17:45,  3.44s/batch]"
     ]
    },
    {
     "name": "stdout",
     "output_type": "stream",
     "text": [
      "Total 3.38s\n"
     ]
    },
    {
     "name": "stderr",
     "output_type": "stream",
     "text": [
      "🔍 Extracting:  21%|█████████████▏                                                 | 82/391 [04:53<17:43,  3.44s/batch]"
     ]
    },
    {
     "name": "stdout",
     "output_type": "stream",
     "text": [
      "Total 3.45s\n"
     ]
    },
    {
     "name": "stderr",
     "output_type": "stream",
     "text": [
      "🔍 Extracting:  21%|█████████████▎                                                 | 83/391 [04:57<17:42,  3.45s/batch]"
     ]
    },
    {
     "name": "stdout",
     "output_type": "stream",
     "text": [
      "Total 3.47s\n"
     ]
    },
    {
     "name": "stderr",
     "output_type": "stream",
     "text": [
      "🔍 Extracting:  21%|█████████████▌                                                 | 84/391 [05:00<17:36,  3.44s/batch]"
     ]
    },
    {
     "name": "stdout",
     "output_type": "stream",
     "text": [
      "Total 3.42s\n"
     ]
    },
    {
     "name": "stderr",
     "output_type": "stream",
     "text": [
      "🔍 Extracting:  22%|█████████████▋                                                 | 85/391 [05:04<17:40,  3.47s/batch]"
     ]
    },
    {
     "name": "stdout",
     "output_type": "stream",
     "text": [
      "Total 3.52s\n"
     ]
    },
    {
     "name": "stderr",
     "output_type": "stream",
     "text": [
      "🔍 Extracting:  22%|█████████████▊                                                 | 86/391 [05:07<17:29,  3.44s/batch]"
     ]
    },
    {
     "name": "stdout",
     "output_type": "stream",
     "text": [
      "Total 3.38s\n"
     ]
    },
    {
     "name": "stderr",
     "output_type": "stream",
     "text": [
      "🔍 Extracting:  22%|██████████████                                                 | 87/391 [05:11<17:34,  3.47s/batch]"
     ]
    },
    {
     "name": "stdout",
     "output_type": "stream",
     "text": [
      "Total 3.53s\n"
     ]
    },
    {
     "name": "stderr",
     "output_type": "stream",
     "text": [
      "🔍 Extracting:  23%|██████████████▏                                                | 88/391 [05:14<17:26,  3.45s/batch]"
     ]
    },
    {
     "name": "stdout",
     "output_type": "stream",
     "text": [
      "Total 3.41s\n"
     ]
    },
    {
     "name": "stderr",
     "output_type": "stream",
     "text": [
      "🔍 Extracting:  23%|██████████████▎                                                | 89/391 [05:17<17:20,  3.44s/batch]"
     ]
    },
    {
     "name": "stdout",
     "output_type": "stream",
     "text": [
      "Total 3.42s\n"
     ]
    },
    {
     "name": "stderr",
     "output_type": "stream",
     "text": [
      "🔍 Extracting:  23%|██████████████▌                                                | 90/391 [05:21<17:12,  3.43s/batch]"
     ]
    },
    {
     "name": "stdout",
     "output_type": "stream",
     "text": [
      "Total 3.39s\n"
     ]
    },
    {
     "name": "stderr",
     "output_type": "stream",
     "text": [
      "🔍 Extracting:  23%|██████████████▋                                                | 91/391 [05:24<17:07,  3.43s/batch]"
     ]
    },
    {
     "name": "stdout",
     "output_type": "stream",
     "text": [
      "Total 3.42s\n"
     ]
    },
    {
     "name": "stderr",
     "output_type": "stream",
     "text": [
      "🔍 Extracting:  24%|██████████████▊                                                | 92/391 [05:28<17:09,  3.44s/batch]"
     ]
    },
    {
     "name": "stdout",
     "output_type": "stream",
     "text": [
      "Total 3.48s\n"
     ]
    },
    {
     "name": "stderr",
     "output_type": "stream",
     "text": [
      "🔍 Extracting:  24%|██████████████▉                                                | 93/391 [05:31<17:02,  3.43s/batch]"
     ]
    },
    {
     "name": "stdout",
     "output_type": "stream",
     "text": [
      "Total 3.40s\n"
     ]
    },
    {
     "name": "stderr",
     "output_type": "stream",
     "text": [
      "🔍 Extracting:  24%|███████████████▏                                               | 94/391 [05:34<17:00,  3.44s/batch]"
     ]
    },
    {
     "name": "stdout",
     "output_type": "stream",
     "text": [
      "Total 3.45s\n"
     ]
    },
    {
     "name": "stderr",
     "output_type": "stream",
     "text": [
      "🔍 Extracting:  24%|███████████████▎                                               | 95/391 [05:38<16:48,  3.41s/batch]"
     ]
    },
    {
     "name": "stdout",
     "output_type": "stream",
     "text": [
      "Total 3.34s\n"
     ]
    },
    {
     "name": "stderr",
     "output_type": "stream",
     "text": [
      "🔍 Extracting:  25%|███████████████▍                                               | 96/391 [05:41<16:54,  3.44s/batch]"
     ]
    },
    {
     "name": "stdout",
     "output_type": "stream",
     "text": [
      "Total 3.51s\n"
     ]
    },
    {
     "name": "stderr",
     "output_type": "stream",
     "text": [
      "🔍 Extracting:  25%|███████████████▋                                               | 97/391 [05:45<16:46,  3.42s/batch]"
     ]
    },
    {
     "name": "stdout",
     "output_type": "stream",
     "text": [
      "Total 3.38s\n"
     ]
    },
    {
     "name": "stderr",
     "output_type": "stream",
     "text": [
      "🔍 Extracting:  25%|███████████████▊                                               | 98/391 [05:48<16:53,  3.46s/batch]"
     ]
    },
    {
     "name": "stdout",
     "output_type": "stream",
     "text": [
      "Total 3.54s\n"
     ]
    },
    {
     "name": "stderr",
     "output_type": "stream",
     "text": [
      "🔍 Extracting:  25%|███████████████▉                                               | 99/391 [05:52<16:49,  3.46s/batch]"
     ]
    },
    {
     "name": "stdout",
     "output_type": "stream",
     "text": [
      "Total 3.45s\n"
     ]
    },
    {
     "name": "stderr",
     "output_type": "stream",
     "text": [
      "🔍 Extracting:  26%|███████████████▊                                              | 100/391 [05:55<16:37,  3.43s/batch]"
     ]
    },
    {
     "name": "stdout",
     "output_type": "stream",
     "text": [
      "Total 3.36s\n"
     ]
    },
    {
     "name": "stderr",
     "output_type": "stream",
     "text": [
      "🔍 Extracting:  26%|████████████████                                              | 101/391 [05:58<16:29,  3.41s/batch]"
     ]
    },
    {
     "name": "stdout",
     "output_type": "stream",
     "text": [
      "Total 3.37s\n"
     ]
    },
    {
     "name": "stderr",
     "output_type": "stream",
     "text": [
      "🔍 Extracting:  26%|████████████████▏                                             | 102/391 [06:02<16:27,  3.42s/batch]"
     ]
    },
    {
     "name": "stdout",
     "output_type": "stream",
     "text": [
      "Total 3.43s\n"
     ]
    },
    {
     "name": "stderr",
     "output_type": "stream",
     "text": [
      "🔍 Extracting:  26%|████████████████▎                                             | 103/391 [06:05<16:31,  3.44s/batch]"
     ]
    },
    {
     "name": "stdout",
     "output_type": "stream",
     "text": [
      "Total 3.50s\n"
     ]
    },
    {
     "name": "stderr",
     "output_type": "stream",
     "text": [
      "🔍 Extracting:  27%|████████████████▍                                             | 104/391 [06:09<16:23,  3.43s/batch]"
     ]
    },
    {
     "name": "stdout",
     "output_type": "stream",
     "text": [
      "Total 3.39s\n"
     ]
    },
    {
     "name": "stderr",
     "output_type": "stream",
     "text": [
      "🔍 Extracting:  27%|████████████████▋                                             | 105/391 [06:12<16:20,  3.43s/batch]"
     ]
    },
    {
     "name": "stdout",
     "output_type": "stream",
     "text": [
      "Total 3.43s\n"
     ]
    },
    {
     "name": "stderr",
     "output_type": "stream",
     "text": [
      "🔍 Extracting:  27%|████████████████▊                                             | 106/391 [06:16<16:10,  3.40s/batch]"
     ]
    },
    {
     "name": "stdout",
     "output_type": "stream",
     "text": [
      "Total 3.35s\n"
     ]
    },
    {
     "name": "stderr",
     "output_type": "stream",
     "text": [
      "🔍 Extracting:  27%|████████████████▉                                             | 107/391 [06:19<16:07,  3.41s/batch]"
     ]
    },
    {
     "name": "stdout",
     "output_type": "stream",
     "text": [
      "Total 3.42s\n"
     ]
    },
    {
     "name": "stderr",
     "output_type": "stream",
     "text": [
      "🔍 Extracting:  28%|█████████████████▏                                            | 108/391 [06:22<16:10,  3.43s/batch]"
     ]
    },
    {
     "name": "stdout",
     "output_type": "stream",
     "text": [
      "Total 3.47s\n"
     ]
    },
    {
     "name": "stderr",
     "output_type": "stream",
     "text": [
      "🔍 Extracting:  28%|█████████████████▎                                            | 109/391 [06:26<16:00,  3.41s/batch]"
     ]
    },
    {
     "name": "stdout",
     "output_type": "stream",
     "text": [
      "Total 3.36s\n"
     ]
    },
    {
     "name": "stderr",
     "output_type": "stream",
     "text": [
      "🔍 Extracting:  28%|█████████████████▍                                            | 110/391 [06:29<16:01,  3.42s/batch]"
     ]
    },
    {
     "name": "stdout",
     "output_type": "stream",
     "text": [
      "Total 3.46s\n"
     ]
    },
    {
     "name": "stderr",
     "output_type": "stream",
     "text": [
      "🔍 Extracting:  28%|█████████████████▌                                            | 111/391 [06:33<15:58,  3.42s/batch]"
     ]
    },
    {
     "name": "stdout",
     "output_type": "stream",
     "text": [
      "Total 3.43s\n"
     ]
    },
    {
     "name": "stderr",
     "output_type": "stream",
     "text": [
      "🔍 Extracting:  29%|█████████████████▊                                            | 112/391 [06:36<15:50,  3.41s/batch]"
     ]
    },
    {
     "name": "stdout",
     "output_type": "stream",
     "text": [
      "Total 3.37s\n"
     ]
    },
    {
     "name": "stderr",
     "output_type": "stream",
     "text": [
      "🔍 Extracting:  29%|█████████████████▉                                            | 113/391 [06:39<15:47,  3.41s/batch]"
     ]
    },
    {
     "name": "stdout",
     "output_type": "stream",
     "text": [
      "Total 3.40s\n"
     ]
    },
    {
     "name": "stderr",
     "output_type": "stream",
     "text": [
      "🔍 Extracting:  29%|██████████████████                                            | 114/391 [06:43<15:41,  3.40s/batch]"
     ]
    },
    {
     "name": "stdout",
     "output_type": "stream",
     "text": [
      "Total 3.39s\n"
     ]
    },
    {
     "name": "stderr",
     "output_type": "stream",
     "text": [
      "🔍 Extracting:  29%|██████████████████▏                                           | 115/391 [06:46<15:44,  3.42s/batch]"
     ]
    },
    {
     "name": "stdout",
     "output_type": "stream",
     "text": [
      "Total 3.47s\n"
     ]
    },
    {
     "name": "stderr",
     "output_type": "stream",
     "text": [
      "🔍 Extracting:  30%|██████████████████▍                                           | 116/391 [06:50<15:49,  3.45s/batch]"
     ]
    },
    {
     "name": "stdout",
     "output_type": "stream",
     "text": [
      "Total 3.53s\n"
     ]
    },
    {
     "name": "stderr",
     "output_type": "stream",
     "text": [
      "🔍 Extracting:  30%|██████████████████▌                                           | 117/391 [06:53<15:43,  3.44s/batch]"
     ]
    },
    {
     "name": "stdout",
     "output_type": "stream",
     "text": [
      "Total 3.42s\n"
     ]
    },
    {
     "name": "stderr",
     "output_type": "stream",
     "text": [
      "🔍 Extracting:  30%|██████████████████▋                                           | 118/391 [06:57<15:34,  3.42s/batch]"
     ]
    },
    {
     "name": "stdout",
     "output_type": "stream",
     "text": [
      "Total 3.37s\n"
     ]
    },
    {
     "name": "stderr",
     "output_type": "stream",
     "text": [
      "🔍 Extracting:  30%|██████████████████▊                                           | 119/391 [07:00<15:32,  3.43s/batch]"
     ]
    },
    {
     "name": "stdout",
     "output_type": "stream",
     "text": [
      "Total 3.45s\n"
     ]
    },
    {
     "name": "stderr",
     "output_type": "stream",
     "text": [
      "🔍 Extracting:  31%|███████████████████                                           | 120/391 [07:04<15:34,  3.45s/batch]"
     ]
    },
    {
     "name": "stdout",
     "output_type": "stream",
     "text": [
      "Total 3.49s\n"
     ]
    },
    {
     "name": "stderr",
     "output_type": "stream",
     "text": [
      "🔍 Extracting:  31%|███████████████████▏                                          | 121/391 [07:07<15:34,  3.46s/batch]"
     ]
    },
    {
     "name": "stdout",
     "output_type": "stream",
     "text": [
      "Total 3.49s\n"
     ]
    },
    {
     "name": "stderr",
     "output_type": "stream",
     "text": [
      "🔍 Extracting:  31%|███████████████████▎                                          | 122/391 [07:10<15:23,  3.43s/batch]"
     ]
    },
    {
     "name": "stdout",
     "output_type": "stream",
     "text": [
      "Total 3.37s\n"
     ]
    },
    {
     "name": "stderr",
     "output_type": "stream",
     "text": [
      "🔍 Extracting:  31%|███████████████████▌                                          | 123/391 [07:14<15:19,  3.43s/batch]"
     ]
    },
    {
     "name": "stdout",
     "output_type": "stream",
     "text": [
      "Total 3.42s\n"
     ]
    },
    {
     "name": "stderr",
     "output_type": "stream",
     "text": [
      "🔍 Extracting:  32%|███████████████████▋                                          | 124/391 [07:17<15:12,  3.42s/batch]"
     ]
    },
    {
     "name": "stdout",
     "output_type": "stream",
     "text": [
      "Total 3.38s\n"
     ]
    },
    {
     "name": "stderr",
     "output_type": "stream",
     "text": [
      "🔍 Extracting:  32%|███████████████████▊                                          | 125/391 [07:21<15:09,  3.42s/batch]"
     ]
    },
    {
     "name": "stdout",
     "output_type": "stream",
     "text": [
      "Total 3.42s\n"
     ]
    },
    {
     "name": "stderr",
     "output_type": "stream",
     "text": [
      "🔍 Extracting:  32%|███████████████████▉                                          | 126/391 [07:24<14:59,  3.40s/batch]"
     ]
    },
    {
     "name": "stdout",
     "output_type": "stream",
     "text": [
      "Total 3.34s\n"
     ]
    },
    {
     "name": "stderr",
     "output_type": "stream",
     "text": [
      "🔍 Extracting:  32%|████████████████████▏                                         | 127/391 [07:27<14:55,  3.39s/batch]"
     ]
    },
    {
     "name": "stdout",
     "output_type": "stream",
     "text": [
      "Total 3.38s\n"
     ]
    },
    {
     "name": "stderr",
     "output_type": "stream",
     "text": [
      "🔍 Extracting:  33%|████████████████████▎                                         | 128/391 [07:31<14:54,  3.40s/batch]"
     ]
    },
    {
     "name": "stdout",
     "output_type": "stream",
     "text": [
      "Total 3.42s\n"
     ]
    },
    {
     "name": "stderr",
     "output_type": "stream",
     "text": [
      "🔍 Extracting:  33%|████████████████████▍                                         | 129/391 [07:34<14:49,  3.40s/batch]"
     ]
    },
    {
     "name": "stdout",
     "output_type": "stream",
     "text": [
      "Total 3.39s\n"
     ]
    },
    {
     "name": "stderr",
     "output_type": "stream",
     "text": [
      "🔍 Extracting:  33%|████████████████████▌                                         | 130/391 [07:38<14:51,  3.42s/batch]"
     ]
    },
    {
     "name": "stdout",
     "output_type": "stream",
     "text": [
      "Total 3.46s\n"
     ]
    },
    {
     "name": "stderr",
     "output_type": "stream",
     "text": [
      "🔍 Extracting:  34%|████████████████████▊                                         | 131/391 [07:41<14:42,  3.39s/batch]"
     ]
    },
    {
     "name": "stdout",
     "output_type": "stream",
     "text": [
      "Total 3.34s\n"
     ]
    },
    {
     "name": "stderr",
     "output_type": "stream",
     "text": [
      "🔍 Extracting:  34%|████████████████████▉                                         | 132/391 [07:45<14:46,  3.42s/batch]"
     ]
    },
    {
     "name": "stdout",
     "output_type": "stream",
     "text": [
      "Total 3.49s\n"
     ]
    },
    {
     "name": "stderr",
     "output_type": "stream",
     "text": [
      "🔍 Extracting:  34%|█████████████████████                                         | 133/391 [07:48<14:37,  3.40s/batch]"
     ]
    },
    {
     "name": "stdout",
     "output_type": "stream",
     "text": [
      "Total 3.35s\n"
     ]
    },
    {
     "name": "stderr",
     "output_type": "stream",
     "text": [
      "🔍 Extracting:  34%|█████████████████████▏                                        | 134/391 [07:51<14:38,  3.42s/batch]"
     ]
    },
    {
     "name": "stdout",
     "output_type": "stream",
     "text": [
      "Total 3.46s\n"
     ]
    },
    {
     "name": "stderr",
     "output_type": "stream",
     "text": [
      "🔍 Extracting:  35%|█████████████████████▍                                        | 135/391 [07:55<14:28,  3.39s/batch]"
     ]
    },
    {
     "name": "stdout",
     "output_type": "stream",
     "text": [
      "Total 3.32s\n"
     ]
    },
    {
     "name": "stderr",
     "output_type": "stream",
     "text": [
      "🔍 Extracting:  35%|█████████████████████▌                                        | 136/391 [07:58<14:04,  3.31s/batch]"
     ]
    },
    {
     "name": "stdout",
     "output_type": "stream",
     "text": [
      "Total 3.13s\n"
     ]
    },
    {
     "name": "stderr",
     "output_type": "stream",
     "text": [
      "🔍 Extracting:  35%|█████████████████████▋                                        | 137/391 [08:01<13:46,  3.25s/batch]"
     ]
    },
    {
     "name": "stdout",
     "output_type": "stream",
     "text": [
      "Total 3.12s\n"
     ]
    },
    {
     "name": "stderr",
     "output_type": "stream",
     "text": [
      "🔍 Extracting:  35%|█████████████████████▉                                        | 138/391 [08:04<13:45,  3.26s/batch]"
     ]
    },
    {
     "name": "stdout",
     "output_type": "stream",
     "text": [
      "Total 3.28s\n"
     ]
    },
    {
     "name": "stderr",
     "output_type": "stream",
     "text": [
      "🔍 Extracting:  36%|██████████████████████                                        | 139/391 [08:08<13:48,  3.29s/batch]"
     ]
    },
    {
     "name": "stdout",
     "output_type": "stream",
     "text": [
      "Total 3.34s\n"
     ]
    },
    {
     "name": "stderr",
     "output_type": "stream",
     "text": [
      "🔍 Extracting:  36%|██████████████████████▏                                       | 140/391 [08:11<13:40,  3.27s/batch]"
     ]
    },
    {
     "name": "stdout",
     "output_type": "stream",
     "text": [
      "Total 3.23s\n"
     ]
    },
    {
     "name": "stderr",
     "output_type": "stream",
     "text": [
      "🔍 Extracting:  36%|██████████████████████▎                                       | 141/391 [08:14<13:37,  3.27s/batch]"
     ]
    },
    {
     "name": "stdout",
     "output_type": "stream",
     "text": [
      "Total 3.27s\n"
     ]
    },
    {
     "name": "stderr",
     "output_type": "stream",
     "text": [
      "🔍 Extracting:  36%|██████████████████████▌                                       | 142/391 [08:17<13:32,  3.26s/batch]"
     ]
    },
    {
     "name": "stdout",
     "output_type": "stream",
     "text": [
      "Total 3.24s\n"
     ]
    },
    {
     "name": "stderr",
     "output_type": "stream",
     "text": [
      "🔍 Extracting:  37%|██████████████████████▋                                       | 143/391 [08:21<13:29,  3.26s/batch]"
     ]
    },
    {
     "name": "stdout",
     "output_type": "stream",
     "text": [
      "Total 3.26s\n"
     ]
    },
    {
     "name": "stderr",
     "output_type": "stream",
     "text": [
      "🔍 Extracting:  37%|██████████████████████▊                                       | 144/391 [08:24<13:20,  3.24s/batch]"
     ]
    },
    {
     "name": "stdout",
     "output_type": "stream",
     "text": [
      "Total 3.19s\n"
     ]
    },
    {
     "name": "stderr",
     "output_type": "stream",
     "text": [
      "🔍 Extracting:  37%|██████████████████████▉                                       | 145/391 [08:27<13:19,  3.25s/batch]"
     ]
    },
    {
     "name": "stdout",
     "output_type": "stream",
     "text": [
      "Total 3.27s\n"
     ]
    },
    {
     "name": "stderr",
     "output_type": "stream",
     "text": [
      "🔍 Extracting:  37%|███████████████████████▏                                      | 146/391 [08:30<13:14,  3.24s/batch]"
     ]
    },
    {
     "name": "stdout",
     "output_type": "stream",
     "text": [
      "Total 3.23s\n"
     ]
    },
    {
     "name": "stderr",
     "output_type": "stream",
     "text": [
      "🔍 Extracting:  38%|███████████████████████▎                                      | 147/391 [08:34<14:06,  3.47s/batch]"
     ]
    },
    {
     "name": "stdout",
     "output_type": "stream",
     "text": [
      "Total 3.99s\n"
     ]
    },
    {
     "name": "stderr",
     "output_type": "stream",
     "text": [
      "🔍 Extracting:  38%|███████████████████████▍                                      | 148/391 [08:38<14:45,  3.64s/batch]"
     ]
    },
    {
     "name": "stdout",
     "output_type": "stream",
     "text": [
      "Total 4.05s\n"
     ]
    },
    {
     "name": "stderr",
     "output_type": "stream",
     "text": [
      "🔍 Extracting:  38%|███████████████████████▋                                      | 149/391 [08:42<15:03,  3.74s/batch]"
     ]
    },
    {
     "name": "stdout",
     "output_type": "stream",
     "text": [
      "Total 3.95s\n"
     ]
    },
    {
     "name": "stderr",
     "output_type": "stream",
     "text": [
      "🔍 Extracting:  38%|███████████████████████▊                                      | 150/391 [08:46<15:26,  3.84s/batch]"
     ]
    },
    {
     "name": "stdout",
     "output_type": "stream",
     "text": [
      "Total 4.10s\n"
     ]
    },
    {
     "name": "stderr",
     "output_type": "stream",
     "text": [
      "🔍 Extracting:  39%|███████████████████████▉                                      | 151/391 [08:50<15:32,  3.89s/batch]"
     ]
    },
    {
     "name": "stdout",
     "output_type": "stream",
     "text": [
      "Total 3.98s\n"
     ]
    },
    {
     "name": "stderr",
     "output_type": "stream",
     "text": [
      "🔍 Extracting:  39%|████████████████████████                                      | 152/391 [08:54<15:30,  3.90s/batch]"
     ]
    },
    {
     "name": "stdout",
     "output_type": "stream",
     "text": [
      "Total 3.92s\n"
     ]
    },
    {
     "name": "stderr",
     "output_type": "stream",
     "text": [
      "🔍 Extracting:  39%|████████████████████████▎                                     | 153/391 [08:58<15:31,  3.91s/batch]"
     ]
    },
    {
     "name": "stdout",
     "output_type": "stream",
     "text": [
      "Total 3.95s\n"
     ]
    },
    {
     "name": "stderr",
     "output_type": "stream",
     "text": [
      "🔍 Extracting:  39%|████████████████████████▍                                     | 154/391 [09:02<15:36,  3.95s/batch]"
     ]
    },
    {
     "name": "stdout",
     "output_type": "stream",
     "text": [
      "Total 4.04s\n"
     ]
    },
    {
     "name": "stderr",
     "output_type": "stream",
     "text": [
      "🔍 Extracting:  40%|████████████████████████▌                                     | 155/391 [09:06<15:35,  3.96s/batch]"
     ]
    },
    {
     "name": "stdout",
     "output_type": "stream",
     "text": [
      "Total 3.99s\n"
     ]
    },
    {
     "name": "stderr",
     "output_type": "stream",
     "text": [
      "🔍 Extracting:  40%|████████████████████████▋                                     | 156/391 [09:10<15:42,  4.01s/batch]"
     ]
    },
    {
     "name": "stdout",
     "output_type": "stream",
     "text": [
      "Total 4.12s\n"
     ]
    },
    {
     "name": "stderr",
     "output_type": "stream",
     "text": [
      "🔍 Extracting:  40%|████████████████████████▉                                     | 157/391 [09:14<15:35,  4.00s/batch]"
     ]
    },
    {
     "name": "stdout",
     "output_type": "stream",
     "text": [
      "Total 3.97s\n"
     ]
    },
    {
     "name": "stderr",
     "output_type": "stream",
     "text": [
      "🔍 Extracting:  40%|█████████████████████████                                     | 158/391 [09:18<15:32,  4.00s/batch]"
     ]
    },
    {
     "name": "stdout",
     "output_type": "stream",
     "text": [
      "Total 4.02s\n"
     ]
    },
    {
     "name": "stderr",
     "output_type": "stream",
     "text": [
      "🔍 Extracting:  41%|█████████████████████████▏                                    | 159/391 [09:22<15:29,  4.01s/batch]"
     ]
    },
    {
     "name": "stdout",
     "output_type": "stream",
     "text": [
      "Total 4.01s\n"
     ]
    },
    {
     "name": "stderr",
     "output_type": "stream",
     "text": [
      "🔍 Extracting:  41%|█████████████████████████▎                                    | 160/391 [09:26<15:21,  3.99s/batch]"
     ]
    },
    {
     "name": "stdout",
     "output_type": "stream",
     "text": [
      "Total 3.95s\n"
     ]
    },
    {
     "name": "stderr",
     "output_type": "stream",
     "text": [
      "🔍 Extracting:  41%|█████████████████████████▌                                    | 161/391 [09:30<15:20,  4.00s/batch]"
     ]
    },
    {
     "name": "stdout",
     "output_type": "stream",
     "text": [
      "Total 4.03s\n"
     ]
    },
    {
     "name": "stderr",
     "output_type": "stream",
     "text": [
      "🔍 Extracting:  41%|█████████████████████████▋                                    | 162/391 [09:34<15:11,  3.98s/batch]"
     ]
    },
    {
     "name": "stdout",
     "output_type": "stream",
     "text": [
      "Total 3.93s\n"
     ]
    },
    {
     "name": "stderr",
     "output_type": "stream",
     "text": [
      "🔍 Extracting:  42%|█████████████████████████▊                                    | 163/391 [09:38<15:08,  3.98s/batch]"
     ]
    },
    {
     "name": "stdout",
     "output_type": "stream",
     "text": [
      "Total 4.00s\n"
     ]
    },
    {
     "name": "stderr",
     "output_type": "stream",
     "text": [
      "🔍 Extracting:  42%|██████████████████████████                                    | 164/391 [09:42<15:06,  3.99s/batch]"
     ]
    },
    {
     "name": "stdout",
     "output_type": "stream",
     "text": [
      "Total 4.01s\n"
     ]
    },
    {
     "name": "stderr",
     "output_type": "stream",
     "text": [
      "🔍 Extracting:  42%|██████████████████████████▏                                   | 165/391 [09:46<14:59,  3.98s/batch]"
     ]
    },
    {
     "name": "stdout",
     "output_type": "stream",
     "text": [
      "Total 3.94s\n"
     ]
    },
    {
     "name": "stderr",
     "output_type": "stream",
     "text": [
      "🔍 Extracting:  42%|██████████████████████████▎                                   | 166/391 [09:50<15:02,  4.01s/batch]"
     ]
    },
    {
     "name": "stdout",
     "output_type": "stream",
     "text": [
      "Total 4.09s\n"
     ]
    },
    {
     "name": "stderr",
     "output_type": "stream",
     "text": [
      "🔍 Extracting:  43%|██████████████████████████▍                                   | 167/391 [09:54<15:02,  4.03s/batch]"
     ]
    },
    {
     "name": "stdout",
     "output_type": "stream",
     "text": [
      "Total 4.07s\n"
     ]
    },
    {
     "name": "stderr",
     "output_type": "stream",
     "text": [
      "🔍 Extracting:  43%|██████████████████████████▋                                   | 168/391 [09:58<14:48,  3.98s/batch]"
     ]
    },
    {
     "name": "stdout",
     "output_type": "stream",
     "text": [
      "Total 3.88s\n"
     ]
    },
    {
     "name": "stderr",
     "output_type": "stream",
     "text": [
      "🔍 Extracting:  43%|██████████████████████████▊                                   | 169/391 [10:02<14:41,  3.97s/batch]"
     ]
    },
    {
     "name": "stdout",
     "output_type": "stream",
     "text": [
      "Total 3.94s\n"
     ]
    },
    {
     "name": "stderr",
     "output_type": "stream",
     "text": [
      "🔍 Extracting:  43%|██████████████████████████▉                                   | 170/391 [10:06<14:37,  3.97s/batch]"
     ]
    },
    {
     "name": "stdout",
     "output_type": "stream",
     "text": [
      "Total 3.96s\n"
     ]
    },
    {
     "name": "stderr",
     "output_type": "stream",
     "text": [
      "🔍 Extracting:  44%|███████████████████████████                                   | 171/391 [10:10<14:33,  3.97s/batch]"
     ]
    },
    {
     "name": "stdout",
     "output_type": "stream",
     "text": [
      "Total 3.96s\n"
     ]
    },
    {
     "name": "stderr",
     "output_type": "stream",
     "text": [
      "🔍 Extracting:  44%|███████████████████████████▎                                  | 172/391 [10:14<14:24,  3.95s/batch]"
     ]
    },
    {
     "name": "stdout",
     "output_type": "stream",
     "text": [
      "Total 3.89s\n"
     ]
    },
    {
     "name": "stderr",
     "output_type": "stream",
     "text": [
      "🔍 Extracting:  44%|███████████████████████████▍                                  | 173/391 [10:18<14:16,  3.93s/batch]"
     ]
    },
    {
     "name": "stdout",
     "output_type": "stream",
     "text": [
      "Total 3.89s\n"
     ]
    },
    {
     "name": "stderr",
     "output_type": "stream",
     "text": [
      "🔍 Extracting:  45%|███████████████████████████▌                                  | 174/391 [10:22<14:13,  3.93s/batch]"
     ]
    },
    {
     "name": "stdout",
     "output_type": "stream",
     "text": [
      "Total 3.95s\n"
     ]
    },
    {
     "name": "stderr",
     "output_type": "stream",
     "text": [
      "🔍 Extracting:  45%|███████████████████████████▋                                  | 175/391 [10:26<14:13,  3.95s/batch]"
     ]
    },
    {
     "name": "stdout",
     "output_type": "stream",
     "text": [
      "Total 3.98s\n"
     ]
    },
    {
     "name": "stderr",
     "output_type": "stream",
     "text": [
      "🔍 Extracting:  45%|███████████████████████████▉                                  | 176/391 [10:30<14:10,  3.96s/batch]"
     ]
    },
    {
     "name": "stdout",
     "output_type": "stream",
     "text": [
      "Total 3.97s\n"
     ]
    },
    {
     "name": "stderr",
     "output_type": "stream",
     "text": [
      "🔍 Extracting:  45%|████████████████████████████                                  | 177/391 [10:34<14:05,  3.95s/batch]"
     ]
    },
    {
     "name": "stdout",
     "output_type": "stream",
     "text": [
      "Total 3.94s\n"
     ]
    },
    {
     "name": "stderr",
     "output_type": "stream",
     "text": [
      "🔍 Extracting:  46%|████████████████████████████▏                                 | 178/391 [10:38<14:00,  3.95s/batch]"
     ]
    },
    {
     "name": "stdout",
     "output_type": "stream",
     "text": [
      "Total 3.94s\n"
     ]
    },
    {
     "name": "stderr",
     "output_type": "stream",
     "text": [
      "🔍 Extracting:  46%|████████████████████████████▍                                 | 179/391 [10:42<14:05,  3.99s/batch]"
     ]
    },
    {
     "name": "stdout",
     "output_type": "stream",
     "text": [
      "Total 4.08s\n"
     ]
    },
    {
     "name": "stderr",
     "output_type": "stream",
     "text": [
      "🔍 Extracting:  46%|████████████████████████████▌                                 | 180/391 [10:46<13:52,  3.94s/batch]"
     ]
    },
    {
     "name": "stdout",
     "output_type": "stream",
     "text": [
      "Total 3.84s\n"
     ]
    },
    {
     "name": "stderr",
     "output_type": "stream",
     "text": [
      "🔍 Extracting:  46%|████████████████████████████▋                                 | 181/391 [10:50<13:48,  3.95s/batch]"
     ]
    },
    {
     "name": "stdout",
     "output_type": "stream",
     "text": [
      "Total 3.95s\n"
     ]
    },
    {
     "name": "stderr",
     "output_type": "stream",
     "text": [
      "🔍 Extracting:  47%|████████████████████████████▊                                 | 182/391 [10:53<13:34,  3.90s/batch]"
     ]
    },
    {
     "name": "stdout",
     "output_type": "stream",
     "text": [
      "Total 3.79s\n"
     ]
    },
    {
     "name": "stderr",
     "output_type": "stream",
     "text": [
      "🔍 Extracting:  47%|█████████████████████████████                                 | 183/391 [10:57<13:28,  3.89s/batch]"
     ]
    },
    {
     "name": "stdout",
     "output_type": "stream",
     "text": [
      "Total 3.85s\n"
     ]
    },
    {
     "name": "stderr",
     "output_type": "stream",
     "text": [
      "🔍 Extracting:  47%|█████████████████████████████▏                                | 184/391 [11:01<13:26,  3.90s/batch]"
     ]
    },
    {
     "name": "stdout",
     "output_type": "stream",
     "text": [
      "Total 3.92s\n"
     ]
    },
    {
     "name": "stderr",
     "output_type": "stream",
     "text": [
      "🔍 Extracting:  47%|█████████████████████████████▎                                | 185/391 [11:05<13:30,  3.93s/batch]"
     ]
    },
    {
     "name": "stdout",
     "output_type": "stream",
     "text": [
      "Total 4.01s\n"
     ]
    },
    {
     "name": "stderr",
     "output_type": "stream",
     "text": [
      "🔍 Extracting:  48%|█████████████████████████████▍                                | 186/391 [11:09<13:29,  3.95s/batch]"
     ]
    },
    {
     "name": "stdout",
     "output_type": "stream",
     "text": [
      "Total 3.98s\n"
     ]
    },
    {
     "name": "stderr",
     "output_type": "stream",
     "text": [
      "🔍 Extracting:  48%|█████████████████████████████▋                                | 187/391 [11:13<13:29,  3.97s/batch]"
     ]
    },
    {
     "name": "stdout",
     "output_type": "stream",
     "text": [
      "Total 4.02s\n"
     ]
    },
    {
     "name": "stderr",
     "output_type": "stream",
     "text": [
      "🔍 Extracting:  48%|█████████████████████████████▊                                | 188/391 [11:17<13:23,  3.96s/batch]"
     ]
    },
    {
     "name": "stdout",
     "output_type": "stream",
     "text": [
      "Total 3.93s\n"
     ]
    },
    {
     "name": "stderr",
     "output_type": "stream",
     "text": [
      "🔍 Extracting:  48%|█████████████████████████████▉                                | 189/391 [11:21<13:18,  3.95s/batch]"
     ]
    },
    {
     "name": "stdout",
     "output_type": "stream",
     "text": [
      "Total 3.95s\n"
     ]
    },
    {
     "name": "stderr",
     "output_type": "stream",
     "text": [
      "🔍 Extracting:  49%|██████████████████████████████▏                               | 190/391 [11:25<13:11,  3.94s/batch]"
     ]
    },
    {
     "name": "stdout",
     "output_type": "stream",
     "text": [
      "Total 3.90s\n"
     ]
    },
    {
     "name": "stderr",
     "output_type": "stream",
     "text": [
      "🔍 Extracting:  49%|██████████████████████████████▎                               | 191/391 [11:29<13:09,  3.95s/batch]"
     ]
    },
    {
     "name": "stdout",
     "output_type": "stream",
     "text": [
      "Total 3.97s\n"
     ]
    },
    {
     "name": "stderr",
     "output_type": "stream",
     "text": [
      "🔍 Extracting:  49%|██████████████████████████████▍                               | 192/391 [11:33<13:05,  3.95s/batch]"
     ]
    },
    {
     "name": "stdout",
     "output_type": "stream",
     "text": [
      "Total 3.94s\n"
     ]
    },
    {
     "name": "stderr",
     "output_type": "stream",
     "text": [
      "🔍 Extracting:  49%|██████████████████████████████▌                               | 193/391 [11:37<12:57,  3.93s/batch]"
     ]
    },
    {
     "name": "stdout",
     "output_type": "stream",
     "text": [
      "Total 3.87s\n"
     ]
    },
    {
     "name": "stderr",
     "output_type": "stream",
     "text": [
      "🔍 Extracting:  50%|██████████████████████████████▊                               | 194/391 [11:41<12:51,  3.92s/batch]"
     ]
    },
    {
     "name": "stdout",
     "output_type": "stream",
     "text": [
      "Total 3.90s\n"
     ]
    },
    {
     "name": "stderr",
     "output_type": "stream",
     "text": [
      "🔍 Extracting:  50%|██████████████████████████████▉                               | 195/391 [11:44<12:40,  3.88s/batch]"
     ]
    },
    {
     "name": "stdout",
     "output_type": "stream",
     "text": [
      "Total 3.80s\n"
     ]
    },
    {
     "name": "stderr",
     "output_type": "stream",
     "text": [
      "🔍 Extracting:  50%|███████████████████████████████                               | 196/391 [11:48<12:45,  3.93s/batch]"
     ]
    },
    {
     "name": "stdout",
     "output_type": "stream",
     "text": [
      "Total 4.02s\n"
     ]
    },
    {
     "name": "stderr",
     "output_type": "stream",
     "text": [
      "🔍 Extracting:  50%|███████████████████████████████▏                              | 197/391 [11:52<12:36,  3.90s/batch]"
     ]
    },
    {
     "name": "stdout",
     "output_type": "stream",
     "text": [
      "Total 3.84s\n"
     ]
    },
    {
     "name": "stderr",
     "output_type": "stream",
     "text": [
      "🔍 Extracting:  51%|███████████████████████████████▍                              | 198/391 [11:56<12:29,  3.88s/batch]"
     ]
    },
    {
     "name": "stdout",
     "output_type": "stream",
     "text": [
      "Total 3.84s\n"
     ]
    },
    {
     "name": "stderr",
     "output_type": "stream",
     "text": [
      "🔍 Extracting:  51%|███████████████████████████████▌                              | 199/391 [12:00<12:30,  3.91s/batch]"
     ]
    },
    {
     "name": "stdout",
     "output_type": "stream",
     "text": [
      "Total 3.98s\n"
     ]
    },
    {
     "name": "stderr",
     "output_type": "stream",
     "text": [
      "🔍 Extracting:  51%|███████████████████████████████▋                              | 200/391 [12:04<12:26,  3.91s/batch]"
     ]
    },
    {
     "name": "stdout",
     "output_type": "stream",
     "text": [
      "Total 3.90s\n"
     ]
    },
    {
     "name": "stderr",
     "output_type": "stream",
     "text": [
      "🔍 Extracting:  51%|███████████████████████████████▊                              | 201/391 [12:08<12:22,  3.91s/batch]"
     ]
    },
    {
     "name": "stdout",
     "output_type": "stream",
     "text": [
      "Total 3.92s\n"
     ]
    },
    {
     "name": "stderr",
     "output_type": "stream",
     "text": [
      "🔍 Extracting:  52%|████████████████████████████████                              | 202/391 [12:12<12:22,  3.93s/batch]"
     ]
    },
    {
     "name": "stdout",
     "output_type": "stream",
     "text": [
      "Total 3.97s\n"
     ]
    },
    {
     "name": "stderr",
     "output_type": "stream",
     "text": [
      "🔍 Extracting:  52%|████████████████████████████████▏                             | 203/391 [12:16<12:20,  3.94s/batch]"
     ]
    },
    {
     "name": "stdout",
     "output_type": "stream",
     "text": [
      "Total 3.96s\n"
     ]
    },
    {
     "name": "stderr",
     "output_type": "stream",
     "text": [
      "🔍 Extracting:  52%|████████████████████████████████▎                             | 204/391 [12:20<12:16,  3.94s/batch]"
     ]
    },
    {
     "name": "stdout",
     "output_type": "stream",
     "text": [
      "Total 3.95s\n"
     ]
    },
    {
     "name": "stderr",
     "output_type": "stream",
     "text": [
      "🔍 Extracting:  52%|████████████████████████████████▌                             | 205/391 [12:24<12:11,  3.93s/batch]"
     ]
    },
    {
     "name": "stdout",
     "output_type": "stream",
     "text": [
      "Total 3.91s\n"
     ]
    },
    {
     "name": "stderr",
     "output_type": "stream",
     "text": [
      "🔍 Extracting:  53%|████████████████████████████████▋                             | 206/391 [12:28<12:08,  3.94s/batch]"
     ]
    },
    {
     "name": "stdout",
     "output_type": "stream",
     "text": [
      "Total 3.96s\n"
     ]
    },
    {
     "name": "stderr",
     "output_type": "stream",
     "text": [
      "🔍 Extracting:  53%|████████████████████████████████▊                             | 207/391 [12:32<12:10,  3.97s/batch]"
     ]
    },
    {
     "name": "stdout",
     "output_type": "stream",
     "text": [
      "Total 4.04s\n"
     ]
    },
    {
     "name": "stderr",
     "output_type": "stream",
     "text": [
      "🔍 Extracting:  53%|████████████████████████████████▉                             | 208/391 [12:36<12:06,  3.97s/batch]"
     ]
    },
    {
     "name": "stdout",
     "output_type": "stream",
     "text": [
      "Total 3.97s\n"
     ]
    },
    {
     "name": "stderr",
     "output_type": "stream",
     "text": [
      "🔍 Extracting:  53%|█████████████████████████████████▏                            | 209/391 [12:40<11:58,  3.95s/batch]"
     ]
    },
    {
     "name": "stdout",
     "output_type": "stream",
     "text": [
      "Total 3.89s\n"
     ]
    },
    {
     "name": "stderr",
     "output_type": "stream",
     "text": [
      "🔍 Extracting:  54%|█████████████████████████████████▎                            | 210/391 [12:43<11:54,  3.95s/batch]"
     ]
    },
    {
     "name": "stdout",
     "output_type": "stream",
     "text": [
      "Total 3.95s\n"
     ]
    },
    {
     "name": "stderr",
     "output_type": "stream",
     "text": [
      "🔍 Extracting:  54%|█████████████████████████████████▍                            | 211/391 [12:47<11:54,  3.97s/batch]"
     ]
    },
    {
     "name": "stdout",
     "output_type": "stream",
     "text": [
      "Total 4.02s\n"
     ]
    },
    {
     "name": "stderr",
     "output_type": "stream",
     "text": [
      "🔍 Extracting:  54%|█████████████████████████████████▌                            | 212/391 [12:52<11:59,  4.02s/batch]"
     ]
    },
    {
     "name": "stdout",
     "output_type": "stream",
     "text": [
      "Total 4.14s\n"
     ]
    },
    {
     "name": "stderr",
     "output_type": "stream",
     "text": [
      "🔍 Extracting:  54%|█████████████████████████████████▊                            | 213/391 [12:56<11:49,  3.98s/batch]"
     ]
    },
    {
     "name": "stdout",
     "output_type": "stream",
     "text": [
      "Total 3.90s\n"
     ]
    },
    {
     "name": "stderr",
     "output_type": "stream",
     "text": [
      "🔍 Extracting:  55%|█████████████████████████████████▉                            | 214/391 [13:00<11:47,  4.00s/batch]"
     ]
    },
    {
     "name": "stdout",
     "output_type": "stream",
     "text": [
      "Total 4.02s\n"
     ]
    },
    {
     "name": "stderr",
     "output_type": "stream",
     "text": [
      "🔍 Extracting:  55%|██████████████████████████████████                            | 215/391 [13:04<11:45,  4.01s/batch]"
     ]
    },
    {
     "name": "stdout",
     "output_type": "stream",
     "text": [
      "Total 4.03s\n"
     ]
    },
    {
     "name": "stderr",
     "output_type": "stream",
     "text": [
      "🔍 Extracting:  55%|██████████████████████████████████▎                           | 216/391 [13:08<11:44,  4.03s/batch]"
     ]
    },
    {
     "name": "stdout",
     "output_type": "stream",
     "text": [
      "Total 4.06s\n"
     ]
    },
    {
     "name": "stderr",
     "output_type": "stream",
     "text": [
      "🔍 Extracting:  55%|██████████████████████████████████▍                           | 217/391 [13:12<11:40,  4.03s/batch]"
     ]
    },
    {
     "name": "stdout",
     "output_type": "stream",
     "text": [
      "Total 4.02s\n"
     ]
    },
    {
     "name": "stderr",
     "output_type": "stream",
     "text": [
      "🔍 Extracting:  56%|██████████████████████████████████▌                           | 218/391 [13:15<11:24,  3.96s/batch]"
     ]
    },
    {
     "name": "stdout",
     "output_type": "stream",
     "text": [
      "Total 3.81s\n"
     ]
    },
    {
     "name": "stderr",
     "output_type": "stream",
     "text": [
      "🔍 Extracting:  56%|██████████████████████████████████▋                           | 219/391 [13:19<11:15,  3.93s/batch]"
     ]
    },
    {
     "name": "stdout",
     "output_type": "stream",
     "text": [
      "Total 3.86s\n"
     ]
    },
    {
     "name": "stderr",
     "output_type": "stream",
     "text": [
      "🔍 Extracting:  56%|██████████████████████████████████▉                           | 220/391 [13:23<11:10,  3.92s/batch]"
     ]
    },
    {
     "name": "stdout",
     "output_type": "stream",
     "text": [
      "Total 3.90s\n"
     ]
    },
    {
     "name": "stderr",
     "output_type": "stream",
     "text": [
      "🔍 Extracting:  57%|███████████████████████████████████                           | 221/391 [13:27<11:04,  3.91s/batch]"
     ]
    },
    {
     "name": "stdout",
     "output_type": "stream",
     "text": [
      "Total 3.88s\n"
     ]
    },
    {
     "name": "stderr",
     "output_type": "stream",
     "text": [
      "🔍 Extracting:  57%|███████████████████████████████████▏                          | 222/391 [13:31<10:59,  3.90s/batch]"
     ]
    },
    {
     "name": "stdout",
     "output_type": "stream",
     "text": [
      "Total 3.88s\n"
     ]
    },
    {
     "name": "stderr",
     "output_type": "stream",
     "text": [
      "🔍 Extracting:  57%|███████████████████████████████████▎                          | 223/391 [13:35<11:00,  3.93s/batch]"
     ]
    },
    {
     "name": "stdout",
     "output_type": "stream",
     "text": [
      "Total 4.01s\n"
     ]
    },
    {
     "name": "stderr",
     "output_type": "stream",
     "text": [
      "🔍 Extracting:  57%|███████████████████████████████████▌                          | 224/391 [13:39<10:54,  3.92s/batch]"
     ]
    },
    {
     "name": "stdout",
     "output_type": "stream",
     "text": [
      "Total 3.88s\n"
     ]
    },
    {
     "name": "stderr",
     "output_type": "stream",
     "text": [
      "🔍 Extracting:  58%|███████████████████████████████████▋                          | 225/391 [13:43<10:48,  3.90s/batch]"
     ]
    },
    {
     "name": "stdout",
     "output_type": "stream",
     "text": [
      "Total 3.87s\n"
     ]
    },
    {
     "name": "stderr",
     "output_type": "stream",
     "text": [
      "🔍 Extracting:  58%|███████████████████████████████████▊                          | 226/391 [13:47<10:46,  3.92s/batch]"
     ]
    },
    {
     "name": "stdout",
     "output_type": "stream",
     "text": [
      "Total 3.95s\n"
     ]
    },
    {
     "name": "stderr",
     "output_type": "stream",
     "text": [
      "🔍 Extracting:  58%|███████████████████████████████████▉                          | 227/391 [13:51<10:36,  3.88s/batch]"
     ]
    },
    {
     "name": "stdout",
     "output_type": "stream",
     "text": [
      "Total 3.79s\n"
     ]
    },
    {
     "name": "stderr",
     "output_type": "stream",
     "text": [
      "🔍 Extracting:  58%|████████████████████████████████████▏                         | 228/391 [13:54<10:31,  3.87s/batch]"
     ]
    },
    {
     "name": "stdout",
     "output_type": "stream",
     "text": [
      "Total 3.86s\n"
     ]
    },
    {
     "name": "stderr",
     "output_type": "stream",
     "text": [
      "🔍 Extracting:  59%|████████████████████████████████████▎                         | 229/391 [13:58<10:32,  3.90s/batch]"
     ]
    },
    {
     "name": "stdout",
     "output_type": "stream",
     "text": [
      "Total 3.97s\n"
     ]
    },
    {
     "name": "stderr",
     "output_type": "stream",
     "text": [
      "🔍 Extracting:  59%|████████████████████████████████████▍                         | 230/391 [14:02<10:29,  3.91s/batch]"
     ]
    },
    {
     "name": "stdout",
     "output_type": "stream",
     "text": [
      "Total 3.93s\n"
     ]
    },
    {
     "name": "stderr",
     "output_type": "stream",
     "text": [
      "🔍 Extracting:  59%|████████████████████████████████████▋                         | 231/391 [14:06<10:30,  3.94s/batch]"
     ]
    },
    {
     "name": "stdout",
     "output_type": "stream",
     "text": [
      "Total 4.01s\n"
     ]
    },
    {
     "name": "stderr",
     "output_type": "stream",
     "text": [
      "🔍 Extracting:  59%|████████████████████████████████████▊                         | 232/391 [14:10<10:25,  3.93s/batch]"
     ]
    },
    {
     "name": "stdout",
     "output_type": "stream",
     "text": [
      "Total 3.90s\n"
     ]
    },
    {
     "name": "stderr",
     "output_type": "stream",
     "text": [
      "🔍 Extracting:  60%|████████████████████████████████████▉                         | 233/391 [14:14<10:30,  3.99s/batch]"
     ]
    },
    {
     "name": "stdout",
     "output_type": "stream",
     "text": [
      "Total 4.12s\n"
     ]
    },
    {
     "name": "stderr",
     "output_type": "stream",
     "text": [
      "🔍 Extracting:  60%|█████████████████████████████████████                         | 234/391 [14:18<10:20,  3.95s/batch]"
     ]
    },
    {
     "name": "stdout",
     "output_type": "stream",
     "text": [
      "Total 3.86s\n"
     ]
    },
    {
     "name": "stderr",
     "output_type": "stream",
     "text": [
      "🔍 Extracting:  60%|█████████████████████████████████████▎                        | 235/391 [14:22<10:12,  3.93s/batch]"
     ]
    },
    {
     "name": "stdout",
     "output_type": "stream",
     "text": [
      "Total 3.87s\n"
     ]
    },
    {
     "name": "stderr",
     "output_type": "stream",
     "text": [
      "🔍 Extracting:  60%|█████████████████████████████████████▍                        | 236/391 [14:26<10:08,  3.93s/batch]"
     ]
    },
    {
     "name": "stdout",
     "output_type": "stream",
     "text": [
      "Total 3.93s\n"
     ]
    },
    {
     "name": "stderr",
     "output_type": "stream",
     "text": [
      "🔍 Extracting:  61%|█████████████████████████████████████▌                        | 237/391 [14:30<10:07,  3.95s/batch]"
     ]
    },
    {
     "name": "stdout",
     "output_type": "stream",
     "text": [
      "Total 4.00s\n"
     ]
    },
    {
     "name": "stderr",
     "output_type": "stream",
     "text": [
      "🔍 Extracting:  61%|█████████████████████████████████████▋                        | 238/391 [14:34<10:01,  3.93s/batch]"
     ]
    },
    {
     "name": "stdout",
     "output_type": "stream",
     "text": [
      "Total 3.90s\n"
     ]
    },
    {
     "name": "stderr",
     "output_type": "stream",
     "text": [
      "🔍 Extracting:  61%|█████████████████████████████████████▉                        | 239/391 [14:38<10:02,  3.96s/batch]"
     ]
    },
    {
     "name": "stdout",
     "output_type": "stream",
     "text": [
      "Total 4.03s\n"
     ]
    },
    {
     "name": "stderr",
     "output_type": "stream",
     "text": [
      "🔍 Extracting:  61%|██████████████████████████████████████                        | 240/391 [14:42<09:59,  3.97s/batch]"
     ]
    },
    {
     "name": "stdout",
     "output_type": "stream",
     "text": [
      "Total 3.99s\n"
     ]
    },
    {
     "name": "stderr",
     "output_type": "stream",
     "text": [
      "🔍 Extracting:  62%|██████████████████████████████████████▏                       | 241/391 [14:46<09:57,  3.98s/batch]"
     ]
    },
    {
     "name": "stdout",
     "output_type": "stream",
     "text": [
      "Total 4.01s\n"
     ]
    },
    {
     "name": "stderr",
     "output_type": "stream",
     "text": [
      "🔍 Extracting:  62%|██████████████████████████████████████▎                       | 242/391 [14:50<09:57,  4.01s/batch]"
     ]
    },
    {
     "name": "stdout",
     "output_type": "stream",
     "text": [
      "Total 4.07s\n"
     ]
    },
    {
     "name": "stderr",
     "output_type": "stream",
     "text": [
      "🔍 Extracting:  62%|██████████████████████████████████████▌                       | 243/391 [14:54<09:55,  4.03s/batch]"
     ]
    },
    {
     "name": "stdout",
     "output_type": "stream",
     "text": [
      "Total 4.07s\n"
     ]
    },
    {
     "name": "stderr",
     "output_type": "stream",
     "text": [
      "🔍 Extracting:  62%|██████████████████████████████████████▋                       | 244/391 [14:58<09:53,  4.03s/batch]"
     ]
    },
    {
     "name": "stdout",
     "output_type": "stream",
     "text": [
      "Total 4.05s\n"
     ]
    },
    {
     "name": "stderr",
     "output_type": "stream",
     "text": [
      "🔍 Extracting:  63%|██████████████████████████████████████▊                       | 245/391 [15:02<09:47,  4.03s/batch]"
     ]
    },
    {
     "name": "stdout",
     "output_type": "stream",
     "text": [
      "Total 4.01s\n"
     ]
    },
    {
     "name": "stderr",
     "output_type": "stream",
     "text": [
      "🔍 Extracting:  63%|███████████████████████████████████████                       | 246/391 [15:06<09:39,  4.00s/batch]"
     ]
    },
    {
     "name": "stdout",
     "output_type": "stream",
     "text": [
      "Total 3.93s\n"
     ]
    },
    {
     "name": "stderr",
     "output_type": "stream",
     "text": [
      "🔍 Extracting:  63%|███████████████████████████████████████▏                      | 247/391 [15:10<09:32,  3.97s/batch]"
     ]
    },
    {
     "name": "stdout",
     "output_type": "stream",
     "text": [
      "Total 3.91s\n"
     ]
    },
    {
     "name": "stderr",
     "output_type": "stream",
     "text": [
      "🔍 Extracting:  63%|███████████████████████████████████████▎                      | 248/391 [15:14<09:34,  4.02s/batch]"
     ]
    },
    {
     "name": "stdout",
     "output_type": "stream",
     "text": [
      "Total 4.11s\n"
     ]
    },
    {
     "name": "stderr",
     "output_type": "stream",
     "text": [
      "🔍 Extracting:  64%|███████████████████████████████████████▍                      | 249/391 [15:18<09:30,  4.02s/batch]"
     ]
    },
    {
     "name": "stdout",
     "output_type": "stream",
     "text": [
      "Total 4.03s\n"
     ]
    },
    {
     "name": "stderr",
     "output_type": "stream",
     "text": [
      "🔍 Extracting:  64%|███████████████████████████████████████▋                      | 250/391 [15:22<09:25,  4.01s/batch]"
     ]
    },
    {
     "name": "stdout",
     "output_type": "stream",
     "text": [
      "Total 4.00s\n"
     ]
    },
    {
     "name": "stderr",
     "output_type": "stream",
     "text": [
      "🔍 Extracting:  64%|███████████████████████████████████████▊                      | 251/391 [15:26<09:21,  4.01s/batch]"
     ]
    },
    {
     "name": "stdout",
     "output_type": "stream",
     "text": [
      "Total 4.00s\n"
     ]
    },
    {
     "name": "stderr",
     "output_type": "stream",
     "text": [
      "🔍 Extracting:  64%|███████████████████████████████████████▉                      | 252/391 [15:30<09:20,  4.03s/batch]"
     ]
    },
    {
     "name": "stdout",
     "output_type": "stream",
     "text": [
      "Total 4.09s\n"
     ]
    },
    {
     "name": "stderr",
     "output_type": "stream",
     "text": [
      "🔍 Extracting:  65%|████████████████████████████████████████                      | 253/391 [15:34<09:13,  4.01s/batch]"
     ]
    },
    {
     "name": "stdout",
     "output_type": "stream",
     "text": [
      "Total 3.96s\n"
     ]
    },
    {
     "name": "stderr",
     "output_type": "stream",
     "text": [
      "🔍 Extracting:  65%|████████████████████████████████████████▎                     | 254/391 [15:38<09:09,  4.01s/batch]"
     ]
    },
    {
     "name": "stdout",
     "output_type": "stream",
     "text": [
      "Total 4.02s\n"
     ]
    },
    {
     "name": "stderr",
     "output_type": "stream",
     "text": [
      "🔍 Extracting:  65%|████████████████████████████████████████▍                     | 255/391 [15:42<09:08,  4.03s/batch]"
     ]
    },
    {
     "name": "stdout",
     "output_type": "stream",
     "text": [
      "Total 4.08s\n"
     ]
    },
    {
     "name": "stderr",
     "output_type": "stream",
     "text": [
      "🔍 Extracting:  65%|████████████████████████████████████████▌                     | 256/391 [15:46<09:04,  4.03s/batch]"
     ]
    },
    {
     "name": "stdout",
     "output_type": "stream",
     "text": [
      "Total 4.02s\n"
     ]
    },
    {
     "name": "stderr",
     "output_type": "stream",
     "text": [
      "🔍 Extracting:  66%|████████████████████████████████████████▊                     | 257/391 [15:50<08:58,  4.02s/batch]"
     ]
    },
    {
     "name": "stdout",
     "output_type": "stream",
     "text": [
      "Total 3.99s\n"
     ]
    },
    {
     "name": "stderr",
     "output_type": "stream",
     "text": [
      "🔍 Extracting:  66%|████████████████████████████████████████▉                     | 258/391 [15:54<08:53,  4.01s/batch]"
     ]
    },
    {
     "name": "stdout",
     "output_type": "stream",
     "text": [
      "Total 4.00s\n"
     ]
    },
    {
     "name": "stderr",
     "output_type": "stream",
     "text": [
      "🔍 Extracting:  66%|█████████████████████████████████████████                     | 259/391 [15:58<08:49,  4.01s/batch]"
     ]
    },
    {
     "name": "stdout",
     "output_type": "stream",
     "text": [
      "Total 4.02s\n"
     ]
    },
    {
     "name": "stderr",
     "output_type": "stream",
     "text": [
      "🔍 Extracting:  66%|█████████████████████████████████████████▏                    | 260/391 [16:03<08:53,  4.07s/batch]"
     ]
    },
    {
     "name": "stdout",
     "output_type": "stream",
     "text": [
      "Total 4.21s\n"
     ]
    },
    {
     "name": "stderr",
     "output_type": "stream",
     "text": [
      "🔍 Extracting:  67%|█████████████████████████████████████████▍                    | 261/391 [16:07<08:55,  4.12s/batch]"
     ]
    },
    {
     "name": "stdout",
     "output_type": "stream",
     "text": [
      "Total 4.23s\n"
     ]
    },
    {
     "name": "stderr",
     "output_type": "stream",
     "text": [
      "🔍 Extracting:  67%|█████████████████████████████████████████▌                    | 262/391 [16:11<08:54,  4.14s/batch]"
     ]
    },
    {
     "name": "stdout",
     "output_type": "stream",
     "text": [
      "Total 4.19s\n"
     ]
    },
    {
     "name": "stderr",
     "output_type": "stream",
     "text": [
      "🔍 Extracting:  67%|█████████████████████████████████████████▋                    | 263/391 [16:15<08:49,  4.14s/batch]"
     ]
    },
    {
     "name": "stdout",
     "output_type": "stream",
     "text": [
      "Total 4.13s\n"
     ]
    },
    {
     "name": "stderr",
     "output_type": "stream",
     "text": [
      "🔍 Extracting:  68%|█████████████████████████████████████████▊                    | 264/391 [16:19<08:44,  4.13s/batch]"
     ]
    },
    {
     "name": "stdout",
     "output_type": "stream",
     "text": [
      "Total 4.10s\n"
     ]
    },
    {
     "name": "stderr",
     "output_type": "stream",
     "text": [
      "🔍 Extracting:  68%|██████████████████████████████████████████                    | 265/391 [16:23<08:39,  4.12s/batch]"
     ]
    },
    {
     "name": "stdout",
     "output_type": "stream",
     "text": [
      "Total 4.11s\n"
     ]
    },
    {
     "name": "stderr",
     "output_type": "stream",
     "text": [
      "🔍 Extracting:  68%|██████████████████████████████████████████▏                   | 266/391 [16:27<08:37,  4.14s/batch]"
     ]
    },
    {
     "name": "stdout",
     "output_type": "stream",
     "text": [
      "Total 4.19s\n"
     ]
    },
    {
     "name": "stderr",
     "output_type": "stream",
     "text": [
      "🔍 Extracting:  68%|██████████████████████████████████████████▎                   | 267/391 [16:32<08:32,  4.13s/batch]"
     ]
    },
    {
     "name": "stdout",
     "output_type": "stream",
     "text": [
      "Total 4.11s\n"
     ]
    },
    {
     "name": "stderr",
     "output_type": "stream",
     "text": [
      "🔍 Extracting:  69%|██████████████████████████████████████████▍                   | 268/391 [16:36<08:25,  4.11s/batch]"
     ]
    },
    {
     "name": "stdout",
     "output_type": "stream",
     "text": [
      "Total 4.05s\n"
     ]
    },
    {
     "name": "stderr",
     "output_type": "stream",
     "text": [
      "🔍 Extracting:  69%|██████████████████████████████████████████▋                   | 269/391 [16:40<08:22,  4.12s/batch]"
     ]
    },
    {
     "name": "stdout",
     "output_type": "stream",
     "text": [
      "Total 4.16s\n"
     ]
    },
    {
     "name": "stderr",
     "output_type": "stream",
     "text": [
      "🔍 Extracting:  69%|██████████████████████████████████████████▊                   | 270/391 [16:44<08:17,  4.11s/batch]"
     ]
    },
    {
     "name": "stdout",
     "output_type": "stream",
     "text": [
      "Total 4.08s\n"
     ]
    },
    {
     "name": "stderr",
     "output_type": "stream",
     "text": [
      "🔍 Extracting:  69%|██████████████████████████████████████████▉                   | 271/391 [16:48<08:15,  4.13s/batch]"
     ]
    },
    {
     "name": "stdout",
     "output_type": "stream",
     "text": [
      "Total 4.16s\n"
     ]
    },
    {
     "name": "stderr",
     "output_type": "stream",
     "text": [
      "🔍 Extracting:  70%|███████████████████████████████████████████▏                  | 272/391 [16:52<08:13,  4.15s/batch]"
     ]
    },
    {
     "name": "stdout",
     "output_type": "stream",
     "text": [
      "Total 4.20s\n"
     ]
    },
    {
     "name": "stderr",
     "output_type": "stream",
     "text": [
      "🔍 Extracting:  70%|███████████████████████████████████████████▎                  | 273/391 [16:56<08:07,  4.13s/batch]"
     ]
    },
    {
     "name": "stdout",
     "output_type": "stream",
     "text": [
      "Total 4.10s\n"
     ]
    },
    {
     "name": "stderr",
     "output_type": "stream",
     "text": [
      "🔍 Extracting:  70%|███████████████████████████████████████████▍                  | 274/391 [17:00<08:04,  4.14s/batch]"
     ]
    },
    {
     "name": "stdout",
     "output_type": "stream",
     "text": [
      "Total 4.15s\n"
     ]
    },
    {
     "name": "stderr",
     "output_type": "stream",
     "text": [
      "🔍 Extracting:  70%|███████████████████████████████████████████▌                  | 275/391 [17:05<07:58,  4.13s/batch]"
     ]
    },
    {
     "name": "stdout",
     "output_type": "stream",
     "text": [
      "Total 4.10s\n"
     ]
    },
    {
     "name": "stderr",
     "output_type": "stream",
     "text": [
      "🔍 Extracting:  71%|███████████████████████████████████████████▊                  | 276/391 [17:09<07:54,  4.13s/batch]"
     ]
    },
    {
     "name": "stdout",
     "output_type": "stream",
     "text": [
      "Total 4.13s\n"
     ]
    },
    {
     "name": "stderr",
     "output_type": "stream",
     "text": [
      "🔍 Extracting:  71%|███████████████████████████████████████████▉                  | 277/391 [17:13<07:49,  4.12s/batch]"
     ]
    },
    {
     "name": "stdout",
     "output_type": "stream",
     "text": [
      "Total 4.09s\n"
     ]
    },
    {
     "name": "stderr",
     "output_type": "stream",
     "text": [
      "🔍 Extracting:  71%|████████████████████████████████████████████                  | 278/391 [17:17<07:50,  4.16s/batch]"
     ]
    },
    {
     "name": "stdout",
     "output_type": "stream",
     "text": [
      "Total 4.28s\n"
     ]
    },
    {
     "name": "stderr",
     "output_type": "stream",
     "text": [
      "🔍 Extracting:  71%|████████████████████████████████████████████▏                 | 279/391 [17:21<07:46,  4.17s/batch]"
     ]
    },
    {
     "name": "stdout",
     "output_type": "stream",
     "text": [
      "Total 4.18s\n"
     ]
    },
    {
     "name": "stderr",
     "output_type": "stream",
     "text": [
      "🔍 Extracting:  72%|████████████████████████████████████████████▍                 | 280/391 [17:25<07:43,  4.18s/batch]"
     ]
    },
    {
     "name": "stdout",
     "output_type": "stream",
     "text": [
      "Total 4.19s\n"
     ]
    },
    {
     "name": "stderr",
     "output_type": "stream",
     "text": [
      "🔍 Extracting:  72%|████████████████████████████████████████████▌                 | 281/391 [17:30<07:36,  4.15s/batch]"
     ]
    },
    {
     "name": "stdout",
     "output_type": "stream",
     "text": [
      "Total 4.09s\n"
     ]
    },
    {
     "name": "stderr",
     "output_type": "stream",
     "text": [
      "🔍 Extracting:  72%|████████████████████████████████████████████▋                 | 282/391 [17:34<07:32,  4.16s/batch]"
     ]
    },
    {
     "name": "stdout",
     "output_type": "stream",
     "text": [
      "Total 4.17s\n"
     ]
    },
    {
     "name": "stderr",
     "output_type": "stream",
     "text": [
      "🔍 Extracting:  72%|████████████████████████████████████████████▊                 | 283/391 [17:38<07:30,  4.17s/batch]"
     ]
    },
    {
     "name": "stdout",
     "output_type": "stream",
     "text": [
      "Total 4.20s\n"
     ]
    },
    {
     "name": "stderr",
     "output_type": "stream",
     "text": [
      "🔍 Extracting:  73%|█████████████████████████████████████████████                 | 284/391 [17:42<07:27,  4.18s/batch]"
     ]
    },
    {
     "name": "stdout",
     "output_type": "stream",
     "text": [
      "Total 4.22s\n"
     ]
    },
    {
     "name": "stderr",
     "output_type": "stream",
     "text": [
      "🔍 Extracting:  73%|█████████████████████████████████████████████▏                | 285/391 [17:46<07:23,  4.18s/batch]"
     ]
    },
    {
     "name": "stdout",
     "output_type": "stream",
     "text": [
      "Total 4.17s\n"
     ]
    },
    {
     "name": "stderr",
     "output_type": "stream",
     "text": [
      "🔍 Extracting:  73%|█████████████████████████████████████████████▎                | 286/391 [17:50<07:17,  4.16s/batch]"
     ]
    },
    {
     "name": "stdout",
     "output_type": "stream",
     "text": [
      "Total 4.12s\n"
     ]
    },
    {
     "name": "stderr",
     "output_type": "stream",
     "text": [
      "🔍 Extracting:  73%|█████████████████████████████████████████████▌                | 287/391 [17:55<07:13,  4.17s/batch]"
     ]
    },
    {
     "name": "stdout",
     "output_type": "stream",
     "text": [
      "Total 4.18s\n"
     ]
    },
    {
     "name": "stderr",
     "output_type": "stream",
     "text": [
      "🔍 Extracting:  74%|█████████████████████████████████████████████▋                | 288/391 [17:59<07:06,  4.14s/batch]"
     ]
    },
    {
     "name": "stdout",
     "output_type": "stream",
     "text": [
      "Total 4.07s\n"
     ]
    },
    {
     "name": "stderr",
     "output_type": "stream",
     "text": [
      "🔍 Extracting:  74%|█████████████████████████████████████████████▊                | 289/391 [18:03<07:01,  4.14s/batch]"
     ]
    },
    {
     "name": "stdout",
     "output_type": "stream",
     "text": [
      "Total 4.12s\n"
     ]
    },
    {
     "name": "stderr",
     "output_type": "stream",
     "text": [
      "🔍 Extracting:  74%|█████████████████████████████████████████████▉                | 290/391 [18:07<06:55,  4.12s/batch]"
     ]
    },
    {
     "name": "stdout",
     "output_type": "stream",
     "text": [
      "Total 4.08s\n"
     ]
    },
    {
     "name": "stderr",
     "output_type": "stream",
     "text": [
      "🔍 Extracting:  74%|██████████████████████████████████████████████▏               | 291/391 [18:11<06:54,  4.14s/batch]"
     ]
    },
    {
     "name": "stdout",
     "output_type": "stream",
     "text": [
      "Total 4.20s\n"
     ]
    },
    {
     "name": "stderr",
     "output_type": "stream",
     "text": [
      "🔍 Extracting:  75%|██████████████████████████████████████████████▎               | 292/391 [18:15<06:48,  4.12s/batch]"
     ]
    },
    {
     "name": "stdout",
     "output_type": "stream",
     "text": [
      "Total 4.08s\n"
     ]
    },
    {
     "name": "stderr",
     "output_type": "stream",
     "text": [
      "🔍 Extracting:  75%|██████████████████████████████████████████████▍               | 293/391 [18:19<06:42,  4.11s/batch]"
     ]
    },
    {
     "name": "stdout",
     "output_type": "stream",
     "text": [
      "Total 4.08s\n"
     ]
    },
    {
     "name": "stderr",
     "output_type": "stream",
     "text": [
      "🔍 Extracting:  75%|██████████████████████████████████████████████▌               | 294/391 [18:23<06:36,  4.09s/batch]"
     ]
    },
    {
     "name": "stdout",
     "output_type": "stream",
     "text": [
      "Total 4.05s\n"
     ]
    },
    {
     "name": "stderr",
     "output_type": "stream",
     "text": [
      "🔍 Extracting:  75%|██████████████████████████████████████████████▊               | 295/391 [18:27<06:30,  4.07s/batch]"
     ]
    },
    {
     "name": "stdout",
     "output_type": "stream",
     "text": [
      "Total 4.02s\n"
     ]
    },
    {
     "name": "stderr",
     "output_type": "stream",
     "text": [
      "🔍 Extracting:  76%|██████████████████████████████████████████████▉               | 296/391 [18:31<06:26,  4.06s/batch]"
     ]
    },
    {
     "name": "stdout",
     "output_type": "stream",
     "text": [
      "Total 4.04s\n"
     ]
    },
    {
     "name": "stderr",
     "output_type": "stream",
     "text": [
      "🔍 Extracting:  76%|███████████████████████████████████████████████               | 297/391 [18:36<06:25,  4.10s/batch]"
     ]
    },
    {
     "name": "stdout",
     "output_type": "stream",
     "text": [
      "Total 4.19s\n"
     ]
    },
    {
     "name": "stderr",
     "output_type": "stream",
     "text": [
      "🔍 Extracting:  76%|███████████████████████████████████████████████▎              | 298/391 [18:40<06:21,  4.10s/batch]"
     ]
    },
    {
     "name": "stdout",
     "output_type": "stream",
     "text": [
      "Total 4.11s\n"
     ]
    },
    {
     "name": "stderr",
     "output_type": "stream",
     "text": [
      "🔍 Extracting:  76%|███████████████████████████████████████████████▍              | 299/391 [18:44<06:19,  4.12s/batch]"
     ]
    },
    {
     "name": "stdout",
     "output_type": "stream",
     "text": [
      "Total 4.16s\n"
     ]
    },
    {
     "name": "stderr",
     "output_type": "stream",
     "text": [
      "🔍 Extracting:  77%|███████████████████████████████████████████████▌              | 300/391 [18:48<06:16,  4.14s/batch]"
     ]
    },
    {
     "name": "stdout",
     "output_type": "stream",
     "text": [
      "Total 4.17s\n"
     ]
    },
    {
     "name": "stderr",
     "output_type": "stream",
     "text": [
      "🔍 Extracting:  77%|███████████████████████████████████████████████▋              | 301/391 [18:52<06:09,  4.11s/batch]"
     ]
    },
    {
     "name": "stdout",
     "output_type": "stream",
     "text": [
      "Total 4.03s\n"
     ]
    },
    {
     "name": "stderr",
     "output_type": "stream",
     "text": [
      "🔍 Extracting:  77%|███████████████████████████████████████████████▉              | 302/391 [18:56<06:07,  4.13s/batch]"
     ]
    },
    {
     "name": "stdout",
     "output_type": "stream",
     "text": [
      "Total 4.19s\n"
     ]
    },
    {
     "name": "stderr",
     "output_type": "stream",
     "text": [
      "🔍 Extracting:  77%|████████████████████████████████████████████████              | 303/391 [19:00<05:56,  4.05s/batch]"
     ]
    },
    {
     "name": "stdout",
     "output_type": "stream",
     "text": [
      "Total 3.86s\n"
     ]
    },
    {
     "name": "stderr",
     "output_type": "stream",
     "text": [
      "🔍 Extracting:  78%|████████████████████████████████████████████████▏             | 304/391 [19:04<05:53,  4.06s/batch]"
     ]
    },
    {
     "name": "stdout",
     "output_type": "stream",
     "text": [
      "Total 4.08s\n"
     ]
    },
    {
     "name": "stderr",
     "output_type": "stream",
     "text": [
      "🔍 Extracting:  78%|████████████████████████████████████████████████▎             | 305/391 [19:08<05:42,  3.99s/batch]"
     ]
    },
    {
     "name": "stdout",
     "output_type": "stream",
     "text": [
      "Total 3.81s\n"
     ]
    },
    {
     "name": "stderr",
     "output_type": "stream",
     "text": [
      "🔍 Extracting:  78%|████████████████████████████████████████████████▌             | 306/391 [19:12<05:35,  3.95s/batch]"
     ]
    },
    {
     "name": "stdout",
     "output_type": "stream",
     "text": [
      "Total 3.86s\n"
     ]
    },
    {
     "name": "stderr",
     "output_type": "stream",
     "text": [
      "🔍 Extracting:  79%|████████████████████████████████████████████████▋             | 307/391 [19:15<05:21,  3.83s/batch]"
     ]
    },
    {
     "name": "stdout",
     "output_type": "stream",
     "text": [
      "Total 3.54s\n"
     ]
    },
    {
     "name": "stderr",
     "output_type": "stream",
     "text": [
      "🔍 Extracting:  79%|████████████████████████████████████████████████▊             | 308/391 [19:20<05:25,  3.92s/batch]"
     ]
    },
    {
     "name": "stdout",
     "output_type": "stream",
     "text": [
      "Total 4.14s\n"
     ]
    },
    {
     "name": "stderr",
     "output_type": "stream",
     "text": [
      "🔍 Extracting:  79%|████████████████████████████████████████████████▉             | 309/391 [19:24<05:27,  3.99s/batch]"
     ]
    },
    {
     "name": "stdout",
     "output_type": "stream",
     "text": [
      "Total 4.15s\n"
     ]
    },
    {
     "name": "stderr",
     "output_type": "stream",
     "text": [
      "🔍 Extracting:  79%|█████████████████████████████████████████████████▏            | 310/391 [19:28<05:25,  4.02s/batch]"
     ]
    },
    {
     "name": "stdout",
     "output_type": "stream",
     "text": [
      "Total 4.08s\n"
     ]
    },
    {
     "name": "stderr",
     "output_type": "stream",
     "text": [
      "🔍 Extracting:  80%|█████████████████████████████████████████████████▎            | 311/391 [19:32<05:22,  4.03s/batch]"
     ]
    },
    {
     "name": "stdout",
     "output_type": "stream",
     "text": [
      "Total 4.07s\n"
     ]
    },
    {
     "name": "stderr",
     "output_type": "stream",
     "text": [
      "🔍 Extracting:  80%|█████████████████████████████████████████████████▍            | 312/391 [19:36<05:18,  4.04s/batch]"
     ]
    },
    {
     "name": "stdout",
     "output_type": "stream",
     "text": [
      "Total 4.04s\n"
     ]
    },
    {
     "name": "stderr",
     "output_type": "stream",
     "text": [
      "🔍 Extracting:  80%|█████████████████████████████████████████████████▋            | 313/391 [19:40<05:14,  4.03s/batch]"
     ]
    },
    {
     "name": "stdout",
     "output_type": "stream",
     "text": [
      "Total 4.02s\n"
     ]
    },
    {
     "name": "stderr",
     "output_type": "stream",
     "text": [
      "🔍 Extracting:  80%|█████████████████████████████████████████████████▊            | 314/391 [19:44<05:07,  4.00s/batch]"
     ]
    },
    {
     "name": "stdout",
     "output_type": "stream",
     "text": [
      "Total 3.92s\n"
     ]
    },
    {
     "name": "stderr",
     "output_type": "stream",
     "text": [
      "🔍 Extracting:  81%|█████████████████████████████████████████████████▉            | 315/391 [19:48<05:02,  3.98s/batch]"
     ]
    },
    {
     "name": "stdout",
     "output_type": "stream",
     "text": [
      "Total 3.93s\n"
     ]
    },
    {
     "name": "stderr",
     "output_type": "stream",
     "text": [
      "🔍 Extracting:  81%|██████████████████████████████████████████████████            | 316/391 [19:52<04:57,  3.97s/batch]"
     ]
    },
    {
     "name": "stdout",
     "output_type": "stream",
     "text": [
      "Total 3.95s\n"
     ]
    },
    {
     "name": "stderr",
     "output_type": "stream",
     "text": [
      "🔍 Extracting:  81%|██████████████████████████████████████████████████▎           | 317/391 [19:56<04:56,  4.01s/batch]"
     ]
    },
    {
     "name": "stdout",
     "output_type": "stream",
     "text": [
      "Total 4.09s\n"
     ]
    },
    {
     "name": "stderr",
     "output_type": "stream",
     "text": [
      "🔍 Extracting:  81%|██████████████████████████████████████████████████▍           | 318/391 [20:00<04:52,  4.01s/batch]"
     ]
    },
    {
     "name": "stdout",
     "output_type": "stream",
     "text": [
      "Total 4.01s\n"
     ]
    },
    {
     "name": "stderr",
     "output_type": "stream",
     "text": [
      "🔍 Extracting:  82%|██████████████████████████████████████████████████▌           | 319/391 [20:04<04:51,  4.05s/batch]"
     ]
    },
    {
     "name": "stdout",
     "output_type": "stream",
     "text": [
      "Total 4.16s\n"
     ]
    },
    {
     "name": "stderr",
     "output_type": "stream",
     "text": [
      "🔍 Extracting:  82%|██████████████████████████████████████████████████▋           | 320/391 [20:08<04:45,  4.02s/batch]"
     ]
    },
    {
     "name": "stdout",
     "output_type": "stream",
     "text": [
      "Total 3.93s\n"
     ]
    },
    {
     "name": "stderr",
     "output_type": "stream",
     "text": [
      "🔍 Extracting:  82%|██████████████████████████████████████████████████▉           | 321/391 [20:12<04:36,  3.95s/batch]"
     ]
    },
    {
     "name": "stdout",
     "output_type": "stream",
     "text": [
      "Total 3.80s\n"
     ]
    },
    {
     "name": "stderr",
     "output_type": "stream",
     "text": [
      "🔍 Extracting:  82%|███████████████████████████████████████████████████           | 322/391 [20:18<05:16,  4.59s/batch]"
     ]
    },
    {
     "name": "stdout",
     "output_type": "stream",
     "text": [
      "Total 6.09s\n"
     ]
    },
    {
     "name": "stderr",
     "output_type": "stream",
     "text": [
      "🔍 Extracting:  83%|███████████████████████████████████████████████████▏          | 323/391 [20:23<05:16,  4.65s/batch]"
     ]
    },
    {
     "name": "stdout",
     "output_type": "stream",
     "text": [
      "Total 4.78s\n"
     ]
    },
    {
     "name": "stderr",
     "output_type": "stream",
     "text": [
      "🔍 Extracting:  83%|███████████████████████████████████████████████████▍          | 324/391 [20:28<05:18,  4.76s/batch]"
     ]
    },
    {
     "name": "stdout",
     "output_type": "stream",
     "text": [
      "Total 5.01s\n"
     ]
    },
    {
     "name": "stderr",
     "output_type": "stream",
     "text": [
      "🔍 Extracting:  83%|███████████████████████████████████████████████████▌          | 325/391 [20:33<05:34,  5.06s/batch]"
     ]
    },
    {
     "name": "stdout",
     "output_type": "stream",
     "text": [
      "Total 5.77s\n"
     ]
    },
    {
     "name": "stderr",
     "output_type": "stream",
     "text": [
      "🔍 Extracting:  83%|███████████████████████████████████████████████████▋          | 326/391 [20:41<06:17,  5.81s/batch]"
     ]
    },
    {
     "name": "stdout",
     "output_type": "stream",
     "text": [
      "Total 7.57s\n"
     ]
    },
    {
     "name": "stderr",
     "output_type": "stream",
     "text": [
      "🔍 Extracting:  84%|███████████████████████████████████████████████████▊          | 327/391 [20:46<05:52,  5.51s/batch]"
     ]
    },
    {
     "name": "stdout",
     "output_type": "stream",
     "text": [
      "Total 4.80s\n"
     ]
    },
    {
     "name": "stderr",
     "output_type": "stream",
     "text": [
      "🔍 Extracting:  84%|████████████████████████████████████████████████████          | 328/391 [20:49<05:14,  4.99s/batch]"
     ]
    },
    {
     "name": "stdout",
     "output_type": "stream",
     "text": [
      "Total 3.79s\n"
     ]
    },
    {
     "name": "stderr",
     "output_type": "stream",
     "text": [
      "🔍 Extracting:  84%|████████████████████████████████████████████████████▏         | 329/391 [20:53<04:44,  4.58s/batch]"
     ]
    },
    {
     "name": "stdout",
     "output_type": "stream",
     "text": [
      "Total 3.62s\n"
     ]
    },
    {
     "name": "stderr",
     "output_type": "stream",
     "text": [
      "🔍 Extracting:  84%|████████████████████████████████████████████████████▎         | 330/391 [20:56<04:15,  4.19s/batch]"
     ]
    },
    {
     "name": "stdout",
     "output_type": "stream",
     "text": [
      "Total 3.27s\n"
     ]
    },
    {
     "name": "stderr",
     "output_type": "stream",
     "text": [
      "🔍 Extracting:  85%|████████████████████████████████████████████████████▍         | 331/391 [21:02<04:38,  4.65s/batch]"
     ]
    },
    {
     "name": "stdout",
     "output_type": "stream",
     "text": [
      "Total 5.71s\n"
     ]
    },
    {
     "name": "stderr",
     "output_type": "stream",
     "text": [
      "🔍 Extracting:  85%|████████████████████████████████████████████████████▋         | 332/391 [21:08<04:49,  4.91s/batch]"
     ]
    },
    {
     "name": "stdout",
     "output_type": "stream",
     "text": [
      "Total 5.53s\n"
     ]
    },
    {
     "name": "stderr",
     "output_type": "stream",
     "text": [
      "🔍 Extracting:  85%|████████████████████████████████████████████████████▊         | 333/391 [21:16<05:41,  5.88s/batch]"
     ]
    },
    {
     "name": "stdout",
     "output_type": "stream",
     "text": [
      "Total 8.14s\n"
     ]
    },
    {
     "name": "stderr",
     "output_type": "stream",
     "text": [
      "🔍 Extracting:  85%|████████████████████████████████████████████████████▉         | 334/391 [21:20<04:59,  5.26s/batch]"
     ]
    },
    {
     "name": "stdout",
     "output_type": "stream",
     "text": [
      "Total 3.81s\n"
     ]
    },
    {
     "name": "stderr",
     "output_type": "stream",
     "text": [
      "🔍 Extracting:  86%|█████████████████████████████████████████████████████         | 335/391 [21:24<04:38,  4.98s/batch]"
     ]
    },
    {
     "name": "stdout",
     "output_type": "stream",
     "text": [
      "Total 4.32s\n"
     ]
    },
    {
     "name": "stderr",
     "output_type": "stream",
     "text": [
      "🔍 Extracting:  86%|█████████████████████████████████████████████████████▎        | 336/391 [21:31<05:05,  5.56s/batch]"
     ]
    },
    {
     "name": "stdout",
     "output_type": "stream",
     "text": [
      "Total 6.91s\n"
     ]
    },
    {
     "name": "stderr",
     "output_type": "stream",
     "text": [
      "🔍 Extracting:  86%|█████████████████████████████████████████████████████▍        | 337/391 [21:36<04:49,  5.35s/batch]"
     ]
    },
    {
     "name": "stdout",
     "output_type": "stream",
     "text": [
      "Total 4.88s\n"
     ]
    },
    {
     "name": "stderr",
     "output_type": "stream",
     "text": [
      "🔍 Extracting:  86%|█████████████████████████████████████████████████████▌        | 338/391 [21:41<04:36,  5.22s/batch]"
     ]
    },
    {
     "name": "stdout",
     "output_type": "stream",
     "text": [
      "Total 4.92s\n"
     ]
    },
    {
     "name": "stderr",
     "output_type": "stream",
     "text": [
      "🔍 Extracting:  87%|█████████████████████████████████████████████████████▊        | 339/391 [21:51<05:55,  6.83s/batch]"
     ]
    },
    {
     "name": "stdout",
     "output_type": "stream",
     "text": [
      "Total 10.58s\n"
     ]
    },
    {
     "name": "stderr",
     "output_type": "stream",
     "text": [
      "🔍 Extracting:  87%|█████████████████████████████████████████████████████▉        | 340/391 [21:55<05:06,  6.01s/batch]"
     ]
    },
    {
     "name": "stdout",
     "output_type": "stream",
     "text": [
      "Total 4.09s\n"
     ]
    },
    {
     "name": "stderr",
     "output_type": "stream",
     "text": [
      "🔍 Extracting:  87%|██████████████████████████████████████████████████████        | 341/391 [22:00<04:44,  5.69s/batch]"
     ]
    },
    {
     "name": "stdout",
     "output_type": "stream",
     "text": [
      "Total 4.93s\n"
     ]
    },
    {
     "name": "stderr",
     "output_type": "stream",
     "text": [
      "🔍 Extracting:  87%|██████████████████████████████████████████████████████▏       | 342/391 [22:05<04:23,  5.37s/batch]"
     ]
    },
    {
     "name": "stdout",
     "output_type": "stream",
     "text": [
      "Total 4.62s\n"
     ]
    },
    {
     "name": "stderr",
     "output_type": "stream",
     "text": [
      "🔍 Extracting:  88%|██████████████████████████████████████████████████████▍       | 343/391 [22:10<04:10,  5.21s/batch]"
     ]
    },
    {
     "name": "stdout",
     "output_type": "stream",
     "text": [
      "Total 4.84s\n"
     ]
    },
    {
     "name": "stderr",
     "output_type": "stream",
     "text": [
      "🔍 Extracting:  88%|██████████████████████████████████████████████████████▌       | 344/391 [22:15<04:00,  5.11s/batch]"
     ]
    },
    {
     "name": "stdout",
     "output_type": "stream",
     "text": [
      "Total 4.89s\n"
     ]
    },
    {
     "name": "stderr",
     "output_type": "stream",
     "text": [
      "🔍 Extracting:  88%|██████████████████████████████████████████████████████▋       | 345/391 [22:19<03:48,  4.98s/batch]"
     ]
    },
    {
     "name": "stdout",
     "output_type": "stream",
     "text": [
      "Total 4.66s\n"
     ]
    },
    {
     "name": "stderr",
     "output_type": "stream",
     "text": [
      "🔍 Extracting:  88%|██████████████████████████████████████████████████████▊       | 346/391 [22:27<04:18,  5.74s/batch]"
     ]
    },
    {
     "name": "stdout",
     "output_type": "stream",
     "text": [
      "Total 7.51s\n"
     ]
    },
    {
     "name": "stderr",
     "output_type": "stream",
     "text": [
      "🔍 Extracting:  89%|███████████████████████████████████████████████████████       | 347/391 [22:32<04:12,  5.73s/batch]"
     ]
    },
    {
     "name": "stdout",
     "output_type": "stream",
     "text": [
      "Total 5.71s\n"
     ]
    },
    {
     "name": "stderr",
     "output_type": "stream",
     "text": [
      "🔍 Extracting:  89%|███████████████████████████████████████████████████████▏      | 348/391 [22:37<03:57,  5.53s/batch]"
     ]
    },
    {
     "name": "stdout",
     "output_type": "stream",
     "text": [
      "Total 5.05s\n"
     ]
    },
    {
     "name": "stderr",
     "output_type": "stream",
     "text": [
      "🔍 Extracting:  89%|███████████████████████████████████████████████████████▎      | 349/391 [22:43<03:51,  5.52s/batch]"
     ]
    },
    {
     "name": "stdout",
     "output_type": "stream",
     "text": [
      "Total 5.52s\n"
     ]
    },
    {
     "name": "stderr",
     "output_type": "stream",
     "text": [
      "🔍 Extracting:  90%|███████████████████████████████████████████████████████▍      | 350/391 [22:48<03:33,  5.22s/batch]"
     ]
    },
    {
     "name": "stdout",
     "output_type": "stream",
     "text": [
      "Total 4.50s\n"
     ]
    },
    {
     "name": "stderr",
     "output_type": "stream",
     "text": [
      "🔍 Extracting:  90%|███████████████████████████████████████████████████████▋      | 351/391 [22:51<03:11,  4.78s/batch]"
     ]
    },
    {
     "name": "stdout",
     "output_type": "stream",
     "text": [
      "Total 3.76s\n"
     ]
    },
    {
     "name": "stderr",
     "output_type": "stream",
     "text": [
      "🔍 Extracting:  90%|███████████████████████████████████████████████████████▊      | 352/391 [22:56<03:06,  4.79s/batch]"
     ]
    },
    {
     "name": "stdout",
     "output_type": "stream",
     "text": [
      "Total 4.80s\n"
     ]
    },
    {
     "name": "stderr",
     "output_type": "stream",
     "text": [
      "🔍 Extracting:  90%|███████████████████████████████████████████████████████▉      | 353/391 [23:01<03:01,  4.77s/batch]"
     ]
    },
    {
     "name": "stdout",
     "output_type": "stream",
     "text": [
      "Total 4.72s\n"
     ]
    },
    {
     "name": "stderr",
     "output_type": "stream",
     "text": [
      "🔍 Extracting:  91%|████████████████████████████████████████████████████████▏     | 354/391 [23:08<03:22,  5.48s/batch]"
     ]
    },
    {
     "name": "stdout",
     "output_type": "stream",
     "text": [
      "Total 7.13s\n"
     ]
    },
    {
     "name": "stderr",
     "output_type": "stream",
     "text": [
      "🔍 Extracting:  91%|████████████████████████████████████████████████████████▎     | 355/391 [23:13<03:13,  5.36s/batch]"
     ]
    },
    {
     "name": "stdout",
     "output_type": "stream",
     "text": [
      "Total 5.09s\n"
     ]
    },
    {
     "name": "stderr",
     "output_type": "stream",
     "text": [
      "🔍 Extracting:  91%|████████████████████████████████████████████████████████▍     | 356/391 [23:17<02:50,  4.87s/batch]"
     ]
    },
    {
     "name": "stdout",
     "output_type": "stream",
     "text": [
      "Total 3.71s\n"
     ]
    },
    {
     "name": "stderr",
     "output_type": "stream",
     "text": [
      "🔍 Extracting:  91%|████████████████████████████████████████████████████████▌     | 357/391 [23:23<03:02,  5.36s/batch]"
     ]
    },
    {
     "name": "stdout",
     "output_type": "stream",
     "text": [
      "Total 6.50s\n"
     ]
    },
    {
     "name": "stderr",
     "output_type": "stream",
     "text": [
      "🔍 Extracting:  92%|████████████████████████████████████████████████████████▊     | 358/391 [23:28<02:51,  5.20s/batch]"
     ]
    },
    {
     "name": "stdout",
     "output_type": "stream",
     "text": [
      "Total 4.83s\n"
     ]
    },
    {
     "name": "stderr",
     "output_type": "stream",
     "text": [
      "🔍 Extracting:  92%|████████████████████████████████████████████████████████▉     | 359/391 [23:37<03:20,  6.25s/batch]"
     ]
    },
    {
     "name": "stdout",
     "output_type": "stream",
     "text": [
      "Total 8.72s\n"
     ]
    },
    {
     "name": "stderr",
     "output_type": "stream",
     "text": [
      "🔍 Extracting:  92%|█████████████████████████████████████████████████████████     | 360/391 [23:42<03:00,  5.82s/batch]"
     ]
    },
    {
     "name": "stdout",
     "output_type": "stream",
     "text": [
      "Total 4.82s\n"
     ]
    },
    {
     "name": "stderr",
     "output_type": "stream",
     "text": [
      "🔍 Extracting:  92%|█████████████████████████████████████████████████████████▏    | 361/391 [23:46<02:38,  5.29s/batch]"
     ]
    },
    {
     "name": "stdout",
     "output_type": "stream",
     "text": [
      "Total 4.05s\n"
     ]
    },
    {
     "name": "stderr",
     "output_type": "stream",
     "text": [
      "🔍 Extracting:  93%|█████████████████████████████████████████████████████████▍    | 362/391 [23:50<02:26,  5.05s/batch]"
     ]
    },
    {
     "name": "stdout",
     "output_type": "stream",
     "text": [
      "Total 4.50s\n"
     ]
    },
    {
     "name": "stderr",
     "output_type": "stream",
     "text": [
      "🔍 Extracting:  93%|█████████████████████████████████████████████████████████▌    | 363/391 [23:55<02:16,  4.89s/batch]"
     ]
    },
    {
     "name": "stdout",
     "output_type": "stream",
     "text": [
      "Total 4.50s\n"
     ]
    },
    {
     "name": "stderr",
     "output_type": "stream",
     "text": [
      "🔍 Extracting:  93%|█████████████████████████████████████████████████████████▋    | 364/391 [23:58<02:02,  4.54s/batch]"
     ]
    },
    {
     "name": "stdout",
     "output_type": "stream",
     "text": [
      "Total 3.73s\n"
     ]
    },
    {
     "name": "stderr",
     "output_type": "stream",
     "text": [
      "🔍 Extracting:  93%|█████████████████████████████████████████████████████████▉    | 365/391 [24:04<02:08,  4.94s/batch]"
     ]
    },
    {
     "name": "stdout",
     "output_type": "stream",
     "text": [
      "Total 5.87s\n"
     ]
    },
    {
     "name": "stderr",
     "output_type": "stream",
     "text": [
      "🔍 Extracting:  94%|██████████████████████████████████████████████████████████    | 366/391 [24:09<01:58,  4.76s/batch]"
     ]
    },
    {
     "name": "stdout",
     "output_type": "stream",
     "text": [
      "Total 4.34s\n"
     ]
    },
    {
     "name": "stderr",
     "output_type": "stream",
     "text": [
      "🔍 Extracting:  94%|██████████████████████████████████████████████████████████▏   | 367/391 [24:13<01:53,  4.72s/batch]"
     ]
    },
    {
     "name": "stdout",
     "output_type": "stream",
     "text": [
      "Total 4.64s\n"
     ]
    },
    {
     "name": "stderr",
     "output_type": "stream",
     "text": [
      "🔍 Extracting:  94%|██████████████████████████████████████████████████████████▎   | 368/391 [24:18<01:46,  4.64s/batch]"
     ]
    },
    {
     "name": "stdout",
     "output_type": "stream",
     "text": [
      "Total 4.43s\n"
     ]
    },
    {
     "name": "stderr",
     "output_type": "stream",
     "text": [
      "🔍 Extracting:  94%|██████████████████████████████████████████████████████████▌   | 369/391 [24:21<01:36,  4.39s/batch]"
     ]
    },
    {
     "name": "stdout",
     "output_type": "stream",
     "text": [
      "Total 3.81s\n"
     ]
    },
    {
     "name": "stderr",
     "output_type": "stream",
     "text": [
      "🔍 Extracting:  95%|██████████████████████████████████████████████████████████▋   | 370/391 [24:27<01:40,  4.81s/batch]"
     ]
    },
    {
     "name": "stdout",
     "output_type": "stream",
     "text": [
      "Total 5.78s\n"
     ]
    },
    {
     "name": "stderr",
     "output_type": "stream",
     "text": [
      "🔍 Extracting:  95%|██████████████████████████████████████████████████████████▊   | 371/391 [24:31<01:32,  4.63s/batch]"
     ]
    },
    {
     "name": "stdout",
     "output_type": "stream",
     "text": [
      "Total 4.21s\n"
     ]
    },
    {
     "name": "stderr",
     "output_type": "stream",
     "text": [
      "🔍 Extracting:  95%|██████████████████████████████████████████████████████████▉   | 372/391 [24:39<01:42,  5.39s/batch]"
     ]
    },
    {
     "name": "stdout",
     "output_type": "stream",
     "text": [
      "Total 7.19s\n"
     ]
    },
    {
     "name": "stderr",
     "output_type": "stream",
     "text": [
      "🔍 Extracting:  95%|███████████████████████████████████████████████████████████▏  | 373/391 [24:46<01:46,  5.93s/batch]"
     ]
    },
    {
     "name": "stdout",
     "output_type": "stream",
     "text": [
      "Total 7.19s\n"
     ]
    },
    {
     "name": "stderr",
     "output_type": "stream",
     "text": [
      "🔍 Extracting:  96%|███████████████████████████████████████████████████████████▎  | 374/391 [24:51<01:36,  5.65s/batch]"
     ]
    },
    {
     "name": "stdout",
     "output_type": "stream",
     "text": [
      "Total 4.99s\n"
     ]
    },
    {
     "name": "stderr",
     "output_type": "stream",
     "text": [
      "🔍 Extracting:  96%|███████████████████████████████████████████████████████████▍  | 375/391 [24:55<01:22,  5.14s/batch]"
     ]
    },
    {
     "name": "stdout",
     "output_type": "stream",
     "text": [
      "Total 3.94s\n"
     ]
    },
    {
     "name": "stderr",
     "output_type": "stream",
     "text": [
      "🔍 Extracting:  96%|███████████████████████████████████████████████████████████▌  | 376/391 [25:01<01:22,  5.51s/batch]"
     ]
    },
    {
     "name": "stdout",
     "output_type": "stream",
     "text": [
      "Total 6.37s\n"
     ]
    },
    {
     "name": "stderr",
     "output_type": "stream",
     "text": [
      "🔍 Extracting:  96%|███████████████████████████████████████████████████████████▊  | 377/391 [25:07<01:17,  5.52s/batch]"
     ]
    },
    {
     "name": "stdout",
     "output_type": "stream",
     "text": [
      "Total 5.55s\n"
     ]
    },
    {
     "name": "stderr",
     "output_type": "stream",
     "text": [
      "🔍 Extracting:  97%|███████████████████████████████████████████████████████████▉  | 378/391 [25:13<01:12,  5.61s/batch]"
     ]
    },
    {
     "name": "stdout",
     "output_type": "stream",
     "text": [
      "Total 5.83s\n"
     ]
    },
    {
     "name": "stderr",
     "output_type": "stream",
     "text": [
      "🔍 Extracting:  97%|████████████████████████████████████████████████████████████  | 379/391 [25:20<01:14,  6.20s/batch]"
     ]
    },
    {
     "name": "stdout",
     "output_type": "stream",
     "text": [
      "Total 7.56s\n"
     ]
    },
    {
     "name": "stderr",
     "output_type": "stream",
     "text": [
      "🔍 Extracting:  97%|████████████████████████████████████████████████████████████▎ | 380/391 [25:25<01:03,  5.80s/batch]"
     ]
    },
    {
     "name": "stdout",
     "output_type": "stream",
     "text": [
      "Total 4.87s\n"
     ]
    },
    {
     "name": "stderr",
     "output_type": "stream",
     "text": [
      "🔍 Extracting:  97%|████████████████████████████████████████████████████████████▍ | 381/391 [25:30<00:55,  5.55s/batch]"
     ]
    },
    {
     "name": "stdout",
     "output_type": "stream",
     "text": [
      "Total 4.96s\n"
     ]
    },
    {
     "name": "stderr",
     "output_type": "stream",
     "text": [
      "🔍 Extracting:  98%|████████████████████████████████████████████████████████████▌ | 382/391 [25:36<00:50,  5.62s/batch]"
     ]
    },
    {
     "name": "stdout",
     "output_type": "stream",
     "text": [
      "Total 5.77s\n"
     ]
    },
    {
     "name": "stderr",
     "output_type": "stream",
     "text": [
      "🔍 Extracting:  98%|████████████████████████████████████████████████████████████▋ | 383/391 [25:40<00:42,  5.30s/batch]"
     ]
    },
    {
     "name": "stdout",
     "output_type": "stream",
     "text": [
      "Total 4.55s\n"
     ]
    },
    {
     "name": "stderr",
     "output_type": "stream",
     "text": [
      "🔍 Extracting:  98%|████████████████████████████████████████████████████████████▉ | 384/391 [25:49<00:44,  6.31s/batch]"
     ]
    },
    {
     "name": "stdout",
     "output_type": "stream",
     "text": [
      "Total 8.68s\n"
     ]
    },
    {
     "name": "stderr",
     "output_type": "stream",
     "text": [
      "🔍 Extracting:  98%|█████████████████████████████████████████████████████████████ | 385/391 [25:56<00:39,  6.61s/batch]"
     ]
    },
    {
     "name": "stdout",
     "output_type": "stream",
     "text": [
      "Total 7.31s\n"
     ]
    },
    {
     "name": "stderr",
     "output_type": "stream",
     "text": [
      "🔍 Extracting:  99%|█████████████████████████████████████████████████████████████▏| 386/391 [26:00<00:29,  5.82s/batch]"
     ]
    },
    {
     "name": "stdout",
     "output_type": "stream",
     "text": [
      "Total 3.97s\n"
     ]
    },
    {
     "name": "stderr",
     "output_type": "stream",
     "text": [
      "🔍 Extracting:  99%|█████████████████████████████████████████████████████████████▎| 387/391 [26:04<00:20,  5.23s/batch]"
     ]
    },
    {
     "name": "stdout",
     "output_type": "stream",
     "text": [
      "Total 3.86s\n"
     ]
    },
    {
     "name": "stderr",
     "output_type": "stream",
     "text": [
      "🔍 Extracting:  99%|█████████████████████████████████████████████████████████████▌| 388/391 [26:12<00:17,  5.91s/batch]"
     ]
    },
    {
     "name": "stdout",
     "output_type": "stream",
     "text": [
      "Total 7.49s\n"
     ]
    },
    {
     "name": "stderr",
     "output_type": "stream",
     "text": [
      "🔍 Extracting:  99%|█████████████████████████████████████████████████████████████▋| 389/391 [26:16<00:11,  5.58s/batch]"
     ]
    },
    {
     "name": "stdout",
     "output_type": "stream",
     "text": [
      "Total 4.81s\n"
     ]
    },
    {
     "name": "stderr",
     "output_type": "stream",
     "text": [
      "🔍 Extracting: 100%|█████████████████████████████████████████████████████████████▊| 390/391 [26:21<00:05,  5.32s/batch]"
     ]
    },
    {
     "name": "stdout",
     "output_type": "stream",
     "text": [
      "Total 4.72s\n"
     ]
    },
    {
     "name": "stderr",
     "output_type": "stream",
     "text": [
      "🔍 Extracting: 100%|██████████████████████████████████████████████████████████████| 391/391 [26:27<00:00,  4.06s/batch]"
     ]
    },
    {
     "name": "stdout",
     "output_type": "stream",
     "text": [
      "Total 6.39s\n"
     ]
    },
    {
     "name": "stderr",
     "output_type": "stream",
     "text": [
      "\n",
      "🔍 Extracting:   3%|██▏                                                              | 1/29 [00:03<01:25,  3.05s/batch]"
     ]
    },
    {
     "name": "stdout",
     "output_type": "stream",
     "text": [
      "Total 3.05s\n"
     ]
    },
    {
     "name": "stderr",
     "output_type": "stream",
     "text": [
      "🔍 Extracting:   7%|████▍                                                            | 2/29 [00:06<01:26,  3.22s/batch]"
     ]
    },
    {
     "name": "stdout",
     "output_type": "stream",
     "text": [
      "Total 3.34s\n"
     ]
    },
    {
     "name": "stderr",
     "output_type": "stream",
     "text": [
      "🔍 Extracting:  10%|██████▋                                                          | 3/29 [00:09<01:19,  3.07s/batch]"
     ]
    },
    {
     "name": "stdout",
     "output_type": "stream",
     "text": [
      "Total 2.89s\n"
     ]
    },
    {
     "name": "stderr",
     "output_type": "stream",
     "text": [
      "🔍 Extracting:  14%|████████▉                                                        | 4/29 [00:23<03:01,  7.28s/batch]"
     ]
    },
    {
     "name": "stdout",
     "output_type": "stream",
     "text": [
      "Total 13.72s\n"
     ]
    },
    {
     "name": "stderr",
     "output_type": "stream",
     "text": [
      "🔍 Extracting:  17%|███████████▏                                                     | 5/29 [00:50<05:53, 14.74s/batch]"
     ]
    },
    {
     "name": "stdout",
     "output_type": "stream",
     "text": [
      "Total 27.96s\n"
     ]
    },
    {
     "name": "stderr",
     "output_type": "stream",
     "text": [
      "🔍 Extracting:  21%|█████████████▍                                                   | 6/29 [01:18<07:18, 19.05s/batch]"
     ]
    },
    {
     "name": "stdout",
     "output_type": "stream",
     "text": [
      "Total 27.43s\n"
     ]
    },
    {
     "name": "stderr",
     "output_type": "stream",
     "text": [
      "🔍 Extracting:  24%|███████████████▋                                                 | 7/29 [01:48<08:18, 22.66s/batch]"
     ]
    },
    {
     "name": "stdout",
     "output_type": "stream",
     "text": [
      "Total 30.07s\n"
     ]
    },
    {
     "name": "stderr",
     "output_type": "stream",
     "text": [
      "🔍 Extracting:  28%|█████████████████▉                                               | 8/29 [02:13<08:10, 23.34s/batch]"
     ]
    },
    {
     "name": "stdout",
     "output_type": "stream",
     "text": [
      "Total 24.79s\n"
     ]
    },
    {
     "name": "stderr",
     "output_type": "stream",
     "text": [
      "🔍 Extracting:  31%|████████████████████▏                                            | 9/29 [02:40<08:08, 24.44s/batch]"
     ]
    },
    {
     "name": "stdout",
     "output_type": "stream",
     "text": [
      "Total 26.87s\n"
     ]
    },
    {
     "name": "stderr",
     "output_type": "stream",
     "text": [
      "🔍 Extracting:  34%|██████████████████████                                          | 10/29 [03:09<08:12, 25.90s/batch]"
     ]
    },
    {
     "name": "stdout",
     "output_type": "stream",
     "text": [
      "Total 29.17s\n"
     ]
    },
    {
     "name": "stderr",
     "output_type": "stream",
     "text": [
      "🔍 Extracting:  38%|████████████████████████▎                                       | 11/29 [03:37<07:57, 26.53s/batch]"
     ]
    },
    {
     "name": "stdout",
     "output_type": "stream",
     "text": [
      "Total 27.95s\n"
     ]
    },
    {
     "name": "stderr",
     "output_type": "stream",
     "text": [
      "🔍 Extracting:  41%|██████████████████████████▍                                     | 12/29 [04:05<07:41, 27.13s/batch]"
     ]
    },
    {
     "name": "stdout",
     "output_type": "stream",
     "text": [
      "Total 28.49s\n"
     ]
    },
    {
     "name": "stderr",
     "output_type": "stream",
     "text": [
      "🔍 Extracting:  45%|████████████████████████████▋                                   | 13/29 [04:28<06:54, 25.90s/batch]"
     ]
    },
    {
     "name": "stdout",
     "output_type": "stream",
     "text": [
      "Total 23.09s\n"
     ]
    },
    {
     "name": "stderr",
     "output_type": "stream",
     "text": [
      "🔍 Extracting:  48%|██████████████████████████████▉                                 | 14/29 [04:49<06:05, 24.36s/batch]"
     ]
    },
    {
     "name": "stdout",
     "output_type": "stream",
     "text": [
      "Total 20.79s\n"
     ]
    },
    {
     "name": "stderr",
     "output_type": "stream",
     "text": [
      "🔍 Extracting:  52%|█████████████████████████████████                               | 15/29 [05:14<05:42, 24.45s/batch]"
     ]
    },
    {
     "name": "stdout",
     "output_type": "stream",
     "text": [
      "Total 24.67s\n"
     ]
    },
    {
     "name": "stderr",
     "output_type": "stream",
     "text": [
      "🔍 Extracting:  55%|███████████████████████████████████▎                            | 16/29 [05:39<05:22, 24.83s/batch]"
     ]
    },
    {
     "name": "stdout",
     "output_type": "stream",
     "text": [
      "Total 25.70s\n"
     ]
    },
    {
     "name": "stderr",
     "output_type": "stream",
     "text": [
      "🔍 Extracting:  59%|█████████████████████████████████████▌                          | 17/29 [06:15<05:35, 27.96s/batch]"
     ]
    },
    {
     "name": "stdout",
     "output_type": "stream",
     "text": [
      "Total 35.25s\n"
     ]
    },
    {
     "name": "stderr",
     "output_type": "stream",
     "text": [
      "🔍 Extracting:  62%|███████████████████████████████████████▋                        | 18/29 [06:37<04:48, 26.22s/batch]"
     ]
    },
    {
     "name": "stdout",
     "output_type": "stream",
     "text": [
      "Total 22.15s\n"
     ]
    },
    {
     "name": "stderr",
     "output_type": "stream",
     "text": [
      "🔍 Extracting:  66%|█████████████████████████████████████████▉                      | 19/29 [07:00<04:14, 25.40s/batch]"
     ]
    },
    {
     "name": "stdout",
     "output_type": "stream",
     "text": [
      "Total 23.51s\n"
     ]
    },
    {
     "name": "stderr",
     "output_type": "stream",
     "text": [
      "🔍 Extracting:  69%|████████████████████████████████████████████▏                   | 20/29 [07:27<03:51, 25.78s/batch]"
     ]
    },
    {
     "name": "stdout",
     "output_type": "stream",
     "text": [
      "Total 26.65s\n"
     ]
    },
    {
     "name": "stderr",
     "output_type": "stream",
     "text": [
      "🔍 Extracting:  72%|██████████████████████████████████████████████▎                 | 21/29 [07:53<03:27, 25.97s/batch]"
     ]
    },
    {
     "name": "stdout",
     "output_type": "stream",
     "text": [
      "Total 26.43s\n"
     ]
    },
    {
     "name": "stderr",
     "output_type": "stream",
     "text": [
      "🔍 Extracting:  76%|████████████████████████████████████████████████▌               | 22/29 [08:15<02:51, 24.54s/batch]"
     ]
    },
    {
     "name": "stdout",
     "output_type": "stream",
     "text": [
      "Total 21.20s\n"
     ]
    },
    {
     "name": "stderr",
     "output_type": "stream",
     "text": [
      "🔍 Extracting:  79%|██████████████████████████████████████████████████▊             | 23/29 [08:38<02:24, 24.05s/batch]"
     ]
    },
    {
     "name": "stdout",
     "output_type": "stream",
     "text": [
      "Total 22.90s\n"
     ]
    },
    {
     "name": "stderr",
     "output_type": "stream",
     "text": [
      "🔍 Extracting:  83%|████████████████████████████████████████████████████▉           | 24/29 [09:00<01:57, 23.48s/batch]"
     ]
    },
    {
     "name": "stdout",
     "output_type": "stream",
     "text": [
      "Total 22.16s\n"
     ]
    },
    {
     "name": "stderr",
     "output_type": "stream",
     "text": [
      "🔍 Extracting:  86%|███████████████████████████████████████████████████████▏        | 25/29 [09:21<01:31, 22.84s/batch]"
     ]
    },
    {
     "name": "stdout",
     "output_type": "stream",
     "text": [
      "Total 21.35s\n"
     ]
    },
    {
     "name": "stderr",
     "output_type": "stream",
     "text": [
      "🔍 Extracting:  90%|█████████████████████████████████████████████████████████▍      | 26/29 [09:41<01:05, 21.94s/batch]"
     ]
    },
    {
     "name": "stdout",
     "output_type": "stream",
     "text": [
      "Total 19.82s\n"
     ]
    },
    {
     "name": "stderr",
     "output_type": "stream",
     "text": [
      "🔍 Extracting:  93%|███████████████████████████████████████████████████████████▌    | 27/29 [10:06<00:45, 22.88s/batch]"
     ]
    },
    {
     "name": "stdout",
     "output_type": "stream",
     "text": [
      "Total 25.07s\n"
     ]
    },
    {
     "name": "stderr",
     "output_type": "stream",
     "text": [
      "🔍 Extracting:  97%|█████████████████████████████████████████████████████████████▊  | 28/29 [10:25<00:21, 21.85s/batch]"
     ]
    },
    {
     "name": "stdout",
     "output_type": "stream",
     "text": [
      "Total 19.46s\n"
     ]
    },
    {
     "name": "stderr",
     "output_type": "stream",
     "text": [
      "🔍 Extracting: 100%|████████████████████████████████████████████████████████████████| 29/29 [10:28<00:00, 21.68s/batch]"
     ]
    },
    {
     "name": "stdout",
     "output_type": "stream",
     "text": [
      "Total 2.74s\n"
     ]
    },
    {
     "name": "stderr",
     "output_type": "stream",
     "text": [
      "\n"
     ]
    }
   ],
   "source": [
    "from tqdm import tqdm\n",
    "\n",
    "extractor = HOptimusExtractor()\n",
    "train_features_hopt = extract_patch_features_hoptimus(extractor, train_dataloader)\n",
    "test_features_hopt  = extract_patch_features_hoptimus(extractor, test_dataloader)"
   ]
  },
  {
   "cell_type": "code",
   "execution_count": 11,
   "metadata": {},
   "outputs": [
    {
     "name": "stdout",
     "output_type": "stream",
     "text": [
      "✅ Features and labels saved to 'Hoptimus_feature/' folder.\n"
     ]
    }
   ],
   "source": [
    "import os\n",
    "import torch\n",
    "\n",
    "train_feats_hoptimus = torch.Tensor(train_features_hopt['embeddings'])\n",
    "train_labels_hoptimus = torch.Tensor(train_features_hopt['labels']).type(torch.long)\n",
    "test_feats_hoptimus = torch.Tensor(test_features_hopt['embeddings'])\n",
    "test_labels_hoptimus = torch.Tensor(test_features_hopt['labels']).type(torch.long)\n",
    "# Create folder if it doesn't exist\n",
    "output_dir = 'Hoptimus_feature'\n",
    "os.makedirs(output_dir, exist_ok=True)\n",
    "\n",
    "# Save tensors\n",
    "torch.save(train_feats_hoptimus, os.path.join(output_dir, 'train_feats.pt'))\n",
    "torch.save(train_labels_hoptimus, os.path.join(output_dir, 'train_labels.pt'))\n",
    "torch.save(test_feats_hoptimus, os.path.join(output_dir, 'test_feats.pt'))\n",
    "torch.save(test_labels_hoptimus, os.path.join(output_dir, 'test_labels.pt'))\n",
    "\n",
    "print(\"✅ Features and labels saved to 'Hoptimus_feature/' folder.\")"
   ]
  },
  {
   "cell_type": "markdown",
   "metadata": {},
   "source": [
    "## Hoptimus features"
   ]
  },
  {
   "cell_type": "code",
   "execution_count": 12,
   "metadata": {},
   "outputs": [],
   "source": [
    "import torch\n",
    "\n",
    "# Folder path\n",
    "input_dir = 'Hoptimus_feature'\n",
    "\n",
    "# Load tensors\n",
    "train_feats_hoptimus = torch.load(f'{input_dir}/train_feats.pt')\n",
    "train_labels_hoptimus = torch.load(f'{input_dir}/train_labels.pt')\n",
    "test_feats_hoptimus = torch.load(f'{input_dir}/test_feats.pt')\n",
    "test_labels_hoptimus = torch.load(f'{input_dir}/test_labels.pt')"
   ]
  },
  {
   "cell_type": "code",
   "execution_count": 13,
   "metadata": {},
   "outputs": [
    {
     "data": {
      "text/plain": [
       "tensor([[ 0.6190, -0.1545, -0.0357,  ...,  0.0223, -0.5201, -0.2503],\n",
       "        [-0.0025,  0.2731,  0.1923,  ..., -0.2375, -1.7974,  0.3756],\n",
       "        [-0.3421,  0.8493,  0.2690,  ...,  0.0306, -0.1123,  0.0721],\n",
       "        ...,\n",
       "        [ 1.0431,  1.5483, -0.2708,  ..., -0.7088,  0.3727, -0.4955],\n",
       "        [ 1.4387,  2.1721,  0.5134,  ..., -0.6884,  1.6500,  1.5502],\n",
       "        [ 0.3666,  1.6619,  0.0879,  ...,  0.4913,  1.5426,  0.0139]])"
      ]
     },
     "execution_count": 13,
     "metadata": {},
     "output_type": "execute_result"
    }
   ],
   "source": [
    "train_feats_hoptimus"
   ]
  },
  {
   "cell_type": "markdown",
   "metadata": {},
   "source": [
    "### ANN Model"
   ]
  },
  {
   "cell_type": "code",
   "execution_count": 14,
   "metadata": {},
   "outputs": [],
   "source": [
    "from sklearn.metrics import classification_report\n",
    "import pandas as pd\n",
    "\n",
    "def plot_classification_report(y_true, y_pred, target_names=None):\n",
    "    report_dict = classification_report(y_true, y_pred, target_names=target_names, output_dict=True)\n",
    "    df = pd.DataFrame(report_dict).transpose()\n",
    "    \n",
    "    plt.figure(figsize=(10, 6))\n",
    "    sns.heatmap(df.iloc[:-1, :-1], annot=True, cmap=\"YlGnBu\", fmt=\".2f\")\n",
    "    plt.title(\"Classification Report\")\n",
    "    plt.show()\n",
    "    \n",
    "from sklearn.metrics import roc_curve, auc\n",
    "from sklearn.preprocessing import label_binarize\n",
    "from itertools import cycle\n",
    "\n",
    "def plot_roc_multiclass(y_true, y_score, n_classes):\n",
    "    y_true_bin = label_binarize(y_true, classes=list(range(n_classes)))\n",
    "    fpr = dict()\n",
    "    tpr = dict()\n",
    "    roc_auc = dict()\n",
    "    for i in range(n_classes):\n",
    "        fpr[i], tpr[i], _ = roc_curve(y_true_bin[:, i], y_score[:, i])\n",
    "        roc_auc[i] = auc(fpr[i], tpr[i])\n",
    "\n",
    "    colors = cycle(sns.color_palette(\"husl\", n_classes))\n",
    "    plt.figure(figsize=(10, 8))\n",
    "    for i, color in zip(range(n_classes), colors):\n",
    "        plt.plot(fpr[i], tpr[i], color=color, lw=2,\n",
    "                 label='Class {0} (AUC = {1:0.2f})'.format(i, roc_auc[i]))\n",
    "\n",
    "    plt.plot([0, 1], [0, 1], 'k--', lw=2)\n",
    "    plt.xlim([-0.05, 1.0])\n",
    "    plt.ylim([0.0, 1.05])\n",
    "    plt.xlabel('False Positive Rate')\n",
    "    plt.ylabel('True Positive Rate')\n",
    "    plt.title('Multi-class ROC Curve')\n",
    "    plt.legend(loc='lower right')\n",
    "    plt.grid(True)\n",
    "    plt.show()\n",
    "\n",
    "def plot_prediction_confidence(probs, preds, targets):\n",
    "    confidences = probs[np.arange(len(preds)), preds]\n",
    "    correct = preds == targets\n",
    "\n",
    "    plt.figure(figsize=(10, 6))\n",
    "    sns.histplot(confidences[correct], color='green', label='Correct', kde=True, stat='density')\n",
    "    sns.histplot(confidences[~correct], color='red', label='Incorrect', kde=True, stat='density')\n",
    "    plt.xlabel(\"Prediction Confidence\")\n",
    "    plt.ylabel(\"Density\")\n",
    "    plt.title(\"Prediction Confidence Distribution\")\n",
    "    plt.legend()\n",
    "    plt.grid(True)\n",
    "    plt.show()\n"
   ]
  },
  {
   "cell_type": "code",
   "execution_count": 15,
   "metadata": {},
   "outputs": [],
   "source": [
    "import torch\n",
    "from typing import Tuple, Dict, Any, List\n",
    "import torch.nn.functional as F\n",
    "import numpy as np\n",
    "import time\n",
    "from sklearn.metrics import confusion_matrix\n",
    "import seaborn as sns\n",
    "import matplotlib.pyplot as plt\n",
    "from UNI_main.metrics import get_eval_metrics\n",
    "import matplotlib.pyplot as plt\n",
    "\n",
    "\n",
    "class ANNClassifier:\n",
    "    def __init__(self, input_dim=None, hidden_dim1=224, hidden_dim2=128, C=1.0, max_iter=100, verbose=True, random_state=42):\n",
    "        self.C = C\n",
    "        self.loss_func = torch.nn.CrossEntropyLoss()\n",
    "        self.max_iter = max_iter\n",
    "        self.random_state = random_state\n",
    "        self.verbose = verbose\n",
    "        self.device = torch.device(\"cuda\" if torch.cuda.is_available() else \"cpu\")\n",
    "        self.input_dim = input_dim  # Will be set during fit() if None\n",
    "        self.hidden_dim1 = hidden_dim1\n",
    "        self.hidden_dim2 = hidden_dim2\n",
    "        self.model = None\n",
    "\n",
    "    def compute_loss(self, preds, labels):\n",
    "        loss = self.loss_func(preds, labels)\n",
    "        wreg = 0.5 * sum((param.norm(p=2) for param in self.model.parameters()))  # L2 regularization\n",
    "        return loss.mean() + (1.0 / self.C) * wreg\n",
    "\n",
    "    def predict_proba(self, feats):\n",
    "        feats = feats.to(self.device)\n",
    "        with torch.no_grad():\n",
    "            return torch.softmax(self.model(feats), dim=1)\n",
    "\n",
    "\n",
    "    def fit(self, feats, labels):\n",
    "        torch.manual_seed(self.random_state)\n",
    "        np.random.seed(self.random_state)\n",
    "    \n",
    "        # Set input_dim if not set\n",
    "        if self.input_dim is None:\n",
    "            self.input_dim = feats.shape[1]\n",
    "    \n",
    "        self.model = torch.nn.Sequential(\n",
    "            torch.nn.Linear(self.input_dim, self.hidden_dim1),\n",
    "            torch.nn.ReLU(),\n",
    "            torch.nn.Dropout(0.3),\n",
    "            torch.nn.Linear(self.hidden_dim1, self.hidden_dim2),\n",
    "            torch.nn.ReLU(),\n",
    "            torch.nn.Dropout(0.3),\n",
    "            torch.nn.Linear(self.hidden_dim2, 9)  # Assuming 9 classes\n",
    "        ).to(self.device)\n",
    "    \n",
    "        for layer in self.model:\n",
    "            if isinstance(layer, torch.nn.Linear):\n",
    "                torch.nn.init.xavier_uniform_(layer.weight)\n",
    "    \n",
    "        feats = feats.to(self.device)\n",
    "        labels = labels.long().to(self.device)\n",
    "    \n",
    "        opt = torch.optim.Adam(self.model.parameters(), lr=1e-3, weight_decay=1e-5)\n",
    "        scheduler = torch.optim.lr_scheduler.ReduceLROnPlateau(opt, mode='min', factor=0.5, patience=5)\n",
    "    \n",
    "        min_loss = np.inf\n",
    "        patience = 10\n",
    "        patience_counter = 0\n",
    "    \n",
    "        # For plotting\n",
    "        self.train_losses = []\n",
    "        self.lr_schedule = []\n",
    "        self.grad_norms = []\n",
    "    \n",
    "        for epoch in range(self.max_iter):\n",
    "            opt.zero_grad()\n",
    "            preds = self.model(feats)\n",
    "            loss = self.compute_loss(preds, labels)\n",
    "            loss.backward()\n",
    "    \n",
    "            # Save gradient norm\n",
    "            total_norm = 0.0\n",
    "            for p in self.model.parameters():\n",
    "                if p.grad is not None:\n",
    "                    param_norm = p.grad.data.norm(2)\n",
    "                    total_norm += param_norm.item() ** 2\n",
    "            self.grad_norms.append(total_norm ** 0.5)\n",
    "    \n",
    "            opt.step()\n",
    "            scheduler.step(loss)\n",
    "    \n",
    "            # Save loss and learning rate\n",
    "            self.train_losses.append(loss.item())\n",
    "            self.lr_schedule.append(opt.param_groups[0]['lr'])\n",
    "    \n",
    "            if self.verbose and epoch % 10 == 0:\n",
    "                print(f\"Epoch {epoch}: Loss: {loss:.4f}\")\n",
    "    \n",
    "            if loss < min_loss:\n",
    "                min_loss = loss\n",
    "                patience_counter = 0\n",
    "                best_model = self.model.state_dict()\n",
    "            else:\n",
    "                patience_counter += 1\n",
    "    \n",
    "            # Uncomment for early stopping\n",
    "            # if patience_counter >= patience:\n",
    "            #     print(f\"Early stopping at epoch {epoch}\")\n",
    "            #     break\n",
    "    \n",
    "        self.model.load_state_dict(best_model)\n",
    "    \n",
    "        if self.verbose:\n",
    "            print(f\"Final Loss: {min_loss:.4f}\")\n",
    "            self._plot_training_curves()\n",
    "    \n",
    "    def _plot_training_curves(self):\n",
    "        plt.figure(figsize=(16, 4))\n",
    "    \n",
    "        # Plot 1: Training Loss\n",
    "        plt.subplot(1, 3, 1)\n",
    "        plt.plot(self.train_losses, label='Training Loss', color='blue')\n",
    "        plt.xlabel('Epoch')\n",
    "        plt.ylabel('Loss')\n",
    "        plt.title('Training Loss Over Epochs')\n",
    "        plt.grid(True)\n",
    "        plt.legend()\n",
    "    \n",
    "        # Plot 2: Learning Rate\n",
    "        plt.subplot(1, 3, 2)\n",
    "        plt.plot(self.lr_schedule, label='Learning Rate', color='green')\n",
    "        plt.xlabel('Epoch')\n",
    "        plt.ylabel('LR')\n",
    "        plt.title('Learning Rate Schedule')\n",
    "        plt.grid(True)\n",
    "        plt.legend()\n",
    "    \n",
    "        # Plot 3: Gradient Norms\n",
    "        plt.subplot(1, 3, 3)\n",
    "        plt.plot(self.grad_norms, label='Gradient Norm', color='red')\n",
    "        plt.xlabel('Epoch')\n",
    "        plt.ylabel('L2 Norm')\n",
    "        plt.title('Gradient Norm Over Epochs')\n",
    "        plt.grid(True)\n",
    "        plt.legend()\n",
    "    \n",
    "        plt.tight_layout()\n",
    "        plt.show()\n",
    "\n",
    "\n",
    "def eval_ANN_probe(\n",
    "    train_feats: torch.Tensor,\n",
    "    train_labels: torch.Tensor,\n",
    "    valid_feats: torch.Tensor,\n",
    "    valid_labels: torch.Tensor,\n",
    "    test_feats: torch.Tensor,\n",
    "    test_labels: torch.Tensor,\n",
    "    max_iter: int = 1000,\n",
    "    combine_trainval: bool = True,\n",
    "    verbose: bool = True,\n",
    "    save_path: str = None,\n",
    "    hidden_dim1=224,\n",
    "    hidden_dim2=128,\n",
    "    C=1.0\n",
    ") -> Tuple[Dict[str, Any], Dict[str, Any]]:\n",
    "\n",
    "    start = time.time()\n",
    "    classifier = train_ANN_probe(\n",
    "        train_feats, train_labels,\n",
    "        valid_feats, valid_labels,\n",
    "        max_iter=max_iter,\n",
    "        combine_trainval=combine_trainval,\n",
    "        verbose=verbose,\n",
    "        hidden_dim1=hidden_dim1,\n",
    "        hidden_dim2=hidden_dim2,\n",
    "        C=C\n",
    "    )\n",
    "\n",
    "    results, dump = test_ANN_probe(classifier, test_feats, test_labels, prefix=\"ann_\", verbose=verbose)\n",
    "    classifier.model = classifier.model.to(torch.device(\"cpu\"))\n",
    "    dump[\"model\"] = classifier.model.state_dict()\n",
    "\n",
    "    if save_path is not None:\n",
    "        torch.save(classifier.model, save_path)\n",
    "        if verbose:\n",
    "            print(f\"Model saved at: {save_path}\")\n",
    "    del classifier\n",
    "    torch.cuda.empty_cache()\n",
    "    if verbose:\n",
    "        print(f\"ANN Probe Evaluation: Time taken {time.time() - start:.2f} and model saved : {save_path}\")\n",
    "\n",
    "    return results, dump\n",
    "\n",
    "def train_ANN_probe(\n",
    "    train_feats,\n",
    "    train_labels,\n",
    "    valid_feats,\n",
    "    valid_labels,\n",
    "    max_iter=1000,\n",
    "    combine_trainval=True,\n",
    "    verbose=True,\n",
    "    hidden_dim1=224,\n",
    "    hidden_dim2=128,\n",
    "    C=1.0,\n",
    "):\n",
    "    if combine_trainval and valid_feats is not None:\n",
    "        trainval_feats = torch.cat([train_feats, valid_feats], dim=0)\n",
    "        trainval_labels = torch.cat([train_labels, valid_labels], dim=0)\n",
    "        if verbose:\n",
    "            print(\"Combining train and validation sets. Trainval shape: \", trainval_feats.shape)\n",
    "        classifier = ANNClassifier(hidden_dim1=hidden_dim1, hidden_dim2=hidden_dim2, C=C, max_iter=max_iter, verbose=verbose)\n",
    "        classifier.fit(trainval_feats, trainval_labels)\n",
    "    else:\n",
    "        classifier = ANNClassifier(hidden_dim1=hidden_dim1, hidden_dim2=hidden_dim2, C=C, max_iter=max_iter, verbose=verbose)\n",
    "        classifier.fit(train_feats, train_labels)\n",
    "    return classifier\n",
    "\n",
    "def test_ANN_probe(\n",
    "    classifier: ANNClassifier,\n",
    "    test_feats: torch.Tensor,\n",
    "    test_labels: torch.Tensor,\n",
    "    prefix: str = \"ann_\",\n",
    "    verbose: bool = True,\n",
    ") -> Tuple[Dict[str, Any], Dict[str, Any]]:\n",
    "    if verbose:\n",
    "        print(f\"ANN Probe Evaluation: Test shape {test_feats.shape}\")\n",
    "\n",
    "    probs_all = classifier.predict_proba(test_feats).cpu().numpy()\n",
    "    preds_all = np.argmax(probs_all, axis=1)\n",
    "    targets_all = test_labels.cpu().numpy()\n",
    "    roc_kwargs = {\"multi_class\": \"ovo\", \"average\": \"macro\"}\n",
    "\n",
    "    # ⬇️ Calculate accuracy\n",
    "    accuracy = np.mean(preds_all == targets_all)\n",
    "    print(f\"✅ Test Accuracy: {accuracy * 100:.2f}%\")\n",
    "\n",
    "    # ⬇️ Eval metrics\n",
    "    eval_metrics = get_eval_metrics(targets_all, preds_all, probs_all, True, prefix, roc_kwargs)\n",
    "    dump = {\"preds_all\": preds_all, \"probs_all\": probs_all, \"targets_all\": targets_all}\n",
    "\n",
    "    # ⬇️ Confusion matrix\n",
    "    conf_matrix = confusion_matrix(targets_all, preds_all)\n",
    "    print(\"Confusion Matrix:\")\n",
    "    plot_confusion_matrix(conf_matrix)\n",
    "    \n",
    "    # ⬇️ New plots for deeper insight\n",
    "    plot_classification_report(targets_all, preds_all)\n",
    "    plot_roc_multiclass(targets_all, probs_all, n_classes=9)\n",
    "    plot_prediction_confidence(probs_all, preds_all, targets_all)\n",
    "\n",
    "\n",
    "    return eval_metrics, dump\n",
    "\n",
    "    \n",
    "def plot_confusion_matrix(cm):\n",
    "    plt.figure(figsize=(10, 7))\n",
    "    sns.heatmap(cm, annot=True,fmt='d', cmap='Blues')\n",
    "    plt.xlabel('Predicted')\n",
    "    plt.ylabel('True')\n",
    "    plt.title('Confusion Matrix')\n",
    "    plt.show()"
   ]
  },
  {
   "cell_type": "code",
   "execution_count": 16,
   "metadata": {},
   "outputs": [],
   "source": [
    "from sklearn.model_selection import train_test_split\n",
    "from itertools import product\n",
    "\n",
    "def ann_grid_search(\n",
    "    train_feats, train_labels,\n",
    "    test_feats, test_labels,\n",
    "    validation_split=0.2,\n",
    "    seed=42\n",
    "):\n",
    "    # Split train_feats into training and validation parts\n",
    "    train_idx, val_idx = train_test_split(\n",
    "        np.arange(train_feats.shape[0]),\n",
    "        test_size=validation_split,\n",
    "        random_state=seed,\n",
    "        stratify=train_labels.cpu().numpy()  # Preserves class distribution\n",
    "    )\n",
    "    train_feats_split = train_feats[train_idx]\n",
    "    train_labels_split = train_labels[train_idx]\n",
    "    val_feats_split = train_feats[val_idx]\n",
    "    val_labels_split = train_labels[val_idx]\n",
    "\n",
    "    # Grid parameters\n",
    "    hidden_dim1_vals = [128, 224, 256]\n",
    "    hidden_dim2_vals = [64, 128]\n",
    "    C_vals = [0.1, 1.0, 10.0]\n",
    "    max_iter_vals = [500]\n",
    "\n",
    "    best_score = -np.inf\n",
    "    best_params = None\n",
    "    best_classifier = None\n",
    "\n",
    "    for h1, h2, c, m in product(hidden_dim1_vals, hidden_dim2_vals, C_vals, max_iter_vals):\n",
    "        print(f\"Trying: hidden_dim1={h1}, hidden_dim2={h2}, C={c}, max_iter={m}\")\n",
    "        classifier = ANNClassifier(\n",
    "            hidden_dim1=h1,\n",
    "            hidden_dim2=h2,\n",
    "            C=c,\n",
    "            max_iter=m,\n",
    "            verbose=False\n",
    "        )\n",
    "        classifier.fit(train_feats_split, train_labels_split)\n",
    "\n",
    "        # Evaluate on validation set\n",
    "        probs = classifier.predict_proba(val_feats_split).cpu().numpy()\n",
    "        preds = np.argmax(probs, axis=1)\n",
    "        targets = val_labels_split.cpu().numpy()\n",
    "        acc = np.mean(preds == targets)\n",
    "\n",
    "        print(f\"Validation Accuracy: {acc:.4f}\")\n",
    "\n",
    "        if acc > best_score:\n",
    "            best_score = acc\n",
    "            best_params = {'hidden_dim1': h1, 'hidden_dim2': h2, 'C': c, 'max_iter': m}\n",
    "            best_classifier = classifier\n",
    "\n",
    "    print(\"\\n✅ Best Parameters:\", best_params)\n",
    "    print(\"📈 Best Validation Accuracy:\", best_score)\n",
    "    return best_params, best_classifier"
   ]
  },
  {
   "cell_type": "markdown",
   "metadata": {},
   "source": [
    "## Hoptimus model"
   ]
  },
  {
   "cell_type": "code",
   "execution_count": 17,
   "metadata": {},
   "outputs": [
    {
     "name": "stdout",
     "output_type": "stream",
     "text": [
      "Trying: hidden_dim1=128, hidden_dim2=64, C=0.1, max_iter=500\n",
      "Validation Accuracy: 0.1041\n",
      "Trying: hidden_dim1=128, hidden_dim2=64, C=1.0, max_iter=500\n",
      "Validation Accuracy: 0.9780\n",
      "Trying: hidden_dim1=128, hidden_dim2=64, C=10.0, max_iter=500\n",
      "Validation Accuracy: 0.9921\n",
      "Trying: hidden_dim1=128, hidden_dim2=128, C=0.1, max_iter=500\n",
      "Validation Accuracy: 0.1041\n",
      "Trying: hidden_dim1=128, hidden_dim2=128, C=1.0, max_iter=500\n",
      "Validation Accuracy: 0.9791\n",
      "Trying: hidden_dim1=128, hidden_dim2=128, C=10.0, max_iter=500\n",
      "Validation Accuracy: 0.9925\n",
      "Trying: hidden_dim1=224, hidden_dim2=64, C=0.1, max_iter=500\n",
      "Validation Accuracy: 0.1041\n",
      "Trying: hidden_dim1=224, hidden_dim2=64, C=1.0, max_iter=500\n",
      "Validation Accuracy: 0.9788\n",
      "Trying: hidden_dim1=224, hidden_dim2=64, C=10.0, max_iter=500\n",
      "Validation Accuracy: 0.9922\n",
      "Trying: hidden_dim1=224, hidden_dim2=128, C=0.1, max_iter=500\n",
      "Validation Accuracy: 0.1041\n",
      "Trying: hidden_dim1=224, hidden_dim2=128, C=1.0, max_iter=500\n",
      "Validation Accuracy: 0.9811\n",
      "Trying: hidden_dim1=224, hidden_dim2=128, C=10.0, max_iter=500\n",
      "Validation Accuracy: 0.9924\n",
      "Trying: hidden_dim1=256, hidden_dim2=64, C=0.1, max_iter=500\n",
      "Validation Accuracy: 0.1041\n",
      "Trying: hidden_dim1=256, hidden_dim2=64, C=1.0, max_iter=500\n",
      "Validation Accuracy: 0.9784\n",
      "Trying: hidden_dim1=256, hidden_dim2=64, C=10.0, max_iter=500\n",
      "Validation Accuracy: 0.9919\n",
      "Trying: hidden_dim1=256, hidden_dim2=128, C=0.1, max_iter=500\n",
      "Validation Accuracy: 0.1041\n",
      "Trying: hidden_dim1=256, hidden_dim2=128, C=1.0, max_iter=500\n",
      "Validation Accuracy: 0.9805\n",
      "Trying: hidden_dim1=256, hidden_dim2=128, C=10.0, max_iter=500\n",
      "Validation Accuracy: 0.9928\n",
      "\n",
      "✅ Best Parameters: {'hidden_dim1': 256, 'hidden_dim2': 128, 'C': 10.0, 'max_iter': 500}\n",
      "📈 Best Validation Accuracy: 0.9928\n",
      "Epoch 0: Loss: 4.5570\n",
      "Epoch 10: Loss: 2.0142\n",
      "Epoch 20: Loss: 1.9361\n",
      "Epoch 30: Loss: 1.8535\n",
      "Epoch 40: Loss: 1.7656\n",
      "Epoch 50: Loss: 1.6751\n",
      "Epoch 60: Loss: 1.5867\n",
      "Epoch 70: Loss: 1.4992\n",
      "Epoch 80: Loss: 1.4127\n",
      "Epoch 90: Loss: 1.3273\n",
      "Epoch 100: Loss: 1.2438\n",
      "Epoch 110: Loss: 1.1626\n",
      "Epoch 120: Loss: 1.0837\n",
      "Epoch 130: Loss: 1.0083\n",
      "Epoch 140: Loss: 0.9359\n",
      "Epoch 150: Loss: 0.8672\n",
      "Epoch 160: Loss: 0.8032\n",
      "Epoch 170: Loss: 0.7435\n",
      "Epoch 180: Loss: 0.6895\n",
      "Epoch 190: Loss: 0.6398\n",
      "Epoch 200: Loss: 0.5954\n",
      "Epoch 210: Loss: 0.5570\n",
      "Epoch 220: Loss: 0.5247\n",
      "Epoch 230: Loss: 0.4982\n",
      "Epoch 240: Loss: 0.4767\n",
      "Epoch 250: Loss: 0.4600\n",
      "Epoch 260: Loss: 0.4478\n",
      "Epoch 270: Loss: 0.4388\n",
      "Epoch 280: Loss: 0.4319\n",
      "Epoch 290: Loss: 0.4267\n",
      "Epoch 300: Loss: 0.4227\n",
      "Epoch 310: Loss: 0.4197\n",
      "Epoch 320: Loss: 0.4176\n",
      "Epoch 330: Loss: 0.4156\n",
      "Epoch 340: Loss: 0.4143\n",
      "Epoch 350: Loss: 0.4131\n",
      "Epoch 360: Loss: 0.4123\n",
      "Epoch 370: Loss: 0.4117\n",
      "Epoch 380: Loss: 0.4114\n",
      "Epoch 390: Loss: 0.4105\n",
      "Epoch 400: Loss: 0.4100\n",
      "Epoch 410: Loss: 0.4103\n",
      "Epoch 420: Loss: 0.4097\n",
      "Epoch 430: Loss: 0.4100\n",
      "Epoch 440: Loss: 0.4101\n",
      "Epoch 450: Loss: 0.4098\n",
      "Epoch 460: Loss: 0.4094\n",
      "Epoch 470: Loss: 0.4098\n",
      "Epoch 480: Loss: 0.4097\n",
      "Epoch 490: Loss: 0.4098\n",
      "Final Loss: 0.4093\n"
     ]
    },
    {
     "data": {
      "image/png": "[encoded data removed]",
      "text/plain": [
       "<Figure size 1600x400 with 3 Axes>"
      ]
     },
     "metadata": {},
     "output_type": "display_data"
    },
    {
     "name": "stdout",
     "output_type": "stream",
     "text": [
      "ANN Probe Evaluation: Test shape torch.Size([7180, 1536])\n",
      "✅ Test Accuracy: 96.60%\n",
      "Confusion Matrix:\n"
     ]
    },
    {
     "data": {
      "image/png": "[encoded data removed]",
      "text/plain": [
       "<Figure size 1000x700 with 2 Axes>"
      ]
     },
     "metadata": {},
     "output_type": "display_data"
    },
    {
     "data": {
      "image/png": "[encoded data removed]",
      "text/plain": [
       "<Figure size 1000x600 with 2 Axes>"
      ]
     },
     "metadata": {},
     "output_type": "display_data"
    },
    {
     "data": {
      "image/png": "[encoded data removed]",
      "text/plain": [
       "<Figure size 1000x800 with 1 Axes>"
      ]
     },
     "metadata": {},
     "output_type": "display_data"
    },
    {
     "data": {
      "image/png": "[encoded data removed]",
      "text/plain": [
       "<Figure size 1000x600 with 1 Axes>"
      ]
     },
     "metadata": {},
     "output_type": "display_data"
    },
    {
     "name": "stdout",
     "output_type": "stream",
     "text": [
      "Model saved at: ./models/ann_crc100k_Hoptimus.pth\n",
      "ANN Probe Evaluation: Time taken 11.68 and model saved : ./models/ann_crc100k_Hoptimus.pth\n"
     ]
    }
   ],
   "source": [
    "best_params, _ = ann_grid_search(\n",
    "    train_feats=train_feats_hoptimus,\n",
    "    train_labels=train_labels_hoptimus,\n",
    "    test_feats=test_feats_hoptimus,\n",
    "    test_labels=test_labels_hoptimus\n",
    ")\n",
    "\n",
    "import torch\n",
    "\n",
    "# Train final model on full training set with best parameters\n",
    "linprobe_eval_metrics, linprobe_dump = eval_ANN_probe(\n",
    "    train_feats=train_feats_hoptimus,\n",
    "    train_labels=train_labels_hoptimus,\n",
    "    valid_feats=None,\n",
    "    valid_labels=None,\n",
    "    test_feats=test_feats_hoptimus,\n",
    "    test_labels=test_labels_hoptimus,\n",
    "    max_iter=best_params['max_iter'],\n",
    "    hidden_dim1=best_params['hidden_dim1'],\n",
    "    hidden_dim2=best_params['hidden_dim2'],\n",
    "    C=best_params['C'],\n",
    "    verbose=True,\n",
    "    save_path='./models/ann_crc100k_Hoptimus.pth'\n",
    ")"
   ]
  },
  {
   "cell_type": "code",
   "execution_count": 20,
   "metadata": {},
   "outputs": [
    {
     "data": {
      "text/plain": [
       "{'hidden_dim1': 256, 'hidden_dim2': 128, 'C': 10.0, 'max_iter': 500}"
      ]
     },
     "execution_count": 20,
     "metadata": {},
     "output_type": "execute_result"
    }
   ],
   "source": [
    "best_params"
   ]
  },
  {
   "cell_type": "code",
   "execution_count": 21,
   "metadata": {},
   "outputs": [
    {
     "name": "stdout",
     "output_type": "stream",
     "text": [
      "✅ Saved best_params to best_params.json\n"
     ]
    }
   ],
   "source": [
    "import json\n",
    "\n",
    "with open('best_parameters/best_params_Hoptimus.json', 'w') as f:\n",
    "    json.dump(best_params, f, indent=4)\n",
    "\n",
    "print(\"✅ Saved best_params to best_params.json\")"
   ]
  },
  {
   "cell_type": "code",
   "execution_count": null,
   "metadata": {},
   "outputs": [],
   "source": []
  }
 ],
 "metadata": {
  "kernelspec": {
   "display_name": "Python (exaonepath)",
   "language": "python",
   "name": "exaonepath"
  },
  "language_info": {
   "codemirror_mode": {
    "name": "ipython",
    "version": 3
   },
   "file_extension": ".py",
   "mimetype": "text/x-python",
   "name": "python",
   "nbconvert_exporter": "python",
   "pygments_lexer": "ipython3",
   "version": "3.10.18"
  }
 },
 "nbformat": 4,
 "nbformat_minor": 4
}
