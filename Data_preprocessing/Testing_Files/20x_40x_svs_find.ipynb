{
 "cells": [
  {
   "cell_type": "markdown",
   "id": "e21b5cf1-78b3-494f-8a69-2254a2996f3c",
   "metadata": {},
   "source": [
    "## Finding 40x magnification svs"
   ]
  },
  {
   "cell_type": "code",
   "execution_count": 4,
   "id": "82750578-1f09-481e-8f8a-ecd7cdc5fbf3",
   "metadata": {},
   "outputs": [
    {
     "name": "stdout",
     "output_type": "stream",
     "text": [
      "Found .svs files: ['TCGA-A6-2686-01Z-00-DX1.0540a027-2a0c-46c7-9af0-7b8672631de7.svs'] in 001b7d97-9425-43c3-a9a3-a36cb3d2a591\n",
      "File: TCGA-A6-2686-01Z-00-DX1.0540a027-2a0c-46c7-9af0-7b8672631de7.svs | Magnification: 40x\n",
      "Found .svs files: ['TCGA-D5-5539-01Z-00-DX1.9c46fe78-2adb-4f49-9141-cda135c2c90b.svs'] in 00d69f69-3120-4b0c-8985-aab4edf9bc4b\n",
      "File: TCGA-D5-5539-01Z-00-DX1.9c46fe78-2adb-4f49-9141-cda135c2c90b.svs | Magnification: 40x\n",
      "Found .svs files: ['TCGA-A6-2683-01Z-00-DX1.0dfc5d0a-68f4-45e1-a879-0428313c6dbc.svs'] in 011da0ba-03eb-41cd-ae90-2dca944410e5\n",
      "File: TCGA-A6-2683-01Z-00-DX1.0dfc5d0a-68f4-45e1-a879-0428313c6dbc.svs | Magnification: 40x\n",
      "Stored path for 40x SVS file: D:/Aamir Gulzar/WSI_Raw_data\\011da0ba-03eb-41cd-ae90-2dca944410e5\\TCGA-A6-2683-01Z-00-DX1.0dfc5d0a-68f4-45e1-a879-0428313c6dbc.svs\n"
     ]
    }
   ],
   "source": [
    "import os\n",
    "import openslide\n",
    "import random\n",
    "\n",
    "wsi_root = \"D:/Aamir Gulzar/WSI_Raw_data\"\n",
    "found_40x_path = None\n",
    "\n",
    "for subdir in os.listdir(wsi_root):\n",
    "    full_subdir_path = os.path.join(wsi_root, subdir)\n",
    "    if not os.path.isdir(full_subdir_path):\n",
    "        continue  # Skip if not a directory\n",
    "\n",
    "    svs_files = [f for f in os.listdir(full_subdir_path) if f.endswith('.svs')]\n",
    "    if not svs_files:\n",
    "        print(f\"❌ No .svs file found in: {full_subdir_path}\")\n",
    "        continue\n",
    "    else:\n",
    "        print(f\"Found .svs files: {svs_files} in {subdir}\")\n",
    "\n",
    "    for svs_file in svs_files:\n",
    "        svs_path = os.path.join(full_subdir_path, svs_file)\n",
    "        try:\n",
    "            slide = openslide.OpenSlide(svs_path)\n",
    "            magnification = slide.properties.get(\"openslide.objective-power\")\n",
    "            slide.close()\n",
    "            \n",
    "            if magnification:\n",
    "                print(f\"File: {svs_file} | Magnification: {magnification}x\")\n",
    "                if magnification == \"40\":\n",
    "                    num = random.random()  # generates float between 0 and 1\n",
    "                    if num < 0.5:\n",
    "                        found_40x_path = svs_path\n",
    "                        break\n",
    "            else:\n",
    "                print(f\"File: {svs_file} | Magnification info not found\")\n",
    "        except Exception as e:\n",
    "            print(f\"⚠️ Error reading {svs_file}: {e}\")\n",
    "\n",
    "    if found_40x_path:\n",
    "        break  # Break outer loop once found\n",
    "\n",
    "if not found_40x_path:\n",
    "    print(\"No 40x magnification SVS file found.\")\n",
    "else:\n",
    "    print(f\"Stored path for 40x SVS file: {found_40x_path}\")"
   ]
  },
  {
   "cell_type": "markdown",
   "id": "a5497ca6-4f2c-4d36-8a42-cee9ccc8c18c",
   "metadata": {},
   "source": [
    "## Finding 20x magnification svs"
   ]
  },
  {
   "cell_type": "code",
   "execution_count": 1,
   "id": "142e224a-708d-4f55-8f73-64e254e1710c",
   "metadata": {
    "scrolled": true
   },
   "outputs": [
    {
     "name": "stdout",
     "output_type": "stream",
     "text": [
      "File: TCGA-A6-2686-01Z-00-DX1.0540a027-2a0c-46c7-9af0-7b8672631de7.svs | Magnification: 40x\n",
      "File: TCGA-D5-5539-01Z-00-DX1.9c46fe78-2adb-4f49-9141-cda135c2c90b.svs | Magnification: 40x\n",
      "File: TCGA-A6-2683-01Z-00-DX1.0dfc5d0a-68f4-45e1-a879-0428313c6dbc.svs | Magnification: 40x\n",
      "File: TCGA-F4-6459-01Z-00-DX1.80a78213-1137-4521-9d60-ac64813dec4c.svs | Magnification: 40x\n",
      "File: TCGA-AY-4070-01Z-00-DX1.dd650ac6-8480-4fd8-85b8-15a7840a5933.svs | Magnification: 40x\n",
      "File: TCGA-A6-6653-01Z-00-DX1.e130666d-2681-4382-9e7a-4a4d27cb77a4.svs | Magnification: 40x\n",
      "File: TCGA-DM-A1D8-01Z-00-DX1.2DD544F5-D72F-4840-B2D3-F361E032EA3B.svs | Magnification: 40x\n",
      "File: TCGA-AG-3581-01Z-00-DX1.2d8ba8ba-0533-41e5-b0e0-0d49ef408302.svs | Magnification: 20x\n",
      "Found\n",
      "Stored path for 20x SVS file: D:\\Aamir Gulzar\\WSI_Raw_data\\02e1301c-1ee8-4853-9925-d01a1e7f7c3c\\TCGA-AG-3581-01Z-00-DX1.2d8ba8ba-0533-41e5-b0e0-0d49ef408302.svs\n"
     ]
    }
   ],
   "source": [
    "import os\n",
    "import openslide\n",
    "import random\n",
    "from pathlib import Path\n",
    "\n",
    "wsi_root = Path(\"D:/Aamir Gulzar/WSI_Raw_data\")\n",
    "found_20x_path = None\n",
    "\n",
    "for subdir in os.listdir(wsi_root):\n",
    "    # full_subdir_path = os.path.join(wsi_root, subdir)\n",
    "    full_subdir_path = wsi_root / subdir\n",
    "    if not os.path.isdir(full_subdir_path):\n",
    "        continue  # Skip if not a directory\n",
    "\n",
    "    svs_files = [f for f in os.listdir(full_subdir_path) if f.endswith('.svs')]\n",
    "    if not svs_files:\n",
    "        print(f\"❌ No .svs file found in: {full_subdir_path}\")\n",
    "        continue\n",
    "        \n",
    "    for svs_file in svs_files:\n",
    "        svs_path = os.path.join(full_subdir_path, svs_file)\n",
    "        try:\n",
    "            slide = openslide.OpenSlide(svs_path)\n",
    "            magnification = slide.properties.get(\"openslide.objective-power\")\n",
    "            slide.close()\n",
    "            \n",
    "            if magnification:\n",
    "                print(f\"File: {svs_file} | Magnification: {magnification}x\")\n",
    "                if magnification == \"20\":\n",
    "                    print(\"Found\")\n",
    "                    num = random.random()  # generates float between 0 and 1\n",
    "                    if num < 0.5:\n",
    "                        found_20x_path = svs_path\n",
    "                        break\n",
    "            else:\n",
    "                print(f\"File: {svs_file} | Magnification info not found\")\n",
    "        except Exception as e:\n",
    "            print(f\"⚠️ Error reading {svs_file}: {e}\")\n",
    "\n",
    "    if found_20x_path:\n",
    "        break  # Break outer loop once found\n",
    "\n",
    "if not found_20x_path:\n",
    "    print(\"No 20x magnification SVS file found.\")\n",
    "else:\n",
    "    print(f\"Stored path for 20x SVS file: {found_20x_path}\")"
   ]
  },
  {
   "cell_type": "code",
   "execution_count": 2,
   "id": "8f9d043c-1e91-41be-93e8-29e98d160305",
   "metadata": {},
   "outputs": [],
   "source": [
    "# import openslide\n",
    "# # svs_path= 'D:\\Aamir Gulzar\\WSI_Raw_data\\02e1301c-1ee8-4853-9925-d01a1e7f7c3c\\TCGA-AG-3581-01Z-00-DX1.2d8ba8ba-0533-41e5-b0e0-0d49ef408302.svs'\n",
    "# # \"D:\\Aamir Gulzar\\WSI_Raw_data\\021821c9-68f3-4be3-97ec-4ade5b4aaa60\\TCGA-AY-4070-01Z-00-DX1.dd650ac6-8480-4fd8-85b8-15a7840a5933.svs\"\n",
    "# slide = openslide.OpenSlide(svs_path)\n",
    "# magnification = slide.properties.get(\"openslide.objective-power\")\n",
    "# slide.close()\n",
    "\n",
    "# if magnification:\n",
    "#     print(f\"Magnification: {magnification}x\")\n",
    "#     if magnification == \"20\":\n",
    "#         found_20x_path = svs_path\n",
    "#         print(f\"✅ Found 200 magnification at: {found_20x_path}\")\n",
    "# else:\n",
    "#     print(f\"File: | Magnification info not found\")"
   ]
  },
  {
   "cell_type": "code",
   "execution_count": null,
   "id": "a5331912-279c-4f66-b2c3-799a6acc03d3",
   "metadata": {},
   "outputs": [],
   "source": []
  }
 ],
 "metadata": {
  "kernelspec": {
   "display_name": "Python (TCG)",
   "language": "python",
   "name": "tcg"
  },
  "language_info": {
   "codemirror_mode": {
    "name": "ipython",
    "version": 3
   },
   "file_extension": ".py",
   "mimetype": "text/x-python",
   "name": "python",
   "nbconvert_exporter": "python",
   "pygments_lexer": "ipython3",
   "version": "3.10.18"
  }
 },
 "nbformat": 4,
 "nbformat_minor": 5
}
