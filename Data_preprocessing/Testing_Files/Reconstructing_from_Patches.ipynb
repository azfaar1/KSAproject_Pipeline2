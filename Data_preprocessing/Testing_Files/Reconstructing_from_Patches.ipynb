{
 "cells": [
  {
   "cell_type": "markdown",
   "id": "b70f046d-26d7-4708-9cd8-53672d354190",
   "metadata": {},
   "source": [
    "## Testing by reconstructing image"
   ]
  },
  {
   "cell_type": "code",
   "execution_count": 9,
   "id": "1f89ad63-40db-424d-a2df-1545e828de5b",
   "metadata": {},
   "outputs": [],
   "source": [
    "import os\n",
    "import re\n",
    "import numpy as np\n",
    "import pandas as pd\n",
    "from PIL import Image\n",
    "from tqdm import tqdm\n",
    "\n",
    "def reconstruct_from_patches(patch_dir, skipped_csv_path, output_path, patch_size=512):\n",
    "    # Load skipped coordinates\n",
    "    skipped_df = pd.read_csv(skipped_csv_path, usecols=['x', 'y'])\n",
    "\n",
    "    # Parse all available patch filenames\n",
    "    patch_files = [f for f in os.listdir(patch_dir) if f.endswith('.png')]\n",
    "    coords_dict = {}\n",
    "\n",
    "    # Regular expression to extract x, y from filename\n",
    "    pattern = re.compile(r'_x(\\d+)_y(\\d+)_patch\\d+\\.png')\n",
    "\n",
    "    for file in patch_files:\n",
    "        match = pattern.search(file)\n",
    "        if match:\n",
    "            x, y = map(int, match.groups())\n",
    "            coords_dict[(x, y)] = file\n",
    "\n",
    "    # Combine available + skipped coordinates\n",
    "    all_coords = set(coords_dict.keys()).union(set([tuple(row) for row in skipped_df[['x', 'y']].values]))\n",
    "\n",
    "    # Determine full canvas size\n",
    "    all_x = [x for x, _ in all_coords]\n",
    "    all_y = [y for _, y in all_coords]\n",
    "    min_x, max_x = min(all_x), max(all_x)\n",
    "    min_y, max_y = min(all_y), max(all_y)\n",
    "\n",
    "    width = max_x - min_x + patch_size\n",
    "    height = max_y - min_y + patch_size\n",
    "\n",
    "\n",
    "\n",
    "    n_cols = (width // patch_size)\n",
    "    n_rows = (height // patch_size)\n",
    "\n",
    "    print(f\"🧱 Reconstructing image of size: {width} x {height} ({n_cols} cols x {n_rows} rows)\")\n",
    "\n",
    "    # Create blank white canvas\n",
    "    canvas = Image.new('RGB', (width, height), color='white')\n",
    "\n",
    "    for (x, y) in tqdm(all_coords, desc='🧩 Placing patches'):\n",
    "        if (x, y) in coords_dict:\n",
    "            patch_path = os.path.join(patch_dir, coords_dict[(x, y)])\n",
    "            patch = Image.open(patch_path).convert('RGB')\n",
    "        else:\n",
    "            patch = Image.new('RGB', (patch_size, patch_size), color='white')\n",
    "\n",
    "        scaled_x = x - min_x\n",
    "        scaled_y = y - min_y\n",
    "\n",
    "        canvas.paste(patch, (scaled_x, scaled_y))\n",
    "\n",
    "\n",
    "    # Ensure output directory exists\n",
    "    os.makedirs(os.path.dirname(output_path), exist_ok=True)\n",
    "\n",
    "    # Save the reconstructed image\n",
    "    canvas.save(output_path)\n",
    "    print(f\"✅ Reconstructed image saved to: {output_path}\")"
   ]
  },
  {
   "cell_type": "code",
   "execution_count": 16,
   "id": "5e3d9b70-fa71-43fb-8633-b6a7a7de2c86",
   "metadata": {},
   "outputs": [],
   "source": [
    "import os\n",
    "import re\n",
    "import numpy as np\n",
    "from PIL import Image\n",
    "from tqdm import tqdm\n",
    "\n",
    "def reconstruct_from_patches(patch_dir, output_path, patch_size=512):\n",
    "    # Parse all available patch filenames\n",
    "    patch_files = [f for f in os.listdir(patch_dir) if f.endswith('.png')]\n",
    "    coords_dict = {}\n",
    "\n",
    "    # Regular expression to extract x, y from filename\n",
    "    pattern = re.compile(r'_x(\\d+)_y(\\d+)_patch\\d+\\.png')\n",
    "\n",
    "    for file in patch_files:\n",
    "        match = pattern.search(file)\n",
    "        if match:\n",
    "            x, y = map(int, match.groups())\n",
    "            coords_dict[(x, y)] = file\n",
    "\n",
    "    if not coords_dict:\n",
    "        print(\"❌ No valid patch filenames found.\")\n",
    "        return\n",
    "\n",
    "    # Get bounding box\n",
    "    all_x = [x for x, _ in coords_dict.keys()]\n",
    "    all_y = [y for _, y in coords_dict.keys()]\n",
    "    min_x, max_x = min(all_x), max(all_x)\n",
    "    min_y, max_y = min(all_y), max(all_y)\n",
    "\n",
    "    width = (max_x - min_x + patch_size)\n",
    "    height = (max_y - min_y + patch_size)\n",
    "\n",
    "    n_cols = (width // patch_size)\n",
    "    n_rows = (height // patch_size)\n",
    "\n",
    "    print(f\"🧱 Reconstructing image of size: {width} x {height} ({n_cols} cols x {n_rows} rows)\")\n",
    "\n",
    "    # Create blank canvas (white background)\n",
    "    canvas = Image.new('RGB', (width, height), color='white')\n",
    "\n",
    "    # Traverse full grid\n",
    "    print(\"📌 Drawing patches (black for missing)...\")\n",
    "    for row in tqdm(range(n_rows), desc=\"🧩 Placing patches\"):\n",
    "        for col in range(n_cols):\n",
    "            x = min_x + col * patch_size\n",
    "            y = min_y + row * patch_size\n",
    "\n",
    "            if (x, y) in coords_dict:\n",
    "                patch_path = os.path.join(patch_dir, coords_dict[(x, y)])\n",
    "                patch = Image.open(patch_path).convert('RGB')\n",
    "            else:\n",
    "                patch = Image.new('RGB', (patch_size, patch_size), color='black')  # skipped = black\n",
    "\n",
    "            canvas.paste(patch, (x - min_x, y - min_y))\n",
    "\n",
    "    os.makedirs(os.path.dirname(output_path), exist_ok=True)\n",
    "    canvas.save(output_path)\n",
    "    print(f\"✅ Reconstructed image saved to: {output_path}\")"
   ]
  },
  {
   "cell_type": "code",
   "execution_count": 29,
   "id": "7c56e967-733c-418d-9420-dc982042abc2",
   "metadata": {},
   "outputs": [],
   "source": [
    "patch_directory=r\"D:\\Aamir Gulzar\\KSA_project2\\Cancer-detection-classifier\\data_preprocessing\\Patches\\TCGA-AG-3581_None\"\n",
    "skipped_csv= './FLAT_DIRECTORY/patches/TCGA-AG-3581-01Z-00-DX1.2d8ba8ba-0533-41e5-b0e0-0d49ef408302_skipped_patches.csv'\n",
    "out_path= './Reconstructed_img/TCGA-AG-3581_MSIH_8.png'"
   ]
  },
  {
   "cell_type": "code",
   "execution_count": 30,
   "id": "e9d32285-0eba-41c9-8f9b-af573d63e05b",
   "metadata": {},
   "outputs": [
    {
     "name": "stdout",
     "output_type": "stream",
     "text": [
      "🧱 Reconstructing image of size: 50688 x 37888 (99 cols x 74 rows)\n",
      "📌 Drawing patches (black for missing)...\n"
     ]
    },
    {
     "name": "stderr",
     "output_type": "stream",
     "text": [
      "🧩 Placing patches:  11%|██████▊                                                        | 8/74 [00:03<00:28,  2.32it/s]\n",
      "\n",
      "KeyboardInterrupt\n",
      "\n"
     ]
    }
   ],
   "source": [
    "reconstruct_from_patches(\n",
    "    patch_dir=patch_directory,\n",
    "    output_path=out_path\n",
    ")"
   ]
  },
  {
   "cell_type": "code",
   "execution_count": 31,
   "id": "4382fd74-be11-4ef5-bef5-5c3d36903125",
   "metadata": {},
   "outputs": [],
   "source": [
    "patch_directory=r\"D:\\Aamir Gulzar\\data_preprocessing\\downsample_data\\TCGA-AG-3581\"\n",
    "skipped_csv= './FLAT_DIRECTORY/patches/TCGA-AG-3581-01Z-00-DX1.2d8ba8ba-0533-41e5-b0e0-0d49ef408302_skipped_patches.csv'\n",
    "out_path= './Reconstructed_img/TCGA-AG-3581_MSIH_9.png'"
   ]
  },
  {
   "cell_type": "code",
   "execution_count": 32,
   "id": "269f0c37-4e38-4a56-9141-3b1fc8492f4d",
   "metadata": {},
   "outputs": [
    {
     "name": "stdout",
     "output_type": "stream",
     "text": [
      "🧱 Reconstructing image of size: 49664 x 51200 (97 cols x 100 rows)\n",
      "📌 Drawing patches (black for missing)...\n"
     ]
    },
    {
     "name": "stderr",
     "output_type": "stream",
     "text": [
      "🧩 Placing patches: 100%|████████████████████████████████████████████████████████████| 100/100 [00:54<00:00,  1.84it/s]\n"
     ]
    },
    {
     "name": "stdout",
     "output_type": "stream",
     "text": [
      "✅ Reconstructed image saved to: ./Reconstructed_img/TCGA-AG-3581_MSIH_9.png\n"
     ]
    }
   ],
   "source": [
    "reconstruct_from_patches(\n",
    "    patch_dir=patch_directory,\n",
    "    output_path=out_path\n",
    ")"
   ]
  },
  {
   "cell_type": "code",
   "execution_count": null,
   "id": "7209e651-5c4d-4fac-9d35-11c803e2c102",
   "metadata": {},
   "outputs": [],
   "source": []
  }
 ],
 "metadata": {
  "kernelspec": {
   "display_name": "Python (TCG)",
   "language": "python",
   "name": "tcg"
  },
  "language_info": {
   "codemirror_mode": {
    "name": "ipython",
    "version": 3
   },
   "file_extension": ".py",
   "mimetype": "text/x-python",
   "name": "python",
   "nbconvert_exporter": "python",
   "pygments_lexer": "ipython3",
   "version": "3.10.18"
  }
 },
 "nbformat": 4,
 "nbformat_minor": 5
}
