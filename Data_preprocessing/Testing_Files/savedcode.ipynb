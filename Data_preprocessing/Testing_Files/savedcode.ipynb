{
 "cells": [
  {
   "cell_type": "markdown",
   "id": "88bf45bb-6e75-4d2b-ae37-8d71b4b656e5",
   "metadata": {},
   "source": [
    "## Patch creation function(old)"
   ]
  },
  {
   "cell_type": "markdown",
   "id": "6fabcbe0-49e0-4471-a852-2e928db7099c",
   "metadata": {},
   "source": [
    "Creating 4 patches of 512 from 1024 patch. H5->png\n",
    "\n",
    "| Sub-Patch    | Offset (x, y) | Absolute Coord | Filename Output                   |\n",
    "| ------------ | ------------- | -------------- | --------------------------------- |\n",
    "| Top-Left     | (0, 0)        | (2016, 19456)  | `..._x2016_y19456_patchXXXXX.png` |\n",
    "| Top-Right    | (512, 0)      | (2528, 19456)  | `..._x2528_y19456_patchXXXXX.png` |\n",
    "| Bottom-Left  | (0, 512)      | (2016, 19968)  | `..._x2016_y19968_patchXXXXX.png` |\n",
    "| Bottom-Right | (512, 512)    | (2528, 19968)  | `..._x2528_y19968_patchXXXXX.png` |\n"
   ]
  },
  {
   "cell_type": "code",
   "execution_count": 1,
   "id": "f8a6c5a8-1efd-427c-94ad-a86de29a880c",
   "metadata": {},
   "outputs": [],
   "source": [
    "import os\n",
    "import h5py\n",
    "import openslide\n",
    "from PIL import Image\n",
    "import numpy as np\n",
    "import cv2\n",
    "import csv\n",
    "\n",
    "def get_white_pixel_ratio(pil_img, satThresh=30, valThresh=200):\n",
    "    if pil_img.mode != 'RGB':\n",
    "        pil_img = pil_img.convert('RGB')\n",
    "\n",
    "    img_np = np.array(pil_img, dtype=np.uint8)\n",
    "    hsv_img = cv2.cvtColor(img_np, cv2.COLOR_RGB2HSV)\n",
    "\n",
    "    # Mask: low saturation AND high brightness (value)\n",
    "    sat_mask = hsv_img[:, :, 1] < satThresh\n",
    "    val_mask = hsv_img[:, :, 2] > valThresh\n",
    "    white_mask = np.logical_and(sat_mask, val_mask)\n",
    "\n",
    "    return np.sum(white_mask) / white_mask.size\n",
    "\n",
    "\n",
    "def create_patches_from_h5(h5_path, svs_path, output_dir, skip_log_path):\n",
    "    os.makedirs(output_dir, exist_ok=True)\n",
    "\n",
    "    BASE_PATCH_SIZE = 1024\n",
    "    SUB_PATCH_SIZE = 512\n",
    "    base_name = os.path.splitext(os.path.basename(h5_path))[0]\n",
    "\n",
    "    with h5py.File(h5_path, 'r') as h5_file:\n",
    "        coords = h5_file['coords'][:]\n",
    "\n",
    "    slide = openslide.OpenSlide(svs_path)\n",
    "    patch_count = 0\n",
    "\n",
    "    log_exists = os.path.exists(skip_log_path)\n",
    "    \n",
    "    # ✅ Open log file in write mode and keep it open during patch loop\n",
    "    with open(skip_log_path, 'a', newline='') as log_file:\n",
    "        writer = csv.writer(log_file)\n",
    "        if not log_exists:\n",
    "            writer.writerow([\"PatchName\", \"X\", \"Y\", \"WhiteRatio\"])  # Write header only once\n",
    "\n",
    "        for i, (x, y) in enumerate(coords):\n",
    "            base_patch = slide.read_region((int(x), int(y)), 0, (BASE_PATCH_SIZE, BASE_PATCH_SIZE)).convert('RGB')\n",
    "\n",
    "            for row in range(2):\n",
    "                for col in range(2):\n",
    "                    offset_x = col * SUB_PATCH_SIZE\n",
    "                    offset_y = row * SUB_PATCH_SIZE\n",
    "\n",
    "                    abs_x = int(x) + offset_x\n",
    "                    abs_y = int(y) + offset_y\n",
    "\n",
    "                    sub_patch = base_patch.crop((\n",
    "                        offset_x, offset_y,\n",
    "                        offset_x + SUB_PATCH_SIZE, offset_y + SUB_PATCH_SIZE\n",
    "                    ))\n",
    "\n",
    "                    white_ratio = get_white_pixel_ratio(sub_patch)\n",
    "                    patch_name = f\"{base_name}_x{abs_x}_y{abs_y}_patch{patch_count:05d}.png\"\n",
    "\n",
    "                    if white_ratio > 0.8:\n",
    "                        writer.writerow([patch_name, abs_x, abs_y, round(white_ratio, 4)])\n",
    "                        continue\n",
    "\n",
    "                    sub_patch.save(os.path.join(output_dir, patch_name))\n",
    "                    patch_count += 1\n",
    "\n",
    "    print(f\"✅ Done! Saved {patch_count} coordinate-named 512x512 patches to {output_dir}\")"
   ]
  },
  {
   "cell_type": "code",
   "execution_count": null,
   "id": "0105b53a-7fea-432e-a9e2-641416dcb78c",
   "metadata": {},
   "outputs": [],
   "source": []
  }
 ],
 "metadata": {
  "kernelspec": {
   "display_name": "Python (TCG)",
   "language": "python",
   "name": "tcg"
  },
  "language_info": {
   "codemirror_mode": {
    "name": "ipython",
    "version": 3
   },
   "file_extension": ".py",
   "mimetype": "text/x-python",
   "name": "python",
   "nbconvert_exporter": "python",
   "pygments_lexer": "ipython3",
   "version": "3.10.18"
  }
 },
 "nbformat": 4,
 "nbformat_minor": 5
}
